{
  "cells": [
    {
      "cell_type": "code",
      "metadata": {},
      "source": [
        "import autofit as af\n",
        "import autolens as al\n",
        "import autolens.plot as aplt"
      ],
      "outputs": [],
      "execution_count": null
    },
    {
      "cell_type": "markdown",
      "metadata": {},
      "source": [
        "In this example, we will load the image of a strong lens from a .fits file and plotters it using the\n",
        "function autolens.dataset_label.plotters.plotters.plot_array. We will customize the appearance of this figure to\n",
        "highlight the features of the image. For more generical plotting tools (e.g. changing the figure size, axis unit_label,\n",
        "outputting the image to the hard-disk, etc.) checkout the example in 'autolens_workspace/plotting/examples/structures/masked_structures.py'.\n",
        "\n",
        "We will use the image of slacs1430+4105.\n",
        "\n",
        "Setup the path to the autolens_workspace."
      ]
    },
    {
      "cell_type": "code",
      "metadata": {},
      "source": [
        "workspace_path = \"/home/jammy/PycharmProjects/PyAuto/autolens_workspace/\""
      ],
      "outputs": [],
      "execution_count": null
    },
    {
      "cell_type": "markdown",
      "metadata": {},
      "source": [
        "We have included the .fits dataset_label required for this example in the directory\n",
        "'autolens_workspace/output/dataset/imaging/slacs1430+4105/'.\n",
        "\n",
        "First, lets setup the path to the .fits file of the image."
      ]
    },
    {
      "cell_type": "code",
      "metadata": {},
      "source": [
        "dataset_label = \"slacs\"\n",
        "dataset_name = \"slacs1430+4105\""
      ],
      "outputs": [],
      "execution_count": null
    },
    {
      "cell_type": "markdown",
      "metadata": {},
      "source": [
        "Create the path where the dataset will be loaded from, which in this case is\n",
        "'/autolens_workspace/dataset/imaging/slacs1430+4105/'"
      ]
    },
    {
      "cell_type": "code",
      "metadata": {},
      "source": [
        "dataset_path = af.path_util.make_and_return_path_from_path_and_folder_names(\n",
        "    path=workspace_path, folder_names=[\"dataset\", dataset_label, dataset_name]\n",
        ")\n",
        "image_path = dataset_path + \"image.fits\""
      ],
      "outputs": [],
      "execution_count": null
    },
    {
      "cell_type": "markdown",
      "metadata": {},
      "source": [
        "Now, lets load this arrays as a hyper arrays. A hyper arrays is an ordinary NumPy arrays, but it also includes a pixel\n",
        "scale which allows us to convert the axes of the arrays to arc-second coordinates."
      ]
    },
    {
      "cell_type": "code",
      "metadata": {},
      "source": [
        "image = al.Array.from_fits(file_path=image_path, hdu=0, pixel_scales=0.03)"
      ],
      "outputs": [],
      "execution_count": null
    },
    {
      "cell_type": "markdown",
      "metadata": {},
      "source": [
        "We can now use an arrays plotter to plotters the image. Lets first plotters it using the default PyAutoLens setup."
      ]
    },
    {
      "cell_type": "code",
      "metadata": {},
      "source": [
        "plotter = aplt.Plotter(labels=aplt.Labels(title=\"SLACS1430+4105 Image\"))\n",
        "aplt.Array(array=image, plotter=plotter)"
      ],
      "outputs": [],
      "execution_count": null
    },
    {
      "cell_type": "markdown",
      "metadata": {},
      "source": [
        "For a lens like SLACS1430+4105, the lens galaxy's light outshines the background source, making it appear faint.\n",
        "we can use a symmetric logarithmic colorbar normalization to better reveal the source galaxy (due to negative values\n",
        "in the image, we cannot use a logirithmic colorbar normalization)."
      ]
    },
    {
      "cell_type": "code",
      "metadata": {},
      "source": [
        "plotter = aplt.Plotter(\n",
        "    labels=aplt.Labels(title=\"SLACS1430+4105 Image\"),\n",
        "    cmap=aplt.ColorMap(norm=\"symmetric_log\", linthresh=0.05, linscale=0.02),\n",
        ")\n",
        "aplt.Array(array=image, plotter=plotter)"
      ],
      "outputs": [],
      "execution_count": null
    },
    {
      "cell_type": "markdown",
      "metadata": {},
      "source": [
        "Alternatively, we can use the default linear colorbar normalization and customize the limits over which the colormap\n",
        "spans its dynamic range."
      ]
    },
    {
      "cell_type": "code",
      "metadata": {},
      "source": [
        "plotter = aplt.Plotter(\n",
        "    labels=aplt.Labels(title=\"SLACS1430+4105 Image\"),\n",
        "    cmap=aplt.ColorMap(norm=\"linear\", norm_min=0.0, norm_max=0.3),\n",
        ")\n",
        "aplt.Array(array=image, plotter=plotter)\n",
        "\n",
        "psf_path = workspace_path + \"/dataset/slacs/\" + dataset_name + \"/psf.fits\"\n",
        "noise_map_path = workspace_path + \"/dataset/slacs/\" + dataset_name + \"/noise_map.fits\"\n",
        "\n",
        "imaging = al.Imaging.from_fits(\n",
        "    image_path=image_path,\n",
        "    psf_path=psf_path,\n",
        "    noise_map_path=noise_map_path,\n",
        "    pixel_scales=0.03,\n",
        ")"
      ],
      "outputs": [],
      "execution_count": null
    },
    {
      "cell_type": "markdown",
      "metadata": {},
      "source": [
        "These plotters can be customized using the exact same functions as above."
      ]
    },
    {
      "cell_type": "code",
      "metadata": {},
      "source": [
        "plotter = aplt.Plotter(\n",
        "    labels=aplt.Labels(title=\"SLACS1430+4105 Noise Map\"),\n",
        "    cmap=aplt.ColorMap(norm=\"linear\"),\n",
        ")\n",
        "\n",
        "aplt.Imaging.noise_map(imaging=imaging, plotter=plotter)"
      ],
      "outputs": [],
      "execution_count": null
    },
    {
      "cell_type": "markdown",
      "metadata": {},
      "source": [
        "Of course, as we've seen in many other examples, a sub-plotters of the imaging dataset_label can be plotted. This can also take the\n",
        "customization inputs above, but it should be noted that the options are applied to all images, and thus will most\n",
        "likely degrade a number of the sub-plotters images."
      ]
    },
    {
      "cell_type": "code",
      "metadata": {},
      "source": [
        "sub_plotter = aplt.SubPlotter(\n",
        "    cmap=aplt.ColorMap.sub(norm=\"symmetric_log\", linthresh=0.05, linscale=0.02)\n",
        ")\n",
        "\n",
        "aplt.Imaging.subplot_imaging(imaging=imaging, sub_plotter=sub_plotter)\n"
      ],
      "outputs": [],
      "execution_count": null
    }
  ],
  "metadata": {
    "anaconda-cloud": {},
    "kernelspec": {
      "display_name": "Python 3",
      "language": "python",
      "name": "python3"
    },
    "language_info": {
      "codemirror_mode": {
        "name": "ipython",
        "version": 3
      },
      "file_extension": ".py",
      "mimetype": "text/x-python",
      "name": "python",
      "nbconvert_exporter": "python",
      "pygments_lexer": "ipython3",
      "version": "3.6.1"
    }
  },
  "nbformat": 4,
  "nbformat_minor": 1
}