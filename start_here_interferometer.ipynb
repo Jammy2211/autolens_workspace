{
  "cells": [
    {
      "cell_type": "markdown",
      "metadata": {},
      "source": [
        "Start Here: Interferometer\n",
        "==========================\n",
        "\n",
        "Strong lenses are observed with radio/mm interferometers (e.g. ALMA), which measure\n",
        "complex visibilities in the uv-plane instead of CCD images.\n",
        "\n",
        "This script shows you how to model such a lens system using **PyAutoLens** with as little setup\n",
        "as possible. In about 15 minutes you\u2019ll be able to point the code at your own FITS files and\n",
        "fit your first lens.\n",
        "\n",
        "We focus on a *galaxy-scale* lens (a single lens galaxy). If you have multiple lens galaxies,\n",
        "see the `start_here_group.ipynb` and `start_here_cluster.ipynb` examples.\n",
        "\n",
        "PyAutoLens uses JAX under the hood for fast GPU/CPU acceleration. If JAX is installed with GPU\n",
        "support, your fits will run much faster (a few minutes instead of an hour). If you don\u2019t have\n",
        "a GPU locally, consider Google Colab which provides free GPUs, so your modeling runs are much faster.\n",
        "\n",
        "We also show how to simulate interferometer datasets. This is useful for building machine\n",
        "learning training datasets, or for investigating lensing effects in a controlled way.\n",
        "\n",
        "The current JAX implementation can only fit datasets with a sufficiently small enough\n",
        "number of visibilities. The current limit ? visibilities is ~1-2 million, depending on your GPU.\n",
        "A new version due December 2025 will lift this limit and enable fitting arbitrarily large\n",
        "datasets. The older non-JAX version of PyAutoLens can fit large datasets (` 2025.5.10.1`) on CPU\n",
        "relatively fast."
      ]
    },
    {
      "cell_type": "code",
      "metadata": {},
      "source": [
        "\n",
        "%matplotlib inline\n",
        "from pyprojroot import here\n",
        "workspace_path = str(here())\n",
        "%cd $workspace_path\n",
        "print(f\"Working Directory has been set to `{workspace_path}`\")\n",
        "\n",
        "from pathlib import Path\n",
        "import numpy as np\n",
        "\n",
        "import autofit as af\n",
        "import autolens as al\n",
        "import autolens.plot as aplt\n",
        "\n",
        "# --------------------------------------------------------------------------------------\n",
        "# Mask (real-space)\n",
        "# --------------------------------------------------------------------------------------\n",
        "# %%\n",
        "'''\n",
        "__Mask (Real Space)__\n",
        "\n",
        "Interferometer modeling evaluates the lens image on a *real-space grid* and Fourier transforms\n",
        "to the uv-plane to compare with visibilities. \n",
        "\n",
        "We therefore define a circular real-space mask, which sets the pixel grid size and pixel-to-arcsecond \n",
        "pixel scale in real space.\n",
        "'''"
      ],
      "outputs": [],
      "execution_count": null
    },
    {
      "cell_type": "code",
      "metadata": {},
      "source": [
        "\n",
        "mask_radius = 3.5\n",
        "real_space_mask = al.Mask2D.circular(\n",
        "    shape_native=(256, 256),\n",
        "    pixel_scales=0.1,\n",
        "    radius=mask_radius,\n",
        ")"
      ],
      "outputs": [],
      "execution_count": null
    },
    {
      "cell_type": "markdown",
      "metadata": {},
      "source": [
        "__Dataset__\n",
        "\n",
        "We begin by loading an `Interferometer` dataset from FITS, three ingredients are needed for lens modeling:\n",
        "\n",
        "- `data.fits`: complex visibilities (shape: n_vis)\n",
        "- `noise_map.fits`: per-visibility complex RMS\n",
        "- `uv_wavelengths.fits`: (u, v) sampling of the interferometer in wavelengths\n",
        "\n",
        "We must also choose a transformer:\n",
        "\n",
        "- `TransformerDFT`: exact Discrete FT (robust, slower for large n_vis).\n",
        "\n",
        "Transformers other than the Discrete are disabled for the JAX version of PyAutoLens currently.\n",
        "\n",
        "We load a low resolution Square Mile Array (SMA) dataset for this example, which has just\n",
        "273 visibilities."
      ]
    },
    {
      "cell_type": "code",
      "metadata": {},
      "source": [
        "dataset_name = \"simple\"\n",
        "dataset_path = Path(\"dataset\") / \"interferometer\" / dataset_name\n",
        "\n",
        "dataset = al.Interferometer.from_fits(\n",
        "    data_path=dataset_path / \"data.fits\",\n",
        "    noise_map_path=dataset_path / \"noise_map.fits\",\n",
        "    uv_wavelengths_path=dataset_path / \"uv_wavelengths.fits\",\n",
        "    real_space_mask=real_space_mask,\n",
        "    transformer_class=al.TransformerDFT,\n",
        ")\n",
        "\n",
        "dataset_plotter = aplt.InterferometerPlotter(dataset=dataset)\n",
        "dataset_plotter.subplot_dataset()\n",
        "dataset_plotter.subplot_dirty_images()  # quick look at dirty image / PSF"
      ],
      "outputs": [],
      "execution_count": null
    },
    {
      "cell_type": "markdown",
      "metadata": {},
      "source": [
        "__Model__\n",
        "\n",
        "To perform lens modeling we must define a lens model, describing the light profiles of \n",
        "the source galaxy, and the mass profile of the lens galaxy.\n",
        "\n",
        "A brilliant lens model to start with is one which uses a Multi Gaussian Expansion (MGE) \n",
        "to model the lens and source light, and a Singular Isothermal Ellipsoid (SIE) plus \n",
        "shear to model the lens mass. \n",
        "\n",
        "Full details of why this models is so good are provided in the main workspace docs, \n",
        "but in a nutshell it  provides an excellent balance of being fast to fit, flexible \n",
        "enough to capture complex galaxy morphologies and providing accurate fits to the vast \n",
        "majority of strong lenses.\n",
        "\n",
        "The MGE model composition API is quite long and technical, so we simply load the MGE \n",
        "models for the source below via a utility function `mge_model_from` which \n",
        "hides the API to make the code in this introduction example ready to read. We then \n",
        "use the PyAutoLens Model API to compose the over lens model."
      ]
    },
    {
      "cell_type": "code",
      "metadata": {},
      "source": [
        "\n",
        "# Lens galaxy\n",
        "\n",
        "mass = af.Model(al.mp.Isothermal)\n",
        "shear = af.Model(al.mp.ExternalShear)\n",
        "lens = af.Model(al.Galaxy, redshift=0.5, mass=mass, shear=shear)\n",
        "\n",
        "# Source galaxy\n",
        "source_bulge = al.model_util.mge_model_from(\n",
        "    mask_radius=mask_radius, total_gaussians=20, centre_prior_is_uniform=False\n",
        ")\n",
        "source = af.Model(al.Galaxy, redshift=1.0, bulge=source_bulge)\n",
        "\n",
        "# Compose model\n",
        "model = af.Collection(galaxies=af.Collection(lens=lens, source=source))"
      ],
      "outputs": [],
      "execution_count": null
    },
    {
      "cell_type": "markdown",
      "metadata": {},
      "source": [
        "We can print the model to show the parameters that the model is composed of, which shows many of the MGE's fixed\n",
        "parameter values the API above hided the composition of."
      ]
    },
    {
      "cell_type": "code",
      "metadata": {},
      "source": [
        "print(model.info)"
      ],
      "outputs": [],
      "execution_count": null
    },
    {
      "cell_type": "markdown",
      "metadata": {},
      "source": [
        "__Model Fit__\n",
        "\n",
        "We now fit the data with the lens model using the non-linear fitting method and nested sampling algorithm Nautilus.\n",
        "\n",
        "We fit the visibilities with `AnalysisInterferometer`, hich defines the `log_likelihood_function` used by \n",
        "Nautilus to fit the model to the interferometer data.\n",
        "\n",
        "JAX jit and vmap compilation occurs automatically under the hood when `search.fit` is called, ensuring\n",
        "the model-fit runs as fast as possible."
      ]
    },
    {
      "cell_type": "code",
      "metadata": {},
      "source": [
        "search = af.Nautilus(\n",
        "    path_prefix=Path(\"interferometer\"),\n",
        "    name=\"start_here\",\n",
        "    unique_tag=dataset_name,\n",
        "    n_live=75,  # \u2191 for harder models\n",
        "    n_batch=50,  # GPU batching\n",
        "    iterations_per_update=20000,\n",
        ")\n",
        "\n",
        "analysis = al.AnalysisInterferometer(dataset=dataset)\n",
        "result = search.fit(model=model, analysis=analysis)"
      ],
      "outputs": [],
      "execution_count": null
    },
    {
      "cell_type": "markdown",
      "metadata": {},
      "source": [
        "__Result_\n",
        "\n",
        "Now this is running you should checkout the `autolens_workspace/output` folder, where many results of the fit\n",
        "are written in a human readable format (e.g. .json files) and .fits and .png images of the fit are stored.\n",
        "\n",
        "When the fit is complex, we can print the results by printing `result.info`."
      ]
    },
    {
      "cell_type": "code",
      "metadata": {},
      "source": [
        "print(result.info)"
      ],
      "outputs": [],
      "execution_count": null
    },
    {
      "cell_type": "markdown",
      "metadata": {},
      "source": [
        "The result also contains the maximum likelihood lens model which can be used to plot the best-fit lensing information\n",
        "and fit to the data."
      ]
    },
    {
      "cell_type": "code",
      "metadata": {},
      "source": [
        "tracer_plotter = aplt.TracerPlotter(\n",
        "    tracer=result.max_log_likelihood_tracer,\n",
        "    grid=result.grids.lp,  # model evaluation grid\n",
        ")\n",
        "tracer_plotter.subplot_tracer()\n",
        "\n",
        "fit_plotter = aplt.FitInterferometerPlotter(fit=result.max_log_likelihood_fit)\n",
        "fit_plotter.subplot_fit()  # residuals, chi^2, dirty image, etc."
      ],
      "outputs": [],
      "execution_count": null
    },
    {
      "cell_type": "markdown",
      "metadata": {},
      "source": [
        "The result object contains pretty much everything you need to do science with your own strong lens, but details\n",
        "of all the information it contains are beyond the scope of this introductory script. The `guides` and `result` \n",
        "packages of the workspace contains all the information you need to analyze your results yourself.\n",
        "\n",
        "__Model Your Own Lens__\n",
        "\n",
        "If you have your own strong lens interferometer data, you are now ready to model it yourself by adapting \n",
        "the code above and simply inputting the path to your own .fits files into the `Interferometer.from_fits()` function.\n",
        "\n",
        "A few things to note, with full details on data preparation provided in the main workspace documentation:\n",
        "\n",
        "- Supply your own visibilities, noise-map and uv-wavelengths .fits files.\n",
        "- Ensure the lens galaxy is roughly centered in the image.\n",
        "- Double-check `pixel_scales` for the real space mask of your interferometer.\n",
        "- Adjust the mask radius to include all relevant light.\n",
        "- Start with the default model \u2014 it works very well for pretty much all galaxy scale lenses!\n",
        "\n",
        "__Simulator__\n",
        "\n",
        "Let\u2019s now switch gears and simulate our own strong lens interferometer. This is a great way to:\n",
        "\n",
        "- Practice lens modeling before using real data.\n",
        "- Build large training sets (e.g. for machine learning).\n",
        "- Test lensing theory in a controlled environment.\n",
        "\n",
        "To do this we need to define a 2D grid of (y,x) coordinates in the image-plane. This grid is\n",
        "where we\u2019ll evaluate the light from the lens and source galaxies."
      ]
    },
    {
      "cell_type": "code",
      "metadata": {},
      "source": [
        "grid = al.Grid2D.uniform(\n",
        "    shape_native=(100, 100),\n",
        "    pixel_scales=0.1,\n",
        ")"
      ],
      "outputs": [],
      "execution_count": null
    },
    {
      "cell_type": "markdown",
      "metadata": {},
      "source": [
        "We now define a `Tracer` \u2014 this is the key object that combines all galaxies in the system\n",
        "and computes how light rays are deflected.\n",
        "\n",
        "- The lens galaxy has mass (an isothermal profile + shear).\n",
        "- The source galaxy has its own light (a SersicCore profile).\n",
        "\n",
        "Together they define a strong lens system. The tracer will \u201cray-trace\u201d our grid through\n",
        "this mass distribution and generate a lensed image."
      ]
    },
    {
      "cell_type": "code",
      "metadata": {},
      "source": [
        "lens_galaxy = al.Galaxy(\n",
        "    redshift=0.5,\n",
        "    mass=al.mp.Isothermal(\n",
        "        centre=(0.0, 0.0),\n",
        "        einstein_radius=1.6,\n",
        "        ell_comps=al.convert.ell_comps_from(axis_ratio=0.9, angle=45.0),\n",
        "    ),\n",
        "    shear=al.mp.ExternalShear(gamma_1=0.05, gamma_2=0.05),\n",
        ")\n",
        "\n",
        "source_galaxy = al.Galaxy(\n",
        "    redshift=1.0,\n",
        "    bulge=al.lp.SersicCore(\n",
        "        centre=(0.0, 0.0),\n",
        "        ell_comps=al.convert.ell_comps_from(axis_ratio=0.8, angle=60.0),\n",
        "        intensity=4.0,\n",
        "        effective_radius=0.1,\n",
        "        sersic_index=1.0,\n",
        "    ),\n",
        ")\n",
        "\n",
        "tracer = al.Tracer(galaxies=[lens_galaxy, source_galaxy])"
      ],
      "outputs": [],
      "execution_count": null
    },
    {
      "cell_type": "markdown",
      "metadata": {},
      "source": [
        "Plotting the tracer\u2019s image gives us a \u201cperfect\u201d view of the strong lens system, before\n",
        "adding telescope effects."
      ]
    },
    {
      "cell_type": "code",
      "metadata": {},
      "source": [
        "tracer_plotter = aplt.TracerPlotter(tracer=tracer, grid=grid)\n",
        "tracer_plotter.figures_2d(image=True)"
      ],
      "outputs": [],
      "execution_count": null
    },
    {
      "cell_type": "markdown",
      "metadata": {},
      "source": [
        "The image cna be saved to .fits for later use."
      ]
    },
    {
      "cell_type": "code",
      "metadata": {},
      "source": [
        "image = tracer.image_2d_from(grid=grid)\n",
        "\n",
        "al.output_to_fits(\n",
        "    values=image.native,\n",
        "    file_path=Path(\"image.fits\"),\n",
        "    overwrite=True,\n",
        ")"
      ],
      "outputs": [],
      "execution_count": null
    },
    {
      "cell_type": "markdown",
      "metadata": {},
      "source": [
        "__Simulator__\n",
        "\n",
        "The images above do not represent real interferometer data, as they do not include the transform of the data \n",
        "to visibilities or any noise. \n",
        "\n",
        "The `SimulatorInterferometer` class simulates these two key properties of real interferometer data, which we use below to \n",
        "create realistic interferometer data of the strong lens system.\n",
        "\n",
        "The units of the image are arbitrary, with the workspace providing guides on how to convert to physical units for lens\n",
        "simulations.\n",
        "\n",
        "The code below performs the simulation, plots the simulated interferometer data and outputs it to .fits files with .png\n",
        "files included for easy visualization."
      ]
    },
    {
      "cell_type": "code",
      "metadata": {},
      "source": [
        "# You could put your own uv_wavelengths.fits file here to simulate your own interferometer.\n",
        "uv_wavelengths = dataset.uv_wavelengths\n",
        "\n",
        "simulator = al.SimulatorInterferometer(\n",
        "    uv_wavelengths=uv_wavelengths,\n",
        "    exposure_time=300.0,  # Length of observation in seconds, higher time = higher S/N\n",
        "    noise_sigma=1000.0,  # RMS of the complex Gaussian noise added to the visibilities\n",
        "    transformer_class=al.TransformerDFT,  # keep consistent with your modeling choice\n",
        ")\n",
        "\n",
        "dataset = simulator.via_tracer_from(tracer=tracer, grid=real_space_mask.derive_grid)\n",
        "\n",
        "dataset_plotter = aplt.InterferometerPlotter(dataset=dataset)\n",
        "dataset_plotter.figures_2d(dirty_image=True)\n",
        "dataset_plotter.subplot_dataset()\n",
        "dataset_plotter.subplot_dirty_images()\n",
        "\n",
        "# Save simulated visibilities/uv-wavelengths/noise to FITS (same format as real)\n",
        "dataset.output_to_fits(\n",
        "    data_path=dataset_path / \"data.fits\",\n",
        "    noise_map_path=dataset_path / \"noise_map.fits\",\n",
        "    uv_wavelengths_path=Path(dataset_path, \"uv_wavelengths.fits\"),\n",
        "    overwrite=True,\n",
        ")"
      ],
      "outputs": [],
      "execution_count": null
    },
    {
      "cell_type": "markdown",
      "metadata": {},
      "source": [
        "__Sample__\n",
        "\n",
        "Often we want to simulate *many* strong lenses \u2014 for example, to train a neural network\n",
        "or to explore population-level statistics.\n",
        "\n",
        "This uses the model composition API to define the distribution of the light and mass profiles\n",
        "of the lens and source galaxies we draw from. The model composition is a little too complex for\n",
        "the first example, thus we use a helper function to create a simple lens and source model.\n",
        "\n",
        "We then generate 3 lenses for speed, and plot their images so you can see the variety of lenses\n",
        "we create.\n",
        "\n",
        "Each lens is simulated as if it were observed with an interferometer, therefore with a PSF and noise-map."
      ]
    },
    {
      "cell_type": "code",
      "metadata": {},
      "source": [
        "lens_model, source_model = al.model_util.simulator_start_here_model_from(\n",
        "    include_lens_light=False\n",
        ")\n",
        "\n",
        "print(lens_model.info)\n",
        "print(source_model.info)"
      ],
      "outputs": [],
      "execution_count": null
    },
    {
      "cell_type": "markdown",
      "metadata": {},
      "source": [
        "We now simulate a sample of strong lenses, we just do 3 for efficiency here but you can increase this to any number."
      ]
    },
    {
      "cell_type": "code",
      "metadata": {},
      "source": [
        "total_datasets = 3\n",
        "\n",
        "for sample_index in range(total_datasets):\n",
        "\n",
        "    lens_galaxy = lens_model.random_instance()\n",
        "    source_galaxy = source_model.random_instance()\n",
        "\n",
        "    tracer = al.Tracer(galaxies=[lens_galaxy, source_galaxy])\n",
        "\n",
        "    dataset = simulator.via_tracer_from(tracer=tracer, grid=grid)\n",
        "\n",
        "    dataset_plotter = aplt.InterferometerPlotter(dataset=dataset)\n",
        "    dataset_plotter.subplot_dirty_images()\n"
      ],
      "outputs": [],
      "execution_count": null
    },
    {
      "cell_type": "markdown",
      "metadata": {},
      "source": [
        "__Wrap Up__\n",
        "\n",
        "This script has shown how to model interferometer data of strong lenses, and simulate your own strong lens datasets.\n",
        "\n",
        "Details of the **PyAutoLens** API and how lens modeling and simulations actually work were omitted for simplicity,\n",
        "but everything you need to know is described throughout the main workspace documentation. You should check it out,\n",
        "but maybe you want to try and model your own lens first!\n",
        "\n",
        "The following locations of the workspace are good places to checkout next:\n",
        "\n",
        "- `autolens_workspace/*/modeling/interferometer`: A full description of the lens modeling API and how to customize your model-fits.\n",
        "- `autolens_workspace/*/simulators/interferometer`: A full description of the lens simulation API and how to customize your simulations.\n",
        "- `autolens_workspace/*/data_preparation/interferometer`: How to load and prepare your own interferometer data for lens modeling.\n",
        "- `autolens_workspace/results`: How to load and analyze the results of your lens model fits, including tools for large samples.\n",
        "- `autolens_workspace/guides`: A complete description of the API and information on lensing calculations and units.\n",
        "- `autolens_workspace/feature`: A description of advanced features for lens modeling, for example pixelized source reconstructions, read this once you're confident with the basics!"
      ]
    },
    {
      "cell_type": "code",
      "metadata": {},
      "source": [],
      "outputs": [],
      "execution_count": null
    }
  ],
  "metadata": {
    "anaconda-cloud": {},
    "kernelspec": {
      "display_name": "Python 3",
      "language": "python",
      "name": "python3"
    },
    "language_info": {
      "codemirror_mode": {
        "name": "ipython",
        "version": 3
      },
      "file_extension": ".py",
      "mimetype": "text/x-python",
      "name": "python",
      "nbconvert_exporter": "python",
      "pygments_lexer": "ipython3",
      "version": "3.6.1"
    }
  },
  "nbformat": 4,
  "nbformat_minor": 4
}