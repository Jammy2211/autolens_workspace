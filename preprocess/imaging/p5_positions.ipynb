{
  "cells": [
    {
      "cell_type": "markdown",
      "metadata": {},
      "source": [
        "__Preprocess 5: - Positions (Optional)__\n",
        "\n",
        "In this tool we mark positions on a multiply imaged strongly lensed source corresponding to a set positions / pixels \n",
        "which are anticipated to trace to the same location in the source-plane.\n",
        "\n",
        "A non-linear sampler uses these positions to discard the mass-models where they do not trace within a threshold of\n",
        "one another, speeding up the analysis and removing unwanted solutions with too much / too little mass.\n",
        "\n",
        "If you create positions for your dataset, you must also update your runner to use them by loading them, passing them\n",
        "to the pipeline run function and setting a `positions_threshold` in the pipelines. See\n",
        "`autolens_workspace/runners/beginner/features/position_threshold.py` for an example.\n",
        "\n",
        "Positions are optional, if you struggling to get PyAutoLens to infer a good model for your dataset and you haev\n",
        "not tried positons yet I recommend that you do."
      ]
    },
    {
      "cell_type": "markdown",
      "metadata": {},
      "source": [
        "Lets begin by importing PyAutoFit, PyAutoLens and its plotting module."
      ]
    },
    {
      "cell_type": "code",
      "metadata": {},
      "source": [
        "%matplotlib inline\n",
        "\n",
        "import autofit as af\n",
        "import autolens as al\n",
        "import autolens.plot as aplt"
      ],
      "outputs": [],
      "execution_count": null
    },
    {
      "cell_type": "markdown",
      "metadata": {},
      "source": [
        "Setup the path to the autolens_workspace, using the correct path name below."
      ]
    },
    {
      "cell_type": "code",
      "metadata": {},
      "source": [
        "import os\n",
        "\n",
        "workspace_path = os.environ[\"WORKSPACE\"]\n",
        "print(\"Workspace Path: \", workspace_path)"
      ],
      "outputs": [],
      "execution_count": null
    },
    {
      "cell_type": "markdown",
      "metadata": {},
      "source": [
        "The `dataset label` is the name of the dataset folder and `dataset_name` the folder the positions are stored in e.g,\n",
        "the positions will be output as `/autolens_workspace/dataset/dataset_type/dataset_name/positions.dat`."
      ]
    },
    {
      "cell_type": "code",
      "metadata": {},
      "source": [
        "dataset_type = \"imaging\"\n",
        "dataset_label = \"no_lens_light\"\n",
        "dataset_name = \"mass_sie__source_sersic\""
      ],
      "outputs": [],
      "execution_count": null
    },
    {
      "cell_type": "markdown",
      "metadata": {},
      "source": [
        "Create the path where the positions will be output, which in this case is\n",
        "`/autolens_workspace/dataset/imaging/no_lens_light/mass_total__source_bulge`"
      ]
    },
    {
      "cell_type": "code",
      "metadata": {},
      "source": [
        "dataset_path = f\"{workspace_path}/dataset/{dataset_type}/{dataset_label}/{dataset_name}\""
      ],
      "outputs": [],
      "execution_count": null
    },
    {
      "cell_type": "markdown",
      "metadata": {},
      "source": [
        "If you use this tool for your own dataset, you *must* double check this pixel scale is correct!"
      ]
    },
    {
      "cell_type": "code",
      "metadata": {},
      "source": [
        "pixel_scales = 0.1"
      ],
      "outputs": [],
      "execution_count": null
    },
    {
      "cell_type": "markdown",
      "metadata": {},
      "source": [
        "First, load the `Imaging` dataset, so that the positions can be plotted over the strong lens image."
      ]
    },
    {
      "cell_type": "code",
      "metadata": {},
      "source": [
        "image = al.Array.from_fits(\n",
        "    file_path=f\"{dataset_path}/image.fits\", pixel_scales=pixel_scales\n",
        ")"
      ],
      "outputs": [],
      "execution_count": null
    },
    {
      "cell_type": "markdown",
      "metadata": {},
      "source": [
        "Now, create a set of positions, which is a Coordinate of (y,x) values."
      ]
    },
    {
      "cell_type": "code",
      "metadata": {},
      "source": [
        "positions = al.GridIrregularGrouped(\n",
        "    grid=[[(0.8, 1.45), (1.78, -0.4), (-0.95, 1.38), (-0.83, -1.04)]]\n",
        ")"
      ],
      "outputs": [],
      "execution_count": null
    },
    {
      "cell_type": "markdown",
      "metadata": {},
      "source": [
        "Now lets plot the image and positions, so we can check that the positions overlap different regions of the source."
      ]
    },
    {
      "cell_type": "code",
      "metadata": {},
      "source": [
        "aplt.Array(array=image, positions=positions)"
      ],
      "outputs": [],
      "execution_count": null
    },
    {
      "cell_type": "markdown",
      "metadata": {},
      "source": [
        "Now we`re happy with the positions, lets output them to the dataset folder of the lens, so that we can load them from a\n",
        ".dat file in our pipelines!"
      ]
    },
    {
      "cell_type": "code",
      "metadata": {},
      "source": [
        "positions.output_to_file(file_path=f\"{dataset_path}/positions.dat\", overwrite=True)"
      ],
      "outputs": [],
      "execution_count": null
    },
    {
      "cell_type": "markdown",
      "metadata": {},
      "source": [
        "The workspace also includes a GUI for drawing positions, which can be found at \n",
        "`autolens_workspace/preprocess/imaging/gui/positions.py`. This tools allows you `click` on the image where an image of the\n",
        " lensed source is, and it will use the brightest pixel within a 5x5 box of pixels to select the coordinate."
      ]
    },
    {
      "cell_type": "markdown",
      "metadata": {},
      "source": [
        "We can input multiple lists of positions, which corresponds to pixels which are anticipated to map to different \n",
        "multiply imaged regions of the source-plane (e.g. you would need something likespectra to be able to do this)"
      ]
    },
    {
      "cell_type": "code",
      "metadata": {},
      "source": [
        "positions = al.GridIrregularGrouped(\n",
        "    grid=[[(1.0, 1.0), (2.0, 0.5)], [(-1.0, -0.1), (2.0, 2.0), (3.0, 3.0)]]\n",
        ")"
      ],
      "outputs": [],
      "execution_count": null
    },
    {
      "cell_type": "markdown",
      "metadata": {},
      "source": [
        "When we plot the positions, those corresponding to the same part of the source are colored the same (we reuse the image \n",
        "above meaning for this figure the positions do not correspond to the source)."
      ]
    },
    {
      "cell_type": "code",
      "metadata": {},
      "source": [
        "aplt.Array(array=image, positions=positions)\n"
      ],
      "outputs": [],
      "execution_count": null
    }
  ],
  "metadata": {
    "anaconda-cloud": {},
    "kernelspec": {
      "display_name": "Python 3",
      "language": "python",
      "name": "python3"
    },
    "language_info": {
      "codemirror_mode": {
        "name": "ipython",
        "version": 3
      },
      "file_extension": ".py",
      "mimetype": "text/x-python",
      "name": "python",
      "nbconvert_exporter": "python",
      "pygments_lexer": "ipython3",
      "version": "3.6.1"
    }
  },
  "nbformat": 4,
  "nbformat_minor": 1
}