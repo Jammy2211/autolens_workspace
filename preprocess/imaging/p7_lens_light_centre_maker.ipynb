{
  "cells": [
    {
      "cell_type": "markdown",
      "metadata": {},
      "source": [
        "__Preprocess 7: Lens Light Centre (Optional)__\n",
        "\n",
        "In this tool we mark the lens light centre(s) of a strong lens(es), which can be used as fixed values for the lens\n",
        "light and mass models in a pipeline.\n",
        "\n",
        "The benefit of doing this is a reduction in the number of free parameters fitted for as well as the removal of\n",
        "systematic solutions which place the lens mass model unrealistically far from its true centre. The 'advanced' pipelines\n",
        "are built to use this input centres in early phases, but remove it in later phases one an accurate lens model has\n",
        "been inffered.\n",
        "\n",
        "If you create a lens_light_centre for your dataset, you must also update your runner to use them by loading them and\n",
        "passing them to the pipeline's make function. See the 'advanced' pipelines for pipelines with these centre inputs.\n",
        "\n",
        "Lens light centres are optional, if you struggling to get PyAutoLens to infer a good model for your dataset and you\n",
        "have not tried using the lens light centres as a fixed centre for your mass model I recommend that you do."
      ]
    },
    {
      "cell_type": "code",
      "metadata": {},
      "source": [
        "import autofit as af"
      ],
      "outputs": [],
      "execution_count": null
    },
    {
      "cell_type": "code",
      "metadata": {},
      "source": [
        "%matplotlib inline\n",
        "\n",
        "import autolens as al\n",
        "import autolens.plot as aplt"
      ],
      "outputs": [],
      "execution_count": null
    },
    {
      "cell_type": "markdown",
      "metadata": {},
      "source": [
        "Setup the path to the autolens_workspace, using the correct path name below."
      ]
    },
    {
      "cell_type": "code",
      "metadata": {},
      "source": [
        "workspace_path = \"path/to/AutoLens/autolens_workspace/\"\n",
        "workspace_path = \"/home/jammy/PycharmProjects/PyAuto/autolens_workspace\""
      ],
      "outputs": [],
      "execution_count": null
    },
    {
      "cell_type": "markdown",
      "metadata": {},
      "source": [
        "The 'dataset label' is the name of the dataset folder and 'dataset_name' the folder the lens light centre is stored \n",
        "in e.g, the lens light centre will be output as \n",
        "'/autolens_workspace/dataset/dataset_label/dataset_name/lens_light_centre.dat'."
      ]
    },
    {
      "cell_type": "code",
      "metadata": {},
      "source": [
        "dataset_label = \"imaging\"\n",
        "dataset_name = \"lens_sersic_sie__source_sersic\""
      ],
      "outputs": [],
      "execution_count": null
    },
    {
      "cell_type": "markdown",
      "metadata": {},
      "source": [
        "Create the path where the lens light centres will be output, which in this case is\n",
        "'/autolens_workspace/dataset/imaging/lens_sie__source_sersic/'"
      ]
    },
    {
      "cell_type": "code",
      "metadata": {},
      "source": [
        "dataset_path = af.path_util.make_and_return_path_from_path_and_folder_names(\n",
        "    path=workspace_path, folder_names=[\"dataset\", dataset_label, dataset_name]\n",
        ")"
      ],
      "outputs": [],
      "execution_count": null
    },
    {
      "cell_type": "markdown",
      "metadata": {},
      "source": [
        "If you use this tool for your own dataset, you *must* double check this pixel scale is correct!"
      ]
    },
    {
      "cell_type": "code",
      "metadata": {},
      "source": [
        "pixel_scales = 0.1"
      ],
      "outputs": [],
      "execution_count": null
    },
    {
      "cell_type": "markdown",
      "metadata": {},
      "source": [
        "First, load the imaging dataset, so that the lens light centres can be plotted over the strong lens image."
      ]
    },
    {
      "cell_type": "code",
      "metadata": {},
      "source": [
        "image = al.Array.from_fits(\n",
        "    file_path=f\"{dataset_path}/image.fits\", pixel_scales=pixel_scales\n",
        ")"
      ],
      "outputs": [],
      "execution_count": null
    },
    {
      "cell_type": "markdown",
      "metadata": {},
      "source": [
        "Now, create a lens light centre, which is a Coordinate object of (y,x) values."
      ]
    },
    {
      "cell_type": "code",
      "metadata": {},
      "source": [
        "lens_light_centre = al.GridCoordinates([[(0.0, 0.0)]])"
      ],
      "outputs": [],
      "execution_count": null
    },
    {
      "cell_type": "markdown",
      "metadata": {},
      "source": [
        "Now lets plot the image and lens light centre, so we can check that the centre overlaps the lens light."
      ]
    },
    {
      "cell_type": "code",
      "metadata": {},
      "source": [
        "aplt.Array(array=image, light_profile_centres=lens_light_centre)"
      ],
      "outputs": [],
      "execution_count": null
    },
    {
      "cell_type": "markdown",
      "metadata": {},
      "source": [
        "Now we're happy with the lens light centre(s), lets output them to the dataset folder of the lens, so that we can \n",
        "load them from a .dat file in our pipelines!"
      ]
    },
    {
      "cell_type": "code",
      "metadata": {},
      "source": [
        "lens_light_centre.output_to_file(\n",
        "    file_path=dataset_path + \"lens_light_centre.dat\", overwrite=True\n",
        ")"
      ],
      "outputs": [],
      "execution_count": null
    },
    {
      "cell_type": "markdown",
      "metadata": {},
      "source": [
        "The workspace also includes a GUI for drawing lens light centres, which can be found at \n",
        "'autolens_workspace/preprocess/imaging/gui/lens_light_centres.py'. This tools allows you 'click' on the image where an \n",
        "image of the lensed source is, and it will use the brightest pixel within a 5x5 box of pixels to select the coordinate."
      ]
    }
  ],
  "metadata": {
    "anaconda-cloud": {},
    "kernelspec": {
      "display_name": "Python 3",
      "language": "python",
      "name": "python3"
    },
    "language_info": {
      "codemirror_mode": {
        "name": "ipython",
        "version": 3
      },
      "file_extension": ".py",
      "mimetype": "text/x-python",
      "name": "python",
      "nbconvert_exporter": "python",
      "pygments_lexer": "ipython3",
      "version": "3.6.1"
    }
  },
  "nbformat": 4,
  "nbformat_minor": 1
}