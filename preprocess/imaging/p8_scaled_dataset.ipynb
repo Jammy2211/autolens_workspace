{
  "cells": [
    {
      "cell_type": "markdown",
      "metadata": {},
      "source": [
        "__Preprocess 8: - Scaled Dataset (Optional)__\n",
        "\n",
        "In this tool we mark regions of the image that has signal in the proximity of the lens and source that may impact our\n",
        "model fitting. By marking these regions we will scale the image to values near zero and the noise-map to large values\n",
        "such that our model-fit ignores these regions.\n",
        "\n",
        "Why not just mask these regions instead? The reason is because of inversions which reconstruct the lensed source's\n",
        "light on a pixelized grid. Masking regions of the image removes them entirely from the fitting proceure. This means\n",
        "their deflection angles are omitted and they are not traced to the source-plane, creating discontinuities in the\n",
        "source pixelization which can negatively impact the regularization scheme.\n",
        "\n",
        "However, by retaining them in the mask but simply scaling their values these discontinuities are omitted.\n",
        "\"\"\"\n",
        "\n",
        "import numpy as np"
      ]
    },
    {
      "cell_type": "code",
      "metadata": {},
      "source": [
        "import autofit as af\n",
        "import autolens as al\n",
        "import autolens.plot as aplt\n",
        "import os"
      ],
      "outputs": [],
      "execution_count": null
    },
    {
      "cell_type": "markdown",
      "metadata": {},
      "source": [
        "Setup the path to the autolens_workspace, using a relative directory name."
      ]
    },
    {
      "cell_type": "code",
      "metadata": {},
      "source": [
        "workspace_path = \"{}/../../../\".format(os.path.dirname(os.path.realpath(__file__)))"
      ],
      "outputs": [],
      "execution_count": null
    },
    {
      "cell_type": "markdown",
      "metadata": {},
      "source": [
        "The 'dataset label' is the name of the dataset folder and 'dataset_name' the folder the mask is stored in, e.g,\n",
        "the mask will be output as '/autolens_workspace/dataset/dataset_label/dataset_name/mask.fits'."
      ]
    },
    {
      "cell_type": "code",
      "metadata": {},
      "source": [
        "dataset_label = \"imaging\"\n",
        "dataset_name = \"lens_sie__source_sersic__intervening_objects\""
      ],
      "outputs": [],
      "execution_count": null
    },
    {
      "cell_type": "markdown",
      "metadata": {},
      "source": [
        "Create the path where the noise-map will be output, which in this case is\n",
        "'/autolens_workspace/dataset/imaging/lens_sie__source_sersic_intervening_objects/'"
      ]
    },
    {
      "cell_type": "code",
      "metadata": {},
      "source": [
        "dataset_path = af.path_util.make_and_return_path_from_path_and_folder_names(\n",
        "    path=workspace_path, folder_names=[\"dataset\", dataset_label, dataset_name]\n",
        ")"
      ],
      "outputs": [],
      "execution_count": null
    },
    {
      "cell_type": "markdown",
      "metadata": {},
      "source": [
        "If you use this tool for your own dataset, you *must* double check this pixel scale is correct!"
      ]
    },
    {
      "cell_type": "code",
      "metadata": {},
      "source": [
        "pixel_scales = 0.1"
      ],
      "outputs": [],
      "execution_count": null
    },
    {
      "cell_type": "markdown",
      "metadata": {},
      "source": [
        "First, load the dataset image, so that the location of galaxies is clear when scaling the noise-map."
      ]
    },
    {
      "cell_type": "code",
      "metadata": {},
      "source": [
        "image = al.Array.from_fits(\n",
        "    file_path=dataset_path + \"image.fits\", pixel_scales=pixel_scales\n",
        ")\n",
        "\n",
        "aplt.Array(array=image)"
      ],
      "outputs": [],
      "execution_count": null
    },
    {
      "cell_type": "markdown",
      "metadata": {},
      "source": [
        "Next, load the noise-map, which we will use the scale the noise-map."
      ]
    },
    {
      "cell_type": "code",
      "metadata": {},
      "source": [
        "noise_map = al.Array.from_fits(\n",
        "    file_path=dataset_path + \"noise_map.fits\", pixel_scales=pixel_scales\n",
        ")\n",
        "\n",
        "aplt.Array(array=noise_map)"
      ],
      "outputs": [],
      "execution_count": null
    },
    {
      "cell_type": "markdown",
      "metadata": {},
      "source": [
        "Now lets plot the signal to noise map, which will be reduced to nearly zero one we scale the noise."
      ]
    },
    {
      "cell_type": "code",
      "metadata": {},
      "source": [
        "aplt.Array(array=image / noise_map)"
      ],
      "outputs": [],
      "execution_count": null
    },
    {
      "cell_type": "markdown",
      "metadata": {},
      "source": [
        "First, we manually define a mask corresponding to the regions of the image we will scale."
      ]
    },
    {
      "cell_type": "code",
      "metadata": {},
      "source": [
        "mask = al.Mask.unmasked(shape_2d=image.shape_2d, pixel_scales=image.pixel_scales)\n",
        "mask[25:55, 77:96] = True\n",
        "mask[55:85, 3:27] = True"
      ],
      "outputs": [],
      "execution_count": null
    },
    {
      "cell_type": "markdown",
      "metadata": {},
      "source": [
        "We are going to change the image flux values to low values. Note zeros, but values consistent with the background\n",
        "signa in the image, which we can estimate from the image itself."
      ]
    },
    {
      "cell_type": "code",
      "metadata": {},
      "source": [
        "background_level = al.preprocess.background_noise_map_from_edges_of_image(\n",
        "    image=image, no_edges=2\n",
        ")[0]"
      ],
      "outputs": [],
      "execution_count": null
    },
    {
      "cell_type": "markdown",
      "metadata": {},
      "source": [
        "This function uses the mask to scale the appropriate regions of the image to the background level."
      ]
    },
    {
      "cell_type": "code",
      "metadata": {},
      "source": [
        "image = np.where(mask, background_level, image.in_2d)\n",
        "image = al.Array.manual_2d(array=image, pixel_scales=pixel_scales)"
      ],
      "outputs": [],
      "execution_count": null
    },
    {
      "cell_type": "markdown",
      "metadata": {},
      "source": [
        "To make our scaled image look as realistic as possible, we can optionally included some noise drawn from a Gaussian\n",
        "distributon to replicate the noise-pattern in the image. This requires us to choose a gaussian_sigma value \n",
        "representative of the data, which you should choose via 'trial and error' until you get a noise pattern that is\n",
        "visually hard to discern from the rest of the image."
      ]
    },
    {
      "cell_type": "code",
      "metadata": {},
      "source": [
        "# gaussian_sigma = None\n",
        "gaussian_sigma = 0.03\n",
        "\n",
        "if gaussian_sigma is not None:\n",
        "    random_noise = np.random.normal(\n",
        "        loc=background_level, scale=gaussian_sigma, size=image.shape_2d\n",
        "    )\n",
        "    image = np.where(mask, random_noise, image.in_2d)\n",
        "    image = al.Array.manual_2d(array=image, pixel_scales=pixel_scales)"
      ],
      "outputs": [],
      "execution_count": null
    },
    {
      "cell_type": "markdown",
      "metadata": {},
      "source": [
        "The new image is plotted for inspection."
      ]
    },
    {
      "cell_type": "code",
      "metadata": {},
      "source": [
        "aplt.Array(array=image)"
      ],
      "outputs": [],
      "execution_count": null
    },
    {
      "cell_type": "markdown",
      "metadata": {},
      "source": [
        "Now we're happy with the image, lets output it to the dataset folder of the lens, so that we can load it from a .fits\n",
        "file in our pipelines!"
      ]
    },
    {
      "cell_type": "code",
      "metadata": {},
      "source": [
        "image.output_to_fits(file_path=dataset_path + \"image_scaled.fits\", overwrite=True)"
      ],
      "outputs": [],
      "execution_count": null
    },
    {
      "cell_type": "markdown",
      "metadata": {},
      "source": [
        "Here, we manually increase the noise values at these points in the mask to extremely large values, such that the \n",
        "analysis essentially omits them."
      ]
    },
    {
      "cell_type": "code",
      "metadata": {},
      "source": [
        "noise_map = noise_map.in_2d\n",
        "noise_map[mask == True] = 1.0e8"
      ],
      "outputs": [],
      "execution_count": null
    },
    {
      "cell_type": "markdown",
      "metadata": {},
      "source": [
        "The noise map and signal to noise map show the noise-map being scaled in the correct regions of the image."
      ]
    },
    {
      "cell_type": "code",
      "metadata": {},
      "source": [
        "aplt.Array(array=noise_map)\n",
        "aplt.Array(array=image / noise_map.in_1d)"
      ],
      "outputs": [],
      "execution_count": null
    },
    {
      "cell_type": "markdown",
      "metadata": {},
      "source": [
        "Now we're happy with the mask, lets output it to the dataset folder of the lens, so that we can load it from a .fits\n",
        "file in our pipelines!"
      ]
    },
    {
      "cell_type": "code",
      "metadata": {},
      "source": [
        "noise_map.output_to_fits(\n",
        "    file_path=dataset_path + \"noise_map_scaled.fits\", overwrite=True\n",
        ")"
      ],
      "outputs": [],
      "execution_count": null
    },
    {
      "cell_type": "markdown",
      "metadata": {},
      "source": [
        "Finally, we can output the scaled mask incase we need it in the future."
      ]
    },
    {
      "cell_type": "code",
      "metadata": {},
      "source": [
        "mask.output_to_fits(file_path=dataset_path + \"mask_scaled.fits\", overwrite=True)"
      ],
      "outputs": [],
      "execution_count": null
    },
    {
      "cell_type": "markdown",
      "metadata": {},
      "source": [
        "The workspace also includes a GUI for image and noise-map scaling, which can be found at \n",
        "'autolens_workspace/preprocess/imaging/gui/scaled_dataset.py'. This tools allows you 'spray paint' on the image where \n",
        "an you want to scale, allow irregular patterns (i.e. not rectangles) to be scaled."
      ]
    }
  ],
  "metadata": {
    "anaconda-cloud": {},
    "kernelspec": {
      "display_name": "Python 3",
      "language": "python",
      "name": "python3"
    },
    "language_info": {
      "codemirror_mode": {
        "name": "ipython",
        "version": 3
      },
      "file_extension": ".py",
      "mimetype": "text/x-python",
      "name": "python",
      "nbconvert_exporter": "python",
      "pygments_lexer": "ipython3",
      "version": "3.6.1"
    }
  },
  "nbformat": 4,
  "nbformat_minor": 1
}