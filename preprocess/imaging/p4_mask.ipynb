{
  "cells": [
    {
      "cell_type": "markdown",
      "metadata": {},
      "source": [
        "__Preprocess 4: - Mask__\n",
        "\n",
        "The mask is used to remove regions of the image where the lens and source galaxy are not present, such as the edges \n",
        "of the image and potentially within the lensed source's ring (if the lens light is not observed or has been subtracted). \n",
        "\n",
        "This tutorial creates a mask for your dataset."
      ]
    },
    {
      "cell_type": "code",
      "metadata": {},
      "source": [
        "import autofit as af"
      ],
      "outputs": [],
      "execution_count": null
    },
    {
      "cell_type": "code",
      "metadata": {},
      "source": [
        "%matplotlib inline\n",
        "\n",
        "import autolens as al\n",
        "import autolens.plot as aplt"
      ],
      "outputs": [],
      "execution_count": null
    },
    {
      "cell_type": "markdown",
      "metadata": {},
      "source": [
        "This tool allows one to mask a bespoke mask for a given image of a strong lens, which is loaded before a\n",
        "pipeline is run and passed to that pipeline.\n",
        "\n",
        "Whereas in the previous 3 tutorials we used the data_raw folder of 'autolens/propocess', the mask is generated from\n",
        "the reduced dataset, so we'll example imaging in the 'autolens_workspace/dataset' folder where your dataset reduced\n",
        "following preprocess tutorials 1-3 should be located.\n",
        "\n",
        "Setup the path to the autolens_workspace, using the correct path name below."
      ]
    },
    {
      "cell_type": "code",
      "metadata": {},
      "source": [
        "workspace_path = \"path/to/AutoLens/autolens_workspace/\"\n",
        "workspace_path = \"/home/jammy/PycharmProjects/PyAuto/autolens_workspace/\""
      ],
      "outputs": [],
      "execution_count": null
    },
    {
      "cell_type": "markdown",
      "metadata": {},
      "source": [
        "The 'dataset label' is the name of the folder in the 'autolens_workspace/dataset' folder and 'dataset_name' the \n",
        "folder the dataset is stored in, e.g, '/autolens_workspace/dataset/dataset_label/dataset_name/'. The mask will be \n",
        "output here as 'mask.fits'."
      ]
    },
    {
      "cell_type": "code",
      "metadata": {},
      "source": [
        "dataset_label = \"imaging\"\n",
        "dataset_name = \"lens_sie__source_sersic\""
      ],
      "outputs": [],
      "execution_count": null
    },
    {
      "cell_type": "markdown",
      "metadata": {},
      "source": [
        "Create the path where the mask will be output, which in this case is\n",
        "'/autolens_workspace/dataset/imaging/lens_sie__source_sersic/'"
      ]
    },
    {
      "cell_type": "code",
      "metadata": {},
      "source": [
        "dataset_path = af.path_util.make_and_return_path_from_path_and_folder_names(\n",
        "    path=workspace_path, folder_names=[\"dataset\", dataset_label, dataset_name]\n",
        ")"
      ],
      "outputs": [],
      "execution_count": null
    },
    {
      "cell_type": "markdown",
      "metadata": {},
      "source": [
        "If you use this tool for your own dataset, you *must* double check this pixel scale is correct!"
      ]
    },
    {
      "cell_type": "code",
      "metadata": {},
      "source": [
        "pixel_scales = 0.1"
      ],
      "outputs": [],
      "execution_count": null
    },
    {
      "cell_type": "markdown",
      "metadata": {},
      "source": [
        "First, load the image of the dataset, so that the mask can be plotted over the strong lens."
      ]
    },
    {
      "cell_type": "code",
      "metadata": {},
      "source": [
        "image = al.Array.from_fits(\n",
        "    file_path=dataset_path + \"image.fits\", pixel_scales=pixel_scales\n",
        ")"
      ],
      "outputs": [],
      "execution_count": null
    },
    {
      "cell_type": "markdown",
      "metadata": {},
      "source": [
        "Now, create a mask for this dataset, using the Mask object I'll use a circular-annular mask here, but I've commented \n",
        "other options you might want to use (feel free to experiment!)"
      ]
    },
    {
      "cell_type": "code",
      "metadata": {},
      "source": [
        "mask = al.Mask.circular_annular(\n",
        "    shape_2d=image.shape_2d,\n",
        "    pixel_scales=image.pixel_scales,\n",
        "    sub_size=1,\n",
        "    inner_radius=0.5,\n",
        "    outer_radius=2.5,\n",
        "    centre=(0.0, 0.0),\n",
        ")\n",
        "\n",
        "# mask = al.Mask.circular(\n",
        "#     shape_2d=image.shape_2d,\n",
        "#     pixel_scales=image.pixel_scales,\n",
        "#     sub_size=1,\n",
        "#     radius=2.5,\n",
        "#     centre=(0.0, 0.0),\n",
        "# )\n",
        "\n",
        "# mask = al.Mask.elliptical(\n",
        "#     shape_2d=image.shape_2d,\n",
        "#     pixel_scales=image.pixel_scales,\n",
        "#     sub_size=1,\n",
        "#     major_axis_radius=2.5,\n",
        "#     axis_ratio=0.7,\n",
        "#     phi=45.0,\n",
        "#     centre=(0.0, 0.0),\n",
        "# )\n",
        "\n",
        "# mask = al.Mask.elliptical_annular(\n",
        "#     shape_2d=image.shape_2d,\n",
        "#     pixel_scales=image.pixel_scales,\n",
        "#     sub_size=1,\n",
        "#     inner_major_axis_radius=0.5,\n",
        "#     inner_axis_ratio=0.7,\n",
        "#     inner_phi=45.0,\n",
        "#     outer_major_axis_radius=0.5,\n",
        "#     outer_axis_ratio=0.7,\n",
        "#     outer_phi=45.0,\n",
        "#     centre=(0.0, 0.0),\n",
        "# )"
      ],
      "outputs": [],
      "execution_count": null
    },
    {
      "cell_type": "markdown",
      "metadata": {},
      "source": [
        "Now lets plot the image and mask, so we can check that the mask includes the regions of the image we want."
      ]
    },
    {
      "cell_type": "code",
      "metadata": {},
      "source": [
        "aplt.Array(array=image, mask=mask)"
      ],
      "outputs": [],
      "execution_count": null
    },
    {
      "cell_type": "markdown",
      "metadata": {},
      "source": [
        "Now we're happy with the mask, lets output it to the dataset folder of the lens, so that we can load it from a .fits\n",
        "file in our pipelines!"
      ]
    },
    {
      "cell_type": "code",
      "metadata": {},
      "source": [
        "mask.output_to_fits(file_path=dataset_path + \"mask.fits\", overwrite=True)"
      ],
      "outputs": [],
      "execution_count": null
    },
    {
      "cell_type": "markdown",
      "metadata": {},
      "source": [
        "The workspace also includes a GUI for drawing a mask, which can be found at \n",
        "'autolens_workspace/preprocess/imaging/gui/mask.py'. This tools allows you to draw the mask via a 'spray paint' mouse\n",
        "icon, such that you can draw irregular masks more tailored to the source's light."
      ]
    }
  ],
  "metadata": {
    "anaconda-cloud": {},
    "kernelspec": {
      "display_name": "Python 3",
      "language": "python",
      "name": "python3"
    },
    "language_info": {
      "codemirror_mode": {
        "name": "ipython",
        "version": 3
      },
      "file_extension": ".py",
      "mimetype": "text/x-python",
      "name": "python",
      "nbconvert_exporter": "python",
      "pygments_lexer": "ipython3",
      "version": "3.6.1"
    }
  },
  "nbformat": 4,
  "nbformat_minor": 1
}