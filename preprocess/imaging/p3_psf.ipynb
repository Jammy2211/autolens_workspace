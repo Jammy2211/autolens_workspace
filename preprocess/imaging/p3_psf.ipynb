{
  "cells": [
    {
      "cell_type": "markdown",
      "metadata": {},
      "source": [
        "__Preprocess 3: - PSF__\n",
        "\n",
        "The Point Spread Function (PSF) describes blurring due the optics of your dataset`s telescope. It is used by PyAutoLens\n",
        "when fitting a dataset to include these effects, such that does not bias the lens model. It should be estimated from a\n",
        "stack of stars in the image during data reduction or using PSF simulator technology suited to your telescope.\n",
        "\n",
        "This tutorial describes preprocessing your dataset`s psf to adhere too the units and formats required by PyAutoLens."
      ]
    },
    {
      "cell_type": "markdown",
      "metadata": {},
      "source": [
        "Lets begin by importing PyAutoFit, PyAutoLens and its plotting module."
      ]
    },
    {
      "cell_type": "code",
      "metadata": {},
      "source": [
        "%matplotlib inline\n",
        "\n",
        "import autofit as af\n",
        "import autolens as al\n",
        "import autolens.plot as aplt"
      ],
      "outputs": [],
      "execution_count": null
    },
    {
      "cell_type": "markdown",
      "metadata": {},
      "source": [
        "First, lets setup the path to our current working directory. I recommend you use the `autolens_workspace` directory \n",
        "and place your dataset in the `autolens_workspace/preprocess/imaging/data_raw` directory.\n",
        "\n",
        "For this tutorial, we'll use the `autolens_workspace/preprocess/imaging/data_raw` directory. The folder `data_raw` \n",
        "contains example data we'll use in this tutorial."
      ]
    },
    {
      "cell_type": "code",
      "metadata": {},
      "source": [
        "from pyprojroot import here\n",
        "\n",
        "workspace_path = str(here())\n",
        "print(\"Workspace Path: \", workspace_path)\n",
        "\n",
        "dataset_path = af.util.create_path(\n",
        "    path=f\"{workspace_path}/preprocess/imaging/\", folders=[\"data_raw\"]\n",
        ")"
      ],
      "outputs": [],
      "execution_count": null
    },
    {
      "cell_type": "markdown",
      "metadata": {},
      "source": [
        "This populates the `data` path with example simulated `Imaging` data-sets."
      ]
    },
    {
      "cell_type": "code",
      "metadata": {},
      "source": [
        "from autolens_workspace.preprocess.imaging.data_raw import simulators\n",
        "\n",
        "simulators.simulate_all_imaging(dataset_path=dataset_path)"
      ],
      "outputs": [],
      "execution_count": null
    },
    {
      "cell_type": "markdown",
      "metadata": {},
      "source": [
        "__Loading Data From Individual Fits Files__\n",
        "\n",
        "First, lets load a PSF as a Kernel. This psf represents a good data-reduction that conforms to the formatting \n",
        "standards I describe in this tutorial!"
      ]
    },
    {
      "cell_type": "code",
      "metadata": {},
      "source": [
        "imaging_path = af.util.create_path(path=dataset_path, folders=[\"imaging\"])\n",
        "\n",
        "psf = al.Kernel.from_fits(file_path=imaging_path + \"psf.fits\", hdu=0, pixel_scales=0.1)\n",
        "\n",
        "aplt.Array(array=psf)"
      ],
      "outputs": [],
      "execution_count": null
    },
    {
      "cell_type": "markdown",
      "metadata": {},
      "source": [
        "__1) PSF Size__\n",
        "\n",
        "The majority of PSF blurring occurs at its central core, which is the most important region for strong lens modeling. \n",
        "By default, the size of the PSF kernel in the .fits is used to perform convolution. The larger this stamp, the longer \n",
        "this convolution will take to run. Large PSFs (e.g. > 51 x 51) could have significantly slow down on run-time. In general, \n",
        "we would recommend the PSF size is 21 x 21. \n",
        "\n",
        "Lets look at an image where a large PSF kernel is loaded."
      ]
    },
    {
      "cell_type": "code",
      "metadata": {},
      "source": [
        "imaging_path = af.util.create_path(\n",
        "    path=dataset_path, folders=[\"imaging_with_large_psf\"]\n",
        ")\n",
        "\n",
        "large_psf = al.Kernel.from_fits(\n",
        "    file_path=imaging_path + \"psf.fits\", hdu=0, pixel_scales=0.1\n",
        ")\n",
        "\n",
        "aplt.Array(array=large_psf)"
      ],
      "outputs": [],
      "execution_count": null
    },
    {
      "cell_type": "markdown",
      "metadata": {},
      "source": [
        "We can resize a psf the same way that we resize an image."
      ]
    },
    {
      "cell_type": "code",
      "metadata": {},
      "source": [
        "trimmed_psf = al.preprocess.array_with_new_shape(array=psf, new_shape=(21, 21))\n",
        "\n",
        "aplt.Array(array=trimmed_psf)"
      ],
      "outputs": [],
      "execution_count": null
    },
    {
      "cell_type": "markdown",
      "metadata": {},
      "source": [
        "__PSF Dimensions__\n",
        "\n",
        "The PSF dimensions must be odd x odd (e.g. 21 x 21), because even-sized PSF kernels introduce a half-pixel offset in \n",
        "the convolution routine which can lead to systematics in the lens analysis. "
      ]
    },
    {
      "cell_type": "code",
      "metadata": {},
      "source": [
        "imaging_path = af.util.create_path(path=dataset_path, folders=[\"imaging_with_even_psf\"])\n",
        "\n",
        "even_psf = al.Kernel.from_fits(\n",
        "    file_path=imaging_path + \"psf.fits\", hdu=0, pixel_scales=0.1\n",
        ")\n",
        "\n",
        "print(even_psf.shape_2d)\n",
        "\n",
        "aplt.Array(array=even_psf)"
      ],
      "outputs": [],
      "execution_count": null
    },
    {
      "cell_type": "markdown",
      "metadata": {},
      "source": [
        "Below, we show a function that allows one to rescale the PSF to the nearest odd-sized kernel. However, this uses an \n",
        "interpolation routine that will not be perfect. The best way to create an odd-sized PSF is to do so directly in your\n",
        "data reduction procedure. If this is a possibility, DO THAT INSTEAD OF USING THE FUNCTION BELOW!"
      ]
    },
    {
      "cell_type": "code",
      "metadata": {},
      "source": [
        "odd_psf = al.preprocess.psf_with_odd_dimensions_from_psf(psf=psf)\n",
        "\n",
        "print(odd_psf.shape_2d)\n",
        "\n",
        "aplt.Array(array=odd_psf)"
      ],
      "outputs": [],
      "execution_count": null
    },
    {
      "cell_type": "markdown",
      "metadata": {},
      "source": [
        "__PSF Normalization__\n",
        "\n",
        "The PSF should also be normalized to unity. That is, the sum of all values in the kernel used by PyAutoLens should sum \n",
        "to 1. This ensures that the PSF convolution does not change the overall normalization of the image.\n",
        "\n",
        "PyAutoLens automatically renormalized PSF when they are passed into a MaskedImaging or SimulatedImaging object, so you \n",
        "do not actually need to renormalize your PSF. However, it is better to do it now, just in case.\n",
        "\n",
        "Lets look at a PSF which is not normalized to unity, which is the default case corresponding to the `renormalize` flag \n",
        "being False."
      ]
    },
    {
      "cell_type": "code",
      "metadata": {},
      "source": [
        "imaging_path = af.util.create_path(\n",
        "    path=dataset_path, folders=[\"imaging_with_unnormalized_psf\"]\n",
        ")\n",
        "\n",
        "unnormalized_psf = al.Kernel.from_fits(\n",
        "    file_path=imaging_path + \"psf.fits\", hdu=0, pixel_scales=0.1, renormalize=False\n",
        ")\n",
        "\n",
        "aplt.Array(array=unnormalized_psf)\n"
      ],
      "outputs": [],
      "execution_count": null
    },
    {
      "cell_type": "markdown",
      "metadata": {},
      "source": [
        "The PSF is renormaized if the renormalize=True."
      ]
    },
    {
      "cell_type": "code",
      "metadata": {},
      "source": [
        "normalized_psf = al.Kernel.from_fits(\n",
        "    file_path=imaging_path + \"psf.fits\", hdu=0, pixel_scales=0.1, renormalize=True\n",
        ")\n",
        "\n",
        "aplt.Array(array=normalized_psf)\n"
      ],
      "outputs": [],
      "execution_count": null
    }
  ],
  "metadata": {
    "anaconda-cloud": {},
    "kernelspec": {
      "display_name": "Python 3",
      "language": "python",
      "name": "python3"
    },
    "language_info": {
      "codemirror_mode": {
        "name": "ipython",
        "version": 3
      },
      "file_extension": ".py",
      "mimetype": "text/x-python",
      "name": "python",
      "nbconvert_exporter": "python",
      "pygments_lexer": "ipython3",
      "version": "3.6.1"
    }
  },
  "nbformat": 4,
  "nbformat_minor": 1
}