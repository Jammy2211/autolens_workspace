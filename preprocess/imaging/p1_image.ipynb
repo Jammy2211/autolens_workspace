{
  "cells": [
    {
      "cell_type": "markdown",
      "metadata": {},
      "source": [
        "__Preprocess 1: Image__\n",
        "\n",
        "The image is the image of your strong lens - most likely a co-add of multiple dithered exposures.\n",
        "\n",
        "Throughout all these tutorials, we'll refer to a \"pixel_scale\" when loading data. The pixel-scale describes the\n",
        "pixel-units to arcsecond-units conversion factor of your telescope, which you should look up now if you are unsure\n",
        "of the value. HST `Imaging` typically has a pixel_scale of 0.05\", however this varies depending on the detector and\n",
        "data reduction procedure so DOUBLE CHECK THIS!\n",
        "\n",
        "This tutorial describes preprocessing your dataset`s image to adhere too the units and formats required by PyAutoLens."
      ]
    },
    {
      "cell_type": "markdown",
      "metadata": {},
      "source": [
        "Lets begin by importing PyAutoFit, PyAutoLens and its plotting module."
      ]
    },
    {
      "cell_type": "code",
      "metadata": {},
      "source": [
        "%matplotlib inline\n",
        "\n",
        "import autofit as af\n",
        "import autolens as al\n",
        "import autolens.plot as aplt"
      ],
      "outputs": [],
      "execution_count": null
    },
    {
      "cell_type": "markdown",
      "metadata": {},
      "source": [
        "Next, lets setup the path to our current working directory. I recommend you use the `autolens_workspace` directory \n",
        "and place your dataset in the `autolens_workspace/preprocess/imaging/data_raw` directory.\n",
        "\n",
        "For this tutorial, we'll use the `autolens_workspace/preprocess/imaging/data_raw` directory. The folder `data_raw` \n",
        "contains example data we'll use in this tutorial."
      ]
    },
    {
      "cell_type": "code",
      "metadata": {},
      "source": [
        "import os\n",
        "\n",
        "workspace_path = os.environ[\"WORKSPACE\"]\n",
        "print(\"Workspace Path: \", workspace_path)\n",
        "\n",
        "dataset_path = f\"{workspace_path}/preprocess/imaging/data_raw\""
      ],
      "outputs": [],
      "execution_count": null
    },
    {
      "cell_type": "markdown",
      "metadata": {},
      "source": [
        "This populates the `data_raw` path with example simulated `Imaging` data-sets."
      ]
    },
    {
      "cell_type": "code",
      "metadata": {},
      "source": [
        "from autolens_workspace.preprocess.imaging.data_raw import simulators\n",
        "\n",
        "simulators.simulate_all_imaging(dataset_path=dataset_path)"
      ],
      "outputs": [],
      "execution_count": null
    },
    {
      "cell_type": "markdown",
      "metadata": {},
      "source": [
        "__Loading Data From Individual Fits Files__\n",
        "\n",
        "First, lets load an image as an Array. This image represents a good data-reduction that conforms to the formatting \n",
        "standards I describe in this tutorial!"
      ]
    },
    {
      "cell_type": "code",
      "metadata": {},
      "source": [
        "imaging_path = f\"{dataset_path}/imaging\"\n",
        "\n",
        "image = al.Array.from_fits(file_path=f\"{imaging_path}/image.fits\", pixel_scales=0.1)"
      ],
      "outputs": [],
      "execution_count": null
    },
    {
      "cell_type": "markdown",
      "metadata": {},
      "source": [
        "There are numerous reasons why the image below is a good data-set for lens modeling. I strongly recommend \n",
        "you adapt your data reduction pipelines to conform to the formats discussed below - it`ll make your time using \n",
        "PyAutoLens a lot simpler.\n",
        "\n",
        "However, you may not have access to the data-reduction tools that made the data, so we've included in-built functions \n",
        "in PyAutoLens to convert the data to a suitable format.\n",
        "\"\"\"\n",
        "\n",
        "aplt.Array(array=image)"
      ]
    },
    {
      "cell_type": "markdown",
      "metadata": {},
      "source": [
        "__1) Converting Data To Electrons Per Second__\n",
        "\n",
        "1) Brightness units - the image`s flux values should be in units of electrons per second (as opposed to electrons, \n",
        "counts, ADU`s etc.). Although PyAutoLens can technically perform an analysis using other units, the default setup \n",
        "assumes electrons per second (e.g. the priors on `LightProfile` intensity and `Regularization` parameters). Thus, images \n",
        "not in electrons per second should be converted!\n",
        "\n",
        "Lets look at an image that is in units of counts - its easy to tell because the peak values are in the 1000`s or 10000`s."
      ]
    },
    {
      "cell_type": "code",
      "metadata": {},
      "source": [
        "imaging_path = f\"{dataset_path}/imaging_in_counts\"\n",
        "\n",
        "image_in_counts = al.Array.from_fits(\n",
        "    file_path=f\"{imaging_path}/image.fits\", pixel_scales=0.1\n",
        ")\n",
        "\n",
        "aplt.Array(array=image_in_counts)"
      ],
      "outputs": [],
      "execution_count": null
    },
    {
      "cell_type": "markdown",
      "metadata": {},
      "source": [
        "Converting from counts to electrons per second means we must know the exposure time of our observation, which should be\n",
        "an output of your data reduction pipeline."
      ]
    },
    {
      "cell_type": "code",
      "metadata": {},
      "source": [
        "\n",
        "exposure_time = 1000.0\n",
        "\n",
        "exposure_time_map = al.Array.full(\n",
        "    fill_value=exposure_time, shape_2d=image_in_counts.shape_2d\n",
        ")\n",
        "\n",
        "image_converted_to_eps = al.preprocess.array_counts_to_eps(\n",
        "    array_counts=image_in_counts, exposure_time_map=exposure_time_map\n",
        ")\n",
        "\n",
        "aplt.Array(array=image_converted_to_eps)\n",
        "\n",
        "\"\"\"\n",
        "If the effective exposure-time map is output as part of the data reduction, you can use this to convert the image to \n",
        "electrons per second instead.\n",
        "\"\"\"\n",
        "\n",
        "exposure_time_map = al.Array.from_fits(\n",
        "    file_path=f\"{imaging_path}/exposure_time_map.fits\"\n",
        ")"
      ],
      "outputs": [],
      "execution_count": null
    },
    {
      "cell_type": "code",
      "metadata": {},
      "source": [
        "image_converted_to_eps = al.preprocess.array_counts_to_eps(\n",
        "    array_counts=image_in_counts, exposure_time_map=exposure_time_map\n",
        ")\n",
        "\n",
        "aplt.Array(array=image_converted_to_eps)"
      ],
      "outputs": [],
      "execution_count": null
    },
    {
      "cell_type": "markdown",
      "metadata": {},
      "source": [
        "PyAutoLens can also convert data from units of ADUs to electrons per second, which uses both the exposure time and\n",
        "instrumental gain of the data."
      ]
    },
    {
      "cell_type": "code",
      "metadata": {},
      "source": [
        "\n",
        "imaging_path = f\"{dataset_path}/imaging_in_adus\"\n",
        "\n",
        "image_in_adus = al.Array.from_fits(\n",
        "    file_path=f\"{imaging_path}/image.fits\", pixel_scales=0.1\n",
        ")\n",
        "\n",
        "aplt.Array(array=image_in_adus)\n",
        "\n",
        "exposure_time_map = al.Array.full(fill_value=1000.0, shape_2d=image_in_counts.shape_2d)\n",
        "\n",
        "image_converted_to_eps = al.preprocess.array_adus_to_eps(\n",
        "    array_adus=image_in_adus, exposure_time_map=exposure_time_map, gain=4.0\n",
        ")\n",
        "\n",
        "aplt.Array(array=image_converted_to_eps)"
      ],
      "outputs": [],
      "execution_count": null
    },
    {
      "cell_type": "markdown",
      "metadata": {},
      "source": [
        "In `autolens_workspace/preprocess/prepare/noise_map.py` we show that a noise-map must also be in units of electrons \n",
        "per second, and that the same functions as above can be used to do this."
      ]
    },
    {
      "cell_type": "markdown",
      "metadata": {},
      "source": [
        "2)__Resizing Data__\n",
        "\n",
        "The bigger the postage stamp cut-out of the image the more memory it requires to store. Visualization will be less \n",
        "ideal too, as the lens will be a small blob in the centre relative to the large surrounding edges of the image. Why \n",
        "keep the edges surrounding the lens if they are masked out anyway?\n",
        "\n",
        "Lets look at an example of a very large postage stamp - we can barely even see the lens and source galaxies!"
      ]
    },
    {
      "cell_type": "code",
      "metadata": {},
      "source": [
        "imaging_path = f\"{dataset_path}/imaging_with_large_stamp\"\n",
        "\n",
        "image_large_stamp = al.Array.from_fits(\n",
        "    file_path=f\"{imaging_path}/image.fits\", pixel_scales=0.1\n",
        ")\n",
        "\n",
        "aplt.Array(array=image_large_stamp)"
      ],
      "outputs": [],
      "execution_count": null
    },
    {
      "cell_type": "markdown",
      "metadata": {},
      "source": [
        "If you have a large postage stamp you can trim it using the preprocess module. Trimming is centred on the image."
      ]
    },
    {
      "cell_type": "code",
      "metadata": {},
      "source": [
        "image_large_stamp_trimmed = al.preprocess.array_with_new_shape(\n",
        "    array=image_large_stamp, new_shape=(130, 130)\n",
        ")\n",
        "\n",
        "aplt.Array(array=image_large_stamp_trimmed)"
      ],
      "outputs": [],
      "execution_count": null
    },
    {
      "cell_type": "markdown",
      "metadata": {},
      "source": [
        "The stamp may also be too small. It must have sufficient padding around the border that our mask includes all \n",
        "pixels with signal. More importantly, the padding must also stretch into the `blurring region`, corresponding to all \n",
        "unmasked image pixels where light blurs into the masks after PSF convolution. Thus, we may need to pad an image to \n",
        "include this region."
      ]
    },
    {
      "cell_type": "code",
      "metadata": {},
      "source": [
        "imaging_path = f\"{dataset_path}/imaging_with_small_stamp\""
      ],
      "outputs": [],
      "execution_count": null
    },
    {
      "cell_type": "markdown",
      "metadata": {},
      "source": [
        "This image is an example of a stamp which is big enough to contain the lens and source galaxies, but when we apply a \n",
        "sensible masks we get an error, because the masks`s blurring region goes into the edge of the image."
      ]
    },
    {
      "cell_type": "code",
      "metadata": {},
      "source": [
        "image_small_stamp = al.Array.from_fits(\n",
        "    file_path=f\"{imaging_path}/image.fits\", pixel_scales=0.1\n",
        ")\n",
        "\n",
        "aplt.Array(array=image_small_stamp)"
      ],
      "outputs": [],
      "execution_count": null
    },
    {
      "cell_type": "markdown",
      "metadata": {},
      "source": [
        "If we apply a masks to this image we get an error when we try to use it to set up a masked image because its \n",
        "blurring region (defined by the PSF kernel shape) hits the image edge."
      ]
    },
    {
      "cell_type": "code",
      "metadata": {},
      "source": [
        "mask = al.Mask2D.circular(\n",
        "    shape_2d=image_small_stamp.shape_2d,\n",
        "    pixel_scales=image_small_stamp.pixel_scales,\n",
        "    radius=2.0,\n",
        ")\n",
        "\n",
        "aplt.Array(array=image_small_stamp, mask=mask)"
      ],
      "outputs": [],
      "execution_count": null
    },
    {
      "cell_type": "markdown",
      "metadata": {},
      "source": [
        "The setup of the Convolver (used to perform PSF blurring in a PyAutoLens analysis) now gives an error because the \n",
        "mask`s edge and therefore blurring region goes over the edge of the edge."
      ]
    },
    {
      "cell_type": "code",
      "metadata": {},
      "source": [
        "# convolver = al.Convolver(mask=mask, kernel=al.Kernel.ones(shape_2d=(31, 31)))"
      ],
      "outputs": [],
      "execution_count": null
    },
    {
      "cell_type": "markdown",
      "metadata": {},
      "source": [
        "We overcome this using the same function as before. However, the resized image shape now becomes bigger than the \n",
        "image, by padding zeros at the edges."
      ]
    },
    {
      "cell_type": "code",
      "metadata": {},
      "source": [
        "image_small_stamp_padded = al.preprocess.array_with_new_shape(\n",
        "    array=image_small_stamp, new_shape=(130, 130)\n",
        ")\n",
        "\n",
        "mask = al.Mask2D.circular(\n",
        "    shape_2d=image_small_stamp_padded.shape_2d,\n",
        "    pixel_scales=image_small_stamp_padded.pixel_scales,\n",
        "    radius=2.0,\n",
        ")\n",
        "\n",
        "aplt.Array(array=image_small_stamp_padded, mask=mask)"
      ],
      "outputs": [],
      "execution_count": null
    },
    {
      "cell_type": "markdown",
      "metadata": {},
      "source": [
        "This no longer gives an error!"
      ]
    },
    {
      "cell_type": "code",
      "metadata": {},
      "source": [
        "convolver = al.Convolver(mask=mask, kernel=al.Kernel.ones(shape_2d=(31, 31)))"
      ],
      "outputs": [],
      "execution_count": null
    },
    {
      "cell_type": "code",
      "metadata": {},
      "source": [
        "# 3) ``.entering__\n",
        "\n",
        "########## IVE INCLUDED THE TEXT CAN BE AWARE OF CENTERING, BUT THE BUILT IN FUNCTIONALITY FOR #####\n",
        "########## RECENTERING CURRENTLY DOES NOT WORK :( ###########\n",
        "\n",
        "# Lens Galaxy Centering - The lens galaxy should be in the centre of the image as opposed to a corner. This ensures\n",
        "# the origin of the lens `Galaxy`'s light and `MassProfile`'s are near the origin (0.0\", 0.0\") of the grid used to perform\n",
        "# ray-tracing. The defaults priors on light and `MassProfile`'s assume a origin of (0.0\", 0.0\").\n",
        "\n",
        "# Lets look at an off-center image - clearly both the lens galaxy and Einstein ring are offset in the positive y and x d\n",
        "# directions.\n",
        "\n",
        "# imaging_path = af.util.create_path(path=dataset_path,\n",
        "#                                                                           folder_names=[`imaging_offset_centre`])\n",
        "\n",
        "# imaging_offset_centre = al.Imaging.from_fits(image_path=path+`image.fits`, pixel_scales=0.1,\n",
        "#                                   noise_map_path=path+`noise_map.fits`,\n",
        "#                                   psf_path=path+`psf.fits`)\n",
        "# aplt.Imaging.subplot(imaging=imaging_offset_centre)\n",
        "\n",
        "# We can address this by using supplying a new centre for the image, in pixels. We also supply the resized shape, to\n",
        "# instruct the code whether it should trim the image or pad the edges that now arise due to recentering.\n",
        "\n",
        "# imaging_recentred_pixels = al.Imaging.from_fits(image_path=path+`image.fits`, pixel_scales=0.1,\n",
        "#                                             noise_map_path=path+`noise_map.fits`,\n",
        "#                                             psf_path=path+`psf.fits`,\n",
        "#                                             resized_imaging_shape=(100, 100),\n",
        "#                                             resized_imaging_centre_pixels=(0, 0))\n",
        "# #                                            resized_imaging_centre_arc_seconds=(1.0, 1.0))\n",
        "# print(imaging_recentred_pixels.shape)\n",
        "# aplt.Imaging.subplot(imaging=imaging_recentred_pixels)\n"
      ],
      "outputs": [],
      "execution_count": null
    }
  ],
  "metadata": {
    "anaconda-cloud": {},
    "kernelspec": {
      "display_name": "Python 3",
      "language": "python",
      "name": "python3"
    },
    "language_info": {
      "codemirror_mode": {
        "name": "ipython",
        "version": 3
      },
      "file_extension": ".py",
      "mimetype": "text/x-python",
      "name": "python",
      "nbconvert_exporter": "python",
      "pygments_lexer": "ipython3",
      "version": "3.6.1"
    }
  },
  "nbformat": 4,
  "nbformat_minor": 1
}