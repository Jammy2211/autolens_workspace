{
  "cells": [
    {
      "cell_type": "markdown",
      "metadata": {},
      "source": [
        "__Aggregator 2: Filters__\n",
        "\n",
        "Lets suppose we had the results of other fits in the folder `output/aggregator`, and we *only* wanted fits which used\n",
        "the phase defined in `phase_runner.py`. To avoid loading all the other results, we can use the aggregator`s filter\n",
        "tool, which filters the results and provides us with only the results we want.\n",
        "\n",
        "The filter provides us with the aggregator object we used in the previous tutorial, so can be used in an identical\n",
        "fashion to tutorial 1."
      ]
    },
    {
      "cell_type": "code",
      "metadata": {},
      "source": [
        "from autoconf import conf\n",
        "import autofit as af"
      ],
      "outputs": [],
      "execution_count": null
    },
    {
      "cell_type": "markdown",
      "metadata": {},
      "source": [
        "First, set up the aggregator as we did in the previous tutorial."
      ]
    },
    {
      "cell_type": "code",
      "metadata": {},
      "source": [
        "workspace_path = \"/home/jammy/PycharmProjects/PyAuto/autolens_workspace\"\n",
        "output_path = f\"{workspace_path}/output\"\n",
        "agg_results_path = f\"{output_path}/aggregator\"\n",
        "\n",
        "conf.instance = conf.Config(\n",
        "    config_path=f\"{workspace_path}/config\", output_path=output_path\n",
        ")\n",
        "\n",
        "agg = af.Aggregator(directory=str(agg_results_path))"
      ],
      "outputs": [],
      "execution_count": null
    },
    {
      "cell_type": "markdown",
      "metadata": {},
      "source": [
        "We can first filter results to only include completed results. By including the *completed_only* input below, any \n",
        "results which are in the middle of a non-linear will be omitted and not loaded in the `Aggregator`."
      ]
    },
    {
      "cell_type": "code",
      "metadata": {},
      "source": [
        "agg = af.Aggregator(directory=str(agg_results_path), completed_only=True)"
      ],
      "outputs": [],
      "execution_count": null
    },
    {
      "cell_type": "markdown",
      "metadata": {},
      "source": [
        "The simplest filter uses the phase_name to filter all results in the output_path. Below, we use the phase name of the\n",
        "phase used to fit our aggregator sample, providing us with all 3 results."
      ]
    },
    {
      "cell_type": "code",
      "metadata": {},
      "source": [
        "phase_name = \"phase__aggregator\"\n",
        "agg_filter_phase = agg.filter(agg.phase == phase_name)\n",
        "samples_gen = agg_filter_phase.values(\"samples\")"
      ],
      "outputs": [],
      "execution_count": null
    },
    {
      "cell_type": "markdown",
      "metadata": {},
      "source": [
        "As expected, this list retains 3 NestSamples objects."
      ]
    },
    {
      "cell_type": "code",
      "metadata": {},
      "source": [
        "print(\"Phase Name Filtered NestedSampler Samples: \\n\\n\")\n",
        "print(\"Total Samples Objects = \", len(list(agg_filter_phase.values(\"samples\"))), \"\\n\\n\")"
      ],
      "outputs": [],
      "execution_count": null
    },
    {
      "cell_type": "markdown",
      "metadata": {},
      "source": [
        "If we filtered using an incorrect phase name we would get no results:"
      ]
    },
    {
      "cell_type": "code",
      "metadata": {},
      "source": [
        "phase_name = \"phase__incorrect_name\"\n",
        "agg_filter_incorrect = agg.filter(agg.phase == phase_name)\n",
        "print(\"Incorrect Phase Name Filtered NestedSampler Samples: \\n\")\n",
        "print(\n",
        "    \"Total Samples Objects = \",\n",
        "    len(list(agg_filter_incorrect.values(\"samples\"))),\n",
        "    \"\\n\\n\",\n",
        ")"
      ],
      "outputs": [],
      "execution_count": null
    },
    {
      "cell_type": "markdown",
      "metadata": {},
      "source": [
        "Alternatively, we can filter using strings, requiring that the string appears in the full path of the output\n",
        "results. This is useful if you fit a samples of lenses where:\n",
        "\n",
        " - Multiple results, corresponding to different pipelines, phases and model-fits are stored in the same path.\n",
        " - Different runs using different `SettingsPhase` and `SetupPipeline` are in the same path.\n",
        " - Fits using different non-linear searches, with different settings, are contained in the same path.\n",
        "\n",
        "The example below shows us using the contains filter to get the results of all 3 lenses. The contains method\n",
        "only requires that the string is in the path structure, thus we do not need to specify the full phase name.\n",
        "\"\"\"\n",
        "agg_filter_contains = agg.filter(agg.directory.contains(\"phase__\"))\n",
        "print(\"Directory Contains Filtered NestedSampler Samples: \\n\")\n",
        "print(\n",
        "    \"Total Samples Objects = \", len(list(agg_filter_contains.values(\"samples\"))), \"\\n\\n\"\n",
        ")"
      ]
    },
    {
      "cell_type": "markdown",
      "metadata": {},
      "source": [
        "If the model-fit was performed using a `Pipeline`, you can filter by the pipeline name to get results. \n",
        "\n",
        "The example output in this tutorial did not use a pipeline, so filtering by pipeline name removes all result.\n",
        "\"\"\"\n",
        "pipeline_name = \"pipeline_name\"\n",
        "agg_filter_pipeline = agg.filter(agg.pipeline == pipeline_name)\n",
        "print(\"Pipeline Name Filtered NestedSampler Samples: \\n\")\n",
        "print(\n",
        "    \"Total Samples Objects = \", len(list(agg_filter_pipeline.values(\"samples\"))), \"\\n\\n\"\n",
        ")"
      ]
    },
    {
      "cell_type": "markdown",
      "metadata": {},
      "source": [
        "Finally, filters can be combined to load precisely only the result that you want, below we use all the above filters to \n",
        "load only the results of the fit to the first lens in our sample.\n",
        "\"\"\"\n",
        "phase_name = \"phase__aggregator\"\n",
        "agg_filter_multiple = agg.filter(\n",
        "    agg.phase == phase_name,\n",
        "    agg.directory.contains(\"phase__\"),\n",
        "    agg.directory.contains(\"dynesty\"),\n",
        "    agg.directory.contains(\"mass_sie__source_sersic__0\"),\n",
        ")\n",
        "print(\"Multiple Filter NestedSampler Samples: \\n\")\n",
        "print()\n",
        "print(\n",
        "    \"Total Samples Objects = \", len(list(agg_filter_multiple.values(\"samples\"))), \"\\n\\n\"\n",
        ")"
      ]
    }
  ],
  "metadata": {
    "anaconda-cloud": {},
    "kernelspec": {
      "display_name": "Python 3",
      "language": "python",
      "name": "python3"
    },
    "language_info": {
      "codemirror_mode": {
        "name": "ipython",
        "version": 3
      },
      "file_extension": ".py",
      "mimetype": "text/x-python",
      "name": "python",
      "nbconvert_exporter": "python",
      "pygments_lexer": "ipython3",
      "version": "3.6.1"
    }
  },
  "nbformat": 4,
  "nbformat_minor": 1
}