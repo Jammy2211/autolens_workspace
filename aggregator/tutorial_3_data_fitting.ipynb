{
 "cells": [
  {
   "cell_type": "markdown",
   "metadata": {},
   "source": [
    "__Data Fitting__\n",
    "\n",
    "In this tutorial, we use the aggregator to load models and data from a non-linear search and use them to reperform fits to the data."
   ]
  },
  {
   "cell_type": "code",
   "execution_count": 7,
   "metadata": {},
   "outputs": [],
   "source": [
    "import autofit as af\n",
    "import autolens as al\n",
    "import autolens.plot as aplt\n",
    "\n",
    "import matplotlib.pyplot as plt"
   ]
  },
  {
   "cell_type": "markdown",
   "metadata": {},
   "source": [
    "Below, we set up the aggregator as we did in the previous tutorial."
   ]
  },
  {
   "cell_type": "code",
   "execution_count": 8,
   "metadata": {},
   "outputs": [
    {
     "name": "stdout",
     "output_type": "stream",
     "text": [
      "\n",
      "Phases were found in these directories:\n",
      "\n",
      "/home/jammy/PycharmProjects/PyAuto/autolens_workspace/output/aggregator_sample_beginner/lens_sie__source_sersic__1/pipeline__lens_sie__source_inversion/source__pix_voro_mag__reg_const__mass__with_shear/phase_3__source_inversion/phase_tag__sub_2\n",
      "/home/jammy/PycharmProjects/PyAuto/autolens_workspace/output/aggregator_sample_beginner/lens_sie__source_sersic__1/pipeline__lens_sie__source_inversion/source__pix_voro_mag__reg_const__mass__with_shear/phase_2__source_inversion_initialization/phase_tag__sub_2\n",
      "/home/jammy/PycharmProjects/PyAuto/autolens_workspace/output/aggregator_sample_beginner/lens_sie__source_sersic__1/pipeline__lens_sie__source_inversion/source__pix_voro_mag__reg_const__mass__with_shear/phase_1__source_sersic/phase_tag__sub_2\n",
      "/home/jammy/PycharmProjects/PyAuto/autolens_workspace/output/aggregator_sample_beginner/lens_sie__source_sersic__0/pipeline__lens_sie__source_inversion/source__pix_voro_mag__reg_const__mass__with_shear/phase_3__source_inversion/phase_tag__sub_2\n",
      "/home/jammy/PycharmProjects/PyAuto/autolens_workspace/output/aggregator_sample_beginner/lens_sie__source_sersic__0/pipeline__lens_sie__source_inversion/source__pix_voro_mag__reg_const__mass__with_shear/phase_2__source_inversion_initialization/phase_tag__sub_2\n",
      "/home/jammy/PycharmProjects/PyAuto/autolens_workspace/output/aggregator_sample_beginner/lens_sie__source_sersic__0/pipeline__lens_sie__source_inversion/source__pix_voro_mag__reg_const__mass__with_shear/phase_1__source_sersic/phase_tag__sub_2\n",
      "/home/jammy/PycharmProjects/PyAuto/autolens_workspace/output/aggregator_sample_beginner/lens_sie__source_sersic__2/pipeline__lens_sie__source_inversion/source__pix_voro_mag__reg_const__mass__with_shear/phase_3__source_inversion/phase_tag__sub_2\n",
      "/home/jammy/PycharmProjects/PyAuto/autolens_workspace/output/aggregator_sample_beginner/lens_sie__source_sersic__2/pipeline__lens_sie__source_inversion/source__pix_voro_mag__reg_const__mass__with_shear/phase_2__source_inversion_initialization/phase_tag__sub_2\n",
      "/home/jammy/PycharmProjects/PyAuto/autolens_workspace/output/aggregator_sample_beginner/lens_sie__source_sersic__2/pipeline__lens_sie__source_inversion/source__pix_voro_mag__reg_const__mass__with_shear/phase_1__source_sersic/phase_tag__sub_2\n",
      "\n"
     ]
    }
   ],
   "source": [
    "workspace_path = \"/home/jammy/PycharmProjects/PyAuto/autolens_workspace/\"\n",
    "output_path = workspace_path + \"output\"\n",
    "aggregator_results_path = output_path + \"/aggregator_sample_beginner\"\n",
    "\n",
    "af.conf.instance = af.conf.Config(\n",
    "    config_path=str(workspace_path + \"/config\"), output_path=str(output_path)\n",
    ")\n",
    "\n",
    "aggregator = af.Aggregator(directory=str(aggregator_results_path))"
   ]
  },
  {
   "cell_type": "markdown",
   "metadata": {},
   "source": [
    "Again, we create a list of the MultiNestOutputs of each phase."
   ]
  },
  {
   "cell_type": "code",
   "execution_count": 9,
   "metadata": {},
   "outputs": [],
   "source": [
    "pipeline_name = \"pipeline__lens_sie__source_inversion\"\n",
    "phase_name = \"phase_3__source_inversion\"\n",
    "\n",
    "multi_nest_outputs = aggregator.filter(phase=phase_name).output"
   ]
  },
  {
   "cell_type": "markdown",
   "metadata": {},
   "source": [
    "We can also use the aggregator to load the dataset of every lens our pipeline fitted. This returns the dataset as the \"Imaging\" objects we passed to the pipeline when we ran them."
   ]
  },
  {
   "cell_type": "code",
   "execution_count": 6,
   "metadata": {},
   "outputs": [
    {
     "name": "stdout",
     "output_type": "stream",
     "text": [
      "Datasets:\n",
      "[<autoarray.dataset.imaging.Imaging object at 0x7fc91c771128>, <autoarray.dataset.imaging.Imaging object at 0x7fc91c771160>, <autoarray.dataset.imaging.Imaging object at 0x7fc91c771ac8>] \n",
      "\n",
      "10000\n"
     ]
    }
   ],
   "source": [
    "datasets = aggregator.filter(phase=phase_name).dataset\n",
    "print(\"Datasets:\")\n",
    "print(datasets, \"\\n\")\n",
    "print(datasets[0].image)"
   ]
  },
  {
   "cell_type": "markdown",
   "metadata": {},
   "source": [
    "Lets plot each dataset's subplot."
   ]
  },
  {
   "cell_type": "code",
   "execution_count": null,
   "metadata": {},
   "outputs": [],
   "source": [
    "[aplt.imaging.subplot_imaging(imaging=dataset) for dataset in datasets]"
   ]
  },
  {
   "cell_type": "markdown",
   "metadata": {},
   "source": [
    "We'll also need the masks we used to fit the lenses, which the aggregator also provides."
   ]
  },
  {
   "cell_type": "code",
   "execution_count": null,
   "metadata": {},
   "outputs": [],
   "source": [
    "masks = aggregator.filter(phase=phase_name).mask\n",
    "print(\"Masks:\")\n",
    "print(masks, \"\\n\")"
   ]
  },
  {
   "cell_type": "markdown",
   "metadata": {},
   "source": [
    "Lets plot each dataset's again now with its mask."
   ]
  },
  {
   "cell_type": "code",
   "execution_count": null,
   "metadata": {},
   "outputs": [],
   "source": [
    "[aplt.imaging.subplot_imaging(imaging=dataset, mask=mask) for dataset, mask in zip(datasets, masks)]"
   ]
  },
  {
   "cell_type": "markdown",
   "metadata": {},
   "source": [
    "To reperform the fit of each most-likely lens model we'll need the masked imaging used by that phase."
   ]
  },
  {
   "cell_type": "code",
   "execution_count": null,
   "metadata": {},
   "outputs": [],
   "source": [
    "masked_imagings = [\n",
    "    al.masked.imaging(dataset=dataset, mask=mask)\n",
    "    for dataset, mask in zip(datasets, masks)\n",
    "]"
   ]
  },
  {
   "cell_type": "markdown",
   "metadata": {},
   "source": [
    "Okay, we're good to go! Lets use each most likely instance to create the most-likely tracer, and fit the masked imaging using this tracer for every lens."
   ]
  },
  {
   "cell_type": "code",
   "execution_count": null,
   "metadata": {},
   "outputs": [],
   "source": [
    "most_likely_model_instances = [\n",
    "    out.most_probable_model_instance for out in multi_nest_outputs\n",
    "]\n",
    "\n",
    "most_likely_tracers = [\n",
    "    al.Tracer.from_galaxies(galaxies=instance.galaxies)\n",
    "    for instance in most_likely_model_instances\n",
    "]\n",
    "\n",
    "most_likely_fits = [\n",
    "    al.fit(masked_dataset=masked_imaging, tracer=tracer)\n",
    "    for masked_imaging, tracer in zip(masked_imagings, most_likely_tracers)\n",
    "]\n",
    "\n",
    "[aplt.fit_imaging.subplot_fit_imaging(fit=fit) for fit in most_likely_fits]"
   ]
  },
  {
   "cell_type": "markdown",
   "metadata": {},
   "source": [
    "The benefit of inspecting fits using the aggregator, rather than the files outputs to the hard-disk, is that we can customize the plots using the PyAutoLens plotters."
   ]
  },
  {
   "cell_type": "code",
   "execution_count": null,
   "metadata": {},
   "outputs": [],
   "source": [
    "plotter = aplt.Plotter(\n",
    "    figure=aplt.Figure(figsize=(12, 12)),\n",
    "    labels=aplt.Labels(title=\"Custom Image\", titlesize=24, ysize=24, xsize=24),\n",
    "    ticks=aplt.Ticks(ysize=24, xsize=24),\n",
    "    cmap=aplt.ColorMap(norm=\"log\", norm_max=1.0, norm_min=1.0),\n",
    "    cb=aplt.ColorBar(ticksize=20),\n",
    "    units=aplt.Units(in_kpc=True)\n",
    ")\n",
    "\n",
    "[aplt.fit_imaging.normalized_residual_map(fit=fit, plotter=plotter) for fit in most_likely_fits]"
   ]
  },
  {
   "cell_type": "markdown",
   "metadata": {},
   "source": [
    "Making this plot for a paper? You can output it to hard disk."
   ]
  },
  {
   "cell_type": "code",
   "execution_count": null,
   "metadata": {},
   "outputs": [],
   "source": [
    "plotter = aplt.Plotter(\n",
    "    output=aplt.Output(\n",
    "        path=workspace_path + \"/output/path/of/file/\", filename=\"publication\", format=\"png\"\n",
    "    ),\n",
    ")"
   ]
  }
 ],
 "metadata": {
  "kernelspec": {
   "display_name": "Python 3",
   "language": "python",
   "name": "python3"
  },
  "language_info": {
   "codemirror_mode": {
    "name": "ipython",
    "version": 3
   },
   "file_extension": ".py",
   "mimetype": "text/x-python",
   "name": "python",
   "nbconvert_exporter": "python",
   "pygments_lexer": "ipython3",
   "version": "3.6.9"
  }
 },
 "nbformat": 4,
 "nbformat_minor": 2
}
