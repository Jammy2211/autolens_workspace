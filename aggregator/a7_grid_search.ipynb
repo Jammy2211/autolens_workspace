{
  "cells": [
    {
      "cell_type": "markdown",
      "metadata": {},
      "source": [
        "__Aggregator 4: Grid Search__"
      ]
    },
    {
      "cell_type": "code",
      "metadata": {},
      "source": [
        "from autoconf import conf\n",
        "import autofit as af\n",
        "import autolens as al\n",
        "import autolens.plot as aplt"
      ],
      "outputs": [],
      "execution_count": null
    },
    {
      "cell_type": "markdown",
      "metadata": {},
      "source": [
        "Below, we set up the aggregator as we did in the previous tutorial."
      ]
    },
    {
      "cell_type": "code",
      "metadata": {},
      "source": [
        "workspace_path = \"/Users/Jammy/Code/PyAuto/autolens_workspace\"\n",
        "output_path = f\"{workspace_path}/output\"\n",
        "agg_results_path = f\"{output_path}/aggregator/grid_search\"\n",
        "\n",
        "conf.instance = conf.Config(\n",
        "    config_path=f\"{workspace_path}/config\", output_path=output_path\n",
        ")\n",
        "\n",
        "agg = af.Aggregator(directory=str(agg_results_path))\n",
        "\n",
        "pipeline_name = \"pipeline_subhalo__nfw\"\n",
        "name = \"phase[1]__subhalo_search__source\"\n",
        "\n",
        "agg_grid_search = agg.filter(\n",
        "    agg.phase == name,\n",
        "    agg.pipeline == pipeline_name,\n",
        "    agg.directory.contains(\"mass_sie__source_bulge__0\"),\n",
        ")\n",
        "\n",
        "array = al.agg.grid_search_result_as_array(\n",
        "    aggregator=agg_grid_search, use_log_evidences=True\n",
        ")"
      ],
      "outputs": [],
      "execution_count": null
    },
    {
      "cell_type": "markdown",
      "metadata": {},
      "source": [
        "We are famaliar with filtering by pipeline name and phase name, so lets get the results of the `EllipticalPowerLaw` advanced \n",
        "pipeline."
      ]
    },
    {
      "cell_type": "code",
      "metadata": {},
      "source": [
        "pipeline_name = \"pipeline_mass__power_law\"\n",
        "name = \"phase[1]__lens_power_law__source\"\n",
        "\n",
        "agg_power_law = agg.filter(agg.phase == name, agg.pipeline == pipeline_name)\n",
        "\n",
        "print(\"Pipeline Name Filtered MultiNest Samples:\")\n",
        "print(list(agg_power_law.values(\"samples\")))\n",
        "print(\"Total Samples Objects = \", len(list(agg_power_law.values(\"samples\"))), \"\\n\")"
      ],
      "outputs": [],
      "execution_count": null
    },
    {
      "cell_type": "markdown",
      "metadata": {},
      "source": [
        "This gives 12 results, given that we fitted each of our 3 images 4 times using different pipeline settings.\n",
        "\n",
        "Lets say we want only the fits that used the hyper galaxies functionality and included a shear. To get these results, \n",
        "we require a new filtering method based on the pipeline and phase tags of a given set of results. For this, we can \n",
        "filter based on the full path of a set of results, filtering for results that contain an input string. \n",
        "\n",
        "As usual, filtering creates a new aggregator."
      ]
    },
    {
      "cell_type": "code",
      "metadata": {},
      "source": [
        "\n",
        "# This gives the 6 results with hyper galaxy fitting switch on.\n",
        "agg_power_law_hyper_shear = agg_power_law.filter(\n",
        "    agg_power_law.directory.contains(\"hyper_galaxies\")\n",
        ")\n",
        "\n",
        "# This gives the 3 results from the 6 above that include a shear.\n",
        "agg_power_law_hyper_shear = agg_power_law_hyper_shear.filter(\n",
        "    agg_power_law_hyper_shear.directory.contains(\"with_shear\")\n",
        ")\n"
      ],
      "outputs": [],
      "execution_count": null
    }
  ],
  "metadata": {
    "anaconda-cloud": {},
    "kernelspec": {
      "display_name": "Python 3",
      "language": "python",
      "name": "python3"
    },
    "language_info": {
      "codemirror_mode": {
        "name": "ipython",
        "version": 3
      },
      "file_extension": ".py",
      "mimetype": "text/x-python",
      "name": "python",
      "nbconvert_exporter": "python",
      "pygments_lexer": "ipython3",
      "version": "3.6.1"
    }
  },
  "nbformat": 4,
  "nbformat_minor": 1
}