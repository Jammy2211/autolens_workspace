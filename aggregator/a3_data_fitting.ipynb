{
  "cells": [
    {
      "cell_type": "markdown",
      "metadata": {},
      "source": [
        "__Aggregator 3: Data Fitting__\n",
        "\n",
        "In this tutorial, we use the aggregator to load models and data from a non-linear search and use them to reperform\n",
        "fits to the data.\n",
        "\n",
        "It is here the use of generators is absolutely essential. We are going to manipulating datasets which use a lot of\n",
        "memory."
      ]
    },
    {
      "cell_type": "code",
      "metadata": {},
      "source": [
        "import autofit as af\n",
        "import autolens as al\n",
        "import autolens.plot as aplt"
      ],
      "outputs": [],
      "execution_count": null
    },
    {
      "cell_type": "markdown",
      "metadata": {},
      "source": [
        "Below, we set up the aggregator as we did in the previous tutorial."
      ]
    },
    {
      "cell_type": "code",
      "metadata": {},
      "source": [
        "workspace_path = \"/home/jammy/PycharmProjects/PyAuto/autolens_workspace/\"\n",
        "output_path = workspace_path + \"output\"\n",
        "agg_results_path = output_path + \"/aggregator_sample_beginner\"\n",
        "\n",
        "af.conf.instance = af.conf.Config(\n",
        "    config_path=str(workspace_path + \"/config\"), output_path=str(output_path)\n",
        ")\n",
        "\n",
        "agg = af.Aggregator(directory=str(agg_results_path))"
      ],
      "outputs": [],
      "execution_count": null
    },
    {
      "cell_type": "markdown",
      "metadata": {},
      "source": [
        "Again, we create a list of the MultiNestOutputs of each phase."
      ]
    },
    {
      "cell_type": "code",
      "metadata": {},
      "source": [
        "pipeline_name = \"pipeline__lens_sie__source_inversion\"\n",
        "phase_name = \"phase_3__source_inversion\"\n",
        "agg_phase_3 = agg.filter(phase=phase_name)\n",
        "outputs = agg_phase_3.output"
      ],
      "outputs": [],
      "execution_count": null
    },
    {
      "cell_type": "markdown",
      "metadata": {},
      "source": [
        "We can also use the aggregator to load the dataset of every lens our pipeline fitted. This returns the dataset as \n",
        "the \"Imaging\" objects we passed to the pipeline when we ran them."
      ]
    },
    {
      "cell_type": "code",
      "metadata": {},
      "source": [
        "datasets = agg_phase_3.dataset\n",
        "\n",
        "print(\"Datasets:\")\n",
        "print(datasets, \"\\n\")\n",
        "print(datasets[0].image)"
      ],
      "outputs": [],
      "execution_count": null
    },
    {
      "cell_type": "markdown",
      "metadata": {},
      "source": [
        "However, as we have discussed, this is a bad idea - it ill cripple our memory use. Instead, we should create a dataset\n",
        "generator."
      ]
    },
    {
      "cell_type": "code",
      "metadata": {},
      "source": [
        "def make_dataset_generator(agg_obj):\n",
        "    return agg_obj.dataset\n",
        "\n",
        "dataset_gen = agg_phase_3.map(func=make_dataset_generator)\n",
        "\n",
        "for dataset in dataset_gen:\n",
        "\n",
        "    aplt.Imaging.subplot_imaging(imaging=dataset)"
      ],
      "outputs": [],
      "execution_count": null
    },
    {
      "cell_type": "markdown",
      "metadata": {},
      "source": [
        "The name and metadata of the dataset are also availble, which will help us to label the lenses on our plots or \n",
        "inspect our results in terms of measurements not part of our lens modeling.\n",
        "\"\"\"\n",
        "\n",
        "print(\"Dataset Names:\")\n",
        "dataset_gen = agg_phase_3.map(func=make_dataset_generator)\n",
        "print([dataset.name for dataset in dataset_gen])\n",
        "print(\"Dataset Metadatas:\")\n",
        "dataset_gen = agg_phase_3.map(func=make_dataset_generator)\n",
        "print([dataset.metadata for dataset in dataset_gen])"
      ]
    },
    {
      "cell_type": "markdown",
      "metadata": {},
      "source": [
        "We'll also need the masks we used to fit the lenses, which the aggregator also provides."
      ]
    },
    {
      "cell_type": "code",
      "metadata": {},
      "source": [
        "masks = agg_phase_3.mask\n",
        "print(\"Masks:\")\n",
        "print(masks, \"\\n\")"
      ],
      "outputs": [],
      "execution_count": null
    },
    {
      "cell_type": "markdown",
      "metadata": {},
      "source": [
        "Lets plot each dataset again now with its mask, using generators."
      ]
    },
    {
      "cell_type": "code",
      "metadata": {},
      "source": [
        "def make_mask_generator(agg_obj):\n",
        "    return agg_obj.mask\n",
        "\n",
        "dataset_gen = agg_phase_3.map(func=make_dataset_generator)\n",
        "mask_gen = agg_phase_3.map(func=make_mask_generator)\n",
        "\n",
        "for dataset, mask in zip(dataset_gen, mask_gen):\n",
        "    aplt.Imaging.subplot_imaging(imaging=dataset, mask=mask)"
      ],
      "outputs": [],
      "execution_count": null
    },
    {
      "cell_type": "markdown",
      "metadata": {},
      "source": [
        "As we saw for Tracer's in the last tutorial, PyAutoLens's aggregator module provides shortcuts for making the dataset\n",
        "generator and mask generator."
      ]
    },
    {
      "cell_type": "code",
      "metadata": {},
      "source": [
        "dataset_gen = al.agg.Dataset(aggregator=agg_phase_3)\n",
        "mask_gen = al.agg.Mask(aggregator=agg_phase_3)\n",
        "\n",
        "for dataset, mask in zip(dataset_gen, mask_gen):\n",
        "    aplt.Imaging.subplot_imaging(imaging=dataset, mask=mask)"
      ],
      "outputs": [],
      "execution_count": null
    },
    {
      "cell_type": "markdown",
      "metadata": {},
      "source": [
        "To reperform the fit of each most-likely lens model we can use the following generator."
      ]
    },
    {
      "cell_type": "code",
      "metadata": {},
      "source": [
        "def make_fit_generator(agg_obj):\n",
        "\n",
        "    output = agg_obj.output\n",
        "    dataset = agg_obj.dataset\n",
        "    mask = agg_obj.mask\n",
        "\n",
        "    masked_imaging = al.MaskedImaging(imaging=dataset, mask=mask)\n",
        "\n",
        "    tracer = al.Tracer.from_galaxies(galaxies=output.most_likely_instance.galaxies)\n",
        "\n",
        "    return al.FitImaging(masked_imaging=masked_imaging, tracer=tracer)\n",
        "\n",
        "fit_gen = agg_phase_3.map(func=make_fit_generator)\n",
        "\n",
        "for fit in fit_gen:\n",
        "\n",
        "    aplt.FitImaging.subplot_fit_imaging(fit=fit)"
      ],
      "outputs": [],
      "execution_count": null
    },
    {
      "cell_type": "markdown",
      "metadata": {},
      "source": [
        "There's a problem though - what if our MaskedImaging was made with a custom phase input? For example, we may have used\n",
        "the option \"inversion_uses_border\" in our phase. The default input of this in MaskedImaging is False, so the generator\n",
        "above would have set up this object incorrect. Thats bad!\n",
        "\n",
        "The output has a meta_dataset attribute containing all the information on how the MaskedImaging was created for the\n",
        "actualy phase."
      ]
    },
    {
      "cell_type": "code",
      "metadata": {},
      "source": [
        "def make_fit_generator(agg_obj):\n",
        "\n",
        "    output = agg_obj.output\n",
        "    dataset = agg_obj.dataset\n",
        "    mask = agg_obj.mask\n",
        "    meta_dataset = agg_obj.meta_dataset\n",
        "\n",
        "    masked_imaging = al.MaskedImaging(\n",
        "        imaging=dataset,\n",
        "        mask=mask,\n",
        "        psf_shape_2d=meta_dataset.psf_shape_2d,\n",
        "        pixel_scale_interpolation_grid=meta_dataset.pixel_scale_interpolation_grid,\n",
        "        inversion_pixel_limit=meta_dataset.inversion_pixel_limit,\n",
        "        inversion_uses_border=meta_dataset.inversion_uses_border,\n",
        "        positions_threshold=meta_dataset.positions_threshold)\n",
        "\n",
        "    tracer = al.Tracer.from_galaxies(galaxies=output.most_likely_instance.galaxies)\n",
        "\n",
        "    return al.FitImaging(masked_imaging=masked_imaging, tracer=tracer)\n",
        "\n",
        "fit_gen = agg_phase_3.map(func=make_fit_generator)\n",
        "\n",
        "for fit in fit_gen:\n",
        "    aplt.FitImaging.subplot_fit_imaging(fit=fit)"
      ],
      "outputs": [],
      "execution_count": null
    },
    {
      "cell_type": "markdown",
      "metadata": {},
      "source": [
        "Thats a lot of input parameters! The good news is this means in the aggregator we can customize exactly how the \n",
        "MaskedImaging is set up - we could check to see what happens if we switch the inversion border off, for example. The \n",
        "bad news is this requires a lot of lines of code, which is prone to typos and errors. \n",
        "\n",
        "If you are writing customized generator functions, the PyAutoLens aggregator module also provides convenience methods\n",
        "for setting up objects *within* a generator. Below, we make the MaskedImaging and Tracer using these methods, which\n",
        "perform the same functions as the generator above."
      ]
    },
    {
      "cell_type": "code",
      "metadata": {},
      "source": [
        "def plot_fit(agg_obj):\n",
        "\n",
        "    masked_imaging = al.agg.masked_imaging_from_agg_obj(agg_obj=agg_obj)\n",
        "\n",
        "    tracer = al.agg.tracer_from_agg_obj(agg_obj=agg_obj)\n",
        "\n",
        "    return al.FitImaging(masked_imaging=masked_imaging, tracer=tracer)\n",
        "\n",
        "fit_gen = agg_phase_3.map(func=make_fit_generator)\n",
        "\n",
        "for fit in fit_gen:\n",
        "    aplt.FitImaging.subplot_fit_imaging(fit=fit)"
      ],
      "outputs": [],
      "execution_count": null
    },
    {
      "cell_type": "markdown",
      "metadata": {},
      "source": [
        "Of course, we also provide a convenience method to directly make the FitImaging generator!"
      ]
    },
    {
      "cell_type": "code",
      "metadata": {},
      "source": [
        "fit_gen = al.agg.FitImaging(aggregator=agg_phase_3)\n",
        "\n",
        "for fit in fit_gen:\n",
        "    aplt.FitImaging.subplot_fit_imaging(fit=fit)"
      ],
      "outputs": [],
      "execution_count": null
    },
    {
      "cell_type": "markdown",
      "metadata": {},
      "source": [
        "The benefit of inspecting fits using the aggregator, rather than the files outputs to the hard-disk, is that we can \n",
        "customize the plots using the PyAutoLens plotters.\n",
        "\n",
        "Below, we create a new function to apply as a generator to do this. However, we use a convenience method available \n",
        "in the PyAutoLens aggregator package to set up the fit."
      ]
    },
    {
      "cell_type": "code",
      "metadata": {},
      "source": [
        "fit_gen = al.agg.FitImaging(aggregator=agg_phase_3)\n",
        "\n",
        "for fit in fit_gen:\n",
        "\n",
        "    plotter = aplt.Plotter(\n",
        "        figure=aplt.Figure(figsize=(12, 12)),\n",
        "        labels=aplt.Labels(title=\"Custom Image\", titlesize=24, ysize=24, xsize=24),\n",
        "        ticks=aplt.Ticks(ysize=24, xsize=24),\n",
        "        cmap=aplt.ColorMap(norm=\"log\", norm_max=1.0, norm_min=1.0),\n",
        "        cb=aplt.ColorBar(ticksize=20),\n",
        "        units=aplt.Units(in_kpc=True),\n",
        "    )\n",
        "\n",
        "    aplt.FitImaging.normalized_residual_map(fit=fit, plotter=plotter)"
      ],
      "outputs": [],
      "execution_count": null
    },
    {
      "cell_type": "markdown",
      "metadata": {},
      "source": [
        "Making this plot for a paper? You can output it to hard disk."
      ]
    },
    {
      "cell_type": "code",
      "metadata": {},
      "source": [
        "fit_gen = al.agg.FitImaging(aggregator=agg_phase_3)\n",
        "\n",
        "for fit in fit_gen:\n",
        "\n",
        "    plotter = aplt.Plotter(\n",
        "        output=aplt.Output(\n",
        "            path=workspace_path + \"/output/path/of/file/\",\n",
        "            filename=\"publication\",\n",
        "            format=\"png\",\n",
        "        )\n",
        "    )\n",
        "\n",
        "    aplt.FitImaging.normalized_residual_map(fit=fit, plotter=plotter)"
      ],
      "outputs": [],
      "execution_count": null
    }
  ],
  "metadata": {
    "anaconda-cloud": {},
    "kernelspec": {
      "display_name": "Python 3",
      "language": "python",
      "name": "python3"
    },
    "language_info": {
      "codemirror_mode": {
        "name": "ipython",
        "version": 3
      },
      "file_extension": ".py",
      "mimetype": "text/x-python",
      "name": "python",
      "nbconvert_exporter": "python",
      "pygments_lexer": "ipython3",
      "version": "3.6.1"
    }
  },
  "nbformat": 4,
  "nbformat_minor": 1
}