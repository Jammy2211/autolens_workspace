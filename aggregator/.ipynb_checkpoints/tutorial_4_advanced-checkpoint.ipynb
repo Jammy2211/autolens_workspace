{
 "cells": [
  {
   "cell_type": "markdown",
   "metadata": {},
   "source": [
    "__Advanced__\n",
    "\n",
    "The previous tutorials used a beginner pipeline's results, which were all distributed in one folder for the pipeline. If you're used to using advanced pipelines and runners you'll know the path structure of the output gets a bit more complicated. \n",
    "\n",
    "If we only run one advanced pipeline, this isn't too tricky to deal with. However, in '/autolens_workspace/aggregator/setup/advanced_runner.py' we fitted our 3 images not only with these 3 pipeline:\n",
    "\n",
    "'autolens_workspace/pipelines/advanced/no_lens_light/source/parametric/lens_sie__source_sersic.py'\n",
    "'autolens_workspace/pipelines/advanced/no_lens_light/source/inversion/from_parametric/lens_sie__source_inversion.py'\n",
    "'autolens_workspace/pipelines/advanced/no_lens_light/mass/power_law/lens_power_law__source_inversion.py'\n",
    "\n",
    "But 4 separate times, with the following variants:\n",
    "\n",
    "- With the GeneralSetup hyper_galaxies=False and with no_shear=False.\n",
    "- With the GeneralSetup hyper_galaxies=True and with no_shear=False.\n",
    "- With the GeneralSetup hyper_galaxies=False and with no_shear=True.\n",
    "- With the GeneralSetup hyper_galaxies=True and with no_shear=True.\n",
    "\n",
    "The results of these fits are in the '/output/aggregator_sample_advanced' folder. As you can see, the pipeline tagging has lead to a lot of different results depending on the setup of the pipeline. In this tutorial, we'll learn how to use the aggregator to filter through all these different variants!"
   ]
  },
  {
   "cell_type": "code",
   "execution_count": null,
   "metadata": {},
   "outputs": [],
   "source": [
    "import os\n",
    "\n",
    "import autofit as af\n",
    "import autolens as al\n",
    "import autoarray.plot as aplt"
   ]
  },
  {
   "cell_type": "markdown",
   "metadata": {},
   "source": [
    "We begin as normal, pointing the aggregator to the output path of out results 'autolens_workspace/output/aggregator_sample_advanced'."
   ]
  },
  {
   "cell_type": "code",
   "execution_count": null,
   "metadata": {},
   "outputs": [],
   "source": [
    "workspace_path = Path(__file__).parent.parent\n",
    "output_path = workspace_path / \"output\"\n",
    "aggregator_results_path = output_path / \"aggregator_sample_advanced\"\n",
    "\n",
    "af.conf.instance = af.conf.Config(\n",
    "    config_path=str(workspace_path / \"config\"), output_path=str(aggregator_results_path)\n",
    ")\n",
    "\n",
    "aggregator = af.Aggregator(directory=str(aggregator_results_path))"
   ]
  },
  {
   "cell_type": "markdown",
   "metadata": {},
   "source": []
  },
  {
   "cell_type": "code",
   "execution_count": null,
   "metadata": {},
   "outputs": [],
   "source": []
  },
  {
   "cell_type": "markdown",
   "metadata": {},
   "source": []
  },
  {
   "cell_type": "code",
   "execution_count": null,
   "metadata": {},
   "outputs": [],
   "source": []
  },
  {
   "cell_type": "code",
   "execution_count": null,
   "metadata": {},
   "outputs": [],
   "source": []
  },
  {
   "cell_type": "code",
   "execution_count": null,
   "metadata": {},
   "outputs": [],
   "source": []
  }
 ],
 "metadata": {
  "kernelspec": {
   "display_name": "Python 3",
   "language": "python",
   "name": "python3"
  },
  "language_info": {
   "codemirror_mode": {
    "name": "ipython",
    "version": 3
   },
   "file_extension": ".py",
   "mimetype": "text/x-python",
   "name": "python",
   "nbconvert_exporter": "python",
   "pygments_lexer": "ipython3",
   "version": "3.6.9"
  }
 },
 "nbformat": 4,
 "nbformat_minor": 2
}
