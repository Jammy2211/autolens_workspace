{
  "cells": [
    {
      "cell_type": "markdown",
      "metadata": {},
      "source": [
        "__Aggregator 3: Data Fitting__\n",
        "\n",
        "In this tutorial, we use the aggregator to load models and data from a `NonLinearSearch` and use them to reperform\n",
        "fits to the data.\n",
        "\n",
        "It is here the use of generators is absolutely essential. We are going to manipulating datasets which use a lot of\n",
        "memory."
      ]
    },
    {
      "cell_type": "code",
      "metadata": {},
      "source": [
        "from autoconf import conf\n",
        "import autofit as af\n",
        "import autolens as al\n",
        "import autolens.plot as aplt"
      ],
      "outputs": [],
      "execution_count": null
    },
    {
      "cell_type": "markdown",
      "metadata": {},
      "source": [
        "Below, we set up the aggregator as we did in the previous tutorial."
      ]
    },
    {
      "cell_type": "code",
      "metadata": {},
      "source": [
        "workspace_path = \"/Users/Jammy/Code/PyAuto/autolens_workspace\"\n",
        "output_path = f\"{workspace_path}/output\"\n",
        "agg_results_path = f\"{output_path}/aggregator\"\n",
        "\n",
        "conf.instance = conf.Config(\n",
        "    config_path=f\"{workspace_path}/config\", output_path=output_path\n",
        ")\n",
        "\n",
        "agg = af.Aggregator(directory=str(agg_results_path))"
      ],
      "outputs": [],
      "execution_count": null
    },
    {
      "cell_type": "markdown",
      "metadata": {},
      "source": [
        "Again, we create a list of the Samples of each phase."
      ]
    },
    {
      "cell_type": "code",
      "metadata": {},
      "source": [
        "name = \"phase__aggregator\"\n",
        "agg_filter = agg.filter(agg.phase == name)"
      ],
      "outputs": [],
      "execution_count": null
    },
    {
      "cell_type": "markdown",
      "metadata": {},
      "source": [
        "We can also use the aggregator to load the dataset of every lens our `Phase` fitted. This generator returns the \n",
        "dataset as the `Imaging` objects we passed to the phase when we ran them."
      ]
    },
    {
      "cell_type": "code",
      "metadata": {},
      "source": [
        "dataset_gen = agg_filter.values(\"dataset\")\n",
        "\n",
        "print(\"Datasets:\")\n",
        "print(dataset_gen, \"\\n\")\n",
        "print(list(dataset_gen)[0].image)\n",
        "\n",
        "for dataset in agg_filter.values(\"dataset\"):\n",
        "\n",
        "    aplt.Imaging.subplot_imaging(imaging=dataset)"
      ],
      "outputs": [],
      "execution_count": null
    },
    {
      "cell_type": "markdown",
      "metadata": {},
      "source": [
        "The name of the dataset we assigned when we ran the phase is also available, which helps us to label the lenses \n",
        "on plots."
      ]
    },
    {
      "cell_type": "code",
      "metadata": {},
      "source": [
        "print(\"Dataset Names:\")\n",
        "dataset_gen = agg_filter.values(\"dataset\")\n",
        "print([dataset.name for dataset in dataset_gen])"
      ],
      "outputs": [],
      "execution_count": null
    },
    {
      "cell_type": "markdown",
      "metadata": {},
      "source": [
        "The info dictionary we passed is also available."
      ]
    },
    {
      "cell_type": "code",
      "metadata": {},
      "source": [
        "print(\"Info:\")\n",
        "info_gen = agg_filter.values(\"info\")\n",
        "print([info for info in info_gen])"
      ],
      "outputs": [],
      "execution_count": null
    },
    {
      "cell_type": "markdown",
      "metadata": {},
      "source": [
        "we'll also need the masks we used to fit the lenses, which the aggregator also provides."
      ]
    },
    {
      "cell_type": "code",
      "metadata": {},
      "source": [
        "mask_gen = agg_filter.values(\"mask\")\n",
        "print(\"Masks:\")\n",
        "print(list(mask_gen), \"\\n\")"
      ],
      "outputs": [],
      "execution_count": null
    },
    {
      "cell_type": "markdown",
      "metadata": {},
      "source": [
        "Lets plot each dataset again now with its mask, using generators."
      ]
    },
    {
      "cell_type": "code",
      "metadata": {},
      "source": [
        "\n",
        "dataset_gen = agg_filter.values(\"dataset\")\n",
        "mask_gen = agg_filter.values(\"mask\")\n",
        "\n",
        "for dataset, mask in zip(dataset_gen, mask_gen):\n",
        "    aplt.Imaging.subplot_imaging(imaging=dataset, mask=mask)"
      ],
      "outputs": [],
      "execution_count": null
    },
    {
      "cell_type": "markdown",
      "metadata": {},
      "source": [
        "To reperform the fit of each maximum log likelihood lens model we can use the following generator."
      ]
    },
    {
      "cell_type": "code",
      "metadata": {},
      "source": [
        "def make_fit_generator(agg_obj):\n",
        "\n",
        "    output = agg_obj.samples\n",
        "    dataset = agg_obj.dataset\n",
        "    mask = agg_obj.mask\n",
        "\n",
        "    masked_imaging = al.MaskedImaging(imaging=dataset, mask=mask)\n",
        "\n",
        "    tracer = al.Tracer.from_galaxies(\n",
        "        galaxies=output.max_log_likelihood_instance.galaxies\n",
        "    )\n",
        "\n",
        "    return al.FitImaging(masked_imaging=masked_imaging, tracer=tracer)\n",
        "\n",
        "\n",
        "fit_gen = agg_filter.map(func=make_fit_generator)\n",
        "\n",
        "for fit in fit_gen:\n",
        "\n",
        "    aplt.FitImaging.subplot_fit_imaging(fit=fit)"
      ],
      "outputs": [],
      "execution_count": null
    },
    {
      "cell_type": "markdown",
      "metadata": {},
      "source": [
        "There`s a problem though, the MaskedImaging object is made with a custom phase input. For example, it receive a \n",
        "`grid_class` defining which grid it uses to fit the data. This isn't included in the generator above. Thats bad!\n",
        "\n",
        "The output has a meta_dataset attribute containing all the information on how the MaskedImaging was created for the\n",
        "actualy phase."
      ]
    },
    {
      "cell_type": "code",
      "metadata": {},
      "source": [
        "def make_fit_generator(agg_obj):\n",
        "\n",
        "    output = agg_obj.samples\n",
        "    dataset = agg_obj.dataset\n",
        "    mask = agg_obj.mask\n",
        "\n",
        "    \"\"\"This corresponds to `SettingsPhaseImaging` used un the runner script.\"\"\"\n",
        "\n",
        "    settings = agg_obj.settings\n",
        "\n",
        "    masked_imaging = al.MaskedImaging(\n",
        "        imaging=dataset, mask=mask, settings=settings.settings_masked_imaging\n",
        "    )\n",
        "\n",
        "    tracer = al.Tracer.from_galaxies(\n",
        "        galaxies=output.max_log_likelihood_instance.galaxies\n",
        "    )\n",
        "\n",
        "    return al.FitImaging(\n",
        "        masked_imaging=masked_imaging,\n",
        "        tracer=tracer,\n",
        "        settings_pixelization=settings.settings_pixelization,\n",
        "        settings_inversion=settings.settings_inversion,\n",
        "    )\n",
        "\n",
        "\n",
        "fit_gen = agg_filter.map(func=make_fit_generator)\n",
        "\n",
        "for fit in fit_gen:\n",
        "    aplt.FitImaging.subplot_fit_imaging(fit=fit)"
      ],
      "outputs": [],
      "execution_count": null
    },
    {
      "cell_type": "markdown",
      "metadata": {},
      "source": [
        "Thats a lot of input parameters! The good news is this means in the aggregator we can customize exactly how the \n",
        "MaskedImaging is set up. The bad news is this requires a lot of lines of code, which is prone to typos and errors. \n",
        "\n",
        "If you are writing customized generator functions, the PyAutoLens aggregator module also provides convenience methods\n",
        "for setting up objects *within* a generator. Below, we make the MaskedImaging and Tracer using these methods, which\n",
        "perform the same functions as the generator above, including the SettingsPhaseImaging."
      ]
    },
    {
      "cell_type": "code",
      "metadata": {},
      "source": [
        "def plot_fit(agg_obj):\n",
        "\n",
        "    masked_imaging = al.agg.masked_imaging_from_agg_obj(agg_obj=agg_obj)\n",
        "\n",
        "    tracer = al.agg.tracer_from_agg_obj(agg_obj=agg_obj)\n",
        "\n",
        "    return al.FitImaging(masked_imaging=masked_imaging, tracer=tracer)\n",
        "\n",
        "\n",
        "fit_gen = agg_filter.map(func=make_fit_generator)\n",
        "\n",
        "for fit in fit_gen:\n",
        "    aplt.FitImaging.subplot_fit_imaging(fit=fit)"
      ],
      "outputs": [],
      "execution_count": null
    },
    {
      "cell_type": "markdown",
      "metadata": {},
      "source": [
        "Of course, we also provide a convenience method to directly make the MaskedImaging and FitImaging generators!"
      ]
    },
    {
      "cell_type": "code",
      "metadata": {},
      "source": [
        "masked_imaging_gen = al.agg.MaskedImaging(aggregator=agg_filter)\n",
        "\n",
        "for masked_imaging in masked_imaging_gen:\n",
        "    print(masked_imaging.name)\n",
        "\n",
        "fit_gen = al.agg.FitImaging(aggregator=agg_filter)\n",
        "\n",
        "for fit in fit_gen:\n",
        "    aplt.FitImaging.subplot_fit_imaging(fit=fit)"
      ],
      "outputs": [],
      "execution_count": null
    },
    {
      "cell_type": "markdown",
      "metadata": {},
      "source": [
        "This convenience method goes one step further. By default, it uses the `SettingsMaskedImaging`, _SettingsPixelization_\n",
        "and `SettingsInversion` used by the analysis. \n",
        "\n",
        "However, we may want to change this. For example, what if I was curious and wanted to see the fit but where I used\n",
        "a `Grid` with a *sub_size* of 4? Or where the `Pixelization` didn`t use a border? You can do this by passing the\n",
        "method a new `Settings` object which overwrites the one used by the analysis."
      ]
    },
    {
      "cell_type": "code",
      "metadata": {},
      "source": [
        "\n",
        "settings_masked_imaging = al.SettingsMaskedImaging(sub_size=4)\n",
        "\n",
        "masked_imaging_gen = al.agg.MaskedImaging(\n",
        "    aggregator=agg_filter, settings_masked_imaging=settings_masked_imaging\n",
        ")\n",
        "\n",
        "settings_pixelization = al.SettingsPixelization(use_border=False)\n",
        "\n",
        "fit_gen = al.agg.FitImaging(\n",
        "    aggregator=agg_filter,\n",
        "    settings_masked_imaging=settings_masked_imaging,\n",
        "    settings_pixelization=settings_pixelization,\n",
        ")\n",
        "\n",
        "for fit in fit_gen:\n",
        "    aplt.FitImaging.subplot_fit_imaging(fit=fit)"
      ],
      "outputs": [],
      "execution_count": null
    },
    {
      "cell_type": "markdown",
      "metadata": {},
      "source": [
        "The benefit of inspecting fits using the aggregator, rather than the files outputs to the hard-disk, is that we can \n",
        "customize the plots using the PyAutoLens plotters.\n",
        "\n",
        "Below, we create a new function to apply as a generator to do this. However, we use a convenience method available \n",
        "in the PyAutoLens aggregator package to set up the fit."
      ]
    },
    {
      "cell_type": "code",
      "metadata": {},
      "source": [
        "fit_gen = al.agg.FitImaging(aggregator=agg_filter)\n",
        "\n",
        "for fit in fit_gen:\n",
        "\n",
        "    plotter = aplt.Plotter(\n",
        "        figure=aplt.Figure(figsize=(12, 12)),\n",
        "        labels=aplt.Labels(title=\"Custom Image\", titlesize=24, ysize=24, xsize=24),\n",
        "        ticks=aplt.Ticks(ysize=24, xsize=24),\n",
        "        cmap=aplt.ColorMap(norm=\"log\", norm_max=1.0, norm_min=1.0),\n",
        "        cb=aplt.ColorBar(ticksize=20),\n",
        "        units=aplt.Units(in_kpc=True),\n",
        "    )\n",
        "\n",
        "    aplt.FitImaging.normalized_residual_map(fit=fit, plotter=plotter)"
      ],
      "outputs": [],
      "execution_count": null
    },
    {
      "cell_type": "markdown",
      "metadata": {},
      "source": [
        "Making this plot for a paper? You can output it to hard disk."
      ]
    },
    {
      "cell_type": "code",
      "metadata": {},
      "source": [
        "fit_gen = al.agg.FitImaging(aggregator=agg_filter)\n",
        "\n",
        "for fit in fit_gen:\n",
        "\n",
        "    plotter = aplt.Plotter(\n",
        "        labels=aplt.Labels(title=\"Hey\"),\n",
        "        output=aplt.Output(\n",
        "            path=f\"{workspace_path}/output/path/of/file/\",\n",
        "            filename=\"publication\",\n",
        "            format=\"png\",\n",
        "        ),\n",
        "    )\n",
        "\n",
        "    aplt.FitImaging.normalized_residual_map(fit=fit, plotter=plotter)\n"
      ],
      "outputs": [],
      "execution_count": null
    }
  ],
  "metadata": {
    "anaconda-cloud": {},
    "kernelspec": {
      "display_name": "Python 3",
      "language": "python",
      "name": "python3"
    },
    "language_info": {
      "codemirror_mode": {
        "name": "ipython",
        "version": 3
      },
      "file_extension": ".py",
      "mimetype": "text/x-python",
      "name": "python",
      "nbconvert_exporter": "python",
      "pygments_lexer": "ipython3",
      "version": "3.6.1"
    }
  },
  "nbformat": 4,
  "nbformat_minor": 1
}