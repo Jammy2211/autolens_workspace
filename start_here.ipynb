{
 "cells": [
  {
   "cell_type": "markdown",
   "metadata": {},
   "source": [
    "PyAutoLens\n",
    "==========\n",
    "\n",
    "**PyAutoLens** is software for analysing strong gravitational lenses, an astrophysical phenomenon where a galaxy\n",
    "appears multiple times because its light is bent by the gravitational field of an intervening foreground lens galaxy.\n",
    "\n",
    "Here is a schematic of a strong gravitational lens:\n",
    "\n",
    "![Schematic of Gravitational Lensing](https://raw.githubusercontent.com/Jammy2211/PyAutoLens/main/docs/overview/images/overview_1/schematic.jpg)\n",
    "**Credit: F. Courbin, S. G. Djorgovski, G. Meylan, et al., Caltech / EPFL / WMKO**\n",
    "https://www.astro.caltech.edu/~george/qsolens/\n",
    "\n",
    "This notebook gives an overview of **PyAutoLens**'s features and API.\n",
    "\n",
    "__Imports__\n",
    "\n",
    "Lets first import autolens, its plotting module and the other libraries we'll need.\n",
    "\n",
    "You'll see these imports in the majority of workspace examples."
   ]
  },
  {
   "cell_type": "code",
   "metadata": {},
   "source": [
    "%matplotlib inline\n",
    "\n",
    "import matplotlib.pyplot as plt\n",
    "from os import path\n",
    "\n",
    "import autolens as al\n",
    "import autolens.plot as aplt"
   ],
   "outputs": [],
   "execution_count": null
  },
  {
   "cell_type": "markdown",
   "metadata": {},
   "source": [
    "Lets illustrate a simple gravitational lensing calculation, creating an an image of a lensed galaxy using a \n",
    "light profile and mass profile.\n",
    "\n",
    "__Grid__\n",
    "\n",
    "The emission of light from a source galaxy, which is gravitationally lensed around the lens galaxy, is described \n",
    "using the `Grid2D` data structure, which is two-dimensional Cartesian grids of (y,x) coordinates.\n",
    "\n",
    "We make and plot a uniform Cartesian grid:"
   ]
  },
  {
   "cell_type": "code",
   "metadata": {},
   "source": [
    "grid = al.Grid2D.uniform(\n",
    "    shape_native=(150, 150),  # The [pixels x pixels] shape of the grid in 2D.\n",
    "    pixel_scales=0.05,  # The pixel-scale describes the conversion from pixel units to arc-seconds.\n",
    ")\n",
    "\n",
    "grid_plotter = aplt.Grid2DPlotter(grid=grid)\n",
    "grid_plotter.figure_2d()"
   ],
   "outputs": [],
   "execution_count": null
  },
  {
   "cell_type": "markdown",
   "metadata": {},
   "source": [
    "__Light Profiles__\n",
    "\n",
    "Our aim is to create an image of the source galaxy after its light has been deflected by the mass of the foreground\n",
    "lens galaxy. We therefore need to ray-trace the `Grid2D`'s coordinates from the 'image-plane' to the 'source-plane'.\n",
    "\n",
    "This uses analytic functions representing a galaxy's light and mass distributions, referred to as `LightProfile` and\n",
    "`MassProfile` objects.\n",
    "\n",
    "The most common light profile in Astronomy is the elliptical Sersic, which we create an instance of below:"
   ]
  },
  {
   "cell_type": "code",
   "metadata": {},
   "source": [
    "sersic_light_profile = al.lp.Sersic(\n",
    "    centre=(0.0, 0.0),  # The light profile centre [units of arc-seconds].\n",
    "    ell_comps=(\n",
    "        0.2,\n",
    "        0.1,\n",
    "    ),  # The light profile elliptical components [can be converted to axis-ratio and position angle].\n",
    "    intensity=0.005,  # The overall intensity normalisation [units arbitrary and are matched to the data].\n",
    "    effective_radius=2.0,  # The effective radius containing half the profile's total luminosity [units of arc-seconds].\n",
    "    sersic_index=4.0,  # Describes the profile's shape [higher value -> more concentrated profile].\n",
    ")"
   ],
   "outputs": [],
   "execution_count": null
  },
  {
   "cell_type": "markdown",
   "metadata": {},
   "source": [
    "By passing the light profile the `grid`, we evaluate the light emitted at every (y,x) coordinate and therefore create \n",
    "an image of the Sersic light profile."
   ]
  },
  {
   "cell_type": "code",
   "metadata": {},
   "source": [
    "image = sersic_light_profile.image_2d_from(grid=grid)\n",
    "\n",
    "plt.imshow(image.native)  # Dont worry about the use of .native for now."
   ],
   "outputs": [],
   "execution_count": null
  },
  {
   "cell_type": "markdown",
   "metadata": {},
   "source": [
    "__Plotting__\n",
    "\n",
    "The **PyAutoLens** in-built plot module provides methods for plotting objects and their properties, like the image of\n",
    "a light profile we just created.\n",
    "\n",
    "By using a `LightProfilePlotter` to plot the light profile's image, the figured is improved. \n",
    "\n",
    "Its axis units are scaled to arc-seconds, a color-bar is added, its given a descriptive labels, etc.\n",
    "\n",
    "The plot module is highly customizable and designed to make it straight forward to create clean and informative figures\n",
    "for fits to large datasets."
   ]
  },
  {
   "cell_type": "code",
   "metadata": {},
   "source": [
    "light_profile_plotter = aplt.LightProfilePlotter(\n",
    "    light_profile=sersic_light_profile, grid=grid\n",
    ")\n",
    "light_profile_plotter.figures_2d(image=True)"
   ],
   "outputs": [],
   "execution_count": null
  },
  {
   "cell_type": "markdown",
   "metadata": {},
   "source": [
    "__Mass Profiles__\n",
    "\n",
    "PyAutoLens uses MassProfile objects to represent a galaxy’s mass distribution and perform ray-tracing calculations.\n",
    "\n",
    "Below we create an elliptical isothermal MassProfile and compute its deflection angles on our Cartesian grid, where \n",
    "the deflection angles describe how the lens galaxy’s mass bends the source’s light:"
   ]
  },
  {
   "cell_type": "code",
   "metadata": {},
   "source": [
    "isothermal_mass_profile = al.mp.Isothermal(\n",
    "    centre=(0.0, 0.0),  # The mass profile centre [units of arc-seconds].\n",
    "    ell_comps=(\n",
    "        0.1,\n",
    "        0.0,\n",
    "    ),  # The mass profile elliptical components [can be converted to axis-ratio and position angle].\n",
    "    einstein_radius=1.6,  # The Einstein radius [units of arc-seconds].\n",
    ")\n",
    "\n",
    "deflections = isothermal_mass_profile.deflections_yx_2d_from(grid=grid)"
   ],
   "outputs": [],
   "execution_count": null
  },
  {
   "cell_type": "markdown",
   "metadata": {},
   "source": [
    "The deflection angles are easily plotted using the **PyAutoLens** plot module.\n",
    "\n",
    "(Many other lensing quantities are also easily plotted, for example the `convergence` and `potential`)."
   ]
  },
  {
   "cell_type": "code",
   "metadata": {},
   "source": [
    "mass_profile_plotter = aplt.MassProfilePlotter(\n",
    "    mass_profile=isothermal_mass_profile, grid=grid\n",
    ")\n",
    "mass_profile_plotter.figures_2d(\n",
    "    deflections_y=True,\n",
    "    deflections_x=True,\n",
    "    # convergence=True,\n",
    "    # potential=True\n",
    ")"
   ],
   "outputs": [],
   "execution_count": null
  },
  {
   "cell_type": "markdown",
   "metadata": {},
   "source": [
    "__Galaxy__\n",
    "\n",
    "A `Galaxy` object is a collection of light profiles at a specific redshift.\n",
    "\n",
    "This object is highly extensible and is what ultimately allows us to fit complex models to strong lens images.\n",
    "\n",
    "Below, we create two galaxies representing the lens and source galaxies shown in the strong lensing diagram above."
   ]
  },
  {
   "cell_type": "code",
   "metadata": {},
   "source": [
    "lens_galaxy = al.Galaxy(\n",
    "    redshift=0.5,\n",
    "    light=sersic_light_profile,  # The foreground lens's light is typically observed in a strong lens.\n",
    "    mass=isothermal_mass_profile,  # Its mass is what causes the strong lensing effect.\n",
    ")\n",
    "\n",
    "source_light_profile = al.lp.Exponential(\n",
    "    centre=(\n",
    "        0.3,\n",
    "        0.2,\n",
    "    ),  # The source galaxy's light is observed, appearing as multiple images around the lens galaxy.\n",
    "    ell_comps=(\n",
    "        0.1,\n",
    "        0.0,\n",
    "    ),  # However, the mass of the source does not impact the strong lensing effect.\n",
    "    intensity=0.1,  # and is not included.\n",
    "    effective_radius=0.5,\n",
    ")\n",
    "\n",
    "source_galaxy = al.Galaxy(redshift=1.0, light=source_light_profile)"
   ],
   "outputs": [],
   "execution_count": null
  },
  {
   "cell_type": "markdown",
   "metadata": {},
   "source": [
    "The `GalaxyPlotter` object plots properties of the lens and source galaxies."
   ]
  },
  {
   "cell_type": "code",
   "metadata": {},
   "source": [
    "lens_galaxy_plotter = aplt.GalaxyPlotter(galaxy=lens_galaxy, grid=grid)\n",
    "lens_galaxy_plotter.figures_2d(image=True, deflections_y=True, deflections_x=True)\n",
    "\n",
    "source_galaxy_plotter = aplt.GalaxyPlotter(galaxy=source_galaxy, grid=grid)\n",
    "source_galaxy_plotter.figures_2d(image=True)"
   ],
   "outputs": [],
   "execution_count": null
  },
  {
   "cell_type": "markdown",
   "metadata": {},
   "source": [
    "One example of the plotter's customizability is the ability to plot the individual light profiles of the galaxy\n",
    "on a subplot."
   ]
  },
  {
   "cell_type": "code",
   "metadata": {},
   "source": [
    "lens_galaxy_plotter.subplot_of_light_profiles(image=True)"
   ],
   "outputs": [],
   "execution_count": null
  },
  {
   "cell_type": "markdown",
   "metadata": {},
   "source": [
    "__Tracer__\n",
    "\n",
    "The `Tracer` object is the most important object in **PyAutoLens**. \n",
    "\n",
    "It is a collection of galaxies at different redshifts (often referred to as planes). \n",
    "\n",
    "It uses these galaxies to perform ray-tracing, using the mass profiles of the galaxies to bend the light of the source\n",
    "galaxy(s) into the multiple images we observe in a strong lens system. \n",
    "\n",
    "This is shown below, where the image of the tracer shows a distinct Einstein ring of the source galaxy."
   ]
  },
  {
   "cell_type": "code",
   "metadata": {},
   "source": [
    "tracer = al.Tracer(galaxies=[lens_galaxy, source_galaxy], cosmology=al.cosmo.Planck15())\n",
    "\n",
    "image = tracer.image_2d_from(grid=grid)\n",
    "\n",
    "tracer_plotter = aplt.TracerPlotter(tracer=tracer, grid=grid)\n",
    "tracer_plotter.figures_2d(image=True)"
   ],
   "outputs": [],
   "execution_count": null
  },
  {
   "cell_type": "markdown",
   "metadata": {},
   "source": [
    "__Units__\n",
    "\n",
    "The units used throughout the strong lensing literature vary, therefore lets quickly describe the units used in\n",
    "**PyAutoLens**.\n",
    "\n",
    "The `Tracer` object and all mass profiles describe their quantities in terms of angles, which are defined in units\n",
    "of arc-seconds. To convert these to physical units (e.g. kiloparsecs), we use the redshift of the lens and source\n",
    "galaxies and an input cosmology. A run through of all normal unit conversions is given in guides in the workspace\n",
    "that are discussed later.\n",
    "\n",
    "The use of angles in arc-seconds has an important property, it means that for a two-plane strong lens system \n",
    "(e.g. a lens galaxy at one redshift and source galaxy at another redshift) lensing calculations are independent of\n",
    "the galaxies' redshifts and the input cosmology. This has a number of benefits, for example it makes it straight\n",
    "forward to compare the lensing properties of different strong lens systems even when the redshifts of the galaxies\n",
    "are unknown.\n",
    "\n",
    "Multi-plane lensing is when there are more than two planes. The tracer fully supports this, if you input 3+ galaxies\n",
    "with different redshifts into the tracer it will use their redshifts and its cosmology to perform multi-plane lensing\n",
    "calculations that depend on them.\n",
    "\n",
    "__Extensibility__\n",
    "\n",
    "All of the objects we've introduced so far are highly extensible, for example a tracer can be made of many galaxies, a \n",
    "galaxy can be made up of any number of light profiles and many galaxy objects can be combined into a galaxies object.\n",
    "\n",
    "Below, wecreate a `Tracer` with 3 galaxies at 3 different redshifts, forming a system with two distinct Einstein\n",
    "rings! The mass distribution of the first galaxy has separate components for its stellar mass and dark matter, where\n",
    "the stellar components use a `LightAndMassProfile` via the `lmp` module."
   ]
  },
  {
   "cell_type": "code",
   "metadata": {},
   "source": [
    "lens_galaxy_0 = al.Galaxy(\n",
    "    redshift=0.5,\n",
    "    bulge=al.lmp.Sersic(\n",
    "        centre=(0.0, 0.0),\n",
    "        ell_comps=(0.0, 0.05),\n",
    "        intensity=0.5,\n",
    "        effective_radius=0.3,\n",
    "        sersic_index=3.5,\n",
    "        mass_to_light_ratio=0.6,\n",
    "    ),\n",
    "    disk=al.lmp.Exponential(\n",
    "        centre=(0.0, 0.0),\n",
    "        ell_comps=(0.0, 0.1),\n",
    "        intensity=1.0,\n",
    "        effective_radius=2.0,\n",
    "        mass_to_light_ratio=0.2,\n",
    "    ),\n",
    "    dark=al.mp.NFWSph(centre=(0.0, 0.0), kappa_s=0.08, scale_radius=30.0),\n",
    ")\n",
    "\n",
    "lens_galaxy_1 = al.Galaxy(\n",
    "    redshift=1.0,\n",
    "    bulge=al.lp.Exponential(\n",
    "        centre=(0.00, 0.00),\n",
    "        ell_comps=(0.05, 0.05),\n",
    "        intensity=1.2,\n",
    "        effective_radius=0.1,\n",
    "    ),\n",
    "    mass=al.mp.Isothermal(\n",
    "        centre=(0.0, 0.0), ell_comps=(0.05, 0.05), einstein_radius=0.6\n",
    "    ),\n",
    ")\n",
    "\n",
    "source_galaxy = al.Galaxy(\n",
    "    redshift=2.0,\n",
    "    bulge=al.lp.Sersic(\n",
    "        centre=(0.0, 0.0),\n",
    "        ell_comps=(0.0, 0.111111),\n",
    "        intensity=0.7,\n",
    "        effective_radius=0.1,\n",
    "        sersic_index=1.5,\n",
    "    ),\n",
    ")\n",
    "\n",
    "tracer = al.Tracer(galaxies=[lens_galaxy_0, lens_galaxy_1, source_galaxy])\n",
    "\n",
    "tracer_plotter = aplt.TracerPlotter(tracer=tracer, grid=grid)\n",
    "tracer_plotter.figures_2d(image=True)"
   ],
   "outputs": [],
   "execution_count": null
  },
  {
   "cell_type": "markdown",
   "metadata": {},
   "source": [
    "__Simulating Data__\n",
    "\n",
    "The strong lens images above are **not** what we would observe if we looked at the sky through a telescope.\n",
    "\n",
    "In reality, images of strong lenses are observed using a telescope and detector, for example a CCD Imaging device \n",
    "attached to the Hubble Space Telescope.\n",
    "\n",
    "To make images that look like realistic Astronomy data, we must account for the effects like how the length of the\n",
    "exposure time change the signal-to-noise, how the optics of the telescope blur the galaxy's light and that\n",
    "there is a background sky which also contributes light to the image and adds noise.\n",
    "\n",
    "The `SimulatorImaging` object simulates this process, creating realistic CCD images of galaxies using the `Imaging`\n",
    "object."
   ]
  },
  {
   "cell_type": "code",
   "metadata": {},
   "source": [
    "simulator = al.SimulatorImaging(\n",
    "    exposure_time=300.0,\n",
    "    background_sky_level=1.0,\n",
    "    psf=al.Kernel2D.from_gaussian(shape_native=(11, 11), sigma=0.1, pixel_scales=0.05),\n",
    "    add_poisson_noise=True,\n",
    ")"
   ],
   "outputs": [],
   "execution_count": null
  },
  {
   "cell_type": "markdown",
   "metadata": {},
   "source": [
    "Once we have a simulator, we can use it to create an imaging dataset which consists of an image, noise-map and \n",
    "Point Spread Function (PSF) by passing it a galaxies and grid.\n",
    "\n",
    "This uses the tracer above to create the image of the galaxy and then add the effects that occur during data\n",
    "acquisition.\n",
    "\n",
    "This data is used below to illustrate model-fitting, so lets simulate a very simple image of a strong lens."
   ]
  },
  {
   "cell_type": "code",
   "metadata": {},
   "source": [
    "lens_galaxy = al.Galaxy(\n",
    "    redshift=0.5,\n",
    "    light=al.lp.Sersic(\n",
    "        centre=(0.0, 0.0),\n",
    "        ell_comps=(\n",
    "            0.2,\n",
    "            0.1,\n",
    "        ),\n",
    "        intensity=0.005,\n",
    "        effective_radius=2.0,\n",
    "        sersic_index=4.0,\n",
    "    ),\n",
    "    mass=al.mp.Isothermal(centre=(0.0, 0.0), ell_comps=(0.1, 0.0), einstein_radius=1.6),\n",
    ")\n",
    "\n",
    "source_galaxy = al.Galaxy(\n",
    "    redshift=1.0,\n",
    "    light=al.lp.Exponential(\n",
    "        centre=(0.3, 0.2), ell_comps=(0.1, 0.0), intensity=0.1, effective_radius=0.5\n",
    "    ),\n",
    ")\n",
    "\n",
    "tracer = al.Tracer(galaxies=[lens_galaxy, source_galaxy], cosmology=al.cosmo.Planck15())\n",
    "\n",
    "dataset = simulator.via_tracer_from(tracer=tracer, grid=grid)"
   ],
   "outputs": [],
   "execution_count": null
  },
  {
   "cell_type": "markdown",
   "metadata": {},
   "source": [
    "__Observed Dataset__\n",
    "\n",
    "We now have an `Imaging` object, which is a realistic representation of the data we observe with a telescope.\n",
    "\n",
    "We use the `ImagingPlotter` to plot the dataset, showing that it contains the observed image, but also other\n",
    "import dataset attributes like the noise-map and PSF."
   ]
  },
  {
   "cell_type": "code",
   "metadata": {},
   "source": [
    "dataset_plotter = aplt.ImagingPlotter(dataset=dataset)\n",
    "dataset_plotter.figures_2d(data=True)"
   ],
   "outputs": [],
   "execution_count": null
  },
  {
   "cell_type": "markdown",
   "metadata": {},
   "source": [
    "If you have come to **PyAutoLens** to perform interferometry, the API above is easily adapted to use \n",
    "a `SimulatorInterferometer` object to simulate an `Interferometer` dataset instead.\n",
    "\n",
    "However, you should finish reading this notebook before moving on to the interferometry examples, to get a full\n",
    "overview of the core **PyAutoLens** API.\n",
    "\n",
    "__Masking__\n",
    "\n",
    "We are about to fit the data with a model, but first must define a mask, which defines the regions of the image that \n",
    "are used to fit the data and which regions are not.\n",
    "\n",
    "We create a `Mask2D` object which is a 3.0\" circle, whereby all pixels within this 3.0\" circle are used in the \n",
    "model-fit and all pixels outside are omitted. \n",
    "\n",
    "Inspection of the dataset above shows that no signal from the strong lens is observed outside of this radius, so \n",
    "this is a sensible mask."
   ]
  },
  {
   "cell_type": "code",
   "metadata": {},
   "source": [
    "mask = al.Mask2D.circular(\n",
    "    shape_native=dataset.shape_native,  # The mask's shape must match the dataset's to be applied to it.\n",
    "    pixel_scales=dataset.pixel_scales,  # It must also have the same pixel scales.\n",
    "    radius=3.0,  # The mask's circular radius [units of arc-seconds].\n",
    ")"
   ],
   "outputs": [],
   "execution_count": null
  },
  {
   "cell_type": "markdown",
   "metadata": {},
   "source": [
    "Combine the imaging dataset with the mask."
   ]
  },
  {
   "cell_type": "code",
   "metadata": {},
   "source": [
    "dataset = dataset.apply_mask(mask=mask)"
   ],
   "outputs": [],
   "execution_count": null
  },
  {
   "cell_type": "markdown",
   "metadata": {},
   "source": [
    "When we plot a masked dataset, the removed regions of the image (e.g. outside the 3.0\") are automatically set to zero\n",
    "and the plot axis automatically zooms in around the mask."
   ]
  },
  {
   "cell_type": "code",
   "metadata": {},
   "source": [
    "dataset_plotter = aplt.ImagingPlotter(dataset=dataset)\n",
    "dataset_plotter.figures_2d(data=True)"
   ],
   "outputs": [],
   "execution_count": null
  },
  {
   "cell_type": "markdown",
   "metadata": {},
   "source": [
    "__Fitting__\n",
    "\n",
    "We are now at the point a scientist would be after observing a strong lens - we have an image of it, have used to a \n",
    "mask to determine where we observe signal from the galaxy, but cannot make any quantitative statements about its \n",
    "mass or source morphology.\n",
    "\n",
    "We therefore must now fit a model to the data. This model is a representation of the lens galaxy's light and mass and\n",
    "source galaxy's light. We seek a way to determine whether a given model provides a good fit to the data.\n",
    "\n",
    "A fit is performing using a `FitImaging` object, which takes a dataset and tracer object as input and determine if \n",
    "the galaxies are a good fit to the data."
   ]
  },
  {
   "cell_type": "code",
   "metadata": {},
   "source": [
    "fit = al.FitImaging(dataset=dataset, tracer=tracer)"
   ],
   "outputs": [],
   "execution_count": null
  },
  {
   "cell_type": "markdown",
   "metadata": {},
   "source": [
    "The fit creates `model_data`, which is the image of the strong lens including effects which change its appearance\n",
    "during data acquisition.\n",
    "\n",
    "For example, by plotting the fit's `model_data` and comparing it to the image of the strong lens obtained via\n",
    "the `TracerPlotter`, we can see the model data has been blurred by the dataset's PSF."
   ]
  },
  {
   "cell_type": "code",
   "metadata": {},
   "source": [
    "tracer_plotter = aplt.TracerPlotter(tracer=fit.tracer, grid=grid)\n",
    "tracer_plotter.figures_2d(image=True)\n",
    "\n",
    "fit_plotter = aplt.FitImagingPlotter(fit=fit)\n",
    "fit_plotter.figures_2d(model_image=True)"
   ],
   "outputs": [],
   "execution_count": null
  },
  {
   "cell_type": "markdown",
   "metadata": {},
   "source": [
    "The fit also creates the following:\n",
    "\n",
    " - The `residual_map`: The `model_image` subtracted from the observed dataset`s `image`.\n",
    " - The `normalized_residual_map`: The `residual_map `divided by the observed dataset's `noise_map`.\n",
    " - The `chi_squared_map`: The `normalized_residual_map` squared.\n",
    "\n",
    "We can plot all 3 of these on a subplot that also includes the data, signal-to-noise map and model data.\n",
    "\n",
    "In this example, the tracer used to simulate the data are used to fit it, thus the fit is good and residuals are minimized."
   ]
  },
  {
   "cell_type": "code",
   "metadata": {},
   "source": [
    "fit_plotter.subplot_fit()"
   ],
   "outputs": [],
   "execution_count": null
  },
  {
   "cell_type": "markdown",
   "metadata": {},
   "source": [
    "The overall quality of the fit is quantified with the `log_likelihood`."
   ]
  },
  {
   "cell_type": "code",
   "metadata": {},
   "source": [
    "print(fit.log_likelihood)"
   ],
   "outputs": [],
   "execution_count": null
  },
  {
   "cell_type": "markdown",
   "metadata": {},
   "source": [
    "If you are familiar with statistical analysis, this quick run-through of the fitting tools will make sense and you\n",
    "will be familiar with concepts like model data, residuals and a likelihood. \n",
    "\n",
    "If you are less familiar with these concepts, I recommend you finish this notebook and then go to the fitting API\n",
    "guide, which explains the concepts in more detail and provides a more thorough overview of the fitting tools.\n",
    "\n",
    "The take home point is that **PyAutoLens**'s API has extensive tools for fitting models to data and visualizing the\n",
    "results, which is what makes it a powerful tool for studying the morphologies of galaxies.\n",
    "\n",
    "__Modeling__\n",
    "\n",
    "The fitting tools above are used to fit a model to the data given an input set of galaxies. Above, we used the true\n",
    "galaxies used to simulate the data to fit the data, but we do not know what this \"truth\" is in the real world and \n",
    "is therefore not something a real scientist can do.\n",
    "\n",
    "Modeling is the processing of taking a dataset and inferring the model that best fits the data, for example\n",
    "the galaxy light and mass profile(s) that best fits the light observed in the data or equivalently the combination\n",
    "of Sersic profile parameters that maximize the likelihood of the fit.\n",
    "\n",
    "Lens modeling uses the probabilistic programming language **PyAutoFit**, an open-source project that allows complex \n",
    "model fitting techniques to be straightforwardly integrated into scientific modeling software. Check it out if you \n",
    "are interested in developing your own software to perform advanced model-fitting:\n",
    "\n",
    "https://github.com/rhayes777/PyAutoFit\n",
    "\n",
    "We import **PyAutoFit** separately to **PyAutoLens**:"
   ]
  },
  {
   "cell_type": "code",
   "metadata": {},
   "source": [
    "import autofit as af"
   ],
   "outputs": [],
   "execution_count": null
  },
  {
   "cell_type": "markdown",
   "metadata": {},
   "source": [
    "We now compose the galaxy model using `af.Model` objects. \n",
    "\n",
    "These behave analogously to the `Galaxy`, `LightProfile` and `MassProfile` objects above, however their parameters \n",
    "are not specified and are instead determined by a fitting procedure.\n",
    "\n",
    "We will fit our galaxy data with a model which has one galaxy where:\n",
    "\n",
    "We will fit our strong lens data with two galaxies:\n",
    "\n",
    "- A lens galaxy with a `Sersic` `LightProfile` representing its light and an `Isothermal` `MassProfile` representing its mass.\n",
    "- A source galaxy with an `Exponential` `LightProfile` representing a disk.\n",
    "\n",
    "The redshifts of the lens (z=0.155) and source(z=0.517) are fixed, but as discussed above their values do not\n",
    "matter for a two-plane lens system because the units of angles in arc-seconds are independent of the redshifts.\n",
    "\n",
    "The light profiles below are linear light profiles, input via the `lp_linear` module. These solve for the intensity of\n",
    "the light profiles via linear algebra, making the modeling more efficient and accurate. They are explained in more\n",
    "detail in other workspace examples, but are a key reason why modeling with **PyAutoLens** performs well and\n",
    "can scale to complex models."
   ]
  },
  {
   "cell_type": "code",
   "metadata": {},
   "source": [
    "galaxy_model = af.Model(\n",
    "    al.Galaxy,\n",
    "    redshift=0.5,\n",
    "    bulge=al.lp_linear.Sersic,\n",
    "    disk=al.lp_linear.Exponential,\n",
    ")\n",
    "\n",
    "lens = af.Model(\n",
    "    al.Galaxy,\n",
    "    redshift=0.155,\n",
    "    bulge=al.lp_linear.Sersic,  # Note the use of `lp_linear` instead of `lp`.\n",
    "    mass=al.mp.Isothermal,  # This uses linear light profiles explained in the modeling `start_here` example.\n",
    ")\n",
    "\n",
    "source = af.Model(al.Galaxy, redshift=0.517, disk=al.lp_linear.Exponential)"
   ],
   "outputs": [],
   "execution_count": null
  },
  {
   "cell_type": "markdown",
   "metadata": {},
   "source": [
    "We combine the lens and source model galaxies above into a `Collection`, which is the model we will fit.\n",
    "\n",
    "Note how we could easily extend this object to compose highly complex models containing many galaxies."
   ]
  },
  {
   "cell_type": "code",
   "metadata": {},
   "source": [
    "model = af.Collection(galaxies=af.Collection(lens=lens, source=source))"
   ],
   "outputs": [],
   "execution_count": null
  },
  {
   "cell_type": "markdown",
   "metadata": {},
   "source": [
    "By printing the `Model`'s we see that each parameters has a prior associated with it, which is used by the\n",
    "model-fitting procedure to fit the model."
   ]
  },
  {
   "cell_type": "code",
   "metadata": {},
   "source": [
    "print(model)"
   ],
   "outputs": [],
   "execution_count": null
  },
  {
   "cell_type": "markdown",
   "metadata": {},
   "source": [
    "The `info` attribute shows the model information in a more readable format:"
   ]
  },
  {
   "cell_type": "code",
   "metadata": {},
   "source": [
    "print(model.info)"
   ],
   "outputs": [],
   "execution_count": null
  },
  {
   "cell_type": "markdown",
   "metadata": {},
   "source": [
    "We now choose the 'non-linear search', which is the fitting method used to determine the light profile parameters that \n",
    "best-fit the data.\n",
    "\n",
    "In this example we use [nautilus](https://nautilus-sampler.readthedocs.io/en/stable/), a nested sampling algorithm \n",
    "that in our experience has proven very effective at galaxy modeling."
   ]
  },
  {
   "cell_type": "code",
   "metadata": {},
   "source": [
    "search = af.Nautilus(name=\"start_here\")"
   ],
   "outputs": [],
   "execution_count": null
  },
  {
   "cell_type": "markdown",
   "metadata": {},
   "source": [
    "To perform the model-fit, we create an `AnalysisImaging` object which contains the `log_likelihood_function` that the\n",
    "non-linear search calls to fit the galaxy model to the data.\n",
    "\n",
    "The `AnalysisImaging` object is expanded on in the modeling `start_here` example, but in brief performs many useful\n",
    "associated with modeling, including outputting results to hard-disk and visualizing the results of the fit."
   ]
  },
  {
   "cell_type": "code",
   "metadata": {},
   "source": [
    "analysis = al.AnalysisImaging(dataset=dataset)"
   ],
   "outputs": [],
   "execution_count": null
  },
  {
   "cell_type": "markdown",
   "metadata": {},
   "source": [
    "To perform the model-fit we pass the model and analysis to the search's fit method. This will output results (e.g.,\n",
    "Nautilus samples, model parameters, visualization) to your computer's storage device.\n",
    "\n",
    "However, the lens modeling of this system takes a minute or so. Therefore, to save time, we have commented out \n",
    "the `fit` function below so you can skip through to the next section of the notebook. Feel free to uncomment the code \n",
    "and run the galaxy modeling yourself!\n",
    "\n",
    "Once a model-fit is running, **PyAutoLens** outputs the results of the search to storage device on-the-fly. This\n",
    "includes galaxy model parameter estimates with errors non-linear samples and the visualization of the best-fit galaxy\n",
    "model inferred by the search so far."
   ]
  },
  {
   "cell_type": "code",
   "metadata": {},
   "source": [
    "# result = search.fit(model=model, analysis=analysis)"
   ],
   "outputs": [],
   "execution_count": null
  },
  {
   "cell_type": "markdown",
   "metadata": {},
   "source": [
    "The animation below shows a slide-show of the lens modeling procedure. Many lens models are fitted to the data over\n",
    "and over, gradually improving the quality of the fit to the data and looking more and more like the observed image.\n",
    "\n",
    "We can see that initial models give a poor fit to the data but gradually improve (increasing the likelihood) as more\n",
    "iterations are performed.\n",
    "\n",
    ".. image:: https://github.com/Jammy2211/auto_files/blob/main/lensmodel.gif?raw=true\n",
    "  :width: 600\n",
    "\n",
    "![Lens Modeling Animation](https://github.com/Jammy2211/auto_files/blob/main/lensmodel.gif?raw=true \"model\")\n",
    "\n",
    "**Credit: Amy Etherington**\n",
    "\n",
    "__Results__\n",
    "\n",
    "The fit returns a `Result` object, which contains the best-fit galaxies and the full posterior information of the \n",
    "non-linear search, including all parameter samples, log likelihood values and tools to compute the errors on the \n",
    "galaxy model.\n",
    "\n",
    "Using results is explained in full in the `guides/results` section of the workspace, but for a quick illustration\n",
    "the commented out code below shows how easy it is to plot the fit and posterior of the model."
   ]
  },
  {
   "cell_type": "code",
   "metadata": {},
   "source": [
    "# fit_plotter = aplt.FitImagingPlotter(fit=result.max_log_likelihood_fit)\n",
    "# fit_plotter.subplot_fit()\n",
    "\n",
    "# plotter = aplt.NestPlotter(samples=result.samples)\n",
    "# plotter.corner_cornerpy()"
   ],
   "outputs": [],
   "execution_count": null
  },
  {
   "cell_type": "markdown",
   "metadata": {},
   "source": [
    "We have now completed the API overview of **PyAutoLens**. This notebook has given a brief introduction to the core\n",
    "API for creating galaxies, simulating data, fitting data and performing galaxy modeling.\n",
    "\n",
    "__New User Guide__\n",
    "\n",
    "Now you have a basic understanding of the **PyAutoLens** API, you should read the new user guide on the readthedocs\n",
    "to begin navigating the different examples in the workspace and learning how to use **PyAutoLens**:\n",
    "\n",
    "https://pyautolens.readthedocs.io/en/latest/overview/overview_2_new_user_guide.html\n",
    "\n",
    "__HowToLens Lectures__\n",
    "\n",
    "For experienced scientists, the run through above will have been a breeze. Concepts surrounding strong lensing were \n",
    "already familiar and the statistical techniques used for fitting and modeling already understood.\n",
    "\n",
    "For those less familiar with these concepts (e.g. undergraduate students, new PhD students or interested members of the \n",
    "public), things may have been less clear and a slower more detailed explanation of each concept would be beneficial.\n",
    "\n",
    "The **HowToLens** Jupyter Notebook lectures are provide exactly this. They are a 3+ chapter guide which thoroughly \n",
    "take you through the core concepts of strong lensing, teach you the principles of the statistical techniques \n",
    "used in modeling and ultimately will allow you to undertake scientific research like a professional astronomer.\n",
    "\n",
    "If this sounds like it suits you, checkout the `autoglens_workspace/notebooks/howtolens` package now, its it\n",
    "recommended you go here before anywhere else!\n",
    "\n",
    "__Features__\n",
    "\n",
    "Here is a brief overview of the advanced features of **PyAutoLens**. \n",
    "\n",
    "Firstly, brief one sentence descriptions of each feature are given, with more detailed descriptions below including \n",
    "links to the relevant workspace examples.\n",
    "\n",
    "**Pixelizations**: Reconstructing the source galaxy on a mesh of pixels, to capture extremely irregular structures like spiral arms.\n",
    "**Point Sources**: Modeling point sources (e.g. quasars) observed in the strong lens imaging data.\n",
    "**Interferometry**: Modeling of interferometer data (e.g. ALMA, LOFAR) directly in the uv-plane.\n",
    "**Multi Gaussian Expansion (MGE)**: Decomposing the lens galaxy into hundreds of Gaussians, for a clean lens subtraction.\n",
    "**Groups**: Modeling group-scale strong lenses with multiple lens galaxies and multiple source galaxies.\n",
    "**Multi-Wavelength**: Simultaneous analysis of imaging and / or interferometer datasets observed at different wavelengths.\n",
    "**Ellipse Fitting**: Fitting ellipses to determine a lens galaxy's ellipticity, position angle and centre.\n",
    "**Shapelets**: Decomposing a galaxy into a set of shapelet orthogonal basis functions, capturing more complex structures than simple light profiles.\n",
    "**Operated Light Profiles**: Assuming a light profile has already been convolved with the PSF, for when the PSF is a significant effect.\n",
    "**Sky Background**: Including the background sky in the model to ensure robust fits to the outskirts of galaxies.\n",
    "\n",
    "\n",
    "__Pixelizations__\n",
    "\n",
    "Pixelizations reconstruct the source galaxy's light on a pixel-grid. Unlike `LightProfile`'s, they are able to\n",
    "reconstruct the light of non-symmetric, irregular and clumpy sources.\n",
    "\n",
    "The image below shows a pixelized source reconstruction of the strong lens SLACS1430+4105, where the source is\n",
    "reconstructed on a Voronoi mesh adapted to the source morphology, revealing it to be a grand-design face on spiral\n",
    "galaxy:\n",
    "\n",
    "![Pixelized Source](https://github.com/Jammy2211/PyAutoLens/blob/main/files/imageaxis.png?raw=true)\n",
    "\n",
    "A complete overview of pixelized source reconstructions can be found\n",
    "at `notebooks/overview/overview_5_pixelizations.ipynb`.\n",
    "\n",
    "Chapter 4 of the **HowToLens** lectures describes pixelizations in detail and teaches users how they can be used to \n",
    "perform lens modeling.\n",
    "\n",
    "\n",
    "__Point Sources__\n",
    "\n",
    "There are many lenses where the background source is not extended but is instead a point-source, for example strongly\n",
    "lensed quasars and supernovae.\n",
    "\n",
    "For these objects, we do not want to model the source using a light profile, which implicitly assumes an extended\n",
    "surface brightness distribution. \n",
    "\n",
    "Instead, we assume that our source is a point source with a centre (y,x), and ray-trace triangles at iteratively\n",
    "higher resolutions to determine the source's exact locations in the image-plane:\n",
    "\n",
    "![Point0](https://raw.githubusercontent.com/Jammy2211/PyAutoLens/main/docs/overview/images/overview_3/point_0.png)\n",
    "\n",
    "![Point1](https://raw.githubusercontent.com/Jammy2211/PyAutoLens/main/docs/overview/images/overview_3/point_1.png)\n",
    "\n",
    "![Point2](https://raw.githubusercontent.com/Jammy2211/PyAutoLens/main/docs/overview/images/overview_3/point_2.png)\n",
    "\n",
    "![Point3](https://raw.githubusercontent.com/Jammy2211/PyAutoLens/main/docs/overview/images/overview_3/point_3.png)\n",
    "\n",
    "![Point4](https://raw.githubusercontent.com/Jammy2211/PyAutoLens/main/docs/overview/images/overview_3/point_4.png)\n",
    "\n",
    "Note that the image positions above include the fifth central image of the strong lens, which is often not seen in \n",
    "strong lens imaging data. It is easy to disable this image in the point source modeling.\n",
    "\n",
    "Checkout the`autolens_workspace/*/point_source` package to get started.\n",
    "\n",
    "\n",
    "__Interferometry__\n",
    "\n",
    "Modeling of interferometer data from submillimeter (e.g. ALMA) and radio (e.g. LOFAR) observatories:\n",
    "\n",
    "![ALMA Image](https://raw.githubusercontent.com/Jammy2211/PyAutoLens/main/paper/almacombined.png)\n",
    "\n",
    "Visibilities data is fitted directly in the uv-plane, circumventing issues that arise when fitting a dirty image\n",
    "such as correlated noise. This uses the non-uniform fast fourier transform algorithm\n",
    "[PyNUFFT](https://github.com/jyhmiinlin/pynufft) to efficiently map the galaxy model images to the uv-plane.\n",
    "\n",
    "Checkout the`autolens_workspace/*/interferometer` package to get started.\n",
    "\n",
    "\n",
    "__Multi Gaussian Expansion (MGE)__\n",
    "\n",
    "An MGE decomposes the light of a galaxy into tens or hundreds of two dimensional Gaussians:\n",
    "\n",
    "![MGE](https://raw.githubusercontent.com/Jammy2211/PyAutoLens/main/docs/overview/images/overview_3/mge.png)\n",
    "\n",
    "In the image above, 30 Gaussians are shown, where their sizes go from below the pixel scale (in order to resolve\n",
    "point emission) to beyond the size of the galaxy (to capture its extended emission).\n",
    "\n",
    "It is an extremely powerful way to model and subtract the light of the foreground lens galaxy in strong lens imaging,\n",
    "and makes it possible to model the stellar mass of the lens galaxy in a way that is tied to its light.\n",
    "\n",
    "Scientific Applications include capturing departures from elliptical symmetry in the light of galaxies, providing a \n",
    "flexible model to deblend the emission of point sources (e.g. quasars) from the emission of their host galaxy and \n",
    "deprojecting the light of a galaxy from 2D to 3D.\n",
    "\n",
    "The following paper gives a detailed overview of MGEs and their applications in strong lensing: https://arxiv.org/abs/2403.16253\n",
    "\n",
    "Checkout `autolens_workspace/notebooks/features/multi_gaussian_expansion.ipynb` to learn how to use an MGE.\n",
    "\n",
    "\n",
    "__Groups__\n",
    "\n",
    "The strong lenses we've discussed so far have just a single lens galaxy responsible for the lensing. Group-scale\n",
    "strong lenses are systems where there two or more  lens galaxies deflecting one or more background sources:\n",
    "\n",
    "![Group](https://raw.githubusercontent.com/Jammy2211/PyAutoLens/main/docs/overview/images/overview_3/group.png)\n",
    "\n",
    "**PyAutoLens** has built in tools for modeling group-scale lenses, with no limit on the number of\n",
    "lens and source galaxies!\n",
    "\n",
    "Overviews of group and analysis are given in `notebooks/overview/overview_9_groups.ipynb`\n",
    "The `autolens_workspace/*/group` package has example scripts for simulating datasets and lens modeling.\n",
    "\n",
    "\n",
    "__Multi-Wavelength__\n",
    "\n",
    "Modeling imaging datasets observed at different wavelengths (e.g. HST F814W and F150W) simultaneously or simultaneously\n",
    "analysing imaging and interferometer data:\n",
    "\n",
    "![g-band](https://raw.githubusercontent.com/Jammy2211/PyAutoLens/main/docs/overview/images/overview_3/g_image.png)\n",
    "\n",
    "![r-band](https://raw.githubusercontent.com/Jammy2211/PyAutoLens/main/docs/overview/images/overview_3/r_image.png)\n",
    "\n",
    "The appearance of the strong changes as a function of wavelength, therefore multi-wavelength analysis means we can learn\n",
    "more about the different components in a galaxy (e.g a redder bulge and bluer disk) or when imaging and interferometer\n",
    "data are combined, we can compare the emission from stars and dust.\n",
    "\n",
    "Checkout the `autolens_workspace/*/multi` package to get started, however combining datasets is a more advanced\n",
    "feature and it is recommended you first get to grips with the core API.\n",
    "\n",
    "\n",
    "__Ellipse Fitting__\n",
    "\n",
    "Ellipse fitting is a technique which fits many ellipses to a galaxy's emission to determine its ellipticity, position\n",
    "angle and centre, without assuming a parametric form for its light (e.g. like a Seisc profile):\n",
    "\n",
    "![ellipse](https://raw.githubusercontent.com/Jammy2211/PyAutoLens/main/docs/overview/images/overview_3/ellipse.png)\n",
    "\n",
    "This provides complementary information to parametric light profile fitting, for example giving insights on whether\n",
    "the ellipticity and position angle are constant with radius or if the galaxy's emission is lopsided. \n",
    "\n",
    "There are also multipole moment extensions to ellipse fitting, which determine higher order deviations from elliptical \n",
    "symmetry providing even more information on the galaxy's structure.\n",
    "\n",
    "The following paper describes the technique in detail: https://arxiv.org/html/2407.12983v1\n",
    "\n",
    "Checkout `autolens_workspace/notebooks/features/ellipse_fitting.ipynb` to learn how to use ellipse fitting.\n",
    "\n",
    "\n",
    "__Shapelets__\n",
    "\n",
    "Shapelets are a set of orthogonal basis functions that can be combined the represent galaxy structures:\n",
    "\n",
    "Scientific Applications include capturing symmetric structures in a galaxy which are more complex than a Sersic profile,\n",
    "irregular and asymmetric structures in a galaxy like spiral arms and providing a flexible model to deblend the emission \n",
    "of point sources (e.g. quasars) from the emission of their host galaxy.\n",
    "\n",
    "Checkout `autolens_workspace/notebooks/features/shapelets.ipynb` to learn how to use shapelets.\n",
    "\n",
    "\n",
    "__Operated Light Profiles__\n",
    "\n",
    "An operated light profile is one where it is assumed to already be convolved with the PSF of the data, with the \n",
    "`Moffat` and `Gaussian` profiles common choices:\n",
    "\n",
    "They are used for certain scientific applications where the PSF convolution is known to be a significant effect and\n",
    "the knowledge of the PSF allows for detailed modeling abd deblending of the galaxy's light.\n",
    "\n",
    "Checkout `autogalaxy_workspace/notebooks/features/operated_light_profiles.ipynb` to learn how to use operated profiles.\n",
    "\n",
    "\n",
    "__Sky Background__\n",
    "\n",
    "When an image of a galaxy is observed, the background sky contributes light to the image and adds noise:\n",
    "\n",
    "For detailed studies of the outskirts of galaxies (e.g. stellar halos, faint extended disks), the sky background must be\n",
    "accounted for in the model to ensure robust and accurate fits.\n",
    "\n",
    "Checkout `autogalaxy_workspace/notebooks/features/sky_background.ipynb` to learn how to use include the sky\n",
    "background in your model.\n",
    "\n",
    "\n",
    "__Other:__\n",
    "\n",
    "- mass models (aris paper)\n",
    "- Automated pipelines / SLaM.\n",
    "- Dark matter subhalos.\n",
    "- Graphical models."
   ]
  },
  {
   "cell_type": "code",
   "metadata": {},
   "source": [],
   "outputs": [],
   "execution_count": null
  }
 ],
 "metadata": {
  "anaconda-cloud": {},
  "kernelspec": {
   "display_name": "Python 3",
   "language": "python",
   "name": "python3"
  },
  "language_info": {
   "codemirror_mode": {
    "name": "ipython",
    "version": 3
   },
   "file_extension": ".py",
   "mimetype": "text/x-python",
   "name": "python",
   "nbconvert_exporter": "python",
   "pygments_lexer": "ipython3",
   "version": "3.6.1"
  }
 },
 "nbformat": 4,
 "nbformat_minor": 4
}
