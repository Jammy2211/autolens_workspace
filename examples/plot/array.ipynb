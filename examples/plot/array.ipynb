{
  "cells": [
    {
      "cell_type": "code",
      "metadata": {},
      "source": [
        "import autofit as af\n",
        "import autolens as al\n",
        "import autolens.plot as aplt"
      ],
      "outputs": [],
      "execution_count": null
    },
    {
      "cell_type": "markdown",
      "metadata": {},
      "source": [
        "In this example, we will demonstrate how the appearance of figures in PyAutoLens can be customized. To do this, we\n",
        "will use the the image of the strong lens slacs1430+4105 from a .fits file and plotters it using the\n",
        "function autolens.dataset_label.plotters.plotters.plot_array.\n",
        "\n",
        "The customization functions demonstrated in this example are generic to any 2D arrays of dataset_label, and can therefore be\n",
        "applied to the plotting of noise maps, PSF's, residual maps, chi-squared maps, etc.\n",
        "\n",
        "Setup the path to the autolens_workspace, using a relative directory name."
      ]
    },
    {
      "cell_type": "code",
      "metadata": {},
      "source": [
        "workspace_path = \"/home/jammy/PycharmProjects/PyAuto/autolens_workspace/\""
      ],
      "outputs": [],
      "execution_count": null
    },
    {
      "cell_type": "markdown",
      "metadata": {},
      "source": [
        "We have included the .fits dataset_label required for this example in the directory\n",
        "'autolens_workspace/output/dataset/imaging/slacs1430+4105/'.\n",
        "\n",
        "First, lets setup the path to the .fits file of the image."
      ]
    },
    {
      "cell_type": "code",
      "metadata": {},
      "source": [
        "dataset_label = \"slacs\"\n",
        "dataset_name = \"slacs1430+4105\""
      ],
      "outputs": [],
      "execution_count": null
    },
    {
      "cell_type": "markdown",
      "metadata": {},
      "source": [
        "Create the path where the dataset will be loaded from, which in this case is\n",
        "'/autolens_workspace/dataset/imaging/slacs1430+4105/'"
      ]
    },
    {
      "cell_type": "code",
      "metadata": {},
      "source": [
        "dataset_path = af.util.create_path(\n",
        "    path=workspace_path, folder_names=[\"dataset\", dataset_label, dataset_name]\n",
        ")\n",
        "image_path = dataset_path + \"image.fits\""
      ],
      "outputs": [],
      "execution_count": null
    },
    {
      "cell_type": "markdown",
      "metadata": {},
      "source": [
        "Now, lets load this arrays as a hyper arrays. A hyper arrays is an ordinary NumPy arrays, but it also includes a pixel\n",
        "scale which allows us to convert the axes of the arrays to arc-second coordinates."
      ]
    },
    {
      "cell_type": "code",
      "metadata": {},
      "source": [
        "image = al.Array.from_fits(file_path=image_path, hdu=0, pixel_scales=0.03)"
      ],
      "outputs": [],
      "execution_count": null
    },
    {
      "cell_type": "markdown",
      "metadata": {},
      "source": [
        "We can now use an arrays plotter to plotters the arrays. We customize the plotters as follows:\n",
        "\n",
        "1) We make the arrays's figure size bigger than the default size (7,7).\n",
        "\n",
        "2) Because the figure is bigger, we increase the size of the title, x and y labels / ticks from their default size of\n",
        "   16 to 24.\n",
        "\n",
        "3) For the same reason, we increase the size of the colorbar ticks from the default value 10 to 20."
      ]
    },
    {
      "cell_type": "code",
      "metadata": {},
      "source": [
        "plotter = aplt.Plotter(\n",
        "    figure=aplt.Figure(figsize=(12, 12)),\n",
        "    labels=aplt.Labels(title=\"SLACS1430+4105 Image\", titlesize=24, ysize=24, xsize=24),\n",
        "    ticks=aplt.Ticks(ysize=24, xsize=24),\n",
        "    cmap=aplt.ColorMap(norm=\"linear\", norm_max=0.8),\n",
        "    cb=aplt.ColorBar(ticksize=20),\n",
        ")\n",
        "\n",
        "aplt.Array(array=image, plotter=plotter)"
      ],
      "outputs": [],
      "execution_count": null
    },
    {
      "cell_type": "markdown",
      "metadata": {},
      "source": [
        "The colormap of the arrays can be changed to any of the standard matplotlib colormaps."
      ]
    },
    {
      "cell_type": "code",
      "metadata": {},
      "source": [
        "plotter = aplt.Plotter(\n",
        "    labels=aplt.Labels(title=\"SLACS1430+4105 Image\"), cmap=aplt.ColorMap(cmap=\"spring\")\n",
        ")\n",
        "\n",
        "aplt.Array(array=image, plotter=plotter)"
      ],
      "outputs": [],
      "execution_count": null
    },
    {
      "cell_type": "markdown",
      "metadata": {},
      "source": [
        "We can change the x / y axis unit_label from arc-seconds to kiloparsec, by inputting a kiloparsec to arcsecond conversion\n",
        "factor (for SLACS1430+4105, the lens galaxy is at redshift 0.285, corresponding to the conversion factor below)."
      ]
    },
    {
      "cell_type": "code",
      "metadata": {},
      "source": [
        "plotter = aplt.Plotter(\n",
        "    labels=aplt.Labels(title=\"SLACS1430+4105 Image\"),\n",
        "    units=aplt.Units(in_kpc=True, conversion_factor=6.2),\n",
        ")\n",
        "\n",
        "aplt.Array(array=image, plotter=plotter)"
      ],
      "outputs": [],
      "execution_count": null
    },
    {
      "cell_type": "markdown",
      "metadata": {},
      "source": [
        "The matplotlib figure can be output to the hard-disk as a png, as follows."
      ]
    },
    {
      "cell_type": "code",
      "metadata": {},
      "source": [
        "plotter = aplt.Plotter(\n",
        "    labels=aplt.Labels(title=\"SLACS1430+4105 Image\"),\n",
        "    output=aplt.Output(\n",
        "        path=workspace_path + \"/plotting/plots/\", filename=\"arrays\", format=\"png\"\n",
        "    ),\n",
        ")\n",
        "\n",
        "aplt.Array(array=image, plotter=plotter)"
      ],
      "outputs": [],
      "execution_count": null
    },
    {
      "cell_type": "markdown",
      "metadata": {},
      "source": [
        "The arrays itself can be output to the hard-disk as a .fits file."
      ]
    },
    {
      "cell_type": "code",
      "metadata": {},
      "source": [
        "plotter = aplt.Plotter(\n",
        "    labels=aplt.Labels(title=\"SLACS1430+4105 Image\"),\n",
        "    output=aplt.Output(\n",
        "        path=workspace_path + \"/plotting/plots/\", filename=\"arrays\", format=\"fits\"\n",
        "    ),\n",
        ")\n",
        "\n",
        "aplt.Array(array=image, plotter=plotter)\n"
      ],
      "outputs": [],
      "execution_count": null
    }
  ],
  "metadata": {
    "anaconda-cloud": {},
    "kernelspec": {
      "display_name": "Python 3",
      "language": "python",
      "name": "python3"
    },
    "language_info": {
      "codemirror_mode": {
        "name": "ipython",
        "version": 3
      },
      "file_extension": ".py",
      "mimetype": "text/x-python",
      "name": "python",
      "nbconvert_exporter": "python",
      "pygments_lexer": "ipython3",
      "version": "3.6.1"
    }
  },
  "nbformat": 4,
  "nbformat_minor": 1
}