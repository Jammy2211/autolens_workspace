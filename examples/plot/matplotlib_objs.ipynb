{
  "cells": [
    {
      "cell_type": "code",
      "metadata": {},
      "source": [
        "import autolens as al\n",
        "import autolens.plot as aplt"
      ],
      "outputs": [],
      "execution_count": null
    },
    {
      "cell_type": "markdown",
      "metadata": {},
      "source": [
        "In this example, we demonstrate how the appearance of figures in PyAutoLens can be customized, using an image of the \n",
        "strong lens slacs1430+4105.\n",
        "\n",
        "The customization functions demonstrated in this example are generic to any 2D arrays of dataset_type, and can \n",
        "therefore be applied to the plotting of noise-maps, PSF`s, residual-maps, chi-squared-maps, etc. Many of the options\n",
        "can also be applied to the plotting of other data structures, for example `Grid`'s and `Mappers``.."
      ]
    },
    {
      "cell_type": "markdown",
      "metadata": {},
      "source": [
        "Use the WORKSPACE environment variable to determine the workspace path."
      ]
    },
    {
      "cell_type": "code",
      "metadata": {},
      "source": [
        "import os\n",
        "\n",
        "workspace_path = os.environ[\"WORKSPACE\"]\n",
        "print(\"Workspace Path: \", workspace_path)\n"
      ],
      "outputs": [],
      "execution_count": null
    },
    {
      "cell_type": "markdown",
      "metadata": {},
      "source": [
        "We have included the .fits dataset_type required for this example in the directory\n",
        "`autolens_workspace/output/dataset/imaging/slacs1430+4105/`.\n",
        "\n",
        "First, lets setup the path to the .fits file of the image."
      ]
    },
    {
      "cell_type": "code",
      "metadata": {},
      "source": [
        "dataset_type = \"slacs\"\n",
        "dataset_name = \"slacs1430+4105\""
      ],
      "outputs": [],
      "execution_count": null
    },
    {
      "cell_type": "markdown",
      "metadata": {},
      "source": [
        "Create the path where the dataset will be loaded from, which in this case is\n",
        "`/autolens_workspace/dataset/imaging/slacs1430+4105/`"
      ]
    },
    {
      "cell_type": "code",
      "metadata": {},
      "source": [
        "dataset_path = f\"{workspace_path}/dataset/{dataset_type}/{dataset_name}\"\n",
        "image_path = f\"{dataset_path}/image.fits\""
      ],
      "outputs": [],
      "execution_count": null
    },
    {
      "cell_type": "markdown",
      "metadata": {},
      "source": [
        "Now, lets load this arrays as an `Array` object. which is an ordinary NumPy ndarray but includes additional \n",
        "functionality and attributes which are used during plotter. For example, it includes a pixel scale which converts the \n",
        "axes of the arrays from pixels to arc-second coordinates (the vast majority of image-like objects you encourter in \n",
        "PyAutoLens, residual-maps, images, noise-maps, etc, are `Array``.!)."
      ]
    },
    {
      "cell_type": "code",
      "metadata": {},
      "source": [
        "image = al.Array.from_fits(file_path=image_path, hdu=0, pixel_scales=0.03)"
      ],
      "outputs": [],
      "execution_count": null
    },
    {
      "cell_type": "markdown",
      "metadata": {},
      "source": [
        "**Plot**\n",
        "\n",
        "We can use an `Array` plotter to plot the `Array`. We customize the plotters as follows:\n",
        "\"\"\"\n",
        "\n",
        "aplt.Array(array=image)"
      ]
    },
    {
      "cell_type": "markdown",
      "metadata": {},
      "source": [
        "PyAutoLens`s visualization tools have a wide range of tools that enable one to customize the image that is plotted. \n",
        "we'll cover each one by one ini this example script, noting that they follow the Matplotlib API as closely as possible.\n",
        "\n",
        "To customize a figure, note below how we create a `Plotter` object and pass that to the method `aplt.Array`."
      ]
    },
    {
      "cell_type": "markdown",
      "metadata": {},
      "source": [
        "**Figure**\n",
        "\n",
        "The `Figure` object customizes the size of the figure the `Array` is plotted using. Below, we:\n",
        "\n",
        "1) Plot the `Array` using a figure whose size has increased to (12, 12) from the default (7,7).\n",
        "2) Adjust the aspect ratio to 0.5, making the plot appear rectangular. This overwrites the default aspect input, \n",
        "   `square`, which plots the figure as a square with aspect ratio of 1.0.\n",
        "\n",
        "Note how carefully we have chosen the **PyAutoLens** default values of all Matplotlib objects to ensure the misaligned\n",
        "colorbar and weird figure shape don't impact most default visualization!"
      ]
    },
    {
      "cell_type": "code",
      "metadata": {},
      "source": [
        "plotter = aplt.Plotter(figure=aplt.Figure(figsize=(12, 12), aspect=0.5))\n",
        "\n",
        "aplt.Array(array=image, plotter=plotter)"
      ],
      "outputs": [],
      "execution_count": null
    },
    {
      "cell_type": "markdown",
      "metadata": {},
      "source": [
        "**Units**\n",
        "\n",
        "The `Units` object customizes the units of the y and x axes the `Array` is plotted using. Below, we:\n",
        "\n",
        "1) Use scaled units to plot the y and x axis labels of the `Array`. Its scaled coordinates are its coordinates in \n",
        "   arc-seconds, converted from pixels using its *pixel_scales* attribute. Switching this to `False` will plot the axes\n",
        "    in pixel units.\n",
        "2) Input a conversion factor of 10.0, which multiplies the y and x coordinates (compared to the figure above) by 10.0.\n",
        "\n",
        "This method is used to plot figures in units of kiloparsec converted from arcseconds, as shown by the `in_kpc`\n",
        "input below. \n",
        "\n",
        "An `Array` does not know its `cosmology` and thus this conversion is not possible, however when plotting objects\n",
        "such as a `Galaxy` or `Tracer` which have a redshift and cosmology this option automatically changes the units to kpc."
      ]
    },
    {
      "cell_type": "code",
      "metadata": {},
      "source": [
        "plotter = aplt.Plotter(\n",
        "    units=aplt.Units(use_scaled=True, conversion_factor=10.0, in_kpc=False)\n",
        ")\n",
        "\n",
        "aplt.Array(array=image, plotter=plotter)"
      ],
      "outputs": [],
      "execution_count": null
    },
    {
      "cell_type": "markdown",
      "metadata": {},
      "source": [
        "**ColorMap**\n",
        "\n",
        "The `ColorMap` object customizes the colormap of the image and scales of the normalization of the plot. Below we:\n",
        "\n",
        "1) Change the colormap color scheme to `coolwar` from the default `jet`.\n",
        "2) Specify a symmetric logarithmic color map (default is `linear`, `log` can also be used) with manually input values \n",
        "   for the minimum and maximum values of this color map.\n",
        "3) Specify the linthresh and linscale parameters of symmetric log colormap (see \n",
        "https://matplotlib.org/3.3.0/api/_as_gen/matplotlib.colors.SymLogNorm.html)"
      ]
    },
    {
      "cell_type": "code",
      "metadata": {},
      "source": [
        "plotter = aplt.Plotter(\n",
        "    cmap=aplt.ColorMap(\n",
        "        cmap=\"coolwarm\",\n",
        "        norm=\"symmetric_log\",\n",
        "        norm_min=0.1,\n",
        "        norm_max=0.8,\n",
        "        linthresh=0.05,\n",
        "        linscale=0.1,\n",
        "    )\n",
        ")\n",
        "\n",
        "aplt.Array(array=image, plotter=plotter)"
      ],
      "outputs": [],
      "execution_count": null
    },
    {
      "cell_type": "markdown",
      "metadata": {},
      "source": [
        "**ColorBar**\n",
        "\n",
        "The `ColorBar` object customizes the colorbar. Below we:\n",
        "\n",
        "1) Increase the ticksize of the colorbar to 20 from the default of 10 so the tick fontsize is larger.\n",
        "2) Change fraction / pad values of the colorbar (from defaults of 0.047 / 0.01) which change the size and shape of the\n",
        "   colorbar.\n",
        "3) Manually override the colorbar labels with new values (tick_labels), with their location on the colorbar running \n",
        "   from 0 -> 1 (tick_values)."
      ]
    },
    {
      "cell_type": "code",
      "metadata": {},
      "source": [
        "plotter = aplt.Plotter(\n",
        "    cb=aplt.ColorBar(\n",
        "        ticksize=20,\n",
        "        fraction=0.1,\n",
        "        pad=0.2,\n",
        "        tick_labels=[1.0, 2.0, 3.0],\n",
        "        tick_values=[0.2, 0.4, 0.6],\n",
        "    )\n",
        ")\n",
        "\n",
        "aplt.Array(array=image, plotter=plotter)"
      ],
      "outputs": [],
      "execution_count": null
    },
    {
      "cell_type": "markdown",
      "metadata": {},
      "source": [
        "**Ticks**\n",
        "\n",
        "The `Ticks` object customizes the figure ticks. Below we:\n",
        "\n",
        "1) Increase the size of the y and x ticks from 16 to 24.\n",
        "2) Manually override the tick labels with new values."
      ]
    },
    {
      "cell_type": "code",
      "metadata": {},
      "source": [
        "plotter = aplt.Plotter(\n",
        "    ticks=aplt.Ticks(\n",
        "        ysize=24, xsize=24, y_manual=[1.0, 2.0, 3.0, 4.0], x_manual=[4.0, 5.0, 6.0, 7.0]\n",
        "    )\n",
        ")\n",
        "\n",
        "aplt.Array(array=image, plotter=plotter)"
      ],
      "outputs": [],
      "execution_count": null
    },
    {
      "cell_type": "markdown",
      "metadata": {},
      "source": [
        "**Labels**\n",
        "\n",
        "The `Labels` object customizes the figure labels. Below we:\n",
        "\n",
        "1) Manually set the figure title, y and x labels.\n",
        "2) Manually set the title, y and x label font sizes."
      ]
    },
    {
      "cell_type": "code",
      "metadata": {},
      "source": [
        "plotter = aplt.Plotter(\n",
        "    labels=aplt.Labels(\n",
        "        title=\"SLACS1430+4105 Image\",\n",
        "        yunits=\"Hi\",\n",
        "        xunits=\"Hello\",\n",
        "        titlesize=15,\n",
        "        ysize=10,\n",
        "        xsize=20,\n",
        "    )\n",
        ")\n",
        "\n",
        "aplt.Array(array=image, plotter=plotter)"
      ],
      "outputs": [],
      "execution_count": null
    },
    {
      "cell_type": "markdown",
      "metadata": {},
      "source": [
        "**Labels**\n",
        "\n",
        "The `Labels` object customizes the figure labels. Below we:\n",
        "\n",
        "1) Manually set the figure title, y and x labels.\n",
        "2) Manually set the title, y and x label font sizes."
      ]
    },
    {
      "cell_type": "code",
      "metadata": {},
      "source": [
        "plotter = aplt.Plotter(\n",
        "    labels=aplt.Labels(\n",
        "        title=\"SLACS1430+4105 Image\",\n",
        "        yunits=\"Hi\",\n",
        "        xunits=\"Hello\",\n",
        "        titlesize=15,\n",
        "        ysize=10,\n",
        "        xsize=20,\n",
        "    )\n",
        ")\n",
        "\n",
        "aplt.Array(array=image, plotter=plotter)"
      ],
      "outputs": [],
      "execution_count": null
    },
    {
      "cell_type": "markdown",
      "metadata": {},
      "source": [
        "**Output**\n",
        "\n",
        "The `Output` object allows us to output a figure to hard-disc.\n",
        "\n",
        "1) Output the figure to the folder `autolens_workspace/examples/plot/plots/array.png"
      ]
    },
    {
      "cell_type": "code",
      "metadata": {},
      "source": [
        "plotter = aplt.Plotter(\n",
        "    output=aplt.Output(\n",
        "        path=f\"{workspace_path}/examples/plot/plots\", filename=\"array\", format=\"png\"\n",
        "    )\n",
        ")\n",
        "\n",
        "aplt.Array(array=image, plotter=plotter)\n"
      ],
      "outputs": [],
      "execution_count": null
    }
  ],
  "metadata": {
    "anaconda-cloud": {},
    "kernelspec": {
      "display_name": "Python 3",
      "language": "python",
      "name": "python3"
    },
    "language_info": {
      "codemirror_mode": {
        "name": "ipython",
        "version": 3
      },
      "file_extension": ".py",
      "mimetype": "text/x-python",
      "name": "python",
      "nbconvert_exporter": "python",
      "pygments_lexer": "ipython3",
      "version": "3.6.1"
    }
  },
  "nbformat": 4,
  "nbformat_minor": 1
}