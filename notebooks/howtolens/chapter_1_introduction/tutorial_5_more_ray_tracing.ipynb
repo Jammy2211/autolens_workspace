{
  "cells": [
    {
      "cell_type": "markdown",
      "metadata": {},
      "source": [
        "Tutorial 5: More Ray Tracing\n",
        "============================\n",
        "\n",
        "We'll now reinforce the ideas that we learnt about ray-tracing in the previous tutorial and introduce the following\n",
        "new concepts:\n",
        "\n",
        "- What critical curves and caustics are.\n",
        " - That by specifying redshifts and a cosmology, the results are converted from arc-second coordinates to physical\n",
        " units of kiloparsecs (kpc). Again, if you're not an Astronomer, you may not be familiar with the unit of parsec, it\n",
        " may be worth a quick Google!\n",
        "  - That a `Tracer` can be given any number of galaxies.\n",
        "\n",
        "Up to now, the planes have also had just one lens galaxy or source galaxy at a time. In this example, the tracer will\n",
        "have multiple galaxies at each redshift, meaning that each plane has more than one galaxy. In terms of lensing\n",
        "calculations:\n",
        "\n",
        "- If two or more lens galaxies are at the same redshift in the image-plane, the convergences, potentials and\n",
        "deflection angles of their mass profiles are summed when performing lensing calculations.\n",
        "\n",
        "- If two or more source galaxies are at the same redshift in the source-plane, their light can simply be summed before\n",
        "ray tracing.\n",
        "\n",
        "The `Tracer` fully accounts for this."
      ]
    },
    {
      "cell_type": "code",
      "metadata": {},
      "source": [
        "%matplotlib inline\n",
        "from pyprojroot import here\n",
        "workspace_path = str(here())\n",
        "%cd $workspace_path\n",
        "print(f\"Working Directory has been set to `{workspace_path}`\")\n",
        "\n",
        "import autolens as al\n",
        "import autolens.plot as aplt"
      ],
      "outputs": [],
      "execution_count": null
    },
    {
      "cell_type": "markdown",
      "metadata": {},
      "source": [
        "__Initial Setup__\n",
        "\n",
        "To begin, lets setup the grid we'll ray-trace using. But, lets do something crazy and use a higher resolution than \n",
        "the previous tutorials!\n",
        "\n",
        "Lets also stop calling it the `image_plane_grid`, and just remember from now on our `grid` is in the image-plane."
      ]
    },
    {
      "cell_type": "code",
      "metadata": {},
      "source": [
        "grid = al.Grid2D.uniform(shape_native=(250, 250), pixel_scales=0.02)"
      ],
      "outputs": [],
      "execution_count": null
    },
    {
      "cell_type": "markdown",
      "metadata": {},
      "source": [
        "The grid is now shape 250 x 250, which has more image-pixels than the 100 x 100 grid used previously."
      ]
    },
    {
      "cell_type": "code",
      "metadata": {},
      "source": [
        "print(grid.shape_native)\n",
        "print(grid.shape_slim)"
      ],
      "outputs": [],
      "execution_count": null
    },
    {
      "cell_type": "markdown",
      "metadata": {},
      "source": [
        "__Concise Code__\n",
        "\n",
        "Lets set up the tracer used in the previous tutorial.\n",
        "\n",
        "Up to now, we have set up each profile one line at a time, making the code long and cumbersome to read.\n",
        "\n",
        "From here on, we'll set up galaxies in a single block of code, making it more concise and readable."
      ]
    },
    {
      "cell_type": "code",
      "metadata": {},
      "source": [
        "lens = al.Galaxy(\n",
        "    redshift=0.5, mass=al.mp.IsothermalSph(centre=(0.0, 0.0), einstein_radius=1.6)\n",
        ")\n",
        "\n",
        "source = al.Galaxy(\n",
        "    redshift=1.0,\n",
        "    light=al.lp.SersicCoreSph(\n",
        "        centre=(0.0, 0.0),\n",
        "        intensity=1.0,\n",
        "        effective_radius=1.0,\n",
        "        sersic_index=1.0,\n",
        "        radius_break=0.025,\n",
        "    ),\n",
        ")\n",
        "\n",
        "tracer = al.Tracer(galaxies=[lens, source])"
      ],
      "outputs": [],
      "execution_count": null
    },
    {
      "cell_type": "markdown",
      "metadata": {},
      "source": [
        "__Critical Curves__\n",
        "\n",
        "To end, we can finally explain what the black lines that have appeared on many of the plots throughout this chapter \n",
        "actually are. \n",
        "\n",
        "These lines are called the 'critical curves', and they define line of infinite magnification due to a mass profile. \n",
        "They therefore mark where in the image-plane a mass profile perfectly `focuses` light rays such that if a source is \n",
        "located there, it will appear very bright: potentially 10-100x as brighter than its intrinsic luminosity.\n",
        "\n",
        "The black line is a `tangential_critical_curve`, because it describes how the image of the source galaxy is stretched\n",
        "tangentially. There is also a `radial_critical_curve` which appears in white on figures, which describes how the \n",
        "image of the source galaxy is stretched radially. \n",
        "\n",
        "However, a radial critical curve only appears when the lens galaxy's mass profile is shallower than isothermal (e.g. \n",
        "when its inner mass slope is less steep than a steep power-law). To make it appear below, we therefore change\n",
        "the mass profile of our lens galaxy to a `PowerLawSph` with a slope of 1.8.\n",
        "\n",
        "In the next tutorial, we'll introduce 'caustics', which are where the critical curves map too in the source-plane."
      ]
    },
    {
      "cell_type": "code",
      "metadata": {},
      "source": [
        "mass_profile = al.mp.PowerLawSph(centre=(0.0, 0.0), einstein_radius=1.6, slope=1.8)\n",
        "\n",
        "lens = al.Galaxy(redshift=0.5, mass=mass_profile)\n",
        "\n",
        "include = aplt.Include2D(tangential_critical_curves=True, radial_critical_curves=True)\n",
        "\n",
        "galaxies_plotter = aplt.GalaxiesPlotter(\n",
        "    galaxies=al.Galaxies(galaxies=[lens]), grid=grid, include_2d=include\n",
        ")\n",
        "galaxies_plotter.figures_2d(convergence=True)"
      ],
      "outputs": [],
      "execution_count": null
    },
    {
      "cell_type": "markdown",
      "metadata": {},
      "source": [
        "__Caustics__\n",
        "\n",
        "In the previous tutorial, we plotted the critical curves of the mass profile on the image-plane. We will now plot the\n",
        "'caustics', which correspond to each critical curve ray-traced to the source-plane. This is computed by using the \n",
        "lens galaxy mass profile's to calculate the deflection angles at the critical curves and ray-trace them to the \n",
        "source-plane.\n",
        "\n",
        "As discussed in the previous tutorial, critical curves mark regions of infinite magnification. Thus, if a source\n",
        "appears near a caustic in the source plane it will appear significantly brighter than its true luminosity. \n",
        "\n",
        "We again have to use a mass profile with a slope below 2.0 to ensure a radial critical curve and therefore radial\n",
        "caustic is formed.\n",
        "\n",
        "We can plot both the tangential and radial critical curves and caustics using an `Include2D` object. Note how the \n",
        "critical curves appear only for the image-plane grid, whereas the caustic only appears in the source plane."
      ]
    },
    {
      "cell_type": "code",
      "metadata": {},
      "source": [
        "sis_mass_profile = al.mp.IsothermalSph(centre=(0.0, 0.0), einstein_radius=1.6)\n",
        "\n",
        "tracer = al.Tracer(galaxies=[lens, source])\n",
        "\n",
        "include = aplt.Include2D(\n",
        "    tangential_critical_curves=True,\n",
        "    tangential_caustics=True,\n",
        "    radial_critical_curves=True,\n",
        "    radial_caustics=True,\n",
        ")\n",
        "tracer_plotter = aplt.TracerPlotter(tracer=tracer, grid=grid)\n",
        "\n",
        "tracer_plotter.figures_2d_of_planes(plane_grid=True, plane_index=0)\n",
        "tracer_plotter.figures_2d_of_planes(plane_grid=True, plane_index=1)"
      ],
      "outputs": [],
      "execution_count": null
    },
    {
      "cell_type": "markdown",
      "metadata": {},
      "source": [
        "We can also plot the caustic on the source-plane image."
      ]
    },
    {
      "cell_type": "code",
      "metadata": {},
      "source": [
        "tracer_plotter.figures_2d_of_planes(plane_index=1, plane_image=True)"
      ],
      "outputs": [],
      "execution_count": null
    },
    {
      "cell_type": "markdown",
      "metadata": {},
      "source": [
        "Caustics also mark the regions in the source-plane where the multiplicity of the strong lens changes. That is,\n",
        "if a source crosses a caustic, it goes from 2 images to 1 image. Try and show this yourself by changing the (y,x) \n",
        "centre of the source-plane galaxy's light profile!"
      ]
    },
    {
      "cell_type": "code",
      "metadata": {},
      "source": [
        "source = al.Galaxy(\n",
        "    redshift=1.0,\n",
        "    light=al.lp.SersicCoreSph(\n",
        "        centre=(0.0, 0.0),\n",
        "        intensity=1.0,\n",
        "        effective_radius=1.0,\n",
        "        sersic_index=1.0,\n",
        "    ),\n",
        ")\n",
        "\n",
        "tracer = al.Tracer(galaxies=[lens, source])\n",
        "\n",
        "tracer_plotter = aplt.TracerPlotter(tracer=tracer, grid=grid)\n",
        "tracer_plotter.figures_2d_of_planes(plane_index=1, plane_image=True)"
      ],
      "outputs": [],
      "execution_count": null
    },
    {
      "cell_type": "markdown",
      "metadata": {},
      "source": [
        "__Units__\n",
        "\n",
        "Lets plot the lensing quantities again. However, we'll now use the `Units` object of the **PyAutoLens** plotter module \n",
        "to set `in_kpc=True` and therefore plot the y and x axes in kiloparsecs.\n",
        "\n",
        "This conversion is performed automatically, using the galaxy redshifts and cosmology."
      ]
    },
    {
      "cell_type": "code",
      "metadata": {},
      "source": [
        "mat_plot = aplt.MatPlot2D(units=aplt.Units(in_kpc=True))\n",
        "\n",
        "tracer_plotter = aplt.TracerPlotter(tracer=tracer, grid=grid, mat_plot_2d=mat_plot)\n",
        "tracer_plotter.subplot_tracer()\n",
        "tracer_plotter.subplot_galaxies_images()"
      ],
      "outputs": [],
      "execution_count": null
    },
    {
      "cell_type": "markdown",
      "metadata": {},
      "source": [
        "If you're too familiar with Cosmology, it will be unclear how exactly we converted the distance units from \n",
        "arcseconds to kiloparsecs. You'll need to read up on your Cosmology lecture to understand this properly.\n",
        "\n",
        "You can create a `Cosmology` object, which provides many methods for calculation different cosmological quantities, \n",
        "which are shown  below (if you're not too familiar with cosmology don't worry that you don't know what these mean, \n",
        "it isn't massively important for using **PyAutoLens**).\n",
        "\n",
        "We will use a flat lambda CDM cosmology, which is the standard cosmological model often assumed in scientific studies."
      ]
    },
    {
      "cell_type": "code",
      "metadata": {},
      "source": [
        "cosmology = al.cosmo.FlatLambdaCDMWrap(H0=70, Om0=0.3)\n",
        "\n",
        "print(\"Image-plane arcsec-per-kpc:\")\n",
        "print(cosmology.arcsec_per_kpc_from(redshift=0.5))\n",
        "print(\"Image-plane kpc-per-arcsec:\")\n",
        "print(cosmology.kpc_per_arcsec_from(redshift=0.5))\n",
        "print(\"Angular Diameter Distance to Image-plane (kpc):\")\n",
        "print(cosmology.angular_diameter_distance_to_earth_in_kpc_from(redshift=0.5))\n",
        "\n",
        "print(\"Source-plane arcsec-per-kpc:\")\n",
        "print(cosmology.arcsec_per_kpc_from(redshift=1.0))\n",
        "print(\"Source-plane kpc-per-arcsec:\")\n",
        "print(cosmology.kpc_per_arcsec_from(redshift=1.0))\n",
        "print(\"Angular Diameter Distance to Source-plane:\")\n",
        "print(cosmology.angular_diameter_distance_to_earth_in_kpc_from(redshift=1.0))\n",
        "\n",
        "print(\"Angular Diameter Distance From Image To Source Plane:\")\n",
        "print(\n",
        "    cosmology.angular_diameter_distance_between_redshifts_in_kpc_from(\n",
        "        redshift_0=0.5, redshift_1=1.0\n",
        "    )\n",
        ")\n",
        "print(\"Lensing Critical convergence:\")\n",
        "print(\n",
        "    cosmology.critical_surface_density_between_redshifts_solar_mass_per_kpc2_from(\n",
        "        redshift_0=0.5, redshift_1=1.0\n",
        "    )\n",
        ")"
      ],
      "outputs": [],
      "execution_count": null
    },
    {
      "cell_type": "markdown",
      "metadata": {},
      "source": [
        "__More Complexity__\n",
        "\n",
        "We now make a lens with some attributes we didn`t in the last tutorial:\n",
        "\n",
        " - A light profile representing a `bulge` of stars, meaning the lens galaxy's light will appear in the image for the\n",
        " first time.\n",
        " - An external shear, which accounts for the deflection of light due to line-of-sight structures."
      ]
    },
    {
      "cell_type": "code",
      "metadata": {},
      "source": [
        "lens = al.Galaxy(\n",
        "    redshift=0.5,\n",
        "    bulge=al.lp.SersicSph(\n",
        "        centre=(0.0, 0.0), intensity=2.0, effective_radius=0.5, sersic_index=2.5\n",
        "    ),\n",
        "    mass=al.mp.Isothermal(\n",
        "        centre=(0.0, 0.0), ell_comps=(0.0, -0.111111), einstein_radius=1.6\n",
        "    ),\n",
        "    shear=al.mp.ExternalShear(gamma_1=0.05, gamma_2=0.0),\n",
        ")\n",
        "\n",
        "print(lens)"
      ],
      "outputs": [],
      "execution_count": null
    },
    {
      "cell_type": "markdown",
      "metadata": {},
      "source": [
        "Lets also create a small satellite galaxy nearby the lens galaxy and at the same redshift."
      ]
    },
    {
      "cell_type": "code",
      "metadata": {},
      "source": [
        "lens_satellite = al.Galaxy(\n",
        "    redshift=0.5,\n",
        "    bulge=al.lp.DevVaucouleursSph(\n",
        "        centre=(1.0, 0.0), intensity=2.0, effective_radius=0.2\n",
        "    ),\n",
        "    mass=al.mp.IsothermalSph(centre=(1.0, 0.0), einstein_radius=0.4),\n",
        ")\n",
        "\n",
        "print(lens_satellite)"
      ],
      "outputs": [],
      "execution_count": null
    },
    {
      "cell_type": "markdown",
      "metadata": {},
      "source": [
        "Lets have a quick look at the appearance of our lens galaxy and its satellite."
      ]
    },
    {
      "cell_type": "code",
      "metadata": {},
      "source": [
        "mat_plot = aplt.MatPlot2D(title=aplt.Title(label=\"Lens Galaxy\"))\n",
        "\n",
        "galaxy_plotter = aplt.GalaxyPlotter(galaxy=lens, grid=grid, mat_plot_2d=mat_plot)\n",
        "galaxy_plotter.figures_2d(image=True)\n",
        "\n",
        "mat_plot = aplt.MatPlot2D(title=aplt.Title(label=\"Lens Satellite\"))\n",
        "\n",
        "galaxy_plotter = aplt.GalaxyPlotter(\n",
        "    galaxy=lens_satellite, grid=grid, mat_plot_2d=mat_plot\n",
        ")\n",
        "galaxy_plotter.figures_2d(image=True)"
      ],
      "outputs": [],
      "execution_count": null
    },
    {
      "cell_type": "markdown",
      "metadata": {},
      "source": [
        "And their deflection angles, noting that the satellite does not contribute as much to the deflections."
      ]
    },
    {
      "cell_type": "code",
      "metadata": {},
      "source": [
        "mat_plot = aplt.MatPlot2D(title=aplt.Title(label=\"Lens Galaxy Deflections (y)\"))\n",
        "\n",
        "galaxy_plotter = aplt.GalaxyPlotter(galaxy=lens, grid=grid, mat_plot_2d=mat_plot)\n",
        "galaxy_plotter.figures_2d(deflections_y=True)\n",
        "\n",
        "# NOTE: It would be annoying to have to reset the title for every plot using the following code:\n",
        "\n",
        "# mat_plot = aplt.MatPlot2D(\n",
        "#     title=aplt.Title(label=\"Lens Galalxy Deflections (x)\")\n",
        "# )\n",
        "# galaxy_plotter = aplt.GalaxyPlotter(galaxy=lens, grid=grid, mat_plot_2d=mat_plot)\n",
        "\n",
        "# We can set the title more conveniently as follows:\n",
        "\n",
        "galaxy_plotter.set_title(\"Lens Galalxy Deflections (x)\")\n",
        "galaxy_plotter.figures_2d(deflections_x=True)\n",
        "\n",
        "galaxy_plotter = aplt.GalaxyPlotter(galaxy=lens_satellite, grid=grid)\n",
        "galaxy_plotter.set_title(\"Lens Satellite Deflections (y)\")\n",
        "galaxy_plotter.figures_2d(deflections_y=True)\n",
        "galaxy_plotter.set_title(\"Lens Satellite Deflections (x)\")\n",
        "galaxy_plotter.figures_2d(deflections_x=True)"
      ],
      "outputs": [],
      "execution_count": null
    },
    {
      "cell_type": "markdown",
      "metadata": {},
      "source": [
        "Now, lets make two source galaxies at redshift 1.0. Instead of using the name `light` for the light profiles, lets \n",
        "instead use more descriptive names that indicate what morphological component of the galaxy the light profile \n",
        "represents. In this case, we'll use the terms `bulge` and `disk`, the two main structures that a galaxy can be made of"
      ]
    },
    {
      "cell_type": "code",
      "metadata": {},
      "source": [
        "source_0 = al.Galaxy(\n",
        "    redshift=1.0,\n",
        "    bulge=al.lp.DevVaucouleursSph(\n",
        "        centre=(0.1, 0.2), intensity=0.3, effective_radius=0.3\n",
        "    ),\n",
        "    disk=al.lp.ExponentialCore(\n",
        "        centre=(0.1, 0.2),\n",
        "        ell_comps=(0.111111, 0.0),\n",
        "        intensity=3.0,\n",
        "        effective_radius=2.0,\n",
        "    ),\n",
        ")\n",
        "\n",
        "source_1 = al.Galaxy(\n",
        "    redshift=1.0,\n",
        "    disk=al.lp.ExponentialCore(\n",
        "        centre=(-0.3, -0.5),\n",
        "        ell_comps=(0.1, 0.0),\n",
        "        intensity=8.0,\n",
        "        effective_radius=1.0,\n",
        "    ),\n",
        ")\n",
        "\n",
        "print(source_0)\n",
        "print(source_1)"
      ],
      "outputs": [],
      "execution_count": null
    },
    {
      "cell_type": "markdown",
      "metadata": {},
      "source": [
        "Lets look at our source galaxies (before lensing)"
      ]
    },
    {
      "cell_type": "code",
      "metadata": {},
      "source": [
        "galaxy_plotter = aplt.GalaxyPlotter(galaxy=source_0, grid=grid, mat_plot_2d=mat_plot)\n",
        "galaxy_plotter.set_title(\"Source Galaxy 0\")\n",
        "galaxy_plotter.figures_2d(image=True)\n",
        "\n",
        "galaxy_plotter = aplt.GalaxyPlotter(galaxy=source_1, grid=grid)\n",
        "galaxy_plotter.set_title(\"Source Galaxy 1\")\n",
        "galaxy_plotter.figures_2d(image=True)"
      ],
      "outputs": [],
      "execution_count": null
    },
    {
      "cell_type": "markdown",
      "metadata": {},
      "source": [
        "__Multi Galaxy Ray Tracing__\n",
        "\n",
        "Now lets pass our 4 galaxies to a `Tracer`, which means the following will occur:\n",
        "\n",
        " - Using the galaxy redshift`s, and image-plane and source-plane will be created each with two galaxies galaxies.\n",
        "\n",
        "We've also pass the tracer below a Planck15 cosmology, where the cosomology of the Universe describes exactly how \n",
        "ray-tracing is performed."
      ]
    },
    {
      "cell_type": "code",
      "metadata": {},
      "source": [
        "tracer = al.Tracer(\n",
        "    galaxies=[lens, lens_satellite, source_0, source_1],\n",
        "    cosmology=al.cosmo.Planck15(),\n",
        ")"
      ],
      "outputs": [],
      "execution_count": null
    },
    {
      "cell_type": "markdown",
      "metadata": {},
      "source": [
        "We can now plot the tracer`s image, which now there are two galaxies in each plane is computed as follows:\n",
        "\n",
        " 1) First, using the image-plane grid, the images of the lens galaxy and its satellite are computed.\n",
        "\n",
        " 2) Using the mass profiles of the lens and its satellite, their deflection angles are computed.\n",
        "\n",
        " 3) These deflection angles are summed, such that the deflection of light due to the mass profiles of both galaxies in \n",
        " the image-plane is accounted for.\n",
        "\n",
        " 4) These deflection angles are used to trace every image-grid coordinate to the source-plane.\n",
        "\n",
        " 5) The image of the source galaxies is computed by summing both of their images and ray-tracing their light back to \n",
        " the image-plane.\n",
        " \n",
        "This process is pretty much the same as we have single in previous tutorials when there is one galaxy per plane. We\n",
        "are simply summing the images and deflection angles of the galaxies before using them to perform ray-tracing."
      ]
    },
    {
      "cell_type": "code",
      "metadata": {},
      "source": [
        "tracer_plotter = aplt.TracerPlotter(tracer=tracer, grid=grid)\n",
        "tracer_plotter.set_title(\"Image\")\n",
        "tracer_plotter.figures_2d(image=True)"
      ],
      "outputs": [],
      "execution_count": null
    },
    {
      "cell_type": "markdown",
      "metadata": {},
      "source": [
        "As we did previously, we can plot the source plane grid to see how each coordinate was traced. "
      ]
    },
    {
      "cell_type": "code",
      "metadata": {},
      "source": [
        "tracer_plotter.set_title(\"Source-plane Grid2D\")\n",
        "tracer_plotter.figures_2d_of_planes(plane_grid=True, plane_index=1)"
      ],
      "outputs": [],
      "execution_count": null
    },
    {
      "cell_type": "markdown",
      "metadata": {},
      "source": [
        "We can zoom in on the source-plane to reveal the inner structure of the caustic."
      ]
    },
    {
      "cell_type": "code",
      "metadata": {},
      "source": [
        "mat_plot = aplt.MatPlot2D(axis=aplt.Axis(extent=[-0.2, 0.2, -0.2, 0.2]))\n",
        "\n",
        "tracer_plotter = aplt.TracerPlotter(tracer=tracer, grid=grid, mat_plot_2d=mat_plot)\n",
        "tracer_plotter.set_title(\"Source-plane Grid2D\")\n",
        "tracer_plotter.figures_2d_of_planes(plane_grid=True, plane_index=1)"
      ],
      "outputs": [],
      "execution_count": null
    },
    {
      "cell_type": "markdown",
      "metadata": {},
      "source": [
        "__Wrap Up__\n",
        "\n",
        "Tutorial 6 completed! Try the following:\n",
        "\n",
        " 1) If you change the lens and source galaxy redshifts, does the tracer's image change?\n",
        "\n",
        " 2) What happens to the cosmological quantities as you change these redshifts? Do you remember enough of your \n",
        " cosmology lectures to predict how quantities like the angular diameter distance change as a function of redshift?\n",
        "\n",
        " 3) The tracer has a small delay in being computed, whereas other tracers were almost instant. What do you think \n",
        " is the cause of this slow-down?"
      ]
    },
    {
      "cell_type": "code",
      "metadata": {},
      "source": [],
      "outputs": [],
      "execution_count": null
    }
  ],
  "metadata": {
    "anaconda-cloud": {},
    "kernelspec": {
      "display_name": "Python 3",
      "language": "python",
      "name": "python3"
    },
    "language_info": {
      "codemirror_mode": {
        "name": "ipython",
        "version": 3
      },
      "file_extension": ".py",
      "mimetype": "text/x-python",
      "name": "python",
      "nbconvert_exporter": "python",
      "pygments_lexer": "ipython3",
      "version": "3.6.1"
    }
  },
  "nbformat": 4,
  "nbformat_minor": 4
}