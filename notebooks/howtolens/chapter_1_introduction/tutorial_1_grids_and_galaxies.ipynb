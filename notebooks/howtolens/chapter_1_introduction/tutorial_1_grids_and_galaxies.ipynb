{
  "cells": [
    {
      "cell_type": "markdown",
      "metadata": {},
      "source": [
        "HowToLens: Introduction\n",
        "=======================\n",
        "\n",
        "A strong gravitational lens is a system where two (or more) galaxies align perfectly down our line of sight from Earth\n",
        "such that the foreground galaxy's mass curves space-time in on itself, such that the light of a background source galaxy\n",
        "is deflected and magnified. This means we can see the background source galaxy multiple times, as multiple arcs or rings,\n",
        "because multiple paths through the foreground galaxy's mass are taken by the source's light.\n",
        "\n",
        "Here is a schematic of a strong gravitational lens:\n",
        "\n",
        "![Schematic of Gravitational Lensing](https://raw.githubusercontent.com/Jammy2211/PyAutoLens/main/docs/overview/images/overview_1_lensing/schematic.jpg)\n",
        "**Credit: F. Courbin, S. G. Djorgovski, G. Meylan, et al., Caltech / EPFL / WMKO**\n",
        "https://www.astro.caltech.edu/~george/qsolens/\n",
        "\n",
        "Today, Astronomers use computer software, statistical algorithms and image processing techniques analyse the light of\n",
        "these strong gravitational lenses. They are used for a wide range of scientific studies, including studying dark matter\n",
        "in the foreground lens galaxies, the morphology and structure of the background source galaxies, and even the expansion\n",
        "of the Universe itself.\n",
        "\n",
        "The **HowToLens** series of tutorials will teach you how to perform this analysis yourself, using the open-source\n",
        "software package **PyAutoLens**. By the end of the **HowToLens** series, you'll be able to take an image of\n",
        "strong lens and study it using the same techniques that professional astronomers use today.\n",
        "\n",
        "Tutorial 1: Grids And Galaxies\n",
        "==============================\n",
        "\n",
        "In this tutorial, we will introduce the first fundamental concepts and quantities used to study strong lenses.\n",
        "These concepts will enable us to create images of galaxies and analyze how their light is distributed across space.\n",
        "Additionally, we will explore how adjusting various properties of galaxies can alter their appearance. For instance,\n",
        "we can change the size of a galaxy, rotate it, or modify its brightness.\n",
        "\n",
        "To create these images, we first need to define 2D grids of \\((y, x)\\) coordinates. We will shift and rotate these\n",
        "grids to manipulate the appearance of the galaxy in the generated images. The grid will serve as the input for light\n",
        "profiles, which are analytic functions that describe the distribution of a galaxy's light. By evaluating these light\n",
        "profiles on the grid, we can effectively generate images that represent the structure and characteristics of galaxies.\n",
        "\n",
        "This tutorial won't yet perform any lensing calculations, which are introduced in the next tutorial.\n",
        "\n",
        "Here is an overview of what we'll cover in this tutorial:\n",
        "\n",
        "- **Grids**: We'll create a uniform grid of $(y,x)$ coordinates and show how it can be used to measure the light of a galaxy.\n",
        "- **Geometry**: We'll show how to shift and rotate a grid, and convert it to elliptical coordinates.\n",
        "- **Light Profiles**: We'll introduce light profiles, analytic functions that describe how a galaxy's light is distributed.\n",
        "- **Galaxies**: We'll create galaxies containing light profiles and show how to compute their image.\n",
        "- **Units**: We'll show how to convert the units of a galaxy's image to physical units like kiloparsecs.\n",
        "\n",
        "\n",
        "The imports below are required to run the HowToLens tutorials in a Jupiter notebook. They also import the\n",
        "`autolens` package and the `autolens.plot` module which are used throughout the tutorials."
      ]
    },
    {
      "cell_type": "code",
      "metadata": {},
      "source": [
        "%matplotlib inline\n",
        "from pyprojroot import here\n",
        "workspace_path = str(here())\n",
        "%cd $workspace_path\n",
        "print(f\"Working Directory has been set to `{workspace_path}`\")\n",
        "\n",
        "import numpy as np\n",
        "\n",
        "import autolens as al\n",
        "import autolens.plot as aplt"
      ],
      "outputs": [],
      "execution_count": null
    },
    {
      "cell_type": "markdown",
      "metadata": {},
      "source": [
        "__Grids__\n",
        "\n",
        "A `Grid2D` is a set of two-dimensional $(y,x)$ coordinates that represent points in space where we evaluate the \n",
        "light emitted by a galaxy.\n",
        "\n",
        "Each coordinate on the grid is referred to as a 'pixel'. This is because we use the grid to measure the brightness of a \n",
        "galaxy at each of these coordinates, allowing us to create an image of the galaxy.\n",
        "\n",
        "Grids are defined in units of 'arc-seconds' (\"). An arc-second is a unit of angular measurement used by astronomers to \n",
        "describe the apparent size of objects in the sky.\n",
        "\n",
        "The `pixel_scales` parameter sets how many arc-seconds each pixel represents. For example, if `pixel_scales=0.1`, \n",
        "then each pixel covers 0.1\" of the sky.\n",
        "\n",
        "Below, we create a uniform 2D grid of 101 x 101 pixels with a pixel scale of 0.1\", corresponding to an area \n",
        "of 10.1\" x 10.1\", spanning from -5.05\" to 5.05\" in both the y and x directions."
      ]
    },
    {
      "cell_type": "code",
      "metadata": {},
      "source": [
        "grid = al.Grid2D.uniform(\n",
        "    shape_native=(\n",
        "        101,\n",
        "        101,\n",
        "    ),  # The dimensions of the grid, which here is 100 x 100 pixels.\n",
        "    pixel_scales=0.1,  # The conversion factor between pixel units and arc-seconds.\n",
        ")"
      ],
      "outputs": [],
      "execution_count": null
    },
    {
      "cell_type": "markdown",
      "metadata": {},
      "source": [
        "We can visualize this grid as a uniform grid of dots, each representing a coordinate where the light is measured."
      ]
    },
    {
      "cell_type": "code",
      "metadata": {},
      "source": [
        "grid_plotter = aplt.Grid2DPlotter(grid=grid)\n",
        "grid_plotter.set_title(\"Uniform Grid of Coordinates\")\n",
        "grid_plotter.figure_2d()"
      ],
      "outputs": [],
      "execution_count": null
    },
    {
      "cell_type": "markdown",
      "metadata": {},
      "source": [
        "Each coordinate in the grid corresponds to an arc-second position. Below, we print a few of these coordinates to see \n",
        "the values."
      ]
    },
    {
      "cell_type": "code",
      "metadata": {},
      "source": [
        "print(\"(y,x) pixel 0:\")\n",
        "print(grid.native[0, 0])  # The coordinate of the first pixel.\n",
        "print(\"(y,x) pixel 1:\")\n",
        "print(grid.native[0, 1])  # The coordinate of the second pixel.\n",
        "print(\"(y,x) pixel 2:\")\n",
        "print(grid.native[0, 2])  # The coordinate of the third pixel.\n",
        "print(\"(y,x) pixel 100:\")\n",
        "print(grid.native[1, 0])  # The coordinate of the 100th pixel.\n",
        "print(\"...\")"
      ],
      "outputs": [],
      "execution_count": null
    },
    {
      "cell_type": "markdown",
      "metadata": {},
      "source": [
        "Grids have two internal representations, `native` and `slim`:\n",
        "\n",
        "- `native`: A 2D array with shape [total_y_pixels, total_x_pixels, 2], where the 2 corresponds to the (y,x) coordinates.\n",
        "- `slim`: A 1D array with shape [total_y_pixels * total_x_pixels, 2], where the coordinates are 'flattened' into a single list.\n",
        "\n",
        "These formats are useful for different calculations and plotting. Here, we show the same coordinate using both formats."
      ]
    },
    {
      "cell_type": "code",
      "metadata": {},
      "source": [
        "print(\"(y,x) pixel 0 (accessed via native):\")\n",
        "print(grid.native[0, 0])\n",
        "print(\"(y,x) pixel 0 (accessed via slim 1D):\")\n",
        "print(grid.slim[0])"
      ],
      "outputs": [],
      "execution_count": null
    },
    {
      "cell_type": "markdown",
      "metadata": {},
      "source": [
        "We can also check the shapes of the `Grid2D` object in both `native` and `slim` formats. For this grid, \n",
        "the `native` shape is (101, 101, 2) and the `slim` shape is (10201, 2)."
      ]
    },
    {
      "cell_type": "code",
      "metadata": {},
      "source": [
        "print(grid.native.shape)\n",
        "print(grid.slim.shape)"
      ],
      "outputs": [],
      "execution_count": null
    },
    {
      "cell_type": "markdown",
      "metadata": {},
      "source": [
        "For the HowToLens tutorials, you don't need to fully understand why grids have both native and slim representations. \n",
        "Just note that both are used for calculations and plotting.\n",
        "\n",
        "*Exercise*: Try creating grids with different shapes and pixel scales using the `al.Grid2D.uniform()` function above. \n",
        "Observe how the grid coordinates change when you adjust `shape_native` and `pixel_scales`.\n",
        "\n",
        "__Geometry__\n",
        "\n",
        "The above grid is centered on the origin (0.0\", 0.0\"). Sometimes, we need to shift the grid to be centered on a \n",
        "specific point, like the center of a galaxy.\n",
        "\n",
        "We can shift the grid to a new center, (y_c, x_c), by subtracting this center from each coordinate."
      ]
    },
    {
      "cell_type": "code",
      "metadata": {},
      "source": [
        "centre = (0.3, 0.5)  # Shifting the grid to be centered at y=1.0\", x=2.0\".\n",
        "\n",
        "grid_shifted = grid\n",
        "grid_shifted[:, 0] = grid_shifted[:, 0] - centre[0]  # Shift in y-direction.\n",
        "grid_shifted[:, 1] = grid_shifted[:, 1] - centre[1]  # Shift in x-direction.\n",
        "\n",
        "print(\"(y,x) pixel 0 After Shift:\")\n",
        "print(grid_shifted.native[0, 0])  # The coordinate of the first pixel after shifting."
      ],
      "outputs": [],
      "execution_count": null
    },
    {
      "cell_type": "markdown",
      "metadata": {},
      "source": [
        "The grid is now centered around (0.3\", 0.5\"). We can plot the shifted grid to see this change.\n",
        "\n",
        "*Exercise*: Try shifting the grid to a different center, for example (0.0\", 0.0\") or (2.0\", 3.0\"). Observe how the\n",
        "center of the grid changes when you adjust the `centre` variable."
      ]
    },
    {
      "cell_type": "code",
      "metadata": {},
      "source": [
        "grid_plotter = aplt.Grid2DPlotter(grid=grid_shifted)\n",
        "grid_plotter.set_title(\"Grid Centered Around (0.3, 0.5)\")\n",
        "grid_plotter.figure_2d()"
      ],
      "outputs": [],
      "execution_count": null
    },
    {
      "cell_type": "markdown",
      "metadata": {},
      "source": [
        "Next, we can rotate the grid by an angle `phi` (in degrees). The rotation is counter-clockwise from the positive x-axis.\n",
        "\n",
        "To rotate the grid:\n",
        "\n",
        "1. Calculate the distance `radius` of each coordinate from the origin using $r = \\sqrt{y^2 + x^2}$.\n",
        "2. Determine the angle `theta` counter clockwise from the positive x-axis using $\\theta = \\arctan(y / x)$.\n",
        "3. Adjust `theta` by the rotation angle and convert back to Cartesian coordinates via $y = r \\sin(\\theta)$ and $x = r \\cos(\\theta)$."
      ]
    },
    {
      "cell_type": "code",
      "metadata": {},
      "source": [
        "angle_degrees = 60.0\n",
        "\n",
        "y = grid_shifted[:, 0]\n",
        "x = grid_shifted[:, 1]\n",
        "\n",
        "radius = np.sqrt(y**2 + x**2)\n",
        "theta = np.arctan2(y, x) - np.radians(angle_degrees)\n",
        "\n",
        "grid_rotated = grid_shifted\n",
        "grid_rotated[:, 0] = radius * np.sin(theta)\n",
        "grid_rotated[:, 1] = radius * np.cos(theta)\n",
        "\n",
        "print(\"(y,x) pixel 0 After Rotation:\")\n",
        "print(grid_rotated.native[0, 0])  # The coordinate of the first pixel after rotation."
      ],
      "outputs": [],
      "execution_count": null
    },
    {
      "cell_type": "markdown",
      "metadata": {},
      "source": [
        "The grid has now been rotated 60 degrees counter-clockwise. We can plot it to see the change.\n",
        "\n",
        "*Exercise*: Try rotating the grid by a different angle, for example 30 degrees or 90 degrees. Observe how the grid\n",
        "changes when you adjust the `angle_degrees` variable."
      ]
    },
    {
      "cell_type": "code",
      "metadata": {},
      "source": [
        "grid_plotter = aplt.Grid2DPlotter(grid=grid_rotated)\n",
        "grid_plotter.set_title(\"Grid Rotated 60 Degrees\")\n",
        "grid_plotter.figure_2d()"
      ],
      "outputs": [],
      "execution_count": null
    },
    {
      "cell_type": "markdown",
      "metadata": {},
      "source": [
        "Next, we convert the rotated grid to elliptical coordinates using:\n",
        "\n",
        "$\\eta = \\sqrt{(x_r)^2 + (y_r)^2/q^2}$\n",
        "\n",
        "Where `q` is the axis-ratio of the ellipse and `(x_r, y_r)` are the rotated coordinates. \n",
        "\n",
        "Elliptical coordinates are a system used to describe positions in relation to an ellipse rather than a circle. They \n",
        "are particularly useful in astronomy when dealing with objects like galaxies, which often have elliptical shapes \n",
        "due to their inclination or intrinsic shape.\n",
        "\n",
        "*Exercise*: Try converting the grid to elliptical coordinates using a different axis-ratio, for example 0.3 or 0.8.\n",
        "What happens to the grid when you adjust the `axis_ratio` variable?"
      ]
    },
    {
      "cell_type": "code",
      "metadata": {},
      "source": [
        "axis_ratio = 0.5\n",
        "eta = np.sqrt((grid_rotated[:, 0]) ** 2 + (grid_rotated[:, 1]) ** 2 / axis_ratio**2)"
      ],
      "outputs": [],
      "execution_count": null
    },
    {
      "cell_type": "markdown",
      "metadata": {},
      "source": [
        "Above, the angle $\\phi$ (in degrees) was used to rotate the grid, and the axis-ratio $q$ was used to convert the grid \n",
        "to elliptical coordinates.\n",
        "\n",
        "From now on, we'll describe ellipticity using \"elliptical components\" $\\epsilon_{1}$ and $\\epsilon_{2}$, calculated \n",
        "from $\\phi$ and $q$:\n",
        "\n",
        "$\\epsilon_{1} = \\frac{1 - q}{1 + q} \\sin(2\\phi)$  \n",
        "$\\epsilon_{2} = \\frac{1 - q}{1 + q} \\cos(2\\phi)$\n",
        "\n",
        "We'll refer to these as `ell_comps` in the code for brevity.\n",
        "\n",
        "Future tutorials will explain why $\\epsilon_{1}$ and $\\epsilon_{2}$ are preferred over $q$ and $\\phi$.\n",
        "\n",
        "*Exercise*: Try computing the elliptical components from the axis-ratio and angle above. What happens to the elliptical\n",
        "components when you adjust the `axis_ratio` and `angle_degrees` variables?"
      ]
    },
    {
      "cell_type": "code",
      "metadata": {},
      "source": [
        "fac = (1 - axis_ratio) / (1 + axis_ratio)\n",
        "epsilon_y = fac * np.sin(2 * np.radians(angle_degrees))\n",
        "epsilon_x = fac * np.cos(2 * np.radians(angle_degrees))\n",
        "\n",
        "ell_comps = (epsilon_y, epsilon_x)\n",
        "\n",
        "print(\"Elliptical Components:\")\n",
        "print(ell_comps)\n"
      ],
      "outputs": [],
      "execution_count": null
    },
    {
      "cell_type": "markdown",
      "metadata": {},
      "source": [
        "__Light Profiles__\n",
        "\n",
        "Galaxies are collections of stars, gas, dust, and other astronomical objects that emit light. Astronomers study this \n",
        "light to understand various properties of galaxies.\n",
        "\n",
        "To model the light of a galaxy, we use light profiles, which are mathematical functions that describe how a galaxy's \n",
        "light is distributed across space. By applying these light profiles to 2D grids of $(y, x)$ coordinates, we can \n",
        "create images that represent a galaxy's luminous emission.\n",
        "\n",
        "A commonly used light profile is the `Sersic` profile, which is widely adopted in astronomy for representing galaxy \n",
        "light. The `Sersic` profile is defined by the equation:\n",
        "\n",
        "$I_{\\rm Ser} (\\eta_{\\rm l}) = I \\exp \\left\\{ -k \\left[ \\left( \\frac{\\eta}{R} \\right)^{\\frac{1}{n}} - 1 \\right] \\right\\}$\n",
        "\n",
        "In this equation:\n",
        "\n",
        " - $\\eta$ represents the elliptical coordinates of the profile in arc-seconds (refer to earlier sections for elliptical coordinates).\n",
        " - $I$ is the intensity normalization of the profile, given in arbitrary units, which controls the overall brightness of the Sersic profile.\n",
        " - $R$ is the effective radius in arc-seconds, which determines the size of the profile.\n",
        " - $n$ is the Sersic index, which defines how 'steep' the profile is, influencing the concentration of light.\n",
        " - $k$ is a constant that ensures half the light of the profile lies within the radius $R$, where $k = 2n - \\frac{1}{3}$.\n",
        "\n",
        "We can evaluate this function using values for $(\\eta, I, R, n)$ to calculate the intensity of the profile at \n",
        "a particular elliptical coordinate."
      ]
    },
    {
      "cell_type": "code",
      "metadata": {},
      "source": [
        "elliptical_coordinate = (\n",
        "    0.5  # The elliptical coordinate where we compute the intensity, in arc-seconds.\n",
        ")\n",
        "intensity = 1.0  # Intensity normalization of the profile in arbitrary units.\n",
        "effective_radius = 2.0  # Effective radius of the profile in arc-seconds.\n",
        "sersic_index = 1.0  # Sersic index of the profile.\n",
        "k = 2 * sersic_index - (\n",
        "    1.0 / 3.0\n",
        ")  # Calculating the constant k, note that this is an approximation.\n",
        "\n",
        "# Calculate the intensity of the Sersic profile at a specific elliptical coordinate.\n",
        "sersic_value = np.exp(\n",
        "    -k * ((elliptical_coordinate / effective_radius) ** (1.0 / sersic_index) - 1.0)\n",
        ")\n",
        "\n",
        "print(\"Intensity of Sersic Light Profile at Elliptical Coordinate 0.5:\")\n",
        "print(sersic_value)"
      ],
      "outputs": [],
      "execution_count": null
    },
    {
      "cell_type": "markdown",
      "metadata": {},
      "source": [
        "The calculation above gives the intensity of the Sersic profile at an elliptical coordinate of 0.5.\n",
        "\n",
        "To create a complete image of the Sersic profile, we can evaluate the intensity at every point in our grid of \n",
        "elliptical coordinates."
      ]
    },
    {
      "cell_type": "code",
      "metadata": {},
      "source": [
        "sersic_image = np.exp(-k * ((eta / effective_radius) ** (1.0 / sersic_index) - 1.0))"
      ],
      "outputs": [],
      "execution_count": null
    },
    {
      "cell_type": "markdown",
      "metadata": {},
      "source": [
        "When we plot the resulting image, we can see how the properties of the grid affect its appearance:\n",
        "\n",
        " - The peak intensity is at the position (0.3\", 0.5\"), where we shifted the grid.\n",
        " - The image is elongated along a 60\u00b0 counter-clockwise angle, corresponding to the rotation of the grid.\n",
        " - The image has an elliptical shape, consistent with the axis ratio of 0.5.\n",
        "\n",
        "This demonstrates how the geometry of the grid directly influences the appearance of the light profile.\n",
        "\n",
        "*Exercise*: Try changing the values of `centre`, `ell_comps`, `effective_radius`, and `sersic_index` above. \n",
        "Observe how these adjustments change the Sersic profile image."
      ]
    },
    {
      "cell_type": "code",
      "metadata": {},
      "source": [
        "array_plotter = aplt.Array2DPlotter(\n",
        "    array=al.Array2D(\n",
        "        values=sersic_image, mask=grid.mask\n",
        "    ),  # The `Array2D` object is discussed below.\n",
        ")\n",
        "array_plotter.set_title(\"Sersic Image\")\n",
        "array_plotter.figure_2d()"
      ],
      "outputs": [],
      "execution_count": null
    },
    {
      "cell_type": "markdown",
      "metadata": {},
      "source": [
        "Instead of manually handling these transformations, we can use `LightProfile` objects from the `light_profile` \n",
        "module (`lp`) for faster and more efficient calculations.\n",
        "\n",
        "Below, we define a `Sersic` light profile using the `Sersic` object. We can print the profile to display its parameters."
      ]
    },
    {
      "cell_type": "code",
      "metadata": {},
      "source": [
        "sersic_light_profile = al.lp.Sersic(\n",
        "    centre=(0.0, 0.0),\n",
        "    ell_comps=(0.0, 0.1),\n",
        "    intensity=1.0,\n",
        "    effective_radius=2.0,\n",
        "    sersic_index=1.0,\n",
        ")\n",
        "\n",
        "print(sersic_light_profile)"
      ],
      "outputs": [],
      "execution_count": null
    },
    {
      "cell_type": "markdown",
      "metadata": {},
      "source": [
        "With this `Sersic` light profile, we can create an image by passing a grid to its `image_2d_from` method.\n",
        "\n",
        "The calculation will internally handle all the coordinate transformations and intensity evaluations we performed \n",
        "manually earlier, making it much simpler.\n",
        "\n",
        "The `Sersic` profile we created just above is different from the one we used to manually compute the image,\n",
        "so the image will look different. However, the process is the same."
      ]
    },
    {
      "cell_type": "code",
      "metadata": {},
      "source": [
        "image = sersic_light_profile.image_2d_from(grid=grid)\n",
        "\n",
        "array_plotter = aplt.Array2DPlotter(\n",
        "    array=image,\n",
        ")\n",
        "array_plotter.set_title(\"Sersic Image via Light Profile\")\n",
        "array_plotter.figure_2d()"
      ],
      "outputs": [],
      "execution_count": null
    },
    {
      "cell_type": "markdown",
      "metadata": {},
      "source": [
        "The `image` is returned as an `Array2D` object. Similar to a `Grid2D`, it has two forms:\n",
        "\n",
        " - `native`: A 2D array with shape [total_y_image_pixels, total_x_image_pixels].\n",
        " - `slim`: A 1D array that flattens this data into shape [total_y_image_pixels * total_x_image_pixels].\n",
        "\n",
        "The `native` form is often used for visualizations, while the `slim` form can be useful for certain calculations."
      ]
    },
    {
      "cell_type": "code",
      "metadata": {},
      "source": [
        "print(\"Intensity of pixel 0:\")\n",
        "print(image.native[0, 0])\n",
        "print(\"Intensity of pixel 1:\")\n",
        "print(image.slim[1])"
      ],
      "outputs": [],
      "execution_count": null
    },
    {
      "cell_type": "markdown",
      "metadata": {},
      "source": [
        "To visualize the light profile's image, we use a `LightProfilePlotter`.\n",
        "\n",
        "We provide it with the light profile and the grid, which are used to create and plot the image."
      ]
    },
    {
      "cell_type": "code",
      "metadata": {},
      "source": [
        "light_profile_plotter = aplt.LightProfilePlotter(\n",
        "    light_profile=sersic_light_profile, grid=grid\n",
        ")\n",
        "light_profile_plotter.set_title(\"Image via LightProfilePlotter\")\n",
        "light_profile_plotter.figures_2d(image=True)"
      ],
      "outputs": [],
      "execution_count": null
    },
    {
      "cell_type": "markdown",
      "metadata": {},
      "source": [
        "The `LightProfilePlotter` also has methods to plot the 1D radial profile of the light profile. This profile shows\n",
        "how the intensity of the light changes as a function of distance from the profile's center. This is a more informative\n",
        "way to visualize the light profile's distribution.\n",
        "\n",
        "The 1D plot below is a `semilogy` plot, meaning that the x-axis (showing the radial distance in arc-seconds) is linear,\n",
        "while the y-axis (showing the intensity) is log10. This is a common way to visualize light profiles, as it highlights\n",
        "the fainter outer regions of the profile. A log x-axis is also a common choice.\n",
        "\n",
        "**Exercise**: Try plotting the 1D radial profile of Sersic profiles with different effective radii and Sersic indices.\n",
        "Does the 1D representation show more clearly how the light distribution changes with these parameters?"
      ]
    },
    {
      "cell_type": "code",
      "metadata": {},
      "source": [
        "light_profile_plotter = aplt.LightProfilePlotter(\n",
        "    light_profile=sersic_light_profile, grid=grid\n",
        ")\n",
        "light_profile_plotter.set_title(\"Sersic 1D Radial Profile\")\n",
        "light_profile_plotter.figures_1d(image=True)"
      ],
      "outputs": [],
      "execution_count": null
    },
    {
      "cell_type": "markdown",
      "metadata": {},
      "source": [
        "Since galaxy light distributions often cover a wide range of values, they are typically better visualized on a log10 \n",
        "scale. This approach helps highlight details in the faint outskirts of a light profile.\n",
        "\n",
        "The `MatPlot2D` object has a `use_log10` option that applies this transformation automatically. Below, you can see \n",
        "that the image plotted in log10 space reveals more details."
      ]
    },
    {
      "cell_type": "code",
      "metadata": {},
      "source": [
        "light_profile_plotter = aplt.LightProfilePlotter(\n",
        "    light_profile=sersic_light_profile,\n",
        "    grid=grid,\n",
        "    mat_plot_2d=aplt.MatPlot2D(use_log10=True),\n",
        ")\n",
        "light_profile_plotter.set_title(\"Sersic Image\")\n",
        "light_profile_plotter.figures_2d(image=True)\n",
        "# %%\n",
        "'''\n",
        "__Galaxies__\n",
        "\n",
        "Now, let's introduce `Galaxy` objects, which are key components in **PyAutoLens**.\n",
        "\n",
        "A light profile represents a single feature of a galaxy, such as its bulge or disk. To model a complete galaxy, \n",
        "we combine multiple `LightProfiles` into a `Galaxy` object. This allows us to create images that include different \n",
        "components of a galaxy.\n",
        "\n",
        "In addition to light profiles, a `Galaxy` has a `redshift`, which indicates how far away it is from Earth. The redshift \n",
        "is essential for performing unit conversions using cosmological calculations, such as converting arc-seconds into \n",
        "kiloparsecs. (A kiloparsec is a distance unit in astronomy, equal to about 3.26 million light-years.)\n",
        "\n",
        "Let's start by creating a galaxy with two `Sersic` light profiles, which notationally we will consider to represent\n",
        "a bulge and disk component of the galaxy, the two most important structures seen in galaxies which drive the\n",
        "Hubble tuning fork classification shown at the beginning of this tutorial.\n",
        "'''"
      ],
      "outputs": [],
      "execution_count": null
    },
    {
      "cell_type": "code",
      "metadata": {},
      "source": [
        "bulge = al.lp.Sersic(\n",
        "    centre=(0.0, 0.0),\n",
        "    ell_comps=(0.0, 0.111111),\n",
        "    intensity=1.0,\n",
        "    effective_radius=1.0,\n",
        "    sersic_index=2.5,\n",
        ")\n",
        "\n",
        "disk = al.lp.Sersic(\n",
        "    centre=(0.0, 0.0),\n",
        "    ell_comps=(0.0, 0.3),\n",
        "    intensity=0.3,\n",
        "    effective_radius=3.0,\n",
        "    sersic_index=1.0,\n",
        ")\n",
        "\n",
        "galaxy = al.Galaxy(redshift=0.5, bulge=bulge, disk=disk)\n",
        "\n",
        "print(galaxy)"
      ],
      "outputs": [],
      "execution_count": null
    },
    {
      "cell_type": "markdown",
      "metadata": {},
      "source": [
        "We can pass a 2D grid to a light profile to compute its image using the `image_2d_from` method. \n",
        "\n",
        "The same approach works for a `Galaxy` object:"
      ]
    },
    {
      "cell_type": "code",
      "metadata": {},
      "source": [
        "image = galaxy.image_2d_from(grid=grid)\n",
        "\n",
        "print(\"Intensity of `Grid2D` pixel 0:\")\n",
        "print(image.native[0, 0])\n",
        "print(\"Intensity of `Grid2D` pixel 1:\")\n",
        "print(image.native[0, 1])\n",
        "print(\"Intensity of `Grid2D` pixel 2:\")\n",
        "print(image.native[0, 2])\n",
        "print(\"...\")\n",
        "\n",
        "array_plotter = aplt.Array2DPlotter(\n",
        "    array=image,\n",
        ")\n",
        "array_plotter.set_title(\"Bulge+Disk Image via Galaxy\")\n",
        "array_plotter.figure_2d()"
      ],
      "outputs": [],
      "execution_count": null
    },
    {
      "cell_type": "markdown",
      "metadata": {},
      "source": [
        "We can use a `GalaxyPlotter` to plot the galaxy's image, just like how we used `LightProfilePlotter` for a light \n",
        "profile."
      ]
    },
    {
      "cell_type": "code",
      "metadata": {},
      "source": [
        "galaxy_plotter = aplt.GalaxyPlotter(galaxy=galaxy, grid=grid)\n",
        "galaxy_plotter.set_title(\"Galaxy Bulge+Disk Image\")\n",
        "galaxy_plotter.figures_2d(image=True)"
      ],
      "outputs": [],
      "execution_count": null
    },
    {
      "cell_type": "markdown",
      "metadata": {},
      "source": [
        "The bulge dominates the center of the image, and is pretty much the only luminous emission we see can see on a linear\n",
        "scale. The disk's emission is present, but it is much fainter and spread over a larger area.\n",
        "\n",
        "We can confirm this using the `subplot_of_light_profiles` method, which plots each individual light profile separately."
      ]
    },
    {
      "cell_type": "code",
      "metadata": {},
      "source": [
        "galaxy_plotter.set_title(\"Galaxy Bulge+Disk Subplot\")\n",
        "galaxy_plotter.subplot_of_light_profiles(image=True)"
      ],
      "outputs": [],
      "execution_count": null
    },
    {
      "cell_type": "markdown",
      "metadata": {},
      "source": [
        "Because galaxy light distributions often follow a log10 pattern, plotting in log10 space helps reveal details in the \n",
        "outskirts of the light profile, in this case the emission of the disk.\n",
        "\n",
        "This is especially helpful to separate the bulge and disk profiles, which have different intensities and sizes."
      ]
    },
    {
      "cell_type": "code",
      "metadata": {},
      "source": [
        "galaxy_plotter = aplt.GalaxyPlotter(\n",
        "    galaxy=galaxy, grid=grid, mat_plot_2d=aplt.MatPlot2D(use_log10=True)\n",
        ")\n",
        "galaxy_plotter.set_title(\"Galaxy Bulge+Disk Image\")\n",
        "galaxy_plotter.figures_2d(image=True)"
      ],
      "outputs": [],
      "execution_count": null
    },
    {
      "cell_type": "markdown",
      "metadata": {},
      "source": [
        "The `figures_1d_decomposed` method allows us to visualize each light profile's contribution in 1D.\n",
        "\n",
        "1D plots show the intensity of the light profile as a function of distance from the profile\u2019s center. The bulge\n",
        "and disk profiles share the same `centre`, meaning that plotting them together shows how they overlap. If the\n",
        "`centre` of the profiles were different, they would still be plotted on top of each other, but as a user you\n",
        "would need to remember that the profiles are not aligned in 2D."
      ]
    },
    {
      "cell_type": "code",
      "metadata": {},
      "source": [
        "galaxy_plotter.set_title(\"Bulge+Disk 1D Decomposed\")\n",
        "galaxy_plotter.figures_1d_decomposed(image=True)"
      ],
      "outputs": [],
      "execution_count": null
    },
    {
      "cell_type": "markdown",
      "metadata": {},
      "source": [
        "We can group multiple galaxies at the same redshift into a `Galaxies` object, which is created from a list of \n",
        "individual galaxies.\n",
        "\n",
        "Below, we create an additional galaxy and combine it with the original galaxy into a `Galaxies` object. This could\n",
        "represent two galaxies merging or interacting with each other, which is commonly seen in studies of galaxy evolution."
      ]
    },
    {
      "cell_type": "code",
      "metadata": {},
      "source": [
        "extra_galaxy = al.Galaxy(\n",
        "    redshift=0.5,\n",
        "    bulge=al.lp.Sersic(\n",
        "        centre=(0.2, 0.3),\n",
        "        ell_comps=(0.0, 0.111111),\n",
        "        intensity=1.0,\n",
        "        effective_radius=1.0,\n",
        "        sersic_index=2.5,\n",
        "    ),\n",
        ")\n",
        "\n",
        "galaxies = al.Galaxies(galaxies=[galaxy, extra_galaxy])"
      ],
      "outputs": [],
      "execution_count": null
    },
    {
      "cell_type": "markdown",
      "metadata": {},
      "source": [
        "The `Galaxies` object has similar methods as those for light profiles and individual galaxies.\n",
        "\n",
        "For example, `image_2d_from` sums the images of all the galaxies."
      ]
    },
    {
      "cell_type": "code",
      "metadata": {},
      "source": [
        "image = galaxies.image_2d_from(grid=grid)"
      ],
      "outputs": [],
      "execution_count": null
    },
    {
      "cell_type": "markdown",
      "metadata": {},
      "source": [
        "We can plot the combined image using a `GalaxiesPlotter`, just like with other plotters."
      ]
    },
    {
      "cell_type": "code",
      "metadata": {},
      "source": [
        "galaxies_plotter = aplt.GalaxiesPlotter(galaxies=galaxies, grid=grid)\n",
        "galaxies_plotter.figures_2d(image=True)"
      ],
      "outputs": [],
      "execution_count": null
    },
    {
      "cell_type": "markdown",
      "metadata": {},
      "source": [
        "A subplot of each individual galaxy image can also be created."
      ]
    },
    {
      "cell_type": "code",
      "metadata": {},
      "source": [
        "galaxies_plotter.subplot_galaxy_images()"
      ],
      "outputs": [],
      "execution_count": null
    },
    {
      "cell_type": "markdown",
      "metadata": {},
      "source": [
        "Because galaxy light distributions often follow a log10 pattern, plotting in log10 space helps reveal details in the \n",
        "outskirts of the light profile.\n",
        "\n",
        "This is especially helpful when visualizing how multiple galaxies overlap."
      ]
    },
    {
      "cell_type": "code",
      "metadata": {},
      "source": [
        "galaxies_plotter = aplt.GalaxiesPlotter(\n",
        "    galaxies=galaxies, grid=grid, mat_plot_2d=aplt.MatPlot2D(use_log10=True)\n",
        ")\n",
        "galaxies_plotter.figures_2d(image=True)"
      ],
      "outputs": [],
      "execution_count": null
    },
    {
      "cell_type": "markdown",
      "metadata": {},
      "source": [
        "__Unit Conversion__\n",
        "\n",
        "Earlier, we mentioned that a galaxy\u2019s `redshift` allows us to convert between arcseconds and kiloparsecs.\n",
        "\n",
        "A redshift measures how much a galaxy's light is stretched by the Universe's expansion. A higher redshift means the \n",
        "galaxy is further away, and its light has been stretched more. By knowing a galaxy\u2019s redshift, we can convert angular \n",
        "distances (like arcseconds) to physical distances (like kiloparsecs).\n",
        "\n",
        "To perform this conversion, we use a cosmological model that describes the Universe's expansion. Below, we use \n",
        "the `Planck15` cosmology, which is based on observations from the Planck satellite."
      ]
    },
    {
      "cell_type": "code",
      "metadata": {},
      "source": [
        "cosmology = al.cosmo.Planck15()\n",
        "\n",
        "kpc_per_arcsec = cosmology.kpc_per_arcsec_from(redshift=galaxy.redshift)\n",
        "\n",
        "print(\"Kiloparsecs per Arcsecond:\")\n",
        "print(kpc_per_arcsec)\n"
      ],
      "outputs": [],
      "execution_count": null
    },
    {
      "cell_type": "markdown",
      "metadata": {},
      "source": [
        "This `kpc_per_arcsec` can be used as a conversion factor between arcseconds and kiloparsecs when plotting images of\n",
        "galaxies.\n",
        "\n",
        "We compute this value and plot the image in converted units of kiloparsecs.\n",
        "\n",
        "This passes the plotting modules `Units` object a `ticks_convert_factor` and manually specified the new units of the\n",
        "plot ticks."
      ]
    },
    {
      "cell_type": "code",
      "metadata": {},
      "source": [
        "units = aplt.Units(ticks_convert_factor=kpc_per_arcsec, ticks_label=\" kpc\")\n",
        "\n",
        "mat_plot = aplt.MatPlot2D(units=units)\n",
        "\n",
        "galaxy_plotter = aplt.GalaxyPlotter(galaxy=galaxy, grid=grid, mat_plot_2d=mat_plot)\n",
        "galaxy_plotter.figures_2d(image=True)"
      ],
      "outputs": [],
      "execution_count": null
    },
    {
      "cell_type": "markdown",
      "metadata": {},
      "source": [
        "__Wrap Up__\n",
        "\n",
        "You've learnt the basic quantities used to study galaxy morphology. \n",
        "\n",
        "Lets summarize what we've learnt:\n",
        "\n",
        "- **Grids**: We've learnt that a grid is a set of 2D coordinates that represent the positions where we measure the\n",
        "light of a galaxy. \n",
        "\n",
        "- ** Geometry**: We've learnt how to shift, rotate, and convert grids to elliptical coordinates.\n",
        "\n",
        "- **Light Profiles**: We've learnt that light profiles are mathematical functions that describe how a galaxy's light is\n",
        "distributed in space. We've used the `Sersic` profile to create images of galaxies.\n",
        "\n",
        "- **Galaxies**: We've learnt that galaxies are collections of light profiles that represent a galaxy's light. We've\n",
        "created galaxies with multiple light profiles and visualized their images.\n",
        "\n",
        "- **Unit Conversion**: We've learnt that by assuming redshifts for galaxies we can convert their quantities from\n",
        "arcseconds to kiloparsecs.\n",
        "\n",
        "__Advanced Topics__\n",
        "\n",
        "The following advanced topics are not important for a new user learning the software for the first time. However,\n",
        "once you are an expert user, the following guides and concepts are important for doing accurate galaxy morphology\n",
        "analysis, and thus may be things you want to commit to memory as future references.\n",
        "\n",
        "__Other Unit Conversion__\n",
        "\n",
        "Above, we used a redshift to convert between arcseconds and kiloparsecs. This is just one example of a unit conversion\n",
        "that can be performed using a galaxy's redshift.\n",
        "\n",
        "There are many other unit conversions that can be performed, such as converting the units of a galaxy's image from\n",
        "to what Astronomers call an AB magnitude system, which is a system used to measure the brightness of galaxies.\n",
        "\n",
        "The `autolens_workspace/*/guides/units` module contains many examples of unit conversions and how to use them,\n",
        "but they will not be covered in the *HowToLens* tutorials.\n",
        "\n",
        "__Over Sampling__\n",
        "\n",
        "Over sampling is a numerical technique where the images of light profiles and galaxies are evaluated \n",
        "on a higher resolution grid than the image data to ensure the calculation is accurate. \n",
        "\n",
        "For a new user, the details of over-sampling are not important, therefore just be aware that all calculations use an\n",
        "adaptive over sampling scheme which high accuracy across all use cases.\n",
        "\n",
        "Once you are more experienced, you should read up on over-sampling in more detail via \n",
        "the `autolens_workspace/*/guides/over_sampling.ipynb` notebook."
      ]
    },
    {
      "cell_type": "code",
      "metadata": {},
      "source": [],
      "outputs": [],
      "execution_count": null
    }
  ],
  "metadata": {
    "anaconda-cloud": {},
    "kernelspec": {
      "display_name": "Python 3",
      "language": "python",
      "name": "python3"
    },
    "language_info": {
      "codemirror_mode": {
        "name": "ipython",
        "version": 3
      },
      "file_extension": ".py",
      "mimetype": "text/x-python",
      "name": "python",
      "nbconvert_exporter": "python",
      "pygments_lexer": "ipython3",
      "version": "3.6.1"
    }
  },
  "nbformat": 4,
  "nbformat_minor": 4
}