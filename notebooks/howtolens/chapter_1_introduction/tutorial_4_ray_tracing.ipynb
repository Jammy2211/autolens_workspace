{
  "cells": [
    {
      "cell_type": "markdown",
      "metadata": {},
      "source": [
        "Tutorial 4: Ray Tracing\n",
        "=======================\n",
        "\n",
        "In this tutorial, we use combinations of light profiles, mass profiles and galaxies to perform our first ray-tracing \n",
        "calculations!\n",
        "\n",
        "A strong gravitational lens is a system where two (or more) galaxies align perfectly down our line of sight from Earth\n",
        "such that the foreground galaxy's mass (represented as mass profiles) deflects the light (represented as light profiles)\n",
        "of a background source galaxy(s).\n",
        "\n",
        "When the alignment is just right and the lens is massive enough, the background source galaxy appears multiple\n",
        "times. The schematic below shows such a system, where light-rays from the source are deflected around the lens galaxy\n",
        "to the observer following multiple distinct paths.\n",
        "\n",
        "![Schematic of Gravitational Lensing](https://i.imgur.com/zB6tIdI.jpg)\n",
        "\n",
        "As an observer, we don't see the source's true appearance (e.g. a round blob of light). Instead, we only observe its\n",
        "light after it has been deflected and lensed by the foreground galaxies.\n",
        "\n",
        "In the schematic above, we used the terms 'image-plane' and 'source-plane'. In lensing, a 'plane' is a collection of\n",
        "galaxies at the same redshift (meaning that they are physically parallel to one another). In this tutorial, we'll\n",
        "create a strong lensing system made-up of planes, like the one pictured above. Whilst a plane can contain\n",
        "any number of galaxies, in this tutorial we'll stick to just one lens galaxy and one source galaxy.\n",
        "\n",
        "In this tutorial, we therefore introduce potentially the most important object, the `Tracer`. This exploits the\n",
        "redshift information of galaxies to automatically perform ray-tracing calculations."
      ]
    },
    {
      "cell_type": "code",
      "metadata": {},
      "source": [
        "%matplotlib inline\n",
        "from pyprojroot import here\n",
        "workspace_path = str(here())\n",
        "%cd $workspace_path\n",
        "print(f\"Working Directory has been set to `{workspace_path}`\")\n",
        "\n",
        "import autolens as al\n",
        "import autolens.plot as aplt"
      ],
      "outputs": [],
      "execution_count": null
    },
    {
      "cell_type": "markdown",
      "metadata": {},
      "source": [
        "__Initial Setup__\n",
        "\n",
        "We again use the same 2D grid as the previous tutorials.\n",
        "\n",
        "We should now think of this grid as the coordinates we will \"trace\" from the image-plane to the source-plane.\n",
        "\n",
        "We therefore name it the `image_plane_grid`."
      ]
    },
    {
      "cell_type": "code",
      "metadata": {},
      "source": [
        "image_plane_grid = al.Grid2D.uniform(shape_native=(100, 100), pixel_scales=0.05)"
      ],
      "outputs": [],
      "execution_count": null
    },
    {
      "cell_type": "markdown",
      "metadata": {},
      "source": [
        "We next create galaxies, made up of light and mass profiles, which we will use to perform ray-tracing.\n",
        "\n",
        "We name them `lens_galaxy` and `source_galaxy`, to reflect their role in the lensing schematic above.\n",
        "\n",
        "The redshifts of the galaxies now take on more significance, as they are used when we perform ray-tracing calculations\n",
        "below to determine the order of calculations."
      ]
    },
    {
      "cell_type": "code",
      "metadata": {},
      "source": [
        "sis_mass_profile = al.mp.IsothermalSph(centre=(0.0, 0.0), einstein_radius=1.6)\n",
        "\n",
        "lens_galaxy = al.Galaxy(redshift=0.5, mass=sis_mass_profile)\n",
        "\n",
        "print(lens_galaxy)\n",
        "\n",
        "sersic_light_profile = al.lp.SersiclCoreSph(\n",
        "    centre=(0.0, 0.0), intensity=1.0, effective_radius=1.0, sersic_index=1.0\n",
        ")\n",
        "\n",
        "source_galaxy = al.Galaxy(redshift=1.0, light=sersic_light_profile)\n",
        "\n",
        "print(source_galaxy)"
      ],
      "outputs": [],
      "execution_count": null
    },
    {
      "cell_type": "markdown",
      "metadata": {},
      "source": [
        "__Tracer__\n",
        "\n",
        "We now use use the lens and source galaxies to perform lensing and ray-tracing calculations.\n",
        "\n",
        "When we pass our galaxies into the `Tracer` below, the following happens:\n",
        "\n",
        "1) The galaxies are ordered in ascending redshift.\n",
        "2) The galaxies are grouped in a list at every unique redshift in a \"plane\"."
      ]
    },
    {
      "cell_type": "code",
      "metadata": {},
      "source": [
        "tracer = al.Tracer(galaxies=[lens_galaxy, source_galaxy])"
      ],
      "outputs": [],
      "execution_count": null
    },
    {
      "cell_type": "markdown",
      "metadata": {},
      "source": [
        "The tracer has a `planes` attributes, where each plane is a group of all galaxies at the same redshift.\n",
        "\n",
        "This simple lens system has just two galaxies at two unique redshifts, so the tracer has two planes. \n",
        "\n",
        "The planes list therefore has length 2, with the first entry being the image-plane and the second entry being the\n",
        "source-plane."
      ]
    },
    {
      "cell_type": "code",
      "metadata": {},
      "source": [
        "print(tracer.planes)\n",
        "print(len(tracer.planes))"
      ],
      "outputs": [],
      "execution_count": null
    },
    {
      "cell_type": "markdown",
      "metadata": {},
      "source": [
        "We can print each plane, which shows the galaxies that it contains.\n",
        " \n",
        "The contents of each plane is the `Galaxies` object we introduced in the previous tutorial. "
      ]
    },
    {
      "cell_type": "code",
      "metadata": {},
      "source": [
        "print(\"Image Plane:\")\n",
        "print(tracer.planes[0])\n",
        "print()\n",
        "print(\"Source Plane:\")\n",
        "print(tracer.planes[1])"
      ],
      "outputs": [],
      "execution_count": null
    },
    {
      "cell_type": "markdown",
      "metadata": {},
      "source": [
        "This allows us to perform calculations for each plane individually. \n",
        "\n",
        "For example we can calculate and plot the deflection angles of all image-plane galaxies "
      ]
    },
    {
      "cell_type": "code",
      "metadata": {},
      "source": [
        "deflections_yx_2d = tracer.planes[0].deflections_yx_2d_from(grid=image_plane_grid)\n",
        "\n",
        "print(\"deflection-angles of `Plane`'s `Grid2D` pixel 0:\")\n",
        "print(deflections_yx_2d.native[0, 0, 0])\n",
        "print(deflections_yx_2d.native[0, 0, 0])\n",
        "\n",
        "print(\"deflection-angles of `Plane`'s `Grid2D` pixel 1:\")\n",
        "print(deflections_yx_2d.native[0, 1, 1])\n",
        "print(deflections_yx_2d.native[0, 1, 1])\n",
        "\n",
        "galaxies_plotter = aplt.GalaxiesPlotter(\n",
        "    galaxies=tracer.planes[0], grid=image_plane_grid\n",
        ")\n",
        "galaxies_plotter.figures_2d(deflections_y=True, deflections_x=True)"
      ],
      "outputs": [],
      "execution_count": null
    },
    {
      "cell_type": "markdown",
      "metadata": {},
      "source": [
        "__Manual Ray Tracing__\n",
        "\n",
        "We have frequently plotted the deflection angles of mass profiles in this chapter, but we are yet to actually use\n",
        "them to perform ray-tracing!\n",
        "\n",
        "The deflection angles tell us how light is \"deflected\" by the lens galaxy. \n",
        "\n",
        "By subtracting the $(y,x)$ grid of deflection angles from the $(y,x)$ grid of image-plane coordinates we can determine\n",
        "how the mass profile deflections light and in turn compute the source plane coordinates:\n",
        "\n",
        " `source_plane_coordinates = image_plane_coordinates - image_plane_deflection_angles`\n",
        "\n",
        "We perform this below using the `traced_grid_2d_from` method of the image-plane galaxies:"
      ]
    },
    {
      "cell_type": "code",
      "metadata": {},
      "source": [
        "source_plane_grid = tracer.planes[0].traced_grid_2d_from(grid=image_plane_grid)\n",
        "\n",
        "print(\"Traced source-plane coordinates of `Grid2D` pixel 0:\")\n",
        "print(source_plane_grid.native[0, 0, :])\n",
        "print(\"Traced source-plane coordinates of `Grid2D` pixel 1:\")\n",
        "print(source_plane_grid.native[0, 1, :])"
      ],
      "outputs": [],
      "execution_count": null
    },
    {
      "cell_type": "markdown",
      "metadata": {},
      "source": [
        "__Ray Tracing Images__\n",
        "\n",
        "We now have grid of coordinates in the source-plane.\n",
        "\n",
        "This means we can compute how the source galaxy's light appears after gravitational lensing.\n",
        "\n",
        "By passing the source-plane grid to the source galaxy's `image_2d_from` method, we can compute its lensed image."
      ]
    },
    {
      "cell_type": "code",
      "metadata": {},
      "source": [
        "source_image = source_galaxy.image_2d_from(grid=source_plane_grid)"
      ],
      "outputs": [],
      "execution_count": null
    },
    {
      "cell_type": "markdown",
      "metadata": {},
      "source": [
        "To be certain the source image has been lensed, lets plot it.\n",
        "\n",
        "We will use a galaxies plotter again, however like the previous times we have used a plotter we now pass it a\n",
        "ray-traced source-plane grid, as opposed to a uniform image-plane grid."
      ]
    },
    {
      "cell_type": "code",
      "metadata": {},
      "source": [
        "mat_plot = aplt.MatPlot2D(title=aplt.Title(label=\"Lensed Source Image\"))\n",
        "\n",
        "galaxies_plotter = aplt.GalaxiesPlotter(\n",
        "    galaxies=al.Galaxies(galaxies=[source_galaxy]),\n",
        "    grid=source_plane_grid,\n",
        "    mat_plot_2d=mat_plot,\n",
        ")\n",
        "galaxies_plotter.figures_2d(image=True)"
      ],
      "outputs": [],
      "execution_count": null
    },
    {
      "cell_type": "markdown",
      "metadata": {},
      "source": [
        "The lensed source appears as a rather spectacular ring of light!\n",
        "\n",
        "Why is it a ring? Well, consider that:\n",
        "\n",
        "- The lens galaxy is centred at (0.0\", 0.0\").\n",
        "- The source-galaxy is centred at (0.0\", 0.0\").\n",
        "- The lens galaxy is a spherical mass profile.\n",
        "- The source-galaxy ia a spherical light profile.\n",
        "\n",
        "Given the perfect symmetry of the system, every ray-traced path the source's light takes around the lens galaxy is \n",
        "radially identical. \n",
        "\n",
        "Therefore, nothing else but a ring of light can form!\n",
        "\n",
        "This is called an 'Einstein Ring' and its radius is called the 'Einstein Radius', which are both named after the man \n",
        "who famously used gravitational lensing to prove his theory of general relativity.\n",
        "\n",
        "We can also plot the \"plane-image\" of the source, which shows its appearance before it is lensed by the mass profile,\n",
        "something that we cannot actually observe."
      ]
    },
    {
      "cell_type": "code",
      "metadata": {},
      "source": [
        "galaxies_plotter = aplt.GalaxiesPlotter(\n",
        "    galaxies=[source_galaxy],\n",
        "    grid=source_plane_grid,\n",
        ")\n",
        "galaxies_plotter.figures_2d(plane_image=True)"
      ],
      "outputs": [],
      "execution_count": null
    },
    {
      "cell_type": "markdown",
      "metadata": {},
      "source": [
        "__Ray Tracing Grids__\n",
        "\n",
        "Lets inspect the image-plane grid and source-plane grid in more detail, using a `Grid2DPlotter`."
      ]
    },
    {
      "cell_type": "code",
      "metadata": {},
      "source": [
        "mat_plot = aplt.MatPlot2D(title=aplt.Title(label=\"Image-plane Grid\"))\n",
        "\n",
        "grid_plotter = aplt.Grid2DPlotter(grid=image_plane_grid, mat_plot_2d=mat_plot)\n",
        "grid_plotter.figure_2d()\n",
        "\n",
        "mat_plot = aplt.MatPlot2D(title=aplt.Title(label=\"Source-plane Grid\"))\n",
        "\n",
        "grid_plotter = aplt.Grid2DPlotter(grid=source_plane_grid, mat_plot_2d=mat_plot)\n",
        "grid_plotter.figure_2d()"
      ],
      "outputs": [],
      "execution_count": null
    },
    {
      "cell_type": "markdown",
      "metadata": {},
      "source": [
        "The source-plane gridlooks very interesting! \n",
        "\n",
        "We can see it is not regular, not uniform, and has an aestetically pleasing visual appearance. Remember that every \n",
        "coordinate on this source-plane grid (e.g. every black dot) corresponds to a coordinate on the image-plane grid that \n",
        "has been deflected by our mass profile; this is strong gravitational lensing in action!\n",
        "\n",
        "We can zoom in on the central regions of the source-plane to reveal a 'diamond like' structure with a fractal like \n",
        "appearance."
      ]
    },
    {
      "cell_type": "code",
      "metadata": {},
      "source": [
        "mat_plot = aplt.MatPlot2D(\n",
        "    title=aplt.Title(label=\"Source-plane Grid2D Zoomed\"),\n",
        "    axis=aplt.Axis(extent=[-0.1, 0.1, -0.1, 0.1]),\n",
        ")\n",
        "\n",
        "grid_plotter = aplt.Grid2DPlotter(grid=source_plane_grid, mat_plot_2d=mat_plot)\n",
        "grid_plotter.figure_2d()"
      ],
      "outputs": [],
      "execution_count": null
    },
    {
      "cell_type": "markdown",
      "metadata": {},
      "source": [
        "__Automatic Ray Tracing__\n",
        "\n",
        "We manually performed ray-tracing above, to illustrate how the calculations are performed, but this is cumbersome and\n",
        "time consuming.\n",
        "\n",
        "Tracers have methods which perform the ray-tracing calculations we illustrated above for us. \n",
        "\n",
        "For example, after supplying our tracer with galaxies it is simply to compute an image of the entire strong lens system\n",
        "using its `image_2d_from` method:"
      ]
    },
    {
      "cell_type": "code",
      "metadata": {},
      "source": [
        "traced_image_2d = tracer.image_2d_from(grid=image_plane_grid)\n",
        "print(\"traced image pixel 1\")\n",
        "print(traced_image_2d.native[0, 0])\n",
        "print(\"traced image pixel 2\")\n",
        "print(traced_image_2d.native[0, 1])\n",
        "print(\"traced image pixel 3\")\n",
        "print(traced_image_2d.native[0, 2])"
      ],
      "outputs": [],
      "execution_count": null
    },
    {
      "cell_type": "markdown",
      "metadata": {},
      "source": [
        "This image appears as the Einstein ring we saw in the previous tutorial."
      ]
    },
    {
      "cell_type": "code",
      "metadata": {},
      "source": [
        "tracer_plotter = aplt.TracerPlotter(tracer=tracer, grid=image_plane_grid)\n",
        "tracer_plotter.figures_2d(image=True)"
      ],
      "outputs": [],
      "execution_count": null
    },
    {
      "cell_type": "markdown",
      "metadata": {},
      "source": [
        "When this function is called, behind the scenes autolens is performing the following steps:\n",
        "\n",
        "1) Use the lens's mass profiles to compute the deflection angle at every image-plane $(y,x)$ grid coordinate.\n",
        "2) Subtract every deflection angles from its corresponding image-plane coordinate to compute the source-plane grid.\n",
        "3) Use the source-plane galaxies to compute the light of the lensed source after ray tracing.\n",
        "\n",
        "Above, we also inspect the image-plane grid and source-plane grid, which were computed manually.\n",
        "\n",
        "The tracer's `traced_grid_2d_list_from` returns the traced grid of every plane:"
      ]
    },
    {
      "cell_type": "code",
      "metadata": {},
      "source": [
        "traced_grid_list = tracer.traced_grid_2d_list_from(grid=image_plane_grid)"
      ],
      "outputs": [],
      "execution_count": null
    },
    {
      "cell_type": "markdown",
      "metadata": {},
      "source": [
        "The first traced grid corresponds to the image-plane grid (i.e. before lensing) which we plotted above:"
      ]
    },
    {
      "cell_type": "code",
      "metadata": {},
      "source": [
        "print(\"grid image-plane (y,x) coordinate 1\")\n",
        "print(traced_grid_list[0].native[0, 0])\n",
        "print(\"grid image-plane (y,x) coordinate 2\")\n",
        "print(traced_grid_list[0].native[0, 1])\n"
      ],
      "outputs": [],
      "execution_count": null
    },
    {
      "cell_type": "markdown",
      "metadata": {},
      "source": [
        "The second grid is the source-plane grid, which we again plotted above and previously computed manually:"
      ]
    },
    {
      "cell_type": "code",
      "metadata": {},
      "source": [
        "print(\"grid source-plane (y,x) coordinate 1\")\n",
        "print(traced_grid_list[1].native[0, 0])\n",
        "print(\"grid source-plane (y,x) coordinate 2\")\n",
        "print(traced_grid_list[1].native[0, 1])"
      ],
      "outputs": [],
      "execution_count": null
    },
    {
      "cell_type": "markdown",
      "metadata": {},
      "source": [
        "We can use the `TracerPlotter` to plot these planes and grids."
      ]
    },
    {
      "cell_type": "code",
      "metadata": {},
      "source": [
        "include = aplt.Include2D(grid=True)\n",
        "\n",
        "tracer_plotter = aplt.TracerPlotter(\n",
        "    tracer=tracer, grid=image_plane_grid, include_2d=include\n",
        ")\n",
        "tracer_plotter.figures_2d_of_planes(plane_image=True, plane_grid=True, plane_index=0)\n",
        "tracer_plotter.figures_2d_of_planes(plane_image=True, plane_grid=True, plane_index=1)"
      ],
      "outputs": [],
      "execution_count": null
    },
    {
      "cell_type": "markdown",
      "metadata": {},
      "source": [
        "__Log10 Space__\n",
        "\n",
        "As discussed in previous tutorials, the light and mass profiles of galaxies are often better described in log10 space.\n",
        "\n",
        "The same API can be used to make these plots for a `TracerPLotter` as used previously.\n",
        "\n",
        "This works for any quantity that can be plotted, below we just use a `plane_image` as an example."
      ]
    },
    {
      "cell_type": "code",
      "metadata": {},
      "source": [
        "tracer_plotter = aplt.TracerPlotter(\n",
        "    tracer=tracer, grid=image_plane_grid, mat_plot_2d=aplt.MatPlot2D(use_log10=True)\n",
        ")\n",
        "tracer_plotter.figures_2d_of_planes(plane_index=1, plane_image=True)"
      ],
      "outputs": [],
      "execution_count": null
    },
    {
      "cell_type": "markdown",
      "metadata": {},
      "source": [
        "A ray-tracing subplot plots the following:\n",
        "\n",
        " 1) The image, computed by ray-tracing the source-galaxy's light from the source-plane to the image-plane.\n",
        " 2) The source-plane image, showing the source-galaxy's intrinsic appearance (i.e. if it were not lensed).\n",
        " 3) The image-plane convergence, computed using the lens galaxy's total mass distribution.\n",
        " 4) The image-plane gravitational potential, computed using the lens galaxy's total mass distribution.\n",
        " 5) The image-plane deflection angles, computed using the lens galaxy's total mass distribution."
      ]
    },
    {
      "cell_type": "code",
      "metadata": {},
      "source": [
        "tracer_plotter.subplot_tracer()"
      ],
      "outputs": [],
      "execution_count": null
    },
    {
      "cell_type": "markdown",
      "metadata": {},
      "source": [
        "Just like for a profile and galaxies, these quantities attributes can be computed via a `*_from` method."
      ]
    },
    {
      "cell_type": "code",
      "metadata": {},
      "source": [
        "convergence_2d = tracer.convergence_2d_from(grid=image_plane_grid)\n",
        "\n",
        "print(\"Tracer convergence at coordinate 1:\")\n",
        "print(convergence_2d.native[0, 0])\n",
        "print(\"Tracer convergence at coordinate 2:\")\n",
        "print(convergence_2d.native[0, 1])\n",
        "print(\"Tracer convergence at coordinate 101:\")\n",
        "print(convergence_2d.native[1, 0])"
      ],
      "outputs": [],
      "execution_count": null
    },
    {
      "cell_type": "markdown",
      "metadata": {},
      "source": [
        "The tracer convergence is identical the summed convergence of its lens galaxies."
      ]
    },
    {
      "cell_type": "code",
      "metadata": {},
      "source": [
        "image_plane_convergence_2d = tracer.planes[0].convergence_2d_from(grid=image_plane_grid)\n",
        "\n",
        "print(\"Image-Plane convergence at coordinate 1:\")\n",
        "print(image_plane_convergence_2d.native[0, 0])\n",
        "print(\"Image-Plane convergence at coordinate 2:\")\n",
        "print(image_plane_convergence_2d.native[0, 1])\n",
        "print(\"Image-Plane convergene at coordinate 101:\")\n",
        "print(image_plane_convergence_2d.native[1, 0])"
      ],
      "outputs": [],
      "execution_count": null
    },
    {
      "cell_type": "markdown",
      "metadata": {},
      "source": [
        "I've left the rest below commented to avoid too many print statements, but if you're feeling adventurous go ahead \n",
        "and uncomment the lines below!"
      ]
    },
    {
      "cell_type": "code",
      "metadata": {},
      "source": [
        "# print(\"Potential:\")\n",
        "# print(tracer.potential_2d_from(grid=image_plane_grid))\n",
        "# print(tracer.image_plane.potential_2d_from(grid=image_plane_grid))\n",
        "# print(\"Deflections:\")\n",
        "# print(tracer.deflections_yx_2d_from(grid=image_plane_grid))\n",
        "# print(tracer.image_plane.deflections_yx_2d_from(grid=image_plane_grid))"
      ],
      "outputs": [],
      "execution_count": null
    },
    {
      "cell_type": "markdown",
      "metadata": {},
      "source": [
        "The `TracerPlotter` can also plot the above attributes as individual figures:"
      ]
    },
    {
      "cell_type": "code",
      "metadata": {},
      "source": [
        "tracer_plotter = aplt.TracerPlotter(tracer=tracer, grid=image_plane_grid)\n",
        "tracer_plotter.figures_2d(\n",
        "    image=True,\n",
        "    convergence=True,\n",
        "    potential=False,\n",
        "    deflections_y=False,\n",
        "    deflections_x=False,\n",
        ")"
      ],
      "outputs": [],
      "execution_count": null
    },
    {
      "cell_type": "markdown",
      "metadata": {},
      "source": [
        "__Mappings__\n",
        "\n",
        "Lets plot the image and source planes next to one another and highlight specific points on both. The coloring of the \n",
        "highlighted points therefore shows how specific image pixels **map** to the source-plane (and visa versa).\n",
        "\n",
        "This is the first time we have used the `Visuals2D` object, which allows the appearance of **PyAutoLens** figures to \n",
        "be customized. We'll see this object crop up throughout the **HowToLens** lectures, and a full description of all\n",
        "of its options is provided in the `autolens_workspace/plot` package.\n",
        "\n",
        "Below, we input integer `indexes` that highlight the image-pixels that correspond to those indexes in \n",
        "a different color. We highlight indexes running from 0 -> 50, which appear over the top row of the image-plane grid,\n",
        "alongside numerous other indexes."
      ]
    },
    {
      "cell_type": "code",
      "metadata": {},
      "source": [
        "visuals = aplt.Visuals2D(\n",
        "    indexes=[\n",
        "        range(0, 50),\n",
        "        range(500, 550),\n",
        "        [1350, 1450, 1550, 1650, 1750, 1850, 1950, 2050, 2150, 2250],\n",
        "        [6250, 8550, 8450, 8350, 8250, 8150, 8050, 7950, 7850, 7750],\n",
        "    ]\n",
        ")\n",
        "\n",
        "mat_plot = aplt.MatPlot2D(title=aplt.Title(label=\"Image-plane Grid\"))\n",
        "\n",
        "galaxies_plotter = aplt.GalaxiesPlotter(\n",
        "    galaxies=tracer.planes[0],\n",
        "    grid=image_plane_grid,\n",
        "    mat_plot_2d=mat_plot,\n",
        "    visuals_2d=visuals,\n",
        ")\n",
        "galaxies_plotter.figures_2d(plane_grid=True)\n",
        "\n",
        "mat_plot = aplt.MatPlot2D(title=aplt.Title(label=\"Source-plane Grid\"))\n",
        "\n",
        "source_plane_grid = tracer.traced_grid_2d_list_from(grid=image_plane_grid)[1]\n",
        "\n",
        "galaxies_plotter = aplt.GalaxiesPlotter(\n",
        "    galaxies=tracer.planes[1],\n",
        "    grid=source_plane_grid,\n",
        "    mat_plot_2d=mat_plot,\n",
        "    visuals_2d=visuals,\n",
        ")\n",
        "galaxies_plotter.figures_2d(plane_grid=True)"
      ],
      "outputs": [],
      "execution_count": null
    },
    {
      "cell_type": "markdown",
      "metadata": {},
      "source": [
        "__Wrap Up__\n",
        "\n",
        "We have finally performed actual strong lensing ray-tracing calculations! \n",
        "\n",
        "Now, its time for you to explore lensing phenomena in more detail. In particular, you should try:\n",
        "\n",
        " 1) Changing the lens galaxy's einstein radius, what happens to the source-plane`s image?\n",
        "\n",
        " 2) Change the lens's mass profile from a `IsothermalSph` to an `Isothermal`, making sure to input \n",
        " `ell_comps` that are not (0.0, 0.0). What happens to the number of source images?\n",
        "\n",
        "Try to make an the image-plane with two galaxies, both with mass profiles, and see how multi-galaxy lensing can \n",
        "produce extremely irregular images of a single source galaxy. Also try making a source-plane with multiple galaxies, \n",
        "and see how weird and irregular you can make the lensed image appear."
      ]
    },
    {
      "cell_type": "code",
      "metadata": {},
      "source": [],
      "outputs": [],
      "execution_count": null
    }
  ],
  "metadata": {
    "anaconda-cloud": {},
    "kernelspec": {
      "display_name": "Python 3",
      "language": "python",
      "name": "python3"
    },
    "language_info": {
      "codemirror_mode": {
        "name": "ipython",
        "version": 3
      },
      "file_extension": ".py",
      "mimetype": "text/x-python",
      "name": "python",
      "nbconvert_exporter": "python",
      "pygments_lexer": "ipython3",
      "version": "3.6.1"
    }
  },
  "nbformat": 4,
  "nbformat_minor": 4
}