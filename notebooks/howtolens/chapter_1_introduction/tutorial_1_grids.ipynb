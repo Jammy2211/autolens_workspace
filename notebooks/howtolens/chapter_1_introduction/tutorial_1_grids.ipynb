{
  "cells": [
    {
      "cell_type": "markdown",
      "metadata": {},
      "source": [
        "Tutorial 1: Grids\n",
        "=================\n",
        "\n",
        "In this tutorial, we introduce two-dimensional grids of Cartesian $(y,x)$ coordinates, which represent the coordinates\n",
        "of an observed data-set (e.g. imaging). In subsequent tutorials, we will use these grids to perform gravitational\n",
        "lensing ray-tracing calculations.\n",
        "\n",
        "Grids are defined in units of 'arc-seconds', if you are not familiar with this term it is the distance unit commonly\n",
        "used by Astronomers. **PyAutoLens** automatically converts all grids from units of pixels to arc-seconds, so you should\n",
        "simply get used to seeing distances displayed in arc seconds."
      ]
    },
    {
      "cell_type": "code",
      "metadata": {},
      "source": [
        "%matplotlib inline\n",
        "from pyprojroot import here\n",
        "workspace_path = str(here())\n",
        "%cd $workspace_path\n",
        "print(f\"Working Directory has been set to `{workspace_path}`\")\n",
        "\n",
        "import autolens as al\n",
        "import autolens.plot as aplt"
      ],
      "outputs": [],
      "execution_count": null
    },
    {
      "cell_type": "markdown",
      "metadata": {},
      "source": [
        "__Grids__\n",
        "\n",
        "In **PyAutoLens**, a `Grid2D` is a set of two-dimensional $(y,x)$ coordinates (in arc-seconds) that are deflected and \n",
        "traced by a strong lensing system.\n",
        "\n",
        "The $(y,x)$ coordinates on the `Grid2D` are aligned with the image we analyze, such that each coordinate maps to the \n",
        "centre of each image-pixel. Lets make a `Grid2D` on a grid of 100 x 100 pixels, with a pixel scale (arcsecond-to-pixel \n",
        "conversion factor) of 0.05\", giving us a 5\" x 5\" grid."
      ]
    },
    {
      "cell_type": "code",
      "metadata": {},
      "source": [
        "grid = al.Grid2D.uniform(shape_native=(100, 100), pixel_scales=0.05)"
      ],
      "outputs": [],
      "execution_count": null
    },
    {
      "cell_type": "markdown",
      "metadata": {},
      "source": [
        "First, lets plot this `Grid2D`, which shows that it is a fairly boring uniform `Grid2D` of dots."
      ]
    },
    {
      "cell_type": "code",
      "metadata": {},
      "source": [
        "mat_plot = aplt.MatPlot2D(\n",
        "    title=aplt.Title(label=\"Fairly Boring Uniform Grid2D Of Dots\")\n",
        ")\n",
        "\n",
        "grid_plotter = aplt.Grid2DPlotter(grid=grid, mat_plot_2d=mat_plot)\n",
        "grid_plotter.figure_2d()"
      ],
      "outputs": [],
      "execution_count": null
    },
    {
      "cell_type": "markdown",
      "metadata": {},
      "source": [
        "We can print each coordinate of this `Grid2D`, revealing that it consists of a set of arc-second coordinates (where the \n",
        "spacing between each coordinate corresponds to the `pixel_scales` of 0.05\" defined above)."
      ]
    },
    {
      "cell_type": "code",
      "metadata": {},
      "source": [
        "print(\"(y,x) pixel 0:\")\n",
        "print(grid.native[0, 0])\n",
        "print(\"(y,x) pixel 1:\")\n",
        "print(grid.native[0, 1])\n",
        "print(\"(y,x) pixel 2:\")\n",
        "print(grid.native[0, 2])\n",
        "print(\"(y,x) pixel 100:\")\n",
        "print(grid.native[1, 0])\n",
        "print(\"etc.\")"
      ],
      "outputs": [],
      "execution_count": null
    },
    {
      "cell_type": "markdown",
      "metadata": {},
      "source": [
        "__Data Structure__\n",
        "\n",
        "Above we use the `native` attribute of the grid to print its $(y,x)$ coordinates. \n",
        "\n",
        "Every `Grid2D` object is accessible via two attributes, `native` and `slim`, which store the grid as NumPy ndarrays \n",
        "of two different shapes:\n",
        " \n",
        " - `native`: an ndarray of shape [total_y_image_pixels, total_x_image_pixels, 2] which is the native shape of the \n",
        " 2D grid and corresponds to the resolution of the image datasets we pair with a grid.\n",
        " \n",
        " - `slim`: an ndarray of shape [total_y_image_pixels*total_x_image_pixels, 2] which is a slimmed-down representation \n",
        " the grid which collapses the inner two dimensions of the native ndarray to a single dimension."
      ]
    },
    {
      "cell_type": "code",
      "metadata": {},
      "source": [
        "print(\"(y,x) pixel 0 (accessed via native):\")\n",
        "print(grid.native[0, 0])\n",
        "print(\"(y,x) pixel 0 (accessed via slim 1D):\")\n",
        "print(grid.slim[0])"
      ],
      "outputs": [],
      "execution_count": null
    },
    {
      "cell_type": "markdown",
      "metadata": {},
      "source": [
        "It may be unclear why there is a need for a `slim` representation of the grid (as the native representation \n",
        "contains all the information about the grid in a more representative format. \n",
        "\n",
        "The reason for the `slim` representation will become apparent later in the **HowToLens** lectures, so for now don't \n",
        "worry about it! \n",
        "\n",
        "The shapes of the `Grid2D` in its `native` and `slim` formats are also available, confirming that this grid has a \n",
        "`native` resolution of (100 x 100) and a `slim` resolution of 10000 coordinates."
      ]
    },
    {
      "cell_type": "code",
      "metadata": {},
      "source": [
        "print(grid.shape_native)\n",
        "print(grid.shape_slim)"
      ],
      "outputs": [],
      "execution_count": null
    },
    {
      "cell_type": "markdown",
      "metadata": {},
      "source": [
        "Neither shape above include the third index of the `Grid` which has dimensions 2 (corresponding to the y and x \n",
        "coordinates). \n",
        "\n",
        "This is accessible by using the standard numpy `shape` method on each grid.\n",
        "\n",
        "The next tutorial will introduce addition data structures which use the same `native` and `slim` notation but do not \n",
        "include this final dimension of size 2. The `shape_native` and `shape_slim` attributes therefore mean different \n",
        "data structures share a common format."
      ]
    },
    {
      "cell_type": "code",
      "metadata": {},
      "source": [
        "print(grid.native.shape)\n",
        "print(grid.slim.shape)"
      ],
      "outputs": [],
      "execution_count": null
    },
    {
      "cell_type": "markdown",
      "metadata": {},
      "source": [
        "We can print the entire `Grid2D` in its `slim` or `native` form. "
      ]
    },
    {
      "cell_type": "code",
      "metadata": {},
      "source": [
        "print(grid.native)\n",
        "print(grid.slim)"
      ],
      "outputs": [],
      "execution_count": null
    },
    {
      "cell_type": "markdown",
      "metadata": {},
      "source": [
        "__Wrap Up__\n",
        "\n",
        "Congratulations, you`ve completed your first **PyAutoLens** tutorial! \n",
        "\n",
        "Before moving on to the next one, experiment with **PyAutoLens** by doing the following:\n",
        "\n",
        "1) Change the pixel-scale of the `Grid2D`'s: what happens to the arc-second's grid of coordinates?\n",
        "2) Change the resolution of the `Grid2D`'s: what happens to the arc-second's grid of coordinates?"
      ]
    },
    {
      "cell_type": "code",
      "metadata": {},
      "source": [],
      "outputs": [],
      "execution_count": null
    }
  ],
  "metadata": {
    "anaconda-cloud": {},
    "kernelspec": {
      "display_name": "Python 3",
      "language": "python",
      "name": "python3"
    },
    "language_info": {
      "codemirror_mode": {
        "name": "ipython",
        "version": 3
      },
      "file_extension": ".py",
      "mimetype": "text/x-python",
      "name": "python",
      "nbconvert_exporter": "python",
      "pygments_lexer": "ipython3",
      "version": "3.6.1"
    }
  },
  "nbformat": 4,
  "nbformat_minor": 4
}