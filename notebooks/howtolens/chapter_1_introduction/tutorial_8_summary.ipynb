{
  "cells": [
    {
      "cell_type": "markdown",
      "metadata": {},
      "source": [
        "Tutorial 9: Summary\n",
        "===================\n",
        "\n",
        "In this chapter, we have learnt that:\n",
        "\n",
        " 1) **PyAutoLens** uses Cartesian `Grid2D`'s of $(y,x)$ coordinates to perform ray-tracing.\n",
        " 2) These grids are combined with light and mass profiles to compute images, deflection angles and other quantities.\n",
        " 3) Profiles are grouped together to make galaxies.\n",
        " 4) Collections of galaxies (at the same redshift) form a plane.\n",
        " 5) A `Tracer` can make an image-plane + source-plane strong lens system.\n",
        " 6) The Universe's cosmology can be input into this `Tracer` to convert its units to kiloparsecs.\n",
        " 7) The tracer's image can be used to simulate strong lens `Imaging` like it was observed with a real telescope.\n",
        " 8) This data can be fitted, so to as quantify how well a model strong lens system represents the observed image.\n",
        "\n",
        "In this summary, we'll go over all the different Python objects introduced throughout this chapter and consider how\n",
        "they come together as one."
      ]
    },
    {
      "cell_type": "code",
      "metadata": {},
      "source": [
        "%matplotlib inline\n",
        "from pyprojroot import here\n",
        "workspace_path = str(here())\n",
        "%cd $workspace_path\n",
        "print(f\"Working Directory has been set to `{workspace_path}`\")\n",
        "\n",
        "from os import path\n",
        "import autolens as al\n",
        "import autolens.plot as aplt"
      ],
      "outputs": [],
      "execution_count": null
    },
    {
      "cell_type": "markdown",
      "metadata": {},
      "source": [
        "__Start__\n",
        "\n",
        "Below, we do all the steps we have learned this chapter, making profiles, galaxies, a tracer, etc. \n",
        "\n",
        "Note that in this tutorial, we omit the lens galaxy's light and include two light profiles in the source representing a\n",
        "`bulge` and `disk`."
      ]
    },
    {
      "cell_type": "code",
      "metadata": {},
      "source": [
        "grid = al.Grid2D.uniform(shape_native=(100, 100), pixel_scales=0.05)\n",
        "\n",
        "lens = al.Galaxy(\n",
        "    redshift=0.5,\n",
        "    mass=al.mp.Isothermal(\n",
        "        centre=(0.0, 0.0), einstein_radius=1.6, ell_comps=(0.17647, 0.0)\n",
        "    ),\n",
        ")\n",
        "\n",
        "source = al.Galaxy(\n",
        "    redshift=1.0,\n",
        "    bulge=al.lp.SersicCore(\n",
        "        centre=(0.1, 0.1),\n",
        "        ell_comps=(0.0, 0.111111),\n",
        "        intensity=1.0,\n",
        "        effective_radius=1.0,\n",
        "        sersic_index=4.0,\n",
        "    ),\n",
        "    disk=al.lp.SersicCore(\n",
        "        centre=(0.1, 0.1),\n",
        "        ell_comps=(0.0, 0.111111),\n",
        "        intensity=1.0,\n",
        "        effective_radius=1.0,\n",
        "        sersic_index=1.0,\n",
        "    ),\n",
        ")\n",
        "\n",
        "tracer = al.Tracer(galaxies=[lens, source])"
      ],
      "outputs": [],
      "execution_count": null
    },
    {
      "cell_type": "markdown",
      "metadata": {},
      "source": [
        "__Object Composition__\n",
        "\n",
        "Lets now consider how all of the objects we've covered throughout this chapter (`LightProfile`'s, `MassProfile`'s,\n",
        "`Galaxy`'s, `Plane`'s, `Tracer`'s) come together.\n",
        "\n",
        "The `Tracer`, which contains planes of `Galaxies`, which contains the `Galaxy`'s which contains the `Profile`'s:"
      ]
    },
    {
      "cell_type": "code",
      "metadata": {},
      "source": [
        "print(tracer)\n",
        "print()\n",
        "print(tracer.planes[0])\n",
        "print()\n",
        "print(tracer.planes[1])\n",
        "print()\n",
        "print(tracer.planes[0])\n",
        "print()\n",
        "print(tracer.planes[1])\n",
        "print()\n",
        "print(tracer.planes[0][0].mass)\n",
        "print()\n",
        "print(tracer.planes[1][0].bulge)\n",
        "print()\n",
        "print(tracer.planes[1][0].disk)\n",
        "print()"
      ],
      "outputs": [],
      "execution_count": null
    },
    {
      "cell_type": "markdown",
      "metadata": {},
      "source": [
        "Once we have a tracer we can therefore use any of the `Plotter` objects throughout this chapter to plot\n",
        "any specific aspect, whether it be a profile, galaxy, galaxies or tracer. \n",
        "\n",
        "For example, if we want to plot the image of the source galaxy's bulge and disk, we can do this in a variety of \n",
        "different ways."
      ]
    },
    {
      "cell_type": "code",
      "metadata": {},
      "source": [
        "tracer_plotter = aplt.TracerPlotter(tracer=tracer, grid=grid)\n",
        "tracer_plotter.figures_2d(image=True)\n",
        "\n",
        "source_plane_grid = tracer.traced_grid_2d_list_from(grid=grid)[1]\n",
        "galaxies_plotter = aplt.GalaxiesPlotter(\n",
        "    galaxies=tracer.planes[1], grid=source_plane_grid\n",
        ")\n",
        "galaxies_plotter.figures_2d(image=True)\n",
        "\n",
        "galaxy_plotter = aplt.GalaxyPlotter(galaxy=tracer.planes[1], grid=source_plane_grid)\n",
        "galaxy_plotter.figures_2d(image=True)"
      ],
      "outputs": [],
      "execution_count": null
    },
    {
      "cell_type": "markdown",
      "metadata": {},
      "source": [
        "Understanding how these objects decompose into the different components of a strong lens is important for general \n",
        "**PyAutoLens** use.\n",
        "\n",
        "As the strong lens systems that we analyse become more complex, it is useful to know how to decompose their light \n",
        "profiles, mass profiles, galaxies and planes to extract different pieces of information about the strong lens. For \n",
        "example, we made our source-galaxy above with two light profiles, a `bulge` and `disk`. We can plot the lensed image of \n",
        "each component individually, now that we know how to break-up the different components of the tracer."
      ]
    },
    {
      "cell_type": "code",
      "metadata": {},
      "source": [
        "light_profile_plotter = aplt.LightProfilePlotter(\n",
        "    light_profile=tracer.planes[1][0].bulge, grid=source_plane_grid\n",
        ")\n",
        "light_profile_plotter.set_title(\"Bulge Image\")\n",
        "light_profile_plotter.figures_2d(image=True)\n",
        "\n",
        "light_profile_plotter = aplt.LightProfilePlotter(\n",
        "    light_profile=tracer.planes[1][0].disk, grid=source_plane_grid\n",
        ")\n",
        "light_profile_plotter.set_title(\"Disk Image\")\n",
        "light_profile_plotter.figures_2d(image=True)"
      ],
      "outputs": [],
      "execution_count": null
    },
    {
      "cell_type": "markdown",
      "metadata": {},
      "source": [
        "__Visualization__\n",
        "\n",
        "Furthermore, using the `MatPLot2D`, `Visuals2D` and `Include2D` objects visualize any aspect we're interested \n",
        "in and fully customize the figure. \n",
        "\n",
        "Before beginning chapter 2 of **HowToLens**, you should checkout the package `autolens_workspace/plot`. This provides a \n",
        "full API reference of every plotting option in **PyAutoLens**, allowing you to create your own fully customized \n",
        "figures of strong lenses with minimal effort!"
      ]
    },
    {
      "cell_type": "code",
      "metadata": {},
      "source": [
        "mat_plot = aplt.MatPlot2D(\n",
        "    title=aplt.Title(label=\"This is the title\", color=\"r\", fontsize=20),\n",
        "    ylabel=aplt.YLabel(ylabel=\"Label of Y\", color=\"b\", fontsize=5, position=(0.2, 0.5)),\n",
        "    xlabel=aplt.XLabel(xlabel=\"Label of X\", color=\"g\", fontsize=10),\n",
        "    cmap=aplt.Cmap(cmap=\"cool\", norm=\"linear\"),\n",
        ")\n",
        "\n",
        "include = aplt.Include2D(\n",
        "    origin=True, mask=True, border=True, light_profile_centres=True\n",
        ")\n",
        "\n",
        "tangential_critical_curve_list = tracer.tangential_critical_curve_list_from(grid=grid)\n",
        "radial_critical_curve_list = tracer.radial_critical_curve_list_from(grid=grid)\n",
        "\n",
        "visuals = aplt.Visuals2D(\n",
        "    tangential_critical_curves=tangential_critical_curve_list,\n",
        "    radial_critical_curves=radial_critical_curve_list,\n",
        ")\n",
        "\n",
        "light_profile_plotter = aplt.LightProfilePlotter(\n",
        "    light_profile=tracer.planes[1][0].bulge,\n",
        "    grid=source_plane_grid,\n",
        "    mat_plot_2d=mat_plot,\n",
        "    include_2d=include,\n",
        "    visuals_2d=visuals,\n",
        ")\n",
        "light_profile_plotter.set_title(\"Bulge Image\")\n",
        "light_profile_plotter.figures_2d(image=True)"
      ],
      "outputs": [],
      "execution_count": null
    },
    {
      "cell_type": "markdown",
      "metadata": {},
      "source": [
        "And, we're done, not just with the tutorial, but the chapter!\n",
        "\n",
        "__Code Design__\n",
        "\n",
        "To end, I want to quickly talk about the **PyAutoLens** code-design and structure, which was really the main topic of\n",
        "this tutorial.\n",
        "\n",
        "Throughout this chapter, we never talk about anything like it was code. We didn`t refer to  'variables', 'parameters`' \n",
        "'functions' or 'dictionaries', did we? Instead, we talked about 'galaxies', 'planes' a 'Tracer', etc. We discussed \n",
        "the objects that we, as scientists, think about when we consider a strong lens system.\n",
        "\n",
        "Software that abstracts the underlying code in this way follows an `object-oriented design`, and it is our hope \n",
        "with **PyAutoLens** that we've made its interface (often called the API for short) very intuitive, whether you were\n",
        "previous familiar with gravitational lensing or a complete newcomer!\n",
        "\n",
        "__Source Code__\n",
        "\n",
        "If you do enjoy code, variables, functions, and parameters, you may want to dig deeper into the **PyAutoLens** source \n",
        "code at some point in the future. Firstly, you should note that all of the code we discuss throughout the **HowToLens** \n",
        "lectures is not contained in just one project (e.g. the **PyAutoLens** GitHub repository) but in fact four repositories:\n",
        "\n",
        "**PyAutoFit** - Everything required for lens modeling (the topic of chapter 2): https://github.com/rhayes777/PyAutoFit\n",
        "\n",
        "**PyAutoArray** - Handles all data structures and Astronomy dataset objects: https://github.com/Jammy2211/PyAutoArray\n",
        "\n",
        "**PyAutoGalaxy** - Contains the light profiles, mass profiles and galaxies: https://github.com/Jammy2211/PyAutoGalaxy\n",
        "\n",
        "**PyAutoLens** - Everything strong lensing: https://github.com/Jammy2211/PyAutoLens\n",
        "\n",
        "Instructions on how to build these projects from source are provided here:\n",
        "\n",
        "https://pyautolens.readthedocs.io/en/latest/installation/source.html\n",
        "\n",
        "We take a lot of pride in our source code, so I can promise you its well written, well documented and thoroughly \n",
        "tested (check out the `test` directory if you're curious how to test code well!).\n",
        "\n",
        "__Wrap Up__\n",
        "\n",
        "You`ve learn a lot in this chapter, but what you have not learnt is how to 'model' a real strong gravitational lens.\n",
        "\n",
        "In the real world, we have no idea what the 'correct' combination of light profiles, mass profiles and galaxies are \n",
        "that will give a good fit to a lens. Lens modeling is the process of finding the lens model which provides a good fit \n",
        "and it is the topic of chapter 2 of **HowToLens**.\n",
        "\n",
        "Finally, if you enjoyed doing the **HowToLens** tutorials please git us a star on the **PyAutoLens** GitHub\n",
        "repository: \n",
        "\n",
        " https://github.com/Jammy2211/PyAutoLens\n",
        "\n",
        "Even the smallest bit of exposure via a GitHub star can help our project grow!"
      ]
    },
    {
      "cell_type": "code",
      "metadata": {},
      "source": [],
      "outputs": [],
      "execution_count": null
    }
  ],
  "metadata": {
    "anaconda-cloud": {},
    "kernelspec": {
      "display_name": "Python 3",
      "language": "python",
      "name": "python3"
    },
    "language_info": {
      "codemirror_mode": {
        "name": "ipython",
        "version": 3
      },
      "file_extension": ".py",
      "mimetype": "text/x-python",
      "name": "python",
      "nbconvert_exporter": "python",
      "pygments_lexer": "ipython3",
      "version": "3.6.1"
    }
  },
  "nbformat": 4,
  "nbformat_minor": 4
}