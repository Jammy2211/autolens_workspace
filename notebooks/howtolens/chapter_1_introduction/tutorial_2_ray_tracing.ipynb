{
  "cells": [
    {
      "cell_type": "markdown",
      "metadata": {},
      "source": [
        "Tutorial 2: Ray Tracing\n",
        "=======================\n",
        "\n",
        "Strong gravitational lensing occurs when the mass of a foreground galaxy (or galaxies) curves space-time around it,\n",
        "causing light rays from a background source to appear deflected.\n",
        "\n",
        "The process of ray tracing calculates how much the path of each light ray is bent by the mass of the foreground galaxy.\n",
        "It then traces the paths of these light rays back to the observer, allowing us to determine how the source appears\n",
        "distorted. As a result, the images of the source may appear as arcs, multiple images, or other complex patterns.\n",
        "\n",
        "In the previous tutorial, we introduced **light profiles**, which are analytic functions that describe the distribution\n",
        "of light from a galaxy. In this tutorial, we will focus on **mass profiles**, which are analytic functions that\n",
        "describe the mass distribution within a galaxy. A key quantity derived from these profiles is the **deflection angle**,\n",
        "which quantifies how light is deflected by the mass of the galaxy at any point in space.\n",
        "\n",
        "Grids were crucial in the previous tutorial, as they enabled us to compute the light profile of a galaxy at every\n",
        "coordinate point. In ray tracing, grids are equally important because they are used to calculate the deflection\n",
        "angles of light rays caused by a mass profile and to map the source's light rays back to the observer.\n",
        "\n",
        "Let\u2019s revisit the schematic of strong lensing:\n",
        "\n",
        "![Schematic of Gravitational Lensing](https://i.imgur.com/zB6tIdI.jpg)\n",
        "\n",
        "As observers, we do not see the true appearance of the source (e.g., a round blob of light). Instead, we only\n",
        "perceive its light after it has been deflected and lensed by the foreground galaxies. This resulting image is known\n",
        "as the **observed image** or **image-plane image**, which we will produce through the ray-tracing process.\n",
        "\n",
        "The schematic above uses the terms \"image-plane\" and \"source-plane.\" In the context of gravitational lensing, a \"plane\"\n",
        "refers to a collection of galaxies located at the same redshift, meaning they are physically aligned parallel to one\n",
        "another.\n",
        "\n",
        "In this tutorial, we will create a strong lensing system consisting of planes similar to the one depicted above. While\n",
        "a plane can contain multiple galaxies, we will focus on a simple scenario with just one lens galaxy and one source\n",
        "galaxy.\n",
        "\n",
        "Here is an overview of what we'll cover in this tutorial:\n",
        "\n",
        "- **Grid**: How the 2D grids that were important for evaluating light profiles are equally important\n",
        "  for ray-tracing calculations.\n",
        "\n",
        "- **Mass Profiles**: Introduce mass profiles, which describe the mass distribution of galaxies and are used to\n",
        "  calculate deflection angles.\n",
        "\n",
        "- **Ray Tracing Grids**: How to map the light rays from the image-plane to the source-plane using the\n",
        " deflection angles and **lens equation**.\n",
        "\n",
        "- **Ray Tracing Images**: How to evaluate the lensed image of a source galaxy after it has been\n",
        "  gravitationally lensed.\n",
        "\n",
        "- **Galaxies**: How to include both light and mass profiles in a single `Galaxy` object, and therefore\n",
        "construct realistic lens and source galaxies.\n",
        "\n",
        "- **Tracer**: Introduce the `Tracer` object, which automates the ray-tracing process and allows us to compute\n",
        "  images of the entire lens system.\n",
        "\n",
        "- **Mappings**: Visualize how image pixels map to the source plane and vice versa using the `Visuals2D` object."
      ]
    },
    {
      "cell_type": "code",
      "metadata": {},
      "source": [
        "%matplotlib inline\n",
        "from pyprojroot import here\n",
        "workspace_path = str(here())\n",
        "%cd $workspace_path\n",
        "print(f\"Working Directory has been set to `{workspace_path}`\")\n",
        "\n",
        "import autolens as al\n",
        "import autolens.plot as aplt\n"
      ],
      "outputs": [],
      "execution_count": null
    },
    {
      "cell_type": "markdown",
      "metadata": {},
      "source": [
        "__Grid__\n",
        "\n",
        "In the previous tutorial, we created 2D grids of (y,x) coordinates and showed how shifting and rotating these grids \n",
        "is crucial for evaluating the light profiles of galaxies.\n",
        "\n",
        "Grids are also essential for performing ray-tracing calculations. The coordinates in the grid are deflected by the \n",
        "lens galaxy, and these deflected coordinates are used in ray-tracing calculations.\n",
        "\n",
        "Now, let\u2019s create the grid for this tutorial, which we\u2019ll call the `image_plane_grid`. It represents the grid of \n",
        "coordinates in the image plane, before the light is deflected by the lens galaxy. This grid is uniform, meaning \n",
        "every coordinate is evenly spaced. However, this uniformity will change after ray-tracing, as the light rays are \n",
        "mapped to the source plane."
      ]
    },
    {
      "cell_type": "code",
      "metadata": {},
      "source": [
        "image_plane_grid = al.Grid2D.uniform(shape_native=(101, 101), pixel_scales=0.1)"
      ],
      "outputs": [],
      "execution_count": null
    },
    {
      "cell_type": "markdown",
      "metadata": {},
      "source": [
        "__Mass Profiles__\n",
        "\n",
        "To perform lensing calculations, we use mass profiles available in the `mass_profile` module (accessible via `al.mp`).\n",
        "\n",
        "A mass profile is an analytic function that describes the mass distribution within a galaxy. It is used to calculate \n",
        "deflection angles and other quantities like surface density and gravitational potential.\n",
        "\n",
        "In gravitational lensing, deflection angles describe how a mass bends light by curving space-time.\n",
        "\n",
        "We will start with a simple mass profile, `IsothermalSph`, which represents a spherically symmetric isothermal \n",
        "mass distribution. This profile has two main properties: its center (the origin of the coordinate system) and its \n",
        "Einstein radius (which indicates the galaxy's mass and how much it bends light rays)."
      ]
    },
    {
      "cell_type": "code",
      "metadata": {},
      "source": [
        "sis_mass_profile = al.mp.IsothermalSph(\n",
        "    centre=(0.0, 0.0),  # The (y,x) arc-second coordinates of the profile's center.\n",
        "    einstein_radius=1.6,  # The Einstein radius of the profile in arc-seconds.\n",
        ")\n",
        "print(sis_mass_profile)"
      ],
      "outputs": [],
      "execution_count": null
    },
    {
      "cell_type": "markdown",
      "metadata": {},
      "source": [
        "In the previous tutorial, we used the `image_2d_from` method to compute the image of a light profile by evaluating \n",
        "its intensity at each (y,x) coordinate on the grid.\n",
        "\n",
        "Mass profiles have a similar method called `deflections_yx_2d_from`, which calculates the deflection angles at \n",
        "every (y,x) coordinate on the grid in units of arc-seconds."
      ]
    },
    {
      "cell_type": "code",
      "metadata": {},
      "source": [
        "deflections = sis_mass_profile.deflections_yx_2d_from(grid=image_plane_grid)"
      ],
      "outputs": [],
      "execution_count": null
    },
    {
      "cell_type": "markdown",
      "metadata": {},
      "source": [
        "Like grids and arrays, the deflection angles can be accessed using the `native` and `slim` attributes. These are \n",
        "structured similarly to a `Grid2D` object:\n",
        "\n",
        "- **native**: A 2D array with shape \\([total_y_pixels, total_x_pixels, 2]\\), where the last dimension represents the \n",
        "  (y,x) deflection components.\n",
        "  \n",
        "- **slim**: A 1D array with shape \\([total_y_pixels * total_x_pixels, 2]\\), where the coordinates are flattened \n",
        "  into a single list."
      ]
    },
    {
      "cell_type": "code",
      "metadata": {},
      "source": [
        "print(\"Deflection angles of pixel 0:\")\n",
        "print(deflections.native[0, 0])\n",
        "print(\"Deflection angles of pixel 1:\")\n",
        "print(deflections.slim[1])"
      ],
      "outputs": [],
      "execution_count": null
    },
    {
      "cell_type": "markdown",
      "metadata": {},
      "source": [
        "There is an important difference between a grid and deflection angles. A `Grid2D` is a set of coordinates, while \n",
        "deflection angles are 2D vectors. This means that each deflection angle is defined at a specific (y,x) coordinate \n",
        "but has two components: a y and an x value, which vary across the grid.\n",
        "\n",
        "This is why the method is called `deflections_yx_2d_from`\u2014the `yx` signifies that these are 2D vectors with both \n",
        "y and x components.\n",
        "\n",
        "The deflection angles are stored in a `VectorYX2D` data structure:"
      ]
    },
    {
      "cell_type": "code",
      "metadata": {},
      "source": [
        "print(type(deflections))"
      ],
      "outputs": [],
      "execution_count": null
    },
    {
      "cell_type": "markdown",
      "metadata": {},
      "source": [
        "This structure includes a `grid`, which represents the `Grid2D` of coordinates where the deflection angles are \n",
        "calculated (in this case, the `image_plane_grid` we defined earlier). It also has vector-specific methods, \n",
        "such as `magnitude`, which calculates the magnitude of each deflection vector using \\((x^2 + y^2)^{0.5}\\)."
      ]
    },
    {
      "cell_type": "code",
      "metadata": {},
      "source": [
        "print(\"Deflection angle's `Grid2D` at pixel 0:\")\n",
        "print(deflections.grid.native[0, 0])\n",
        "print(\"Deflection angle magnitude at pixel 0:\")\n",
        "print(deflections.magnitudes.native[0, 0])"
      ],
      "outputs": [],
      "execution_count": null
    },
    {
      "cell_type": "markdown",
      "metadata": {},
      "source": [
        "We can use a `MassProfilePlotter` to visualize the deflection angles, which displays the y and x components separately. \n",
        "\n",
        "On this plot, you\u2019ll see yellow and white lines called **critical curves**. These curves are important in lensing \n",
        "and will be explained in detail in the next tutorial."
      ]
    },
    {
      "cell_type": "code",
      "metadata": {},
      "source": [
        "mass_profile_plottter = aplt.MassProfilePlotter(\n",
        "    mass_profile=sis_mass_profile, grid=image_plane_grid\n",
        ")\n",
        "mass_profile_plottter.figures_2d(deflections_y=True, deflections_x=True)"
      ],
      "outputs": [],
      "execution_count": null
    },
    {
      "cell_type": "markdown",
      "metadata": {},
      "source": [
        "Mass profiles also have additional properties used in lensing calculations:\n",
        "\n",
        "- **convergence**: Represents the surface mass density of the profile in dimensionless units.\n",
        "- **potential**: Represents the \"lensing potential\" of the mass profile in dimensionless units.\n",
        "- **magnification**: Indicates how much brighter light rays appear due to the focusing effect of lensing.\n",
        "\n",
        "These quantities can be calculated using `*_from` methods and are returned as `Array2D` objects."
      ]
    },
    {
      "cell_type": "code",
      "metadata": {},
      "source": [
        "convergence = sis_mass_profile.convergence_2d_from(grid=image_plane_grid)\n",
        "potential_2d = sis_mass_profile.potential_2d_from(grid=image_plane_grid)\n",
        "magnification_2d = sis_mass_profile.magnification_2d_from(grid=image_plane_grid)"
      ],
      "outputs": [],
      "execution_count": null
    },
    {
      "cell_type": "markdown",
      "metadata": {},
      "source": [
        "The same plotter API can be used to visualize these properties:"
      ]
    },
    {
      "cell_type": "code",
      "metadata": {},
      "source": [
        "mass_profile_plottter.figures_2d(convergence=True, potential=True, magnification=True)"
      ],
      "outputs": [],
      "execution_count": null
    },
    {
      "cell_type": "markdown",
      "metadata": {},
      "source": [
        "One-dimensional plots are also available, showing how these quantities change radially from the center of the mass profile:"
      ]
    },
    {
      "cell_type": "code",
      "metadata": {},
      "source": [
        "mass_profile_plottter.figures_1d(convergence=True, potential=True)"
      ],
      "outputs": [],
      "execution_count": null
    },
    {
      "cell_type": "markdown",
      "metadata": {},
      "source": [
        "The **convergence** and **potential** can be better understood when plotted in logarithmic space:"
      ]
    },
    {
      "cell_type": "code",
      "metadata": {},
      "source": [
        "mass_profile_plottter = aplt.MassProfilePlotter(\n",
        "    mass_profile=sis_mass_profile,\n",
        "    grid=image_plane_grid,\n",
        "    mat_plot_2d=aplt.MatPlot2D(use_log10=True),\n",
        ")\n",
        "mass_profile_plottter.figures_2d(convergence=True, potential=True)"
      ],
      "outputs": [],
      "execution_count": null
    },
    {
      "cell_type": "markdown",
      "metadata": {},
      "source": [
        "While the **convergence** and **potential** are fundamental to lensing, their detailed physical meaning is not \n",
        "essential for learning ray-tracing calculations, so we will cover them more thoroughly in a later tutorial.\n",
        "\n",
        "__Ray Tracing Grids__\n",
        "\n",
        "We are now ready to use the deflection angles to perform ray tracing. \n",
        "\n",
        "We therefore ray-trace every 2d (y,x) coordinate $\\theta$ from the image-plane to its (y,x)  source-plane \n",
        "coordinate $\\beta$ using the deflection angles $\\alpha$ of the mass profile\n",
        "\n",
        " $\\beta = \\theta - \\alpha(\\theta)$\n",
        " \n",
        "The equation above is one of the most important in lensing -- it is called the **lens equation**. It describes how\n",
        "light rays are deflected by mass from the image-plane to the source-plane.\n",
        "\n",
        "By subtracting the $(y,x)$ deflection angles values from the $(y,x)$ grid of image-plane coordinates we can therefore \n",
        "determine the `source_plane_grid`."
      ]
    },
    {
      "cell_type": "code",
      "metadata": {},
      "source": [
        "source_plane_grid = image_plane_grid - deflections\n",
        "\n",
        "print(\"Ray traced source-plane coordinates of `Grid2D` pixel 0:\")\n",
        "print(source_plane_grid.native[0, 0, :])\n",
        "print(\"Ray traced source-plane coordinates of `Grid2D` pixel 1:\")\n",
        "print(source_plane_grid.native[0, 1, :])\n",
        "# %%\n",
        "'''\n",
        "Let\u2019s compare the image-plane and source-plane grids to observe how the mass profile has deflected the coordinates \n",
        "from the image-plane to the source-plane.\n",
        "\n",
        "Several key differences emerge:\n",
        "\n",
        "- The **image-plane grid** is uniform, while the **source-plane grid** is not. This is because the mass profile has \n",
        "deflected the image-plane coordinates, making them no longer evenly spaced.\n",
        "\n",
        "- The **source-plane grid** is much smaller than the image-plane grid. This shrinking occurs because the mass profile \n",
        "magnifies the light rays, compressing the source-plane coordinates into a smaller region within the image-plane grid.\n",
        "\n",
        "- The **source-plane grid** forms a central diamond-shaped structure known as the **caustic**. This structure has s\n",
        "everal important properties in gravitational lensing that will be covered in later tutorials.\n",
        "'''"
      ],
      "outputs": [],
      "execution_count": null
    },
    {
      "cell_type": "code",
      "metadata": {},
      "source": [
        "grid_plotter = aplt.Grid2DPlotter(grid=image_plane_grid)\n",
        "grid_plotter.set_title(\"Image-plane Grid\")\n",
        "grid_plotter.figure_2d()\n",
        "\n",
        "grid_plotter = aplt.Grid2DPlotter(grid=source_plane_grid)\n",
        "grid_plotter.set_title(\"Source-plane Grid\")\n",
        "grid_plotter.figure_2d()"
      ],
      "outputs": [],
      "execution_count": null
    },
    {
      "cell_type": "markdown",
      "metadata": {},
      "source": [
        "We can zoom in on the central regions of the source-plane to better observe the diamond-shaped structure, which \n",
        "has a fractal-like appearance and is known as the **caustic**."
      ]
    },
    {
      "cell_type": "code",
      "metadata": {},
      "source": [
        "mat_plot = aplt.MatPlot2D(\n",
        "    title=aplt.Title(label=\"Source-plane Zoomed\"),\n",
        "    axis=aplt.Axis(extent=[-0.1, 0.1, -0.1, 0.1]),\n",
        ")\n",
        "\n",
        "grid_plotter = aplt.Grid2DPlotter(grid=source_plane_grid, mat_plot_2d=mat_plot)\n",
        "grid_plotter.figure_2d()"
      ],
      "outputs": [],
      "execution_count": null
    },
    {
      "cell_type": "markdown",
      "metadata": {},
      "source": [
        "__Ray Tracing Images__\n",
        "\n",
        "With a grid of coordinates in the source-plane, we can now evaluate a light profile in this plane and see how its \n",
        "light appears after being gravitationally lensed.\n",
        "\n",
        "By passing the source-plane grid to the `image_2d_from` method of a light profile, we can create the image of the \n",
        "light profile after lensing."
      ]
    },
    {
      "cell_type": "code",
      "metadata": {},
      "source": [
        "sersic_light_profile = al.lp.Sersic(\n",
        "    centre=(0.0, 0.0),\n",
        "    ell_comps=(0.0, 0.1),\n",
        "    intensity=1.0,\n",
        "    effective_radius=2.0,\n",
        "    sersic_index=1.2,\n",
        ")\n",
        "\n",
        "print(source_plane_grid)\n",
        "\n",
        "# Ignore the use of a `Grid2DIrregular` here and input into an `Array2D`, these are some annoying API quirks\n",
        "# that will be fixed in the future.\n",
        "\n",
        "lensed_source_image = sersic_light_profile.image_2d_from(\n",
        "    grid=al.Grid2DIrregular(\n",
        "        values=source_plane_grid,\n",
        "    )\n",
        ")\n",
        "\n",
        "lensed_source_image = al.Array2D(\n",
        "    values=lensed_source_image, mask=source_plane_grid.mask\n",
        ")\n",
        "\n",
        "array_plotter = aplt.Array2DPlotter(array=lensed_source_image)\n",
        "array_plotter.set_title(\"Lensed Source Image\")\n",
        "array_plotter.figure_2d()"
      ],
      "outputs": [],
      "execution_count": null
    },
    {
      "cell_type": "markdown",
      "metadata": {},
      "source": [
        "The resulting lensed source appears as a striking ring of light!\n",
        "\n",
        "Why does it form a ring? Consider the following:\n",
        "\n",
        "- The lens galaxy is centered at (0.0\", 0.0\").\n",
        "- The source galaxy is centered at (0.0\", 0.0\").\n",
        "- The lens galaxy has a spherical mass profile.\n",
        "- The source galaxy has a spherical light profile.\n",
        "\n",
        "Due to the perfect symmetry of this system, every ray-traced path the light from the source takes around the lens \n",
        "galaxy is identical. As a result, the light forms a **ring**.\n",
        "\n",
        "This ring is known as an **Einstein Ring**, named after the scientist who famously used gravitational lensing to \n",
        "confirm his theory of general relativity. The radius of this ring is called the **Einstein Radius**.\n",
        "\n",
        "We can also plot the source\u2019s appearance in the source-plane, before it is lensed by the mass profile. This is known\n",
        "as the **plane-image** of the source. It is computed by passing a uniform grid to the `image_2d_from` method of the\n",
        "light profile. This grid can have whatever resolution we choose, allowing us to clearly see the source's shape.\n",
        "\n",
        "**Exercise**: Try changing the lens galaxy's `einstein radius`, what happens to the source-plane`s image?"
      ]
    },
    {
      "cell_type": "code",
      "metadata": {},
      "source": [
        "grid = al.Grid2D.uniform(shape_native=(50, 50), pixel_scales=0.02)\n",
        "\n",
        "source_image = sersic_light_profile.image_2d_from(grid=grid)\n",
        "\n",
        "array_plotter = aplt.Array2DPlotter(array=source_image)\n",
        "array_plotter.set_title(\"Unlensed Source Image\")\n",
        "array_plotter.figure_2d()"
      ],
      "outputs": [],
      "execution_count": null
    },
    {
      "cell_type": "markdown",
      "metadata": {},
      "source": [
        "__Galaxies__\n",
        "\n",
        "In previous tutorials, we used the `Galaxy` object to represent galaxies with multiple light profiles. We saw how \n",
        "these objects included methods similar to those of light profiles, such as `image_2d_from`, which sums the images of \n",
        "the individual light profiles to produce an image of the entire galaxy.\n",
        "\n",
        "When adding mass profiles to `Galaxy` objects, the behavior is analogous. For example, the \n",
        "galaxy's `deflections_yx_2d_from` method calculates the deflection angles for all mass profiles within the galaxy,\n",
        "which are then summed to produce the total deflection angle.\n",
        "\n",
        "We can also include both light and mass profiles in a single `Galaxy` object, which is crucial for representing the \n",
        "foreground lens galaxy that we observe and whose mass causes the lensing effect.\n",
        "\n",
        "Below, we create two galaxies: a **lens galaxy** and a **source galaxy**, reflecting their roles in the lensing process.\n",
        "\n",
        "The galaxies' redshifts are now more significant, as they determine the sequence of calculations in ray tracing. For \n",
        "instance, the lens galaxy must be at a lower redshift than the source galaxy, as light rays are deflected in the \n",
        "image-plane before tracing to the source-plane."
      ]
    },
    {
      "cell_type": "code",
      "metadata": {},
      "source": [
        "sis_mass_profile = al.mp.IsothermalSph(centre=(0.0, 0.0), einstein_radius=1.6)\n",
        "\n",
        "lens_galaxy = al.Galaxy(\n",
        "    redshift=0.5,\n",
        "    light=al.lp.SersicCore(\n",
        "        centre=(0.0, 0.0),\n",
        "        ell_comps=(0.0, 0.1),\n",
        "        intensity=1.0,\n",
        "        effective_radius=2.0,\n",
        "        sersic_index=1.5,\n",
        "    ),\n",
        "    mass=sis_mass_profile,\n",
        ")\n",
        "\n",
        "print(lens_galaxy)\n",
        "\n",
        "sersic_light_profile = al.lp.SersicSph(\n",
        "    centre=(0.0, 0.0), intensity=1.0, effective_radius=2.0, sersic_index=1.5\n",
        ")\n",
        "\n",
        "source_galaxy = al.Galaxy(redshift=1.0, light=sersic_light_profile)\n",
        "\n",
        "print(source_galaxy)"
      ],
      "outputs": [],
      "execution_count": null
    },
    {
      "cell_type": "markdown",
      "metadata": {},
      "source": [
        "We can use the `GalaxyPlotter` object to visualize the image and deflection angles of the lens galaxy:"
      ]
    },
    {
      "cell_type": "code",
      "metadata": {},
      "source": [
        "galaxy_plotter = aplt.GalaxyPlotter(galaxy=lens_galaxy, grid=image_plane_grid)\n",
        "galaxy_plotter.figures_2d(image=True, deflections_y=True, deflections_x=True)"
      ],
      "outputs": [],
      "execution_count": null
    },
    {
      "cell_type": "markdown",
      "metadata": {},
      "source": [
        "By passing the `source_plane_grid` to the `GalaxyPlotter` for the source galaxy, we can visualize the lensed \n",
        "appearance of the source galaxy:"
      ]
    },
    {
      "cell_type": "code",
      "metadata": {},
      "source": [
        "galaxy_plotter = aplt.GalaxyPlotter(galaxy=source_galaxy, grid=source_plane_grid)\n",
        "galaxy_plotter.figures_2d(image=True)"
      ],
      "outputs": [],
      "execution_count": null
    },
    {
      "cell_type": "markdown",
      "metadata": {},
      "source": [
        "__Tracer__\n",
        "\n",
        "The ray-tracing calculations above were performed manually to demonstrate the process. However, in practice, \n",
        "manually computing the deflection angles of each galaxy and managing grids for forming lensed images is cumbersome.\n",
        "\n",
        "The `Tracer` object simplifies this process and is a central tool in **PyAutoLens**. \n",
        "\n",
        "When galaxies are provided to the `Tracer`, it performs the following tasks:\n",
        "\n",
        "1. The galaxies are sorted in order of increasing redshift.\n",
        "2. The galaxies are grouped into \"planes\" based on their unique redshift values.\n",
        "\n",
        "The `Tracer` then automates the calculations for quantities like images, deflection angles, and potentials. \n",
        "It performs the ray-tracing calculations for each plane and combines the results to obtain the final quantities."
      ]
    },
    {
      "cell_type": "code",
      "metadata": {},
      "source": [
        "tracer = al.Tracer(galaxies=[lens_galaxy, source_galaxy])"
      ],
      "outputs": [],
      "execution_count": null
    },
    {
      "cell_type": "markdown",
      "metadata": {},
      "source": [
        "The `Tracer` object contains a `planes` attribute, where each plane is a group of galaxies at the same redshift. \n",
        "\n",
        "In this example, with two galaxies at different redshifts, the tracer has two planes. The first plane corresponds \n",
        "to the image-plane, and the second to the source-plane."
      ]
    },
    {
      "cell_type": "code",
      "metadata": {},
      "source": [
        "print(tracer.planes)\n",
        "print(len(tracer.planes))"
      ],
      "outputs": [],
      "execution_count": null
    },
    {
      "cell_type": "markdown",
      "metadata": {},
      "source": [
        "We can inspect each plane, which shows the galaxies within them:"
      ]
    },
    {
      "cell_type": "code",
      "metadata": {},
      "source": [
        "print(\"Image Plane:\")\n",
        "print(tracer.planes[0])\n",
        "print()\n",
        "print(\"Source Plane:\")\n",
        "print(tracer.planes[1])"
      ],
      "outputs": [],
      "execution_count": null
    },
    {
      "cell_type": "markdown",
      "metadata": {},
      "source": [
        "This structure allows us to perform calculations for each plane separately. For example, we can compute and plot the \n",
        "deflection angles for all galaxies in the image-plane:"
      ]
    },
    {
      "cell_type": "code",
      "metadata": {},
      "source": [
        "deflections_yx_2d = tracer.planes[0].deflections_yx_2d_from(grid=image_plane_grid)\n",
        "print(\"Deflection angles of the image plane at pixel 0:\")\n",
        "print(deflections_yx_2d.native[0, 0, 0])\n",
        "print(deflections_yx_2d.native[0, 0, 1])"
      ],
      "outputs": [],
      "execution_count": null
    },
    {
      "cell_type": "markdown",
      "metadata": {},
      "source": [
        "We can also use the `GalaxiesPlotter` to visualize the deflection angles for all galaxies within a plane:"
      ]
    },
    {
      "cell_type": "code",
      "metadata": {},
      "source": [
        "galaxies_plotter = aplt.GalaxiesPlotter(\n",
        "    galaxies=tracer.planes[0], grid=image_plane_grid\n",
        ")\n",
        "galaxies_plotter.figures_2d(deflections_y=True, deflections_x=True)"
      ],
      "outputs": [],
      "execution_count": null
    },
    {
      "cell_type": "markdown",
      "metadata": {},
      "source": [
        "The `Tracer` object has an `image_2d_from` method that computes the image of the entire lens system, accounting \n",
        "for the ray-tracing across planes. \n",
        "\n",
        "In this example, the `Tracer` sums the images from two profiles\u2014one from the lens galaxy and one from the source \n",
        "galaxy. The lens galaxy\u2019s image appears unaltered since it lies in the image-plane before any ray-tracing occurs, \n",
        "while the source galaxy's image is lensed as it is in the source-plane."
      ]
    },
    {
      "cell_type": "code",
      "metadata": {},
      "source": [
        "tracer_plotter = aplt.TracerPlotter(tracer=tracer, grid=image_plane_grid)\n",
        "tracer_plotter.figures_2d(image=True)"
      ],
      "outputs": [],
      "execution_count": null
    },
    {
      "cell_type": "markdown",
      "metadata": {},
      "source": [
        "The `image_2d_from` method of the `Tracer` returns the combined image, which includes the lens galaxy's light and the \n",
        "lensed image of the source galaxy:"
      ]
    },
    {
      "cell_type": "code",
      "metadata": {},
      "source": [
        "traced_image_2d = tracer.image_2d_from(grid=image_plane_grid)\n",
        "print(\"Traced image pixel 1:\")\n",
        "print(traced_image_2d.native[0, 0])"
      ],
      "outputs": [],
      "execution_count": null
    },
    {
      "cell_type": "markdown",
      "metadata": {},
      "source": [
        "Just like with light and mass profiles of galaxies, these quantities can be visualized in log10 space using \n",
        "the `TracerPlotter`:"
      ]
    },
    {
      "cell_type": "code",
      "metadata": {},
      "source": [
        "tracer_plotter = aplt.TracerPlotter(\n",
        "    tracer=tracer, grid=image_plane_grid, mat_plot_2d=aplt.MatPlot2D(use_log10=True)\n",
        ")\n",
        "tracer_plotter.figures_2d_of_planes(plane_index=1, plane_image=True)"
      ],
      "outputs": [],
      "execution_count": null
    },
    {
      "cell_type": "markdown",
      "metadata": {},
      "source": [
        "When the `image_2d_from` method is called, the following steps occur:\n",
        "\n",
        "1. The lens galaxy's mass profiles are used to calculate the deflection angles at each image-plane $(y,x)$ coordinate.\n",
        "2. These deflection angles are subtracted from the corresponding image-plane coordinates, forming the source-plane grid\n",
        "   using the lens equation.\n",
        "3. The source-plane galaxies' profiles are used to compute the lensed light after ray tracing.\n",
        "\n",
        "These are the same steps we manually performed earlier in this tutorial!\n",
        "\n",
        "**Exercise**: Change the lens's mass profile from a `IsothermalSph` to an elliptical `Isothermal`, making sure to \n",
        "input  `ell_comps` that are not (0.0, 0.0). What happens to the number of source images?\n",
        "\n",
        "The `traced_grid_2d_list_from` method of the `Tracer` returns the traced grids for each plane:"
      ]
    },
    {
      "cell_type": "code",
      "metadata": {},
      "source": [
        "traced_grid_list = tracer.traced_grid_2d_list_from(grid=image_plane_grid)"
      ],
      "outputs": [],
      "execution_count": null
    },
    {
      "cell_type": "markdown",
      "metadata": {},
      "source": [
        "The first grid corresponds to the original image-plane grid, while the second is the deflected source-plane grid:"
      ]
    },
    {
      "cell_type": "code",
      "metadata": {},
      "source": [
        "print(\"Image-plane (y,x) coordinate 1:\")\n",
        "print(traced_grid_list[0].native[0, 0])\n",
        "print(\"Source-plane (y,x) coordinate 1:\")\n",
        "print(traced_grid_list[1].native[0, 0])"
      ],
      "outputs": [],
      "execution_count": null
    },
    {
      "cell_type": "markdown",
      "metadata": {},
      "source": [
        "These planes and grids can be visualized using the `TracerPlotter`:"
      ]
    },
    {
      "cell_type": "code",
      "metadata": {},
      "source": [
        "include = aplt.Include2D(grid=True)\n",
        "tracer_plotter = aplt.TracerPlotter(\n",
        "    tracer=tracer, grid=image_plane_grid, include_2d=include\n",
        ")\n",
        "tracer_plotter.figures_2d_of_planes(plane_image=True, plane_grid=True, plane_index=0)\n",
        "tracer_plotter.figures_2d_of_planes(plane_image=True, plane_grid=True, plane_index=1)"
      ],
      "outputs": [],
      "execution_count": null
    },
    {
      "cell_type": "markdown",
      "metadata": {},
      "source": [
        "A ray-tracing subplot shows the following:\n",
        "\n",
        "1. The lensed image, created by tracing the source-galaxy's light from the source-plane to the image-plane.\n",
        "2. The source-plane image, revealing the source-galaxy's intrinsic shape (if it were not lensed).\n",
        "3. The image-plane convergence, based on the lens galaxy's mass.\n",
        "4. The image-plane gravitational potential.\n",
        "5. The image-plane deflection angles.\n",
        "6. The image-plane magnification."
      ]
    },
    {
      "cell_type": "code",
      "metadata": {},
      "source": [
        "tracer_plotter.subplot_tracer()"
      ],
      "outputs": [],
      "execution_count": null
    },
    {
      "cell_type": "markdown",
      "metadata": {},
      "source": [
        "The tracer also provides methods to compute various quantities, like convergence:"
      ]
    },
    {
      "cell_type": "code",
      "metadata": {},
      "source": [
        "convergence = tracer.convergence_2d_from(grid=image_plane_grid)\n",
        "print(\"Tracer convergence at coordinate 1:\")\n",
        "print(convergence.native[0, 0])"
      ],
      "outputs": [],
      "execution_count": null
    },
    {
      "cell_type": "markdown",
      "metadata": {},
      "source": [
        "This convergence is identical to the combined convergence of the lens galaxies:"
      ]
    },
    {
      "cell_type": "code",
      "metadata": {},
      "source": [
        "convergence = tracer.planes[0].convergence_2d_from(grid=image_plane_grid)\n",
        "print(\"Image-Plane convergence at coordinate 1:\")\n",
        "print(convergence.native[0, 0])"
      ],
      "outputs": [],
      "execution_count": null
    },
    {
      "cell_type": "markdown",
      "metadata": {},
      "source": [
        "The `TracerPlotter` can also plot other attributes, like deflection angles, as individual figures:"
      ]
    },
    {
      "cell_type": "code",
      "metadata": {},
      "source": [
        "tracer_plotter.figures_2d(\n",
        "    image=True,\n",
        "    convergence=True,\n",
        "    potential=False,\n",
        "    deflections_y=False,\n",
        "    deflections_x=False,\n",
        ")"
      ],
      "outputs": [],
      "execution_count": null
    },
    {
      "cell_type": "markdown",
      "metadata": {},
      "source": [
        "__Mappings__\n",
        "\n",
        "Let\u2019s plot the image and source planes side by side and highlight specific points on each. This allows us to \n",
        "visualize how certain image pixels **map** to the source plane, and vice versa, based on their coloring.\n",
        "\n",
        "This is the first time we are using the `Visuals2D` object, which enables customization of the appearance \n",
        "of **PyAutoLens** figures. We'll encounter this object throughout the **HowToLens** tutorials. A detailed \n",
        "explanation of all its options is available in the `autolens_workspace/plot` package.\n",
        "\n",
        "Below, we specify integer `indexes` that highlight specific image pixels with different colors. We highlight \n",
        "indexes ranging from 0 to 50, which correspond to pixels across the top row of the image-plane grid, along with \n",
        "several other specific indexes."
      ]
    },
    {
      "cell_type": "code",
      "metadata": {},
      "source": [
        "visuals = aplt.Visuals2D(\n",
        "    indexes=[\n",
        "        range(0, 50),\n",
        "        range(500, 550),\n",
        "        [1350, 1450, 1550, 1650, 1750, 1850, 1950, 2050, 2150, 2250],\n",
        "        [6250, 8550, 8450, 8350, 8250, 8150, 8050, 7950, 7850, 7750],\n",
        "    ]\n",
        ")\n",
        "\n",
        "galaxies_plotter = aplt.GalaxiesPlotter(\n",
        "    galaxies=tracer.planes[0],\n",
        "    grid=image_plane_grid,\n",
        "    visuals_2d=visuals,\n",
        ")\n",
        "galaxies_plotter.set_title(\"Image-plane Grid\")\n",
        "galaxies_plotter.figures_2d(plane_grid=True)"
      ],
      "outputs": [],
      "execution_count": null
    },
    {
      "cell_type": "markdown",
      "metadata": {},
      "source": [
        "Next, we the source-plane grid and highlight specific points on it:"
      ]
    },
    {
      "cell_type": "code",
      "metadata": {},
      "source": [
        "source_plane_grid = tracer.traced_grid_2d_list_from(grid=image_plane_grid)[1]\n",
        "\n",
        "galaxies_plotter = aplt.GalaxiesPlotter(\n",
        "    galaxies=tracer.planes[1],\n",
        "    grid=source_plane_grid,\n",
        "    visuals_2d=visuals,\n",
        ")\n",
        "galaxies_plotter.set_title(\"Source-plane Grid\")\n",
        "galaxies_plotter.figures_2d(plane_grid=True)"
      ],
      "outputs": [],
      "execution_count": null
    },
    {
      "cell_type": "markdown",
      "metadata": {},
      "source": [
        "__Wrap Up__\n",
        "\n",
        "You've learn how strong lens ray-tracing works and how to do it using the `Tracer` object in **PyAutoLens**.\n",
        "\n",
        "Lets summarize what we've learnt:\n",
        "\n",
        "- **Grid**: The grid of coordinates that was important for evaluating light profiles is equally important for\n",
        "  ray-tracing calculations. \n",
        "  \n",
        "- **Mass Profiles**: These profiles describe the mass distribution of galaxies and are used to calculate deflection\n",
        "  angles.\n",
        "  \n",
        "- **Ray Tracing Grids**: By subtracting the deflection angles from the image-plane grid, we can map the light rays\n",
        "  to the source-plane and plot grid coordinates in both planes.\n",
        "  \n",
        "- **Ray Tracing Images**: We can evaluate the lensed image of a source galaxy using a ray-traced grid in order\n",
        "  to show how it appears after being gravitationally lensed.\n",
        "\n",
        "- **Tracer**: The `Tracer` object automates the ray-tracing process, allowing us to compute images of the entire \n",
        "  lens system.\n",
        " \n",
        "- **Mappings**: We can visualize how image pixels map to the source plane and vice versa using the `Visuals2D` \n",
        "  object.\n",
        "  \n",
        "**Exercise:** Experiment with making very complex `Tracer`'s with multiple galaxies at different redshifts,\n",
        "and where these galaxies have many different light and mass profiles. How complex can you make the gravitational\n",
        "lensing configuration? Do you think such complex configurations are common in the Universe?"
      ]
    },
    {
      "cell_type": "code",
      "metadata": {},
      "source": [],
      "outputs": [],
      "execution_count": null
    }
  ],
  "metadata": {
    "anaconda-cloud": {},
    "kernelspec": {
      "display_name": "Python 3",
      "language": "python",
      "name": "python3"
    },
    "language_info": {
      "codemirror_mode": {
        "name": "ipython",
        "version": 3
      },
      "file_extension": ".py",
      "mimetype": "text/x-python",
      "name": "python",
      "nbconvert_exporter": "python",
      "pygments_lexer": "ipython3",
      "version": "3.6.1"
    }
  },
  "nbformat": 4,
  "nbformat_minor": 4
}