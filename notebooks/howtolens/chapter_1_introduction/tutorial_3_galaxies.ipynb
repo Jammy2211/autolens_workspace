{
  "cells": [
    {
      "cell_type": "markdown",
      "metadata": {},
      "source": [
        "Tutorial 3: Galaxies\n",
        "====================\n",
        "\n",
        "This tutorial introduces `Galaxy` objects, which:\n",
        "\n",
        " - Are composed from collections of the light and mass profiles introduced in the previous tutorial.\n",
        "\n",
        " - Combine these profiles such that their properties (e.g. an image, deflection angles) are correctly calculated\n",
        " as the combination of these profiles.\n",
        "\n",
        " - Also have a redshift, which defines where a galaxy is relative to other galaxies in a lensing calculation."
      ]
    },
    {
      "cell_type": "code",
      "metadata": {},
      "source": [
        "%matplotlib inline\n",
        "from pyprojroot import here\n",
        "workspace_path = str(here())\n",
        "%cd $workspace_path\n",
        "print(f\"Working Directory has been set to `{workspace_path}`\")\n",
        "\n",
        "import autolens as al\n",
        "import autolens.plot as aplt"
      ],
      "outputs": [],
      "execution_count": null
    },
    {
      "cell_type": "markdown",
      "metadata": {},
      "source": [
        "__Initial Setup__\n",
        "\n",
        "We again use the same 2D grid as the previous tutorials."
      ]
    },
    {
      "cell_type": "code",
      "metadata": {},
      "source": [
        "grid = al.Grid2D.uniform(shape_native=(100, 100), pixel_scales=0.05)"
      ],
      "outputs": [],
      "execution_count": null
    },
    {
      "cell_type": "markdown",
      "metadata": {},
      "source": [
        "__Galaxies__\n",
        "\n",
        "A `Galaxy` is a collection of light and / or mass profiles at the same redshift.\n",
        "\n",
        "Lets make a galaxy with a Sersic light, by create the light profile and passing it to a `Galaxy` object."
      ]
    },
    {
      "cell_type": "code",
      "metadata": {},
      "source": [
        "sersic_light_profile = al.lp.Sersic(\n",
        "    centre=(0.0, 0.0),\n",
        "    ell_comps=(0.0, 0.111111),\n",
        "    intensity=1.0,\n",
        "    effective_radius=1.0,\n",
        "    sersic_index=2.5,\n",
        ")\n",
        "\n",
        "galaxy_with_light_profile = al.Galaxy(redshift=0.5, light=sersic_light_profile)\n",
        "\n",
        "print(galaxy_with_light_profile)"
      ],
      "outputs": [],
      "execution_count": null
    },
    {
      "cell_type": "markdown",
      "metadata": {},
      "source": [
        "The galaxy has an `image_2d_from` method, which uses its light profiles to create an image of the galaxy.\n",
        "\n",
        "This behaves identically to the `image_2d_from` method we saw for light profiles in the previous tutorial."
      ]
    },
    {
      "cell_type": "code",
      "metadata": {},
      "source": [
        "galaxy_image_2d = galaxy_with_light_profile.image_2d_from(grid=grid)\n",
        "\n",
        "print(\"intensity of `Grid2D` pixel 0:\")\n",
        "print(galaxy_image_2d.native[0, 0])\n",
        "print(\"intensity of `Grid2D` pixel 1:\")\n",
        "print(galaxy_image_2d.native[0, 1])\n",
        "print(\"intensity of `Grid2D` pixel 2:\")\n",
        "print(galaxy_image_2d.native[0, 2])\n",
        "print(\"etc.\")"
      ],
      "outputs": [],
      "execution_count": null
    },
    {
      "cell_type": "markdown",
      "metadata": {},
      "source": [
        "It also has a method for computing its image in 1D, like we saw for light profiles in the previous tutorial."
      ]
    },
    {
      "cell_type": "code",
      "metadata": {},
      "source": [
        "galaxy_image_1d = galaxy_with_light_profile.image_1d_from(grid=grid)\n",
        "print(galaxy_image_1d)"
      ],
      "outputs": [],
      "execution_count": null
    },
    {
      "cell_type": "markdown",
      "metadata": {},
      "source": [
        "A `GalaxyPlotter` allows us to the plot the image in 1D and 2D. \n",
        "\n",
        "Once again, the API is identical to the `LightProfilePlotter` we saw in the previous tutorial."
      ]
    },
    {
      "cell_type": "code",
      "metadata": {},
      "source": [
        "galaxy_plotter = aplt.GalaxyPlotter(galaxy=galaxy_with_light_profile, grid=grid)\n",
        "galaxy_plotter.figures_2d(image=True)\n",
        "galaxy_plotter.figures_1d(image=True)"
      ],
      "outputs": [],
      "execution_count": null
    },
    {
      "cell_type": "markdown",
      "metadata": {},
      "source": [
        "__Multiple Profiles__\n",
        "\n",
        "The galaxy above had a single light profile, and therefore the calculation of its image was no different calculations\n",
        "using just the light profile on its own.\n",
        "\n",
        "However, a `Galaxy` can be composed of multiple light profiles.\n",
        "\n",
        "Lets create a galaxy with three light profiles."
      ]
    },
    {
      "cell_type": "code",
      "metadata": {},
      "source": [
        "light_profile_1 = al.lp.SersicSph(\n",
        "    centre=(0.0, 0.0), intensity=1.0, effective_radius=1.0, sersic_index=2.5\n",
        ")\n",
        "\n",
        "light_profile_2 = al.lp.SersicSph(\n",
        "    centre=(1.0, 1.0), intensity=1.0, effective_radius=2.0, sersic_index=3.0\n",
        ")\n",
        "\n",
        "light_profile_3 = al.lp.SersicSph(\n",
        "    centre=(1.0, -1.0), intensity=1.0, effective_radius=2.0, sersic_index=2.0\n",
        ")\n",
        "\n",
        "galaxy_with_3_light_profiles = al.Galaxy(\n",
        "    redshift=0.5,\n",
        "    light_1=light_profile_1,\n",
        "    light_2=light_profile_2,\n",
        "    light_3=light_profile_3,\n",
        ")\n",
        "\n",
        "print(galaxy_with_3_light_profiles)"
      ],
      "outputs": [],
      "execution_count": null
    },
    {
      "cell_type": "markdown",
      "metadata": {},
      "source": [
        "By plotting the galaxy's image we see a superposition of 3 blobs of light.\n",
        "\n",
        "The image of multiple light profiles is simply the sum of their individual images. Therefore, all the galaxy\n",
        "is really doing is summing the images of its light profiles."
      ]
    },
    {
      "cell_type": "code",
      "metadata": {},
      "source": [
        "galaxy_plotter = aplt.GalaxyPlotter(galaxy=galaxy_with_3_light_profiles, grid=grid)\n",
        "galaxy_plotter.figures_2d(image=True)"
      ],
      "outputs": [],
      "execution_count": null
    },
    {
      "cell_type": "markdown",
      "metadata": {},
      "source": [
        "The previous tutorial discussed how the light distributions of galaxies are closer to a log10 distribution than a \n",
        "linear one and showed a convenience method to plot the image in log10 space.\n",
        "\n",
        "When plotting multiple galaxies, plotting in log10 space makes it easier to see by how much the galaxy images\n",
        "overlap and blend with one another. "
      ]
    },
    {
      "cell_type": "code",
      "metadata": {},
      "source": [
        "galaxy_plotter = aplt.GalaxyPlotter(\n",
        "    galaxy=galaxy_with_3_light_profiles,\n",
        "    grid=grid,\n",
        "    mat_plot_2d=aplt.MatPlot2D(use_log10=True),\n",
        ")\n",
        "galaxy_plotter.figures_2d(image=True)"
      ],
      "outputs": [],
      "execution_count": null
    },
    {
      "cell_type": "markdown",
      "metadata": {},
      "source": [
        "We can plot each individual light profile image using the `subplot_of_light_profiles` method."
      ]
    },
    {
      "cell_type": "code",
      "metadata": {},
      "source": [
        "galaxy_plotter.subplot_of_light_profiles(image=True)"
      ],
      "outputs": [],
      "execution_count": null
    },
    {
      "cell_type": "markdown",
      "metadata": {},
      "source": [
        "We can plot all light profiles in 1D on the same figure.\n",
        "\n",
        "This allows us to compare radially how the intensity of each light profile changes with radius, and therefore\n",
        "on what scales each light profile emits the majority of light.\n",
        "\n",
        "1D plots use grids aligned with each individual light profile centre, therefore 1D plots do visually show how these \n",
        "3 galaxies are misaligned in 2D."
      ]
    },
    {
      "cell_type": "code",
      "metadata": {},
      "source": [
        "galaxy_plotter.figures_1d_decomposed(image=True)"
      ],
      "outputs": [],
      "execution_count": null
    },
    {
      "cell_type": "markdown",
      "metadata": {},
      "source": [
        "Mass profiles can be passed to a `Galaxy` object in the exact same way as light profiles. \n",
        "\n",
        "Lets create a galaxy with three isothermal mass profiles."
      ]
    },
    {
      "cell_type": "code",
      "metadata": {},
      "source": [
        "mass_profile_1 = al.mp.IsothermalSph(centre=(0.0, 0.0), einstein_radius=1.0)\n",
        "\n",
        "mass_profile_2 = al.mp.IsothermalSph(centre=(1.0, 1.0), einstein_radius=1.0)\n",
        "\n",
        "mass_profile_3 = al.mp.IsothermalSph(centre=(1.0, -1.0), einstein_radius=1.0)\n",
        "\n",
        "galaxy_with_3_mass_profile_list = al.Galaxy(\n",
        "    redshift=0.5, mass_1=mass_profile_1, mass_2=mass_profile_2, mass_3=mass_profile_3\n",
        ")\n",
        "\n",
        "print(galaxy_with_3_mass_profile_list)"
      ],
      "outputs": [],
      "execution_count": null
    },
    {
      "cell_type": "markdown",
      "metadata": {},
      "source": [
        "We can use a `GalaxyPlotter` to plot the deflection angles of this galaxy and its superposition of three isothermal \n",
        "mass profiles. \n",
        "\n",
        "We saw that the images of light profiles are simply the sum of each individual light profile. The same is true of\n",
        "deflection angles of mass profiles.\n",
        "\n",
        "The \"critical curves\", given by the yellow and / or white lines, go pretty crazy when we start adding more and more\n",
        "mass profiles to a galaxy!"
      ]
    },
    {
      "cell_type": "code",
      "metadata": {},
      "source": [
        "galaxy_plotter = aplt.GalaxyPlotter(galaxy=galaxy_with_3_mass_profile_list, grid=grid)\n",
        "galaxy_plotter.figures_2d(deflections_y=True, deflections_x=True)"
      ],
      "outputs": [],
      "execution_count": null
    },
    {
      "cell_type": "markdown",
      "metadata": {},
      "source": [
        "The convergence and potential are also the sum of each individual mass profile and are easy to plot with a galaxy."
      ]
    },
    {
      "cell_type": "code",
      "metadata": {},
      "source": [
        "galaxy_plotter.figures_2d(convergence=True, potential=True)\n",
        "galaxy_plotter.figures_1d(convergence=True, potential=True)"
      ],
      "outputs": [],
      "execution_count": null
    },
    {
      "cell_type": "markdown",
      "metadata": {},
      "source": [
        "The mass distributions of galaxies are also easier to see separated in log10 space."
      ]
    },
    {
      "cell_type": "code",
      "metadata": {},
      "source": [
        "galaxy_plotter = aplt.GalaxyPlotter(\n",
        "    galaxy=galaxy_with_3_mass_profile_list,\n",
        "    grid=grid,\n",
        "    mat_plot_2d=aplt.MatPlot2D(use_log10=True),\n",
        ")\n",
        "galaxy_plotter.figures_2d(convergence=True, potential=True)"
      ],
      "outputs": [],
      "execution_count": null
    },
    {
      "cell_type": "markdown",
      "metadata": {},
      "source": [
        "__Light + Mass Profiles__\n",
        "\n",
        "A `Galaxy` can take both light and mass profiles, and there is no limit to how many we pass it!"
      ]
    },
    {
      "cell_type": "code",
      "metadata": {},
      "source": [
        "light_profile_1 = al.lp.SersicSph(\n",
        "    centre=(0.0, 0.0), intensity=1.0, effective_radius=1.0, sersic_index=1.0\n",
        ")\n",
        "\n",
        "light_profile_2 = al.lp.SersicSph(\n",
        "    centre=(1.0, 1.0), intensity=1.0, effective_radius=2.0, sersic_index=2.0\n",
        ")\n",
        "\n",
        "light_profile_3 = al.lp.SersicSph(\n",
        "    centre=(2.0, 2.0), intensity=1.0, effective_radius=3.0, sersic_index=3.0\n",
        ")\n",
        "\n",
        "light_profile_4 = al.lp.Sersic(\n",
        "    centre=(1.0, -1.0),\n",
        "    ell_comps=(0.3, 0.0),\n",
        "    intensity=1.0,\n",
        "    effective_radius=1.0,\n",
        "    sersic_index=1.0,\n",
        ")\n",
        "\n",
        "mass_profile_1 = al.mp.IsothermalSph(centre=(0.0, 0.0), einstein_radius=1.0)\n",
        "\n",
        "mass_profile_2 = al.mp.IsothermalSph(centre=(1.0, 1.0), einstein_radius=2.0)\n",
        "\n",
        "mass_profile_3 = al.mp.IsothermalSph(centre=(2.0, 2.0), einstein_radius=3.0)\n",
        "\n",
        "mass_profile_4 = al.mp.Isothermal(\n",
        "    centre=(1.0, -1.0), ell_comps=(0.333333, 0.0), einstein_radius=2.0\n",
        ")\n",
        "\n",
        "galaxy_with_many_profiles = al.Galaxy(\n",
        "    redshift=0.5,\n",
        "    light_1=light_profile_1,\n",
        "    light_2=light_profile_2,\n",
        "    light_3=light_profile_3,\n",
        "    light_4=light_profile_4,\n",
        "    mass_1=mass_profile_1,\n",
        "    mass_2=mass_profile_2,\n",
        "    mass_3=mass_profile_3,\n",
        "    mass_4=mass_profile_4,\n",
        ")"
      ],
      "outputs": [],
      "execution_count": null
    },
    {
      "cell_type": "markdown",
      "metadata": {},
      "source": [
        "The galaxy has a total of 4 light profiles and 4 mass profiles. \n",
        "\n",
        "Their image, convergence, potential and deflections angles all look pretty interesting!"
      ]
    },
    {
      "cell_type": "code",
      "metadata": {},
      "source": [
        "galaxy_plotter = aplt.GalaxyPlotter(galaxy=galaxy_with_many_profiles, grid=grid)\n",
        "galaxy_plotter.figures_2d(\n",
        "    image=True, convergence=True, potential=True, deflections_y=True, deflections_x=True\n",
        ")"
      ],
      "outputs": [],
      "execution_count": null
    },
    {
      "cell_type": "markdown",
      "metadata": {},
      "source": [
        "__Multiple Galaxies__\n",
        "\n",
        "We can also group galaxies into a `Galaxies` object, which is constructed from a list of galaxies."
      ]
    },
    {
      "cell_type": "code",
      "metadata": {},
      "source": [
        "galaxies = al.Galaxies(\n",
        "    galaxies=[galaxy_with_light_profile, galaxy_with_3_light_profiles]\n",
        ")"
      ],
      "outputs": [],
      "execution_count": null
    },
    {
      "cell_type": "markdown",
      "metadata": {},
      "source": [
        "The galaxies has the same methods we've seen for light profiles, mass profiles and individual galaxies.\n",
        "\n",
        "For example, the `image_2d_from` method sums up the individual images of every galaxy."
      ]
    },
    {
      "cell_type": "code",
      "metadata": {},
      "source": [
        "image = galaxies.image_2d_from(grid=grid)"
      ],
      "outputs": [],
      "execution_count": null
    },
    {
      "cell_type": "markdown",
      "metadata": {},
      "source": [
        "The `GalaxiesPlotter` shares the same API as the `LightProfilePlotter`, `MassProfilePlotter` and `GalaxyPlotter`."
      ]
    },
    {
      "cell_type": "code",
      "metadata": {},
      "source": [
        "galaxies_plotter = aplt.GalaxiesPlotter(galaxies=galaxies, grid=grid)\n",
        "galaxies_plotter.figures_2d(image=True)"
      ],
      "outputs": [],
      "execution_count": null
    },
    {
      "cell_type": "markdown",
      "metadata": {},
      "source": [
        "A subplot can be made of each individual galaxy image."
      ]
    },
    {
      "cell_type": "code",
      "metadata": {},
      "source": [
        "galaxies_plotter.subplot_galaxy_images()"
      ],
      "outputs": [],
      "execution_count": null
    },
    {
      "cell_type": "markdown",
      "metadata": {},
      "source": [
        "In the next tutorial, we will see how grouping galaxies together is key to performing strong lensing calculations.\n",
        "\n",
        "Notationally a group of galaxies is referred to as a plane.\n",
        "\n",
        "__Wrap Up__\n",
        "\n",
        "Tutorial 3 complete! Lets finish with just one question:\n",
        "\n",
        " 1) We've learnt that by grouping light and mass profiles into a galaxy we can sum the contribution of each profile to \n",
        " compute the galaxy's image, convergence, deflection angles, etc. \n",
        " \n",
        " In strong lensing, there may be multiple galaxies (at the same redshift) next to one another. How might we combine \n",
        " these galaxies to calculate their light and mass profile quantities?"
      ]
    },
    {
      "cell_type": "code",
      "metadata": {},
      "source": [],
      "outputs": [],
      "execution_count": null
    }
  ],
  "metadata": {
    "anaconda-cloud": {},
    "kernelspec": {
      "display_name": "Python 3",
      "language": "python",
      "name": "python3"
    },
    "language_info": {
      "codemirror_mode": {
        "name": "ipython",
        "version": 3
      },
      "file_extension": ".py",
      "mimetype": "text/x-python",
      "name": "python",
      "nbconvert_exporter": "python",
      "pygments_lexer": "ipython3",
      "version": "3.6.1"
    }
  },
  "nbformat": 4,
  "nbformat_minor": 4
}