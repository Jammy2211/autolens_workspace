{
  "cells": [
    {
      "cell_type": "markdown",
      "metadata": {},
      "source": [
        "Tutorial 6: Data\n",
        "================\n",
        "\n",
        "In the last tutorials, we use tracers to create images of strong lenses. However, those images don't accurately\n",
        "represent what we would observe through a telescope.\n",
        "\n",
        "Real telescope images, like those taken with the Charge Coupled Device (CCD) imaging detectors on the Hubble Space \n",
        "Telescope, include several factors that affect what we see:\n",
        "\n",
        "**Telescope Optics:** The optical components of the telescope can blur the light, influencing the image's sharpness.\n",
        "\n",
        "**Exposure Time:** The time the detector collects light, affecting the clarity of the image. Longer exposure times\n",
        "gather more light, improving the signal-to-noise ratio and creating a clearer image.\n",
        "\n",
        "**Background Sky:** Light from the sky itself, such as distant stars or zodiacal light, adds noise to the image.\n",
        "adds additional noise to the image.\n",
        "\n",
        "In this tutorial, we'll simulate a strong lens image by applying these real-world effects to the light and mass \n",
        "profiles and images we created earlier.\n",
        "\n",
        "Here is an overview of what we'll cover in this tutorial:\n",
        "\n",
        "- **Optics Blurring:** We'll simulate how the telescope optics blur the galaxy's light, making the images appear blurred.\n",
        "- **Poisson Noise:** We'll add Poisson noise to the image, simulating the randomness in the photon-to-electron conversion process on the CCD.\n",
        "- **Background Sky:** We'll add a background sky to the image, simulating the light from the sky that adds noise to the image.\n",
        "- **Simulator:** We'll use the `SimulatorImaging` object to simulate imaging data that includes all these effects."
      ]
    },
    {
      "cell_type": "code",
      "metadata": {},
      "source": [
        "%matplotlib inline\n",
        "from pyprojroot import here\n",
        "workspace_path = str(here())\n",
        "%cd $workspace_path\n",
        "print(f\"Working Directory has been set to `{workspace_path}`\")\n",
        "\n",
        "import numpy as np\n",
        "from os import path\n",
        "import autolens as al\n",
        "import autolens.plot as aplt"
      ],
      "outputs": [],
      "execution_count": null
    },
    {
      "cell_type": "markdown",
      "metadata": {},
      "source": [
        "__Initial Setup__\n",
        "\n",
        "To create our simulated strong lens image, we first need a 2D grid. This grid will represent the coordinate space over \n",
        "which we will simulate the strong lens's light distribution."
      ]
    },
    {
      "cell_type": "code",
      "metadata": {},
      "source": [
        "grid = al.Grid2D.uniform(\n",
        "    shape_native=(\n",
        "        101,\n",
        "        101,\n",
        "    ),  # The dimensions of the grid, which here is 100 x 100 pixels.\n",
        "    pixel_scales=0.1,  # The conversion factor between pixel units and arc-seconds.\n",
        ")"
      ],
      "outputs": [],
      "execution_count": null
    },
    {
      "cell_type": "markdown",
      "metadata": {},
      "source": [
        "Next, we define the properties of our strong lens. In this tutorial, we\u2019ll represent the lens with no luminous\n",
        "emmission and  an`Isothermal` mass profile. The source galaxy will be represented by a Sersic light profile.\n",
        "\n",
        "In the previous tutorial, the units of `intensity` were arbitrary. However, for this tutorial, where we simulate \n",
        "realistic imaging data, the intensity must have specific units. We\u2019ll use units of electrons per second per pixel \n",
        "($e- pix^-1 s^-1$), which is standard for CCD imaging data."
      ]
    },
    {
      "cell_type": "code",
      "metadata": {},
      "source": [
        "lens_galaxy = al.Galaxy(\n",
        "    redshift=0.5,\n",
        "    mass=al.mp.Isothermal(\n",
        "        centre=(0.0, 0.0), einstein_radius=1.6, ell_comps=(0.17647, 0.0)\n",
        "    ),\n",
        ")\n",
        "\n",
        "source_galaxy = al.Galaxy(\n",
        "    redshift=1.0,\n",
        "    bulge=al.lp.Sersic(\n",
        "        centre=(0.1, 0.1),\n",
        "        ell_comps=(0.0, 0.111111),\n",
        "        intensity=1.0,  # in units of e- pix^-1 s^-1\n",
        "        effective_radius=1.0,\n",
        "        sersic_index=2.5,\n",
        "    ),\n",
        ")\n",
        "\n",
        "tracer = al.Tracer(galaxies=[lens_galaxy, source_galaxy])"
      ],
      "outputs": [],
      "execution_count": null
    },
    {
      "cell_type": "markdown",
      "metadata": {},
      "source": [
        "Lets look at the tracer's image, which is the image we'll be simulating."
      ]
    },
    {
      "cell_type": "code",
      "metadata": {},
      "source": [
        "tracer_plotter = aplt.TracerPlotter(tracer=tracer, grid=grid)\n",
        "tracer_plotter.set_title(\"Tracer Image Before Simulating\")\n",
        "tracer_plotter.figures_2d(image=True)"
      ],
      "outputs": [],
      "execution_count": null
    },
    {
      "cell_type": "markdown",
      "metadata": {},
      "source": [
        "__Optics Blurring__\n",
        "\n",
        "All images captured using CCDs (like those on the Hubble Space Telescope or Euclid) experience some level of blurring \n",
        "due to the optics of the telescope. This blurring occurs because the optical system spreads out the light from each \n",
        "point source (e.g., a star or a part of a galaxy).\n",
        "\n",
        "The Point Spread Function (PSF) describes how the telescope blurs the image. It can be thought of as a 2D representation \n",
        "of how a single point of light would appear in the image, spread out by the optics. In practice, the PSF is a 2D \n",
        "convolution kernel that we apply to the image to simulate this blurring effect."
      ]
    },
    {
      "cell_type": "code",
      "metadata": {},
      "source": [
        "psf = al.Kernel2D.from_gaussian(\n",
        "    shape_native=(11, 11),  # The size of the PSF kernel, represented as an 11x11 grid.\n",
        "    sigma=0.1,  # Controls the width of the Gaussian PSF, which determines the level of blurring.\n",
        "    pixel_scales=grid.pixel_scales,  # Maintains consistency with the scale of the image grid.\n",
        "    normalize=True,  # Normalizes the PSF kernel so that its values sum to 1.\n",
        ")"
      ],
      "outputs": [],
      "execution_count": null
    },
    {
      "cell_type": "markdown",
      "metadata": {},
      "source": [
        "We can visualize the PSF to better understand how it will blur the galaxy's image. The PSF is essentially a small \n",
        "image that represents the spreading out of light from a single point source. This kernel will be used to blur the \n",
        "entire tracer image when we perform the convolution."
      ]
    },
    {
      "cell_type": "code",
      "metadata": {},
      "source": [
        "array_plotter = aplt.Array2DPlotter(array=psf)\n",
        "array_plotter.set_title(\"PSF 2D Kernel\")\n",
        "array_plotter.figure_2d()"
      ],
      "outputs": [],
      "execution_count": null
    },
    {
      "cell_type": "markdown",
      "metadata": {},
      "source": [
        "The PSF is often more informative when plotted on a log10 scale. This approach allows us to clearly observe values \n",
        "in its tail, which are much smaller than the central peak yet critical for many scientific analyses. The tail \n",
        "values may significantly affect the spread and detail captured in the data."
      ]
    },
    {
      "cell_type": "code",
      "metadata": {},
      "source": [
        "array_plotter = aplt.Array2DPlotter(\n",
        "    array=psf, mat_plot_2d=aplt.MatPlot2D(use_log10=True)\n",
        ")\n",
        "array_plotter.set_title(\"PSF 2D Kernel\")\n",
        "array_plotter.figure_2d()"
      ],
      "outputs": [],
      "execution_count": null
    },
    {
      "cell_type": "markdown",
      "metadata": {},
      "source": [
        "Next, we'll manually perform a 2D convolution of the PSF with the image of the galaxy. This convolution simulates the \n",
        "blurring that occurs when the telescope optics spread out the galaxy's light.\n",
        "\n",
        "1. **Padding the Image**: Before convolution, we add padding (extra space with zero values) around the edges of the \n",
        "   image. This prevents unwanted edge effects when we perform the convolution, ensuring that the image's edges don't \n",
        "   become artificially altered by the process.\n",
        "\n",
        "2. **Convolution**: Using the `Kernel2D` object's `convolve` method, we apply the 2D PSF convolution to the padded \n",
        "   image. This step combines the PSF with the galaxy's light, simulating how the telescope spreads out the light.\n",
        "\n",
        "3. **Trimming the Image**: After convolution, we trim the padded areas back to their original size, obtaining a \n",
        "   convolved (blurred) image that matches the dimensions of the initial tracer image."
      ]
    },
    {
      "cell_type": "code",
      "metadata": {},
      "source": [
        "image = tracer.image_2d_from(grid=grid)  # The original unblurred image of the galaxy.\n",
        "padded_image = tracer.padded_image_2d_from(\n",
        "    grid=grid, psf_shape_2d=psf.shape_native  # Adding padding based on the PSF size.\n",
        ")\n",
        "convolved_image = psf.convolved_array_from(\n",
        "    array=padded_image\n",
        ")  # Applying the PSF convolution.\n",
        "blurred_image = convolved_image.trimmed_after_convolution_from(\n",
        "    kernel_shape=psf.shape_native\n",
        ")  # Trimming back to the original size."
      ],
      "outputs": [],
      "execution_count": null
    },
    {
      "cell_type": "markdown",
      "metadata": {},
      "source": [
        "We can now plot the original and the blurred images side by side. This allows us to clearly see how the PSF \n",
        "convolution affects the appearance of the galaxy, making the image appear softer and less sharp."
      ]
    },
    {
      "cell_type": "code",
      "metadata": {},
      "source": [
        "array_plotter = aplt.Array2DPlotter(array=image)\n",
        "array_plotter.set_title(\"Tracer Image Before PSF\")\n",
        "array_plotter.figure_2d()\n",
        "\n",
        "array_plotter.set_title(\"Tracer Image After PSF\")\n",
        "array_plotter = aplt.Array2DPlotter(array=blurred_image)\n",
        "array_plotter.figure_2d()\n"
      ],
      "outputs": [],
      "execution_count": null
    },
    {
      "cell_type": "markdown",
      "metadata": {},
      "source": [
        "__Poisson Noise__\n",
        "\n",
        "In addition to the blurring caused by telescope optics, we also need to consider Poisson noise when simulating imaging \n",
        "data.\n",
        "\n",
        "When a telescope captures an image of a galaxy, photons from the galaxy are collected by the telescope's mirror and \n",
        "directed onto a CCD (Charge-Coupled Device). The CCD is made up of a silicon lattice (or another material) that \n",
        "converts incoming photons into electrons. These electrons are then gathered into discrete squares, which form the \n",
        "pixels of the final image.\n",
        "\n",
        "The process of converting photons into electrons is inherently random, following a Poisson distribution. This randomness \n",
        "means that the number of electrons in each pixel can vary, even if the same number of photons hits the CCD. Therefore, \n",
        "the electron count per pixel becomes a Poisson random variable. For our simulation, this means that the recorded \n",
        "number of photons in each pixel will differ slightly from the true number due to this randomness.\n",
        "\n",
        "To replicate this effect in our simulation, we can add Poisson noise to the tracer image using NumPy\u2019s random module, \n",
        "which generates values from a Poisson distribution.\n",
        "\n",
        "It's important to note that the blurring caused by the telescope optics occurs before the photons reach the CCD. \n",
        "Therefore, we need to add the Poisson noise after blurring the tracer image.\n",
        "\n",
        "We also need to consider the units of our image data. Let\u2019s assume that the tracer image is measured in units of \n",
        "electrons per second ($e^- s^{-1}$), which is standard for CCD imaging data. To simulate the number of electrons \n",
        "actually detected in each pixel, we multiply the image by the observation\u2019s exposure time. This conversion changes t\n",
        "he units to the total number of electrons collected per pixel over the entire exposure time.\n",
        "\n",
        "Once the image is converted, we add Poisson noise, simulating the randomness in the photon-to-electron conversion \n",
        "process. After adding the noise, we convert the image back to units of electrons per second for analysis, as \n",
        "this is the preferred unit for astronomers when studying their data."
      ]
    },
    {
      "cell_type": "code",
      "metadata": {},
      "source": [
        "exposure_time = 300.0  # Units of seconds\n",
        "blurred_image_counts = (\n",
        "    blurred_image * exposure_time\n",
        ")  # Convert to total electrons detected over the exposure time.\n",
        "blurred_image_with_poisson_noise = (\n",
        "    np.random.poisson(blurred_image_counts, blurred_image_counts.shape) / exposure_time\n",
        ")  # Add Poisson noise and convert back to electrons per second."
      ],
      "outputs": [],
      "execution_count": null
    },
    {
      "cell_type": "markdown",
      "metadata": {},
      "source": [
        "Here is what the blurred image with Poisson noise looks like."
      ]
    },
    {
      "cell_type": "code",
      "metadata": {},
      "source": [
        "array_plotter = aplt.Array2DPlotter(\n",
        "    array=al.Array2D(values=blurred_image_with_poisson_noise, mask=grid.mask),\n",
        ")\n",
        "array_plotter.set_title(\"Image With Poisson Noise\")\n",
        "array_plotter.figure_2d()"
      ],
      "outputs": [],
      "execution_count": null
    },
    {
      "cell_type": "markdown",
      "metadata": {},
      "source": [
        "It is challenging to see the Poisson noise directly in the image above, as it is often subtle. To make the noise more \n",
        "visible, we can subtract the blurred image without Poisson noise from the one with noise.\n",
        "\n",
        "This subtraction yields the \"Poisson noise realization\" which highlights the variation in each pixel due to the Poisson \n",
        "distribution of photons hitting the CCD. It represents the noise values that were added to each pixel. We call\n",
        "it the realization because it is one possible outcome of the Poisson process, and the noise will be different each time\n",
        "we simulate the image."
      ]
    },
    {
      "cell_type": "code",
      "metadata": {},
      "source": [
        "poisson_noise_realization = blurred_image_with_poisson_noise - blurred_image\n",
        "\n",
        "array_plotter = aplt.Array2DPlotter(\n",
        "    array=al.Array2D(values=poisson_noise_realization, mask=grid.mask)\n",
        ")\n",
        "array_plotter.set_title(\"Poisson Noise Realization\")\n",
        "array_plotter.figure_2d()"
      ],
      "outputs": [],
      "execution_count": null
    },
    {
      "cell_type": "markdown",
      "metadata": {},
      "source": [
        "__Background Sky__\n",
        "\n",
        "The final effect we will consider when simulating imaging data is the background sky.\n",
        "\n",
        "In addition to light from the strong lens, the telescope also picks up light from the sky. This background sky light is \n",
        "primarily due to two sources: zodiacal light, which is light scattered by interplanetary dust in the solar system, \n",
        "and the unresolved emission from distant stars and tracer.\n",
        "\n",
        "For our simulation, we'll assume that the background sky has a uniform brightness across the image, measured at \n",
        "0.1 electrons per second per pixel. The background sky is added to the image before applying the PSF convolution \n",
        "and adding Poisson noise. This is important because it means that the background contributes additional noise to the \n",
        "image.\n",
        "\n",
        "The background sky introduces noise throughout the entire image, including areas where the strong lens is not present. \n",
        "This is why CCD images often appear noisy, especially in regions far from where the strong lens signal is detected. \n",
        "The sky noise can make it more challenging to observe faint details of the lens and source galaxies.\n",
        "\n",
        "To simulate this, we add a constant background sky to the tracer image and then apply Poisson noise to create the \n",
        "final simulated image as it would appear through a telescope."
      ]
    },
    {
      "cell_type": "code",
      "metadata": {},
      "source": [
        "background_sky_level = 0.1\n",
        "\n",
        "# Add background sky to the blurred tracer image.\n",
        "blurred_image_with_sky = blurred_image + background_sky_level\n",
        "blurred_image_with_sky_counts = blurred_image_with_sky * exposure_time\n",
        "\n",
        "# Apply Poisson noise to the image with the background sky.\n",
        "blurred_image_with_sky_poisson_noise = (\n",
        "    np.random.poisson(\n",
        "        blurred_image_with_sky_counts, blurred_image_with_sky_counts.shape\n",
        "    )\n",
        "    / exposure_time\n",
        ")\n",
        "\n",
        "# Visualize the image with background sky and Poisson noise.\n",
        "array_plotter = aplt.Array2DPlotter(\n",
        "    array=al.Array2D(values=blurred_image_with_sky_poisson_noise, mask=grid.mask),\n",
        ")\n",
        "array_plotter.set_title(\"Image With Background Sky\")\n",
        "array_plotter.figure_2d()\n",
        "\n",
        "# Create a noise map showing the differences between the blurred image with and without noise.\n",
        "poisson_noise_realization = (\n",
        "    blurred_image_with_sky_poisson_noise - blurred_image_with_sky\n",
        ")\n",
        "\n",
        "array_plotter = aplt.Array2DPlotter(\n",
        "    array=al.Array2D(values=poisson_noise_realization, mask=grid.mask)\n",
        ")\n",
        "array_plotter.set_title(\"Poisson Noise Realization\")\n",
        "array_plotter.figure_2d()"
      ],
      "outputs": [],
      "execution_count": null
    },
    {
      "cell_type": "markdown",
      "metadata": {},
      "source": [
        "__Simulator__\n",
        "\n",
        "The `SimulatorImaging` object lets us create simulated imaging data while including the effects of PSF blurring, \n",
        "Poisson noise, and background sky all at once:"
      ]
    },
    {
      "cell_type": "code",
      "metadata": {},
      "source": [
        "simulator = al.SimulatorImaging(\n",
        "    exposure_time=300.0, psf=psf, background_sky_level=0.1, add_poisson_noise=True\n",
        ")\n",
        "\n",
        "dataset = simulator.via_tracer_from(tracer=tracer, grid=grid)"
      ],
      "outputs": [],
      "execution_count": null
    },
    {
      "cell_type": "markdown",
      "metadata": {},
      "source": [
        "By plotting the `data` from the dataset, we can see that it matches the image we simulated earlier. It includes \n",
        "the effects of PSF blurring, Poisson noise, and noise from the background sky. This image is a realistic \n",
        "approximation of what a telescope like the Hubble Space Telescope would capture."
      ]
    },
    {
      "cell_type": "code",
      "metadata": {},
      "source": [
        "dataset_plotter = aplt.Array2DPlotter(array=dataset.data)\n",
        "dataset_plotter.set_title(\"Simulated Imaging Data\")\n",
        "dataset_plotter.figure_2d()"
      ],
      "outputs": [],
      "execution_count": null
    },
    {
      "cell_type": "markdown",
      "metadata": {},
      "source": [
        "The dataset also includes the `psf` (Point Spread Function) used to blur the strong lens image.\n",
        "\n",
        "For actual telescope data, the PSF is determined during data processing and is provided along with the observations. \n",
        "It's crucial for accurately deconvolving the PSF from the strong lens image, allowing us to recover the true properties \n",
        "of the strong lens. We'll explore this further in the next tutorial."
      ]
    },
    {
      "cell_type": "code",
      "metadata": {},
      "source": [
        "array_plotter = aplt.Array2DPlotter(\n",
        "    array=dataset.psf, mat_plot_2d=aplt.MatPlot2D(use_log10=True)\n",
        ")\n",
        "array_plotter.set_title(\"Simulated PSF\")\n",
        "array_plotter.figure_2d()"
      ],
      "outputs": [],
      "execution_count": null
    },
    {
      "cell_type": "markdown",
      "metadata": {},
      "source": [
        "The dataset includes a `noise_map`, which represents the Root Mean Square (RMS) standard deviation of the noise \n",
        "estimated for each pixel in the image. Higher noise values mean that the measurements in those pixels are \n",
        "less certain, so those pixels are given less weight when analyzing the data.\n",
        "\n",
        "This `noise_map` is different from the Poisson noise arrays we plotted earlier. The Poisson noise arrays show the \n",
        "actual noise added to the image due to the random nature of photon-to-electron conversion on the CCD, as calculated \n",
        "using the numpy random module. These noise values are theoretical and cannot be directly measured in real telescope data.\n",
        "\n",
        "In contrast, the `noise_map` is our best estimate of the noise present in the image, derived from the data itself \n",
        "and used in the fitting process."
      ]
    },
    {
      "cell_type": "code",
      "metadata": {},
      "source": [
        "array_plotter = aplt.Array2DPlotter(array=dataset.noise_map)\n",
        "array_plotter.set_title(\"Simulated Noise Map\")\n",
        "array_plotter.figure_2d()"
      ],
      "outputs": [],
      "execution_count": null
    },
    {
      "cell_type": "markdown",
      "metadata": {},
      "source": [
        "The `signal-to-noise_map` shows the ratio of the signal in each pixel to the noise level in that pixel. It is \n",
        "calculated by dividing the `data` by the `noise_map`.\n",
        "\n",
        "This ratio helps us understand how much of the observed signal is reliable compared to the noise, allowing us to \n",
        "see where we can trust the detected signal from the strong lens and where the noise is more significant.\n",
        "\n",
        "In general, a signal-to-noise ratio greater than 3 indicates that the signal is likely real and not overwhelmed by \n",
        "noise. For our datasets, the signal-to-noise ratio peaks at ~70, meaning we can trust the signal detected in the\n",
        "image."
      ]
    },
    {
      "cell_type": "code",
      "metadata": {},
      "source": [
        "array_plotter = aplt.Array2DPlotter(\n",
        "    array=dataset.signal_to_noise_map,\n",
        ")\n",
        "array_plotter.set_title(\"Signal-To-Noise Map\")\n",
        "array_plotter.figure_2d()"
      ],
      "outputs": [],
      "execution_count": null
    },
    {
      "cell_type": "markdown",
      "metadata": {},
      "source": [
        "The `ImagingPlotter` object can display all of these components together, making it a powerful tool for visualizing \n",
        "simulated imaging data.\n",
        "\n",
        "It also shows the Data and PSF on a logarithmic (log10) scale, which helps highlight the faint details in these \n",
        "components.\n",
        "\n",
        "The \"Over Sampling\" plots on the bottom of the figures display advanced features that can be ignored for now."
      ]
    },
    {
      "cell_type": "code",
      "metadata": {},
      "source": [
        "imaging_plotter = aplt.ImagingPlotter(dataset=dataset)\n",
        "imaging_plotter.set_title(\n",
        "    None\n",
        ")  # Disable input title so subplot uses correct title for each sub-figure.\n",
        "imaging_plotter.subplot_dataset()"
      ],
      "outputs": [],
      "execution_count": null
    },
    {
      "cell_type": "markdown",
      "metadata": {},
      "source": [
        "__Output__\n",
        "\n",
        "We will now save these simulated data to `.fits` files, the standard format used by astronomers for storing images.\n",
        "Most imaging data from telescopes like the Hubble Space Telescope (HST) are stored in this format.\n",
        "\n",
        "The `dataset_path` specifies where the data will be saved, in this case, in the directory \n",
        "`autolens_workspace/dataset/imaging/howtolens/`, which contains many example images distributed with \n",
        "the `autolens_workspace`.\n",
        "\n",
        "The files are named `data.fits`, `noise_map.fits`, and `psf.fits`, and will be used in the next tutorial."
      ]
    },
    {
      "cell_type": "code",
      "metadata": {},
      "source": [
        "dataset_path = path.join(\"dataset\", \"imaging\", \"howtolens\")\n",
        "print(\"Dataset Path: \", dataset_path)\n",
        "\n",
        "dataset.output_to_fits(\n",
        "    data_path=path.join(dataset_path, \"data.fits\"),\n",
        "    noise_map_path=path.join(dataset_path, \"noise_map.fits\"),\n",
        "    psf_path=path.join(dataset_path, \"psf.fits\"),\n",
        "    overwrite=True,\n",
        ")"
      ],
      "outputs": [],
      "execution_count": null
    },
    {
      "cell_type": "markdown",
      "metadata": {},
      "source": [
        "__Wrap Up__\n",
        "\n",
        "In this tutorial, you learned how CCD imaging data of a lens is collected using real telescopes like the \n",
        "Hubble Space Telescope, and how to simulate this data using the `SimulatorImaging` object.\n",
        "\n",
        "Let's summarize what we've covered:\n",
        "\n",
        "- **Optics Blurring**: The optics of a telescope blur the light from tracer, reducing the clarity and sharpness of \n",
        "the images.\n",
        "\n",
        "- **Poisson Noise**: The process of converting photons to electrons on a CCD introduces Poisson noise, which is random \n",
        "variability in the number of electrons collected in each pixel.\n",
        "\n",
        "- **Background Sky**: Light from the sky is captured along with light from the lens, adding a layer of noise across \n",
        "the entire image.\n",
        "\n",
        "- **Simulator**: The `SimulatorImaging` object enables us to simulate realistic imaging data by including all of \n",
        "these effects together and contains the `data`, `psf`, and `noise_map` components.\n",
        "\n",
        "- **Output**: We saved the simulated data to `.fits` files, the standard format used by astronomers for storing images."
      ]
    },
    {
      "cell_type": "code",
      "metadata": {},
      "source": [],
      "outputs": [],
      "execution_count": null
    }
  ],
  "metadata": {
    "anaconda-cloud": {},
    "kernelspec": {
      "display_name": "Python 3",
      "language": "python",
      "name": "python3"
    },
    "language_info": {
      "codemirror_mode": {
        "name": "ipython",
        "version": 3
      },
      "file_extension": ".py",
      "mimetype": "text/x-python",
      "name": "python",
      "nbconvert_exporter": "python",
      "pygments_lexer": "ipython3",
      "version": "3.6.1"
    }
  },
  "nbformat": 4,
  "nbformat_minor": 4
}