{
  "cells": [
    {
      "cell_type": "markdown",
      "metadata": {},
      "source": [
        "Tutorial 4: Planes\n",
        "==================\n",
        "\n",
        "So far, we have learnt how to combine light profiles, mass profiles and galaxies to perform various calculations. In\n",
        "this tutorial we'll use these objects to perform our first ray-tracing calculations!\n",
        "\n",
        "A strong gravitational lens is a system where two (or more) galaxies align perfectly down our line of sight from Earth\n",
        "such that the foreground galaxy's mass (represented as mass profiles) deflects the light (represented as light profiles)\n",
        "of a background source galaxy(s).\n",
        "\n",
        "When the alignment is just right and the lens is massive enough, the background source galaxy appears multiple\n",
        "times. The schematic below shows such a system, where light-rays from the source are deflected around the lens galaxy\n",
        "to the observer following multiple distinct paths.\n",
        "\n",
        "![Schematic of Gravitational Lensing](https://i.imgur.com/zB6tIdI.jpg)\n",
        "\n",
        "As an observer, we don't see the source's true appearance (e.g. a round blob of light). Instead, we only observe its \n",
        "light after it has been deflected and lensed by the foreground galaxies.\n",
        "\n",
        "In the schematic above, we used the terms 'image-plane' and 'source-plane'. In lensing, a 'plane' is a collection of\n",
        "galaxies at the same redshift (meaning that they are physically parallel to one another). In this tutorial, we'll\n",
        "use the `Plane` object to create a strong lensing system like the one pictured above. Whilst a plane can contain\n",
        "any number of galaxies, in this tutorial we'll stick to just one lens galaxy and one source galaxy."
      ]
    },
    {
      "cell_type": "code",
      "metadata": {},
      "source": [
        "%matplotlib inline\n",
        "from pyprojroot import here\n",
        "workspace_path = str(here())\n",
        "%cd $workspace_path\n",
        "print(f\"Working Directory has been set to `{workspace_path}`\")\n",
        "\n",
        "import autolens as al\n",
        "import autolens.plot as aplt"
      ],
      "outputs": [],
      "execution_count": null
    },
    {
      "cell_type": "markdown",
      "metadata": {},
      "source": [
        "__Initial Setup__\n",
        "\n",
        "As always, we need a 2D grid of $(y,x)$ coordinates. \n",
        "\n",
        "However, we can now think of our grid as the coordinates that we are going to 'trace' from the image-plane to the \n",
        "source-plane. We name our grid the `image_plane_grid` to reflect this."
      ]
    },
    {
      "cell_type": "code",
      "metadata": {},
      "source": [
        "image_plane_grid = al.Grid2D.uniform(shape_native=(100, 100), pixel_scales=0.05)"
      ],
      "outputs": [],
      "execution_count": null
    },
    {
      "cell_type": "markdown",
      "metadata": {},
      "source": [
        "We will also name our `Galaxy` objects `lens_galaxy` and `source_galaxy`, to reflect their role in the schematic above."
      ]
    },
    {
      "cell_type": "code",
      "metadata": {},
      "source": [
        "mass_profile = al.mp.IsothermalSph(centre=(0.0, 0.0), einstein_radius=1.6)\n",
        "\n",
        "lens_galaxy = al.Galaxy(redshift=0.5, mass=mass_profile)\n",
        "\n",
        "light_profile = al.lp.SersicSph(\n",
        "    centre=(0.0, 0.0), intensity=1.0, effective_radius=1.0, sersic_index=1.0\n",
        ")\n",
        "\n",
        "source_galaxy = al.Galaxy(redshift=1.0, bulge=light_profile)"
      ],
      "outputs": [],
      "execution_count": null
    },
    {
      "cell_type": "markdown",
      "metadata": {},
      "source": [
        "__Planes__\n",
        "\n",
        "We now use the `Plane` object to create the image-plane of the schematic above, which uses the lens galaxy above. \n",
        "Because this galaxy is at redshift 0.5, this means our image-plane is also at redshift 0.5."
      ]
    },
    {
      "cell_type": "code",
      "metadata": {},
      "source": [
        "image_plane = al.Plane(galaxies=[lens_galaxy])"
      ],
      "outputs": [],
      "execution_count": null
    },
    {
      "cell_type": "markdown",
      "metadata": {},
      "source": [
        "Just like profiles and galaxies, a `Plane` has `_from_grid` method which we can use to compute its quantities."
      ]
    },
    {
      "cell_type": "code",
      "metadata": {},
      "source": [
        "deflections_yx_2d = image_plane.deflections_yx_2d_from(grid=image_plane_grid)\n",
        "\n",
        "print(\"deflection-angles of `Plane`'s `Grid2D` pixel 0:\")\n",
        "print(deflections_yx_2d.native[0, 0, 0])\n",
        "print(deflections_yx_2d.native[0, 0, 0])\n",
        "\n",
        "print(\"deflection-angles of `Plane`'s `Grid2D` pixel 1:\")\n",
        "print(deflections_yx_2d.native[0, 1, 1])\n",
        "print(deflections_yx_2d.native[0, 1, 1])"
      ],
      "outputs": [],
      "execution_count": null
    },
    {
      "cell_type": "markdown",
      "metadata": {},
      "source": [
        "There is also a `PlanePlotter` which, you guessed it, behaves like the profile and galaxy plotters."
      ]
    },
    {
      "cell_type": "code",
      "metadata": {},
      "source": [
        "plane_plotter = aplt.PlanePlotter(plane=image_plane, grid=image_plane_grid)\n",
        "plane_plotter.figures_2d(deflections_y=True, deflections_x=True)"
      ],
      "outputs": [],
      "execution_count": null
    },
    {
      "cell_type": "markdown",
      "metadata": {},
      "source": [
        "__Ray Tracing__\n",
        "\n",
        "Throughout this chapter we have plotted deflection angles frequently. However, we have not yet used the deflection \n",
        "angles to actually deflect anything! \n",
        "\n",
        "The deflection angles tell us how light is 'deflected' or 'lensed' by the lens galaxy. By taking the $(y,x)$ grid of \n",
        "image-plane coordinates and the $(y,x)$ grid of deflection angles, we can subtract the two to determine the \n",
        "source-plane`s coordinates, e.g.\n",
        "\n",
        " `source_plane_coordinates = image_plane_coordinates - image_plane_deflection_angles`\n",
        "\n",
        "We perform this below using the `traced_grid_from` method of the `image_plane`:"
      ]
    },
    {
      "cell_type": "code",
      "metadata": {},
      "source": [
        "source_plane_grid = image_plane.traced_grid_from(grid=image_plane_grid)\n",
        "\n",
        "print(\"Traced source-plane coordinates of `Grid2D` pixel 0:\")\n",
        "print(source_plane_grid.native[0, 0, :])\n",
        "print(\"Traced source-plane coordinates of `Grid2D` pixel 1:\")\n",
        "print(source_plane_grid.native[0, 1, :])"
      ],
      "outputs": [],
      "execution_count": null
    },
    {
      "cell_type": "markdown",
      "metadata": {},
      "source": [
        "We now have grid of coordinates in the source-plane, so we can set up the source-plane as a `Plane` object."
      ]
    },
    {
      "cell_type": "code",
      "metadata": {},
      "source": [
        "source_plane = al.Plane(galaxies=[source_galaxy])"
      ],
      "outputs": [],
      "execution_count": null
    },
    {
      "cell_type": "markdown",
      "metadata": {},
      "source": [
        "If its not yet clear what is going on, the figure below should explain below. Lets again plot our `image_plane_grid`,\n",
        "which we know is a boring uniform grid of $(y,x)$ coordinates, but also plot the source-plane grid."
      ]
    },
    {
      "cell_type": "code",
      "metadata": {},
      "source": [
        "mat_plot = aplt.MatPlot2D(title=aplt.Title(label=\"Image-plane Grid\"))\n",
        "\n",
        "plane_plotter = aplt.PlanePlotter(\n",
        "    plane=image_plane, grid=image_plane_grid, mat_plot_2d=mat_plot\n",
        ")\n",
        "plane_plotter.figures_2d(plane_grid=True)\n",
        "\n",
        "mat_plot = aplt.MatPlot2D(title=aplt.Title(label=\"Source-plane Grid\"))\n",
        "\n",
        "plane_plotter = aplt.PlanePlotter(\n",
        "    plane=source_plane, grid=source_plane_grid, mat_plot_2d=mat_plot\n",
        ")\n",
        "plane_plotter.figures_2d(plane_grid=True)"
      ],
      "outputs": [],
      "execution_count": null
    },
    {
      "cell_type": "markdown",
      "metadata": {},
      "source": [
        "The source-plane looks very interesting! We can see it is not regular, not uniform, and has an aestetically pleasing\n",
        "visual appearance. Remember that every coordinate on this source-plane grid (e.g. every black dot) corresponds to a \n",
        "coordinate on the image-plane grid that has been deflected by our mass profile; this is strong gravitational lensing\n",
        "in action!\n",
        "\n",
        "We can zoom in on the `centre` of the source-plane (remembering the lens galaxy was centred at (0.0\", 0.0\")) to \n",
        "reveal a 'diamond like' structure with a fractal like appearance."
      ]
    },
    {
      "cell_type": "code",
      "metadata": {},
      "source": [
        "mat_plot = aplt.MatPlot2D(\n",
        "    title=aplt.Title(label=\"Source-plane Grid2D Zoomed\"),\n",
        "    axis=aplt.Axis(extent=[-0.1, 0.1, -0.1, 0.1]),\n",
        ")\n",
        "\n",
        "plane_plotter = aplt.PlanePlotter(\n",
        "    plane=source_plane, grid=source_plane_grid, mat_plot_2d=mat_plot\n",
        ")\n",
        "\n",
        "plane_plotter.figures_2d(plane_grid=True)"
      ],
      "outputs": [],
      "execution_count": null
    },
    {
      "cell_type": "markdown",
      "metadata": {},
      "source": [
        "__Mappings__\n",
        "\n",
        "Lets plot the image and source planes next to one another and highlight specific points on both. The coloring of the \n",
        "highlighted points therefore shows how specific image pixels **map** to the source-plane (and visa versa).\n",
        "\n",
        "This is the first time we have used the `Visuals2D` object, which allows the appearance of **PyAutoLens** figures to \n",
        "be customized. We'll see this object crop up throughout the **HowToLens** lectures, and a full description of all\n",
        "of its options is provided in the `autolens_workspace/plot` package.\n",
        "\n",
        "Below, we input integer `indexes` that highlight the image-pixels that correspond to those indexes in \n",
        "a different color. We highlight indexes running from 0 -> 50, which appear over the top row of the image-plane grid,\n",
        "alongside numerous other indexes."
      ]
    },
    {
      "cell_type": "code",
      "metadata": {},
      "source": [
        "visuals = aplt.Visuals2D(\n",
        "    indexes=[\n",
        "        range(0, 50),\n",
        "        range(500, 550),\n",
        "        [1350, 1450, 1550, 1650, 1750, 1850, 1950, 2050, 2150, 2250],\n",
        "        [6250, 8550, 8450, 8350, 8250, 8150, 8050, 7950, 7850, 7750],\n",
        "    ]\n",
        ")\n",
        "\n",
        "mat_plot = aplt.MatPlot2D(title=aplt.Title(label=\"Image-plane Grid\"))\n",
        "\n",
        "plane_plotter = aplt.PlanePlotter(\n",
        "    plane=image_plane,\n",
        "    grid=image_plane_grid,\n",
        "    mat_plot_2d=mat_plot,\n",
        "    visuals_2d=visuals,\n",
        ")\n",
        "plane_plotter.figures_2d(plane_grid=True)\n",
        "\n",
        "mat_plot = aplt.MatPlot2D(title=aplt.Title(label=\"Source-plane Grid\"))\n",
        "\n",
        "plane_plotter = aplt.PlanePlotter(\n",
        "    plane=source_plane,\n",
        "    grid=source_plane_grid,\n",
        "    mat_plot_2d=mat_plot,\n",
        "    visuals_2d=visuals,\n",
        ")\n",
        "plane_plotter.figures_2d(plane_grid=True)"
      ],
      "outputs": [],
      "execution_count": null
    },
    {
      "cell_type": "markdown",
      "metadata": {},
      "source": [
        "__Lensed Images__\n",
        "\n",
        "We can now map image-pixels to the source plane. Thus, we can ask the following question: what does a source-galaxy \n",
        "in the source-plane look like in the image-plane`? That is, to us, the observer  on Earth, how does the source-galaxy \n",
        "appear after its light has been deflected by the mass of the lens galaxy? What does it look like after strong \n",
        "gravitational lensing?. \n",
        "\n",
        "To do this, we simple trace the source galaxy's light back from the source-plane grid."
      ]
    },
    {
      "cell_type": "code",
      "metadata": {},
      "source": [
        "plane_plotter = aplt.PlanePlotter(plane=source_plane, grid=source_plane_grid)\n",
        "plane_plotter.figures_2d(image=True)"
      ],
      "outputs": [],
      "execution_count": null
    },
    {
      "cell_type": "markdown",
      "metadata": {},
      "source": [
        "It's a rather spectacular ring of light, but why is it a ring? Well:\n",
        "\n",
        "- The lens galaxy is centred at (0.0\", 0.0\").\n",
        "- The source-galaxy is centred at (0.0\", 0.0\").\n",
        "- The lens galaxy is a spherical mass profile.\n",
        "- The source-galaxy ia a spherical light profile.\n",
        "\n",
        "Given the perfect symmetry of the system, every path the source's light takes around the lens galaxy is radially \n",
        "identical. Thus, nothing else but a ring of light can form!\n",
        "\n",
        "This is called an 'Einstein Ring' and its radius is called the 'Einstein Radius', which are both named after the man \n",
        "who famously used gravitational lensing to prove his theory of general relativity.\n",
        "\n",
        "Finally, we plot the `plane-image` of the source galaxy. This image represents how the source intrinsically appears \n",
        "in the source-plane (e.g. before it is strongly lensed). \n",
        "\n",
        "The source galaxy's light is highly magnified, meaning it appears brighter than otherwise possible. Many Astronomers\n",
        "use strong lensing to study the most distant and faint galaxies in the Universe, which would otherwise be too faint for \n",
        "us to ever observe. Our ability to recover its light before the effects of lensing is therefore vital to studying the\n",
        "source's properties."
      ]
    },
    {
      "cell_type": "code",
      "metadata": {},
      "source": [
        "include = aplt.Include2D(grid=True)\n",
        "\n",
        "plane_plotter = aplt.PlanePlotter(\n",
        "    plane=source_plane, grid=source_plane_grid, include_2d=include\n",
        ")\n",
        "plane_plotter.figures_2d(plane_image=True)"
      ],
      "outputs": [],
      "execution_count": null
    },
    {
      "cell_type": "markdown",
      "metadata": {},
      "source": [
        "We typically avoid plotting the soruce plane grid over a plane image because it obscures its appearance. We do this  \n",
        "using the `Include2D` plotting object. "
      ]
    },
    {
      "cell_type": "code",
      "metadata": {},
      "source": [
        "include = aplt.Include2D(grid=False)\n",
        "\n",
        "plane_plotter = aplt.PlanePlotter(\n",
        "    plane=source_plane, grid=source_plane_grid, include_2d=include\n",
        ")\n",
        "plane_plotter.figures_2d(plane_image=True)"
      ],
      "outputs": [],
      "execution_count": null
    },
    {
      "cell_type": "markdown",
      "metadata": {},
      "source": [
        "__Log10 Space__\n",
        "\n",
        "As discussed in previous tutorials, the light and mass profiles of galaxies are often better described in log10 space.\n",
        "\n",
        "The same API can be used to make these plots for a `PlanePLotter` as used previously.\n",
        "\n",
        "This works for any quantity that can be plotted, below we just use a `plane_image` as an example."
      ]
    },
    {
      "cell_type": "code",
      "metadata": {},
      "source": [
        "plane_plotter = aplt.PlanePlotter(\n",
        "    plane=source_plane,\n",
        "    grid=source_plane_grid,\n",
        "    mat_plot_2d=aplt.MatPlot2D(use_log10=True),\n",
        ")\n",
        "plane_plotter.figures_2d(plane_image=True)"
      ],
      "outputs": [],
      "execution_count": null
    },
    {
      "cell_type": "markdown",
      "metadata": {},
      "source": [
        "__Critical Curves__\n",
        "\n",
        "To end, we can finally explain what the black lines that have appeared on many of the plots throughout this chapter \n",
        "actually are. \n",
        " \n",
        "These lines are called the 'critical curves', and they define line of infinite magnification due to a mass profile. \n",
        "They therefore mark where in the image-plane a mass profile perfectly `focuses` light rays such that if a source is \n",
        "located there, it will appear very bright: potentially 10-100x as brighter than its intrinsic luminosity.\n",
        "\n",
        "The black line is a `tangential_critical_curve`, because it describes how the image of the source galaxy is stretched\n",
        "tangentially. There is also a `radial_critical_curve` which appears in white on figures, which describes how the \n",
        "image of the source galaxy is stretched radially. \n",
        "\n",
        "However, a radial critical curve only appears when the lens galaxy's mass profile is shallower than isothermal (e.g. \n",
        "when its inner mass slope is less steep than a steep power-law). To make it appear below, we therefore change\n",
        "the mass profile of our lens galaxy to a `PowerLawSph` with a slope of 1.8.\n",
        "\n",
        "In the next tutorial, we'll introduce 'caustics', which are where the critical curves map too in the source-plane."
      ]
    },
    {
      "cell_type": "code",
      "metadata": {},
      "source": [
        "mass_profile = al.mp.PowerLawSph(centre=(0.0, 0.0), einstein_radius=1.6, slope=1.8)\n",
        "\n",
        "lens_galaxy = al.Galaxy(redshift=0.5, mass=mass_profile)\n",
        "\n",
        "image_plane = al.Plane(galaxies=[lens_galaxy])\n",
        "\n",
        "include = aplt.Include2D(tangential_critical_curves=True, radial_critical_curves=True)\n",
        "\n",
        "plane_plotter = aplt.PlanePlotter(\n",
        "    plane=image_plane, grid=image_plane_grid, include_2d=include\n",
        ")\n",
        "plane_plotter.figures_2d(convergence=True)"
      ],
      "outputs": [],
      "execution_count": null
    },
    {
      "cell_type": "markdown",
      "metadata": {},
      "source": [
        "__Wrap Up__\n",
        "\n",
        "And, we're done. This is the first tutorial where we performed actual strong-lensing calculations, so you take a \n",
        "moment to mess about with the code above and see how you can change the appearance of the source-plane grid and lensed\n",
        "source's image.\n",
        "\n",
        "In particular, you should try:\n",
        "\n",
        " 1) Changing the lens galaxy's einstein radius, what happens to the source-plane`s image?\n",
        "\n",
        " 2) Change the lens's mass profile from a `IsothermalSph` to an `Isothermal`, making sure to input \n",
        " `ell_comps` that are not (0.0, 0.0). What happens to the number of source images?\n",
        "\n",
        "Try to make an the image-plane with  two galaxies, both with mass profiles, and see how multi-galaxy lensing can \n",
        "produce extremely irregular images of a single source galaxy. Also try making a source-plane with multiple galaxies, \n",
        "and see how weird and irregular you can make the lensed image appear.\n",
        "\n",
        "Finally, if you are a newcomer to strong lensing, now might be a good time to read-up briefly on some strong lensing \n",
        "theory. Don't worry about going over the maths of lensing in any detail, but you should at least try scouring \n",
        "Wikipedia or another source of information to clearly establish:\n",
        "\n",
        " - What a critical line is.\n",
        " - What a caustic is.\n",
        " - What determines the image multiplicity of the lensed source."
      ]
    },
    {
      "cell_type": "code",
      "metadata": {},
      "source": [],
      "outputs": [],
      "execution_count": null
    }
  ],
  "metadata": {
    "anaconda-cloud": {},
    "kernelspec": {
      "display_name": "Python 3",
      "language": "python",
      "name": "python3"
    },
    "language_info": {
      "codemirror_mode": {
        "name": "ipython",
        "version": 3
      },
      "file_extension": ".py",
      "mimetype": "text/x-python",
      "name": "python",
      "nbconvert_exporter": "python",
      "pygments_lexer": "ipython3",
      "version": "3.6.1"
    }
  },
  "nbformat": 4,
  "nbformat_minor": 4
}