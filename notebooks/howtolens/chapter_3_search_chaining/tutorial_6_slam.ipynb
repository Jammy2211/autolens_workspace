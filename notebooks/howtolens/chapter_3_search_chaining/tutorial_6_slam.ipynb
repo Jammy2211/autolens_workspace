{
  "cells": [
    {
      "cell_type": "markdown",
      "metadata": {},
      "source": [
        "Tutorial 6: SLaM\n",
        "================\n",
        "\n",
        "You are now familiar with pipelines, in particular how we use them to break-down the lens modeling procedure\n",
        "to provide more efficient and reliable model-fits. In the previous tutorials, you learnt how to write your own\n",
        "pipelines, which can fit whatever lens model is of particular interest to your scientific study.\n",
        "\n",
        "However, for most lens models there are standardized approaches one can take to fitting them. For example, as we saw in\n",
        "tutorial 3 of this chapter, an effective approach is to fit a model for the lens's light followed by a model for its\n",
        "mass and the source. It would be wasteful for all **PyAutoLens** users to have to write their own pipelines to\n",
        "perform the same tasks.\n",
        "\n",
        "For this reason, the `autolens_workspace` comes with a number of standardized pipelines, which fit common lens models\n",
        "in ways we have tested are efficient and robust. These pipelines can be found the `chaining/pipelines` packages and\n",
        "can be easily adapted to fit lens models with a range of different parameterizations and assumptions.\n",
        "\n",
        "__SLaM (Source, Light and Mass)__\n",
        "\n",
        "A second set of template pipelines, called the **SLaM** (Source, Light and Mass) pipelines can be found in the folder\n",
        "`autolens_workspace/slam`. These are similar in design to the pipelines, but are composed of a specific sequence of\n",
        "pipelines:\n",
        "\n",
        " - `Source`: A pipeline that focuses on producing a robust model for the source's light, using simpler models for the \n",
        " lens's light and mass.\n",
        "   \n",
        " - `Light`: A pipeline that fits a complex lens light model (e.g. one with many components), using the initialized \n",
        " source model to cleanly deblend the lens and source light.\n",
        "   \n",
        " - `Mass`: A pipeline that fits a complex lens mass model, benefitting from the good models for the lens's light and \n",
        " source.\n",
        "\n",
        "For fitting very complex lens models, for example ones which decompose its mass into its stellar and dark components,\n",
        "the **SLaM** pipelines have been carefully crafted to do this in a reliable and automated way that is still efficient.\n",
        "The **SLaM** pipelines also make fitting many different models to a single dataset efficient, as they reuse the results\n",
        "of earlier searches (e.g. in the Source pipeline) to fit different models in the `Light` and `Mass` pipelines for the \n",
        "lens's  light and mass.\n",
        "\n",
        "Whether you should use individual searches, pipelines, The SLaM pipelines or write your own model-fitting script\n",
        "depends on the scope  of your scientific analysis. I would advise you begin by trying to adapting the scripts in the\n",
        "`autolens_workspace`to fit your data, and also try using the SLaM pipelines once you are a confident **PyAutoLens** user."
      ]
    },
    {
      "cell_type": "code",
      "metadata": {},
      "source": [],
      "outputs": [],
      "execution_count": null
    }
  ],
  "metadata": {
    "anaconda-cloud": {},
    "kernelspec": {
      "display_name": "Python 3",
      "language": "python",
      "name": "python3"
    },
    "language_info": {
      "codemirror_mode": {
        "name": "ipython",
        "version": 3
      },
      "file_extension": ".py",
      "mimetype": "text/x-python",
      "name": "python",
      "nbconvert_exporter": "python",
      "pygments_lexer": "ipython3",
      "version": "3.6.1"
    }
  },
  "nbformat": 4,
  "nbformat_minor": 4
}