{
  "cells": [
    {
      "cell_type": "markdown",
      "metadata": {},
      "source": [
        "Tutorial 4: Two Lens galaxies\n",
        "=============================\n",
        "\n",
        "Up to now, all the images we've fitted had one lens galaxy. However, we saw in chapter 1 that our lens plane can\n",
        "consist of multiple galaxies which each contribute to the strong lensing. Multi-galaxy systems are challenging to\n",
        "model, because they add an extra 5-10 parameters to the non-linear search and, more problematically, the degeneracies\n",
        "between the parameters of the mass profiles of the two galaxies can be severe.\n",
        "\n",
        "However, we can still break their analysis down using multiple searches and give ourselves a shot at getting a good\n",
        "lens model. Here, we're going to fit a double lens system, fitting as much about each individual lens galaxy before\n",
        "fitting them simultaneously.\n",
        "\n",
        "Up to now, I've put a focus on an analysis being general. The script we write in this example is going to be the\n",
        "opposite, specific to the image we're modeling. Fitting multiple lens galaxies is really difficult and writing a\n",
        "pipeline that we can generalize to many lenses isn't currently possible."
      ]
    },
    {
      "cell_type": "code",
      "metadata": {},
      "source": [
        "%matplotlib inline\n",
        "from pyprojroot import here\n",
        "workspace_path = str(here())\n",
        "%cd $workspace_path\n",
        "print(f\"Working Directory has been set to `{workspace_path}`\")\n",
        "\n",
        "from os import path\n",
        "import autofit as af\n",
        "import autolens as al\n",
        "import autolens.plot as aplt"
      ],
      "outputs": [],
      "execution_count": null
    },
    {
      "cell_type": "markdown",
      "metadata": {},
      "source": [
        "__Initial Setup__\n",
        "\n",
        "we'll use new strong lensing data, where:\n",
        "\n",
        " - There are two lens galaxy's whose `LightProfile`'s are both linear `Sersic`'s.\n",
        " - There are two lens galaxy's whose `MassProfile`'s are both `Isothermal`'s\n",
        " - The source galaxy's light is an `Exponential`."
      ]
    },
    {
      "cell_type": "code",
      "metadata": {},
      "source": [
        "dataset_name = \"x2_lens_galaxies\"\n",
        "dataset_path = path.join(\"dataset\", \"imaging\", dataset_name)\n",
        "\n",
        "dataset = al.Imaging.from_fits(\n",
        "    data_path=path.join(dataset_path, \"data.fits\"),\n",
        "    noise_map_path=path.join(dataset_path, \"noise_map.fits\"),\n",
        "    psf_path=path.join(dataset_path, \"psf.fits\"),\n",
        "    pixel_scales=0.05,\n",
        ")"
      ],
      "outputs": [],
      "execution_count": null
    },
    {
      "cell_type": "markdown",
      "metadata": {},
      "source": [
        "__Mask__\n",
        "\n",
        "We need to choose our mask for the analysis. Given the lens light is present in the image we'll need to include all \n",
        "of its light in the central regions of the image, so lets use a circular mask. \n",
        "\n",
        "We'll use this mask in all four searches."
      ]
    },
    {
      "cell_type": "code",
      "metadata": {},
      "source": [
        "mask = al.Mask2D.circular(\n",
        "    shape_native=dataset.shape_native, pixel_scales=dataset.pixel_scales, radius=3.0\n",
        ")\n",
        "\n",
        "dataset = dataset.apply_mask(mask=mask)\n",
        "\n",
        "dataset_plotter = aplt.ImagingPlotter(\n",
        "    dataset=dataset, visuals_2d=aplt.Visuals2D(mask=mask)\n",
        ")\n",
        "dataset_plotter.subplot_dataset()\n"
      ],
      "outputs": [],
      "execution_count": null
    },
    {
      "cell_type": "markdown",
      "metadata": {},
      "source": [
        "__Paths__\n",
        "\n",
        "All four searches will use the same `path_prefix`, so we write it here to avoid repetition."
      ]
    },
    {
      "cell_type": "code",
      "metadata": {},
      "source": [
        "path_prefix = path.join(\"howtolens\", \"chapter_3\", \"tutorial_4_x2_lens_galaxies\")"
      ],
      "outputs": [],
      "execution_count": null
    },
    {
      "cell_type": "markdown",
      "metadata": {},
      "source": [
        "__Search Chaining Approach__\n",
        "\n",
        "Looking at the image, there are two blobs of light corresponding to the two lens galaxies. The source's light is also \n",
        "pretty complex and the arcs don't posses the rotational symmetry we're used to seeing up to now. \n",
        "Multi-galaxy ray-tracing is just a lot more complicated, which means so is modeling it!\n",
        "\n",
        "So, how can we break the lens modeling up? As follows:\n",
        "\n",
        " 1) Fit and subtract the light of each lens galaxy individually.\n",
        " 2) Use these results to initialize each lens galaxy's total mass distribution.\n",
        "\n",
        "So, with this in mind, we'll perform an analysis using searches:\n",
        "\n",
        " 1) Fit the light of the lens galaxy on the left of the image, at coordinates (0.0\", -1.0\").\n",
        " 2) Fit the light of the lens galaxy on the right of the image, at coordinates (0.0\", 1.0\").\n",
        " 3) Use this lens-subtracted image to fit the source's light. The mass profile centres of the two lens galaxies are \n",
        " fixed to (0.0\", -1.0\") and (0.0\", 1.0\").\n",
        " 4) Fit all relevant parameters simultaneously, using priors from searches 1, 2 and 3.\n",
        "\n",
        "__Model + Search + Analysis + Model-Fit (Search 1)__\n",
        "\n",
        "Search 1 fits a lens model where:\n",
        "\n",
        " - The left lens galaxy's light is a parametric linear `Sersic` bulge with a fixed centre [4 parameters].\n",
        "\n",
        " - The lens galaxy's mass and source galaxy are omitted.\n",
        "\n",
        "The number of free parameters and therefore the dimensionality of non-linear parameter space is N=4.\n",
        "\n",
        "We fix the centre of its light to (0.0, -1.0), the pixel we know the left galaxy's light centre peaks."
      ]
    },
    {
      "cell_type": "code",
      "metadata": {},
      "source": [
        "left_lens = af.Model(al.Galaxy, redshift=0.5, bulge=al.lp_linear.Sersic)\n",
        "left_lens.bulge.centre_0 = 0.0\n",
        "left_lens.bulge.centre_1 = -1.0\n",
        "\n",
        "model_1 = af.Collection(galaxies=af.Collection(left_lens=left_lens))"
      ],
      "outputs": [],
      "execution_count": null
    },
    {
      "cell_type": "markdown",
      "metadata": {},
      "source": [
        "The `info` attribute shows the model in a readable format."
      ]
    },
    {
      "cell_type": "code",
      "metadata": {},
      "source": [
        "print(model_1.info)"
      ],
      "outputs": [],
      "execution_count": null
    },
    {
      "cell_type": "markdown",
      "metadata": {},
      "source": [
        "__Search + Analysis + Model-Fit (Search 1)__"
      ]
    },
    {
      "cell_type": "code",
      "metadata": {},
      "source": [
        "analysis_1 = al.AnalysisImaging(dataset=dataset)\n",
        "\n",
        "search_1 = af.Nautilus(\n",
        "    path_prefix=path_prefix,\n",
        "    name=\"search[1]__left_lens_light[bulge]\",\n",
        "    unique_tag=dataset_name,\n",
        "    n_live=75,\n",
        "    number_of_cores=1,\n",
        ")"
      ],
      "outputs": [],
      "execution_count": null
    },
    {
      "cell_type": "markdown",
      "metadata": {},
      "source": [
        "__Run Time__\n",
        "\n",
        "It is good practise to always check the `log_likelihood_function` run time before starting the non-linear search.  \n",
        "It will be similar to the value we saw in the previous chapter."
      ]
    },
    {
      "cell_type": "code",
      "metadata": {},
      "source": [
        "run_time_dict, info_dict = analysis_1.profile_log_likelihood_function(\n",
        "    instance=model_1.random_instance()\n",
        ")\n",
        "\n",
        "print(f\"Log Likelihood Evaluation Time (second) = {run_time_dict['fit_time']}\")\n",
        "print(\n",
        "    \"Estimated Run Time Upper Limit (seconds) = \",\n",
        "    (run_time_dict[\"fit_time\"] * model_1.total_free_parameters * 10000)\n",
        "    / search_1.number_of_cores,\n",
        ")"
      ],
      "outputs": [],
      "execution_count": null
    },
    {
      "cell_type": "markdown",
      "metadata": {},
      "source": [
        "Run the search."
      ]
    },
    {
      "cell_type": "code",
      "metadata": {},
      "source": [
        "result_1 = search_1.fit(model=model_1, analysis=analysis_1)\n"
      ],
      "outputs": [],
      "execution_count": null
    },
    {
      "cell_type": "markdown",
      "metadata": {},
      "source": [
        "__Model + Search + Analysis + Model-Fit (Search 2)__\n",
        "\n",
        "Search 2 fits a lens model where:\n",
        "\n",
        " - The left lens galaxy's light is a parametric linear `Sersic` bulge [0 parameters: fixed from search 1].\n",
        "\n",
        " - The right lens galaxy's light is a parametric linear `Sersic` bulge with a fixec centre [4 parameters].\n",
        "\n",
        " - The lens galaxy's mass and source galaxy are omitted.\n",
        "\n",
        "The number of free parameters and therefore the dimensionality of non-linear parameter space is N=4.\n",
        "\n",
        "We fix the centre of the right lens's light to (0.0, 1.0), the pixel we know the right galaxy's light centre peaks.\n",
        "\n",
        "We also pass the result of the `left_lens` from search ` as an `instance`, which should improve the fitting of the\n",
        "right lens."
      ]
    },
    {
      "cell_type": "code",
      "metadata": {},
      "source": [
        "right_lens = af.Model(al.Galaxy, redshift=0.5, bulge=al.lp_linear.Sersic)\n",
        "right_lens.bulge.centre_0 = 0.0\n",
        "right_lens.bulge.centre_1 = 1.0\n",
        "\n",
        "model_2 = af.Collection(\n",
        "    galaxies=af.Collection(\n",
        "        left_lens=result_1.instance.galaxies.left_lens, right_lens=right_lens\n",
        "    ),\n",
        ")\n",
        "\n",
        "analysis_2 = al.AnalysisImaging(dataset=dataset)\n",
        "\n",
        "search_2 = af.Nautilus(\n",
        "    path_prefix=path_prefix,\n",
        "    name=\"search[2]__right_lens_light[bulge]\",\n",
        "    unique_tag=dataset_name,\n",
        "    n_live=75,\n",
        "    number_of_cores=1,\n",
        ")"
      ],
      "outputs": [],
      "execution_count": null
    },
    {
      "cell_type": "markdown",
      "metadata": {},
      "source": [
        "__Run Time__\n",
        "\n",
        "It is good practise to always check the `log_likelihood_function` run time before starting the non-linear search.  \n",
        "It will be similar to the value we saw in the previous chapter."
      ]
    },
    {
      "cell_type": "code",
      "metadata": {},
      "source": [
        "run_time_dict, info_dict = analysis_2.profile_log_likelihood_function(\n",
        "    instance=model_2.random_instance()\n",
        ")\n",
        "\n",
        "print(f\"Log Likelihood Evaluation Time (second) = {run_time_dict['fit_time']}\")\n",
        "print(\n",
        "    \"Estimated Run Time Upper Limit (seconds) = \",\n",
        "    (run_time_dict[\"fit_time\"] * model_2.total_free_parameters * 10000)\n",
        "    / search_2.number_of_cores,\n",
        ")"
      ],
      "outputs": [],
      "execution_count": null
    },
    {
      "cell_type": "markdown",
      "metadata": {},
      "source": [
        "Run the search."
      ]
    },
    {
      "cell_type": "code",
      "metadata": {},
      "source": [
        "result_2 = search_2.fit(model=model_2, analysis=analysis_2)"
      ],
      "outputs": [],
      "execution_count": null
    },
    {
      "cell_type": "markdown",
      "metadata": {},
      "source": [
        "__Model + Search + Analysis + Model-Fit (Search 3)__\n",
        "\n",
        "Search 3 fits a lens model where:\n",
        "\n",
        " - The left lens galaxy's light is a parametric linear `Sersic` bulge [0 parameters: fixed from search 1].\n",
        "\n",
        " - The right lens galaxy's light is a parametric linear `Sersic` bulge [0 parameters: fixed from search 2].\n",
        "\n",
        " - The lens galaxy's mass is modeled using two `Isothermal` profiles whose centres are fixed to (0.0, -1.0)\n",
        "  and (0.0, 1.0) [6 parameters].\n",
        "  \n",
        " - The source galaxy's light is a parametric linear `Exponential` [5 parameters].\n",
        "\n",
        "The number of free parameters and therefore the dimensionality of non-linear parameter space is N=11."
      ]
    },
    {
      "cell_type": "code",
      "metadata": {},
      "source": [
        "left_lens = af.Model(\n",
        "    al.Galaxy,\n",
        "    redshift=0.5,\n",
        "    bulge=result_1.instance.galaxies.left_lens.bulge,\n",
        "    mass=al.mp.Isothermal,\n",
        ")\n",
        "\n",
        "right_lens = af.Model(\n",
        "    al.Galaxy,\n",
        "    redshift=0.5,\n",
        "    bulge=result_2.instance.galaxies.right_lens.bulge,\n",
        "    mass=al.mp.Isothermal,\n",
        ")\n",
        "\n",
        "left_lens.mass.centre_0 = 0.0\n",
        "left_lens.mass.centre_1 = -1.0\n",
        "right_lens.mass.centre_0 = 0.0\n",
        "right_lens.mass.centre_1 = 1.0\n",
        "\n",
        "model_3 = af.Collection(\n",
        "    galaxies=af.Collection(\n",
        "        left_lens=left_lens,\n",
        "        right_lens=right_lens,\n",
        "        source=af.Model(al.Galaxy, redshift=1.0, bulge=al.lp_linear.ExponentialCore),\n",
        "    ),\n",
        ")\n",
        "\n",
        "analysis_3 = al.AnalysisImaging(dataset=dataset)\n",
        "\n",
        "search_3 = af.Nautilus(\n",
        "    path_prefix=path_prefix,\n",
        "    name=\"search[3]__mass_x2[sie]__source[exp]\",\n",
        "    unique_tag=dataset_name,\n",
        "    n_live=100,\n",
        "    number_of_cores=1,\n",
        ")"
      ],
      "outputs": [],
      "execution_count": null
    },
    {
      "cell_type": "markdown",
      "metadata": {},
      "source": [
        "__Run Time__\n",
        "\n",
        "It is good practise to always check the `log_likelihood_function` run time before starting the non-linear search.  \n",
        "\n",
        "It is a bit slower than the previous searches, but not too bad. This is because with multiple lens galaxies the\n",
        "likelihood function has more calculations to perform (e.g. deflection angles of more mass profiles).\n",
        "\n",
        "Prior passing is key to ensuring the overall run-time of the search is not too slow. "
      ]
    },
    {
      "cell_type": "code",
      "metadata": {},
      "source": [
        "run_time_dict, info_dict = analysis_3.profile_log_likelihood_function(\n",
        "    instance=model_3.random_instance()\n",
        ")\n",
        "\n",
        "print(f\"Log Likelihood Evaluation Time (second) = {run_time_dict['fit_time']}\")\n",
        "print(\n",
        "    \"Estimated Run Time Upper Limit (seconds) = \",\n",
        "    (run_time_dict[\"fit_time\"] * model_3.total_free_parameters * 10000)\n",
        "    / search_3.number_of_cores,\n",
        ")"
      ],
      "outputs": [],
      "execution_count": null
    },
    {
      "cell_type": "markdown",
      "metadata": {},
      "source": [
        "Run the search."
      ]
    },
    {
      "cell_type": "code",
      "metadata": {},
      "source": [
        "result_3 = search_3.fit(model=model_3, analysis=analysis_3)"
      ],
      "outputs": [],
      "execution_count": null
    },
    {
      "cell_type": "markdown",
      "metadata": {},
      "source": [
        "__Model + Search + Analysis + Model-Fit (Search 4)__\n",
        "\n",
        "Search 4 fits a lens model where:\n",
        "\n",
        " - The left lens galaxy's light is a parametric linear `Sersic` bulge [6 parameters: priors initialized from search 1].\n",
        "\n",
        " - The right lens galaxy's light is a parametric linear `Sersic` bulge [6 parameters: priors initialized from search 2].\n",
        "\n",
        " - The lens galaxy's mass is modeled using two `Isothermal` profiles whose centres are fixed to (0.0, -1.0)\n",
        "  and (0.0, 1.0) [6 parameters: priors initialized from search 3].\n",
        "\n",
        " - The source galaxy's light is a parametric linear `Sersic` [6 parameters: priors initialized from search 3].\n",
        "\n",
        "The number of free parameters and therefore the dimensionality of non-linear parameter space is N=24.\n",
        "\n",
        "We don't explicitly check the run-time, but the same principles discussed above apply here."
      ]
    },
    {
      "cell_type": "code",
      "metadata": {},
      "source": [
        "left_lens = af.Model(\n",
        "    al.Galaxy,\n",
        "    redshift=0.5,\n",
        "    bulge=result_1.model.galaxies.left_lens.bulge,\n",
        "    mass=result_3.model.galaxies.left_lens.mass,\n",
        ")\n",
        "\n",
        "right_lens = af.Model(\n",
        "    al.Galaxy,\n",
        "    redshift=0.5,\n",
        "    bulge=result_2.model.galaxies.right_lens.bulge,\n",
        "    mass=result_3.model.galaxies.right_lens.mass,\n",
        ")\n",
        "\n",
        "source_bulge = af.Model(al.lp_linear.Sersic)\n",
        "\n",
        "source_bulge.take_attributes(result_3.model.galaxies.source.bulge)\n",
        "\n",
        "model_4 = af.Collection(\n",
        "    galaxies=af.Collection(\n",
        "        left_lens=left_lens,\n",
        "        right_lens=right_lens,\n",
        "        source=af.Model(al.Galaxy, redshift=1.0, bulge=source_bulge),\n",
        "    ),\n",
        ")\n",
        "\n",
        "analysis_4 = al.AnalysisImaging(dataset=dataset)\n",
        "\n",
        "search_4 = af.Nautilus(\n",
        "    path_prefix=path_prefix,\n",
        "    name=\"search[4]_light_x2[bulge]_mass_x2[sie]_source[exp]\",\n",
        "    unique_tag=dataset_name,\n",
        "    n_live=100,\n",
        "    number_of_cores=1,\n",
        ")\n",
        "\n",
        "result_4 = search_4.fit(model=model_4, analysis=analysis_4)"
      ],
      "outputs": [],
      "execution_count": null
    },
    {
      "cell_type": "markdown",
      "metadata": {},
      "source": [
        "__Wrap Up__\n",
        "\n",
        "This pipeline takes a while to run, as is the nature of multi-galaxy modeling. Nevertheless, the techniques we've \n",
        "learnt above can be applied to systems with even more galaxies, albeit the increases in parameters will slow down the \n",
        "non-linear search. Here are some more Q&A`s\n",
        "\n",
        " 1) This system had two very similar lens galaxy's with comparable amounts of light and mass. How common is this? \n",
        " Does it make it harder to model them?\n",
        "\n",
        "Typically, lenses with 2 galaxies have one massive galaxy (that makes up some 80%-90% of the overall light and mass), \n",
        "accompanied by a smaller satellite. The satellite cannotbe ignored, it impacts the ray-tracing in a measureable way, \n",
        "but it is a lot less degenerate with the main lens galaxy. This means we can often model the satellite with much \n",
        "simpler profiles (e.g. spherical profiles). So yes, multi-galaxy systems can often be easier to model.\n",
        "\n",
        " 2) It got pretty confusing passing all those priors towards the end of the pipeline there, didn`t it?\n",
        "\n",
        "It does get confusing. This is why we made galaxies named objects, so that we could call them the `left_lens` and \n",
        "`right_lens`. It still requires caution when writing the pipeline, but goes to show that if you name your galaxies \n",
        "sensibly you should be able to avoid errors, or spot them quickly when you make them."
      ]
    },
    {
      "cell_type": "code",
      "metadata": {},
      "source": [],
      "outputs": [],
      "execution_count": null
    }
  ],
  "metadata": {
    "anaconda-cloud": {},
    "kernelspec": {
      "display_name": "Python 3",
      "language": "python",
      "name": "python3"
    },
    "language_info": {
      "codemirror_mode": {
        "name": "ipython",
        "version": 3
      },
      "file_extension": ".py",
      "mimetype": "text/x-python",
      "name": "python",
      "nbconvert_exporter": "python",
      "pygments_lexer": "ipython3",
      "version": "3.6.1"
    }
  },
  "nbformat": 4,
  "nbformat_minor": 4
}