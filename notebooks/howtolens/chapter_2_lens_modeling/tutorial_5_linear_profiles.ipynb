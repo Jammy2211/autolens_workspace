{
  "cells": [
    {
      "cell_type": "markdown",
      "metadata": {},
      "source": [
        "Tutorial 5: Linear Profiles\n",
        "===========================\n",
        "\n",
        "In the previous tutorial we learned how to balance model complexity with our non-linear search in order to infer \n",
        "accurate lens model solutions and avoid failure. We saw how in order to fit a model accurately one may have to\n",
        "parameterize and fit a simpler model with fewer non-linear parameters, at the expense of fitting the data less \n",
        "accurately.\n",
        "\n",
        "It would be desirable if we could make our model have more flexibility enabling it to fit more complex galaxy\n",
        "structures, but in a way that does not increase (or perhaps even decreases) the number of non-linear parameters.\n",
        "This would keep the `dynesty` model-fit efficient and accurate.\n",
        "\n",
        "This is possible using linear light profiles, which solve for their `intensity` parameter via efficient linear \n",
        "algebra, using a process called an inversion. The inversion always computes `intensity` values that give the best \n",
        "fit to the data (e.g. they minimize the chi-squared and therefore maximize the likelihood). \n",
        "\n",
        "This tutorial will first fit a model using two linear light profiles. Because their `intensity` values are solved for \n",
        "implicitly, this means they are not a dimension of the non-linear parameter space fitted by `dynesty`, therefore \n",
        "reducing the complexity of parameter space and making the fit faster and more accurate.\n",
        "\n",
        "This tutorial will then show how many linear light profiles can be combined into a `Basis`, which comes from the term\n",
        "'basis function'. By combining many linear light profiles models can be composed which are able to fit complex galaxy \n",
        "structures (e.g. asymmetries, twists) with just N=6-8 non-linear parameters."
      ]
    },
    {
      "cell_type": "code",
      "metadata": {},
      "source": [
        "%matplotlib inline\n",
        "from pyprojroot import here\n",
        "workspace_path = str(here())\n",
        "%cd $workspace_path\n",
        "print(f\"Working Directory has been set to `{workspace_path}`\")\n",
        "\n",
        "import numpy as np\n",
        "from os import path\n",
        "import autolens as al\n",
        "import autolens.plot as aplt\n",
        "import autofit as af"
      ],
      "outputs": [],
      "execution_count": null
    },
    {
      "cell_type": "markdown",
      "metadata": {},
      "source": [
        "__Initial Setup__\n",
        "\n",
        "we'll use the same strong lensing data as the previous tutorial, where:\n",
        "\n",
        " - The lens galaxy's light is an `Sersic`.\n",
        " - The lens galaxy's total mass distribution is an `Isothermal` and `ExternalShear`.\n",
        " - The source galaxy's light is an `Exponential`."
      ]
    },
    {
      "cell_type": "code",
      "metadata": {},
      "source": [
        "dataset_name = \"lens_sersic\"\n",
        "dataset_path = path.join(\"dataset\", \"imaging\", dataset_name)\n",
        "\n",
        "dataset = al.Imaging.from_fits(\n",
        "    data_path=path.join(dataset_path, \"data.fits\"),\n",
        "    noise_map_path=path.join(dataset_path, \"noise_map.fits\"),\n",
        "    psf_path=path.join(dataset_path, \"psf.fits\"),\n",
        "    pixel_scales=0.1,\n",
        ")"
      ],
      "outputs": [],
      "execution_count": null
    },
    {
      "cell_type": "markdown",
      "metadata": {},
      "source": [
        "__Mask__\n",
        "\n",
        "we'll create and use a smaller 2.6\" `Mask2D` again."
      ]
    },
    {
      "cell_type": "code",
      "metadata": {},
      "source": [
        "mask = al.Mask2D.circular(\n",
        "    shape_native=dataset.shape_native, pixel_scales=dataset.pixel_scales, radius=2.6\n",
        ")\n",
        "\n",
        "dataset = dataset.apply_mask(mask=mask)"
      ],
      "outputs": [],
      "execution_count": null
    },
    {
      "cell_type": "markdown",
      "metadata": {},
      "source": [
        "When plotted, the lens light`s is clearly visible in the centre of the image."
      ]
    },
    {
      "cell_type": "code",
      "metadata": {},
      "source": [
        "dataset_plotter = aplt.ImagingPlotter(\n",
        "    dataset=dataset, visuals_2d=aplt.Visuals2D(mask=mask)\n",
        ")\n",
        "dataset_plotter.subplot_dataset()"
      ],
      "outputs": [],
      "execution_count": null
    },
    {
      "cell_type": "markdown",
      "metadata": {},
      "source": [
        "__Linear Light Profiles__\n",
        "\n",
        "First, we use a variant of a light profile discussed called a \"linear light profile\", which is accessed via the\n",
        "command `al.lp_linear`. \n",
        " \n",
        "The `intensity` values of linear light profiles are solved for via linear algebra. We use the `Sersic` \n",
        "and `Exponential` linear light profiles, which are identical to the ordinary `Sersic` and `Exponential` \n",
        "profiles fitted in previous tutorials, except for their `intensity` parameter now being solved for implicitly.\n",
        "\n",
        "Because the `intensity` parameter of each light profile is not a free parameter in the model-fit, the dimensionality of \n",
        "non-linear parameter space is reduced by 1 for each light profile (in this example, 2). This also removes the \n",
        "degeneracies between the `intensity` and other light profile parameters (e.g. `effective_radius`, `sersic_index`), \n",
        "making the model-fit more robust.\n",
        "\n",
        "This is a rare example where we are able to reduce the complexity of parameter space without making the model itself \n",
        "any simpler. There is really no downside to using linear light profiles, so I would recommend you adopt them as \n",
        "standard for your own model-fits from here on!"
      ]
    },
    {
      "cell_type": "code",
      "metadata": {},
      "source": [
        "bulge = af.Model(al.lp_linear.Sersic)\n",
        "mass = af.Model(al.mp.Isothermal)\n",
        "\n",
        "lens = af.Model(\n",
        "    al.Galaxy, redshift=0.5, bulge=bulge, mass=mass, shear=al.mp.ExternalShear\n",
        ")\n",
        "\n",
        "source = af.Model(al.Galaxy, redshift=1.0, bulge=al.lp_linear.Exponential)\n",
        "\n",
        "model = af.Collection(galaxies=af.Collection(lens=lens, source=source))"
      ],
      "outputs": [],
      "execution_count": null
    },
    {
      "cell_type": "markdown",
      "metadata": {},
      "source": [
        "The `info` attribute shows the model, including the linear light profiles.\n",
        "\n",
        "Note how the `intensity` is no longer listed and does not have a prior associated with it."
      ]
    },
    {
      "cell_type": "code",
      "metadata": {},
      "source": [
        "print(model.info)"
      ],
      "outputs": [],
      "execution_count": null
    },
    {
      "cell_type": "markdown",
      "metadata": {},
      "source": [
        "We now create this search and run it."
      ]
    },
    {
      "cell_type": "code",
      "metadata": {},
      "source": [
        "search = af.DynestyStatic(\n",
        "    path_prefix=path.join(\"howtolens\", \"chapter_2\"),\n",
        "    name=\"tutorial_5_linear_light_profile\",\n",
        "    unique_tag=dataset_name,\n",
        "    nlive=50,\n",
        "    number_of_cores=1,\n",
        ")\n",
        "\n",
        "analysis = al.AnalysisImaging(dataset=dataset)"
      ],
      "outputs": [],
      "execution_count": null
    },
    {
      "cell_type": "markdown",
      "metadata": {},
      "source": [
        "__Run Time__\n",
        "\n",
        "For standard light profiles, the log likelihood evaluation time is of order ~0.01 seconds for this dataset.\n",
        "\n",
        "For linear light profiles, the log likelihood evaluation increases to around ~0.05 seconds per likelihood evaluation.\n",
        "This is still fast, but it does mean that the fit may take around five times longer to run.\n",
        "\n",
        "However, because two free parameters have been removed from the model (the `intensity` of the lens bulge and \n",
        "source bulge), the total number of likelihood evaluations will reduce. Furthermore, the simpler parameter space\n",
        "likely means that the fit will take less than 10000 per free parameter to converge.\n",
        "\n",
        "Fits using standard light profiles and linear light profiles therefore take roughly the same time to run. However,\n",
        "the simpler parameter space of linear light profiles means that the model-fit is more reliable, less susceptible to\n",
        "converging to an incorrect solution and scales better if even more light profiles are included in the model."
      ]
    },
    {
      "cell_type": "code",
      "metadata": {},
      "source": [
        "run_time_dict, info_dict = analysis.profile_log_likelihood_function(\n",
        "    instance=model.random_instance()\n",
        ")\n",
        "\n",
        "print(f\"Log Likelihood Evaluation Time (second) = {run_time_dict['fit_time']}\")\n",
        "print(\n",
        "    \"Estimated Run Time Upper Limit (seconds) = \",\n",
        "    (run_time_dict[\"fit_time\"] * model.total_free_parameters * 10000)\n",
        "    / search.number_of_cores,\n",
        ")"
      ],
      "outputs": [],
      "execution_count": null
    },
    {
      "cell_type": "markdown",
      "metadata": {},
      "source": [
        "Run the non-linear search."
      ]
    },
    {
      "cell_type": "code",
      "metadata": {},
      "source": [
        "print(\n",
        "    \"Dynesty has begun running - checkout the workspace/output/howtolens/chapter_2/tutorial_5_linear_light_profile\"\n",
        "    \" folder for live output of the results, images and model.\"\n",
        "    \" This Jupyter notebook cell with progress once Dynesty has completed - this could take some time!\"\n",
        ")\n",
        "\n",
        "result_linear_light_profile = search.fit(model=model, analysis=analysis)"
      ],
      "outputs": [],
      "execution_count": null
    },
    {
      "cell_type": "markdown",
      "metadata": {},
      "source": [
        "__Result__\n",
        "\n",
        "The `info` attribute shows the resulting model, which does not display the `intensity` values for each light profile."
      ]
    },
    {
      "cell_type": "code",
      "metadata": {},
      "source": [
        "print(result_linear_light_profile.info)"
      ],
      "outputs": [],
      "execution_count": null
    },
    {
      "cell_type": "markdown",
      "metadata": {},
      "source": [
        "The intensities of linear light profiles are not a part of the model parameterization. They therefore cannot be\n",
        "accessed in the resulting galaxies, as seen in previous tutorials, for example:\n",
        "\n",
        "`tracer = result.max_log_likelihood_tracer`\n",
        "`intensity = tracer.galaxies[0].bulge.intensity`\n",
        "\n",
        "The intensities are also only computed once a fit is performed, as they must first be solved for via linear algebra. \n",
        "They are therefore accessible via the `Fit` and `Inversion` objects, for example as a dictionary mapping every\n",
        "linear light profile (defined above) to the intensity values:"
      ]
    },
    {
      "cell_type": "code",
      "metadata": {},
      "source": [
        "fit = result_linear_light_profile.max_log_likelihood_fit\n",
        "\n",
        "print(fit.linear_light_profile_intensity_dict)"
      ],
      "outputs": [],
      "execution_count": null
    },
    {
      "cell_type": "markdown",
      "metadata": {},
      "source": [
        "To extract the `intensity` values of a specific component in the model, we use that component as defined in the\n",
        "`max_log_likelihood_tracer`."
      ]
    },
    {
      "cell_type": "code",
      "metadata": {},
      "source": [
        "tracer = fit.tracer\n",
        "\n",
        "lens_bulge = tracer.galaxies[0].bulge\n",
        "source_bulge = tracer.galaxies[1].bulge\n",
        "\n",
        "print(\n",
        "    f\"\\n Intensity of lens bulge (lp_linear.Sersic) = {fit.linear_light_profile_intensity_dict[lens_bulge]}\"\n",
        ")\n",
        "print(\n",
        "    f\"\\n Intensity of source bulge (lp_linear.Exponential) = {fit.linear_light_profile_intensity_dict[source_bulge]}\"\n",
        ")"
      ],
      "outputs": [],
      "execution_count": null
    },
    {
      "cell_type": "markdown",
      "metadata": {},
      "source": [
        "A `Tracer` where all linear light profile objects are replaced with ordinary light profiles using the solved \n",
        "for `intensity` values is also accessible.\n",
        "\n",
        "For example, the linear light profile `Sersic` of the `bulge` component above has a solved for `intensity` of ~0.75. \n",
        "\n",
        "The `Tracer` created below instead has an ordinary light profile with an `intensity` of ~0.75."
      ]
    },
    {
      "cell_type": "code",
      "metadata": {},
      "source": [
        "tracer = fit.model_obj_linear_light_profiles_to_light_profiles\n",
        "\n",
        "print(\n",
        "    f\"Intensity via Tracer With Ordinary Light Profiles = {tracer.galaxies[0].bulge.intensity}\"\n",
        ")"
      ],
      "outputs": [],
      "execution_count": null
    },
    {
      "cell_type": "markdown",
      "metadata": {},
      "source": [
        "__Visualization__\n",
        "\n",
        "Linear light profiles and objects containing them (e.g. galaxies, a tracer) cannot be plotted because they do not \n",
        "have an `intensity` value.\n",
        "\n",
        "Therefore, the object created above which replaces all linear light profiles with ordinary light profiles must be\n",
        "used for visualization:"
      ]
    },
    {
      "cell_type": "code",
      "metadata": {},
      "source": [
        "tracer = fit.model_obj_linear_light_profiles_to_light_profiles\n",
        "tracer_plotter = aplt.TracerPlotter(tracer=tracer, grid=dataset.grid)\n",
        "tracer_plotter.figures_2d(image=True)\n",
        "\n",
        "galaxy_plotter = aplt.GalaxyPlotter(galaxy=tracer.galaxies[0], grid=dataset.grid)\n",
        "galaxy_plotter.figures_2d(image=True)"
      ],
      "outputs": [],
      "execution_count": null
    },
    {
      "cell_type": "markdown",
      "metadata": {},
      "source": [
        "__Basis__\n",
        "\n",
        "We can use many linear light profiles to build a `Basis`. \n",
        "\n",
        "For example, below, we make a `Basis` out of 10 elliptical Gaussian linear light profiles which: \n",
        "\n",
        " - All share the same centre and elliptical components.\n",
        " - The `sigma` values of the` Gaussians increases following a relation `y = a + (b * log10(i+1))`, where `i` is the \n",
        " Gaussian index and `a` and `b` are free parameters.\n",
        "\n",
        "Because `log10(1.0) = 0.0` the first Gaussian `sigma` value is therefore , whereas because `log10(10) = 1.0`\n",
        "the size of the final Gaussian is a + b. This provides intuition on the scale of the Gaussians."
      ]
    },
    {
      "cell_type": "code",
      "metadata": {},
      "source": [
        "total_gaussians = 30\n",
        "gaussian_per_basis = 2\n",
        "\n",
        "# The sigma values of the Gaussians will be fixed to values spanning 0.01 to the mask radius, 2.6\".\n",
        "mask_radius = 2.6\n",
        "log10_sigma_list = np.linspace(-2, np.log10(mask_radius), total_gaussians)\n",
        "\n",
        "# By defining the centre here, it creates two free parameters that are assigned below to all Gaussians.\n",
        "\n",
        "centre_0 = af.UniformPrior(lower_limit=-0.1, upper_limit=0.1)\n",
        "centre_1 = af.UniformPrior(lower_limit=-0.1, upper_limit=0.1)\n",
        "\n",
        "bulge_gaussian_list = []\n",
        "\n",
        "for j in range(gaussian_per_basis):\n",
        "    # A list of Gaussian model components whose parameters are customized belows.\n",
        "\n",
        "    gaussian_list = af.Collection(\n",
        "        af.Model(al.lp_linear.Gaussian) for _ in range(total_gaussians)\n",
        "    )\n",
        "\n",
        "    # Iterate over every Gaussian and customize its parameters.\n",
        "\n",
        "    for i, gaussian in enumerate(gaussian_list):\n",
        "        gaussian.centre.centre_0 = centre_0  # All Gaussians have same y centre.\n",
        "        gaussian.centre.centre_1 = centre_1  # All Gaussians have same x centre.\n",
        "        gaussian.ell_comps = gaussian_list[\n",
        "            0\n",
        "        ].ell_comps  # All Gaussians have same elliptical components.\n",
        "        gaussian.sigma = (\n",
        "            10 ** log10_sigma_list[i]\n",
        "        )  # All Gaussian sigmas are fixed to values above.\n",
        "\n",
        "    bulge_gaussian_list += gaussian_list\n",
        "\n",
        "# The Basis object groups many light profiles together into a single model component.\n",
        "\n",
        "basis = af.Model(\n",
        "    al.lp_basis.Basis,\n",
        "    light_profile_list=bulge_gaussian_list,\n",
        "    regularization=al.reg.ConstantZeroth(\n",
        "        coefficient_neighbor=0.0, coefficient_zeroth=1.0\n",
        "    ),\n",
        ")"
      ],
      "outputs": [],
      "execution_count": null
    },
    {
      "cell_type": "markdown",
      "metadata": {},
      "source": [
        "Once we have a `Basis`, we can treat it like any other light profile in order to create a `Galaxy` and `Tracer` and \n",
        "use it to fit data.\n",
        "\n",
        "We use the lens mass and source galaxy light profiles inferred above to fit this model with the basis functions."
      ]
    },
    {
      "cell_type": "code",
      "metadata": {},
      "source": [
        "lens = al.Galaxy(\n",
        "    redshift=0.5,\n",
        "    bulge=basis,\n",
        "    mass=result_linear_light_profile.instance.galaxies.lens.mass,\n",
        ")\n",
        "\n",
        "source = result_linear_light_profile.instance.galaxies.source\n",
        "\n",
        "tracer = al.Tracer.from_galaxies(galaxies=[lens, source])\n",
        "\n",
        "fit = al.FitImaging(dataset=dataset, tracer=tracer)"
      ],
      "outputs": [],
      "execution_count": null
    },
    {
      "cell_type": "markdown",
      "metadata": {},
      "source": [
        "By plotting the fit, we see that the `Basis` does a reasonable job at capturing the appearance of the lens galaxy \n",
        "in the data\n",
        "\n",
        "However, there are also distinct residual features:\n",
        "\n",
        " - The centre of the image has significant chi-squareds, because the `sigma` scale of the Gaussians were not\n",
        " small enough to capture the central emission.\n",
        "\n",
        " - There is a directional patterns in the residuals emanating from the centre of the data, because the Gaussians\n",
        " have a spherial unit system whereas the lens galaxy in the data is made of an elliptical structure (a bulge). \n",
        "\n",
        " - There is a \"ringing\" pattern, where circular rings can be seen radially outwards from the data. This is\n",
        " caused by Gaussians with alternating positive and negative being used to reconstruct the data, and is a result\n",
        " of the `Basis` not perfectly representing the underlying galaxy.\n",
        "\n",
        "We will address are these deficiencies in the model using a ` Basis` that we fit below."
      ]
    },
    {
      "cell_type": "code",
      "metadata": {},
      "source": [
        "fit_plotter = aplt.FitImagingPlotter(fit=fit)\n",
        "fit_plotter.subplot_fit()"
      ],
      "outputs": [],
      "execution_count": null
    },
    {
      "cell_type": "markdown",
      "metadata": {},
      "source": [
        "__Model Fit__\n",
        "\n",
        "To fit a model using `Basis` functions, the API is very similar to that shown throughout this chapter, using both\n",
        "the `af.Model()` and `af.Collection()` objects.\n",
        "\n",
        "In this example we fit a `Basis` model for the lens galaxy bulge where:\n",
        "\n",
        " - The bulge is a superposition of 10 parametric linear `Gaussian` profiles [6 parameters]. \n",
        " - The centres and elliptical components of each family of Gaussians are all linked together.\n",
        " - The `sigma` size of the Gaussians increases following a relation sigma = a + b * log10(i), where `i` is the \n",
        " Gaussian index (which runs from 0 -> 9) and `a` and `b` are free parameters.\n",
        "\n",
        "__Relations__\n",
        "\n",
        "The model below is composed using relations of the form `y = a + (log10(i+1) + b)`, where the values  of `a` \n",
        "and `b` are the non-linear free parameters fitted for by `dynesty`. This is the same relation used in the\n",
        "simple fitting example above.\n",
        "\n",
        "For example, if `dynesty` samples a model where `a=0.01` and `b=5.0`, it will use a `Basis` containing 10 Gaussians \n",
        "whoses `sigma` values are are follows:\n",
        "\n",
        " - gaussian[0] -> sigma = 0.01 + (5.0 * log10(0.0 + 1.0)) = 0.01 + 0.0 = 0.01\n",
        " - gaussian[1] -> sigma = 0.01 + (5.0 * log10(1.0 + 1.0)) = 0.01 + 0.301 = 0.311\n",
        " - gaussian [...] -> continues with increasing sigma.\n",
        " - gaussian[9] -> sigma = 0.01 + (5.0 * log10(9.0 + 1.0)) = 0.01 + 1.0 = 1.01\n",
        "\n",
        "Again, the relations above are chosen to provide intuition on the scale of the Gaussians. \n",
        "\n",
        "Because `a` and `b` are free parameters (as opposed to `sigma` which can assume many values), we are able to \n",
        "compose and fit `Basis` objects which can capture very complex light distributions with just N = 5-10 non-linear \n",
        "parameters!\n",
        "\n",
        "Owing to our use of relations, the number of free parameters associated with the bulge is N=6. "
      ]
    },
    {
      "cell_type": "code",
      "metadata": {},
      "source": [
        "lens_a = af.UniformPrior(lower_limit=0.0, upper_limit=0.2)\n",
        "lens_b = af.UniformPrior(lower_limit=0.0, upper_limit=10.0)\n",
        "\n",
        "gaussians_lens = af.Collection(af.Model(al.lp_linear.Gaussian) for _ in range(10))\n",
        "\n",
        "for i, gaussian in enumerate(gaussians_lens):\n",
        "    gaussian.centre = gaussians_lens[0].centre\n",
        "    gaussian.ell_comps = gaussians_lens[0].ell_comps\n",
        "    gaussian.sigma = lens_a + (lens_b * np.log10(i + 1))\n",
        "\n",
        "lens_basis = af.Model(al.lp_basis.Basis, light_profile_list=gaussians_lens)"
      ],
      "outputs": [],
      "execution_count": null
    },
    {
      "cell_type": "markdown",
      "metadata": {},
      "source": [
        "The residuals of the fit above were because the data was not spherical, whereas the Basis we fitted was. Because\n",
        "the `ell_comps` are now a free parametert his issue should be circumvented.\n",
        "\n",
        "We now compose a second `Basis` of 10 Gaussians to represent the source galaxy. This is parameterized the same as\n",
        "the lens galaxy `bulge` (e.g. all Gaussians share the same `centre` and `ell_comps`) but is treated as a \n",
        "completely independent set of parameters."
      ]
    },
    {
      "cell_type": "code",
      "metadata": {},
      "source": [
        "source_a = af.UniformPrior(lower_limit=0.0, upper_limit=0.2)\n",
        "source_b = af.UniformPrior(lower_limit=0.0, upper_limit=10.0)\n",
        "\n",
        "gaussians_source = af.Collection(af.Model(al.lp_linear.Gaussian) for _ in range(10))\n",
        "\n",
        "for i, gaussian in enumerate(gaussians_source):\n",
        "    gaussian.centre = gaussians_source[0].centre\n",
        "    gaussian.ell_comps = gaussians_source[0].ell_comps\n",
        "    gaussian.sigma = source_a + (source_b * np.log10(i + 1))\n",
        "\n",
        "source_lp = af.Model(al.lp_basis.Basis, light_profile_list=gaussians_source)"
      ],
      "outputs": [],
      "execution_count": null
    },
    {
      "cell_type": "markdown",
      "metadata": {},
      "source": [
        "We now compose the overall model which uses both sets of 10 Gaussians to represent separately the bulge and disk.\n",
        "\n",
        "The overall dimensionality of non-linear parameter space is just N=12, which is fairly remarkable if you\n",
        "think about just how complex the structures are that these two `Basis` of Gaussians can capture!"
      ]
    },
    {
      "cell_type": "code",
      "metadata": {},
      "source": [
        "lens = af.Model(\n",
        "    al.Galaxy, redshift=0.5, bulge=lens_basis, mass=af.Model(al.mp.Isothermal)\n",
        ")\n",
        "source = af.Model(al.Galaxy, redshift=1.0, bulge=source_lp)\n",
        "\n",
        "model = af.Collection(galaxies=af.Collection(lens=lens, source=source))"
      ],
      "outputs": [],
      "execution_count": null
    },
    {
      "cell_type": "markdown",
      "metadata": {},
      "source": [
        "The `info` attribute shows the model, which is a lot longer than we have seen previously, given that is \n",
        "composed of 20 Gaussians in total!"
      ]
    },
    {
      "cell_type": "code",
      "metadata": {},
      "source": [
        "print(model.info)"
      ],
      "outputs": [],
      "execution_count": null
    },
    {
      "cell_type": "markdown",
      "metadata": {},
      "source": [
        "We now fit the model."
      ]
    },
    {
      "cell_type": "code",
      "metadata": {},
      "source": [
        "search = af.DynestyStatic(\n",
        "    path_prefix=path.join(\"howtolens\", \"chapter_2\"),\n",
        "    name=\"tutorial_5_basis\",\n",
        "    unique_tag=dataset_name,\n",
        "    nlive=50,\n",
        "    number_of_cores=1,\n",
        ")\n",
        "\n",
        "print(\n",
        "    \"Dynesty has begun running - checkout the workspace/output/howtolens/chapter_2/tutorial_5_basis\"\n",
        "    \" folder for live output of the results, images and model.\"\n",
        "    \" This Jupyter notebook cell with progress once Dynesty has completed - this could take some time!\"\n",
        ")\n",
        "\n",
        "result_basis = search.fit(model=model, analysis=analysis)"
      ],
      "outputs": [],
      "execution_count": null
    },
    {
      "cell_type": "markdown",
      "metadata": {},
      "source": [
        "__Result__\n",
        "\n",
        "The result `info` attribute shows the result, which is again longer than usual given the large number of Gaussians\n",
        "used in the fit."
      ]
    },
    {
      "cell_type": "code",
      "metadata": {},
      "source": [
        "print(result_basis.info)"
      ],
      "outputs": [],
      "execution_count": null
    },
    {
      "cell_type": "markdown",
      "metadata": {},
      "source": [
        "Visualizing the fit shows that we successfully fit the data to the noise level.\n",
        "\n",
        "Note that the result objects `max_log_likelihood_tracer` and `max_log_likelihood_fit` automatically convert\n",
        "all linear light profiles to ordinary light profiles, including every single one of the 20 Gaussians fitted\n",
        "above. \n",
        "\n",
        "This means we can use them directly to perform the visualization below."
      ]
    },
    {
      "cell_type": "code",
      "metadata": {},
      "source": [
        "print(result_basis.max_log_likelihood_instance)\n",
        "\n",
        "tracer_plotter = aplt.TracerPlotter(\n",
        "    tracer=result_basis.max_log_likelihood_tracer, grid=result_basis.grid\n",
        ")\n",
        "tracer_plotter.subplot()\n",
        "\n",
        "fit_plotter = aplt.FitImagingPlotter(fit=result_basis.max_log_likelihood_fit)\n",
        "fit_plotter.subplot_fit()"
      ],
      "outputs": [],
      "execution_count": null
    },
    {
      "cell_type": "markdown",
      "metadata": {},
      "source": [
        "__Regularization__\n",
        "\n",
        "There is one downside to `Basis` functions, we may compose a model with too much freedom. The `Basis` (e.g. our 20\n",
        "Gaussians) may overfit noise in the data, or possible the lensed source galaxy emission -- neither of which we \n",
        "want to happen! \n",
        "\n",
        "To circumvent this issue, we have the option of adding regularization to a `Basis`. Regularization penalizes\n",
        "solutions which are not smooth -- it is essentially a prior that says we expect the component the `Basis` represents\n",
        "(e.g. a bulge or disk) to be smooth, in that its light changes smoothly as a function of radius.\n",
        "\n",
        "Below, we compare two fits, one without regularization and one with regularization which uses a `coefficient=1.0`,\n",
        "which is a relatively large value that leads to an overly smooth fit."
      ]
    },
    {
      "cell_type": "code",
      "metadata": {},
      "source": [
        "gaussians = [\n",
        "    al.lp_linear.Gaussian(centre=(0.0, 0.0), ell_comps=(0.0, 0.0)) for _ in range(10)\n",
        "]\n",
        "\n",
        "for i, gaussian in enumerate(gaussians):\n",
        "    gaussian.sigma = 0.0001 + (1.0 * np.log10(1.0 + i))\n",
        "\n",
        "basis = al.lp_basis.Basis(light_profile_list=gaussians, regularization=None)\n",
        "\n",
        "galaxy = al.Galaxy(redshift=0.5, bulge=basis)\n",
        "\n",
        "tracer = al.Tracer.from_galaxies(galaxies=[galaxy])\n",
        "\n",
        "fit = al.FitImaging(dataset=dataset, tracer=tracer)\n",
        "\n",
        "fit_plotter = aplt.FitImagingPlotter(fit=fit)\n",
        "fit_plotter.subplot_fit()\n",
        "\n",
        "basis = al.lp_basis.Basis(\n",
        "    light_profile_list=gaussians, regularization=al.reg.Constant(coefficient=1.0)\n",
        ")\n",
        "\n",
        "galaxy = al.Galaxy(redshift=0.5, bulge=basis)\n",
        "\n",
        "tracer = al.Tracer.from_galaxies(galaxies=[galaxy])\n",
        "\n",
        "fit = al.FitImaging(dataset=dataset, tracer=tracer)\n",
        "\n",
        "fit_plotter = aplt.FitImagingPlotter(fit=fit)\n",
        "fit_plotter.subplot_fit()"
      ],
      "outputs": [],
      "execution_count": null
    },
    {
      "cell_type": "markdown",
      "metadata": {},
      "source": [
        "We can easily extend the model-fit performed above to include regularization, where the `coefficient` parameters \n",
        "associated with each `Basis` are included in the `dynesty` non-linear parameter space and fitted for."
      ]
    },
    {
      "cell_type": "code",
      "metadata": {},
      "source": [
        "\n",
        "lens_basis = af.Model(\n",
        "    al.lp_basis.Basis,\n",
        "    light_profile_list=gaussians_lens,\n",
        "    regularization=af.Model(al.reg.Constant),\n",
        ")\n",
        "\n",
        "source_lp = af.Model(\n",
        "    al.lp_basis.Basis,\n",
        "    light_profile_list=gaussians_source,\n",
        "    regularization=af.Model(al.reg.Constant),\n",
        ")\n",
        "\n",
        "lens = af.Model(\n",
        "    al.Galaxy, redshift=0.5, bulge=lens_basis, mass=af.Model(al.mp.Isothermal)\n",
        ")\n",
        "source = af.Model(al.Galaxy, redshift=1.0, bulge=source_lp)\n",
        "\n",
        "model = af.Collection(galaxies=af.Collection(lens=lens, source=source))"
      ],
      "outputs": [],
      "execution_count": null
    },
    {
      "cell_type": "markdown",
      "metadata": {},
      "source": [
        "The `info` attribute shows the model, which has addition priors now associated with regularization."
      ]
    },
    {
      "cell_type": "code",
      "metadata": {},
      "source": [
        "print(model.info)"
      ],
      "outputs": [],
      "execution_count": null
    },
    {
      "cell_type": "markdown",
      "metadata": {},
      "source": [
        "We now fit the model."
      ]
    },
    {
      "cell_type": "code",
      "metadata": {},
      "source": [
        "search = af.DynestyStatic(\n",
        "    path_prefix=path.join(\"howtolens\", \"chapter_2\"),\n",
        "    name=\"tutorial_5_basis_regularization\",\n",
        "    unique_tag=dataset_name,\n",
        "    nlive=50,\n",
        "    number_of_cores=1,\n",
        ")"
      ],
      "outputs": [],
      "execution_count": null
    },
    {
      "cell_type": "markdown",
      "metadata": {},
      "source": [
        "__When To Regularize?__\n",
        "\n",
        "The benefits of applying regularization are: \n",
        "\n",
        "- It prevents or reduces the over-fitting of noise in the data. \n",
        "\n",
        "- It circumvents the \"ringing\" effect seen above, where alternating negative and positive linear light \n",
        "profiles reconstruct the data.\n",
        "\n",
        "The downside is it adds extra non-linear parameters to the fit, slowing the analysis down.\n",
        "\n",
        "Whether you need to apply regularization to your science case is a difficult question. We recommend that \n",
        "if you are using `Basis` objects, you begin without regularization to see if the `Basis` looks sufficient to \n",
        "fit the data accurately. If effects like the positive / negative ringing occur, you may want to then try\n",
        "fits including regularization. \n",
        "\n",
        "Regularization is applied following a statistics framework, which is described in more detail in chapter 4 \n",
        "of **HowToLens*.\n",
        "\n",
        "__Other Basis Functions__\n",
        "\n",
        "In addition to the Gaussians used in this example, there are a number of other linear light profiles \n",
        "implemented in which are designed to be used as basis functions:\n",
        "\n",
        " - Shapelets: Shapelets are basis functions with analytic properties that are appropriate for capturing the \n",
        "   exponential / disk-like features of a galaxy. They do so over a wide range of scales, and can often represent \n",
        "   features in source galaxies that a single Sersic function cannot.\n",
        " \n",
        "An example using shapelets is given at `autolens_workspace/scripts/imaging/modeling/features/shapelets.py`.\n",
        "\n",
        "__Wrap Up__\n",
        "\n",
        "In this tutorial we described how linearizing light profiles allows us to fit more complex light profiles to\n",
        "galaxies using fewer non-linear parameters, keeping the fit performed by the non-linear search fast, accurate\n",
        "and robust.\n",
        "\n",
        "Perhaps the biggest downside to basis functions is that they are only as good as the features they can capture\n",
        "in the data. For example, a basis of Gaussians still assumes that they have a well defined centre, but there are\n",
        "galaxies which may have multiple components with multiple centres (e.g. many star forming knots) which such a \n",
        "basis cannot captrue.\n",
        "\n",
        "In chapter 4 of **HowToLens** we introduce non-parametric pixelizations, which reconstruct the data in way\n",
        "that does not make assumptions like a centre and can thus reconstruct even more complex, asymmetric and irregular\n",
        "galaxy morphologies."
      ]
    },
    {
      "cell_type": "code",
      "metadata": {},
      "source": [],
      "outputs": [],
      "execution_count": null
    }
  ],
  "metadata": {
    "anaconda-cloud": {},
    "kernelspec": {
      "display_name": "Python 3",
      "language": "python",
      "name": "python3"
    },
    "language_info": {
      "codemirror_mode": {
        "name": "ipython",
        "version": 3
      },
      "file_extension": ".py",
      "mimetype": "text/x-python",
      "name": "python",
      "nbconvert_exporter": "python",
      "pygments_lexer": "ipython3",
      "version": "3.6.1"
    }
  },
  "nbformat": 4,
  "nbformat_minor": 4
}