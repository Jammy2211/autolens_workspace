{
  "cells": [
    {
      "cell_type": "markdown",
      "metadata": {},
      "source": [
        "Tutorial 5: Linear Profiles\n",
        "===========================\n",
        "\n",
        "In the previous tutorial we learned how to balance model complexity with our non-linear search in order to infer \n",
        "accurate lens model solutions and avoid failure. We saw how in order to fit a model accurately one may have to\n",
        "parameterize and fit a simpler model with fewer non-linear parameters, at the expense of fitting the data less \n",
        "accurately.\n",
        "\n",
        "It would be desirable if we could make our model have more flexibility enabling it to fit more complex galaxy\n",
        "structures, but in a way that does not increase (or perhaps even decreases) the number of non-linear parameters.\n",
        "This would keep the `Nautilus` model-fit efficient and accurate.\n",
        "\n",
        "This is possible using linear light profiles, which solve for their `intensity` parameter via efficient linear \n",
        "algebra, using a process called an inversion. The inversion always computes `intensity` values that give the best \n",
        "fit to the data (e.g. they minimize the chi-squared and therefore maximize the likelihood). \n",
        "\n",
        "This tutorial will first fit a model using two linear light profiles. Because their `intensity` values are solved for \n",
        "implicitly, this means they are not a dimension of the non-linear parameter space fitted by `Nautilus`, therefore \n",
        "reducing the complexity of parameter space and making the fit faster and more accurate.\n",
        "\n",
        "This tutorial will then show how many linear light profiles can be combined into a `Basis`, which comes from the term\n",
        "'basis function'. By combining many linear light profiles models can be composed which are able to fit complex galaxy \n",
        "structures (e.g. asymmetries, twists) with just N=6-8 non-linear parameters."
      ]
    },
    {
      "cell_type": "code",
      "metadata": {},
      "source": [
        "%matplotlib inline\n",
        "from pyprojroot import here\n",
        "workspace_path = str(here())\n",
        "%cd $workspace_path\n",
        "print(f\"Working Directory has been set to `{workspace_path}`\")\n",
        "\n",
        "import numpy as np\n",
        "from os import path\n",
        "import autolens as al\n",
        "import autolens.plot as aplt\n",
        "import autofit as af"
      ],
      "outputs": [],
      "execution_count": null
    },
    {
      "cell_type": "markdown",
      "metadata": {},
      "source": [
        "__Initial Setup__\n",
        "\n",
        "we'll use the same strong lensing data as the previous tutorial, where:\n",
        "\n",
        " - The lens galaxy's light is an `Sersic`.\n",
        " - The lens galaxy's total mass distribution is an `Isothermal` and `ExternalShear`.\n",
        " - The source galaxy's light is an `Exponential`."
      ]
    },
    {
      "cell_type": "code",
      "metadata": {},
      "source": [
        "dataset_name = \"lens_sersic\"\n",
        "dataset_path = path.join(\"dataset\", \"imaging\", dataset_name)\n",
        "\n",
        "dataset = al.Imaging.from_fits(\n",
        "    data_path=path.join(dataset_path, \"data.fits\"),\n",
        "    noise_map_path=path.join(dataset_path, \"noise_map.fits\"),\n",
        "    psf_path=path.join(dataset_path, \"psf.fits\"),\n",
        "    pixel_scales=0.1,\n",
        ")"
      ],
      "outputs": [],
      "execution_count": null
    },
    {
      "cell_type": "markdown",
      "metadata": {},
      "source": [
        "__Mask__\n",
        "\n",
        "we'll create and use a smaller 2.6\" `Mask2D` again."
      ]
    },
    {
      "cell_type": "code",
      "metadata": {},
      "source": [
        "mask = al.Mask2D.circular(\n",
        "    shape_native=dataset.shape_native, pixel_scales=dataset.pixel_scales, radius=2.6\n",
        ")\n",
        "\n",
        "dataset = dataset.apply_mask(mask=mask)"
      ],
      "outputs": [],
      "execution_count": null
    },
    {
      "cell_type": "markdown",
      "metadata": {},
      "source": [
        "When plotted, the lens light`s is clearly visible in the centre of the image."
      ]
    },
    {
      "cell_type": "code",
      "metadata": {},
      "source": [
        "dataset_plotter = aplt.ImagingPlotter(\n",
        "    dataset=dataset, visuals_2d=aplt.Visuals2D(mask=mask)\n",
        ")\n",
        "dataset_plotter.subplot_dataset()"
      ],
      "outputs": [],
      "execution_count": null
    },
    {
      "cell_type": "markdown",
      "metadata": {},
      "source": [
        "__Linear Light Profiles__\n",
        "\n",
        "We use a variant of a light profile discussed called a \"linear light profile\", which is accessed via the \n",
        "command `al.lp_linear`. \n",
        "\n",
        "A \"linear light profile\" is a variant of a standard light profile where the `intensity` parameter is solved for\n",
        "via linear algebra every time the model is fitted to the data. This uses a process called an \"inversion\" and it\n",
        "always computes the `intensity` values that give the best fit to the data (e.g. maximize the likelihood)\n",
        "given the light profile's other parameters.\n",
        " \n",
        "Each light profile's `intensity` parameter is therefore not a free parameter in the model-fit, reducing the\n",
        "dimensionality of non-linear parameter space by the number of light profiles (in this example by 2 dimensions).\n",
        "\n",
        "This also removes the degeneracies that occur between the `intensity` and other light profile parameters\n",
        "(e.g. `effective_radius`, `sersic_index`), which are difficult degeneracies for the non-linear search to map out\n",
        "accurately. This produces more reliable lens model results and the fit converges in fewer iterations, speeding up the\n",
        "overall analysis.\n",
        "\n",
        "This is a rare example where we are able to reduce the complexity of parameter space without making the model itself \n",
        "any simpler. There is really no downside to using linear light profiles, so I would recommend you adopt them as \n",
        "standard for your own model-fits from here on!"
      ]
    },
    {
      "cell_type": "code",
      "metadata": {},
      "source": [
        "bulge = af.Model(al.lp_linear.Sersic)\n",
        "mass = af.Model(al.mp.Isothermal)\n",
        "\n",
        "lens = af.Model(\n",
        "    al.Galaxy, redshift=0.5, bulge=bulge, mass=mass, shear=al.mp.ExternalShear\n",
        ")\n",
        "\n",
        "source = af.Model(al.Galaxy, redshift=1.0, bulge=al.lp_linear.ExponentialCore)\n",
        "\n",
        "model = af.Collection(galaxies=af.Collection(lens=lens, source=source))"
      ],
      "outputs": [],
      "execution_count": null
    },
    {
      "cell_type": "markdown",
      "metadata": {},
      "source": [
        "The `info` attribute shows the model, including the linear light profiles.\n",
        "\n",
        "Note how the `intensity` is no longer listed and does not have a prior associated with it."
      ]
    },
    {
      "cell_type": "code",
      "metadata": {},
      "source": [
        "print(model.info)"
      ],
      "outputs": [],
      "execution_count": null
    },
    {
      "cell_type": "markdown",
      "metadata": {},
      "source": [
        "We now create this search and run it.\n",
        "\n",
        "Note that the number of live points has been reduced to 100, whereas previous tutorials typically used values of\n",
        "150 - 250. \n",
        "\n",
        "This is possible because the linear light profiles make the parameter space much simpler, meaning we can obtain a \n",
        "reliable model with fewer live points. This means the overall run-time of the search will be faster."
      ]
    },
    {
      "cell_type": "code",
      "metadata": {},
      "source": [
        "search = af.Nautilus(\n",
        "    path_prefix=path.join(\"howtolens\", \"chapter_2\"),\n",
        "    name=\"tutorial_5_linear_light_profile\",\n",
        "    unique_tag=dataset_name,\n",
        "    n_live=100,\n",
        "    number_of_cores=4,\n",
        ")\n",
        "\n",
        "analysis = al.AnalysisImaging(dataset=dataset)"
      ],
      "outputs": [],
      "execution_count": null
    },
    {
      "cell_type": "markdown",
      "metadata": {},
      "source": [
        "__Run Time__\n",
        "\n",
        "For standard light profiles, the log likelihood evaluation time is of order ~0.01 seconds for this dataset.\n",
        "\n",
        "For linear light profiles, the log likelihood evaluation increases to around ~0.05 seconds per likelihood evaluation.\n",
        "This is still fast, but it does mean that the fit may take around five times longer to run.\n",
        "\n",
        "However, because two free parameters have been removed from the model (the `intensity` of the lens bulge and \n",
        "source bulge), the total number of likelihood evaluations will reduce. Furthermore, the simpler parameter space\n",
        "likely means that the fit will take less than 10000 per free parameter to converge. This is aided further\n",
        "by the reduction in `n_live` to 100.\n",
        "\n",
        "Fits using standard light profiles and linear light profiles therefore take roughly the same time to run. However,\n",
        "the simpler parameter space of linear light profiles means that the model-fit is more reliable, less susceptible to\n",
        "converging to an incorrect solution and scales better if even more light profiles are included in the model."
      ]
    },
    {
      "cell_type": "code",
      "metadata": {},
      "source": [
        "run_time_dict, info_dict = analysis.profile_log_likelihood_function(\n",
        "    instance=model.random_instance()\n",
        ")\n",
        "\n",
        "print(f\"Log Likelihood Evaluation Time (second) = {run_time_dict['fit_time']}\")\n",
        "print(\n",
        "    \"Estimated Run Time Upper Limit (seconds) = \",\n",
        "    (run_time_dict[\"fit_time\"] * model.total_free_parameters * 10000)\n",
        "    / search.number_of_cores,\n",
        ")"
      ],
      "outputs": [],
      "execution_count": null
    },
    {
      "cell_type": "markdown",
      "metadata": {},
      "source": [
        "Run the non-linear search."
      ]
    },
    {
      "cell_type": "code",
      "metadata": {},
      "source": [
        "print(\n",
        "    \"The non-linear search has begun running - checkout the workspace/output/howtolens/chapter_2/tutorial_5_linear_light_profile\"\n",
        "    \" folder for live output of the results, images and model.\"\n",
        "    \" This Jupyter notebook cell with progress once search has completed - this could take some time!\"\n",
        ")\n",
        "\n",
        "result_linear_light_profile = search.fit(model=model, analysis=analysis)"
      ],
      "outputs": [],
      "execution_count": null
    },
    {
      "cell_type": "markdown",
      "metadata": {},
      "source": [
        "__Result__\n",
        "\n",
        "The `info` attribute shows the resulting model, which does not display the `intensity` values for each light profile."
      ]
    },
    {
      "cell_type": "code",
      "metadata": {},
      "source": [
        "print(result_linear_light_profile.info)"
      ],
      "outputs": [],
      "execution_count": null
    },
    {
      "cell_type": "markdown",
      "metadata": {},
      "source": [
        "__Intensities__\n",
        "\n",
        "The intensities of linear light profiles are not a part of the model parameterization and therefore are not displayed\n",
        "in the `model.results` file.\n",
        "\n",
        "To extract the `intensity` values of a specific component in the model, we use the `max_log_likelihood_tracer`,\n",
        "which has already performed the inversion and therefore the galaxy light profiles have their solved for\n",
        "`intensity`'s associated with them."
      ]
    },
    {
      "cell_type": "code",
      "metadata": {},
      "source": [
        "tracer = result_linear_light_profile.max_log_likelihood_tracer\n",
        "\n",
        "print(tracer.galaxies[0].bulge.intensity)\n",
        "print(tracer.galaxies[1].bulge.intensity)"
      ],
      "outputs": [],
      "execution_count": null
    },
    {
      "cell_type": "markdown",
      "metadata": {},
      "source": [
        "Above, we access these values using the list index entry of each galaxy in the tracer. However, we may not be certain\n",
        "of the order of the galaxies in the tracer, and therefore which galaxy index corresponds to the lens and source.\n",
        "\n",
        "We can therefore use the model composition API to access these values."
      ]
    },
    {
      "cell_type": "code",
      "metadata": {},
      "source": [
        "print(tracer.galaxies.lens.bulge.intensity)\n",
        "print(tracer.galaxies.source.bulge.intensity)"
      ],
      "outputs": [],
      "execution_count": null
    },
    {
      "cell_type": "markdown",
      "metadata": {},
      "source": [
        "The `Tracer` contained in the `max_log_likelihood_fit` also has the solved for `intensity` values:"
      ]
    },
    {
      "cell_type": "code",
      "metadata": {},
      "source": [
        "fit = result_linear_light_profile.max_log_likelihood_fit\n",
        "\n",
        "tracer = fit.tracer\n",
        "\n",
        "print(tracer.galaxies.lens.bulge.intensity)\n",
        "print(tracer.galaxies.source.bulge.intensity)"
      ],
      "outputs": [],
      "execution_count": null
    },
    {
      "cell_type": "markdown",
      "metadata": {},
      "source": [
        "__Visualization__\n",
        "\n",
        "Linear light profiles and objects containing them (e.g. galaxies, a tracer) cannot be plotted because they do not \n",
        "have an `intensity` value.\n",
        "\n",
        "Therefore, the object created above which replaces all linear light profiles with ordinary light profiles must be\n",
        "used for visualization:"
      ]
    },
    {
      "cell_type": "code",
      "metadata": {},
      "source": [
        "tracer = fit.model_obj_linear_light_profiles_to_light_profiles\n",
        "tracer_plotter = aplt.TracerPlotter(tracer=tracer, grid=dataset.grid)\n",
        "tracer_plotter.figures_2d(image=True)\n",
        "\n",
        "galaxy_plotter = aplt.GalaxyPlotter(galaxy=tracer.galaxies[0], grid=dataset.grid)\n",
        "galaxy_plotter.figures_2d(image=True)"
      ],
      "outputs": [],
      "execution_count": null
    },
    {
      "cell_type": "markdown",
      "metadata": {},
      "source": [
        "__Basis__\n",
        "\n",
        "We can use many linear light profiles to build a `Basis`. \n",
        "\n",
        "For example, below, we make a `Basis` out of 30 elliptical Gaussian linear light profiles which: \n",
        "\n",
        " - All share the same centre and elliptical components.\n",
        " - The `sigma` size of the Gaussians increases in log10 increments."
      ]
    },
    {
      "cell_type": "code",
      "metadata": {},
      "source": [
        "total_gaussians = 30\n",
        "\n",
        "# The sigma values of the Gaussians will be fixed to values spanning 0.01 to the mask radius, 3.0\".\n",
        "\n",
        "mask_radius = 3.0\n",
        "log10_sigma_list = np.linspace(-2, np.log10(mask_radius), total_gaussians)\n",
        "\n",
        "# A list of linear light profile `Gaussians` will be input here, which will then be used to fit the data.\n",
        "\n",
        "bulge_gaussian_list = []\n",
        "\n",
        "# Iterate over every Gaussian and create it, with it centered at (0.0\", 0.0\") and assuming spherical symmetry.\n",
        "\n",
        "for i in range(total_gaussians):\n",
        "    gaussian = al.lp_linear.Gaussian(\n",
        "        centre=(0.0, 0.0),\n",
        "        ell_comps=(0.0, 0.0),\n",
        "        sigma=10 ** log10_sigma_list[i],\n",
        "    )\n",
        "\n",
        "    bulge_gaussian_list.append(gaussian)\n",
        "\n",
        "# The Basis object groups many light profiles together into a single model component and is used to fit the data.\n",
        "\n",
        "bulge = al.lp_basis.Basis(profile_list=bulge_gaussian_list)"
      ],
      "outputs": [],
      "execution_count": null
    },
    {
      "cell_type": "markdown",
      "metadata": {},
      "source": [
        "Once we have a `Basis`, we can treat it like any other light profile in order to create a `Galaxy` and `Tracer` and \n",
        "use it to fit data.\n",
        "\n",
        "We use the lens mass and source galaxy light profiles inferred above to fit this model with the basis functions."
      ]
    },
    {
      "cell_type": "code",
      "metadata": {},
      "source": [
        "lens = al.Galaxy(\n",
        "    redshift=0.5,\n",
        "    bulge=bulge,\n",
        "    mass=result_linear_light_profile.instance.galaxies.lens.mass,\n",
        ")\n",
        "\n",
        "source = result_linear_light_profile.instance.galaxies.source\n",
        "\n",
        "tracer = al.Tracer(galaxies=[lens, source])\n",
        "\n",
        "fit = al.FitImaging(dataset=dataset, tracer=tracer)"
      ],
      "outputs": [],
      "execution_count": null
    },
    {
      "cell_type": "markdown",
      "metadata": {},
      "source": [
        "By plotting the fit, we see that the `Basis` does a reasonable job at capturing the appearance of the lens galaxy.\n",
        "\n",
        "There are imperfections, but this is because we did not fit the model via a non-linear search in order to determine\n",
        "the optimal values of the Gaussians in the basis. In particular, the Gaussians above were all spherical, when the\n",
        "lens galaxy is elliptical. \n",
        "\n",
        "We rectify this below, where we use a non-linear search to determine the optimal values of the Gaussians!"
      ]
    },
    {
      "cell_type": "code",
      "metadata": {},
      "source": [
        "fit_plotter = aplt.FitImagingPlotter(fit=fit)\n",
        "fit_plotter.subplot_fit()"
      ],
      "outputs": [],
      "execution_count": null
    },
    {
      "cell_type": "markdown",
      "metadata": {},
      "source": [
        "__Model Fit__\n",
        "\n",
        "To fit a model using `Basis` functions, the API is very similar to that shown throughout this chapter, using both\n",
        "the `af.Model()` and `af.Collection()` objects.\n",
        "\n",
        "In this example we fit a `Basis` model for the lens galaxy bulge where:\n",
        "\n",
        " - The bulge is a superposition of 30 parametric linear `Gaussian` profiles [4 parameters]. \n",
        " - The centres and elliptical components of each family of Gaussians are all linked together.\n",
        " - The `sigma` size of the Gaussians increases in log10 increments.\n",
        "\n",
        "The number of free parameters and therefore the dimensionality of the MGe is just N=4."
      ]
    },
    {
      "cell_type": "code",
      "metadata": {},
      "source": [
        "total_gaussians = 30\n",
        "\n",
        "# The sigma values of the Gaussians will be fixed to values spanning 0.01 to the mask radius, 3.0\".\n",
        "mask_radius = 3.0\n",
        "log10_sigma_list = np.linspace(-2, np.log10(mask_radius), total_gaussians)\n",
        "\n",
        "# By defining the centre here, it creates two free parameters that are assigned below to all Gaussians.\n",
        "\n",
        "centre_0 = af.UniformPrior(lower_limit=-0.1, upper_limit=0.1)\n",
        "centre_1 = af.UniformPrior(lower_limit=-0.1, upper_limit=0.1)\n",
        "\n",
        "bulge_gaussian_list = []\n",
        "\n",
        "# A list of Gaussian model components whose parameters are customized belows.\n",
        "\n",
        "gaussian_list = af.Collection(\n",
        "    af.Model(al.lp_linear.Gaussian) for _ in range(total_gaussians)\n",
        ")\n",
        "\n",
        "# Iterate over every Gaussian and customize its parameters.\n",
        "\n",
        "for i, gaussian in enumerate(gaussian_list):\n",
        "    gaussian.centre.centre_0 = centre_0  # All Gaussians have same y centre.\n",
        "    gaussian.centre.centre_1 = centre_1  # All Gaussians have same x centre.\n",
        "    gaussian.ell_comps = gaussian_list[\n",
        "        0\n",
        "    ].ell_comps  # All Gaussians have same elliptical components.\n",
        "    gaussian.sigma = (\n",
        "        10 ** log10_sigma_list[i]\n",
        "    )  # All Gaussian sigmas are fixed to values above.\n",
        "\n",
        "bulge_gaussian_list += gaussian_list\n",
        "\n",
        "# The Basis object groups many light profiles together into a single model component.\n",
        "\n",
        "bulge = af.Model(\n",
        "    al.lp_basis.Basis,\n",
        "    profile_list=bulge_gaussian_list,\n",
        ")"
      ],
      "outputs": [],
      "execution_count": null
    },
    {
      "cell_type": "markdown",
      "metadata": {},
      "source": [
        "__Source MGE__\n",
        "\n",
        "We now compose a second `Basis` of 15 Gaussians to represent the source galaxy. \n",
        "\n",
        "This is parameterized the same as the lens galaxy `bulge` (e.g. all Gaussians share the same `centre` and `ell_comps`) \n",
        "but is treated as a completely independent set of parameters.\n",
        "\n",
        "However, the sigma values of the Gaussians span a smaller range of values, as the source galaxy is smaller than the\n",
        "lens galaxy."
      ]
    },
    {
      "cell_type": "code",
      "metadata": {},
      "source": [
        "total_gaussians = 15\n",
        "\n",
        "# The sigma values of the Gaussians will be fixed to values spanning 0.01\" to 1.0\".\n",
        "\n",
        "log10_sigma_list = np.linspace(-2, np.log10(1.0), total_gaussians)\n",
        "\n",
        "bulge_gaussian_list = []\n",
        "\n",
        "# By defining a new the centre here, it creates two free parameters that are assigned below to all Gaussians. These\n",
        "# new centre priors must be defined again in order for the source MGE not to use the same centre as the lens light\n",
        "# MGE\n",
        "\n",
        "centre_0 = af.UniformPrior(lower_limit=-0.1, upper_limit=0.1)\n",
        "centre_1 = af.UniformPrior(lower_limit=-0.1, upper_limit=0.1)\n",
        "\n",
        "gaussian_list = af.Collection(\n",
        "    af.Model(al.lp_linear.Gaussian) for _ in range(total_gaussians)\n",
        ")\n",
        "\n",
        "for i, gaussian in enumerate(gaussian_list):\n",
        "    gaussian.centre.centre_0 = centre_0\n",
        "    gaussian.centre.centre_1 = centre_1\n",
        "    gaussian.ell_comps = gaussian_list[0].ell_comps\n",
        "    gaussian.sigma = 10 ** log10_sigma_list[i]\n",
        "\n",
        "bulge_gaussian_list += gaussian_list\n",
        "\n",
        "source_bulge = af.Model(\n",
        "    al.lp_basis.Basis,\n",
        "    profile_list=bulge_gaussian_list,\n",
        ")"
      ],
      "outputs": [],
      "execution_count": null
    },
    {
      "cell_type": "markdown",
      "metadata": {},
      "source": [
        "We now compose the overall model which uses both sets of Gaussians to represent separately the lens and source.\n",
        "\n",
        "The overall dimensionality of non-linear parameter space is just N=13, which is fairly remarkable if you\n",
        "think about just how complex the structures are that a `Basis` of Gaussians can capture!"
      ]
    },
    {
      "cell_type": "code",
      "metadata": {},
      "source": [
        "lens = af.Model(al.Galaxy, redshift=0.5, bulge=bulge, mass=af.Model(al.mp.Isothermal))\n",
        "source = af.Model(al.Galaxy, redshift=1.0, bulge=source_bulge)\n",
        "\n",
        "model = af.Collection(galaxies=af.Collection(lens=lens, source=source))"
      ],
      "outputs": [],
      "execution_count": null
    },
    {
      "cell_type": "markdown",
      "metadata": {},
      "source": [
        "The `info` attribute shows the model, which is a lot longer than we have seen previously, given that is \n",
        "composed of 20 Gaussians in total!"
      ]
    },
    {
      "cell_type": "code",
      "metadata": {},
      "source": [
        "print(model.info)"
      ],
      "outputs": [],
      "execution_count": null
    },
    {
      "cell_type": "markdown",
      "metadata": {},
      "source": [
        "We now fit the model."
      ]
    },
    {
      "cell_type": "code",
      "metadata": {},
      "source": [
        "search = af.Nautilus(\n",
        "    path_prefix=path.join(\"howtolens\", \"chapter_2\"),\n",
        "    name=\"tutorial_5_basis\",\n",
        "    unique_tag=dataset_name,\n",
        "    n_live=100,\n",
        "    number_of_cores=4,\n",
        ")\n",
        "\n",
        "print(\n",
        "    \"The non-linear search has begun running - checkout the workspace/output/howtolens/chapter_2/tutorial_5_basis\"\n",
        "    \" folder for live output of the results, images and model.\"\n",
        "    \" This Jupyter notebook cell with progress once search has completed - this could take some time!\"\n",
        ")\n",
        "\n",
        "result_basis = search.fit(model=model, analysis=analysis)"
      ],
      "outputs": [],
      "execution_count": null
    },
    {
      "cell_type": "markdown",
      "metadata": {},
      "source": [
        "__Result__\n",
        "\n",
        "The result `info` attribute shows the result, which is again longer than usual given the large number of Gaussians\n",
        "used in the fit."
      ]
    },
    {
      "cell_type": "code",
      "metadata": {},
      "source": [
        "print(result_basis.info)"
      ],
      "outputs": [],
      "execution_count": null
    },
    {
      "cell_type": "markdown",
      "metadata": {},
      "source": [
        "Visualizing the fit shows that we successfully fit the data to the noise level.\n",
        "\n",
        "Note that the result objects `max_log_likelihood_tracer` and `max_log_likelihood_fit` automatically convert\n",
        "all linear light profiles to ordinary light profiles, including every single one of the 20 Gaussians fitted\n",
        "above. \n",
        "\n",
        "This means we can use them directly to perform the visualization below."
      ]
    },
    {
      "cell_type": "code",
      "metadata": {},
      "source": [
        "print(result_basis.max_log_likelihood_instance)\n",
        "\n",
        "tracer_plotter = aplt.TracerPlotter(\n",
        "    tracer=result_basis.max_log_likelihood_tracer, grid=result_basis.grids.uniform\n",
        ")\n",
        "tracer_plotter.subplot()\n",
        "\n",
        "fit_plotter = aplt.FitImagingPlotter(fit=result_basis.max_log_likelihood_fit)\n",
        "fit_plotter.subplot_fit()"
      ],
      "outputs": [],
      "execution_count": null
    },
    {
      "cell_type": "markdown",
      "metadata": {},
      "source": [
        "__Multi Gaussian Expansion Benefits__\n",
        "\n",
        "Fitting a galaxy's light with a superposition of Gaussians is called a Multi-Gaussian Expansion (MGE). It is a\n",
        "is a powerful tool for modeling the light of galaxies, and offers a compelling method to fit complex light profiles \n",
        "with a small number of parameters\n",
        "\n",
        "Symmetric light profiles (e.g. elliptical Sersics) may leave significant residuals, because they fail to capture \n",
        "irregular and asymmetric morphological of galaxies (e.g. isophotal twists, an ellipticity which varies radially). \n",
        "An MGE fully captures these features and can therefore much better represent the emission of complex lens galaxies.\n",
        "\n",
        "As seen above, the MGE model can be composed in a way that has fewer non-linear parameters than an elliptical Sersic. \n",
        "In this example, 30 Gaussians were used to represent the `bulge` of the lens, which in total correspond to just N=4 \n",
        "non-linear parameters (a `bulge` and `disk` comprising two linear Sersics has N=10 parameters). The source dimensionality\n",
        "was also just N=4.\n",
        "\n",
        "The MGE model parameterization is also composed such that neither the `intensity` parameters or any of the\n",
        "parameters controlling the size of the Gaussians (their `sigma` values) are non-linear parameters sampled by Nautilus.\n",
        "This removes the most significant degeneracies in parameter space, making the model much more reliable and efficient\n",
        "to fit.\n",
        "\n",
        "Therefore, not only does an MGE fit more complex galaxy morphologies, it does so using fewer non-linear parameters\n",
        "in a much simpler non-linear parameter space which has far less significant parameter degeneracies!\n",
        "\n",
        "We strongly recommend that you adopt an MGE in your own lens modeling pipelines from here on. The script \n",
        "`autolens_workspace/*/modeling/imaging/features/multi_gaussian_expansion.py` gives examples on fitting even more complex\n",
        "MGE models, where for example the Gaussians have different axis-ratios and position angles.\n",
        "\n",
        "__Disadvantage of Basis Functions__\n",
        "\n",
        "For many science cases, the MGE can also be a less intuitive model to interpret than a Sersic profile. For example,\n",
        "it is straight forward to understand how the effective radius of a Sersic profile relates to a galaxy's size,\n",
        "or the serisc index relates to its concentration. The results of an MGE are less intuitive, and require more\n",
        "thought to interpret physically.\n",
        "\n",
        "__Positive Only Solver__\n",
        "\n",
        "Many codes which use linear algebra typically rely on a linear algabra solver which allows for positive and negative\n",
        "values of the solution (e.g. `np.linalg.solve`), because they are computationally fast. \n",
        "\n",
        "This is problematic, as it means that negative surface brightnesses values can be computed to represent a galaxy's \n",
        "light, which is clearly unphysical. For an MGE, this produces a positive-negative \"ringing\", where the\n",
        "Gaussians alternate between large positive and negative values. This is clearly undesirable and unphysical.\n",
        "\n",
        "**PyAutoLens** (and therefore all examples above) uses a positive only linear algebra solver which has been \n",
        "extensively optimized to ensure it is as fast as positive-negative solvers. This ensures that all light profile \n",
        "intensities are positive and therefore physical. \n",
        "\n",
        "__Other Basis Functions__\n",
        "\n",
        "In addition to the Gaussians used in this example, there is another basis function implemented in PyAutoLens \n",
        "that is commonly used to represent the light of galaxies, called a `Shapelet`. \n",
        "\n",
        "Shapelets are basis functions with analytic properties that are appropriate for capturing the  exponential / disk-like \n",
        "features of a galaxy. They do so over a wide range of scales, and can often represent  features in source galaxies \n",
        "that a single Sersic function or MGE cannot.\n",
        "\n",
        "An example using shapelets is given at `autolens_workspace/scripts/modeling/imaging/features/shapelets.py`.\n",
        " \n",
        "Feel free to experiment with using shapelets as the source galaxy by yourself. However they incur higher computational \n",
        "overheads than the MGE and include a free parameter which governs the size of the basis functions and therefore source,\n",
        "slowing down convergence of the non-linear search. We have found that MGEs perform better than shapelets in most \n",
        "lens modeling problems. \n",
        "\n",
        "If you have a desire to fit sources with even more complex morphologies we recommend you look at how to reconstruct \n",
        "sources using pixelizations in the `modeling/features` section or  chapter 4 of **HowToLens**.\n",
        " \n",
        "__Wrap Up__\n",
        "\n",
        "In this tutorial we described how linearizing light profiles allows us to fit more complex light profiles to\n",
        "galaxies using fewer non-linear parameters, keeping the fit performed by the non-linear search fast, accurate\n",
        "and robust.\n",
        "\n",
        "Perhaps the biggest downside to basis functions is that they are only as good as the features they can capture\n",
        "in the data. For example, a basis of Gaussians still assumes that they have a well defined centre, but there are\n",
        "galaxies which may have multiple components with multiple centres (e.g. many star forming knots) which such a \n",
        "basis cannot capture.\n",
        "\n",
        "In chapter 4 of **HowToLens** we introduce non-parametric pixelizations, which reconstruct the data in way\n",
        "that does not make assumptions like a centre and can thus reconstruct even more complex, asymmetric and irregular\n",
        "galaxy morphologies."
      ]
    },
    {
      "cell_type": "code",
      "metadata": {},
      "source": [],
      "outputs": [],
      "execution_count": null
    }
  ],
  "metadata": {
    "anaconda-cloud": {},
    "kernelspec": {
      "display_name": "Python 3",
      "language": "python",
      "name": "python3"
    },
    "language_info": {
      "codemirror_mode": {
        "name": "ipython",
        "version": 3
      },
      "file_extension": ".py",
      "mimetype": "text/x-python",
      "name": "python",
      "nbconvert_exporter": "python",
      "pygments_lexer": "ipython3",
      "version": "3.6.1"
    }
  },
  "nbformat": 4,
  "nbformat_minor": 4
}