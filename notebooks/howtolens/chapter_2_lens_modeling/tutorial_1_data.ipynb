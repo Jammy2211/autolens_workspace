{
  "cells": [
    {
      "cell_type": "markdown",
      "metadata": {},
      "source": [
        "Tutorial 7: Data\n",
        "================\n",
        "\n",
        "Up to now, all of the image's we've created have come from light profiles.\n",
        "\n",
        "Other than the actual light that profile emits there is no other effects in the images of that light profile. This\n",
        "contrasts real data of a strong lens, where there are lots of other effects in our strong lens imagimg (noise,\n",
        "diffraction due to the telescope optics, etc.).\n",
        "\n",
        "In this example, we use **PyAutoLens** to simulate Hubble Space Telescope (HST) imaging of a strong lens, where the\n",
        "strong lens image is made via a tracer. By simulate, we mean that this image will contain these effects that are\n",
        "present in real data."
      ]
    },
    {
      "cell_type": "code",
      "metadata": {},
      "source": [
        "%matplotlib inline\n",
        "from pyprojroot import here\n",
        "workspace_path = str(here())\n",
        "%cd $workspace_path\n",
        "print(f\"Working Directory has been set to `{workspace_path}`\")\n",
        "\n",
        "from os import path\n",
        "import autolens as al\n",
        "import autolens.plot as aplt"
      ],
      "outputs": [],
      "execution_count": null
    },
    {
      "cell_type": "markdown",
      "metadata": {},
      "source": [
        "__Initial Setup__\n",
        "\n",
        "We'll need a 2D grid to make the strong lens image we'll ultimately simulate as if it was observed with HST."
      ]
    },
    {
      "cell_type": "code",
      "metadata": {},
      "source": [
        "grid = al.Grid2D.uniform(shape_native=(100, 100), pixel_scales=0.1)"
      ],
      "outputs": [],
      "execution_count": null
    },
    {
      "cell_type": "markdown",
      "metadata": {},
      "source": [
        "Now, lets setup our lens galaxy, source galaxy and tracer."
      ]
    },
    {
      "cell_type": "code",
      "metadata": {},
      "source": [
        "lens_galaxy = al.Galaxy(\n",
        "    redshift=0.5,\n",
        "    mass=al.mp.Isothermal(\n",
        "        centre=(0.0, 0.0), einstein_radius=1.6, ell_comps=(0.17647, 0.0)\n",
        "    ),\n",
        ")\n",
        "\n",
        "source_galaxy = al.Galaxy(\n",
        "    redshift=1.0,\n",
        "    bulge=al.lp.Sersic(\n",
        "        centre=(0.1, 0.1),\n",
        "        ell_comps=(0.0, 0.111111),\n",
        "        intensity=1.0,\n",
        "        effective_radius=1.0,\n",
        "        sersic_index=2.5,\n",
        "    ),\n",
        ")\n",
        "\n",
        "tracer = al.Tracer(galaxies=[lens_galaxy, source_galaxy])"
      ],
      "outputs": [],
      "execution_count": null
    },
    {
      "cell_type": "markdown",
      "metadata": {},
      "source": [
        "Lets look at the tracer's image, which is the image we'll be simulating."
      ]
    },
    {
      "cell_type": "code",
      "metadata": {},
      "source": [
        "tracer_plotter = aplt.TracerPlotter(tracer=tracer, grid=grid)\n",
        "tracer_plotter.figures_2d(image=True)"
      ],
      "outputs": [],
      "execution_count": null
    },
    {
      "cell_type": "markdown",
      "metadata": {},
      "source": [
        "__Simulations__\n",
        "\n",
        "To simulate an image, we need to model how the light is diffracted as it enters the telescope's optics. \n",
        "\n",
        "We do this using a two dimensional convolution, where a blurring kernel is used to mimic the effect of distraction. In\n",
        "Astronomy, the kernel representing blurring in a telescope is called the 'Point-Spread Function' (PSF) and it is \n",
        "represented using a `Kernel2D` object, which in this example is a 2D Gaussian."
      ]
    },
    {
      "cell_type": "code",
      "metadata": {},
      "source": [
        "psf = al.Kernel2D.from_gaussian(\n",
        "    shape_native=(11, 11), sigma=0.1, pixel_scales=grid.pixel_scales\n",
        ")"
      ],
      "outputs": [],
      "execution_count": null
    },
    {
      "cell_type": "markdown",
      "metadata": {},
      "source": [
        "The simulation does not use tracer's image plotted above. Instead, we use a slightly different image which is padded \n",
        "with zeros around its edge, based on the shape of the PSF that we will convolve the image with. This ensures \n",
        "edge-effects do not degrade our simulation`s PSF convolution."
      ]
    },
    {
      "cell_type": "code",
      "metadata": {},
      "source": [
        "normal_image_2d = tracer.image_2d_from(grid=grid)\n",
        "padded_image_2d = tracer.padded_image_2d_from(grid=grid, psf_shape_2d=psf.shape_native)\n",
        "\n",
        "print(normal_image_2d.shape_native)\n",
        "print(padded_image_2d.shape_native)"
      ],
      "outputs": [],
      "execution_count": null
    },
    {
      "cell_type": "markdown",
      "metadata": {},
      "source": [
        "To simulate imaging data we create a `SimulatorImaging` object, which represents all of the effects that occur when\n",
        "imaging data is accquired in a telescope, including:\n",
        "\n",
        " 1) Diffraction due to the telescope optics: this uses the Point Spread Function defined above.\n",
        " \n",
        " 2) The Background Sky: this is background light from the Universe that is observed in addition to the strong lens's \n",
        " light (the image that is returned has this background sky subtracted, so it simply acts as a source of noise).\n",
        " \n",
        " 3) Poisson noise: The number of counts observed in each pixel of the HST imaging detector is a random process \n",
        " described by Poisson count statistics. Thus, Poisson noise is included due to the background sky and galaxy \n",
        " and source galaxy emission.\n",
        " \n",
        "We pass the tracer and grid to the simulator to create the image of the strong lens and add the above effects to it."
      ]
    },
    {
      "cell_type": "code",
      "metadata": {},
      "source": [
        "simulator = al.SimulatorImaging(\n",
        "    exposure_time=300.0, psf=psf, background_sky_level=0.1, add_poisson_noise=True\n",
        ")\n",
        "\n",
        "dataset = simulator.via_tracer_from(tracer=tracer, grid=grid)"
      ],
      "outputs": [],
      "execution_count": null
    },
    {
      "cell_type": "markdown",
      "metadata": {},
      "source": [
        "By plotting the image, we can see it has been blurred due to the telescope optics and that noise has been added."
      ]
    },
    {
      "cell_type": "code",
      "metadata": {},
      "source": [
        "dataset_plotter = aplt.ImagingPlotter(dataset=dataset)\n",
        "dataset_plotter.figures_2d(data=True)"
      ],
      "outputs": [],
      "execution_count": null
    },
    {
      "cell_type": "markdown",
      "metadata": {},
      "source": [
        "__Output__\n",
        "\n",
        "We'll finally output these files to `.fits` files, which is the data storage format used by Astronomers to store\n",
        "images. Pretty much all data from telescope like HST comes in `.fits` format, and **PyAutoLens** has built-in tools \n",
        "for manipulating `.fits` files.\n",
        "\n",
        "The `dataset_path` specifies where the data is output, this time in the directory \n",
        "`autolens_workspace/dataset/imaging/howtolens/`, which contains many example images of strong lens \n",
        "distributed with the`autolens_workspace`."
      ]
    },
    {
      "cell_type": "code",
      "metadata": {},
      "source": [
        "dataset_path = path.join(\"dataset\", \"imaging\", \"howtolens\")\n",
        "print(\"Dataset Path: \", dataset_path)"
      ],
      "outputs": [],
      "execution_count": null
    },
    {
      "cell_type": "markdown",
      "metadata": {},
      "source": [
        "Finally, output our simulated data to hard-disk. In the next tutorial we'll load our simulated imaging data from \n",
        "these `.fits` files and begin to analyse them!"
      ]
    },
    {
      "cell_type": "code",
      "metadata": {},
      "source": [
        "dataset.output_to_fits(\n",
        "    data_path=path.join(dataset_path, \"data.fits\"),\n",
        "    noise_map_path=path.join(dataset_path, \"noise_map.fits\"),\n",
        "    psf_path=path.join(dataset_path, \"psf.fits\"),\n",
        "    overwrite=True,\n",
        ")"
      ],
      "outputs": [],
      "execution_count": null
    },
    {
      "cell_type": "markdown",
      "metadata": {},
      "source": [
        "Finish."
      ]
    },
    {
      "cell_type": "code",
      "metadata": {},
      "source": [],
      "outputs": [],
      "execution_count": null
    }
  ],
  "metadata": {
    "anaconda-cloud": {},
    "kernelspec": {
      "display_name": "Python 3",
      "language": "python",
      "name": "python3"
    },
    "language_info": {
      "codemirror_mode": {
        "name": "ipython",
        "version": 3
      },
      "file_extension": ".py",
      "mimetype": "text/x-python",
      "name": "python",
      "nbconvert_exporter": "python",
      "pygments_lexer": "ipython3",
      "version": "3.6.1"
    }
  },
  "nbformat": 4,
  "nbformat_minor": 4
}