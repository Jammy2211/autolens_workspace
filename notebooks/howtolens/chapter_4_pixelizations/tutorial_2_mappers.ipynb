{
  "cells": [
    {
      "cell_type": "markdown",
      "metadata": {},
      "source": [
        "Tutorial 2: Mappers\n",
        "===================\n",
        "\n",
        "In the previous tutorial, we used a pixelization to create made a `Mapper`. However, it was not clear what a `Mapper`\n",
        "does, why it was called a mapper and whether it was mapping anything at all!\n",
        "\n",
        "Therefore, in this tutorial, we'll cover mappers in more detail."
      ]
    },
    {
      "cell_type": "code",
      "metadata": {},
      "source": [
        "%matplotlib inline\n",
        "from pyprojroot import here\n",
        "workspace_path = str(here())\n",
        "%cd $workspace_path\n",
        "print(f\"Working Directory has been set to `{workspace_path}`\")\n",
        "\n",
        "from os import path\n",
        "import autolens as al\n",
        "import autolens.plot as aplt"
      ],
      "outputs": [],
      "execution_count": null
    },
    {
      "cell_type": "markdown",
      "metadata": {},
      "source": [
        "__Initial Setup__\n",
        "\n",
        "we'll use new strong lensing data, where:\n",
        "\n",
        " - The lens galaxy's light is omitted.\n",
        " - The lens galaxy's total mass distribution is an `Isothermal` and `ExternalShear`.\n",
        " - The source galaxy's light is an `Sersic`."
      ]
    },
    {
      "cell_type": "code",
      "metadata": {},
      "source": [
        "dataset_name = \"simple__no_lens_light\"\n",
        "dataset_path = path.join(\"dataset\", \"imaging\", dataset_name)\n",
        "\n",
        "dataset = al.Imaging.from_fits(\n",
        "    data_path=path.join(dataset_path, \"data.fits\"),\n",
        "    noise_map_path=path.join(dataset_path, \"noise_map.fits\"),\n",
        "    psf_path=path.join(dataset_path, \"psf.fits\"),\n",
        "    pixel_scales=0.1,\n",
        ")"
      ],
      "outputs": [],
      "execution_count": null
    },
    {
      "cell_type": "markdown",
      "metadata": {},
      "source": [
        "Now, lets set up our `Grid2D` (using the image above)."
      ]
    },
    {
      "cell_type": "code",
      "metadata": {},
      "source": [
        "grid = al.Grid2D.uniform(\n",
        "    shape_native=dataset.shape_native, pixel_scales=dataset.pixel_scales\n",
        ")"
      ],
      "outputs": [],
      "execution_count": null
    },
    {
      "cell_type": "markdown",
      "metadata": {},
      "source": [
        "Our `Tracer` will use the same lens galaxy and source galaxy that we used to Simulate the imaging data (although, \n",
        "becuase we're modeling the source with a pixel-grid, we do not pass it any light profiles."
      ]
    },
    {
      "cell_type": "code",
      "metadata": {},
      "source": [
        "lens_galaxy = al.Galaxy(\n",
        "    redshift=0.5,\n",
        "    mass=al.mp.Isothermal(\n",
        "        centre=(0.0, 0.0),\n",
        "        einstein_radius=1.6,\n",
        "        ell_comps=al.convert.ell_comps_from(axis_ratio=0.9, angle=45.0),\n",
        "    ),\n",
        "    shear=al.mp.ExternalShear(gamma_1=0.05, gamma_2=0.05),\n",
        ")\n",
        "\n",
        "tracer = al.Tracer(galaxies=[lens_galaxy, al.Galaxy(redshift=1.0)])\n",
        "\n",
        "source_plane_grid = tracer.traced_grid_2d_list_from(grid=grid)[1]"
      ],
      "outputs": [],
      "execution_count": null
    },
    {
      "cell_type": "markdown",
      "metadata": {},
      "source": [
        "__Mappers__\n",
        "\n",
        "We now setup a `Pixelization` and use it to create a `Mapper` via the tracer`s source-plane grid, just like we did in\n",
        "the previous tutorial."
      ]
    },
    {
      "cell_type": "code",
      "metadata": {},
      "source": [
        "mesh = al.mesh.Rectangular(shape=(25, 25))\n",
        "\n",
        "pixelization = al.Pixelization(mesh=mesh)\n",
        "\n",
        "mapper_grids = pixelization.mapper_grids_from(\n",
        "    mask=grid.mask,\n",
        "    source_plane_data_grid=dataset.grids.pixelization.over_sampler.over_sampled_grid,\n",
        ")\n",
        "\n",
        "mapper = al.Mapper(\n",
        "    mapper_grids=mapper_grids,\n",
        "    over_sampler=dataset.grids.over_sampler_pixelization,\n",
        "    regularization=None,\n",
        ")"
      ],
      "outputs": [],
      "execution_count": null
    },
    {
      "cell_type": "markdown",
      "metadata": {},
      "source": [
        "We now plot the `Mapper` alongside the image we used to generate the source-plane grid.\n",
        "\n",
        "Using the `Visuals2D` object we are also going to highlight specific grid coordinates certain colors, such that we\n",
        "can see how they map from the image-plane to source-plane and visa versa."
      ]
    },
    {
      "cell_type": "code",
      "metadata": {},
      "source": [
        "visuals = aplt.Visuals2D(\n",
        "    indexes=[\n",
        "        [0, 1, 2, 3, 4, 5, 6, 7, 8, 9],\n",
        "        [100, 200, 300, 400, 500, 600, 700, 800, 900, 1000],\n",
        "    ]\n",
        ")\n",
        "include = aplt.Include2D(mapper_source_plane_data_grid=True)\n",
        "\n",
        "mapper_plotter = aplt.MapperPlotter(\n",
        "    mapper=mapper, visuals_2d=visuals, include_2d=include\n",
        ")\n",
        "mapper_plotter.subplot_image_and_mapper(image=dataset.data)"
      ],
      "outputs": [],
      "execution_count": null
    },
    {
      "cell_type": "markdown",
      "metadata": {},
      "source": [
        "Using a mapper, we can now make these mappings appear the other way round. That is, we can input a source-pixel\n",
        "index (of our rectangular grid) and highlight how all of the image-pixels that it contains map to the image-plane. \n",
        "\n",
        "Lets map source pixel 313, the central source-pixel, to the image."
      ]
    },
    {
      "cell_type": "code",
      "metadata": {},
      "source": [
        "visuals = aplt.Visuals2D(pix_indexes=[[312]])\n",
        "mapper_plotter = aplt.MapperPlotter(\n",
        "    mapper=mapper, visuals_2d=visuals, include_2d=include\n",
        ")\n",
        "\n",
        "mapper_plotter.subplot_image_and_mapper(image=dataset.data)"
      ],
      "outputs": [],
      "execution_count": null
    },
    {
      "cell_type": "markdown",
      "metadata": {},
      "source": [
        "There we have it, multiple imaging in all its glory. Try changing the source-pixel indexes of the line below. This \n",
        "will give you a feel for how different regions of the source-plane map to the image."
      ]
    },
    {
      "cell_type": "code",
      "metadata": {},
      "source": [
        "visuals = aplt.Visuals2D(pix_indexes=[[312, 318], [412]])\n",
        "mapper_plotter = aplt.MapperPlotter(\n",
        "    mapper=mapper, visuals_2d=visuals, include_2d=include\n",
        ")\n",
        "\n",
        "mapper_plotter.subplot_image_and_mapper(image=dataset.data)"
      ],
      "outputs": [],
      "execution_count": null
    },
    {
      "cell_type": "markdown",
      "metadata": {},
      "source": [
        "Okay, so I think we can agree, mapper's map things! More specifically, they map source-plane pixels to multiple pixels \n",
        "in the observed image of a strong lens.\n",
        "\n",
        "__Mask__\n",
        "\n",
        "Finally, lets repeat the steps that we performed above, but now using a masked image. By applying a `Mask2D`, the \n",
        "mapper only maps image-pixels that are not removed by the mask. This removes the (many) image pixels at the edge of the \n",
        "image, where the source is not present. These pixels also pad-out the source-plane, thus by removing them our \n",
        "source-plane reduces in size.\n",
        "\n",
        "Lets just have a quick look at these edges pixels:"
      ]
    },
    {
      "cell_type": "code",
      "metadata": {},
      "source": [
        "visuals = aplt.Visuals2D(\n",
        "    pix_indexes=[[0, 1, 2, 3, 4, 5, 6, 7], [620, 621, 622, 623, 624]]\n",
        ")\n",
        "mapper_plotter = aplt.MapperPlotter(\n",
        "    mapper=mapper, visuals_2d=visuals, include_2d=include\n",
        ")\n",
        "\n",
        "mapper_plotter.subplot_image_and_mapper(image=dataset.data)"
      ],
      "outputs": [],
      "execution_count": null
    },
    {
      "cell_type": "markdown",
      "metadata": {},
      "source": [
        "Lets use an annular `Mask2D`, which will capture the ring-like shape of the lensed source galaxy."
      ]
    },
    {
      "cell_type": "code",
      "metadata": {},
      "source": [
        "mask = al.Mask2D.circular_annular(\n",
        "    shape_native=dataset.shape_native,\n",
        "    pixel_scales=dataset.pixel_scales,\n",
        "    inner_radius=1.0,\n",
        "    outer_radius=2.2,\n",
        ")\n",
        "\n",
        "dataset = dataset.apply_mask(mask=mask)\n",
        "dataset_plotter = aplt.ImagingPlotter(dataset=dataset, visuals_2d=visuals)\n",
        "dataset_plotter.figures_2d(data=True)"
      ],
      "outputs": [],
      "execution_count": null
    },
    {
      "cell_type": "markdown",
      "metadata": {},
      "source": [
        "To create the mapper, we need to set up the masked imaging's grid as the source-plane gird via the tracer."
      ]
    },
    {
      "cell_type": "code",
      "metadata": {},
      "source": [
        "tracer = al.Tracer(galaxies=[lens_galaxy, al.Galaxy(redshift=1.0)])\n",
        "\n",
        "source_plane_grid = tracer.traced_grid_2d_list_from(\n",
        "    grid=dataset.grids.pixelization.over_sampler.over_sampled_grid\n",
        ")[1]"
      ],
      "outputs": [],
      "execution_count": null
    },
    {
      "cell_type": "markdown",
      "metadata": {},
      "source": [
        "We can now use the masked source-plane grid to create a new `Mapper` (using the same rectangular 25 x 25 pixelization \n",
        "as before)."
      ]
    },
    {
      "cell_type": "code",
      "metadata": {},
      "source": [
        "mapper_grids = mesh.mapper_grids_from(\n",
        "    mask=grid.mask, source_plane_data_grid=source_plane_grid\n",
        ")\n",
        "\n",
        "mapper = al.Mapper(\n",
        "    mapper_grids=mapper_grids,\n",
        "    over_sampler=dataset.grids.over_sampler_pixelization,\n",
        "    regularization=None,\n",
        ")"
      ],
      "outputs": [],
      "execution_count": null
    },
    {
      "cell_type": "markdown",
      "metadata": {},
      "source": [
        "Lets plot it."
      ]
    },
    {
      "cell_type": "code",
      "metadata": {},
      "source": [
        "include = aplt.Include2D(mask=True, mapper_source_plane_data_grid=True)\n",
        "\n",
        "mapper_plotter = aplt.MapperPlotter(mapper=mapper, include_2d=include)\n",
        "mapper_plotter.subplot_image_and_mapper(image=dataset.data)"
      ],
      "outputs": [],
      "execution_count": null
    },
    {
      "cell_type": "markdown",
      "metadata": {},
      "source": [
        "First, look how much closer we are to the source-plane (The axis sizes have decreased from ~ -2.5\" -> 2.5\" to \n",
        "~ -0.6\" to 0.6\"). We can more clearly see the diamond of points in the centre of the source-plane (for those who have \n",
        "been reading up, this diamond is called the `caustic`)."
      ]
    },
    {
      "cell_type": "code",
      "metadata": {},
      "source": [
        "visuals = aplt.Visuals2D(pix_indexes=[[312], [314], [316], [318]])\n",
        "mapper_plotter = aplt.MapperPlotter(\n",
        "    mapper=mapper, visuals_2d=visuals, include_2d=include\n",
        ")\n",
        "\n",
        "mapper_plotter.subplot_image_and_mapper(image=dataset.data)"
      ],
      "outputs": [],
      "execution_count": null
    },
    {
      "cell_type": "markdown",
      "metadata": {},
      "source": [
        "__Wrap Up__\n",
        "\n",
        "In this tutorial, we learnt about mappers, and we used them to understand how the image and source plane map to one \n",
        "another. Your exercises are:\n",
        "\n",
        " 1) Change the einstein radius of the lens galaxy in small increments (e.g. einstein radius 1.6\" -> 1.55\"). As the \n",
        " radius deviates from 1.6\" (the input value of the simulated lens), what do you notice about where the points map \n",
        " from the centre of the source-plane (where the source-galaxy is simulated, e.g. (0.0\", 0.0\"))?\n",
        "        \n",
        " 2) Think about how this could help us actually model lenses. We have said we're going to reconstruct our source \n",
        " galaxies on the pixel-grid. So, how does knowing how each pixel maps to the image actually help us? If you`ve not got \n",
        " any bright ideas, then worry not, that exactly what we're going to cover in the next tutorial."
      ]
    },
    {
      "cell_type": "code",
      "metadata": {},
      "source": [],
      "outputs": [],
      "execution_count": null
    }
  ],
  "metadata": {
    "anaconda-cloud": {},
    "kernelspec": {
      "display_name": "Python 3",
      "language": "python",
      "name": "python3"
    },
    "language_info": {
      "codemirror_mode": {
        "name": "ipython",
        "version": 3
      },
      "file_extension": ".py",
      "mimetype": "text/x-python",
      "name": "python",
      "nbconvert_exporter": "python",
      "pygments_lexer": "ipython3",
      "version": "3.6.1"
    }
  },
  "nbformat": 4,
  "nbformat_minor": 4
}