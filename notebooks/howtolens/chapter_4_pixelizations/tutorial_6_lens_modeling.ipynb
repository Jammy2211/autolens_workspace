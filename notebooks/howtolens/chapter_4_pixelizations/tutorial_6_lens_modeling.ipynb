{
  "cells": [
    {
      "cell_type": "markdown",
      "metadata": {},
      "source": [
        "Tutorial 6: Lens Modeling\n",
        "=========================\n",
        "\n",
        "When modeling complex source's with parametric profiles, we quickly entered a regime where our non-linear search was\n",
        "faced with a parameter space of dimensionality N=20+ parameters. This made the model-fitting inefficient and likely to\n",
        "infer a local maxima.\n",
        "\n",
        "Inversions do not suffer this problem, meaning they are a very a powerful tool for modeling strong lenses. Furthermore,\n",
        "they have *more* freemdom than parametric light profiles because they do not relying on specific analytic light\n",
        "distributions and a symmetric profile shape. This will allow us to fit more complex mass models and ask ever more\n",
        "interesting scientific questions!\n",
        "\n",
        "However, inversion do have some short comings that we need to be aware of before we use them for lens modeling. That`s\n",
        "what we cover in this tutorial."
      ]
    },
    {
      "cell_type": "code",
      "metadata": {},
      "source": [
        "%matplotlib inline\n",
        "from pyprojroot import here\n",
        "workspace_path = str(here())\n",
        "%cd $workspace_path\n",
        "print(f\"Working Directory has been set to `{workspace_path}`\")\n",
        "\n",
        "from os import path\n",
        "import autolens as al\n",
        "import autolens.plot as aplt"
      ],
      "outputs": [],
      "execution_count": null
    },
    {
      "cell_type": "markdown",
      "metadata": {},
      "source": [
        "__Initial Setup__\n",
        "\n",
        "We'll use the same strong lensing data as the previous tutorial, where:\n",
        "\n",
        " - The lens galaxy's light is omitted.\n",
        " - The lens galaxy's total mass distribution is an `Isothermal` and `ExternalShear`.\n",
        " - The source galaxy's light is an `Sersic`."
      ]
    },
    {
      "cell_type": "code",
      "metadata": {},
      "source": [
        "dataset_name = \"simple__no_lens_light\"\n",
        "dataset_path = path.join(\"dataset\", \"imaging\", dataset_name)\n",
        "\n",
        "dataset = al.Imaging.from_fits(\n",
        "    data_path=path.join(dataset_path, \"data.fits\"),\n",
        "    noise_map_path=path.join(dataset_path, \"noise_map.fits\"),\n",
        "    psf_path=path.join(dataset_path, \"psf.fits\"),\n",
        "    pixel_scales=0.1,\n",
        ")\n",
        "\n",
        "mask = al.Mask2D.circular(\n",
        "    shape_native=dataset.shape_native,\n",
        "    pixel_scales=dataset.pixel_scales,\n",
        "    radius=2.5,\n",
        ")\n",
        "\n",
        "dataset_plotter = aplt.ImagingPlotter(\n",
        "    dataset=dataset, visuals_2d=aplt.Visuals2D(mask=mask)\n",
        ")\n",
        "dataset_plotter.subplot_dataset()"
      ],
      "outputs": [],
      "execution_count": null
    },
    {
      "cell_type": "markdown",
      "metadata": {},
      "source": [
        "This function fits the imaging data with a tracer, returning a `FitImaging` object."
      ]
    },
    {
      "cell_type": "code",
      "metadata": {},
      "source": [
        "\n",
        "\n",
        "def perform_fit_with_lens__source_galaxy(dataset, lens_galaxy, source_galaxy):\n",
        "    mask = al.Mask2D.circular_annular(\n",
        "        shape_native=dataset.shape_native,\n",
        "        pixel_scales=dataset.pixel_scales,\n",
        "        inner_radius=0.5,\n",
        "        outer_radius=2.2,\n",
        "    )\n",
        "\n",
        "    dataset = dataset.apply_mask(mask=mask)\n",
        "\n",
        "    tracer = al.Tracer(galaxies=[lens_galaxy, source_galaxy])\n",
        "\n",
        "    return al.FitImaging(dataset=dataset, tracer=tracer)\n"
      ],
      "outputs": [],
      "execution_count": null
    },
    {
      "cell_type": "markdown",
      "metadata": {},
      "source": [
        "__Unphysical Solutions__\n",
        "\n",
        "The code below illustrates a systematic set of solutions called demagnified solutions, which negatively impact\n",
        "lens modeling using source pixelizations.\n",
        "\n",
        "Since writing the code below, I have wrote a full readthedocs page illustrating the issue, which is linked too below.\n",
        "I recommend you read this page first, to understand what a demagnified solution is, why its a problem and how we\n",
        "fix it. The code below should then build on this.\n",
        "\n",
        " https://pyautolens.readthedocs.io/en/latest/general/demagnified_solutions.html\n",
        "\n",
        "__Brief Description__\n",
        "\n",
        "To see the short-comings of an inversion, we begin by performing a fit where the lens galaxy has an incorrect \n",
        "mass-model (I've reduced its Einstein Radius from 1.6 to 0.8). This is a mass model the non-linear search may sample at \n",
        "the beginning of a model-fit."
      ]
    },
    {
      "cell_type": "code",
      "metadata": {},
      "source": [
        "lens_galaxy = al.Galaxy(\n",
        "    redshift=0.5,\n",
        "    mass=al.mp.Isothermal(\n",
        "        centre=(0.0, 0.0),\n",
        "        einstein_radius=0.8,\n",
        "        ell_comps=al.convert.ell_comps_from(axis_ratio=0.9, angle=45.0),\n",
        "    ),\n",
        "    shear=al.mp.ExternalShear(gamma_1=0.05, gamma_2=0.05),\n",
        ")\n",
        "\n",
        "pixelization = al.Pixelization(\n",
        "    mesh=al.mesh.Rectangular(shape=(20, 20)),\n",
        "    regularization=al.reg.Constant(coefficient=1.0),\n",
        ")\n",
        "\n",
        "source_galaxy = al.Galaxy(redshift=1.0, pixelization=pixelization)\n",
        "\n",
        "fit = perform_fit_with_lens__source_galaxy(\n",
        "    dataset=dataset, lens_galaxy=lens_galaxy, source_galaxy=source_galaxy\n",
        ")\n",
        "\n",
        "include = aplt.Include2D(mask=True)\n",
        "\n",
        "fit_plotter = aplt.FitImagingPlotter(fit=fit, include_2d=include)\n",
        "fit_plotter.subplot_fit()\n",
        "fit_plotter.subplot_of_planes(plane_index=1)"
      ],
      "outputs": [],
      "execution_count": null
    },
    {
      "cell_type": "markdown",
      "metadata": {},
      "source": [
        "What happened!? This incorrect mass-model provides a really good fit to the image! The residuals and chi-squared-map \n",
        "are as good as the ones we saw in the previous tutorials.\n",
        "\n",
        "How can an incorrect lens model provide such a fit? Well, as I'm sure you noticed, the source has been reconstructed \n",
        "as a demagnified version of the image. Clearly, this is not a physical solution or a solution that we want our \n",
        "non-linear search to find, but for inversion's the reality is these solutions eixst.\n",
        "\n",
        "This is not necessarily problematic for lens modeling. Afterall, the source reconstruction above is extremely complex, \n",
        "it requires a lot of source pixels to fit the image accurately and its lack of smoothness will be heavily penalized\n",
        "by regularization when we compute the Bayesian evidence. Indeed, its Bayesian evidence is much lower than the true lens\n",
        "model solution:"
      ]
    },
    {
      "cell_type": "code",
      "metadata": {},
      "source": [
        "lens_galaxy = al.Galaxy(\n",
        "    redshift=0.5,\n",
        "    mass=al.mp.Isothermal(\n",
        "        centre=(0.0, 0.0),\n",
        "        einstein_radius=1.6,\n",
        "        ell_comps=al.convert.ell_comps_from(axis_ratio=0.9, angle=45.0),\n",
        "    ),\n",
        "    shear=al.mp.ExternalShear(gamma_1=0.05, gamma_2=0.05),\n",
        ")\n",
        "\n",
        "pixelization = al.Pixelization(\n",
        "    mesh=al.mesh.Rectangular(shape=(20, 20)),\n",
        "    regularization=al.reg.Constant(coefficient=1.0),\n",
        ")\n",
        "\n",
        "source_galaxy = al.Galaxy(redshift=1.0, pixelization=pixelization)\n",
        "\n",
        "correct_fit = perform_fit_with_lens__source_galaxy(\n",
        "    dataset=dataset, lens_galaxy=lens_galaxy, source_galaxy=source_galaxy\n",
        ")\n",
        "\n",
        "fit_plotter = aplt.FitImagingPlotter(fit=correct_fit, include_2d=include)\n",
        "fit_plotter.subplot_fit()\n",
        "fit_plotter.subplot_of_planes(plane_index=1)\n",
        "\n",
        "print(\"Bayesian Evidence of Incorrect Fit:\")\n",
        "print(fit.log_evidence)\n",
        "print(\"Bayesian Evidence of Correct Fit:\")\n",
        "print(correct_fit.log_evidence)"
      ],
      "outputs": [],
      "execution_count": null
    },
    {
      "cell_type": "markdown",
      "metadata": {},
      "source": [
        "The `log_evidence` *is* lower. However, the difference in `log_evidence` is not *that large*. This could be a problem \n",
        "for the non-linear search, as it will see many solutions in parameter space with high `log_evidence` values. Furthermore, \n",
        "these solutions occupy a *large volumne* of parameter space (e.g. everywhere the lens model that is wrong). This makes \n",
        "it easy for the non-linear search to get lost searching through these unphysical solutions and, unfortunately, inferring \n",
        "an incorrect lens model (e.g. a local maxima).\n",
        "\n",
        "There is no simple fix for this, and it is the price we pay for making the inversion has so much flexibility in how it\n",
        "reconstructs the source's light. The solution to this problem? Search chaining. In fact, this is the problem that lead\n",
        "us to initially conceive of search chaining! \n",
        "\n",
        "The idea is simple, we write a pipeline that begins by modeling the source galaxy's light using a light profile, thereby\n",
        "initializing the priors for the lens galaxy's light and mass. Then, when we switch to an `Inversion` in the next \n",
        "search, the mass model starts in the correct regions of parameter space and does not get lost sampling these \n",
        "incorrect solutions.\n",
        "\n",
        "The following paper discusses these solutions in more detail (https://arxiv.org/abs/2012.04665).\n",
        "\n",
        "__Light Profiles__\n",
        "\n",
        "We can also model strong lenses using light profiles and an inversion at the same time. We do this when we want to \n",
        "simultaneously fit and subtract the lens galaxy's light using a light profile whilst reconstructing the source's\n",
        "light using an inversion. \n",
        "\n",
        "To do this, all we have to do is give the lens galaxy a light profile and use the tracer and fit objects we are used \n",
        "too:."
      ]
    },
    {
      "cell_type": "code",
      "metadata": {},
      "source": [
        "dataset_name = \"lens_sersic\"\n",
        "dataset_path = path.join(\"dataset\", \"imaging\", dataset_name)\n",
        "\n",
        "dataset = al.Imaging.from_fits(\n",
        "    data_path=path.join(dataset_path, \"data.fits\"),\n",
        "    noise_map_path=path.join(dataset_path, \"noise_map.fits\"),\n",
        "    psf_path=path.join(dataset_path, \"psf.fits\"),\n",
        "    pixel_scales=0.1,\n",
        ")\n",
        "\n",
        "mask = al.Mask2D.circular(\n",
        "    shape_native=dataset.shape_native,\n",
        "    pixel_scales=dataset.pixel_scales,\n",
        "    radius=2.5,\n",
        ")\n",
        "\n",
        "dataset_plotter = aplt.ImagingPlotter(\n",
        "    dataset=dataset, visuals_2d=aplt.Visuals2D(mask=mask)\n",
        ")\n",
        "dataset_plotter.subplot_dataset()\n",
        "\n",
        "fit_plotter = aplt.FitImagingPlotter(fit=fit, include_2d=include)\n",
        "fit_plotter.subplot_of_planes(plane_index=1)"
      ],
      "outputs": [],
      "execution_count": null
    },
    {
      "cell_type": "markdown",
      "metadata": {},
      "source": [
        "When fitting such an image we now want to include the lens's light in the analysis. Lets update our mask to be \n",
        "circular so that it includes the central regions of the image and lens galaxy."
      ]
    },
    {
      "cell_type": "code",
      "metadata": {},
      "source": [
        "mask = al.Mask2D.circular(\n",
        "    shape_native=dataset.shape_native,\n",
        "    pixel_scales=dataset.pixel_scales,\n",
        "    radius=2.5,\n",
        ")\n",
        "\n",
        "dataset = dataset.apply_mask(mask=mask)"
      ],
      "outputs": [],
      "execution_count": null
    },
    {
      "cell_type": "markdown",
      "metadata": {},
      "source": [
        "As I said above, performing this fit is the same as usual, we just give the lens galaxy a `LightProfile`."
      ]
    },
    {
      "cell_type": "code",
      "metadata": {},
      "source": [
        "lens_galaxy = al.Galaxy(\n",
        "    redshift=0.5,\n",
        "    bulge=al.lp.Sersic(\n",
        "        centre=(0.0, 0.0),\n",
        "        ell_comps=al.convert.ell_comps_from(axis_ratio=0.9, angle=45.0),\n",
        "        intensity=1.0,\n",
        "        effective_radius=0.8,\n",
        "        sersic_index=4.0,\n",
        "    ),\n",
        "    mass=al.mp.Isothermal(centre=(0.0, 0.0), ell_comps=(0.1, 0.0), einstein_radius=1.6),\n",
        ")\n",
        "\n",
        "pixelization = al.Pixelization(\n",
        "    mesh=al.mesh.Rectangular(shape=(20, 20)),\n",
        "    regularization=al.reg.Constant(coefficient=1.0),\n",
        ")\n",
        "\n",
        "source_galaxy = al.Galaxy(redshift=1.0, pixelization=pixelization)\n",
        "\n",
        "tracer = al.Tracer(galaxies=[lens_galaxy, source_galaxy])"
      ],
      "outputs": [],
      "execution_count": null
    },
    {
      "cell_type": "markdown",
      "metadata": {},
      "source": [
        "This fit will now subtract the lens galaxy's light from the image and fits the resulting source-only image with the \n",
        "inversion. When we plot the image, a new panel on the sub-plot appears showing the model image of the lens galaxy."
      ]
    },
    {
      "cell_type": "code",
      "metadata": {},
      "source": [
        "fit = al.FitImaging(dataset=dataset, tracer=tracer)\n",
        "\n",
        "include = aplt.Include2D(mask=True)\n",
        "\n",
        "fit_plotter = aplt.FitImagingPlotter(fit=fit, include_2d=include)\n",
        "fit_plotter.subplot_fit()\n",
        "fit_plotter.subplot_of_planes(plane_index=1)"
      ],
      "outputs": [],
      "execution_count": null
    },
    {
      "cell_type": "markdown",
      "metadata": {},
      "source": [
        "Of course if the lens subtraction is rubbish so is our fit. We can therefore be sure that our lens model will want to \n",
        "fit the lens galaxy's light accurately (below, I've decreased the lens galaxy intensity from 1.0 to 0.5 to show the\n",
        "result of a poor lens light subtraction)."
      ]
    },
    {
      "cell_type": "code",
      "metadata": {},
      "source": [
        "lens_galaxy = al.Galaxy(\n",
        "    redshift=0.5,\n",
        "    bulge=al.lp.Sersic(\n",
        "        centre=(0.0, 0.0),\n",
        "        ell_comps=al.convert.ell_comps_from(axis_ratio=0.9, angle=45.0),\n",
        "        intensity=0.5,\n",
        "        effective_radius=0.8,\n",
        "        sersic_index=4.0,\n",
        "    ),\n",
        "    mass=al.mp.Isothermal(centre=(0.0, 0.0), ell_comps=(0.1, 0.0), einstein_radius=1.6),\n",
        ")\n",
        "\n",
        "tracer = al.Tracer(galaxies=[lens_galaxy, source_galaxy])\n",
        "\n",
        "fit = al.FitImaging(dataset=dataset, tracer=tracer)\n",
        "\n",
        "include = aplt.Include2D(mask=True)\n",
        "\n",
        "fit_plotter = aplt.FitImagingPlotter(fit=fit, include_2d=include)\n",
        "fit_plotter.subplot_fit()\n",
        "fit_plotter.subplot_of_planes(plane_index=1)"
      ],
      "outputs": [],
      "execution_count": null
    },
    {
      "cell_type": "markdown",
      "metadata": {},
      "source": [
        "__Wrap Up__\n",
        "\n",
        "And with that, we're done. I'll end by pointing out a few things about what we've covered to get you thinking about \n",
        "the next tutorial on adaption.\n",
        "    \n",
        " - When the lens galaxy's light is subtracted perfectly it leaves no residuals. However, if it isn't subtracted \n",
        " perfectly it does leave residuals, which will be fitted by the inversion. If the residual are significant this is \n",
        " going to impact the source reconstruction negatively and can lead to some pretty nasty systematics. In the next \n",
        " chapter, we'll learn how our adaptive analysis can prevent this residual fitting."
      ]
    },
    {
      "cell_type": "code",
      "metadata": {},
      "source": [],
      "outputs": [],
      "execution_count": null
    }
  ],
  "metadata": {
    "anaconda-cloud": {},
    "kernelspec": {
      "display_name": "Python 3",
      "language": "python",
      "name": "python3"
    },
    "language_info": {
      "codemirror_mode": {
        "name": "ipython",
        "version": 3
      },
      "file_extension": ".py",
      "mimetype": "text/x-python",
      "name": "python",
      "nbconvert_exporter": "python",
      "pygments_lexer": "ipython3",
      "version": "3.6.1"
    }
  },
  "nbformat": 4,
  "nbformat_minor": 4
}