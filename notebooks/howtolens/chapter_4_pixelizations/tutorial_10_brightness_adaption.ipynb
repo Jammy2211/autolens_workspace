{
  "cells": [
    {
      "cell_type": "markdown",
      "metadata": {},
      "source": [
        "Tutorial 10: Brightness Adaption\n",
        "================================\n",
        "\n",
        "In the previous tutorial we motivated our need to adapt the pixelization to the source's morphology, such that source\n",
        "pixels congregates in the source's brightest regions regardless of where the source is located in the source-plane. \n",
        "\n",
        "This poses a challenge; how do we adapt our pixelization to the reconstructed source's light, before we've\n",
        "actually reconstructed the source and therefore know what to adapt it too?\n",
        "\n",
        "To do this, we define 'adapt_images' of the lensed source galaxy, which are model images of the source computed using \n",
        "a previous lens model that has been fit to the image (e.g. in the earlier search of a pipeline). This image tells\n",
        "us where in the image our source is located, thus informing us of where we need to adapt our source pixelization!\n",
        "\n",
        "This tutorial goes into the details of how this works. We'll use the same compact source galaxy as the previous\n",
        "tutorial and begin by fitting it with a magnification based pixelization. This will produce a model image which can\n",
        "then be used an adapt image."
      ]
    },
    {
      "cell_type": "code",
      "metadata": {},
      "source": [
        "%matplotlib inline\n",
        "from pyprojroot import here\n",
        "workspace_path = str(here())\n",
        "%cd $workspace_path\n",
        "print(f\"Working Directory has been set to `{workspace_path}`\")\n",
        "\n",
        "from os import path\n",
        "import autolens as al\n",
        "import autolens.plot as aplt"
      ],
      "outputs": [],
      "execution_count": null
    },
    {
      "cell_type": "markdown",
      "metadata": {},
      "source": [
        "__Initial Setup__\n",
        "\n",
        "we'll use the same strong lensing data as the previous tutorial, where:\n",
        "\n",
        " - The lens galaxy's light is omitted.\n",
        " - The lens galaxy's total mass distribution is an `Isothermal` and `ExternalShear`.\n",
        " - The source galaxy's light is an `Sersic`."
      ]
    },
    {
      "cell_type": "code",
      "metadata": {},
      "source": [
        "dataset_name = \"simple__no_lens_light\"\n",
        "dataset_path = path.join(\"dataset\", \"imaging\", dataset_name)\n",
        "\n",
        "dataset = al.Imaging.from_fits(\n",
        "    data_path=path.join(dataset_path, \"data.fits\"),\n",
        "    noise_map_path=path.join(dataset_path, \"noise_map.fits\"),\n",
        "    psf_path=path.join(dataset_path, \"psf.fits\"),\n",
        "    pixel_scales=0.1,\n",
        ")\n",
        "\n",
        "mask = al.Mask2D.circular(\n",
        "    shape_native=dataset.shape_native,\n",
        "    pixel_scales=dataset.pixel_scales,\n",
        "    radius=3.0,\n",
        ")\n",
        "\n",
        "dataset = dataset.apply_mask(mask=mask)"
      ],
      "outputs": [],
      "execution_count": null
    },
    {
      "cell_type": "markdown",
      "metadata": {},
      "source": [
        "Next, we're going to fit the image using the Delaunay magnification based grid. \n",
        "\n",
        "The code below does all the usual steps required to do this."
      ]
    },
    {
      "cell_type": "code",
      "metadata": {},
      "source": [
        "lens_galaxy = al.Galaxy(\n",
        "    redshift=0.5,\n",
        "    mass=al.mp.Isothermal(\n",
        "        centre=(0.0, 0.0),\n",
        "        einstein_radius=1.6,\n",
        "        ell_comps=al.convert.ell_comps_from(axis_ratio=0.9, angle=45.0),\n",
        "    ),\n",
        "    shear=al.mp.ExternalShear(gamma_1=0.05, gamma_2=0.05),\n",
        ")\n",
        "\n",
        "pixelization = al.Pixelization(\n",
        "    image_mesh=al.image_mesh.Overlay(shape=(30, 30)),\n",
        "    mesh=al.mesh.Delaunay(),\n",
        "    regularization=al.reg.Constant(coefficient=3.3),\n",
        ")\n",
        "\n",
        "source_galaxy_magnification = al.Galaxy(redshift=1.0, pixelization=pixelization)\n",
        "\n",
        "tracer = al.Tracer(galaxies=[lens_galaxy, source_galaxy_magnification])\n",
        "\n",
        "fit = al.FitImaging(dataset=dataset, tracer=tracer)"
      ],
      "outputs": [],
      "execution_count": null
    },
    {
      "cell_type": "markdown",
      "metadata": {},
      "source": [
        "Lets have a quick look to make sure it has the same residuals we saw in tutorial 1."
      ]
    },
    {
      "cell_type": "code",
      "metadata": {},
      "source": [
        "include = aplt.Include2D(\n",
        "    mask=True, mapper_image_plane_mesh_grid=True, mapper_source_plane_mesh_grid=True\n",
        ")\n",
        "\n",
        "fit_plotter = aplt.FitImagingPlotter(fit=fit, include_2d=include)\n",
        "fit_plotter.subplot_fit()\n",
        "fit_plotter.subplot_of_planes(plane_index=1)"
      ],
      "outputs": [],
      "execution_count": null
    },
    {
      "cell_type": "markdown",
      "metadata": {},
      "source": [
        "__Adapt Image__\n",
        "\n",
        "We can use this fit to set up our adapt image. \n",
        "\n",
        "This adapt-image is not perfect, because there are residuals in the central regions of the reconstructed source. \n",
        "However, it is good enough for us to adapt our pixelization to the lensed source."
      ]
    },
    {
      "cell_type": "code",
      "metadata": {},
      "source": [
        "adapt_image = fit.model_data.slim"
      ],
      "outputs": [],
      "execution_count": null
    },
    {
      "cell_type": "markdown",
      "metadata": {},
      "source": [
        "__Adaption__\n",
        "\n",
        "Now lets take a look at brightness based adaption in action. \n",
        "\n",
        "Below, we define a source-galaxy using the `Hilbert` image-mesh (we discuss below how this adapts to the source light) \n",
        "and `Delaunay` mesh and use this to fit the lens-data. "
      ]
    },
    {
      "cell_type": "code",
      "metadata": {},
      "source": [
        "pixelization = al.Pixelization(\n",
        "    image_mesh=al.image_mesh.Hilbert(pixels=500, weight_floor=0.0, weight_power=10.0),\n",
        "    mesh=al.mesh.Delaunay(),\n",
        "    regularization=al.reg.Constant(coefficient=0.5),\n",
        ")\n",
        "\n",
        "galaxy_adapt = al.Galaxy(\n",
        "    redshift=1.0,\n",
        "    pixelization=pixelization,\n",
        ")"
      ],
      "outputs": [],
      "execution_count": null
    },
    {
      "cell_type": "markdown",
      "metadata": {},
      "source": [
        "The adapt image is paired to the galaxy that it represents and that it is used to adapt the mesh too.\n",
        "\n",
        "This uses the `AdaptImages` object, which receives a dictionary mapping every galaxy to its adapt image."
      ]
    },
    {
      "cell_type": "code",
      "metadata": {},
      "source": [
        "adapt_images = al.AdaptImages(galaxy_image_dict={galaxy_adapt: adapt_image})"
      ],
      "outputs": [],
      "execution_count": null
    },
    {
      "cell_type": "markdown",
      "metadata": {},
      "source": [
        "We now fit using this adapt image and mesh using the normal API.\n",
        "\n",
        "Note however that the `FitImaging` object receives the `adapt_images` as an input and they are used when\n",
        "setting up the image-mesh and mesh."
      ]
    },
    {
      "cell_type": "code",
      "metadata": {},
      "source": [
        "tracer = al.Tracer(galaxies=[lens_galaxy, galaxy_adapt])\n",
        "\n",
        "fit = al.FitImaging(dataset=dataset, tracer=tracer, adapt_images=adapt_images)\n",
        "\n",
        "fit_plotter = aplt.FitImagingPlotter(fit=fit, include_2d=include)\n",
        "fit_plotter.subplot_fit()\n",
        "fit_plotter.subplot_of_planes(plane_index=1)\n"
      ],
      "outputs": [],
      "execution_count": null
    },
    {
      "cell_type": "markdown",
      "metadata": {},
      "source": [
        "Our reconstruction of the image no longer has residuals! \n",
        "\n",
        "By congregating more source pixels in the brightest regions of the source reconstruction we get a better fit. \n",
        "Furthermore, we can check that this provides an increase in Bayesian log evidence, noting that the log evidence of the \n",
        "compact source when using a `Overlay` image-mesh was 4216:"
      ]
    },
    {
      "cell_type": "code",
      "metadata": {},
      "source": [
        "print(\"Evidence using magnification based pixelization. \", 4216)\n",
        "print(\"Evidence using brightness based pixelization. \", fit.log_evidence)"
      ],
      "outputs": [],
      "execution_count": null
    },
    {
      "cell_type": "markdown",
      "metadata": {},
      "source": [
        "It increases by over 1000, which for a Bayesian evidence is pretty large! \n",
        "\n",
        "This pixelization is a huge success, we should have been adapting to the source's brightness all along! \n",
        "\n",
        "In doing so, we will *always* reconstruct the detailed structure of the source's brightest regions with a \n",
        "sufficiently high resolution!\n",
        "\n",
        "We are now able to adapt the pixelization's mesh to the morphology of the lensed source galaxy. To my knowledge, this\n",
        "is the *best* approach one can take in lens modeling. Its more tricky to implement and introduces additional non-linear \n",
        "parameters. But the pay-off is worth it, as we fit our data better and use fewer source pixels to reconstruct\n",
        "the source.\n",
        "\n",
        "__Hilbert__\n",
        "\n",
        "So how does the `adapt_image` adapt the pixelization to the source's brightness? It uses a standard algorithm for \n",
        "partitioning data in statistics called a Hilbert curve:\n",
        "\n",
        "https://en.wikipedia.org/wiki/Hilbert_curve\n",
        "\n",
        "In simple terms, this algorithm works as follows:\n",
        "\n",
        " 1) Input an image of weight values to the Hilbert algorithm which determines the \"hilbert space filling curve\" \n",
        " (e.g. this `weight_map` is determined from the adapt-image). The Hilbert space-filling curve fills more space there\n",
        " the weight values are highest, and less space where they are lowest. It therefore closely traces the brightest\n",
        " regions of the image.\n",
        "    \n",
        " 2) Probabilistically draw N $(y,x)$ points from this Hilbert curve, where the majority of points will therefore be \n",
        " drawn from high weighted regions. \n",
        "    \n",
        " 3) These N $(y,x)$ are our source-pixel centres, albeit we have drawn them in the image-plane so we first map them\n",
        " to the source-plane, via the mass model, in order to set up the source pixel centres of the mesh. Because points are\n",
        " drawn from high weighted regions (e.g. the brightest image pixels in the lensed source adapt image), we will trace \n",
        " more source-pixels to the brightest regions of where the source is actually reconstructed.\n",
        " \n",
        "__Weight Map__\n",
        "\n",
        "We now have a sense of how our `Hilbert` image-mesh is computed, so lets look at how we create the weighted data the \n",
        "Hilbert space filling curve uses.\n",
        "\n",
        "This image, called the `weight_map` is generated using the `weight_floor` and `weight_power` parameters of \n",
        "the `Hilbert` object. The weight map is generated following 4 steps:\n",
        "\n",
        " 1) Take an absolute value of all pixels in the adapt image, because negative values break the Hilbert algorithm.\n",
        "    \n",
        " 2) Divide all values of this image by its maximum value, such that the adapt-image now only contains values between \n",
        " 0.0 and 1.0 (where the values of 1.0 are the maximum values of the adapt-image).\n",
        "    \n",
        " 3) Add the weight_floor to all values (a weight_floor of 0.0 therefore does not change the weight map).\n",
        "    \n",
        " 4) Raise all values to the power of weight_power (a weight_power of 1.0 therefore does not change the\n",
        " weight map, whereas a value of 0.0 means all values 1.0 and therefore weighted equally).\n",
        " \n",
        "The idea is that using high values of `weight_power` will make the highest weight values much higher than the lowest\n",
        "values, such that the Hilbert curve will trace these values much more than the lower values. The weight_floor gives\n",
        "the algorithm some balance, by introducing a floor to the weight map that prevents the lowest values from being\n",
        "weighted to near zero.\n",
        "\n",
        "Lets look at this in action. we'll inspect 3 weight_maps, using a weight_power of 0.0, 5.0 and 10.0 and\n",
        "setting the `weight_floor` to 0.0 for now."
      ]
    },
    {
      "cell_type": "code",
      "metadata": {},
      "source": [
        "image_mesh = al.image_mesh.Hilbert(pixels=500, weight_floor=0.0, weight_power=0.0)\n",
        "\n",
        "image_weight_power_0 = image_mesh.weight_map_from(adapt_data=adapt_image)\n",
        "image_weight_power_0 = al.Array2D(values=image_weight_power_0, mask=mask)\n",
        "\n",
        "array_plotter = aplt.Array2DPlotter(\n",
        "    array=image_weight_power_0, visuals_2d=aplt.Visuals2D(mask=mask)\n",
        ")\n",
        "array_plotter.figure_2d()\n",
        "\n",
        "\n",
        "image_mesh = al.image_mesh.Hilbert(pixels=500, weight_floor=0.0, weight_power=5.0)\n",
        "\n",
        "image_weight_power_5 = image_mesh.weight_map_from(adapt_data=adapt_image)\n",
        "image_weight_power_5 = al.Array2D(values=image_weight_power_5, mask=mask)\n",
        "\n",
        "array_plotter = aplt.Array2DPlotter(\n",
        "    array=image_weight_power_0, visuals_2d=aplt.Visuals2D(mask=mask)\n",
        ")\n",
        "array_plotter.figure_2d()\n",
        "\n",
        "\n",
        "image_mesh = al.image_mesh.Hilbert(pixels=500, weight_floor=0.0, weight_power=10.0)\n",
        "\n",
        "image_weight_power_10 = image_mesh.weight_map_from(adapt_data=adapt_image)\n",
        "image_weight_power_10 = al.Array2D(values=image_weight_power_10, mask=mask)\n",
        "\n",
        "array_plotter = aplt.Array2DPlotter(\n",
        "    array=image_weight_power_0, visuals_2d=aplt.Visuals2D(mask=mask)\n",
        ")\n",
        "array_plotter.figure_2d()"
      ],
      "outputs": [],
      "execution_count": null
    },
    {
      "cell_type": "markdown",
      "metadata": {},
      "source": [
        "When we increase the weight-power the brightest regions of the adapt-image become weighted higher relative to the \n",
        "fainter regions. \n",
        "\n",
        "This means that the Hilbert algorithm will adapt more pixels to the brightest regions of the source.\n",
        "\n",
        "Lets use the method to perform a fit with a weight power of 10, showing that we now get a significantly higher\n",
        "log_evidence."
      ]
    },
    {
      "cell_type": "code",
      "metadata": {},
      "source": [
        "pixelization = al.Pixelization(\n",
        "    image_mesh=al.image_mesh.Hilbert(pixels=500, weight_floor=0.0, weight_power=10.0),\n",
        "    mesh=al.mesh.Delaunay(),\n",
        "    regularization=al.reg.Constant(coefficient=1.0),\n",
        ")\n",
        "\n",
        "source_weight_power_10 = al.Galaxy(\n",
        "    redshift=1.0,\n",
        "    pixelization=pixelization,\n",
        ")\n",
        "\n",
        "tracer = al.Tracer(galaxies=[lens_galaxy, source_weight_power_10])\n",
        "\n",
        "adapt_images = al.AdaptImages(galaxy_image_dict={source_weight_power_10: adapt_image})\n",
        "\n",
        "fit = al.FitImaging(dataset=dataset, tracer=tracer, adapt_images=adapt_images)\n",
        "\n",
        "fit_plotter = aplt.FitImagingPlotter(fit=fit, include_2d=include)\n",
        "fit_plotter.figures_2d_of_planes(plane_index=1, plane_image=True)"
      ],
      "outputs": [],
      "execution_count": null
    },
    {
      "cell_type": "markdown",
      "metadata": {},
      "source": [
        "So, what does the `weight_floor` do? Increasing the weight-power congregates pixels around the source. However, there \n",
        "is a risk that by congregating too many source pixels in its brightest regions we lose resolution further out, where \n",
        "the source is bright, but not its brightest!\n",
        "\n",
        "The `weight_floor` allows these regions to maintain a higher weighting whilst the `weight_power` increases. This means \n",
        "that the mesh can fully adapt to the source's brightest and faintest regions simultaneously.\n",
        "\n",
        "Lets look at once example:"
      ]
    },
    {
      "cell_type": "code",
      "metadata": {},
      "source": [
        "pixelization = al.Pixelization(\n",
        "    image_mesh=al.image_mesh.Hilbert(pixels=500, weight_floor=0.5, weight_power=10.0),\n",
        "    mesh=al.mesh.Delaunay(),\n",
        "    regularization=al.reg.Constant(coefficient=1.0),\n",
        ")\n",
        "\n",
        "source_weight_floor = al.Galaxy(\n",
        "    redshift=1.0, pixelization=pixelization, adapt_galaxy_image=adapt_image\n",
        ")\n",
        "\n",
        "weight_floor = source_weight_floor.pixelization.image_mesh.weight_map_from(\n",
        "    adapt_data=adapt_image\n",
        ")\n",
        "weight_floor = al.Array2D(values=weight_floor, mask=mask)\n",
        "\n",
        "array_plotter = aplt.Array2DPlotter(\n",
        "    array=image_weight_power_0, visuals_2d=aplt.Visuals2D(mask=mask)\n",
        ")\n",
        "array_plotter.figure_2d()\n",
        "\n",
        "tracer = al.Tracer(galaxies=[lens_galaxy, source_weight_floor])\n",
        "\n",
        "adapt_images = al.AdaptImages(galaxy_image_dict={source_weight_floor: adapt_image})\n",
        "\n",
        "fit = al.FitImaging(dataset=dataset, tracer=tracer, adapt_images=adapt_images)\n",
        "\n",
        "fit_plotter = aplt.FitImagingPlotter(fit=fit, include_2d=include)\n",
        "fit_plotter.figures_2d_of_planes(plane_index=1, plane_image=True)"
      ],
      "outputs": [],
      "execution_count": null
    },
    {
      "cell_type": "markdown",
      "metadata": {},
      "source": [
        "__Wrap Up__\n",
        "\n",
        "To end, lets think about the Bayesian evidence, which we saw now goes to significantly higher values than for a \n",
        "magnification-based grid. At this point, it might be worth reminding yourself how the Bayesian evidence works by \n",
        "going back to description in this chapters `introduction` text file.\n",
        "\n",
        "So, why do you think why adapting to the source's brightness increases the log evidence?\n",
        "\n",
        "It is because by adapting to the source's morphology we can now access solutions that fit the data really well \n",
        "(e.g. to the Gaussian noise-limit) but use significantly fewer source-pixels than before. For instance, a typical \n",
        "magnification based grid uses resolutions of 40 x 40, or 1600 pixels. In contrast, a morphology based pixelization \n",
        "typically uses just 300-800 pixels (depending on the source itself). Clearly, the easiest way to make our source \n",
        "solution simpler is to use fewer pixels overall!\n",
        "\n",
        "This provides a second benefit. If the best solutions in our fit want to use the fewest source-pixels possible and \n",
        "**PyAutoLens** can now access those solutions, this means that adapt-mode will run much faster than the magnification \n",
        "based grid! Put simply, fewer source-pixels means lower computational overheads. YAY!\n",
        "\n",
        "Tutorial 2 done, next up, adaptive regularization!"
      ]
    },
    {
      "cell_type": "code",
      "metadata": {},
      "source": [],
      "outputs": [],
      "execution_count": null
    }
  ],
  "metadata": {
    "anaconda-cloud": {},
    "kernelspec": {
      "display_name": "Python 3",
      "language": "python",
      "name": "python3"
    },
    "language_info": {
      "codemirror_mode": {
        "name": "ipython",
        "version": 3
      },
      "file_extension": ".py",
      "mimetype": "text/x-python",
      "name": "python",
      "nbconvert_exporter": "python",
      "pygments_lexer": "ipython3",
      "version": "3.6.1"
    }
  },
  "nbformat": 4,
  "nbformat_minor": 4
}