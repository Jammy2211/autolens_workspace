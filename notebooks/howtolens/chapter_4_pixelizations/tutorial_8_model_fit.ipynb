{
  "cells": [
    {
      "cell_type": "markdown",
      "metadata": {},
      "source": [
        "Tutorial 8: Model-Fit\n",
        "=====================\n",
        "\n",
        "To illustrate lens modeling using an inversion this tutorial revists revisit the complex source model-fit that we\n",
        "performed in tutorial 6 of chapter 3. This time, as you have probably guessed, we will fit the complex source using\n",
        "an inversion.\n",
        "\n",
        "We will use search chaining to do this, first fitting the source with a light profile, thereby initialize the mass\n",
        "model priors and avoiding the unphysical solutions discussed in tutorial 6. In the later searches we will switch to\n",
        "an `Inversion`."
      ]
    },
    {
      "cell_type": "code",
      "metadata": {},
      "source": [
        "%matplotlib inline\n",
        "from pyprojroot import here\n",
        "workspace_path = str(here())\n",
        "%cd $workspace_path\n",
        "print(f\"Working Directory has been set to `{workspace_path}`\")\n",
        "\n",
        "from os import path\n",
        "import autofit as af\n",
        "import autolens as al\n",
        "import autolens.plot as aplt"
      ],
      "outputs": [],
      "execution_count": null
    },
    {
      "cell_type": "markdown",
      "metadata": {},
      "source": [
        "__Initial Setup__\n",
        "\n",
        "we'll use strong lensing data, where:\n",
        "\n",
        " - The lens galaxy's light is omitted.\n",
        " - The lens galaxy's total mass distribution is an `Isothermal` and `ExternalShear`.\n",
        " - The source galaxy's light is four `Sersic`."
      ]
    },
    {
      "cell_type": "code",
      "metadata": {},
      "source": [
        "dataset_name = \"source_complex\"\n",
        "dataset_path = path.join(\"dataset\", \"imaging\", dataset_name)\n",
        "\n",
        "dataset = al.Imaging.from_fits(\n",
        "    data_path=path.join(dataset_path, \"data.fits\"),\n",
        "    noise_map_path=path.join(dataset_path, \"noise_map.fits\"),\n",
        "    psf_path=path.join(dataset_path, \"psf.fits\"),\n",
        "    pixel_scales=0.05,\n",
        ")\n",
        "\n",
        "mask = al.Mask2D.circular(\n",
        "    shape_native=dataset.shape_native, pixel_scales=dataset.pixel_scales, radius=3.6\n",
        ")\n",
        "\n",
        "\n",
        "dataset = dataset.apply_mask(mask=mask)\n",
        "\n",
        "dataset_plotter = aplt.ImagingPlotter(\n",
        "    dataset=dataset, visuals_2d=aplt.Visuals2D(mask=mask)\n",
        ")\n",
        "dataset_plotter.subplot_dataset()\n"
      ],
      "outputs": [],
      "execution_count": null
    },
    {
      "cell_type": "markdown",
      "metadata": {},
      "source": [
        "__Model + Search + Analysis + Model-Fit (Search 1)__\n",
        "\n",
        "Search 1 fits a lens model where:\n",
        "\n",
        " - The lens galaxy's total mass distribution is an `Isothermal` with `ExternalShear` [7 parameters].\n",
        " \n",
        " - The source galaxy's light is a parametric `SersicCore` [7 parameters].\n",
        "\n",
        "The number of free parameters and therefore the dimensionality of non-linear parameter space is N=14."
      ]
    },
    {
      "cell_type": "code",
      "metadata": {},
      "source": [
        "model_1 = af.Collection(\n",
        "    galaxies=af.Collection(\n",
        "        lens=af.Model(\n",
        "            al.Galaxy,\n",
        "            redshift=0.5,\n",
        "            mass=al.mp.Isothermal,\n",
        "            shear=al.mp.ExternalShear,\n",
        "        ),\n",
        "        source=af.Model(al.Galaxy, redshift=1.0, bulge=al.lp.Sersic),\n",
        "    ),\n",
        ")\n",
        "\n",
        "search_1 = af.Nautilus(\n",
        "    path_prefix=path.join(\"howtolens\", \"chapter_4\"),\n",
        "    name=\"search[1]_mass[sie]_source[lp]\",\n",
        "    unique_tag=dataset_name,\n",
        "    n_live=100,\n",
        ")\n",
        "\n",
        "analysis_1 = al.AnalysisImaging(dataset=dataset)\n",
        "\n",
        "result_1 = search_1.fit(model=model_1, analysis=analysis_1)"
      ],
      "outputs": [],
      "execution_count": null
    },
    {
      "cell_type": "markdown",
      "metadata": {},
      "source": [
        "__Position Likelihood (Search 2)__\n",
        "\n",
        "We add a penalty term ot the likelihood function, which penalizes models where the brightest multiple images of\n",
        "the lensed source galaxy do not trace close to one another in the source plane. This removes \"demagnified source\n",
        "solutions\" from the source pixelization, which one is likely to infer without this penalty.\n",
        "\n",
        "A comprehensive description of why we do this is given at the following readthedocs page. \n",
        "\n",
        "You were directed to this page in tutorial 6, however I suggest you reread the section \"Auto Position Updates\" as\n",
        "we will be using this functionality below.\n",
        "\n",
        " https://pyautolens.readthedocs.io/en/latest/general/demagnified_solutions.html\n",
        "\n",
        "__Model + Search + Analysis + Model-Fit (Search 2)__\n",
        "\n",
        "We use the results of search 1 to create the lens model fitted in search 2, where:\n",
        "\n",
        " - The lens galaxy's total mass distribution is an `Isothermal` and `ExternalShear` [Parameters fixed to \n",
        " results of search 1].\n",
        " \n",
        " - The source galaxy's pixelization uses an `Overlay` image-mesh [2 parameters]\n",
        "\n",
        " - The source-galaxy's pixelization uses a `Delaunay` mesh [0 parameters].\n",
        "\n",
        " - This pixelization is regularized using a `ConstantSplit` scheme [1 parameter]. \n",
        "\n",
        "The number of free parameters and therefore the dimensionality of non-linear parameter space is N=3.\n",
        "\n",
        "This search allows us to very efficiently set up the resolution of the mesh and regularization coefficient \n",
        "of the regularization scheme, before using these models to refit the lens mass model.\n",
        "\n",
        "Also, note how we can pass the `al.SettingsInversion` object to an analysis class to customize if the border relocation\n",
        "is used."
      ]
    },
    {
      "cell_type": "code",
      "metadata": {},
      "source": [
        "model_2 = af.Collection(\n",
        "    galaxies=af.Collection(\n",
        "        lens=af.Model(\n",
        "            al.Galaxy,\n",
        "            redshift=0.5,\n",
        "            mass=result_1.instance.galaxies.lens.mass,\n",
        "            shear=result_1.instance.galaxies.lens.shear,\n",
        "        ),\n",
        "        source=af.Model(\n",
        "            al.Galaxy,\n",
        "            redshift=1.0,\n",
        "            pixelization=af.Model(\n",
        "                al.Pixelization,\n",
        "                image_mesh=al.image_mesh.Overlay,\n",
        "                mesh=al.mesh.Delaunay,\n",
        "                regularization=al.reg.Constant,\n",
        "            ),\n",
        "        ),\n",
        "    ),\n",
        ")\n",
        "\n",
        "search_2 = af.Nautilus(\n",
        "    path_prefix=path.join(\"howtolens\", \"chapter_4\"),\n",
        "    name=\"search[2]_mass[sie]_source[pix_init]\",\n",
        "    unique_tag=dataset_name,\n",
        "    n_live=50,\n",
        ")\n",
        "\n",
        "analysis_2 = al.AnalysisImaging(\n",
        "    dataset=dataset,\n",
        "    positions_likelihood=result_1.positions_likelihood_from(\n",
        "        factor=3.0, minimum_threshold=0.2\n",
        "    ),\n",
        "    settings_inversion=al.SettingsInversion(use_border_relocator=True),\n",
        ")"
      ],
      "outputs": [],
      "execution_count": null
    },
    {
      "cell_type": "markdown",
      "metadata": {},
      "source": [
        "__Run Time__\n",
        "\n",
        "The run time of a pixelization is longer than many other features, with the estimate below coming out at around ~0.5 \n",
        "seconds per likelihood evaluation. This is because the fit has a lot of linear algebra to perform in order to\n",
        "reconstruct the source on the pixel-grid.\n",
        "\n",
        "Nevertheless, this is still fast enough for most use-cases. If run-time is an issue, the following factors determine\n",
        "the run-time of a a pixelization and can be changed to speed it up (at the expense of accuracy):\n",
        "\n",
        " - The number of unmasked pixels in the image data. By making the mask smaller (e.g. using an annular mask), the \n",
        "   run-time will decrease.\n",
        "\n",
        " - The number of source pixels in the pixelization. By reducing the `shape` from (30, 30) the run-time will decrease.\n",
        "\n",
        "This also serves to highlight why the positions threshold likelihood is so powerful. The likelihood evaluation time\n",
        "of this step is below 0.001 seconds, meaning that the initial parameter space sampling is extremely efficient even\n",
        "for a pixelization (this is not accounted for in the run-time estimate below)!"
      ]
    },
    {
      "cell_type": "code",
      "metadata": {},
      "source": [
        "run_time_dict, info_dict = analysis_2.profile_log_likelihood_function(\n",
        "    instance=model_2.random_instance()\n",
        ")\n",
        "\n",
        "print(f\"Log Likelihood Evaluation Time (second) = {run_time_dict['fit_time']}\")\n",
        "print(\n",
        "    \"Estimated Run Time Upper Limit (seconds) = \",\n",
        "    (run_time_dict[\"fit_time\"] * model_2.total_free_parameters * 10000)\n",
        "    / search_2.number_of_cores,\n",
        ")"
      ],
      "outputs": [],
      "execution_count": null
    },
    {
      "cell_type": "markdown",
      "metadata": {},
      "source": [
        "Run the search."
      ]
    },
    {
      "cell_type": "code",
      "metadata": {},
      "source": [
        "result_2 = search_2.fit(model=model_2, analysis=analysis_2)"
      ],
      "outputs": [],
      "execution_count": null
    },
    {
      "cell_type": "markdown",
      "metadata": {},
      "source": [
        "__Model + Search (Search 3)__\n",
        "\n",
        "We use the results of searches 1 and 2 to create the lens model fitted in search 3, where:\n",
        "\n",
        " - The lens galaxy's total mass distribution is an `Isothermal` and `ExternalShear` [7 parameters: priors \n",
        " initialized from search 1].\n",
        " \n",
        " - The source galaxy's pixelization uses an `Overlay` image-mesh [parameters fixed to results of search 2].\n",
        "\n",
        " - The source-galaxy's pixelization uses a `Delaunay` mesh [parameters fixed to results of search 2].\n",
        "\n",
        " - This pixelization is regularized using a `ConstantSplit` scheme [parameters fixed to results of search 2]. \n",
        "\n",
        "The number of free parameters and therefore the dimensionality of non-linear parameter space is N=7.\n",
        "\n",
        "This search therefore refits the lens mass model using the pixelized source."
      ]
    },
    {
      "cell_type": "code",
      "metadata": {},
      "source": [
        "model_3 = af.Collection(\n",
        "    galaxies=af.Collection(\n",
        "        lens=af.Model(\n",
        "            al.Galaxy,\n",
        "            redshift=0.5,\n",
        "            mass=result_1.model.galaxies.lens.mass,\n",
        "            shear=result_1.model.galaxies.lens.shear,\n",
        "        ),\n",
        "        source=af.Model(\n",
        "            al.Galaxy,\n",
        "            redshift=1.0,\n",
        "            pixelization=result_2.instance.galaxies.source.pixelization,\n",
        "        ),\n",
        "    ),\n",
        ")\n",
        "\n",
        "search_3 = af.Nautilus(\n",
        "    path_prefix=path.join(\"howtolens\", \"chapter_4\"),\n",
        "    name=\"search[3]_mass[sie]_source[pix]\",\n",
        "    unique_tag=dataset_name,\n",
        "    n_live=100,\n",
        ")"
      ],
      "outputs": [],
      "execution_count": null
    },
    {
      "cell_type": "markdown",
      "metadata": {},
      "source": [
        "__Positions + Analysis + Model-Fit (Search 3)__\n",
        "\n",
        "The unphysical solutions that can occur in an `Inversion` can be mitigated by using a positions threshold to resample\n",
        "mass models where the source's brightest lensed pixels do not trace close to one another. With search chaining, we can\n",
        "in fact use the model-fit of a previous search (in this example, search 1) to compute the positions that we use in a \n",
        "later search.\n",
        "\n",
        "Below, we use the results of the first search to compute the lensed source positions that are input into search 2. The\n",
        "code below uses the  maximum log likelihood model mass model and source galaxy centre, to determine where the source\n",
        "positions are located in the image-plane. \n",
        "\n",
        "We also use this result to set the `position_threshold`, whereby the threshold value is based on how close these \n",
        "positions trace to one another in the source-plane (using the best-fit mass model again). This threshold is multiplied \n",
        "by a `factor` to ensure it is not too small (and thus does not remove plausible mass  models). If, after this \n",
        "multiplication, the threshold is below the `minimum_threshold`, it is rounded up to this minimum value."
      ]
    },
    {
      "cell_type": "code",
      "metadata": {},
      "source": [
        "analysis_3 = al.AnalysisImaging(\n",
        "    dataset=dataset,\n",
        "    positions_likelihood=result_2.positions_likelihood_from(\n",
        "        factor=3.0, minimum_threshold=0.2\n",
        "    ),\n",
        ")\n",
        "\n",
        "result_3 = search_3.fit(model=model_3, analysis=analysis_3)"
      ],
      "outputs": [],
      "execution_count": null
    },
    {
      "cell_type": "markdown",
      "metadata": {},
      "source": [
        "__Wrap Up__\n",
        "\n",
        "And with that, we now have a pipeline to model strong lenses using an inversion! \n",
        "\n",
        "Checkout the example pipelines in the `autolens_workspace/*/chaining` package for inversion pipelines that \n",
        "includes the lens light component."
      ]
    },
    {
      "cell_type": "code",
      "metadata": {},
      "source": [],
      "outputs": [],
      "execution_count": null
    }
  ],
  "metadata": {
    "anaconda-cloud": {},
    "kernelspec": {
      "display_name": "Python 3",
      "language": "python",
      "name": "python3"
    },
    "language_info": {
      "codemirror_mode": {
        "name": "ipython",
        "version": 3
      },
      "file_extension": ".py",
      "mimetype": "text/x-python",
      "name": "python",
      "nbconvert_exporter": "python",
      "pygments_lexer": "ipython3",
      "version": "3.6.1"
    }
  },
  "nbformat": 4,
  "nbformat_minor": 4
}