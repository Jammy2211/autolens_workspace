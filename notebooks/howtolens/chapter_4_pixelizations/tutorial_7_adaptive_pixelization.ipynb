{
  "cells": [
    {
      "cell_type": "markdown",
      "metadata": {},
      "source": [
        "Tutorial 7: Adaptive Pixelization\n",
        "=================================\n",
        "\n",
        "In this tutorial we will introduce a new `Pixelization` object, which uses an `Overlay` image-mesh and a `Delaunay`\n",
        "mesh.\n",
        "\n",
        "This pixelization does not use a uniform grid of rectangular pixels, but instead uses an irregular grid of `Delaunay`\n",
        "pixels. So, why would we want to do that? Lets take another quick look at the rectangular grid.."
      ]
    },
    {
      "cell_type": "code",
      "metadata": {},
      "source": [
        "%matplotlib inline\n",
        "from pyprojroot import here\n",
        "workspace_path = str(here())\n",
        "%cd $workspace_path\n",
        "print(f\"Working Directory has been set to `{workspace_path}`\")\n",
        "\n",
        "from os import path\n",
        "import autolens as al\n",
        "import autolens.plot as aplt"
      ],
      "outputs": [],
      "execution_count": null
    },
    {
      "cell_type": "markdown",
      "metadata": {},
      "source": [
        "__Initial Setup__\n",
        "\n",
        "We'll use the same strong lensing data as the previous tutorial, where:\n",
        "\n",
        " - The lens galaxy's light is omitted.\n",
        " - The lens galaxy's total mass distribution is an `Isothermal` and `ExternalShear`.\n",
        " - The source galaxy's light is an `Sersic`."
      ]
    },
    {
      "cell_type": "code",
      "metadata": {},
      "source": [
        "dataset_name = \"simple__no_lens_light\"\n",
        "dataset_path = path.join(\"dataset\", \"imaging\", dataset_name)\n",
        "\n",
        "dataset = al.Imaging.from_fits(\n",
        "    data_path=path.join(dataset_path, \"data.fits\"),\n",
        "    noise_map_path=path.join(dataset_path, \"noise_map.fits\"),\n",
        "    psf_path=path.join(dataset_path, \"psf.fits\"),\n",
        "    pixel_scales=0.1,\n",
        ")\n",
        "\n",
        "mask = al.Mask2D.circular(\n",
        "    shape_native=dataset.shape_native,\n",
        "    pixel_scales=dataset.pixel_scales,\n",
        "    sub_size=2,\n",
        "    radius=3.0,\n",
        ")\n",
        "\n",
        "dataset_plotter = aplt.ImagingPlotter(\n",
        "    dataset=dataset, visuals_2d=aplt.Visuals2D(mask=mask)\n",
        ")\n",
        "dataset_plotter.subplot_dataset()"
      ],
      "outputs": [],
      "execution_count": null
    },
    {
      "cell_type": "markdown",
      "metadata": {},
      "source": [
        "The lines of code below do everything we're used to, that is, setup an image, mask it, trace it via a tracer, \n",
        "setup the rectangular mapper, etc."
      ]
    },
    {
      "cell_type": "code",
      "metadata": {},
      "source": [
        "lens_galaxy = al.Galaxy(\n",
        "    redshift=0.5,\n",
        "    mass=al.mp.Isothermal(\n",
        "        centre=(0.0, 0.0),\n",
        "        einstein_radius=1.6,\n",
        "        ell_comps=al.convert.ell_comps_from(axis_ratio=0.9, angle=45.0),\n",
        "    ),\n",
        "    shear=al.mp.ExternalShear(gamma_1=0.05, gamma_2=0.05),\n",
        ")\n",
        "\n",
        "dataset = dataset.apply_mask(mask=mask)\n",
        "\n",
        "pixelization = al.Pixelization(\n",
        "    mesh=al.mesh.Rectangular(shape=(40, 40)),\n",
        "    regularization=al.reg.Constant(coefficient=0.5),\n",
        ")\n",
        "\n",
        "source_galaxy = al.Galaxy(redshift=1.0, pixelization=pixelization)\n",
        "\n",
        "tracer = al.Tracer.from_galaxies(galaxies=[lens_galaxy, source_galaxy])\n",
        "\n",
        "fit = al.FitImaging(dataset=dataset, tracer=tracer)\n",
        "\n",
        "include = aplt.Include2D(mask=True)\n",
        "\n",
        "fit_plotter = aplt.FitImagingPlotter(fit=fit, include_2d=include)\n",
        "fit_plotter.subplot_fit()\n",
        "fit_plotter.subplot_of_planes(plane_index=1)"
      ],
      "outputs": [],
      "execution_count": null
    },
    {
      "cell_type": "markdown",
      "metadata": {},
      "source": [
        "__Advantages and Disadvatanges__\n",
        "\n",
        "Okay, so lets think about the rectangular pixelization. Is this the optimal way to reconstruct our source? Are there \n",
        "features in the source-plane that arn`t ideal? How do you think we could do a better job?\n",
        "\n",
        "Well, given we are doing a whole tutorial on using a different pixelization, you have probably guessed that the \n",
        "rectangular pixelization is not optimal. Infact, its pretty rubbish, and not a pixelization we should actually want to \n",
        "model any lenses with!\n",
        "\n",
        "So what is wrong with the grid? Well, lets think about the source reconstruction."
      ]
    },
    {
      "cell_type": "code",
      "metadata": {},
      "source": [
        "include = aplt.Include2D(mapper_source_plane_mesh_grid=True)\n",
        "\n",
        "fit_plotter = aplt.FitImagingPlotter(fit=fit, include_2d=include)\n",
        "fit_plotter.subplot_of_planes(plane_index=1)"
      ],
      "outputs": [],
      "execution_count": null
    },
    {
      "cell_type": "markdown",
      "metadata": {},
      "source": [
        "There is one clear problem, we are using only a small number of the total source pixels to reconstruct the source. The \n",
        "majority of source pixels are located away from the source. By my estimate, we are using just 16 pixels (the central \n",
        "4x4 grid) out of the 1600 pixels to actually fit the data! The remaining ~1500 pixels are doing *nothing* but fitting \n",
        "noise.\n",
        "\n",
        "This is wasteful and the analysis takes longer to run because of it. However, more importantly, it also means that\n",
        "regularization is sub-optimal. In tutorial 4, we discussed how the Bayesian evidence of the regularization wants to \n",
        "obtain the *simplest* source solution possible. That is, the solution which fits the data using the fewest source \n",
        "pixels. Clearly, if we are dedicating a huge number of source pixels to doing *nothing*, our source reconstruction is \n",
        "unecessarily complex (and therefore is lower `log_evidence` solution).\n",
        "\n",
        "If our pixelization could 'focus' its pixels where we actually have more data, e.g. the highly magnified regions of \n",
        "the source-plane, we could reconstruct the source using fewer pixels. That`d be great both for computational efficiency \n",
        "and increasing the Bayesian log evidence. This is what the Delaunay pixelization does.\n",
        "\n",
        "__Delaunay Grid__\n",
        "\n",
        "To achieve this, we first compute an `image-plane sparse grid`, which is a set of sparse coordinates in the image-plane \n",
        "that will be ray-traced to the source-plane and define the centres of our source-pixel grid. We compute this grid\n",
        "directly from a pixelization, by passing it a grid."
      ]
    },
    {
      "cell_type": "code",
      "metadata": {},
      "source": [
        "image_mesh = al.image_mesh.Overlay(shape=(20, 20))\n",
        "\n",
        "image_plane_mesh_grid = image_mesh.image_plane_mesh_grid_from(grid=dataset.grid)"
      ],
      "outputs": [],
      "execution_count": null
    },
    {
      "cell_type": "markdown",
      "metadata": {},
      "source": [
        "We can plot this grid over the image, to see that it is a coarse grid of $(y,x)$ coordinates that over-lay the image \n",
        "itself."
      ]
    },
    {
      "cell_type": "code",
      "metadata": {},
      "source": [
        "visuals = aplt.Visuals2D(grid=image_plane_mesh_grid, mask=mask)\n",
        "\n",
        "dataset_plotter = aplt.ImagingPlotter(dataset=dataset, visuals_2d=visuals)\n",
        "dataset_plotter.figures_2d(data=True)"
      ],
      "outputs": [],
      "execution_count": null
    },
    {
      "cell_type": "markdown",
      "metadata": {},
      "source": [
        "When we pass a `Tracer` a source galaxy with this `Pixelization` object it automatically computes the ray-traced \n",
        "source-plane Delaunay pixelization using the grid above. Thus, our Delaunay pixelization is used by the tracer`s fit."
      ]
    },
    {
      "cell_type": "code",
      "metadata": {},
      "source": [
        "pixelization = al.Pixelization(\n",
        "    image_mesh=image_mesh,\n",
        "    mesh=al.mesh.Delaunay(),\n",
        "    regularization=al.reg.Constant(coefficient=1.0),\n",
        ")\n",
        "\n",
        "source_galaxy = al.Galaxy(redshift=1.0, pixelization=pixelization)\n",
        "\n",
        "tracer = al.Tracer.from_galaxies(galaxies=[lens_galaxy, source_galaxy])"
      ],
      "outputs": [],
      "execution_count": null
    },
    {
      "cell_type": "markdown",
      "metadata": {},
      "source": [
        "If we look at the lens fit, we'll see that our source-plane no longer uses rectangular pixels, but Delaunay pixels!"
      ]
    },
    {
      "cell_type": "code",
      "metadata": {},
      "source": [
        "fit = al.FitImaging(dataset=dataset, tracer=tracer)\n",
        "\n",
        "include = aplt.Include2D(\n",
        "    mask=True, mapper_image_plane_mesh_grid=True, mapper_source_plane_mesh_grid=True\n",
        ")\n",
        "\n",
        "fit_plotter = aplt.FitImagingPlotter(fit=fit, include_2d=include)\n",
        "fit_plotter.subplot_fit()\n",
        "fit_plotter.subplot_of_planes(plane_index=1)"
      ],
      "outputs": [],
      "execution_count": null
    },
    {
      "cell_type": "markdown",
      "metadata": {},
      "source": [
        "And we can take a closer inspection of the inversion itself.\n",
        "\n",
        "Clearly, this is an improvement. we are using fewer pixels than the rectangular grid (400, instead of 1600) and\n",
        "reconstructing the source is far greater detail. A win all around!"
      ]
    },
    {
      "cell_type": "code",
      "metadata": {},
      "source": [
        "fit_plotter = aplt.FitImagingPlotter(fit=fit, include_2d=include)\n",
        "fit_plotter.subplot_of_planes(plane_index=1)"
      ],
      "outputs": [],
      "execution_count": null
    },
    {
      "cell_type": "markdown",
      "metadata": {},
      "source": [
        "__Wrap Up__\n",
        "\n",
        "On our rectangular grid, we regularized each source pixel with its 4 neighbors. We compared their fluxes, summed \n",
        "the differences, and penalized solutions where the differences were large. For a Delaunay grid, we do the same thing, \n",
        "now comparing each source-pixel with all other source-pixels with which it shares a direct vertex. This means that \n",
        "different source-pixels may be regularized with different numbers of source-pixels, depending on how many neighbors \n",
        "are formed.\n",
        "\n",
        "However, the `Overlay` image-mesh and `Delaunay` mesh is still far from optimal. There are lots of source-pixels \n",
        "effectively fitting just noise. We may achieve even better solutions if the central regions of the source were \n",
        "reconstructed using more pixels, whilst even less source pixels are dedicated to the outskirts of the source plane. \n",
        "\n",
        "So, how do we improve on this? Well, you'll have to wait until chapter 5, when we introduce **PyAutoLens**`s adaptive \n",
        "functionality, called 'hyper-mode'.\n",
        "\n",
        "In the mean time, you may wish to experiment with using both Rectangular and Delaunay grids to fit \n",
        "lenses which can be easily achieve by changing the input pixelization given to a pipeline."
      ]
    },
    {
      "cell_type": "code",
      "metadata": {},
      "source": [],
      "outputs": [],
      "execution_count": null
    }
  ],
  "metadata": {
    "anaconda-cloud": {},
    "kernelspec": {
      "display_name": "Python 3",
      "language": "python",
      "name": "python3"
    },
    "language_info": {
      "codemirror_mode": {
        "name": "ipython",
        "version": 3
      },
      "file_extension": ".py",
      "mimetype": "text/x-python",
      "name": "python",
      "nbconvert_exporter": "python",
      "pygments_lexer": "ipython3",
      "version": "3.6.1"
    }
  },
  "nbformat": 4,
  "nbformat_minor": 4
}