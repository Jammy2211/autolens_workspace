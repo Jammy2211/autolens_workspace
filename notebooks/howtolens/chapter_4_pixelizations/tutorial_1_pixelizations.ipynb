{
  "cells": [
    {
      "cell_type": "markdown",
      "metadata": {},
      "source": [
        "Tutorial 1: Pixelizations\n",
        "=========================\n",
        "\n",
        "In the previous chapters, we used light profiles to model the light of a strong lens's source galaxy, where the light\n",
        "profile was an analytic description of how the luminosity varies as a function of radius. In this chapter, we are\n",
        "instead going to reconstruct the source's light on a pixel-grid, and in this tutorial we will learn how to create\n",
        "a source-plane pixelization in **PyAutoLens**."
      ]
    },
    {
      "cell_type": "code",
      "metadata": {},
      "source": [
        "%matplotlib inline\n",
        "from pyprojroot import here\n",
        "workspace_path = str(here())\n",
        "%cd $workspace_path\n",
        "print(f\"Working Directory has been set to `{workspace_path}`\")\n",
        "\n",
        "import autolens as al\n",
        "import autolens.plot as aplt"
      ],
      "outputs": [],
      "execution_count": null
    },
    {
      "cell_type": "markdown",
      "metadata": {},
      "source": [
        "__Initial Setup__\n",
        "\n",
        "Lets setup a lensed source-plane grid, using a lens galaxy and tracer. \n",
        "\n",
        "Note how our source galaxy no longer uses a light profile, as we will instead reconstruct its light using a \n",
        "pixelization."
      ]
    },
    {
      "cell_type": "code",
      "metadata": {},
      "source": [
        "grid = al.Grid2D.uniform(shape_native=(100, 100), pixel_scales=0.05)\n",
        "\n",
        "lens_galaxy = al.Galaxy(\n",
        "    redshift=0.5,\n",
        "    mass=al.mp.Isothermal(\n",
        "        centre=(0.0, 0.0),\n",
        "        einstein_radius=1.6,\n",
        "        ell_comps=al.convert.ell_comps_from(axis_ratio=0.9, angle=45.0),\n",
        "    ),\n",
        "    shear=al.mp.ExternalShear(gamma_1=0.05, gamma_2=0.05),\n",
        ")\n",
        "\n",
        "source_galaxy = al.Galaxy(redshift=1.0)\n",
        "\n",
        "tracer = al.Tracer(galaxies=[lens_galaxy, source_galaxy])\n",
        "\n",
        "source_plane_grid = tracer.traced_grid_2d_list_from(grid=grid)[1]"
      ],
      "outputs": [],
      "execution_count": null
    },
    {
      "cell_type": "markdown",
      "metadata": {},
      "source": [
        "__Mesh__\n",
        "\n",
        "Next, lets set up a `Mesh` using the `mesh` module. The mesh represents the pixel-grid used by the pixelization\n",
        "to reconstruct the galaxy.\n",
        "\n",
        "There are multiple `Mesh`'s available in **PyAutoLens**. For now, we'll keep it simple and use a uniform \n",
        "rectangular grid, whose `shape` defines its $(y,x)$ dimensions."
      ]
    },
    {
      "cell_type": "code",
      "metadata": {},
      "source": [
        "mesh = al.mesh.Rectangular(shape=(25, 25))"
      ],
      "outputs": [],
      "execution_count": null
    },
    {
      "cell_type": "markdown",
      "metadata": {},
      "source": [
        "We now pass the mesh to a `Pixelization`."
      ]
    },
    {
      "cell_type": "code",
      "metadata": {},
      "source": [
        "pixelization = al.Pixelization(mesh=mesh)"
      ],
      "outputs": [],
      "execution_count": null
    },
    {
      "cell_type": "markdown",
      "metadata": {},
      "source": [
        "By itself, a pixelization does not tell us much. It has no grid of $(y,x)$ coordinates, no image, and no information\n",
        "about the lens we are fitting. \n",
        "\n",
        "This information comes when we use the pixelization to create up a `Mapper`, which we\n",
        "perform below using the (traced) source-plane grid that we created above."
      ]
    },
    {
      "cell_type": "code",
      "metadata": {},
      "source": [
        "mapper_grids = pixelization.mapper_grids_from(\n",
        "    mask=grid.mask, source_plane_data_grid=source_plane_grid\n",
        ")\n",
        "\n",
        "mapper = al.Mapper(mapper_grids=mapper_grids, over_sampler=None, regularization=None)"
      ],
      "outputs": [],
      "execution_count": null
    },
    {
      "cell_type": "markdown",
      "metadata": {},
      "source": [
        "This `Mapper` is a `RectangularMapper`, every `Pixelization` generates it owns mapper."
      ]
    },
    {
      "cell_type": "code",
      "metadata": {},
      "source": [
        "print(type(mapper))"
      ],
      "outputs": [],
      "execution_count": null
    },
    {
      "cell_type": "markdown",
      "metadata": {},
      "source": [
        "By plotting our mapper, we now see our `Pixelization`. Its a fairly boring grid of rectangular pixels."
      ]
    },
    {
      "cell_type": "code",
      "metadata": {},
      "source": [
        "include = aplt.Include2D(\n",
        "    mapper_source_plane_data_grid=False, mapper_source_plane_mesh_grid=False\n",
        ")\n",
        "\n",
        "mapper_plotter = aplt.MapperPlotter(mapper=mapper, include_2d=include)\n",
        "mapper_plotter.set_title(\"Fairly Boring Grid2D of Rectangular Pixels\")\n",
        "mapper_plotter.figure_2d()"
      ],
      "outputs": [],
      "execution_count": null
    },
    {
      "cell_type": "markdown",
      "metadata": {},
      "source": [
        "However, the `Mapper` does contain lots of interesting information about our `Pixelization`, for example its \n",
        "pixelization_grid tells us where the pixel centers are located."
      ]
    },
    {
      "cell_type": "code",
      "metadata": {},
      "source": [
        "print(\"Rectangular Grid2D Pixel Centre 1:\")\n",
        "print(mapper.source_plane_mesh_grid[0])\n",
        "print(\"Rectangular Grid2D Pixel Centre 2:\")\n",
        "print(mapper.source_plane_mesh_grid[1])\n",
        "print(\"Rectangular Grid2D Pixel Centre 3:\")\n",
        "print(mapper.source_plane_mesh_grid[2])\n",
        "print(\"etc.\")"
      ],
      "outputs": [],
      "execution_count": null
    },
    {
      "cell_type": "markdown",
      "metadata": {},
      "source": [
        "We can plot these centre on our grid, to make it look slightly less boring!"
      ]
    },
    {
      "cell_type": "code",
      "metadata": {},
      "source": [
        "include = aplt.Include2D(\n",
        "    mapper_source_plane_data_grid=False, mapper_source_plane_mesh_grid=False\n",
        ")\n",
        "\n",
        "mapper_plotter = aplt.MapperPlotter(mapper=mapper, include_2d=include)\n",
        "mapper_plotter.set_title(\"Slightly less Boring Grid2D of Rectangular Pixels\")\n",
        "mapper_plotter.figure_2d()"
      ],
      "outputs": [],
      "execution_count": null
    },
    {
      "cell_type": "markdown",
      "metadata": {},
      "source": [
        "The `Mapper` also has the (source-plane) grid that we passed when we set it up. Lets check they`re the same."
      ]
    },
    {
      "cell_type": "code",
      "metadata": {},
      "source": [
        "print(\"Source Grid2D Pixel 1\")\n",
        "print(source_plane_grid[0])\n",
        "print(mapper.source_plane_data_grid[0])\n",
        "print(\"Source Grid2D Pixel 2\")\n",
        "print(source_plane_grid[1])\n",
        "print(mapper.source_plane_data_grid[1])\n",
        "print(\"etc.\")"
      ],
      "outputs": [],
      "execution_count": null
    },
    {
      "cell_type": "markdown",
      "metadata": {},
      "source": [
        "We can over-lay this grid on the figure, which is starting to look a bit less boring now!"
      ]
    },
    {
      "cell_type": "code",
      "metadata": {},
      "source": [
        "include = aplt.Include2D(\n",
        "    mapper_source_plane_data_grid=True, mapper_source_plane_mesh_grid=True\n",
        ")\n",
        "\n",
        "mapper_plotter = aplt.MapperPlotter(mapper=mapper, include_2d=include)\n",
        "mapper_plotter.set_title(\"Even less Boring Grid2D of Rectangular Pixels\")\n",
        "mapper_plotter.figure_2d()\n",
        "\n",
        "mat_plot = aplt.MatPlot2D(axis=aplt.Axis(extent=[-0.3, 0.3, -0.3, 0.3]))\n",
        "\n",
        "mapper_plotter = aplt.MapperPlotter(\n",
        "    mapper=mapper, mat_plot_2d=mat_plot, include_2d=include\n",
        ")\n",
        "mapper_plotter.set_title(\"Zoomed Grid2D of Rectangular Pixels\")\n",
        "mapper_plotter.figure_2d()"
      ],
      "outputs": [],
      "execution_count": null
    },
    {
      "cell_type": "markdown",
      "metadata": {},
      "source": [
        "Finally, the mapper`s `mesh_grid` has lots of information about the pixelization, for example, the arc-second \n",
        "size and dimensions."
      ]
    },
    {
      "cell_type": "code",
      "metadata": {},
      "source": [
        "print(mapper.source_plane_mesh_grid.geometry.shape_native_scaled)\n",
        "print(mapper.source_plane_mesh_grid.geometry.scaled_maxima)\n",
        "print(mapper.source_plane_mesh_grid.geometry.scaled_minima)"
      ],
      "outputs": [],
      "execution_count": null
    },
    {
      "cell_type": "markdown",
      "metadata": {},
      "source": [
        "__Wrap Up__\n",
        "\n",
        "This was a relatively gentle overview of pixelizations, but one that was hopefully easy to follow. Think about the \n",
        "following questions before moving on to the next tutorial:\n",
        "\n",
        " 1) Look at how the source-grid coordinates are distributed over the rectangular pixel-grid. Are these points \n",
        " distributed evenly over the rectangular grid`s pixels? Do some pixels have a lot more grid-points inside of them? \n",
        " Do some pixels have no grid-points in them?\n",
        "\n",
        " 2) The rectangular pixelization`s edges are aligned with the most exterior coordinates of the source-grid. This is \n",
        " intentional, why do you think this is?"
      ]
    },
    {
      "cell_type": "code",
      "metadata": {},
      "source": [],
      "outputs": [],
      "execution_count": null
    }
  ],
  "metadata": {
    "anaconda-cloud": {},
    "kernelspec": {
      "display_name": "Python 3",
      "language": "python",
      "name": "python3"
    },
    "language_info": {
      "codemirror_mode": {
        "name": "ipython",
        "version": 3
      },
      "file_extension": ".py",
      "mimetype": "text/x-python",
      "name": "python",
      "nbconvert_exporter": "python",
      "pygments_lexer": "ipython3",
      "version": "3.6.1"
    }
  },
  "nbformat": 4,
  "nbformat_minor": 4
}