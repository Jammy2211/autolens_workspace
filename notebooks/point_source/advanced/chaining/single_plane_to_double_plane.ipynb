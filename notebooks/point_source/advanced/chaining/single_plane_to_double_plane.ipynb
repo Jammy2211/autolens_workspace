{
  "cells": [
    {
      "cell_type": "markdown",
      "metadata": {},
      "source": [
        "Chaining: Single-Plane to Double-Plane\n",
        "======================================\n",
        "\n",
        "This script chains two searches to fit `PointDataset` data of a 'galaxy-scale' strong lens with a model where:\n",
        "\n",
        " - The lens galaxy is at `redshift=0.5` and its total mass distribution is an `Isothermal`.\n",
        " - An intermediate lens and source galaxy is at `redshift=1.0`, with an `Isothermal` total mass distribution\n",
        " and its emission is a point-source `Point`.\n",
        " - The second source `Galaxy` is at `redshift=2.0` is a point `Point`.\n",
        "\n",
        "The two searches break down as follows:\n",
        "\n",
        " 1) Model only the positional data of the source at redshift=1.0, where the lens galaxy's mass is an `Isothermal`\n",
        " and the source galaxy's as a point `Point`.\n",
        "\n",
        " 2) Model the positional data of both source galaxies, where the first lens galaxy's mass an an `Isothermal`, the\n",
        " second source is also an `Isothermal` and both source galaxy's are a point `Point`.\n",
        "\n",
        "__Why Chain?__\n",
        "\n",
        "For double source plane lens systems, the mass of the first lens galaxy (in this example at redshift-0.5) and emission\n",
        "of the source at the next plane (in this example at redshift=1.0) can be fitted before one considers the furthest\n",
        "source plane (in this example at redshift=2.0).\n",
        "\n",
        "Therefore, we perform an initial model-fit which includes only the first lens galaxy's mass and source galaxy's\n",
        "point source model to initialize these components of the model. The dimensionality of this parameter space is\n",
        "N=7, and by fitting only half the data the model-fit runs faster.\n",
        "\n",
        "The second fit then includes the mass of the source galaxy at redshift=1.0 and the point source model of the second\n",
        "source at redshift=2.0. The dimensionality of this model doubles to N=14 and the run times slow down as more\n",
        "calculations are performed when fitting the model.\n",
        "\n",
        "The benefit of perform two searches is therefore clear, as the second search will benefit from the efficient and\n",
        "accurate initialization of the lens galaxy mass and first source galaxy's from the first search."
      ]
    },
    {
      "cell_type": "code",
      "metadata": {},
      "source": [
        "%matplotlib inline\n",
        "from pyprojroot import here\n",
        "workspace_path = str(here())\n",
        "%cd $workspace_path\n",
        "print(f\"Working Directory has been set to `{workspace_path}`\")\n",
        "\n",
        "from os import path\n",
        "import autofit as af\n",
        "import autolens as al\n",
        "import autolens.plot as aplt"
      ],
      "outputs": [],
      "execution_count": null
    },
    {
      "cell_type": "markdown",
      "metadata": {},
      "source": [
        "__Dataset__ \n",
        "\n",
        "Load and plot the `Imaging` of the point-source dataset, purely for visualization of the strong lens."
      ]
    },
    {
      "cell_type": "code",
      "metadata": {},
      "source": [
        "dataset_name = \"double_einstein_cross\"\n",
        "dataset_path = path.join(\"dataset\", \"point_source\", dataset_name)\n",
        "\n",
        "data = al.Array2D.from_fits(\n",
        "    file_path=path.join(dataset_path, \"data.fits\"), pixel_scales=0.05\n",
        ")"
      ],
      "outputs": [],
      "execution_count": null
    },
    {
      "cell_type": "markdown",
      "metadata": {},
      "source": [
        "__Dataset__\n",
        "\n",
        "Load and plot the `PointDataset` dataset, which is the dataset used to perform lens modeling."
      ]
    },
    {
      "cell_type": "code",
      "metadata": {},
      "source": [
        "dataset_0 = al.from_json(\n",
        "    file_path=path.join(dataset_path, \"point_dataset_0.json\"),\n",
        ")\n",
        "\n",
        "print(\"Point Dataset Info:\")\n",
        "print(dataset_0.info)\n",
        "\n",
        "dataset_plotter = aplt.PointDatasetPlotter(dataset=dataset_0)\n",
        "dataset_plotter.subplot_dataset()\n",
        "\n",
        "visuals = aplt.Visuals2D(positions=dataset_0.positions)\n",
        "\n",
        "array_plotter = aplt.Array2DPlotter(array=data, visuals_2d=visuals)\n",
        "array_plotter.figure_2d()\n",
        "\n",
        "dataset_1 = al.from_json(\n",
        "    file_path=path.join(dataset_path, \"point_dataset_1.json\"),\n",
        ")\n",
        "\n",
        "print(\"Point Dataset Info:\")\n",
        "print(dataset_1.info)\n",
        "\n",
        "dataset_plotter = aplt.PointDatasetPlotter(dataset=dataset_1)\n",
        "dataset_plotter.subplot_dataset()\n",
        "\n",
        "visuals = aplt.Visuals2D(positions=dataset_1.positions)\n",
        "\n",
        "array_plotter = aplt.Array2DPlotter(array=data, visuals_2d=visuals)\n",
        "array_plotter.figure_2d()"
      ],
      "outputs": [],
      "execution_count": null
    },
    {
      "cell_type": "markdown",
      "metadata": {},
      "source": [
        "__Paths__\n",
        "\n",
        "The path the results of all chained searches are output:"
      ]
    },
    {
      "cell_type": "code",
      "metadata": {},
      "source": [
        "path_prefix = path.join(\"point_source\", \"chaining\", \"single_plane_to_double_plane\")"
      ],
      "outputs": [],
      "execution_count": null
    },
    {
      "cell_type": "markdown",
      "metadata": {},
      "source": [
        "__PointSolver__\n",
        "\n",
        "Setup the `PointSolver`."
      ]
    },
    {
      "cell_type": "code",
      "metadata": {},
      "source": [
        "grid = al.Grid2D.uniform(\n",
        "    shape_native=(100, 100),\n",
        "    pixel_scales=0.2,  # <- The pixel-scale describes the conversion from pixel units to arc-seconds.\n",
        ")\n",
        "\n",
        "solver = al.PointSolver.for_grid(\n",
        "    grid=grid, pixel_scale_precision=0.001, magnification_threshold=0.1\n",
        ")"
      ],
      "outputs": [],
      "execution_count": null
    },
    {
      "cell_type": "markdown",
      "metadata": {},
      "source": [
        "__Model (Search 1)__\n",
        "\n",
        "Search 1 fits a lens model where:\n",
        "\n",
        " - The lens galaxy's total mass distribution is an `Isothermal` [5 parameters].\n",
        " - The intermediate source galaxy is a point `Point` [2 parameters].\n",
        " - The second source galaxy is included, so its redshift is used to perform multi-plane ray-tracing, but no model\n",
        " components are included [0 parameters].\n",
        "\n",
        "The number of free parameters and therefore the dimensionality of non-linear parameter space is N=9."
      ]
    },
    {
      "cell_type": "code",
      "metadata": {},
      "source": [
        "lens = af.Model(al.Galaxy, redshift=0.5, mass=al.mp.Isothermal)\n",
        "source_0 = af.Model(al.Galaxy, redshift=1.0, point_0=al.ps.Point)\n",
        "source_1 = af.Model(al.Galaxy, redshift=2.0)\n",
        "\n",
        "model_1 = af.Collection(\n",
        "    galaxies=af.Collection(lens=lens, source_0=source_0, source_1=source_1),\n",
        ")\n",
        "# %%\n",
        "'''\n",
        "The `info` attribute shows the model in a readable format.\n",
        "'''"
      ],
      "outputs": [],
      "execution_count": null
    },
    {
      "cell_type": "code",
      "metadata": {},
      "source": [
        "print(model_1.info)"
      ],
      "outputs": [],
      "execution_count": null
    },
    {
      "cell_type": "markdown",
      "metadata": {},
      "source": [
        "__Search + Analysis + Model-Fit (Search 1)__\n",
        "\n",
        "We now create the non-linear search, analysis and perform the model-fit using this model.\n",
        "\n",
        "You may wish to inspect the results of the search 1 model-fit to ensure a fast non-linear search has been provided that \n",
        "provides a reasonably accurate lens model."
      ]
    },
    {
      "cell_type": "code",
      "metadata": {},
      "source": [
        "search_1 = af.Nautilus(\n",
        "    path_prefix=path_prefix,\n",
        "    name=\"search[1]__single_plane\",\n",
        "    unique_tag=dataset_name,\n",
        "    n_live=100,\n",
        ")\n",
        "\n",
        "analysis_1 = al.AnalysisPoint(dataset=dataset_0, solver=solver)\n",
        "\n",
        "result_1 = search_1.fit(model=model_1, analysis=analysis_1)"
      ],
      "outputs": [],
      "execution_count": null
    },
    {
      "cell_type": "markdown",
      "metadata": {},
      "source": [
        "__Result (Search 1)__\n",
        "\n",
        "The results which are used for prior passing are summarized in the `info` attribute."
      ]
    },
    {
      "cell_type": "code",
      "metadata": {},
      "source": [
        "print(result_1.info)"
      ],
      "outputs": [],
      "execution_count": null
    },
    {
      "cell_type": "markdown",
      "metadata": {},
      "source": [
        "__Model (Search 2)__\n",
        "\n",
        "We use the results of search 1 to create the lens model fitted in search 2, where:\n",
        "\n",
        " - The lens galaxy's total mass distribution is an `Isothermal` [5 parameters: priors initialized from search 1].\n",
        " - The intermediate source galaxy's emission is again a point `Point` [2 parameters: priors initialized from \n",
        " search 1].\n",
        " - The intermediate source galaxy's total mass distribution is also modeled as an `Isothermal` [5 parameters].\n",
        " - The second source galaxy is modeling using a point `Point` [2 parameters: no prior initialization].\n",
        " \n",
        "The number of free parameters and therefore the dimensionality of non-linear parameter space is N=14.\n",
        "\n",
        "The term `model` below passes the source model as model-components that are to be fitted for by the  non-linear search. \n",
        "Because the source model does not change we can pass its priors by simply using the`model` attribute of the result:"
      ]
    },
    {
      "cell_type": "code",
      "metadata": {},
      "source": [
        "lens = result_1.model.galaxies.lens\n",
        "source_0 = af.Model(\n",
        "    al.Galaxy,\n",
        "    redshift=1.0,\n",
        "    mass=al.mp.Isothermal,\n",
        "    point_0=result_1.model.galaxies.source_0.point_0,\n",
        ")\n",
        "\n",
        "source_1 = af.Model(al.Galaxy, redshift=2.0, point_1=al.ps.Point)\n",
        "\n",
        "\n",
        "model_2 = af.Collection(\n",
        "    galaxies=af.Collection(lens=lens, source_0=source_0, source_1=source_1),\n",
        ")"
      ],
      "outputs": [],
      "execution_count": null
    },
    {
      "cell_type": "markdown",
      "metadata": {},
      "source": [
        "The `info` attribute shows the model, including how parameters and priors were passed from `result_1`."
      ]
    },
    {
      "cell_type": "code",
      "metadata": {},
      "source": [
        "print(model_2.info)"
      ],
      "outputs": [],
      "execution_count": null
    },
    {
      "cell_type": "markdown",
      "metadata": {},
      "source": [
        "__Search + Analysis + Model-Fit (Search 2)__\n",
        "\n",
        "We now create the non-linear search, analysis and perform the model-fit using this model.\n",
        "\n",
        "You may wish to inspect the `model.info` file of the search 2 model-fit to ensure the priors were passed correctly, as \n",
        "well as the checkout the results to ensure an accurate power-law mass model is inferred."
      ]
    },
    {
      "cell_type": "code",
      "metadata": {},
      "source": [
        "search_2 = af.Nautilus(\n",
        "    path_prefix=path_prefix,\n",
        "    name=\"search[2]__double_plane\",\n",
        "    unique_tag=dataset_name,\n",
        "    n_live=100,\n",
        ")\n",
        "\n",
        "analysis_2_0 = al.AnalysisPoint(dataset=dataset_0, solver=solver)\n",
        "analysis_2_1 = al.AnalysisPoint(dataset=dataset_1, solver=solver)\n",
        "\n",
        "analysis = sum([analysis_2_0, analysis_2_1])\n",
        "\n",
        "result_2 = search_2.fit(model=model_2, analysis=analysis)"
      ],
      "outputs": [],
      "execution_count": null
    },
    {
      "cell_type": "markdown",
      "metadata": {},
      "source": [
        "__Result (Search 2)__\n",
        "\n",
        "The final results can be summarized via printing `info`."
      ]
    },
    {
      "cell_type": "code",
      "metadata": {},
      "source": [
        "print(result_2.info)"
      ],
      "outputs": [],
      "execution_count": null
    },
    {
      "cell_type": "markdown",
      "metadata": {},
      "source": [
        "__Wrap Up__\n",
        "\n",
        "In this example, we passed used prior passing to initialize a model fit to the first plane in a double plane system \n",
        "and passed its priors to then fit a model to the full double plane system.\n",
        "\n",
        "This allowed us to fit the first plane in a fast and efficient manner, before moving on to fit the whole system."
      ]
    },
    {
      "cell_type": "code",
      "metadata": {},
      "source": [],
      "outputs": [],
      "execution_count": null
    }
  ],
  "metadata": {
    "anaconda-cloud": {},
    "kernelspec": {
      "display_name": "Python 3",
      "language": "python",
      "name": "python3"
    },
    "language_info": {
      "codemirror_mode": {
        "name": "ipython",
        "version": 3
      },
      "file_extension": ".py",
      "mimetype": "text/x-python",
      "name": "python",
      "nbconvert_exporter": "python",
      "pygments_lexer": "ipython3",
      "version": "3.6.1"
    }
  },
  "nbformat": 4,
  "nbformat_minor": 4
}