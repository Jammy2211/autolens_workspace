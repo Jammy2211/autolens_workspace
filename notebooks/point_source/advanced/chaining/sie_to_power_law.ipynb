{
  "cells": [
    {
      "cell_type": "markdown",
      "metadata": {},
      "source": [
        "Chaining: SIE to Power-law\n",
        "==========================\n",
        "\n",
        "This script chains two searches to fit `PointDict` data of a 'galaxy-scale' strong lens with a model where:\n",
        "\n",
        " - The lens galaxy's total mass distribution is an `PowerLaw`.\n",
        " - The source `Galaxy` is a point source `Point`.\n",
        "\n",
        "The two searches break down as follows:\n",
        "\n",
        " 1) Models the lens galaxy's mass as an `Isothermal` and the source galaxy's as a point `Point`.\n",
        "\n",
        " 2) Models the lens galaxy's mass an an `PowerLaw` and the source galaxy's as a point `Point`.\n",
        "\n",
        "__Why Chain?__\n",
        "\n",
        "The `EllPower` is a general form of the `Isothermal` which has one additional parameter, the `slope`,\n",
        "which controls the inner mass distribution as follows:\n",
        "\n",
        " - A higher slope concentrates more mass in the central regions of the mass profile relative to the outskirts.\n",
        " - A lower slope shallows the inner mass distribution reducing its density relative to the outskirts. \n",
        "\n",
        "By allowing the lens model to vary the mass profile's inner distribution, its non-linear parameter space becomes\n",
        "significantly more complex and a notable degeneracy appears between the mass model`s mass normalization, elliptical\n",
        "components and slope. This is challenging to sample in an efficient and robust manner, especially when the non-linear\n",
        "search's initial samples use broad uniform priors on the lens and source parameters.\n",
        "\n",
        "Search chaining allows us to begin by fitting an `Isothermal` model and therefore estimate the lens's mass\n",
        "model and the source parameters via a non-linear parameter space that does not have a strong of a parameter degeneracy\n",
        "present. This makes the model-fit more efficient and reliable.\n",
        "\n",
        "The second search then fits the `PowerLaw`, using prior passing to initialize the mass and elliptical\n",
        "components of the lens galaxy as well as the source galaxy's point-source (y,x) centre."
      ]
    },
    {
      "cell_type": "code",
      "metadata": {},
      "source": [
        "%matplotlib inline\n",
        "from pyprojroot import here\n",
        "workspace_path = str(here())\n",
        "%cd $workspace_path\n",
        "print(f\"Working Directory has been set to `{workspace_path}`\")\n",
        "\n",
        "from os import path\n",
        "import autofit as af\n",
        "import autolens as al\n",
        "import autolens.plot as aplt"
      ],
      "outputs": [],
      "execution_count": null
    },
    {
      "cell_type": "markdown",
      "metadata": {},
      "source": [
        "__Dataset__ \n",
        "\n",
        "Load and plot the `Imaging` of the point-source dataset, purely for visualization of the strong lens."
      ]
    },
    {
      "cell_type": "code",
      "metadata": {},
      "source": [
        "dataset_name = \"simple\"\n",
        "dataset_path = path.join(\"dataset\", \"point_source\", dataset_name)\n",
        "\n",
        "data = al.Array2D.from_fits(\n",
        "    file_path=path.join(dataset_path, \"data.fits\"), pixel_scales=0.05\n",
        ")"
      ],
      "outputs": [],
      "execution_count": null
    },
    {
      "cell_type": "markdown",
      "metadata": {},
      "source": [
        "__PointDict__\n",
        "\n",
        "Load and plot the `PointDict` dataset, which is the dataset used to perform lens modeling."
      ]
    },
    {
      "cell_type": "code",
      "metadata": {},
      "source": [
        "point_dict = al.PointDict.from_json(\n",
        "    file_path=path.join(dataset_path, \"point_dict.json\")\n",
        ")\n",
        "\n",
        "print(\"Point Source Multiple Image (y,x) Arc-second Coordinates:\")\n",
        "print(point_dict[\"point_0\"].positions.in_list)\n",
        "\n",
        "visuals = aplt.Visuals2D(positions=point_dict.positions_list)\n",
        "\n",
        "point_dict_plotter = aplt.PointDictPlotter(point_dict=point_dict)\n",
        "point_dict_plotter.subplot_positions()\n",
        "point_dict_plotter.subplot_fluxes()\n",
        "\n",
        "array_plotter = aplt.Array2DPlotter(array=data, visuals_2d=visuals)\n",
        "array_plotter.figure_2d()"
      ],
      "outputs": [],
      "execution_count": null
    },
    {
      "cell_type": "markdown",
      "metadata": {},
      "source": [
        "__Paths__\n",
        "\n",
        "The path the results of all chained searches are output:"
      ]
    },
    {
      "cell_type": "code",
      "metadata": {},
      "source": [
        "path_prefix = path.join(\"point_source\", \"chaining\", \"sie_to_power_law\")"
      ],
      "outputs": [],
      "execution_count": null
    },
    {
      "cell_type": "markdown",
      "metadata": {},
      "source": [
        "__PointSolver__\n",
        "\n",
        "Setup the `PositionSolver`."
      ]
    },
    {
      "cell_type": "code",
      "metadata": {},
      "source": [
        "grid = al.Grid2D.uniform(shape_native=data.shape_native, pixel_scales=data.pixel_scales)\n",
        "\n",
        "point_solver = al.PointSolver(grid=grid, pixel_scale_precision=0.025)"
      ],
      "outputs": [],
      "execution_count": null
    },
    {
      "cell_type": "markdown",
      "metadata": {},
      "source": [
        "__Model (Search 1)__\n",
        "\n",
        "In search 1 we fit a lens model where:\n",
        "\n",
        " - The lens galaxy's total mass distribution is an `Isothermal` [5 parameters].\n",
        " - The source galaxy's is a point `Point` [2 parameters].\n",
        "\n",
        "The number of free parameters and therefore the dimensionality of non-linear parameter space is N=9."
      ]
    },
    {
      "cell_type": "code",
      "metadata": {},
      "source": [
        "lens = af.Model(al.Galaxy, redshift=0.5, mass=al.mp.Isothermal)\n",
        "source = af.Model(al.Galaxy, redshift=1.0, point_0=al.ps.Point)\n",
        "\n",
        "model_1 = af.Collection(galaxies=af.Collection(lens=lens, source=source))"
      ],
      "outputs": [],
      "execution_count": null
    },
    {
      "cell_type": "markdown",
      "metadata": {},
      "source": [
        "The `info` attribute shows the model in a readable format."
      ]
    },
    {
      "cell_type": "code",
      "metadata": {},
      "source": [
        "print(model_1.info)"
      ],
      "outputs": [],
      "execution_count": null
    },
    {
      "cell_type": "markdown",
      "metadata": {},
      "source": [
        "__Search + Analysis + Model-Fit (Search 1)__\n",
        "\n",
        "We now create the non-linear search, analysis and perform the model-fit using this model.\n",
        "\n",
        "You may wish to inspect the results of the search 1 model-fit to ensure a fast non-linear search has been provided that \n",
        "provides a reasonably accurate lens model."
      ]
    },
    {
      "cell_type": "code",
      "metadata": {},
      "source": [
        "search_1 = af.Nautilus(\n",
        "    path_prefix=path_prefix, name=\"search[1]__sie\", unique_tag=dataset_name, n_live=100\n",
        ")\n",
        "\n",
        "analysis_1 = al.AnalysisPoint(point_dict=point_dict, solver=point_solver)\n",
        "\n",
        "result_1 = search_1.fit(model=model_1, analysis=analysis_1)"
      ],
      "outputs": [],
      "execution_count": null
    },
    {
      "cell_type": "markdown",
      "metadata": {},
      "source": [
        "__Result (Search 1)__\n",
        "\n",
        "The results which are used for prior passing are summarized in the `info` attribute."
      ]
    },
    {
      "cell_type": "code",
      "metadata": {},
      "source": [
        "print(result_1.info)"
      ],
      "outputs": [],
      "execution_count": null
    },
    {
      "cell_type": "markdown",
      "metadata": {},
      "source": [
        "__Model (Search 2)__\n",
        "\n",
        "We use the results of search 1 to create the lens model fitted in search 2, where:\n",
        "\n",
        " - The lens galaxy's total mass distribution is an `PowerLaw` [6 parameters: priors initialized from search 1].\n",
        " - The source galaxy's light is again a point `Point` [2 parameters: priors initialized from search 1].\n",
        " \n",
        "The number of free parameters and therefore the dimensionality of non-linear parameter space is N=10.\n",
        "\n",
        "The term `model` below passes the source model as model-components that are to be fitted for by the  non-linear search. \n",
        "Because the source model does not change we can pass its priors by simply using the`model` attribute of the result:"
      ]
    },
    {
      "cell_type": "code",
      "metadata": {},
      "source": [
        "source = result_1.model.galaxies.source"
      ],
      "outputs": [],
      "execution_count": null
    },
    {
      "cell_type": "markdown",
      "metadata": {},
      "source": [
        "However, we cannot use this to pass the lens galaxy, because its mass model must change from an `Isothermal` \n",
        "to an `PowerLaw`. The following code would not change the mass model to an `PowerLaw`:\n",
        " \n",
        " `lens = result.model.galaxies.lens`\n",
        " \n",
        "We can instead use the `take_attributes` method to pass the priors. Below, we pass the lens of the result above to a\n",
        "new `PowerLaw`, which will find all parameters in the `Isothermal` model that share the same name\n",
        "as parameters in the `PowerLaw` and pass their priors (in this case, the `centre`, `ell_comps` \n",
        "and `einstein_radius`).\n",
        "\n",
        "This leaves the `slope` parameter of the `PowerLaw` with its default `UniformPrior` which has a \n",
        "`lower_limit=1.5` and `upper_limit=3.0`."
      ]
    },
    {
      "cell_type": "code",
      "metadata": {},
      "source": [
        "mass = af.Model(al.mp.PowerLaw)\n",
        "mass.take_attributes(result_1.model.galaxies.lens.mass)\n",
        "\n",
        "lens = af.Model(al.Galaxy, redshift=0.5, mass=mass)\n",
        "\n",
        "model_2 = af.Collection(galaxies=af.Collection(lens=lens, source=source))"
      ],
      "outputs": [],
      "execution_count": null
    },
    {
      "cell_type": "markdown",
      "metadata": {},
      "source": [
        "The `info` attribute shows the model, including how parameters and priors were passed from `result_1`."
      ]
    },
    {
      "cell_type": "code",
      "metadata": {},
      "source": [
        "print(model_2.info)"
      ],
      "outputs": [],
      "execution_count": null
    },
    {
      "cell_type": "markdown",
      "metadata": {},
      "source": [
        "__Search + Analysis + Model-Fit (Search 2)__\n",
        "\n",
        "We now create the non-linear search, analysis and perform the model-fit using this model.\n",
        "\n",
        "You may wish to inspect the `model.info` file of the search 2 model-fit to ensure the priors were passed correctly, as \n",
        "well as the checkout the results to ensure an accurate power-law mass model is inferred."
      ]
    },
    {
      "cell_type": "code",
      "metadata": {},
      "source": [
        "search_2 = af.Nautilus(\n",
        "    path_prefix=path_prefix,\n",
        "    name=\"search[2]__power_law\",\n",
        "    unique_tag=dataset_name,\n",
        "    n_live=100,\n",
        ")\n",
        "\n",
        "analysis_2 = al.AnalysisPoint(point_dict=point_dict, solver=point_solver)\n",
        "\n",
        "result_2 = search_2.fit(model=model_2, analysis=analysis_2)"
      ],
      "outputs": [],
      "execution_count": null
    },
    {
      "cell_type": "markdown",
      "metadata": {},
      "source": [
        "__Result (Search 2)__\n",
        "\n",
        "The final results can be summarized via printing `info`."
      ]
    },
    {
      "cell_type": "code",
      "metadata": {},
      "source": [
        "print(result_2.info)"
      ],
      "outputs": [],
      "execution_count": null
    },
    {
      "cell_type": "markdown",
      "metadata": {},
      "source": [
        "__Wrap Up__\n",
        "\n",
        "In this example, we passed used prior passing to initialize a lens mass model as an `Isothermal` and \n",
        "passed its priors to then fit the more complex `PowerLaw` model. \n",
        "\n",
        "This removed difficult-to-fit degeneracies from the non-linear parameter space in search 1, providing a more robust \n",
        "and efficient model-fit."
      ]
    },
    {
      "cell_type": "code",
      "metadata": {},
      "source": [],
      "outputs": [],
      "execution_count": null
    }
  ],
  "metadata": {
    "anaconda-cloud": {},
    "kernelspec": {
      "display_name": "Python 3",
      "language": "python",
      "name": "python3"
    },
    "language_info": {
      "codemirror_mode": {
        "name": "ipython",
        "version": 3
      },
      "file_extension": ".py",
      "mimetype": "text/x-python",
      "name": "python",
      "nbconvert_exporter": "python",
      "pygments_lexer": "ipython3",
      "version": "3.6.1"
    }
  },
  "nbformat": 4,
  "nbformat_minor": 4
}