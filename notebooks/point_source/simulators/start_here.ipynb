{
  "cells": [
    {
      "cell_type": "markdown",
      "metadata": {},
      "source": [
        "Simulator: Start Here\n",
        "=====================\n",
        "\n",
        "This script is the starting point for simulating point source strong lens datasets, for example a lensed quasar\n",
        "or supernova, and it provides an overview of the lens simulation API.\n",
        "\n",
        "After reading this script, the `examples` folder provide examples for simulating more complex lenses in different ways.\n",
        "\n",
        "__Model__\n",
        "\n",
        "This script simulates `PointDataset` data of a strong lens where:\n",
        "\n",
        " - The lens galaxy's total mass distribution is an `Isothermal`.\n",
        " - The source `Galaxy` is a `Point`."
      ]
    },
    {
      "cell_type": "code",
      "metadata": {},
      "source": [
        "%matplotlib inline\n",
        "from pyprojroot import here\n",
        "workspace_path = str(here())\n",
        "%cd $workspace_path\n",
        "print(f\"Working Directory has been set to `{workspace_path}`\")\n",
        "\n",
        "from os import path\n",
        "import numpy as np\n",
        "import autolens as al\n",
        "import autolens.plot as aplt"
      ],
      "outputs": [],
      "execution_count": null
    },
    {
      "cell_type": "markdown",
      "metadata": {},
      "source": [
        "__Dataset Paths__\n",
        "\n",
        "The `dataset_type` describes the type of data being simulated (in this case, `PointDataset` data) and `dataset_name` \n",
        "gives it a descriptive name. They define the folder the dataset is output to on your hard-disk:\n",
        "\n",
        " - The image will be output to `/autolens_workspace/dataset/dataset_type/dataset_name/positions.json`.\n",
        " - The noise-map will be output to `/autolens_workspace/dataset/dataset_type/dataset_name/noise_map.json`."
      ]
    },
    {
      "cell_type": "code",
      "metadata": {},
      "source": [
        "dataset_type = \"point_source\"\n",
        "dataset_name = \"simple\""
      ],
      "outputs": [],
      "execution_count": null
    },
    {
      "cell_type": "markdown",
      "metadata": {},
      "source": [
        "The path where the dataset will be output, which in this case is:\n",
        "`/autolens_workspace/dataset/positions/simple`"
      ]
    },
    {
      "cell_type": "code",
      "metadata": {},
      "source": [
        "dataset_path = path.join(\"dataset\", dataset_type, dataset_name)"
      ],
      "outputs": [],
      "execution_count": null
    },
    {
      "cell_type": "markdown",
      "metadata": {},
      "source": [
        "__Ray Tracing__\n",
        "\n",
        "Setup the lens galaxy's mass (SIE) and source galaxy (a point source) for this simulated lens. \n",
        "\n",
        "We include a faint extended light profile for the source galaxy for visualization purposes, in order to show where \n",
        "the multiple images of the lensed source appear in the image-plane.\n",
        "\n",
        "For lens modeling, defining ellipticity in terms of the `ell_comps` improves the model-fitting procedure.\n",
        "\n",
        "However, for simulating a strong lens you may find it more intuitive to define the elliptical geometry using the \n",
        "axis-ratio of the profile (axis_ratio = semi-major axis / semi-minor axis = b/a) and position angle, where angle is\n",
        "in degrees and defined counter clockwise from the positive x-axis.\n",
        "\n",
        "We can use the `convert` module to determine the elliptical components from the axis-ratio and angle."
      ]
    },
    {
      "cell_type": "code",
      "metadata": {},
      "source": [
        "lens_galaxy = al.Galaxy(\n",
        "    redshift=0.5,\n",
        "    mass=al.mp.Isothermal(\n",
        "        centre=(0.0, 0.0),\n",
        "        einstein_radius=1.6,\n",
        "        ell_comps=al.convert.ell_comps_from(axis_ratio=0.9, angle=45.0),\n",
        "    ),\n",
        ")\n",
        "\n",
        "source_galaxy = al.Galaxy(\n",
        "    redshift=1.0,\n",
        "    light=al.lp.ExponentialCore(\n",
        "        centre=(0.0, 0.0), intensity=0.1, effective_radius=0.02, radius_break=0.025\n",
        "    ),\n",
        "    point_0=al.ps.Point(centre=(0.0, 0.0)),\n",
        ")"
      ],
      "outputs": [],
      "execution_count": null
    },
    {
      "cell_type": "markdown",
      "metadata": {},
      "source": [
        "Use these galaxies to setup a tracer, which will compute the multiple image positions of the simulated dataset."
      ]
    },
    {
      "cell_type": "code",
      "metadata": {},
      "source": [
        "tracer = al.Tracer(galaxies=[lens_galaxy, source_galaxy])"
      ],
      "outputs": [],
      "execution_count": null
    },
    {
      "cell_type": "markdown",
      "metadata": {},
      "source": [
        "__Point Solver__\n",
        "\n",
        "A `PointSolver` determines the multiple-images of the mass model for a point source at location (y,x) in the source \n",
        "plane. It does this by iteratively ray-tracing light rays from the image-plane to the source-plane, until it finds \n",
        "the image-plane coordinate that rays converge at for a given  source-plane (y,x).\n",
        "\n",
        "For the lens mass model defined above, it computes the multiple images of the source galaxy\n",
        "at the (y,x) source-plane coordinates (0.0\", 0.0\") of the point source.\n",
        "\n",
        "The `PointSolver` requires a starting grid of (y,x) coordinates in the image-plane, which are iteratively traced \n",
        "and refined to locate the image-plane coordinates that map directly to the source-plane coordinate.\n",
        "\n",
        "The `pixel_scale_precision` is the resolution up to which the multiple images are computed. The lower the value, the\n",
        "longer the calculation, with a value of 0.001 being efficient but more than sufficient for most point-source datasets.\n",
        "\n",
        "Strong lens mass models have a multiple image called the \"central image\", which is located at the centre of the lens.\n",
        "However, the image is nearly always demagnified due to the mass model, and is therefore not observed and not\n",
        "something we want to be included in the simulated dataset. The `maginification_threshold` removes this image, by\n",
        "discarding any image with a magnification below the threshold."
      ]
    },
    {
      "cell_type": "code",
      "metadata": {},
      "source": [
        "grid = al.Grid2D.uniform(\n",
        "    shape_native=(200, 200),\n",
        "    pixel_scales=0.05,  # <- The pixel-scale describes the conversion from pixel units to arc-seconds.\n",
        ")\n",
        "\n",
        "solver = al.PointSolver.for_grid(\n",
        "    grid=grid, pixel_scale_precision=0.001, magnification_threshold=0.1\n",
        ")"
      ],
      "outputs": [],
      "execution_count": null
    },
    {
      "cell_type": "markdown",
      "metadata": {},
      "source": [
        "We now pass the `Tracer` to the solver, which calculates the image-plane multiple image coordinates that map directly \n",
        "to the source-plane coordinate (0.0\", 0.0\")."
      ]
    },
    {
      "cell_type": "code",
      "metadata": {},
      "source": [
        "positions = solver.solve(\n",
        "    tracer=tracer, source_plane_coordinate=source_galaxy.point_0.centre\n",
        ")"
      ],
      "outputs": [],
      "execution_count": null
    },
    {
      "cell_type": "markdown",
      "metadata": {},
      "source": [
        "__Fluxes__\n",
        "\n",
        "The flux of the multiple images are also simulated.\n",
        "\n",
        "Given a mass model and (y,x) image-plane coordinates, the magnification at that point on the image-plane can be\n",
        "calculated. \n",
        "\n",
        "This is performed below for every multiple image image-plane coordinate, which will be used to simulate the fluxes\n",
        "of the multiple images."
      ]
    },
    {
      "cell_type": "code",
      "metadata": {},
      "source": [
        "magnifications = tracer.magnification_2d_via_hessian_from(grid=positions)"
      ],
      "outputs": [],
      "execution_count": null
    },
    {
      "cell_type": "markdown",
      "metadata": {},
      "source": [
        "To simulate the fluxes, we assume the source galaxy point-source has a total flux of 1.0.\n",
        "\n",
        "Each observed image has a flux that is the source's flux multiplied by the magnification at that image-plane coordinate."
      ]
    },
    {
      "cell_type": "code",
      "metadata": {},
      "source": [
        "flux = 1.0\n",
        "fluxes = [flux * np.abs(magnification) for magnification in magnifications]\n",
        "fluxes = al.ArrayIrregular(values=fluxes)"
      ],
      "outputs": [],
      "execution_count": null
    },
    {
      "cell_type": "markdown",
      "metadata": {},
      "source": [
        "__Point Datasets__\n",
        "\n",
        "All of the quantities computed above are input into a `PointDataset` object, which collates all information\n",
        "about the multiple images of a point-source strong lens system.\n",
        "\n",
        "In this example, it contains the image-plane coordinates of the multiple images, the fluxes of the multiple images,\n",
        "and their associated noise-map values.\n",
        "\n",
        "It also contains the name `point_0`, which is a label given to the dataset to indicate that it is a dataset of a single\n",
        "point-source. This label is important, it is used for lens modeling in order to associate the dataset with the correct\n",
        "point-source in the model."
      ]
    },
    {
      "cell_type": "code",
      "metadata": {},
      "source": [
        "dataset = al.PointDataset(\n",
        "    name=\"point_0\",\n",
        "    positions=positions,\n",
        "    positions_noise_map=grid.pixel_scale,\n",
        "    fluxes=fluxes,\n",
        "    fluxes_noise_map=al.ArrayIrregular(\n",
        "        values=[np.sqrt(flux) for _ in range(len(fluxes))]\n",
        "    ),\n",
        ")"
      ],
      "outputs": [],
      "execution_count": null
    },
    {
      "cell_type": "markdown",
      "metadata": {},
      "source": [
        "We now output the point dataset to the dataset path as a .json file, which is loaded in the point source modeling\n",
        "examples.\n",
        "\n",
        "In this example, there is just one point source dataset. However, for group and cluster strong lenses there\n",
        "can be many point source datasets in a single dataset, and separate .json files are output for each."
      ]
    },
    {
      "cell_type": "code",
      "metadata": {},
      "source": [
        "al.output_to_json(\n",
        "    obj=dataset,\n",
        "    file_path=path.join(dataset_path, \"point_dataset.json\"),\n",
        ")"
      ],
      "outputs": [],
      "execution_count": null
    },
    {
      "cell_type": "markdown",
      "metadata": {},
      "source": [
        "__Visualize__\n",
        "\n",
        "Output a subplot of the simulated point source dataset as a .png file."
      ]
    },
    {
      "cell_type": "code",
      "metadata": {},
      "source": [
        "mat_plot_1d = aplt.MatPlot1D(output=aplt.Output(path=dataset_path, format=\"png\"))\n",
        "mat_plot_2d = aplt.MatPlot2D(output=aplt.Output(path=dataset_path, format=\"png\"))\n",
        "\n",
        "point_dataset_plotter = aplt.PointDatasetPlotter(\n",
        "    dataset=dataset, mat_plot_1d=mat_plot_1d, mat_plot_2d=mat_plot_2d\n",
        ")\n",
        "point_dataset_plotter.subplot_dataset()"
      ],
      "outputs": [],
      "execution_count": null
    },
    {
      "cell_type": "markdown",
      "metadata": {},
      "source": [
        "Output subplots of the tracer's images, including the positions of the multiple images on the image."
      ]
    },
    {
      "cell_type": "code",
      "metadata": {},
      "source": [
        "visuals = aplt.Visuals2D(multiple_images=positions)\n",
        "\n",
        "tracer_plotter = aplt.TracerPlotter(\n",
        "    tracer=tracer, grid=grid, mat_plot_2d=mat_plot_2d, visuals_2d=visuals\n",
        ")\n",
        "tracer_plotter.subplot_tracer()\n",
        "tracer_plotter.subplot_galaxies_images()"
      ],
      "outputs": [],
      "execution_count": null
    },
    {
      "cell_type": "markdown",
      "metadata": {},
      "source": [
        "__Tracer json__\n",
        "\n",
        "Save the `Tracer` in the dataset folder as a .json file, ensuring the true light profiles, mass profiles and galaxies\n",
        "are safely stored and available to check how the dataset was simulated in the future. \n",
        "\n",
        "This can be loaded via the method `tracer = al.from_json()`."
      ]
    },
    {
      "cell_type": "code",
      "metadata": {},
      "source": [
        "al.output_to_json(\n",
        "    obj=tracer,\n",
        "    file_path=path.join(dataset_path, \"tracer.json\"),\n",
        ")"
      ],
      "outputs": [],
      "execution_count": null
    },
    {
      "cell_type": "markdown",
      "metadata": {},
      "source": [
        "__Imaging__\n",
        "\n",
        "Point-source data typically comes with imaging data of the strong lens, for example showing the 4 multiply\n",
        "imaged point-sources (e.g. the quasar images).\n",
        "\n",
        "Whilst this data may not be used for point-source modeling, it is often used to measure the locations of the point\n",
        "source multiple images in the first place, and is also useful for visually confirming the images we are using are in \n",
        "right place. It may also contain emission from the lens galaxy's light, which can be used to perform point-source \n",
        "modeling.\n",
        "\n",
        "We therefore simulate imaging dataset of this point source and output it to the dataset folder in an `imaging` folder\n",
        "as .fits and .png files. \n",
        "\n",
        "If you are not familiar with the imaging simulator API, checkout the `imaging/simulators/start_here.py` example \n",
        "in the `autolens_workspace`."
      ]
    },
    {
      "cell_type": "code",
      "metadata": {},
      "source": [
        "psf = al.Kernel2D.from_gaussian(\n",
        "    shape_native=(11, 11), sigma=0.1, pixel_scales=grid.pixel_scales\n",
        ")\n",
        "\n",
        "simulator = al.SimulatorImaging(\n",
        "    exposure_time=300.0, psf=psf, background_sky_level=0.1, add_poisson_noise=True\n",
        ")\n",
        "\n",
        "imaging = simulator.via_tracer_from(tracer=tracer, grid=grid)\n",
        "\n",
        "imaging_path = path.join(dataset_path, \"imaging\")\n",
        "\n",
        "mat_plot_2d = aplt.MatPlot2D(output=aplt.Output(path=imaging_path, format=\"png\"))\n",
        "\n",
        "imaging_plotter = aplt.ImagingPlotter(\n",
        "    dataset=imaging, mat_plot_2d=mat_plot_2d, visuals_2d=visuals\n",
        ")\n",
        "imaging_plotter.subplot_dataset()\n",
        "\n",
        "imaging.output_to_fits(\n",
        "    data_path=path.join(dataset_path, \"data.fits\"),\n",
        "    psf_path=path.join(dataset_path, \"psf.fits\"),\n",
        "    noise_map_path=path.join(dataset_path, \"noise_map.fits\"),\n",
        "    overwrite=True,\n",
        ")\n",
        "\n",
        "dataset_plotter = aplt.ImagingPlotter(dataset=imaging, mat_plot_2d=mat_plot_2d)\n",
        "dataset_plotter.subplot_dataset()\n",
        "dataset_plotter.figures_2d(data=True)"
      ],
      "outputs": [],
      "execution_count": null
    },
    {
      "cell_type": "markdown",
      "metadata": {},
      "source": [
        "Finished."
      ]
    },
    {
      "cell_type": "code",
      "metadata": {},
      "source": [],
      "outputs": [],
      "execution_count": null
    }
  ],
  "metadata": {
    "anaconda-cloud": {},
    "kernelspec": {
      "display_name": "Python 3",
      "language": "python",
      "name": "python3"
    },
    "language_info": {
      "codemirror_mode": {
        "name": "ipython",
        "version": 3
      },
      "file_extension": ".py",
      "mimetype": "text/x-python",
      "name": "python",
      "nbconvert_exporter": "python",
      "pygments_lexer": "ipython3",
      "version": "3.6.1"
    }
  },
  "nbformat": 4,
  "nbformat_minor": 4
}