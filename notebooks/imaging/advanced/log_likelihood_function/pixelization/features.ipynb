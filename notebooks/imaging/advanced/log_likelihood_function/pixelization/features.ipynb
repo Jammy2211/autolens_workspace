{
  "cells": [
    {
      "cell_type": "markdown",
      "metadata": {},
      "source": [
        "__Sub Gridding__\n",
        "\n",
        "The calculation above uses a `Grid2D` object, with a `sub-size=1`, meaning it does not perform oversampling to\n",
        "evaluate the light profile flux at every image pixel.\n",
        "\n",
        "**PyAutoLens** has alternative methods of computing the lens galaxy images above, which uses a grid whose sub-size\n",
        "adaptively increases depending on a required fractional accuracy of the light profile.\n",
        "\n",
        " https://github.com/Jammy2211/PyAutoArray/blob/main/autoarray/structures/grids/two_d/grid_iterate.py"
      ]
    },
    {
      "cell_type": "code",
      "metadata": {},
      "source": [
        "# masked_imaging_iterate = dataset.apply_mask(mask=mask)\n",
        "# masked_imaging_iterate = masked_imaging_iterate.apply_over_sampling(\n",
        "#     over_sampling=al.OverSamplingDataset(uniform=al.OverSamplingIterate())\n",
        "# )\n",
        "#\n",
        "# image_iterate = lens_galaxy.image_2d_from(grid=masked_imaging_iterate.grid)\n",
        "# blurring_image_iterate = lens_galaxy.image_2d_from(grid=masked_dataset.grids.blurring)\n"
      ],
      "outputs": [],
      "execution_count": null
    },
    {
      "cell_type": "markdown",
      "metadata": {},
      "source": [
        "__Sourrce Plane Interpolation__\n",
        "\n",
        "For the `VoronoiNoInterp` pixelization used in this example, every image-sub pixel maps to a single source Voronoi\n",
        "pixel. Therefore, the plural use of `pix_indexes` is not required. However, for other pixelizations each sub-pixel\n",
        "can map to multiple source pixels with an interpolation weight (e.g. `Delaunay` triangulation or a `Voronoi` mesh\n",
        "which uses natural neighbor interpolation).\n",
        "\n",
        "`MapperVoronoiNoInterp.pix_index_for_sub_slim_index`: \n",
        "https://github.com/Jammy2211/PyAutoArray/blob/main/autoarray/inversion/mappers/voronoi.py\n",
        "\n",
        "`pixelization_index_for_voronoi_sub_slim_index_from`: \n",
        " https://github.com/Jammy2211/PyAutoArray/blob/main/autoarray/util/mapper_util.py "
      ]
    },
    {
      "cell_type": "code",
      "metadata": {},
      "source": [],
      "outputs": [],
      "execution_count": null
    },
    {
      "cell_type": "markdown",
      "metadata": {},
      "source": [
        "The number of pixels that each sub-pixel maps too is also stored and extracted. This is used for speeding up \n",
        "the calculation of the `mapping_matrix` described next.\n",
        "\n",
        "As discussed above, because for the `VoronoiNoInterp` pixelization where every sub-pixel maps to one source pixel,\n",
        "every entry of this array will be equal to 1."
      ]
    },
    {
      "cell_type": "code",
      "metadata": {},
      "source": [
        "# pix_sizes_for_sub_slim_index = mapper.pix_sizes_for_sub_slim_index"
      ],
      "outputs": [],
      "execution_count": null
    },
    {
      "cell_type": "markdown",
      "metadata": {},
      "source": [
        "When each sub-pixel maps to multiple source pixels, the mappings are described via an interpolation weight. For \n",
        "example, for a `Delaunay` triangulation, every sub-pixel maps to 3 Delaunay triangles based on which triangle\n",
        "it lands in.\n",
        "\n",
        "For the `VoronoiNoInterp` pixelization where every sub-pixel maps to a single source pixel without inteprolation,\n",
        "every entry of this weight array is 1.0."
      ]
    },
    {
      "cell_type": "code",
      "metadata": {},
      "source": [
        "# pix_weights_for_sub_slim_index = mapper.pix_weights_for_sub_slim_index\n"
      ],
      "outputs": [],
      "execution_count": null
    }
  ],
  "metadata": {
    "anaconda-cloud": {},
    "kernelspec": {
      "display_name": "Python 3",
      "language": "python",
      "name": "python3"
    },
    "language_info": {
      "codemirror_mode": {
        "name": "ipython",
        "version": 3
      },
      "file_extension": ".py",
      "mimetype": "text/x-python",
      "name": "python",
      "nbconvert_exporter": "python",
      "pygments_lexer": "ipython3",
      "version": "3.6.1"
    }
  },
  "nbformat": 4,
  "nbformat_minor": 4
}