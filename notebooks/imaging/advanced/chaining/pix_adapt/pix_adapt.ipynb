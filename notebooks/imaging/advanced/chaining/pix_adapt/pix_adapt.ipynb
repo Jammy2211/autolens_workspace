{
  "cells": [
    {
      "cell_type": "markdown",
      "metadata": {},
      "source": [
        "Chaining: Pixelization Adapt\n",
        "============================\n",
        "\n",
        "Non-linear search chaining is an advanced model-fitting approach in **PyAutoLens** which breaks the model-fitting\n",
        "procedure down into multiple non-linear searches, using the results of the initial searches to initialization parameter\n",
        "sampling in subsequent searches. This contrasts the `modeling` examples which each compose and fit a single lens\n",
        "model-fit using one non-linear search.\n",
        "\n",
        "An overview of search chaining is provided in the `autolens_workspace/*/imaging/chaining/api.py` script, make\n",
        "sure to read that before reading this script!\n",
        "\n",
        "This script introduces **PyAutoLens**'s pixelization adaption features, which pass the results of previous\n",
        "model-fits performed by earlier searches to searches performed later in the chain, in order to adapt the pixelizaiton's\n",
        "mesh and regularization to the source's unlensed properties.\n",
        "\n",
        "This script illustrates using the `KMeans` image-mesh, `Delaunay` mesh and `AdaptiveBrightness` regularization\n",
        "scheme to adapt the source reconstruction to the source galaxy's morphology (as opposed to schemes introduced\n",
        "previously which adapt to the mass model magnification or apply a constant regularization pattern).\n",
        "\n",
        "This script illustrates the API used for pixelization adaptive features, but does not go into the details of how they\n",
        "work. This is described in chapter 4 of the **HowToLens** lectures.\n",
        "\n",
        "__Start Here Notebook__\n",
        "\n",
        "If any code in this script is unclear, refer to the `chaining/start_here.ipynb` notebook."
      ]
    },
    {
      "cell_type": "code",
      "metadata": {},
      "source": [
        "%matplotlib inline\n",
        "from pyprojroot import here\n",
        "workspace_path = str(here())\n",
        "%cd $workspace_path\n",
        "print(f\"Working Directory has been set to `{workspace_path}`\")\n",
        "\n",
        "from os import path\n",
        "import autofit as af\n",
        "import autolens as al\n",
        "import autolens.plot as aplt"
      ],
      "outputs": [],
      "execution_count": null
    },
    {
      "cell_type": "markdown",
      "metadata": {},
      "source": [
        "__Dataset + Masking + Positions__ \n",
        "\n",
        "Load, plot and mask the `Imaging` data."
      ]
    },
    {
      "cell_type": "code",
      "metadata": {},
      "source": [
        "dataset_name = \"simple__no_lens_light\"\n",
        "dataset_path = path.join(\"dataset\", \"imaging\", dataset_name)\n",
        "\n",
        "dataset = al.Imaging.from_fits(\n",
        "    data_path=path.join(dataset_path, \"data.fits\"),\n",
        "    noise_map_path=path.join(dataset_path, \"noise_map.fits\"),\n",
        "    psf_path=path.join(dataset_path, \"psf.fits\"),\n",
        "    pixel_scales=0.1,\n",
        ")\n",
        "\n",
        "mask = al.Mask2D.circular(\n",
        "    shape_native=dataset.shape_native, pixel_scales=dataset.pixel_scales, radius=3.0\n",
        ")\n",
        "\n",
        "dataset = dataset.apply_mask(mask=mask)\n",
        "\n",
        "dataset_plotter = aplt.ImagingPlotter(dataset=dataset)\n",
        "dataset_plotter.subplot_dataset()\n",
        "\n",
        "positions = al.Grid2DIrregular.from_json(\n",
        "    file_path=path.join(dataset_path, \"positions.json\")\n",
        ")"
      ],
      "outputs": [],
      "execution_count": null
    },
    {
      "cell_type": "markdown",
      "metadata": {},
      "source": [
        "__Paths__\n",
        "\n",
        "The path the results of all chained searches are output:"
      ]
    },
    {
      "cell_type": "code",
      "metadata": {},
      "source": [
        "path_prefix = path.join(\"imaging\", \"chaining\", \"pix_adapt\")"
      ],
      "outputs": [],
      "execution_count": null
    },
    {
      "cell_type": "markdown",
      "metadata": {},
      "source": [
        "__Adapt Setup__\n",
        "\n",
        "The `SetupAdapt` determines the pixelization adaption setup. \n",
        "\n",
        "The following options are available:\n",
        "\n",
        " - `mesh_pixels_fixed`: Use a fixed number of source pixels in the pixelization's mesh.\n",
        " \n",
        " - `search_pix_cls`: The non-linear search used to adapt the pixelization's mesh and regularization scheme.\n",
        " \n",
        " - `search_pix_dict`: The dictionary of search options for the adapt model-fit searches.\n",
        " \n",
        "The mesh and regularization schemes which adapt to the source's properties are not passed into\n",
        "`SetupAdapt`, but are used in this example script below.\n",
        "\n",
        "In this example, we only fix the number of source pixels to 1500, which balances computational runtimes with the\n",
        "resolution of the source reconstruction. The adapt search uses the default settings, including a `Nautilus` \n",
        "non-linear search."
      ]
    },
    {
      "cell_type": "code",
      "metadata": {},
      "source": [
        "setup_adapt = al.SetupAdapt(mesh_pixels_fixed=1500)"
      ],
      "outputs": [],
      "execution_count": null
    },
    {
      "cell_type": "markdown",
      "metadata": {},
      "source": [
        "__Model (Search 1)__\n",
        "\n",
        "We compose our lens model using `Model` objects, which represent the galaxies we fit to our data. In the first\n",
        "search our lens model is:\n",
        "\n",
        " - The lens galaxy's total mass distribution is an `Isothermal` with `ExternalShear` [7 parameters].\n",
        " \n",
        " - The source-galaxy's light uses a `DelaunayBrightness` pixelization with fixed resolution 30 x 30 pixels (0 parameters).\n",
        "\n",
        " - This pixelization is regularized using a `ConstantSplit` scheme which smooths every source pixel equally [1 parameter]. \n",
        "\n",
        "The number of free parameters and therefore the dimensionality of non-linear parameter space is N=8."
      ]
    },
    {
      "cell_type": "code",
      "metadata": {},
      "source": [
        "lens = af.Model(al.Galaxy, redshift=0.5, mass=al.mp.Isothermal)\n",
        "\n",
        "pixelization = af.Model(\n",
        "    al.Pixelization,\n",
        "    image_mesh=al.image_mesh.Overlay(shape=(30, 30)),\n",
        "    mesh=al.mesh.Delaunay(),\n",
        "    regularization=al.reg.ConstantSplit,\n",
        ")\n",
        "\n",
        "source = af.Model(al.Galaxy, redshift=1.0, pixelization=pixelization)\n",
        "\n",
        "model_1 = af.Collection(galaxies=af.Collection(lens=lens, source=source))"
      ],
      "outputs": [],
      "execution_count": null
    },
    {
      "cell_type": "markdown",
      "metadata": {},
      "source": [
        "__Search + Analysis + Model-Fit (Search 1)__\n",
        "\n",
        "We now create the non-linear search, analysis and perform the model-fit using this model.\n",
        "\n",
        "You may wish to inspect the results of the search 1 model-fit to ensure a fast non-linear search has been provided that \n",
        "provides a reasonably accurate lens model."
      ]
    },
    {
      "cell_type": "code",
      "metadata": {},
      "source": [
        "search_1 = af.Nautilus(\n",
        "    path_prefix=path_prefix,\n",
        "    name=\"search[1]__adapt\",\n",
        "    unique_tag=dataset_name,\n",
        "    n_live=100,\n",
        ")\n",
        "\n",
        "analysis_1 = al.AnalysisImaging(dataset=dataset)\n",
        "\n",
        "result_1 = search_1.fit(model=model_1, analysis=analysis_1)"
      ],
      "outputs": [],
      "execution_count": null
    },
    {
      "cell_type": "markdown",
      "metadata": {},
      "source": [
        "__Model (Search 2)__\n",
        "\n",
        "Search 2, our source model now uses the `KMeans` image-mesh, `Delaunay` mesh and `AdaptiveBrightness` regularization\n",
        "scheme that adapt to the source's unlensed morphology. These use the model-images of search 1, which is passed to the\n",
        "`Analysis` class below. \n",
        "\n",
        "We also use the results of search 1 to create the lens `Model` that we fit in search 2. This is described in the \n",
        "`api.py` chaining example."
      ]
    },
    {
      "cell_type": "code",
      "metadata": {},
      "source": [
        "lens = result_1.model.galaxies.lens\n",
        "\n",
        "pixelization = af.Model(\n",
        "    al.Pixelization,\n",
        "    image_mesh=al.image_mesh.KMeans,\n",
        "    mesh=al.mesh.Delaunay,\n",
        "    regularization=al.reg.AdaptiveBrightnessSplit,\n",
        ")\n",
        "\n",
        "source = af.Model(\n",
        "    al.Galaxy,\n",
        "    redshift=1.0,\n",
        "    pixelization=pixelization,\n",
        ")\n",
        "\n",
        "model_2 = af.Collection(galaxies=af.Collection(lens=lens, source=source))"
      ],
      "outputs": [],
      "execution_count": null
    },
    {
      "cell_type": "markdown",
      "metadata": {},
      "source": [
        "__Search + Analysis + Model-Fit (Search 2)__\n",
        "\n",
        "We now create the non-linear search, analysis and perform the model-fit using this model.\n",
        "\n",
        "When we create the analysis, we pass it a `adapt_result`, which is the result of search 1. This is telling the \n",
        "`Analysis` class to use the model-images of this fit to aid the fitting of the `KMeans` image-mesh, `Delaunay` mesh \n",
        "and `AdaptiveBrightness` regularization for the source galaxy.\n",
        "\n",
        "If you inspect and compare the results of searches 1 and 2, you'll note how the model-fits of search 2 have a much\n",
        "higher likelihood than search 1 and how the source reconstruction has congregated it pixels to the bright central\n",
        "regions of the source. This indicates that a much better result has been achieved, the reasons for which are discussed\n",
        "in chapter 5 of the **HowToLens** lectures."
      ]
    },
    {
      "cell_type": "code",
      "metadata": {},
      "source": [
        "search_2 = af.Nautilus(\n",
        "    path_prefix=path_prefix, name=\"search[2]__adapt\", unique_tag=dataset_name, n_live=75\n",
        ")\n",
        "\n",
        "analysis_2 = al.AnalysisImaging(dataset=dataset, adapt_result=result_1)\n",
        "\n",
        "result_2 = search_2.fit(model=model_2, analysis=analysis_2)"
      ],
      "outputs": [],
      "execution_count": null
    },
    {
      "cell_type": "markdown",
      "metadata": {},
      "source": [
        "Fin."
      ]
    },
    {
      "cell_type": "code",
      "metadata": {},
      "source": [],
      "outputs": [],
      "execution_count": null
    }
  ],
  "metadata": {
    "anaconda-cloud": {},
    "kernelspec": {
      "display_name": "Python 3",
      "language": "python",
      "name": "python3"
    },
    "language_info": {
      "codemirror_mode": {
        "name": "ipython",
        "version": 3
      },
      "file_extension": ".py",
      "mimetype": "text/x-python",
      "name": "python",
      "nbconvert_exporter": "python",
      "pygments_lexer": "ipython3",
      "version": "3.6.1"
    }
  },
  "nbformat": 4,
  "nbformat_minor": 4
}