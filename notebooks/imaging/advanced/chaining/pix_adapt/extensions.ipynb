{
  "cells": [
    {
      "cell_type": "code",
      "metadata": {},
      "source": [
        "from typing import List, Union, Dict, Optional\n",
        "\n",
        "import autofit as af\n",
        "import autolens as al\n",
        "\n",
        "\n",
        "def adapt_fit(\n",
        "    setup_adapt: al.SetupAdapt,\n",
        "    result: af.Result,\n",
        "    analysis: Union[al.AnalysisImaging, al.AnalysisInterferometer],\n",
        "):\n",
        "    \"\"\"\n",
        "    Perform a adapt-fit, which extends a model-fit with an additional fit which fixes the non-pixelization components of the\n",
        "    model (e.g., `LightProfile`'s, `MassProfile`) to the `Result`'s maximum likelihood fit. The adapt-fit then treats\n",
        "    only the adaptive pixelization's components as free parameters, which are any of the following model components:\n",
        "\n",
        "    1) The `Pixelization` of any `Galaxy` in the model.\n",
        "    2) The `Regularization` of any `Galaxy` in the model.\n",
        "\n",
        "    The adapt model is typically used in pipelines to refine and improve an `Inversion` after model-fits that fit the\n",
        "    `Galaxy` light and mass components.\n",
        "\n",
        "    Parameters\n",
        "    ----------\n",
        "    setup_adapt\n",
        "        The setup of the adapt fit.\n",
        "    result\n",
        "        The result of a previous `Analysis` search whose maximum log likelihood model forms the basis of the adapt model.\n",
        "    analysis\n",
        "        An analysis which is used to fit imaging or interferometer data with a model.\n",
        "\n",
        "    Returns\n",
        "    -------\n",
        "    af.Result\n",
        "        The result of the adapt model-fit, which has a new attribute `result.adapt` that contains updated parameter\n",
        "        values for the adaptive pixelization's components for passing to later model-fits.\n",
        "    \"\"\"\n",
        "\n",
        "    return al.util.model.adapt_fit(\n",
        "        setup_adapt=setup_adapt,\n",
        "        result=result,\n",
        "        analysis=analysis,\n",
        "    )\n"
      ],
      "outputs": [],
      "execution_count": null
    }
  ],
  "metadata": {
    "anaconda-cloud": {},
    "kernelspec": {
      "display_name": "Python 3",
      "language": "python",
      "name": "python3"
    },
    "language_info": {
      "codemirror_mode": {
        "name": "ipython",
        "version": 3
      },
      "file_extension": ".py",
      "mimetype": "text/x-python",
      "name": "python",
      "nbconvert_exporter": "python",
      "pygments_lexer": "ipython3",
      "version": "3.6.1"
    }
  },
  "nbformat": 4,
  "nbformat_minor": 4
}