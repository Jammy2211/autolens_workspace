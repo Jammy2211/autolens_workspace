{
  "cells": [
    {
      "cell_type": "markdown",
      "metadata": {},
      "source": [
        "Chaining: Pixelization Adapt\n",
        "============================\n",
        "\n",
        "Non-linear search chaining is an advanced model-fitting approach in **PyAutoLens** which breaks the model-fitting\n",
        "procedure down into multiple non-linear searches, using the results of the initial searches to initialization parameter\n",
        "sampling in subsequent searches. This contrasts the `modeling` examples which each compose and fit a single lens\n",
        "model-fit using one non-linear search.\n",
        "\n",
        "An overview of search chaining is provided in the `autolens_workspace/*/imaging/chaining/api.py` script, make\n",
        "sure to read that before reading this script!\n",
        "\n",
        "This script introduces **PyAutoLens**'s pixelization adaption features, which pass the results of previous\n",
        "model-fits performed by earlier searches to searches performed later in the chain, in order to adapt the pixelizaiton's\n",
        "mesh and regularization to the source's unlensed properties.\n",
        "\n",
        "This script illustrates using the `Hilbert` image-mesh, `Delaunay` mesh and `AdaptiveBrightnessSplit` regularization\n",
        "scheme to adapt the source reconstruction to the source galaxy's morphology (as opposed to schemes introduced\n",
        "previously which adapt to the mass model magnification or apply a constant regularization pattern).\n",
        "\n",
        "This script illustrates the API used for pixelization adaptive features, but does not go into the details of how they\n",
        "work. This is described in chapter 4 of the **HowToLens** lectures.\n",
        "\n",
        "__Start Here Notebook__\n",
        "\n",
        "If any code in this script is unclear, refer to the `chaining/start_here.ipynb` notebook."
      ]
    },
    {
      "cell_type": "code",
      "metadata": {},
      "source": [
        "%matplotlib inline\n",
        "from pyprojroot import here\n",
        "workspace_path = str(here())\n",
        "%cd $workspace_path\n",
        "print(f\"Working Directory has been set to `{workspace_path}`\")\n",
        "\n",
        "from os import path\n",
        "import autofit as af\n",
        "import autolens as al\n",
        "import autolens.plot as aplt"
      ],
      "outputs": [],
      "execution_count": null
    },
    {
      "cell_type": "markdown",
      "metadata": {},
      "source": [
        "__Dataset + Masking + Positions__ \n",
        "\n",
        "Load, plot and mask the `Imaging` data."
      ]
    },
    {
      "cell_type": "code",
      "metadata": {},
      "source": [
        "dataset_name = \"simple__no_lens_light\"\n",
        "dataset_path = path.join(\"dataset\", \"imaging\", dataset_name)\n",
        "\n",
        "dataset = al.Imaging.from_fits(\n",
        "    data_path=path.join(dataset_path, \"data.fits\"),\n",
        "    noise_map_path=path.join(dataset_path, \"noise_map.fits\"),\n",
        "    psf_path=path.join(dataset_path, \"psf.fits\"),\n",
        "    pixel_scales=0.1,\n",
        ")\n",
        "\n",
        "mask = al.Mask2D.circular(\n",
        "    shape_native=dataset.shape_native, pixel_scales=dataset.pixel_scales, radius=3.0\n",
        ")\n",
        "\n",
        "dataset = dataset.apply_mask(mask=mask)\n",
        "\n",
        "dataset_plotter = aplt.ImagingPlotter(dataset=dataset)\n",
        "dataset_plotter.subplot_dataset()\n",
        "\n",
        "positions = al.Grid2DIrregular(\n",
        "    al.from_json(file_path=path.join(dataset_path, \"positions.json\"))\n",
        ")"
      ],
      "outputs": [],
      "execution_count": null
    },
    {
      "cell_type": "markdown",
      "metadata": {},
      "source": [
        "__Paths__\n",
        "\n",
        "The path the results of all chained searches are output:"
      ]
    },
    {
      "cell_type": "code",
      "metadata": {},
      "source": [
        "path_prefix = path.join(\"imaging\", \"chaining\", \"pix_adapt\")"
      ],
      "outputs": [],
      "execution_count": null
    },
    {
      "cell_type": "markdown",
      "metadata": {},
      "source": [
        "__Model (Search 1)__\n",
        "\n",
        "To use adapt features, we require a model image of the lensed source galaxy, which is what the code will adapt the\n",
        "analysis too.\n",
        "\n",
        "When we begin a fit, we do not have such an image, and thus cannot use the adapt features. This is why search chaining\n",
        "is important -- it allows us to perform an initial model-fit which gives us the source image, which we can then use to\n",
        "perform a subsequent model-fit which adapts the analysis to the source's properties.\n",
        "\n",
        "We therefore compose our lens model using `Model` objects, which represent the galaxies we fit to our data. In the first\n",
        "search our lens model is:\n",
        "\n",
        " - The lens galaxy's total mass distribution is an `Isothermal` with `ExternalShear` [7 parameters].\n",
        " \n",
        " - The source galaxy's light uses an `Overlay` image-mesh with fixed resolution 30 x 30 pixels [0 parameters].\n",
        " \n",
        " - The source-galaxy's light uses a `Delaunay` mesh [0 parameters].\n",
        "\n",
        " - This pixelization is regularized using a `ConstantSplit` scheme [1 parameter]. \n",
        "\n",
        "The number of free parameters and therefore the dimensionality of non-linear parameter space is N=8."
      ]
    },
    {
      "cell_type": "code",
      "metadata": {},
      "source": [
        "lens = af.Model(\n",
        "    al.Galaxy, redshift=0.5, mass=al.mp.Isothermal, shear=al.mp.ExternalShear\n",
        ")\n",
        "\n",
        "pixelization = af.Model(\n",
        "    al.Pixelization,\n",
        "    image_mesh=al.image_mesh.Overlay(shape=(30, 30)),\n",
        "    mesh=al.mesh.Delaunay(),\n",
        "    regularization=al.reg.ConstantSplit,\n",
        ")\n",
        "\n",
        "source = af.Model(al.Galaxy, redshift=1.0, pixelization=pixelization)\n",
        "\n",
        "model_1 = af.Collection(galaxies=af.Collection(lens=lens, source=source))"
      ],
      "outputs": [],
      "execution_count": null
    },
    {
      "cell_type": "markdown",
      "metadata": {},
      "source": [
        "__Search + Analysis + Model-Fit (Search 1)__\n",
        "\n",
        "We now create the non-linear search, analysis and perform the model-fit using this model.\n",
        "\n",
        "You may wish to inspect the results of the search 1 model-fit to ensure a fast non-linear search has been provided that \n",
        "provides a reasonably accurate lens model."
      ]
    },
    {
      "cell_type": "code",
      "metadata": {},
      "source": [
        "search_1 = af.Nautilus(\n",
        "    path_prefix=path_prefix,\n",
        "    name=\"search[1]__adapt\",\n",
        "    unique_tag=dataset_name,\n",
        "    n_live=100,\n",
        ")\n",
        "\n",
        "analysis_1 = al.AnalysisImaging(dataset=dataset)\n",
        "\n",
        "result_1 = search_1.fit(model=model_1, analysis=analysis_1)"
      ],
      "outputs": [],
      "execution_count": null
    },
    {
      "cell_type": "markdown",
      "metadata": {},
      "source": [
        "__Adaptive Pixelization__\n",
        "\n",
        "Search 2 is going to use two adaptive pixelization features that have not been used elsewhere in the workspace:\n",
        "\n",
        " - The `Hilbert` image-mesh, which adapts the distribution of source-pixels to the source's unlensed morphology. This\n",
        " means that the source's brightest regions are reconstructed using significantly more source pixels than seen for\n",
        " the `Overlay` image mesh. Conversely, the source's faintest regions are reconstructed using significantly fewer\n",
        " source pixels.\n",
        "\n",
        " - The `AdaptiveBrightness` regularization scheme, which adapts the regularization coefficient to the source's\n",
        " unlensed morphology. This means that the source's brightest regions are regularized less than its faintest regions, \n",
        " ensuring that the bright central regions of the source are not over-smoothed.\n",
        " \n",
        "Both of these features produce a significantly better lens analysis and reconstruction of the source galaxy than\n",
        "other image-meshs and regularization schemes used throughout the workspace. Now you are familiar with them, you should\n",
        "never use anything else!\n",
        "\n",
        "It is recommend that the parameters governing these features are always fitted from using a fixed lens light and\n",
        "mass model. This ensures the adaptation is performed quickly, and removes degeneracies in the lens model that\n",
        "are difficult to sample. Extensive testing has shown that this does not reduce the accuracy of the lens model.\n",
        "\n",
        "For this reason, search 2 fixes the lens galaxy's light and mass model to the best-fit model of search 1. A third\n",
        "search will then fit for the lens galaxy's light and mass model using these adaptive features.\n",
        "\n",
        "The details of how the above features work is not provided here, but is given at the end of chapter 4 of the HowToLens\n",
        "lecture series.\n",
        "\n",
        "__Model (Search 2)__\n",
        "\n",
        "We therefore compose our lens model using `Model` objects, which represent the galaxies we fit to our data. In \n",
        "the second search our lens model is:\n",
        "\n",
        " - The lens galaxy's total mass distribution is an `Isothermal` with `ExternalShear` with fixed parameters from \n",
        "   search 1 [0 parameters].\n",
        " \n",
        " - The source galaxy's light uses a `Hilbert` image-mesh with fixed resolution 1000 pixels [2 parameters].\n",
        " \n",
        " - The source-galaxy's light uses a `Delaunay` mesh [0 parameters].\n",
        "\n",
        " - This pixelization is regularized using a `AdaptiveBrightnessSplit` scheme [2 parameter]. \n",
        "\n",
        "The number of free parameters and therefore the dimensionality of non-linear parameter space is N=4."
      ]
    },
    {
      "cell_type": "code",
      "metadata": {},
      "source": [
        "lens = result_1.instance.galaxies.lens\n",
        "\n",
        "pixelization = af.Model(\n",
        "    al.Pixelization,\n",
        "    image_mesh=al.image_mesh.Hilbert(pixels=1000),\n",
        "    mesh=al.mesh.Delaunay,\n",
        "    regularization=al.reg.AdaptiveBrightnessSplit,\n",
        ")\n",
        "\n",
        "source = af.Model(\n",
        "    al.Galaxy,\n",
        "    redshift=1.0,\n",
        "    pixelization=pixelization,\n",
        ")\n",
        "\n",
        "model_2 = af.Collection(galaxies=af.Collection(lens=lens, source=source))"
      ],
      "outputs": [],
      "execution_count": null
    },
    {
      "cell_type": "markdown",
      "metadata": {},
      "source": [
        "__Analysis (Search 2)__\n",
        "\n",
        "We now create the analysis for the second search.\n",
        "\n",
        "__Adapt Images__\n",
        "\n",
        "When we create the analysis, we pass it a `adapt_images`, which contains the model image of the source galaxy from \n",
        "the result of search 1. \n",
        "\n",
        "This is telling the `Analysis` class to use the model-images of this fit to aid the fitting of the `Hilbert` \n",
        "image-mesh and `AdaptiveBrightness` regularization for the source galaxy. Specifically, it uses the model image \n",
        "of the lensed source in order to adapt the location of the source-pixels to the source's brightet regions and lower\n",
        "the regularization coefficient in these regions.\n",
        "\n",
        "__Image Mesh Settings__\n",
        "\n",
        "The `Hilbert` image-mesh may not fully adapt to the data in a satisfactory way. Often, it does not place enough\n",
        "pixels in the source's brightest regions and it may place too few pixels further out where the source is not observed.\n",
        "To address this, we use the `settings_inversion` input of the `Analysis` class to specify that we require the following:\n",
        "\n",
        "- `image_mesh_min_mesh_pixels_per_pixel=3` and `image_mesh_min_mesh_number=5`: the five brightest source image-pixels\n",
        "   must each have at least 3 source-pixels after the adaptive image mesh has been computed. If this is not the case,\n",
        "   the model is rejected and the non-linear search samples a new lens model.\n",
        " \n",
        "- `image_mesh_adapt_background_percent_threshold=0.1` and `image_mesh_adapt_background_percent_check=0.8`: the faintest\n",
        "   80% of image-pixels must have at least 10% of the total source pixels, to ensure the regions of the image with no\n",
        "   source-flux are reconstructed using sufficient pixels. If this is not the case, the model is rejected and the\n",
        "   non-linear search samples a new lens model.\n",
        "\n",
        "These inputs are a bit contrived, but have been tested to ensure they lead to good lens models."
      ]
    },
    {
      "cell_type": "code",
      "metadata": {},
      "source": [
        "analysis_2 = al.AnalysisImaging(\n",
        "    dataset=dataset,\n",
        "    adapt_image_maker=al.AdaptImageMaker(result=result_1),\n",
        "    settings_inversion=al.SettingsInversion(\n",
        "        image_mesh_min_mesh_pixels_per_pixel=3,\n",
        "        image_mesh_min_mesh_number=5,\n",
        "        image_mesh_adapt_background_percent_threshold=0.1,\n",
        "        image_mesh_adapt_background_percent_check=0.8,\n",
        "    ),\n",
        ")"
      ],
      "outputs": [],
      "execution_count": null
    },
    {
      "cell_type": "markdown",
      "metadata": {},
      "source": [
        "__Search + Model-Fit (Search 2)__\n",
        "\n",
        "We now create the non-linear search and perform the model-fit using this model."
      ]
    },
    {
      "cell_type": "code",
      "metadata": {},
      "source": [
        "search_2 = af.Nautilus(\n",
        "    path_prefix=path_prefix, name=\"search[2]__adapt\", unique_tag=dataset_name, n_live=75\n",
        ")\n",
        "\n",
        "result_2 = search_2.fit(model=model_2, analysis=analysis_2)"
      ],
      "outputs": [],
      "execution_count": null
    },
    {
      "cell_type": "markdown",
      "metadata": {},
      "source": [
        "__Result (Search 2)__\n",
        "\n",
        "If you inspect and compare the results of searches 1 and 2, you'll note how the model-fits of search 2 have a much\n",
        "higher likelihood than search 1 and how the source reconstruction has congregated it pixels to the bright central\n",
        "regions of the source. This indicates that a much better result has been achieved.\n",
        "\n",
        "__Model + Search + Analysis + Model-Fit (Search 3)__\n",
        "\n",
        "We now perform a final search which uses the `Hilbert` image-mesh and `AdaptiveBrightness` regularization with their\n",
        "parameter fixed to the results of search 2.\n",
        "\n",
        "The lens mass model is free to vary.\n",
        "\n",
        "The analysis class still uses the adapt images from search 1, because this is what the adaptive features adapted\n",
        "to in search 2.\n",
        "\n",
        "The number of free parameters and therefore the dimensionality of non-linear parameter space is N=7."
      ]
    },
    {
      "cell_type": "code",
      "metadata": {},
      "source": [
        "lens = af.Model(\n",
        "    al.Galaxy, redshift=0.5, mass=al.mp.Isothermal, shear=al.mp.ExternalShear\n",
        ")\n",
        "\n",
        "source = af.Model(\n",
        "    al.Galaxy,\n",
        "    redshift=1.0,\n",
        "    pixelization=result_2.instance.galaxies.source.pixelization,\n",
        ")\n",
        "\n",
        "model_3 = af.Collection(galaxies=af.Collection(lens=lens, source=source))\n",
        "\n",
        "search_3 = af.Nautilus(\n",
        "    path_prefix=path_prefix,\n",
        "    name=\"search[3]__adapt\",\n",
        "    unique_tag=dataset_name,\n",
        "    n_live=100,\n",
        ")\n",
        "\n",
        "analysis_3 = al.AnalysisImaging(\n",
        "    dataset=dataset, adapt_image_maker=al.AdaptImageMaker(result=result_1)\n",
        ")\n",
        "\n",
        "result_3 = search_3.fit(model=model_3, analysis=analysis_3)"
      ],
      "outputs": [],
      "execution_count": null
    },
    {
      "cell_type": "markdown",
      "metadata": {},
      "source": [
        "__SLaM Pipelines__\n",
        "\n",
        "The API above allows you to use adaptive features yourself, and you should go ahead an explore them on datasets you\n",
        "are familiar with.\n",
        "\n",
        "However, you may also wish to use the Source, Light and Mass (SLaM) pipelines, which are pipelines that\n",
        "have been carefully crafted to automate lens modeling of large samples whilst ensuring models of the highest\n",
        "complexity can be reliably fitted.\n",
        "\n",
        "These pipelines are built around the use of adaptive features -- for example the Source pipeline comes first so that\n",
        "these features are set up robustly before more complex lens light and mass models are fitted.\n",
        "\n",
        "Below, we detail a few convenience functions that make using adaptive features in the SLaM pipelines straight forward."
      ]
    },
    {
      "cell_type": "code",
      "metadata": {},
      "source": [],
      "outputs": [],
      "execution_count": null
    }
  ],
  "metadata": {
    "anaconda-cloud": {},
    "kernelspec": {
      "display_name": "Python 3",
      "language": "python",
      "name": "python3"
    },
    "language_info": {
      "codemirror_mode": {
        "name": "ipython",
        "version": 3
      },
      "file_extension": ".py",
      "mimetype": "text/x-python",
      "name": "python",
      "nbconvert_exporter": "python",
      "pygments_lexer": "ipython3",
      "version": "3.6.1"
    }
  },
  "nbformat": 4,
  "nbformat_minor": 4
}