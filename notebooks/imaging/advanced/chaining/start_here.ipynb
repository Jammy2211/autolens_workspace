{
  "cells": [
    {
      "cell_type": "markdown",
      "metadata": {},
      "source": [
        "Chaining: API\n",
        "=============\n",
        "\n",
        "Non-linear search chaining is an advanced model-fitting approach in **PyAutoLens** which breaks the model-fitting\n",
        "procedure down into multiple non-linear searches, using the results of the initial searches to initialization parameter\n",
        "sampling in subsequent searches. This contrasts the `modeling` examples which each compose and fit a single lens\n",
        "model-fit using one non-linear search.\n",
        "\n",
        "The benefits of non-linear search chaining are:\n",
        "\n",
        " - Earlier searches fit simpler lens models than the later searches, which have a less complex non-linear parameter\n",
        " space that can be sampled more efficiently, with a reduced chance of inferring an incorrect local maxima solution.\n",
        "\n",
        " - Earlier searches can use faster non-linear search settings which infer the highest log likelihood models but not\n",
        " precisely quantify the parameter errors, with only the final searches using slow settings to robustly estimate errors.\n",
        "\n",
        " - Earlier searches can augment the data or alter the fitting-procedure in ways that speed up the computational run\n",
        " time. These may impact the quality of the model-fit overall, but they can be reverted to the more accurate but more\n",
        " computationally expense setting in the final searches.\n",
        "\n",
        "__Concise Model Composition API__\n",
        "\n",
        "All scripts in the `chaining` folder use the concise `Model` API to compose lens models, which is nearly identical to\n",
        "the standard API but avoids the need to use `Model` objects to compose the lens model when a light or mass\n",
        "profile is passed to a `Collection` object.\n",
        "\n",
        "__Preloading__\n",
        "\n",
        "When certain components of a model are fixed its associated quantities do not change during a model-fit. For\n",
        "example, for a lens model where all light profiles are fixed, the PSF blurred model-image of those light profiles\n",
        "is also fixed.\n",
        "\n",
        "**PyAutoLens** uses _implicit preloading_ to inspect the model and determine what quantities are fixed. It then stores\n",
        "these in memory before the non-linear search begins such that they are not recomputed for every likelihood evaluation.\n",
        "\n",
        "This offers huge speed ups for model-fits using an inversion (e.g. pixelized source reconstructions) because large\n",
        "chunks of the linear algebra calculation can typically be preloaded beforehand.\n",
        "\n",
        "__This Example__\n",
        "\n",
        "This script gives an overview of the API for search chaining, a description of how the priors on parameters are used\n",
        "to pass information between searches as well as tools for customizing prior passing. The examples in the \n",
        "`chaining/examples` show specific examples where for lens modeling search chaining can improve the model-fit.\n",
        "\n",
        "More details on search chaining can be found in Chapter 3 of the HowToLens lectures."
      ]
    },
    {
      "cell_type": "code",
      "metadata": {},
      "source": [
        "%matplotlib inline\n",
        "from pyprojroot import here\n",
        "workspace_path = str(here())\n",
        "%cd $workspace_path\n",
        "print(f\"Working Directory has been set to `{workspace_path}`\")\n",
        "\n",
        "from os import path\n",
        "import autofit as af\n",
        "import autolens as al\n",
        "import autolens.plot as aplt"
      ],
      "outputs": [],
      "execution_count": null
    },
    {
      "cell_type": "markdown",
      "metadata": {},
      "source": [
        "__Dataset + Masking__ \n",
        "\n",
        "Load, plot and mask the `Imaging` data."
      ]
    },
    {
      "cell_type": "code",
      "metadata": {},
      "source": [
        "dataset_name = \"mass_power_law\"\n",
        "dataset_path = path.join(\"dataset\", \"imaging\", dataset_name)\n",
        "\n",
        "dataset = al.Imaging.from_fits(\n",
        "    data_path=path.join(dataset_path, \"data.fits\"),\n",
        "    noise_map_path=path.join(dataset_path, \"noise_map.fits\"),\n",
        "    psf_path=path.join(dataset_path, \"psf.fits\"),\n",
        "    pixel_scales=0.1,\n",
        ")\n",
        "\n",
        "mask = al.Mask2D.circular(\n",
        "    shape_native=dataset.shape_native, pixel_scales=dataset.pixel_scales, radius=3.0\n",
        ")\n",
        "\n",
        "dataset = dataset.apply_mask(mask=mask)\n",
        "\n",
        "dataset_plotter = aplt.ImagingPlotter(dataset=dataset)\n",
        "dataset_plotter.subplot_dataset()"
      ],
      "outputs": [],
      "execution_count": null
    },
    {
      "cell_type": "markdown",
      "metadata": {},
      "source": [
        "__Paths__\n",
        "\n",
        "The path the results of all chained searches are output:"
      ]
    },
    {
      "cell_type": "code",
      "metadata": {},
      "source": [
        "path_prefix = path.join(\"imaging\", \"chaining\", \"start_here\")"
      ],
      "outputs": [],
      "execution_count": null
    },
    {
      "cell_type": "markdown",
      "metadata": {},
      "source": [
        "__Model (Search 1)__\n",
        "\n",
        "We compose our lens model using `Model` objects, which represent the galaxies we fit to our data. In the first\n",
        "search our lens model is:\n",
        "\n",
        " - The lens galaxy's total mass distribution is an `Isothermal` with `ExternalShear` [7 parameters].\n",
        " - An `Sersic` `LightProfile` for the source galaxy's light [7 parameters].\n",
        "\n",
        "The number of free parameters and therefore the dimensionality of non-linear parameter space is N=14."
      ]
    },
    {
      "cell_type": "code",
      "metadata": {},
      "source": [
        "lens = af.Model(al.Galaxy, redshift=0.5, mass=al.mp.Isothermal)\n",
        "source = af.Model(al.Galaxy, redshift=1.0, bulge=al.lp.Sersic)\n",
        "\n",
        "model_1 = af.Collection(galaxies=af.Collection(lens=lens, source=source))"
      ],
      "outputs": [],
      "execution_count": null
    },
    {
      "cell_type": "markdown",
      "metadata": {},
      "source": [
        "The `info` attribute shows the model in a readable format."
      ]
    },
    {
      "cell_type": "code",
      "metadata": {},
      "source": [
        "print(model_1.info)"
      ],
      "outputs": [],
      "execution_count": null
    },
    {
      "cell_type": "markdown",
      "metadata": {},
      "source": [
        "__Search + Analysis + Model-Fit (Search 1)__\n",
        "\n",
        "We now create the non-linear search, analysis and perform the model-fit using this model.\n",
        "\n",
        "You may wish to inspect the results of the search 1 model-fit to ensure a fast non-linear search has been provided that \n",
        "provides a reasonably accurate lens model."
      ]
    },
    {
      "cell_type": "code",
      "metadata": {},
      "source": [
        "search_1 = af.Nautilus(\n",
        "    path_prefix=path_prefix,\n",
        "    name=\"search[1]__start_here\",\n",
        "    unique_tag=dataset_name,\n",
        "    n_live=100,\n",
        ")\n",
        "\n",
        "analysis_1 = al.AnalysisImaging(dataset=dataset)\n",
        "\n",
        "result_1 = search_1.fit(model=model_1, analysis=analysis_1)"
      ],
      "outputs": [],
      "execution_count": null
    },
    {
      "cell_type": "markdown",
      "metadata": {},
      "source": [
        "__Result (Search 1)__\n",
        "\n",
        "The results which are used for prior passing are summarized in the `info` attribute."
      ]
    },
    {
      "cell_type": "code",
      "metadata": {},
      "source": [
        "print(result_1.info)"
      ],
      "outputs": [],
      "execution_count": null
    },
    {
      "cell_type": "markdown",
      "metadata": {},
      "source": [
        "__Model Chaining__\n",
        "\n",
        "We use the results of search 1 to create the `Model` components that we fit in search 2.\n",
        "\n",
        "The term `model` below passes the lens and source models as model-components that are to be fitted\n",
        "for by the non-linear search. In other chaining examples, we'll see other ways to pass prior results."
      ]
    },
    {
      "cell_type": "code",
      "metadata": {},
      "source": [
        "model_2 = af.Collection(\n",
        "    galaxies=af.Collection(\n",
        "        lens=result_1.model.galaxies.lens, source=result_1.model.galaxies.source\n",
        "    )\n",
        ")"
      ],
      "outputs": [],
      "execution_count": null
    },
    {
      "cell_type": "markdown",
      "metadata": {},
      "source": [
        "The `info` attribute shows the model, including how parameters and priors were passed from `result_1`."
      ]
    },
    {
      "cell_type": "code",
      "metadata": {},
      "source": [
        "print(model_2.info)"
      ],
      "outputs": [],
      "execution_count": null
    },
    {
      "cell_type": "markdown",
      "metadata": {},
      "source": [
        "__Search + Analysis + Model-Fit (Search 2)__\n",
        "\n",
        "We now create the non-linear search, analysis and perform the model-fit using this model.\n",
        "\n",
        "You may wish to inspect the `model.info` file of the search 2 model-fit to ensure the priors were passed correctly, as \n",
        "well as the checkout the results to ensure an accurate power-law mass model is inferred."
      ]
    },
    {
      "cell_type": "code",
      "metadata": {},
      "source": [
        "search_2 = af.Nautilus(\n",
        "    path_prefix=path_prefix,\n",
        "    name=\"search[2]__start_here\",\n",
        "    unique_tag=dataset_name,\n",
        "    n_live=75,\n",
        ")\n",
        "\n",
        "analysis_2 = al.AnalysisImaging(dataset=dataset)\n",
        "\n",
        "result_2 = search_2.fit(model=model_2, analysis=analysis_2)"
      ],
      "outputs": [],
      "execution_count": null
    },
    {
      "cell_type": "markdown",
      "metadata": {},
      "source": [
        "__Result (Search 2)__\n",
        "\n",
        "The final results can be summarized via printing `info`."
      ]
    },
    {
      "cell_type": "code",
      "metadata": {},
      "source": [
        "print(result_2.info)"
      ],
      "outputs": [],
      "execution_count": null
    },
    {
      "cell_type": "markdown",
      "metadata": {},
      "source": [
        "We will expand on this API in the following tutorials. The main thing to note is that we can pass entire profiles or\n",
        "galaxies using prior passing, if their model does not change (which for the bulge, mass and source_bulge above, was not\n",
        "true). The API to pass a whole profile or galaxy is as follows:\n",
        " \n",
        " bulge = result_1.model.galaxies.lens.bulge\n",
        " lens = result_1.model.galaxies.lens\n",
        " source = result_1.model.galaxies.source\n",
        " \n",
        "We can also pass priors using an `instance` instead of a `model`. When an `instance` is used, the maximum likelihood\n",
        "parameter values are passed as fixed values that are therefore not fitted for nby the non-linear search (reducing its\n",
        "dimensionality). We will use this in the other examples  to fit the lens light, fix it to the best-fit model in a second\n",
        "search, and then go on to fit it as a model in the final search.\n",
        " \n",
        "Lets now thinking about how priors are passed. Checkout the `model.info` file of the second search of this tutorial. \n",
        "The parameters do not use the default  priors we saw in search 1 (which are typically broad UniformPriors). Instead, \n",
        "they use GaussianPrior`s where:\n",
        "\n",
        " - The mean values are the median PDF results of every parameter in search 1.\n",
        " - Many sigma values are the errors computed at 3.0 sigma confidence of every parameter in search 1.\n",
        " - Other sigma values are higher than the errors computed at 3.0 sigma confidence. These instead use the value \n",
        " specified in the `width_modifier` field of the `Profile`'s entry in the `json_config` files (we will discuss\n",
        " why this is used in a moment).\n",
        "\n",
        "Thus, much like the manual GaussianPriors I specified above, we have set up the search with GaussianPriors centred on\n",
        "the high likelihood regions of parameter space!\n",
        " \n",
        "The priors passed above retained the model parameterization of search 1, including the fixed values of (0.0, 0.0) for\n",
        "the centres of the light and mass profiles and the alignment between their elliptical components. However, we often \n",
        "want to pass priors *and* change the model parameterization."
      ]
    },
    {
      "cell_type": "code",
      "metadata": {},
      "source": [
        "\n",
        "# %%\n",
        "'''\n",
        "__Detailed Explanation Of Prior Passing__\n",
        "\n",
        "To end, I provide a detailed overview of how prior passing works and illustrate tools that can be used to customize\n",
        "its behaviour. It is up to you whether you want read this, or go ahead to another example!\n",
        "\n",
        "Lets say I chain two parameters as follows:\n",
        " \n",
        " ```\n",
        " mass.einstein_radius = result_1.model.galaxies.lens.mass.einstein_radius\n",
        "```\n",
        "\n",
        "By invoking the `model` attribute, the priori s passed following 3 rules:\n",
        "\n",
        " 1) The new parameter, in this case the einstein radius, uses a GaussianPrior. A GaussianPrior is ideal, as the 1D \n",
        " pdf results we compute at the end of a search are easily summarized as a Gaussian.\n",
        "\n",
        " 2) The mean of the GaussianPrior is the median PDF value of the parameter estimated in search 1.\n",
        "    \n",
        " This ensures that the initial sampling of the new search's non-linear starts by searching the region of non-linear \n",
        " parameter space that correspond to highest log likelihood solutions in the previous search. Thus, we're setting \n",
        " our priors to look in the `correct` regions of parameter space.\n",
        "\n",
        " 3) The sigma of the Gaussian will use the maximum of two values: \n",
        "   \n",
        " (i) the 1D error of the parameter computed at an input sigma value (default sigma=3.0).\n",
        " \n",
        " (ii) The value specified for the profile in the `config/priors/*.json` config file's `width_modifer` \n",
        " field (check these files out now).\n",
        "\n",
        " The idea here is simple. We want a value of sigma that gives a GaussianPrior wide enough to search a broad \n",
        " region of parameter space, so that the lens model can change if a better solution is nearby. However, we want it \n",
        " to be narrow enough that we don't search too much of parameter space, as this will be slow or risk leading us \n",
        " into an incorrect solution! A natural choice is the errors of the parameter from the previous search.\n",
        "       \n",
        " Unfortunately, this doesn't always work. Lens modeling is prone to an effect called `over-fitting` where we \n",
        " underestimate the errors on our lens model parameters. This is especially true when we take the shortcuts in \n",
        " early searches - fast non-linear search settings, simplified lens models, etc.\n",
        "    \n",
        " Therefore, the `width_modifier` in the json config files are our fallback. If the error on a parameter is \n",
        " suspiciously small, we instead use the value specified in the widths file. These values are chosen based on \n",
        " our experience as being a good balance broadly sampling parameter space but not being so narrow important solutions \n",
        " are missed. \n",
        "       \n",
        "There are two ways a value is specified using the priors/width file:\n",
        "\n",
        " 1) Absolute: In this case, the error assumed on the parameter is the value given in the config file. \n",
        " For example, if for the width on centre_0 of a `LightProfile`, the width modifier reads \"Absolute\" with a value \n",
        " 0.05. This means if the error on the parameter centre_0 was less than 0.05 in the previous search, the sigma of \n",
        " its GaussianPrior in this search will be 0.05.\n",
        "    \n",
        " 2) Relative: In this case, the error assumed on the parameter is the % of the value of the \n",
        " estimate value given in the config file. For example, if the intensity estimated in the previous search was 2.0, \n",
        " and the relative error in the config file reads \"Relative\" with a value 0.5, then the sigma of the GaussianPrior \n",
        " will be 50% of this value, i.e. sigma = 0.5 * 2.0 = 1.0.\n",
        "\n",
        "We use absolute and relative values for different parameters, depending on their properties. For example, using the \n",
        "relative value of a parameter like the `Profile` centre makes no sense. If our lens galaxy is centred at (0.0, 0.0), \n",
        "the relative error will always be tiny and thus poorly defined. Therefore, the default configs in **PyAutoLens** use \n",
        "absolute errors on the centre.\n",
        "\n",
        "However, there are parameters where using an absolute value does not make sense. Intensity is a good example of this. \n",
        "The intensity of an image depends on its unit_label, S/N, galaxy brightness, etc. There is no single absolute value \n",
        "that one can use to generically chain the intensity of any two proflies. Thus, it makes more sense to chain them using \n",
        "the relative value from a previous search.\n",
        "\n",
        "We can customize how priors are passed from the results of a search and non-linear search by editing the\n",
        " `prior_passer` settings in the `general.yaml` config file.\n",
        "\n",
        "This allows us to customize at what sigma the error values the model results are computed at to compute\n",
        "the passed sigma values and customizes whether the widths in the config file, these computed errors, or both, \n",
        "are used to set the sigma values of the passed priors.\n",
        "\n",
        "__EXAMPLE__\n",
        "\n",
        "Lets go through an example using a real parameter. Lets say in search 1 we fit the lens galaxy's light with an \n",
        "elliptical Sersic profile, and we estimate that its sersic index is equal to 4.0 \u00b1 2.0 where the error value of 2.0 \n",
        "was computed at 3.0 sigma confidence. To pass this as a prior to search 2, we would write:\n",
        "\n",
        " lens.bulge.sersic_index = result_1.model.lens.bulge.sersic_index\n",
        "\n",
        "The prior on the lens galaxy's sersic `LightProfile` in search 2 would thus be a GaussianPrior, with mean=4.0 and \n",
        "sigma=2.0. If we had used a sigma value of 1.0 to compute the error, which reduced the estimate from 4.0 \u00b1 2.0 to \n",
        "4.0 \u00b1 1.0, the sigma of the Gaussian prior would instead be 1.0. \n",
        "\n",
        "If the error on the Sersic index in search 1 had been really small, lets say, 0.01, we would instead use the value of the \n",
        "Sersic index width in the priors config file to set sigma instead. In this case, the prior config file specifies \n",
        "that we use an \"Absolute\" value of 0.8 to chain this prior. Thus, the GaussianPrior in search 2 would have a mean=4.0 and \n",
        "sigma=0.8.\n",
        "\n",
        "If the prior config file had specified that we use an relative value of 0.8, the GaussianPrior in search 2 would have a \n",
        "mean=4.0 and sigma=3.2.\n",
        "\n",
        "And with that, we're done. Chaining priors is a bit of an art form, but one that tends to work really well. Its true to \n",
        "say that things can go wrong - maybe we `trim` out the solution we're looking for, or underestimate our errors a bit \n",
        "due to making our priors too narrow. However, in general, things are okay, and the example pipelines in \n",
        "`autolens_workspace/pipelines` have been thoroughly tested to ensure search chaining works effectively.\n",
        "'''"
      ],
      "outputs": [],
      "execution_count": null
    },
    {
      "cell_type": "code",
      "metadata": {},
      "source": [],
      "outputs": [],
      "execution_count": null
    }
  ],
  "metadata": {
    "anaconda-cloud": {},
    "kernelspec": {
      "display_name": "Python 3",
      "language": "python",
      "name": "python3"
    },
    "language_info": {
      "codemirror_mode": {
        "name": "ipython",
        "version": 3
      },
      "file_extension": ".py",
      "mimetype": "text/x-python",
      "name": "python",
      "nbconvert_exporter": "python",
      "pygments_lexer": "ipython3",
      "version": "3.6.1"
    }
  },
  "nbformat": 4,
  "nbformat_minor": 4
}