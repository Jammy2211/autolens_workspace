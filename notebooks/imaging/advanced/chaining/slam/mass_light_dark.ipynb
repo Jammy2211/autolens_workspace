{
  "cells": [
    {
      "cell_type": "markdown",
      "metadata": {},
      "source": [
        "SLaM (Source, Light and Mass): Mass Light Dark\n",
        "==============================================\n",
        "\n",
        "SLaM pipelines break the analysis of 'galaxy-scale' strong lenses down into multiple pipelines which focus on modeling\n",
        "a specific aspect of the strong lens, first the Source, then the (lens) Light and finally the Mass. Each of these\n",
        "pipelines has it own inputs which customize the model and analysis in that pipeline.\n",
        "\n",
        "The models fitted in earlier pipelines determine the model used in later pipelines. For example, if the SOURCE PIPELINE\n",
        "uses a parametric `Sersic` profile for the bulge, this will be used in the subsequent MASS LIGHT DARK PIPELINE.\n",
        "\n",
        "Using a SOURCE LP PIPELINE, LIGHT PIPELINE and a MASS LIGHT DARK PIPELINE this SLaM script  fits `Imaging` dataset of\n",
        "a strong lens system, where in the final model:\n",
        "\n",
        " - The lens galaxy's light is a bulge with a parametric `Sersic` light profile.\n",
        " - The lens galaxy's stellar mass distribution is a bulge tied to the light model above.\n",
        " - The lens galaxy's dark matter mass distribution is modeled as a `NFWMCRLudlow`.\n",
        " - The source galaxy's light is a `Pixelization`.\n",
        "\n",
        "This modeling script uses the SLaM pipelines:\n",
        "\n",
        " `source_lp`\n",
        " `source_pixelization`\n",
        " `light_lp`\n",
        " `mass_light_dark`\n",
        "\n",
        "Check them out for a detailed description of the analysis!"
      ]
    },
    {
      "cell_type": "code",
      "metadata": {},
      "source": [
        "%matplotlib inline\n",
        "from pyprojroot import here\n",
        "workspace_path = str(here())\n",
        "%cd $workspace_path\n",
        "print(f\"Working Directory has been set to `{workspace_path}`\")\n",
        "\n",
        "import os\n",
        "import sys\n",
        "from os import path\n",
        "import autofit as af\n",
        "import autolens as al\n",
        "import autolens.plot as aplt\n",
        "\n",
        "sys.path.insert(0, os.getcwd())\n",
        "import slam"
      ],
      "outputs": [],
      "execution_count": null
    },
    {
      "cell_type": "markdown",
      "metadata": {},
      "source": [
        "__Dataset__ \n",
        "\n",
        "Load, plot and mask the `Imaging` data."
      ]
    },
    {
      "cell_type": "code",
      "metadata": {},
      "source": [
        "dataset_name = \"mass_stellar_dark\"\n",
        "dataset_path = path.join(\"dataset\", \"imaging\", dataset_name)\n",
        "\n",
        "dataset = al.Imaging.from_fits(\n",
        "    data_path=path.join(dataset_path, \"data.fits\"),\n",
        "    noise_map_path=path.join(dataset_path, \"noise_map.fits\"),\n",
        "    psf_path=path.join(dataset_path, \"psf.fits\"),\n",
        "    pixel_scales=0.1,\n",
        ")\n",
        "\n",
        "mask = al.Mask2D.circular(\n",
        "    shape_native=dataset.shape_native, pixel_scales=dataset.pixel_scales, radius=3.0\n",
        ")\n",
        "\n",
        "dataset = dataset.apply_mask(mask=mask)\n",
        "\n",
        "dataset_plotter = aplt.ImagingPlotter(dataset=dataset)\n",
        "dataset_plotter.subplot_dataset()"
      ],
      "outputs": [],
      "execution_count": null
    },
    {
      "cell_type": "markdown",
      "metadata": {},
      "source": [
        "__Settings AutoFit__\n",
        "\n",
        "The settings of autofit, which controls the output paths, parallelization, database use, etc."
      ]
    },
    {
      "cell_type": "code",
      "metadata": {},
      "source": [
        "settings_search = af.SettingsSearch(\n",
        "    path_prefix=path.join(\"imaging\", \"slam\"),\n",
        "    unique_tag=dataset_name,\n",
        "    info=None,\n",
        "    number_of_cores=1,\n",
        "    session=None,\n",
        ")"
      ],
      "outputs": [],
      "execution_count": null
    },
    {
      "cell_type": "markdown",
      "metadata": {},
      "source": [
        "__Redshifts__\n",
        "\n",
        "The redshifts of the lens and source galaxies."
      ]
    },
    {
      "cell_type": "code",
      "metadata": {},
      "source": [
        "redshift_lens = 0.5\n",
        "redshift_source = 1.0"
      ],
      "outputs": [],
      "execution_count": null
    },
    {
      "cell_type": "markdown",
      "metadata": {},
      "source": [
        "__Adapt Setup__\n",
        "\n",
        "The `SetupAdapt` determines which hyper-mode features are used during the model-fit."
      ]
    },
    {
      "cell_type": "code",
      "metadata": {},
      "source": [
        "setup_adapt = al.SetupAdapt(\n",
        "    mesh_pixels_fixed=1500,\n",
        ")"
      ],
      "outputs": [],
      "execution_count": null
    },
    {
      "cell_type": "markdown",
      "metadata": {},
      "source": [
        "__SOURCE LP PIPELINE__\n",
        "\n",
        "The SOURCE LP PIPELINE uses one search to initialize a robust model for the source galaxy's light, which in \n",
        "this example:\n",
        "\n",
        " - Uses a parametric `Sersic` bulge for the lens galaxy's light.\n",
        "\n",
        " - Uses an `Isothermal` model for the lens's total mass distribution with an `ExternalShear`.\n",
        "\n",
        " __Settings__:\n",
        "\n",
        " - Mass Centre: Fix the mass profile centre to (0.0, 0.0) (this assumption will be relaxed in the MASS LIGHT DARK \n",
        " PIPELINE)."
      ]
    },
    {
      "cell_type": "code",
      "metadata": {},
      "source": [
        "analysis = al.AnalysisImaging(dataset=dataset)\n",
        "\n",
        "bulge = af.Model(al.lp.Sersic)\n",
        "\n",
        "source_lp_results = slam.source_lp.run(\n",
        "    settings_search=settings_search,\n",
        "    analysis=analysis,\n",
        "    lens_bulge=bulge,\n",
        "    lens_disk=None,\n",
        "    mass=af.Model(al.mp.Isothermal),\n",
        "    shear=af.Model(al.mp.ExternalShear),\n",
        "    source_bulge=af.Model(al.lp.Sersic),\n",
        "    mass_centre=(0.0, 0.0),\n",
        "    redshift_lens=redshift_lens,\n",
        "    redshift_source=redshift_source,\n",
        ")"
      ],
      "outputs": [],
      "execution_count": null
    },
    {
      "cell_type": "markdown",
      "metadata": {},
      "source": [
        "__SOURCE PIX PIPELINE__\n",
        "\n",
        "The SOURCE PIX PIPELINE uses two searches to initialize a robust model for the `Pixelization` that\n",
        "reconstructs the source galaxy's light. \n",
        "\n",
        "The first search, which is an initialization search, fits a `DelaunayMagnification` mesh with `Constant` \n",
        "regularization. \n",
        "\n",
        "The second search, which uses the mesh and regularization used throughout the remainder of the SLaM pipelines,\n",
        "fits the following model:\n",
        "\n",
        "- Uses a `KMeans` image-mesh.
- Uses a `Delaunay` mesh.\n",
        " - Uses an `AdaptiveBrightness` regularization.\n",
        " - Carries the lens redshift, source redshift and `ExternalShear` of the SOURCE LP PIPELINE through to the\n",
        " SOURCE PIX PIPELINE.\n",
        "\n",
        "__Settings__:\n",
        "\n",
        " - Positions: We update the positions and positions threshold using the previous model-fitting result (as described \n",
        " in `chaining/examples/parametric_to_pixelization.py`) to remove unphysical solutions from the `Inversion` model-fitting."
      ]
    },
    {
      "cell_type": "code",
      "metadata": {},
      "source": [
        "analysis = al.AnalysisImaging(\n",
        "    dataset=dataset,\n",
        "    adapt_images=source_lp_results.last.adapt_images,\n",
        "    positions_likelihood=source_lp_results.last.positions_likelihood_from(\n",
        "        factor=3.0, minimum_threshold=0.2\n",
        "    ),\n",
        ")\n",
        "\n",
        "source_pix_results = slam.source_pix.run(\n",
        "    settings_search=settings_search,\n",
        "    analysis=analysis,\n",
        "    setup_adapt=setup_adapt,\n",
        "    source_lp_results=source_lp_results,\n",
        "    mesh=al.mesh.DelaunayBrightnessImage,\n",
        "    regularization=al.reg.AdaptiveBrightnessSplit,\n",
        ")\n"
      ],
      "outputs": [],
      "execution_count": null
    },
    {
      "cell_type": "markdown",
      "metadata": {},
      "source": [
        "__LIGHT LP PIPELINE__\n",
        "\n",
        "The LIGHT LP PIPELINE uses one search to fit a complex lens light model to a high level of accuracy, using the\n",
        "lens mass model and source light model fixed to the maximum log likelihood result of the SOURCE PIX PIPELINE.\n",
        "\n",
        "In this example it:\n",
        "\n",
        " - Uses a parametric `Sersic` bulge [Fixed from SOURCE LP PIPELINE].\n",
        "\n",
        " - Uses an `Isothermal` model for the lens's total mass distribution [fixed from SOURCE LP PIPELINE].\n",
        "\n",
        " - Uses a `Pixelization` for the source's light [fixed from SOURCE PIX PIPELINE].\n",
        "\n",
        " - Carries the lens redshift, source redshift and `ExternalShear` of the SOURCE PIPELINE through to the MASS \n",
        " PIPELINE [fixed values]. "
      ]
    },
    {
      "cell_type": "code",
      "metadata": {},
      "source": [
        "analysis = al.AnalysisImaging(dataset=dataset, adapt_images=source_pix_results[0].adapt_images)\n",
        "\n",
        "bulge = af.Model(al.lp.Sersic)\n",
        "\n",
        "light_results = slam.light_lp.run(\n",
        "    settings_search=settings_search,\n",
        "    analysis=analysis,\n",
        "    setup_adapt=setup_adapt,\n",
        "    source_results=source_pix_results,\n",
        "    lens_bulge=bulge,\n",
        "    lens_disk=None,\n",
        ")"
      ],
      "outputs": [],
      "execution_count": null
    },
    {
      "cell_type": "markdown",
      "metadata": {},
      "source": [
        "__MASS LIGHT DARK PIPELINE__\n",
        "\n",
        "The MASS LIGHT DARK PIPELINE uses one search to fits a complex lens mass model to a high level of \n",
        "accuracy, using the source model of the SOURCE PIPELINE and the lens light model of the LIGHT LP PIPELINE to \n",
        "initialize the model priors . \n",
        "\n",
        "In this example it:\n",
        "\n",
        " - Uses a parametric `Sersic` bulge for the lens galaxy's light and its stellar mass [12 parameters: fixed from \n",
        " LIGHT LP PIPELINE].\n",
        "\n",
        " - The lens galaxy's dark matter mass distribution is a `NFWMCRLudlow` whose centre is aligned with bulge of \n",
        " the light and stellar mass model above [5 parameters].\n",
        "\n",
        " - Uses a `Pixelization` for the source's light [fixed from SOURCE PIX PIPELINE].\n",
        "\n",
        " - Carries the lens redshift, source redshift and `ExternalShear` of the SOURCE LP PIPELINE through to the MASS \n",
        " LIGHT DARK PIPELINE.\n",
        " \n",
        "__Settings__:\n",
        "\n",
        " - adapt: We may be using adapt features and therefore pass the result of the SOURCE PIX PIPELINE to use as the\n",
        " hyper dataset if required.\n",
        "\n",
        " - Positions: We update the positions and positions threshold using the previous model-fitting result (as described \n",
        " in `chaining/examples/parametric_to_pixelization.py`) to remove unphysical solutions from the `Inversion` model-fitting."
      ]
    },
    {
      "cell_type": "code",
      "metadata": {},
      "source": [
        "analysis = al.AnalysisImaging(\n",
        "    dataset=dataset,\n",
        "    adapt_images=source_pix_results[0].adapt_images,\n",
        "    positions_likelihood=source_pix_results.last.positions_likelihood_from(\n",
        "        factor=3.0, minimum_threshold=0.2\n",
        "    ),\n",
        ")\n",
        "\n",
        "lens_bulge = af.Model(al.lmp.Sersic)\n",
        "dark = af.Model(al.mp.NFWMCRLudlow)\n",
        "\n",
        "dark.centre = lens_bulge.centre\n",
        "\n",
        "mass_results = slam.mass_light_dark.run(\n",
        "    settings_search=settings_search,\n",
        "    analysis=analysis,\n",
        "    setup_adapt=setup_adapt,\n",
        "    source_results=source_pix_results,\n",
        "    light_results=light_results,\n",
        "    lens_bulge=lens_bulge,\n",
        "    lens_disk=None,\n",
        "    dark=dark,\n",
        ")"
      ],
      "outputs": [],
      "execution_count": null
    },
    {
      "cell_type": "markdown",
      "metadata": {},
      "source": [
        "Finish."
      ]
    },
    {
      "cell_type": "code",
      "metadata": {},
      "source": [],
      "outputs": [],
      "execution_count": null
    }
  ],
  "metadata": {
    "anaconda-cloud": {},
    "kernelspec": {
      "display_name": "Python 3",
      "language": "python",
      "name": "python3"
    },
    "language_info": {
      "codemirror_mode": {
        "name": "ipython",
        "version": 3
      },
      "file_extension": ".py",
      "mimetype": "text/x-python",
      "name": "python",
      "nbconvert_exporter": "python",
      "pygments_lexer": "ipython3",
      "version": "3.6.1"
    }
  },
  "nbformat": 4,
  "nbformat_minor": 4
}