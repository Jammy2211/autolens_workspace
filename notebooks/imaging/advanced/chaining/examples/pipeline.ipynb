{
  "cells": [
    {
      "cell_type": "markdown",
      "metadata": {},
      "source": [
        "Pipelines: Light Parametric + Mass Light Dark + Source Inversion\n",
        "================================================================\n",
        "\n",
        "By chaining together five searches this script fits `Imaging` dataset of a 'galaxy-scale' strong lens, where in the\n",
        "final model:\n",
        "\n",
        " - The lens galaxy's light is a parametric bulge with a parametric `Sersic` light profile.\n",
        " - The lens galaxy's stellar mass distribution is a bulge tied to the light model above.\n",
        " - The source galaxy is modeled using a `Pixelization`.\n",
        "\n",
        "__Start Here Notebook__\n",
        "\n",
        "If any code in this script is unclear, refer to the `chaining/start_here.ipynb` notebook."
      ]
    },
    {
      "cell_type": "code",
      "metadata": {},
      "source": [
        "%matplotlib inline\n",
        "from pyprojroot import here\n",
        "workspace_path = str(here())\n",
        "%cd $workspace_path\n",
        "print(f\"Working Directory has been set to `{workspace_path}`\")\n",
        "\n",
        "from os import path\n",
        "import autofit as af\n",
        "import autolens as al\n",
        "import autolens.plot as aplt"
      ],
      "outputs": [],
      "execution_count": null
    },
    {
      "cell_type": "markdown",
      "metadata": {},
      "source": [
        "__Dataset + Masking__ \n",
        "\n",
        "Load, plot and mask the `Imaging` data."
      ]
    },
    {
      "cell_type": "code",
      "metadata": {},
      "source": [
        "dataset_name = \"mass_stellar_dark\"\n",
        "dataset_path = path.join(\"dataset\", \"imaging\", dataset_name)\n",
        "\n",
        "dataset = al.Imaging.from_fits(\n",
        "    data_path=path.join(dataset_path, \"data.fits\"),\n",
        "    noise_map_path=path.join(dataset_path, \"noise_map.fits\"),\n",
        "    psf_path=path.join(dataset_path, \"psf.fits\"),\n",
        "    pixel_scales=0.1,\n",
        ")\n",
        "\n",
        "mask = al.Mask2D.circular(\n",
        "    shape_native=dataset.shape_native, pixel_scales=dataset.pixel_scales, radius=3.0\n",
        ")\n",
        "\n",
        "dataset = dataset.apply_mask(mask=mask)\n",
        "\n",
        "dataset_plotter = aplt.ImagingPlotter(dataset=dataset)\n",
        "dataset_plotter.subplot_dataset()"
      ],
      "outputs": [],
      "execution_count": null
    },
    {
      "cell_type": "markdown",
      "metadata": {},
      "source": [
        "__Paths__\n",
        "\n",
        "The path the results of all chained searches are output:"
      ]
    },
    {
      "cell_type": "code",
      "metadata": {},
      "source": [
        "path_prefix = path.join(\"imaging\", \"pipelines\")"
      ],
      "outputs": [],
      "execution_count": null
    },
    {
      "cell_type": "markdown",
      "metadata": {},
      "source": [
        "__Redshifts__\n",
        "\n",
        "The redshifts of the lens and source galaxies.\n",
        "\n",
        "In this analysis, they are used to explicitly set the `mass_at_200` of the elliptical NFW dark matter profile, which is\n",
        "a model parameter that is fitted for."
      ]
    },
    {
      "cell_type": "code",
      "metadata": {},
      "source": [
        "redshift_lens = 0.5\n",
        "redshift_source = 1.0"
      ],
      "outputs": [],
      "execution_count": null
    },
    {
      "cell_type": "markdown",
      "metadata": {},
      "source": [
        "__Model + Search + Analysis + Model-Fit (Search 1)__\n",
        "\n",
        "Search 1 fits a lens model where:\n",
        "\n",
        " - The lens galaxy's light is a parametric `Sersic` bulge [7 parameters].\n",
        "\n",
        " - The lens galaxy's mass and source galaxy are omitted.\n",
        "\n",
        "The number of free parameters and therefore the dimensionality of non-linear parameter space is N=11."
      ]
    },
    {
      "cell_type": "code",
      "metadata": {},
      "source": [
        "bulge = af.Model(al.lp.Sersic)\n",
        "\n",
        "model_1 = af.Collection(\n",
        "    galaxies=af.Collection(lens=af.Model(al.Galaxy, redshift=0.5, bulge=bulge))\n",
        ")\n",
        "\n",
        "search_1 = af.Nautilus(\n",
        "    path_prefix=path_prefix,\n",
        "    name=\"search[1]_light[lp]\",\n",
        "    unique_tag=dataset_name,\n",
        "    n_live=100,\n",
        ")\n",
        "\n",
        "analysis_1 = al.AnalysisImaging(dataset=dataset)\n",
        "\n",
        "result_1 = search_1.fit(model=model_1, analysis=analysis_1)"
      ],
      "outputs": [],
      "execution_count": null
    },
    {
      "cell_type": "markdown",
      "metadata": {},
      "source": [
        "__Model + Search + Analysis + Model-Fit (Search 2)__\n",
        "\n",
        "We use the results of search 1 to create the lens model fitted in search 2, where:\n",
        "\n",
        " - The lens galaxy's light and stellar mass is an `Sersic` bulge  [Parameters fixed to results of search 1].\n",
        "\n",
        " - The lens galaxy's dark matter mass distribution is a `NFWMCRLudlow` whose centre is aligned with the \n",
        " `Sersic` bulge and stellar mass model above [3 parameters].\n",
        "\n",
        " - The lens mass model also includes an `ExternalShear` [2 parameters].\n",
        "\n",
        " - The source galaxy's light is a parametric `Sersic` [7 parameters].\n",
        "\n",
        "The number of free parameters and therefore the dimensionality of non-linear parameter space is N=12.\n",
        "\n",
        "NOTES:\n",
        "\n",
        " - By using the fixed `bulge` model from the result of search 1, we are assuming this is a sufficiently \n",
        "   accurate fit to the lens's light that it can reliably represent the stellar mass."
      ]
    },
    {
      "cell_type": "code",
      "metadata": {},
      "source": [
        "bulge = result_1.instance.galaxies.lens.bulge\n",
        "\n",
        "dark = af.Model(al.mp.NFWMCRLudlow)\n",
        "dark.centre = bulge.centre\n",
        "dark.mass_at_200 = af.LogUniformPrior(lower_limit=1e8, upper_limit=1e15)\n",
        "dark.redshift_object = redshift_lens\n",
        "dark.redshift_source = redshift_source\n",
        "\n",
        "model_2 = af.Collection(\n",
        "    galaxies=af.Collection(\n",
        "        lens=af.Model(\n",
        "            al.Galaxy,\n",
        "            redshift=0.5,\n",
        "            bulge=bulge,\n",
        "            dark=af.Model(al.mp.NFW),\n",
        "            shear=al.mp.ExternalShear,\n",
        "        ),\n",
        "        source=af.Model(al.Galaxy, redshift=1.0, bulge=al.lp.Sersic),\n",
        "    )\n",
        ")\n",
        "\n",
        "search_2 = af.Nautilus(\n",
        "    path_prefix=path_prefix,\n",
        "    name=\"search[2]_light[fixed]_mass[light_dark]_source[lp]\",\n",
        "    unique_tag=dataset_name,\n",
        "    n_live=100,\n",
        ")\n",
        "\n",
        "analysis_2 = al.AnalysisImaging(dataset=dataset)\n",
        "\n",
        "result_2 = search_2.fit(model=model_2, analysis=analysis_2)"
      ],
      "outputs": [],
      "execution_count": null
    },
    {
      "cell_type": "markdown",
      "metadata": {},
      "source": [
        "__Model + Search + Analysis + Model-Fit (Search 3)__\n",
        "\n",
        "We use the results of searches 1 and 2 to create the lens model fitted in search 3, where:\n",
        "\n",
        " - The lens galaxy's light and stellar mass is a parametric `Sersic` bulge [7 parameters: priors initialized from \n",
        "   search 1].\n",
        "\n",
        " - The lens galaxy's dark matter mass distribution is a `NFWMCRLudlow` whose centre is aligned with the \n",
        " `Sersic` bulge and stellar mass model above [3 parameters: priors initialized from search 2].\n",
        "\n",
        " - The lens mass model also includes an `ExternalShear` [2 parameters: priors initialized from search 2].\n",
        "\n",
        " - The source galaxy's light is a parametric `Sersic` [7 parameters: priors initialized from search 2].\n",
        "\n",
        "The number of free parameters and therefore the dimensionality of non-linear parameter space is N=19.\n",
        "\n",
        "Notes:\n",
        "\n",
        " - This search attempts to address any issues there may have been with the bulge's stellar mass model."
      ]
    },
    {
      "cell_type": "code",
      "metadata": {},
      "source": [
        "bulge = result_1.model.galaxies.lens.bulge\n",
        "\n",
        "dark = result_2.model.galaxies.lens.dark\n",
        "dark.centre = bulge.centre\n",
        "\n",
        "model_3 = af.Collection(\n",
        "    galaxies=af.Collection(\n",
        "        lens=af.Model(\n",
        "            al.Galaxy,\n",
        "            redshift=0.5,\n",
        "            bulge=bulge,\n",
        "            dark=dark,\n",
        "            shear=result_2.model.galaxies.lens.shear,\n",
        "        ),\n",
        "        source=af.Model(\n",
        "            al.Galaxy, redshift=1.0, bulge=result_2.model.galaxies.source.bulge\n",
        "        ),\n",
        "    )\n",
        ")\n",
        "\n",
        "search_3 = af.Nautilus(\n",
        "    path_prefix=path_prefix,\n",
        "    name=\"search[3]_light[lp]_mass[light_dark]_source[lp]\",\n",
        "    unique_tag=dataset_name,\n",
        "    n_live=150,\n",
        ")\n",
        "\n",
        "analysis_3 = al.AnalysisImaging(dataset=dataset)\n",
        "\n",
        "result_3 = search_3.fit(model=model_3, analysis=analysis_3)"
      ],
      "outputs": [],
      "execution_count": null
    },
    {
      "cell_type": "markdown",
      "metadata": {},
      "source": [
        "__Model + Search + Analysis + Model-Fit (Search 4)__\n",
        "\n",
        "We use the results of searches 3 to create the lens model fitted in search 4, where:\n",
        "\n",
        " - The lens galaxy's light and stellar mass is an `Sersic` bulge [Parameters fixed to results of search 3].\n",
        "\n",
        " - The lens galaxy's dark matter mass distribution is a `NFWMCRLudlow` [Parameters fixed to results of \n",
        " search 3].\n",
        "\n",
        " - The lens mass model also includes an `ExternalShear` [Parameters fixed to results of search 3].\n",
        "\n",
        " - The source galaxy's light uses an `Overlay` image-mesh [2 parameters].\n",
        " \n",
        " - The source-galaxy's light uses a `Delaunay` mesh [0 parameters].\n",
        "\n",
        " - This pixelization is regularized using a `ConstantSplit` scheme [1 parameter]. \n",
        "\n",
        "The number of free parameters and therefore the dimensionality of non-linear parameter space is N=3.\n",
        "\n",
        "NOTES:\n",
        "\n",
        " - This search allows us to very efficiently set up the resolution of the mesh and regularization coefficient \n",
        " of the regularization scheme, before using these models to refit the lens mass model."
      ]
    },
    {
      "cell_type": "code",
      "metadata": {},
      "source": [
        "image_mesh = af.Model(al.image_mesh.Overlay)\n",
        "image_mesh.shape = (30, 30)\n",
        "\n",
        "pixelization = af.Model(\n",
        "    al.Pixelization,\n",
        "    image_mesh=image_mesh,\n",
        "    mesh=al.mesh.Delaunay,\n",
        "    regularization=al.reg.ConstantSplit,\n",
        ")\n",
        "\n",
        "model_4 = af.Collection(\n",
        "    galaxies=af.Collection(\n",
        "        lens=af.Model(\n",
        "            al.Galaxy,\n",
        "            redshift=redshift_lens,\n",
        "            bulge=result_3.instance.galaxies.lens.bulge,\n",
        "            dark=result_3.instance.galaxies.lens.dark,\n",
        "            shear=result_3.instance.galaxies.lens.shear,\n",
        "        ),\n",
        "        source=af.Model(al.Galaxy, redshift=redshift_source, pixelization=pixelization),\n",
        "    )\n",
        ")\n",
        "\n",
        "search_4 = af.Nautilus(\n",
        "    path_prefix=path_prefix,\n",
        "    name=\"search[4]_light[fixed]_mass[fixed]_source[pix_init]\",\n",
        "    unique_tag=dataset_name,\n",
        "    n_live=50,\n",
        ")\n",
        "\n",
        "analysis_4 = al.AnalysisImaging(dataset=dataset)\n",
        "\n",
        "result_4 = search_4.fit(model=model_4, analysis=analysis_4)"
      ],
      "outputs": [],
      "execution_count": null
    },
    {
      "cell_type": "markdown",
      "metadata": {},
      "source": [
        "__Model +  Search (Search 5)__\n",
        "\n",
        "We use the results of searches 3 and 4 to create the lens model fitted in search 5, where:\n",
        "\n",
        " - The lens galaxy's light and stellar mass is an `Sersic` bulge [7 parameters: priors initialized from search 3].\n",
        "\n",
        " - The lens galaxy's dark matter mass distribution is a `NFWMCRLudlow` [8 parameters: priors initialized \n",
        " from search 3].\n",
        "\n",
        "The lens mass model also includes an `ExternalShear` [2 parameters: priors initialized from search 3].\n",
        "\n",
        " - The source-galaxy's light uses an `Overlay` image-mesh [parameters fixed to results of search 4].\n",
        "\n",
        " - The source-galaxy's light uses a `Delaunay` mesh [parameters fixed to results of search 4].\n",
        "\n",
        " - This pixelization is regularized using a `ConstantSplit` scheme [parameters fixed to results of search 4]. \n",
        "\n",
        "The number of free parameters and therefore the dimensionality of non-linear parameter space is N=17."
      ]
    },
    {
      "cell_type": "code",
      "metadata": {},
      "source": [
        "model_5 = af.Collection(\n",
        "    galaxies=af.Collection(\n",
        "        lens=af.Model(\n",
        "            al.Galaxy,\n",
        "            redshift=redshift_lens,\n",
        "            bulge=result_3.model.galaxies.lens.bulge,\n",
        "            dark=result_3.model.galaxies.lens.dark,\n",
        "            shear=result_3.model.galaxies.lens.shear,\n",
        "        ),\n",
        "        source=af.Model(\n",
        "            al.Galaxy,\n",
        "            redshift=redshift_source,\n",
        "            pixelization=result_4.instance.galaxies.source.pixelization,\n",
        "        ),\n",
        "    )\n",
        ")\n",
        "\n",
        "search_5 = af.Nautilus(\n",
        "    path_prefix=path_prefix,\n",
        "    name=\"search[5]_light[lp]_mass[light_dark]_source[pix]\",\n",
        "    unique_tag=dataset_name,\n",
        "    n_live=50,\n",
        ")"
      ],
      "outputs": [],
      "execution_count": null
    },
    {
      "cell_type": "markdown",
      "metadata": {},
      "source": [
        "__Positions + Analysis + Model-Fit (Search 5)__\n",
        "\n",
        "We update the positions and positions threshold using the previous model-fitting result (as described \n",
        " in `chaining/examples/parametric_to_pixelization.py`) to remove unphysical solutions from the `Inversion` model-fitting."
      ]
    },
    {
      "cell_type": "code",
      "metadata": {},
      "source": [
        "analysis_5 = al.AnalysisImaging(\n",
        "    dataset=dataset,\n",
        "    positions_likelihood=result_4.positions_likelihood_from(\n",
        "        factor=3.0, minimum_threshold=0.2\n",
        "    ),\n",
        ")\n",
        "\n",
        "result_5 = search_5.fit(model=model_5, analysis=analysis_5)"
      ],
      "outputs": [],
      "execution_count": null
    },
    {
      "cell_type": "markdown",
      "metadata": {},
      "source": [
        "Finish."
      ]
    },
    {
      "cell_type": "code",
      "metadata": {},
      "source": [],
      "outputs": [],
      "execution_count": null
    }
  ],
  "metadata": {
    "anaconda-cloud": {},
    "kernelspec": {
      "display_name": "Python 3",
      "language": "python",
      "name": "python3"
    },
    "language_info": {
      "codemirror_mode": {
        "name": "ipython",
        "version": 3
      },
      "file_extension": ".py",
      "mimetype": "text/x-python",
      "name": "python",
      "nbconvert_exporter": "python",
      "pygments_lexer": "ipython3",
      "version": "3.6.1"
    }
  },
  "nbformat": 4,
  "nbformat_minor": 4
}