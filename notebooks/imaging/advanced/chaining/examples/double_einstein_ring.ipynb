{
  "cells": [
    {
      "cell_type": "markdown",
      "metadata": {},
      "source": [
        "Chaining: Double Einstein Ring\n",
        "==============================\n",
        "\n",
        "This script chains two searches to fit `Imaging` data of a 'galaxy-scale' strong lens which has two source galaxies at\n",
        "two different redshifts, forming a double Einstein ring system. This fits a model where:\n",
        "\n",
        " - The lens galaxy's light is omitted.\n",
        " - The lens galaxy's total mass distribution is an `Isothermal`.\n",
        " - The first source galaxy's mass is a `IsothermalSph` and its light a `Sersic`.\n",
        " - The second source galaxy's light is an `Sersic`.\n",
        "\n",
        "The two searches break down as follows:\n",
        "\n",
        " 1) Model the lens galaxy mass as an `Isothermal`  and first source galaxy using an `Sersic` light profiles.\n",
        " 2) Model the lens, first and second source galaxies, where the first source's mass is an `IsothermalSph` and second\n",
        "  source is an `Sersic`.\n",
        "\n",
        "__Why Chain?__\n",
        "\n",
        "Systems with two (or more) strongly lensed sources are a great example of the benefits of search chaining. The lens\n",
        "model can quickly have many parameters (e.g. N > 20), but many of the components being fitted are only mildly covariant\n",
        "with one another.\n",
        "\n",
        "Most importantly, ray-tracing of the first source galaxy does not depend on the properties of the second source galaxy\n",
        "at all, meaning it can be used to initialize the lens mass model before the second source is fitted. For the simulated\n",
        "data fitted in this example, we'll see that the first search successfully initializes the lens mass model and first\n",
        "source model without issue, such that fitting of the second source can be done efficiently.\n",
        "\n",
        "The only problem is that the light of the second source is included in the data we fit in the first search, and thus\n",
        "could bias or impact its model fit. To circumvent this, the first search uses a smaller mask which removes the light\n",
        "of the second source from the model-fit. A larger mask included both sources is then used in the second search.\n",
        "\n",
        "__Preloading__\n",
        "\n",
        "When certain components of a model are fixed its associated quantities do not change during a model-fit. For\n",
        "example, for a lens model where all light profiles are fixed, the PSF blurred model-image of those light profiles\n",
        "is also fixed.\n",
        "\n",
        "**PyAutoLens** uses _implicit preloading_ to inspect the model and determine what quantities are fixed. It then stores\n",
        "these in memory before the non-linear search begins such that they are not recomputed for every likelihood evaluation.\n",
        "\n",
        "In this example no preloading occurs.\n",
        "\n",
        "__Start Here Notebook__\n",
        "\n",
        "If any code in this script is unclear, refer to the `chaining/start_here.ipynb` notebook."
      ]
    },
    {
      "cell_type": "code",
      "metadata": {},
      "source": [
        "%matplotlib inline\n",
        "from pyprojroot import here\n",
        "workspace_path = str(here())\n",
        "%cd $workspace_path\n",
        "print(f\"Working Directory has been set to `{workspace_path}`\")\n",
        "\n",
        "from os import path\n",
        "import autofit as af\n",
        "import autolens as al\n",
        "import autolens.plot as aplt"
      ],
      "outputs": [],
      "execution_count": null
    },
    {
      "cell_type": "markdown",
      "metadata": {},
      "source": [
        "__Dataset__ \n",
        "\n",
        "Load and plot the `Imaging` data. N\n",
        "\n",
        "ote that we use different masks for searches 1 and 2."
      ]
    },
    {
      "cell_type": "code",
      "metadata": {},
      "source": [
        "dataset_name = \"double_einstein_ring\"\n",
        "dataset_path = path.join(\"dataset\", \"imaging\", dataset_name)\n",
        "\n",
        "dataset = al.Imaging.from_fits(\n",
        "    data_path=path.join(dataset_path, \"data.fits\"),\n",
        "    noise_map_path=path.join(dataset_path, \"noise_map.fits\"),\n",
        "    psf_path=path.join(dataset_path, \"psf.fits\"),\n",
        "    pixel_scales=0.1,\n",
        ")\n",
        "\n",
        "dataset_plotter = aplt.ImagingPlotter(dataset=dataset)\n",
        "\n",
        "dataset_plotter.subplot_dataset()"
      ],
      "outputs": [],
      "execution_count": null
    },
    {
      "cell_type": "markdown",
      "metadata": {},
      "source": [
        "__Paths__\n",
        "\n",
        "The path the results of all chained searches are output:"
      ]
    },
    {
      "cell_type": "code",
      "metadata": {},
      "source": [
        "path_prefix = path.join(\"imaging\", \"chaining\", \"double_einstein_ring\")"
      ],
      "outputs": [],
      "execution_count": null
    },
    {
      "cell_type": "markdown",
      "metadata": {},
      "source": [
        "__Masking (Search 1)__\n",
        "\n",
        "We apply a smaller circular mask, the radius of which is chosen to remove the light of the second source galaxy."
      ]
    },
    {
      "cell_type": "code",
      "metadata": {},
      "source": [
        "mask = al.Mask2D.circular(\n",
        "    shape_native=dataset.shape_native, pixel_scales=dataset.pixel_scales, radius=2.0\n",
        ")\n",
        "\n",
        "dataset = dataset.apply_mask(mask=mask)\n",
        "\n",
        "dataset_plotter = aplt.ImagingPlotter(dataset=dataset)\n",
        "\n",
        "dataset_plotter.subplot_dataset()"
      ],
      "outputs": [],
      "execution_count": null
    },
    {
      "cell_type": "markdown",
      "metadata": {},
      "source": [
        "__Model (Search 1)__\n",
        "\n",
        "Search 1 fits a lens model where:\n",
        "\n",
        " - The lens galaxy's total mass distribution is an `Isothermal` [5 parameters].\n",
        " - The first source galaxy's light is a linear parametric `Sersic` [6 parameters].\n",
        "\n",
        "The number of free parameters and therefore the dimensionality of non-linear parameter space is N=12.\n",
        "\n",
        "We therefore omit the second source from the model entirely."
      ]
    },
    {
      "cell_type": "code",
      "metadata": {},
      "source": [
        "mass = af.Model(al.mp.Isothermal)\n",
        "\n",
        "lens = af.Model(al.Galaxy, redshift=0.5, mass=mass)\n",
        "source_0 = af.Model(al.Galaxy, redshift=1.0, bulge=al.lp_linear.SersicCore)\n",
        "source_1 = af.Model(al.Galaxy, redshift=2.0)\n",
        "\n",
        "model_1 = af.Collection(\n",
        "    galaxies=af.Collection(lens=lens, source_0=source_0, source_1=source_1),\n",
        ")"
      ],
      "outputs": [],
      "execution_count": null
    },
    {
      "cell_type": "markdown",
      "metadata": {},
      "source": [
        "The `info` attribute shows the model in a readable format."
      ]
    },
    {
      "cell_type": "code",
      "metadata": {},
      "source": [
        "print(model_1.info)"
      ],
      "outputs": [],
      "execution_count": null
    },
    {
      "cell_type": "markdown",
      "metadata": {},
      "source": [
        "__Search + Analysis + Model-Fit (Search 1)__\n",
        "\n",
        "We now create the non-linear search, analysis and perform the model-fit using this model.\n",
        "\n",
        "You may wish to inspect the results of the search 1 model-fit to ensure a fast non-linear search has been provided that \n",
        "provides a reasonably accurate lens model."
      ]
    },
    {
      "cell_type": "code",
      "metadata": {},
      "source": [
        "search_1 = af.Nautilus(\n",
        "    path_prefix=path_prefix,\n",
        "    name=\"search[1]__source_0_parametric\",\n",
        "    unique_tag=dataset_name,\n",
        "    n_live=100,\n",
        ")\n",
        "\n",
        "analysis_1 = al.AnalysisImaging(dataset=dataset)\n",
        "\n",
        "result_1 = search_1.fit(model=model_1, analysis=analysis_1)"
      ],
      "outputs": [],
      "execution_count": null
    },
    {
      "cell_type": "markdown",
      "metadata": {},
      "source": [
        "__Result (Search 1)__\n",
        "\n",
        "The results which are used for prior passing are summarized in the `info` attribute."
      ]
    },
    {
      "cell_type": "code",
      "metadata": {},
      "source": [
        "print(result_1.info)"
      ],
      "outputs": [],
      "execution_count": null
    },
    {
      "cell_type": "markdown",
      "metadata": {},
      "source": [
        "__Masking (Search 2)__\n",
        "\n",
        "We apply a larger circular mask, which includes the second source galaxy now that it is included in the model."
      ]
    },
    {
      "cell_type": "code",
      "metadata": {},
      "source": [
        "mask = al.Mask2D.circular(\n",
        "    shape_native=dataset.shape_native, pixel_scales=dataset.pixel_scales, radius=3.0\n",
        ")\n",
        "\n",
        "dataset = dataset.apply_mask(mask=mask)\n",
        "\n",
        "dataset_plotter = aplt.ImagingPlotter(dataset=dataset)\n",
        "\n",
        "dataset_plotter.subplot_dataset()"
      ],
      "outputs": [],
      "execution_count": null
    },
    {
      "cell_type": "markdown",
      "metadata": {},
      "source": [
        "__Model (Search 2)__\n",
        "\n",
        "We use the results of search 1 to create the lens model fitted in search 2, where:\n",
        "\n",
        " - The lens galaxy's total mass distribution is an `Isothermal` [parameters fixed to results of search 1].\n",
        " - The first source galaxy's light is a linear parametric `Sersic` [parameters fixed to results of search 1].\n",
        " - The first source galaxy's mass is a `IsothermalSph` [3 parameters].\n",
        " - The second source galaxy's light is a linear parametric `Sersic` [6 parameters].\n",
        "\n",
        "The number of free parameters and therefore the dimensionality of non-linear parameter space is N=10.\n",
        "\n",
        "The galaxies are assigned redshifts of 0.5, 1.0 and 2.0. This ensures the multi-plane ray-tracing necessary for the \n",
        "double Einstein ring lens system is performed correctly.\n",
        "\n",
        "The lens galaxy's mass and first source galaxy's light are passed as an `instance` (as opposed to the `model` which \n",
        "was used in the API tutorial). By passing these objects as an `instance` it passes the maximum log likelihood parameters \n",
        "inferred by search 1 as fixed values that are not free parameters fitted for by the non-linear search of search 2."
      ]
    },
    {
      "cell_type": "code",
      "metadata": {},
      "source": [
        "lens = af.Model(al.Galaxy, redshift=0.5, mass=result_1.instance.galaxies.lens.mass)\n",
        "source_0 = af.Model(\n",
        "    al.Galaxy,\n",
        "    redshift=1.0,\n",
        "    bulge=result_1.instance.galaxies.source_0.bulge,\n",
        "    mass=al.mp.IsothermalSph,\n",
        ")\n",
        "source_1 = af.Model(al.Galaxy, redshift=2.0, bulge=al.lp_linear.SersicCore)\n",
        "source_1.centre_0 = af.GaussianPrior(mean=0.0, sigma=0.5)\n",
        "source_1.centre_1 = af.GaussianPrior(mean=0.0, sigma=0.5)\n",
        "\n",
        "model_2 = af.Collection(\n",
        "    galaxies=af.Collection(lens=lens, source_0=source_0, source_1=source_1),\n",
        ")"
      ],
      "outputs": [],
      "execution_count": null
    },
    {
      "cell_type": "markdown",
      "metadata": {},
      "source": [
        "The `info` attribute shows the model, including how parameters and priors were passed from `result_1`."
      ]
    },
    {
      "cell_type": "code",
      "metadata": {},
      "source": [
        "print(model_2.info)"
      ],
      "outputs": [],
      "execution_count": null
    },
    {
      "cell_type": "markdown",
      "metadata": {},
      "source": [
        "__Search + Analysis + Model-Fit (Search 2)__\n",
        "\n",
        "We now create the non-linear search, analysis and perform the model-fit using this model.\n",
        "\n",
        "You may wish to inspect the `model.info` file of the search 2 model-fit to ensure the priors were passed correctly, as \n",
        "well as the checkout the results to ensure an accurate power-law mass model is inferred."
      ]
    },
    {
      "cell_type": "code",
      "metadata": {},
      "source": [
        "search_2 = af.Nautilus(\n",
        "    path_prefix=path_prefix,\n",
        "    name=\"search[2]__source_1_parametric\",\n",
        "    unique_tag=dataset_name,\n",
        "    n_live=150,\n",
        ")\n",
        "\n",
        "analysis_2 = al.AnalysisImaging(dataset=dataset)\n",
        "\n",
        "result_2 = search_2.fit(model=model_2, analysis=analysis_2)"
      ],
      "outputs": [],
      "execution_count": null
    },
    {
      "cell_type": "markdown",
      "metadata": {},
      "source": [
        "__Result (Search 2)__\n",
        "\n",
        "The final results can be summarized via printing `info`."
      ]
    },
    {
      "cell_type": "code",
      "metadata": {},
      "source": [
        "print(result_2.info)"
      ],
      "outputs": [],
      "execution_count": null
    },
    {
      "cell_type": "markdown",
      "metadata": {},
      "source": [
        "__Wrap Up__\n",
        "\n",
        "In this example, we used prior passing to initialize a model fit to a double Einstein ring. We exploited the fact that \n",
        "ray-tracing of the first source is fully independent of the source behind it, such that we could use it to initialize \n",
        "the lens model before fitting the second source.\n",
        "\n",
        "For certain double Einstein ring systems, it is possible that the light of the first and second sources are harder to\n",
        "deblend than the simple masking we used in this example. Manual masks drawn using a GUI which removes the second \n",
        "source's light will nevertheless always be possible, but more care may be required.\n",
        "\n",
        "__Pipelines__\n",
        "\n",
        "Advanced search chaining uses `pipelines` that chain together multiple searches to perform complex lens modeling \n",
        "in a robust and efficient way. \n",
        "\n",
        "There are currently no pipelines written for double Einstein ring systems, albeit one can craft them by learning the\n",
        "API and concepts from existing template pipelines. We are still figuring out the most effective way to model double\n",
        "Einstein ring systems, which is why pipeline templates are not yet written.\n",
        "\n",
        "__SLaM (Source, Light and Mass)__\n",
        " \n",
        "An even more advanced approach which uses search chaining are the SLaM pipelines, which break the lens modeling \n",
        "processing into a series of fits that first perfect the source model, then the lens light model and finally the lens\n",
        "mass model. \n",
        "\n",
        "The SLaM pipelines begin with a linear parametric Source pipeline, which then switches to an inversion Source pipeline, \n",
        "exploiting the chaining technique demonstrated in this example."
      ]
    },
    {
      "cell_type": "code",
      "metadata": {},
      "source": [
        "\n",
        "# %%\n",
        "'''\n",
        "Pipeline: Double Einstein Ring\n",
        "==============================\n",
        "\n",
        "By chaining together four searches this script fits `Imaging` dataset of a 'galaxy-scale' strong lens, which has two source galaxies\n",
        "at two different redshifts, forming a double Einstein ring system. In the final model:\n",
        "\n",
        " - The lens galaxy's light is an `Sersic`.\n",
        " - The lens galaxy's total mass distribution is an `Isothermal`.\n",
        " - The first source galaxy's mass is a `IsothermalSph` and its light is modeled using an `Inversion`.\n",
        " - The second source galaxy's light is modeled using an `Inversion`.\n",
        "\n",
        "The three searches break down as follows:\n",
        "\n",
        " 1) Model the lens galaxy using a linear parametric `Sersic` to subtract its emission.\n",
        " 2) Model the lens galaxy mass as an `Isothermal`  and first source galaxy using an `Sersic` light profiles.\n",
        " 3) Model the lens, first and second source galaxies, where the first source's mass is an `IsothermalSph` and second\n",
        "  source is an `Sersic`.\n",
        " 4) Model the first and second source galaxy simultaneously using an `Inversion` and lens galaxy mass as an\n",
        " `Isothermal`.\n",
        "\n",
        "The approach used in this pipeline and benefits of using chaining searching to fit double einstein ring systems are\n",
        "described in the script `notebooks/imaging/chaining/double_einstein_ring.ipynb`.\n",
        "\n",
        "__Start Here Notebook__\n",
        "\n",
        "If any code in this script is unclear, refer to the `chaining/start_here.ipynb` notebook.\n",
        "'''"
      ],
      "outputs": [],
      "execution_count": null
    },
    {
      "cell_type": "code",
      "metadata": {},
      "source": [
        "%matplotlib inline\n",
        "from pyprojroot import here\n",
        "workspace_path = str(here())\n",
        "%cd $workspace_path\n",
        "print(f\"Working Directory has been set to `{workspace_path}`\")\n",
        "\n",
        "from os import path\n",
        "import autofit as af\n",
        "import autolens as al\n",
        "import autolens.plot as aplt"
      ],
      "outputs": [],
      "execution_count": null
    },
    {
      "cell_type": "markdown",
      "metadata": {},
      "source": [
        "__Dataset + Masking__ \n",
        "\n",
        "Load, plot and mask the `Imaging` data.\n",
        "\n",
        "ote that we use different masks for each search."
      ]
    },
    {
      "cell_type": "code",
      "metadata": {},
      "source": [
        "dataset_name = \"double_einstein_ring\"\n",
        "dataset_path = path.join(\"dataset\", \"imaging\", dataset_name)\n",
        "\n",
        "dataset = al.Imaging.from_fits(\n",
        "    data_path=path.join(dataset_path, \"data.fits\"),\n",
        "    noise_map_path=path.join(dataset_path, \"noise_map.fits\"),\n",
        "    psf_path=path.join(dataset_path, \"psf.fits\"),\n",
        "    pixel_scales=0.1,\n",
        ")\n",
        "\n",
        "dataset_plotter = aplt.ImagingPlotter(dataset=dataset)\n",
        "dataset_plotter.subplot_dataset()"
      ],
      "outputs": [],
      "execution_count": null
    },
    {
      "cell_type": "markdown",
      "metadata": {},
      "source": [
        "__Paths__\n",
        "\n",
        "The path the results of all chained searches are output:"
      ]
    },
    {
      "cell_type": "code",
      "metadata": {},
      "source": [
        "path_prefix = path.join(\"imaging\", \"chaining\", \"double_einstein_ring\")"
      ],
      "outputs": [],
      "execution_count": null
    },
    {
      "cell_type": "markdown",
      "metadata": {},
      "source": [
        "__Masking (Search 1 & 2)__\n",
        "\n",
        "We apply a smaller circular mask, the radius of which is chosen to remove the light of the second source galaxy."
      ]
    },
    {
      "cell_type": "code",
      "metadata": {},
      "source": [
        "mask = al.Mask2D.circular(\n",
        "    shape_native=dataset.shape_native, pixel_scales=dataset.pixel_scales, radius=2.0\n",
        ")\n",
        "\n",
        "dataset = dataset.apply_mask(mask=mask)\n",
        "\n",
        "dataset_plotter = aplt.ImagingPlotter(dataset=dataset)\n",
        "dataset_plotter.subplot_dataset()"
      ],
      "outputs": [],
      "execution_count": null
    },
    {
      "cell_type": "markdown",
      "metadata": {},
      "source": [
        "__Model (Search 1)__\n",
        "\n",
        "Search 1 fits a lens model where:\n",
        "\n",
        " - The lens galaxy's light is a linear parametric `Sersic` bulge [6 parameters].\n",
        " - The lens galaxy's mass and both source galaxies are omitted.\n",
        "\n",
        "The number of free parameters and therefore the dimensionality of non-linear parameter space is N=7."
      ]
    },
    {
      "cell_type": "code",
      "metadata": {},
      "source": [
        "bulge = af.Model(al.lp_linear.Sersic)\n",
        "\n",
        "lens = af.Model(al.Galaxy, redshift=0.5, bulge=bulge)\n",
        "\n",
        "model_1 = af.Collection(galaxies=af.Collection(lens=lens))"
      ],
      "outputs": [],
      "execution_count": null
    },
    {
      "cell_type": "markdown",
      "metadata": {},
      "source": [
        "__Search + Analysis + Model-Fit (Search 1)__\n",
        "\n",
        "We now create the non-linear search, analysis and perform the model-fit using this model."
      ]
    },
    {
      "cell_type": "code",
      "metadata": {},
      "source": [
        "search_1 = af.Nautilus(\n",
        "    path_prefix=path_prefix,\n",
        "    name=\"search[1]__lens_light\",\n",
        "    unique_tag=dataset_name,\n",
        "    n_live=100,\n",
        ")\n",
        "\n",
        "analysis_1 = al.AnalysisImaging(dataset=dataset)\n",
        "\n",
        "result_1 = search_1.fit(model=model_1, analysis=analysis_1)"
      ],
      "outputs": [],
      "execution_count": null
    },
    {
      "cell_type": "markdown",
      "metadata": {},
      "source": [
        "__Model (Search 2)__\n",
        "\n",
        "We use the results of search 1 to create the lens model fitted in search 2, where:\n",
        "\n",
        " - The lens galaxy's light is an `Sersic` bulge [Parameters fixed to results of search 1].\n",
        " - The lens galaxy's total mass distribution is an `Isothermal` [5 parameters].\n",
        " - The first source galaxy's light is a linear parametric `Sersic` [6 parameters].\n",
        "\n",
        "The number of free parameters and therefore the dimensionality of non-linear parameter space is N=12.\n",
        "\n",
        "We therefore omit the second source from the model entirely."
      ]
    },
    {
      "cell_type": "code",
      "metadata": {},
      "source": [
        "mass = af.Model(al.mp.Isothermal)\n",
        "\n",
        "mass.centre = result_1.model.galaxies.lens.bulge.centre\n",
        "\n",
        "lens = af.Model(\n",
        "    al.Galaxy, redshift=0.5, bulge=result_1.instance.galaxies.lens.bulge, mass=mass\n",
        ")\n",
        "source_0 = af.Model(al.Galaxy, redshift=1.0, bulge=al.lp_linear.SersicCore)\n",
        "\n",
        "model_2 = af.Collection(galaxies=af.Collection(lens=lens, source_0=source_0))"
      ],
      "outputs": [],
      "execution_count": null
    },
    {
      "cell_type": "markdown",
      "metadata": {},
      "source": [
        "__Search + Analysis + Model-Fit (Search 2)__\n",
        "\n",
        "We now create the non-linear search, analysis and perform the model-fit using this model."
      ]
    },
    {
      "cell_type": "code",
      "metadata": {},
      "source": [
        "search_2 = af.Nautilus(\n",
        "    path_prefix=path_prefix,\n",
        "    name=\"search[2]__parametric_source_0\",\n",
        "    unique_tag=dataset_name,\n",
        "    n_live=100,\n",
        ")\n",
        "\n",
        "analysis_2 = al.AnalysisImaging(dataset=dataset)\n",
        "\n",
        "result_2 = search_2.fit(model=model_2, analysis=analysis_2)"
      ],
      "outputs": [],
      "execution_count": null
    },
    {
      "cell_type": "markdown",
      "metadata": {},
      "source": [
        "__Masking (Search 3)__\n",
        "\n",
        "We apply a larger circular mask, which includes the second source galaxy now that it is included in the model."
      ]
    },
    {
      "cell_type": "code",
      "metadata": {},
      "source": [
        "mask = al.Mask2D.circular(\n",
        "    shape_native=dataset.shape_native, pixel_scales=dataset.pixel_scales, radius=3.0\n",
        ")\n",
        "\n",
        "dataset = dataset.apply_mask(mask=mask)\n",
        "\n",
        "dataset_plotter = aplt.ImagingPlotter(dataset=dataset)\n",
        "\n",
        "dataset_plotter.subplot_dataset()"
      ],
      "outputs": [],
      "execution_count": null
    },
    {
      "cell_type": "markdown",
      "metadata": {},
      "source": [
        "__Model (Search 3)__\n",
        "\n",
        "We use the results of searches 1 & 2 to create the lens model fitted in search 3, where:\n",
        "\n",
        " - The lens galaxy's light is an `Sersic` bulge [Parameters fixed to results of search 1].\n",
        " - The lens galaxy's total mass distribution is an `Isothermal` [Parameters fixed to results of search 2].\n",
        " - The first source galaxy's light is a linear parametric `Sersic` [Parameters fixed to results of search 2].\n",
        " - The first source galaxy's mass is a `IsothermalSph` [3 parameters].\n",
        " - The second source galaxy's light is a linear parametric `Sersic` [6 parameters].\n",
        "\n",
        "The number of free parameters and therefore the dimensionality of non-linear parameter space is N=10.\n",
        "\n",
        "The galaxies are assigned redshifts of 0.5, 1.0 and 2.0. This ensures the multi-plane ray-tracing necessary for the \n",
        "double Einstein ring lens system is performed correctly."
      ]
    },
    {
      "cell_type": "code",
      "metadata": {},
      "source": [
        "lens = af.Model(\n",
        "    al.Galaxy,\n",
        "    redshift=0.5,\n",
        "    bulge=result_1.instance.galaxies.lens.bulge,\n",
        "    mass=result_2.model.galaxies.lens.mass,\n",
        ")\n",
        "source_0 = af.Model(\n",
        "    al.Galaxy,\n",
        "    redshift=1.0,\n",
        "    bulge=result_2.model.galaxies.source_0.bulge,\n",
        "    mass=al.mp.IsothermalSph,\n",
        ")\n",
        "source_1 = af.Model(al.Galaxy, redshift=2.0, bulge=al.lp_linear.SersicCore)\n",
        "\n",
        "model_3 = af.Collection(\n",
        "    galaxies=af.Collection(lens=lens, source_0=source_0, source_1=source_1),\n",
        ")"
      ],
      "outputs": [],
      "execution_count": null
    },
    {
      "cell_type": "markdown",
      "metadata": {},
      "source": [
        "__Search + Analysis + Model-Fit (Search 3)__\n",
        "\n",
        "We now create the non-linear search, analysis and perform the model-fit using this model."
      ]
    },
    {
      "cell_type": "code",
      "metadata": {},
      "source": [
        "search_3 = af.Nautilus(\n",
        "    path_prefix=path_prefix,\n",
        "    name=\"search[3]__source_2_parametric\",\n",
        "    unique_tag=dataset_name,\n",
        "    n_live=100,\n",
        ")\n",
        "\n",
        "analysis_3 = al.AnalysisImaging(dataset=dataset)\n",
        "\n",
        "result_3 = search_3.fit(model=model_3, analysis=analysis_3)"
      ],
      "outputs": [],
      "execution_count": null
    },
    {
      "cell_type": "markdown",
      "metadata": {},
      "source": [
        "__Model (Search 4)__\n",
        "\n",
        "We use the results of searches 1, 2 & 3 to create the lens model fitted in search 4, where:\n",
        "\n",
        " - The lens galaxy's light is an `Sersic` bulge [7 Parameters: we do not use the results of search 1 to \n",
        " initialize priors].\n",
        " - The lens galaxy's total mass distribution is an `Isothermal` [5 Parameters: priors initialized from search 2].\n",
        " - The first source galaxy's light is a linear parametric `Sersic` [6 parameters: priors initialized from search 2].\n",
        " - The first source galaxy's mass is a `IsothermalSph` [3 parameters: priors initialized from search 3].\n",
        " - The second source galaxy's light is a linear parametric `Sersic` [6 parameters: priors initialized from search 3].\n",
        "\n",
        "The number of free parameters and therefore the dimensionality of non-linear parameter space is N=29.\n",
        "\n",
        "The galaxies are assigned redshifts of 0.5, 1.0 and 2.0. This ensures the multi-plane ray-tracing necessary for the \n",
        "double Einstein ring lens system is performed correctly."
      ]
    },
    {
      "cell_type": "code",
      "metadata": {},
      "source": [
        "lens = af.Model(\n",
        "    al.Galaxy,\n",
        "    redshift=0.5,\n",
        "    bulge=af.Model(al.lp_linear.Sersic),\n",
        "    mass=result_2.model.galaxies.lens.mass,\n",
        ")\n",
        "source_0 = af.Model(\n",
        "    al.Galaxy,\n",
        "    redshift=1.0,\n",
        "    bulge=result_2.model.galaxies.source_0.bulge,\n",
        "    mass=result_3.model.galaxies.source_0.mass,\n",
        ")\n",
        "source_1 = af.Model(\n",
        "    al.Galaxy, redshift=2.0, bulge=result_3.model.galaxies.source_1.bulge\n",
        ")\n",
        "\n",
        "model_4 = af.Collection(\n",
        "    galaxies=af.Collection(lens=lens, source_0=source_0, source_1=source_1),\n",
        ")"
      ],
      "outputs": [],
      "execution_count": null
    },
    {
      "cell_type": "markdown",
      "metadata": {},
      "source": [
        "__Search + Analysis + Model-Fit (Search 4)__\n",
        "\n",
        "We now create the non-linear search, analysis and perform the model-fit using this model."
      ]
    },
    {
      "cell_type": "code",
      "metadata": {},
      "source": [
        "search_4 = af.Nautilus(\n",
        "    path_prefix=path_prefix,\n",
        "    name=\"search[4]__parametric_all\",\n",
        "    unique_tag=dataset_name,\n",
        "    n_live=100,\n",
        ")\n",
        "\n",
        "analysis_4 = al.AnalysisImaging(dataset=dataset)\n",
        "\n",
        "result_4 = search_4.fit(model=model_4, analysis=analysis_4)"
      ],
      "outputs": [],
      "execution_count": null
    },
    {
      "cell_type": "markdown",
      "metadata": {},
      "source": [
        "__Model (Search 5)__\n",
        "\n",
        "We use the results of search 4 to create the lens model fitted in search 5, where:\n",
        "\n",
        " - The lens galaxy's light is an `Sersic` bulge [Parameters fixed to results of search 4].\n",
        " - The lens galaxy's total mass distribution is again an `Isothermal` [Parameters fixed to results of search 4].\n",
        " - The first source galaxy's mass is a `IsothermalSph` [Parameters fixed to results of search 4].\n",
        " - The first source-galaxy's light uses an `Overlay` image-mesh, `Delaunay` mesh and `ConstantSplit` regularization \n",
        " scheme [3 parameters].\n",
        " - The second source-galaxy's light uses an `Overlay` image-mesh, `Delaunay` mesh and `ConstantSplit` regularization  \n",
        " scheme [3 parameters].\n",
        "\n",
        "The number of free parameters and therefore the dimensionality of non-linear parameter space is N=6."
      ]
    },
    {
      "cell_type": "code",
      "metadata": {},
      "source": [
        "lens = result_4.instance.galaxies.lens\n",
        "source_0 = af.Model(\n",
        "    al.Galaxy,\n",
        "    redshift=1.0,\n",
        "    mass=result_4.instance.galaxies.source_0.mass,\n",
        "    pixelization=af.Model(\n",
        "        al.Pixelization,\n",
        "        image_mesh=al.image_mesh.Overlay,\n",
        "        mesh=al.mesh.Delaunay,\n",
        "        regularization=al.reg.ConstantSplit,\n",
        "    ),\n",
        ")\n",
        "source_1 = af.Model(\n",
        "    al.Galaxy,\n",
        "    redshift=2.0,\n",
        "    pixelization=af.Model(\n",
        "        al.Pixelization,\n",
        "        image_mesh=al.image_mesh.Overlay,\n",
        "        mesh=al.mesh.Delaunay,\n",
        "        regularization=al.reg.ConstantSplit,\n",
        "    ),\n",
        ")\n",
        "model_5 = af.Collection(\n",
        "    galaxies=af.Collection(lens=lens, source_0=source_0, source_1=source_1),\n",
        ")"
      ],
      "outputs": [],
      "execution_count": null
    },
    {
      "cell_type": "markdown",
      "metadata": {},
      "source": [
        "__Analysis__"
      ]
    },
    {
      "cell_type": "code",
      "metadata": {},
      "source": [
        "\n",
        "analysis_5 = al.AnalysisImaging(dataset=dataset)"
      ],
      "outputs": [],
      "execution_count": null
    },
    {
      "cell_type": "markdown",
      "metadata": {},
      "source": [
        "__Search + Model-Fit__\n",
        "\n",
        "We now create the non-linear search and perform the model-fit using this model."
      ]
    },
    {
      "cell_type": "code",
      "metadata": {},
      "source": [
        "search_5 = af.Nautilus(\n",
        "    path_prefix=path_prefix,\n",
        "    name=\"search[5]__sources_pixelization\",\n",
        "    unique_tag=dataset_name,\n",
        "    n_live=100,\n",
        ")\n",
        "\n",
        "result_5 = search_5.fit(model=model_5, analysis=analysis_5)"
      ],
      "outputs": [],
      "execution_count": null
    },
    {
      "cell_type": "markdown",
      "metadata": {},
      "source": [
        "__Wrap Up__\n",
        "\n",
        "In this example, we passed used prior passing to initialize a model fit to a double Einstein ring using \n",
        "two `Inversion`'s.\n",
        "\n",
        "Fitting just the `Inversion` by itself for a double Einstein ring system is practically impossible, due to the \n",
        "unphysical solutions which reconstruct its light as a demagnified version of each source. Furthermore, it helped to \n",
        "ensure that the model-fit ran efficiently.\n",
        "\n",
        "__Pipelines__\n",
        "\n",
        "Advanced search chaining uses `pipelines` that chain together multiple searches to perform complex lens modeling \n",
        "in a robust and efficient way. \n",
        "\n",
        "There are currently no pipelines written for double Einstein ring systems, albeit one can craft them by learning the\n",
        "API and concepts from existing template pipelines. We are still figuring out the most effective way to model double\n",
        "Einstein ring systems, which is why pipeline templates are not yet written.\n",
        "\n",
        "__SLaM (Source, Light and Mass)__\n",
        "\n",
        "An even more advanced approach which uses search chaining are the SLaM pipelines, which break the lens modeling \n",
        "processing into a series of fits that first perfect the source model, then the lens light model and finally the lens\n",
        "mass model. \n",
        "\n",
        "The SLaM pipelines begin with a parametric Source pipeline, which then switches to an inversion Source pipeline, \n",
        "exploiting the chaining technique demonstrated in this example."
      ]
    },
    {
      "cell_type": "code",
      "metadata": {},
      "source": [],
      "outputs": [],
      "execution_count": null
    }
  ],
  "metadata": {
    "anaconda-cloud": {},
    "kernelspec": {
      "display_name": "Python 3",
      "language": "python",
      "name": "python3"
    },
    "language_info": {
      "codemirror_mode": {
        "name": "ipython",
        "version": 3
      },
      "file_extension": ".py",
      "mimetype": "text/x-python",
      "name": "python",
      "nbconvert_exporter": "python",
      "pygments_lexer": "ipython3",
      "version": "3.6.1"
    }
  },
  "nbformat": 4,
  "nbformat_minor": 4
}