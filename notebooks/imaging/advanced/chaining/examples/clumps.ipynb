{
  "cells": [
    {
      "cell_type": "markdown",
      "metadata": {},
      "source": [
        "Chaining: Clumps\n",
        "================\n",
        "\n",
        "Certain lenses may have galaxies inside or nearby their lensed source emission, which we may wish to include in the\n",
        "len model.\n",
        "\n",
        "This could be as light profiles which fit and subtract their emission and / or mass profiles which account for their\n",
        "lensing effects.\n",
        "\n",
        "The **PyAutoLens** clump API makes it straight forward to include these objects, all we need is the centre of each\n",
        "clump (which we can estimate from its luminous emission).\n",
        "\n",
        "The `modeling` tutorial `autolens_workspace/*/imaging/modeling/features/clumps.py` describes a simple\n",
        "example usihng the clump API which does not use search chaining.\n",
        "\n",
        "The `data_preparation` tutorial `autolens_workspace/*/imaging/data_preparation/examples/optional/clump_centres.py`\n",
        "describes how to create these centres.\n",
        "\n",
        "This example shows how the clump API can be used in a pipeline. By chaining together three searches This script\n",
        "fits an `Imaging` dataset of a 'galaxy-scale' strong lens, where in the final model:\n",
        "\n",
        " - The lens galaxy's light is a parametric `Sersic`.\n",
        " - The lens galaxy's total mass distribution is an `PowerLaw`.\n",
        " - The source galaxy is a parametric `Sersic`.\n",
        " - Two clumps are included in the lens model which have `SersicSph` light profiles and `IsothermalSph` mass profiles.\n",
        "\n",
        "__Start Here Notebook__\n",
        "\n",
        "If any code in this script is unclear, refer to the `chaining/start_here.ipynb` notebook."
      ]
    },
    {
      "cell_type": "code",
      "metadata": {},
      "source": [
        "%matplotlib inline\n",
        "from pyprojroot import here\n",
        "workspace_path = str(here())\n",
        "%cd $workspace_path\n",
        "print(f\"Working Directory has been set to `{workspace_path}`\")\n",
        "\n",
        "import os\n",
        "import sys\n",
        "from os import path\n",
        "import autofit as af\n",
        "import autolens as al\n",
        "import autolens.plot as aplt\n",
        "\n",
        "sys.path.insert(0, os.getcwd())\n"
      ],
      "outputs": [],
      "execution_count": null
    },
    {
      "cell_type": "markdown",
      "metadata": {},
      "source": [
        "__Dataset + Masking__ \n",
        "\n",
        "Load, plot and mask the `Imaging` data.\n",
        "\n",
        "We define a bigger circular mask of 6.0\" than the 3.0\" masks used in other tutorials, to ensure the clump's emission is \n",
        "included."
      ]
    },
    {
      "cell_type": "code",
      "metadata": {},
      "source": [
        "dataset_name = \"clumps\"\n",
        "dataset_path = path.join(\"dataset\", \"imaging\", dataset_name)\n",
        "\n",
        "dataset = al.Imaging.from_fits(\n",
        "    data_path=path.join(dataset_path, \"data.fits\"),\n",
        "    noise_map_path=path.join(dataset_path, \"noise_map.fits\"),\n",
        "    psf_path=path.join(dataset_path, \"psf.fits\"),\n",
        "    pixel_scales=0.1,\n",
        ")\n",
        "\n",
        "mask = al.Mask2D.circular(\n",
        "    shape_native=dataset.shape_native, pixel_scales=dataset.pixel_scales, radius=6.0\n",
        ")\n",
        "\n",
        "dataset = dataset.apply_mask(mask=mask)\n",
        "\n",
        "dataset_plotter = aplt.ImagingPlotter(dataset=dataset)\n",
        "dataset_plotter.subplot_dataset()"
      ],
      "outputs": [],
      "execution_count": null
    },
    {
      "cell_type": "markdown",
      "metadata": {},
      "source": [
        "__Paths__\n",
        "\n",
        "The path the results of all chained searches are output:"
      ]
    },
    {
      "cell_type": "code",
      "metadata": {},
      "source": [
        "path_prefix = path.join(\"imaging\", \"pipelines\")"
      ],
      "outputs": [],
      "execution_count": null
    },
    {
      "cell_type": "markdown",
      "metadata": {},
      "source": [
        "__Redshifts__\n",
        "\n",
        "The redshifts of the lens and source galaxies."
      ]
    },
    {
      "cell_type": "code",
      "metadata": {},
      "source": [
        "redshift_lens = 0.5\n",
        "redshift_source = 1.0"
      ],
      "outputs": [],
      "execution_count": null
    },
    {
      "cell_type": "markdown",
      "metadata": {},
      "source": [
        "__Clump Model__ \n",
        "\n",
        "This model includes clumps, which are `Galaxy` objects with light and mass profiles fixed to an input centre which \n",
        "model galaxies nearby the strong lens system.\n",
        "\n",
        "A full description of the clump API is given in the \n",
        "script `autolens_workspace/*/imaging/modeling/features/clumps.py`"
      ]
    },
    {
      "cell_type": "code",
      "metadata": {},
      "source": [
        "clump_centres = clump_centres = al.Grid2DIrregular(\n",
        "    al.from_json(file_path=path.join(dataset_path, \"clump_centres.json\"))\n",
        ")\n",
        "\n",
        "clump_model = al.ClumpModel(\n",
        "    redshift=0.5,\n",
        "    centres=clump_centres,\n",
        "    mass_cls=al.mp.IsothermalSph,\n",
        "    light_cls=al.lp.SersicSph,\n",
        "    einstein_radius_upper_limit=1.0,\n",
        ")"
      ],
      "outputs": [],
      "execution_count": null
    },
    {
      "cell_type": "markdown",
      "metadata": {},
      "source": [
        "__Model + Search + Analysis + Model-Fit (Search 1)__\n",
        "\n",
        "Search 1 fits a lens model where:\n",
        "\n",
        " - The lens galaxy's light is a parametric `Sersic` bulge [7 parameters].\n",
        "\n",
        " - The lens galaxy's mass and source galaxy are omitted.\n",
        " \n",
        " - The clump light profiles are fitted (but their mass profiles are omitted) [6 parameters]\n",
        "\n",
        "The number of free parameters and therefore the dimensionality of non-linear parameter space is N=13."
      ]
    },
    {
      "cell_type": "code",
      "metadata": {},
      "source": [
        "model_1 = af.Collection(\n",
        "    galaxies=af.Collection(\n",
        "        lens=af.Model(al.Galaxy, redshift=0.5, bulge=af.Model(al.lp.Sersic))\n",
        "        + clump_model.clumps_light_only\n",
        "    ),\n",
        ")"
      ],
      "outputs": [],
      "execution_count": null
    },
    {
      "cell_type": "markdown",
      "metadata": {},
      "source": [
        "Given the extra parameters in the model due to the clumps, we increase the number of live points from the default of\n",
        "50 to 100 and make the random walk length 10, both of which lead to a more thorough sampling of parameter space\n",
        "(see `autolens_workspace/*/howtolens/chapter_optional/tutorial_searches.py`).\n",
        "\n",
        "We do this for every search below."
      ]
    },
    {
      "cell_type": "code",
      "metadata": {},
      "source": [
        "search_1 = af.Nautilus(\n",
        "    path_prefix=path_prefix,\n",
        "    name=\"search[1]_light[lp]\",\n",
        "    unique_tag=dataset_name,\n",
        "    n_live=150,\n",
        ")\n",
        "\n",
        "analysis_1 = al.AnalysisImaging(dataset=dataset)\n",
        "\n",
        "result_1 = search_1.fit(model=model_1, analysis=analysis_1)"
      ],
      "outputs": [],
      "execution_count": null
    },
    {
      "cell_type": "markdown",
      "metadata": {},
      "source": [
        "__Model + Search + Analysis + Model-Fit (Search 2)__\n",
        "\n",
        "Search 2 fits a lens model where:\n",
        "\n",
        " - The lens galaxy's light is an `Sersic` bulge [Parameters fixed to results of search 1].\n",
        "\n",
        " - The lens galaxy's total mass distribution is an `Isothermal` with `ExternalShear` [7 parameters].\n",
        "\n",
        " - The source galaxy's light is a parametric `SersicCore` [7 parameters].\n",
        "\n",
        " - The clump mass profiles are fitted and their light profiles are fixed to the previous search [2 parameters]\n",
        "\n",
        "The number of free parameters and therefore the dimensionality of non-linear parameter space is N=16."
      ]
    },
    {
      "cell_type": "code",
      "metadata": {},
      "source": [
        "model_2 = af.Collection(\n",
        "    galaxies=af.Collection(\n",
        "        lens=af.Model(\n",
        "            al.Galaxy,\n",
        "            redshift=redshift_lens,\n",
        "            bulge=result_1.instance.galaxies.lens.bulge,\n",
        "            mass=al.mp.Isothermal,\n",
        "            shear=al.mp.ExternalShear,\n",
        "        ),\n",
        "        source=af.Model(al.Galaxy, redshift=redshift_source, bulge=al.lp.SersicCore),\n",
        "    )\n",
        "    + clump_model.clumps_mass_only\n",
        "    + al.util.chaining.clumps_from(result=result_1),\n",
        ")\n",
        "\n",
        "search_2 = af.Nautilus(\n",
        "    path_prefix=path_prefix,\n",
        "    name=\"search[2]_light[fixed]_mass[sie]_source[lp]\",\n",
        "    unique_tag=dataset_name,\n",
        "    n_live=150,\n",
        ")\n",
        "\n",
        "analysis_2 = al.AnalysisImaging(dataset=dataset)\n",
        "\n",
        "result_2 = search_2.fit(model=model_2, analysis=analysis_2)"
      ],
      "outputs": [],
      "execution_count": null
    },
    {
      "cell_type": "markdown",
      "metadata": {},
      "source": [
        "__Model + Search + Analysis + Model-Fit (Search 3)__\n",
        "\n",
        "Search 2 fits a lens model where:\n",
        "\n",
        " - The lens galaxy's light is an `Sersic` bulge [7 Parameters: we do not use the results of search 1 to \n",
        " initialize priors].\n",
        "\n",
        " - The lens galaxy's total mass distribution is an `Isothermal` with `ExternalShear` [7 parameters: priors\n",
        " initialized from search 2].\n",
        "\n",
        " - The source galaxy's light is a parametric `SersicCore` [7 parameters: priors initialized from search 2].\n",
        "\n",
        " - The clump light and mass profiles are fitted [8 parameters: priors initialized from search 2]\n",
        "\n",
        "The number of free parameters and therefore the dimensionality of non-linear parameter space is N=25.\n",
        "\n",
        "The result of search 1 is sufficient for subtracting the lens light, so that search 2 can accurately fit the lens\n",
        "mass model and source light. However, the lens light model may not be particularly accurate, so we opt not to use\n",
        "the result of search 1 to initialize the priors."
      ]
    },
    {
      "cell_type": "code",
      "metadata": {},
      "source": [
        "model_3 = af.Collection(\n",
        "    galaxies=af.Collection(\n",
        "        lens=af.Model(\n",
        "            al.Galaxy,\n",
        "            redshift=redshift_lens,\n",
        "            bulge=af.Model(al.lp.Sersic),\n",
        "            mass=result_2.model.galaxies.lens.mass,\n",
        "            shear=result_2.model.galaxies.lens.shear,\n",
        "        ),\n",
        "        source=af.Model(\n",
        "            al.Galaxy,\n",
        "            redshift=redshift_source,\n",
        "            bulge=result_2.model.galaxies.source.bulge,\n",
        "        ),\n",
        "    )\n",
        "    + clump_model.clumps_light_only\n",
        "    + al.util.chaining.clumps_from(result=result_2, mass_as_model=True),\n",
        ")\n",
        "\n",
        "search_3 = af.Nautilus(\n",
        "    path_prefix=path_prefix,\n",
        "    name=\"search[3]_light[lp]_mass[total]_source[lp]\",\n",
        "    unique_tag=dataset_name,\n",
        "    n_live=150,\n",
        ")\n",
        "\n",
        "analysis_3 = al.AnalysisImaging(dataset=dataset)\n",
        "\n",
        "result_3 = search_3.fit(model=model_3, analysis=analysis_3)\n"
      ],
      "outputs": [],
      "execution_count": null
    }
  ],
  "metadata": {
    "anaconda-cloud": {},
    "kernelspec": {
      "display_name": "Python 3",
      "language": "python",
      "name": "python3"
    },
    "language_info": {
      "codemirror_mode": {
        "name": "ipython",
        "version": 3
      },
      "file_extension": ".py",
      "mimetype": "text/x-python",
      "name": "python",
      "nbconvert_exporter": "python",
      "pygments_lexer": "ipython3",
      "version": "3.6.1"
    }
  },
  "nbformat": 4,
  "nbformat_minor": 4
}