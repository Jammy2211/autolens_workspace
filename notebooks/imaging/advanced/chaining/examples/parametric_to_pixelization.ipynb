{
  "cells": [
    {
      "cell_type": "markdown",
      "metadata": {},
      "source": [
        "Chaining: Parametric To Pixelization\n",
        "====================================\n",
        "\n",
        "This script chains two searches to fit `Imaging` data of a 'galaxy-scale' strong lens with a model where:\n",
        "\n",
        " - The lens galaxy's light is omitted.\n",
        " - The lens galaxy's total mass distribution is an `Isothermal` and `ExternalShear`.\n",
        " - The source galaxy's light is an `Exponential`.\n",
        "\n",
        "The two searches break down as follows:\n",
        "\n",
        " 1) Model the source galaxy using a linear parametric `Sersic` and lens galaxy mass as an `Isothermal`.\n",
        " 2) Models the source galaxy using an `Inversion` and lens galaxy mass as an `Isothermal`.\n",
        "\n",
        "__Why Chain?__\n",
        "\n",
        "There are a number of benefits of chaining a linear parametric source model and `Inversion`, as opposed to fitting the\n",
        "`Inversion` in one search:\n",
        "\n",
        " - Parametric sources are computationally faster to fit. Therefore, even though the `Sersic` has more\n",
        " parameters for the search to fit than an `Inversion`, the model-fit is faster overall.\n",
        "\n",
        " - `Inversion`'s often go to unphysical solutions where the mass model goes to high / low normalization_list and the source\n",
        " is reconstructed as a demagnified version of the image. (see Chapter 4, tutorial 6 for a complete description of\n",
        " this effect). This does not occur for a linear parametric source, therefore the mass model can be initialized using a\n",
        " parametric source, which sets up the search which fits an `Inversion` so as to not sample these unphysical solutions.\n",
        "      \n",
        " - The positions and positions threshold can be updated to further ensure these unphysical solutions do not bias the\n",
        " model-fit. The updated positions use the maximum log likelihood mass model of the first search to determine the\n",
        " image-plane position of the lensed source. In the second search, we then require that a mass model must trace these\n",
        " positions within a threshold arc-secoond value of one another in the source-plane, removing these unphysical solutions.\n",
        "\n",
        "__Preloading__\n",
        "\n",
        "When certain components of a model are fixed its associated quantities do not change during a model-fit. For\n",
        "example, for a lens model where all light profiles are fixed, the PSF blurred model-image of those light profiles\n",
        "is also fixed.\n",
        "\n",
        "**PyAutoLens** uses _implicit preloading_ to inspect the model and determine what quantities are fixed. It then stores\n",
        "these in memory before the non-linear search begins such that they are not recomputed for every likelihood evaluation.\n",
        "\n",
        "In this example no preloading occurs.\n",
        "\n",
        "__Start Here Notebook__\n",
        "\n",
        "If any code in this script is unclear, refer to the `chaining/start_here.ipynb` notebook."
      ]
    },
    {
      "cell_type": "code",
      "metadata": {},
      "source": [
        "%matplotlib inline\n",
        "from pyprojroot import here\n",
        "workspace_path = str(here())\n",
        "%cd $workspace_path\n",
        "print(f\"Working Directory has been set to `{workspace_path}`\")\n",
        "\n",
        "from os import path\n",
        "import autofit as af\n",
        "import autolens as al\n",
        "import autolens.plot as aplt"
      ],
      "outputs": [],
      "execution_count": null
    },
    {
      "cell_type": "markdown",
      "metadata": {},
      "source": [
        "__Dataset + Masking__ \n",
        "\n",
        "Load, plot and mask the `Imaging` data."
      ]
    },
    {
      "cell_type": "code",
      "metadata": {},
      "source": [
        "dataset_name = \"simple__no_lens_light\"\n",
        "dataset_path = path.join(\"dataset\", \"imaging\", dataset_name)\n",
        "\n",
        "dataset = al.Imaging.from_fits(\n",
        "    data_path=path.join(dataset_path, \"data.fits\"),\n",
        "    noise_map_path=path.join(dataset_path, \"noise_map.fits\"),\n",
        "    psf_path=path.join(dataset_path, \"psf.fits\"),\n",
        "    pixel_scales=0.1,\n",
        ")\n",
        "\n",
        "mask = al.Mask2D.circular(\n",
        "    shape_native=dataset.shape_native, pixel_scales=dataset.pixel_scales, radius=3.0\n",
        ")\n",
        "\n",
        "dataset = dataset.apply_mask(mask=mask)\n",
        "\n",
        "dataset_plotter = aplt.ImagingPlotter(dataset=dataset)\n",
        "\n",
        "dataset_plotter.subplot_dataset()"
      ],
      "outputs": [],
      "execution_count": null
    },
    {
      "cell_type": "markdown",
      "metadata": {},
      "source": [
        "__Paths__\n",
        "\n",
        "The path the results of all chained searches are output:"
      ]
    },
    {
      "cell_type": "code",
      "metadata": {},
      "source": [
        "path_prefix = path.join(\"imaging\", \"chaining\", \"parametric_to_pixelization\")"
      ],
      "outputs": [],
      "execution_count": null
    },
    {
      "cell_type": "markdown",
      "metadata": {},
      "source": [
        "__Model (Search 1)__\n",
        "\n",
        "Search 1 fits a lens model where:\n",
        "\n",
        " - The lens galaxy's total mass distribution is an `Isothermal` and `ExternalShear` [7 parameters].\n",
        " - The source galaxy's light is a linear parametric `SersicCore` [6 parameters].\n",
        "\n",
        "The number of free parameters and therefore the dimensionality of non-linear parameter space is N=13."
      ]
    },
    {
      "cell_type": "code",
      "metadata": {},
      "source": [
        "lens = af.Model(\n",
        "    al.Galaxy, redshift=0.5, mass=al.mp.Isothermal, shear=al.mp.ExternalShear\n",
        ")\n",
        "\n",
        "source = af.Model(al.Galaxy, redshift=1.0, bulge=al.lp_linear.SersicCore)\n",
        "\n",
        "model_1 = af.Collection(galaxies=af.Collection(lens=lens, source=source))"
      ],
      "outputs": [],
      "execution_count": null
    },
    {
      "cell_type": "markdown",
      "metadata": {},
      "source": [
        "The `info` attribute shows the model in a readable format."
      ]
    },
    {
      "cell_type": "code",
      "metadata": {},
      "source": [
        "print(model_1.info)"
      ],
      "outputs": [],
      "execution_count": null
    },
    {
      "cell_type": "markdown",
      "metadata": {},
      "source": [
        "__Search + Analysis + Model-Fit (Search 1)__\n",
        "\n",
        "We now create the non-linear search, analysis and perform the model-fit using this model.\n",
        "\n",
        "You may wish to inspect the results of the search 1 model-fit to ensure a fast non-linear search has been provided that \n",
        "provides a reasonably accurate lens model."
      ]
    },
    {
      "cell_type": "code",
      "metadata": {},
      "source": [
        "search_1 = af.Nautilus(\n",
        "    path_prefix=path_prefix,\n",
        "    name=\"search[1]__parametric\",\n",
        "    unique_tag=dataset_name,\n",
        "    n_live=100,\n",
        ")\n",
        "\n",
        "analysis_1 = al.AnalysisImaging(dataset=dataset)\n",
        "\n",
        "result_1 = search_1.fit(model=model_1, analysis=analysis_1)"
      ],
      "outputs": [],
      "execution_count": null
    },
    {
      "cell_type": "markdown",
      "metadata": {},
      "source": [
        "__Result (Search 1)__\n",
        "\n",
        "The results which are used for prior passing are summarized in the `info` attribute."
      ]
    },
    {
      "cell_type": "code",
      "metadata": {},
      "source": [
        "print(result_1.info)"
      ],
      "outputs": [],
      "execution_count": null
    },
    {
      "cell_type": "markdown",
      "metadata": {},
      "source": [
        "__Model (Search 2)__\n",
        "\n",
        "We use the results of search 1 to create the lens model fitted in search 2, where:\n",
        "\n",
        " - The lens galaxy's total mass distribution is again an `Isothermal` and `ExternalShear` [7 parameters: \n",
        " priors initialized from search 1].\n",
        " - The source galaxy's light uses an `Overlay` image-mesh [2 parameters].\n",
        " \n",
        " - The source-galaxy's light uses a `Delaunay` mesh [0 parameters].\n",
        " - This pixelization is regularized using a `ConstantSplit` scheme which smooths every source pixel equally [1 parameter]. \n",
        " \n",
        "The number of free parameters and therefore the dimensionality of non-linear parameter space is N=10.\n",
        "\n",
        "The term `model` below passes the source model as model-components that are to be fitted for by the \n",
        "non-linear search. We pass the `lens` as a `model`, so that we can use the mass model inferred by search 1. The source\n",
        "does not use any priors from the result of search 1."
      ]
    },
    {
      "cell_type": "code",
      "metadata": {},
      "source": [
        "lens = result_1.model.galaxies.lens\n",
        "\n",
        "image_mesh = af.Model(al.image_mesh.Overlay)\n",
        "image_mesh.shape = (30, 30)\n",
        "\n",
        "pixelization = af.Model(\n",
        "    al.Pixelization,\n",
        "    image_mesh=image_mesh,\n",
        "    mesh=al.mesh.Delaunay,\n",
        "    regularization=al.reg.ConstantSplit,\n",
        ")\n",
        "\n",
        "source = af.Model(al.Galaxy, redshift=1.0, pixelization=pixelization)\n",
        "model_2 = af.Collection(galaxies=af.Collection(lens=lens, source=source))"
      ],
      "outputs": [],
      "execution_count": null
    },
    {
      "cell_type": "markdown",
      "metadata": {},
      "source": [
        "The `info` attribute shows the model, including how parameters and priors were passed from `result_1`."
      ]
    },
    {
      "cell_type": "code",
      "metadata": {},
      "source": [
        "print(model_2.info)"
      ],
      "outputs": [],
      "execution_count": null
    },
    {
      "cell_type": "markdown",
      "metadata": {},
      "source": [
        "__Analysis + Position Likelihood__\n",
        "\n",
        "We add a penalty term ot the likelihood function, which penalizes models where the brightest multiple images of\n",
        "the lensed source galaxy do not trace close to one another in the source plane. This removes \"demagnified source\n",
        "solutions\" from the source pixelization, which one is likely to infer without this penalty.\n",
        "\n",
        "A comprehensive description of why we do this is given at the following readthedocs page. I strongly recommend you \n",
        "read this page in full if you are not familiar with the positions likelihood penalty and demagnified source reconstructions:\n",
        "\n",
        " https://pyautolens.readthedocs.io/en/latest/general/demagnified_solutions.html\n",
        "\n",
        "__Brief Description__\n",
        "\n",
        "In this example we update the positions between searches, where the positions correspond to the (y,x) locations of the \n",
        "lensed source's multiple images. When a model-fit uses positions, it requires them to trace within a threshold value of \n",
        "one another for every mass model sampled by the non-linear search. If they do not, a penalty term is added to the\n",
        "likelihood penalizing that solution \n",
        "\n",
        "Below, we use the results of the first search to compute the lensed source positions that are input into search 2. The\n",
        "code below uses the maximum log likelihood model mass model and source galaxy centre, to determine where the source\n",
        "positions are located in the image-plane. \n",
        "\n",
        "We also use this result to set the `threshold`, whereby the threshold value is based on how close these positions \n",
        "trace to one another in the source-plane (using the best-fit mass model again). This threshold is multiplied by \n",
        "a `factor` to ensure it is not too small (and thus does not remove plausible mass  models). If, after this \n",
        "multiplication, the threshold is below the `minimum_threshold`, it is rounded up to this minimum value."
      ]
    },
    {
      "cell_type": "code",
      "metadata": {},
      "source": [
        "analysis_2 = al.AnalysisImaging(\n",
        "    dataset=dataset,\n",
        "    positions_likelihood=result_1.positions_likelihood_from(\n",
        "        factor=3.0, minimum_threshold=0.2\n",
        "    ),\n",
        ")"
      ],
      "outputs": [],
      "execution_count": null
    },
    {
      "cell_type": "markdown",
      "metadata": {},
      "source": [
        "__Search + Model-Fit__\n",
        "\n",
        "We now create the non-linear search and perform the model-fit using this model."
      ]
    },
    {
      "cell_type": "code",
      "metadata": {},
      "source": [
        "search_2 = af.Nautilus(\n",
        "    path_prefix=path_prefix,\n",
        "    name=\"search[2]__pixelization\",\n",
        "    unique_tag=dataset_name,\n",
        "    n_live=80,\n",
        ")\n",
        "\n",
        "result_2 = search_2.fit(model=model_2, analysis=analysis_2)"
      ],
      "outputs": [],
      "execution_count": null
    },
    {
      "cell_type": "markdown",
      "metadata": {},
      "source": [
        "__Result (Search 2)__\n",
        "\n",
        "The final results can be summarized via printing `info`."
      ]
    },
    {
      "cell_type": "code",
      "metadata": {},
      "source": [
        "print(result_2.info)"
      ],
      "outputs": [],
      "execution_count": null
    },
    {
      "cell_type": "markdown",
      "metadata": {},
      "source": [
        "__Wrap Up__\n",
        "\n",
        "In this example, we passed used prior passing to initialize an `Isothermal` + `ExternalShear` lens mass model \n",
        "using a parametric source and pass this model to a second search which modeled the source using an `Inversion`. \n",
        "\n",
        "This was more computationally efficient than just fitting the `Inversion` by itself and helped to ensure that the \n",
        "`Inversion` did not go to an unphysical mass model solution which reconstructs the source as a demagnified version\n",
        "of the lensed image.\n",
        "\n",
        "__Pipelines__\n",
        "\n",
        "Advanced search chaining uses `pipelines` that chain together multiple searches to perform complex lens modeling \n",
        "in a robust and efficient way. \n",
        "\n",
        "The following example pipelines fits an inversion, using the same approach demonstrated in this script of first fitting \n",
        "a parametric source:\n",
        "\n",
        " `autolens_workspace/imaging/chaining/pipelines/mass_total__source_pixelization.py`\n",
        "\n",
        " __SLaM (Source, Light and Mass)__\n",
        " \n",
        "An even more advanced approach which uses search chaining are the SLaM pipelines, which break the lens modeling \n",
        "processing into a series of fits that first perfect the source model, then the lens light model and finally the lens\n",
        "mass model. \n",
        "\n",
        "The SLaM pipelines begin with a parametric Source pipeline, which then switches to an inversion Source pipeline, \n",
        "exploiting the chaining technique demonstrated in this example."
      ]
    },
    {
      "cell_type": "code",
      "metadata": {},
      "source": [],
      "outputs": [],
      "execution_count": null
    }
  ],
  "metadata": {
    "anaconda-cloud": {},
    "kernelspec": {
      "display_name": "Python 3",
      "language": "python",
      "name": "python3"
    },
    "language_info": {
      "codemirror_mode": {
        "name": "ipython",
        "version": 3
      },
      "file_extension": ".py",
      "mimetype": "text/x-python",
      "name": "python",
      "nbconvert_exporter": "python",
      "pygments_lexer": "ipython3",
      "version": "3.6.1"
    }
  },
  "nbformat": 4,
  "nbformat_minor": 4
}