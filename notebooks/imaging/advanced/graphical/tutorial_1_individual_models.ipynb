{
  "cells": [
    {
      "cell_type": "markdown",
      "metadata": {},
      "source": [
        "Tutorial 1: Individual Models\n",
        "=============================\n",
        "\n",
        "The example scripts throughout the workspace have focused on fitting a lens model to one dataset. You will have\n",
        "inspected the results of those individual model-fits and used them to estimate properties of the lens (e.g. the \n",
        "Einstein radius) and source (e.g. the magnification).\n",
        "\n",
        "You may even have analysed a sample consisting of tens of objects and combined the results to make more general\n",
        "statements about galaxy formation, cosmology or another scientific topic. In doing so, you would have inferred\n",
        "the \"global\" trends of many models fits to a lens sample.\n",
        "\n",
        "These tutorials show you how to compose and fit hierarchical models to a large datasets, which fit many individual \n",
        "models to each dataset in a sample in a way that links the parameters in these models together to enable global \n",
        "inference on the model over the full dataset. This can extract a significant amount of extra information from large\n",
        "samples of data, which fitting each dataset individually cannot.\n",
        "\n",
        "Fitting a hierarchical model uses a \"graphical model\", which is a model that is simultaneously fitted to every\n",
        "dataset simultaneously. The graph expresses how the parameters of every individual model fitted to each datasets and\n",
        "how they are linked to every other model parameter. Complex graphical models fitting a diversity of different datasets\n",
        "and non-trivial model parameter linking is possible and common.\n",
        "\n",
        "__Example__\n",
        "\n",
        "For illustration, we will infer the power-law density slope across a sample of lenses, where the hierarchical\n",
        "models are used to determine the global distribution from which the slope are drawn. We will then show that\n",
        "this approach can be used to improve cosmological inferences, but averaging over the mass distribution of the\n",
        "lens sample.\n",
        "\n",
        "The first two tutorials simplify the problem, fitting a sample of 3 lenses whose mass profiles are spherical power-laws\n",
        "with the same `slope` values. The `slope` is therefore the global parameter we seek to estimate. The data \n",
        "fitted is low resolution, meaning that our estimate of each `slope` has large errors.\n",
        "\n",
        "To estimate the global slope of the sample, this tutorial instead estimates the `slope` in each lens by fitting \n",
        "each dataset one-by-one and combining the results post model-fitting. This will act as a point of comparison to \n",
        "tutorial 2, where we will fit for the slope using a graphical model, the basis of hierarchical models.\n",
        "\n",
        "__Sample Simulation__\n",
        "\n",
        "The dataset fitted in this example script is simulated imaging data of a sample of 3 galaxies.\n",
        "\n",
        "This data is not automatically provided with the `autolens_workspace` and must be first simulated by running the\n",
        "script `autolens_workspace/scripts/simulators/imaging/samples/simple__no_lens_light.py`.\n",
        "\n",
        "__Realism__\n",
        "\n",
        "For a realistic lens sample, one would not expect that each lens galaxy has the same value of `slope`, as is\n",
        "assumed in tutorials 1, 2 and 3. We make this assumption to simplify the problem and make it easier to illustrate \n",
        "hierarchical models. Later tutorials fit more realistic graphical models where each lens galaxy has its own\n",
        "value of slope!\n",
        "\n",
        "One can easily imagine datasets where the shared parameter is the same across the full sample. For example, studies\n",
        "where cosmological parameters (e.g. the Hubble constant, H0) are included in the graphical mode. The tools introduced\n",
        "in tutorials 1 and 2 could therefore be used for many science cases!"
      ]
    },
    {
      "cell_type": "code",
      "metadata": {},
      "source": [
        "%matplotlib inline\n",
        "from pyprojroot import here\n",
        "workspace_path = str(here())\n",
        "%cd $workspace_path\n",
        "print(f\"Working Directory has been set to `{workspace_path}`\")\n",
        "\n",
        "import numpy as np\n",
        "from os import path\n",
        "import autofit as af\n",
        "import autolens as al\n",
        "import autolens.plot as aplt"
      ],
      "outputs": [],
      "execution_count": null
    },
    {
      "cell_type": "markdown",
      "metadata": {},
      "source": [
        "__Dataset__\n",
        "\n",
        "For each dataset in our sample we set up the correct path and load it by iterating over a for loop.\n",
        "\n",
        "This data is not automatically provided with the `autolens workspace`, and must be first simulated by running the \n",
        "script `autolens_workspace/scripts/simulators/imaging/samples/simple__no_lens_light.py`.  "
      ]
    },
    {
      "cell_type": "code",
      "metadata": {},
      "source": [
        "dataset_label = \"samples\"\n",
        "dataset_type = \"imaging\"\n",
        "dataset_sample_name = \"simple__no_lens_light__mass_sis\"\n",
        "\n",
        "dataset_path = path.join(\"dataset\", dataset_type, dataset_label, dataset_sample_name)\n",
        "\n",
        "total_datasets = 3\n",
        "\n",
        "dataset_list = []\n",
        "\n",
        "for dataset_index in range(total_datasets):\n",
        "    dataset_sample_path = path.join(dataset_path, f\"dataset_{dataset_index}\")\n",
        "\n",
        "    dataset_list.append(\n",
        "        al.Imaging.from_fits(\n",
        "            data_path=path.join(dataset_sample_path, \"data.fits\"),\n",
        "            psf_path=path.join(dataset_sample_path, \"psf.fits\"),\n",
        "            noise_map_path=path.join(dataset_sample_path, \"noise_map.fits\"),\n",
        "            pixel_scales=0.1,\n",
        "        )\n",
        "    )"
      ],
      "outputs": [],
      "execution_count": null
    },
    {
      "cell_type": "markdown",
      "metadata": {},
      "source": [
        "__Mask__\n",
        "\n",
        "We now mask each lens in our dataset, using the imaging list we created above.\n",
        "\n",
        "We will assume a 3.0\" mask for every lens in the dataset is appropriate."
      ]
    },
    {
      "cell_type": "code",
      "metadata": {},
      "source": [
        "masked_imaging_list = []\n",
        "\n",
        "for dataset in dataset_list:\n",
        "    mask = al.Mask2D.circular(\n",
        "        shape_native=dataset.shape_native, pixel_scales=dataset.pixel_scales, radius=3.0\n",
        "    )\n",
        "\n",
        "    masked_imaging_list.append(dataset.apply_mask(mask=mask))"
      ],
      "outputs": [],
      "execution_count": null
    },
    {
      "cell_type": "markdown",
      "metadata": {},
      "source": [
        "__Paths__\n",
        "\n",
        "The path the results of all model-fits are output:"
      ]
    },
    {
      "cell_type": "code",
      "metadata": {},
      "source": [
        "path_prefix = path.join(\"imaging\", \"hierarchical\", \"tutorial_1_individual_models\")"
      ],
      "outputs": [],
      "execution_count": null
    },
    {
      "cell_type": "markdown",
      "metadata": {},
      "source": [
        "__Model__\n",
        "\n",
        "We compose a lens model where:\n",
        "\n",
        " - The lens galaxy's total mass distribution is an `PowerLawSph` with its centre fixed to its true value of \n",
        " (0.0, 0.0) [2 parameter].\n",
        " \n",
        " - The source galaxy's light is a linear parametric `ExponentialSph` [3 parameters].\n",
        "\n",
        "The number of free parameters and therefore the dimensionality of non-linear parameter space is N=6.\n",
        "\n",
        "To make graphical model fits run fast, the model above is simple compared to a lot of models fitted throughout the \n",
        "workspace (for example, both galaxies are spherical)."
      ]
    },
    {
      "cell_type": "code",
      "metadata": {},
      "source": [
        "lens = af.Model(al.Galaxy, redshift=0.5, mass=al.mp.PowerLawSph)\n",
        "lens.mass.centre = (0.0, 0.0)\n",
        "\n",
        "source = af.Model(al.Galaxy, redshift=1.0, bulge=al.lp_linear.ExponentialCoreSph)\n",
        "\n",
        "model = af.Collection(galaxies=af.Collection(lens=lens, source=source))"
      ],
      "outputs": [],
      "execution_count": null
    },
    {
      "cell_type": "markdown",
      "metadata": {},
      "source": [
        "__Search + Analysis + Model-Fit__\n",
        "\n",
        "For each dataset we now create a non-linear search, analysis and perform the model-fit using this model.\n",
        "\n",
        "Results are output to a unique folder named using the `dataset_index`."
      ]
    },
    {
      "cell_type": "code",
      "metadata": {},
      "source": [
        "result_list = []\n",
        "\n",
        "for dataset_index, masked_dataset in enumerate(masked_imaging_list):\n",
        "    dataset_name_with_index = f\"dataset_{dataset_index}\"\n",
        "    path_prefix_with_index = path.join(path_prefix, dataset_name_with_index)\n",
        "\n",
        "    search = af.Nautilus(\n",
        "        path_prefix=path_prefix,\n",
        "        name=\"search__simple__no_lens_light\",\n",
        "        unique_tag=dataset_name_with_index,\n",
        "        n_live=100,\n",
        "    )\n",
        "\n",
        "    analysis = al.AnalysisImaging(dataset=masked_dataset)\n",
        "\n",
        "    result = search.fit(model=model, analysis=analysis)\n",
        "    result_list.append(result)"
      ],
      "outputs": [],
      "execution_count": null
    },
    {
      "cell_type": "markdown",
      "metadata": {},
      "source": [
        "__Results__\n",
        "\n",
        "In the `model.results` file of each fit, it will be clear that the `slope` value of every fit (and the other \n",
        "parameters) have much larger errors than other examples due to the low signal to noise of the data.\n",
        "\n",
        "The `result_list` allows us to plot the median PDF value and 3.0 confidence intervals of the `slope` estimate from\n",
        "the model-fit to each dataset."
      ]
    },
    {
      "cell_type": "code",
      "metadata": {},
      "source": [
        "import matplotlib.pyplot as plt\n",
        "\n",
        "samples_list = [result.samples for result in result_list]\n",
        "\n",
        "mp_instances = [samps.median_pdf() for samps in samples_list]\n",
        "ue3_instances = [samp.errors_at_upper_sigma(sigma=3.0) for samp in samples_list]\n",
        "le3_instances = [samp.errors_at_lower_sigma(sigma=3.0) for samp in samples_list]\n",
        "\n",
        "mp_slopees = [instance.galaxies.lens.mass.slope for instance in mp_instances]\n",
        "ue3_slopees = [instance.galaxies.lens.mass.slope for instance in ue3_instances]\n",
        "le3_slopees = [instance.galaxies.lens.mass.slope for instance in le3_instances]\n",
        "\n",
        "print(mp_slopees)\n",
        "\n",
        "plt.errorbar(\n",
        "    x=[\"galaxy 1\", \"galaxy 2\", \"galaxy 3\"],\n",
        "    y=mp_slopees,\n",
        "    marker=\".\",\n",
        "    linestyle=\"\",\n",
        "    yerr=[le3_slopees, ue3_slopees],\n",
        ")\n",
        "plt.show()\n",
        "plt.close()"
      ],
      "outputs": [],
      "execution_count": null
    },
    {
      "cell_type": "markdown",
      "metadata": {},
      "source": [
        "These model-fits are consistent with the input `slope` values of 2.0 (the input value used to simulate them). \n",
        "\n",
        "We can show this by plotting the 1D and 2D PDF's of each model fit"
      ]
    },
    {
      "cell_type": "code",
      "metadata": {},
      "source": [
        "\n",
        "for samples in samples_list:\n",
        "    plotter = aplt.NestPlotter(samples=samples)\n",
        "    plotter.corner_anesthetic()\n"
      ],
      "outputs": [],
      "execution_count": null
    },
    {
      "cell_type": "markdown",
      "metadata": {},
      "source": [
        "We can also print the values of each slope estimate, including their estimates at 3.0 sigma.\n",
        "\n",
        "Note that above we used the samples to estimate the size of the errors on the parameters. Below, we use the samples to \n",
        "get the value of the parameter at these sigma confidence intervals."
      ]
    },
    {
      "cell_type": "code",
      "metadata": {},
      "source": [
        "u1_instances = [samp.values_at_upper_sigma(sigma=1.0) for samp in samples_list]\n",
        "l1_instances = [samp.values_at_lower_sigma(sigma=1.0) for samp in samples_list]\n",
        "\n",
        "u1_slopees = [instance.galaxies.lens.mass.slope for instance in u1_instances]\n",
        "l1_slopees = [instance.galaxies.lens.mass.slope for instance in l1_instances]\n",
        "\n",
        "u3_instances = [samp.values_at_upper_sigma(sigma=3.0) for samp in samples_list]\n",
        "l3_instances = [samp.values_at_lower_sigma(sigma=3.0) for samp in samples_list]\n",
        "\n",
        "u3_slopees = [instance.galaxies.lens.mass.slope for instance in u3_instances]\n",
        "l3_slopees = [instance.galaxies.lens.mass.slope for instance in l3_instances]\n",
        "\n",
        "for index in range(total_datasets):\n",
        "    print(f\"slope estimate of galaxy dataset {index}:\\n\")\n",
        "    print(\n",
        "        f\"{mp_slopees[index]} ({l1_slopees[index]} {u1_slopees[index]}) [1.0 sigma confidence interval]\"\n",
        "    )\n",
        "    print(\n",
        "        f\"{mp_slopees[index]} ({l3_slopees[index]} {u3_slopees[index]}) [3.0 sigma confidence interval] \\n\"\n",
        "    )\n"
      ],
      "outputs": [],
      "execution_count": null
    },
    {
      "cell_type": "markdown",
      "metadata": {},
      "source": [
        "__Estimating the slope__\n",
        "\n",
        "So how might we estimate the global `slope`, that is the value of slope we know all 3 lenses were \n",
        "simulated using? \n",
        "\n",
        "A simple approach takes the weighted average of the value inferred by all fits above."
      ]
    },
    {
      "cell_type": "code",
      "metadata": {},
      "source": [
        "ue1_instances = [samp.values_at_upper_sigma(sigma=1.0) for samp in samples_list]\n",
        "le1_instances = [samp.values_at_lower_sigma(sigma=1.0) for samp in samples_list]\n",
        "\n",
        "ue1_slopees = [instance.galaxies.lens.mass.slope for instance in ue1_instances]\n",
        "le1_slopees = [instance.galaxies.lens.mass.slope for instance in le1_instances]\n",
        "\n",
        "error_list = [ue1 - le1 for ue1, le1 in zip(ue1_slopees, le1_slopees)]\n",
        "\n",
        "values = np.asarray(mp_slopees)\n",
        "sigmas = np.asarray(error_list)\n",
        "\n",
        "weights = 1 / sigmas**2.0\n",
        "weight_averaged = np.sum(1.0 / sigmas**2)\n",
        "\n",
        "weighted_slope = np.sum(values * weights) / np.sum(weights, axis=0)\n",
        "weighted_error = 1.0 / np.sqrt(weight_averaged)\n",
        "\n",
        "print(\n",
        "    f\"Weighted Average slope Estimate = {weighted_slope} ({weighted_error}) [1.0 sigma confidence intervals]\"\n",
        ")"
      ],
      "outputs": [],
      "execution_count": null
    },
    {
      "cell_type": "markdown",
      "metadata": {},
      "source": [
        "__Posterior Multiplication__\n",
        "\n",
        "An alternative and more accurate way to combine each individual inferred slope is multiply their posteriors \n",
        "together.\n",
        "\n",
        "In order to do this, a smooth 1D profile must be fit to the posteriors via a Kernel Density Estimator (KDE).\n",
        "\n",
        "[does not currently support posterior multiplication and an example illustrating this is currently\n",
        "missing from this tutorial. However, I will discuss KDE multiplication throughout these tutorials to give the\n",
        "reader context for how this approach to parameter estimation compares to graphical models.]\n",
        "\n",
        "__Wrap Up__\n",
        "\n",
        "Lets wrap up the tutorial. The methods used above combine the results of different fits and estimate a global \n",
        "value of `slope` alongside estimates of its error. \n",
        "\n",
        "In this tutorial, we fitted just 5 datasets. Of course, we could easily fit more datasets, and we would find that\n",
        "as we added more datasets our estimate of the global slope would become more precise.\n",
        "\n",
        "In the next tutorial, we will compare this result to one inferred via a graphical model. "
      ]
    },
    {
      "cell_type": "code",
      "metadata": {},
      "source": [],
      "outputs": [],
      "execution_count": null
    }
  ],
  "metadata": {
    "anaconda-cloud": {},
    "kernelspec": {
      "display_name": "Python 3",
      "language": "python",
      "name": "python3"
    },
    "language_info": {
      "codemirror_mode": {
        "name": "ipython",
        "version": 3
      },
      "file_extension": ".py",
      "mimetype": "text/x-python",
      "name": "python",
      "nbconvert_exporter": "python",
      "pygments_lexer": "ipython3",
      "version": "3.6.1"
    }
  },
  "nbformat": 4,
  "nbformat_minor": 4
}