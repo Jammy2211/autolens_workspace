{
  "cells": [
    {
      "cell_type": "markdown",
      "metadata": {},
      "source": [
        "SLaM (Source, Light and Mass): Subhalo Sensitivity Mapping No Lens Light\n",
        "========================================================================\n",
        "\n",
        "This example illustrates how to perform DM subhalo sensitivity mapping using a SLaM pipeline for a dataset where the\n",
        "lens light emission is not observed and therefore the LIGHT LP PIPELINE is omitted.\n",
        "\n",
        "__Model__\n",
        "\n",
        "Using a SOURCE LP PIPELINE, MASS TOTAL PIPELINE and SUBHALO PIPELINE this SLaM script  fits `Imaging` dataset of a strong lens\n",
        "system, where in the final model:\n",
        "\n",
        " - The lens galaxy's light is omitted from the data and model.\n",
        " - The lens galaxy's total mass distribution is an `Isothermal`.\n",
        " - The source galaxy is an `Sersic`.\n",
        "\n",
        "It ends by performing sensitivity mapping of the data using the above model, so as to determine where in the data\n",
        "subhalos of a given mass could have been detected if present.\n",
        "\n",
        "This modeling script uses the SLaM pipelines:\n",
        "\n",
        " `source_lp`\n",
        " `mass_total`\n",
        " `subhalo/sensitivity_mapping`\n",
        "\n",
        "Check them out for a detailed description of the analysis!\n",
        "\n",
        "__Start Here Notebook__\n",
        "\n",
        "If any code in this script is unclear, refer to the `subhalo/detect/start_here.ipynb` notebook."
      ]
    },
    {
      "cell_type": "code",
      "metadata": {},
      "source": [
        "%matplotlib inline\n",
        "from pyprojroot import here\n",
        "workspace_path = str(here())\n",
        "%cd $workspace_path\n",
        "print(f\"Working Directory has been set to `{workspace_path}`\")\n",
        "\n",
        "import os\n",
        "import sys\n",
        "from os import path\n",
        "import autofit as af\n",
        "import autolens as al\n",
        "import autolens.plot as aplt\n",
        "\n",
        "sys.path.insert(0, os.getcwd())\n",
        "import slam"
      ],
      "outputs": [],
      "execution_count": null
    },
    {
      "cell_type": "markdown",
      "metadata": {},
      "source": [
        "__Dataset + Masking__ \n",
        "\n",
        "Load, plot and mask the `Imaging` data."
      ]
    },
    {
      "cell_type": "code",
      "metadata": {},
      "source": [
        "dataset_name = \"dark_matter_subhalo\"\n",
        "dataset_path = path.join(\"dataset\", \"imaging\", dataset_name)\n",
        "\n",
        "dataset = al.Imaging.from_fits(\n",
        "    data_path=path.join(dataset_path, \"data.fits\"),\n",
        "    noise_map_path=path.join(dataset_path, \"noise_map.fits\"),\n",
        "    psf_path=path.join(dataset_path, \"psf.fits\"),\n",
        "    pixel_scales=0.05,\n",
        ")\n",
        "\n",
        "mask = al.Mask2D.circular(\n",
        "    shape_native=dataset.shape_native, pixel_scales=dataset.pixel_scales, radius=3.0\n",
        ")\n",
        "\n",
        "dataset = dataset.apply_mask(mask=mask)\n",
        "\n",
        "dataset_plotter = aplt.ImagingPlotter(dataset=dataset)\n",
        "dataset_plotter.subplot_dataset()"
      ],
      "outputs": [],
      "execution_count": null
    },
    {
      "cell_type": "markdown",
      "metadata": {},
      "source": [
        "__Settings AutoFit__\n",
        "\n",
        "The settings of autofit, which controls the output paths, parallelization, database use, etc."
      ]
    },
    {
      "cell_type": "code",
      "metadata": {},
      "source": [
        "settings_search = af.SettingsSearch(\n",
        "    path_prefix=path.join(\"imaging\", \"slam\"),\n",
        "    unique_tag=dataset_name,\n",
        "    info=None,\n",
        "    number_of_cores=4,\n",
        "    session=None,\n",
        ")"
      ],
      "outputs": [],
      "execution_count": null
    },
    {
      "cell_type": "markdown",
      "metadata": {},
      "source": [
        "__Redshifts__\n",
        "\n",
        "The redshifts of the lens and source galaxies."
      ]
    },
    {
      "cell_type": "code",
      "metadata": {},
      "source": [
        "redshift_lens = 0.5\n",
        "redshift_source = 1.0\n"
      ],
      "outputs": [],
      "execution_count": null
    },
    {
      "cell_type": "markdown",
      "metadata": {},
      "source": [
        "__SOURCE LP PIPELINE__\n",
        "\n",
        "This is the standard SOURCE LP PIPELINE described in the `slam/start_here.ipynb` example."
      ]
    },
    {
      "cell_type": "code",
      "metadata": {},
      "source": [
        "analysis = al.AnalysisImaging(dataset=dataset)\n",
        "\n",
        "source_lp_result = slam.source_lp.run(\n",
        "    settings_search=settings_search,\n",
        "    analysis=analysis,\n",
        "    lens_bulge=None,\n",
        "    lens_disk=None,\n",
        "    mass=af.Model(al.mp.Isothermal),\n",
        "    shear=af.Model(al.mp.ExternalShear),\n",
        "    source_bulge=af.Model(al.lp_linear.SersicCore),\n",
        "    mass_centre=(0.0, 0.0),\n",
        "    redshift_lens=0.5,\n",
        "    redshift_source=1.0,\n",
        ")"
      ],
      "outputs": [],
      "execution_count": null
    },
    {
      "cell_type": "markdown",
      "metadata": {},
      "source": [
        "__MASS TOTAL PIPELINE__\n",
        "\n",
        "This is the standard MASS TOTAL PIPELINE described in the `slam/start_here.ipynb` example."
      ]
    },
    {
      "cell_type": "code",
      "metadata": {},
      "source": [
        "analysis = al.AnalysisImaging(dataset=dataset)\n",
        "\n",
        "mass_result = slam.mass_total.run(\n",
        "    settings_search=settings_search,\n",
        "    analysis=analysis,\n",
        "    source_result_for_lens=source_lp_result,\n",
        "    source_result_for_source=source_lp_result,\n",
        "    light_result=None,\n",
        "    mass=af.Model(al.mp.PowerLaw),\n",
        ")\n"
      ],
      "outputs": [],
      "execution_count": null
    },
    {
      "cell_type": "markdown",
      "metadata": {},
      "source": [
        "__SUBHALO PIPELINE (sensitivity mapping)__\n",
        "\n",
        "The SUBHALO PIPELINE (sensitivity mapping) performs sensitivity mapping of the data using the lens model\n",
        "fitted above, so as to determine where subhalos of what mass could be detected in the data. A full description of\n",
        "Sensitivity mapping if given in the SLaM pipeline script `slam/subhalo/sensitivity_imaging.py`."
      ]
    },
    {
      "cell_type": "code",
      "metadata": {},
      "source": [
        "subhalo_results = slam.subhalo.sensitivity_imaging_lp.run(\n",
        "    settings_search=settings_search,\n",
        "    mask=mask,\n",
        "    psf=dataset.psf,\n",
        "    mass_result=mass_result,\n",
        "    subhalo_mass=af.Model(al.mp.NFWMCRLudlowSph),\n",
        "    grid_dimension_arcsec=3.0,\n",
        "    number_of_steps=2,\n",
        ")"
      ],
      "outputs": [],
      "execution_count": null
    },
    {
      "cell_type": "markdown",
      "metadata": {},
      "source": [
        "Finish."
      ]
    },
    {
      "cell_type": "code",
      "metadata": {},
      "source": [],
      "outputs": [],
      "execution_count": null
    }
  ],
  "metadata": {
    "anaconda-cloud": {},
    "kernelspec": {
      "display_name": "Python 3",
      "language": "python",
      "name": "python3"
    },
    "language_info": {
      "codemirror_mode": {
        "name": "ipython",
        "version": 3
      },
      "file_extension": ".py",
      "mimetype": "text/x-python",
      "name": "python",
      "nbconvert_exporter": "python",
      "pygments_lexer": "ipython3",
      "version": "3.6.1"
    }
  },
  "nbformat": 4,
  "nbformat_minor": 4
}