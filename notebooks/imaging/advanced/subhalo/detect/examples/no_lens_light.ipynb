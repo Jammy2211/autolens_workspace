{
  "cells": [
    {
      "cell_type": "markdown",
      "metadata": {},
      "source": [
        "SLaM (Source, Light and Mass): Subhalo Detect No Lens Light\n",
        "===========================================================\n",
        "\n",
        "This example illustrates how to perform DM subhalo detection using a SLaM pipeline for a dataset where the\n",
        "lens light emission is not observed and therefore the LIGHT LP PIPELINE is omitted.\n",
        "\n",
        "__Model__\n",
        "\n",
        "Using a SOURCE LP PIPELINE, MASS TOTAL PIPELINE and SUBHALO PIPELINE this SLaM script  fits `Imaging` dataset\n",
        "of a strong lens system, where in the final model:\n",
        "\n",
        " - The lens galaxy's light is omitted from the data and model.\n",
        " - The lens galaxy's total mass distribution is an `Isothermal`.\n",
        " - A dark matter subhalo near The lens galaxy mass is included as a`NFWMCRLudlowSph`.\n",
        " - The source galaxy is an `Sersic`.\n",
        "\n",
        "This uses the SLaM pipelines:\n",
        "\n",
        " `source_lp`\n",
        " `mass_total`\n",
        " `subhalo/detection`\n",
        "\n",
        "Check them out for a full description of the analysis!\n",
        "\n",
        "__Start Here Notebook__\n",
        "\n",
        "If any code in this script is unclear, refer to the `subhalo/detect/start_here.ipynb` notebook."
      ]
    },
    {
      "cell_type": "code",
      "metadata": {},
      "source": [
        "%matplotlib inline\n",
        "from pyprojroot import here\n",
        "workspace_path = str(here())\n",
        "%cd $workspace_path\n",
        "print(f\"Working Directory has been set to `{workspace_path}`\")\n",
        "\n",
        "import os\n",
        "import sys\n",
        "from os import path\n",
        "import autofit as af\n",
        "import autolens as al\n",
        "import autolens.plot as aplt\n",
        "\n",
        "sys.path.insert(0, os.getcwd())\n",
        "import slam"
      ],
      "outputs": [],
      "execution_count": null
    },
    {
      "cell_type": "markdown",
      "metadata": {},
      "source": [
        "__Dataset + Masking__ \n",
        "\n",
        "Load, plot and mask the `Imaging` data."
      ]
    },
    {
      "cell_type": "code",
      "metadata": {},
      "source": [
        "dataset_name = \"dark_matter_subhalo_no_lens_light\"\n",
        "dataset_path = path.join(\"dataset\", \"imaging\", dataset_name)\n",
        "\n",
        "dataset = al.Imaging.from_fits(\n",
        "    data_path=path.join(dataset_path, \"data.fits\"),\n",
        "    noise_map_path=path.join(dataset_path, \"noise_map.fits\"),\n",
        "    psf_path=path.join(dataset_path, \"psf.fits\"),\n",
        "    pixel_scales=0.05,\n",
        ")\n",
        "\n",
        "mask = al.Mask2D.circular(\n",
        "    shape_native=dataset.shape_native, pixel_scales=dataset.pixel_scales, radius=3.0\n",
        ")\n",
        "\n",
        "dataset = dataset.apply_mask(mask=mask)\n",
        "\n",
        "dataset_plotter = aplt.ImagingPlotter(dataset=dataset)\n",
        "dataset_plotter.subplot_dataset()"
      ],
      "outputs": [],
      "execution_count": null
    },
    {
      "cell_type": "markdown",
      "metadata": {},
      "source": [
        "__Settings AutoFit__\n",
        "\n",
        "The settings of autofit, which controls the output paths, parallelization, database use, etc."
      ]
    },
    {
      "cell_type": "code",
      "metadata": {},
      "source": [
        "settings_search = af.SettingsSearch(\n",
        "    path_prefix=path.join(\"imaging\", \"slam\"),\n",
        "    unique_tag=dataset_name,\n",
        "    info=None,\n",
        "    number_of_cores=4,\n",
        "    session=None,\n",
        ")"
      ],
      "outputs": [],
      "execution_count": null
    },
    {
      "cell_type": "markdown",
      "metadata": {},
      "source": [
        "__Redshifts__\n",
        "\n",
        "The redshifts of the lens and source galaxies."
      ]
    },
    {
      "cell_type": "code",
      "metadata": {},
      "source": [
        "redshift_lens = 0.5\n",
        "redshift_source = 1.0\n"
      ],
      "outputs": [],
      "execution_count": null
    },
    {
      "cell_type": "markdown",
      "metadata": {},
      "source": [
        "__SOURCE LP PIPELINE__\n",
        "\n",
        "This is the standard SOURCE LP PIPELINE described in the `slam/start_here.ipynb` example."
      ]
    },
    {
      "cell_type": "code",
      "metadata": {},
      "source": [
        "analysis = al.AnalysisImaging(dataset=dataset)\n",
        "\n",
        "source_lp_result = slam.source_lp.run(\n",
        "    settings_search=settings_search,\n",
        "    analysis=analysis,\n",
        "    lens_bulge=None,\n",
        "    lens_disk=None,\n",
        "    mass=af.Model(al.mp.Isothermal),\n",
        "    shear=af.Model(al.mp.ExternalShear),\n",
        "    source_bulge=af.Model(al.lp_linear.SersicCore),\n",
        "    mass_centre=(0.0, 0.0),\n",
        "    redshift_lens=0.5,\n",
        "    redshift_source=1.0,\n",
        ")"
      ],
      "outputs": [],
      "execution_count": null
    },
    {
      "cell_type": "markdown",
      "metadata": {},
      "source": [
        "__MASS TOTAL PIPELINE__\n",
        "\n",
        "This is the standard MASS TOTAL PIPELINE described in the `slam/start_here.ipynb` example."
      ]
    },
    {
      "cell_type": "code",
      "metadata": {},
      "source": [
        "analysis = al.AnalysisImaging(dataset=dataset)\n",
        "\n",
        "mass_result = slam.mass_total.run(\n",
        "    settings_search=settings_search,\n",
        "    analysis=analysis,\n",
        "    source_result_for_lens=source_lp_result,\n",
        "    source_result_for_source=source_lp_result,\n",
        "    light_result=None,\n",
        "    mass=af.Model(al.mp.PowerLaw),\n",
        ")"
      ],
      "outputs": [],
      "execution_count": null
    },
    {
      "cell_type": "markdown",
      "metadata": {},
      "source": [
        "__SUBHALO PIPELINE (single plane detection)__\n",
        "\n",
        "This is the standard SUBHALO PIPELINE described in the `subhalo/detect/start_here.ipynb` example."
      ]
    },
    {
      "cell_type": "code",
      "metadata": {},
      "source": [
        "analysis = al.AnalysisImaging(\n",
        "    dataset=dataset,\n",
        ")\n",
        "\n",
        "result_no_subhalo = slam.subhalo.detection.run_1_no_subhalo(\n",
        "    settings_search=settings_search,\n",
        "    analysis=analysis,\n",
        "    mass_result=mass_result,\n",
        ")\n",
        "\n",
        "result_subhalo_grid_search = slam.subhalo.detection.run_2_grid_search(\n",
        "    settings_search=settings_search,\n",
        "    analysis=analysis,\n",
        "    mass_result=mass_result,\n",
        "    subhalo_result_1=result_no_subhalo,\n",
        "    subhalo_mass=af.Model(al.mp.NFWMCRLudlowSph),\n",
        "    grid_dimension_arcsec=3.0,\n",
        "    number_of_steps=2,\n",
        ")\n",
        "\n",
        "result_with_subhalo = slam.subhalo.detection.run_3_subhalo(\n",
        "    settings_search=settings_search,\n",
        "    analysis=analysis,\n",
        "    subhalo_result_1=result_no_subhalo,\n",
        "    subhalo_grid_search_result_2=result_subhalo_grid_search,\n",
        "    subhalo_mass=af.Model(al.mp.NFWMCRLudlowSph),\n",
        ")"
      ],
      "outputs": [],
      "execution_count": null
    },
    {
      "cell_type": "markdown",
      "metadata": {},
      "source": [
        "__Result__\n",
        "\n",
        "The example `subhalo/detect/start_here.ipynb` illustrates how to use these results to visualize the inferred\n",
        "lens models and inspect whether the Bayesian evidence supports the detection of a subhalo."
      ]
    },
    {
      "cell_type": "code",
      "metadata": {},
      "source": [],
      "outputs": [],
      "execution_count": null
    }
  ],
  "metadata": {
    "anaconda-cloud": {},
    "kernelspec": {
      "display_name": "Python 3",
      "language": "python",
      "name": "python3"
    },
    "language_info": {
      "codemirror_mode": {
        "name": "ipython",
        "version": 3
      },
      "file_extension": ".py",
      "mimetype": "text/x-python",
      "name": "python",
      "nbconvert_exporter": "python",
      "pygments_lexer": "ipython3",
      "version": "3.6.1"
    }
  },
  "nbformat": 4,
  "nbformat_minor": 4
}