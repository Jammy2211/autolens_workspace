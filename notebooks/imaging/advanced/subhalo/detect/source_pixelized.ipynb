{
  "cells": [
    {
      "cell_type": "markdown",
      "metadata": {},
      "source": [
        "SLaM (Source, Light and Mass): Subhalo Detect Source Pixelized\n",
        "==============================================================\n",
        "\n",
        "SLaM pipelines break the analysis of 'galaxy-scale' strong lenses down into multiple pipelines which focus on modeling\n",
        "a specific aspect of the strong lens, first the Source, then the (lens) Light and finally the Mass. Each of these\n",
        "pipelines has it own inputs which customize the model and analysis in that pipeline.\n",
        "\n",
        "The models fitted in earlier pipelines determine the model used in later pipelines. For example, if the SOURCE PIPELINE\n",
        "uses a parametric `Sersic` profile for the bulge, this will be used in the subsequent MASS TOTAL PIPELINE.\n",
        "\n",
        "Using a SOURCE LP PIPELINE, LIGHT LP PIPELINE, MASS TOTAL PIPELINE and SUBHALO PIPELINE this SLaM script\n",
        "fits `Imaging` of a strong lens system, where in the final model:\n",
        "\n",
        " - The lens galaxy's light is a bulge with a parametric `Sersic` light profile.\n",
        " - The lens galaxy's total mass distribution is an `Isothermal`.\n",
        " - A dark matter subhalo near The lens galaxy mass is included as a`NFWMCRLudlowSph`.\n",
        " - The source galaxy is an `Inversion`.\n",
        "\n",
        "This uses the SLaM pipelines:\n",
        "\n",
        " `source_lp`\n",
        " `source_pix`\n",
        " `light_lp`\n",
        " `mass_total`\n",
        " `subhalo/detection`\n",
        "\n",
        "Check them out for a full description of the analysis!"
      ]
    },
    {
      "cell_type": "code",
      "metadata": {},
      "source": [
        "%matplotlib inline\n",
        "from pyprojroot import here\n",
        "workspace_path = str(here())\n",
        "%cd $workspace_path\n",
        "print(f\"Working Directory has been set to `{workspace_path}`\")\n",
        "\n",
        "import os\n",
        "import sys\n",
        "from os import path\n",
        "import autofit as af\n",
        "import autolens as al\n",
        "import autolens.plot as aplt\n",
        "\n",
        "sys.path.insert(0, os.getcwd())\n",
        "import slam"
      ],
      "outputs": [],
      "execution_count": null
    },
    {
      "cell_type": "markdown",
      "metadata": {},
      "source": [
        "__Dataset + Masking__ \n",
        "\n",
        "Load, plot and mask the `Imaging` data."
      ]
    },
    {
      "cell_type": "code",
      "metadata": {},
      "source": [
        "dataset_name = \"dark_matter_subhalo\"\n",
        "dataset_path = path.join(\"dataset\", \"imaging\", dataset_name)\n",
        "\n",
        "dataset = al.Imaging.from_fits(\n",
        "    data_path=path.join(dataset_path, \"data.fits\"),\n",
        "    noise_map_path=path.join(dataset_path, \"noise_map.fits\"),\n",
        "    psf_path=path.join(dataset_path, \"psf.fits\"),\n",
        "    pixel_scales=0.05,\n",
        ")\n",
        "\n",
        "mask = al.Mask2D.circular(\n",
        "    shape_native=dataset.shape_native, pixel_scales=dataset.pixel_scales, radius=3.0\n",
        ")\n",
        "\n",
        "dataset = dataset.apply_mask(mask=mask)\n",
        "\n",
        "dataset_plotter = aplt.ImagingPlotter(dataset=dataset)\n",
        "dataset_plotter.subplot_dataset()"
      ],
      "outputs": [],
      "execution_count": null
    },
    {
      "cell_type": "markdown",
      "metadata": {},
      "source": [
        "__Settings AutoFit__\n",
        "\n",
        "The settings of autofit, which controls the output paths, parallelization, database use, etc."
      ]
    },
    {
      "cell_type": "code",
      "metadata": {},
      "source": [
        "settings_search = af.SettingsSearch(\n",
        "    path_prefix=path.join(\"imaging\", \"slam\"),\n",
        "    unique_tag=dataset_name,\n",
        "    info=None,\n",
        "    number_of_cores=1,\n",
        "    session=None,\n",
        ")"
      ],
      "outputs": [],
      "execution_count": null
    },
    {
      "cell_type": "markdown",
      "metadata": {},
      "source": [
        "__Redshifts__\n",
        "\n",
        "The redshifts of the lens and source galaxies."
      ]
    },
    {
      "cell_type": "code",
      "metadata": {},
      "source": [
        "redshift_lens = 0.5\n",
        "redshift_source = 1.0"
      ],
      "outputs": [],
      "execution_count": null
    },
    {
      "cell_type": "markdown",
      "metadata": {},
      "source": [
        "__Adapt Setup__\n",
        "\n",
        "The `SetupAdapt` determines which hyper-mode features are used during the model-fit."
      ]
    },
    {
      "cell_type": "code",
      "metadata": {},
      "source": [
        "setup_adapt = al.SetupAdapt(\n",
        "    mesh_pixels_fixed=1500,\n",
        ")"
      ],
      "outputs": [],
      "execution_count": null
    },
    {
      "cell_type": "markdown",
      "metadata": {},
      "source": [
        "__SOURCE LP PIPELINE__\n",
        "\n",
        "The SOURCE LP PIPELINE uses one search to initialize a robust model for the source galaxy's light, which in \n",
        "this example:\n",
        " \n",
        " - Uses a parametric `Sersic` bulge for the lens galaxy's light.\n",
        " \n",
        " - Uses an `Isothermal` model for the lens's total mass distribution with an `ExternalShear`.\n",
        "\n",
        " __Settings__:\n",
        "\n",
        " - Mass Centre: Fix the mass profile centre to (0.0, 0.0) (this assumption will be relaxed in the MASS TOTAL PIPELINE)."
      ]
    },
    {
      "cell_type": "code",
      "metadata": {},
      "source": [
        "analysis = al.AnalysisImaging(dataset=dataset)\n",
        "\n",
        "bulge = af.Model(al.lp.Sersic)\n",
        "\n",
        "source_lp_results = slam.source_lp.run(\n",
        "    settings_search=settings_search,\n",
        "    analysis=analysis,\n",
        "    lens_bulge=bulge,\n",
        "    lens_disk=None,\n",
        "    mass=af.Model(al.mp.Isothermal),\n",
        "    shear=af.Model(al.mp.ExternalShear),\n",
        "    source_bulge=af.Model(al.lp.Sersic),\n",
        "    mass_centre=(0.0, 0.0),\n",
        "    redshift_lens=redshift_lens,\n",
        "    redshift_source=redshift_source,\n",
        ")"
      ],
      "outputs": [],
      "execution_count": null
    },
    {
      "cell_type": "markdown",
      "metadata": {},
      "source": [
        "__SOURCE PIX PIPELINE__\n",
        "\n",
        "The SOURCE PIX PIPELINE uses two searches to initialize a robust model for the `Pixelization` that\n",
        "reconstructs the source galaxy's light. \n",
        "\n",
        "The first search, which is an initialization search, fits a `DelaunayMagnification` mesh with `Constant` \n",
        "regularization. \n",
        "\n",
        "The second search, which uses the mesh and regularization used throughout the remainder of the SLaM pipelines,\n",
        "fits the following model:\n",
        "\n",
        "- Uses a `KMeans` image-mesh.
- Uses a `Delaunay` mesh.\n",
        " - Uses an `AdaptiveBrightness` regularization.\n",
        " - Carries the lens redshift, source redshift and `ExternalShear` of the SOURCE LP PIPELINE through to the\n",
        " SOURCE PIX PIPELINE.\n",
        "\n",
        "__Settings__:\n",
        "\n",
        " - Positions: We update the positions and positions threshold using the previous model-fitting result (as described \n",
        " in `chaining/examples/parametric_to_pixelization.py`) to remove unphysical solutions from the `Inversion` model-fitting."
      ]
    },
    {
      "cell_type": "code",
      "metadata": {},
      "source": [
        "analysis = al.AnalysisImaging(\n",
        "    dataset=dataset,\n",
        "    adapt_images=source_lp_results.last.adapt_images,\n",
        "    positions_likelihood=source_lp_results.last.positions_likelihood_from(\n",
        "        factor=3.0, minimum_threshold=0.2\n",
        "    ),\n",
        ")\n",
        "\n",
        "source_pix_results = slam.source_pix.run(\n",
        "    settings_search=settings_search,\n",
        "    analysis=analysis,\n",
        "    setup_adapt=setup_adapt,\n",
        "    source_lp_results=source_lp_results,\n",
        "    mesh=al.mesh.DelaunayBrightnessImage,\n",
        "    regularization=al.reg.AdaptiveBrightnessSplit,\n",
        ")"
      ],
      "outputs": [],
      "execution_count": null
    },
    {
      "cell_type": "markdown",
      "metadata": {},
      "source": [
        "__LIGHT LP PIPELINE__\n",
        "\n",
        "The LIGHT LP PIPELINE uses one search to fit a complex lens light model to a high level of accuracy, using the\n",
        "lens mass model and source light model fixed to the maximum log likelihood result of the SOURCE PIX PIPELINE.\n",
        "\n",
        "In this example it:\n",
        "\n",
        " - Uses a parametric `Sersic` bulge for the lens galaxy's light [Do not use the results of the SOURCE LP PIPELINE \n",
        " to initialize priors].\n",
        "\n",
        " - Uses an `Isothermal` model for the lens's total mass distribution [fixed from SOURCE PIX PIPELINE].\n",
        "\n",
        " - Uses a `Pixelization` for the source's light [fixed from SOURCE PIX PIPELINE].\n",
        "\n",
        " - Carries the lens redshift, source redshift and `ExternalShear` of the SOURCE PIPELINE through to the MASS \n",
        " PIPELINE [fixed values]."
      ]
    },
    {
      "cell_type": "code",
      "metadata": {},
      "source": [
        "analysis = al.AnalysisImaging(dataset=dataset, adapt_images=source_pix_results.last.adapt_images)\n",
        "\n",
        "bulge = af.Model(al.lp.Sersic)\n",
        "\n",
        "light_results = slam.light_lp.run(\n",
        "    settings_search=settings_search,\n",
        "    analysis=analysis,\n",
        "    setup_adapt=setup_adapt,\n",
        "    source_results=source_pix_results,\n",
        "    lens_bulge=bulge,\n",
        "    lens_disk=None,\n",
        ")"
      ],
      "outputs": [],
      "execution_count": null
    },
    {
      "cell_type": "markdown",
      "metadata": {},
      "source": [
        "__MASS TOTAL PIPELINE__\n",
        "\n",
        "The MASS TOTAL PIPELINE uses one search to fits a complex lens mass model to a high level of accuracy, \n",
        "using the lens mass model and source model of the SOURCE PIPELINE to initialize the model priors and the lens light\n",
        "model of the LIGHT LP PIPELINE. \n",
        "\n",
        "In this example it:\n",
        "\n",
        " - Uses a parametric `Sersic` bulge for the lens galaxy's light [fixed from LIGHT LP PIPELINE].\n",
        "\n",
        " - Uses an `PowerLaw` model for the lens's total mass distribution [priors initialized from SOURCE \n",
        " PARAMETRIC PIPELINE + centre unfixed from (0.0, 0.0)].\n",
        " \n",
        " - Uses the `Sersic` model representing a bulge for the source's light [priors initialized from SOURCE \n",
        " PARAMETRIC PIPELINE].\n",
        " \n",
        " - Carries the lens redshift, source redshift and `ExternalShear` of the SOURCE PIPELINE through to the MASS TOTAL \n",
        " PIPELINE."
      ]
    },
    {
      "cell_type": "code",
      "metadata": {},
      "source": [
        "analysis = al.AnalysisImaging(\n",
        "    dataset=dataset,\n",
        "    adapt_images=source_pix_results.last.adapt_images,\n",
        "    positions_likelihood=source_pix_results.last.positions_likelihood_from(\n",
        "        factor=3.0, minimum_threshold=0.2\n",
        "    ),\n",
        ")\n",
        "\n",
        "mass_results = slam.mass_total.run(\n",
        "    settings_search=settings_search,\n",
        "    analysis=analysis,\n",
        "    setup_adapt=setup_adapt,\n",
        "    source_results=source_pix_results,\n",
        "    light_results=light_results,\n",
        "    mass=af.Model(al.mp.PowerLaw),\n",
        ")"
      ],
      "outputs": [],
      "execution_count": null
    },
    {
      "cell_type": "markdown",
      "metadata": {},
      "source": [
        "__SUBHALO PIPELINE (single plane detection)__\n",
        "\n",
        "The SUBHALO PIPELINE (single plane detection) consists of the following searches:\n",
        " \n",
        " 1) Refit the lens and source model, to refine the model evidence for comparing to the models fitted which include a \n",
        " subhalo. This uses the same model as fitted in the MASS TOTAL PIPELINE. \n",
        " 2) Performs a grid-search of non-linear searches to attempt to detect a dark matter subhalo. \n",
        " 3) If there is a successful detection a final search is performed to refine its parameters.\n",
        " \n",
        "For this modeling script the SUBHALO PIPELINE customizes:\n",
        "\n",
        " - The [number_of_steps x number_of_steps] size of the grid-search, as well as the dimensions it spans in arc-seconds.\n",
        " - The `number_of_cores` used for the gridsearch, where `number_of_cores > 1` performs the model-fits in paralle using\n",
        " the Python multiprocessing module."
      ]
    },
    {
      "cell_type": "code",
      "metadata": {},
      "source": [
        "analysis = al.AnalysisImaging(\n",
        "    dataset=dataset,\n",
        "    positions_likelihood=mass_results.last.positions_likelihood_from(\n",
        "        factor=3.0, minimum_threshold=0.2, use_resample=True\n",
        "    ),\n",
        "    adapt_images=source_pix_results.last.adapt_images,\n",
        ")\n",
        "\n",
        "subhalo_results = slam.subhalo.detection.run(\n",
        "    settings_search=settings_search,\n",
        "    analysis=analysis,\n",
        "    mass_results=mass_results,\n",
        "    subhalo_mass=af.Model(al.mp.NFWMCRLudlowSph),\n",
        "    grid_dimension_arcsec=3.0,\n",
        "    number_of_steps=5,\n",
        ")"
      ],
      "outputs": [],
      "execution_count": null
    },
    {
      "cell_type": "markdown",
      "metadata": {},
      "source": [
        "Finish."
      ]
    },
    {
      "cell_type": "code",
      "metadata": {},
      "source": [],
      "outputs": [],
      "execution_count": null
    }
  ],
  "metadata": {
    "anaconda-cloud": {},
    "kernelspec": {
      "display_name": "Python 3",
      "language": "python",
      "name": "python3"
    },
    "language_info": {
      "codemirror_mode": {
        "name": "ipython",
        "version": 3
      },
      "file_extension": ".py",
      "mimetype": "text/x-python",
      "name": "python",
      "nbconvert_exporter": "python",
      "pygments_lexer": "ipython3",
      "version": "3.6.1"
    }
  },
  "nbformat": 4,
  "nbformat_minor": 4
}