{
  "cells": [
    {
      "cell_type": "markdown",
      "metadata": {},
      "source": [
        "Subhalo Detection: Start Here\n",
        "=============================\n",
        "\n",
        "Strong gravitational lenses can be used to detect the presence of small-scale dark matter (DM) subhalos. This occurs\n",
        "when the DM subhalo overlaps the lensed source emission, and therefore gravitationally perturbs the observed image of \n",
        "the lensed source galaxy. \n",
        "\n",
        "When a DM subhalo is not included in the lens model, residuals will be present in the fit to the data in the lensed\n",
        "source regions near the subhalo. By adding a DM subhalo to the lens model, these residuals can be reduced. Bayesian\n",
        "model comparison can then be used to quantify whether or not the improvement to the fit is significant enough to\n",
        "claim the detection of a DM subhalo.\n",
        "\n",
        "The example illustrates DM subhalo detection with **PyAutoLens**.\n",
        "\n",
        "__SLaM Pipelines__\n",
        "\n",
        "The Source, (lens) Light and Mass (SLaM) pipelines are advanced lens modeling pipelines which automate the fitting\n",
        "of complex lens models. The SLaM pipelines are used for all DM subhalo detection analyses in **PyAutoLens**. Therefore\n",
        "you should be familiar with the SLaM pipelines before performing DM subhalo detection yourself. If you are unfamiliar\n",
        "with the SLaM pipelines, checkout the \n",
        "example `autolens_workspace/notebooks/imaging/advanced/chaining/slam/start_here.ipynb`.\n",
        "\n",
        "Dark matter subhalo detection runs the standard SLaM pipelines, and then extends them with a SUBHALO PIPELINE which\n",
        "performs the following three chained non-linear searches:\n",
        "\n",
        " 1) Fits the lens model fitted in the MASS PIPELINE again, without a DM subhalo, to estimate the Bayesian evidence\n",
        "    of the model without a DM subhalo.\n",
        "\n",
        " 2) Performs a grid-search of non-linear searches, where each grid cell includes a DM subhalo whose (y,x) centre is \n",
        "    confined to a small 2D section of the image plane via uniform priors (we explain this in more detail below).\n",
        "    \n",
        " 3) Fit the lens model again, including a DM subhalo whose (y,x) centre is initialized from the highest log evidence\n",
        "    grid cell of the grid-search. The Bayesian evidence estimated in this model-fit is compared to the model-fit\n",
        "    which did not include a DM subhalo, to determine whether or not a DM subhalo was detected.\n",
        "\n",
        "__Grid Search__\n",
        "\n",
        "The second stage of the SUBHALO PIPELINE uses a grid-search of non-linear searches to determine the highest log\n",
        "evidence model with a DM subhalo. This grid search confines each DM subhalo in the lens model to a small 2D section\n",
        "of the image plane via priors on its (y,x) centre. The reasons for this are as follows:\n",
        "\n",
        " - Lens models including a DM subhalo often have a multi-model parameter space. This means there are multiple lens \n",
        "   models with high likelihood solutions, each of which place the DM subhalo in different (y,x) image-plane location. \n",
        "   Multi-modal parameter spaces are synonomously difficult for non-linear searches to fit, and often produce \n",
        "   incorrect or inefficient fitting. The grid search breaks the multi-modal parameter space into many single-peaked \n",
        "   parameter spaces, making the model-fitting faster and more reliable.\n",
        "\n",
        " - By inferring how placing a DM subhalo at different locations in the image-plane changes the Bayesian evidence, we\n",
        "   map out spatial information on where a DM subhalo is detected. This can help our interpretation of the DM subhalo\n",
        "   detection.\n",
        "\n",
        "__Pixelized Source__\n",
        "\n",
        "Detecting a DM subhalo requires the lens model to be sufficiently accurate that the residuals of the source's light\n",
        "are at a level where the subhalo's perturbing lensing effects can be detected. \n",
        "\n",
        "This requires the source reconstruction to be performed using a pixelized source, as this provides a more detailed \n",
        "reconstruction of the source's light than fits using light profiles.\n",
        "\n",
        "This example therefore using a pixelized source and the corresponding SLaM pipelines.\n",
        "\n",
        "The `subhalo/detection/examples` folder contains an example using light profile sources, if you have a use-case where\n",
        "using light profile source is feasible (e.g. fitting simple simulated datasets).\n",
        "\n",
        "__Model__\n",
        "\n",
        "Using a SOURCE LP PIPELINE, LIGHT LP PIPELINE, MASS TOTAL PIPELINE and SUBHALO PIPELINE this SLaM script\n",
        "fits `Imaging` of a strong lens system, where in the final model:\n",
        "\n",
        " - The lens galaxy's light is a bulge with a linear parametric `Sersic` light profile.\n",
        " - The lens galaxy's total mass distribution is an `Isothermal`.\n",
        " - A dark matter subhalo near The lens galaxy mass is included as a`NFWMCRLudlowSph`.\n",
        " - The source galaxy is an `Inversion`.\n",
        "\n",
        "This uses the SLaM pipelines:\n",
        "\n",
        " `source_lp`\n",
        " `source_pix`\n",
        " `light_lp`\n",
        " `mass_total`\n",
        " `subhalo/detection`\n",
        "\n",
        "Check them out for a full description of the analysis!"
      ]
    },
    {
      "cell_type": "code",
      "metadata": {},
      "source": [
        "%matplotlib inline\n",
        "from pyprojroot import here\n",
        "workspace_path = str(here())\n",
        "%cd $workspace_path\n",
        "print(f\"Working Directory has been set to `{workspace_path}`\")\n",
        "\n",
        "import os\n",
        "import sys\n",
        "from os import path\n",
        "import autofit as af\n",
        "import autolens as al\n",
        "import autolens.plot as aplt\n",
        "\n",
        "sys.path.insert(0, os.getcwd())\n",
        "import slam"
      ],
      "outputs": [],
      "execution_count": null
    },
    {
      "cell_type": "markdown",
      "metadata": {},
      "source": [
        "__Dataset + Masking__ \n",
        "\n",
        "Load, plot and mask the `Imaging` data."
      ]
    },
    {
      "cell_type": "code",
      "metadata": {},
      "source": [
        "dataset_name = \"dark_matter_subhalo\"\n",
        "dataset_path = path.join(\"dataset\", \"imaging\", dataset_name)\n",
        "\n",
        "dataset = al.Imaging.from_fits(\n",
        "    data_path=path.join(dataset_path, \"data.fits\"),\n",
        "    noise_map_path=path.join(dataset_path, \"noise_map.fits\"),\n",
        "    psf_path=path.join(dataset_path, \"psf.fits\"),\n",
        "    pixel_scales=0.05,\n",
        ")\n",
        "\n",
        "mask = al.Mask2D.circular(\n",
        "    shape_native=dataset.shape_native, pixel_scales=dataset.pixel_scales, radius=3.0\n",
        ")\n",
        "\n",
        "dataset = dataset.apply_mask(mask=mask)\n",
        "\n",
        "dataset_plotter = aplt.ImagingPlotter(dataset=dataset)\n",
        "dataset_plotter.subplot_dataset()"
      ],
      "outputs": [],
      "execution_count": null
    },
    {
      "cell_type": "markdown",
      "metadata": {},
      "source": [
        "__Settings AutoFit__\n",
        "\n",
        "The settings of autofit, which controls the output paths, parallelization, database use, etc."
      ]
    },
    {
      "cell_type": "code",
      "metadata": {},
      "source": [
        "settings_search = af.SettingsSearch(\n",
        "    path_prefix=path.join(\"subhalo_detect\"),\n",
        "    unique_tag=dataset_name,\n",
        "    info=None,\n",
        "    number_of_cores=1,\n",
        "    session=None,\n",
        ")"
      ],
      "outputs": [],
      "execution_count": null
    },
    {
      "cell_type": "markdown",
      "metadata": {},
      "source": [
        "__Redshifts__\n",
        "\n",
        "The redshifts of the lens and source galaxies."
      ]
    },
    {
      "cell_type": "code",
      "metadata": {},
      "source": [
        "redshift_lens = 0.5\n",
        "redshift_source = 1.0\n"
      ],
      "outputs": [],
      "execution_count": null
    },
    {
      "cell_type": "markdown",
      "metadata": {},
      "source": [
        "__SOURCE LP PIPELINE__\n",
        "\n",
        "This is the standard SOURCE LP PIPELINE described in the `slam/start_here.ipynb` example."
      ]
    },
    {
      "cell_type": "code",
      "metadata": {},
      "source": [
        "analysis = al.AnalysisImaging(dataset=dataset)\n",
        "\n",
        "bulge = af.Model(al.lp_linear.Sersic)\n",
        "\n",
        "source_lp_result = slam.source_lp.run(\n",
        "    settings_search=settings_search,\n",
        "    analysis=analysis,\n",
        "    lens_bulge=bulge,\n",
        "    lens_disk=None,\n",
        "    mass=af.Model(al.mp.Isothermal),\n",
        "    shear=af.Model(al.mp.ExternalShear),\n",
        "    source_bulge=af.Model(al.lp_linear.SersicCore),\n",
        "    mass_centre=(0.0, 0.0),\n",
        "    redshift_lens=redshift_lens,\n",
        "    redshift_source=redshift_source,\n",
        ")"
      ],
      "outputs": [],
      "execution_count": null
    },
    {
      "cell_type": "markdown",
      "metadata": {},
      "source": [
        "__SOURCE PIX PIPELINE__\n",
        "\n",
        "This is the standard SOURCE PIX PIPELINE described in the `slam/start_here.ipynb` example."
      ]
    },
    {
      "cell_type": "code",
      "metadata": {},
      "source": [
        "analysis = al.AnalysisImaging(\n",
        "    dataset=dataset,\n",
        "    adapt_image_maker=al.AdaptImageMaker(result=source_lp_result),\n",
        "    positions_likelihood=source_lp_result.positions_likelihood_from(\n",
        "        factor=3.0, minimum_threshold=0.2\n",
        "    ),\n",
        "    settings_inversion=al.SettingsInversion(\n",
        "        image_mesh_min_mesh_pixels_per_pixel=3,\n",
        "        image_mesh_min_mesh_number=5,\n",
        "        image_mesh_adapt_background_percent_threshold=0.1,\n",
        "        image_mesh_adapt_background_percent_check=0.8,\n",
        "    ),\n",
        ")\n",
        "\n",
        "source_pix_result_1 = slam.source_pix.run_1(\n",
        "    settings_search=settings_search,\n",
        "    analysis=analysis,\n",
        "    source_lp_result=source_lp_result,\n",
        "    mesh_init=al.mesh.Delaunay,\n",
        ")\n",
        "\n",
        "adapt_image_maker = al.AdaptImageMaker(result=source_pix_result_1)\n",
        "adapt_image = adapt_image_maker.adapt_images.galaxy_name_image_dict[\n",
        "    \"('galaxies', 'source')\"\n",
        "]\n",
        "\n",
        "over_sampling = al.OverSamplingUniform.from_adapt(\n",
        "    data=adapt_image,\n",
        "    noise_map=dataset.noise_map,\n",
        ")\n",
        "\n",
        "dataset = dataset.apply_over_sampling(\n",
        "    over_sampling=al.OverSamplingDataset(pixelization=over_sampling)\n",
        ")\n",
        "\n",
        "analysis = al.AnalysisImaging(\n",
        "    dataset=dataset,\n",
        "    adapt_image_maker=al.AdaptImageMaker(result=source_pix_result_1),\n",
        "    settings_inversion=al.SettingsInversion(\n",
        "        image_mesh_min_mesh_pixels_per_pixel=3,\n",
        "        image_mesh_min_mesh_number=5,\n",
        "        image_mesh_adapt_background_percent_threshold=0.1,\n",
        "        image_mesh_adapt_background_percent_check=0.8,\n",
        "    ),\n",
        ")\n",
        "\n",
        "source_pix_result_2 = slam.source_pix.run_2(\n",
        "    settings_search=settings_search,\n",
        "    analysis=analysis,\n",
        "    source_lp_result=source_lp_result,\n",
        "    source_pix_result_1=source_pix_result_1,\n",
        "    image_mesh=al.image_mesh.Hilbert,\n",
        "    mesh=al.mesh.Delaunay,\n",
        "    regularization=al.reg.AdaptiveBrightnessSplit,\n",
        ")"
      ],
      "outputs": [],
      "execution_count": null
    },
    {
      "cell_type": "markdown",
      "metadata": {},
      "source": [
        "__LIGHT LP PIPELINE__\n",
        "\n",
        "This is the standard LIGHT LP PIPELINE described in the `slam/start_here.ipynb` example."
      ]
    },
    {
      "cell_type": "code",
      "metadata": {},
      "source": [
        "analysis = al.AnalysisImaging(\n",
        "    dataset=dataset, adapt_image_maker=al.AdaptImageMaker(result=source_pix_result_1)\n",
        ")\n",
        "\n",
        "bulge = af.Model(al.lp_linear.Sersic)\n",
        "\n",
        "light_result = slam.light_lp.run(\n",
        "    settings_search=settings_search,\n",
        "    analysis=analysis,\n",
        "    source_result_for_lens=source_pix_result_1,\n",
        "    source_result_for_source=source_pix_result_2,\n",
        "    lens_bulge=bulge,\n",
        "    lens_disk=None,\n",
        ")"
      ],
      "outputs": [],
      "execution_count": null
    },
    {
      "cell_type": "markdown",
      "metadata": {},
      "source": [
        "__MASS TOTAL PIPELINE__\n",
        "\n",
        "This is the standard MASS TOTAL PIPELINE described in the `slam/start_here.ipynb` example."
      ]
    },
    {
      "cell_type": "code",
      "metadata": {},
      "source": [
        "analysis = al.AnalysisImaging(\n",
        "    dataset=dataset,\n",
        "    adapt_image_maker=al.AdaptImageMaker(result=source_pix_result_1),\n",
        "    positions_likelihood=source_pix_result_2.positions_likelihood_from(\n",
        "        factor=3.0, minimum_threshold=0.2\n",
        "    ),\n",
        ")\n",
        "\n",
        "mass_result = slam.mass_total.run(\n",
        "    settings_search=settings_search,\n",
        "    analysis=analysis,\n",
        "    source_result_for_lens=source_pix_result_1,\n",
        "    source_result_for_source=source_pix_result_2,\n",
        "    light_result=light_result,\n",
        "    mass=af.Model(al.mp.PowerLaw),\n",
        ")"
      ],
      "outputs": [],
      "execution_count": null
    },
    {
      "cell_type": "markdown",
      "metadata": {},
      "source": [
        "__SUBHALO PIPELINE (single plane detection)__\n",
        "\n",
        "The SUBHALO PIPELINE (single plane detection) consists of the following searches:\n",
        " \n",
        " 1) Refit the lens and source model, to refine the model evidence for comparing to the models fitted which include a \n",
        " subhalo. This uses the same model as fitted in the MASS TOTAL PIPELINE. \n",
        " 2) Performs a grid-search of non-linear searches to attempt to detect a dark matter subhalo. \n",
        " 3) If there is a successful detection a final search is performed to refine its parameters.\n",
        " \n",
        "For this modeling script the SUBHALO PIPELINE customizes:\n",
        "\n",
        " - The [number_of_steps x number_of_steps] size of the grid-search, as well as the dimensions it spans in arc-seconds.\n",
        " - The `number_of_cores` used for the gridsearch, where `number_of_cores > 1` performs the model-fits in parallel using\n",
        " the Python multiprocessing module.\n",
        " \n",
        "A full description of the SUBHALO PIPELINE can be found in the SLaM pipeline itself, which is located at \n",
        "`autolens_workspace/slam/subhalo/detection.py`. You should read this now."
      ]
    },
    {
      "cell_type": "code",
      "metadata": {},
      "source": [
        "analysis = al.AnalysisImaging(\n",
        "    dataset=dataset,\n",
        "    positions_likelihood=mass_result.positions_likelihood_from(\n",
        "        factor=3.0, minimum_threshold=0.2, use_resample=True\n",
        "    ),\n",
        "    adapt_image_maker=al.AdaptImageMaker(result=source_pix_result_1),\n",
        ")\n",
        "\n",
        "result_no_subhalo = slam.subhalo.detection.run_1_no_subhalo(\n",
        "    settings_search=settings_search,\n",
        "    analysis=analysis,\n",
        "    mass_result=mass_result,\n",
        ")\n",
        "\n",
        "result_subhalo_grid_search = slam.subhalo.detection.run_2_grid_search(\n",
        "    settings_search=settings_search,\n",
        "    analysis=analysis,\n",
        "    mass_result=mass_result,\n",
        "    subhalo_result_1=result_no_subhalo,\n",
        "    subhalo_mass=af.Model(al.mp.NFWMCRLudlowSph),\n",
        "    grid_dimension_arcsec=3.0,\n",
        "    number_of_steps=2,\n",
        ")\n",
        "\n",
        "result_with_subhalo = slam.subhalo.detection.run_3_subhalo(\n",
        "    settings_search=settings_search,\n",
        "    analysis=analysis,\n",
        "    subhalo_result_1=result_no_subhalo,\n",
        "    subhalo_grid_search_result_2=result_subhalo_grid_search,\n",
        "    subhalo_mass=af.Model(al.mp.NFWMCRLudlowSph),\n",
        ")"
      ],
      "outputs": [],
      "execution_count": null
    },
    {
      "cell_type": "markdown",
      "metadata": {},
      "source": [
        "__Bayesian Evidence__\n",
        "\n",
        "To determine if a DM subhalo was detected by the pipeline, we can compare the log of the  Bayesian evidences of the \n",
        "model-fits performed with and without a subhalo. \n",
        "\n",
        "The following scale describes how different log evidence increases correspond to difference detection significances:\n",
        "\n",
        " - Negative log evidence increase: No detection.\n",
        " - Log evidence increase between 0 and 3: No detection.\n",
        " - Log evidence increase between 3 and 5: Weak evidence, should consider it a non-detection.\n",
        " - Log evidence increase between 5 and 10: Medium evidence, but still inconclusive.\n",
        " - Log evidence increase between 10 and 20: Strong evidence, consider it a detection.\n",
        " - Log evidence increase > 20: Very strong evidence, definitive detection.\n",
        "\n",
        "Lets inspect the log evidence ncrease for the model-fit performed in this example:"
      ]
    },
    {
      "cell_type": "code",
      "metadata": {},
      "source": [
        "evidence_no_subhalo = result_no_subhalo.samples.log_evidence\n",
        "evidence_with_subhalo = result_with_subhalo.samples.log_evidence\n",
        "\n",
        "log_evidence_increase = evidence_with_subhalo - evidence_no_subhalo\n",
        "\n",
        "print(\"Evidence Increase: \", log_evidence_increase)"
      ],
      "outputs": [],
      "execution_count": null
    },
    {
      "cell_type": "markdown",
      "metadata": {},
      "source": [
        "__Log Likelihood__\n",
        "\n",
        "Different metrics can be used to inspect whether a DM subhalo was detected.\n",
        "\n",
        "The Bayesian evidence is the most rigorous because it penalizes models based on their complexity. If a model is more\n",
        "complex (e.g. it can fit the data in more ways) than another model, the evidence will decrease. The Bayesian evidence\n",
        "therefore favours simpler models over more complex models, unless the more complex model provides a much better fit to\n",
        "the data. This is called the Occam's Razor principle.\n",
        "\n",
        "An alternative goodness of fit is the `log_likelihood`. This is directly related to the residuals of the model or\n",
        "the chi-squared value. The log likelihood does not change when a model is made more or less complex, and as such it \n",
        "will nearly always favour the more complex model because this must provide a better fit to the data one way or another.\n",
        "\n",
        "The benefit of the log likelihood is it is a straight forward value indicating how well a model fitted the data. It\n",
        "can provide useful sanity checks, for example the `log_likelihood` of the lens model without a subhalo must always be\n",
        "less than the model with a subhalo (because the model with a subhalo can simple reduce its mass and recover the model\n",
        "without a subhalo). If this is not the case, something must have gone wrong with one of the model-fits, for example\n",
        "the non-linear search failed to find the highest likelihood regions of parameter space."
      ]
    },
    {
      "cell_type": "code",
      "metadata": {},
      "source": [
        "log_likelihood_no_subhalo = result_no_subhalo.samples.log_likelihood\n",
        "log_likelihood_with_subhalo = result_with_subhalo.samples.log_likelihood\n",
        "\n",
        "log_likelihood_increase = log_likelihood_with_subhalo - log_likelihood_no_subhalo\n",
        "\n",
        "print(\"Log Likelihood Increase: \", log_likelihood_increase)"
      ],
      "outputs": [],
      "execution_count": null
    },
    {
      "cell_type": "markdown",
      "metadata": {},
      "source": [
        "__Visualization__\n",
        "\n",
        "There are DM subhalo specific visualization tools which can be used to inspect the results of DM subhalo detection.\n",
        "\n",
        "The `SubhaloPlotter` takes as input `FitImaging` objects of the no subhalo and with subhalo model-fits, which will\n",
        "allow us to plot their images alongside one another and therefore inspect how the residuals change when a DM\n",
        "subhalo is included in the model.\n",
        "\n",
        "We also input the `result_subhalo_grid_search`, which we will use below to show visualization of the grid search."
      ]
    },
    {
      "cell_type": "code",
      "metadata": {},
      "source": [
        "subhalo_plotter = al.subhalo.SubhaloPlotter(\n",
        "    fit_imaging_with_subhalo=result_with_subhalo.max_log_likelihood_fit,\n",
        "    fit_imaging_no_subhalo=result_no_subhalo.max_log_likelihood_fit,\n",
        ")"
      ],
      "outputs": [],
      "execution_count": null
    },
    {
      "cell_type": "markdown",
      "metadata": {},
      "source": [
        "The following subplot compares the fits with and without a DM subhalo.\n",
        "\n",
        "It plots the normalized residuals, chi-squared map and source reconstructions of both fits alongside one another.\n",
        "The improvement to the fit that including a subhalo provides is therefore clearly visible."
      ]
    },
    {
      "cell_type": "code",
      "metadata": {},
      "source": [
        "subhalo_plotter.subplot_detection_fits()"
      ],
      "outputs": [],
      "execution_count": null
    },
    {
      "cell_type": "markdown",
      "metadata": {},
      "source": [
        "__Grid Search Result__\n",
        "\n",
        "The grid search results have attributes which can be used to inspect the results of the DM subhalo grid-search.\n",
        "\n",
        "For example, we can produce a 2D array of the log evidence values computed for each grid cell of the grid-search.\n",
        "\n",
        "We compute these values relative to the `log_evidence` of the model-fit which did not include a subhalo, such that\n",
        "positive values indicate that including a subhalo increases the Bayesian evidence."
      ]
    },
    {
      "cell_type": "code",
      "metadata": {},
      "source": [
        "result_subhalo_grid_search = al.subhalo.SubhaloGridSearchResult(\n",
        "    result=result_subhalo_grid_search\n",
        ")\n",
        "\n",
        "log_evidence_array = result_subhalo_grid_search.figure_of_merit_array(\n",
        "    use_log_evidences=True,\n",
        "    relative_to_value=result_no_subhalo.samples.log_evidence,\n",
        ")\n",
        "\n",
        "print(\"Log Evidence Array: \\n\")\n",
        "print(log_evidence_array)"
      ],
      "outputs": [],
      "execution_count": null
    },
    {
      "cell_type": "markdown",
      "metadata": {},
      "source": [
        "We can plot this array to get a visualiuzation of where including a subhalo in the model increases the Bayesian\n",
        "evidence."
      ]
    },
    {
      "cell_type": "code",
      "metadata": {},
      "source": [
        "plotter = aplt.Array2DPlotter(\n",
        "    array=log_evidence_array,\n",
        ")\n",
        "plotter.figure_2d()"
      ],
      "outputs": [],
      "execution_count": null
    },
    {
      "cell_type": "markdown",
      "metadata": {},
      "source": [
        "The grid search result also contained arrays with the inferred masses for each grid cell fit and the inferred\n",
        "DM subhalo centres."
      ]
    },
    {
      "cell_type": "code",
      "metadata": {},
      "source": [
        "mass_array = result_subhalo_grid_search.subhalo_mass_array\n",
        "\n",
        "print(\"Mass Array: \\n\")\n",
        "print(mass_array)\n",
        "\n",
        "subhalo_centres_grid = result_subhalo_grid_search.subhalo_centres_grid\n",
        "\n",
        "print(\"Subhalo Centres Grid: \\n\")\n",
        "print(subhalo_centres_grid)"
      ],
      "outputs": [],
      "execution_count": null
    },
    {
      "cell_type": "markdown",
      "metadata": {},
      "source": [
        "An array with the inferred parameters for any lens model parameter can be computed as follows:"
      ]
    },
    {
      "cell_type": "code",
      "metadata": {},
      "source": [
        "einstein_radius_array = result_subhalo_grid_search.attribute_grid(\n",
        "    \"galaxies.lens.mass.einstein_radius\"\n",
        ")"
      ],
      "outputs": [],
      "execution_count": null
    },
    {
      "cell_type": "markdown",
      "metadata": {},
      "source": [
        "__Grid Search Visualization__\n",
        "\n",
        "The `SubhaloPlotter` can also plot the results of the grid search, which provides spatial information on where in\n",
        "the image plane including a DM subhalo provides a better fit to the data.\n",
        "\n",
        "The plot below shows the increase in `log_evidence` of each grid cell, laid over an image of the lensed source\n",
        "so one can easily see which source features produce a DM subhalo detection.\n",
        "\n",
        "The input `remove_zeros` removes all grid-cells which have a log evidence value below zero, which provides more\n",
        "clarity in the figure where including a DM subhalo makes a difference to the Bayesian evidence."
      ]
    },
    {
      "cell_type": "code",
      "metadata": {},
      "source": [
        "subhalo_plotter = al.subhalo.SubhaloPlotter(\n",
        "    result=result_subhalo_grid_search,\n",
        "    fit_imaging_with_subhalo=result_with_subhalo.max_log_likelihood_fit,\n",
        "    fit_imaging_no_subhalo=result_no_subhalo.max_log_likelihood_fit,\n",
        ")\n",
        "\n",
        "subhalo_plotter.figure_figures_of_merit_grid(\n",
        "    use_log_evidences=True,\n",
        "    relative_to_value=result_no_subhalo.samples.log_evidence,\n",
        "    remove_zeros=True,\n",
        ")"
      ],
      "outputs": [],
      "execution_count": null
    },
    {
      "cell_type": "markdown",
      "metadata": {},
      "source": [
        "A grid of inferred DM subhalo masses can be overlaid instead:"
      ]
    },
    {
      "cell_type": "code",
      "metadata": {},
      "source": [
        "subhalo_plotter.figure_mass_grid()"
      ],
      "outputs": [],
      "execution_count": null
    },
    {
      "cell_type": "markdown",
      "metadata": {},
      "source": [
        "A subplot of all these quantities can be plotted:"
      ]
    },
    {
      "cell_type": "code",
      "metadata": {},
      "source": [
        "subhalo_plotter.subplot_detection_imaging(\n",
        "    use_log_evidences=True,\n",
        "    relative_to_value=result_no_subhalo.samples.log_evidence,\n",
        "    remove_zeros=True,\n",
        ")"
      ],
      "outputs": [],
      "execution_count": null
    },
    {
      "cell_type": "markdown",
      "metadata": {},
      "source": [
        "Finish."
      ]
    },
    {
      "cell_type": "code",
      "metadata": {},
      "source": [],
      "outputs": [],
      "execution_count": null
    }
  ],
  "metadata": {
    "anaconda-cloud": {},
    "kernelspec": {
      "display_name": "Python 3",
      "language": "python",
      "name": "python3"
    },
    "language_info": {
      "codemirror_mode": {
        "name": "ipython",
        "version": 3
      },
      "file_extension": ".py",
      "mimetype": "text/x-python",
      "name": "python",
      "nbconvert_exporter": "python",
      "pygments_lexer": "ipython3",
      "version": "3.6.1"
    }
  },
  "nbformat": 4,
  "nbformat_minor": 4
}