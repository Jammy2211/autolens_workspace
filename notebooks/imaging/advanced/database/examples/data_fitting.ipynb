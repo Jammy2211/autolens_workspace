{
  "cells": [
    {
      "cell_type": "markdown",
      "metadata": {},
      "source": [
        "Database: Data Fitting\n",
        "======================\n",
        "\n",
        "In this tutorial, we use the aggregator to load models and data from a non-linear search and use them to perform\n",
        "fits to the data.\n",
        "\n",
        "All examples use just a single instance of a `FitImaging` object corresponding to the maximum log likelihood sample.\n",
        "In tutorial  6, we will show how one can use the database to create lists of `FitImaging`'s that are drawn from the PDF.\n",
        "This enables error estimation to be performed of derived quantities."
      ]
    },
    {
      "cell_type": "code",
      "metadata": {},
      "source": [
        "%matplotlib inline\n",
        "from pyprojroot import here\n",
        "workspace_path = str(here())\n",
        "%cd $workspace_path\n",
        "print(f\"Working Directory has been set to `{workspace_path}`\")\n",
        "\n",
        "from os import path\n",
        "import autofit as af\n",
        "import autolens as al\n",
        "import autolens.plot as aplt"
      ],
      "outputs": [],
      "execution_count": null
    },
    {
      "cell_type": "markdown",
      "metadata": {},
      "source": [
        "__Database File__\n",
        "\n",
        "First, set up the aggregator as we did in the previous tutorial."
      ]
    },
    {
      "cell_type": "code",
      "metadata": {},
      "source": [
        "agg = af.Aggregator.from_database(\"database.sqlite\")"
      ],
      "outputs": [],
      "execution_count": null
    },
    {
      "cell_type": "markdown",
      "metadata": {},
      "source": [
        "The masks we used to fit the lenses is accessible via the aggregator."
      ]
    },
    {
      "cell_type": "code",
      "metadata": {},
      "source": [
        "mask_gen = agg.values(\"mask\")\n",
        "print([mask for mask in mask_gen])"
      ],
      "outputs": [],
      "execution_count": null
    },
    {
      "cell_type": "markdown",
      "metadata": {},
      "source": [
        "The info dictionary we passed is also available."
      ]
    },
    {
      "cell_type": "code",
      "metadata": {},
      "source": [
        "print(\"Info:\")\n",
        "info_gen = agg.values(\"info\")\n",
        "print([info for info in info_gen])"
      ],
      "outputs": [],
      "execution_count": null
    },
    {
      "cell_type": "markdown",
      "metadata": {},
      "source": [
        "__Fits via Database__\n",
        "\n",
        "Having performed a model-fit, we now want to interpret and visualize the results. In this example, we want to inspect\n",
        "the `FitImaging` objects that gave good fits to the data. \n",
        "\n",
        "Using the API shown in the `start_here.py` example this would require us to create a `Samples` object and manually \n",
        "compose our own `FitImaging` object. For large datasets, this would require us to use generators to ensure it is \n",
        "memory-light, which are cumbersome to write.\n",
        "\n",
        "This example therefore uses the `FitImagingAgg` object, which conveniently loads the `FitImaging` objects of every fit via \n",
        "generators for us. Explicit examples of how to do this via generators is given in the `advanced/manual_generator.py` \n",
        "tutorial.\n",
        "\n",
        "We get a fit generator via the `al.agg.FitImagingAgg` object, where this `fit_gen` contains the maximum log\n",
        "likelihood fit of every model-fit."
      ]
    },
    {
      "cell_type": "code",
      "metadata": {},
      "source": [
        "dataset_agg = al.agg.ImagingAgg(aggregator=agg)\n",
        "dataset_gen = dataset_agg.dataset_gen_from()\n",
        "\n",
        "for dataset in dataset_gen:\n",
        "    print(imaging)\n",
        "\n",
        "    dataset_plotter = aplt.ImagingPlotter(dataset=dataset)\n",
        "    dataset_plotter.subplot_dataset()"
      ],
      "outputs": [],
      "execution_count": null
    },
    {
      "cell_type": "markdown",
      "metadata": {},
      "source": [
        "We now use the database to load a generator containing the fit of the maximum log likelihood model (and therefore \n",
        "fit) to each dataset."
      ]
    },
    {
      "cell_type": "code",
      "metadata": {},
      "source": [
        "fit_agg = al.agg.FitImagingAgg(aggregator=agg)\n",
        "fit_dataset_gen = fit_agg.max_log_likelihood_gen_from()\n",
        "\n",
        "for fit in fit_dataset_gen:\n",
        "    fit_plotter = aplt.FitImagingPlotter(fit=fit)\n",
        "    fit_plotter.subplot_fit()"
      ],
      "outputs": [],
      "execution_count": null
    },
    {
      "cell_type": "markdown",
      "metadata": {},
      "source": [
        "__Modification__\n",
        "\n",
        "The `FitImagingAgg` allow us to modify the fit settings. By default, it uses the `SettingsImaging`, \n",
        "`SettingsPixelization` and `SettingsInversion` that were used during the model-fit. \n",
        "\n",
        "However, we can change these settings such that the fit is performed differently. For example, what if I wanted to see \n",
        "how the fit looks where the `Grid2D`'s `sub_size` is 4 (instead of the value of 2 that was used)? Or where the \n",
        "pixelization didn`t use a border? \n",
        "\n",
        "You can do this by passing the settings objects, which overwrite the ones used by the analysis."
      ]
    },
    {
      "cell_type": "code",
      "metadata": {},
      "source": [
        "fit_agg = al.agg.FitImagingAgg(\n",
        "    aggregator=agg,\n",
        "    settings_dataset=al.SettingsImaging(sub_size=4),\n",
        "    settings_pixelization=al.SettingsPixelization(use_border=False),\n",
        ")\n",
        "fit_dataset_gen = fit_agg.max_log_likelihood_gen_from()\n",
        "\n",
        "for fit in fit_dataset_gen:\n",
        "    fit_plotter = aplt.FitImagingPlotter(fit=fit)\n",
        "    fit_plotter.subplot_fit()"
      ],
      "outputs": [],
      "execution_count": null
    },
    {
      "cell_type": "markdown",
      "metadata": {},
      "source": [
        "__Visualization Customization__\n",
        "\n",
        "The benefit of inspecting fits using the aggregator, rather than the files outputs to the hard-disk, is that we can \n",
        "customize the plots using the `MatPlot1D` and `MatPlot2D` objects..\n",
        "\n",
        "Below, we create a new function to apply as a generator to do this. However, we use a convenience method available \n",
        "in the aggregator package to set up the fit."
      ]
    },
    {
      "cell_type": "code",
      "metadata": {},
      "source": [
        "fit_agg = al.agg.FitImagingAgg(aggregator=agg)\n",
        "fit_dataset_gen = fit_agg.max_log_likelihood_gen_from()\n",
        "\n",
        "for fit in fit_dataset_gen:\n",
        "    mat_plot = aplt.MatPlot2D(\n",
        "        figure=aplt.Figure(figsize=(12, 12)),\n",
        "        title=aplt.Title(label=\"Custom Image\", fontsize=24),\n",
        "        yticks=aplt.YTicks(fontsize=24),\n",
        "        xticks=aplt.XTicks(fontsize=24),\n",
        "        cmap=aplt.Cmap(norm=\"log\", vmax=1.0, vmin=1.0),\n",
        "        colorbar_tickparams=aplt.ColorbarTickParams(labelsize=20),\n",
        "        units=aplt.Units(in_kpc=True),\n",
        "    )\n",
        "\n",
        "    fit_plotter = aplt.FitImagingPlotter(fit=fit, mat_plot_2d=mat_plot)\n",
        "    fit_plotter.figures_2d(normalized_residual_map=True)"
      ],
      "outputs": [],
      "execution_count": null
    },
    {
      "cell_type": "markdown",
      "metadata": {},
      "source": [
        "Making this plot for a paper? You can output it to hard disk."
      ]
    },
    {
      "cell_type": "code",
      "metadata": {},
      "source": [
        "fit_agg = al.agg.FitImagingAgg(aggregator=agg)\n",
        "fit_dataset_gen = fit_agg.max_log_likelihood_gen_from()\n",
        "\n",
        "for fit in fit_dataset_gen:\n",
        "    mat_plot = aplt.MatPlot2D(\n",
        "        title=aplt.Title(label=\"Hey\"),\n",
        "        output=aplt.Output(\n",
        "            path=path.join(\"output\", \"path\", \"of\", \"file\"),\n",
        "            filename=\"publication\",\n",
        "            format=\"png\",\n",
        "        ),\n",
        "    )\n"
      ],
      "outputs": [],
      "execution_count": null
    },
    {
      "cell_type": "markdown",
      "metadata": {},
      "source": [
        "Finished."
      ]
    },
    {
      "cell_type": "code",
      "metadata": {},
      "source": [],
      "outputs": [],
      "execution_count": null
    }
  ],
  "metadata": {
    "anaconda-cloud": {},
    "kernelspec": {
      "display_name": "Python 3",
      "language": "python",
      "name": "python3"
    },
    "language_info": {
      "codemirror_mode": {
        "name": "ipython",
        "version": 3
      },
      "file_extension": ".py",
      "mimetype": "text/x-python",
      "name": "python",
      "nbconvert_exporter": "python",
      "pygments_lexer": "ipython3",
      "version": "3.6.1"
    }
  },
  "nbformat": 4,
  "nbformat_minor": 4
}