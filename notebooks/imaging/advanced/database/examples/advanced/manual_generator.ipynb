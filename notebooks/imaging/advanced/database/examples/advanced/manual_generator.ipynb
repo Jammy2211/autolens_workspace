{
  "cells": [
    {
      "cell_type": "markdown",
      "metadata": {},
      "source": [
        "Database Optional: Manual\n",
        "=========================\n",
        "\n",
        "The main tutorials use the built-in PyAutoLens aggregator objects (e.g. `TracerAgg`) to navigate the database. For the\n",
        "majority of use-cases this should be sufficient, however a user may have a use case where a more customized\n",
        "generation of a `Tracer` or `FitImaging` object is desired.\n",
        "\n",
        "This optional tutorials shows how one can achieve this, by creating lists and writing your own generator funtions\n",
        "to make these objects."
      ]
    },
    {
      "cell_type": "code",
      "metadata": {},
      "source": [
        "%matplotlib inline\n",
        "from pyprojroot import here\n",
        "workspace_path = str(here())\n",
        "%cd $workspace_path\n",
        "print(f\"Working Directory has been set to `{workspace_path}`\")\n",
        "\n",
        "import autofit as af\n",
        "import autolens as al\n",
        "import autolens.plot as aplt"
      ],
      "outputs": [],
      "execution_count": null
    },
    {
      "cell_type": "markdown",
      "metadata": {},
      "source": [
        "__Database File__\n",
        "\n",
        "First, set up the aggregator as we did in the previous tutorial."
      ]
    },
    {
      "cell_type": "code",
      "metadata": {},
      "source": [
        "agg = af.Aggregator.from_database(\"database.sqlite\")"
      ],
      "outputs": [],
      "execution_count": null
    },
    {
      "cell_type": "markdown",
      "metadata": {},
      "source": [
        "__Manual Tracers via Lists (Optional)__\n",
        "\n",
        "I now illustrate how one can create tracers via lists. This does not offer any new functionality that the `TracerAgg`\n",
        "object above does not provide, and is here for illustrative purposes. It is therefore optional.\n",
        "\n",
        "Lets create a list of instances of the maximum log likelihood models of each fit."
      ]
    },
    {
      "cell_type": "code",
      "metadata": {},
      "source": [
        "ml_instances = [samps.max_log_likelihood() for samps in agg.values(\"samples\")]"
      ],
      "outputs": [],
      "execution_count": null
    },
    {
      "cell_type": "markdown",
      "metadata": {},
      "source": [
        "A model instance contains a list of `Galaxy` instances, which is what we are using to passing to functions in \n",
        "PyAutoLens. \n",
        "\n",
        "Lets create the maximum log likelihood tracer of every fit."
      ]
    },
    {
      "cell_type": "code",
      "metadata": {},
      "source": [
        "ml_tracers = [al.Tracer(galaxies=instance.galaxies) for instance in ml_instances]\n",
        "\n",
        "print(\"Maximum Log Likelihood Tracers: \\n\")\n",
        "print(ml_tracers, \"\\n\")\n",
        "print(\"Total Tracers = \", len(ml_tracers))"
      ],
      "outputs": [],
      "execution_count": null
    },
    {
      "cell_type": "markdown",
      "metadata": {},
      "source": [
        "Now lets plot their convergences, using a grid of 100 x 100 pixels (noting that this isn't` necessarily the grid used\n",
        "to fit the data in the search itself)."
      ]
    },
    {
      "cell_type": "code",
      "metadata": {},
      "source": [
        "grid = al.Grid2D.uniform(shape_native=(100, 100), pixel_scales=0.1)\n",
        "\n",
        "for tracer in ml_tracers:\n",
        "    tracer_plotter = aplt.TracerPlotter(tracer=tracer, grid=grid)\n",
        "    tracer_plotter.figures_2d(convergence=True)\n"
      ],
      "outputs": [],
      "execution_count": null
    },
    {
      "cell_type": "markdown",
      "metadata": {},
      "source": [
        "__Manual Tracer via Generators (Optional / Advanced)__\n",
        "\n",
        "I now illustrate how one can create tracers via generators. There may be occasions where the functionality of \n",
        "the `TracerAgg` object is insufficient to perform the calculation you require. You can therefore write your own \n",
        "generator to do this.\n",
        "\n",
        "This section is optional, and I advise you only follow it if the `TracerAgg` object is sufficient for your use-case."
      ]
    },
    {
      "cell_type": "code",
      "metadata": {},
      "source": [
        "\n",
        "\n",
        "def make_tracer_generator(fit):\n",
        "    samples = fit.value(name=\"samples\")\n",
        "\n",
        "    return al.Tracer(galaxies=samples.max_log_likelihood().galaxies)\n"
      ],
      "outputs": [],
      "execution_count": null
    },
    {
      "cell_type": "markdown",
      "metadata": {},
      "source": [
        "We `map` the function above using our aggregator to create a tracer generator."
      ]
    },
    {
      "cell_type": "code",
      "metadata": {},
      "source": [
        "tracer_gen = agg.map(func=make_tracer_generator)"
      ],
      "outputs": [],
      "execution_count": null
    },
    {
      "cell_type": "markdown",
      "metadata": {},
      "source": [
        "We can now iterate over our tracer generator to make the plots we desire."
      ]
    },
    {
      "cell_type": "code",
      "metadata": {},
      "source": [
        "grid = al.Grid2D.uniform(shape_native=(100, 100), pixel_scales=0.1)\n",
        "\n",
        "for tracer in tracer_gen:\n",
        "    tracer_plotter = aplt.TracerPlotter(tracer=tracer, grid=grid)\n",
        "    tracer_plotter.figures_2d(convergence=True, potential=True)\n"
      ],
      "outputs": [],
      "execution_count": null
    },
    {
      "cell_type": "markdown",
      "metadata": {},
      "source": [
        "Now lets use a generator to print the Einstein Mass of every tracer."
      ]
    },
    {
      "cell_type": "code",
      "metadata": {},
      "source": [
        "\n",
        "\n",
        "def print_max_log_likelihood_mass(fit):\n",
        "    samples = fit.value(name=\"samples\")\n",
        "\n",
        "    instance = samples.max_log_likelihood()\n",
        "\n",
        "    tracer = al.Tracer(galaxies=instance.galaxies)\n",
        "\n",
        "    einstein_mass = tracer.galaxies[0].einstein_mass_angular_from(grid=grid)\n",
        "\n",
        "    print(\"Einstein Mass (angular units) = \", einstein_mass)\n",
        "\n",
        "    cosmology = al.cosmo.Planck15()\n",
        "\n",
        "    critical_surface_density = (\n",
        "        cosmology.critical_surface_density_between_redshifts_from(\n",
        "            redshift_0=fit.instance.galaxies.lens.redshift,\n",
        "            redshift_1=fit.instance.galaxies.source.redshift,\n",
        "        )\n",
        "    )\n",
        "\n",
        "    einstein_mass_kpc = einstein_mass * critical_surface_density\n",
        "\n",
        "    print(\"Einstein Mass (kpc) = \", einstein_mass_kpc)\n",
        "    print(\"Einstein Mass (kpc) = \", \"{:.4e}\".format(einstein_mass_kpc))\n",
        "\n",
        "\n",
        "print()\n",
        "print(\"Maximum Log Likelihood Lens Einstein Masses:\")\n",
        "agg.map(func=print_max_log_likelihood_mass)\n"
      ],
      "outputs": [],
      "execution_count": null
    },
    {
      "cell_type": "markdown",
      "metadata": {},
      "source": [
        "__Manual Dataset via List (Optional)__\n",
        "\n",
        "I now illustrate how one can create fits via lists. This does not offer any new functionality that the `FitImagingAgg`\n",
        "object above does not provide, and is here for illustrative purposes. It is therefore optional.\n",
        "\n",
        "Lets create a list of the imaging dataset of every lens our search fitted. \n",
        "\n",
        "The individual masked `data`, `noise_map` and `psf` are stored in the database, as opposed to the `Imaging` object, \n",
        "which saves of hard-disk space used. Thus, we need to create the `Imaging` object ourselves to inspect it. \n",
        "\n",
        "They are stored as .fits HDU objects, which can be converted to `Array2D` and `Kernel2D` objects via the\n",
        "`from_primary_hdu` method."
      ]
    },
    {
      "cell_type": "code",
      "metadata": {},
      "source": [
        "data_gen = agg.values(name=\"dataset.data\")\n",
        "noise_map_gen = agg.values(name=\"dataset.noise_map\")\n",
        "psf_gen = agg.values(name=\"dataset.psf\")\n",
        "settings_dataset_gen = agg.values(name=\"dataset.settings\")\n",
        "\n",
        "for data, noise_map, psf, settings_dataset in zip(\n",
        "    data_gen, noise_map_gen, psf_gen, settings_dataset_gen\n",
        "):\n",
        "    data = al.Array2D.from_primary_hdu(primary_hdu=data)\n",
        "    noise_map = al.Array2D.from_primary_hdu(primary_hdu=noise_map)\n",
        "    psf = al.Kernel2D.from_primary_hdu(primary_hdu=psf)\n",
        "\n",
        "    dataset = al.Imaging(\n",
        "        data=data,\n",
        "        noise_map=noise_map,\n",
        "        psf=psf,\n",
        "        settings=settings_dataset,\n",
        "        pad_for_convolver=True,\n",
        "        check_noise_map=False,\n",
        "    )\n",
        "\n",
        "    dataset_plotter = aplt.ImagingPlotter(dataset=dataset)\n",
        "    dataset_plotter.subplot_dataset()"
      ],
      "outputs": [],
      "execution_count": null
    },
    {
      "cell_type": "markdown",
      "metadata": {},
      "source": [
        "__Manual Fit via Generators (Optional / Advanced)__\n",
        "\n",
        "I now illustrate how one can create fits via generators. There may be occasions where the functionality of \n",
        "the `FitImagingAgg` object is insufficient to perform the calculation you require. You can therefore write your own \n",
        "generator to do this.\n",
        "\n",
        "This section is optional, and I advise you only follow it if the `FitImagingAgg` object is sufficient for your use-case."
      ]
    },
    {
      "cell_type": "code",
      "metadata": {},
      "source": [
        "\n",
        "\n",
        "def make_imaging_gen(fit):\n",
        "    data = al.Array2D.from_primary_hdu(primary_hdu=fit.value(name=\"dataset.data\"))\n",
        "    noise_map = al.Array2D.from_primary_hdu(\n",
        "        primary_hdu=fit.value(name=\"dataset.noise_map\")\n",
        "    )\n",
        "    psf = al.Kernel2D.from_primary_hdu(primary_hdu=fit.value(name=\"dataset.psf\"))\n",
        "    settings_dataset = fit.value(name=\"dataset.settings\")\n",
        "\n",
        "    dataset = al.Imaging(\n",
        "        data=data,\n",
        "        noise_map=noise_map,\n",
        "        psf=psf,\n",
        "        settings=settings_dataset,\n",
        "        pad_for_convolver=True,\n",
        "        check_noise_map=False,\n",
        "    )\n",
        "\n",
        "    return dataset\n",
        "\n",
        "\n",
        "imaging_gen = agg.map(func=make_imaging_gen)\n",
        "\n",
        "for dataset in imaging_gen:\n",
        "    dataset_plotter = aplt.ImagingPlotter(dataset=dataset)\n",
        "    dataset_plotter.subplot_dataset()\n"
      ],
      "outputs": [],
      "execution_count": null
    },
    {
      "cell_type": "markdown",
      "metadata": {},
      "source": [
        "We now have access to the `Imaging` data we used to perform a model-fit, and the results of that model-fit in the form\n",
        "of a `Samples` object. \n",
        "\n",
        "We can therefore use the database to create a `FitImaging` of the maximum log-likelihood model of every model to its\n",
        "corresponding dataset, via the following generator:"
      ]
    },
    {
      "cell_type": "code",
      "metadata": {},
      "source": [
        "\n",
        "\n",
        "def make_fit_imaging_generator(fit):\n",
        "    dataset = make_imaging_gen(fit=fit)\n",
        "\n",
        "    tracer = al.Tracer(galaxies=fit.instance.galaxies)\n",
        "\n",
        "    return al.FitImaging(dataset=dataset, tracer=tracer)\n",
        "\n",
        "\n",
        "fit_imaging_gen = agg.map(func=make_fit_imaging_generator)\n",
        "\n",
        "for fit in fit_imaging_gen:\n",
        "    fit_plotter = aplt.FitImagingPlotter(fit=fit)\n",
        "    fit_plotter.subplot_fit()"
      ],
      "outputs": [],
      "execution_count": null
    },
    {
      "cell_type": "markdown",
      "metadata": {},
      "source": [
        "The `AnalysisImaging` object has a `settings_inversion` attribute, which customizes how the inversion fits the \n",
        "data. The generator above uses the `settings` of the object that were used by the model-fit. \n",
        "\n",
        "These settings objected are contained in the database and can therefore also be passed to the `FitImaging`."
      ]
    },
    {
      "cell_type": "code",
      "metadata": {},
      "source": [
        "\n",
        "\n",
        "def make_fit_imaging_generator(fit):\n",
        "    dataset = make_imaging_gen(fit=fit)\n",
        "\n",
        "    settings_inversion = fit.value(name=\"settings_inversion\")\n",
        "\n",
        "    tracer = al.Tracer(galaxies=fit.instance.galaxies)\n",
        "\n",
        "    return al.FitImaging(\n",
        "        dataset=dataset,\n",
        "        tracer=tracer,\n",
        "        settings_inversion=settings_inversion,\n",
        "    )\n",
        "\n",
        "\n",
        "fit_imaging_gen = agg.map(func=make_fit_imaging_generator)\n",
        "\n",
        "for fit in fit_imaging_gen:\n",
        "    fit_plotter = aplt.FitImagingPlotter(fit=fit)\n",
        "    fit_plotter.subplot_fit()\n"
      ],
      "outputs": [],
      "execution_count": null
    },
    {
      "cell_type": "markdown",
      "metadata": {},
      "source": [
        "__Errors: Axis Ratio__\n",
        "\n",
        "To begin, lets compute the axis ratio of a model, including the errors on the axis ratio. In the previous tutorials, \n",
        "we saw that the errors on a quantity like the ell_comps is simple, because it was sampled by the non-linear \n",
        "search. Thus, to get their we can uses the Samples object to simply marginalize over all over parameters via the 1D \n",
        "Probability Density Function (PDF).\n",
        "\n",
        "But what if we want the errors on the axis-ratio? This wasn`t a free parameter in our model so we can`t just \n",
        "marginalize over all other parameters.\n",
        "\n",
        "Instead, we need to compute the axis-ratio of every model sampled by the non-linear search and from this determine \n",
        "the PDF of the axis-ratio. When combining the different axis-ratios we weight each value by its `weight`. For Nautilus,\n",
        "the nested sampler we fitted our aggregator sample with, this down weight_list the model which gave lower likelihood \n",
        "fits. For other non-linear search methods (e.g. MCMC) the weight_list can take on a different meaning but can still be \n",
        "used for combining different model results.\n",
        "\n",
        "Below, we get an instance of every Nautilus sample using the `Samples`, compute that models axis-ratio, store them in a \n",
        "list and find the value via the PDF and quantile method.\n",
        "\n",
        "Now, we iterate over each Samples object, using every model instance to compute its axis-ratio. We combine these \n",
        "axis-ratios with the samples weight_list to give us the weighted mean axis-ratio and error.\n",
        "\n",
        "To do this, we again use a generator. Whislt the axis-ratio is a fairly light-weight value, and this could be\n",
        "performed using a list without crippling your comptuer`s memory, for other quantities this is not the case. Thus, for\n",
        "computing derived quantities it is good practise to always use a generator.\n",
        "\n",
        "[Commented out but should work fine if you uncomment it]"
      ]
    },
    {
      "cell_type": "code",
      "metadata": {},
      "source": [
        "\n",
        "# from autofit.non_linear.samples.pdf import quantile\n",
        "# import math\n",
        "#\n",
        "# sigma = 3.0\n",
        "#\n",
        "# low_limit = (1 - math.erf(sigma / math.sqrt(2))) / 2\n",
        "#\n",
        "#\n",
        "# def axis_ratio_error_from_agg_obj(fit):\n",
        "#     samples = fit.value(name=\"samples\")\n",
        "#\n",
        "#     axis_ratios = []\n",
        "#     weight_list = []\n",
        "#\n",
        "#     for sample_index in range(samples.total_samples):\n",
        "#         weight = samples.sample_list[sample_index].weight\n",
        "#\n",
        "#         if weight > 1e-4:\n",
        "#\n",
        "#             instance = samples.from_sample_index(sample_index=sample_index)\n",
        "#\n",
        "#             axis_ratio = al.convert.axis_ratio_from(\n",
        "#                 ell_comps=instance.galaxies.lens.mass.ell_comps\n",
        "#             )\n",
        "#\n",
        "#             axis_ratios.append(axis_ratio)\n",
        "#             weight_list.append(weight)\n",
        "#\n",
        "#     median_axis_ratio = quantile(x=axis_ratios, q=0.5, weights=weight_list)[0]\n",
        "#\n",
        "#     lower_axis_ratio = quantile(x=axis_ratios, q=low_limit, weights=weight_list)\n",
        "#\n",
        "#     upper_axis_ratio = quantile(x=axis_ratios, q=1 - low_limit, weights=weight_list)\n",
        "#\n",
        "#     return median_axis_ratio, lower_axis_ratio, upper_axis_ratio\n",
        "#\n",
        "#\n",
        "# axis_ratio_values = list(agg.map(func=axis_ratio_error_from_agg_obj))\n",
        "# median_axis_ratio_list = [value[0] for value in axis_ratio_values]\n",
        "# lower_axis_ratio_list = [value[1] for value in axis_ratio_values]\n",
        "# upper_axis_ratio_list = [value[2] for value in axis_ratio_values]\n",
        "#\n",
        "# print(\"Axis Ratios:\")\n",
        "# print(median_axis_ratio_list)\n",
        "#\n",
        "# print(\"Axis Ratio Errors:\")\n",
        "# print(lower_axis_ratio_list)\n",
        "# print(upper_axis_ratio_list)"
      ],
      "outputs": [],
      "execution_count": null
    },
    {
      "cell_type": "markdown",
      "metadata": {},
      "source": [
        "Fin."
      ]
    },
    {
      "cell_type": "code",
      "metadata": {},
      "source": [],
      "outputs": [],
      "execution_count": null
    }
  ],
  "metadata": {
    "anaconda-cloud": {},
    "kernelspec": {
      "display_name": "Python 3",
      "language": "python",
      "name": "python3"
    },
    "language_info": {
      "codemirror_mode": {
        "name": "ipython",
        "version": 3
      },
      "file_extension": ".py",
      "mimetype": "text/x-python",
      "name": "python",
      "nbconvert_exporter": "python",
      "pygments_lexer": "ipython3",
      "version": "3.6.1"
    }
  },
  "nbformat": 4,
  "nbformat_minor": 4
}