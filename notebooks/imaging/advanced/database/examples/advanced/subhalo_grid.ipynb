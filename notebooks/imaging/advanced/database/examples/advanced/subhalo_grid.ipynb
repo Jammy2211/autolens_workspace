{
  "cells": [
    {
      "cell_type": "markdown",
      "metadata": {},
      "source": [
        "Database: Subhalo Grid\n",
        "======================\n",
        "\n",
        "Dark matter (DM) subhalo analysis can use a grid-search of non-linear searches.\n",
        "\n",
        "Each cell on this grid fits a DM subhalo whose center is confined to a small 2D segment of the image-plane.\n",
        "\n",
        "This tutorial shows how to manipulate the results that come out of this grid-search of non-linear searches\n",
        "via the database.\n",
        "\n",
        "It follows on from the script `autolens_workspace/*/imaging/results/advanced/result_subhalo_grid.ipynb`, therefore\n",
        "you should read that first if you have not."
      ]
    },
    {
      "cell_type": "code",
      "metadata": {},
      "source": [
        "%matplotlib inline\n",
        "from pyprojroot import here\n",
        "workspace_path = str(here())\n",
        "%cd $workspace_path\n",
        "print(f\"Working Directory has been set to `{workspace_path}`\")\n",
        "\n",
        "import os\n",
        "import sys\n",
        "from os import path\n",
        "import autofit as af\n",
        "import autolens as al\n",
        "import autolens.plot as aplt"
      ],
      "outputs": [],
      "execution_count": null
    },
    {
      "cell_type": "markdown",
      "metadata": {},
      "source": [
        "__Dataset + Masking__ \n",
        "\n",
        "Load, plot and mask the `Imaging` data."
      ]
    },
    {
      "cell_type": "code",
      "metadata": {},
      "source": [
        "dataset_name = \"dark_matter_subhalo\"\n",
        "dataset_path = path.join(\"dataset\", \"imaging\", dataset_name)\n",
        "\n",
        "dataset = al.Imaging.from_fits(\n",
        "    data_path=path.join(dataset_path, \"data.fits\"),\n",
        "    noise_map_path=path.join(dataset_path, \"noise_map.fits\"),\n",
        "    psf_path=path.join(dataset_path, \"psf.fits\"),\n",
        "    pixel_scales=0.05,\n",
        ")\n",
        "\n",
        "mask = al.Mask2D.circular(\n",
        "    shape_native=dataset.shape_native, pixel_scales=dataset.pixel_scales, radius=3.0\n",
        ")\n",
        "\n",
        "dataset = dataset.apply_mask(mask=mask)\n",
        "\n",
        "dataset_plotter = aplt.ImagingPlotter(dataset=dataset)\n",
        "dataset_plotter.subplot_dataset()"
      ],
      "outputs": [],
      "execution_count": null
    },
    {
      "cell_type": "markdown",
      "metadata": {},
      "source": [
        "__Database__\n",
        "\n",
        "Load the database. If the file `subhalo_grid.sqlite` does not exist, it will be made by the method below, so its fine \n",
        "if you run the code below before the file exists."
      ]
    },
    {
      "cell_type": "code",
      "metadata": {},
      "source": [
        "database_file = \"subhalo_grid.sqlite\""
      ],
      "outputs": [],
      "execution_count": null
    },
    {
      "cell_type": "markdown",
      "metadata": {},
      "source": [
        "Remove database if you are making a new build (you could delete it manually instead). \n",
        "\n",
        "Building the database is slow, so only do this when you redownload results. "
      ]
    },
    {
      "cell_type": "code",
      "metadata": {},
      "source": [
        "try:\n",
        "    os.remove(path.join(\"output\", database_file))\n",
        "except FileNotFoundError:\n",
        "    pass"
      ],
      "outputs": [],
      "execution_count": null
    },
    {
      "cell_type": "markdown",
      "metadata": {},
      "source": [
        "Load the database. If the file `subhalo_grid.sqlite` does not exist, it will be made by the method below, so its fine if\n",
        "you run the code below before the file exists."
      ]
    },
    {
      "cell_type": "code",
      "metadata": {},
      "source": [
        "agg = af.Aggregator.from_database(filename=database_file, completed_only=False)"
      ],
      "outputs": [],
      "execution_count": null
    },
    {
      "cell_type": "markdown",
      "metadata": {},
      "source": [
        "Add all results in the directory \"output/results/subhalo_grid\" to the database, which we manipulate below via the agg.\n",
        "Avoid rerunning this once the file `subhalo_grid.sqlite` has been built."
      ]
    },
    {
      "cell_type": "code",
      "metadata": {},
      "source": [
        "agg.add_directory(directory=path.join(\"output\", \"results\", \"subhalo_grid\"))"
      ],
      "outputs": [],
      "execution_count": null
    },
    {
      "cell_type": "markdown",
      "metadata": {},
      "source": [
        "__Aggregator Grid Search__\n",
        "\n",
        "By default, the aggregator does not treat the results of a grid-search of non-linear searches in a special way.\n",
        "\n",
        "Therefore, all 4 (2x2) results on your hard-disk can be accessed via the database using the normal aggregator API.\n",
        "\n",
        "However, the `grid_searches()` method can be invoked to create an `AggregatorGroup` object which only contains\n",
        "the results of the grid search and contains bespoke functionality for manipulating them."
      ]
    },
    {
      "cell_type": "code",
      "metadata": {},
      "source": [
        "agg_grid = agg.grid_searches()"
      ],
      "outputs": [],
      "execution_count": null
    },
    {
      "cell_type": "markdown",
      "metadata": {},
      "source": [
        "In this example, we fitted only one dataset, therefore the length of the `agg_grid` is 1 and all generators it\n",
        "create are length 1."
      ]
    },
    {
      "cell_type": "code",
      "metadata": {},
      "source": [
        "print(len(agg_grid))"
      ],
      "outputs": [],
      "execution_count": null
    },
    {
      "cell_type": "markdown",
      "metadata": {},
      "source": [
        "We can extract the best-fit results, corresponding to the grid-cell with the highest overall `log_likelihood`."
      ]
    },
    {
      "cell_type": "code",
      "metadata": {},
      "source": [
        "agg_best_fits = agg_grid.best_fits()"
      ],
      "outputs": [],
      "execution_count": null
    },
    {
      "cell_type": "markdown",
      "metadata": {},
      "source": [
        "This allows us to make a generator of its best-fit results."
      ]
    },
    {
      "cell_type": "code",
      "metadata": {},
      "source": [
        "fit_imaging_agg = al.agg.FitImagingAgg(aggregator=agg_best_fits)\n",
        "fit_imaging_gen = fit_imaging_agg.max_log_likelihood_gen_from()"
      ],
      "outputs": [],
      "execution_count": null
    },
    {
      "cell_type": "markdown",
      "metadata": {},
      "source": [
        "Because only one dataset was fitted in this example, the length of `fit_imaging_gen` is 1 and the code below visualizes\n",
        "just one fit.\n",
        "\n",
        "If fits to multiple dataets were contained in the `output/results/subhalo_grid` directory all of this code would be\n",
        "sufficient to visualize multiple fits."
      ]
    },
    {
      "cell_type": "code",
      "metadata": {},
      "source": [
        "for fit in fit_imaging_gen:\n",
        "    fit_plotter = aplt.FitImagingPlotter(\n",
        "        fit=fit,\n",
        "    )\n",
        "    fit_plotter.subplot_fit()"
      ],
      "outputs": [],
      "execution_count": null
    },
    {
      "cell_type": "markdown",
      "metadata": {},
      "source": [
        "__Subhalo Result__\n",
        "\n",
        "The results of a subhalo grid-search use an instance of the `SubhaloResult` class (see \n",
        "the `autolens_workspace/*/imaging/results/advanced/result_subhalo_grid.ipynb` tutorial).\n",
        "\n",
        "This object is made via the aggregator using generators."
      ]
    },
    {
      "cell_type": "code",
      "metadata": {},
      "source": [
        "for fit_grid, fit_imaging_detect in zip(agg_grid, fit_imaging_gen):\n",
        "    subhalo_search_result = al.subhalo.SubhaloResult(\n",
        "        grid_search_result=fit_grid[\"result\"], fit_agg_no_subhalo=fit_grid.parent\n",
        "    )"
      ],
      "outputs": [],
      "execution_count": null
    },
    {
      "cell_type": "markdown",
      "metadata": {},
      "source": [
        "The tutorial `autolens_workspace/*/imaging/results/advanced/result_subhalo_grid.ipynb` shows examples of manipulating this\n",
        "object, we show one example below which prints the `subhalo_detection_array` of the subhalo search of every\n",
        "dataset fitted (in this case just 1 dataset)."
      ]
    },
    {
      "cell_type": "code",
      "metadata": {},
      "source": [
        "for fit_grid, fit_imaging_detect in zip(agg_grid, fit_imaging_gen):\n",
        "    subhalo_search_result = al.subhalo.SubhaloResult(\n",
        "        grid_search_result=fit_grid[\"result\"], fit_agg_no_subhalo=fit_grid.parent\n",
        "    )\n",
        "\n",
        "    subhalo_detection_array = subhalo_search_result.detection_array_from(\n",
        "        use_log_evidences=True, relative_to_no_subhalo=True\n",
        "    )\n",
        "\n",
        "    print(subhalo_detection_array)"
      ],
      "outputs": [],
      "execution_count": null
    },
    {
      "cell_type": "markdown",
      "metadata": {},
      "source": [
        "__Plot__\n",
        "\n",
        "The `SubhaloPlotter` object can be used for visualizing results via the database."
      ]
    },
    {
      "cell_type": "code",
      "metadata": {},
      "source": [
        "for fit_grid, fit_imaging_detect in zip(agg_grid, fit_imaging_gen):\n",
        "    subhalo_search_result = al.subhalo.SubhaloResult(\n",
        "        grid_search_result=fit_grid[\"result\"], fit_agg_no_subhalo=fit_grid.parent\n",
        "    )\n",
        "\n",
        "    subhalo_plotter = al.subhalo.SubhaloPlotter(\n",
        "        subhalo_result=subhalo_search_result,\n",
        "        fit_imaging_detect=fit_imaging_detect,\n",
        "        use_log_evidences=True,\n",
        "    )\n",
        "\n",
        "    subhalo_plotter.subplot_detection_imaging(remove_zeros=True)\n",
        "    subhalo_plotter.subplot_detection_fits()\n",
        "    subhalo_plotter.figure_with_detection_overlay(image=True, remove_zeros=True)"
      ],
      "outputs": [],
      "execution_count": null
    },
    {
      "cell_type": "markdown",
      "metadata": {},
      "source": [
        "Finish."
      ]
    },
    {
      "cell_type": "code",
      "metadata": {},
      "source": [],
      "outputs": [],
      "execution_count": null
    }
  ],
  "metadata": {
    "anaconda-cloud": {},
    "kernelspec": {
      "display_name": "Python 3",
      "language": "python",
      "name": "python3"
    },
    "language_info": {
      "codemirror_mode": {
        "name": "ipython",
        "version": 3
      },
      "file_extension": ".py",
      "mimetype": "text/x-python",
      "name": "python",
      "nbconvert_exporter": "python",
      "pygments_lexer": "ipython3",
      "version": "3.6.1"
    }
  },
  "nbformat": 4,
  "nbformat_minor": 4
}