{
  "cells": [
    {
      "cell_type": "markdown",
      "metadata": {},
      "source": [
        "Simulator: Sample Double Einstein Ring\n",
        "======================================\n",
        "\n",
        "A double Einstein ring lens is a strong lens system where there are two source galaxies at different redshifts\n",
        "behind the lens galaxy. They appear as two distinct Einstein rings in the image-plane, and can constrain\n",
        "Cosmological parameters in a way single Einstein ring lenses cannot.\n",
        "\n",
        "This script illustrates how to simulate a sample of `Imaging` datasets of double Einstein ring strong lenses, which\n",
        "can easily be used to simulate hundreds or thousands of strong lenses.\n",
        "\n",
        "To simulate the sample of lenses, each lens and source galaxies are set up using the `Model` object which is also used\n",
        "in  the `modeling` scripts. This means that the parameters of each simulated strong lens are drawn from the\n",
        "distributions  defined via priors, which can be customized to simulate a wider range of strong lenses.\n",
        "\n",
        "The sample is used in `autolens_workspace/notebooks/imaging/advanced/hierarchical` to illustrate how a hierarchical\n",
        "model can be fitted to a large sample of double Einstein ring strong lenses in order to improve the constraints on\n",
        "Cosmological parameters.\n",
        "\n",
        "This script uses the signal-to-noise based light profiles described in the\n",
        "script `imaging/simulators/misc/manual_signal_to_noise_ratio.ipynb`, to make it straight forward to ensure the lens\n",
        "and source galaxies are visible in each image.\n",
        "\n",
        "__Model__\n",
        "\n",
        "This script simulates a sample of `Imaging` data of 'galaxy-scale' with a double Einstein ring where:\n",
        "\n",
        " - The first lens galaxy's light is omitted (and is not present in the simulated data).\n",
        " - The first lens galaxy's total mass distribution is an `Isothermal`.\n",
        " - The second lens galaxy / first source galaxy total mass distribution is a `IsothermalSph` and its light is\n",
        " a `SphExp`.\n",
        " - The second source galaxy light profile is a `SphExp`.\n",
        "\n",
        "__Start Here Notebook__\n",
        "\n",
        "If any code in this script is unclear, refer to the `simulators/start_here.ipynb` notebook."
      ]
    },
    {
      "cell_type": "code",
      "metadata": {},
      "source": [
        "%matplotlib inline\n",
        "from pyprojroot import here\n",
        "workspace_path = str(here())\n",
        "%cd $workspace_path\n",
        "print(f\"Working Directory has been set to `{workspace_path}`\")\n",
        "\n",
        "from os import path\n",
        "import autofit as af\n",
        "import autolens as al\n",
        "import autolens.plot as aplt"
      ],
      "outputs": [],
      "execution_count": null
    },
    {
      "cell_type": "markdown",
      "metadata": {},
      "source": [
        "__Dataset Paths__\n",
        "\n",
        "The `dataset_type` describes the type of data being simulated (in this case, `Imaging` data) and `dataset_name`\n",
        "gives it a descriptive name. "
      ]
    },
    {
      "cell_type": "code",
      "metadata": {},
      "source": [
        "dataset_label = \"samples\"\n",
        "dataset_type = \"imaging\"\n",
        "dataset_sample_name = \"double_einstein_ring\""
      ],
      "outputs": [],
      "execution_count": null
    },
    {
      "cell_type": "markdown",
      "metadata": {},
      "source": [
        "The path where the dataset will be output, which in this case is:\n",
        "`/autolens_workspace/dataset/imaging/sample__mass_sis_0`"
      ]
    },
    {
      "cell_type": "code",
      "metadata": {},
      "source": [
        "dataset_path = path.join(\"dataset\", dataset_type, dataset_label, dataset_sample_name)"
      ],
      "outputs": [],
      "execution_count": null
    },
    {
      "cell_type": "markdown",
      "metadata": {},
      "source": [
        "__Simulate__\n",
        "\n",
        "Simulate the image using a `Grid2D` with the `OverSamplingIterate` object."
      ]
    },
    {
      "cell_type": "code",
      "metadata": {},
      "source": [
        "grid = al.Grid2D.uniform(\n",
        "    shape_native=(150, 150),\n",
        "    pixel_scales=0.1,\n",
        "    over_sampling=al.OverSamplingIterate(\n",
        "        fractional_accuracy=0.9999, sub_steps=[2, 4, 8, 16]\n",
        "    ),\n",
        ")\n",
        "\n",
        "grid = al.Grid2D.uniform(shape_native=(150, 150), pixel_scales=0.1)"
      ],
      "outputs": [],
      "execution_count": null
    },
    {
      "cell_type": "markdown",
      "metadata": {},
      "source": [
        "Simulate a simple Gaussian PSF for the image."
      ]
    },
    {
      "cell_type": "code",
      "metadata": {},
      "source": [
        "psf = al.Kernel2D.from_gaussian(\n",
        "    shape_native=(11, 11), sigma=0.2, pixel_scales=grid.pixel_scales\n",
        ")"
      ],
      "outputs": [],
      "execution_count": null
    },
    {
      "cell_type": "markdown",
      "metadata": {},
      "source": [
        "To simulate the `Imaging` dataset we first create a simulator, which defines the exposure time, background sky,\n",
        "noise levels and psf of the dataset that is simulated."
      ]
    },
    {
      "cell_type": "code",
      "metadata": {},
      "source": [
        "simulator = al.SimulatorImaging(\n",
        "    exposure_time=300.0, psf=psf, background_sky_level=0.1, add_poisson_noise=True\n",
        ")"
      ],
      "outputs": [],
      "execution_count": null
    },
    {
      "cell_type": "markdown",
      "metadata": {},
      "source": [
        "__Sample Model Distributions__\n",
        "\n",
        "To simulate a sample, we draw random instances of lens and source galaxies where the parameters of their light and \n",
        "mass profiles are drawn from distributions. These distributions are defined via priors -- the same objects that are used \n",
        "when defining the priors of each parameter for a non-linear search.\n",
        "\n",
        "Below, we define the distributions the lens galaxy's bulge light and mass profiles are drawn from alongside\n",
        "the soruce's bulge. "
      ]
    },
    {
      "cell_type": "code",
      "metadata": {},
      "source": [
        "\n",
        "mass = af.Model(al.mp.Isothermal)\n",
        "\n",
        "mass.centre = (0.0, 0.0)\n",
        "mass.einstein_radius = af.GaussianPrior(mean=1.8, sigma=0.3, lower_limit=0.0)\n",
        "\n",
        "lens = af.Model(al.Galaxy, redshift=0.5, mass=mass)\n",
        "\n",
        "bulge = af.Model(al.lp_snr.ExponentialSph)\n",
        "\n",
        "bulge.centre_0 = af.GaussianPrior(mean=0.0, sigma=0.1)\n",
        "bulge.centre_1 = af.GaussianPrior(mean=0.0, sigma=0.1)\n",
        "bulge.signal_to_noise_ratio = af.UniformPrior(lower_limit=20.0, upper_limit=30.0)\n",
        "bulge.effective_radius = af.GaussianPrior(\n",
        "    mean=0.2, sigma=0.2, lower_limit=0.01, upper_limit=3.0\n",
        ")\n",
        "\n",
        "mass = af.Model(al.mp.IsothermalSph)\n",
        "\n",
        "mass.centre_0 = bulge.centre_0\n",
        "mass.centre_1 = bulge.centre_1\n",
        "\n",
        "mass.einstein_radius = af.UniformPrior(lower_limit=0.3, upper_limit=0.5)\n",
        "\n",
        "source_0 = af.Model(al.Galaxy, redshift=1.0, bulge=bulge, mass=mass)\n",
        "source_1 = af.Model(al.Galaxy, redshift=2.0, bulge=bulge)"
      ],
      "outputs": [],
      "execution_count": null
    },
    {
      "cell_type": "markdown",
      "metadata": {},
      "source": [
        "__Sample Instances__\n",
        "\n",
        "Within a for loop, we will now generate instances of the lens and source galaxies using the `Model`'s defined above.\n",
        "This loop will run for `total_datasets` iterations, which sets the number of lenses that are simulated.\n",
        "\n",
        "Each iteration of the for loop will then create a tracer and use this to simulate the imaging dataset."
      ]
    },
    {
      "cell_type": "code",
      "metadata": {},
      "source": [
        "total_datasets = 10\n",
        "\n",
        "for sample_index in range(total_datasets):\n",
        "    dataset_sample_path = path.join(dataset_path, f\"dataset_{sample_index}\")\n",
        "\n",
        "    lens_galaxy = lens.random_instance_from_priors_within_limits()\n",
        "    source_galaxy_0 = source_0.random_instance_from_priors_within_limits()\n",
        "    source_galaxy_1 = source_1.random_instance_from_priors_within_limits()\n",
        "\n",
        "    \"\"\"\n",
        "    __Ray Tracing__\n",
        "    \n",
        "    Use the sample's lens and source galaxies to setup a tracer, which will generate the image for the \n",
        "    simulated `Imaging` dataset.\n",
        "    \n",
        "    The steps below are expanded on in other `imaging/simulator` scripts, so check them out if anything below is unclear.\n",
        "    \"\"\"\n",
        "    tracer = al.Tracer(galaxies=[lens_galaxy, source_galaxy_0, source_galaxy_1])\n",
        "\n",
        "    tracer_plotter = aplt.TracerPlotter(tracer=tracer, grid=grid)\n",
        "    tracer_plotter.figures_2d(image=True)\n",
        "\n",
        "    dataset = simulator.via_tracer_from(tracer=tracer, grid=grid)\n",
        "\n",
        "    dataset_plotter = aplt.ImagingPlotter(dataset=dataset)\n",
        "    dataset_plotter.subplot_dataset()\n",
        "\n",
        "    \"\"\"\n",
        "    __Output__\n",
        "    \n",
        "    Output the simulated dataset to the dataset path as .fits files.\n",
        "    \n",
        "    This uses the updated `dataset_path_sample` which outputs this sample lens to a unique folder.\n",
        "    \"\"\"\n",
        "    dataset.output_to_fits(\n",
        "        data_path=path.join(dataset_sample_path, \"data.fits\"),\n",
        "        psf_path=path.join(dataset_sample_path, \"psf.fits\"),\n",
        "        noise_map_path=path.join(dataset_sample_path, \"noise_map.fits\"),\n",
        "        overwrite=True,\n",
        "    )\n",
        "\n",
        "    \"\"\"\n",
        "    __Visualize__\n",
        "    \n",
        "    Output a subplot of the simulated dataset, the image and the tracer's quantities to the dataset path as .png files.\n",
        "\n",
        "    For a faster run time, the tracer visualization uses the binned grid instead of the iterative grid.\n",
        "    \"\"\"\n",
        "    mat_plot = aplt.MatPlot2D(\n",
        "        output=aplt.Output(path=dataset_sample_path, format=\"png\")\n",
        "    )\n",
        "\n",
        "    dataset_plotter = aplt.ImagingPlotter(dataset=dataset, mat_plot_2d=mat_plot)\n",
        "    dataset_plotter.subplot_dataset()\n",
        "    dataset_plotter.figures_2d(data=True)\n",
        "\n",
        "    tracer_plotter = aplt.TracerPlotter(tracer=tracer, grid=grid, mat_plot_2d=mat_plot)\n",
        "    tracer_plotter.subplot_tracer()\n",
        "    tracer_plotter.subplot_galaxies_images()\n",
        "\n",
        "    \"\"\"\n",
        "    __Tracer json__\n",
        "\n",
        "    Save the `Tracer` in the dataset folder as a .json file, ensuring the true light profiles, mass profiles and galaxies\n",
        "    are safely stored and available to check how the dataset was simulated in the future. \n",
        "    \n",
        "    This can be loaded via the method `tracer = al.from_json()`.\n",
        "    \"\"\"\n",
        "    al.output_to_json(\n",
        "        obj=tracer,\n",
        "        file_path=path.join(dataset_sample_path, \"tracer.json\"),\n",
        "    )\n",
        "\n",
        "    \"\"\"\n",
        "    The dataset can be viewed in the \n",
        "    folder `autolens_workspace/imaging/sample/mass_sie__source_sersic_{sample_index]`.\n",
        "    \"\"\"\n"
      ],
      "outputs": [],
      "execution_count": null
    }
  ],
  "metadata": {
    "anaconda-cloud": {},
    "kernelspec": {
      "display_name": "Python 3",
      "language": "python",
      "name": "python3"
    },
    "language_info": {
      "codemirror_mode": {
        "name": "ipython",
        "version": 3
      },
      "file_extension": ".py",
      "mimetype": "text/x-python",
      "name": "python",
      "nbconvert_exporter": "python",
      "pygments_lexer": "ipython3",
      "version": "3.6.1"
    }
  },
  "nbformat": 4,
  "nbformat_minor": 4
}