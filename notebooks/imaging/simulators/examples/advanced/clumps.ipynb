{
  "cells": [
    {
      "cell_type": "markdown",
      "metadata": {},
      "source": [
        "Simulator: Clumps\n",
        "=================\n",
        "\n",
        "Certain lenses have small galaxies within their Einstein radius, or nearby the lensed source emission. \n",
        "\n",
        "The emission of these galaxies may overlap the lensed source emission, and their mass may contribute to the lensing \n",
        "of the source.\n",
        "\n",
        "We may therefore wish to include these additional galaxies in the lens model, as:\n",
        "\n",
        " - Light profiles which fit and subtract the emission of these nearby galaxies.\n",
        " - Mass profiles which account for their lensing effects via ray-tracing.\n",
        " \n",
        "This uses the **PyAutoLens** clump API, which is illustrated in \n",
        "the  script `autolens_workspace/*/imaging/modeling/features/clumps.py`.\n",
        "\n",
        "This script simulates an imaging dataset which includes line-of-sight galaxies / clumps near the lens and source \n",
        "galaxies. This is used to illustrate the clump API in the script above.\n",
        "\n",
        "__Model__\n",
        "\n",
        "This script simulates `Imaging` of a 'galaxy-scale' strong lens where:\n",
        "\n",
        " - The lens galaxy's total mass distribution is an PowerLawBroken.\n",
        " - The source galaxy's light is an `Sersic`.\n",
        " - There are two clump objects whose light nearly obscures that of the strong lens and mass perturbs the lensed\n",
        " source's emission.\n",
        "\n",
        "__Other Scripts__\n",
        "\n",
        "This dataset is used in the following scripts:\n",
        "\n",
        " `autolens_workspace/*/imaging/data_preparation/examples/optional/scaled_dataset.ipynb`\n",
        "\n",
        "To illustrate how to subtract and remove the light of clump objects in real strong lensing data, so that it does\n",
        "not impact the lens model.\n",
        "\n",
        " `autolens_workspace/*/imaging/data_preparation/examples/optional/clump_centres.ipynb`\n",
        "\n",
        "To illustrate how mark clump centres on a dataset so they can be used in the lens model.\n",
        "\n",
        " `autolens_workspace/*/imaging/modeling/features/clumps.ipynb`\n",
        "\n",
        "To illustrate how compose and fit a lens model which includes the clumps as light and mass profiles.\n",
        "\n",
        "__Start Here Notebook__\n",
        "\n",
        "If any code in this script is unclear, refer to the `simulators/start_here.ipynb` notebook."
      ]
    },
    {
      "cell_type": "code",
      "metadata": {},
      "source": [
        "from pyprojroot import here\n",
        "workspace_path = str(here())\n",
        "%cd $workspace_path\n",
        "print(f\"Working Directory has been set to `{workspace_path}`\")\n",
        "\n",
        "from os import path\n",
        "import autolens as al\n",
        "import autolens.plot as aplt"
      ],
      "outputs": [],
      "execution_count": null
    },
    {
      "cell_type": "markdown",
      "metadata": {},
      "source": [
        "__Dataset Paths__\n",
        "\n",
        "The `dataset_type` describes the type of data being simulated (in this case, `Imaging` data) and `dataset_name`\n",
        "gives it a descriptive name. "
      ]
    },
    {
      "cell_type": "code",
      "metadata": {},
      "source": [
        "dataset_type = \"imaging\"\n",
        "dataset_name = \"clumps\"\n",
        "dataset_path = path.join(\"dataset\", dataset_type, dataset_name)"
      ],
      "outputs": [],
      "execution_count": null
    },
    {
      "cell_type": "markdown",
      "metadata": {},
      "source": [
        "__Simulate__\n",
        "\n",
        "Simulate the image using a `Grid2D` with the `OverSamplingIterate` object."
      ]
    },
    {
      "cell_type": "code",
      "metadata": {},
      "source": [
        "grid = al.Grid2D.uniform(\n",
        "    shape_native=(200, 200),\n",
        "    pixel_scales=0.1,\n",
        "    over_sampling=al.OverSamplingIterate(\n",
        "        fractional_accuracy=0.9999, sub_steps=[2, 4, 8, 16]\n",
        "    ),\n",
        ")"
      ],
      "outputs": [],
      "execution_count": null
    },
    {
      "cell_type": "markdown",
      "metadata": {},
      "source": [
        "Simulate a simple Gaussian PSF for the image."
      ]
    },
    {
      "cell_type": "code",
      "metadata": {},
      "source": [
        "psf = al.Kernel2D.from_gaussian(\n",
        "    shape_native=(11, 11), sigma=0.1, pixel_scales=grid.pixel_scales\n",
        ")"
      ],
      "outputs": [],
      "execution_count": null
    },
    {
      "cell_type": "markdown",
      "metadata": {},
      "source": [
        "Create the simulator for the imaging data, which defines the exposure time, background sky, noise levels and psf."
      ]
    },
    {
      "cell_type": "code",
      "metadata": {},
      "source": [
        "simulator = al.SimulatorImaging(\n",
        "    exposure_time=300.0, psf=psf, background_sky_level=0.1, add_poisson_noise=True\n",
        ")"
      ],
      "outputs": [],
      "execution_count": null
    },
    {
      "cell_type": "markdown",
      "metadata": {},
      "source": [
        "Setup the lens galaxy's light, mass and source galaxy light for this simulated lens.\n",
        "\n",
        "This includes two clump objects, which must be modeled / masked / have their noise-map increased in preprocessing to \n",
        "ensure they do not impact the fit."
      ]
    },
    {
      "cell_type": "code",
      "metadata": {},
      "source": [
        "clump_0_centre = (1.0, 3.5)\n",
        "\n",
        "clump_0 = al.Galaxy(\n",
        "    redshift=0.5,\n",
        "    light=al.lp.ExponentialSph(\n",
        "        centre=clump_0_centre, intensity=0.8, effective_radius=0.5\n",
        "    ),\n",
        "    mass=al.mp.IsothermalSph(centre=clump_0_centre, einstein_radius=0.1),\n",
        ")\n",
        "\n",
        "clump_1_centre = (-2.0, -3.5)\n",
        "\n",
        "clump_1 = al.Galaxy(\n",
        "    redshift=0.5,\n",
        "    light=al.lp.ExponentialSph(\n",
        "        centre=clump_1_centre, intensity=0.5, effective_radius=0.8\n",
        "    ),\n",
        "    mass=al.mp.IsothermalSph(centre=clump_1_centre, einstein_radius=0.2),\n",
        ")\n",
        "\n",
        "lens_galaxy = al.Galaxy(\n",
        "    redshift=0.5,\n",
        "    bulge=al.lp.Sersic(\n",
        "        centre=(0.0, 0.0),\n",
        "        ell_comps=al.convert.ell_comps_from(axis_ratio=0.9, angle=45.0),\n",
        "        intensity=1.0,\n",
        "        effective_radius=0.8,\n",
        "        sersic_index=4.0,\n",
        "    ),\n",
        "    mass=al.mp.Isothermal(\n",
        "        centre=(0.0, 0.0),\n",
        "        einstein_radius=1.6,\n",
        "        ell_comps=al.convert.ell_comps_from(axis_ratio=0.8, angle=45.0),\n",
        "    ),\n",
        ")\n",
        "\n",
        "source_galaxy = al.Galaxy(\n",
        "    redshift=1.0,\n",
        "    bulge=al.lp.Sersic(\n",
        "        centre=(0.1, 0.1),\n",
        "        ell_comps=al.convert.ell_comps_from(axis_ratio=0.8, angle=60.0),\n",
        "        intensity=0.3,\n",
        "        effective_radius=1.0,\n",
        "        sersic_index=2.5,\n",
        "    ),\n",
        ")"
      ],
      "outputs": [],
      "execution_count": null
    },
    {
      "cell_type": "markdown",
      "metadata": {},
      "source": [
        "Use these galaxies to setup a tracer, which will generate the image for the simulated `Imaging` dataset."
      ]
    },
    {
      "cell_type": "code",
      "metadata": {},
      "source": [
        "tracer = al.Tracer(galaxies=[lens_galaxy, clump_0, clump_1, source_galaxy])"
      ],
      "outputs": [],
      "execution_count": null
    },
    {
      "cell_type": "markdown",
      "metadata": {},
      "source": [
        "Lets look at the tracer`s image, this is the image we'll be simulating."
      ]
    },
    {
      "cell_type": "code",
      "metadata": {},
      "source": [
        "tracer_plotter = aplt.TracerPlotter(tracer=tracer, grid=grid)\n",
        "tracer_plotter.figures_2d(image=True)"
      ],
      "outputs": [],
      "execution_count": null
    },
    {
      "cell_type": "markdown",
      "metadata": {},
      "source": [
        "Pass the simulator a tracer, which creates the image which is simulated as an imaging dataset."
      ]
    },
    {
      "cell_type": "code",
      "metadata": {},
      "source": [
        "dataset = simulator.via_tracer_from(tracer=tracer, grid=grid)"
      ],
      "outputs": [],
      "execution_count": null
    },
    {
      "cell_type": "markdown",
      "metadata": {},
      "source": [
        "Plot the simulated `Imaging` dataset before outputting it to fits."
      ]
    },
    {
      "cell_type": "code",
      "metadata": {},
      "source": [
        "dataset_plotter = aplt.ImagingPlotter(dataset=dataset)\n",
        "dataset_plotter.subplot_dataset()"
      ],
      "outputs": [],
      "execution_count": null
    },
    {
      "cell_type": "markdown",
      "metadata": {},
      "source": [
        "__Output__\n",
        "\n",
        "Output the simulated dataset to the dataset path as .fits files."
      ]
    },
    {
      "cell_type": "code",
      "metadata": {},
      "source": [
        "dataset.output_to_fits(\n",
        "    data_path=path.join(dataset_path, \"data.fits\"),\n",
        "    psf_path=path.join(dataset_path, \"psf.fits\"),\n",
        "    noise_map_path=path.join(dataset_path, \"noise_map.fits\"),\n",
        "    overwrite=True,\n",
        ")"
      ],
      "outputs": [],
      "execution_count": null
    },
    {
      "cell_type": "markdown",
      "metadata": {},
      "source": [
        "__Visualize__\n",
        "\n",
        "Output a subplot of the simulated dataset, the image and the tracer's quantities to the dataset path as .png files.\n",
        "\n",
        "For a faster run time, the tracer visualization uses the binned grid instead of the iterative grid."
      ]
    },
    {
      "cell_type": "code",
      "metadata": {},
      "source": [
        "mat_plot = aplt.MatPlot2D(output=aplt.Output(path=dataset_path, format=\"png\"))\n",
        "\n",
        "dataset_plotter = aplt.ImagingPlotter(dataset=dataset, mat_plot_2d=mat_plot)\n",
        "dataset_plotter.subplot_dataset()\n",
        "dataset_plotter.figures_2d(data=True)\n",
        "\n",
        "tracer_plotter = aplt.TracerPlotter(tracer=tracer, grid=grid, mat_plot_2d=mat_plot)\n",
        "tracer_plotter.subplot_tracer()\n",
        "tracer_plotter.subplot_galaxies_images()"
      ],
      "outputs": [],
      "execution_count": null
    },
    {
      "cell_type": "markdown",
      "metadata": {},
      "source": [
        "__Tracer json__\n",
        "\n",
        "Save the `Tracer` in the dataset folder as a .json file, ensuring the true light profiles, mass profiles and galaxies\n",
        "are safely stored and available to check how the dataset was simulated in the future. \n",
        "\n",
        "This can be loaded via the method `tracer = al.from_json()`."
      ]
    },
    {
      "cell_type": "code",
      "metadata": {},
      "source": [
        "al.output_to_json(\n",
        "    obj=tracer,\n",
        "    file_path=path.join(dataset_path, \"tracer.json\"),\n",
        ")"
      ],
      "outputs": [],
      "execution_count": null
    },
    {
      "cell_type": "markdown",
      "metadata": {},
      "source": [
        "The dataset can be viewed in the folder `autolens_workspace/imaging/clumps`."
      ]
    },
    {
      "cell_type": "code",
      "metadata": {},
      "source": [],
      "outputs": [],
      "execution_count": null
    }
  ],
  "metadata": {
    "anaconda-cloud": {},
    "kernelspec": {
      "display_name": "Python 3",
      "language": "python",
      "name": "python3"
    },
    "language_info": {
      "codemirror_mode": {
        "name": "ipython",
        "version": 3
      },
      "file_extension": ".py",
      "mimetype": "text/x-python",
      "name": "python",
      "nbconvert_exporter": "python",
      "pygments_lexer": "ipython3",
      "version": "3.6.1"
    }
  },
  "nbformat": 4,
  "nbformat_minor": 4
}