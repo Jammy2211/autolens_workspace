{
  "cells": [
    {
      "cell_type": "markdown",
      "metadata": {},
      "source": [
        "Results: Subhalo Grid\n",
        "=====================\n",
        "\n",
        "Dark matter (DM) subhalo analysis can use a grid-search of non-linear searches.\n",
        "\n",
        "Each cell on this grid fits a DM subhalo whose center is confined to a small 2D segment of the image-plane.\n",
        "\n",
        "This tutorial shows how to manipulate the results that come out of this grid-search of non-linear searches,\n",
        "including:\n",
        "\n",
        " - Visualization showing how much in each grid cell adding a DM subhalo to the model increases the Bayesian evidence\n",
        "   compared to a lens model without a DM Subhalo.\n",
        "\n",
        " - Tools for comparing the results of models with and without a DM subhalo.\n",
        "\n",
        "__Subhalo Fit__\n",
        "\n",
        "The standard DM subhalo analysis in **PyAutoLens** is performed in three stages:\n",
        "\n",
        " - A model-fit of a model without a DM subhalo.\n",
        " - A model-fit using the grid search of non-linear searches.\n",
        " - A model fit where the highest log likelihood DM subhalo result in the grid search is refit, in order to provide a\n",
        "   better estimate of the Bayesian evidence.\n",
        "\n",
        "This result script begins by performing the above 3 stages to set up the results. To ensure things run fast:\n",
        "\n",
        " - A parametric source is fitted.\n",
        " - Only a 2x2 grid search of non-linear searches is performed."
      ]
    },
    {
      "cell_type": "code",
      "metadata": {},
      "source": [
        "%matplotlib inline\n",
        "from pyprojroot import here\n",
        "workspace_path = str(here())\n",
        "%cd $workspace_path\n",
        "print(f\"Working Directory has been set to `{workspace_path}`\")\n",
        "\n",
        "import os\n",
        "import sys\n",
        "from os import path\n",
        "import autofit as af\n",
        "import autolens as al\n",
        "import autolens.plot as aplt\n",
        "\n",
        "sys.path.insert(0, os.getcwd())\n",
        "import slam"
      ],
      "outputs": [],
      "execution_count": null
    },
    {
      "cell_type": "markdown",
      "metadata": {},
      "source": [
        "__Dataset + Masking__ \n",
        "\n",
        "Load, plot and mask the `Imaging` data."
      ]
    },
    {
      "cell_type": "code",
      "metadata": {},
      "source": [
        "dataset_name = \"dark_matter_subhalo\"\n",
        "dataset_path = path.join(\"dataset\", \"imaging\", dataset_name)\n",
        "\n",
        "dataset = al.Imaging.from_fits(\n",
        "    data_path=path.join(dataset_path, \"data.fits\"),\n",
        "    noise_map_path=path.join(dataset_path, \"noise_map.fits\"),\n",
        "    psf_path=path.join(dataset_path, \"psf.fits\"),\n",
        "    pixel_scales=0.05,\n",
        ")\n",
        "\n",
        "mask = al.Mask2D.circular(\n",
        "    shape_native=dataset.shape_native, pixel_scales=dataset.pixel_scales, radius=3.0\n",
        ")\n",
        "\n",
        "dataset = dataset.apply_mask(mask=mask)\n",
        "\n",
        "dataset_plotter = aplt.ImagingPlotter(dataset=dataset)\n",
        "dataset_plotter.subplot_dataset()"
      ],
      "outputs": [],
      "execution_count": null
    },
    {
      "cell_type": "markdown",
      "metadata": {},
      "source": [
        "__Model + Search + Fit (Search 1)__\n",
        "\n",
        "Fit a lens model without a DM Subhalo."
      ]
    },
    {
      "cell_type": "code",
      "metadata": {},
      "source": [
        "lens = af.Model(\n",
        "    al.Galaxy,\n",
        "    redshift=0.5,\n",
        "    mass=al.mp.Isothermal,\n",
        ")\n",
        "source = af.Model(al.Galaxy, redshift=1.0, bulge=al.lp.Sersic)\n",
        "\n",
        "model_1 = af.Collection(galaxies=af.Collection(lens=lens, source=source))\n",
        "\n",
        "search_1 = af.Nautilus(\n",
        "    path_prefix=path.join(\"results\", \"subhalo_grid\"),\n",
        "    name=\"search[1]_no_subhalo\",\n",
        "    unique_tag=dataset_name,\n",
        "    n_live=100,\n",
        "    number_of_cores=1,\n",
        ")\n",
        "\n",
        "analysis_1 = al.AnalysisImaging(dataset=dataset)\n",
        "\n",
        "result_1 = search_1.fit(model=model_1, analysis=analysis_1)"
      ],
      "outputs": [],
      "execution_count": null
    },
    {
      "cell_type": "markdown",
      "metadata": {},
      "source": [
        "__Model + Search + Analysis + Model-Fit (Search 2)__\n",
        "\n",
        "In search 2E we perform a [number_of_steps x number_of_steps] grid search of non-linear searches where:\n",
        "\n",
        " - The lens galaxy mass is modeled using result 1's mass distribution [Priors initialized from result_1].\n",
        " - The source galaxy's light is parametric using result 1 [Model and priors initialized from result_1].\n",
        " - The subhalo redshift is fixed to that of the lens galaxy.\n",
        " - Each grid search varies the subhalo (y,x) coordinates and mass as free parameters.\n",
        " - The priors on these (y,x) coordinates are UniformPriors, with limits corresponding to the grid-cells.\n",
        "\n",
        "This search aims to detect a dark matter subhalo."
      ]
    },
    {
      "cell_type": "code",
      "metadata": {},
      "source": [
        "subhalo = af.Model(al.Galaxy, mass=af.Model(al.mp.NFWMCRLudlowSph))\n",
        "\n",
        "subhalo.mass.mass_at_200 = af.LogUniformPrior(lower_limit=1.0e6, upper_limit=1.0e11)\n",
        "subhalo.mass.centre_0 = af.UniformPrior(lower_limit=-3.0, upper_limit=3.0)\n",
        "subhalo.mass.centre_1 = af.UniformPrior(lower_limit=-3.0, upper_limit=3.0)\n",
        "\n",
        "subhalo.redshift = result_1.instance.galaxies.lens.redshift\n",
        "subhalo.mass.redshift_object = result_1.instance.galaxies.lens.redshift\n",
        "\n",
        "subhalo.mass.redshift_source = result_1.instance.galaxies.source.redshift\n",
        "\n",
        "model = af.Collection(\n",
        "    galaxies=af.Collection(\n",
        "        lens=result_1.model.galaxies.lens,\n",
        "        subhalo=subhalo,\n",
        "        source=result_1.model.galaxies.source,\n",
        "    ),\n",
        ")\n",
        "\n",
        "analysis_2 = al.AnalysisImaging(dataset=dataset)\n",
        "\n",
        "search = af.Nautilus(\n",
        "    path_prefix=path.join(\"results\", \"subhalo_grid\"),\n",
        "    name=f\"subhalo[2]_subhalo_search]\",\n",
        "    n_live=100,\n",
        "    number_of_cores=1,\n",
        "    force_x1_cpu=True,  # ensures parallelizing over grid search works.\n",
        ")\n",
        "\n",
        "subhalo_grid_search = af.SearchGridSearch(\n",
        "    search=search, number_of_steps=2, number_of_cores=1\n",
        ")\n"
      ],
      "outputs": [],
      "execution_count": null
    },
    {
      "cell_type": "markdown",
      "metadata": {},
      "source": [
        "Note the input of the `parent` below, which links the subhalo grid search to the previous lens model fitted.\n",
        "\n",
        "This links the Bayesian evidence of the model fitted in search 1 to the subhalo grid search, making certain\n",
        "visualizaiton easier."
      ]
    },
    {
      "cell_type": "code",
      "metadata": {},
      "source": [
        "grid_search_result = subhalo_grid_search.fit(\n",
        "    model=model,\n",
        "    analysis=analysis_2,\n",
        "    grid_priors=[\n",
        "        model.galaxies.subhalo.mass.centre_1,\n",
        "        model.galaxies.subhalo.mass.centre_0,\n",
        "    ],\n",
        "    parent=search_1,  # This will be used in the result generation below\n",
        ")"
      ],
      "outputs": [],
      "execution_count": null
    },
    {
      "cell_type": "markdown",
      "metadata": {},
      "source": [
        "__Model + Search + Analysis + Model-Fit (Search 3)__\n",
        "\n",
        "In search 3 we refit the lens and source models above but now including a subhalo, where the subhalo model is \n",
        "initialized from the highest evidence model of the subhalo grid search.\n",
        "\n",
        " - The lens galaxy mass is modeled using result_2's mass distribution [Priors initialized from result_2].\n",
        " - The source galaxy's light is parametric [Model and priors initialized from result_2].\n",
        " - The subhalo redshift is fixed to that of the lens galaxy.\n",
        " - The grid search varies the subhalo (y,x) coordinates and mass as free parameters.\n",
        " - The priors on these (y,x) coordinates are GaussianPriors, corresponding to the best-fit grid cell in the \n",
        "   grid search performed above.\n",
        "\n",
        "This search aims to refine the parameter estimates and errors of a dark matter subhalo detected in the grid search\n",
        "above."
      ]
    },
    {
      "cell_type": "code",
      "metadata": {},
      "source": [
        "subhalo = af.Model(\n",
        "    al.Galaxy,\n",
        "    redshift=result_1.instance.galaxies.lens.redshift,\n",
        "    mass=af.Model(al.mp.NFWMCRLudlowSph),\n",
        ")\n",
        "\n",
        "subhalo.mass.mass_at_200 = af.LogUniformPrior(lower_limit=1.0e6, upper_limit=1.0e11)\n",
        "subhalo.mass.centre = grid_search_result.model_absolute(\n",
        "    a=1.0\n",
        ").galaxies.subhalo.mass.centre\n",
        "\n",
        "subhalo.redshift = grid_search_result.model.galaxies.subhalo.redshift\n",
        "subhalo.mass.redshift_object = subhalo.redshift\n",
        "\n",
        "model = af.Collection(\n",
        "    galaxies=af.Collection(\n",
        "        lens=grid_search_result.model.galaxies.lens,\n",
        "        subhalo=subhalo,\n",
        "        source=grid_search_result.model.galaxies.source,\n",
        "    ),\n",
        ")\n",
        "\n",
        "analysis_3 = al.AnalysisImaging(dataset=dataset)\n",
        "\n",
        "search = af.Nautilus(\n",
        "    path_prefix=path.join(\"results\", \"subhalo_grid\"),\n",
        "    name=f\"subhalo[3]_subhalo_refine\",\n",
        "    n_live=150,\n",
        ")\n",
        "\n",
        "result_3 = search.fit(model=model, analysis=analysis_3)"
      ],
      "outputs": [],
      "execution_count": null
    },
    {
      "cell_type": "markdown",
      "metadata": {},
      "source": [
        "__Subhalo Result__\n",
        "\n",
        "The results of a subhalo grid-search are returned as an instance of the `SubhaloResult` class."
      ]
    },
    {
      "cell_type": "code",
      "metadata": {},
      "source": [
        "subhalo_result = al.subhalo.SubhaloResult(\n",
        "    grid_search_result=grid_search_result,\n",
        "    result_no_subhalo=result_1,\n",
        ")\n",
        "\n",
        "print(subhalo_result)"
      ],
      "outputs": [],
      "execution_count": null
    },
    {
      "cell_type": "markdown",
      "metadata": {},
      "source": [
        "This object has built-in arrays containing the key results of the subhalo grid search.\n",
        "\n",
        "For example, the function `subhalo_detection_array_from()` returns an `Array2D` object containing the Bayesian \n",
        "evidence of every model fitted by the subhalo grid."
      ]
    },
    {
      "cell_type": "code",
      "metadata": {},
      "source": [
        "subhalo_detection_array = subhalo_result.subhalo_detection_array_from(\n",
        "    use_log_evidences=True, relative_to_no_subhalo=True\n",
        ")"
      ],
      "outputs": [],
      "execution_count": null
    },
    {
      "cell_type": "markdown",
      "metadata": {},
      "source": [
        "In the code above, the input `relative_to_no_subhalo=True` means that every Bayesian evidence is returned as its\n",
        "difference from the Bayesian evidence inferred for the lens model without a DM subhalo in search 1.\n",
        "\n",
        "This is possible because of the input `parent=search_1` of the function `subhalo_grid_search.fit()`.\n",
        "\n",
        "If we set `relative_to_no_subhalo=False` the actual Bayesian evidence inferred in search 2 is returned instead."
      ]
    },
    {
      "cell_type": "code",
      "metadata": {},
      "source": [
        "subhalo_detection_array = subhalo_result.subhalo_detection_array_from(\n",
        "    use_log_evidences=True, relative_to_no_subhalo=False\n",
        ")"
      ],
      "outputs": [],
      "execution_count": null
    },
    {
      "cell_type": "markdown",
      "metadata": {},
      "source": [
        "The maximum log likelihood subhalo mass inferred by every fit is also accessible."
      ]
    },
    {
      "cell_type": "code",
      "metadata": {},
      "source": [
        "subhalo_mass_array = subhalo_result.subhalo_mass_array_from()"
      ],
      "outputs": [],
      "execution_count": null
    },
    {
      "cell_type": "markdown",
      "metadata": {},
      "source": [
        "The `FitImaging` of search 1, which did not use a DM subhalo, is also available. \n",
        "\n",
        "This is used for some of the visualization below. "
      ]
    },
    {
      "cell_type": "code",
      "metadata": {},
      "source": [
        "print(subhalo_result.fit_imaging_before)"
      ],
      "outputs": [],
      "execution_count": null
    },
    {
      "cell_type": "markdown",
      "metadata": {},
      "source": [
        "__Plot__\n",
        "\n",
        "The `SubhaloPlotter` object contains convenience methods for visualizing these results."
      ]
    },
    {
      "cell_type": "code",
      "metadata": {},
      "source": [
        "subhalo_plotter = aplt.SubhaloPlotter(\n",
        "    subhalo_result=subhalo_result,\n",
        "    fit_imaging_detect=result_3.max_log_likelihood_fit,\n",
        "    use_log_evidences=True,\n",
        ")"
      ],
      "outputs": [],
      "execution_count": null
    },
    {
      "cell_type": "markdown",
      "metadata": {},
      "source": [
        "A plot of the lensed source model, with the subhalo grid search overlaid, is produced via:"
      ]
    },
    {
      "cell_type": "code",
      "metadata": {},
      "source": [
        "subhalo_plotter.figure_with_detection_overlay()"
      ],
      "outputs": [],
      "execution_count": null
    },
    {
      "cell_type": "markdown",
      "metadata": {},
      "source": [
        "The mass overlay is given as follows:"
      ]
    },
    {
      "cell_type": "code",
      "metadata": {},
      "source": [
        "subhalo_plotter.figure_with_mass_overlay()"
      ],
      "outputs": [],
      "execution_count": null
    },
    {
      "cell_type": "markdown",
      "metadata": {},
      "source": [
        "A subhalo summarizing the detection:"
      ]
    },
    {
      "cell_type": "code",
      "metadata": {},
      "source": [
        "subhalo_plotter.subplot_detection_imaging()"
      ],
      "outputs": [],
      "execution_count": null
    },
    {
      "cell_type": "markdown",
      "metadata": {},
      "source": [
        "A subplot comparing the fit with and without a DM subhalo is given as follows:"
      ]
    },
    {
      "cell_type": "code",
      "metadata": {},
      "source": [
        "subhalo_plotter.subplot_detection_fits()"
      ],
      "outputs": [],
      "execution_count": null
    },
    {
      "cell_type": "markdown",
      "metadata": {},
      "source": [
        "Finish."
      ]
    },
    {
      "cell_type": "code",
      "metadata": {},
      "source": [],
      "outputs": [],
      "execution_count": null
    }
  ],
  "metadata": {
    "anaconda-cloud": {},
    "kernelspec": {
      "display_name": "Python 3",
      "language": "python",
      "name": "python3"
    },
    "language_info": {
      "codemirror_mode": {
        "name": "ipython",
        "version": 3
      },
      "file_extension": ".py",
      "mimetype": "text/x-python",
      "name": "python",
      "nbconvert_exporter": "python",
      "pygments_lexer": "ipython3",
      "version": "3.6.1"
    }
  },
  "nbformat": 4,
  "nbformat_minor": 4
}