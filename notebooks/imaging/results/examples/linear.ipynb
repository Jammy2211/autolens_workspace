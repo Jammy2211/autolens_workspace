{
  "cells": [
    {
      "cell_type": "markdown",
      "metadata": {},
      "source": [
        "Results: Linear\n",
        "===============\n",
        "\n",
        "This tutorial inspects an inferred model using linear light profiles which solve for the intensity via linear\n",
        "algebra, in the form of both linear light profiles (via `lp_linear`) and a `Basis` of linear light profiles.\n",
        "\n",
        "These objects mostly behave identically to ordinary light profiles, but due to the linear algebra have their own\n",
        "specific functionality illustrated in this tutorial.\n",
        "\n",
        "__Plot Module__\n",
        "\n",
        "This example uses the **PyAutoLens** plot module to plot the results, including `Plotter` objects that make\n",
        "the figures and `MatPlot` objects that wrap matplotlib to customize the figures.\n",
        "\n",
        "The visualization API is straightforward but is explained in the `autolens_workspace/*/plot` package in full.\n",
        "This includes detailed guides on how to customize every aspect of the figures, which can easily be combined with the\n",
        "code outlined in this tutorial.\n",
        "\n",
        "__Units__\n",
        "\n",
        "In this example, all quantities are **PyAutoLens**'s internal unit coordinates, with spatial coordinates in\n",
        "arc seconds, luminosities in electrons per second and mass quantities (e.g. convergence) are dimensionless.\n",
        "\n",
        "The results example `units_and_cosmology.ipynb` illustrates how to convert these quantities to physical units like\n",
        "kiloparsecs, magnitudes and solar masses.\n",
        "\n",
        "__Start Here Notebook__\n",
        "\n",
        "If any code in this script is unclear, refer to the `results/start_here.ipynb` notebook."
      ]
    },
    {
      "cell_type": "code",
      "metadata": {},
      "source": [
        "%matplotlib inline\n",
        "from pyprojroot import here\n",
        "workspace_path = str(here())\n",
        "%cd $workspace_path\n",
        "print(f\"Working Directory has been set to `{workspace_path}`\")\n",
        "\n",
        "import numpy as np\n",
        "from os import path\n",
        "import autofit as af\n",
        "import autolens as al\n",
        "import autolens.plot as aplt"
      ],
      "outputs": [],
      "execution_count": null
    },
    {
      "cell_type": "markdown",
      "metadata": {},
      "source": [
        "__Model Fit__\n",
        "\n",
        "The code below performs a model-fit using Nautilus. \n",
        "\n",
        "You should be familiar with modeling already, if not read the `modeling/start_here.py` script before reading this one!\n",
        "\n",
        "Note that the model that is fitted has both a linear light profile `Sersic` and a `Basis` with 5 `Gaussian` \n",
        "profiles which is regularized."
      ]
    },
    {
      "cell_type": "code",
      "metadata": {},
      "source": [
        "dataset_name = \"lens_light_asymmetric\"\n",
        "dataset_path = path.join(\"dataset\", \"imaging\", dataset_name)\n",
        "\n",
        "dataset = al.Imaging.from_fits(\n",
        "    data_path=path.join(dataset_path, \"data.fits\"),\n",
        "    psf_path=path.join(dataset_path, \"psf.fits\"),\n",
        "    noise_map_path=path.join(dataset_path, \"noise_map.fits\"),\n",
        "    pixel_scales=0.1,\n",
        ")\n",
        "\n",
        "mask = al.Mask2D.circular(\n",
        "    shape_native=dataset.shape_native, pixel_scales=dataset.pixel_scales, radius=6.0\n",
        ")\n",
        "\n",
        "dataset = dataset.apply_mask(mask=mask)\n",
        "\n",
        "total_gaussians = 30\n",
        "gaussian_per_basis = 2\n",
        "\n",
        "# The sigma values of the Gaussians will be fixed to values spanning 0.01 to the mask radius, 3.0\".\n",
        "mask_radius = 6.0\n",
        "log10_sigma_list = np.linspace(-2, np.log10(mask_radius), total_gaussians)\n",
        "\n",
        "# By defining the centre here, it creates two free parameters that are assigned below to all Gaussians.\n",
        "\n",
        "centre_0 = af.UniformPrior(lower_limit=-0.1, upper_limit=0.1)\n",
        "centre_1 = af.UniformPrior(lower_limit=-0.1, upper_limit=0.1)\n",
        "\n",
        "bulge_gaussian_list = []\n",
        "\n",
        "for j in range(gaussian_per_basis):\n",
        "    # A list of Gaussian model components whose parameters are customized belows.\n",
        "\n",
        "    gaussian_list = af.Collection(\n",
        "        af.Model(al.lp_linear.Gaussian) for _ in range(total_gaussians)\n",
        "    )\n",
        "\n",
        "    # Iterate over every Gaussian and customize its parameters.\n",
        "\n",
        "    for i, gaussian in enumerate(gaussian_list):\n",
        "        gaussian.centre.centre_0 = centre_0  # All Gaussians have same y centre.\n",
        "        gaussian.centre.centre_1 = centre_1  # All Gaussians have same x centre.\n",
        "        gaussian.ell_comps = gaussian_list[\n",
        "            0\n",
        "        ].ell_comps  # All Gaussians have same elliptical components.\n",
        "        gaussian.sigma = (\n",
        "            10 ** log10_sigma_list[i]\n",
        "        )  # All Gaussian sigmas are fixed to values above.\n",
        "\n",
        "    bulge_gaussian_list += gaussian_list\n",
        "\n",
        "# The Basis object groups many light profiles together into a single model component.\n",
        "\n",
        "basis = af.Model(\n",
        "    al.lp_basis.Basis,\n",
        "    light_profile_list=bulge_gaussian_list,\n",
        ")\n",
        "\n",
        "lens = af.Model(al.Galaxy, redshift=0.5, bulge=basis, mass=al.mp.Isothermal)\n",
        "\n",
        "source = af.Model(al.Galaxy, redshift=1.0, bulge=al.lp_linear.Sersic)\n",
        "\n",
        "model = af.Collection(galaxies=af.Collection(lens=lens, source=source))\n",
        "\n",
        "\n",
        "search = af.Nautilus(\n",
        "    path_prefix=path.join(\"imaging\", \"modeling\"),\n",
        "    name=\"light[bulge_disk_linear]\",\n",
        "    unique_tag=dataset_name,\n",
        "    n_live=100,\n",
        ")\n",
        "\n",
        "analysis = al.AnalysisImaging(dataset=dataset)\n",
        "\n",
        "result = search.fit(model=model, analysis=analysis)"
      ],
      "outputs": [],
      "execution_count": null
    },
    {
      "cell_type": "markdown",
      "metadata": {},
      "source": [
        "__Max Likelihood Inversion__\n",
        "\n",
        "As seen elsewhere in the workspace, the result contains a `max_log_likelihood_fit`, which contains the\n",
        "`Inversion` object we need."
      ]
    },
    {
      "cell_type": "code",
      "metadata": {},
      "source": [
        "inversion = result.max_log_likelihood_fit.inversion"
      ],
      "outputs": [],
      "execution_count": null
    },
    {
      "cell_type": "markdown",
      "metadata": {},
      "source": [
        "This `Inversion` can be used to plot the reconstructed image of specifically all linear light profiles."
      ]
    },
    {
      "cell_type": "code",
      "metadata": {},
      "source": [
        "inversion_plotter = aplt.InversionPlotter(inversion=inversion)\n",
        "# inversion_plotter.figures_2d(reconstructed_image=True)"
      ],
      "outputs": [],
      "execution_count": null
    },
    {
      "cell_type": "markdown",
      "metadata": {},
      "source": [
        "__Intensities__\n",
        "\n",
        "The intensities of linear light profiles are not a part of the model parameterization and therefore are not displayed\n",
        "in the `model.results` file.\n",
        "\n",
        "To extract the `intensity` values of a specific component in the model, we use the `max_log_likelihood_tracer`,\n",
        "which has already performed the inversion and therefore the galaxy light profiles have their solved for\n",
        "`intensity`'s associated with them."
      ]
    },
    {
      "cell_type": "code",
      "metadata": {},
      "source": [
        "tracer = result.max_log_likelihood_tracer\n",
        "\n",
        "print(tracer.galaxies[0].bulge.intensity)\n",
        "print(tracer.galaxies[1].bulge.intensity)"
      ],
      "outputs": [],
      "execution_count": null
    },
    {
      "cell_type": "markdown",
      "metadata": {},
      "source": [
        "Above, we access these values using the list index entry of each galaxy in the tracer. However, we may not be certain\n",
        "of the order of the galaxies in the tracer, and therefore which galaxy index corresponds to the lens and source.\n",
        "\n",
        "We can therefore use the model composition API to access these values."
      ]
    },
    {
      "cell_type": "code",
      "metadata": {},
      "source": [
        "print(tracer.galaxies.lens.bulge.intensity)\n",
        "print(tracer.galaxies.source.bulge.intensity)"
      ],
      "outputs": [],
      "execution_count": null
    },
    {
      "cell_type": "markdown",
      "metadata": {},
      "source": [
        "The `Tracer` contained in the `max_log_likelihood_fit` also has the solved for `intensity` values:"
      ]
    },
    {
      "cell_type": "code",
      "metadata": {},
      "source": [
        "fit = result.max_log_likelihood_fit\n",
        "\n",
        "tracer = fit.tracer\n",
        "\n",
        "print(tracer.galaxies.lens.bulge.intensity)\n",
        "print(tracer.galaxies.source.bulge.intensity)"
      ],
      "outputs": [],
      "execution_count": null
    },
    {
      "cell_type": "markdown",
      "metadata": {},
      "source": [
        "__Visualization__\n",
        "\n",
        "Linear light profiles and objects containing them (e.g. galaxies, a tracer) cannot be plotted because they do not \n",
        "have an `intensity` value.\n",
        "\n",
        "Therefore, the object created above which replaces all linear light profiles with ordinary light profiles must be\n",
        "used for visualization:"
      ]
    },
    {
      "cell_type": "code",
      "metadata": {},
      "source": [
        "tracer = fit.model_obj_linear_light_profiles_to_light_profiles\n",
        "tracer_plotter = aplt.TracerPlotter(tracer=tracer, grid=dataset.grid)\n",
        "tracer_plotter.figures_2d(image=True)\n",
        "\n",
        "galaxy_plotter = aplt.GalaxyPlotter(galaxy=tracer.galaxies[0], grid=dataset.grid)\n",
        "galaxy_plotter.figures_2d(image=True)\n"
      ],
      "outputs": [],
      "execution_count": null
    },
    {
      "cell_type": "markdown",
      "metadata": {},
      "source": [
        "__Linear Objects (Internal Source Code)__\n",
        "\n",
        "An `Inversion` contains all of the linear objects used to reconstruct the data in its `linear_obj_list`. \n",
        "\n",
        "This list may include the following objects:\n",
        "\n",
        " - `LightProfileLinearObjFuncList`: This object contains lists of linear light profiles and the functionality used\n",
        " by them to reconstruct data in an inversion. For example it may only contain a list with a single light profile\n",
        " (e.g. `lp_linear.Sersic`) or many light profiles combined in a `Basis` (e.g. `lp_basis.Basis`).\n",
        "\n",
        "- `Mapper`: The linear objected used by a `Pixelization` to reconstruct data via an `Inversion`, where the `Mapper` \n",
        "is specific to the `Pixelization`'s `Mesh` (e.g. a `RectnagularMapper` is used for a `Rectangular` mesh).\n",
        "\n",
        "In this example, two linear objects were used to fit the data:\n",
        "\n",
        " - An `Sersic` linear light profile for the source galaxy.\n",
        " ` A `Basis` containing 5 Gaussians for the lens galaxly's light. "
      ]
    },
    {
      "cell_type": "code",
      "metadata": {},
      "source": [
        "print(inversion.linear_obj_list)"
      ],
      "outputs": [],
      "execution_count": null
    },
    {
      "cell_type": "markdown",
      "metadata": {},
      "source": [
        "To extract results from an inversion many quantities will come in lists or require that we specific the linear object\n",
        "we with to use. \n",
        "\n",
        "Thus, knowing what linear objects are contained in the `linear_obj_list` and what indexes they correspond to\n",
        "is important."
      ]
    },
    {
      "cell_type": "code",
      "metadata": {},
      "source": [
        "print(f\"LightProfileLinearObjFuncList (Basis) = {inversion.linear_obj_list[0]}\")\n",
        "print(f\"LightProfileLinearObjFuncList (Sersic) = {inversion.linear_obj_list[1]}\")"
      ],
      "outputs": [],
      "execution_count": null
    },
    {
      "cell_type": "markdown",
      "metadata": {},
      "source": [
        "Each of these `LightProfileLinearObjFuncList` objects contains its list of light profiles, which for the\n",
        "`Sersic` is a single entry whereas for the `Basis` is 5 Gaussians."
      ]
    },
    {
      "cell_type": "code",
      "metadata": {},
      "source": [
        "print(\n",
        "    f\"Linear Light Profile list (Basis -> x5 Gaussians) = {inversion.linear_obj_list[0].light_profile_list}\"\n",
        ")\n",
        "print(\n",
        "    f\"Linear Light Profile list (Sersic) = {inversion.linear_obj_list[1].light_profile_list}\"\n",
        ")"
      ],
      "outputs": [],
      "execution_count": null
    },
    {
      "cell_type": "markdown",
      "metadata": {},
      "source": [
        "__Intensity Dict (Internal Source Code)__\n",
        "\n",
        "The results above already allow you to compute the solved for intensity values.\n",
        "\n",
        "These are computed using a fit's `linear_light_profile_intensity_dict`, which maps each linear light profile \n",
        "in the model parameterization above to its `intensity`.\n",
        "\n",
        "The code below shows how to use this dictionary, as an alternative to using the max_log_likelihood quantities above."
      ]
    },
    {
      "cell_type": "code",
      "metadata": {},
      "source": [
        "fit = result.max_log_likelihood_fit\n",
        "\n",
        "print(\n",
        "    f\"\\n Intensity of source bulge (lp_linear.Sersic) = {fit.linear_light_profile_intensity_dict[source_bulge]}\"\n",
        ")\n",
        "print(\n",
        "    f\"\\n Intensity of lens galaxy's first Gaussian in bulge = {fit.linear_light_profile_intensity_dict[lens_bulge.light_profile_list[0]]}\"\n",
        ")"
      ],
      "outputs": [],
      "execution_count": null
    },
    {
      "cell_type": "markdown",
      "metadata": {},
      "source": [
        "A `Tracer` where all linear light profile objects are replaced with ordinary light profiles using the solved \n",
        "for `intensity` values is also accessible from a fit.\n",
        "\n",
        "For example, the linear light profile `Sersic` of the `bulge` component above has a solved for `intensity` of ~0.75. \n",
        "\n",
        "The `tracer` created below instead has an ordinary light profile with an `intensity` of ~0.75."
      ]
    },
    {
      "cell_type": "code",
      "metadata": {},
      "source": [
        "tracer = fit.model_obj_linear_light_profiles_to_light_profiles\n",
        "\n",
        "print(tracer.galaxies[0].bulge.light_profile_list[0].intensity)\n",
        "print(tracer.galaxies[1].bulge.intensity)"
      ],
      "outputs": [],
      "execution_count": null
    },
    {
      "cell_type": "markdown",
      "metadata": {},
      "source": [
        "Finish."
      ]
    },
    {
      "cell_type": "code",
      "metadata": {},
      "source": [],
      "outputs": [],
      "execution_count": null
    }
  ],
  "metadata": {
    "anaconda-cloud": {},
    "kernelspec": {
      "display_name": "Python 3",
      "language": "python",
      "name": "python3"
    },
    "language_info": {
      "codemirror_mode": {
        "name": "ipython",
        "version": 3
      },
      "file_extension": ".py",
      "mimetype": "text/x-python",
      "name": "python",
      "nbconvert_exporter": "python",
      "pygments_lexer": "ipython3",
      "version": "3.6.1"
    }
  },
  "nbformat": 4,
  "nbformat_minor": 4
}