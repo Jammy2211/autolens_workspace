{
  "cells": [
    {
      "cell_type": "markdown",
      "metadata": {},
      "source": [
        "Results: Tracer\n",
        "===============\n",
        "\n",
        "This tutorial inspects an inferred model using the `Tracer` object inferred by the non-linear search.\n",
        "This allows us to visualize and interpret its results.\n",
        "\n",
        "This tutorial focuses on explaining how to use the inferred tracer to compute results as numpy arrays and only\n",
        "briefly discusses visualization.\n",
        "\n",
        "__Plot Module__\n",
        "\n",
        "This example uses the **PyAutoLens** plot module to plot the results, including `Plotter` objects that make\n",
        "the figures and `MatPlot` objects that wrap matplotlib to customize the figures.\n",
        "\n",
        "The visualization API is straightforward but is explained in the `autolens_workspace/*/plot` package in full.\n",
        "This includes detailed guides on how to customize every aspect of the figures, which can easily be combined with the\n",
        "code outlined in this tutorial.\n",
        "\n",
        "__Units__\n",
        "\n",
        "In this example, all quantities are **PyAutoLens**'s internal unit coordinates, with spatial coordinates in\n",
        "arc seconds, luminosities in electrons per second and mass quantities (e.g. convergence) are dimensionless.\n",
        "\n",
        "The results example `units_and_cosmology.ipynb` illustrates how to convert these quantities to physical units like\n",
        "kiloparsecs, magnitudes and solar masses.\n",
        "\n",
        "__Data Structures__\n",
        "\n",
        "Quantities inspected in this example script use **PyAutoLens** bespoke data structures for storing arrays, grids,\n",
        "vectors and other 1D and 2D quantities. These use the `slim` and `native` API to toggle between representing the\n",
        "data in 1D numpy arrays or high dimension numpy arrays.\n",
        "\n",
        "This tutorial will only use the `slim` properties which show results in 1D numpy arrays of\n",
        "shape [total_unmasked_pixels]. This is a slimmed-down representation of the data in 1D that contains only the\n",
        "unmasked data points\n",
        "\n",
        "These are documented fully in the `autolens_workspace/*/guides/data_structure.ipynb` guide.\n",
        "\n",
        "__Start Here Notebook__\n",
        "\n",
        "If any code in this script is unclear, refer to the `results/start_here.ipynb` notebook."
      ]
    },
    {
      "cell_type": "code",
      "metadata": {},
      "source": [
        "%matplotlib inline\n",
        "from pyprojroot import here\n",
        "workspace_path = str(here())\n",
        "%cd $workspace_path\n",
        "print(f\"Working Directory has been set to `{workspace_path}`\")\n",
        "\n",
        "import numpy as np\n",
        "from os import path\n",
        "import autofit as af\n",
        "import autolens as al\n",
        "import autolens.plot as aplt"
      ],
      "outputs": [],
      "execution_count": null
    },
    {
      "cell_type": "markdown",
      "metadata": {},
      "source": [
        "__Model Fit__\n",
        "\n",
        "The code below performs a model-fit using Nautilus. \n",
        "\n",
        "You should be familiar with modeling already, if not read the `modeling/start_here.py` script before reading this one!"
      ]
    },
    {
      "cell_type": "code",
      "metadata": {},
      "source": [
        "dataset_name = \"lens_sersic\"\n",
        "dataset_path = path.join(\"dataset\", \"imaging\", dataset_name)\n",
        "\n",
        "dataset = al.Imaging.from_fits(\n",
        "    data_path=path.join(dataset_path, \"data.fits\"),\n",
        "    psf_path=path.join(dataset_path, \"psf.fits\"),\n",
        "    noise_map_path=path.join(dataset_path, \"noise_map.fits\"),\n",
        "    pixel_scales=0.1,\n",
        ")\n",
        "\n",
        "mask = al.Mask2D.circular(\n",
        "    shape_native=dataset.shape_native, pixel_scales=dataset.pixel_scales, radius=3.0\n",
        ")\n",
        "\n",
        "dataset = dataset.apply_mask(mask=mask)\n",
        "\n",
        "model = af.Collection(\n",
        "    galaxies=af.Collection(\n",
        "        lens=af.Model(\n",
        "            al.Galaxy, redshift=0.5, bulge=al.lp.Sersic, mass=al.mp.Isothermal\n",
        "        ),\n",
        "        source=af.Model(al.Galaxy, redshift=1.0, bulge=al.lp.Sersic),\n",
        "    ),\n",
        ")\n",
        "\n",
        "search = af.Nautilus(\n",
        "    path_prefix=path.join(\"imaging\", \"modeling\"),\n",
        "    name=\"light[bulge]_mass[sie]_source[bulge]\",\n",
        "    unique_tag=dataset_name,\n",
        "    n_live=100,\n",
        ")\n",
        "\n",
        "analysis = al.AnalysisImaging(dataset=dataset)\n",
        "\n",
        "result = search.fit(model=model, analysis=analysis)"
      ],
      "outputs": [],
      "execution_count": null
    },
    {
      "cell_type": "markdown",
      "metadata": {},
      "source": [
        "__Max Likelihood Tracer__\n",
        "\n",
        "As seen elsewhere in the workspace, the result contains a `max_log_likelihood_tracer` which we can visualize."
      ]
    },
    {
      "cell_type": "code",
      "metadata": {},
      "source": [
        "tracer = result.max_log_likelihood_tracer\n",
        "\n",
        "tracer_plotter = aplt.TracerPlotter(\n",
        "    tracer=tracer, grid=mask.derive_grid.all_false_sub_1\n",
        ")\n",
        "tracer_plotter.subplot_tracer()"
      ],
      "outputs": [],
      "execution_count": null
    },
    {
      "cell_type": "markdown",
      "metadata": {},
      "source": [
        "__Log10__\n",
        "\n",
        "The light and masss distributions of galaxies are closer to a log10 distribution than a linear one. \n",
        "\n",
        "This means that when we plot an image of a light profile, its appearance is better highlighted when we take the\n",
        "logarithm of its values and plot it in log10 space.\n",
        "\n",
        "The `MatPlot2D` object has an input `use_log10`, which will do this automatically when we call the `figures_2d` method.\n",
        "Below, we can see that the image plotted now appears more clearly, with the outskirts of the light profile more visible."
      ]
    },
    {
      "cell_type": "code",
      "metadata": {},
      "source": [
        "tracer_plotter = aplt.TracerPlotter(\n",
        "    tracer=tracer,\n",
        "    grid=mask.derive_grid.all_false_sub_1,\n",
        "    mat_plot_2d=aplt.MatPlot2D(use_log10=True),\n",
        ")\n",
        "tracer_plotter.figures_2d(image=True)"
      ],
      "outputs": [],
      "execution_count": null
    },
    {
      "cell_type": "markdown",
      "metadata": {},
      "source": [
        "__Attributes__\n",
        "\n",
        "Printing individual attributes of the max log likelihood tracer gives us access to the inferred parameters of the\n",
        "lens and source galaxies.\n",
        "\n",
        "The tracer contains the galaxies as both a list and an instance of the model used to fit it. This means we can\n",
        "access the same values in two ways, either indexing the galaxies list index or by the name used in model composition.\n",
        "\n",
        "It can be difficult to track which galaxy is which index in the list, so it is recommended to use the model\n",
        "composition to access the galaxies."
      ]
    },
    {
      "cell_type": "code",
      "metadata": {},
      "source": [
        "print(f\"Einstein Radius via list index = {tracer.galaxies[0].mass.einstein_radius}\")\n",
        "print(\n",
        "    f\"Einstein Radius via model composition = {tracer.galaxies.lens.mass.einstein_radius}\"\n",
        ")"
      ],
      "outputs": [],
      "execution_count": null
    },
    {
      "cell_type": "markdown",
      "metadata": {},
      "source": [
        "__Lensing Quantities__\n",
        "\n",
        "The maximum log likelihood tracer contains a lot of information about the inferred model.\n",
        "\n",
        "For example, by passing it a 2D grid of (y,x) coordinates we can return a numpy array containing its 2D image. This\n",
        "includes the lens light and lensed source images.\n",
        "\n",
        "Below, we use the grid of the `imaging` to computed the image on, which is the grid used to fit to the data."
      ]
    },
    {
      "cell_type": "code",
      "metadata": {},
      "source": [
        "image = tracer.image_2d_from(grid=dataset.grid)"
      ],
      "outputs": [],
      "execution_count": null
    },
    {
      "cell_type": "markdown",
      "metadata": {},
      "source": [
        "__Data Structures Slim / Native__\n",
        "\n",
        "The image above is returned as a 1D numpy array. \n",
        "\n",
        "**PyAutoLens** includes dedicated functionality for manipulating this array, for example mapping it to 2D or\n",
        "performing the calculation on a high resolution sub-grid which is then binned up. \n",
        "\n",
        "This uses the data structure API, which is described in the `results/examples/data_structures.py` example. This \n",
        "tutorial will avoid using this API, but if you need to manipulate results in more detail you should check it out."
      ]
    },
    {
      "cell_type": "code",
      "metadata": {},
      "source": [
        "print(image.slim)"
      ],
      "outputs": [],
      "execution_count": null
    },
    {
      "cell_type": "markdown",
      "metadata": {},
      "source": [
        "__Grid Choices__\n",
        "\n",
        "We can input a different grid, which is not masked, to evaluate the image everywhere of interest. We can also change\n",
        "the grid's resolution from that used in the model-fit.\n",
        "\n",
        "The examples uses a grid with `shape_native=(3,3)`. This is much lower resolution than one would typically use to \n",
        "perform ray tracing, but is chosen here so that the `print()` statements display in a concise and readable format."
      ]
    },
    {
      "cell_type": "code",
      "metadata": {},
      "source": [
        "grid = al.Grid2D.uniform(shape_native=(5, 5), pixel_scales=0.1)\n",
        "\n",
        "image = tracer.image_2d_from(grid=grid)\n",
        "\n",
        "print(image.slim)"
      ],
      "outputs": [],
      "execution_count": null
    },
    {
      "cell_type": "markdown",
      "metadata": {},
      "source": [
        "__Sub Gridding__\n",
        "\n",
        "A grid can also have a sub-grid, defined via its `sub_size`, which defines how each pixel on the 2D grid is split \n",
        "into sub-pixels of size (`sub_size` x `sub_size`). \n",
        "\n",
        "The calculation below shows how to use a sub-grid and bin it up, full details of the API for this calculation\n",
        "are given in the `results/examples/data_structure.py` example."
      ]
    },
    {
      "cell_type": "code",
      "metadata": {},
      "source": [
        "grid_sub = al.Grid2D.uniform(shape_native=(3, 3), pixel_scales=0.1, sub_size=2)\n",
        "\n",
        "image = tracer.image_2d_from(grid=grid_sub)\n",
        "\n",
        "print(image.binned)"
      ],
      "outputs": [],
      "execution_count": null
    },
    {
      "cell_type": "markdown",
      "metadata": {},
      "source": [
        "__Positions Grid__\n",
        "\n",
        "We may want the image at specific (y,x) coordinates.\n",
        "\n",
        "We can use an irregular 2D (y,x) grid of coordinates for this. The grid below evaluates the image at:\n",
        "\n",
        "- y = 1.0, x = 1.0.\n",
        "- y = 1.0, x = 2.0.\n",
        "- y = 2.0, x = 2.0."
      ]
    },
    {
      "cell_type": "code",
      "metadata": {},
      "source": [
        "grid_irregular = al.Grid2DIrregular(values=[[1.0, 1.0], [1.0, 2.0], [2.0, 2.0]])\n",
        "\n",
        "image = tracer.image_2d_from(grid=grid_irregular)\n",
        "\n",
        "print(image)"
      ],
      "outputs": [],
      "execution_count": null
    },
    {
      "cell_type": "markdown",
      "metadata": {},
      "source": [
        "__Scalar Lensing Quantities__\n",
        "\n",
        "The tracer has many scalar lensing quantities, which are all returned using an `Array2D` and therefore use the same \n",
        "interface as images, described above.\n",
        "\n",
        "For example, we can compute the `Tracer`'s convergence using all of the grids above."
      ]
    },
    {
      "cell_type": "code",
      "metadata": {},
      "source": [
        "convergence_2d = tracer.convergence_2d_from(grid=dataset.grid)\n",
        "print(convergence_2d)\n",
        "\n",
        "convergence_2d = tracer.convergence_2d_from(grid=grid_sub)\n",
        "print(convergence_2d)\n",
        "\n",
        "convergence_2d = tracer.convergence_2d_from(grid=grid_irregular)\n",
        "print(convergence_2d)"
      ],
      "outputs": [],
      "execution_count": null
    },
    {
      "cell_type": "markdown",
      "metadata": {},
      "source": [
        "This is the convergence of every galaxy in the tracer summed together. It may not be appropriate if your lens model \n",
        "performs multi-plane ray-tracing (e.g. there are more than 2 redshifts containing galaxies). Later results tutorials\n",
        "provide tools that are more appropriate for multi-plane tracers.\n",
        "\n",
        "There are other scalar quantities accessible via the tracer (those not familiar with strong lensing mathematical \n",
        "formalism may not recognise what these quantities are -- don't worry about it for now!):"
      ]
    },
    {
      "cell_type": "code",
      "metadata": {},
      "source": [
        "potential_2d = tracer.potential_2d_from(grid=dataset.grid)\n",
        "\n",
        "tangential_eigen_value = tracer.tangential_eigen_value_from(grid=dataset.grid)\n",
        "radial_eigen_value = tracer.radial_eigen_value_from(grid=dataset.grid)\n"
      ],
      "outputs": [],
      "execution_count": null
    },
    {
      "cell_type": "markdown",
      "metadata": {},
      "source": [
        "A 2D magnification map is available, which using only the ray-tracing and therefore mass model quantities how much\n",
        "light rays are focus at a given point in the image-plane.\n",
        "\n",
        "If you are studying a strongly lensed source galaxy and want to know how much the galaxy itself is magnified, the\n",
        "magnification below is not of too much use too you. In the result tutorial `galaxies.py` we explain how the \n",
        "magnification of the source can be quantified."
      ]
    },
    {
      "cell_type": "code",
      "metadata": {},
      "source": [
        "magnification_2d = tracer.magnification_2d_from(grid=dataset.grid)"
      ],
      "outputs": [],
      "execution_count": null
    },
    {
      "cell_type": "markdown",
      "metadata": {},
      "source": [
        "__Vector Quantities__\n",
        "\n",
        "Many lensing quantities are vectors. That is, they are (y,x) coordinates that have 2 values representing their\n",
        "magnitudes in both the y and x directions.\n",
        "\n",
        "These quantities also have a dedicated data structure which is described fully in \n",
        "the `results/examples/data_structure.py` example.\n",
        "\n",
        "The most obvious of these is the deflection angles, which are used throughout lens modeling to ray-trace grids\n",
        "from the image-plane to the source-plane via a lens galaxy mass model.\n",
        "\n",
        "To indicate that a quantities is a vector, **PyAutoLens** uses the label `_yx`"
      ]
    },
    {
      "cell_type": "code",
      "metadata": {},
      "source": [
        "deflections_yx_2d = tracer.deflections_yx_2d_from(grid=dataset.grid)"
      ],
      "outputs": [],
      "execution_count": null
    },
    {
      "cell_type": "markdown",
      "metadata": {},
      "source": [
        "For vector quantities the has shape `2`, corresponding to the y and x vectors respectively."
      ]
    },
    {
      "cell_type": "code",
      "metadata": {},
      "source": [
        "print(deflections_yx_2d[0, :])"
      ],
      "outputs": [],
      "execution_count": null
    },
    {
      "cell_type": "markdown",
      "metadata": {},
      "source": [
        "The `VectorYX2D` object has a built in method to return the magnitude of each vector, which is a scalar quantity\n",
        "and therefore returned using a 1D Numpy array."
      ]
    },
    {
      "cell_type": "code",
      "metadata": {},
      "source": [
        "deflection_magnitudes_2d = deflections_yx_2d.magnitudes\n",
        "print(deflection_magnitudes_2d)"
      ],
      "outputs": [],
      "execution_count": null
    },
    {
      "cell_type": "markdown",
      "metadata": {},
      "source": [
        "__Other Vector Lensing Quantities__\n",
        "\n",
        "The tracer has other vector lensing quantities, which use the same interface described above."
      ]
    },
    {
      "cell_type": "code",
      "metadata": {},
      "source": [
        "shear_yx_2d = tracer.shear_yx_2d_via_hessian_from(grid=dataset.grid)"
      ],
      "outputs": [],
      "execution_count": null
    },
    {
      "cell_type": "markdown",
      "metadata": {},
      "source": [
        "__Other Quantities__\n",
        "\n",
        "Many more quantities are shown below.\n",
        "\n",
        "A full description of each can be found in the docstring of the source code of each function:\n",
        "\n",
        "   https://github.com/Jammy2211/PyAutoGalaxy/blob/main/autogalaxy/operate/deflections.py"
      ]
    },
    {
      "cell_type": "code",
      "metadata": {},
      "source": [
        "tangential_critical_curve = tracer.tangential_critical_curve_list_from(\n",
        "    grid=dataset.grid\n",
        ")\n",
        "\n",
        "radial_critical_curve = tracer.radial_critical_curve_list_from(grid=dataset.grid)\n",
        "\n",
        "tangential_caustic = tracer.tangential_caustic_list_from(grid=dataset.grid)\n",
        "\n",
        "radial_caustic = tracer.radial_caustic_list_from(grid=dataset.grid)\n",
        "\n",
        "### You should be able to comment this out and it work fine ###\n",
        "\n",
        "# area_within_tangential_critical_curve = (\n",
        "#     tracer.tangential_critical_curve_area_list_from(grid=dataset.grid)\n",
        "# )\n",
        "#\n",
        "# einstein_radius = tracer.einstein_radius_from(grid=dataset.grid)\n",
        "#\n",
        "# einstein_mass_angular = tracer.einstein_mass_angular_from(grid=dataset.grid)"
      ],
      "outputs": [],
      "execution_count": null
    },
    {
      "cell_type": "markdown",
      "metadata": {},
      "source": [
        "__Refitting__\n",
        "\n",
        "Using the API introduced in the first tutorial, we can also refit the data locally. \n",
        "\n",
        "This allows us to inspect how the tracer changes for models with similar log likelihoods. Below, we create and plot\n",
        "the tracer of the 100th last accepted model by Nautilus."
      ]
    },
    {
      "cell_type": "code",
      "metadata": {},
      "source": [
        "samples = result.samples\n",
        "\n",
        "instance = samples.from_sample_index(sample_index=-10)\n",
        "\n",
        "tracer = al.Tracer(galaxies=instance.galaxies)\n",
        "\n",
        "tracer_plotter = aplt.TracerPlotter(\n",
        "    tracer=tracer, grid=mask.derive_grid.all_false_sub_1\n",
        ")\n",
        "tracer_plotter.subplot_tracer()"
      ],
      "outputs": [],
      "execution_count": null
    },
    {
      "cell_type": "markdown",
      "metadata": {},
      "source": [
        "__Wrap Up__\n",
        "\n",
        "This tutorial explained how to compute the results of an inferred model from a tracer. \n",
        "\n",
        "It omitted a number of tasks we may want to do, for example:\n",
        "\n",
        " - We only created an image-plane image of the lens and lensed source. How do I view the source galaxy in the source \n",
        "   plane?\n",
        "\n",
        " - We could only compute the image, convergence, potential and other properties of the entire `Tracer` object. What \n",
        "   if I want these quantities for specific galaxies in the tracer?\n",
        "\n",
        " - How do I estimate errors on these quantities?\n",
        " \n",
        " - How do I properly account for multi-plane ray-tracing effects?\n",
        " \n",
        "The example `results/examples/galaxies.py` illustrates how to perform these more detailed calculations."
      ]
    },
    {
      "cell_type": "code",
      "metadata": {},
      "source": [],
      "outputs": [],
      "execution_count": null
    }
  ],
  "metadata": {
    "anaconda-cloud": {},
    "kernelspec": {
      "display_name": "Python 3",
      "language": "python",
      "name": "python3"
    },
    "language_info": {
      "codemirror_mode": {
        "name": "ipython",
        "version": 3
      },
      "file_extension": ".py",
      "mimetype": "text/x-python",
      "name": "python",
      "nbconvert_exporter": "python",
      "pygments_lexer": "ipython3",
      "version": "3.6.1"
    }
  },
  "nbformat": 4,
  "nbformat_minor": 4
}