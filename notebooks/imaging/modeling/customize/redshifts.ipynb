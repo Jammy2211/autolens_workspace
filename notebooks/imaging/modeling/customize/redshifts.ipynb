{
  "cells": [
    {
      "cell_type": "markdown",
      "metadata": {},
      "source": [
        "Customize: Redshifts\n",
        "====================\n",
        "\n",
        "The redshift of the lens and source galaxies are also input.\n",
        "\n",
        "All `LightProfile`'s and `MassProfiles`'s in  **PyAutoLens** are defined in units that mean the redshifts do not\n",
        "change the modeling results. For example, because the *einstein_radius_ parameter of the `Isothermal` is\n",
        "in units arc-seconds, changing the lens and source redshifts does not change the model behaviour.\n",
        "\n",
        "Changing the redshifts will only change how quantities in arc-seconds are converted to units such as kilo-parsecs, or\n",
        "how an Einstein mass is converted to Solar Masses, etc."
      ]
    },
    {
      "cell_type": "code",
      "metadata": {},
      "source": [],
      "outputs": [],
      "execution_count": null
    }
  ],
  "metadata": {
    "anaconda-cloud": {},
    "kernelspec": {
      "display_name": "Python 3",
      "language": "python",
      "name": "python3"
    },
    "language_info": {
      "codemirror_mode": {
        "name": "ipython",
        "version": 3
      },
      "file_extension": ".py",
      "mimetype": "text/x-python",
      "name": "python",
      "nbconvert_exporter": "python",
      "pygments_lexer": "ipython3",
      "version": "3.6.1"
    }
  },
  "nbformat": 4,
  "nbformat_minor": 4
}