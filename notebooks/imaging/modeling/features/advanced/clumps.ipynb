{
  "cells": [
    {
      "cell_type": "markdown",
      "metadata": {},
      "source": [
        "Modeling Features: Clumps\n",
        "=========================\n",
        "\n",
        "Certain lenses have small galaxies within their Einstein radius, or nearby the lensed source emission. The emission\n",
        "of these galaxies may overlap the lensed source emission, and their mass may contribute to the lensing of the source.\n",
        "\n",
        "We may therefore wish to include these additional galaxies in the lens model, as:\n",
        "\n",
        " - Light profiles which fit and subtract the emission of these nearby galaxies.\n",
        " - Mass profiles which account for their lensing effects via ray-tracing.\n",
        "\n",
        "The **PyAutoLens** clump API makes it straight forward to include these galaxies, referred to as \"clumps\", which is\n",
        "illustrated in this tutorial.\n",
        "\n",
        "__Data Preparation__\n",
        "\n",
        "The clump API optionally requires the user to input the centre of each clump in order to set up their light and mass\n",
        "profile.\n",
        "\n",
        "The `data_preparation` tutorial `autolens_workspace/*/imaging/data_preparation/optional/clump_centres.py` \n",
        "describes how to create these centres and output them to a `.json` file, which are loaded in this example.\n",
        "\n",
        "__Start Here Notebook__\n",
        "\n",
        "If any code in this script is unclear, refer to the modeling `start_here.ipynb` notebook for more detailed comments."
      ]
    },
    {
      "cell_type": "code",
      "metadata": {},
      "source": [
        "%matplotlib inline\n",
        "from pyprojroot import here\n",
        "workspace_path = str(here())\n",
        "%cd $workspace_path\n",
        "print(f\"Working Directory has been set to `{workspace_path}`\")\n",
        "\n",
        "from os import path\n",
        "import autofit as af\n",
        "import autolens as al\n",
        "import autolens.plot as aplt"
      ],
      "outputs": [],
      "execution_count": null
    },
    {
      "cell_type": "markdown",
      "metadata": {},
      "source": [
        "__Dataset__\n",
        "\n",
        "Load and plot the strong lens dataset `clumps` via .fits files."
      ]
    },
    {
      "cell_type": "code",
      "metadata": {},
      "source": [
        "dataset_name = \"clumps\"\n",
        "dataset_path = path.join(\"dataset\", \"imaging\", dataset_name)\n",
        "\n",
        "dataset = al.Imaging.from_fits(\n",
        "    data_path=path.join(dataset_path, \"data.fits\"),\n",
        "    psf_path=path.join(dataset_path, \"psf.fits\"),\n",
        "    noise_map_path=path.join(dataset_path, \"noise_map.fits\"),\n",
        "    pixel_scales=0.1,\n",
        ")"
      ],
      "outputs": [],
      "execution_count": null
    },
    {
      "cell_type": "markdown",
      "metadata": {},
      "source": [
        "Visualization of this dataset shows two galaxies outside by nearby the lensed source. "
      ]
    },
    {
      "cell_type": "code",
      "metadata": {},
      "source": [
        "dataset_plotter = aplt.ImagingPlotter(dataset=dataset)\n",
        "dataset_plotter.subplot_dataset()"
      ],
      "outputs": [],
      "execution_count": null
    },
    {
      "cell_type": "markdown",
      "metadata": {},
      "source": [
        "__Mask__\n",
        "\n",
        "We define a bigger circular mask of 6.0\" than the 3.0\" masks used in other tutorials, to ensure the clump's \n",
        "emission is included."
      ]
    },
    {
      "cell_type": "code",
      "metadata": {},
      "source": [
        "mask = al.Mask2D.circular(\n",
        "    shape_native=dataset.shape_native, pixel_scales=dataset.pixel_scales, radius=6.0\n",
        ")\n",
        "\n",
        "dataset = dataset.apply_mask(mask=mask)"
      ],
      "outputs": [],
      "execution_count": null
    },
    {
      "cell_type": "markdown",
      "metadata": {},
      "source": [
        "Lets plot the masked imaging to make sure the clumps are included in the fit."
      ]
    },
    {
      "cell_type": "code",
      "metadata": {},
      "source": [
        "visuals = aplt.Visuals2D(mask=mask)\n",
        "\n",
        "dataset_plotter = aplt.ImagingPlotter(dataset=dataset, visuals_2d=visuals)\n",
        "dataset_plotter.subplot_dataset()"
      ],
      "outputs": [],
      "execution_count": null
    },
    {
      "cell_type": "markdown",
      "metadata": {},
      "source": [
        "__Clump Centres__\n",
        "\n",
        "To set up a lens model including each clump we input the clump centres. \n",
        "\n",
        "In principle, a lens model including the clumps could be composed without these centres. For example, if there were\n",
        "two clumps in the data, we could simply add two additional light and mass profiles into the model we compose. The \n",
        "clump API does support this, but we will not use it in this example.\n",
        "\n",
        "This is because models with clumps with free centres are often too complex to fit. It is likely the fit will infer \n",
        "an inaccurate lens model and local maxima. \n",
        "\n",
        "For example, a common problem is that one of the clump light profiles intended to model a nearby galaxy instead fit \n",
        "one of the lensed source's multiple images. Alternatively, a clump's mass profile may act as the main lens galaxy's.\n",
        "\n",
        "Therefore, via the clump API we input the centre of each clump, which fixes their light and mass profile centres.\n",
        "\n",
        "The `data_preparation` tutorial `autolens_workspace/*/imaging/data_preparation/examples/optional/clump_centres.py` \n",
        "describes how to create these centres. Using this script they have been output to the `.json` file we load below."
      ]
    },
    {
      "cell_type": "code",
      "metadata": {},
      "source": [
        "clump_centres = al.Grid2DIrregular.from_json(\n",
        "    file_path=path.join(dataset_path, \"clump_centres.json\")\n",
        ")"
      ],
      "outputs": [],
      "execution_count": null
    },
    {
      "cell_type": "markdown",
      "metadata": {},
      "source": [
        "__Model__ \n",
        "\n",
        "Performs the normal steps to set up the main model of the lens galaxy and source.\n",
        "\n",
        "__Model Cookbook__\n",
        "\n",
        "A full description of model composition, including lens model customization, is provided by the model cookbook: \n",
        "\n",
        "https://pyautolens.readthedocs.io/en/latest/general/model_cookbook.html"
      ]
    },
    {
      "cell_type": "code",
      "metadata": {},
      "source": [
        "# Lens:\n",
        "\n",
        "mass = af.Model(al.mp.Isothermal)\n",
        "lens = af.Model(al.Galaxy, redshift=0.5, mass=mass)\n",
        "\n",
        "# Source:\n",
        "\n",
        "bulge = af.Model(al.lp.Sersic)\n",
        "source = af.Model(al.Galaxy, redshift=1.0, bulge=bulge)"
      ],
      "outputs": [],
      "execution_count": null
    },
    {
      "cell_type": "markdown",
      "metadata": {},
      "source": [
        "__Clump Model__ \n",
        "\n",
        "We now use the `ClumpModel` object to create the model for the clumps, which is passed the following:\n",
        "\n",
        " - `redshift`: the redshift of every clump, which is the same as the lens galaxy redshift.\n",
        " - `clump_centres`: he centre of every clump light and mass profile in the lens model.\n",
        " - `light_cls`: the light model used for every clump, which in this example is a `SersicSph`.\n",
        " - `mass_cls`: the mass model used for every clump, which in this example is a `IsothermalSph`.\n",
        " - `einstein_radius_upper_limit`: the upper limit on the `UniformPrior` assigned to every `einstein_radius` \n",
        " parameter in the mass profiles.\n",
        "\n",
        "__Notes__\n",
        "\n",
        "If we passed `light_cls=None` or `mass_cls=None` a clump model can still be composed, however the clumps would\n",
        "omit either the light or mass profiles.\n",
        "\n",
        "Clump mass profiles often to go unphysically high `einstein_radius` values, degrading the fit. The \n",
        "`einstein_radius_upper_limit` parameter is used to set an upper limit on the `einstein_radius` of every clump mass\n",
        "to prevent this. A physical upper limit depends on the exact size of the clump, but roughly speaking a stelar\n",
        "mass of 10^9 solar masses corresponds to an `einstein_radius` of below 0.1\", therefore, we set the upper limit to 0.1\"."
      ]
    },
    {
      "cell_type": "code",
      "metadata": {},
      "source": [
        "clump_model = al.ClumpModel(\n",
        "    redshift=0.5,\n",
        "    centres=clump_centres,\n",
        "    light_cls=al.lp.SersicSph,\n",
        "    mass_cls=al.mp.IsothermalSph,\n",
        "    einstein_radius_upper_limit=0.1,\n",
        ")"
      ],
      "outputs": [],
      "execution_count": null
    },
    {
      "cell_type": "markdown",
      "metadata": {},
      "source": [
        "The `ClumpModel.clumps` property makes it straight forward to compose the overall lens model.\n",
        "\n",
        "This property is a `af.Collection()` object, which we have used to compose models throughout **PyAutoLens**.\n",
        "\n",
        "It contains `Model` `Galaxy` objects, all of which are at the input redshift of the `ClumpModel` above and which \n",
        "contain model light and mass profiles whose centres are fixed to the input `clump_centres` but have their \n",
        "remaining parameters free."
      ]
    },
    {
      "cell_type": "code",
      "metadata": {},
      "source": [
        "print(clump_model.clumps)\n",
        "print(clump_model.clumps.clump_0.light.centre)\n",
        "print(clump_model.clumps.clump_1.mass.centre)"
      ],
      "outputs": [],
      "execution_count": null
    },
    {
      "cell_type": "markdown",
      "metadata": {},
      "source": [
        "Currently, the clump API require that the centres of the light and mass profiles are fixed to the input centres\n",
        "(but the other parameters of the light and mass profiles remain free). \n",
        "\n",
        "A future version of **PyAutoLens** will add more flexibility to the `CLumpModel` object.\n",
        "\n",
        "Therefore, in this example fits a lens model where:\n",
        "\n",
        " - The lens galaxy's total mass distribution is an `Isothermal` [5 parameters].\n",
        "\n",
        " - The source galaxy's light is a parametric `Sersic` [7 parameters].\n",
        "\n",
        " - Each clump's light is a parametric `SersicSph` profile with fixed centre [2 clumps x 3 parameters = 6 parameters].\n",
        "\n",
        " - Each clump's total mass distribution is a `IsothermalSph` profile with fixed \n",
        " centre [2 clumps x 1 parameters = 2 parameters].\n",
        "\n",
        "The number of free parameters and therefore the dimensionality of non-linear parameter space is N=20."
      ]
    },
    {
      "cell_type": "code",
      "metadata": {},
      "source": [
        "# Clumps:\n",
        "\n",
        "clumps = clump_model.clumps\n",
        "\n",
        "# Overall Lens Model:\n",
        "\n",
        "model = af.Collection(galaxies=af.Collection(lens=lens, source=source), clumps=clumps)"
      ],
      "outputs": [],
      "execution_count": null
    },
    {
      "cell_type": "markdown",
      "metadata": {},
      "source": [
        "The `info` attribute shows the model in a readable format (if this does not display clearly on your screen refer to\n",
        "`start_here.ipynb` for a description of how to fix this).\n",
        "\n",
        "This confirms the model includes additional clump galaxies that we defined above."
      ]
    },
    {
      "cell_type": "code",
      "metadata": {},
      "source": [
        "print(model.info)"
      ],
      "outputs": [],
      "execution_count": null
    },
    {
      "cell_type": "markdown",
      "metadata": {},
      "source": [
        "__Search + Analysis__ \n",
        "\n",
        "The code below performs the normal steps to set up a model-fit.\n",
        "\n",
        "Given the extra model parameters due to the clumps, we increase the number of live points from the default of\n",
        "50 to 100 and make the random walk length 10."
      ]
    },
    {
      "cell_type": "code",
      "metadata": {},
      "source": [
        "search = af.Nautilus(\n",
        "    path_prefix=path.join(\"imaging\", \"modeling\"),\n",
        "    name=\"clumps\",\n",
        "    unique_tag=dataset_name,\n",
        "    n_live=150,\n",
        ")\n",
        "\n",
        "analysis = al.AnalysisImaging(dataset=dataset)"
      ],
      "outputs": [],
      "execution_count": null
    },
    {
      "cell_type": "markdown",
      "metadata": {},
      "source": [
        "__Run Time__\n",
        "\n",
        "Adding clumps to the model increases the likelihood evaluation, because their light profiles need their images \n",
        "evaluated and their mass profiles need their deflection angles computed.\n",
        "\n",
        "However, these calculations are pretty fast for profiles like `SersicSph` and `IsothermalSph`, so only a small\n",
        "increase in time is expected.\n",
        "\n",
        "The bigger hit on run time is due to the extra free parameters, which increases the dimensionality of non-linear\n",
        "parameter space/ This means Nautilus takes longer to converge on the highest likelihood regions of parameter space."
      ]
    },
    {
      "cell_type": "code",
      "metadata": {},
      "source": [
        "run_time_dict, info_dict = analysis.profile_log_likelihood_function(\n",
        "    instance=model.random_instance()\n",
        ")\n",
        "\n",
        "print(f\"Log Likelihood Evaluation Time (second) = {run_time_dict['fit_time']}\")\n",
        "print(\n",
        "    \"Estimated Run Time Upper Limit (seconds) = \",\n",
        "    (run_time_dict[\"fit_time\"] * model.total_free_parameters * 10000)\n",
        "    / search.number_of_cores,\n",
        ")"
      ],
      "outputs": [],
      "execution_count": null
    },
    {
      "cell_type": "markdown",
      "metadata": {},
      "source": [
        "__Model-Fit__\n",
        "\n",
        "We can now begin the model-fit by passing the model and analysis object to the search, which performs a non-linear\n",
        "search to find which models fit the data with the highest likelihood."
      ]
    },
    {
      "cell_type": "code",
      "metadata": {},
      "source": [
        "result = search.fit(model=model, analysis=analysis)"
      ],
      "outputs": [],
      "execution_count": null
    },
    {
      "cell_type": "markdown",
      "metadata": {},
      "source": [
        "__Result__\n",
        "\n",
        "By plotting the maximum log likelihood `FitImaging` object we can confirm the clumps contribute to the fit."
      ]
    },
    {
      "cell_type": "code",
      "metadata": {},
      "source": [
        "fit_plotter = aplt.FitImagingPlotter(fit=result.max_log_likelihood_fit)\n",
        "fit_plotter.subplot_fit()"
      ],
      "outputs": [],
      "execution_count": null
    },
    {
      "cell_type": "markdown",
      "metadata": {},
      "source": [
        "Checkout `autolens_workspace/*/imaging/results` for a full description of analysing results in **PyAutoLens**.\n",
        "\n",
        "These examples show how the results API can be extended to investigate clumps in the results.\n",
        "\n",
        "__Wrap Up__\n",
        "\n",
        "The clump API makes it straight forward for us to model galaxy-scale strong lenses with additional components for\n",
        "the light and mass of nearby objects.\n",
        "\n",
        "The `autolens_workspace` includes a `group` package, for modeling group scale strong lenses which have multiple lens \n",
        "galaxies. When you should use the clump API as shown here, and when you should use the group package? \n",
        "\n",
        "The distinction is as follows:\n",
        "\n",
        " - A galaxy scale lens is a system which can be modeled to a high level of accuracy using a single light and mass \n",
        " distribution for the main lens galaxy. Including additional galaxies in the model via the clump API makes small \n",
        " improvements on the lens model, but a good fit is possible without them. \n",
        " \n",
        " - A group scale lens is a system which cannot be modeled to a high level of accuracy using a single light and mass \n",
        " distribution. Defining a 'main' lens galaxy is unclear and two or more main lens galaxies are required to fit an \n",
        " accurate model. \n",
        " \n",
        "The `group` package also uses the clump API for model composition, but does so to compose and fit more complex lens \n",
        "models."
      ]
    },
    {
      "cell_type": "code",
      "metadata": {},
      "source": [],
      "outputs": [],
      "execution_count": null
    }
  ],
  "metadata": {
    "anaconda-cloud": {},
    "kernelspec": {
      "display_name": "Python 3",
      "language": "python",
      "name": "python3"
    },
    "language_info": {
      "codemirror_mode": {
        "name": "ipython",
        "version": 3
      },
      "file_extension": ".py",
      "mimetype": "text/x-python",
      "name": "python",
      "nbconvert_exporter": "python",
      "pygments_lexer": "ipython3",
      "version": "3.6.1"
    }
  },
  "nbformat": 4,
  "nbformat_minor": 4
}