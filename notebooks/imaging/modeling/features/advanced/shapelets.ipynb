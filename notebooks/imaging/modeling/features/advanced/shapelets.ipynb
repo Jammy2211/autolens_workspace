{
  "cells": [
    {
      "cell_type": "markdown",
      "metadata": {},
      "source": [
        "Modeling Features: Shapelets\n",
        "============================\n",
        "\n",
        "A shapelet is a basis function that is appropriate for capturing the exponential / disk-like features of a galaxy. It\n",
        "has been employed in many strong lensing studies too model the light of the lensed source galaxy, as it can represent\n",
        "features of disky star forming galaxies that a single Sersic function cannot.\n",
        "\n",
        "- https://ui.adsabs.harvard.edu/abs/2016MNRAS.457.3066T\n",
        "- https://iopscience.iop.org/article/10.1088/0004-637X/813/2/102 t\n",
        "\n",
        "Shapelets are described in full in the following paper:\n",
        "\n",
        " https://arxiv.org/abs/astro-ph/0105178\n",
        "\n",
        "This script performs a model-fit using shapelet, where it decomposes the source light into ~200\n",
        "Shapelets. The `intensity` of every Shapelet is solved for via an inversion (see the `light_parametric_linear.py`\n",
        "feature).\n",
        "\n",
        "__Advantages__\n",
        "\n",
        "Symmetric light profiles (e.g. elliptical Sersics) may leave significant residuals, because they fail to capture\n",
        "irregular and asymmetric morphological of galaxies (e.g. isophotal twists, an ellipticity which varies radially).\n",
        "Shapelets can capture these features and can therefore much better represent the emission of complex source galaxies.\n",
        "\n",
        "The shapelet model can be composed in a way that has fewer non-linear parameters than an elliptical Sersic. In this\n",
        "example, the ~200 shapelets which represent the `bulge` of the source are composed in a model corresponding to just\n",
        "N=3 non-linear parameters (a `bulge` comprising a linear Sersic would give N=6).\n",
        "\n",
        "Therefore, not only does a shapelet fit more complex source galaxy morphologies, it does so using fewer non-linear\n",
        "parameters than the standard light profile models!\n",
        "\n",
        "__Disadvantages__\n",
        "\n",
        "- Computationally slow.\n",
        "- Assume single centre\n",
        "\n",
        "__Positive Only Solver__\n",
        "\n",
        "Many codes which use linear algebra typically rely on a linear algabra solver which allows for positive and negative\n",
        "values of the solution (e.g. `np.linalg.solve`), because they are computationally fast.\n",
        "\n",
        "This is problematic, as it means that negative surface brightnesses values can be computed to represent a galaxy's\n",
        "light, which is clearly unphysical. For shapelets, this produces a positive-negative \"ringing\", where the\n",
        "Gaussians alternate between large positive and negative values. This is clearly undesirable and unphysical.\n",
        "\n",
        "**PyAutoLens** uses a positive only linear algebra solver which has been extensively optimized to ensure it is as fast\n",
        "as positive-negative solvers. This ensures that all light profile intensities are positive and therefore physical.\n",
        "\n",
        "__Model__\n",
        "\n",
        "This script fits an `Imaging` dataset of a 'galaxy-scale' strong lens with a model where:\n",
        "\n",
        " - The lens galaxy's light is omitted (and is not present in the simulated data).\n",
        " - The lens galaxy's total mass distribution is an `Isothermal` and `ExternalShear`.\n",
        "This script fits an `Imaging` dataset of a galaxy with a model where:\n",
        "\n",
        " - The source galaxy's bulge is a super position of `ShapeletCartesianSph`` profiles.\n",
        "\n",
        "__Start Here Notebook__\n",
        "\n",
        "If any code in this script is unclear, refer to the `modeling/start_here.ipynb` notebook."
      ]
    },
    {
      "cell_type": "code",
      "metadata": {},
      "source": [
        "%matplotlib inline\n",
        "from pyprojroot import here\n",
        "workspace_path = str(here())\n",
        "%cd $workspace_path\n",
        "print(f\"Working Directory has been set to `{workspace_path}`\")\n",
        "\n",
        "import numpy as np\n",
        "from os import path\n",
        "import autofit as af\n",
        "import autolens as al\n",
        "import autolens.plot as aplt"
      ],
      "outputs": [],
      "execution_count": null
    },
    {
      "cell_type": "markdown",
      "metadata": {},
      "source": [
        "__Dataset__\n",
        "\n",
        "Load and plot the galaxy dataset `light_basis` via .fits files, which we will fit with \n",
        "the model."
      ]
    },
    {
      "cell_type": "code",
      "metadata": {},
      "source": [
        "dataset_name = \"simple__no_lens_light\"\n",
        "dataset_path = path.join(\"dataset\", \"imaging\", dataset_name)\n",
        "\n",
        "dataset = al.Imaging.from_fits(\n",
        "    data_path=path.join(dataset_path, \"data.fits\"),\n",
        "    psf_path=path.join(dataset_path, \"psf.fits\"),\n",
        "    noise_map_path=path.join(dataset_path, \"noise_map.fits\"),\n",
        "    pixel_scales=0.1,\n",
        ")\n",
        "\n",
        "dataset_plotter = aplt.ImagingPlotter(dataset=dataset)\n",
        "dataset_plotter.subplot_dataset()"
      ],
      "outputs": [],
      "execution_count": null
    },
    {
      "cell_type": "markdown",
      "metadata": {},
      "source": [
        "__Mask__\n",
        "\n",
        "Define a 3.0\" circular mask, which includes the emission of the lens and source galaxies."
      ]
    },
    {
      "cell_type": "code",
      "metadata": {},
      "source": [
        "mask = al.Mask2D.circular(\n",
        "    shape_native=dataset.shape_native, pixel_scales=dataset.pixel_scales, radius=3.0\n",
        ")\n",
        "\n",
        "dataset = dataset.apply_mask(mask=mask)\n",
        "\n",
        "dataset_plotter = aplt.ImagingPlotter(dataset=dataset)\n",
        "dataset_plotter.subplot_dataset()"
      ],
      "outputs": [],
      "execution_count": null
    },
    {
      "cell_type": "markdown",
      "metadata": {},
      "source": [
        "__Fit__\n",
        "\n",
        "We first show how to compose a basis of multiple shapelets and use them to fit the source galaxy's light in data\n",
        "\n",
        "This is to illustrate the API for fitting shapelets using standard autolens objects like the `Galaxy`, `Tracer`\n",
        "and `FitImaging`.\n",
        "\n",
        "This does not perform a model-fit via a non-linear search, and therefore requires us to manually specify and guess\n",
        "suitable parameter values for the shapelets. However, shapelets can do a reasonable even if we just guess \n",
        "sensible parameter values.\n",
        "\n",
        "We are applying shapelets to reconstruct the source galaxy's light, which means we need an accurate mass model of the\n",
        "lens galaxy. We use the true lens mass model from the simulator script to do this, noting that later in the example\n",
        "we will infer the lens mass model using a non-linear search.\n",
        "\n",
        "__Basis__\n",
        "\n",
        "We first build a `Basis`, which is built from multiple linear light profiles (in this case, shapelets). \n",
        "\n",
        "Below, we make a `Basis` out of 10 elliptical shapelet linear light profiles which: \n",
        "\n",
        " - All share the same centre and elliptical components.\n",
        " - The size of the Shapelet basis is controlled by a `beta` parameter, which is the same for all shapelet basis \n",
        "   functions.\n",
        " \n",
        "Note that any linear light profile can be used to compose a Basis. This includes Gaussians, which are often used to r\n",
        "epresent the light of elliptical galaxies (see `modeling/features/multi_gaussian_expansion.py`)."
      ]
    },
    {
      "cell_type": "code",
      "metadata": {},
      "source": [
        "total_n = 10\n",
        "total_m = sum(range(2, total_n + 1)) + 1\n",
        "\n",
        "shapelets_bulge_list = []\n",
        "\n",
        "n_count = 1\n",
        "m_count = -1\n",
        "\n",
        "for i in range(total_n + total_m):\n",
        "    shapelet = al.lp_linear.ShapeletPolarSph(\n",
        "        n=n_count, m=m_count, centre=(0.01, 0.01), beta=0.1\n",
        "    )\n",
        "\n",
        "    shapelets_bulge_list.append(shapelet)\n",
        "\n",
        "    m_count += 2\n",
        "\n",
        "    if m_count > n_count:\n",
        "        n_count += 1\n",
        "        m_count = -n_count\n",
        "\n",
        "bulge = af.Model(\n",
        "    al.lp_basis.Basis,\n",
        "    light_profile_list=shapelets_bulge_list,\n",
        ")"
      ],
      "outputs": [],
      "execution_count": null
    },
    {
      "cell_type": "markdown",
      "metadata": {},
      "source": [
        "Once we have a `Basis`, we can treat it like any other light profile in order to create a `Galaxy` and `Tracer` and \n",
        "use it to fit data."
      ]
    },
    {
      "cell_type": "code",
      "metadata": {},
      "source": [
        "lens = al.Galaxy(\n",
        "    redshift=0.5,\n",
        "    mass=al.mp.Isothermal(\n",
        "        centre=(0.0, 0.0),\n",
        "        einstein_radius=1.6,\n",
        "        ell_comps=al.convert.ell_comps_from(axis_ratio=0.9, angle=45.0),\n",
        "    ),\n",
        "    shear=al.mp.ExternalShear(gamma_1=0.05, gamma_2=0.05),\n",
        ")\n",
        "\n",
        "source = al.Galaxy(\n",
        "    redshift=1.0,\n",
        "    bulge=bulge,\n",
        ")\n",
        "\n",
        "tracer = al.Tracer(galaxies=[lens, source])\n",
        "\n",
        "fit = al.FitImaging(dataset=dataset, tracer=tracer)"
      ],
      "outputs": [],
      "execution_count": null
    },
    {
      "cell_type": "markdown",
      "metadata": {},
      "source": [
        "By plotting the fit, we see that the `Basis` does a reasonable job at capturing the appearance of the source galaxy,\n",
        "with only faint residuals visible where the lensed source is located.\n",
        "\n",
        "This is despite the beta parameter of the shapelets being a complete guess and not the optimal value for fitting the\n",
        "source galaxy's light. "
      ]
    },
    {
      "cell_type": "code",
      "metadata": {},
      "source": [
        "fit_plotter = aplt.FitImagingPlotter(fit=fit)\n",
        "fit_plotter.subplot_fit()"
      ],
      "outputs": [],
      "execution_count": null
    },
    {
      "cell_type": "markdown",
      "metadata": {},
      "source": [
        "Nevertheless, there are still residuals, which we now rectify by fitting the shapelets in a non-linear search, \n",
        "simultaneously fitting the lens's mass and source galaxies.\n",
        "\n",
        "__Model__\n",
        "\n",
        "We compose our model using `Model` objects, which represent the galaxies we fit to our data. In this \n",
        "example we fit a model where:\n",
        "\n",
        " - The lens galaxy's total mass distribution is an `Isothermal` and `ExternalShear` [7 parameters].\n",
        " - The source galaxy's bulge is a superposition of 10 parametric linear `ShapeletCartesianSph` profiles [3 parameters]. \n",
        " - The centres of the Shapelets are all linked together.\n",
        " - The size of the Shapelet basis is controlled by a `beta` parameter, which is the same for all Shapelet basis \n",
        "   functions.\n",
        "\n",
        "The number of free parameters and therefore the dimensionality of non-linear parameter space is N=10.\n",
        "\n",
        "Note how this Shapelet model can capture features more complex than a Sersic, but has fewer non-linear parameters\n",
        "(N=3 compared to N=7 for a `Sersic`).\n",
        "\n",
        "__Model Cookbook__\n",
        "\n",
        "A full description of model composition, including lens model customization, is provided by the model cookbook: \n",
        "\n",
        "https://pyautolens.readthedocs.io/en/latest/general/model_cookbook.html"
      ]
    },
    {
      "cell_type": "code",
      "metadata": {},
      "source": [
        "# Lens:\n",
        "\n",
        "mass = af.Model(al.mp.Isothermal)\n",
        "\n",
        "shear = af.Model(al.mp.ExternalShear)\n",
        "\n",
        "lens = af.Model(al.Galaxy, redshift=0.5, mass=mass, shear=shear)\n",
        "\n",
        "# Source:\n",
        "\n",
        "total_n = 10\n",
        "total_m = sum(range(2, total_n + 1)) + 1\n",
        "\n",
        "shapelets_bulge_list = af.Collection(\n",
        "    af.Model(al.lp_linear.ShapeletPolarSph) for _ in range(total_n + total_m)\n",
        ")\n",
        "\n",
        "n_count = 1\n",
        "m_count = -1\n",
        "\n",
        "for i, shapelet in enumerate(shapelets_bulge_list):\n",
        "    shapelet.n = n_count\n",
        "    shapelet.m = m_count\n",
        "\n",
        "    m_count += 2\n",
        "\n",
        "    if m_count > n_count:\n",
        "        n_count += 1\n",
        "        m_count = -n_count\n",
        "\n",
        "    shapelet.centre = shapelets_bulge_list[0].centre\n",
        "    shapelet.beta = shapelets_bulge_list[0].beta\n",
        "\n",
        "bulge = af.Model(\n",
        "    al.lp_basis.Basis,\n",
        "    light_profile_list=shapelets_bulge_list,\n",
        ")\n",
        "\n",
        "source = af.Model(al.Galaxy, redshift=1.0, bulge=bulge)\n",
        "\n",
        "# Overall Lens Model:\n",
        "\n",
        "model = af.Collection(galaxies=af.Collection(lens=lens, source=source))"
      ],
      "outputs": [],
      "execution_count": null
    },
    {
      "cell_type": "markdown",
      "metadata": {},
      "source": [
        "The `info` attribute shows the model in a readable format (if this does not display clearly on your screen refer to\n",
        "`start_here.ipynb` for a description of how to fix this).\n",
        "\n",
        "This confirms that the source galaxy is made of many `ShapeletCartesianSph` profiles."
      ]
    },
    {
      "cell_type": "code",
      "metadata": {},
      "source": [
        "print(model.info)"
      ],
      "outputs": [],
      "execution_count": null
    },
    {
      "cell_type": "markdown",
      "metadata": {},
      "source": [
        "__Search__\n",
        "\n",
        "The model is fitted to the data using the nested sampling algorithm Nautilus (see `start.here.py` for a \n",
        "full description)."
      ]
    },
    {
      "cell_type": "code",
      "metadata": {},
      "source": [
        "search = af.Nautilus(\n",
        "    path_prefix=path.join(\"imaging\", \"modeling\"),\n",
        "    name=\"shapelets\",\n",
        "    unique_tag=dataset_name,\n",
        "    n_live=150,\n",
        "    #    force_x1_cpu=True,\n",
        "    number_of_cores=4,\n",
        ")"
      ],
      "outputs": [],
      "execution_count": null
    },
    {
      "cell_type": "markdown",
      "metadata": {},
      "source": [
        "__Analysis__\n",
        "\n",
        "Create the `AnalysisImaging` object defining how the via Nautilus the model is fitted to the data."
      ]
    },
    {
      "cell_type": "code",
      "metadata": {},
      "source": [
        "analysis = al.AnalysisImaging(\n",
        "    dataset=dataset,\n",
        "    settings_inversion=al.SettingsInversion(\n",
        "        use_w_tilde=False, use_positive_only_solver=False\n",
        "    ),\n",
        ")"
      ],
      "outputs": [],
      "execution_count": null
    },
    {
      "cell_type": "markdown",
      "metadata": {},
      "source": [
        "__Run Time__\n",
        "\n",
        "The likelihood evaluation time for a shapelets is significantly slower than standard light profiles.\n",
        "This is because the image of every shapelets must be computed and evaluated, and each must be blurred with the PSF.\n",
        "In this example, the evaluation time is ~0.37s, compared to ~0.01 seconds for standard light profiles.\n",
        "\n",
        "Gains in the overall run-time however are made thanks to the models reduced complexity and lower\n",
        "number of free parameters. The source is modeled with 3 free parameters, compared to 6+ for a linear light profile \n",
        "Sersic.\n",
        "\n",
        "However, the multi-gaussian expansion (MGE) approach is even faster than shapelets. It uses fewer Gaussian basis\n",
        "functions (speed up the likelihood evaluation) and has fewer free parameters (speeding up the non-linear search).\n",
        "Furthermore, non of the free parameters scale the size of the source galaxy, which means the non-linear search\n",
        "can converge faster.\n",
        "\n",
        "I recommend you try using an MGE approach alongside shapelets. For many science cases, the MGE approach will be\n",
        "faster and give higher quality results. Shapelets may perform better for irregular sources, but this is not\n",
        "guaranteed."
      ]
    },
    {
      "cell_type": "code",
      "metadata": {},
      "source": [
        "run_time_dict, info_dict = analysis.profile_log_likelihood_function(\n",
        "    instance=model.random_instance()\n",
        ")\n",
        "\n",
        "print(f\"Log Likelihood Evaluation Time (second) = {run_time_dict['fit_time']}\")\n",
        "print(\n",
        "    \"Estimated Run Time Upper Limit (seconds) = \",\n",
        "    (run_time_dict[\"fit_time\"] * model.total_free_parameters * 10000)\n",
        "    / search.number_of_cores,\n",
        ")"
      ],
      "outputs": [],
      "execution_count": null
    },
    {
      "cell_type": "markdown",
      "metadata": {},
      "source": [
        "__Model-Fit__\n",
        "\n",
        "We begin the model-fit by passing the model and analysis object to the non-linear search (checkout the output folder\n",
        "for on-the-fly visualization and results)."
      ]
    },
    {
      "cell_type": "code",
      "metadata": {},
      "source": [
        "result = search.fit(model=model, analysis=analysis)"
      ],
      "outputs": [],
      "execution_count": null
    },
    {
      "cell_type": "markdown",
      "metadata": {},
      "source": [
        "__Result__\n",
        "\n",
        "The `info` attribute shows the model in a readable format (if this does not display clearly on your screen refer to\n",
        "`start_here.ipynb` for a description of how to fix this)."
      ]
    },
    {
      "cell_type": "code",
      "metadata": {},
      "source": [
        "print(result.info)"
      ],
      "outputs": [],
      "execution_count": null
    },
    {
      "cell_type": "markdown",
      "metadata": {},
      "source": [
        "We plot the maximum likelihood fit, tracer images and posteriors inferred via Nautilus.\n",
        "\n",
        "Checkout `autolens_workspace/*/imaging/results` for a full description of analysing results in **PyAutoLens**."
      ]
    },
    {
      "cell_type": "code",
      "metadata": {},
      "source": [
        "print(result.max_log_likelihood_instance)\n",
        "\n",
        "galaxies_plotter = aplt.GalaxiesPlotter(\n",
        "    galaxies=result.max_log_likelihood_galaxies, grid=result.grid\n",
        ")\n",
        "galaxies_plotter.subplot()\n",
        "\n",
        "fit_plotter = aplt.FitImagingPlotter(fit=result.max_log_likelihood_fit)\n",
        "fit_plotter.subplot_fit()\n",
        "\n",
        "search_plotter = aplt.NautilusPlotter(samples=result.samples)\n",
        "search_plotter.cornerplot()"
      ],
      "outputs": [],
      "execution_count": null
    },
    {
      "cell_type": "markdown",
      "metadata": {},
      "source": [
        "__Lens Shapelets__\n",
        "\n",
        "A model where the lens is modeled as shapelets can be composed and fitted as shown below.\n",
        "\n",
        "I have not seen this model used in the literature, and am not clear on its advantages over a standard light profile\n",
        "model. However, it is worth trying if you are fitting a lens galaxy with a complex morphology.\n",
        "\n",
        "For most massive early-type galaxies, an MGE model will be faster and give higher quality results."
      ]
    },
    {
      "cell_type": "code",
      "metadata": {},
      "source": [
        "# Lens:\n",
        "\n",
        "bulge = af.Model(\n",
        "    al.lp_basis.Basis,\n",
        "    light_profile_list=shapelets_bulge_list,\n",
        ")\n",
        "\n",
        "mass = af.Model(al.mp.Isothermal)\n",
        "\n",
        "shear = af.Model(al.mp.ExternalShear)\n",
        "\n",
        "lens = af.Model(al.Galaxy, redshift=0.5, bulge=bulge, mass=mass, shear=shear)\n",
        "\n",
        "# Source:\n",
        "\n",
        "bulge = af.Model(\n",
        "    al.lp_basis.Basis,\n",
        "    light_profile_list=shapelets_bulge_list,\n",
        ")\n",
        "\n",
        "source = af.Model(al.Galaxy, redshift=1.0, bulge=bulge)\n",
        "\n",
        "# Overall Lens Model:\n",
        "\n",
        "model = af.Collection(galaxies=af.Collection(lens=lens, source=source))"
      ],
      "outputs": [],
      "execution_count": null
    },
    {
      "cell_type": "markdown",
      "metadata": {},
      "source": [
        "Checkout `autolens_workspace/*/imaging/results` for a full description of analysing results in **Pyautolens**, which \n",
        "includes a dedicated tutorial for linear objects like basis functions.\n",
        "\n",
        "__Regularization__\n",
        "\n",
        "There is one downside to `Basis` functions, we may compose a model with too much freedom. The `Basis` (e.g. our 20\n",
        "Gaussians) may overfit noise in the data, or possible the lensed source galaxy emission -- neither of which we \n",
        "want to happen! \n",
        "\n",
        "To circumvent this issue, we have the option of adding regularization to a `Basis`. Regularization penalizes\n",
        "solutions which are not smooth -- it is essentially a prior that says we expect the component the `Basis` represents\n",
        "(e.g. a bulge or disk) to be smooth, in that its light changes smoothly as a function of radius.\n",
        "\n",
        "Below, we compose and fit a model using Basis functions which includes regularization, which adds one addition \n",
        "parameter to the fit, the `coefficient`, which controls the degree of smoothing applied."
      ]
    },
    {
      "cell_type": "code",
      "metadata": {},
      "source": [
        "bulge = af.Model(\n",
        "    al.lp_basis.Basis,\n",
        "    light_profile_list=shapelets_bulge_list,\n",
        "    regularization=al.reg.Constant,\n",
        ")\n",
        "galaxy = af.Model(al.Galaxy, redshift=0.5, bulge=bulge)\n",
        "\n",
        "model = af.Collection(galaxies=af.Collection(galaxy=galaxy))"
      ],
      "outputs": [],
      "execution_count": null
    },
    {
      "cell_type": "markdown",
      "metadata": {},
      "source": [
        "The `info` attribute shows the model, which has addition priors now associated with regularization."
      ]
    },
    {
      "cell_type": "code",
      "metadata": {},
      "source": [
        "print(model.info)\n",
        "\n",
        "search = af.Nautilus(\n",
        "    path_prefix=path.join(\"imaging\", \"modeling\"),\n",
        "    name=\"shapelets_regularized\",\n",
        "    unique_tag=dataset_name,\n",
        "    n_live=150,\n",
        "    number_of_cores=1,\n",
        ")"
      ],
      "outputs": [],
      "execution_count": null
    },
    {
      "cell_type": "markdown",
      "metadata": {},
      "source": [
        "__Run Time__\n",
        "\n",
        "Regularization has a small impact on the run-time of the model-fit, as the likelihood evaluation time does not\n",
        "change and it adds only 1 additional parameter."
      ]
    },
    {
      "cell_type": "code",
      "metadata": {},
      "source": [
        "run_time_dict, info_dict = analysis.profile_log_likelihood_function(\n",
        "    instance=model.random_instance()\n",
        ")\n",
        "\n",
        "print(f\"Log Likelihood Evaluation Time (second) = {run_time_dict['fit_time']}\")\n",
        "print(\n",
        "    \"Estimated Run Time Upper Limit (seconds) = \",\n",
        "    (run_time_dict[\"fit_time\"] * model.total_free_parameters * 10000)\n",
        "    / search.number_of_cores,\n",
        ")\n"
      ],
      "outputs": [],
      "execution_count": null
    },
    {
      "cell_type": "markdown",
      "metadata": {},
      "source": [
        "__Model-Fit__\n",
        "\n",
        "We begin the model-fit by passing the model and analysis object to the non-linear search (checkout the output folder\n",
        "for on-the-fly visualization and results)."
      ]
    },
    {
      "cell_type": "code",
      "metadata": {},
      "source": [
        "result = search.fit(model=model, analysis=analysis)"
      ],
      "outputs": [],
      "execution_count": null
    },
    {
      "cell_type": "markdown",
      "metadata": {},
      "source": [
        "To learn more about Basis functions, regularization and when you should use them, checkout the \n",
        "following **HowToGalaxy** tutorials:\n",
        "\n",
        " - `howtogalaxy/chapter_2_lens_modeling/tutorial_5_linear_profiles.ipynb`.\n",
        " - `howtogalaxy/chapter_4_pixelizations/tutorial_4_bayesian_regularization.ipynb."
      ]
    },
    {
      "cell_type": "code",
      "metadata": {},
      "source": [],
      "outputs": [],
      "execution_count": null
    }
  ],
  "metadata": {
    "anaconda-cloud": {},
    "kernelspec": {
      "display_name": "Python 3",
      "language": "python",
      "name": "python3"
    },
    "language_info": {
      "codemirror_mode": {
        "name": "ipython",
        "version": 3
      },
      "file_extension": ".py",
      "mimetype": "text/x-python",
      "name": "python",
      "nbconvert_exporter": "python",
      "pygments_lexer": "ipython3",
      "version": "3.6.1"
    }
  },
  "nbformat": 4,
  "nbformat_minor": 4
}