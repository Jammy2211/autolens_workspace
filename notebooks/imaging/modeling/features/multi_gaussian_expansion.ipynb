{
  "cells": [
    {
      "cell_type": "markdown",
      "metadata": {},
      "source": [
        "Modeling Features: Multi Gaussian Expansion\n",
        "===========================================\n",
        "\n",
        "A multi Gaussian expansion (MGE) decomposes the lens light into a super positive of ~15-100 Gaussians, where \n",
        "the `intensity` of every Gaussian is solved for via an inversion (see the `light_parametric_linear.py` feature).\n",
        "\n",
        "This script fits a lens light model which uses an MGE consisting of 75 Gaussians, and it is fitted to simulated data \n",
        "where the lens galaxy's light has asymmetric and irregular features.\n",
        "\n",
        "__Advantages__\n",
        "\n",
        "Symmetric light profiles (e.g. elliptical Sersics) may leave significant residuals, because they fail to capture \n",
        "irregular and asymmetric morphological of galaxies (e.g. isophotal twists, an ellipticity which varies radially). \n",
        "An MGE fully captures these features and can therefore much better represent the emission of complex lens galaxies.\n",
        "\n",
        "The MGE model can be composed in a way that has fewer non-linear parameters than an elliptical Sersic. In this example,\n",
        "two separate groups of Gaussians are used to represent the `bulge` and `disk` of the lens, which in total correspond\n",
        "to just N=6 non-linear parameters (a `bulge` and `disk` comprising two linear Sersics would give N=10). \n",
        "\n",
        "The MGE in this script is composed in a way where neither the `intensity` parameters or the parameters controlling\n",
        "the size of the Gaussians (their `sigma`) values are non-linear parameters sampled by Nautilus. This removes some of\n",
        "the most significant degeneracies in parameter space, and can make the model much more reliable and efficient to fit.\n",
        "\n",
        "Therefore, not only does an MGE fit more complex galaxy morphologies, it does so using fewer non-linear parameters\n",
        "in a much simpler non-linear parameter space which has far less significant parameter degeneracies!\n",
        "\n",
        "__Disadvantages__\n",
        "\n",
        "To fit an MGE model to the data, the light of every Gaussian in the MGE must be evaluated and compared to the data.\n",
        "The light of ~15-75 Gaussians must therefore be evaluated, compared to just 2 Sersic profiles. This leads to slower\n",
        "computational run times (although the simpler non-linear parameter space may still produce a faster fit overall).\n",
        "\n",
        "__Model__\n",
        "\n",
        "This script fits an `Imaging` dataset of a 'galaxy-scale' strong lens with a model where:\n",
        "\n",
        " - The lens galaxy's bulge is a super position of `Gaussian`` profiles.\n",
        " - The lens galaxy's disk is a super position of `Gaussian`` profiles.\n",
        " - The lens galaxy's total mass distribution is an `Isothermal` and `ExternalShear`.\n",
        " - The source galaxy's light is a parametric `Sersic`.\n",
        "\n",
        "__Start Here Notebook__\n",
        "\n",
        "If any code in this script is unclear, refer to the modeling `start_here.ipynb` notebook for more detailed comments.\n",
        "\n",
        "__MGE Source Galaxy__\n",
        "\n",
        "The MGE is more suited to modeling the light of lens galaxies, because they are typically elliptical galaxies whose\n",
        "morphology is better represented as a super position of Gaussians. \n",
        "\n",
        "The sort of features typically seen in source galaxies (e.g. disks, bars, clumps of star formation) are less\n",
        "suited to an MGE. The source-plane of many lenses also often have multiple galaxies, whereas the MGE fitted\n",
        "in this example assumes a single `centre`.\n",
        "\n",
        "Nevertheless, this script ends with examples using an MGE for the source (and lens) galaxies. Whilst the MGE\n",
        "struggles to accurately capture the emission of complex sources, it is still an extremely powerful way to get an \n",
        "initial lens mass model. \n",
        "\n",
        "This is because of the advantages listed above, in particular that it produces a lower dimensionality parameter \n",
        "space which has less significant degeneracies because there are no `intensity` and size parameters."
      ]
    },
    {
      "cell_type": "code",
      "metadata": {},
      "source": [
        "%matplotlib inline\n",
        "from pyprojroot import here\n",
        "workspace_path = str(here())\n",
        "%cd $workspace_path\n",
        "print(f\"Working Directory has been set to `{workspace_path}`\")\n",
        "\n",
        "import numpy as np\n",
        "from os import path\n",
        "import autofit as af\n",
        "import autolens as al\n",
        "import autolens.plot as aplt"
      ],
      "outputs": [],
      "execution_count": null
    },
    {
      "cell_type": "markdown",
      "metadata": {},
      "source": [
        "__Dataset__\n",
        "\n",
        "Load and plot the strong lens dataset `simple` via .fits files."
      ]
    },
    {
      "cell_type": "code",
      "metadata": {},
      "source": [
        "dataset_name = \"lens_light_asymmetric\"\n",
        "dataset_path = path.join(\"dataset\", \"imaging\", dataset_name)\n",
        "\n",
        "dataset = al.Imaging.from_fits(\n",
        "    data_path=path.join(dataset_path, \"data.fits\"),\n",
        "    psf_path=path.join(dataset_path, \"psf.fits\"),\n",
        "    noise_map_path=path.join(dataset_path, \"noise_map.fits\"),\n",
        "    pixel_scales=0.1,\n",
        ")\n",
        "\n",
        "dataset_plotter = aplt.ImagingPlotter(dataset=dataset)\n",
        "dataset_plotter.subplot_dataset()"
      ],
      "outputs": [],
      "execution_count": null
    },
    {
      "cell_type": "markdown",
      "metadata": {},
      "source": [
        "__Mask__\n",
        "\n",
        "We define a 3.0\" circular mask, which includes the emission of the lens and source galaxies."
      ]
    },
    {
      "cell_type": "code",
      "metadata": {},
      "source": [
        "mask = al.Mask2D.circular(\n",
        "    shape_native=dataset.shape_native, pixel_scales=dataset.pixel_scales, radius=3.0\n",
        ")\n",
        "\n",
        "dataset = dataset.apply_mask(mask=mask)\n",
        "\n",
        "dataset_plotter = aplt.ImagingPlotter(dataset=dataset)\n",
        "dataset_plotter.subplot_dataset()"
      ],
      "outputs": [],
      "execution_count": null
    },
    {
      "cell_type": "markdown",
      "metadata": {},
      "source": [
        "__Model__\n",
        "\n",
        "We compose a lens model where:\n",
        "\n",
        " - The galaxy's bulge is a superposition of 30 parametric linear `Gaussian` profiles [4 parameters]. \n",
        " - The centres and elliptical components of the Gaussians are all linked together.\n",
        " - The `sigma` size of the Gaussians increases in log10 increments.\n",
        "\n",
        " - The lens galaxy's total mass distribution is an `Isothermal` and `ExternalShear` [7 parameters].\n",
        " \n",
        " - The source galaxy's light is a parametric linear `Sersic` [6 parameters].\n",
        "\n",
        "The number of free parameters and therefore the dimensionality of non-linear parameter space is N=17.\n",
        "\n",
        "__Model Cookbook__\n",
        "\n",
        "A full description of model composition, including lens model customization, is provided by the model cookbook: \n",
        "\n",
        "https://pyautolens.readthedocs.io/en/latest/general/model_cookbook.html"
      ]
    },
    {
      "cell_type": "code",
      "metadata": {},
      "source": [
        "total_gaussians = 30\n",
        "gaussian_per_basis = 2\n",
        "\n",
        "# The sigma values of the Gaussians will be fixed to values spanning 0.01 to the mask radius, 3.0\".\n",
        "mask_radius = 3.0\n",
        "log10_sigma_list = np.linspace(-2, np.log10(mask_radius), total_gaussians)\n",
        "\n",
        "# By defining the centre here, it creates two free parameters that are assigned below to all Gaussians.\n",
        "\n",
        "centre_0 = af.UniformPrior(lower_limit=-0.1, upper_limit=0.1)\n",
        "centre_1 = af.UniformPrior(lower_limit=-0.1, upper_limit=0.1)\n",
        "\n",
        "bulge_gaussian_list = []\n",
        "\n",
        "for j in range(gaussian_per_basis):\n",
        "    # A list of Gaussian model components whose parameters are customized belows.\n",
        "\n",
        "    gaussian_list = af.Collection(\n",
        "        af.Model(al.lp_linear.Gaussian) for _ in range(total_gaussians)\n",
        "    )\n",
        "\n",
        "    # Iterate over every Gaussian and customize its parameters.\n",
        "\n",
        "    for i, gaussian in enumerate(gaussian_list):\n",
        "        gaussian.centre.centre_0 = centre_0  # All Gaussians have same y centre.\n",
        "        gaussian.centre.centre_1 = centre_1  # All Gaussians have same x centre.\n",
        "        gaussian.ell_comps = gaussian_list[\n",
        "            0\n",
        "        ].ell_comps  # All Gaussians have same elliptical components.\n",
        "        gaussian.sigma = (\n",
        "            10 ** log10_sigma_list[i]\n",
        "        )  # All Gaussian sigmas are fixed to values above.\n",
        "\n",
        "    bulge_gaussian_list += gaussian_list\n",
        "\n",
        "# The Basis object groups many light profiles together into a single model component.\n",
        "\n",
        "bulge = af.Model(\n",
        "    al.lp_basis.Basis,\n",
        "    light_profile_list=bulge_gaussian_list,\n",
        ")\n",
        "\n",
        "mass = af.Model(al.mp.Isothermal)\n",
        "\n",
        "lens = af.Model(al.Galaxy, redshift=0.5, bulge=bulge, mass=mass)\n",
        "\n",
        "\n",
        "# bulge = af.Model(al.lp.Sersic)\n",
        "\n",
        "source = af.Model(al.Galaxy, redshift=1.0, bulge=al.lp_linear.Sersic)\n",
        "\n",
        "model = af.Collection(galaxies=af.Collection(lens=lens, source=source))"
      ],
      "outputs": [],
      "execution_count": null
    },
    {
      "cell_type": "markdown",
      "metadata": {},
      "source": [
        "The `info` attribute shows the model in a readable format (if this does not display clearly on your screen refer to\n",
        "`start_here.ipynb` for a description of how to fix this)."
      ]
    },
    {
      "cell_type": "code",
      "metadata": {},
      "source": [
        "print(model.info)"
      ],
      "outputs": [],
      "execution_count": null
    },
    {
      "cell_type": "markdown",
      "metadata": {},
      "source": [
        "__Search__\n",
        "\n",
        "The model is fitted to the data using the nested sampling algorithm Nautilus (see `start.here.py` for a \n",
        "full description)."
      ]
    },
    {
      "cell_type": "code",
      "metadata": {},
      "source": [
        "search = af.Nautilus(\n",
        "    path_prefix=path.join(\"imaging\", \"modeling\"),\n",
        "    name=\"mge\",\n",
        "    unique_tag=dataset_name,\n",
        "    n_live=150,\n",
        "    number_of_cores=1,\n",
        ")"
      ],
      "outputs": [],
      "execution_count": null
    },
    {
      "cell_type": "markdown",
      "metadata": {},
      "source": [
        "__Analysis__\n",
        "\n",
        "Create the `AnalysisImaging` object defining how the via Nautilus the model is fitted to the data."
      ]
    },
    {
      "cell_type": "code",
      "metadata": {},
      "source": [
        "analysis = al.AnalysisImaging(dataset=dataset)"
      ],
      "outputs": [],
      "execution_count": null
    },
    {
      "cell_type": "markdown",
      "metadata": {},
      "source": [
        "__Run Time__\n",
        "\n",
        "The likelihood evaluation time for a multi-Gaussian expansion is significantly slower than standard light profiles.\n",
        "This is because the image of every Gaussian must be computed and evaluated, and each must be blurred with the PSF.\n",
        "In this example, the evaluation time is ~0.35s, compared to ~0.01 seconds for standard light profiles.\n",
        "\n",
        "Huge gains in the overall run-time however are made thanks to the models significantly reduced complexity and lower\n",
        "number of free parameters. Furthermore, because there are not free parameters which scale the size of lens galaxy,\n",
        "this produces significantly faster convergence by Nautilus that any other lens light model.\n",
        "\n",
        "Overall, it is difficult to state which approach will be faster overall. However, the MGE's ability to fit the data\n",
        "more accurately and the less complex parameter due to removing parameters that scale the lens galaxy make it the \n",
        "superior approach."
      ]
    },
    {
      "cell_type": "code",
      "metadata": {},
      "source": [
        "run_time_dict, info_dict = analysis.profile_log_likelihood_function(\n",
        "    instance=model.random_instance()\n",
        ")\n",
        "\n",
        "print(f\"Log Likelihood Evaluation Time (second) = {run_time_dict['fit_time']}\")\n",
        "print(\n",
        "    \"Estimated Run Time Upper Limit (seconds) = \",\n",
        "    (run_time_dict[\"fit_time\"] * model.total_free_parameters * 10000)\n",
        "    / search.number_of_cores,\n",
        ")"
      ],
      "outputs": [],
      "execution_count": null
    },
    {
      "cell_type": "markdown",
      "metadata": {},
      "source": [
        "__Model-Fit__\n",
        "\n",
        "We begin the model-fit by passing the model and analysis object to the non-linear search (checkout the output folder\n",
        "for on-the-fly visualization and results)."
      ]
    },
    {
      "cell_type": "code",
      "metadata": {},
      "source": [
        "result = search.fit(model=model, analysis=analysis)"
      ],
      "outputs": [],
      "execution_count": null
    },
    {
      "cell_type": "markdown",
      "metadata": {},
      "source": [
        "__Result__\n",
        "\n",
        "The search returns a result object, which whose `info` attribute shows the result in a readable format (if this does \n",
        "not display clearly on your screen refer to `start_here.ipynb` for a description of how to fix this):\n",
        "\n",
        "This confirms there are many `Gaussians` in the lens light model."
      ]
    },
    {
      "cell_type": "code",
      "metadata": {},
      "source": [
        "print(result.info)"
      ],
      "outputs": [],
      "execution_count": null
    },
    {
      "cell_type": "markdown",
      "metadata": {},
      "source": [
        "We plot the maximum likelihood fit, tracer images and posteriors inferred via Nautilus.\n",
        "\n",
        "Checkout `autolens_workspace/*/imaging/results` for a full description of analysing results in **PyAutoLens**."
      ]
    },
    {
      "cell_type": "code",
      "metadata": {},
      "source": [
        "print(result.max_log_likelihood_instance)\n",
        "\n",
        "tracer_plotter = aplt.TracerPlotter(\n",
        "    tracer=result.max_log_likelihood_tracer, grid=result.grid\n",
        ")\n",
        "tracer_plotter.subplot_tracer()\n",
        "\n",
        "fit_plotter = aplt.FitImagingPlotter(fit=result.max_log_likelihood_fit)\n",
        "fit_plotter.subplot_fit()\n",
        "\n",
        "search_plotter = aplt.DynestyPlotter(samples=result.samples)\n",
        "search_plotter.cornerplot()"
      ],
      "outputs": [],
      "execution_count": null
    },
    {
      "cell_type": "markdown",
      "metadata": {},
      "source": [
        "Checkout `autolens_workspace/*/imaging/results` for a full description of analysing results in **PyAutoLens**, \n",
        "which includes a dedicated tutorial for linear objects like basis functions.\n",
        "\n",
        "__Source MGE__\n",
        "\n",
        "As discussed at the beginning of this tutorial, an MGE is an effective way to model the light of a source galaxy and \n",
        "get an initial estimate of the lens mass model.\n",
        "\n",
        "This MGE source is used alongside the MGE lens light model, which offers a lot of flexibility in modeling the lens\n",
        "and source galaxies.\n",
        "\n",
        "We compose the model below, using the Gaussian model compoenents created above."
      ]
    },
    {
      "cell_type": "code",
      "metadata": {},
      "source": [
        "# Lens:\n",
        "\n",
        "bulge = af.Model(\n",
        "    al.lp_basis.Basis,\n",
        "    light_profile_list=gaussian_list,\n",
        ")\n",
        "mass = af.Model(al.mp.Isothermal)\n",
        "lens = af.Model(al.Galaxy, redshift=0.5, bulge=bulge, mass=mass)\n",
        "\n",
        "# Source:\n",
        "\n",
        "bulge = af.Model(\n",
        "    al.lp_basis.Basis,\n",
        "    light_profile_list=gaussian_list,\n",
        ")\n",
        "source = af.Model(al.Galaxy, redshift=1.0, bulge=bulge)\n",
        "\n",
        "# Overall Lens Model:\n",
        "\n",
        "model = af.Collection(galaxies=af.Collection(lens=lens, source=source))"
      ],
      "outputs": [],
      "execution_count": null
    },
    {
      "cell_type": "markdown",
      "metadata": {},
      "source": [
        "Printing the model info confirms the model has Gaussians for both the lens and source galaxies."
      ]
    },
    {
      "cell_type": "code",
      "metadata": {},
      "source": [
        "print(model.info)"
      ],
      "outputs": [],
      "execution_count": null
    },
    {
      "cell_type": "markdown",
      "metadata": {},
      "source": [
        "We now fit this model, which includes the MGE source and lens light models."
      ]
    },
    {
      "cell_type": "code",
      "metadata": {},
      "source": [
        "search = af.Nautilus(\n",
        "    path_prefix=path.join(\"imaging\", \"modeling\"),\n",
        "    name=\"mge_including_source\",\n",
        "    unique_tag=dataset_name,\n",
        "    n_live=150,\n",
        "    number_of_cores=1,\n",
        ")"
      ],
      "outputs": [],
      "execution_count": null
    },
    {
      "cell_type": "markdown",
      "metadata": {},
      "source": [
        "__Run Time__\n",
        "\n",
        "The likelihood evaluation time for a multi-Gaussian expansion for both lens and source galaxies is not much slower\n",
        "than when just the lens galaxy uses an MGE.\n",
        "\n",
        "However, the overall run-time will be even faster than before, as treating the source as an MGE further\n",
        "reduces the complexity of parameter space ensuring Nautilus converges even faster.\n",
        "\n",
        "For initial model-fits where the lens model parameters are not known, a lens + source MGE is possibly the best\n",
        "model one can use. "
      ]
    },
    {
      "cell_type": "code",
      "metadata": {},
      "source": [
        "run_time_dict, info_dict = analysis.profile_log_likelihood_function(\n",
        "    instance=model.random_instance()\n",
        ")\n",
        "\n",
        "print(f\"Log Likelihood Evaluation Time (second) = {run_time_dict['fit_time']}\")\n",
        "print(\n",
        "    \"Estimated Run Time Upper Limit (seconds) = \",\n",
        "    (run_time_dict[\"fit_time\"] * model.total_free_parameters * 10000)\n",
        "    / search.number_of_cores,\n",
        ")"
      ],
      "outputs": [],
      "execution_count": null
    },
    {
      "cell_type": "markdown",
      "metadata": {},
      "source": [
        "__Model-Fit__\n",
        "\n",
        "We begin the model-fit by passing the model and analysis object to the non-linear search (checkout the output folder\n",
        "for on-the-fly visualization and results)."
      ]
    },
    {
      "cell_type": "code",
      "metadata": {},
      "source": [
        "result = search.fit(model=model, analysis=analysis)"
      ],
      "outputs": [],
      "execution_count": null
    },
    {
      "cell_type": "markdown",
      "metadata": {},
      "source": [
        "__Regularization__\n",
        "\n",
        "There is one downside to `Basis` functions, we may compose a model with too much freedom. The `Basis` (e.g. our 20\n",
        "Gaussians) may overfit noise in the data, or possible the lensed source galaxy emission -- neither of which we \n",
        "want to happen! \n",
        "\n",
        "To circumvent this issue, we have the option of adding regularization to a `Basis`. Regularization penalizes\n",
        "solutions which are not smooth -- it is essentially a prior that says we expect the component the `Basis` represents\n",
        "(e.g. a bulge or disk) to be smooth, in that its light changes smoothly as a function of radius.\n",
        "\n",
        "Below, we compose and fit a model using Basis functions which includes regularization, which adds one addition \n",
        "parameter to the fit, the `coefficient`, which controls the degree of smoothing applied."
      ]
    },
    {
      "cell_type": "code",
      "metadata": {},
      "source": [
        "# Lens:\n",
        "\n",
        "regularization = af.Model(al.reg.Constant)\n",
        "bulge = af.Model(\n",
        "    al.lp_basis.Basis, light_profile_list=gaussian_list, regularization=regularization\n",
        ")\n",
        "mass = af.Model(al.mp.Isothermal)\n",
        "lens = af.Model(al.Galaxy, redshift=0.5, bulge=bulge, mass=mass)\n",
        "\n",
        "# Source:\n",
        "\n",
        "bulge = af.Model(al.lp.Sersic)\n",
        "source = af.Model(al.Galaxy, redshift=1.0, bulge=bulge)\n",
        "\n",
        "# Overall Lens Model:\n",
        "\n",
        "model = af.Collection(galaxies=af.Collection(lens=lens, source=source))"
      ],
      "outputs": [],
      "execution_count": null
    },
    {
      "cell_type": "markdown",
      "metadata": {},
      "source": [
        "The `info` attribute shows the model, which has addition priors now associated with regularization."
      ]
    },
    {
      "cell_type": "code",
      "metadata": {},
      "source": [
        "print(model.info)\n",
        "\n",
        "search = af.Nautilus(\n",
        "    path_prefix=path.join(\"imaging\", \"modeling\"),\n",
        "    name=\"mge_regularized\",\n",
        "    unique_tag=dataset_name,\n",
        "    n_live=150,\n",
        "    number_of_cores=1,\n",
        ")"
      ],
      "outputs": [],
      "execution_count": null
    },
    {
      "cell_type": "markdown",
      "metadata": {},
      "source": [
        "__Run Time__\n",
        "\n",
        "Regularization has a small impact on the run-time of the model-fit, as the likelihood evaluation time does not\n",
        "change and it adds only 1 additional parameter."
      ]
    },
    {
      "cell_type": "code",
      "metadata": {},
      "source": [
        "run_time_dict, info_dict = analysis.profile_log_likelihood_function(\n",
        "    instance=model.random_instance()\n",
        ")\n",
        "\n",
        "print(f\"Log Likelihood Evaluation Time (second) = {run_time_dict['fit_time']}\")\n",
        "print(\n",
        "    \"Estimated Run Time Upper Limit (seconds) = \",\n",
        "    (run_time_dict[\"fit_time\"] * model.total_free_parameters * 10000)\n",
        "    / search.number_of_cores,\n",
        ")"
      ],
      "outputs": [],
      "execution_count": null
    },
    {
      "cell_type": "markdown",
      "metadata": {},
      "source": [
        "__Model-Fit__\n",
        "\n",
        "We begin the model-fit by passing the model and analysis object to the non-linear search (checkout the output folder\n",
        "for on-the-fly visualization and results)."
      ]
    },
    {
      "cell_type": "code",
      "metadata": {},
      "source": [
        "result = search.fit(model=model, analysis=analysis)"
      ],
      "outputs": [],
      "execution_count": null
    },
    {
      "cell_type": "markdown",
      "metadata": {},
      "source": [
        "__Wrap Up__\n",
        "\n",
        "A Multi Gaussian Expansion is a powerful tool for modeling the light of galaxies, and offers a compelling method to\n",
        "fit complex light profiles with a small number of parameters.\n",
        "\n",
        "For **PyAutoLens**'s advanced chaining feature, it is common for us to use the MGE to initialize the lens light and \n",
        "source models. The lens light model is then made more complex by using an MGE with more Gaussians, and the source\n",
        "becomes a pixelized model.\n",
        "\n",
        "Now you are familiar with MGE modeling, it is recommended you adopt this as your default lens modeling approach. \n",
        "However, it may not be suitable for lower resolution data, where the simpler Sersic profiles may be more appropriate.\n",
        "\n",
        "To learn more about Basis functions, regularization and when you should use them, checkout the \n",
        "following **HowToLens** tutorials:\n",
        "\n",
        " - `howtolens/chapter_2_lens_modeling/tutorial_5_linear_profiles.ipynb`.\n",
        " - `howtolens/chapter_4_pixelizations/tutorial_4_bayesian_regularization.ipynb."
      ]
    },
    {
      "cell_type": "code",
      "metadata": {},
      "source": [],
      "outputs": [],
      "execution_count": null
    }
  ],
  "metadata": {
    "anaconda-cloud": {},
    "kernelspec": {
      "display_name": "Python 3",
      "language": "python",
      "name": "python3"
    },
    "language_info": {
      "codemirror_mode": {
        "name": "ipython",
        "version": 3
      },
      "file_extension": ".py",
      "mimetype": "text/x-python",
      "name": "python",
      "nbconvert_exporter": "python",
      "pygments_lexer": "ipython3",
      "version": "3.6.1"
    }
  },
  "nbformat": 4,
  "nbformat_minor": 4
}