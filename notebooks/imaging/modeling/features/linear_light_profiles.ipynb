{
  "cells": [
    {
      "cell_type": "markdown",
      "metadata": {},
      "source": [
        "Modeling Features: Linear Light Profiles\n",
        "========================================\n",
        "\n",
        "A \"linear light profile\" is a variant of a standard light profile where the `intensity` parameter is solved for\n",
        "via linear algebra every time the model is fitted to the data. This uses a process called an \"inversion\" and it\n",
        "always computes the `intensity` values that give the best fit to the data (e.g. maximize the likelihood)\n",
        "given the light profile's other parameters.\n",
        "\n",
        "Each light profile's `intensity` parameter is therefore not a free parameter in the model-fit, reducing the\n",
        "dimensionality of non-linear parameter space by the number of light profiles (in this example by 2 dimensions).\n",
        "\n",
        "This also removes the degeneracies that occur between the `intensity` and other light profile parameters\n",
        "(e.g. `effective_radius`, `sersic_index`), which are difficult degeneracies for the non-linear search to map out\n",
        "accurately. This produces more reliable lens model results and converge in fewer iterations, speeding up the overall\n",
        "analysis.\n",
        "\n",
        "The inversion has a relatively small computational cost, thus we reduce the model complexity with much expensive and\n",
        "can therefore fit models more reliably and faster!\n",
        "\n",
        "It is therefore recommended you always use linear light profiles to fit models over standard light profiles!\n",
        "\n",
        "__Model__\n",
        "\n",
        "This script fits an `Imaging` dataset of a 'galaxy-scale' strong lens with a model where:\n",
        "\n",
        " - The lens galaxy's light is a parametric linear `Sersic` bulge.\n",
        " - The lens galaxy's total mass distribution is an `Isothermal` and `ExternalShear`.\n",
        " - The source galaxy's light is a parametric linear `Sersic`.\n",
        "\n",
        "__Start Here Notebook__\n",
        "\n",
        "If any code in this script is unclear, refer to the modeling `start_here.ipynb` notebook for more detailed comments.\n",
        "\n",
        "__Notes__\n",
        "\n",
        "This script is identical to `modeling/light_parametric__mass_total__source_lp.py` except that the light\n",
        "profiles are switched to linear light profiles."
      ]
    },
    {
      "cell_type": "code",
      "metadata": {},
      "source": [
        "%matplotlib inline\n",
        "from pyprojroot import here\n",
        "workspace_path = str(here())\n",
        "%cd $workspace_path\n",
        "print(f\"Working Directory has been set to `{workspace_path}`\")\n",
        "\n",
        "from os import path\n",
        "import autofit as af\n",
        "import autolens as al\n",
        "import autolens.plot as aplt"
      ],
      "outputs": [],
      "execution_count": null
    },
    {
      "cell_type": "markdown",
      "metadata": {},
      "source": [
        "__Dataset__\n",
        "\n",
        "Load and plot the strong lens dataset `simple` via .fits files."
      ]
    },
    {
      "cell_type": "code",
      "metadata": {},
      "source": [
        "dataset_name = \"simple\"\n",
        "dataset_path = path.join(\"dataset\", \"imaging\", dataset_name)\n",
        "\n",
        "dataset = al.Imaging.from_fits(\n",
        "    data_path=path.join(dataset_path, \"data.fits\"),\n",
        "    psf_path=path.join(dataset_path, \"psf.fits\"),\n",
        "    noise_map_path=path.join(dataset_path, \"noise_map.fits\"),\n",
        "    pixel_scales=0.1,\n",
        ")\n",
        "\n",
        "dataset_plotter = aplt.ImagingPlotter(dataset=dataset)\n",
        "dataset_plotter.subplot_dataset()"
      ],
      "outputs": [],
      "execution_count": null
    },
    {
      "cell_type": "markdown",
      "metadata": {},
      "source": [
        "__Mask__\n",
        "\n",
        "We define a 3.0\" circular mask, which includes the emission of the lens and source galaxies."
      ]
    },
    {
      "cell_type": "code",
      "metadata": {},
      "source": [
        "mask = al.Mask2D.circular(\n",
        "    shape_native=dataset.shape_native, pixel_scales=dataset.pixel_scales, radius=3.0\n",
        ")\n",
        "\n",
        "dataset = dataset.apply_mask(mask=mask)\n",
        "\n",
        "dataset_plotter = aplt.ImagingPlotter(dataset=dataset)\n",
        "dataset_plotter.subplot_dataset()"
      ],
      "outputs": [],
      "execution_count": null
    },
    {
      "cell_type": "markdown",
      "metadata": {},
      "source": [
        "__Model__\n",
        "\n",
        "We compose a lens model where:\n",
        "\n",
        " - The lens galaxy's light is a linear parametric `Sersic` bulge [6 parameters].\n",
        " \n",
        " - The lens galaxy's total mass distribution is an `Isothermal` and `ExternalShear` [7 parameters].\n",
        " \n",
        " - The source galaxy's light is a linear parametric `Sersic` [6 parameters].\n",
        "\n",
        "The number of free parameters and therefore the dimensionality of non-linear parameter space is N=19.\n",
        "\n",
        "Note how both the lens and source galaxies use linear light profiles, meaning that the `intensity` parameter of both\n",
        "is not longer a free parameter in the fit.\n",
        "\n",
        "__Model Cookbook__\n",
        "\n",
        "A full description of model composition, including lens model customization, is provided by the model cookbook: \n",
        "\n",
        "https://pyautolens.readthedocs.io/en/latest/general/model_cookbook.html"
      ]
    },
    {
      "cell_type": "code",
      "metadata": {},
      "source": [
        "# Lens:\n",
        "\n",
        "bulge = af.Model(al.lp_linear.Sersic)\n",
        "\n",
        "mass = af.Model(al.mp.Isothermal)\n",
        "shear = af.Model(al.mp.ExternalShear)\n",
        "\n",
        "lens = af.Model(al.Galaxy, redshift=0.5, bulge=bulge, mass=mass, shear=shear)\n",
        "\n",
        "# Source:\n",
        "\n",
        "bulge = af.Model(al.lp_linear.Sersic)\n",
        "\n",
        "source = af.Model(al.Galaxy, redshift=1.0, bulge=bulge)\n",
        "\n",
        "# Overall Lens Model:\n",
        "\n",
        "model = af.Collection(galaxies=af.Collection(lens=lens, source=source))"
      ],
      "outputs": [],
      "execution_count": null
    },
    {
      "cell_type": "markdown",
      "metadata": {},
      "source": [
        "The `info` attribute shows the model in a readable format (if this does not display clearly on your screen refer to\n",
        "`start_here.ipynb` for a description of how to fix this).\n",
        "\n",
        "This confirms that the light profiles of the lens and source galaxies do not include an `intensity` parameter."
      ]
    },
    {
      "cell_type": "code",
      "metadata": {},
      "source": [
        "print(model.info)"
      ],
      "outputs": [],
      "execution_count": null
    },
    {
      "cell_type": "markdown",
      "metadata": {},
      "source": [
        "__Search__\n",
        "\n",
        "The model is fitted to the data using the nested sampling algorithm Nautilus (see `start.here.py` for a \n",
        "full description).\n",
        "\n",
        "In the `start_here.py` example 150 live points (`n_live=150`) were used to sample parameter space. For the linear\n",
        "light profiles this is reduced to 100, as the simpler parameter space means we need fewer samples to map it out\n",
        "accurately. This will lead to faster run times."
      ]
    },
    {
      "cell_type": "code",
      "metadata": {},
      "source": [
        "search = af.Nautilus(\n",
        "    path_prefix=path.join(\"imaging\", \"modeling\"),\n",
        "    name=\"linear_light_profiles\",\n",
        "    unique_tag=dataset_name,\n",
        "    n_live=100,\n",
        "    number_of_cores=1,\n",
        ")"
      ],
      "outputs": [],
      "execution_count": null
    },
    {
      "cell_type": "markdown",
      "metadata": {},
      "source": [
        "__Analysis__\n",
        "\n",
        "Create the `AnalysisImaging` object defining how the via Nautilus the model is fitted to the data."
      ]
    },
    {
      "cell_type": "code",
      "metadata": {},
      "source": [
        "analysis = al.AnalysisImaging(dataset=dataset)"
      ],
      "outputs": [],
      "execution_count": null
    },
    {
      "cell_type": "markdown",
      "metadata": {},
      "source": [
        "__Run Time__\n",
        "\n",
        "For standard light profiles, the log likelihood evaluation time is of order ~0.01 seconds for this dataset.\n",
        "\n",
        "For linear light profiles, the log likelihood evaluation increases to around ~0.05 seconds per likelihood evaluation.\n",
        "This is still fast, but it does mean that the fit may take around five times longer to run.\n",
        "\n",
        "However, because two free parameters have been removed from the model (the `intensity` of the lens bulge and \n",
        "source bulge), the total number of likelihood evaluations will reduce. Furthermore, the simpler parameter space\n",
        "likely means that the fit will take less than 10000 per free parameter to converge. This is aided further\n",
        "by the reduction in `n_live` to 100.\n",
        "\n",
        "Fits using standard light profiles and linear light profiles therefore take roughly the same time to run. However,\n",
        "the simpler parameter space of linear light profiles means that the model-fit is more reliable, less susceptible to\n",
        "converging to an incorrect solution and scales better if even more light profiles are included in the model."
      ]
    },
    {
      "cell_type": "code",
      "metadata": {},
      "source": [
        "run_time_dict, info_dict = analysis.profile_log_likelihood_function(\n",
        "    instance=model.random_instance()\n",
        ")\n",
        "\n",
        "print(f\"Log Likelihood Evaluation Time (second) = {run_time_dict['fit_time']}\")\n",
        "print(\n",
        "    \"Estimated Run Time Upper Limit (seconds) = \",\n",
        "    (run_time_dict[\"fit_time\"] * model.total_free_parameters * 10000)\n",
        "    / search.number_of_cores,\n",
        ")"
      ],
      "outputs": [],
      "execution_count": null
    },
    {
      "cell_type": "markdown",
      "metadata": {},
      "source": [
        "__Model-Fit__\n",
        "\n",
        "We begin the model-fit by passing the model and analysis object to the non-linear search (checkout the output folder\n",
        "for on-the-fly visualization and results)."
      ]
    },
    {
      "cell_type": "code",
      "metadata": {},
      "source": [
        "result = search.fit(model=model, analysis=analysis)"
      ],
      "outputs": [],
      "execution_count": null
    },
    {
      "cell_type": "markdown",
      "metadata": {},
      "source": [
        "__Result__\n",
        "\n",
        "The `info` attribute shows the model in a readable format (if this does not display clearly on your screen refer to\n",
        "`start_here.ipynb` for a description of how to fix this).\n",
        "\n",
        "This confirms that `intensity` parameters are not inferred by the model-fit."
      ]
    },
    {
      "cell_type": "code",
      "metadata": {},
      "source": [
        "print(result.info)"
      ],
      "outputs": [],
      "execution_count": null
    },
    {
      "cell_type": "markdown",
      "metadata": {},
      "source": [
        "We plot the maximum likelihood fit, tracer images and posteriors inferred via Nautilus.\n",
        "\n",
        "The lens and source galaxies appear similar to those in the data, confirming that the `intensity` values inferred by\n",
        "the inversion process are accurate."
      ]
    },
    {
      "cell_type": "code",
      "metadata": {},
      "source": [
        "print(result.max_log_likelihood_instance)\n",
        "\n",
        "tracer_plotter = aplt.TracerPlotter(\n",
        "    tracer=result.max_log_likelihood_tracer, grid=result.grid\n",
        ")\n",
        "tracer_plotter.subplot_tracer()\n",
        "\n",
        "fit_plotter = aplt.FitImagingPlotter(fit=result.max_log_likelihood_fit)\n",
        "fit_plotter.subplot_fit()\n",
        "\n",
        "search_plotter = aplt.NautilusPlotter(samples=result.samples)\n",
        "search_plotter.cornerplot()"
      ],
      "outputs": [],
      "execution_count": null
    },
    {
      "cell_type": "markdown",
      "metadata": {},
      "source": [
        "__Intensities__\n",
        "\n",
        "The intensities of linear light profiles are not a part of the model parameterization and therefore are not displayed\n",
        "in the `model.results` file.\n",
        "\n",
        "To extract the `intensity` values of a specific component in the model, we use the `max_log_likelihood_tracer`,\n",
        "which has already had the inversion performed and therefore the galaxy light profiles have their solved for\n",
        "`intensity`'s associated with them."
      ]
    },
    {
      "cell_type": "code",
      "metadata": {},
      "source": [
        "fit = result.max_log_likelihood_fit\n",
        "\n",
        "tracer = fit.tracer\n",
        "\n",
        "lens_bulge = print(tracer.galaxies[0].bulge.intensity)\n",
        "source_bulge = print(tracer.galaxies[1].bulge.intensity)\n"
      ],
      "outputs": [],
      "execution_count": null
    },
    {
      "cell_type": "markdown",
      "metadata": {},
      "source": [
        "To extract the `intensity` values of a specific component in the model, we use that component as defined in the\n",
        "`max_log_likelihood_tracer`."
      ]
    },
    {
      "cell_type": "code",
      "metadata": {},
      "source": [
        "tracer = fit.tracer\n",
        "\n",
        "lens_bulge = tracer.galaxies[0].bulge\n",
        "source_bulge = tracer.galaxies[1].bulge\n",
        "\n",
        "print(\n",
        "    f\"\\n Intensity of lens bulge (lp_linear.Sersic) = {fit.linear_light_profile_intensity_dict[lens_bulge]}\"\n",
        ")\n",
        "print(\n",
        "    f\"\\n Intensity of source bulge (lp_linear.Exponential) = {fit.linear_light_profile_intensity_dict[source_bulge]}\"\n",
        ")"
      ],
      "outputs": [],
      "execution_count": null
    },
    {
      "cell_type": "markdown",
      "metadata": {},
      "source": [
        "A `Tracer` where all linear light profile objects are replaced with ordinary light profiles using the solved \n",
        "for `intensity` values is also accessible.\n",
        "\n",
        "For example, the linear light profile `Sersic` of the `bulge` component above has a solved for `intensity` of ~0.75. \n",
        "\n",
        "The `Tracer` created below instead has an ordinary light profile with an `intensity` of ~0.75."
      ]
    },
    {
      "cell_type": "code",
      "metadata": {},
      "source": [
        "tracer = fit.model_obj_linear_light_profiles_to_light_profiles\n",
        "\n",
        "print(\n",
        "    f\"Intensity via Tracer With Ordinary Light Profiles = {tracer.galaxies[0].bulge.intensity}\"\n",
        ")"
      ],
      "outputs": [],
      "execution_count": null
    },
    {
      "cell_type": "markdown",
      "metadata": {},
      "source": [
        "__Visualization__\n",
        "\n",
        "Linear light profiles and objects containing them (e.g. galaxies, a tracer) cannot be plotted because they do not \n",
        "have an `intensity` value.\n",
        "\n",
        "Therefore, the object created above which replaces all linear light profiles with ordinary light profiles must be\n",
        "used for visualization:"
      ]
    },
    {
      "cell_type": "code",
      "metadata": {},
      "source": [
        "tracer = fit.model_obj_linear_light_profiles_to_light_profiles\n",
        "tracer_plotter = aplt.TracerPlotter(tracer=tracer, grid=dataset.grid)\n",
        "tracer_plotter.figures_2d(image=True)\n",
        "\n",
        "galaxy_plotter = aplt.GalaxyPlotter(galaxy=tracer.galaxies[0], grid=dataset.grid)\n",
        "galaxy_plotter.figures_2d(image=True)"
      ],
      "outputs": [],
      "execution_count": null
    },
    {
      "cell_type": "markdown",
      "metadata": {},
      "source": [
        "__Wrap Up__\n",
        "\n",
        "Checkout `autolens_workspace/*/imaging/results` for a full description of analysing results in **PyAutoLens**.\n",
        "\n",
        "In particular, checkout the results example `linear.py` which details how to extract all information about linear\n",
        "light profiles from a fit.\n",
        "\n",
        "These examples show how the results API can be extended to investigate double Einstein ring results."
      ]
    },
    {
      "cell_type": "code",
      "metadata": {},
      "source": [],
      "outputs": [],
      "execution_count": null
    }
  ],
  "metadata": {
    "anaconda-cloud": {},
    "kernelspec": {
      "display_name": "Python 3",
      "language": "python",
      "name": "python3"
    },
    "language_info": {
      "codemirror_mode": {
        "name": "ipython",
        "version": 3
      },
      "file_extension": ".py",
      "mimetype": "text/x-python",
      "name": "python",
      "nbconvert_exporter": "python",
      "pygments_lexer": "ipython3",
      "version": "3.6.1"
    }
  },
  "nbformat": 4,
  "nbformat_minor": 4
}