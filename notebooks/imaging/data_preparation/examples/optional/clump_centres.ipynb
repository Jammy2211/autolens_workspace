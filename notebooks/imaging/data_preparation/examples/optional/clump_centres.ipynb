{
  "cells": [
    {
      "cell_type": "markdown",
      "metadata": {},
      "source": [
        "Data Preparation: Clumps (Optional)\n",
        "===================================\n",
        "\n",
        "There may be galaxies nearby the lens and source galaxies, whose emission blends with that of the lens and source\n",
        "and whose mass may contribute to the ray-tracing and lens model.\n",
        "\n",
        "We can include these galaxies in the lens model, either as light profiles, mass profiles, or both, using the\n",
        "**PyAutoLens** clump API, where these nearby objects are given the term `clumps`.\n",
        "\n",
        "This script marks the (y,x) arcsecond locations of these clumps, so that when they are included in the lens model the\n",
        "centre of these clumps light and / or mass profiles are fixed to these values (or their priors are initialized\n",
        "surrounding these centres).\n",
        "\n",
        "The example `scaled_dataset.py` marks the regions of an image where clumps are present, but  but instead remove their\n",
        "signal and increase their noise to make them not impact the fit. Which approach you use to account for clumps depends\n",
        "on how significant the blending of their emission is and whether they are expected to impact the ray-tracing.\n",
        "\n",
        "This tutorial closely mirrors tutorial 7, `lens_light_centre`, where the main purpose of this script is to mark the\n",
        "centres of every object we'll model as a clump. A GUI is also available to do this.\n",
        "\n",
        "Links / Resources:\n",
        "\n",
        "The script `data_prepration/gui/clump_centres.ipynb` shows how to use a Graphical User Interface (GUI) to mark the\n",
        "clump centres in this way.\n",
        "\n",
        "The script `modeling/features/clumps.py` shows how to use clumps in a model-fit, including loading the clump centres\n",
        "created by this script.\n",
        "\n",
        "__Start Here Notebook__\n",
        "\n",
        "If any code in this script is unclear, refer to the `data_preparation/start_here.ipynb` notebook."
      ]
    },
    {
      "cell_type": "code",
      "metadata": {},
      "source": [
        "%matplotlib inline\n",
        "from pyprojroot import here\n",
        "workspace_path = str(here())\n",
        "%cd $workspace_path\n",
        "print(f\"Working Directory has been set to `{workspace_path}`\")\n",
        "\n",
        "%matplotlib inline\n",
        "from os import path\n",
        "import autolens as al\n",
        "import autolens.plot as aplt"
      ],
      "outputs": [],
      "execution_count": null
    },
    {
      "cell_type": "markdown",
      "metadata": {},
      "source": [
        "The path where the clump centre is output, which is `dataset/imaging/clumps`."
      ]
    },
    {
      "cell_type": "code",
      "metadata": {},
      "source": [
        "dataset_type = \"imaging\"\n",
        "dataset_name = \"clumps\"\n",
        "dataset_path = path.join(\"dataset\", dataset_type, dataset_name)"
      ],
      "outputs": [],
      "execution_count": null
    },
    {
      "cell_type": "markdown",
      "metadata": {},
      "source": [
        "If you use this tool for your own dataset, you *must* double check this pixel scale is correct!"
      ]
    },
    {
      "cell_type": "code",
      "metadata": {},
      "source": [
        "pixel_scales = 0.1"
      ],
      "outputs": [],
      "execution_count": null
    },
    {
      "cell_type": "markdown",
      "metadata": {},
      "source": [
        "First, load the `Imaging` dataset, so that the lens light centres can be plotted over the strong lens image."
      ]
    },
    {
      "cell_type": "code",
      "metadata": {},
      "source": [
        "data = al.Array2D.from_fits(\n",
        "    file_path=path.join(dataset_path, \"data.fits\"), pixel_scales=pixel_scales\n",
        ")"
      ],
      "outputs": [],
      "execution_count": null
    },
    {
      "cell_type": "markdown",
      "metadata": {},
      "source": [
        "Now, create the clump centres, which is a Grid2DIrregular object of (y,x) values."
      ]
    },
    {
      "cell_type": "code",
      "metadata": {},
      "source": [
        "clump_centres = al.Grid2DIrregular(values=[(1.0, 3.5), (-2.0, -3.5)])"
      ],
      "outputs": [],
      "execution_count": null
    },
    {
      "cell_type": "markdown",
      "metadata": {},
      "source": [
        "Now lets plot the image and clump centres, so we can check that the centre overlaps the lens light."
      ]
    },
    {
      "cell_type": "code",
      "metadata": {},
      "source": [
        "mat_plot = aplt.MatPlot2D()\n",
        "visuals = aplt.Visuals2D(light_profile_centres=clump_centres)\n",
        "\n",
        "array_plotter = aplt.Array2DPlotter(\n",
        "    array=data, visuals_2d=visuals, mat_plot_2d=mat_plot\n",
        ")\n",
        "array_plotter.figure_2d()"
      ],
      "outputs": [],
      "execution_count": null
    },
    {
      "cell_type": "markdown",
      "metadata": {},
      "source": [
        "Now we`re happy with the clump centre(s), lets output them to the dataset folder of the lens, so that we can load them \n",
        "from a .json file in our pipelines!"
      ]
    },
    {
      "cell_type": "code",
      "metadata": {},
      "source": [
        "clump_centres.output_to_json(\n",
        "    file_path=path.join(dataset_path, \"clump_centres.json\"), overwrite=True\n",
        ")"
      ],
      "outputs": [],
      "execution_count": null
    },
    {
      "cell_type": "markdown",
      "metadata": {},
      "source": [
        "The workspace also includes a GUI for drawing clump centres, which can be found at \n",
        "`autolens_workspace/*/data_preparation/imaging/gui/clump_centres.py`. \n",
        "\n",
        "This tools allows you `click` on the image where an image of the lensed source is, and it will use the brightest pixel \n",
        "within a 5x5 box of pixels to select the coordinate."
      ]
    },
    {
      "cell_type": "code",
      "metadata": {},
      "source": [],
      "outputs": [],
      "execution_count": null
    }
  ],
  "metadata": {
    "anaconda-cloud": {},
    "kernelspec": {
      "display_name": "Python 3",
      "language": "python",
      "name": "python3"
    },
    "language_info": {
      "codemirror_mode": {
        "name": "ipython",
        "version": 3
      },
      "file_extension": ".py",
      "mimetype": "text/x-python",
      "name": "python",
      "nbconvert_exporter": "python",
      "pygments_lexer": "ipython3",
      "version": "3.6.1"
    }
  },
  "nbformat": 4,
  "nbformat_minor": 4
}