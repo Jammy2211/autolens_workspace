{
  "cells": [
    {
      "cell_type": "markdown",
      "metadata": {},
      "source": [
        "Data Preparation: Noise-map\n",
        "===========================\n",
        "\n",
        "The noise-map defines the uncertainty in every pixel of your lens image, where values are defined as the\n",
        "RMS standard deviation in every pixel (not the variances, HST WHT-map values, etc.).\n",
        "\n",
        "You MUST be certain that the noise-map is the RMS standard deviations or else your analysis will be incorrect!\n",
        "\n",
        "This tutorial describes preprocessing your dataset`s noise-map to adhere to the units and formats required\n",
        "by **PyAutoLens**.\n",
        "\n",
        "__Pixel Scale__\n",
        "\n",
        "The \"pixel_scale\" of the image (and the data in general) is pixel-units to arcsecond-units conversion factor of\n",
        "your telescope. You should look up now if you are unsure of the value.\n",
        "\n",
        "The pixel scale of some common telescopes is as follows:\n",
        "\n",
        " - Hubble Space telescope 0.04\" - 0.1\" (depends on the instrument and wavelength).\n",
        " - James Webb Space telescope 0.06\" - 0.1\" (depends on the instrument and wavelength).\n",
        " - Euclid 0.1\" (Optical VIS instrument) and 0.2\" (NIR NISP instrument).\n",
        " - VRO / LSST 0.2\" - 0.3\" (depends on the instrument and wavelength).\n",
        " - Keck Adaptive Optics 0.01\" - 0.03\" (depends on the instrument and wavelength).\n",
        "\n",
        "It is absolutely vital you use the correct pixel scale, so double check this value!\n",
        "\n",
        "__Start Here Notebook__\n",
        "\n",
        "If any code in this script is unclear, refer to the `data_preparation/start_here.ipynb` notebook."
      ]
    },
    {
      "cell_type": "code",
      "metadata": {},
      "source": [
        "%matplotlib inline\n",
        "from pyprojroot import here\n",
        "workspace_path = str(here())\n",
        "%cd $workspace_path\n",
        "print(f\"Working Directory has been set to `{workspace_path}`\")\n",
        "\n",
        "%matplotlib inline\n",
        "from os import path\n",
        "import autolens as al\n",
        "import autolens.plot as aplt"
      ],
      "outputs": [],
      "execution_count": null
    },
    {
      "cell_type": "markdown",
      "metadata": {},
      "source": [
        "__Loading Data From Individual Fits Files__\n",
        "\n",
        "Load a noise-map from .fits files (a format commonly used by Astronomers) via the `Array2D` object. \n",
        "\n",
        "This noise-map represents a good data-reduction that conforms **PyAutoLens** formatting standards!"
      ]
    },
    {
      "cell_type": "code",
      "metadata": {},
      "source": [
        "dataset_path = path.join(\"dataset\", \"imaging\", \"simple\")\n",
        "\n",
        "noise_map = al.Array2D.from_fits(\n",
        "    file_path=path.join(dataset_path, \"noise_map.fits\"), pixel_scales=0.1\n",
        ")\n",
        "\n",
        "array_plotter = aplt.Array2DPlotter(array=noise_map)\n",
        "array_plotter.figure_2d()"
      ],
      "outputs": [],
      "execution_count": null
    },
    {
      "cell_type": "markdown",
      "metadata": {},
      "source": [
        "This noise-map conforms to **PyAutoLens** standards for the following reasons:\n",
        "\n",
        " - Units: Like its corresponding image, it is in units of electrons per second (as opposed to electrons, counts, \n",
        "   ADU`s etc.). Internal **PyAutoLens** functions for computing quantities like a galaxy magnitude assume the data and \n",
        "   model light profiles are in electrons per second.\n",
        "\n",
        " - Values: The noise-map values themselves are the RMS standard deviations of the noise in every pixel. When a model \n",
        "   is fitted to data in **PyAutoLens** and a likelihood is evaluated, this calculation assumes that this is the\n",
        "   corresponding definition of the noise-map. The noise map therefore should not be the variance of the noise, or \n",
        "   another definition of noise.\n",
        "   \n",
        " - Poisson: The noise-map includes the Poisson noise contribution of the image (e.g. due to Poisson count statistics\n",
        "   in the lens and source galaxies), in addition to the contribution of background noise from the sky background. \n",
        "   Data reduction pipelines often remove the Poisson noise contribution, but this is incorrect and will lead to\n",
        "   incorrect results.\n",
        "   \n",
        "Given the image should be centred and cut-out around the lens and source galaxies, so should the noise-map.\n",
        "\n",
        "If your noise-map conforms to all of the above standards, you are good to use it for an analysis (but must also check\n",
        "you image and PSF conform to standards first!).\n",
        "\n",
        "If it does not conform to standards, this script illustrates **PyAutoLens** functionality which can be used to \n",
        "convert it to standards. \n",
        "\n",
        "__1) Tools Illustrated In Image__\n",
        "\n",
        "The script `data_prepatation/examples/image.ipynb` illustrates the following preparation steps:\n",
        "\n",
        "1) Converted it from counts / ADUs / other units to electrons per second.\n",
        "2) Trimmed / padded the image.\n",
        "3) Recentered the image.\n",
        "\n",
        "You can perform identical operations on your noise-map (assuming it is in the same units and has the dimensions as the\n",
        "image.\n",
        "\n",
        "__Noise Conversions__\n",
        "\n",
        "There are many different ways the noise-map can be reduced, and it varies depending on the telescope and its\n",
        "specific data reduction. \n",
        "\n",
        "The preprocess module contains example functions for computing noise-maps, which may help you calculate your noise-map\n",
        "from the data you currently have (if it is not already RMS values including the Poisson noise contribution and \n",
        "background sky contribution).\n",
        "\n",
        "https://github.com/Jammy2211/PyAutoArray/blob/main/autoarray/dataset/preprocess.py\n",
        "\n",
        "Functions related to the noise map are:\n",
        "\n",
        "- `noise_map_via_data_eps_and_exposure_time_map_from` \n",
        "- `noise_map_via_weight_map_from`\n",
        "- `noise_map_via_inverse_noise_map_from`\n",
        "- `noise_map_via_data_eps_exposure_time_map_and_background_noise_map_from`\n",
        "- `noise_map_via_data_eps_exposure_time_map_and_background_variances_from`\n",
        "- `poisson_noise_via_data_eps_from\n",
        "`"
      ]
    },
    {
      "cell_type": "code",
      "metadata": {},
      "source": [],
      "outputs": [],
      "execution_count": null
    }
  ],
  "metadata": {
    "anaconda-cloud": {},
    "kernelspec": {
      "display_name": "Python 3",
      "language": "python",
      "name": "python3"
    },
    "language_info": {
      "codemirror_mode": {
        "name": "ipython",
        "version": 3
      },
      "file_extension": ".py",
      "mimetype": "text/x-python",
      "name": "python",
      "nbconvert_exporter": "python",
      "pygments_lexer": "ipython3",
      "version": "3.6.1"
    }
  },
  "nbformat": 4,
  "nbformat_minor": 4
}