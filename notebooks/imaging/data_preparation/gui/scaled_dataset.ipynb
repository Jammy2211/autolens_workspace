{
  "cells": [
    {
      "cell_type": "markdown",
      "metadata": {},
      "source": [
        "GUI Preprocessing: Scaled Dataset\n",
        "=================================\n",
        "\n",
        "This tool allows one to mask a bespoke noise-map for a given image of a strong lens, using a GUI.\n",
        "\n",
        "This noise-map is primarily used for increasing the variances of pixels that have non-modeled components in an image,\n",
        "for example intervening line-of-sight galaxies that are near the lens, but not directly interfering with the\n",
        "analysis of the lens and source galaxies.\n",
        "\n",
        "This GUI is adapted from the following code: https://gist.github.com/brikeats/4f63f867fd8ea0f196c78e9b835150ab"
      ]
    },
    {
      "cell_type": "code",
      "metadata": {},
      "source": [
        "%matplotlib inline\n",
        "from pyprojroot import here\n",
        "workspace_path = str(here())\n",
        "%cd $workspace_path\n",
        "print(f\"Working Directory has been set to `{workspace_path}`\")\n",
        "\n",
        "from os import path\n",
        "import autolens as al\n",
        "import autolens.plot as aplt\n",
        "import numpy as np"
      ],
      "outputs": [],
      "execution_count": null
    },
    {
      "cell_type": "markdown",
      "metadata": {},
      "source": [
        "__Dataset__\n",
        "\n",
        "Setup the path the datasets we'll use to illustrate preprocessing, which is the \n",
        "folder `dataset/imaging/clumps`."
      ]
    },
    {
      "cell_type": "code",
      "metadata": {},
      "source": [
        "dataset_name = \"clumps\"\n",
        "dataset_path = path.join(\"dataset\", \"imaging\", dataset_name)"
      ],
      "outputs": [],
      "execution_count": null
    },
    {
      "cell_type": "markdown",
      "metadata": {},
      "source": [
        "If you use this tool for your own dataset, you *must* double check this pixel scale is correct!"
      ]
    },
    {
      "cell_type": "code",
      "metadata": {},
      "source": [
        "pixel_scales = 0.1"
      ],
      "outputs": [],
      "execution_count": null
    },
    {
      "cell_type": "markdown",
      "metadata": {},
      "source": [
        "First, load the `Imaging` dataset, so that the location of galaxies is clear when scaling the noise-map."
      ]
    },
    {
      "cell_type": "code",
      "metadata": {},
      "source": [
        "data = al.Array2D.from_fits(\n",
        "    file_path=path.join(dataset_path, \"data.fits\"), pixel_scales=pixel_scales\n",
        ")\n",
        "\n",
        "cmap = aplt.Cmap(\n",
        "    norm=\"log\", vmin=1.0e-4, vmax=0.4 * np.max(data), linthresh=0.05, linscale=0.1\n",
        ")"
      ],
      "outputs": [],
      "execution_count": null
    },
    {
      "cell_type": "markdown",
      "metadata": {},
      "source": [
        "__Scribbler__\n",
        "\n",
        "Load the Scribbler GUI for spray painting the scaled regions of the dataset. \n",
        "\n",
        "Push Esc when you are finished spray painting."
      ]
    },
    {
      "cell_type": "code",
      "metadata": {},
      "source": [
        "scribbler = al.Scribbler(image=data.native, cmap=cmap)\n",
        "mask = scribbler.show_mask()\n",
        "mask = al.Mask2D(mask=mask, pixel_scales=pixel_scales)"
      ],
      "outputs": [],
      "execution_count": null
    },
    {
      "cell_type": "markdown",
      "metadata": {},
      "source": [
        "Change the image flux values to zeros. \n",
        "\n",
        "If included, we add some random Gaussian noise to most close resemble noise in the image."
      ]
    },
    {
      "cell_type": "code",
      "metadata": {},
      "source": [
        "background_level = al.preprocess.background_noise_map_via_edges_from(\n",
        "    image=data, no_edges=2\n",
        ")[0]\n",
        "\n",
        "# gaussian_sigma = None\n",
        "gaussian_sigma = 0.1\n",
        "\n",
        "data = np.where(mask, 0.0, data.native)\n",
        "data = al.Array2D.no_mask(values=data, pixel_scales=pixel_scales)\n",
        "\n",
        "if gaussian_sigma is not None:\n",
        "    random_noise = np.random.normal(\n",
        "        loc=background_level, scale=gaussian_sigma, size=data.shape_native\n",
        "    )\n",
        "    data = np.where(mask, random_noise, data.native)\n",
        "    data = al.Array2D.no_mask(values=data, pixel_scales=pixel_scales)"
      ],
      "outputs": [],
      "execution_count": null
    },
    {
      "cell_type": "markdown",
      "metadata": {},
      "source": [
        "__Output__\n",
        "\n",
        "The new image is plotted for inspection."
      ]
    },
    {
      "cell_type": "code",
      "metadata": {},
      "source": [
        "array_2d_plotter = aplt.Array2DPlotter(array=data)\n",
        "array_2d_plotter.figure_2d()"
      ],
      "outputs": [],
      "execution_count": null
    },
    {
      "cell_type": "markdown",
      "metadata": {},
      "source": [
        "Output this image of the mask to a .png file in the dataset folder for future reference."
      ]
    },
    {
      "cell_type": "code",
      "metadata": {},
      "source": [
        "array_2d_plotter = aplt.Array2DPlotter(\n",
        "    array=data,\n",
        "    mat_plot_2d=aplt.MatPlot2D(\n",
        "        output=aplt.Output(path=dataset_path, filename=\"data_scaled\", format=\"png\")\n",
        "    ),\n",
        ")\n",
        "array_2d_plotter.figure_2d()"
      ],
      "outputs": [],
      "execution_count": null
    },
    {
      "cell_type": "markdown",
      "metadata": {},
      "source": [
        "Output image to the dataset folder of the lens, so that we can load it from a .fits file for modeling."
      ]
    },
    {
      "cell_type": "code",
      "metadata": {},
      "source": [
        "data.output_to_fits(\n",
        "    file_path=path.join(dataset_path, \"data_scaled.fits\"), overwrite=True\n",
        ")"
      ],
      "outputs": [],
      "execution_count": null
    },
    {
      "cell_type": "markdown",
      "metadata": {},
      "source": [
        "__Noise Map__\n",
        "\n",
        "Next, load the `Imaging` noise-map, which we will use the scale the noise-map."
      ]
    },
    {
      "cell_type": "code",
      "metadata": {},
      "source": [
        "noise_map = al.Array2D.from_fits(\n",
        "    file_path=path.join(dataset_path, \"noise_map.fits\"), pixel_scales=pixel_scales\n",
        ")"
      ],
      "outputs": [],
      "execution_count": null
    },
    {
      "cell_type": "markdown",
      "metadata": {},
      "source": [
        "Now lets plot the image and mask, so we can check that the mask includes the regions of the image we want."
      ]
    },
    {
      "cell_type": "code",
      "metadata": {},
      "source": [
        "array_2d_plotter = aplt.Array2DPlotter(array=data / noise_map)\n",
        "array_2d_plotter.figure_2d()"
      ],
      "outputs": [],
      "execution_count": null
    },
    {
      "cell_type": "markdown",
      "metadata": {},
      "source": [
        "Manually increase the noise values to extremely large values, such that the analysis essentially omits them."
      ]
    },
    {
      "cell_type": "code",
      "metadata": {},
      "source": [
        "noise_map = np.where(mask, 1.0e8, noise_map.native)\n",
        "noise_map = al.Array2D.no_mask(values=noise_map, pixel_scales=pixel_scales)"
      ],
      "outputs": [],
      "execution_count": null
    },
    {
      "cell_type": "markdown",
      "metadata": {},
      "source": [
        "The signal to noise-map is the best way to determine if these regions are appropriately masked out."
      ]
    },
    {
      "cell_type": "code",
      "metadata": {},
      "source": [
        "array_2d_plotter = aplt.Array2DPlotter(array=data / noise_map)\n",
        "array_2d_plotter.figure_2d()"
      ],
      "outputs": [],
      "execution_count": null
    },
    {
      "cell_type": "markdown",
      "metadata": {},
      "source": [
        "__Output__\n",
        "\n",
        "Output it to the dataset folder of the lens, so that we can load it from a .fits in our modeling scripts."
      ]
    },
    {
      "cell_type": "code",
      "metadata": {},
      "source": [
        "noise_map.output_to_fits(\n",
        "    file_path=path.join(dataset_path, \"noise_map_scaled.fits\"), overwrite=True\n",
        ")"
      ],
      "outputs": [],
      "execution_count": null
    },
    {
      "cell_type": "markdown",
      "metadata": {},
      "source": [
        "Output this image of the mask to a .png file in the dataset folder for future reference."
      ]
    },
    {
      "cell_type": "code",
      "metadata": {},
      "source": [
        "array_2d_plotter = aplt.Array2DPlotter(\n",
        "    array=noise_map,\n",
        "    mat_plot_2d=aplt.MatPlot2D(\n",
        "        output=aplt.Output(path=dataset_path, filename=\"noise_map_scaled\", format=\"png\")\n",
        "    ),\n",
        ")\n",
        "array_2d_plotter.figure_2d()\n",
        "\n",
        "array_2d_plotter = aplt.Array2DPlotter(\n",
        "    array=data / noise_map,\n",
        "    mat_plot_2d=aplt.MatPlot2D(\n",
        "        output=aplt.Output(\n",
        "            path=dataset_path, filename=\"signal_to_noise_map_scaled\", format=\"png\"\n",
        "        )\n",
        "    ),\n",
        ")\n",
        "array_2d_plotter.figure_2d()"
      ],
      "outputs": [],
      "execution_count": null
    },
    {
      "cell_type": "markdown",
      "metadata": {},
      "source": [
        "Lets also output the mask."
      ]
    },
    {
      "cell_type": "code",
      "metadata": {},
      "source": [
        "mask.output_to_fits(\n",
        "    file_path=path.join(dataset_path, \"mask_scaled.fits\"), overwrite=True\n",
        ")\n"
      ],
      "outputs": [],
      "execution_count": null
    }
  ],
  "metadata": {
    "anaconda-cloud": {},
    "kernelspec": {
      "display_name": "Python 3",
      "language": "python",
      "name": "python3"
    },
    "language_info": {
      "codemirror_mode": {
        "name": "ipython",
        "version": 3
      },
      "file_extension": ".py",
      "mimetype": "text/x-python",
      "name": "python",
      "nbconvert_exporter": "python",
      "pygments_lexer": "ipython3",
      "version": "3.6.1"
    }
  },
  "nbformat": 4,
  "nbformat_minor": 4
}