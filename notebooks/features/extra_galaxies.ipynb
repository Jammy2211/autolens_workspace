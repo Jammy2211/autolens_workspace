{
  "cells": [
    {
      "cell_type": "markdown",
      "metadata": {},
      "source": [
        "Modeling Features: Extra Galaxies\n",
        "=================================\n",
        "\n",
        "There may be extra galaxies nearby the lens and source galaxies, whose emission blends with the lens and source\n",
        "and whose mass may contribute to the ray-tracing and lens model.\n",
        "\n",
        "If their emission is significant, and close enough to the lens and source, we may simply mask it from the data\n",
        "to ensure it does not impact the model-fit. In this script, we first illustrate how to do this, and outline two\n",
        "different approaches to masking the emission of these extra galaxies which is appropriate for different lens models.\n",
        "\n",
        "Next, we consider a different approach which extends the modeling API to include these extra galaxies in the model-fit.\n",
        "This includes both light profiles which fit and subtract their emission and mass profiles which account for their\n",
        "contribution to the lensing of the source galaxy. The centres of each galaxy (e.g. their brightest pixels in the data)\n",
        "are used as the centre of the light and mass profiles of these galaxies, in order to reduce model complexity.\n",
        "\n",
        "The second approach is more complex and computationally expensive, but if the emission of the extra galaxies blends\n",
        "significantly with the lensed source emission, or if their mass is anticipated to contributed signficiantly, it is the\n",
        "best approach to take.\n",
        "\n",
        "The script concludes with some advanced approaches to modeling extra galaxies, for example where their light is modeled\n",
        "using a Multi Gaussian Expansion or their masses are included via a scaling relation.\n",
        "\n",
        "__Data Preparation__\n",
        "\n",
        "To perform modeling which accounts for extra galaxies, a mask of their emission of list of the centre of each extra\n",
        "galaxy are used to set up the model-fit. For the example dataset used here, these tasks have already been performed and\n",
        "the metadata (`mask_extra_galaxies.fits` and `extra_galaxies_centres.json` are already included in results folder.\n",
        "\n",
        "The tutorial `autolens_workspace/*/data_preparation/imaging/optional/extra_galaxies_centres.py`\n",
        "describes how to create these centres and output them to a `.json` file.\n",
        "\n",
        "To mask the emission of extra galaxies and omit them from the fit, a `mask_extra_galaxies.fits` file is required.\n",
        "The `data_preparation` tutorial `autolens_workspace/*/data_preparation/imaging/optional/mask_extra_galaxies.py`\n",
        "describes how to create this mask.\n",
        "\n",
        "__Start Here Notebook__\n",
        "\n",
        "If any code in this script is unclear, refer to the `modeling/start_here.ipynb` notebook."
      ]
    },
    {
      "cell_type": "code",
      "metadata": {},
      "source": [
        "%matplotlib inline\n",
        "from pyprojroot import here\n",
        "workspace_path = str(here())\n",
        "%cd $workspace_path\n",
        "print(f\"Working Directory has been set to `{workspace_path}`\")\n",
        "\n",
        "from os import path\n",
        "import autofit as af\n",
        "import autolens as al\n",
        "import autolens.plot as aplt"
      ],
      "outputs": [],
      "execution_count": null
    },
    {
      "cell_type": "markdown",
      "metadata": {},
      "source": [
        "__Dataset__\n",
        "\n",
        "Load and plot the strong lens dataset `extra_galaxies` via .fits files."
      ]
    },
    {
      "cell_type": "code",
      "metadata": {},
      "source": [
        "dataset_name = \"extra_galaxies\"\n",
        "dataset_path = path.join(\"dataset\", \"imaging\", dataset_name)\n",
        "\n",
        "dataset = al.Imaging.from_fits(\n",
        "    data_path=path.join(dataset_path, \"data.fits\"),\n",
        "    psf_path=path.join(dataset_path, \"psf.fits\"),\n",
        "    noise_map_path=path.join(dataset_path, \"noise_map.fits\"),\n",
        "    pixel_scales=0.1,\n",
        ")"
      ],
      "outputs": [],
      "execution_count": null
    },
    {
      "cell_type": "markdown",
      "metadata": {},
      "source": [
        "Visualization of this dataset shows two galaxies either side of the lensed source. "
      ]
    },
    {
      "cell_type": "code",
      "metadata": {},
      "source": [
        "dataset_plotter = aplt.ImagingPlotter(dataset=dataset)\n",
        "dataset_plotter.subplot_dataset()"
      ],
      "outputs": [],
      "execution_count": null
    },
    {
      "cell_type": "markdown",
      "metadata": {},
      "source": [
        "__Mask__\n",
        "\n",
        "We define a bigger circular mask of 6.0\" than the 3.0\" masks used in other tutorials, to ensure the extra galaxy's \n",
        "emission is included."
      ]
    },
    {
      "cell_type": "code",
      "metadata": {},
      "source": [
        "mask_main = al.Mask2D.circular(\n",
        "    shape_native=dataset.shape_native, pixel_scales=dataset.pixel_scales, radius=6.0\n",
        ")\n",
        "\n",
        "dataset = dataset.apply_mask(mask=mask_main)"
      ],
      "outputs": [],
      "execution_count": null
    },
    {
      "cell_type": "markdown",
      "metadata": {},
      "source": [
        "Lets plot the masked imaging to make sure the extra galaxies are included."
      ]
    },
    {
      "cell_type": "code",
      "metadata": {},
      "source": [
        "dataset_plotter = aplt.ImagingPlotter(dataset=dataset)\n",
        "dataset_plotter.subplot_dataset()"
      ],
      "outputs": [],
      "execution_count": null
    },
    {
      "cell_type": "markdown",
      "metadata": {},
      "source": [
        "__Extra Galaxies Mask__\n",
        "\n",
        "Our first approach to modeling the extra galaxies is to mask their emission in the data and not include them in the\n",
        "lens model itself. \n",
        "\n",
        "This is the simplest approach, and is the best approach when the extra galaxies are far enough away from the lens\n",
        "and source that their emission does not blend significantly with the lensed source emission and we can assume their\n",
        "mass is negligible (albeit this can be difficult to know for certain).\n",
        "\n",
        "We load the `mask_extra_galaxies.fits` from the dataset folder, combine it with the 6.0\" circular mask and apply it to\n",
        "the dataset."
      ]
    },
    {
      "cell_type": "code",
      "metadata": {},
      "source": [
        "mask_extra_galaxies = al.Mask2D.from_fits(\n",
        "    file_path=path.join(dataset_path, \"mask_extra_galaxies.fits\"),\n",
        "    pixel_scales=dataset.pixel_scales,\n",
        ")\n",
        "\n",
        "mask = mask_main + mask_extra_galaxies\n",
        "\n",
        "dataset = dataset.apply_mask(mask=mask)\n",
        "\n",
        "dataset_plotter = aplt.ImagingPlotter(dataset=dataset)\n",
        "dataset_plotter.subplot_dataset()"
      ],
      "outputs": [],
      "execution_count": null
    },
    {
      "cell_type": "markdown",
      "metadata": {},
      "source": [
        "We now perform a model-fit using the standard API, where the extra galaxies are not included in the model.\n",
        "\n",
        "The mask we have applied ensures the extra galaxies do not impact the fit, and the model-fit returns a good fit to the\n",
        "lensed source."
      ]
    },
    {
      "cell_type": "code",
      "metadata": {},
      "source": [
        "# Lens:\n",
        "\n",
        "bulge = af.Model(al.lp_linear.Sersic)\n",
        "\n",
        "mass = af.Model(al.mp.Isothermal)\n",
        "\n",
        "lens = af.Model(al.Galaxy, redshift=0.5, bulge=bulge, mass=mass)\n",
        "\n",
        "# Source:\n",
        "\n",
        "source = af.Model(al.Galaxy, redshift=1.0, bulge=al.lp_linear.SersicCore)\n",
        "\n",
        "# Overall Lens Model:\n",
        "\n",
        "model = af.Collection(galaxies=af.Collection(lens=lens, source=source))\n",
        "\n",
        "search = af.Nautilus(\n",
        "    path_prefix=path.join(\"imaging\", \"features\"),\n",
        "    name=\"extra_galaxies_simple_mask\",\n",
        "    unique_tag=dataset_name,\n",
        "    n_live=150,\n",
        "    number_of_cores=4,\n",
        "    iterations_per_update=20000,\n",
        ")\n",
        "\n",
        "analysis = al.AnalysisImaging(dataset=dataset)\n",
        "\n",
        "result = search.fit(model=model, analysis=analysis)"
      ],
      "outputs": [],
      "execution_count": null
    },
    {
      "cell_type": "markdown",
      "metadata": {},
      "source": [
        "The fit is satisfactory, whereby the emission of the extra galaxies is masked and omitted from the model-fit.\n",
        "\n",
        "This is the simplest approach to modeling extra galaxies, and the best starting point for a new user, especially if\n",
        "the extra galaxies are far from the lens and source galaxies and no clear blending between their emission and the lensed\n",
        "source is present.\n",
        "\n",
        "__Extra Galaxies Noise Scaling__\n",
        "\n",
        "The extra galaxies mask above removed all image pixels which had `True` values. This removed the pixels from\n",
        "the fit entirely, meaning that their coordinates were not used when performing ray-tracing. This is analogous to\n",
        "what the circular masks used throughout the examples does. For a light profile fit, the model is not sensitive to the \n",
        "exact coordinates of the lensed source's light, so this was a good approach.\n",
        "\n",
        "For more complex models fits, like those using a pixelization, masking regions of the image in a way that removes \n",
        "their image pixels entirely from the fit can produce discontinuities in the pixelixation. This can lead to \n",
        "unexpected systematics and unsatisfactory results\n",
        "\n",
        "In this case, applying the mask in a way where the image pixels are not removed from the fit, but their data and \n",
        "noise-map values are scaled such that they contribute negligibly to the fit, is a better approach. \n",
        "\n",
        "We illustrate the API for doing this below, and show the subplot imaging where the extra galaxies mask has scaled\n",
        "the data values to zeros, increasing the noise-map values to large values and in turn made the signal to noise\n",
        "of its pixels effectively zero."
      ]
    },
    {
      "cell_type": "code",
      "metadata": {},
      "source": [
        "dataset = al.Imaging.from_fits(\n",
        "    data_path=path.join(dataset_path, \"data.fits\"),\n",
        "    psf_path=path.join(dataset_path, \"psf.fits\"),\n",
        "    noise_map_path=path.join(dataset_path, \"noise_map.fits\"),\n",
        "    pixel_scales=0.1,\n",
        ")\n",
        "\n",
        "mask_extra_galaxies = al.Mask2D.from_fits(\n",
        "    file_path=path.join(dataset_path, \"mask_extra_galaxies.fits\"),\n",
        "    pixel_scales=0.1,\n",
        "    invert=True,  # Note that we invert the mask here as `True` means a pixel is scaled.\n",
        ")\n",
        "\n",
        "dataset = dataset.apply_noise_scaling(mask=mask_extra_galaxies)\n",
        "\n",
        "mask = al.Mask2D.circular(\n",
        "    shape_native=dataset.shape_native, pixel_scales=0.1, centre=(0.0, 0.0), radius=6.0\n",
        ")\n",
        "\n",
        "dataset = dataset.apply_mask(mask=mask)\n",
        "\n",
        "dataset_plotter = aplt.ImagingPlotter(dataset=dataset)\n",
        "dataset_plotter.subplot_dataset()"
      ],
      "outputs": [],
      "execution_count": null
    },
    {
      "cell_type": "markdown",
      "metadata": {},
      "source": [
        "We do not perform a model-fit using this dataset, as using a mask like this requires that we use a pixelization\n",
        "to fit the lensed source, which you may not be familiar with yet.\n",
        "\n",
        "In the `features/pixelization.ipynb` example we perform a fit using this noise scaling scheme and a pixelization,\n",
        "so check this out if you are interested in how to do this.\n",
        "\n",
        "__Extra Galaxies Dataset__\n",
        "\n",
        "We are now going to model the dataset with extra galaxies included in the model, where these galaxies include\n",
        "both the light and mass profiles of the extra galaxies.\n",
        "\n",
        "We therefore reload the dataset and apply the 6.0\" circular mask to it, but do not use the extra galaxies mask\n",
        "as the emission of the extra galaxies is included in the model."
      ]
    },
    {
      "cell_type": "code",
      "metadata": {},
      "source": [
        "dataset = al.Imaging.from_fits(\n",
        "    data_path=path.join(dataset_path, \"data.fits\"),\n",
        "    psf_path=path.join(dataset_path, \"psf.fits\"),\n",
        "    noise_map_path=path.join(dataset_path, \"noise_map.fits\"),\n",
        "    pixel_scales=0.1,\n",
        ")\n",
        "\n",
        "mask_main = al.Mask2D.circular(\n",
        "    shape_native=dataset.shape_native, pixel_scales=dataset.pixel_scales, radius=6.0\n",
        ")\n",
        "\n",
        "dataset = dataset.apply_mask(mask=mask_main)"
      ],
      "outputs": [],
      "execution_count": null
    },
    {
      "cell_type": "markdown",
      "metadata": {},
      "source": [
        "__Extra Galaxies Centres__\n",
        "\n",
        "To set up a lens model including each extra galaxy with light and / or mass profile, we input manually the centres of\n",
        "the extra galaxies.\n",
        "\n",
        "In principle, a lens model including the extra galaxies could be composed without these centres. For example, if \n",
        "there were two extra galaxies in the data, we could simply add two additional light and mass profiles into the model. \n",
        "The modeling API does support this, but we will not use it in this example.\n",
        "\n",
        "This is because models where the extra galaxies have free centres are often too complex to fit. It is likely the fit \n",
        "will infer an inaccurate lens model and local maxima, because the parameter space is too complex.\n",
        "\n",
        "For example, a common problem is that one of the extra galaxy light profiles intended to model a nearby galaxy instead \n",
        "fit  one of the lensed source's multiple images. Alternatively, an extra galaxy's mass profile may recenter itself and \n",
        "act as part of the main lens galaxy's mass distribution.\n",
        "\n",
        "Therefore, when modeling extra galaxies we input the centre of each, in order to fix their light and mass profile \n",
        "centres or set up priors centre around these values.\n",
        "\n",
        "The `data_preparation` tutorial `autolens_workspace/*/data_preparation/imaging/examples/optional/extra_galaxies_centres.py` \n",
        "describes how to create these centres. Using this script they have been output to the `.json` file we load below."
      ]
    },
    {
      "cell_type": "code",
      "metadata": {},
      "source": [
        "extra_galaxies_centres = al.Grid2DIrregular(\n",
        "    al.from_json(file_path=path.join(dataset_path, \"extra_galaxies_centres.json\"))\n",
        ")\n",
        "\n",
        "print(extra_galaxies_centres)"
      ],
      "outputs": [],
      "execution_count": null
    },
    {
      "cell_type": "markdown",
      "metadata": {},
      "source": [
        "__Model__ \n",
        "\n",
        "Perform the normal steps to set up the main model of the lens galaxy and source.\n",
        "\n",
        "A full description of model composition is provided by the model cookbook: \n",
        "\n",
        "https://pyautolens.readthedocs.io/en/latest/general/model_cookbook.html"
      ]
    },
    {
      "cell_type": "code",
      "metadata": {},
      "source": [
        "# Lens:\n",
        "\n",
        "bulge = af.Model(al.lp_linear.Sersic)\n",
        "mass = af.Model(al.mp.Isothermal)\n",
        "lens = af.Model(al.Galaxy, redshift=0.5, bulge=bulge, mass=mass)\n",
        "\n",
        "# Source:\n",
        "\n",
        "bulge = af.Model(al.lp_linear.SersicCore)\n",
        "source = af.Model(al.Galaxy, redshift=1.0, bulge=bulge)"
      ],
      "outputs": [],
      "execution_count": null
    },
    {
      "cell_type": "markdown",
      "metadata": {},
      "source": [
        "__Extra Galaxies Model__ \n",
        "\n",
        "We now use the modeling API to create the model for the extra galaxies.\n",
        "\n",
        "Currently, the extra galaxies API require that the centres of the light and mass profiles are fixed to the input centres\n",
        "(but the other parameters of the light and mass profiles remain free). \n",
        "\n",
        "Therefore, in this example fits a lens model where:\n",
        "\n",
        " - The lens galaxy's total mass distribution is an `Isothermal` [5 parameters].\n",
        "\n",
        " - The source galaxy's light is a linear parametric `SersicCore` [6 parameters].\n",
        "\n",
        " - Each extra galaxy's light is a linear parametric `SersicSph` profile with fixed centre [2 extra galaxies x 2 parameters = 5 parameters].\n",
        "\n",
        " - Each extra galaxy's total mass distribution is a `IsothermalSph` profile with fixed \n",
        " centre [2 extra galaxies x 1 parameters = 2 parameters].\n",
        "\n",
        "The number of free parameters and therefore the dimensionality of non-linear parameter space is N=20.\n",
        "\n",
        "Extra galaxy mass profiles often to go unphysically high `einstein_radius` values, degrading the fit. The \n",
        "`einstein_radius` parameter is set a `UniformPrior` with an upper limit of 0.1\" to prevent this."
      ]
    },
    {
      "cell_type": "code",
      "metadata": {},
      "source": [
        "# Extra Galaxies:\n",
        "\n",
        "extra_galaxies_list = []\n",
        "\n",
        "for extra_galaxy_centre in extra_galaxies_centres:\n",
        "    extra_galaxy = af.Model(\n",
        "        al.Galaxy, redshift=0.5, bulge=al.lp_linear.SersicSph, mass=al.mp.IsothermalSph\n",
        "    )\n",
        "\n",
        "    extra_galaxy.bulge.centre = extra_galaxy_centre\n",
        "    extra_galaxy.mass.centre = extra_galaxy_centre\n",
        "    extra_galaxy.mass.einstein_radius = af.UniformPrior(\n",
        "        lower_limit=0.0, upper_limit=0.1\n",
        "    )\n",
        "\n",
        "    extra_galaxies_list.append(extra_galaxy)\n",
        "\n",
        "extra_galaxies = af.Collection(extra_galaxies_list)\n",
        "\n",
        "# Overall Lens Model:\n",
        "\n",
        "model = af.Collection(\n",
        "    galaxies=af.Collection(lens=lens, source=source), extra_galaxies=extra_galaxies\n",
        ")"
      ],
      "outputs": [],
      "execution_count": null
    },
    {
      "cell_type": "markdown",
      "metadata": {},
      "source": [
        "The `info` attribute confirms the model includes extra galaxies that we defined above."
      ]
    },
    {
      "cell_type": "code",
      "metadata": {},
      "source": [
        "print(model.info)"
      ],
      "outputs": [],
      "execution_count": null
    },
    {
      "cell_type": "markdown",
      "metadata": {},
      "source": [
        "__Search + Analysis__ \n",
        "\n",
        "The code below performs the normal steps to set up a model-fit.\n",
        "\n",
        "Given the extra model parameters due to the extra gaxies, we increase the number of live points to 200."
      ]
    },
    {
      "cell_type": "code",
      "metadata": {},
      "source": [
        "search = af.Nautilus(\n",
        "    path_prefix=path.join(\"imaging\", \"features\"),\n",
        "    name=\"extra_galaxies_model\",\n",
        "    unique_tag=dataset_name,\n",
        "    n_live=150,\n",
        "    number_of_cores=4,\n",
        "    iterations_per_update=20000,\n",
        ")\n",
        "\n",
        "analysis = al.AnalysisImaging(dataset=dataset)"
      ],
      "outputs": [],
      "execution_count": null
    },
    {
      "cell_type": "markdown",
      "metadata": {},
      "source": [
        "__Run Time__\n",
        "\n",
        "Adding extra galaxies to the model increases the likelihood evaluation times, because their light profiles need \n",
        "their images  evaluated and their mass profiles need their deflection angles computed.\n",
        "\n",
        "However, these calculations are pretty fast for profiles like `SersicSph` and `IsothermalSph`, so only a small\n",
        "increase in time is expected.\n",
        "\n",
        "The bigger hit on run time is due to the extra free parameters, which increases the dimensionality of non-linear\n",
        "parameter space. This means Nautilus takes longer to converge on the highest likelihood regions of parameter space."
      ]
    },
    {
      "cell_type": "code",
      "metadata": {},
      "source": [
        "run_time_dict, info_dict = analysis.profile_log_likelihood_function(\n",
        "    instance=model.random_instance()\n",
        ")\n",
        "\n",
        "print(f\"Log Likelihood Evaluation Time (second) = {run_time_dict['fit_time']}\")\n",
        "print(\n",
        "    \"Estimated Run Time Upper Limit (seconds) = \",\n",
        "    (run_time_dict[\"fit_time\"] * model.total_free_parameters * 10000)\n",
        "    / search.number_of_cores,\n",
        ")"
      ],
      "outputs": [],
      "execution_count": null
    },
    {
      "cell_type": "markdown",
      "metadata": {},
      "source": [
        "__Model-Fit__\n",
        "\n",
        "We can now begin the model-fit by passing the model and analysis object to the search, which performs a non-linear\n",
        "search to find which models fit the data with the highest likelihood."
      ]
    },
    {
      "cell_type": "code",
      "metadata": {},
      "source": [
        "result = search.fit(model=model, analysis=analysis)"
      ],
      "outputs": [],
      "execution_count": null
    },
    {
      "cell_type": "markdown",
      "metadata": {},
      "source": [
        "__Result__\n",
        "\n",
        "By plotting the maximum log likelihood `FitImaging` object we can confirm the extra galaxies contribute to the fit."
      ]
    },
    {
      "cell_type": "code",
      "metadata": {},
      "source": [
        "fit_plotter = aplt.FitImagingPlotter(fit=result.max_log_likelihood_fit)\n",
        "fit_plotter.subplot_fit()"
      ],
      "outputs": [],
      "execution_count": null
    },
    {
      "cell_type": "markdown",
      "metadata": {},
      "source": [
        "Checkout `autolens_workspace/*/imaging/results` for a full description of analysing results in **PyAutoLens**.\n",
        "\n",
        "These examples show how the results API can be extended to investigate extra galaxies in the results.\n",
        "\n",
        "__Approaches to Extra Galaxies__\n",
        "\n",
        "We illustrated two extremes of how to prevent the emission of extra galaxies impacting the model-fit:\n",
        "\n",
        "- **Masking**: We masked the emission of the extra galaxies entirely, such that their light did not impact the fit,\n",
        "  and ignored their mass entirely.\n",
        "\n",
        "- **Modeling**: We included the extra galaxies in the model, such that their light and mass profiles were fitted.\n",
        "\n",
        "There are approach that fall between these two, for example the light profiles could be omitted from the model\n",
        "by applying an extra galaxies mask, but their mass profiles can still be included via the modeling API. You could also\n",
        "include just the light profiles and not the mass profiles, or visa versa. You could also make the redshifts of the\n",
        "extra galaxies free parameters in the model, or provide different light and mass profiles for each galaxy.\n",
        "\n",
        "Extending the modeling API should be straight forward given the above examples, and if anything is unclear then\n",
        "checkout the model cookbook: \n",
        "\n",
        "https://pyautolens.readthedocs.io/en/latest/general/model_cookbook.html\n",
        "\n",
        "__Multi Gaussian Expansion__\n",
        "\n",
        "The most powerful way to model the light of extra galaxies is to use a mutli Gaussian expansion (MGE), which is \n",
        "documented in the `autolens_workspace/*/imaging/features/multi_gaussian_expansion.py` example script.\n",
        "\n",
        "The reasons for this will be expanded upon here in the future, but in brief the MGE can capture light profiles\n",
        "more complex than Sersic profiles using fewer parameters. It can therefore fit many extra galaxies in a model\n",
        "without increasing the dimensionality of parameter space significantly.\n",
        "\n",
        "In fact, if a spherical MGE is used to model the light of the extra galaxies each MGE introduced 0 new free parameters\n",
        "to the model, assuming the centre is fixed to the input centre and the `intensity` values are solved for via the MGE\n",
        "linear algebra calculation. Complex lenses with many extra galaxies therefore become feasible to model.\n",
        "\n",
        "__Scaling Relations__\n",
        "\n",
        "The modeling API has full support for composing the extra galaxies such that their light and or mass follow scaling\n",
        "relations. For example, you could assume that the mass of the extra galaxies is related to their luminosity via a\n",
        "constant mass-to-light ratio.\n",
        "\n",
        "This is currently documented in `autolens_workspace/*/guides/advanced/scaling_relation.ipynb`, but will be\n",
        "moved here in the near future.\n",
        "\n",
        "__Wrap Up__\n",
        "\n",
        "The extra galaxies API makes it straight forward for us to model galaxy-scale strong lenses with additional components for\n",
        "the light and mass of nearby objects.\n",
        "\n",
        "The `autolens_workspace` includes a `group` package, for modeling group scale strong lenses which have multiple lens \n",
        "galaxies. When you should use the extra galaxies API as shown here, and when you should use the group package? \n",
        "\n",
        "The distinction is as follows:\n",
        "\n",
        " - A galaxy scale lens is a system which can be modeled to a high level of accuracy using a single light and mass \n",
        " distribution for the main lens galaxy. Including additional galaxies in the model via the extra galaxies API makes small \n",
        " improvements on the lens model, but a good fit is possible without them. \n",
        " \n",
        " - A group scale lens is a system which cannot be modeled to a high level of accuracy using a single light and mass \n",
        " distribution. Defining a 'main' lens galaxy is unclear and two or more main lens galaxies are required to fit an \n",
        " accurate model. \n",
        " \n",
        "The `group` package also uses the extra galaxies API for model composition, but does so to compose and fit more complex lens \n",
        "models."
      ]
    },
    {
      "cell_type": "code",
      "metadata": {},
      "source": [],
      "outputs": [],
      "execution_count": null
    }
  ],
  "metadata": {
    "anaconda-cloud": {},
    "kernelspec": {
      "display_name": "Python 3",
      "language": "python",
      "name": "python3"
    },
    "language_info": {
      "codemirror_mode": {
        "name": "ipython",
        "version": 3
      },
      "file_extension": ".py",
      "mimetype": "text/x-python",
      "name": "python",
      "nbconvert_exporter": "python",
      "pygments_lexer": "ipython3",
      "version": "3.6.1"
    }
  },
  "nbformat": 4,
  "nbformat_minor": 4
}