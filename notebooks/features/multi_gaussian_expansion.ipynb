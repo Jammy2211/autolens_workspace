{
  "cells": [
    {
      "cell_type": "markdown",
      "metadata": {},
      "source": [
        "Modeling Features: Multi Gaussian Expansion\n",
        "===========================================\n",
        "\n",
        "A multi Gaussian expansion (MGE) decomposes the lens light into ~15-100 Gaussians, where the `intensity` of every \n",
        "Gaussian is solved for via a linear algebra using a process called an \"inversion\" (see the `light_parametric_linear.py` \n",
        "feature for a full description of this).\n",
        "\n",
        "This script fits a lens light model which uses an MGE consisting of 60 Gaussians. It is fitted to simulated data\n",
        "where the lens galaxy's light has asymmetric and irregular features, which fitted poorly by symmetric light\n",
        "profiles like the `Sersic`.\n",
        "\n",
        "__Contents__\n",
        "\n",
        "**Advantages & Disadvantages:** Benefits and drawbacks of using an MGE.\n",
        "**Positive Only Solver:** How a positive solution to the light profile intensities is ensured.\n",
        "**MGE Source Galaxy:** Discussion of using the MGE for the source galaxy, which is illustrated fully at the end of the example.\n",
        "**Dataset & Mask:** Standard set up of imaging dataset that is fitted.\n",
        "**Basis:** How to create a basis of multiple light profiles, in this example Gaussians.\n",
        "**Gaussians:** A visualization of the Gaussians in the Basis that make up the MGE.\n",
        "**Linear Light Profiles:** How to create a basis of linear light profiles to perform the MGE.\n",
        "**Fit:** Perform a fit to a dataset using linear light profile MGE.\n",
        "**Intensities:** Access the solved for intensities of linear light profiles from the fit.\n",
        "**Model:** Composing a model using an MGE and how it changes the number of free parameters.\n",
        "**Search & Analysis:** Standard set up of non-linear search and analysis.\n",
        "**Run Time:** Profiling of MGE run times and discussion of how they compare to standard light profiles.\n",
        "**Model-Fit:** Performs the model fit using standard API.\n",
        "**Result:** MGE results, including accessing light profiles with solved for intensity values.\n",
        "**MGE Source:** Detailed illustration of using MGE source.\n",
        "**Regularization:** API for applying regularization to MGE, which is not recommend but included for illustration.\n",
        "\n",
        "__Advantages__\n",
        "\n",
        "Symmetric light profiles (e.g. elliptical Sersics) may leave significant residuals, because they fail to capture \n",
        "irregular and asymmetric morphological of galaxies (e.g. isophotal twists, an ellipticity which varies radially). \n",
        "An MGE fully captures these features and can therefore much better represent the emission of complex lens galaxies.\n",
        "\n",
        "The MGE model can be composed in a way that has fewer non-linear parameters than an elliptical Sersic. In this example,\n",
        "two separate groups of Gaussians are used to represent the `bulge` and `disk` of the lens, which in total correspond\n",
        "to just N=6 non-linear parameters (a `bulge` and `disk` comprising two linear Sersics has N=10 parameters). \n",
        "\n",
        "The MGE model parameterization is also composed such that neither the `intensity` parameters or any of the\n",
        "parameters controlling the size of the Gaussians (their `sigma` values) are non-linear parameters sampled by Nautilus.\n",
        "This removes the most significant degeneracies in parameter space, making the model much more reliable and efficient\n",
        "to fit.\n",
        "\n",
        "Therefore, not only does an MGE fit more complex galaxy morphologies, it does so using fewer non-linear parameters\n",
        "in a much simpler non-linear parameter space which has far less significant parameter degeneracies!\n",
        "\n",
        "__Disadvantages__\n",
        "\n",
        "To fit an MGE model to the data, the light of the ~15-75 or more Gaussian in the MGE must be evaluated and compared\n",
        "to the data. This is slower than evaluating the light of ~2-3 Sersic profiles, producing slower computational run\n",
        "times (although the simpler non-linear parameter space will speed up the fit overall).\n",
        "\n",
        "__Positive Only Solver__\n",
        "\n",
        "Many codes which use linear algebra typically rely on a linear algabra solver which allows for positive and negative\n",
        "values of the solution (e.g. `np.linalg.solve`), because they are computationally fast.\n",
        "\n",
        "This is problematic, as it means that negative surface brightnesses values can be computed to represent a galaxy's\n",
        "light, which is clearly unphysical. For an MGE, this produces a positive-negative \"ringing\", where the\n",
        "Gaussians alternate between large positive and negative values. This is clearly undesirable and unphysical.\n",
        "\n",
        "**PyAutoLens** uses a positive only linear algebra solver which has been extensively optimized to ensure it is as fast\n",
        "as positive-negative solvers. This ensures that all light profile intensities are positive and therefore physical.\n",
        "\n",
        "__MGE Source Galaxy__\n",
        "\n",
        "The MGE was designed to model the light of lens galaxies, because they are typically elliptical galaxies whose\n",
        "morphology is better represented as many Gaussians. Their complex features (e.g. isophotal twists,\n",
        "an ellipticity which varies radially) are accurately captured by an MGE.\n",
        "\n",
        "The morphological features typically seen in source galaxies (e.g. disks, bars, clumps of star formation) are less\n",
        "suited to an MGE. The source-plane of many lenses also often have multiple galaxies, whereas the MGE fitted\n",
        "in this example assumes a single `centre`.\n",
        "\n",
        "However, despite these limitations, an MGE turns out to be an extremely powerful way to model the source galaxies\n",
        "of strong lenses. This is because, even if it struggles to capture the source's morphology, the simplification of\n",
        "non-linear parameter space and removal of degeneracies makes it much easier to obtain a reliable lens model.\n",
        "This is driven by the removal of any non-linear parameters which change the size of the source's light profile,\n",
        "which are otherwise the most degenerate with the lens's mass model.\n",
        "\n",
        "The second example in this script therefore uses an MGE source. We strongly recommend you read that example and adopt\n",
        "MGE lens light models and source models, instead of the elliptical Sersic profiles, as soon as possible!\n",
        "\n",
        "To capture the irregular and asymmetric features of the source's morphology, or reconstruct multiple source galaxies,\n",
        "we recommend using a pixelized source reconstruction (see `autolens_workspace/modeling/imaging/features/pixelization.py`).\n",
        "Combining this with an MGE for the len's light can be a very powerful way to model strong lenses!\n",
        "\n",
        "__Model__\n",
        "\n",
        "This script fits an `Imaging` dataset of a 'galaxy-scale' strong lens with a model where:\n",
        "\n",
        " - The lens galaxy's bulge is a super position of 60 `Gaussian`` profiles.\n",
        " - The lens galaxy's total mass distribution is an `Isothermal` and `ExternalShear`.\n",
        " - The source galaxy's light is a linear parametric `SersicCore`.\n",
        "\n",
        "__Start Here Notebook__\n",
        "\n",
        "If any code in this script is unclear, refer to the `modeling/start_here.ipynb` notebook."
      ]
    },
    {
      "cell_type": "code",
      "metadata": {},
      "source": [
        "%matplotlib inline\n",
        "from pyprojroot import here\n",
        "workspace_path = str(here())\n",
        "%cd $workspace_path\n",
        "print(f\"Working Directory has been set to `{workspace_path}`\")\n",
        "\n",
        "import numpy as np\n",
        "from os import path\n",
        "import autofit as af\n",
        "import autolens as al\n",
        "import autolens.plot as aplt"
      ],
      "outputs": [],
      "execution_count": null
    },
    {
      "cell_type": "markdown",
      "metadata": {},
      "source": [
        "__Dataset__\n",
        "\n",
        "Load and plot the strong lens dataset `simple` via .fits files."
      ]
    },
    {
      "cell_type": "code",
      "metadata": {},
      "source": [
        "dataset_name = \"lens_light_asymmetric\"\n",
        "dataset_path = path.join(\"dataset\", \"imaging\", dataset_name)\n",
        "\n",
        "dataset = al.Imaging.from_fits(\n",
        "    data_path=path.join(dataset_path, \"data.fits\"),\n",
        "    psf_path=path.join(dataset_path, \"psf.fits\"),\n",
        "    noise_map_path=path.join(dataset_path, \"noise_map.fits\"),\n",
        "    pixel_scales=0.1,\n",
        ")\n",
        "\n",
        "dataset_plotter = aplt.ImagingPlotter(dataset=dataset)\n",
        "dataset_plotter.subplot_dataset()"
      ],
      "outputs": [],
      "execution_count": null
    },
    {
      "cell_type": "markdown",
      "metadata": {},
      "source": [
        "__Mask__\n",
        "\n",
        "Define a 3.0\" circular mask, which includes the emission of the lens and source galaxies."
      ]
    },
    {
      "cell_type": "code",
      "metadata": {},
      "source": [
        "mask = al.Mask2D.circular(\n",
        "    shape_native=dataset.shape_native, pixel_scales=dataset.pixel_scales, radius=3.0\n",
        ")\n",
        "\n",
        "dataset = dataset.apply_mask(mask=mask)\n",
        "\n",
        "dataset_plotter = aplt.ImagingPlotter(dataset=dataset)\n",
        "dataset_plotter.subplot_dataset()"
      ],
      "outputs": [],
      "execution_count": null
    },
    {
      "cell_type": "markdown",
      "metadata": {},
      "source": [
        "__Basis__\n",
        "\n",
        "We first build a `Basis`, which is built from multiple light profiles (in this case, Gaussians). \n",
        "\n",
        "Below, we make a `Basis` out of 30 elliptical Gaussian light profiles which: \n",
        "\n",
        " - All share the same centre and elliptical components.\n",
        " - The `sigma` size of the Gaussians increases in log10 increments.\n",
        "\n",
        "Note that any light profile can be used to compose a Basis, but Gaussians are a good choice for lens galaxies\n",
        "because they can capture the structure of elliptical galaxies."
      ]
    },
    {
      "cell_type": "code",
      "metadata": {},
      "source": [
        "total_gaussians = 30\n",
        "\n",
        "# The sigma values of the Gaussians will be fixed to values spanning 0.01 to the mask radius, 3.0\".\n",
        "\n",
        "mask_radius = 3.0\n",
        "log10_sigma_list = np.linspace(-2, np.log10(mask_radius), total_gaussians)\n",
        "\n",
        "# A list of linear light profile Gaussians will be input here, which will then be used to fit the data.\n",
        "\n",
        "bulge_gaussian_list = []\n",
        "\n",
        "# Iterate over every Gaussian and create it, with it centered at (0.0\", 0.0\") and assuming spherical symmetry.\n",
        "\n",
        "for i in range(total_gaussians):\n",
        "    gaussian = al.lp.Gaussian(\n",
        "        centre=(0.0, 0.0),\n",
        "        ell_comps=(0.0, 0.0),\n",
        "        intensity=1.0,\n",
        "        sigma=10 ** log10_sigma_list[i],\n",
        "    )\n",
        "\n",
        "    bulge_gaussian_list.append(gaussian)\n",
        "\n",
        "# The Basis object groups many light profiles together into a single model component and is used to fit the data.\n",
        "\n",
        "bulge = al.lp_basis.Basis(profile_list=bulge_gaussian_list)"
      ],
      "outputs": [],
      "execution_count": null
    },
    {
      "cell_type": "markdown",
      "metadata": {},
      "source": [
        "__Gaussians__\n",
        "\n",
        "The `Basis` is composed of many Gaussians, each with different sizes (the `sigma` value) and therefore capturing\n",
        "emission on different scales.\n",
        "\n",
        "These Gaussians are visualized below using a `BasisPlotter`, which shows that the Gaussians expand in size as the\n",
        "sigma value increases, in log10 increments."
      ]
    },
    {
      "cell_type": "code",
      "metadata": {},
      "source": [
        "grid = al.Grid2D.uniform(shape_native=(100, 100), pixel_scales=0.05)\n",
        "\n",
        "basis_plotter = aplt.BasisPlotter(basis=bulge, grid=grid)\n",
        "basis_plotter.subplot_image()\n"
      ],
      "outputs": [],
      "execution_count": null
    },
    {
      "cell_type": "markdown",
      "metadata": {},
      "source": [
        "__Linear Light Profiles__\n",
        "\n",
        "We now show Composing a basis of multiple Gaussians and use them to fit the lens galaxy's light in data.\n",
        "\n",
        "This does not perform a model-fit via a non-linear search, and therefore requires us to manually specify and guess\n",
        "suitable parameter values for the shapelets (e.g. the `centre`, `ell_comps`). However, Gaussians are\n",
        "very flexible and will give us a decent looking lens fit even if we just guess sensible values\n",
        "for each parameter. \n",
        "\n",
        "The one parameter that is tricky to guess is the `intensity` of each Gaussian. A wide range of positive `intensity` \n",
        "values are required to decompose the lens galaxy's light accurately. We certainly cannot obtain a good solution by \n",
        "guessing the `intensity` values by eye.\n",
        "\n",
        "We therefore use linear light profile Gaussians, which determine the optimal value for each Gaussian's `intensity` \n",
        "via linear algebra. Linear light profiles are described in the `linear_light_profiles.py` example and you should\n",
        "familiarize yourself with this example before using the multi-Gaussian expansion.\n",
        "\n",
        "We therefore again setup a `Basis` in an analogous fashion to the previous example, but this time we use linear\n",
        "Gaussians (via the `lp_linear.linear` module)."
      ]
    },
    {
      "cell_type": "code",
      "metadata": {},
      "source": [
        "total_gaussians = 30\n",
        "\n",
        "# The sigma values of the Gaussians will be fixed to values spanning 0.01 to the mask radius, 3.0\".\n",
        "\n",
        "mask_radius = 3.0\n",
        "log10_sigma_list = np.linspace(-2, np.log10(mask_radius), total_gaussians)\n",
        "\n",
        "# A list of linear light profile Gaussians will be input here, which will then be used to fit the data.\n",
        "\n",
        "bulge_gaussian_list = []\n",
        "\n",
        "# Iterate over every Gaussian and create it, with it centered at (0.0\", 0.0\") and assuming spherical symmetry.\n",
        "\n",
        "for i in range(total_gaussians):\n",
        "    gaussian = al.lp_linear.Gaussian(\n",
        "        centre=(0.0, 0.0),\n",
        "        ell_comps=(0.0, 0.0),\n",
        "        sigma=10 ** log10_sigma_list[i],\n",
        "    )\n",
        "\n",
        "    bulge_gaussian_list.append(gaussian)\n",
        "\n",
        "# The Basis object groups many light profiles together into a single model component and is used to fit the data.\n",
        "\n",
        "bulge = al.lp_basis.Basis(profile_list=bulge_gaussian_list)"
      ],
      "outputs": [],
      "execution_count": null
    },
    {
      "cell_type": "markdown",
      "metadata": {},
      "source": [
        "__Fit__\n",
        "\n",
        "This is to illustrate the API for performing an MGE using standard autolens objects like the `Galaxy`, `Tracer`\n",
        "and `FitImaging` \n",
        "\n",
        "Once we have a `Basis`, we can treat it like any other light profile in order to create a `Galaxy` and `Tracer` and \n",
        "use it to fit data."
      ]
    },
    {
      "cell_type": "code",
      "metadata": {},
      "source": [
        "lens = al.Galaxy(\n",
        "    redshift=0.5,\n",
        "    bulge=bulge,\n",
        ")\n",
        "\n",
        "tracer = al.Tracer(galaxies=[lens, al.Galaxy(redshift=1.0)])\n",
        "\n",
        "fit = al.FitImaging(dataset=dataset, tracer=tracer)"
      ],
      "outputs": [],
      "execution_count": null
    },
    {
      "cell_type": "markdown",
      "metadata": {},
      "source": [
        "By plotting the fit, we see that the MGE does a reasonable job at capturing the appearance of the lens galaxy.\n",
        "\n",
        "The majority of residuals are due to the lensed source, which was not included in the model. There are faint\n",
        "central residuals, which are due to the MGE not being a perfect fit to the lens galaxy's light. \n",
        "\n",
        "Given that there was no non-linear search to determine the optimal values of the Gaussians and the source galaxy\n",
        "was omitted entirely, this is a pretty good fit!"
      ]
    },
    {
      "cell_type": "code",
      "metadata": {},
      "source": [
        "fit_plotter = aplt.FitImagingPlotter(fit=fit)\n",
        "fit_plotter.subplot_fit()"
      ],
      "outputs": [],
      "execution_count": null
    },
    {
      "cell_type": "markdown",
      "metadata": {},
      "source": [
        "We can use the `BasisPlotter` to plot each individual Gaussian in the reconstructed basis.\n",
        "\n",
        "This plot shows each Gaussian has a unique positive `intensity` that was solved for via linear algebra."
      ]
    },
    {
      "cell_type": "code",
      "metadata": {},
      "source": [
        "tracer = fit.model_obj_linear_light_profiles_to_light_profiles\n",
        "\n",
        "basis_plotter = aplt.BasisPlotter(basis=tracer.galaxies[0].bulge, grid=grid)\n",
        "basis_plotter.subplot_image()"
      ],
      "outputs": [],
      "execution_count": null
    },
    {
      "cell_type": "markdown",
      "metadata": {},
      "source": [
        "__Intensities__\n",
        "\n",
        "The fit contains the solved for intensity values.\n",
        "\n",
        "These are computed using a fit's `linear_light_profile_intensity_dict`, which maps each linear light profile \n",
        "in the model parameterization above to its `intensity`.\n",
        "\n",
        "The code below shows how to use this dictionary, as an alternative to using the max_log_likelihood quantities above."
      ]
    },
    {
      "cell_type": "code",
      "metadata": {},
      "source": [
        "lens_bulge = fit.tracer.galaxies[0].bulge\n",
        "\n",
        "print(\n",
        "    f\"\\n Intensity of lens galaxy's first Gaussian in bulge = {fit.linear_light_profile_intensity_dict[lens_bulge.profile_list[0]]}\"\n",
        ")"
      ],
      "outputs": [],
      "execution_count": null
    },
    {
      "cell_type": "markdown",
      "metadata": {},
      "source": [
        "A `Tracer` where all linear light profile objects are replaced with ordinary light profiles using the solved \n",
        "for `intensity` values is also accessible from a fit.\n",
        "\n",
        "For example, the first linear light profile of the MGE `bulge` component above printed it solved for intensity value,\n",
        "but it was still represented as a linear light profile. \n",
        "\n",
        "The `tracer` created below instead has a standard light profile with an `intensity` actually set.\n",
        "\n",
        "The benefit of using a tracer with standard light profiles is it can be visualized, as performed above (linear \n",
        "light profiles cannot by default because they do not have `intensity` values)."
      ]
    },
    {
      "cell_type": "code",
      "metadata": {},
      "source": [
        "tracer = fit.model_obj_linear_light_profiles_to_light_profiles\n",
        "\n",
        "print(tracer.galaxies[0].bulge.profile_list[0].intensity)"
      ],
      "outputs": [],
      "execution_count": null
    },
    {
      "cell_type": "markdown",
      "metadata": {},
      "source": [
        "__Model__\n",
        "\n",
        "The MGE above produced residuals, which we now rectify by fitting the MGE in a non-linear search, simultaneously\n",
        "fitting the lens's mass and source galaxies.\n",
        "\n",
        "We compose a lens model where:\n",
        "\n",
        " - The galaxy's bulge is 60 parametric linear `Gaussian` profiles [6 parameters]. \n",
        " - The centres and elliptical components of the Gaussians are all linked together in two groups of 30.\n",
        " - The `sigma` size of the Gaussians increases in log10 increments.\n",
        "\n",
        " - The lens galaxy's total mass distribution is an `Isothermal` and `ExternalShear` [7 parameters].\n",
        " \n",
        " - The source galaxy's light is a parametric linear `Sersic` [6 parameters].\n",
        "\n",
        "The number of free parameters and therefore the dimensionality of non-linear parameter space is N=19.\n",
        "\n",
        "Unlike the examples above, our MGE now comprises 2 * 30 Gaussians (instead of 1 * 30). Each group of 30\n",
        "have their own elliptical components meaning the lens's light is descomposed into two distinct elliptical components,\n",
        "which could be viewed as a bulge and disk.\n",
        "\n",
        "Note that above we combine the MGE for the lens light with a linear light profile for the source, meaning these two\n",
        "categories of models can be combined.\n",
        "\n",
        "__Model Cookbook__\n",
        "\n",
        "A full description of model composition is provided by the model cookbook: \n",
        "\n",
        "https://pyautolens.readthedocs.io/en/latest/general/model_cookbook.html"
      ]
    },
    {
      "cell_type": "code",
      "metadata": {},
      "source": [
        "total_gaussians = 30\n",
        "gaussian_per_basis = 2\n",
        "\n",
        "# The sigma values of the Gaussians will be fixed to values spanning 0.01 to the mask radius, 3.0\".\n",
        "mask_radius = 3.0\n",
        "log10_sigma_list = np.linspace(-2, np.log10(mask_radius), total_gaussians)\n",
        "\n",
        "# By defining the centre here, it creates two free parameters that are assigned below to all Gaussians.\n",
        "\n",
        "centre_0 = af.UniformPrior(lower_limit=-0.1, upper_limit=0.1)\n",
        "centre_1 = af.UniformPrior(lower_limit=-0.1, upper_limit=0.1)\n",
        "\n",
        "bulge_gaussian_list = []\n",
        "\n",
        "for j in range(gaussian_per_basis):\n",
        "    # A list of Gaussian model components whose parameters are customized belows.\n",
        "\n",
        "    gaussian_list = af.Collection(\n",
        "        af.Model(al.lp_linear.Gaussian) for _ in range(total_gaussians)\n",
        "    )\n",
        "\n",
        "    # Iterate over every Gaussian and customize its parameters.\n",
        "\n",
        "    for i, gaussian in enumerate(gaussian_list):\n",
        "        gaussian.centre.centre_0 = centre_0  # All Gaussians have same y centre.\n",
        "        gaussian.centre.centre_1 = centre_1  # All Gaussians have same x centre.\n",
        "        gaussian.ell_comps = gaussian_list[\n",
        "            0\n",
        "        ].ell_comps  # All Gaussians have same elliptical components.\n",
        "        gaussian.sigma = (\n",
        "            10 ** log10_sigma_list[i]\n",
        "        )  # All Gaussian sigmas are fixed to values above.\n",
        "\n",
        "    bulge_gaussian_list += gaussian_list\n",
        "\n",
        "# The Basis object groups many light profiles together into a single model component.\n",
        "\n",
        "bulge = af.Model(\n",
        "    al.lp_basis.Basis,\n",
        "    profile_list=bulge_gaussian_list,\n",
        ")\n",
        "\n",
        "mass = af.Model(al.mp.Isothermal)\n",
        "\n",
        "lens = af.Model(al.Galaxy, redshift=0.5, bulge=bulge, mass=mass)\n",
        "\n",
        "source = af.Model(al.Galaxy, redshift=1.0, bulge=al.lp_linear.SersicCore)\n",
        "\n",
        "model = af.Collection(galaxies=af.Collection(lens=lens, source=source))"
      ],
      "outputs": [],
      "execution_count": null
    },
    {
      "cell_type": "markdown",
      "metadata": {},
      "source": [
        "The `info` attribute shows the model in a readable format (if this does not display clearly on your screen refer to\n",
        "`start_here.ipynb` for a description of how to fix this).\n",
        "\n",
        "This shows every single Gaussian light profile in the model, which is a lot of parameters! However, the vast\n",
        "majority of these parameters are fixed to the values we set above, so the model actually has far fewer free\n",
        "parameters than it looks!"
      ]
    },
    {
      "cell_type": "code",
      "metadata": {},
      "source": [
        "print(model.info)"
      ],
      "outputs": [],
      "execution_count": null
    },
    {
      "cell_type": "markdown",
      "metadata": {},
      "source": [
        "__Search__\n",
        "\n",
        "The model is fitted to the data using the nested sampling algorithm Nautilus (see `start.here.py` for a \n",
        "full description).\n",
        "\n",
        "Owing to the simplicity of fitting an MGE we an use even fewer live points than other examples, reducing it to\n",
        "75 live points, speeding up convergence of the non-linear search."
      ]
    },
    {
      "cell_type": "code",
      "metadata": {},
      "source": [
        "search = af.Nautilus(\n",
        "    path_prefix=path.join(\"imaging\", \"modeling\"),\n",
        "    name=\"mge\",\n",
        "    unique_tag=dataset_name,\n",
        "    n_live=75,\n",
        "    number_of_cores=1,\n",
        ")"
      ],
      "outputs": [],
      "execution_count": null
    },
    {
      "cell_type": "markdown",
      "metadata": {},
      "source": [
        "__Analysis__\n",
        "\n",
        "Create the `AnalysisImaging` object defining how the via Nautilus the model is fitted to the data."
      ]
    },
    {
      "cell_type": "code",
      "metadata": {},
      "source": [
        "analysis = al.AnalysisImaging(dataset=dataset)"
      ],
      "outputs": [],
      "execution_count": null
    },
    {
      "cell_type": "markdown",
      "metadata": {},
      "source": [
        "__Run Time__\n",
        "\n",
        "The likelihood evaluation time for a multi-Gaussian expansion is significantly slower than standard / linear \n",
        "light profiles. This is because the image of every Gaussian must be computed and evaluated, and each must be blurred \n",
        "with the PSF. In this example, the evaluation time is ~0.5s, compared to ~0.01 seconds for standard light profiles.\n",
        "\n",
        "Huge gains in the overall run-time however are made thanks to the models significantly reduced complexity and lower\n",
        "number of free parameters. Furthermore, because there are not free parameters which scale the size of lens galaxy,\n",
        "this produces significantly faster convergence by Nautilus that any other lens light model. We also use fewer live\n",
        "points, further speeding up the model-fit.\n",
        "\n",
        "Overall, it is difficult to state which approach will be faster overall. However, the MGE's ability to fit the data\n",
        "more accurately and the less complex parameter due to removing parameters that scale the lens galaxy make it the \n",
        "superior approach."
      ]
    },
    {
      "cell_type": "code",
      "metadata": {},
      "source": [
        "run_time_dict, info_dict = analysis.profile_log_likelihood_function(\n",
        "    instance=model.random_instance()\n",
        ")\n",
        "\n",
        "print(f\"Log Likelihood Evaluation Time (second) = {run_time_dict['fit_time']}\")\n",
        "print(\n",
        "    \"Estimated Run Time Upper Limit (seconds) = \",\n",
        "    (run_time_dict[\"fit_time\"] * model.total_free_parameters * 10000)\n",
        "    / search.number_of_cores,\n",
        ")"
      ],
      "outputs": [],
      "execution_count": null
    },
    {
      "cell_type": "markdown",
      "metadata": {},
      "source": [
        "__Model-Fit__\n",
        "\n",
        "We begin the model-fit by passing the model and analysis object to the non-linear search (checkout the output folder\n",
        "for on-the-fly visualization and results)."
      ]
    },
    {
      "cell_type": "code",
      "metadata": {},
      "source": [
        "result = search.fit(model=model, analysis=analysis)"
      ],
      "outputs": [],
      "execution_count": null
    },
    {
      "cell_type": "markdown",
      "metadata": {},
      "source": [
        "__Result__\n",
        "\n",
        "The search returns a result object, which whose `info` attribute shows the result in a readable format (if this does \n",
        "not display clearly on your screen refer to `start_here.ipynb` for a description of how to fix this):\n",
        "\n",
        "This confirms there are many `Gaussian`' in the lens light model and it lists their inferred parameters."
      ]
    },
    {
      "cell_type": "code",
      "metadata": {},
      "source": [
        "print(result.info)"
      ],
      "outputs": [],
      "execution_count": null
    },
    {
      "cell_type": "markdown",
      "metadata": {},
      "source": [
        "We plot the maximum likelihood fit, tracer images and posteriors inferred via Nautilus.\n",
        "\n",
        "Checkout `autolens_workspace/*/imaging/results` for a full description of analysing results in **PyAutoLens**.\n",
        "\n",
        "In particular, checkout the results example `linear.py` which details how to extract all information about linear\n",
        "light profiles from a fit."
      ]
    },
    {
      "cell_type": "code",
      "metadata": {},
      "source": [
        "print(result.max_log_likelihood_instance)\n",
        "\n",
        "tracer_plotter = aplt.TracerPlotter(\n",
        "    tracer=result.max_log_likelihood_tracer, grid=result.grids.uniform\n",
        ")\n",
        "tracer_plotter.subplot_tracer()\n",
        "\n",
        "fit_plotter = aplt.FitImagingPlotter(fit=result.max_log_likelihood_fit)\n",
        "fit_plotter.subplot_fit()\n",
        "\n",
        "plotter = aplt.NestPlotter(samples=result.samples)\n",
        "plotter.corner_anesthetic()"
      ],
      "outputs": [],
      "execution_count": null
    },
    {
      "cell_type": "markdown",
      "metadata": {},
      "source": [
        "__Source MGE__\n",
        "\n",
        "As discussed at the beginning of this tutorial, an MGE is an effective way to model the light of a source galaxy and \n",
        "get an initial estimate of the lens mass model.\n",
        "\n",
        "This MGE source is used alongside the MGE lens light model, which offers a lot of flexibility in modeling the lens\n",
        "and source galaxies. Note that the MGE source uses fewer Gaussians, as the MGE only needs to capture the main\n",
        "structure of the source galaxy's light to obtain an accurate lens model.\n",
        "\n",
        "We compose the model below, recreating the Gaussian's line-by-line in Python, so you can easily copy and paste\n",
        "and reuse the code below in your own scripts."
      ]
    },
    {
      "cell_type": "code",
      "metadata": {},
      "source": [
        "# Lens:\n",
        "\n",
        "total_gaussians = 30\n",
        "gaussian_per_basis = 2\n",
        "\n",
        "# The sigma values of the Gaussians will be fixed to values spanning 0.01 to the mask radius, 3.0\".\n",
        "mask_radius = 3.0\n",
        "log10_sigma_list = np.linspace(-2, np.log10(mask_radius), total_gaussians)\n",
        "\n",
        "# By defining the centre here, it creates two free parameters that are assigned below to all Gaussians.\n",
        "\n",
        "centre_0 = af.UniformPrior(lower_limit=-0.1, upper_limit=0.1)\n",
        "centre_1 = af.UniformPrior(lower_limit=-0.1, upper_limit=0.1)\n",
        "\n",
        "bulge_gaussian_list = []\n",
        "\n",
        "for j in range(gaussian_per_basis):\n",
        "    # A list of Gaussian model components whose parameters are customized belows.\n",
        "\n",
        "    gaussian_list = af.Collection(\n",
        "        af.Model(al.lp_linear.Gaussian) for _ in range(total_gaussians)\n",
        "    )\n",
        "\n",
        "    # Iterate over every Gaussian and customize its parameters.\n",
        "\n",
        "    for i, gaussian in enumerate(gaussian_list):\n",
        "        gaussian.centre.centre_0 = centre_0  # All Gaussians have same y centre.\n",
        "        gaussian.centre.centre_1 = centre_1  # All Gaussians have same x centre.\n",
        "        gaussian.ell_comps = gaussian_list[\n",
        "            0\n",
        "        ].ell_comps  # All Gaussians have same elliptical components.\n",
        "        gaussian.sigma = (\n",
        "            10 ** log10_sigma_list[i]\n",
        "        )  # All Gaussian sigmas are fixed to values above.\n",
        "\n",
        "    bulge_gaussian_list += gaussian_list\n",
        "\n",
        "# The Basis object groups many light profiles together into a single model component.\n",
        "\n",
        "bulge = af.Model(\n",
        "    al.lp_basis.Basis,\n",
        "    profile_list=bulge_gaussian_list,\n",
        ")\n",
        "mass = af.Model(al.mp.Isothermal)\n",
        "lens = af.Model(al.Galaxy, redshift=0.5, bulge=bulge, mass=mass)\n",
        "\n",
        "# Source:\n",
        "\n",
        "total_gaussians = 20\n",
        "gaussian_per_basis = 1\n",
        "\n",
        "# By defining the centre here, it creates two free parameters that are assigned to the source Gaussians.\n",
        "\n",
        "centre_0 = af.UniformPrior(lower_limit=-0.1, upper_limit=0.1)\n",
        "centre_1 = af.UniformPrior(lower_limit=-0.1, upper_limit=0.1)\n",
        "\n",
        "log10_sigma_list = np.linspace(-2, np.log10(1.0), total_gaussians)\n",
        "\n",
        "bulge_gaussian_list = []\n",
        "\n",
        "for j in range(gaussian_per_basis):\n",
        "    gaussian_list = af.Collection(\n",
        "        af.Model(al.lp_linear.Gaussian) for _ in range(total_gaussians)\n",
        "    )\n",
        "\n",
        "    for i, gaussian in enumerate(gaussian_list):\n",
        "        gaussian.centre.centre_0 = centre_0\n",
        "        gaussian.centre.centre_1 = centre_1\n",
        "        gaussian.ell_comps = gaussian_list[0].ell_comps\n",
        "        gaussian.sigma = 10 ** log10_sigma_list[i]\n",
        "\n",
        "    bulge_gaussian_list += gaussian_list\n",
        "\n",
        "source_bulge = af.Model(\n",
        "    al.lp_basis.Basis,\n",
        "    profile_list=bulge_gaussian_list,\n",
        ")\n",
        "\n",
        "source = af.Model(al.Galaxy, redshift=1.0, bulge=source_bulge)\n",
        "\n",
        "# Overall Lens Model:\n",
        "\n",
        "model = af.Collection(galaxies=af.Collection(lens=lens, source=source))"
      ],
      "outputs": [],
      "execution_count": null
    },
    {
      "cell_type": "markdown",
      "metadata": {},
      "source": [
        "Printing the model info confirms the model has Gaussians for both the lens and source galaxies."
      ]
    },
    {
      "cell_type": "code",
      "metadata": {},
      "source": [
        "print(model.info)"
      ],
      "outputs": [],
      "execution_count": null
    },
    {
      "cell_type": "markdown",
      "metadata": {},
      "source": [
        "We now fit this model, which includes the MGE source and lens light models."
      ]
    },
    {
      "cell_type": "code",
      "metadata": {},
      "source": [
        "search = af.Nautilus(\n",
        "    path_prefix=path.join(\"imaging\", \"modeling\"),\n",
        "    name=\"mge_including_source\",\n",
        "    unique_tag=dataset_name,\n",
        "    n_live=75,\n",
        "    number_of_cores=1,\n",
        ")"
      ],
      "outputs": [],
      "execution_count": null
    },
    {
      "cell_type": "markdown",
      "metadata": {},
      "source": [
        "__Run Time__\n",
        "\n",
        "The likelihood evaluation time for a multi-Gaussian expansion for both lens and source galaxies is not much slower\n",
        "than when just the lens galaxy uses an MGE.\n",
        "\n",
        "However, the overall run-time will be even faster than before, as treating the source as an MGE further\n",
        "reduces the complexity of parameter space ensuring Nautilus converges even faster.\n",
        "\n",
        "For initial model-fits where the lens model parameters are not known, a lens + source MGE is possibly the best\n",
        "model one can use. "
      ]
    },
    {
      "cell_type": "code",
      "metadata": {},
      "source": [
        "run_time_dict, info_dict = analysis.profile_log_likelihood_function(\n",
        "    instance=model.random_instance()\n",
        ")\n",
        "\n",
        "print(f\"Log Likelihood Evaluation Time (second) = {run_time_dict['fit_time']}\")\n",
        "print(\n",
        "    \"Estimated Run Time Upper Limit (seconds) = \",\n",
        "    (run_time_dict[\"fit_time\"] * model.total_free_parameters * 10000)\n",
        "    / search.number_of_cores,\n",
        ")"
      ],
      "outputs": [],
      "execution_count": null
    },
    {
      "cell_type": "markdown",
      "metadata": {},
      "source": [
        "__Model-Fit__\n",
        "\n",
        "We begin the model-fit by passing the model and analysis object to the non-linear search (checkout the output folder\n",
        "for on-the-fly visualization and results)."
      ]
    },
    {
      "cell_type": "code",
      "metadata": {},
      "source": [
        "result = search.fit(model=model, analysis=analysis)"
      ],
      "outputs": [],
      "execution_count": null
    },
    {
      "cell_type": "markdown",
      "metadata": {},
      "source": [
        "__Wrap Up__\n",
        "\n",
        "A Multi Gaussian Expansion is a powerful tool for modeling the light of galaxies, and offers a compelling method to\n",
        "fit complex light profiles with a small number of parameters.\n",
        "\n",
        "For **PyAutoLens**'s advanced search chaining feature, it is common use the MGE to initialize the lens light and source \n",
        "models. The lens light model is then made more complex by using an MGE with more Gaussians and the source becomes a \n",
        "pixelized reconstruction.\n",
        "\n",
        "Now you are familiar with MGE modeling, it is recommended you adopt this as your default lens modeling approach. \n",
        "However, it may not be suitable for lower resolution data, where the simpler Sersic profiles may be more appropriate.\n",
        "\n",
        "__Regularization (Advanced / Unused)__\n",
        "\n",
        "An MGE can be regularized, whereby smoothness is enforced on the `intensity` values of the Gaussians. However,\n",
        "this feature proved to be problematic and is currently not used by any scientific analysis. It is still supported\n",
        "and documented below for completeness, but it is recommended you skip over this section and do not use it in your own\n",
        "modeling unless you have a specific reason to do so.\n",
        "\n",
        "Regularization was implemented to avoid a \"positive / negative\" ringing effect in the lens light model reconstruction, \n",
        "whereby the  Gaussians went to a systematic solution which alternated between positive and negative values. \n",
        "\n",
        "Regularization was intended to smooth over the `intensity` values of the Gaussians, such that the solution would prefer\n",
        "a positive-only solution. However, this did not work -- even with high levels of regularization, the Gaussians still\n",
        "went to negative values. The solution also became far from optimal, often leaving significant residuals in the lens\n",
        "light model reconstruction.\n",
        "\n",
        "This problem was solved by switching to a positive-only linear algebra solver, which is the default used \n",
        "in **PyAutoLens** and was used for all fits performed above. The regularization feature is currently not used by\n",
        "any scientific analysis and it is recommended you skip over the example below and do not use it in your own modeling.\n",
        "\n",
        "However, its implementation is detailed below for completeness, and if you think you have a use for it in your own\n",
        "modeling then go ahead! Indeed, even with a positive-only solver, it may be that regularization helps prevent \n",
        "overfitting in certain situations.\n",
        "\n",
        "__Description__\n",
        "\n",
        "There is one downside to `Basis` functions, we may compose a model with too much freedom. The `Basis` (e.g. our 20\n",
        "Gaussians) may overfit noise in the data, or possible the lensed source galaxy emission -- neither of which we \n",
        "want to happen! \n",
        "\n",
        "To circumvent this issue, we have the option of adding regularization to a `Basis`. Regularization penalizes\n",
        "solutions which are not smooth -- it is essentially a prior that says we expect the component the `Basis` represents\n",
        "(e.g. a bulge or disk) to be smooth, in that its light changes smoothly as a function of radius.\n",
        "\n",
        "Below, we compose and fit a model using Basis functions which includes regularization, which adds one addition \n",
        "parameter to the fit, the `coefficient`, which controls the degree of smoothing applied."
      ]
    },
    {
      "cell_type": "code",
      "metadata": {},
      "source": [
        "# Lens:\n",
        "\n",
        "regularization = af.Model(al.reg.Constant)\n",
        "bulge = af.Model(\n",
        "    al.lp_basis.Basis,\n",
        "    profile_list=bulge_gaussian_list,\n",
        "    regularization=regularization,\n",
        ")\n",
        "mass = af.Model(al.mp.Isothermal)\n",
        "lens = af.Model(al.Galaxy, redshift=0.5, bulge=bulge, mass=mass)\n",
        "\n",
        "# Source:\n",
        "\n",
        "bulge = af.Model(al.lp_linear.SersicCore)\n",
        "source = af.Model(al.Galaxy, redshift=1.0, bulge=bulge)\n",
        "\n",
        "# Overall Lens Model:\n",
        "\n",
        "model = af.Collection(galaxies=af.Collection(lens=lens, source=source))"
      ],
      "outputs": [],
      "execution_count": null
    },
    {
      "cell_type": "markdown",
      "metadata": {},
      "source": [
        "The `info` attribute shows the model, which has addition priors now associated with regularization."
      ]
    },
    {
      "cell_type": "code",
      "metadata": {},
      "source": [
        "print(model.info)\n",
        "\n",
        "search = af.Nautilus(\n",
        "    path_prefix=path.join(\"imaging\", \"modeling\"),\n",
        "    name=\"mge_regularized\",\n",
        "    unique_tag=dataset_name,\n",
        "    n_live=150,\n",
        "    number_of_cores=1,\n",
        ")"
      ],
      "outputs": [],
      "execution_count": null
    },
    {
      "cell_type": "markdown",
      "metadata": {},
      "source": [
        "__Run Time__\n",
        "\n",
        "Regularization has a small impact on the run-time of the model-fit, as the likelihood evaluation time does not\n",
        "change and it adds only 1 additional parameter."
      ]
    },
    {
      "cell_type": "code",
      "metadata": {},
      "source": [
        "run_time_dict, info_dict = analysis.profile_log_likelihood_function(\n",
        "    instance=model.random_instance()\n",
        ")\n",
        "\n",
        "print(f\"Log Likelihood Evaluation Time (second) = {run_time_dict['fit_time']}\")\n",
        "print(\n",
        "    \"Estimated Run Time Upper Limit (seconds) = \",\n",
        "    (run_time_dict[\"fit_time\"] * model.total_free_parameters * 10000)\n",
        "    / search.number_of_cores,\n",
        ")"
      ],
      "outputs": [],
      "execution_count": null
    },
    {
      "cell_type": "markdown",
      "metadata": {},
      "source": [
        "__Model-Fit__\n",
        "\n",
        "We begin the model-fit by passing the model and analysis object to the non-linear search (checkout the output folder\n",
        "for on-the-fly visualization and results)."
      ]
    },
    {
      "cell_type": "code",
      "metadata": {},
      "source": [
        "result = search.fit(model=model, analysis=analysis)"
      ],
      "outputs": [],
      "execution_count": null
    },
    {
      "cell_type": "markdown",
      "metadata": {},
      "source": [
        "Finish."
      ]
    },
    {
      "cell_type": "code",
      "metadata": {},
      "source": [],
      "outputs": [],
      "execution_count": null
    }
  ],
  "metadata": {
    "anaconda-cloud": {},
    "kernelspec": {
      "display_name": "Python 3",
      "language": "python",
      "name": "python3"
    },
    "language_info": {
      "codemirror_mode": {
        "name": "ipython",
        "version": 3
      },
      "file_extension": ".py",
      "mimetype": "text/x-python",
      "name": "python",
      "nbconvert_exporter": "python",
      "pygments_lexer": "ipython3",
      "version": "3.6.1"
    }
  },
  "nbformat": 4,
  "nbformat_minor": 4
}