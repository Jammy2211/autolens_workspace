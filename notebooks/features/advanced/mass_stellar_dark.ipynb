{
  "cells": [
    {
      "cell_type": "markdown",
      "metadata": {},
      "source": [
        "Modeling Features: Mass Stellar Dark\n",
        "====================================\n",
        "\n",
        "The majority of example scripts fit a mass profile which represents the _total_ mass of the lens galaxy (its stars,\n",
        "dark matter and other components combined). This typically uses an `Isothermal` or `PowerLaw` mass profile.\n",
        "\n",
        "This script fits a mass model which decomposes the lens galaxy's mass into its stars and dark matter.\n",
        "\n",
        "__Advantages__\n",
        "\n",
        "Decomposed mass models measure direct properties of the stars and dark matter, for example the lens's stellar mass,\n",
        "dark matter mass and the relative distribution between the two. Total mass profiles only inform us about the\n",
        "superposition of these two components.\n",
        "\n",
        "Decomposed mass models couple the lens galaxy's light profile to its stellar mass distribution, meaning that\n",
        "additional information in the lens galaxy emission is used to constrain the mass model. Whilst total mass models\n",
        "also fit the lens light, they do not couple it to the mass model and thus do not exploit this extra information.\n",
        "\n",
        "Total mass models like the `Isothermal` and `PowerLaw` assume that the overall mass distribution of the lens galaxy\n",
        "can be described using a single elliptical coordinate system. The stellar and dark components of a decomposed mass\n",
        "model each have their own elliptical coordinate system, meaning that the mass model can be more complex and accurate.\n",
        "\n",
        "__Disadvantages__\n",
        "\n",
        "Assumptions must be made about how light and mass are coupled. This script assumes a constant mass-to-light raito,\n",
        "however it is not clear this is a reliable assumption in many lens galaxies.\n",
        "\n",
        "**PyAutoLens** supports more complex mass models which introduce a radial gradient into the mass-to-light ratio.\n",
        "However, these are more complex and therefore are difficult to fit robustly. Furthermore, it is still not clear\n",
        "whether the way they couple light to mass is a reliable assumption.\n",
        "\n",
        "Performing ray-tracing with decomposed mass models is also more computationally expensive, meaning that the run times\n",
        "of model-fits using these models is typically longer than total mass models.\n",
        "\n",
        "__Model__\n",
        "\n",
        "This script fits an `Imaging` dataset of a 'galaxy-scale' strong lens with a model where:\n",
        "\n",
        " - The lens galaxy's light is a linear parametric `Sersic`.\n",
        " - The lens galaxy's stellar mass distribution is tied to the light model above.\n",
        " - The lens galaxy's dark matter mass distribution is a `NFW`.\n",
        " - The source galaxy's light is a linear parametric `SersicCore`.\n",
        "\n",
        "__Start Here Notebook__\n",
        "\n",
        "If any code in this script is unclear, refer to the `modeling/start_here.ipynb` notebook."
      ]
    },
    {
      "cell_type": "code",
      "metadata": {},
      "source": [
        "%matplotlib inline\n",
        "from pyprojroot import here\n",
        "workspace_path = str(here())\n",
        "%cd $workspace_path\n",
        "print(f\"Working Directory has been set to `{workspace_path}`\")\n",
        "\n",
        "from os import path\n",
        "import autofit as af\n",
        "import autolens as al\n",
        "import autolens.plot as aplt"
      ],
      "outputs": [],
      "execution_count": null
    },
    {
      "cell_type": "markdown",
      "metadata": {},
      "source": [
        "__Dataset__\n",
        "\n",
        "Load and plot the strong lens dataset `mass_stellar_dark` via .fits files."
      ]
    },
    {
      "cell_type": "code",
      "metadata": {},
      "source": [
        "dataset_name = \"mass_stellar_dark\"\n",
        "dataset_path = path.join(\"dataset\", \"imaging\", dataset_name)\n",
        "\n",
        "dataset = al.Imaging.from_fits(\n",
        "    data_path=path.join(dataset_path, \"data.fits\"),\n",
        "    psf_path=path.join(dataset_path, \"psf.fits\"),\n",
        "    noise_map_path=path.join(dataset_path, \"noise_map.fits\"),\n",
        "    pixel_scales=0.1,\n",
        ")"
      ],
      "outputs": [],
      "execution_count": null
    },
    {
      "cell_type": "markdown",
      "metadata": {},
      "source": [
        "__Mask__\n",
        "\n",
        "Define a 3.0\" circular mask, which includes the emission of the lens and source galaxies."
      ]
    },
    {
      "cell_type": "code",
      "metadata": {},
      "source": [
        "mask = al.Mask2D.circular(\n",
        "    shape_native=dataset.shape_native, pixel_scales=dataset.pixel_scales, radius=3.0\n",
        ")\n",
        "\n",
        "dataset = dataset.apply_mask(mask=mask)\n",
        "\n",
        "dataset_plotter = aplt.ImagingPlotter(dataset=dataset)\n",
        "dataset_plotter.subplot_dataset()"
      ],
      "outputs": [],
      "execution_count": null
    },
    {
      "cell_type": "markdown",
      "metadata": {},
      "source": [
        "__Model__\n",
        "\n",
        "We compose a lens model where:\n",
        "\n",
        " - The lens galaxy's light and stellar mass is a linear parametric `Sersic` [7 parameters].\n",
        " \n",
        " - The lens galaxy's dark matter mass distribution is a `NFW` whose centre is aligned with the \n",
        " `Sersic` bulge of the light and stellar mass model above [5 parameters].\n",
        " \n",
        " - The lens mass model also includes an `ExternalShear` [2 parameters].\n",
        " \n",
        " - The source galaxy's light is a linear parametric `SersicCore` [6 parameters].\n",
        "\n",
        "The number of free parameters and therefore the dimensionality of non-linear parameter space is N=22.\n",
        "\n",
        "Note that for the stellar light and mass, we are using a \"light and mass profile\" via the `.lmp` package. This\n",
        "profiles simultaneously acts like a light and mass profile.\n",
        "\n",
        "For the dark matter, we use an `NFW`, which is a common mass profile to represent dark matter.\n",
        "\n",
        "__Model Cookbook__\n",
        "\n",
        "A full description of model composition is provided by the model cookbook: \n",
        "\n",
        "https://pyautolens.readthedocs.io/en/latest/general/model_cookbook.html"
      ]
    },
    {
      "cell_type": "code",
      "metadata": {},
      "source": [
        "# Lens:\n",
        "\n",
        "bulge = af.Model(al.lmp.Sersic)\n",
        "dark = af.Model(al.mp.NFW)\n",
        "bulge.centre = dark.centre\n",
        "shear = af.Model(al.mp.ExternalShear)\n",
        "\n",
        "lens = af.Model(al.Galaxy, redshift=0.5, bulge=bulge, dark=dark, shear=shear)\n",
        "\n",
        "# Source:\n",
        "\n",
        "source = af.Model(al.Galaxy, redshift=1.0, bulge=al.lp_linear.SersicCore)\n",
        "\n",
        "# Overall Model:\n",
        "\n",
        "model = af.Collection(galaxies=af.Collection(lens=lens, source=source))"
      ],
      "outputs": [],
      "execution_count": null
    },
    {
      "cell_type": "markdown",
      "metadata": {},
      "source": [
        "The `info` attribute shows the model in a readable format (if this does not display clearly on your screen refer to\n",
        "`start_here.ipynb` for a description of how to fix this).\n",
        "\n",
        "This confirms that the lens model has both a `Sersic` light and mass profile and `NFW` dark matter profile, which \n",
        "are aligned."
      ]
    },
    {
      "cell_type": "code",
      "metadata": {},
      "source": [
        "print(model.info)"
      ],
      "outputs": [],
      "execution_count": null
    },
    {
      "cell_type": "markdown",
      "metadata": {},
      "source": [
        "__Search__\n",
        "\n",
        "The model is fitted to the data using the nested sampling algorithm Nautilus (see `start.here.py` for a full \n",
        "description)."
      ]
    },
    {
      "cell_type": "code",
      "metadata": {},
      "source": [
        "search = af.Nautilus(\n",
        "    path_prefix=path.join(\"imaging\", \"modeling\"),\n",
        "    name=\"mass_stellar_dark\",\n",
        "    unique_tag=dataset_name,\n",
        "    n_live=150,\n",
        "    number_of_cores=1,\n",
        ")"
      ],
      "outputs": [],
      "execution_count": null
    },
    {
      "cell_type": "markdown",
      "metadata": {},
      "source": [
        "__Analysis__\n",
        "\n",
        "Create the `AnalysisImaging` object defining how the via Nautilus the model is fitted to the data."
      ]
    },
    {
      "cell_type": "code",
      "metadata": {},
      "source": [
        "analysis = al.AnalysisImaging(dataset=dataset)"
      ],
      "outputs": [],
      "execution_count": null
    },
    {
      "cell_type": "markdown",
      "metadata": {},
      "source": [
        "__Run Time__\n",
        "\n",
        "The likelihood evaluation time for analysing stellar and dark matter mass models is longer than for total mass models\n",
        "like the isothermal or power-law. This is because the deflection angles of these mass profiles are more expensive to\n",
        "compute, requiring a Gaussian expansion or numerical calculation.\n",
        "\n",
        "However, they have far fewer parameters than total mass models, when those models are also modeling the lens light. \n",
        "This is because many of the light and mass profile parameters are shared and fitted for simultaneously, reducing the\n",
        "overall dimensionality of non-linear parameter space."
      ]
    },
    {
      "cell_type": "code",
      "metadata": {},
      "source": [
        "run_time_dict, info_dict = analysis.profile_log_likelihood_function(\n",
        "    instance=model.random_instance()\n",
        ")\n",
        "\n",
        "print(f\"Log Likelihood Evaluation Time (second) = {run_time_dict['fit_time']}\")\n",
        "print(\n",
        "    \"Estimated Run Time Upper Limit (seconds) = \",\n",
        "    (run_time_dict[\"fit_time\"] * model.total_free_parameters * 10000)\n",
        "    / search.number_of_cores,\n",
        ")"
      ],
      "outputs": [],
      "execution_count": null
    },
    {
      "cell_type": "markdown",
      "metadata": {},
      "source": [
        "__Model-Fit__\n",
        "\n",
        "We begin the model-fit by passing the model and analysis object to the non-linear search (checkout the output folder\n",
        "for on-the-fly visualization and results)."
      ]
    },
    {
      "cell_type": "code",
      "metadata": {},
      "source": [
        "result = search.fit(model=model, analysis=analysis)"
      ],
      "outputs": [],
      "execution_count": null
    },
    {
      "cell_type": "markdown",
      "metadata": {},
      "source": [
        "__Result__\n",
        "\n",
        "The `info` attribute shows the model in a readable format (if this does not display clearly on your screen refer to\n",
        "`start_here.ipynb` for a description of how to fix this)."
      ]
    },
    {
      "cell_type": "code",
      "metadata": {},
      "source": [
        "print(result.info)"
      ],
      "outputs": [],
      "execution_count": null
    },
    {
      "cell_type": "markdown",
      "metadata": {},
      "source": [
        "We plot the maximum likelihood fit, tracer images and posteriors inferred via Nautilus.\n",
        "\n",
        "These plots show that a decomposed stars and dark matter model is still able to produce ray-tracing and\n",
        "the lensed source's emission."
      ]
    },
    {
      "cell_type": "code",
      "metadata": {},
      "source": [
        "print(result.max_log_likelihood_instance)\n",
        "\n",
        "tracer_plotter = aplt.TracerPlotter(\n",
        "    tracer=result.max_log_likelihood_tracer, grid=result.grids.uniform\n",
        ")\n",
        "tracer_plotter.subplot_tracer()\n",
        "\n",
        "fit_plotter = aplt.FitImagingPlotter(fit=result.max_log_likelihood_fit)\n",
        "fit_plotter.subplot_fit()\n",
        "\n",
        "plotter = aplt.NestPlotter(samples=result.samples)\n",
        "plotter.corner_anesthetic()"
      ],
      "outputs": [],
      "execution_count": null
    },
    {
      "cell_type": "markdown",
      "metadata": {},
      "source": [
        "Checkout `autolens_workspace/*/imaging/results` for a full description of analysing results in **PyAutoLens**.\n",
        "\n",
        "These examples include a results API with specific tools for visualizing and analysing decomposed mass model,\n",
        "for example 1D plots which separately show the density of stars and dark matter as a function of radius.\n",
        "\n",
        "__Wrap Up__\n",
        "\n",
        "Decomposed mass models have advantages and disavantages compared to total mass models.\n",
        "\n",
        "The model which is best suited to your needs depends on the science you are hoping to undertake and the quality of the\n",
        "data you are fitting.\n",
        "\n",
        "In general, it is recommended that you first get fits going using total mass models, because they are simpler and make\n",
        "fewer assumptions regarding how light is tied to mass. Once you have robust results, decomposed mass models can then\n",
        "be fitted and compared in order to gain deeper insight."
      ]
    },
    {
      "cell_type": "code",
      "metadata": {},
      "source": [],
      "outputs": [],
      "execution_count": null
    }
  ],
  "metadata": {
    "anaconda-cloud": {},
    "kernelspec": {
      "display_name": "Python 3",
      "language": "python",
      "name": "python3"
    },
    "language_info": {
      "codemirror_mode": {
        "name": "ipython",
        "version": 3
      },
      "file_extension": ".py",
      "mimetype": "text/x-python",
      "name": "python",
      "nbconvert_exporter": "python",
      "pygments_lexer": "ipython3",
      "version": "3.6.1"
    }
  },
  "nbformat": 4,
  "nbformat_minor": 4
}