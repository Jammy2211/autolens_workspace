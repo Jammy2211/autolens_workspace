{
  "cells": [
    {
      "cell_type": "markdown",
      "metadata": {},
      "source": [
        "Modeling Features: Shapelets\n",
        "============================\n",
        "\n",
        "A shapelet is a basis function that is appropriate for capturing the exponential / disk-like features of a galaxy. It\n",
        "has been employed in many strong lensing studies to model the light of the lensed source galaxy, because it can\n",
        "represent features of disky star forming galaxies that a single Sersic function cannot.\n",
        "\n",
        "- https://ui.adsabs.harvard.edu/abs/2016MNRAS.457.3066T\n",
        "- https://iopscience.iop.org/article/10.1088/0004-637X/813/2/102 t\n",
        "\n",
        "Shapelets are described in full in the following paper:\n",
        "\n",
        " https://arxiv.org/abs/astro-ph/0105178\n",
        "\n",
        "This script performs a model-fit using shapelet, where it decomposes the galaxy light into ~20\n",
        "Shapelets. The `intensity` of every Shapelet is solved for via linear algebra (see the `light_parametric_linear.py`\n",
        "feature).\n",
        "\n",
        "__Contents__\n",
        "\n",
        "**Advantages & Disadvantages:** Benefits and drawbacks of using shapelets.\n",
        "**Dataset & Mask:** Standard set up of imaging dataset that is fitted.\n",
        "**Basis:** How to create a basis of multiple light profiles, in this example shapelets.\n",
        "**Coefficients:** A visualization of the real and imaginary shapelet coefficients in the Basis.\n",
        "**Linear Light Profiles:** How to create a basis of linear light profiles to perform the shapelet decomposition.\n",
        "**Fit:** Perform a fit to a dataset using linear light profile MGE.\n",
        "**Intensities:** Access the solved for intensities of linear light profiles from the fit.\n",
        "**Model:** Composing a model using shapelets and how it changes the number of free parameters.\n",
        "**Search & Analysis:** Standard set up of non-linear search and analysis.\n",
        "**Run Time:** Profiling of shapelet run times and discussion of how they compare to standard light profiles.\n",
        "**Model-Fit:** Performs the model fit using standard API.\n",
        "**Result:** Shaeplet results, including accessing light profiles with solved for intensity values.\n",
        "**Cartesian Shapelets:** Using shapelets definedon a Cartesian coordinate system instead of polar coordinates.\n",
        "**Lens Shapelets:** Using shapelets to decompose the lens galaxy instead of the source galaxy.\n",
        "**Regularization:** API for applying regularization to shapelets, which is not recommend but included for illustration.\n",
        "\n",
        "__Advantages__\n",
        "\n",
        "Symmetric light profiles (e.g. elliptical Sersics) may leave significant residuals, because they fail to capture\n",
        "irregular and asymmetric morphological of galaxies (e.g. isophotal twists, an ellipticity which varies radially).\n",
        "Shapelets can capture some of these features and can therefore better represent the emission of complex source galaxies.\n",
        "\n",
        "The shapelet model can be composed in a way that has fewer non-linear parameters than an elliptical Sersic. In this\n",
        "example, the ~20 shapelets which represent the `bulge` of the source are composed in a model corresponding to just\n",
        "N=3 non-linear parameters (a `bulge` comprising a linear Sersic would give N=6).\n",
        "\n",
        "Therefore, shapelet fit more complex source galaxy morphologies using fewer non-linear parameters than the standard\n",
        "light profile models!\n",
        "\n",
        "__Disadvantages__\n",
        "\n",
        "- There are many types of galaxy structure which shapelets may struggle to represent, such as a bar or assymetric\n",
        "knots of star formation. They also rely on the galaxy have a distinct central over which the shapelets can be\n",
        "centered, which is not the case of the galaxy is multiple merging systems or has bright companion galaxies.\n",
        "\n",
        "- The linear algebra used to solve for the `intensity` of each shapelet has to allow for negative values of intensity\n",
        "in order for shapelets to work. Negative surface brightnesses are unphysical, and are often inferred in a shapelet\n",
        "decomposition, for example if the true galaxy has structure that cannot be captured by the shapelet basis.\n",
        "\n",
        "- Computationally slower than standard light profiles like the Sersic.\n",
        "\n",
        "__Model__\n",
        "\n",
        "This script fits an `Imaging` dataset of a 'galaxy-scale' strong lens with a model where:\n",
        "\n",
        " - The lens galaxy's light is omitted (and is not present in the simulated data).\n",
        " - The lens galaxy's total mass distribution is an `Isothermal` and `ExternalShear`.\n",
        "This script fits an `Imaging` dataset of a galaxy with a model where:\n",
        "\n",
        " - The source galaxy's bulge is a super position of `ShapeletCartesianSph`` profiles.\n",
        "\n",
        "__Start Here Notebook__\n",
        "\n",
        "If any code in this script is unclear, refer to the `modeling/start_here.ipynb` notebook."
      ]
    },
    {
      "cell_type": "code",
      "metadata": {},
      "source": [
        "%matplotlib inline\n",
        "from pyprojroot import here\n",
        "workspace_path = str(here())\n",
        "%cd $workspace_path\n",
        "print(f\"Working Directory has been set to `{workspace_path}`\")\n",
        "\n",
        "import numpy as np\n",
        "from os import path\n",
        "import autofit as af\n",
        "import autolens as al\n",
        "import autolens.plot as aplt"
      ],
      "outputs": [],
      "execution_count": null
    },
    {
      "cell_type": "markdown",
      "metadata": {},
      "source": [
        "__Dataset__\n",
        "\n",
        "Load and plot the galaxy dataset `light_basis` via .fits files, which we will fit with \n",
        "the model."
      ]
    },
    {
      "cell_type": "code",
      "metadata": {},
      "source": [
        "dataset_name = \"simple__no_lens_light\"\n",
        "dataset_path = path.join(\"dataset\", \"imaging\", dataset_name)\n",
        "\n",
        "dataset = al.Imaging.from_fits(\n",
        "    data_path=path.join(dataset_path, \"data.fits\"),\n",
        "    psf_path=path.join(dataset_path, \"psf.fits\"),\n",
        "    noise_map_path=path.join(dataset_path, \"noise_map.fits\"),\n",
        "    pixel_scales=0.1,\n",
        ")\n",
        "\n",
        "dataset_plotter = aplt.ImagingPlotter(dataset=dataset)\n",
        "dataset_plotter.subplot_dataset()"
      ],
      "outputs": [],
      "execution_count": null
    },
    {
      "cell_type": "markdown",
      "metadata": {},
      "source": [
        "__Mask__\n",
        "\n",
        "Define a 3.0\" circular mask, which includes the emission of the lens and source galaxies."
      ]
    },
    {
      "cell_type": "code",
      "metadata": {},
      "source": [
        "mask = al.Mask2D.circular_annular(\n",
        "    shape_native=dataset.shape_native,\n",
        "    pixel_scales=dataset.pixel_scales,\n",
        "    inner_radius=0.4,\n",
        "    outer_radius=3.0,\n",
        ")\n",
        "\n",
        "dataset = dataset.apply_mask(mask=mask)\n",
        "\n",
        "dataset_plotter = aplt.ImagingPlotter(dataset=dataset)\n",
        "dataset_plotter.subplot_dataset()"
      ],
      "outputs": [],
      "execution_count": null
    },
    {
      "cell_type": "markdown",
      "metadata": {},
      "source": [
        "__Basis__\n",
        "\n",
        "We first build a `Basis`, which is built from multiple light profiles (in this case, shapelets). \n",
        "\n",
        "Below, we make a `Basis` out of 20 elliptical polar shapelet light profiles which: \n",
        "\n",
        " - All share the same centre and elliptical components.\n",
        " - The size of the Shapelet basis is controlled by a `beta` parameter, which is the same for all shapelet basis \n",
        "   functions.\n",
        " \n",
        "Note that any light profile can be used to compose a Basis. This includes Gaussians, which are often used to \n",
        "represent the light of elliptical galaxies (see `modeling/features/multi_gaussian_expansion.py`)."
      ]
    },
    {
      "cell_type": "code",
      "metadata": {},
      "source": [
        "total_n = 5\n",
        "total_m = sum(range(2, total_n + 1)) + 1\n",
        "\n",
        "n_count = 1\n",
        "m_count = -1\n",
        "\n",
        "shapelets_bulge_list = []\n",
        "\n",
        "shapelet_0 = al.lp.ShapeletPolar(\n",
        "    n=0,\n",
        "    m=0,\n",
        "    centre=(0.0, 0.0),\n",
        "    ell_comps=(0.0, 0.0),\n",
        "    intensity=1.0,\n",
        "    beta=1.0,\n",
        ")\n",
        "\n",
        "shapelets_bulge_list.append(shapelet_0)\n",
        "\n",
        "for i in range(total_n + total_m):\n",
        "    shapelet = al.lp.ShapeletPolarSph(\n",
        "        n=n_count, m=m_count, centre=(0.0, 0.0), intensity=1.0, beta=1.0\n",
        "    )\n",
        "\n",
        "    shapelets_bulge_list.append(shapelet)\n",
        "\n",
        "    m_count += 2\n",
        "\n",
        "    if m_count > n_count:\n",
        "        n_count += 1\n",
        "        m_count = -n_count\n",
        "\n",
        "bulge = al.lp_basis.Basis(profile_list=shapelets_bulge_list)"
      ],
      "outputs": [],
      "execution_count": null
    },
    {
      "cell_type": "markdown",
      "metadata": {},
      "source": [
        "__Coefficients__\n",
        "\n",
        "The `Basis` is composed of many shapelets, each with different coefficients (n and m) values and a size parameter \n",
        "`beta`.\n",
        "\n",
        "Each combination of coefficients creates shapelets with different radial and azimuthal features. They capture \n",
        "emission on different scales, with low coefficients corresponding to smooth features and high coefficients \n",
        "corresponding to more variable wave-like features. The size of the coefficients is determined by the input \n",
        "parameter `beta`, where larger values correspond to larger coefficients and therefore larger shapelets.\n",
        " \n",
        "These coefficients are visualized below using a `BasisPlotter`."
      ]
    },
    {
      "cell_type": "code",
      "metadata": {},
      "source": [
        "grid = al.Grid2D.uniform(shape_native=(100, 100), pixel_scales=0.05)\n",
        "\n",
        "basis_plotter = aplt.BasisPlotter(basis=bulge, grid=grid)\n",
        "basis_plotter.subplot_image()"
      ],
      "outputs": [],
      "execution_count": null
    },
    {
      "cell_type": "markdown",
      "metadata": {},
      "source": [
        "__Linear Light Profiles__\n",
        "\n",
        "We now show Composing a basis of multiple shapelets and use them to fit the source galaxy's light in data.\n",
        "\n",
        "This does not perform a model-fit via a non-linear search, and therefore requires us to manually specify and guess\n",
        "suitable parameter values for the shapelets (e.g. the `centre`, `ell_comps`, `beta`). However, shapelets are\n",
        "very flexible and will give us a decent looking source reconstruction even if we just guess sensible values\n",
        "for each parameter. \n",
        "\n",
        "The one parameter that is tricky to guess is the `intensity` of each shapelet. A wide range of positive\n",
        "and negative `intensity` values are required to decompose the source galaxy's light accurately. We certainly\n",
        "cannot obtain a good solution by guessing the `intensity` values by eye.\n",
        "\n",
        "We therefore use linear light profile shapelets, which determine the optimal value for each shapelet's `intensity` \n",
        "via linear algebra. Linear light profiles are described in the `linear_light_profiles.py` example and you should\n",
        "familiarize yourself with this example before using shapelets.\n",
        "\n",
        "We therefore again setup a `Basis` in an analogous fashion to the previous example, but this time we use linear\n",
        "shapelets (via the `lp_linear.linear` module)."
      ]
    },
    {
      "cell_type": "code",
      "metadata": {},
      "source": [
        "total_n = 5\n",
        "total_m = sum(range(2, total_n + 1)) + 1\n",
        "\n",
        "n_count = 1\n",
        "m_count = -1\n",
        "\n",
        "shapelets_bulge_list = []\n",
        "\n",
        "shapelet_0 = al.lp_linear.ShapeletPolar(\n",
        "    n=0,\n",
        "    m=0,\n",
        "    centre=(0.0, 0.0),\n",
        "    ell_comps=(0.0, 0.0),\n",
        "    beta=1.0,\n",
        ")\n",
        "\n",
        "shapelets_bulge_list.append(shapelet_0)\n",
        "\n",
        "for i in range(total_n + total_m):\n",
        "    shapelet = al.lp_linear.ShapeletPolar(\n",
        "        n=n_count,\n",
        "        m=m_count,\n",
        "        centre=(0.0, 0.0),\n",
        "        ell_comps=(0.0, 0.0),\n",
        "        beta=1.0,\n",
        "    )\n",
        "\n",
        "    shapelets_bulge_list.append(shapelet)\n",
        "\n",
        "    m_count += 2\n",
        "\n",
        "    if m_count > n_count:\n",
        "        n_count += 1\n",
        "        m_count = -n_count\n",
        "\n",
        "bulge = al.lp_basis.Basis(profile_list=shapelets_bulge_list)"
      ],
      "outputs": [],
      "execution_count": null
    },
    {
      "cell_type": "markdown",
      "metadata": {},
      "source": [
        "__Fit__\n",
        "\n",
        "We now illustrate the API for fitting shapelets using standard autolens objects like the `Galaxy`, `Tracer` \n",
        "and `FitImaging`.\n",
        "\n",
        "Once we have a `Basis`, we can treat it like any other light profile in order to create a `Galaxy` and `Tracer` and \n",
        "use it to fit data.\n",
        "\n",
        "We are applying shapelets to reconstruct the source galaxy's light, which means we need an accurate mass model of the\n",
        "lens galaxy. We use the true lens mass model from the simulator script to do this, noting that later in the example\n",
        "we will infer the lens mass model using a non-linear search."
      ]
    },
    {
      "cell_type": "code",
      "metadata": {},
      "source": [
        "lens = al.Galaxy(\n",
        "    redshift=0.5,\n",
        "    mass=al.mp.Isothermal(\n",
        "        centre=(0.0, 0.0),\n",
        "        einstein_radius=1.6,\n",
        "        ell_comps=al.convert.ell_comps_from(axis_ratio=0.9, angle=45.0),\n",
        "    ),\n",
        "    shear=al.mp.ExternalShear(gamma_1=0.05, gamma_2=0.05),\n",
        ")\n",
        "\n",
        "source = al.Galaxy(\n",
        "    redshift=1.0,\n",
        "    bulge=bulge,\n",
        ")\n",
        "\n",
        "tracer = al.Tracer(galaxies=[lens, source])\n",
        "\n",
        "fit = al.FitImaging(\n",
        "    dataset=dataset,\n",
        "    tracer=tracer,\n",
        "    settings_inversion=al.SettingsInversion(use_positive_only_solver=False),\n",
        ")"
      ],
      "outputs": [],
      "execution_count": null
    },
    {
      "cell_type": "markdown",
      "metadata": {},
      "source": [
        "By plotting the fit, we see that the shapelets do a reasonable job at capturing the appearance of the source galaxy,\n",
        "with only faint residuals visible where the lensed source is located.\n",
        "\n",
        "This is despite the beta parameter of the shapelets being a complete guess and not the optimal value for fitting the\n",
        "source galaxy's light. "
      ]
    },
    {
      "cell_type": "code",
      "metadata": {},
      "source": [
        "fit_plotter = aplt.FitImagingPlotter(fit=fit)\n",
        "fit_plotter.subplot_fit()"
      ],
      "outputs": [],
      "execution_count": null
    },
    {
      "cell_type": "markdown",
      "metadata": {},
      "source": [
        "We can use the `BasisPlotter` to plot each individual shapelet in the reconstructed basis.\n",
        "\n",
        "This plot shows each shapelet has a unique `intensity` that was solved for via linear algebra."
      ]
    },
    {
      "cell_type": "code",
      "metadata": {},
      "source": [
        "tracer = fit.model_obj_linear_light_profiles_to_light_profiles\n",
        "\n",
        "basis_plotter = aplt.BasisPlotter(basis=tracer.galaxies[1].bulge, grid=grid)\n",
        "basis_plotter.subplot_image()"
      ],
      "outputs": [],
      "execution_count": null
    },
    {
      "cell_type": "markdown",
      "metadata": {},
      "source": [
        "__Intensities__\n",
        "\n",
        "The fit contains the solved for intensity values.\n",
        "\n",
        "These are computed using a fit's `linear_light_profile_intensity_dict`, which maps each linear light profile \n",
        "in the model parameterization above to its `intensity`.\n",
        "\n",
        "The code below shows how to use this dictionary, as an alternative to using the max_log_likelihood quantities above."
      ]
    },
    {
      "cell_type": "code",
      "metadata": {},
      "source": [
        "source_bulge = fit.tracer.galaxies[1].bulge\n",
        "\n",
        "print(\n",
        "    f\"\\n Intensity of source galaxy's first shapelet in bulge = {fit.linear_light_profile_intensity_dict[source_bulge.profile_list[0]]}\"\n",
        ")"
      ],
      "outputs": [],
      "execution_count": null
    },
    {
      "cell_type": "markdown",
      "metadata": {},
      "source": [
        "A `Tracer` where all linear light profile objects are replaced with ordinary light profiles using the solved \n",
        "for `intensity` values is also accessible from a fit.\n",
        "\n",
        "For example, the first linear light profile of the shapelet `bulge` component above printed it solved for intensity \n",
        "value, but it was still represented as a linear light profile. \n",
        "\n",
        "The `tracer` created below instead has a standard light profile with an `intensity` actually set.\n",
        "\n",
        "The benefit of using a tracer with standard light profiles is it can be visualized, as performed above (linear \n",
        "light profiles cannot by default because they do not have `intensity` values)."
      ]
    },
    {
      "cell_type": "code",
      "metadata": {},
      "source": [
        "tracer = fit.model_obj_linear_light_profiles_to_light_profiles\n",
        "\n",
        "print(tracer.galaxies[1].bulge.profile_list[0].intensity)"
      ],
      "outputs": [],
      "execution_count": null
    },
    {
      "cell_type": "markdown",
      "metadata": {},
      "source": [
        "__Model__\n",
        "\n",
        "The shapelet decomposition above produced residuals, which we now rectify by fitting the shapelets in a non-linear \n",
        "search, simultaneously fitting the lens's mass and source galaxies.\n",
        "\n",
        "We compose our model using `Model` objects, which represent the galaxies we fit to our data. In this \n",
        "example we fit a model where:\n",
        "\n",
        " - The lens galaxy's total mass distribution is an `Isothermal` and `ExternalShear` [7 parameters].\n",
        " - The source galaxy's bulge is a superposition of 10 parametric linear `ShapeletCartesianSph` profiles [3 parameters]. \n",
        " - The centres of the Shapelets are all linked together.\n",
        " - The size of the Shapelet basis is controlled by a `beta` parameter, which is the same for all Shapelet basis \n",
        "   functions.\n",
        "\n",
        "The number of free parameters and therefore the dimensionality of non-linear parameter space is N=10.\n",
        "\n",
        "Note how this Shapelet model can capture features more complex than a Sersic, but has fewer non-linear parameters\n",
        "(N=3 compared to N=7 for a `Sersic`).\n",
        "\n",
        "__Model Cookbook__\n",
        "\n",
        "A full description of model composition is provided by the model cookbook: \n",
        "\n",
        "https://pyautolens.readthedocs.io/en/latest/general/model_cookbook.html"
      ]
    },
    {
      "cell_type": "code",
      "metadata": {},
      "source": [
        "# Lens:\n",
        "\n",
        "mass = af.Model(al.mp.Isothermal)\n",
        "\n",
        "shear = af.Model(al.mp.ExternalShear)\n",
        "\n",
        "lens = af.Model(al.Galaxy, redshift=0.5, mass=mass, shear=shear)\n",
        "\n",
        "# Source:\n",
        "\n",
        "total_n = 10\n",
        "total_m = sum(range(2, total_n + 1)) + 1\n",
        "\n",
        "shapelets_bulge_list = af.Collection(\n",
        "    af.Model(al.lp_linear.ShapeletPolar) for _ in range(total_n + total_m + 1)\n",
        ")\n",
        "\n",
        "n_count = 1\n",
        "m_count = -1\n",
        "\n",
        "for i, shapelet in enumerate(shapelets_bulge_list):\n",
        "    if i == 0:\n",
        "        shapelet.n = 0\n",
        "        shapelet.m = 0\n",
        "\n",
        "    else:\n",
        "        shapelet.n = n_count\n",
        "        shapelet.m = m_count\n",
        "\n",
        "        m_count += 2\n",
        "\n",
        "        if m_count > n_count:\n",
        "            n_count += 1\n",
        "            m_count = -n_count\n",
        "\n",
        "    shapelet.centre = shapelets_bulge_list[0].centre\n",
        "    shapelet.ell_comps = shapelets_bulge_list[0].ell_comps\n",
        "    shapelet.beta = shapelets_bulge_list[0].beta\n",
        "\n",
        "bulge = af.Model(\n",
        "    al.lp_basis.Basis,\n",
        "    profile_list=shapelets_bulge_list,\n",
        ")\n",
        "\n",
        "source = af.Model(al.Galaxy, redshift=1.0, bulge=bulge)\n",
        "\n",
        "# Overall Lens Model:\n",
        "\n",
        "model = af.Collection(galaxies=af.Collection(lens=lens, source=source))"
      ],
      "outputs": [],
      "execution_count": null
    },
    {
      "cell_type": "markdown",
      "metadata": {},
      "source": [
        "The `info` attribute shows the model in a readable format (if this does not display clearly on your screen refer to\n",
        "`start_here.ipynb` for a description of how to fix this).\n",
        "\n",
        "This confirms that the source galaxy is made of many `ShapeletCartesianSph` profiles."
      ]
    },
    {
      "cell_type": "code",
      "metadata": {},
      "source": [
        "print(model.info)"
      ],
      "outputs": [],
      "execution_count": null
    },
    {
      "cell_type": "markdown",
      "metadata": {},
      "source": [
        "__Search__\n",
        "\n",
        "The model is fitted to the data using the nested sampling algorithm Nautilus (see `start.here.py` for a \n",
        "full description)."
      ]
    },
    {
      "cell_type": "code",
      "metadata": {},
      "source": [
        "search = af.Nautilus(\n",
        "    path_prefix=path.join(\"imaging\", \"modeling\"),\n",
        "    name=\"shapelets\",\n",
        "    unique_tag=dataset_name,\n",
        "    n_live=150,\n",
        "    number_of_cores=4,\n",
        ")"
      ],
      "outputs": [],
      "execution_count": null
    },
    {
      "cell_type": "markdown",
      "metadata": {},
      "source": [
        "__Analysis__\n",
        "\n",
        "Create the `AnalysisImaging` object defining how the via Nautilus the model is fitted to the data."
      ]
    },
    {
      "cell_type": "code",
      "metadata": {},
      "source": [
        "analysis = al.AnalysisImaging(\n",
        "    dataset=dataset,\n",
        "    settings_inversion=al.SettingsInversion(\n",
        "        use_w_tilde=False, use_positive_only_solver=False\n",
        "    ),\n",
        ")"
      ],
      "outputs": [],
      "execution_count": null
    },
    {
      "cell_type": "markdown",
      "metadata": {},
      "source": [
        "__Run Time__\n",
        "\n",
        "The likelihood evaluation time for a shapelets is significantly slower than standard light profiles.\n",
        "This is because the image of every shapelets must be computed and evaluated, and each must be blurred with the PSF.\n",
        "In this example, the evaluation time is ~0.37s, compared to ~0.01 seconds for standard light profiles.\n",
        "\n",
        "Gains in the overall run-time however are made thanks to the models reduced complexity and lower\n",
        "number of free parameters. The source is modeled with 3 free parameters, compared to 6+ for a linear light profile \n",
        "Sersic.\n",
        "\n",
        "However, the multi-gaussian expansion (MGE) approach is even faster than shapelets. It uses fewer Gaussian basis\n",
        "functions (speed up the likelihood evaluation) and has fewer free parameters (speeding up the non-linear search).\n",
        "Furthermore, non of the free parameters scale the size of the source galaxy, which means the non-linear search\n",
        "can converge faster.\n",
        "\n",
        "I recommend you try using an MGE approach alongside shapelets. For many science cases, the MGE approach will be\n",
        "faster and give higher quality results. Shapelets may perform better for irregular sources, but this is not\n",
        "guaranteed."
      ]
    },
    {
      "cell_type": "code",
      "metadata": {},
      "source": [
        "run_time_dict, info_dict = analysis.profile_log_likelihood_function(\n",
        "    instance=model.random_instance()\n",
        ")\n",
        "\n",
        "print(f\"Log Likelihood Evaluation Time (second) = {run_time_dict['fit_time']}\")\n",
        "print(\n",
        "    \"Estimated Run Time Upper Limit (seconds) = \",\n",
        "    (run_time_dict[\"fit_time\"] * model.total_free_parameters * 10000)\n",
        "    / search.number_of_cores,\n",
        ")"
      ],
      "outputs": [],
      "execution_count": null
    },
    {
      "cell_type": "markdown",
      "metadata": {},
      "source": [
        "__Model-Fit__\n",
        "\n",
        "We begin the model-fit by passing the model and analysis object to the non-linear search (checkout the output folder\n",
        "for on-the-fly visualization and results)."
      ]
    },
    {
      "cell_type": "code",
      "metadata": {},
      "source": [
        "result = search.fit(model=model, analysis=analysis)"
      ],
      "outputs": [],
      "execution_count": null
    },
    {
      "cell_type": "markdown",
      "metadata": {},
      "source": [
        "__Result__\n",
        "\n",
        "The `info` attribute shows the model in a readable format (if this does not display clearly on your screen refer to\n",
        "`start_here.ipynb` for a description of how to fix this)."
      ]
    },
    {
      "cell_type": "code",
      "metadata": {},
      "source": [
        "print(result.info)"
      ],
      "outputs": [],
      "execution_count": null
    },
    {
      "cell_type": "markdown",
      "metadata": {},
      "source": [
        "We plot the maximum likelihood fit, tracer images and posteriors inferred via Nautilus.\n",
        "\n",
        "Checkout `autolens_workspace/*/imaging/results` for a full description of analysing results in **PyAutoLens**."
      ]
    },
    {
      "cell_type": "code",
      "metadata": {},
      "source": [
        "print(result.max_log_likelihood_instance)\n",
        "\n",
        "galaxies_plotter = aplt.GalaxiesPlotter(\n",
        "    galaxies=result.max_log_likelihood_galaxies, grid=result.grids.uniform\n",
        ")\n",
        "galaxies_plotter.subplot()\n",
        "\n",
        "fit_plotter = aplt.FitImagingPlotter(fit=result.max_log_likelihood_fit)\n",
        "fit_plotter.subplot_fit()\n",
        "\n",
        "plotter = aplt.NestPlotter(samples=result.samples)\n",
        "plotter.corner_anesthetic()\n"
      ],
      "outputs": [],
      "execution_count": null
    },
    {
      "cell_type": "markdown",
      "metadata": {},
      "source": [
        "__Shapelet Cartesian__\n",
        "\n",
        "The shapelets above were defined on a polar grid, which is suitable for modeling radially symmetric sources like\n",
        "most galaxies.\n",
        "\n",
        "An alternative approach is to define the shapelets on a Cartesian grid, which we plot the basis of below\n",
        "and show an example fit.\n",
        "\n",
        "These are generally not recommended for modeling galaxies, but may be better in certain situations."
      ]
    },
    {
      "cell_type": "code",
      "metadata": {},
      "source": [
        "total_xy = 5\n",
        "\n",
        "shapelets_bulge_list = []\n",
        "\n",
        "for x in range(total_xy):\n",
        "    for y in range(total_xy):\n",
        "        shapelet = al.lp.ShapeletCartesian(\n",
        "            n_y=y,\n",
        "            n_x=x,\n",
        "            centre=(0.0, 0.0),\n",
        "            ell_comps=(0.0, 0.0),\n",
        "            intensity=1.0,\n",
        "            beta=1.0,\n",
        "        )\n",
        "\n",
        "        shapelets_bulge_list.append(shapelet)\n",
        "\n",
        "bulge = al.lp_basis.Basis(profile_list=shapelets_bulge_list)\n",
        "\n",
        "grid = al.Grid2D.uniform(shape_native=(100, 100), pixel_scales=0.05)\n",
        "\n",
        "basis_plotter = aplt.BasisPlotter(basis=bulge, grid=grid)\n",
        "basis_plotter.subplot_image()"
      ],
      "outputs": [],
      "execution_count": null
    },
    {
      "cell_type": "markdown",
      "metadata": {},
      "source": [
        "__Cartesian Shapelets__"
      ]
    },
    {
      "cell_type": "code",
      "metadata": {},
      "source": [
        "total_xy = 5\n",
        "\n",
        "shapelets_bulge_list = []\n",
        "\n",
        "for x in range(total_xy):\n",
        "    for y in range(total_xy):\n",
        "        shapelet = al.lp_linear.ShapeletCartesian(\n",
        "            n_y=y, n_x=x, centre=(0.0, 0.0), ell_comps=(0.0, 0.0), beta=1.0\n",
        "        )\n",
        "\n",
        "        shapelets_bulge_list.append(shapelet)\n",
        "\n",
        "bulge = al.lp_basis.Basis(profile_list=shapelets_bulge_list)"
      ],
      "outputs": [],
      "execution_count": null
    },
    {
      "cell_type": "markdown",
      "metadata": {},
      "source": [
        "__Fit__"
      ]
    },
    {
      "cell_type": "code",
      "metadata": {},
      "source": [
        "lens = al.Galaxy(\n",
        "    redshift=0.5,\n",
        "    mass=al.mp.Isothermal(\n",
        "        centre=(0.0, 0.0),\n",
        "        einstein_radius=1.6,\n",
        "        ell_comps=al.convert.ell_comps_from(axis_ratio=0.9, angle=45.0),\n",
        "    ),\n",
        "    shear=al.mp.ExternalShear(gamma_1=0.05, gamma_2=0.05),\n",
        ")\n",
        "\n",
        "source = al.Galaxy(\n",
        "    redshift=1.0,\n",
        "    bulge=bulge,\n",
        ")\n",
        "\n",
        "tracer = al.Tracer(galaxies=[lens, source])\n",
        "\n",
        "fit = al.FitImaging(\n",
        "    dataset=dataset,\n",
        "    tracer=tracer,\n",
        "    settings_inversion=al.SettingsInversion(use_positive_only_solver=False),\n",
        ")\n",
        "\n",
        "fit_plotter = aplt.FitImagingPlotter(fit=fit)\n",
        "fit_plotter.subplot_fit()\n",
        "\n",
        "tracer = fit.model_obj_linear_light_profiles_to_light_profiles\n",
        "\n",
        "basis_plotter = aplt.BasisPlotter(basis=tracer.galaxies[1].bulge, grid=grid)\n",
        "basis_plotter.subplot_image()"
      ],
      "outputs": [],
      "execution_count": null
    },
    {
      "cell_type": "markdown",
      "metadata": {},
      "source": [
        "__Model__\n",
        "\n",
        "Here is how we compose a model using Cartesian shapelets."
      ]
    },
    {
      "cell_type": "code",
      "metadata": {},
      "source": [
        "# Lens:\n",
        "\n",
        "mass = af.Model(al.mp.Isothermal)\n",
        "\n",
        "shear = af.Model(al.mp.ExternalShear)\n",
        "\n",
        "lens = af.Model(al.Galaxy, redshift=0.5, mass=mass, shear=shear)\n",
        "\n",
        "# Source:\n",
        "\n",
        "total_xy = 5\n",
        "\n",
        "shapelets_bulge_list = af.Collection(\n",
        "    af.Model(al.lp_linear.ShapeletCartesian) for _ in range(total_xy**2)\n",
        ")\n",
        "\n",
        "for x in range(total_xy):\n",
        "    for y in range(total_xy):\n",
        "        shapelet.n_y = y\n",
        "        shapelet.n_x = x\n",
        "\n",
        "        shapelet.centre = shapelets_bulge_list[0].centre\n",
        "        shapelet.ell_comps = shapelets_bulge_list[0].ell_comps\n",
        "        shapelet.beta = shapelets_bulge_list[0].beta\n",
        "\n",
        "bulge = af.Model(\n",
        "    al.lp_basis.Basis,\n",
        "    profile_list=shapelets_bulge_list,\n",
        ")\n",
        "\n",
        "source = af.Model(al.Galaxy, redshift=1.0, bulge=bulge)\n",
        "\n",
        "# Overall Lens Model:\n",
        "\n",
        "model = af.Collection(galaxies=af.Collection(lens=lens, source=source))\n",
        "\n",
        "print(model.info)"
      ],
      "outputs": [],
      "execution_count": null
    },
    {
      "cell_type": "markdown",
      "metadata": {},
      "source": [
        "__Lens Shapelets__\n",
        "\n",
        "A model where the lens is modeled as shapelets can be composed and fitted as shown below.\n",
        "\n",
        "I have not seen this model used in the literature, and am not clear on its advantages over a standard light profile\n",
        "model. However, it is worth trying if you are fitting a lens galaxy with a complex morphology.\n",
        "\n",
        "For most massive early-type galaxies, an MGE model will be faster and give higher quality results."
      ]
    },
    {
      "cell_type": "code",
      "metadata": {},
      "source": [
        "# Lens:\n",
        "\n",
        "bulge = af.Model(\n",
        "    al.lp_basis.Basis,\n",
        "    profile_list=shapelets_bulge_list,\n",
        ")\n",
        "\n",
        "mass = af.Model(al.mp.Isothermal)\n",
        "\n",
        "shear = af.Model(al.mp.ExternalShear)\n",
        "\n",
        "lens = af.Model(al.Galaxy, redshift=0.5, bulge=bulge, mass=mass, shear=shear)\n",
        "\n",
        "# Source:\n",
        "\n",
        "bulge = af.Model(\n",
        "    al.lp_basis.Basis,\n",
        "    profile_list=shapelets_bulge_list,\n",
        ")\n",
        "\n",
        "source = af.Model(al.Galaxy, redshift=1.0, bulge=bulge)\n",
        "\n",
        "# Overall Lens Model:\n",
        "\n",
        "model = af.Collection(galaxies=af.Collection(lens=lens, source=source))"
      ],
      "outputs": [],
      "execution_count": null
    },
    {
      "cell_type": "markdown",
      "metadata": {},
      "source": [
        "Checkout `autolens_workspace/*/imaging/results` for a full description of analysing results in **Pyautolens**, which \n",
        "includes a dedicated tutorial for linear objects like basis functions.\n",
        "\n",
        "__Regularization__\n",
        "\n",
        "There is one downside to `Basis` functions, we may compose a model with too much freedom. The `Basis` (e.g. our 20\n",
        "Gaussians) may overfit noise in the data, or possible the lensed source galaxy emission -- neither of which we \n",
        "want to happen! \n",
        "\n",
        "To circumvent this issue, we have the option of adding regularization to a `Basis`. Regularization penalizes\n",
        "solutions which are not smooth -- it is essentially a prior that says we expect the component the `Basis` represents\n",
        "(e.g. a bulge or disk) to be smooth, in that its light changes smoothly as a function of radius.\n",
        "\n",
        "Below, we compose and fit a model using Basis functions which includes regularization, which adds one addition \n",
        "parameter to the fit, the `coefficient`, which controls the degree of smoothing applied."
      ]
    },
    {
      "cell_type": "code",
      "metadata": {},
      "source": [
        "bulge = af.Model(\n",
        "    al.lp_basis.Basis,\n",
        "    profile_list=shapelets_bulge_list,\n",
        "    regularization=al.reg.Constant,\n",
        ")\n",
        "galaxy = af.Model(al.Galaxy, redshift=0.5, bulge=bulge)\n",
        "\n",
        "model = af.Collection(galaxies=af.Collection(galaxy=galaxy))"
      ],
      "outputs": [],
      "execution_count": null
    },
    {
      "cell_type": "markdown",
      "metadata": {},
      "source": [
        "The `info` attribute shows the model, which has addition priors now associated with regularization."
      ]
    },
    {
      "cell_type": "code",
      "metadata": {},
      "source": [
        "print(model.info)\n",
        "\n",
        "search = af.Nautilus(\n",
        "    path_prefix=path.join(\"imaging\", \"modeling\"),\n",
        "    name=\"shapelets_regularized\",\n",
        "    unique_tag=dataset_name,\n",
        "    n_live=150,\n",
        "    number_of_cores=1,\n",
        ")"
      ],
      "outputs": [],
      "execution_count": null
    },
    {
      "cell_type": "markdown",
      "metadata": {},
      "source": [
        "__Run Time__\n",
        "\n",
        "Regularization has a small impact on the run-time of the model-fit, as the likelihood evaluation time does not\n",
        "change and it adds only 1 additional parameter."
      ]
    },
    {
      "cell_type": "code",
      "metadata": {},
      "source": [
        "run_time_dict, info_dict = analysis.profile_log_likelihood_function(\n",
        "    instance=model.random_instance()\n",
        ")\n",
        "\n",
        "print(f\"Log Likelihood Evaluation Time (second) = {run_time_dict['fit_time']}\")\n",
        "print(\n",
        "    \"Estimated Run Time Upper Limit (seconds) = \",\n",
        "    (run_time_dict[\"fit_time\"] * model.total_free_parameters * 10000)\n",
        "    / search.number_of_cores,\n",
        ")\n"
      ],
      "outputs": [],
      "execution_count": null
    },
    {
      "cell_type": "markdown",
      "metadata": {},
      "source": [
        "__Model-Fit__\n",
        "\n",
        "We begin the model-fit by passing the model and analysis object to the non-linear search (checkout the output folder\n",
        "for on-the-fly visualization and results)."
      ]
    },
    {
      "cell_type": "code",
      "metadata": {},
      "source": [
        "result = search.fit(model=model, analysis=analysis)"
      ],
      "outputs": [],
      "execution_count": null
    },
    {
      "cell_type": "markdown",
      "metadata": {},
      "source": [
        "To learn more about Basis functions, regularization and when you should use them, checkout the \n",
        "following **HowToGalaxy** tutorials:\n",
        "\n",
        " - `howtogalaxy/chapter_2_lens_modeling/tutorial_5_linear_profiles.ipynb`.\n",
        " - `howtogalaxy/chapter_4_pixelizations/tutorial_4_bayesian_regularization.ipynb."
      ]
    },
    {
      "cell_type": "code",
      "metadata": {},
      "source": [],
      "outputs": [],
      "execution_count": null
    }
  ],
  "metadata": {
    "anaconda-cloud": {},
    "kernelspec": {
      "display_name": "Python 3",
      "language": "python",
      "name": "python3"
    },
    "language_info": {
      "codemirror_mode": {
        "name": "ipython",
        "version": 3
      },
      "file_extension": ".py",
      "mimetype": "text/x-python",
      "name": "python",
      "nbconvert_exporter": "python",
      "pygments_lexer": "ipython3",
      "version": "3.6.1"
    }
  },
  "nbformat": 4,
  "nbformat_minor": 4
}