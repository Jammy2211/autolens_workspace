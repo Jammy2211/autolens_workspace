{
  "cells": [
    {
      "cell_type": "markdown",
      "metadata": {},
      "source": [
        "Modeling Features: Double Einstein Ring\n",
        "=======================================\n",
        "\n",
        "A double Einstein ring lens is a strong lens system where there are two source galaxies at different redshifts \n",
        "behind the lens galaxy. They appear as two distinct Einstein rings in the image-plane, and can constrain \n",
        "Cosmological parameters in a way single Einstein ring lenses cannot.\n",
        "\n",
        "To analyse these systems correctly the mass of the lens galaxy and the first source galaxy must be modeled \n",
        "simultaneously, and the emission of both source galaxies must be modeled simultaneously. \n",
        "\n",
        "This script illustrates the PyAutoLens API for modeling a double Einstein ring lens.\n",
        "\n",
        "__Model__\n",
        "\n",
        "This script fits an `Imaging` dataset of a 'galaxy-scale' strong lens with a double Einstein ring where:\n",
        "\n",
        " - The lens galaxy's light is omitted (and is not present in the simulated data).\n",
        " - The first lens galaxy's total mass distribution is an `Isothermal`.\n",
        " - The second lens galaxy / first source galaxy's light is a linear parametric `ExponentialSph` and its mass a `IsothermalSph`.\n",
        " - The second source galaxy's light is a linear parametric `ExponentialSph`.\n",
        "\n",
        "__Start Here Notebook__\n",
        "\n",
        "If any code in this script is unclear, refer to the `modeling/start_here.ipynb` notebook."
      ]
    },
    {
      "cell_type": "code",
      "metadata": {},
      "source": [
        "%matplotlib inline\n",
        "from pyprojroot import here\n",
        "workspace_path = str(here())\n",
        "%cd $workspace_path\n",
        "print(f\"Working Directory has been set to `{workspace_path}`\")\n",
        "\n",
        "from os import path\n",
        "import autofit as af\n",
        "import autolens as al\n",
        "import autolens.plot as aplt"
      ],
      "outputs": [],
      "execution_count": null
    },
    {
      "cell_type": "markdown",
      "metadata": {},
      "source": [
        "__Dataset__\n",
        "\n",
        "Load and plot the strong lens dataset `double_einstein_ring` via .fits files.\n",
        "\n",
        "This dataset has a double Einstien ring, due to the two source galaxies at different redshifts behind the lens galaxy."
      ]
    },
    {
      "cell_type": "code",
      "metadata": {},
      "source": [
        "dataset_name = \"double_einstein_ring\"\n",
        "dataset_path = path.join(\"dataset\", \"imaging\", dataset_name)\n",
        "\n",
        "dataset = al.Imaging.from_fits(\n",
        "    data_path=path.join(dataset_path, \"data.fits\"),\n",
        "    psf_path=path.join(dataset_path, \"psf.fits\"),\n",
        "    noise_map_path=path.join(dataset_path, \"noise_map.fits\"),\n",
        "    pixel_scales=0.1,\n",
        ")"
      ],
      "outputs": [],
      "execution_count": null
    },
    {
      "cell_type": "markdown",
      "metadata": {},
      "source": [
        "Visualization of this dataset shows two distinct Einstein rings, which are the two source galaxies."
      ]
    },
    {
      "cell_type": "code",
      "metadata": {},
      "source": [
        "dataset_plotter = aplt.ImagingPlotter(dataset=dataset)\n",
        "dataset_plotter.subplot_dataset()"
      ],
      "outputs": [],
      "execution_count": null
    },
    {
      "cell_type": "markdown",
      "metadata": {},
      "source": [
        "__Mask__\n",
        "\n",
        "Define a 3.0\" circular mask, which includes the emission of both of the lensed source galaxies."
      ]
    },
    {
      "cell_type": "code",
      "metadata": {},
      "source": [
        "mask = al.Mask2D.circular(\n",
        "    shape_native=dataset.shape_native, pixel_scales=dataset.pixel_scales, radius=3.0\n",
        ")\n",
        "\n",
        "dataset = dataset.apply_mask(mask=mask)\n",
        "\n",
        "dataset_plotter = aplt.ImagingPlotter(dataset=dataset)\n",
        "dataset_plotter.subplot_dataset()"
      ],
      "outputs": [],
      "execution_count": null
    },
    {
      "cell_type": "markdown",
      "metadata": {},
      "source": [
        "__Model__\n",
        "\n",
        "We compose a lens model where:\n",
        "\n",
        " - The first lens galaxy's total mass distribution is an `Isothermal` [5 parameters].\n",
        " \n",
        " - The second lens / first source galaxy's light is a linear parametric `ExponentialSph` and its mass \n",
        " a `IsothermalSph` [6 parameters].\n",
        "\n",
        " - The second source galaxy's light is a linear parametric `ExponentialSph` [3 parameters].\n",
        "\n",
        "The number of free parameters and therefore the dimensionality of non-linear parameter space is N=16.\n",
        "\n",
        "Note that the galaxies are assigned redshifts of 0.5, 1.0 and 2.0. This ensures the multi-plane ray-tracing necessary\n",
        "for the double Einstein ring lens system is performed correctly.\n",
        "\n",
        "__Model Cookbook__\n",
        "\n",
        "A full description of model composition is provided by the model cookbook: \n",
        "\n",
        "https://pyautolens.readthedocs.io/en/latest/general/model_cookbook.html"
      ]
    },
    {
      "cell_type": "code",
      "metadata": {},
      "source": [
        "# Lens:\n",
        "\n",
        "bulge = af.Model(al.lp_linear.Sersic)\n",
        "mass = af.Model(al.mp.Isothermal)\n",
        "\n",
        "lens = af.Model(al.Galaxy, redshift=0.5, bulge=bulge, mass=mass)\n",
        "\n",
        "# Source 0:\n",
        "\n",
        "bulge = af.Model(al.lp_linear.ExponentialCoreSph)\n",
        "mass = af.Model(al.mp.IsothermalSph)\n",
        "\n",
        "source_0 = af.Model(al.Galaxy, redshift=1.0, bulge=bulge, mass=mass)\n",
        "\n",
        "# Source 1:\n",
        "\n",
        "bulge = af.Model(al.lp_linear.ExponentialCoreSph)\n",
        "\n",
        "source_1 = af.Model(al.Galaxy, redshift=2.0, bulge=bulge)"
      ],
      "outputs": [],
      "execution_count": null
    },
    {
      "cell_type": "markdown",
      "metadata": {},
      "source": [
        "__Cheating__\n",
        "\n",
        "Initializing a double Einstein ring lens model is difficult, due to the complexity of parameter space. It is common to \n",
        "infer local maxima, which this script does if default broad priors on every model parameter are assumed.\n",
        "\n",
        "To infer the correct model, we \"cheat\" and overwrite all of the priors of the model parameters to start centred on \n",
        "their true values.\n",
        "\n",
        "For real data, we obviously do not know the true parameters and therefore cannot cheat in this way. Readers should\n",
        "checkout the **PyAutoLens**'s advanced feature `chaining`, which chains together multiple non-linear searches. \n",
        "\n",
        "This feature is described in HowToLens chapter 3 and specific examples for a double Einstein ring are given in\n",
        "the script `imaging/advanced/chaining/double_einstein_ring.py`."
      ]
    },
    {
      "cell_type": "code",
      "metadata": {},
      "source": [
        "lens.bulge.centre_0 = af.GaussianPrior(mean=0.0, sigma=0.1)\n",
        "lens.bulge.centre_1 = af.GaussianPrior(mean=0.0, sigma=0.1)\n",
        "lens.bulge.ell_comps.ell_comps_0 = af.GaussianPrior(mean=0.052, sigma=0.1)\n",
        "lens.bulge.ell_comps.ell_comps_1 = af.GaussianPrior(mean=0.0, sigma=0.1)\n",
        "lens.bulge.effective_radius = af.GaussianPrior(mean=0.8, sigma=0.2)\n",
        "lens.bulge.sersic_index = af.GaussianPrior(mean=4.0, sigma=0.2)\n",
        "\n",
        "lens.mass.centre_0 = af.GaussianPrior(mean=0.0, sigma=0.1)\n",
        "lens.mass.centre_1 = af.GaussianPrior(mean=0.0, sigma=0.1)\n",
        "lens.mass.ell_comps.ell_comps_0 = af.GaussianPrior(mean=0.052, sigma=0.1)\n",
        "lens.mass.ell_comps.ell_comps_1 = af.GaussianPrior(mean=0.0, sigma=0.1)\n",
        "lens.mass.einstein_radius = af.GaussianPrior(mean=1.5, sigma=0.2)\n",
        "\n",
        "source_0.mass.centre_0 = af.GaussianPrior(mean=-0.15, sigma=0.2)\n",
        "source_0.mass.centre_1 = af.GaussianPrior(mean=-0.15, sigma=0.2)\n",
        "source_0.mass.einstein_radius = af.GaussianPrior(mean=0.4, sigma=0.1)\n",
        "source_0.bulge.centre_0 = af.GaussianPrior(mean=-0.15, sigma=0.2)\n",
        "source_0.bulge.centre_1 = af.GaussianPrior(mean=-0.15, sigma=0.2)\n",
        "source_0.bulge.effective_radius = af.GaussianPrior(mean=0.1, sigma=0.1)\n",
        "\n",
        "source_1.bulge.centre_0 = af.GaussianPrior(mean=0.0, sigma=0.2)\n",
        "source_1.bulge.centre_1 = af.GaussianPrior(mean=0.0, sigma=0.2)\n",
        "source_1.bulge.effective_radius = af.GaussianPrior(mean=0.07, sigma=0.07)"
      ],
      "outputs": [],
      "execution_count": null
    },
    {
      "cell_type": "markdown",
      "metadata": {},
      "source": [
        "__Cosmology__\n",
        "\n",
        "Double Einstein rings allow cosmological parameters to be constrained, because they provide information on the\n",
        "different angular diameter distances between each source galaxy.\n",
        "\n",
        "We therefore create a Cosmology as a `Model` object in order to make the cosmological parameter Omega_m a free \n",
        "parameter."
      ]
    },
    {
      "cell_type": "code",
      "metadata": {},
      "source": [
        "cosmology = af.Model(al.cosmo.FlatwCDMWrap)"
      ],
      "outputs": [],
      "execution_count": null
    },
    {
      "cell_type": "markdown",
      "metadata": {},
      "source": [
        "By default, all parameters of a cosmology model are initialized as fixed values based on the Planck18 cosmology.\n",
        "\n",
        "In order to make Omega_m a free parameter, we must manually overwrite its prior."
      ]
    },
    {
      "cell_type": "code",
      "metadata": {},
      "source": [
        "cosmology.Om0 = af.GaussianPrior(mean=0.3, sigma=0.1)\n",
        "\n",
        "# Overall Lens Model:\n",
        "\n",
        "model = af.Collection(\n",
        "    galaxies=af.Collection(lens=lens, source_0=source_0, source_1=source_1),\n",
        "    cosmology=cosmology,\n",
        ")"
      ],
      "outputs": [],
      "execution_count": null
    },
    {
      "cell_type": "markdown",
      "metadata": {},
      "source": [
        "The `info` attribute shows the model in a readable format (if this does not display clearly on your screen refer to\n",
        "`start_here.ipynb` for a description of how to fix this).\n",
        "\n",
        "This confirms the model is composed of three galaxies, two of which are lensed source galaxies."
      ]
    },
    {
      "cell_type": "code",
      "metadata": {},
      "source": [
        "print(model.info)"
      ],
      "outputs": [],
      "execution_count": null
    },
    {
      "cell_type": "markdown",
      "metadata": {},
      "source": [
        "__Search__\n",
        "\n",
        "The model is fitted to the data using the nested sampling algorithm Nautilus (see `start.here.py` for a \n",
        "full description)."
      ]
    },
    {
      "cell_type": "code",
      "metadata": {},
      "source": [
        "search = af.Nautilus(\n",
        "    path_prefix=path.join(\"imaging\", \"modeling\"),\n",
        "    name=\"double_einstein_ring\",\n",
        "    unique_tag=dataset_name,\n",
        "    n_live=150,\n",
        "    number_of_cores=1,\n",
        ")"
      ],
      "outputs": [],
      "execution_count": null
    },
    {
      "cell_type": "markdown",
      "metadata": {},
      "source": [
        "__Analysis__\n",
        "\n",
        "Create the `AnalysisImaging` object defining how the via Nautilus the model is fitted to the data."
      ]
    },
    {
      "cell_type": "code",
      "metadata": {},
      "source": [
        "analysis = al.AnalysisImaging(dataset=dataset)"
      ],
      "outputs": [],
      "execution_count": null
    },
    {
      "cell_type": "markdown",
      "metadata": {},
      "source": [
        "__Run Time__\n",
        "\n",
        "The likelihood evaluation time for analysing double Einstein ring lens is quite a lot longer than single lens plane\n",
        "lenses. This is because multi-plane ray-tracing calculations are computationally expensive. \n",
        "\n",
        "However, the real hit on run-time is the large number of free parameters in the model, which is often  10+ parameters\n",
        "more than a single lens plane model. This means that the non-linear search takes longer to converge on a solution.\n",
        "In this example, we cheated by initializing the priors on the model close to the correct solution. \n",
        "\n",
        "Combining pixelized source analyses with double Einstein ring lenses is very computationally expensive, because the\n",
        "linear algebra calculations become significantly more expensive. This is not shown in this script, but is worth\n",
        "baring in mind."
      ]
    },
    {
      "cell_type": "code",
      "metadata": {},
      "source": [
        "run_time_dict, info_dict = analysis.profile_log_likelihood_function(\n",
        "    instance=model.random_instance()\n",
        ")\n",
        "\n",
        "print(f\"Log Likelihood Evaluation Time (second) = {run_time_dict['fit_time']}\")\n",
        "print(\n",
        "    \"Estimated Run Time Upper Limit (seconds) = \",\n",
        "    (run_time_dict[\"fit_time\"] * model.total_free_parameters * 10000)\n",
        "    / search.number_of_cores,\n",
        ")"
      ],
      "outputs": [],
      "execution_count": null
    },
    {
      "cell_type": "markdown",
      "metadata": {},
      "source": [
        "__Model-Fit__\n",
        "\n",
        "We begin the model-fit by passing the model and analysis object to the non-linear search (checkout the output folder\n",
        "for on-the-fly visualization and results)."
      ]
    },
    {
      "cell_type": "code",
      "metadata": {},
      "source": [
        "result = search.fit(model=model, analysis=analysis)"
      ],
      "outputs": [],
      "execution_count": null
    },
    {
      "cell_type": "markdown",
      "metadata": {},
      "source": [
        "__Result__\n",
        "\n",
        "The search returns a result object, which whose `info` attribute shows the result in a readable format (if this does not display clearly on your screen refer to\n",
        "`start_here.ipynb` for a description of how to fix this):"
      ]
    },
    {
      "cell_type": "code",
      "metadata": {},
      "source": [
        "print(result.info)"
      ],
      "outputs": [],
      "execution_count": null
    },
    {
      "cell_type": "markdown",
      "metadata": {},
      "source": [
        "We plot the maximum likelihood fit, tracer images and posteriors inferred via Nautilus.\n",
        "\n",
        "These plots show that the lens and both sources of the double Einstein ring were fitted successfully."
      ]
    },
    {
      "cell_type": "code",
      "metadata": {},
      "source": [
        "print(result.max_log_likelihood_instance)\n",
        "\n",
        "tracer_plotter = aplt.TracerPlotter(\n",
        "    tracer=result.max_log_likelihood_tracer, grid=result.grids.uniform\n",
        ")\n",
        "tracer_plotter.subplot_tracer()\n",
        "\n",
        "fit_plotter = aplt.FitImagingPlotter(fit=result.max_log_likelihood_fit)\n",
        "fit_plotter.subplot_fit()\n",
        "\n",
        "plotter = aplt.NestPlotter(samples=result.samples)\n",
        "plotter.corner_anesthetic()"
      ],
      "outputs": [],
      "execution_count": null
    },
    {
      "cell_type": "markdown",
      "metadata": {},
      "source": [
        "Checkout `autolens_workspace/*/imaging/results` for a full description of analysing results in **PyAutoLens**.\n",
        "\n",
        "These examples show how the results API can be extended to investigate double Einstein ring results.\n",
        "\n",
        "__Wrap Up__\n",
        "\n",
        "Double Einstein ring systems can be fitted in **PyAutoLens**, however this script bypass the most difficult aspect\n",
        "of fitting these systems by \"cheating\", and manually adjusting the priors to be near their true values.\n",
        "\n",
        "Modeling real observations of double Einstein rings is one of the hardest lens modeling tasks, and requires an high\n",
        "degree of lens modeling expertise to make a success.\n",
        "\n",
        "If you have not already, I recommend you familiarize yourself with and use all of the following **PyAutoLens features\n",
        "to model a real double Einstein ring:\n",
        "\n",
        " - Basis based light profiles (e.g. ``shapelets.ipynb` / `multi_gaussian_expansion.ipynb`): these allow one to fit\n",
        "   complex lens and source morphologies whilst keeping the dimensionality of the problem low.\n",
        "   \n",
        " - Search chaining (e.g. `imaging/advanced/chaining` and HowToLens chapter 3): by breaking the model-fit into a series\n",
        "   of Nautilus searches models of gradually increasing complexity can be fitted.\n",
        "   \n",
        " - Pixelizations (e.g. `pixelization.ipynb` and HowToLens chapter 4): to infer the cosmological parameters reliably\n",
        "   the source must be reconstructed on an adaptive mesh to capture a irregular morphological features."
      ]
    },
    {
      "cell_type": "code",
      "metadata": {},
      "source": [],
      "outputs": [],
      "execution_count": null
    }
  ],
  "metadata": {
    "anaconda-cloud": {},
    "kernelspec": {
      "display_name": "Python 3",
      "language": "python",
      "name": "python3"
    },
    "language_info": {
      "codemirror_mode": {
        "name": "ipython",
        "version": 3
      },
      "file_extension": ".py",
      "mimetype": "text/x-python",
      "name": "python",
      "nbconvert_exporter": "python",
      "pygments_lexer": "ipython3",
      "version": "3.6.1"
    }
  },
  "nbformat": 4,
  "nbformat_minor": 4
}