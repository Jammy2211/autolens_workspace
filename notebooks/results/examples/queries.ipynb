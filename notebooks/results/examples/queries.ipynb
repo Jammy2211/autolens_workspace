{
  "cells": [
    {
      "cell_type": "markdown",
      "metadata": {},
      "source": [
        "Results: Queries\n",
        "================\n",
        "\n",
        "Suppose we have the results of many fits in the database and we only wanted to load and inspect a specific set\n",
        "of model-fits (e.g. the results of `tutorial_1_introduction`). We can use the database's querying tools to only load\n",
        "the results we are interested in.\n",
        "\n",
        "The database also supports advanced querying, so that specific model-fits (e.g., which fit a certain model or dataset)\n",
        "can be loaded."
      ]
    },
    {
      "cell_type": "code",
      "metadata": {},
      "source": [
        "%matplotlib inline\n",
        "from pyprojroot import here\n",
        "workspace_path = str(here())\n",
        "%cd $workspace_path\n",
        "print(f\"Working Directory has been set to `{workspace_path}`\")\n",
        "\n",
        "from os import path\n",
        "import autofit as af\n",
        "import autolens as al\n"
      ],
      "outputs": [],
      "execution_count": null
    },
    {
      "cell_type": "markdown",
      "metadata": {},
      "source": [
        "__Aggregator__\n",
        "\n",
        "First, set up the aggregator as shown in `start_here.py`."
      ]
    },
    {
      "cell_type": "code",
      "metadata": {},
      "source": [
        "from autofit.aggregator.aggregator import Aggregator\n",
        "\n",
        "agg = Aggregator.from_directory(\n",
        "    directory=path.join(\"output\", \"results_folder\"),\n",
        ")"
      ],
      "outputs": [],
      "execution_count": null
    },
    {
      "cell_type": "markdown",
      "metadata": {},
      "source": [
        "__Unique Tag__\n",
        "\n",
        "We can use the `Aggregator` to query the database and return only specific fits that we are interested in. We first \n",
        "do this using the `unique_tag` which we can query to load the results of a specific `dataset_name` string we \n",
        "input into the model-fit's search. \n",
        "\n",
        "By querying using the string `lens_sersic` the model-fit to only the second dataset is returned:"
      ]
    },
    {
      "cell_type": "code",
      "metadata": {},
      "source": [
        "unique_tag = agg.search.unique_tag\n",
        "agg_query = agg.query(unique_tag == \"simple__no_lens_light\")\n",
        "samples_gen = agg_query.values(\"samples\")"
      ],
      "outputs": [],
      "execution_count": null
    },
    {
      "cell_type": "markdown",
      "metadata": {},
      "source": [
        "As expected, this list now has only 1 `SamplesNest` corresponding to the second dataset."
      ]
    },
    {
      "cell_type": "code",
      "metadata": {},
      "source": [
        "print(\"Directory Filtered DynestySampler Samples: \\n\")\n",
        "print(\"Total Samples Objects via unique tag = \", len(list(samples_gen)), \"\\n\\n\")"
      ],
      "outputs": [],
      "execution_count": null
    },
    {
      "cell_type": "markdown",
      "metadata": {},
      "source": [
        "If we query using an incorrect dataset name we get no results:"
      ]
    },
    {
      "cell_type": "code",
      "metadata": {},
      "source": [
        "unique_tag = agg.search.unique_tag\n",
        "agg_query = agg.query(unique_tag == \"incorrect_name\")\n",
        "samples_gen = agg_query.values(\"samples\")"
      ],
      "outputs": [],
      "execution_count": null
    },
    {
      "cell_type": "markdown",
      "metadata": {},
      "source": [
        "__Search Name__\n",
        "\n",
        "We can also use the `name` of the search used to fit to the model as a query. \n",
        "\n",
        "In this example, all three fits used the same search, which had the `name` `database_example`. Thus, using it as a \n",
        "query in this example is somewhat pointless. However, querying based on the search name is very useful for model-fits\n",
        "which use search chaining (see chapter 3 **HowToLens**), where the results of a particular fit in the chain can be\n",
        "instantly loaded.\n",
        "\n",
        "As expected, this query contains all 3 results."
      ]
    },
    {
      "cell_type": "code",
      "metadata": {},
      "source": [
        "name = agg.search.name\n",
        "agg_query = agg.query(name == \"database_example\")\n",
        "print(\"Total Queried Results via search name = \", len(agg_query), \"\\n\\n\")"
      ],
      "outputs": [],
      "execution_count": null
    },
    {
      "cell_type": "markdown",
      "metadata": {},
      "source": [
        "__Model Queries__\n",
        "\n",
        "We can also query based on the model fitted. \n",
        "\n",
        "For example, we can load all results which fitted an `Isothermal` model-component, which in this simple \n",
        "example is all 3 model-fits.\n",
        "\n",
        "The ability to query via the model is extremely powerful. It enables a user to fit many models to large samples \n",
        "of lenses efficiently load and inspect the results. \n",
        "\n",
        "[Note: the code `agg.model.galaxies.lens.mass` corresponds to the fact that in the `Model` we named the model components \n",
        "`galaxies`, `lens` and `mass`. If the `Model` had used a different name the code below would change correspondingly. \n",
        "Models with multiple galaxies are therefore easily accessed via the database.]"
      ]
    },
    {
      "cell_type": "code",
      "metadata": {},
      "source": [
        "lens = agg.model.galaxies.lens\n",
        "agg_query = agg.query(lens.mass == al.mp.Isothermal)\n",
        "print(\"Total Samples Objects via `Isothermal` model query = \", len(agg_query), \"\\n\")"
      ],
      "outputs": [],
      "execution_count": null
    },
    {
      "cell_type": "markdown",
      "metadata": {},
      "source": [
        "We can also query the model on whether a component is None, which was the case for the `disk` we created the source\n",
        "galaxy using. \n",
        "\n",
        "When performing model comparison with search-chaining pipelines, it is common for certain components to be included or \n",
        "omitted via a `None`. Querying via `None` therefore allows us to load the results of different model-fits."
      ]
    },
    {
      "cell_type": "code",
      "metadata": {},
      "source": [
        "source = agg.model.galaxies.source\n",
        "agg_query = agg.query(source.disk == None)\n",
        "print(\"Total Samples Objects via `Isothermal` model query = \", len(agg_query), \"\\n\")"
      ],
      "outputs": [],
      "execution_count": null
    },
    {
      "cell_type": "markdown",
      "metadata": {},
      "source": [
        "Queries using the results of model-fitting are also supported. Below, we query the database to find all fits where the \n",
        "inferred value of `sersic_index` for the `Sersic` of the source's bulge is less than 3.0 (which returns only \n",
        "the first of the three model-fits)."
      ]
    },
    {
      "cell_type": "code",
      "metadata": {},
      "source": [
        "bulge = agg.model.galaxies.source.bulge\n",
        "agg_query = agg.query(bulge.sersic_index < 3.0)\n",
        "print(\n",
        "    \"Total Samples Objects In Query `source.bulge.sersic_index < 3.0` = \",\n",
        "    len(agg_query),\n",
        "    \"\\n\",\n",
        ")"
      ],
      "outputs": [],
      "execution_count": null
    },
    {
      "cell_type": "markdown",
      "metadata": {},
      "source": [
        "__Logic__\n",
        "\n",
        "Advanced queries can be constructed using logic, for example we below we combine the two queries above to find all\n",
        "results which fitted an `Isothermal` mass model AND (using the & symbol) inferred a value of einstein radius above\n",
        "1.0 for the lens's mass \n",
        "\n",
        "The OR logical clause is also supported via the symbol |."
      ]
    },
    {
      "cell_type": "code",
      "metadata": {},
      "source": [
        "mass = agg.model.galaxies.lens.mass\n",
        "agg_query = agg.query((mass == al.mp.Isothermal) & (mass.einstein_radius > 1.0))\n",
        "print(\n",
        "    \"Total Samples Objects In Query `Isothermal and einstein_radius > 3.0` = \",\n",
        "    len(agg_query),\n",
        "    \"\\n\",\n",
        ")"
      ],
      "outputs": [],
      "execution_count": null
    },
    {
      "cell_type": "markdown",
      "metadata": {},
      "source": [
        "Finished."
      ]
    },
    {
      "cell_type": "code",
      "metadata": {},
      "source": [],
      "outputs": [],
      "execution_count": null
    }
  ],
  "metadata": {
    "anaconda-cloud": {},
    "kernelspec": {
      "display_name": "Python 3",
      "language": "python",
      "name": "python3"
    },
    "language_info": {
      "codemirror_mode": {
        "name": "ipython",
        "version": 3
      },
      "file_extension": ".py",
      "mimetype": "text/x-python",
      "name": "python",
      "nbconvert_exporter": "python",
      "pygments_lexer": "ipython3",
      "version": "3.6.1"
    }
  },
  "nbformat": 4,
  "nbformat_minor": 4
}