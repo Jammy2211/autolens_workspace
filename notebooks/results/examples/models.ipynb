{
  "cells": [
    {
      "cell_type": "markdown",
      "metadata": {},
      "source": [
        "Results: Models\n",
        "===============\n",
        "\n",
        "In this tutorial, we use the aggregator to load models and `Tracer`'s from a non-linear search. This allows us to\n",
        "visualize and interpret its results.\n",
        "\n",
        "We then show how the aggregator also allows us to load many `Tracer`'s correspond to many samples of the non-linear\n",
        "search. This allows us to compute the errors on quantities that the `Tracer` contains, but were not sampled directly\n",
        "by the non-linear search."
      ]
    },
    {
      "cell_type": "code",
      "metadata": {},
      "source": [
        "%matplotlib inline\n",
        "from pyprojroot import here\n",
        "workspace_path = str(here())\n",
        "%cd $workspace_path\n",
        "print(f\"Working Directory has been set to `{workspace_path}`\")\n",
        "\n",
        "import os\n",
        "from os import path\n",
        "\n",
        "import autofit as af\n",
        "import autolens as al\n",
        "import autolens.plot as aplt"
      ],
      "outputs": [],
      "execution_count": null
    },
    {
      "cell_type": "markdown",
      "metadata": {},
      "source": [
        "__Aggregator__\n",
        "\n",
        "The functionality illustrated in this example only supports results loaded via the .sqlite database.\n",
        "\n",
        "We therefore do not load results from hard-disk like other scripts, but build a .sqlite database in order\n",
        "to create the `Aggregator` object.\n",
        "\n",
        "If you have not used the .sqlite database before, the `start_here.ipynb` example describes how to set it up and the API\n",
        "for the aggregator is identical from here on."
      ]
    },
    {
      "cell_type": "code",
      "metadata": {},
      "source": [
        "database_name = \"results_folder\"\n",
        "\n",
        "if path.exists(path.join(\"output\", f\"{database_name}.sqlite\")):\n",
        "    os.remove(path.join(\"output\", f\"{database_name}.sqlite\"))\n",
        "\n",
        "agg = af.Aggregator.from_database(\n",
        "    filename=f\"{database_name}.sqlite\", completed_only=False\n",
        ")\n",
        "\n",
        "agg.add_directory(directory=path.join(\"output\", database_name))"
      ],
      "outputs": [],
      "execution_count": null
    },
    {
      "cell_type": "markdown",
      "metadata": {},
      "source": [
        "__Tracer via Aggregator__\n",
        "\n",
        "Having performed a model-fit, we now want to interpret and visualize the results. In this example, we want to inspect\n",
        "the `Tracer` objects that gave good fits to the data. \n",
        "\n",
        "Using the API shown in the `start_here.py` example this would require us to create a `Samples` object and manually \n",
        "compose our own `Tracer` object. For large datasets, this would require us to use generators to ensure it is \n",
        "memory-light, which are cumbersome to write.\n",
        "\n",
        "This example therefore uses the `TracerAgg` object, which conveniently loads the `Tracer` objects of every fit via \n",
        "generators for us. \n",
        "\n",
        "We get a tracer generator via the `al.agg.TracerAgg` object, where this `tracer_gen` contains the maximum log\n",
        "likelihood tracer of every model-fit."
      ]
    },
    {
      "cell_type": "code",
      "metadata": {},
      "source": [
        "tracer_agg = al.agg.TracerAgg(aggregator=agg)\n",
        "tracer_gen = tracer_agg.max_log_likelihood_gen_from()"
      ],
      "outputs": [],
      "execution_count": null
    },
    {
      "cell_type": "markdown",
      "metadata": {},
      "source": [
        "We can now iterate over our tracer generator to make the plots we desire.\n",
        "\n",
        "The `tracer_gen` returns a list of `Tracer` objects, as opposed to just a single `Tracer`object. This is because\n",
        "only a single `Analysis` class was used in the model-fit, meaning there was only one `Tracer` dataset that was\n",
        "fit. \n",
        "\n",
        "The `multi` package of the workspace illustrates model-fits which fit multiple datasets \n",
        "simultaneously, (e.g. multi-wavelength imaging)  by summing `Analysis` objects together, where the `tracer_list` \n",
        "would contain multiple `Tracer` objects.\n",
        "\n",
        "The parameters of galaxies in the `Tracer` may vary across the datasets (e.g. different light profile intensities \n",
        "for different wavelengths), which would be reflected in the tracer list."
      ]
    },
    {
      "cell_type": "code",
      "metadata": {},
      "source": [
        "dataset_agg = al.agg.ImagingAgg(aggregator=agg)\n",
        "dataset_gen = dataset_agg.dataset_gen_from()\n",
        "\n",
        "grid = al.Grid2D.uniform(shape_native=(100, 100), pixel_scales=0.1)\n",
        "\n",
        "for dataset_list, tracer_list in zip(dataset_gen, tracer_gen):\n",
        "    # Only one `Analysis` so take first and only dataset.\n",
        "    dataset = dataset_list[0]\n",
        "\n",
        "    # Only one `Analysis` so take first and only tracer.\n",
        "    tracer = tracer_list[0]\n",
        "\n",
        "    # Input to FitImaging to solve for linear light profile intensities, see `start_here.py` for details.\n",
        "    fit = al.FitImaging(dataset=dataset, tracer=tracer)\n",
        "    tracer = fit.tracer_linear_light_profiles_to_light_profiles\n",
        "\n",
        "    tracer_plotter = aplt.TracerPlotter(tracer=tracer, grid=grid)\n",
        "    tracer_plotter.figures_2d(convergence=True, potential=True)"
      ],
      "outputs": [],
      "execution_count": null
    },
    {
      "cell_type": "markdown",
      "metadata": {},
      "source": [
        "__Einstein Mass Example__\n",
        "\n",
        "Each tracer has the information we need to compute the Einstein mass of a model. Therefore, lets print \n",
        "the Einstein mass of each of our most-likely lens galaxies.\n",
        "\n",
        "The model instance uses the model defined by a pipeline. In this pipeline, we called the lens galaxy `lens`."
      ]
    },
    {
      "cell_type": "code",
      "metadata": {},
      "source": [
        "tracer_agg = al.agg.TracerAgg(aggregator=agg)\n",
        "tracer_gen = tracer_agg.max_log_likelihood_gen_from()\n",
        "\n",
        "print(\"Maximum Log Likelihood Lens Einstein Masses:\")\n",
        "\n",
        "for dataset_list, tracer_list in zip(dataset_gen, tracer_gen):\n",
        "    # Only one `Analysis` so take first and only dataset.\n",
        "    dataset = dataset_list[0]\n",
        "\n",
        "    # Only one `Analysis` so take first and only tracer.\n",
        "    tracer = tracer_list[0]\n",
        "\n",
        "    einstein_mass = tracer.galaxies.lens.einstein_mass_angular_from(grid=grid)\n",
        "    print(\"Einstein Mass (angular units) = \", einstein_mass)\n",
        "\n",
        "    cosmology = al.cosmo.Planck15()\n",
        "\n",
        "    critical_surface_density = (\n",
        "        cosmology.critical_surface_density_between_redshifts_from(\n",
        "            redshift_0=tracer.galaxies.lens.redshift,\n",
        "            redshift_1=tracer.galaxies.source.redshift,\n",
        "        )\n",
        "    )\n",
        "\n",
        "    einstein_mass_kpc = einstein_mass * critical_surface_density\n",
        "\n",
        "    print(\"Einstein Mass (kpc) = \", einstein_mass_kpc)\n",
        "    print(\"Einstein Mass (kpc) = \", \"{:.4e}\".format(einstein_mass_kpc))\n",
        "\n",
        "    print(einstein_mass)"
      ],
      "outputs": [],
      "execution_count": null
    },
    {
      "cell_type": "markdown",
      "metadata": {},
      "source": [
        "__Errors (PDF from samples)__\n",
        "\n",
        "In this example, we will compute the errors on the axis ratio of a model. Computing the errors on a quantity \n",
        "like the trap `density` is simple, because it is sampled by the non-linear search. The errors are therefore accessible\n",
        "via the `Samples`, by marginalizing over all over parameters via the 1D Probability Density Function (PDF).\n",
        "\n",
        "Computing the errors on the axis ratio is more tricky, because it is a derived quantity. It is a parameter or \n",
        "measurement that we want to calculate but was not sampled directly by the non-linear search. The `TracerAgg` object \n",
        "object has everything we need to compute the errors of derived quantities.\n",
        "\n",
        "Below, we compute the axis ratio of every model sampled by the non-linear search and use this determine the PDF \n",
        "of the axis ratio. When combining each axis ratio we weight each value by its `weight`. For Nautilus, \n",
        "the nested sampler used by the fit, this ensures models which gave a bad fit (and thus have a low weight) do not \n",
        "contribute significantly to the axis ratio error estimate.\n",
        "\n",
        "We set `minimum_weight=`1e-4`, such that any sample with a weight below this value is discarded when computing the \n",
        "error. This speeds up the error computation by only using a small fraction of the total number of samples. Computing\n",
        "a delta ellipticity is cheap, and this is probably not necessary. However, certain quantities have a non-negligible\n",
        "computational overhead is being calculated and setting a minimum weight can speed up the calculation without \n",
        "significantly changing the inferred errors.\n",
        "\n",
        "Below, we use the `TracerAgg` to get the `Tracer` of every Nautilus sample in each model-fit. We extract from each \n",
        "tracer the model's axis-ratio, store them in a list and find the value via the PDF and quantile method. This again\n",
        "uses generators, ensuring minimal memory use. \n",
        "\n",
        "In order to use these samples in the function `quantile`, we also need the weight list of the sample weights. We \n",
        "compute this using the `TracerAgg`'s function `weights_above_gen_from`, which computes generators of the weights of all \n",
        "points above this minimum value. This again ensures memory use in minimal."
      ]
    },
    {
      "cell_type": "code",
      "metadata": {},
      "source": [
        "tracer_agg = al.agg.TracerAgg(aggregator=agg)\n",
        "tracer_list_gen = tracer_agg.all_above_weight_gen_from(minimum_weight=1e-4)\n",
        "weight_list_gen = tracer_agg.weights_above_gen_from(minimum_weight=1e-4)\n",
        "\n",
        "for tracer_gen, weight_gen in zip(tracer_list_gen, weight_list_gen):\n",
        "    axis_ratio_list = []\n",
        "\n",
        "    for tracer_list in tracer_gen:\n",
        "        # Only one `Analysis` so take first and only tracer.\n",
        "        tracer = tracer_list[0]\n",
        "\n",
        "        axis_ratio = al.convert.axis_ratio_from(\n",
        "            ell_comps=tracer.galaxies.lens.mass.ell_comps\n",
        "        )\n",
        "\n",
        "        axis_ratio_list.append(axis_ratio)\n",
        "\n",
        "    weight_list = [weight for weight in weight_gen]\n",
        "\n",
        "    if len(axis_ratio_list) > 1:\n",
        "        median_axis_ratio, lower_axis_ratio, upper_axis_ratio = af.marginalize(\n",
        "            parameter_list=axis_ratio_list, sigma=3.0, weight_list=weight_list\n",
        "        )\n",
        "\n",
        "        print(\n",
        "            f\"Axis-Ratio = {median_axis_ratio} ({upper_axis_ratio} {lower_axis_ratio}\"\n",
        "        )"
      ],
      "outputs": [],
      "execution_count": null
    },
    {
      "cell_type": "markdown",
      "metadata": {},
      "source": [
        "__Errors (Random draws from PDF)__\n",
        "\n",
        "An alternative approach to estimating the errors on a derived quantity is to randomly draw samples from the PDF \n",
        "of the non-linear search. For a sufficiently high number of random draws, this should be as accurate and precise\n",
        "as the method above. However, it can be difficult to be certain how many random draws are necessary.\n",
        "\n",
        "The weights of each sample are used to make every random draw. Therefore, when we compute the axis-ratio and its errors\n",
        "we no longer need to pass the `weight_list` to the `quantile` function."
      ]
    },
    {
      "cell_type": "code",
      "metadata": {},
      "source": [
        "tracer_agg = al.agg.TracerAgg(aggregator=agg)\n",
        "tracer_list_gen = tracer_agg.randomly_drawn_via_pdf_gen_from(total_samples=2)\n",
        "\n",
        "for tracer_gen in tracer_list_gen:\n",
        "    axis_ratio_list = []\n",
        "\n",
        "    for tracer_list in tracer_gen:\n",
        "        # Only one `Analysis` so take first and only tracer.\n",
        "        tracer = tracer_list[0]\n",
        "\n",
        "        axis_ratio = al.convert.axis_ratio_from(\n",
        "            ell_comps=tracer.galaxies.lens.mass.ell_comps\n",
        "        )\n",
        "\n",
        "        axis_ratio_list.append(axis_ratio)\n",
        "\n",
        "    median_axis_ratio, lower_axis_ratio, upper_axis_ratio = af.marginalize(\n",
        "        parameter_list=axis_ratio_list, sigma=3.0\n",
        "    )\n",
        "\n",
        "    print(f\"Axis-Ratio = {median_axis_ratio} ({upper_axis_ratio} {lower_axis_ratio}\")"
      ],
      "outputs": [],
      "execution_count": null
    },
    {
      "cell_type": "markdown",
      "metadata": {},
      "source": [
        "Finish."
      ]
    },
    {
      "cell_type": "code",
      "metadata": {},
      "source": [],
      "outputs": [],
      "execution_count": null
    }
  ],
  "metadata": {
    "anaconda-cloud": {},
    "kernelspec": {
      "display_name": "Python 3",
      "language": "python",
      "name": "python3"
    },
    "language_info": {
      "codemirror_mode": {
        "name": "ipython",
        "version": 3
      },
      "file_extension": ".py",
      "mimetype": "text/x-python",
      "name": "python",
      "nbconvert_exporter": "python",
      "pygments_lexer": "ipython3",
      "version": "3.6.1"
    }
  },
  "nbformat": 4,
  "nbformat_minor": 4
}