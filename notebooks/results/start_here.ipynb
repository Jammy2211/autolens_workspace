{
  "cells": [
    {
      "cell_type": "markdown",
      "metadata": {},
      "source": [
        "Results: Start Here\n",
        "===================\n",
        "\n",
        "This script is the starting point for investigating the results of lens modeling and it provides\n",
        "an overview of the lens modeling API.\n",
        "\n",
        "After reading this script, the `examples` folder provides more detailed examples for analysing the different aspects of\n",
        "performing  modeling results outlined here.\n",
        "\n",
        "__Model__\n",
        "\n",
        "We begin by fitting a quick lens model to a simple lens dataset, which we will use to illustrate the lens modeling\n",
        "results API.\n",
        "\n",
        "If you are not familiar with the lens modeling API and process, checkout the `autolens_workspace/examples/modeling`\n",
        "folder for examples."
      ]
    },
    {
      "cell_type": "code",
      "metadata": {},
      "source": [
        "%matplotlib inline\n",
        "from pyprojroot import here\n",
        "workspace_path = str(here())\n",
        "%cd $workspace_path\n",
        "print(f\"Working Directory has been set to `{workspace_path}`\")\n",
        "\n",
        "from os import path\n",
        "import autofit as af\n",
        "import autolens as al\n",
        "import autolens.plot as aplt"
      ],
      "outputs": [],
      "execution_count": null
    },
    {
      "cell_type": "markdown",
      "metadata": {},
      "source": [
        "__Model Fit__\n",
        "\n",
        "The code below (which we have omitted comments from for brevity) performs a lens model-fit using Nautilus. You should\n",
        "be familiar enough with lens modeling to understand this, if not you should go over the beginner model-fit script again!"
      ]
    },
    {
      "cell_type": "code",
      "metadata": {},
      "source": [
        "dataset_name = \"simple__no_lens_light\"\n",
        "dataset_path = path.join(\"dataset\", \"imaging\", dataset_name)\n",
        "\n",
        "dataset = al.Imaging.from_fits(\n",
        "    data_path=path.join(dataset_path, \"data.fits\"),\n",
        "    psf_path=path.join(dataset_path, \"psf.fits\"),\n",
        "    noise_map_path=path.join(dataset_path, \"noise_map.fits\"),\n",
        "    pixel_scales=0.1,\n",
        ")\n",
        "\n",
        "mask = al.Mask2D.circular(\n",
        "    shape_native=dataset.shape_native, pixel_scales=dataset.pixel_scales, radius=3.0\n",
        ")\n",
        "\n",
        "dataset = dataset.apply_mask(mask=mask)\n",
        "\n",
        "model = af.Collection(\n",
        "    galaxies=af.Collection(\n",
        "        lens=af.Model(al.Galaxy, redshift=0.5, mass=al.mp.Isothermal),\n",
        "        source=af.Model(\n",
        "            al.Galaxy, redshift=1.0, bulge=al.lp_linear.SersicCore, disk=None\n",
        "        ),\n",
        "    ),\n",
        ")\n",
        "\n",
        "search = af.Nautilus(\n",
        "    path_prefix=path.join(\"results_folder\"),\n",
        "    name=\"results\",\n",
        "    unique_tag=dataset_name,\n",
        "    n_live=100,\n",
        "    number_of_cores=1,\n",
        ")\n",
        "\n",
        "analysis = al.AnalysisImaging(dataset=dataset)\n",
        "\n",
        "result = search.fit(model=model, analysis=analysis)"
      ],
      "outputs": [],
      "execution_count": null
    },
    {
      "cell_type": "markdown",
      "metadata": {},
      "source": [
        "__Info__\n",
        "\n",
        "As seen throughout the workspace, the `info` attribute shows the result in a readable format."
      ]
    },
    {
      "cell_type": "code",
      "metadata": {},
      "source": [
        "print(result.info)"
      ],
      "outputs": [],
      "execution_count": null
    },
    {
      "cell_type": "markdown",
      "metadata": {},
      "source": [
        "__Loading From Hard-disk__\n",
        "\n",
        "When performing fits which output results to hard-disk, a `files` folder is created containing .json / .csv files of \n",
        "the model, samples, search, etc. You should check it out now for a completed fit on your hard-disk if you have\n",
        "not already!\n",
        "\n",
        "These files can be loaded from hard-disk to Python variables via the aggregator, making them accessible in a \n",
        "Python script or Jupyter notebook. They are loaded as the internal **PyAutoFit** objects we are familiar with,\n",
        "for example the `model` is loaded as the `Model` object we passed to the search above.\n",
        "\n",
        "Below, we will access these results using the aggregator's `values` method. A full list of what can be loaded is\n",
        "as follows:\n",
        "\n",
        " - `model`: The `model` defined above and used in the model-fit (`model.json`).\n",
        " - `search`: The non-linear search settings (`search.json`).\n",
        " - `samples`: The non-linear search samples (`samples.csv`).\n",
        " - `samples_info`: Additional information about the samples (`samples_info.json`).\n",
        " - `samples_summary`: A summary of key results of the samples (`samples_summary.json`).\n",
        " - `info`: The info dictionary passed to the search (`info.json`).\n",
        " - `covariance`: The inferred covariance matrix (`covariance.csv`).\n",
        " - `cosmology`: The cosmology used by the fit (`cosmology.json`).\n",
        " - `settings_inversion`: The settings associated with a inversion if used (`settings_inversion.json`).\n",
        " - `dataset/data`: The data that is fitted (`data.fits`).\n",
        " - `dataset/noise_map`: The noise-map (`noise_map.fits`).\n",
        " - `dataset/psf`: The Point Spread Function (`psf.fits`).\n",
        " - `dataset/mask`: The mask applied to the data (`mask.fits`).\n",
        " - `dataset/settings`: The settings associated with the dataset (`settings.json`).\n",
        "\n",
        "The `samples` and `samples_summary` results contain a lot of repeated information. The `samples` result contains\n",
        "the full non-linear search samples, for example every parameter sample and its log likelihood. The `samples_summary`\n",
        "contains a summary of the results, for example the maximum log likelihood model and error estimates on parameters\n",
        "at 1 and 3 sigma confidence.\n",
        "\n",
        "Accessing results via the `samples_summary` is much faster, because as it does not reperform calculations using the full \n",
        "list of samples. Therefore, if the result you want is accessible via the `samples_summary` you should use it\n",
        "but if not you can revert to the `samples."
      ]
    },
    {
      "cell_type": "code",
      "metadata": {},
      "source": [
        "from autofit.aggregator.aggregator import Aggregator\n",
        "\n",
        "agg = Aggregator.from_directory(\n",
        "    directory=path.join(\"output\", \"results_folder\"),\n",
        ")"
      ],
      "outputs": [],
      "execution_count": null
    },
    {
      "cell_type": "markdown",
      "metadata": {},
      "source": [
        "__Generators__\n",
        "\n",
        "Before using the aggregator to inspect results, lets discuss Python generators. \n",
        "\n",
        "A generator is an object that iterates over a function when it is called. The aggregator creates all of the objects \n",
        "that it loads from the database as generators (as opposed to a list, or dictionary, or another Python type).\n",
        "\n",
        "This is because generators are memory efficient, as they do not store the entries of the database in memory \n",
        "simultaneously. This contrasts objects like lists and dictionaries, which store all entries in memory all at once. \n",
        "If you fit a large number of datasets, lists and dictionaries will use a lot of memory and could crash your computer!\n",
        "\n",
        "Once we use a generator in the Python code, it cannot be used again. To perform the same task twice, the \n",
        "generator must be remade it. This cookbook therefore rarely stores generators as variables and instead uses the \n",
        "aggregator to create each generator at the point of use.\n",
        "\n",
        "To create a generator of a specific set of results, we use the `values` method. This takes the `name` of the\n",
        "object we want to create a generator of, for example inputting `name=samples` will return the results `Samples`\n",
        "object (which is illustrated in detail below)."
      ]
    },
    {
      "cell_type": "code",
      "metadata": {},
      "source": [
        "for samples in agg.values(\"samples\"):\n",
        "    print(samples.parameter_lists[0])"
      ],
      "outputs": [],
      "execution_count": null
    },
    {
      "cell_type": "markdown",
      "metadata": {},
      "source": [
        "__Database File__\n",
        "\n",
        "The aggregator can also load results from a `.sqlite` database file.\n",
        "\n",
        "This is benefitial when loading results for large numbers of model-fits (e.g. more than hundreds)\n",
        "because it is optimized for fast querying of results.\n",
        "\n",
        "It is recommended you use hard-disk loading to begin, as it is simpler and easier to use.\n",
        "\n",
        "See the package `results/database` for a full description of how to set up the database and the benefits it provides,\n",
        "especially if loading results from hard-disk is slow.\n",
        "\n",
        "__Result__\n",
        "\n",
        "From here on we will use attributes contained in the `result` passed from the `search.fit` method above, as opposed\n",
        "to using the aggregator. This is because things will run faster, but all of the results we use can be loaded using\n",
        "the aggregator as shown above.\n",
        "\n",
        "__Samples__\n",
        "\n",
        "The result's `Samples` object contains the complete set of non-linear search Nautilus samples, where each sample \n",
        "corresponds to a set of a model parameters that were evaluated and accepted. \n",
        "\n",
        "The examples script `autolens_workspace/*/imaging/results/examples/samples.py` provides a detailed description of \n",
        "this object, including:\n",
        "\n",
        " - Extracting the maximum likelihood lens model.\n",
        " - Using marginalized PDFs to estimate errors on the lens model parameters.\n",
        " - Deriving errors on derived quantities, such as the Einstein radius.\n",
        "\n",
        "Below, is an example of how to use the `Samples` object to estimate the lens mass model parameters which are \n",
        "the median of the probability distribution function and its errors at 3 sigma confidence intervals."
      ]
    },
    {
      "cell_type": "code",
      "metadata": {},
      "source": [
        "samples = result.samples\n",
        "\n",
        "median_pdf_instance = samples.median_pdf()\n",
        "\n",
        "print(\"Median PDF Model Instances: \\n\")\n",
        "print(median_pdf_instance.galaxies.lens.mass)\n",
        "print()\n",
        "\n",
        "ue3_instance = samples.values_at_upper_sigma(sigma=3.0)\n",
        "le3_instance = samples.values_at_lower_sigma(sigma=3.0)\n",
        "\n",
        "print(\"Errors Instances: \\n\")\n",
        "print(ue3_instance.galaxies.lens.mass, \"\\n\")\n",
        "print(le3_instance.galaxies.lens.mass, \"\\n\")"
      ],
      "outputs": [],
      "execution_count": null
    },
    {
      "cell_type": "markdown",
      "metadata": {},
      "source": [
        "__Linear Light Profiles__\n",
        "\n",
        "In the model fit, linear light profiles are used, solving for the `intensity` of each profile through linear algebra.\n",
        "\n",
        "The `intensity` value is not a free parameter of the linear light profiles in the model, meaning that in the `Samples`\n",
        "object the `intensity` are always defaulted to values of 1.0 in the `Samples` object. \n",
        "\n",
        "You can observe this by comparing the `intensity` values in the `Samples` object to those in \n",
        "the `result.max_log_likelihood_galaxies` instance and `result.max_log_likelihood_fit` instance."
      ]
    },
    {
      "cell_type": "code",
      "metadata": {},
      "source": [
        "samples = result.samples\n",
        "ml_instance = samples.max_log_likelihood()\n",
        "\n",
        "print(\n",
        "    \"Intensity of source galaxy's bulge in the Samples object (before solving linear algebra):\"\n",
        ")\n",
        "print(ml_instance.galaxies.source.bulge.intensity)\n",
        "\n",
        "print(\n",
        "    \"Intensity of source galaxy's bulge in the max log likelihood galaxy (after solving linear algebra):\"\n",
        ")\n",
        "print(result.max_log_likelihood_tracer.planes[1][0].bulge.intensity)\n",
        "print(\n",
        "    result.max_log_likelihood_fit.tracer_linear_light_profiles_to_light_profiles.planes[\n",
        "        1\n",
        "    ][0].bulge.intensity\n",
        ")"
      ],
      "outputs": [],
      "execution_count": null
    },
    {
      "cell_type": "markdown",
      "metadata": {},
      "source": [
        "To interpret results associated with the linear light profiles, you must input the `Samples` object into a `FitImaging`,\n",
        "which converts the linear light profiles to standard light profiles with `intensity` values solved for using the linear \n",
        "algebra."
      ]
    },
    {
      "cell_type": "code",
      "metadata": {},
      "source": [
        "ml_instance = samples.max_log_likelihood()\n",
        "\n",
        "tracer = al.Tracer(galaxies=ml_instance.galaxies)\n",
        "fit = al.FitImaging(dataset=dataset, tracer=tracer)\n",
        "tracer = fit.tracer_linear_light_profiles_to_light_profiles\n",
        "\n",
        "print(\"Intensity of source galaxy's bulge after conversion using FitImaging:\")\n",
        "print(tracer.planes[1][0].bulge.intensity)"
      ],
      "outputs": [],
      "execution_count": null
    },
    {
      "cell_type": "markdown",
      "metadata": {},
      "source": [
        "Whenever possible, the result already containing the solved `intensity` values is used, for example\n",
        "the `Result` object returned by a search.\n",
        "\n",
        "However, when manually loading results from the `Samples` object, you must use the `FitImaging` object to convert\n",
        "the linear light profiles to their correct `intensity` values.\n",
        "\n",
        "__Tracer__\n",
        "\n",
        "The result's maximum likelihood `Tracer` object contains everything necessary to perform ray-tracing and other\n",
        "calculations with the lens model.\n",
        "\n",
        "The guide `autolens_workspace/*/guides/tracer.py` provides a detailed description of this object, including:\n",
        "\n",
        " - Producing individual images of the strong lens from a tracer.\n",
        " - Inspecting mass model components like the convergence, potential and deflection angles.\n",
        " - Other lensing quantities like the critical curve and caustics.\n",
        "\n",
        "The examples script `autolens_workspace/*/imaging/results/examples/galaxies_fit.py` show how to use \n",
        "model-fitting results specific functionality of galaxies, including:\n",
        "\n",
        " - Drawing tracers from the samples and plotting their images.\n",
        " - Producing 1D plots of the galaxy's light and mass profiles with error bars.\n",
        "\n",
        "Below, is an example of how to use the `Tracer` object to calculate the image of the lens and source galaxies."
      ]
    },
    {
      "cell_type": "code",
      "metadata": {},
      "source": [
        "tracer = result.max_log_likelihood_tracer\n",
        "\n",
        "image = tracer.image_2d_from(grid=dataset.grid)"
      ],
      "outputs": [],
      "execution_count": null
    },
    {
      "cell_type": "markdown",
      "metadata": {},
      "source": [
        "__Fits__\n",
        "\n",
        "The result's maximum likelihood `FitImaging` object contains everything necessary to inspect the lens model fit to the \n",
        "data.\n",
        "\n",
        "The guide `autolens_workspace/*/guides/fits.py` provides a detailed description of this object, including:\n",
        "\n",
        " - Performing a fit to data with galaxies.\n",
        " - Inspecting the model data, residual-map, chi-squared, noise-map of the fit.\n",
        " - Other properties of the fit that inspect how good it is.\n",
        "\n",
        "The examples script `autolens_workspace/*/imaging/results/examples/galaxies_fits.py` provides a detailed description of this \n",
        "object, including:\n",
        "\n",
        " - Repeating fits using the results contained in the samples.\n",
        "\n",
        "Below, is an example of how to use the `FitImaging` object to print the maximum likelihood chi-squared and \n",
        "log likelihood values."
      ]
    },
    {
      "cell_type": "code",
      "metadata": {},
      "source": [
        "fit = result.max_log_likelihood_fit\n",
        "\n",
        "print(fit.chi_squared)\n",
        "print(fit.log_likelihood)"
      ],
      "outputs": [],
      "execution_count": null
    },
    {
      "cell_type": "markdown",
      "metadata": {},
      "source": [
        "__Galaxies__\n",
        "\n",
        "The result's maximum likelihood `Galaxy` objects contained within the `Tracer` contain everything necessary to \n",
        "inspect the individual properties of the lens and source galaxies.\n",
        "\n",
        "The guide `autolens_workspace/*/guides/fits.py` provides a detailed description of this, including:\n",
        "\n",
        " - Extracting the lens and source galaixes from a tracer.\n",
        " - Extracting the individual light and mass profiles of the galaxies.\n",
        "\n",
        "The examples script `autolens_workspace/*/imaging/results/examples/galaxies_fits.py` shows how to use \n",
        "model-fitting results specific functionality of galaxies, including:\n",
        "\n",
        " - Repeating fits using the results contained in the samples.\n",
        " \n",
        "Below, is an example of how to use the `Galaxy` objects to plot the source galaxy's source-plane image."
      ]
    },
    {
      "cell_type": "code",
      "metadata": {},
      "source": [
        "tracer = result.max_log_likelihood_tracer\n",
        "\n",
        "source = tracer.planes[1][0]\n",
        "galaxy_plotter = aplt.GalaxyPlotter(galaxy=source, grid=dataset.grid)\n",
        "galaxy_plotter.figures_2d(image=True)"
      ],
      "outputs": [],
      "execution_count": null
    },
    {
      "cell_type": "markdown",
      "metadata": {},
      "source": [
        "__Units and Cosmological Quantities__\n",
        "\n",
        "The maximum likelihood model includes cosmological quantities, which can be computed via the result.\n",
        "\n",
        "The examples script `autolens_workspace/*/guides/units_and_cosmology.py` provides a detailed \n",
        "description of this object, including:\n",
        "\n",
        " - Calculating the Einstein radius of the lens galaxy.\n",
        " - Converting quantities like the Einstein radius or effective radius from arcseconds to kiloparsecs.\n",
        " - Computing the Einstein mass of the lens galaxy in solar masses.\n",
        " \n",
        "This guide is not in the `results` package but the `guides` package, as it is a general guide to the\n",
        "**PyAutoLens** API. However, it may be useful when inspecting results.\n",
        " \n",
        "Below, is an example of how to convert the effective radius of the source galaxy from arcseconds to kiloparsecs."
      ]
    },
    {
      "cell_type": "code",
      "metadata": {},
      "source": [
        "tracer = result.max_log_likelihood_tracer\n",
        "\n",
        "cosmology = al.cosmo.Planck15()\n",
        "\n",
        "source = tracer.planes[1][0]\n",
        "source_kpc_per_arcsec = cosmology.kpc_per_arcsec_from(redshift=source.redshift)\n",
        "source_effective_radius_kpc = source.bulge.effective_radius * source_kpc_per_arcsec"
      ],
      "outputs": [],
      "execution_count": null
    },
    {
      "cell_type": "markdown",
      "metadata": {},
      "source": [
        "__Linear Light Profiles / Basis Objects__\n",
        "\n",
        "A lens model can be fitted using a linear light profile, which is a light profile whose `intensity` parameter is \n",
        "sovled for via linear algebra.\n",
        "\n",
        "This includes Basis objects such as a Multi-Gaussian expansion of Shapelets.\n",
        "\n",
        "These objects mostly behave identically to ordinary light profiles, but due to the linear algebra have their own\n",
        "specific functionality.\n",
        "\n",
        "The example script `autolens_workspace/*/features/linear_light_profiles.py` provides a detailed description of \n",
        "using linear light profile results including:\n",
        "\n",
        " - Extracting individual quantities from the linear light profile, such as the coefficients of the basis functions.\n",
        " - Extracting the intensity of the linear light profiles after they have been computed via linear algebra.\n",
        " - Plotting the linear light profiles.\n",
        " \n",
        "Therefore if your results contain a linear light profile, checkout the example script above for a detailed description\n",
        "of how to use their results.\n",
        "\n",
        "__Pixelization__\n",
        "\n",
        "The lens model can reconstruct the source galaxy using a pixelization, for example on a Voronoi mesh.\n",
        "\n",
        "The example script `autolens_workspace/*/features/pixelization.py` describes using pixelization results including:\n",
        "\n",
        " - Producing source reconstructions using the Voronoi mesh, Delaunay triangulation or whichever mesh is used.\n",
        " - Inspecting the evidence terms of the fit, which quantify how well the pixelization reconstructs fits the data whilst\n",
        "   accounting for the complexity of the pixelization.\n",
        " - Estimating the magnification of the source galaxy's image using the pixelization.\n",
        "\n",
        "Therefore if your results contain a pixelization, checkout the example script above for a detailed description\n",
        "of how to use their results."
      ]
    },
    {
      "cell_type": "code",
      "metadata": {},
      "source": [],
      "outputs": [],
      "execution_count": null
    }
  ],
  "metadata": {
    "anaconda-cloud": {},
    "kernelspec": {
      "display_name": "Python 3",
      "language": "python",
      "name": "python3"
    },
    "language_info": {
      "codemirror_mode": {
        "name": "ipython",
        "version": 3
      },
      "file_extension": ".py",
      "mimetype": "text/x-python",
      "name": "python",
      "nbconvert_exporter": "python",
      "pygments_lexer": "ipython3",
      "version": "3.6.1"
    }
  },
  "nbformat": 4,
  "nbformat_minor": 4
}