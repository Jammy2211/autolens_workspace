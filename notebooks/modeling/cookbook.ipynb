{
  "cells": [
    {
      "cell_type": "markdown",
      "metadata": {},
      "source": [
        "Model Cookbook\n",
        "==============\n",
        "\n",
        "The model cookbook provides a concise reference to lens model composition tools, specifically the `Model` and\n",
        "`Collection` objects.\n",
        "\n",
        "Examples using different PyAutoLens API\u2019s for model composition are provided, which produce more concise and\n",
        "readable code for different use-cases.\n",
        "\n",
        "__Start Here Notebook__\n",
        "\n",
        "If any code in this script is unclear, refer to the `modeling/start_here.ipynb` notebook."
      ]
    },
    {
      "cell_type": "code",
      "metadata": {},
      "source": [
        "%matplotlib inline\n",
        "from pyprojroot import here\n",
        "workspace_path = str(here())\n",
        "%cd $workspace_path\n",
        "print(f\"Working Directory has been set to `{workspace_path}`\")\n",
        "\n",
        "from os import path\n",
        "import autofit as af\n",
        "import autolens as al\n",
        "import autolens.plot as aplt"
      ],
      "outputs": [],
      "execution_count": null
    },
    {
      "cell_type": "markdown",
      "metadata": {},
      "source": [
        "__Simple Lens Model__\n",
        "\n",
        "A simple lens model has a lens galaxy with a Sersic light profile, Isothermal mass profile and source galaxy with \n",
        "a Sersic light profile:"
      ]
    },
    {
      "cell_type": "code",
      "metadata": {},
      "source": [
        "# Lens:\n",
        "\n",
        "bulge = af.Model(al.lp_linear.Sersic)\n",
        "mass = af.Model(al.mp.Isothermal)\n",
        "\n",
        "lens = af.Model(\n",
        "    al.Galaxy,\n",
        "    redshift=0.5,\n",
        "    bulge=bulge,\n",
        "    mass=mass,\n",
        ")\n",
        "\n",
        "# Source:\n",
        "\n",
        "source = af.Model(al.Galaxy, redshift=1.0, bulge=al.lp_linear.SersicCore)\n",
        "\n",
        "# Overall Lens Model:\n",
        "\n",
        "model = af.Collection(galaxies=af.Collection(lens=lens, source=source))"
      ],
      "outputs": [],
      "execution_count": null
    },
    {
      "cell_type": "markdown",
      "metadata": {},
      "source": [
        "The redshifts in the above model are used to determine which galaxy is the lens and which is the source.\n",
        "\n",
        "The model `total_free_parameters` tells us the total number of free parameters (which are fitted for via a \n",
        "non-linear search), which in this case is 19 (7 from the lens `Sersic`, 5 from the lens `Isothermal` and 7 from the \n",
        "source `Sersic`)."
      ]
    },
    {
      "cell_type": "code",
      "metadata": {},
      "source": [
        "print(f\"Model Total Free Parameters = {model.total_free_parameters}\")"
      ],
      "outputs": [],
      "execution_count": null
    },
    {
      "cell_type": "markdown",
      "metadata": {},
      "source": [
        "If we print the `info` attribute of the model we get information on all of the parameters and their priors."
      ]
    },
    {
      "cell_type": "code",
      "metadata": {},
      "source": [
        "print(model.info)"
      ],
      "outputs": [],
      "execution_count": null
    },
    {
      "cell_type": "markdown",
      "metadata": {},
      "source": [
        "__More Complex Lens Models__\n",
        "\n",
        "The API above can be easily extended to compose lens models where each galaxy has multiple light or mass profiles:"
      ]
    },
    {
      "cell_type": "code",
      "metadata": {},
      "source": [
        "# Lens:\n",
        "\n",
        "bulge = af.Model(al.lp_linear.Sersic)\n",
        "disk = af.Model(al.lp_linear.Exponential)\n",
        "\n",
        "mass = af.Model(al.mp.Isothermal)\n",
        "shear = af.Model(al.mp.ExternalShear)\n",
        "\n",
        "lens = af.Model(\n",
        "    al.Galaxy,\n",
        "    redshift=0.5,\n",
        "    bulge=bulge,\n",
        "    disk=disk,\n",
        "    mass=mass,\n",
        "    shear=shear,\n",
        ")\n",
        "\n",
        "# Source:\n",
        "\n",
        "bulge = af.Model(al.lp_linear.SersicCore)\n",
        "disk = af.Model(al.lp_linear.ExponentialCore)\n",
        "\n",
        "source = af.Model(al.Galaxy, redshift=1.0, bulge=bulge, disk=disk)\n",
        "\n",
        "# Overall Lens Model:\n",
        "\n",
        "model = af.Collection(galaxies=af.Collection(lens=lens, source=source))\n",
        "\n",
        "print(model.info)"
      ],
      "outputs": [],
      "execution_count": null
    },
    {
      "cell_type": "markdown",
      "metadata": {},
      "source": [
        "The use of the words `bulge`, `disk`, `mass` and `shear` above are arbitrary. They can be replaced with any name you\n",
        "like, e.g. `bulge_0`, `bulge_1`, `mass_0`, `mass_1`, and the model will still behave in the same way.\n",
        "\n",
        "The API can also be extended to compose lens models where there are multiple galaxies:"
      ]
    },
    {
      "cell_type": "code",
      "metadata": {},
      "source": [
        "\n",
        "bulge = af.Model(al.lp_linear.Sersic)\n",
        "mass = af.Model(al.mp.Isothermal)\n",
        "\n",
        "lens_0 = af.Model(\n",
        "    al.Galaxy,\n",
        "    redshift=0.5,\n",
        "    bulge=bulge,\n",
        "    mass=mass,\n",
        ")\n",
        "\n",
        "bulge = af.Model(al.lp_linear.Sersic)\n",
        "mass = af.Model(al.mp.Isothermal)\n",
        "\n",
        "lens_1 = af.Model(\n",
        "    al.Galaxy,\n",
        "    redshift=0.5,\n",
        "    bulge=bulge,\n",
        "    mass=mass,\n",
        ")\n",
        "\n",
        "# Source 0:\n",
        "\n",
        "bulge = af.Model(al.lp_linear.SersicCore)\n",
        "\n",
        "source_0 = af.Model(al.Galaxy, redshift=1.0, bulge=bulge)\n",
        "\n",
        "# Source 1 :\n",
        "\n",
        "bulge = af.Model(al.lp_linear.SersicCore)\n",
        "\n",
        "source_1 = af.Model(al.Galaxy, redshift=1.0, bulge=bulge)\n",
        "\n",
        "# Overall Lens Model:\n",
        "\n",
        "model = af.Collection(\n",
        "    galaxies=af.Collection(\n",
        "        lens_0=lens_0, lens_1=lens_1, source_0=source_0, source_1=source_1\n",
        "    ),\n",
        ")\n",
        "\n",
        "print(model.info)"
      ],
      "outputs": [],
      "execution_count": null
    },
    {
      "cell_type": "markdown",
      "metadata": {},
      "source": [
        "The above lens model consists of only two planes (an image-plane and source-plane), but has four galaxies in total.\n",
        "This is because the lens galaxies have the same redshift and the souece galaxies have the same redshift.\n",
        "\n",
        "If we gave one of the lens galaxies a different redshift, it would be included in a third plane, and the model would\n",
        "perform multi-plane ray tracing when the model-fit is performed.\n",
        "\n",
        "__Concise API__\n",
        "\n",
        "If a light or mass profile is passed directly to the `af.Model` of a galaxy, it is automatically assigned to be a\n",
        "`af.Model` component of the galaxy.\n",
        "\n",
        "This means we can write the model above comprising multiple light and mass profiles more concisely as follows (also\n",
        "removing the comments reading Lens / Source / Overall Lens Model to make the code more readable):"
      ]
    },
    {
      "cell_type": "code",
      "metadata": {},
      "source": [
        "lens = af.Model(\n",
        "    al.Galaxy,\n",
        "    redshift=0.5,\n",
        "    bulge=al.lp_linear.Sersic,\n",
        "    disk=al.lp_linear.Sersic,\n",
        "    mass=al.mp.Isothermal,\n",
        "    shear=al.mp.ExternalShear,\n",
        ")\n",
        "\n",
        "source = af.Model(\n",
        "    al.Galaxy,\n",
        "    redshift=1.0,\n",
        "    bulge=al.lp_linear.SersicCore,\n",
        "    disk=al.lp_linear.ExponentialCore,\n",
        ")\n",
        "\n",
        "model = af.Collection(galaxies=af.Collection(lens=lens, source=source))\n",
        "print(model.info)"
      ],
      "outputs": [],
      "execution_count": null
    },
    {
      "cell_type": "markdown",
      "metadata": {},
      "source": [
        "__Prior Customization__\n",
        "\n",
        "We can customize the priors of the lens model component individual parameters as follows:"
      ]
    },
    {
      "cell_type": "code",
      "metadata": {},
      "source": [
        "# Lens:\n",
        "\n",
        "bulge = af.Model(al.lp_linear.Sersic)\n",
        "bulge.sersic_index = af.GaussianPrior(\n",
        "    mean=4.0, sigma=1.0, lower_limit=1.0, upper_limit=8.0\n",
        ")\n",
        "\n",
        "mass = af.Model(al.mp.Isothermal)\n",
        "mass.centre.centre_0 = af.GaussianPrior(\n",
        "    mean=0.0, sigma=0.1, lower_limit=-0.5, upper_limit=0.5\n",
        ")\n",
        "mass.centre.centre_1 = af.GaussianPrior(\n",
        "    mean=0.0, sigma=0.1, lower_limit=-0.5, upper_limit=0.5\n",
        ")\n",
        "mass.einstein_radius = af.UniformPrior(lower_limit=0.0, upper_limit=8.0)\n",
        "\n",
        "lens = af.Model(\n",
        "    al.Galaxy,\n",
        "    redshift=0.5,\n",
        "    bulge=bulge,\n",
        "    mass=mass,\n",
        ")\n",
        "\n",
        "# Source\n",
        "\n",
        "bulge = af.Model(al.lp_linear.SersicCore)\n",
        "\n",
        "source = af.Model(al.Galaxy, redshift=1.0, bulge=bulge)\n",
        "source.effective_radius = af.GaussianPrior(\n",
        "    mean=0.1, sigma=0.05, lower_limit=0.0, upper_limit=1.0\n",
        ")\n",
        "\n",
        "# Overall Lens Model:\n",
        "\n",
        "model = af.Collection(galaxies=af.Collection(lens=lens, source=source))\n",
        "\n",
        "print(model.info)"
      ],
      "outputs": [],
      "execution_count": null
    },
    {
      "cell_type": "markdown",
      "metadata": {},
      "source": [
        "__Model Customization__\n",
        "\n",
        "We can customize the lens model parameters in a number of different ways, as shown below:"
      ]
    },
    {
      "cell_type": "code",
      "metadata": {},
      "source": [
        "# Lens:\n",
        "\n",
        "bulge = af.Model(al.lp_linear.Sersic)\n",
        "disk = af.Model(al.lp_linear.Exponential)\n",
        "\n",
        "# Parameter Pairing: Pair the centre of the bulge and disk together, reducing\n",
        "# the complexity of non-linear parameter space by N = 2\n",
        "\n",
        "bulge.centre = disk.centre\n",
        "\n",
        "# Parameter Fixing: Fix the sersic_index of the bulge to a value of 4, reducing\n",
        "# the complexity of non-linear parameter space by N = 1\n",
        "\n",
        "bulge.sersic_index = 4.0\n",
        "\n",
        "mass = af.Model(al.mp.Isothermal)\n",
        "\n",
        "# Parameter Offsets: Make the mass model centre parameters the same value as\n",
        "# the bulge / disk but with an offset.\n",
        "\n",
        "mass.centre.centre_0 = bulge.centre.centre_0 + 0.1\n",
        "mass.centre.centre_1 = bulge.centre.centre_1 + 0.1\n",
        "\n",
        "shear = af.Model(al.mp.ExternalShear)\n",
        "\n",
        "lens = af.Model(\n",
        "    al.Galaxy,\n",
        "    redshift=0.5,\n",
        "    bulge=bulge,\n",
        "    disk=disk,\n",
        "    mass=mass,\n",
        "    shear=shear,\n",
        ")\n",
        "\n",
        "# Source:\n",
        "\n",
        "bulge = af.Model(al.lp_linear.SersicCore)\n",
        "disk = af.Model(al.lp_linear.ExponentialCore)\n",
        "\n",
        "source = af.Model(al.Galaxy, redshift=1.0, bulge=bulge, disk=disk)\n",
        "\n",
        "# Overall Lens Model:\n",
        "\n",
        "model = af.Collection(galaxies=af.Collection(lens=lens, source=source))\n",
        "\n",
        "# Assert that the effective radius of the bulge is larger than that of the disk.\n",
        "# (Assertions can only be added at the end of model composition, after all components\n",
        "# have been bright together in a `Collection`.\n",
        "model.add_assertion(\n",
        "    model.galaxies.lens.bulge.effective_radius\n",
        "    > model.galaxies.lens.disk.effective_radius\n",
        ")\n",
        "\n",
        "# Assert that the Einstein Radius is below 3.0\":\n",
        "model.add_assertion(model.galaxies.lens.mass.einstein_radius < 3.0)\n",
        "\n",
        "print(model.info)"
      ],
      "outputs": [],
      "execution_count": null
    },
    {
      "cell_type": "markdown",
      "metadata": {},
      "source": [
        "__Redshift Free__\n",
        "\n",
        "The redshift of a galaxy can be treated as a free parameter in the model-fit by using the following API:"
      ]
    },
    {
      "cell_type": "code",
      "metadata": {},
      "source": [
        "redshift = af.Model(al.Redshift)\n",
        "redshift.redshift = af.UniformPrior(lower_limit=0.0, upper_limit=2.0)\n",
        "\n",
        "lens = af.Model(al.Galaxy, redshift=redshift, mass=al.mp.Isothermal)"
      ],
      "outputs": [],
      "execution_count": null
    },
    {
      "cell_type": "markdown",
      "metadata": {},
      "source": [
        "The model-fit will automatically enable multi-plane ray tracing and alter the ordering of the planes depending on the\n",
        "redshifts of the galaxies.\n",
        "\n",
        "NOTE: For strong lenses with just two planes (an image-plane and source-plane) the redshifts of the galaxies do not\n",
        "impact the model-fit. You should therefore never make the redshifts free if you are only modeling a two-plane lens\n",
        "system. This is because lensing calculations can be defined in arc-second coordinates, which do not change as a\n",
        "function of redshift.\n",
        "\n",
        "Redshifts should be made free when modeling three or more planes, as the mulit-plane ray-tracing calculations have an\n",
        "obvious dependence on the redshifts of the galaxies which could be inferred by the model-fit."
      ]
    },
    {
      "cell_type": "code",
      "metadata": {},
      "source": [
        "\n",
        "# %%\n",
        "'''\n",
        "__Available Model Components__\n",
        "\n",
        "The light profiles, mass profiles and other components that can be used for lens modeling are given at the following\n",
        "API documentation pages:\n",
        "\n",
        " - https://pyautolens.readthedocs.io/en/latest/api/light.html\n",
        " - https://pyautolens.readthedocs.io/en/latest/api/mass.html\n",
        " - https://pyautolens.readthedocs.io/en/latest/api/pixelization.html\n",
        " \n",
        " __JSon Outputs__\n",
        "\n",
        "After a model is composed, it can easily be output to a .json file on hard-disk in a readable structure:\n",
        "'''"
      ],
      "outputs": [],
      "execution_count": null
    },
    {
      "cell_type": "code",
      "metadata": {},
      "source": [
        "import os\n",
        "import json\n",
        "\n",
        "model_path = path.join(\"path\", \"to\", \"model\", \"json\")\n",
        "\n",
        "os.makedirs(model_path, exist_ok=True)\n",
        "\n",
        "model_file = path.join(model_path, \"model.json\")\n",
        "\n",
        "with open(model_file, \"w+\") as f:\n",
        "    json.dump(model.dict(), f, indent=4)"
      ],
      "outputs": [],
      "execution_count": null
    },
    {
      "cell_type": "markdown",
      "metadata": {},
      "source": [
        "We can load the model from its `.json` file."
      ]
    },
    {
      "cell_type": "code",
      "metadata": {},
      "source": [
        "model = af.Model.from_json(file=model_file)\n",
        "\n",
        "print(model.info)"
      ],
      "outputs": [],
      "execution_count": null
    },
    {
      "cell_type": "markdown",
      "metadata": {},
      "source": [
        "This means in **PyAutoLens** one can write a model in a script, save it to hard disk and load it elsewhere, as well\n",
        "as manually customize it in the .json file directory.\n",
        "\n",
        "This is used for composing complex models of group scale lenses.\n",
        "\n",
        "__Many Profile Models (Advanced)__\n",
        "\n",
        "Features such as the Multi Gaussian Expansion (MGE) and shapelets compose models consisting of 50 - 500+ light\n",
        "profiles.\n",
        "\n",
        "The following example notebooks show how to compose and fit these models:\n",
        "\n",
        "https://github.com/Jammy2211/autolens_workspace/blob/release/notebooks/modeling/imaging/features/multi_gaussian_expansion.ipynb\n",
        "https://github.com/Jammy2211/autolens_workspace/blob/release/notebooks/modeling/imaging/features/shapelets.ipynb\n",
        "\n",
        "__Model Linking (Advanced)__\n",
        "\n",
        "When performing non-linear search chaining, the inferred model of one phase can be linked to the model.\n",
        "\n",
        "The following example notebooks show how to compose and fit these models:\n",
        "\n",
        "https://github.com/Jammy2211/autolens_workspace/blob/release/notebooks/imaging/advanced/chaining/start_here.ipynb\n",
        "\n",
        "__Across Datasets (Advanced)__\n",
        "\n",
        "When fitting multiple datasets, model can be composed where the same model component are used across the datasets\n",
        "but certain parameters are free to vary across the datasets.\n",
        "\n",
        "The following example notebooks show how to compose and fit these models:\n",
        "\n",
        "https://github.com/Jammy2211/autolens_workspace/blob/release/notebooks/multi/modeling/start_here.ipynb\n",
        "\n",
        "__Relations (Advanced)__\n",
        "\n",
        "We can compose models where the free parameter(s) vary according to a user-specified function \n",
        "(e.g. y = mx +c -> effective_radius = (m * wavelength) + c across the datasets.\n",
        "\n",
        "The following example notebooks show how to compose and fit these models:\n",
        "\n",
        "https://github.com/Jammy2211/autolens_workspace/blob/release/notebooks/multi/modeling/features/wavelength_dependence.ipynb\n",
        "\n",
        "__PyAutoFit API__\n",
        "\n",
        "**PyAutoFit** is a general model composition library which offers even more ways to compose lens models not\n",
        "detailed in this cookbook.\n",
        "\n",
        "The **PyAutoFit** model composition cookbooks detail this API in more detail:\n",
        "\n",
        "https://pyautofit.readthedocs.io/en/latest/cookbooks/model.html\n",
        "https://pyautofit.readthedocs.io/en/latest/cookbooks/multi_level_model.html\n",
        "\n",
        "__Wrap Up__\n",
        "\n",
        "This cookbook shows how to compose simple lens models using the `af.Model()` and `af.Collection()` objects."
      ]
    },
    {
      "cell_type": "code",
      "metadata": {},
      "source": [],
      "outputs": [],
      "execution_count": null
    }
  ],
  "metadata": {
    "anaconda-cloud": {},
    "kernelspec": {
      "display_name": "Python 3",
      "language": "python",
      "name": "python3"
    },
    "language_info": {
      "codemirror_mode": {
        "name": "ipython",
        "version": 3
      },
      "file_extension": ".py",
      "mimetype": "text/x-python",
      "name": "python",
      "nbconvert_exporter": "python",
      "pygments_lexer": "ipython3",
      "version": "3.6.1"
    }
  },
  "nbformat": 4,
  "nbformat_minor": 4
}