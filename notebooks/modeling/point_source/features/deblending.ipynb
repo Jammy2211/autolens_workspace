{
  "cells": [
    {
      "cell_type": "markdown",
      "metadata": {},
      "source": [
        "Modeling Features: Deblending\n",
        "=============================\n",
        "\n",
        "The image-plane multiple-image positions of a lensed point source (e.g. a quasar or supernova) are used as the\n",
        "dataset in point-source modeling. For example, simulated values were input into the `PointDataset` object in the\n",
        "`point_source/modeling/start_here.ipynb` example.\n",
        "\n",
        "These positions must first be measured from imaging data of the lensed point-source. A simple way to do this is\n",
        "to locate the brightest 2 or 4 pixels of the lensed point-source (e.g. via a GUI or ds9) and use these values\n",
        "as the positions. \n",
        "\n",
        "For many users this will be sufficient, however it has downsides:\n",
        "\n",
        "- It does not provide sub-pixel precision on the positions.\n",
        "\n",
        "- It does not account for the Point Spread Function.\n",
        "\n",
        "It also does not measure the following quantities at all:\n",
        "\n",
        "- The flux of each lensed point source (it provides an estimate via the brightest pixel fluxes, but proper deblending\n",
        "of the PSF is key for accurate flux measurements).\n",
        "\n",
        "- Any properties of the lens galaxy's light, which is blended with the lensed point source images.\n",
        "\n",
        "In this example, we perform this deblending so that we can accurately measure the point-source positions, fluxes and\n",
        "properties of the lens galaxy's light.\n",
        "\n",
        "__Image Plane Multiple Images__\n",
        "\n",
        "When fitting the `Imaging` dataset in order to deblend the lensed point-source images and lens galaxies, the four\n",
        "multiple images of the lensed point source are modeled in the image-plane, using four independent light profiles.\n",
        "\n",
        "This means the model does not place a point-source in the source-plane, and does not use ray-tracing to determine its\n",
        "image-plane multiple images and fluxes.\n",
        "\n",
        "The reason for this is due to a phenomenon called 'micro lensing'. In brief, each multiple image of the lensed\n",
        "point source will have its magnification boosted or reduced by stars in the lens galaxy. This lensing effect is\n",
        "extremely difficult to model accurately in the lens galaxy's mass model. This means that if we modeled the lensed point\n",
        "source in the source-plane, we would not be able to accurately measure its fluxes.\n",
        "\n",
        "By fitting each multiple image in the image-plane, the effects of micro lensing on each multiple image are accounted\n",
        "for in the deblending process by the `intensity` of each light profile being free parameters in the model. Micro\n",
        "lensing is also why `fluxes` are typically not used to fit point source lens models.\n",
        "\n",
        "__Point Source Host Galaxy__\n",
        "\n",
        "For high quality imaging of a lensed point source, the light from the point source's host galaxy may also be visible.\n",
        "The deblending procedure illustrated in this script can also therefore be used to extract and model the host galaxy's\n",
        "light.\n",
        "\n",
        "We do not perform any deblending of the lensed point source's host source galaxy, because it requires a more\n",
        "sophisticated analysis. An example script for doing this is not currently available, but if it would be useful for\n",
        "you please contact me on SLACK and I can write it!\n",
        "\n",
        "__Imaging__\n",
        "\n",
        "This example script fits `Imaging` data, using many of the features described in the `modeling/imaging` workspace\n",
        "examples.\n",
        "\n",
        "It also uses the following features described in the `modeling/imaging/features` workspace examples:\n",
        "\n",
        "- `linear_light_profiles.py`: The model includes light profiles which use linear algebra to solve for their\n",
        "   intensity, reducing model complexity.\n",
        "\n",
        "- `advanced/operated_light_profiles.py`: There are light profiles which are assumed to already be convolved with\n",
        "  the instrumental PSF (e.g. point sources), commonly used for modeling bright AGN in the centre of a galaxy.\n",
        "\n",
        "It is recommended you are familiar with imaging modeling and these features before reading this example.\n",
        "\n",
        "However, you would probably be able to use and adapt this script to your use-case even if you are not.\n",
        "\n",
        "__Model__\n",
        "\n",
        "This script fits an `Imaging` dataset of a 'galaxy-scale' point-source strong lens with a model where:\n",
        "\n",
        " - The lens galaxy's light is a parametric linear `Sersic` bulge.\n",
        " - The multiple images of the lensed source are each fitted with a `Gaussian` operated linear light profile.\n",
        "\n",
        "__Start Here Notebook__\n",
        "\n",
        "If any code in this script is unclear, refer to the `modeling/start_here.ipynb` notebook."
      ]
    },
    {
      "cell_type": "code",
      "metadata": {},
      "source": [
        "%matplotlib inline\n",
        "from pyprojroot import here\n",
        "workspace_path = str(here())\n",
        "%cd $workspace_path\n",
        "print(f\"Working Directory has been set to `{workspace_path}`\")\n",
        "\n",
        "from os import path\n",
        "import autofit as af\n",
        "import autolens as al\n",
        "import autolens.plot as aplt"
      ],
      "outputs": [],
      "execution_count": null
    },
    {
      "cell_type": "markdown",
      "metadata": {},
      "source": [
        "__Dataset__\n",
        "\n",
        "Load and plot the strong lens dataset `deblending` via .fits files."
      ]
    },
    {
      "cell_type": "code",
      "metadata": {},
      "source": [
        "dataset_name = \"deblending\"\n",
        "dataset_path = path.join(\"dataset\", \"point_source\", dataset_name)\n",
        "\n",
        "dataset = al.Imaging.from_fits(\n",
        "    data_path=path.join(dataset_path, \"data.fits\"),\n",
        "    psf_path=path.join(dataset_path, \"psf.fits\"),\n",
        "    noise_map_path=path.join(dataset_path, \"noise_map.fits\"),\n",
        "    pixel_scales=0.1,\n",
        ")\n",
        "\n",
        "dataset_plotter = aplt.ImagingPlotter(dataset=dataset)\n",
        "dataset_plotter.subplot_dataset()"
      ],
      "outputs": [],
      "execution_count": null
    },
    {
      "cell_type": "markdown",
      "metadata": {},
      "source": [
        "__Mask__\n",
        "\n",
        "Define a 3.0\" circular mask, which includes the emission of the lens and lensed point-sources."
      ]
    },
    {
      "cell_type": "code",
      "metadata": {},
      "source": [
        "mask = al.Mask2D.circular(\n",
        "    shape_native=dataset.shape_native, pixel_scales=dataset.pixel_scales, radius=3.0\n",
        ")\n",
        "\n",
        "dataset = dataset.apply_mask(mask=mask)\n",
        "\n",
        "dataset_plotter = aplt.ImagingPlotter(dataset=dataset)\n",
        "dataset_plotter.subplot_dataset()"
      ],
      "outputs": [],
      "execution_count": null
    },
    {
      "cell_type": "markdown",
      "metadata": {},
      "source": [
        "__Model__\n",
        "\n",
        "We compose a lens model where:\n",
        "\n",
        " - The lens galaxy's light is a linear parametric `Sersic` bulge [6 parameters].\n",
        " - The four image-plane multiple images of the lensed source are each fitted with a `Gaussian` operated linear light \n",
        " profile [4 x 5 = 20 parameters].\n",
        "\n",
        "The number of free parameters and therefore the dimensionality of non-linear parameter space is N=26.\n",
        "\n",
        "Note how all light profiles are linear light profiles, meaning that the `intensity` parameter of all profiles are\n",
        "not free parameters in the fit but instead are solved via linear algebra. This reduces the dimensionality of the\n",
        "non-linear parameter space by N=5.\n",
        "\n",
        "We note that our lens model therefore does not include:\n",
        "\n",
        " - A lens galaxy with a total mass distribution.\n",
        " - A source galaxy's with a light profile or point source.\n",
        "\n",
        "__Model Cookbook__\n",
        "\n",
        "A full description of model composition is provided by the model cookbook: \n",
        "\n",
        "https://pyautolens.readthedocs.io/en/latest/general/model_cookbook.html"
      ]
    },
    {
      "cell_type": "code",
      "metadata": {},
      "source": [
        "# Lens:\n",
        "\n",
        "bulge = af.Model(al.lp_linear.Sersic)\n",
        "\n",
        "# Lensed Source Multiple Images (Image-Plane):\n",
        "\n",
        "multiple_image_0 = af.Model(al.lp_linear_operated.Gaussian)\n",
        "multiple_image_1 = af.Model(al.lp_linear_operated.Gaussian)\n",
        "multiple_image_2 = af.Model(al.lp_linear_operated.Gaussian)\n",
        "multiple_image_3 = af.Model(al.lp_linear_operated.Gaussian)"
      ],
      "outputs": [],
      "execution_count": null
    },
    {
      "cell_type": "markdown",
      "metadata": {},
      "source": [
        "The model has N=26 free parameters, and is quite a complex model to fit. \n",
        "\n",
        "The different multiple image light profiles can also produce identical solutions, because each `Gaussian` point source \n",
        "can change its `centre` to fit different lensed point source images.\n",
        "\n",
        "To simplify the model and remove identical solutions, we manually set the priors on the `centre` of the lens galaxy \n",
        "light profile and each multiple image light profile to narrow uniform priors. The values of these priors are based on\n",
        "where the peak fluxes of each image appear to be located in the image plotted above."
      ]
    },
    {
      "cell_type": "code",
      "metadata": {},
      "source": [
        "bulge.centre_0 = af.UniformPrior(lower_limit=-0.1, upper_limit=0.1)\n",
        "bulge.centre_1 = af.UniformPrior(lower_limit=-0.1, upper_limit=0.1)\n",
        "\n",
        "multiple_image_0_estimate = (1.148, -1.148)\n",
        "multiple_image_1_estimate = (1.190, 1.190)\n",
        "multiple_image_2_estimate = (-1.190, -1.190)\n",
        "multiple_image_3_estimate = (-1.148, 1.148)\n",
        "\n",
        "multiple_image_width = dataset.pixel_scales[0]\n",
        "\n",
        "multiple_image_0.centre_0 = af.UniformPrior(\n",
        "    lower_limit=multiple_image_0_estimate[0] - multiple_image_width,\n",
        "    upper_limit=multiple_image_0_estimate[0] + multiple_image_width,\n",
        ")\n",
        "multiple_image_0.centre_1 = af.UniformPrior(\n",
        "    lower_limit=multiple_image_0_estimate[1] - multiple_image_width,\n",
        "    upper_limit=multiple_image_0_estimate[1] + multiple_image_width,\n",
        ")\n",
        "\n",
        "multiple_image_1.centre_0 = af.UniformPrior(\n",
        "    lower_limit=multiple_image_1_estimate[0] - multiple_image_width,\n",
        "    upper_limit=multiple_image_1_estimate[0] + multiple_image_width,\n",
        ")\n",
        "multiple_image_1.centre_1 = af.UniformPrior(\n",
        "    lower_limit=multiple_image_1_estimate[1] - multiple_image_width,\n",
        "    upper_limit=multiple_image_1_estimate[1] + multiple_image_width,\n",
        ")\n",
        "\n",
        "multiple_image_2.centre_0 = af.UniformPrior(\n",
        "    lower_limit=multiple_image_2_estimate[0] - multiple_image_width,\n",
        "    upper_limit=multiple_image_2_estimate[0] + multiple_image_width,\n",
        ")\n",
        "multiple_image_2.centre_1 = af.UniformPrior(\n",
        "    lower_limit=multiple_image_2_estimate[1] - multiple_image_width,\n",
        "    upper_limit=multiple_image_2_estimate[1] + multiple_image_width,\n",
        ")\n",
        "\n",
        "multiple_image_3.centre_0 = af.UniformPrior(\n",
        "    lower_limit=multiple_image_3_estimate[0] - multiple_image_width,\n",
        "    upper_limit=multiple_image_3_estimate[0] + multiple_image_width,\n",
        ")\n",
        "multiple_image_3.centre_1 = af.UniformPrior(\n",
        "    lower_limit=multiple_image_3_estimate[1] - multiple_image_width,\n",
        "    upper_limit=multiple_image_3_estimate[1] + multiple_image_width,\n",
        ")"
      ],
      "outputs": [],
      "execution_count": null
    },
    {
      "cell_type": "markdown",
      "metadata": {},
      "source": [
        "We now create the model, using the standard model composition API.\n",
        "\n",
        "Note that we put each multiple image light profile inside the `lens`. This is a bit of a strange syntax, but \n",
        "functionally it works.\n",
        "\n",
        "Future versions of PyAutoLens will have a more intuitive API for this, but for now we have to do it this way!"
      ]
    },
    {
      "cell_type": "code",
      "metadata": {},
      "source": [
        "# Lens\n",
        "\n",
        "lens = af.Model(\n",
        "    al.Galaxy,\n",
        "    redshift=0.5,\n",
        "    bulge=bulge,\n",
        "    multiple_image_0=multiple_image_0,\n",
        "    multiple_image_1=multiple_image_1,\n",
        "    multiple_image_2=multiple_image_2,\n",
        "    multiple_image_3=multiple_image_3,\n",
        ")\n",
        "\n",
        "# Overall Lens Model:\n",
        "\n",
        "model = af.Collection(galaxies=af.Collection(lens=lens))"
      ],
      "outputs": [],
      "execution_count": null
    },
    {
      "cell_type": "markdown",
      "metadata": {},
      "source": [
        "The `info` attribute shows the model in a readable format (if this does not display clearly on your screen refer to\n",
        "`start_here.ipynb` for a description of how to fix this).\n",
        "\n",
        "This confirms that the model only has a `lens` and that it has different components for each multiple image."
      ]
    },
    {
      "cell_type": "code",
      "metadata": {},
      "source": [
        "print(model.info)"
      ],
      "outputs": [],
      "execution_count": null
    },
    {
      "cell_type": "markdown",
      "metadata": {},
      "source": [
        "__Search__\n",
        "\n",
        "The model is fitted to the data using the nested sampling algorithm Nautilus (see `start.here.py` for a \n",
        "full description).\n",
        "\n",
        "In the `start_here.py` example 150 live points (`n_live=150`) were used to sample parameter space. For this fit\n",
        "we have a much more complex parameter space with N=26 free parameters, therefore we use 400 live points to ensure\n",
        "we thoroughly sample parameter space."
      ]
    },
    {
      "cell_type": "code",
      "metadata": {},
      "source": [
        "search = af.Nautilus(\n",
        "    path_prefix=path.join(\"point_source\", \"modeling\"),\n",
        "    name=\"deblending\",\n",
        "    unique_tag=dataset_name,\n",
        "    n_live=400,\n",
        "    number_of_cores=4,\n",
        ")"
      ],
      "outputs": [],
      "execution_count": null
    },
    {
      "cell_type": "markdown",
      "metadata": {},
      "source": [
        "__Analysis__\n",
        "\n",
        "Create the `AnalysisImaging` object defining how the via Nautilus the model is fitted to the data."
      ]
    },
    {
      "cell_type": "code",
      "metadata": {},
      "source": [
        "analysis = al.AnalysisImaging(dataset=dataset)"
      ],
      "outputs": [],
      "execution_count": null
    },
    {
      "cell_type": "markdown",
      "metadata": {},
      "source": [
        "__Run Time__\n",
        "\n",
        "For standard light profiles, the log likelihood evaluation time is of order ~0.01 seconds for this dataset.\n",
        "\n",
        "For linear light profiles, the log likelihood evaluation increases to around ~0.05 seconds per likelihood evaluation.\n",
        "This is still fast, but it does mean that the fit may take around five times longer to run.\n",
        "\n",
        "The run time to perform deblending are therefore still relatively fast."
      ]
    },
    {
      "cell_type": "code",
      "metadata": {},
      "source": [
        "run_time_dict, info_dict = analysis.profile_log_likelihood_function(\n",
        "    instance=model.random_instance()\n",
        ")\n",
        "\n",
        "print(f\"Log Likelihood Evaluation Time (second) = {run_time_dict['fit_time']}\")\n",
        "print(\n",
        "    \"Estimated Run Time Upper Limit (seconds) = \",\n",
        "    (run_time_dict[\"fit_time\"] * model.total_free_parameters * 10000)\n",
        "    / search.number_of_cores,\n",
        ")"
      ],
      "outputs": [],
      "execution_count": null
    },
    {
      "cell_type": "markdown",
      "metadata": {},
      "source": [
        "__Model-Fit__\n",
        "\n",
        "We begin the model-fit by passing the model and analysis object to the non-linear search (checkout the output folder\n",
        "for on-the-fly visualization and results)."
      ]
    },
    {
      "cell_type": "code",
      "metadata": {},
      "source": [
        "result = search.fit(model=model, analysis=analysis)"
      ],
      "outputs": [],
      "execution_count": null
    },
    {
      "cell_type": "markdown",
      "metadata": {},
      "source": [
        "__Result__\n",
        "\n",
        "The `info` attribute shows the model in a readable format (if this does not display clearly on your screen refer to\n",
        "`start_here.ipynb` for a description of how to fix this).\n",
        "\n",
        "This confirms that `intensity` parameters are not inferred by the model-fit."
      ]
    },
    {
      "cell_type": "code",
      "metadata": {},
      "source": [
        "print(result.info)"
      ],
      "outputs": [],
      "execution_count": null
    },
    {
      "cell_type": "markdown",
      "metadata": {},
      "source": [
        "We plot the maximum likelihood fit, tracer images and posteriors inferred via Nautilus.\n",
        "\n",
        "The lens and source galaxies appear similar to those in the data, confirming that the `intensity` values inferred by\n",
        "the inversion process are accurate."
      ]
    },
    {
      "cell_type": "code",
      "metadata": {},
      "source": [
        "print(result.max_log_likelihood_instance)\n",
        "\n",
        "tracer_plotter = aplt.TracerPlotter(\n",
        "    tracer=result.max_log_likelihood_tracer, grid=result.grids.uniform\n",
        ")\n",
        "tracer_plotter.subplot_tracer()\n",
        "\n",
        "fit_plotter = aplt.FitImagingPlotter(fit=result.max_log_likelihood_fit)\n",
        "fit_plotter.subplot_fit()\n",
        "\n",
        "plotter = aplt.NestPlotter(samples=result.samples)\n",
        "plotter.corner_anesthetic()"
      ],
      "outputs": [],
      "execution_count": null
    },
    {
      "cell_type": "markdown",
      "metadata": {},
      "source": [
        "__Point Source__\n",
        "\n",
        "After the analysis above is complete, the lens model infers the following information: \n",
        "\n",
        "- The `centre` parameter of each multiple image `Gaussian` is the (y,x) image-plane coordinate of each lensed point \n",
        "  source. These values provide sub-pixel precision, because they fully account for the shape and blending of the PSF. \n",
        "  Using these as a `positions` of point-source mass modeling will also produce a more accurate lens model.\n",
        "\n",
        "- The `intensity` value of each `Gaussian` estimates the flux of each point source. The `fluxes` are typically not\n",
        "  used in point-source modeling as they are subject to microlensing, but this analysis nevertheless does measure them.\n",
        "  \n",
        " - The lens galaxy's properties are measured via this analysis.\n",
        "\n",
        "The lensed source image-plane positions, inferred to sub-pixel precision, are printed below and output to a \n",
        "`PointDataset` object and .json file.\n",
        "\n",
        "They can be used as input positions in a point-source model-fit, using an identical API to \n",
        "the `point_source/modeling/start_here.ipynb` example, to perform mass modeling of the point source dataset."
      ]
    },
    {
      "cell_type": "code",
      "metadata": {},
      "source": [],
      "outputs": [],
      "execution_count": null
    }
  ],
  "metadata": {
    "anaconda-cloud": {},
    "kernelspec": {
      "display_name": "Python 3",
      "language": "python",
      "name": "python3"
    },
    "language_info": {
      "codemirror_mode": {
        "name": "ipython",
        "version": 3
      },
      "file_extension": ".py",
      "mimetype": "text/x-python",
      "name": "python",
      "nbconvert_exporter": "python",
      "pygments_lexer": "ipython3",
      "version": "3.6.1"
    }
  },
  "nbformat": 4,
  "nbformat_minor": 4
}