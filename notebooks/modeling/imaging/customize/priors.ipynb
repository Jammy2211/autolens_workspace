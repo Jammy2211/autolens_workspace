{
  "cells": [
    {
      "cell_type": "markdown",
      "metadata": {},
      "source": [
        "Customize: Priors\n",
        "=================\n",
        "\n",
        "This example demonstrates how to customize the priors of a model-fit, for example if you are modeling a lens where\n",
        "certain parameters are known before.\n",
        "\n",
        "__Advantages__\n",
        "\n",
        "If you are having difficulty fitting an accurate lens model, but have a previous estimate of the model from another\n",
        "analysis or strong intiution from inspecting the data what values certain parameters should be, customizing the priors\n",
        "of the model-fit may ensure you infer an accurate model-fit.\n",
        "\n",
        "Custom Priors result in a computationally faster model-fit, provided the priors are sufficiently tight.\n",
        "\n",
        "__Disadvantages__\n",
        "\n",
        "The priors on your model determine the errors you infer. Overly tight priors may lead to over-confidence in the\n",
        "inferred parameters.\n",
        "\n",
        "If you are using your intuition to customize the priors, the priors you manually input may not be accurate.\n",
        "\n",
        "__Start Point__\n",
        "\n",
        "The `autolens_workspace/*/modeling/imaging/customize/start_point.ipynb` shows an alternative API, which\n",
        "customizes where the non-linear search starts its search of parameter space.\n",
        "\n",
        "This cannot be used for a nested sampling method like `Nautilus` (whose parameter space search is dictated by priors)\n",
        "but can be used for the maximum likelihood estimator / MCMC methods PyAutoGalaxy supports.\n",
        "\n",
        "The benefit of the starting point API is that one can tell the non-linear search where to look in parameter space\n",
        "(ensuring a fast and robust fit) but retain uniformative priors which will not lead to over-confident errors.\n",
        "\n",
        "__Start Here Notebook__\n",
        "\n",
        "If any code in this script is unclear, refer to the `modeling/start_here.ipynb` notebook."
      ]
    },
    {
      "cell_type": "code",
      "metadata": {},
      "source": [
        "%matplotlib inline\n",
        "from pyprojroot import here\n",
        "workspace_path = str(here())\n",
        "%cd $workspace_path\n",
        "print(f\"Working Directory has been set to `{workspace_path}`\")\n",
        "\n",
        "from os import path\n",
        "import autofit as af\n",
        "import autolens as al\n",
        "import autolens.plot as aplt"
      ],
      "outputs": [],
      "execution_count": null
    },
    {
      "cell_type": "markdown",
      "metadata": {},
      "source": [
        "__Dataset__\n",
        "\n",
        "Load and plot the strong lens dataset `simple__no_lens_light` via .fits files."
      ]
    },
    {
      "cell_type": "code",
      "metadata": {},
      "source": [
        "dataset_name = \"simple__no_lens_light\"\n",
        "dataset_path = path.join(\"dataset\", \"imaging\", dataset_name)\n",
        "\n",
        "dataset = al.Imaging.from_fits(\n",
        "    data_path=path.join(dataset_path, \"data.fits\"),\n",
        "    psf_path=path.join(dataset_path, \"psf.fits\"),\n",
        "    noise_map_path=path.join(dataset_path, \"noise_map.fits\"),\n",
        "    pixel_scales=0.1,\n",
        ")\n",
        "\n",
        "dataset_plotter = aplt.ImagingPlotter(dataset=dataset)\n",
        "dataset_plotter.subplot_dataset()"
      ],
      "outputs": [],
      "execution_count": null
    },
    {
      "cell_type": "markdown",
      "metadata": {},
      "source": [
        "__Mask__\n",
        "\n",
        "The model-fit requires a `Mask2D` defining the regions of the image we fit the model to the data, which we define\n",
        "and use to set up the `Imaging` object that the model fits."
      ]
    },
    {
      "cell_type": "code",
      "metadata": {},
      "source": [
        "mask = al.Mask2D.circular(\n",
        "    shape_native=dataset.shape_native, pixel_scales=dataset.pixel_scales, radius=3.0\n",
        ")\n",
        "\n",
        "dataset = dataset.apply_mask(mask=mask)\n",
        "\n",
        "dataset_plotter = aplt.ImagingPlotter(dataset=dataset)\n",
        "dataset_plotter.subplot_dataset()"
      ],
      "outputs": [],
      "execution_count": null
    },
    {
      "cell_type": "markdown",
      "metadata": {},
      "source": [
        "__Model__\n",
        "\n",
        "We compose a lens model where:\n",
        "\n",
        " - The lens galaxy's total mass distribution is an `Isothermal` and `ExternalShear` [7 parameters].\n",
        " \n",
        " - The source galaxy's light is a linear parametric `SersicCore` [6 parameters].\n",
        "\n",
        "The number of free parameters and therefore the dimensionality of non-linear parameter space is N=14.\n",
        " \n",
        "__Prior Customization__\n",
        " \n",
        "We customize the parameter of every prior to values near the true values, using the following priors:\n",
        "\n",
        "- UniformPrior: The values of a parameter are randomly drawn between a `lower_limit` and `upper_limit`. For example,\n",
        "the effective radius of ellipitical Sersic profiles typically assumes a uniform prior between 0.0\" and 30.0\".\n",
        "\n",
        "- LogUniformPrior: Like a `UniformPrior` this randomly draws values between a `limit_limit` and `upper_limit`, but the\n",
        "values are drawn from a distribution with base 10. This is used for the `intensity` of a light profile, as the\n",
        "luminosity of galaxies follows a log10 distribution.\n",
        "\n",
        "- GaussianPrior: The values of a parameter are randomly drawn from a Gaussian distribution with a `mean` and width\n",
        " `sigma`. For example, the $y$ and $x$ centre values in a light profile typically assume a mean of 0.0\" and a\n",
        " sigma of 0.3\", indicating that we expect the profile centre to be located near the centre of the image.\n",
        " \n",
        "The API below can easily be adapted to customize the priors on a `disk` component, for example by simply making it\n",
        "a `Model`. "
      ]
    },
    {
      "cell_type": "code",
      "metadata": {},
      "source": [
        "# Lens:\n",
        "\n",
        "mass = af.Model(al.mp.Isothermal)\n",
        "\n",
        "mass.centre_0 = af.UniformPrior(lower_limit=-0.05, upper_limit=0.05)\n",
        "mass.centre_1 = af.UniformPrior(lower_limit=-0.05, upper_limit=0.05)\n",
        "mass.ell_comps.ell_comps_0 = af.GaussianPrior(\n",
        "    mean=0.05, sigma=0.2, lower_limit=-1.0, upper_limit=1.0\n",
        ")\n",
        "mass.ell_comps.ell_comps_1 = af.GaussianPrior(\n",
        "    mean=0.05, sigma=0.2, lower_limit=-1.0, upper_limit=1.0\n",
        ")\n",
        "mass.einstein_radius = af.UniformPrior(lower_limit=1.4, upper_limit=1.8)\n",
        "\n",
        "\n",
        "shear = af.Model(al.mp.ExternalShear)\n",
        "\n",
        "shear.gamma_1 = af.GaussianPrior(\n",
        "    mean=0.05, sigma=0.2, lower_limit=-1.0, upper_limit=1.0\n",
        ")\n",
        "shear.gamma_2 = af.GaussianPrior(\n",
        "    mean=0.05, sigma=0.2, lower_limit=-1.0, upper_limit=1.0\n",
        ")\n",
        "\n",
        "lens = af.Model(\n",
        "    al.Galaxy, redshift=0.5, mass=al.mp.Isothermal, shear=al.mp.ExternalShear\n",
        ")\n",
        "\n",
        "# Source:\n",
        "\n",
        "bulge = af.Model(al.lp_linear.SersicCore)\n",
        "\n",
        "bulge.centre_0 = af.UniformPrior(lower_limit=-0.1, upper_limit=0.1)\n",
        "bulge.centre_1 = af.UniformPrior(lower_limit=-0.1, upper_limit=0.1)\n",
        "bulge.ell_comps.ell_comps_0 = af.GaussianPrior(\n",
        "    mean=0.11, sigma=0.2, lower_limit=-1.0, upper_limit=1.0\n",
        ")\n",
        "bulge.ell_comps.ell_comps_1 = af.GaussianPrior(\n",
        "    mean=0.05, sigma=0.2, lower_limit=-1.0, upper_limit=1.0\n",
        ")\n",
        "bulge.effective_radius = af.UniformPrior(lower_limit=0.05, upper_limit=0.15)\n",
        "bulge.sersic_index = af.GaussianPrior(mean=1.0, sigma=0.5)\n",
        "\n",
        "\n",
        "source = af.Model(al.Galaxy, redshift=1.0, bulge=bulge)\n",
        "\n",
        "# Overall Lens Model:\n",
        "\n",
        "model = af.Collection(galaxies=af.Collection(lens=lens, source=source))"
      ],
      "outputs": [],
      "execution_count": null
    },
    {
      "cell_type": "markdown",
      "metadata": {},
      "source": [
        "The `info` attribute shows the model in a readable format, including the customized priors above."
      ]
    },
    {
      "cell_type": "code",
      "metadata": {},
      "source": [
        "print(model.info)"
      ],
      "outputs": [],
      "execution_count": null
    },
    {
      "cell_type": "markdown",
      "metadata": {},
      "source": [
        "The info of individual model components can also be printed."
      ]
    },
    {
      "cell_type": "code",
      "metadata": {},
      "source": [
        "print(bulge.info)"
      ],
      "outputs": [],
      "execution_count": null
    },
    {
      "cell_type": "markdown",
      "metadata": {},
      "source": [
        "__Alternative API__\n",
        "\n",
        "The priors can also be customized after the `lens` and `source` model object are created instead."
      ]
    },
    {
      "cell_type": "code",
      "metadata": {},
      "source": [
        "lens = af.Model(\n",
        "    al.Galaxy, redshift=0.5, mass=al.mp.Isothermal, shear=al.mp.ExternalShear\n",
        ")\n",
        "\n",
        "\n",
        "lens.mass.centre_0 = af.UniformPrior(lower_limit=-0.05, upper_limit=0.05)\n",
        "lens.mass.centre_1 = af.UniformPrior(lower_limit=-0.05, upper_limit=0.05)\n",
        "lens.mass.ell_comps.ell_comps_0 = af.GaussianPrior(\n",
        "    mean=0.05, sigma=0.2, lower_limit=-1.0, upper_limit=1.0\n",
        ")\n",
        "lens.mass.ell_comps.ell_comps_1 = af.GaussianPrior(\n",
        "    mean=0.05, sigma=0.2, lower_limit=-1.0, upper_limit=1.0\n",
        ")\n",
        "lens.mass.einstein_radius = af.UniformPrior(lower_limit=1.4, upper_limit=1.8)\n",
        "\n",
        "\n",
        "lens.shear.gamma_1 = af.GaussianPrior(\n",
        "    mean=0.05, sigma=0.2, lower_limit=-1.0, upper_limit=1.0\n",
        ")\n",
        "lens.shear.gamma_2 = af.GaussianPrior(\n",
        "    mean=0.05, sigma=0.2, lower_limit=-1.0, upper_limit=1.0\n",
        ")\n",
        "\n",
        "\n",
        "source = af.Model(al.Galaxy, redshift=1.0, bulge=al.lp_linear.SersicCore)\n",
        "\n",
        "source.bulge.centre_0 = af.UniformPrior(lower_limit=-0.1, upper_limit=0.1)\n",
        "source.bulge.centre_1 = af.UniformPrior(lower_limit=-0.1, upper_limit=0.1)\n",
        "source.bulge.ell_comps.ell_comps_0 = af.GaussianPrior(\n",
        "    mean=0.11, sigma=0.2, lower_limit=-1.0, upper_limit=1.0\n",
        ")\n",
        "source.bulge.ell_comps.ell_comps_1 = af.GaussianPrior(\n",
        "    mean=0.05, sigma=0.2, lower_limit=-1.0, upper_limit=1.0\n",
        ")\n",
        "source.bulge.effective_radius = af.UniformPrior(lower_limit=0.05, upper_limit=0.15)\n",
        "source.bulge.sersic_index = af.GaussianPrior(mean=1.0, sigma=0.5)"
      ],
      "outputs": [],
      "execution_count": null
    },
    {
      "cell_type": "markdown",
      "metadata": {},
      "source": [
        "The `info` attribute shows the model in a readable format, including the customized priors above."
      ]
    },
    {
      "cell_type": "code",
      "metadata": {},
      "source": [
        "print(lens.info)\n",
        "print(source.info)"
      ],
      "outputs": [],
      "execution_count": null
    },
    {
      "cell_type": "markdown",
      "metadata": {},
      "source": [
        "We could also customize the priors after the creation of the whole model.\n",
        "\n",
        "Note that you can mix and match any of the API's above, and different styles will lead to concise and readable\n",
        "code in different circumstances."
      ]
    },
    {
      "cell_type": "code",
      "metadata": {},
      "source": [
        "# Lens:\n",
        "\n",
        "mass = af.Model(al.mp.Isothermal)\n",
        "shear = af.Model(al.mp.ExternalShear)\n",
        "\n",
        "lens = af.Model(al.Galaxy, redshift=0.5, mass=mass, shear=shear)\n",
        "\n",
        "# Source:\n",
        "\n",
        "source = af.Model(al.Galaxy, redshift=1.0, bulge=al.lp_linear.SersicCore)\n",
        "\n",
        "# Overall Lens Model:\n",
        "\n",
        "model = af.Collection(galaxies=af.Collection(lens=lens, source=source))\n",
        "\n",
        "\n",
        "model.galaxies.lens.mass.centre_0 = af.UniformPrior(lower_limit=-0.05, upper_limit=0.05)\n",
        "model.galaxies.lens.mass.centre_1 = af.UniformPrior(lower_limit=-0.05, upper_limit=0.05)\n",
        "model.galaxies.lens.mass.ell_comps.ell_comps_0 = af.GaussianPrior(\n",
        "    mean=0.05, sigma=0.2, lower_limit=-1.0, upper_limit=1.0\n",
        ")\n",
        "model.galaxies.lens.mass.ell_comps.ell_comps_1 = af.GaussianPrior(\n",
        "    mean=0.05, sigma=0.2, lower_limit=-1.0, upper_limit=1.0\n",
        ")\n",
        "model.galaxies.lens.mass.einstein_radius = af.UniformPrior(\n",
        "    lower_limit=1.4, upper_limit=1.8\n",
        ")\n",
        "\n",
        "\n",
        "model.galaxies.lens.shear.gamma_1 = af.GaussianPrior(\n",
        "    mean=0.05, sigma=0.2, lower_limit=-1.0, upper_limit=1.0\n",
        ")\n",
        "model.galaxies.lens.shear.gamma_2 = af.GaussianPrior(\n",
        "    mean=0.05, sigma=0.2, lower_limit=-1.0, upper_limit=1.0\n",
        ")\n",
        "\n",
        "\n",
        "model.galaxies.source.bulge.centre_0 = af.UniformPrior(\n",
        "    lower_limit=-0.1, upper_limit=0.1\n",
        ")\n",
        "model.galaxies.source.bulge.centre_1 = af.UniformPrior(\n",
        "    lower_limit=-0.1, upper_limit=0.1\n",
        ")\n",
        "model.galaxies.source.bulge.ell_comps.ell_comps_0 = af.GaussianPrior(\n",
        "    mean=0.11, sigma=0.2, lower_limit=-1.0, upper_limit=1.0\n",
        ")\n",
        "model.galaxies.source.bulge.ell_comps.ell_comps_1 = af.GaussianPrior(\n",
        "    mean=0.05, sigma=0.2, lower_limit=-1.0, upper_limit=1.0\n",
        ")\n",
        "model.galaxies.source.bulge.effective_radius = af.UniformPrior(\n",
        "    lower_limit=0.05, upper_limit=0.15\n",
        ")\n",
        "model.galaxies.source.bulge.sersic_index = af.GaussianPrior(mean=1.0, sigma=0.5)"
      ],
      "outputs": [],
      "execution_count": null
    },
    {
      "cell_type": "markdown",
      "metadata": {},
      "source": [
        "The `info` attribute shows the model in a readable format, including the customized priors above."
      ]
    },
    {
      "cell_type": "code",
      "metadata": {},
      "source": [
        "print(model.info)"
      ],
      "outputs": [],
      "execution_count": null
    },
    {
      "cell_type": "markdown",
      "metadata": {},
      "source": [
        "__Search + Analysis + Model-Fit__\n",
        "\n",
        "The code below performs the normal steps to set up a model-fit. We omit comments of this code as you should be \n",
        "familiar with it and it is not specific to this example!"
      ]
    },
    {
      "cell_type": "code",
      "metadata": {},
      "source": [
        "search = af.Nautilus(\n",
        "    path_prefix=path.join(\"imaging\", \"customize\"),\n",
        "    name=\"priors\",\n",
        "    unique_tag=dataset_name,\n",
        "    n_live=150,\n",
        "    number_of_cores=1,\n",
        ")\n",
        "\n",
        "\n",
        "analysis = al.AnalysisImaging(dataset=dataset)\n",
        "\n",
        "result = search.fit(model=model, analysis=analysis)"
      ],
      "outputs": [],
      "execution_count": null
    },
    {
      "cell_type": "markdown",
      "metadata": {},
      "source": [
        "By inspecting the `model.info` file of this fit we can confirm the above priors were used. "
      ]
    },
    {
      "cell_type": "code",
      "metadata": {},
      "source": [],
      "outputs": [],
      "execution_count": null
    }
  ],
  "metadata": {
    "anaconda-cloud": {},
    "kernelspec": {
      "display_name": "Python 3",
      "language": "python",
      "name": "python3"
    },
    "language_info": {
      "codemirror_mode": {
        "name": "ipython",
        "version": 3
      },
      "file_extension": ".py",
      "mimetype": "text/x-python",
      "name": "python",
      "nbconvert_exporter": "python",
      "pygments_lexer": "ipython3",
      "version": "3.6.1"
    }
  },
  "nbformat": 4,
  "nbformat_minor": 4
}