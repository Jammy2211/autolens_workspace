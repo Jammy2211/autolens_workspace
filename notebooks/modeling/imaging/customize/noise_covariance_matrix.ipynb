{
  "cells": [
    {
      "cell_type": "markdown",
      "metadata": {},
      "source": [
        "Customize: Noise Covariance Matrix\n",
        "==================================\n",
        "\n",
        "This example demonstrates how to account for correlated noise in a dataset, using a noise covariance matrix. This\n",
        "changes the goodness-of-fit measure (the chi-squared term of the log likelihood function).\n",
        "\n",
        "__Advantages__\n",
        "\n",
        "For datasets with high amounts of correlated noise, this will give a more accurate analysis.\n",
        "\n",
        "__Disadvantages__\n",
        "\n",
        "It can be challenging to properly measure the noise covariance matrix and for high resolution datasets\n",
        "can pose issues in terms of storing the matrix in memory.\n",
        "\n",
        "__Visualization__\n",
        "\n",
        "It is difficult to visualize quantities like the `normalized_residual_map` and `chi_squared_map` in a way that\n",
        "illustrates the noise covariance.\n",
        "\n",
        "These quantities are therefore visualized using the diagonal of the `noise_covariance_matrix`.\n",
        "\n",
        "Because these visuals do not account for noise covariance, they are not fully representative of the overall fit to\n",
        "the data.\n",
        "\n",
        "__Inversions__\n",
        "\n",
        "Only fits using regular light profiles support noise covariance fits. Inversions (e.g. using linear light profiles\n",
        "or a pixelization) do not support noise covariance, as it is not currently accounted for in the linear algebra\n",
        "calculations.\n",
        "\n",
        "__Start Here Notebook__\n",
        "\n",
        "If any code in this script is unclear, refer to the `modeling/start_here.ipynb` notebook."
      ]
    },
    {
      "cell_type": "code",
      "metadata": {},
      "source": [
        "%matplotlib inline\n",
        "from pyprojroot import here\n",
        "workspace_path = str(here())\n",
        "%cd $workspace_path\n",
        "print(f\"Working Directory has been set to `{workspace_path}`\")\n",
        "\n",
        "import numpy as np\n",
        "from os import path\n",
        "import autofit as af\n",
        "import autolens as al\n",
        "import autolens.plot as aplt"
      ],
      "outputs": [],
      "execution_count": null
    },
    {
      "cell_type": "markdown",
      "metadata": {},
      "source": [
        "__Noise Covariance Matrix__\n",
        "\n",
        "We define our noise covariance matrix, which has shape of [image_pixels, image_pixels] in the data. \n",
        "\n",
        "For this simple example, we define a noise covariance matrix where: \n",
        "\n",
        " - All values on the diagonal are 1.\n",
        " - All values on the neighboring diagonals are 0.5, meaning there is covariance between image-pixels are their\n",
        " neighbors.\n",
        " - All other values are zero, meaning covariance does not stretch beyond only neighboring image-pixels.\n",
        "\n",
        "For your science, you will have likely estimated the noise-covariance matrix during the data reductions and would load\n",
        "it below from a saved NumPy array or other storage format."
      ]
    },
    {
      "cell_type": "code",
      "metadata": {},
      "source": [
        "image_shape_native = (100, 100)\n",
        "total_image_pixels = image_shape_native[0] * image_shape_native[1]\n",
        "\n",
        "noise_covariance_matrix = np.zeros(shape=(total_image_pixels, total_image_pixels))\n",
        "\n",
        "for i in range(total_image_pixels):\n",
        "    noise_covariance_matrix[i, i] = 1.0\n",
        "\n",
        "for i in range(total_image_pixels - 1):\n",
        "    noise_covariance_matrix[i + 1, i] = 0.5\n",
        "    noise_covariance_matrix[i, i + 1] = 0.5"
      ],
      "outputs": [],
      "execution_count": null
    },
    {
      "cell_type": "markdown",
      "metadata": {},
      "source": [
        "__Dataset__\n",
        "\n",
        "Load and plot the strong lens dataset `simple__no_lens_light` via .fits files  zoom_around_mask: true            # If True, plots of data structures with a mask automatically zoom in the masked region.\n",
        "\n",
        "Note how below we include the noise covariance matrix as part of the input."
      ]
    },
    {
      "cell_type": "code",
      "metadata": {},
      "source": [
        "dataset_name = \"simple__no_lens_light\"\n",
        "dataset_path = path.join(\"dataset\", \"imaging\", dataset_name)\n",
        "\n",
        "dataset = al.Imaging.from_fits(\n",
        "    data_path=path.join(dataset_path, \"data.fits\"),\n",
        "    psf_path=path.join(dataset_path, \"psf.fits\"),\n",
        "    noise_map_path=path.join(dataset_path, \"noise_map.fits\"),\n",
        "    pixel_scales=0.1,\n",
        "    noise_covariance_matrix=noise_covariance_matrix,\n",
        ")"
      ],
      "outputs": [],
      "execution_count": null
    },
    {
      "cell_type": "markdown",
      "metadata": {},
      "source": [
        "__Mask__\n",
        "\n",
        "The model-fit requires a `Mask2D` defining the regions of the image we fit the model to the data, which we define\n",
        "and use to set up the `Imaging` object that the model fits.\n",
        "\n",
        "The mask is also applied to the `noise_covariance_matrix`, to ensure only covariance within the mask is accounted for.\n",
        "\n",
        "This changes the `noise_covariance_matrix` from `shape=(total_image_pixels, total_image_pixels)` to \n",
        "`shape=`pixels_in_mask, pixels_in_mask`)."
      ]
    },
    {
      "cell_type": "code",
      "metadata": {},
      "source": [
        "mask = al.Mask2D.circular(\n",
        "    shape_native=dataset.shape_native, pixel_scales=dataset.pixel_scales, radius=3.0\n",
        ")\n",
        "\n",
        "print(dataset.noise_covariance_matrix.shape)\n",
        "\n",
        "dataset = dataset.apply_mask(mask=mask)\n",
        "\n",
        "print(dataset.noise_covariance_matrix.shape)"
      ],
      "outputs": [],
      "execution_count": null
    },
    {
      "cell_type": "markdown",
      "metadata": {},
      "source": [
        "__Model + Search + Analysis__ \n",
        "\n",
        "The code below performs the normal steps to set up a model-fit. We omit comments of this code as you should be \n",
        "familiar with it and it is not specific to this example!\n",
        "\n",
        "This model-fit implicitly uses the noise covariance matrix when computing the chi-squared and log likelihood!"
      ]
    },
    {
      "cell_type": "code",
      "metadata": {},
      "source": [
        "# Lens:\n",
        "\n",
        "mass = af.Model(al.mp.Isothermal)\n",
        "\n",
        "lens = af.Model(al.Galaxy, redshift=0.5, mass=mass)\n",
        "\n",
        "# Source:\n",
        "\n",
        "source = af.Model(al.Galaxy, redshift=1.0, bulge=al.lp_linear.SersicCore)\n",
        "\n",
        "# Overall Lens Model:\n",
        "\n",
        "model = af.Collection(galaxies=af.Collection(lens=lens, source=source))\n",
        "\n",
        "search = af.Nautilus(\n",
        "    path_prefix=path.join(\"imaging\", \"customize\"),\n",
        "    name=\"noise_covariance_matrix\",\n",
        "    unique_tag=dataset_name,\n",
        ")\n",
        "\n",
        "analysis = al.AnalysisImaging(dataset=dataset)"
      ],
      "outputs": [],
      "execution_count": null
    },
    {
      "cell_type": "markdown",
      "metadata": {},
      "source": [
        "__Model-Fit__\n",
        "\n",
        "We can now begin the model-fit by passing the model and analysis object to the search, which performs a non-linear\n",
        "search to find which models fit the data with the highest likelihood.\n",
        "\n",
        "The covariance matrix is used for every iteration of the model-fit, being fully accounted for in \n",
        "the `log_likelihood_function`."
      ]
    },
    {
      "cell_type": "code",
      "metadata": {},
      "source": [
        "result = search.fit(model=model, analysis=analysis)"
      ],
      "outputs": [],
      "execution_count": null
    },
    {
      "cell_type": "markdown",
      "metadata": {},
      "source": [
        "__Result__\n",
        "\n",
        "By plotting the maximum log likelihood `FitImaging` object we can confirm the custom mask was used."
      ]
    },
    {
      "cell_type": "code",
      "metadata": {},
      "source": [
        "fit_plotter = aplt.FitImagingPlotter(fit=result.max_log_likelihood_fit)\n",
        "fit_plotter.subplot_fit()"
      ],
      "outputs": [],
      "execution_count": null
    },
    {
      "cell_type": "markdown",
      "metadata": {},
      "source": [
        "Finish."
      ]
    },
    {
      "cell_type": "code",
      "metadata": {},
      "source": [],
      "outputs": [],
      "execution_count": null
    }
  ],
  "metadata": {
    "anaconda-cloud": {},
    "kernelspec": {
      "display_name": "Python 3",
      "language": "python",
      "name": "python3"
    },
    "language_info": {
      "codemirror_mode": {
        "name": "ipython",
        "version": 3
      },
      "file_extension": ".py",
      "mimetype": "text/x-python",
      "name": "python",
      "nbconvert_exporter": "python",
      "pygments_lexer": "ipython3",
      "version": "3.6.1"
    }
  },
  "nbformat": 4,
  "nbformat_minor": 4
}