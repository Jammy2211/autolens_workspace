{
  "cells": [
    {
      "cell_type": "markdown",
      "metadata": {},
      "source": [
        "Settings: Over Sampling\n",
        "=======================\n",
        "\n",
        "Over sampling is a numerical technique where the images of light profiles and galaxies are evaluated\n",
        "on a higher resolution grid than the image data to ensure the calculation is accurate.\n",
        "\n",
        "For lensing calculations, the high magnification regions of a lensed source galaxy require especially high levels of\n",
        "over sampling to ensure the lensed images are evaluated accurately.\n",
        "\n",
        "This is why throughout the workspace the cored Sersic profile is used, instead of the regular Sersic profile which\n",
        "you may be more familiar with from the literature. In this example we will increase the over sampling level and\n",
        "therefore fit a regular Sersic profile to the data, instead of a cored Sersic profile.\n",
        "\n",
        "This example demonstrates how to change the over sampling used to compute the surface brightness of every image-pixel,\n",
        "whereby a higher sub-grid resolution better oversamples the image of the light profile so as to provide a more accurate\n",
        "model of its image.\n",
        "\n",
        "**Benefit**: Higher level of over sampling provide a more accurate estimate of the surface brightness in every image-pixel.\n",
        "**Downside**: Higher levels of over sampling require longer calculations and higher memory usage.\n",
        "\n",
        "Over sampling is applied separately to the light profiles which compute the surface brightness of the lens galaxy,\n",
        "which are on a `uniform` grid, and the light profiles which compute the surface brightness of the source galaxy,\n",
        "which are on a `non-uniform` grid.\n",
        "\n",
        "__Prequisites__\n",
        "\n",
        "You should read `autolens_workspace/*/guides/advanced/over_sampling.ipynb` before running this script, which\n",
        "introduces the concept of over sampling in PyAutoLens and explains why the lens and source galaxy are evaluated\n",
        "on different grids.\n",
        "\n",
        "__Start Here Notebook__\n",
        "\n",
        "If any code in this script is unclear, refer to the `modeling/start_here.ipynb` notebook."
      ]
    },
    {
      "cell_type": "code",
      "metadata": {},
      "source": [
        "%matplotlib inline\n",
        "from pyprojroot import here\n",
        "workspace_path = str(here())\n",
        "%cd $workspace_path\n",
        "print(f\"Working Directory has been set to `{workspace_path}`\")\n",
        "\n",
        "from os import path\n",
        "import autofit as af\n",
        "import autolens as al\n",
        "import autolens.plot as aplt"
      ],
      "outputs": [],
      "execution_count": null
    },
    {
      "cell_type": "markdown",
      "metadata": {},
      "source": [
        "__Dataset + Masking__ \n",
        "\n",
        "For this sub-grid to be used in the model-fit, we must pass the `settings_dataset` to the `Imaging` object,\n",
        "which will be created using a `Grid2D` with a `sub-size value` of 4 (instead of the default of 2)."
      ]
    },
    {
      "cell_type": "code",
      "metadata": {},
      "source": [
        "dataset_name = \"simple__no_lens_light\"\n",
        "dataset_path = path.join(\"dataset\", \"imaging\", dataset_name)\n",
        "\n",
        "dataset = al.Imaging.from_fits(\n",
        "    data_path=path.join(dataset_path, \"data.fits\"),\n",
        "    psf_path=path.join(dataset_path, \"psf.fits\"),\n",
        "    noise_map_path=path.join(dataset_path, \"noise_map.fits\"),\n",
        "    pixel_scales=0.1,\n",
        ")"
      ],
      "outputs": [],
      "execution_count": null
    },
    {
      "cell_type": "markdown",
      "metadata": {},
      "source": [
        "__Mask__\n",
        "\n",
        "Define a 3.0\" circular mask, which includes the emission of the lens and source galaxies."
      ]
    },
    {
      "cell_type": "code",
      "metadata": {},
      "source": [
        "mask = al.Mask2D.circular(\n",
        "    shape_native=dataset.shape_native, pixel_scales=dataset.pixel_scales, radius=3.0\n",
        ")\n",
        "\n",
        "dataset = dataset.apply_mask(mask=mask)"
      ],
      "outputs": [],
      "execution_count": null
    },
    {
      "cell_type": "markdown",
      "metadata": {},
      "source": [
        "__Over Sampling Lens Galaxy (Uniform)__\n",
        "\n",
        "The over sampling of the lens galaxy is controlled using the `OverSamplingUniform` object, where an adaptive\n",
        "over sampling grid is used to compute the surface brightness of the lens galaxy such that high levels of over sampling\n",
        "are used in the central regions of the lens galaxy at (0.0\", 0.0\")."
      ]
    },
    {
      "cell_type": "code",
      "metadata": {},
      "source": [
        "over_sampling_lens = al.OverSamplingUniform.from_radial_bins(\n",
        "    grid=dataset.grid,\n",
        "    sub_size_list=[8, 4, 1],\n",
        "    radial_list=[0.1, 0.3],\n",
        "    centre_list=[(0.0, 0.0)],\n",
        ")"
      ],
      "outputs": [],
      "execution_count": null
    },
    {
      "cell_type": "markdown",
      "metadata": {},
      "source": [
        "__Over Sampling Source Galaxy__\n",
        "\n",
        "To customize the sub-grid used by the model-fit, we create a `OverSamplingUniform` object and specify that the \n",
        "`sub_size=4`. \n",
        "\n",
        "This increases the sub grid size of the `Grid2D` used to evaluate the source galaxy light profiles from the default \n",
        "value of 2 to 8.\n",
        "\n",
        "For many reasons, this uniform grid is not ideal, as we will use high levels of over sampling over the whole mask,\n",
        "including the regions where the lensed source is not located. This is inefficient and can lead to longer run times\n",
        "and higher memory usage.\n",
        "\n",
        "Checkout `autolens_workspace/*/guides/over_sampling.ipynb`\n",
        "and `autolens_workspace/*/advanced/chaining/examples/over_sample.py` for a discussion of how to use an adaptive\n",
        "over sampling grid to compute the surface brightness of the source galaxy."
      ]
    },
    {
      "cell_type": "code",
      "metadata": {},
      "source": [
        "over_sampling_source = al.OverSamplingUniform(sub_size=8)"
      ],
      "outputs": [],
      "execution_count": null
    },
    {
      "cell_type": "markdown",
      "metadata": {},
      "source": [
        "__Over Sampling__\n",
        "\n",
        "We now apply the over sampling to the `Imaging` dataset."
      ]
    },
    {
      "cell_type": "code",
      "metadata": {},
      "source": [
        "dataset = dataset.apply_over_sampling(\n",
        "    over_sampling=al.OverSamplingDataset(\n",
        "        uniform=over_sampling_lens, non_uniform=over_sampling_source\n",
        "    )\n",
        ")"
      ],
      "outputs": [],
      "execution_count": null
    },
    {
      "cell_type": "markdown",
      "metadata": {},
      "source": [
        "__Model + Search + Analysis__ \n",
        "\n",
        "The code below performs the normal steps to set up a model-fit. We omit comments of this code as you should be \n",
        "familiar with it and it is not specific to this example!"
      ]
    },
    {
      "cell_type": "code",
      "metadata": {},
      "source": [
        "# Lens:\n",
        "\n",
        "mass = af.Model(al.mp.Isothermal)\n",
        "\n",
        "lens = af.Model(al.Galaxy, redshift=0.5, mass=mass)\n",
        "\n",
        "# Source:\n",
        "\n",
        "source = af.Model(al.Galaxy, redshift=1.0, bulge=al.lp_linear.SersicCore)\n",
        "\n",
        "# Overall Lens Model:\n",
        "\n",
        "model = af.Collection(galaxies=af.Collection(lens=lens, source=source))\n",
        "\n",
        "search = af.Nautilus(\n",
        "    path_prefix=path.join(\"imaging\", \"settings\"),\n",
        "    name=\"over_sampling\",\n",
        "    unique_tag=dataset_name,\n",
        ")\n",
        "\n",
        "analysis = al.AnalysisImaging(dataset=dataset)"
      ],
      "outputs": [],
      "execution_count": null
    },
    {
      "cell_type": "markdown",
      "metadata": {},
      "source": [
        "__Model-Fit__\n",
        "\n",
        "We can now begin the model-fit by passing the model and analysis object to the search, which performs a non-linear\n",
        "search to find which models fit the data with the highest likelihood.\n",
        "\n",
        "Because the `AnalysisImaging` was passed a `Imaging` with a `sub_size=4` it uses a higher level of sub-gridding\n",
        "to fit each model `LightProfile` to the data."
      ]
    },
    {
      "cell_type": "code",
      "metadata": {},
      "source": [
        "result = search.fit(model=model, analysis=analysis)"
      ],
      "outputs": [],
      "execution_count": null
    },
    {
      "cell_type": "markdown",
      "metadata": {},
      "source": [
        "__Result__\n",
        "\n",
        "We can confirm that the `Result`'s grid used an over sampling iterate object."
      ]
    },
    {
      "cell_type": "code",
      "metadata": {},
      "source": [
        "print(result.grids.uniform.over_sampling)\n",
        "\n",
        "fit_plotter = aplt.FitImagingPlotter(fit=result.max_log_likelihood_fit)\n",
        "fit_plotter.subplot_fit()"
      ],
      "outputs": [],
      "execution_count": null
    },
    {
      "cell_type": "markdown",
      "metadata": {},
      "source": [
        "Finish."
      ]
    },
    {
      "cell_type": "code",
      "metadata": {},
      "source": [],
      "outputs": [],
      "execution_count": null
    }
  ],
  "metadata": {
    "anaconda-cloud": {},
    "kernelspec": {
      "display_name": "Python 3",
      "language": "python",
      "name": "python3"
    },
    "language_info": {
      "codemirror_mode": {
        "name": "ipython",
        "version": 3
      },
      "file_extension": ".py",
      "mimetype": "text/x-python",
      "name": "python",
      "nbconvert_exporter": "python",
      "pygments_lexer": "ipython3",
      "version": "3.6.1"
    }
  },
  "nbformat": 4,
  "nbformat_minor": 4
}