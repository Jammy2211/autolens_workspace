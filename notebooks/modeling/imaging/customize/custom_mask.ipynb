{
  "cells": [
    {
      "cell_type": "markdown",
      "metadata": {},
      "source": [
        "Customize: Custom Mask\n",
        "======================\n",
        "\n",
        "This example demonstrates how to use a custom mask (tailored to the lensed source galaxy's light distribution)\n",
        "in a model-fit.\n",
        "\n",
        "__Advantages__\n",
        "\n",
        "Strong lenses with complex and difficult-to-subtract foreground lens galaxies can leave residuals that\n",
        "bias the mass and source models, which this custom mask can remove from the model-fit. The custom mask can also provide\n",
        "faster run times, as the removal of large large regions of the image (which contain no signal) no longer need to be\n",
        "processed and fitted.\n",
        "\n",
        "__Disadvantages__\n",
        "\n",
        "Pixels containing no source emission may still constrain the lens model, if a mass model incorrectly\n",
        "predicts that flux will appear in these image pixels. By using a custom mask, the model-fit will not be penalized for\n",
        "incorrectly predicting flux in these image-pixels (As the mask has removed them from the fit).\n",
        "\n",
        "__Start Here Notebook__\n",
        "\n",
        "If any code in this script is unclear, refer to the `modeling/start_here.ipynb` notebook."
      ]
    },
    {
      "cell_type": "code",
      "metadata": {},
      "source": [
        "%matplotlib inline\n",
        "from pyprojroot import here\n",
        "workspace_path = str(here())\n",
        "%cd $workspace_path\n",
        "print(f\"Working Directory has been set to `{workspace_path}`\")\n",
        "\n",
        "from os import path\n",
        "import autofit as af\n",
        "import autolens as al\n",
        "import autolens.plot as aplt"
      ],
      "outputs": [],
      "execution_count": null
    },
    {
      "cell_type": "markdown",
      "metadata": {},
      "source": [
        "__Dataset__\n",
        "\n",
        "Load and plot the strong lens dataset `simple__no_lens_light` via .fits files."
      ]
    },
    {
      "cell_type": "code",
      "metadata": {},
      "source": [
        "dataset_name = \"simple__no_lens_light\"\n",
        "dataset_path = path.join(\"dataset\", \"imaging\", dataset_name)\n",
        "\n",
        "dataset = al.Imaging.from_fits(\n",
        "    data_path=path.join(dataset_path, \"data.fits\"),\n",
        "    psf_path=path.join(dataset_path, \"psf.fits\"),\n",
        "    noise_map_path=path.join(dataset_path, \"noise_map.fits\"),\n",
        "    pixel_scales=0.1,\n",
        ")"
      ],
      "outputs": [],
      "execution_count": null
    },
    {
      "cell_type": "markdown",
      "metadata": {},
      "source": [
        "__Mask__\n",
        "\n",
        "We will load the mask from a .fits file, like we did `Imaging` above. \n",
        "\n",
        "To create the .fits file of a mask, we use a GUI tool which is described in the following script:\n",
        "\n",
        " `autolens_workspace/*/data_preparation/imaging/gui/mask.py`"
      ]
    },
    {
      "cell_type": "code",
      "metadata": {},
      "source": [
        "mask_custom = al.Mask2D.from_fits(\n",
        "    file_path=path.join(dataset_path, \"mask_gui.fits\"),\n",
        "    hdu=0,\n",
        "    pixel_scales=dataset.pixel_scales,\n",
        ")\n",
        "\n",
        "dataset = dataset.apply_mask(mask=mask_custom)  # <----- The custom mask is used here!"
      ],
      "outputs": [],
      "execution_count": null
    },
    {
      "cell_type": "markdown",
      "metadata": {},
      "source": [
        "When we plot the `Imaging` dataset with the mask it extracts only the regions of the image in the mask remove \n",
        "contaminating bright sources away from the lens and zoom in around the mask to emphasize the lens."
      ]
    },
    {
      "cell_type": "code",
      "metadata": {},
      "source": [
        "visuals = aplt.Visuals2D(mask=mask_custom)\n",
        "\n",
        "dataset_plotter = aplt.ImagingPlotter(dataset=dataset, visuals_2d=visuals)\n",
        "dataset_plotter.subplot_dataset()"
      ],
      "outputs": [],
      "execution_count": null
    },
    {
      "cell_type": "markdown",
      "metadata": {},
      "source": [
        "__Model + Search + Analysis__ \n",
        "\n",
        "The code below performs the normal steps to set up a model-fit. We omit comments of this code as you should be \n",
        "familiar with it and it is not specific to this example!"
      ]
    },
    {
      "cell_type": "code",
      "metadata": {},
      "source": [
        "# Lens:\n",
        "\n",
        "mass = af.Model(al.mp.Isothermal)\n",
        "\n",
        "lens = af.Model(al.Galaxy, redshift=0.5, mass=mass)\n",
        "\n",
        "# Source:\n",
        "\n",
        "source = af.Model(al.Galaxy, redshift=1.0, bulge=al.lp_linear.SersicCore)\n",
        "\n",
        "# Overall Lens Model:\n",
        "\n",
        "model = af.Collection(galaxies=af.Collection(lens=lens, source=source))\n",
        "\n",
        "search = af.Nautilus(\n",
        "    path_prefix=path.join(\"imaging\", \"customize\"),\n",
        "    name=\"custom_mask\",\n",
        "    unique_tag=dataset_name,\n",
        ")\n",
        "\n",
        "analysis = al.AnalysisImaging(dataset=dataset)"
      ],
      "outputs": [],
      "execution_count": null
    },
    {
      "cell_type": "markdown",
      "metadata": {},
      "source": [
        "__Model-Fit__\n",
        "\n",
        "We can now begin the model-fit by passing the model and analysis object to the search, which performs a non-linear\n",
        "search to find which models fit the data with the highest likelihood.\n",
        "\n",
        "Because the `AnalysisImaging` was passed a `Imaging` with the custom mask, this mask is used by the model-fit."
      ]
    },
    {
      "cell_type": "code",
      "metadata": {},
      "source": [
        "result = search.fit(model=model, analysis=analysis)"
      ],
      "outputs": [],
      "execution_count": null
    },
    {
      "cell_type": "markdown",
      "metadata": {},
      "source": [
        "__Result__\n",
        "\n",
        "By plotting the maximum log likelihood `FitImaging` object we can confirm the custom mask was used."
      ]
    },
    {
      "cell_type": "code",
      "metadata": {},
      "source": [
        "fit_plotter = aplt.FitImagingPlotter(fit=result.max_log_likelihood_fit)\n",
        "fit_plotter.subplot_fit()"
      ],
      "outputs": [],
      "execution_count": null
    },
    {
      "cell_type": "markdown",
      "metadata": {},
      "source": [
        "Finish."
      ]
    },
    {
      "cell_type": "code",
      "metadata": {},
      "source": [],
      "outputs": [],
      "execution_count": null
    }
  ],
  "metadata": {
    "anaconda-cloud": {},
    "kernelspec": {
      "display_name": "Python 3",
      "language": "python",
      "name": "python3"
    },
    "language_info": {
      "codemirror_mode": {
        "name": "ipython",
        "version": 3
      },
      "file_extension": ".py",
      "mimetype": "text/x-python",
      "name": "python",
      "nbconvert_exporter": "python",
      "pygments_lexer": "ipython3",
      "version": "3.6.1"
    }
  },
  "nbformat": 4,
  "nbformat_minor": 4
}