{
  "cells": [
    {
      "cell_type": "markdown",
      "metadata": {},
      "source": [
        "Searches: Emcee\n",
        "===============\n",
        "\n",
        "Emcee (https://github.com/dfm/emcee) is an ensemble MCMC sampler.\n",
        "\n",
        "An MCMC algorithm only seeks to map out the posterior of parameter space, unlike a nested sampling algorithm like\n",
        "Nautilus, which also aims to estimate the Bayesian evidence if the model. Therefore, in principle, an MCMC approach like\n",
        "Emcee should be faster than Nautilus.\n",
        "\n",
        "In our experience, `Emcee` is outperformed by `Nautilus` for lens modeling in all circumstances, whether that be\n",
        "initializing the lens model, fitting a pixelized source or models with high dimensionality. Nevertheless, we encourage\n",
        "you to give it a go yourself, and let us know on the PyAutoLens GitHub if you find an example of a problem where\n",
        "`Emcee` outperforms Nautilus!\n",
        "\n",
        "__Start Here Notebook__\n",
        "\n",
        "If any code in this script is unclear, refer to the `modeling/start_here.ipynb` notebook."
      ]
    },
    {
      "cell_type": "code",
      "metadata": {},
      "source": [
        "%matplotlib inline\n",
        "from pyprojroot import here\n",
        "workspace_path = str(here())\n",
        "%cd $workspace_path\n",
        "print(f\"Working Directory has been set to `{workspace_path}`\")\n",
        "\n",
        "from os import path\n",
        "import autofit as af\n",
        "import autolens as al\n",
        "import autolens.plot as aplt"
      ],
      "outputs": [],
      "execution_count": null
    },
    {
      "cell_type": "markdown",
      "metadata": {},
      "source": [
        "__Dataset + Masking__\n",
        "\n",
        "Load and plot the strong lens dataset `simple__no_lens_light` via .fits files."
      ]
    },
    {
      "cell_type": "code",
      "metadata": {},
      "source": [
        "dataset_name = \"simple__no_lens_light\"\n",
        "dataset_path = path.join(\"dataset\", \"imaging\", dataset_name)\n",
        "\n",
        "dataset = al.Imaging.from_fits(\n",
        "    data_path=path.join(dataset_path, \"data.fits\"),\n",
        "    psf_path=path.join(dataset_path, \"psf.fits\"),\n",
        "    noise_map_path=path.join(dataset_path, \"noise_map.fits\"),\n",
        "    pixel_scales=0.1,\n",
        ")\n",
        "\n",
        "mask = al.Mask2D.circular(\n",
        "    shape_native=dataset.shape_native, pixel_scales=dataset.pixel_scales, radius=3.0\n",
        ")\n",
        "\n",
        "dataset = dataset.apply_mask(mask=mask)"
      ],
      "outputs": [],
      "execution_count": null
    },
    {
      "cell_type": "markdown",
      "metadata": {},
      "source": [
        "__Model__ \n",
        "\n",
        "In our experience, emcee is ineffective at initializing a lens model and therefore needs a 'starting point' which is\n",
        "near the highest likelihood lens models. We set this starting point up below by manually inputting `UniformPriors` on\n",
        "every parameter, where the centre of these priors is near the true values of the simulated lens data.\n",
        "\n",
        "Given this need for a robust starting point, Emcee is only suited to model-fits where we have this information. It may\n",
        "therefore be useful when performing lens modeling search chaining (see HowToLens chapter 3). However, even in such\n",
        "circumstances, we have found that is often outperformed by other searches such as Nautilus and Zeus for both speed\n",
        "and accuracy."
      ]
    },
    {
      "cell_type": "code",
      "metadata": {},
      "source": [
        "# Lens:\n",
        "\n",
        "mass = af.Model(al.mp.Isothermal)\n",
        "mass.centre.centre_0 = af.UniformPrior(lower_limit=-0.1, upper_limit=0.1)\n",
        "mass.centre.centre_1 = af.UniformPrior(lower_limit=-0.1, upper_limit=0.1)\n",
        "mass.ell_comps.ell_comps_0 = af.UniformPrior(lower_limit=-0.3, upper_limit=0.3)\n",
        "mass.ell_comps.ell_comps_1 = af.UniformPrior(lower_limit=-0.3, upper_limit=0.3)\n",
        "mass.einstein_radius = af.UniformPrior(lower_limit=1.0, upper_limit=2.0)\n",
        "\n",
        "shear = af.Model(al.mp.ExternalShear)\n",
        "shear.gamma_1 = af.UniformPrior(lower_limit=-0.1, upper_limit=0.1)\n",
        "shear.gamma_2 = af.UniformPrior(lower_limit=-0.1, upper_limit=0.1)\n",
        "\n",
        "# Source:\n",
        "\n",
        "bulge = af.Model(al.lp_linear.SersicCore)\n",
        "bulge.centre.centre_0 = af.UniformPrior(lower_limit=-0.1, upper_limit=0.1)\n",
        "bulge.centre.centre_1 = af.UniformPrior(lower_limit=-0.1, upper_limit=0.1)\n",
        "bulge.ell_comps.ell_comps_0 = af.UniformPrior(lower_limit=-0.3, upper_limit=0.3)\n",
        "bulge.ell_comps.ell_comps_1 = af.UniformPrior(lower_limit=-0.3, upper_limit=0.3)\n",
        "bulge.effective_radius = af.UniformPrior(lower_limit=0.0, upper_limit=0.4)\n",
        "bulge.sersic_index = af.UniformPrior(lower_limit=0.5, upper_limit=2.0)\n",
        "\n",
        "lens = af.Model(al.Galaxy, redshift=0.5, mass=mass, shear=shear)\n",
        "source = af.Model(al.Galaxy, redshift=1.0, bulge=bulge)\n",
        "\n",
        "# Overall Lens Model:\n",
        "\n",
        "model = af.Collection(galaxies=af.Collection(lens=lens, source=source))"
      ],
      "outputs": [],
      "execution_count": null
    },
    {
      "cell_type": "markdown",
      "metadata": {},
      "source": [
        "__Analysis__ \n",
        "\n",
        "We create the Analysis as per using."
      ]
    },
    {
      "cell_type": "code",
      "metadata": {},
      "source": [
        "analysis = al.AnalysisImaging(dataset=dataset)"
      ],
      "outputs": [],
      "execution_count": null
    },
    {
      "cell_type": "markdown",
      "metadata": {},
      "source": [
        "__Search__\n",
        "\n",
        "Below we use emcee to fit the lens model, using the model with start points as described above. See the Emcee docs\n",
        "for a description of what the input parameters below do."
      ]
    },
    {
      "cell_type": "code",
      "metadata": {},
      "source": [
        "search = af.Emcee(\n",
        "    path_prefix=path.join(\"imaging\", \"searches\"),\n",
        "    name=\"Emcee\",\n",
        "    unique_tag=dataset_name,\n",
        "    nwalkers=30,\n",
        "    nsteps=500,\n",
        "    initializer=af.InitializerBall(lower_limit=0.49, upper_limit=0.51),\n",
        "    auto_correlations_settings=af.AutoCorrelationsSettings(\n",
        "        check_for_convergence=True,\n",
        "        check_size=100,\n",
        "        required_length=50,\n",
        "        change_threshold=0.01,\n",
        "    ),\n",
        "    iterations_per_update=5000,\n",
        "    number_of_cores=1,\n",
        ")\n",
        "\n",
        "result = search.fit(model=model, analysis=analysis)"
      ],
      "outputs": [],
      "execution_count": null
    },
    {
      "cell_type": "markdown",
      "metadata": {},
      "source": [
        "__Result__\n",
        "\n",
        "We can use an `MCMCPlotter` to create a corner plot, which shows the probability density function (PDF) of every\n",
        "parameter in 1D and 2D."
      ]
    },
    {
      "cell_type": "code",
      "metadata": {},
      "source": [
        "plotter = aplt.MCMCPlotter(samples=result.samples)\n",
        "plotter.corner_cornerpy()"
      ],
      "outputs": [],
      "execution_count": null
    },
    {
      "cell_type": "markdown",
      "metadata": {},
      "source": [
        "Finish."
      ]
    },
    {
      "cell_type": "code",
      "metadata": {},
      "source": [],
      "outputs": [],
      "execution_count": null
    }
  ],
  "metadata": {
    "anaconda-cloud": {},
    "kernelspec": {
      "display_name": "Python 3",
      "language": "python",
      "name": "python3"
    },
    "language_info": {
      "codemirror_mode": {
        "name": "ipython",
        "version": 3
      },
      "file_extension": ".py",
      "mimetype": "text/x-python",
      "name": "python",
      "nbconvert_exporter": "python",
      "pygments_lexer": "ipython3",
      "version": "3.6.1"
    }
  },
  "nbformat": 4,
  "nbformat_minor": 4
}