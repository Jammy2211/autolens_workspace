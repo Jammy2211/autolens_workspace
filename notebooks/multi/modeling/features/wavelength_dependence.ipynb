{
  "cells": [
    {
      "cell_type": "markdown",
      "metadata": {},
      "source": [
        "Modeling: Mass Total + Source Parametric\n",
        "========================================\n",
        "\n",
        "This script fits a multi-wavelength `Imaging` dataset of a 'galaxy-scale' strong lens with a model where:\n",
        "\n",
        " - The lens galaxy's light is a linear parametric `Sersic` bulge where the `effective_radius` varies across wavelength.\n",
        " - The lens galaxy's total mass distribution is an `Isothermal` and `ExternalShear`.\n",
        " - The source galaxy's light is a linear parametric `SersicCore`.\n",
        "\n",
        "Three images are fitted, corresponding to a green ('g' band), red (`r` band) and near infrared ('I' band) images.\n",
        "\n",
        "This script assumes previous knowledge of the `multi` modeling API found in other scripts in the `multi/modeling`\n",
        "package. If anything is unclear check those scripts out.\n",
        "\n",
        "__Effective Radius vs Wavelength__\n",
        "\n",
        "Unlike other `multi` modeling scripts, the effective radius of the lens and source galaxies as a user defined function of\n",
        "wavelength, for example following a relation `y = (m * x) + c` -> `effective_radius = (m * wavelength) + c`.\n",
        "\n",
        "By using a linear relation `y = mx + c` the free parameters are `m` and `c`, which does not scale with the number\n",
        "of datasets. For datasets with multi-wavelength images (e.g. 5 or more) this allows us to parameterize the variation\n",
        "of parameters across the datasets in a way that does not lead to a very complex parameter space.\n",
        "\n",
        "For example, in other scripts, a free `effective_radius` is created for every datasets, which would add 5+ free parameters\n",
        "to the model for 5+ datasets."
      ]
    },
    {
      "cell_type": "code",
      "metadata": {},
      "source": [
        "%matplotlib inline\n",
        "from pyprojroot import here\n",
        "workspace_path = str(here())\n",
        "%cd $workspace_path\n",
        "print(f\"Working Directory has been set to `{workspace_path}`\")\n",
        "\n",
        "from os import path\n",
        "\n",
        "import autofit as af\n",
        "import autolens as al\n",
        "import autolens.plot as aplt"
      ],
      "outputs": [],
      "execution_count": null
    },
    {
      "cell_type": "markdown",
      "metadata": {},
      "source": [
        "__Colors__\n",
        "\n",
        "The colors of the multi-wavelength image, which in this case are green (g-band) and red (r-band).\n",
        "\n",
        "The strings are used for load each dataset."
      ]
    },
    {
      "cell_type": "code",
      "metadata": {},
      "source": [
        "color_list = [\"g\", \"r\"]  # , \"I\"]"
      ],
      "outputs": [],
      "execution_count": null
    },
    {
      "cell_type": "markdown",
      "metadata": {},
      "source": [
        "__Wavelengths__\n",
        "\n",
        "The effective_radius of each source galaxy is parameterized as a function of wavelength.\n",
        "\n",
        "Therefore we define a list of wavelengths of each color above."
      ]
    },
    {
      "cell_type": "code",
      "metadata": {},
      "source": [
        "wavelength_list = [464, 658, 806]"
      ],
      "outputs": [],
      "execution_count": null
    },
    {
      "cell_type": "markdown",
      "metadata": {},
      "source": [
        "__Pixel Scales__\n",
        "\n",
        "Every multi-wavelength dataset can have its own unique pixel-scale."
      ]
    },
    {
      "cell_type": "code",
      "metadata": {},
      "source": [
        "pixel_scales_list = [0.08, 0.12, 0.012]"
      ],
      "outputs": [],
      "execution_count": null
    },
    {
      "cell_type": "markdown",
      "metadata": {},
      "source": [
        "__Dataset__\n",
        "\n",
        "Load and plot each multi-wavelength strong lens dataset, using a list of their waveband colors."
      ]
    },
    {
      "cell_type": "code",
      "metadata": {},
      "source": [
        "dataset_type = \"multi\"\n",
        "dataset_label = \"imaging\"\n",
        "dataset_name = \"wavelength_dependence\"\n",
        "\n",
        "dataset_path = path.join(\"dataset\", dataset_type, dataset_label, dataset_name)\n",
        "\n",
        "dataset_list = [\n",
        "    al.Imaging.from_fits(\n",
        "        data_path=path.join(dataset_path, f\"{color}_data.fits\"),\n",
        "        psf_path=path.join(dataset_path, f\"{color}_psf.fits\"),\n",
        "        noise_map_path=path.join(dataset_path, f\"{color}_noise_map.fits\"),\n",
        "        pixel_scales=pixel_scales,\n",
        "    )\n",
        "    for color, pixel_scales in zip(color_list, pixel_scales_list)\n",
        "]\n",
        "\n",
        "for dataset in dataset_list:\n",
        "    dataset_plotter = aplt.ImagingPlotter(dataset=dataset)\n",
        "    dataset_plotter.subplot_dataset()"
      ],
      "outputs": [],
      "execution_count": null
    },
    {
      "cell_type": "markdown",
      "metadata": {},
      "source": [
        "__Mask__\n",
        "\n",
        "Define a 3.0\" circular mask, which includes the emission of the lens and source galaxies.\n",
        "\n",
        "For multi-wavelength lens modeling, we use the same mask for every dataset whenever possible. This is not\n",
        "absolutely necessary, but provides a more reliable analysis."
      ]
    },
    {
      "cell_type": "code",
      "metadata": {},
      "source": [
        "mask_list = [\n",
        "    al.Mask2D.circular(\n",
        "        shape_native=dataset.shape_native, pixel_scales=dataset.pixel_scales, radius=3.0\n",
        "    )\n",
        "    for dataset in dataset_list\n",
        "]\n",
        "\n",
        "dataset_list = [\n",
        "    dataset.apply_mask(mask=mask) for imaging, mask in zip(dataset_list, mask_list)\n",
        "]\n",
        "\n",
        "for dataset in dataset_list:\n",
        "    dataset_plotter = aplt.ImagingPlotter(dataset=dataset)\n",
        "    dataset_plotter.subplot_dataset()"
      ],
      "outputs": [],
      "execution_count": null
    },
    {
      "cell_type": "markdown",
      "metadata": {},
      "source": [
        "__Model__\n",
        "\n",
        "We compose a lens model where:\n",
        "\n",
        " - The lens galaxy's total mass distribution is an `Isothermal` and `ExternalShear` [7 parameters].\n",
        " \n",
        " - The source galaxy's light is a linear parametric `SersicCore` [7 parameters].\n",
        "\n",
        "The number of free parameters and therefore the dimensionality of non-linear parameter space is N=15."
      ]
    },
    {
      "cell_type": "code",
      "metadata": {},
      "source": [
        "lens = af.Model(\n",
        "    al.Galaxy,\n",
        "    redshift=0.5,\n",
        "    bulge=al.lp_linear.Sersic,\n",
        "    mass=al.mp.Isothermal,\n",
        "    shear=al.mp.ExternalShear,\n",
        ")\n",
        "source = af.Model(al.Galaxy, redshift=1.0, bulge=al.lp_linear.SersicCore)\n",
        "\n",
        "model = af.Collection(galaxies=af.Collection(lens=lens, source=source))"
      ],
      "outputs": [],
      "execution_count": null
    },
    {
      "cell_type": "markdown",
      "metadata": {},
      "source": [
        "__Model + Analysis__\n",
        "\n",
        "We now make the lens and source `effective_radius` a free parameter across every analysis object.\n",
        "\n",
        "Unlike other scripts, where the `effective_radius` for every dataset is created as a free parameter, we will assume that \n",
        "the `effective_radius` of the lens and source galaxies linearly varies as a function of wavelength, and therefore compute \n",
        "the `effective_radius` value for each color image using a linear relation `y = mx + c`.\n",
        "\n",
        "The function below is not used to compose the model, but illustrates how the `effective_radius` values were computed\n",
        "in the corresponding `wavelength_dependence` simulator script."
      ]
    },
    {
      "cell_type": "code",
      "metadata": {},
      "source": [
        "\n",
        "\n",
        "def lens_effective_radius_from(wavelength):\n",
        "    m = 1.0 / 100.0  # lens appears brighter with wavelength\n",
        "    c = 3\n",
        "\n",
        "    return m * wavelength + c\n",
        "\n",
        "\n",
        "def source_effective_radius_from(wavelength):\n",
        "    m = -(1.2 / 100.0)  # source appears fainter with wavelength\n",
        "    c = 10\n",
        "\n",
        "    return m * wavelength + c\n"
      ],
      "outputs": [],
      "execution_count": null
    },
    {
      "cell_type": "markdown",
      "metadata": {},
      "source": [
        "To parameterize the above relation as a model, we compose `m` and `c` as priors and use PyAutoFit's prior arithmatic\n",
        "to compose a model as a linear relation."
      ]
    },
    {
      "cell_type": "code",
      "metadata": {},
      "source": [
        "lens_m = af.UniformPrior(lower_limit=-0.1, upper_limit=0.1)\n",
        "lens_c = af.UniformPrior(lower_limit=-10.0, upper_limit=10.0)\n",
        "\n",
        "source_m = af.UniformPrior(lower_limit=-0.1, upper_limit=0.1)\n",
        "source_c = af.UniformPrior(lower_limit=-10.0, upper_limit=10.0)"
      ],
      "outputs": [],
      "execution_count": null
    },
    {
      "cell_type": "markdown",
      "metadata": {},
      "source": [
        "The free parameters of our model there are no longer `effective_radius` values, but the parameters `m` and `c` in the relation\n",
        "above. \n",
        "\n",
        "The model complexity therefore does not increase as we add more parameters to the model.\n",
        "\n",
        "__Analysis__\n",
        "\n",
        "We create an `Analysis` object for every dataset and sum it to combine the analysis of all images."
      ]
    },
    {
      "cell_type": "code",
      "metadata": {},
      "source": [
        "\n",
        "analysis_list = []\n",
        "\n",
        "for wavelength, dataset in zip(wavelength_list, dataset_list):\n",
        "    lens_effective_radius = (wavelength * lens_m) + lens_c\n",
        "    source_effective_radius = (wavelength * source_m) + source_c\n",
        "\n",
        "    # Currently buggy, need to fix\n",
        "\n",
        "    # analysis_list.append(\n",
        "    #     al.AnalysisImaging(dataset=dataset).with_model(\n",
        "    #         model.replacing(\n",
        "    #             {\n",
        "    #                 model.galaxies.lens.bulge.effective_radius: lens_effective_radius,\n",
        "    #                 model.galaxies.source.bulge.effective_radius: source_effective_radius,\n",
        "    #             }\n",
        "    #         )\n",
        "    #     )\n",
        "    # )\n",
        "\n",
        "    analysis_list.append(al.AnalysisImaging(dataset=dataset))\n",
        "\n",
        "analysis = sum(analysis_list)\n",
        "analysis.n_cores = 1"
      ],
      "outputs": [],
      "execution_count": null
    },
    {
      "cell_type": "markdown",
      "metadata": {},
      "source": [
        "__Search__\n",
        "\n",
        "The model is fitted to the data using the nested sampling algorithm Nautilus (see `start.here.py` for a \n",
        "full description)."
      ]
    },
    {
      "cell_type": "code",
      "metadata": {},
      "source": [
        "search = af.Nautilus(\n",
        "    path_prefix=path.join(\"multi\", \"modeling\"),\n",
        "    name=\"wavelength_dependence\",\n",
        "    unique_tag=dataset_name,\n",
        "    n_live=100,\n",
        "    number_of_cores=1,\n",
        ")"
      ],
      "outputs": [],
      "execution_count": null
    },
    {
      "cell_type": "markdown",
      "metadata": {},
      "source": [
        "__Model-Fit__"
      ]
    },
    {
      "cell_type": "code",
      "metadata": {},
      "source": [
        "result_list = search.fit(model=model, analysis=analysis)"
      ],
      "outputs": [],
      "execution_count": null
    },
    {
      "cell_type": "markdown",
      "metadata": {},
      "source": [
        "__Result__\n",
        "\n",
        "The result object returned by this model-fit is a list of `Result` objects, because we used a combined analysis.\n",
        "Each result corresponds to each analysis, and therefore corresponds to the model-fit at that wavelength.\n",
        "\n",
        "For example, close inspection of the `max_log_likelihood_instance` of the two results shows that all parameters,\n",
        "except the `effective_radius` of the source galaxy's `bulge`, are identical."
      ]
    },
    {
      "cell_type": "code",
      "metadata": {},
      "source": [
        "print(result_list[0].max_log_likelihood_instance)\n",
        "print(result_list[1].max_log_likelihood_instance)"
      ],
      "outputs": [],
      "execution_count": null
    },
    {
      "cell_type": "markdown",
      "metadata": {},
      "source": [
        "Plotting each result's tracer shows that the source appears different, owning to its different intensities."
      ]
    },
    {
      "cell_type": "code",
      "metadata": {},
      "source": [
        "for result in result_list:\n",
        "    tracer_plotter = aplt.TracerPlotter(\n",
        "        tracer=result.max_log_likelihood_tracer, grid=result.grids.uniform\n",
        "    )\n",
        "    tracer_plotter.subplot_tracer()\n",
        "\n",
        "    fit_plotter = aplt.FitImagingPlotter(fit=result.max_log_likelihood_fit)\n",
        "    fit_plotter.subplot_fit()"
      ],
      "outputs": [],
      "execution_count": null
    },
    {
      "cell_type": "markdown",
      "metadata": {},
      "source": [
        "The `Samples` object still has the dimensions of the overall non-linear search (in this case N=15). \n",
        "\n",
        "Therefore, the samples is identical in every result object."
      ]
    },
    {
      "cell_type": "code",
      "metadata": {},
      "source": [
        "for result in result_list:\n",
        "    plotter = aplt.NestPlotter(samples=result.samples)\n",
        "    plotter.corner_anesthetic()"
      ],
      "outputs": [],
      "execution_count": null
    },
    {
      "cell_type": "markdown",
      "metadata": {},
      "source": [
        "Checkout `autolens_workspace/*/imaging/results` for a full description of analysing results in **PyAutoLens**."
      ]
    },
    {
      "cell_type": "code",
      "metadata": {},
      "source": [],
      "outputs": [],
      "execution_count": null
    }
  ],
  "metadata": {
    "anaconda-cloud": {},
    "kernelspec": {
      "display_name": "Python 3",
      "language": "python",
      "name": "python3"
    },
    "language_info": {
      "codemirror_mode": {
        "name": "ipython",
        "version": 3
      },
      "file_extension": ".py",
      "mimetype": "text/x-python",
      "name": "python",
      "nbconvert_exporter": "python",
      "pygments_lexer": "ipython3",
      "version": "3.6.1"
    }
  },
  "nbformat": 4,
  "nbformat_minor": 4
}