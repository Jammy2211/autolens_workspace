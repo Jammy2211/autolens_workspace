{
  "cells": [
    {
      "cell_type": "markdown",
      "metadata": {},
      "source": [
        "Overview: Groups\n",
        "----------------\n",
        "\n",
        "The strong lenses we've discussed so far have just a single lens galaxy responsible for the lensing, with a single\n",
        "source galaxy observed.\n",
        "\n",
        "A strong lensing group is a system which has a distinct 'primary' lens galaxy and a handful of lower mass galaxies\n",
        "nearby. They typically contain just one or two lensed sources whose arcs are extended and visible. Their Einstein\n",
        "Radii range between typical values of 5.0\" -> 10.0\" and with care, it is feasible to fit the source's extended\n",
        "emission in the imaging or interferometer data.\n",
        "\n",
        "Strong lensing clusters, which contain many hundreds of lens and source galaxies, cannot be modeled with\n",
        "**PyAutoLens**. However, we are actively developing this functionality."
      ]
    },
    {
      "cell_type": "code",
      "metadata": {},
      "source": [
        "%matplotlib inline\n",
        "from pyprojroot import here\n",
        "workspace_path = str(here())\n",
        "%cd $workspace_path\n",
        "print(f\"Working Directory has been set to `{workspace_path}`\")\n",
        "\n",
        "from os import path\n",
        "import autofit as af\n",
        "import autolens as al\n",
        "import autolens.plot as aplt"
      ],
      "outputs": [],
      "execution_count": null
    },
    {
      "cell_type": "markdown",
      "metadata": {},
      "source": [
        "__Dataset__\n",
        "\n",
        "Lets begin by looking at a simulated group-scale strong lens which clearly has a distinct primary lens galaxy, but \n",
        "additional galaxies can be seen in and around the Einstein ring. \n",
        "\n",
        "These galaxies are faint and small in number, but their lensing effects on the source are significant enough that we \n",
        "must ultimately include them in the lens model."
      ]
    },
    {
      "cell_type": "code",
      "metadata": {},
      "source": [
        "dataset_name = \"lens_x3__source_x1\"\n",
        "dataset_path = path.join(\"dataset\", \"group\", dataset_name)\n",
        "\n",
        "imaging = al.Imaging.from_fits(\n",
        "    data_path=path.join(dataset_path, \"data.fits\"),\n",
        "    noise_map_path=path.join(dataset_path, \"noise_map.fits\"),\n",
        "    psf_path=path.join(dataset_path, \"psf.fits\"),\n",
        "    pixel_scales=0.1,\n",
        ")\n",
        "\n",
        "imaging_plotter = aplt.ImagingPlotter(dataset=imaging)\n",
        "imaging_plotter.subplot_dataset()"
      ],
      "outputs": [],
      "execution_count": null
    },
    {
      "cell_type": "markdown",
      "metadata": {},
      "source": [
        "__Point Source__\n",
        "\n",
        "The Source's ring is much larger than other examples (> 5.0\") and there are clearly additional galaxies in and around\n",
        "the main lens galaxy. \n",
        "\n",
        "Modeling group scale lenses is challenging, because each individual galaxy must be included in the overall lens model. \n",
        "For this simple overview, we will therefore model the system as a point source, which reduces the complexity of the \n",
        "model and reduces the computational run-time of the model-fit.\n",
        "\n",
        "Lets the lens's point-source data, where the brightest pixels of the source are used as the locations of its\n",
        "centre:"
      ]
    },
    {
      "cell_type": "code",
      "metadata": {},
      "source": [
        "dataset = al.from_json(\n",
        "    file_path=path.join(dataset_path, \"point_dataset.json\"),\n",
        ")"
      ],
      "outputs": [],
      "execution_count": null
    },
    {
      "cell_type": "markdown",
      "metadata": {},
      "source": [
        "We plot its positions over the observed image, using the `Visuals2D` object:"
      ]
    },
    {
      "cell_type": "code",
      "metadata": {},
      "source": [
        "visuals = aplt.Visuals2D(positions=dataset.positions)\n",
        "\n",
        "array_plotter = aplt.Array2DPlotter(array=imaging.data, visuals_2d=visuals)\n",
        "array_plotter.figure_2d()"
      ],
      "outputs": [],
      "execution_count": null
    },
    {
      "cell_type": "markdown",
      "metadata": {},
      "source": [
        "__PointSolver__\n",
        "\n",
        "Setup the `PointSolver`."
      ]
    },
    {
      "cell_type": "code",
      "metadata": {},
      "source": [
        "grid = al.Grid2D.uniform(\n",
        "    shape_native=(100, 100),\n",
        "    pixel_scales=0.2,  # <- The pixel-scale describes the conversion from pixel units to arc-seconds.\n",
        ")\n",
        "\n",
        "solver = al.PointSolver.for_grid(\n",
        "    grid=grid, pixel_scale_precision=0.001, magnification_threshold=0.1\n",
        ")"
      ],
      "outputs": [],
      "execution_count": null
    },
    {
      "cell_type": "markdown",
      "metadata": {},
      "source": [
        "__Model__\n",
        "\n",
        "We now compose the lens model. For groups there could be many lens and source galaxies in the model. \n",
        "\n",
        "Whereas previous  examples explicitly wrote the model out via Python code, for group modeling we opt to write it \n",
        "in .json files which are loaded in this script.\n",
        "\n",
        "The code below loads a model from a `.json` file created by the script `group/models/lens_x3__source_x1.py`. This \n",
        "model includes all three lens galaxies where the priors on the centres have been paired to the brightest pixels in the \n",
        "observed image, alongside a source galaxy which is modeled as a point source."
      ]
    },
    {
      "cell_type": "code",
      "metadata": {},
      "source": [
        "model_path = path.join(\"dataset\", \"group\", \"lens_x3__source_x1\")\n",
        "\n",
        "lenses_file = path.join(model_path, \"lenses.json\")\n",
        "lenses = af.Collection.from_json(file=lenses_file)\n",
        "\n",
        "sources_file = path.join(model_path, \"sources.json\")\n",
        "sources = af.Collection.from_json(file=sources_file)\n",
        "\n",
        "galaxies = lenses + sources\n",
        "\n",
        "model = af.Collection(galaxies=galaxies)"
      ],
      "outputs": [],
      "execution_count": null
    },
    {
      "cell_type": "markdown",
      "metadata": {},
      "source": [
        "The model can be displayed via its `info` property:"
      ]
    },
    {
      "cell_type": "code",
      "metadata": {},
      "source": [
        "print(model.info)"
      ],
      "outputs": [],
      "execution_count": null
    },
    {
      "cell_type": "markdown",
      "metadata": {},
      "source": [
        "The source does not use the `Point` class discussed in the previous overview example, but instead uses \n",
        "a `Point` object.\n",
        "\n",
        "This object changes the behaviour of how the positions in the point dataset are fitted. For a normal `Point` object,\n",
        "the positions are fitted in the image-plane, by mapping the source-plane back to the image-plane via the lens model\n",
        "and iteratively searching for the best-fit solution.\n",
        "\n",
        "The `Point` object instead fits the positions directly in the source-plane, by mapping the image-plane \n",
        "positions to the source just one. This is a much faster way to fit the positions,and for group scale lenses it \n",
        "typically sufficient to infer an accurate lens model.\n",
        "\n",
        "__Search + Analysis + Model-Fit__\n",
        "\n",
        "We are now able to model this dataset as a point source, using the exact same tools we used in the point source \n",
        "overview."
      ]
    },
    {
      "cell_type": "code",
      "metadata": {},
      "source": [
        "search = af.Nautilus(path_prefix=\"overview\", name=\"groups\")\n",
        "\n",
        "analysis = al.AnalysisPoint(dataset=dataset, solver=solver)\n",
        "\n",
        "result = search.fit(model=model, analysis=analysis)"
      ],
      "outputs": [],
      "execution_count": null
    },
    {
      "cell_type": "markdown",
      "metadata": {},
      "source": [
        "__Result__\n",
        "\n",
        "The result contains information on every galaxy in our lens model:"
      ]
    },
    {
      "cell_type": "code",
      "metadata": {},
      "source": [
        "print(result.max_log_likelihood_instance.galaxies.lens_0.mass)\n",
        "print(result.max_log_likelihood_instance.galaxies.lens_1.mass)\n",
        "print(result.max_log_likelihood_instance.galaxies.lens_2.mass)"
      ],
      "outputs": [],
      "execution_count": null
    },
    {
      "cell_type": "markdown",
      "metadata": {},
      "source": [
        "__Extended Source Fitting__\n",
        "\n",
        "For group-scale lenses like this one, with a modest number of lens and source galaxies it is feasible to \n",
        "perform extended surface-brightness fitting to the source's extended emission. This includes using a pixelized \n",
        "source reconstruction.\n",
        "\n",
        "This will extract a lot more information from the data than the point-source model and the source reconstruction means\n",
        "that you can study the properties of the highly magnified source galaxy.\n",
        "\n",
        "This type of modeling uses a lot of **PyAutoLens**'s advanced model-fitting features which are described in chapters 3\n",
        "and 4 of the **HowToLens** tutorials. An example performing this analysis to the lens above can be found in the \n",
        "notebook `groups/chaining/point_source_to_imaging.ipynb`.\n",
        "\n",
        "__Wrap Up__\n",
        "\n",
        "The `group` package of the `autolens_workspace` contains numerous example scripts for performing group-sale modeling \n",
        "and simulating group-scale strong lens datasets."
      ]
    },
    {
      "cell_type": "code",
      "metadata": {},
      "source": [],
      "outputs": [],
      "execution_count": null
    }
  ],
  "metadata": {
    "anaconda-cloud": {},
    "kernelspec": {
      "display_name": "Python 3",
      "language": "python",
      "name": "python3"
    },
    "language_info": {
      "codemirror_mode": {
        "name": "ipython",
        "version": 3
      },
      "file_extension": ".py",
      "mimetype": "text/x-python",
      "name": "python",
      "nbconvert_exporter": "python",
      "pygments_lexer": "ipython3",
      "version": "3.6.1"
    }
  },
  "nbformat": 4,
  "nbformat_minor": 4
}