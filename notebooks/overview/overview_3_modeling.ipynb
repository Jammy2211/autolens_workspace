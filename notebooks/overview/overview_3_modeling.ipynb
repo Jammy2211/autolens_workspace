{
  "cells": [
    {
      "cell_type": "markdown",
      "metadata": {},
      "source": [
        "Overview: Modeling\n",
        "------------------\n",
        "\n",
        "Lens modeling is the process of taking data of a strong lens (e.g. imaging data from the Hubble Space Telescope or\n",
        "interferometer data from ALMA) and fitting it with a lens model, to determine the light and mass distributions of the\n",
        "lens and source galaxies that best represent the observed strong lens.\n",
        "\n",
        "Lens modeling uses the probabilistic programming language\n",
        "`PyAutoFit <https://github.com/rhayes777/PyAutoFit>`_, an open-source Python framework that allows complex model\n",
        "fitting techniques to be straightforwardly integrated into scientific modeling software. Check it out if you\n",
        "are interested in developing your own software to perform advanced model-fitting!\n",
        "\n",
        "We import **PyAutoFit** separately to **PyAutoLens**"
      ]
    },
    {
      "cell_type": "code",
      "metadata": {},
      "source": [
        "%matplotlib inline\n",
        "from pyprojroot import here\n",
        "workspace_path = str(here())\n",
        "%cd $workspace_path\n",
        "print(f\"Working Directory has been set to `{workspace_path}`\")\n",
        "\n",
        "import numpy as np\n",
        "from os import path\n",
        "\n",
        "import autolens as al\n",
        "import autolens.plot as aplt\n",
        "\n",
        "import autofit as af"
      ],
      "outputs": [],
      "execution_count": null
    },
    {
      "cell_type": "markdown",
      "metadata": {},
      "source": [
        "__Dataset__\n",
        "\n",
        "In this example, we model Hubble Space Telescope imaging of a real strong lens system, with our goal to\n",
        "infer the lens and source galaxy light and mass models that fit the data well!"
      ]
    },
    {
      "cell_type": "code",
      "metadata": {},
      "source": [
        "dataset_path = path.join(\"dataset\", \"slacs\", \"slacs1430+4105\")\n",
        "\n",
        "dataset = al.Imaging.from_fits(\n",
        "    data_path=path.join(dataset_path, \"data.fits\"),\n",
        "    psf_path=path.join(dataset_path, \"psf.fits\"),\n",
        "    noise_map_path=path.join(dataset_path, \"noise_map.fits\"),\n",
        "    pixel_scales=0.05,\n",
        ")\n",
        "\n",
        "dataset_plotter = aplt.ImagingPlotter(dataset=dataset)\n",
        "dataset_plotter.subplot_dataset()"
      ],
      "outputs": [],
      "execution_count": null
    },
    {
      "cell_type": "markdown",
      "metadata": {},
      "source": [
        "__Mask__\n",
        "\n",
        "We next mask the dataset, to remove the exterior regions of the image that do not contain emission from the lens or\n",
        "source galaxy.\n",
        "\n",
        "Note how when we plot the `Imaging` below, the figure now zooms into the masked region."
      ]
    },
    {
      "cell_type": "code",
      "metadata": {},
      "source": [
        "mask = al.Mask2D.circular(\n",
        "    shape_native=dataset.shape_native,\n",
        "    pixel_scales=dataset.pixel_scales,\n",
        "    radius=3.0,\n",
        ")\n",
        "\n",
        "dataset = dataset.apply_mask(mask=mask)\n",
        "\n",
        "dataset_plotter = aplt.ImagingPlotter(dataset=dataset)\n",
        "dataset_plotter.subplot_dataset()"
      ],
      "outputs": [],
      "execution_count": null
    },
    {
      "cell_type": "markdown",
      "metadata": {},
      "source": [
        "__Model__\n",
        "\n",
        "We compose the lens model that we fit to the data using `af.Model` objects. \n",
        "\n",
        "These behave analogously to `Galaxy` objects but their  `LightProfile` and `MassProfile` parameters are not specified,\n",
        "they are instead determined by a fitting procedure.\n",
        "\n",
        "We will fit our strong lens data with two galaxies:\n",
        "\n",
        "- A lens galaxy with a `Sersic` bulge and  an `Isothermal` mass profile representing its mass, whose centres are \n",
        "  fixed to (0.0\", 0.0\").\n",
        "  \n",
        "- A source galaxy with an `Exponential` light profile representing a disk.\n",
        "\n",
        "The redshifts of the lens (z=0.285) and source (z=0.575) are fixed."
      ]
    },
    {
      "cell_type": "code",
      "metadata": {},
      "source": [
        "# Lens:\n",
        "bulge = af.Model(al.lp.Sersic)\n",
        "bulge.centre = (0.0, 0.0)\n",
        "\n",
        "mass = af.Model(al.mp.Isothermal)\n",
        "mass.centre = (0.0, 0.0)\n",
        "\n",
        "lens = af.Model(al.Galaxy, redshift=0.285, bulge=bulge, mass=mass)\n",
        "\n",
        "# Source:\n",
        "\n",
        "disk = af.Model(al.lp.Exponential)\n",
        "\n",
        "source = af.Model(al.Galaxy, redshift=0.575, disk=disk)"
      ],
      "outputs": [],
      "execution_count": null
    },
    {
      "cell_type": "markdown",
      "metadata": {},
      "source": [
        "The `info` attribute of each `Model` component shows the model in a readable format."
      ]
    },
    {
      "cell_type": "code",
      "metadata": {},
      "source": [
        "print(lens.info)\n",
        "print()\n",
        "print(source.info)"
      ],
      "outputs": [],
      "execution_count": null
    },
    {
      "cell_type": "markdown",
      "metadata": {},
      "source": [
        "We combine the lens and source model galaxies above into a `Collection`, which is the final lens model we will fit. \n",
        "\n",
        "The reason we create separate `Collection`'s for the `galaxies` and `model` is so that the `model` can be extended to \n",
        "include other components than just galaxies."
      ]
    },
    {
      "cell_type": "code",
      "metadata": {},
      "source": [
        "galaxies = af.Collection(lens=lens, source=source)\n",
        "model = af.Collection(galaxies=galaxies)"
      ],
      "outputs": [],
      "execution_count": null
    },
    {
      "cell_type": "markdown",
      "metadata": {},
      "source": [
        "The `info` attribute shows the model in a readable format."
      ]
    },
    {
      "cell_type": "code",
      "metadata": {},
      "source": [
        "print(model.info)"
      ],
      "outputs": [],
      "execution_count": null
    },
    {
      "cell_type": "markdown",
      "metadata": {},
      "source": [
        "__Non-linear Search__\n",
        "\n",
        "We now choose the non-linear search, which is the fitting method used to determine the set of light and mass profile \n",
        "parameters that best-fit our data.\n",
        "\n",
        "In this example we use `Nautilus` (https://github.com/joshspeagle/Nautilus), a nested sampling algorithm that is\n",
        "very effective at lens modeling.\n",
        "\n",
        "PyAutoLens supports many model-fitting algorithms, including maximum likelihood estimators and MCMC, which are\n",
        "documented throughout the workspace.\n",
        "\n",
        "We include an input `number_of_cores`, which when above 1 means that Nautilus uses parallel processing to sample multiple \n",
        "lens models at once on your CPU."
      ]
    },
    {
      "cell_type": "code",
      "metadata": {},
      "source": [
        "search = af.Nautilus(path_prefix=\"overview\", name=\"modeling\", number_of_cores=4)"
      ],
      "outputs": [],
      "execution_count": null
    },
    {
      "cell_type": "markdown",
      "metadata": {},
      "source": [
        "The non-linear search fits the lens model by guessing many lens models over and over iteratively, using the models which\n",
        "give a good fit to the data to guide it where to guess subsequent model. \n",
        "\n",
        "An animation of a non-linear search fitting another HST lens is shown below, where initial lens models give a poor \n",
        "fit to the data but gradually improve (increasing the likelihood) as more iterations are performed.\n",
        "\n",
        "![CCD Animation](https://github.com/Jammy2211/autocti_workspace/blob/main/dataset/ccd.gif \"ccd\")\n",
        "\n",
        "**Credit: Amy Etherington**\n",
        "\n",
        "__Analysis__\n",
        "\n",
        "We next create an `AnalysisImaging` object, which contains the `log_likelihood_function` that the non-linear search \n",
        "calls to fit the lens model to the data."
      ]
    },
    {
      "cell_type": "code",
      "metadata": {},
      "source": [
        "analysis = al.AnalysisImaging(dataset=dataset)"
      ],
      "outputs": [],
      "execution_count": null
    },
    {
      "cell_type": "markdown",
      "metadata": {},
      "source": [
        "__Run Times__\n",
        "\n",
        "Lens modeling can be a computationally expensive process. When fitting complex models to high resolution datasets \n",
        "run times can be of order hours, days, weeks or even months.\n",
        "\n",
        "Run times are dictated by two factors:\n",
        "\n",
        " - The log likelihood evaluation time: the time it takes for a single `instance` of the lens model to be fitted to \n",
        "   the dataset such that a log likelihood is returned.\n",
        "\n",
        " - The number of iterations (e.g. log likelihood evaluations) performed by the non-linear search: more complex lens\n",
        "   models require more iterations to converge to a solution.\n",
        "\n",
        "The log likelihood evaluation time can be estimated before a fit using the `profile_log_likelihood_function` method,\n",
        "which returns two dictionaries containing the run-times and information about the fit."
      ]
    },
    {
      "cell_type": "code",
      "metadata": {},
      "source": [
        "run_time_dict, info_dict = analysis.profile_log_likelihood_function(\n",
        "    instance=model.random_instance()\n",
        ")"
      ],
      "outputs": [],
      "execution_count": null
    },
    {
      "cell_type": "markdown",
      "metadata": {},
      "source": [
        "The overall log likelihood evaluation time is given by the `fit_time` key.\n",
        "\n",
        "For this example, it is ~0.01 seconds, which is extremely fast for lens modeling. More advanced lens\n",
        "modeling features (e.g. shapelets, multi Gaussian expansions, pixelizations) have slower log likelihood evaluation\n",
        "times (1-3 seconds), and you should be wary of this when using these features.\n",
        "\n",
        "Feel free to go ahead a print the full `run_time_dict` and `info_dict` to see the other information they contain. The\n",
        "former has a break-down of the run-time of every individual function call in the log likelihood function, whereas the \n",
        "latter stores information about the data which drives the run-time (e.g. number of image-pixels in the mask, the\n",
        "shape of the PSF, etc.)."
      ]
    },
    {
      "cell_type": "code",
      "metadata": {},
      "source": [
        "print(f\"Log Likelihood Evaluation Time (second) = {run_time_dict['fit_time']}\")"
      ],
      "outputs": [],
      "execution_count": null
    },
    {
      "cell_type": "markdown",
      "metadata": {},
      "source": [
        "To estimate the expected overall run time of the model-fit we multiply the log likelihood evaluation time by an \n",
        "estimate of the number of iterations the non-linear search will perform. \n",
        "\n",
        "Estimating this quantity is more tricky, as it varies depending on the lens model complexity (e.g. number of parameters)\n",
        "and the properties of the dataset and model being fitted.\n",
        "\n",
        "For this example, we conservatively estimate that the non-linear search will perform ~10000 iterations per free \n",
        "parameter in the model. This is an upper limit, with models typically converging in far fewer iterations.\n",
        "\n",
        "If you perform the fit over multiple CPUs, you can divide the run time by the number of cores to get an estimate of\n",
        "the time it will take to fit the model. Parallelization with Nautilus scales well, it speeds up the model-fit by the \n",
        "`number_of_cores` for N < 8 CPUs and roughly `0.5*number_of_cores` for N > 8 CPUs. This scaling continues \n",
        "for N> 50 CPUs, meaning that with super computing facilities you can always achieve fast run times!"
      ]
    },
    {
      "cell_type": "code",
      "metadata": {},
      "source": [
        "print(\n",
        "    \"Estimated Run Time Upper Limit (seconds) = \",\n",
        "    (run_time_dict[\"fit_time\"] * model.total_free_parameters * 10000)\n",
        "    / search.number_of_cores,\n",
        ")"
      ],
      "outputs": [],
      "execution_count": null
    },
    {
      "cell_type": "markdown",
      "metadata": {},
      "source": [
        "__Model-Fit__\n",
        "\n",
        "To perform the model-fit we pass the model and analysis to the search's fit method. This will output results (e.g.,\n",
        "Nautilus samples, model parameters, visualization) to hard-disk.\n",
        "\n",
        "Once running you should checkout the `autolens_workspace/output` folder, which is where the results of the search are \n",
        "written to hard-disk on-the-fly. This includes lens model parameter estimates with errors non-linear samples and the \n",
        "visualization of the best-fit lens model inferred by the search so far. \n",
        "\n",
        "NOTE: This fit will take ~10 minutes to run."
      ]
    },
    {
      "cell_type": "code",
      "metadata": {},
      "source": [
        "result = search.fit(model=model, analysis=analysis)"
      ],
      "outputs": [],
      "execution_count": null
    },
    {
      "cell_type": "markdown",
      "metadata": {},
      "source": [
        "__Results__\n",
        "\n",
        "Whilst navigating the output folder, you may of noted the results were contained in a folder that appears as a random\n",
        "collection of characters. \n",
        "\n",
        "This is the model-fit's unique identifier, which is generated based on the model, search and dataset used by the fit. \n",
        "Fitting an identical model, search and dataset will generate the same identifier, meaning that rerunning the script \n",
        "will use the existing results to resume the model-fit. In contrast, if you change the model, search or dataset, a new \n",
        "unique identifier will be generated, ensuring that the model-fit results are output into a separate folder.\n",
        "\n",
        "The fit above returns a `Result` object, which includes lots of information on the lens model. \n",
        "\n",
        "The `info` attribute shows the result in a readable format."
      ]
    },
    {
      "cell_type": "code",
      "metadata": {},
      "source": [
        "print(result.info)"
      ],
      "outputs": [],
      "execution_count": null
    },
    {
      "cell_type": "markdown",
      "metadata": {},
      "source": [
        "Below, we print the maximum log likelihood model inferred."
      ]
    },
    {
      "cell_type": "code",
      "metadata": {},
      "source": [
        "print(result.max_log_likelihood_instance.galaxies.lens)\n",
        "print(result.max_log_likelihood_instance.galaxies.source)"
      ],
      "outputs": [],
      "execution_count": null
    },
    {
      "cell_type": "markdown",
      "metadata": {},
      "source": [
        "The result contains the full posterior information of our non-linear search, including all parameter samples, \n",
        "log likelihood values and tools to compute the errors on the lens model. \n",
        "\n",
        "There are built in visualization tools for plotting this.\n",
        "\n",
        "The plot is labeled with short hand parameter names (e.g. `sersic_index` is mapped to the short hand \n",
        "parameter `n`). These mappings ate specified in the `config/notation.yaml` file and can be customized by users.\n",
        "\n",
        "The superscripts of labels correspond to the name each component was given in the model (e.g. for the `Isothermal`\n",
        "mass its name `mass` defined when making the `Model` above is used)."
      ]
    },
    {
      "cell_type": "code",
      "metadata": {},
      "source": [
        "plotter = aplt.NestPlotter(samples=result.samples)\n",
        "plotter.corner_anesthetic()"
      ],
      "outputs": [],
      "execution_count": null
    },
    {
      "cell_type": "markdown",
      "metadata": {},
      "source": [
        "The result also contains the maximum log likelihood `Tracer` and `FitImaging` objects which can easily be plotted.\n",
        "\n",
        "The fit has more significant residuals than the previous tutorial. It is clear that the lens model cannot fully\n",
        "capture the central emission of the lens galaxy and the complex structure of the lensed source galaxy. Nevertheless, \n",
        "it is sufficient to estimate simple lens quantities, like the Einstein Mass.\n",
        "\n",
        "The next examples cover all the features that **PyAutoLens** has to improve the model-fit."
      ]
    },
    {
      "cell_type": "code",
      "metadata": {},
      "source": [
        "tracer_plotter = aplt.TracerPlotter(\n",
        "    tracer=result.max_log_likelihood_tracer, grid=dataset.grid\n",
        ")\n",
        "tracer_plotter.subplot_tracer()\n",
        "\n",
        "fit_plotter = aplt.FitImagingPlotter(fit=result.max_log_likelihood_fit)\n",
        "fit_plotter.subplot_fit()"
      ],
      "outputs": [],
      "execution_count": null
    },
    {
      "cell_type": "markdown",
      "metadata": {},
      "source": [
        "A full guide of result objects is contained in the `autolens_workspace/*/imaging/results` package.\n",
        "\n",
        "__Model Customization__\n",
        "\n",
        "The model can be fully customized, making it simple to parameterize and fit many different lens models\n",
        "using any combination of light and mass profiles."
      ]
    },
    {
      "cell_type": "code",
      "metadata": {},
      "source": [
        "lens = af.Model(\n",
        "    al.Galaxy, redshift=0.5, bulge=al.lp.DevVaucouleurs, mass=al.mp.Isothermal\n",
        ")"
      ],
      "outputs": [],
      "execution_count": null
    },
    {
      "cell_type": "markdown",
      "metadata": {},
      "source": [
        "This aligns the light and mass profile centres in the model, reducing the\n",
        "number of free parameter fitted for by Nautilus by 2."
      ]
    },
    {
      "cell_type": "code",
      "metadata": {},
      "source": [
        "lens.bulge.centre = lens.mass.centre"
      ],
      "outputs": [],
      "execution_count": null
    },
    {
      "cell_type": "markdown",
      "metadata": {},
      "source": [
        "This fixes the lens galaxy light profile's effective radius to a value of\n",
        "0.8 arc-seconds, removing another free parameter."
      ]
    },
    {
      "cell_type": "code",
      "metadata": {},
      "source": [
        "lens.bulge.effective_radius = 0.8"
      ],
      "outputs": [],
      "execution_count": null
    },
    {
      "cell_type": "markdown",
      "metadata": {},
      "source": [
        "This forces the mass profile's einstein radius to be above 1.0 arc-seconds."
      ]
    },
    {
      "cell_type": "code",
      "metadata": {},
      "source": [
        "lens.mass.add_assertion(lens.mass.einstein_radius > 1.0)"
      ],
      "outputs": [],
      "execution_count": null
    },
    {
      "cell_type": "markdown",
      "metadata": {},
      "source": [
        "The `info` attribute shows the customized model."
      ]
    },
    {
      "cell_type": "code",
      "metadata": {},
      "source": [
        "print(lens.info)"
      ],
      "outputs": [],
      "execution_count": null
    },
    {
      "cell_type": "markdown",
      "metadata": {},
      "source": [
        "__Cookbook__\n",
        "\n",
        "The readthedocs contain a modeling cookbook which provides a concise reference to all the ways to customize a lens \n",
        "model: https://pyautolens.readthedocs.io/en/latest/general/model_cookbook.html\n",
        "\n",
        "__Linear Light Profiles__\n",
        "\n",
        "**PyAutoLens** supports 'linear light profiles', where the `intensity` parameters of all parametric components are \n",
        "solved via linear algebra every time the model is fitted using a process called an inversion. This inversion always \n",
        "computes `intensity` values that give the best fit to the data (e.g. they maximize the likelihood) given the other \n",
        "parameter values of the light profile.\n",
        "\n",
        "The `intensity` parameter of each light profile is therefore not a free parameter in the model-fit, reducing the\n",
        "dimensionality of non-linear parameter space by the number of light profiles (in the example below by 3) and removing \n",
        "the degeneracies that occur between the `intensity` and other light profile\n",
        "parameters (e.g. `effective_radius`, `sersic_index`).\n",
        "\n",
        "For complex models, linear light profiles are a powerful way to simplify the parameter space to ensure the best-fit\n",
        "model is inferred.\n",
        "\n",
        "A full descriptions of this feature is given in the `linear_light_profiles` example:\n",
        "\n",
        "https://github.com/Jammy2211/autolens_workspace/blob/release/notebooks/imaging/modeling/features/linear_light_profiles.ipynb\n",
        "\n",
        "__Multi Gaussian Expansion__\n",
        "\n",
        "A natural extension of linear light profiles are basis functions, which group many linear light profiles together in\n",
        "order to capture complex and irregular structures in a galaxy's emission.\n",
        "\n",
        "Using a clever model parameterization a basis can be composed which corresponds to just N = 4-6 parameters, making\n",
        "model-fitting efficient and robust.\n",
        "\n",
        "A full descriptions of this feature is given in the `multi_gaussian_expansion` example:\n",
        "\n",
        "https://github.com/Jammy2211/autolens_workspace/blob/release/notebooks/imaging/modeling/features/multi_gaussian_expansion.ipynb\n",
        "\n",
        "__Shapelets__\n",
        "\n",
        "**PyAutoLens** also supports `Shapelets`, which are a powerful way to fit the light of the galaxies which\n",
        "typically act as the source galaxy in strong lensing systems.\n",
        "\n",
        "A full descriptions of this feature is given in the `shapelets` example:\n",
        "\n",
        "https://github.com/Jammy2211/autolens_workspace/blob/release/notebooks/imaging/modeling/features/shapelets.ipynb\n",
        "\n",
        "__Pixelizations__\n",
        "\n",
        "The source galaxy can be reconstructed using adaptive pixel-grids (e.g. a Voronoi mesh or Delaunay triangulation), \n",
        "which unlike light profiles, a multi Gaussian expansion or shapelets are not analytic functions that conform to \n",
        "certain symmetric profiles. \n",
        "\n",
        "This means they can reconstruct more complex source morphologies and are better suited to performing detailed analyses\n",
        "of a lens galaxy's mass.\n",
        "\n",
        "A full descriptions of this feature is given in the `pixelization` example:\n",
        "\n",
        "https://github.com/Jammy2211/autolens_workspace/blob/release/notebooks/imaging/modeling/features/pixelization.ipynb\n",
        "\n",
        "The fifth overview example of the readthedocs also give a description of pixelizations:\n",
        "\n",
        "https://pyautolens.readthedocs.io/en/latest/overview/overview_5_pixelizations.html\n",
        "\n",
        "__Wrap Up__\n",
        "\n",
        "A more detailed description of lens modeling is provided at the following example:\n",
        "\n",
        "https://github.com/Jammy2211/autolens_workspace/blob/release/notebooks/imaging/modeling/start_here.ipynb\n",
        "\n",
        "Chapters 2 and 3 **HowToLens** lecture series give a comprehensive description of lens modeling, including a\n",
        "description of what a non-linear search is and strategies to fit complex lens model to data in efficient and\n",
        "robust ways."
      ]
    },
    {
      "cell_type": "code",
      "metadata": {},
      "source": [],
      "outputs": [],
      "execution_count": null
    }
  ],
  "metadata": {
    "anaconda-cloud": {},
    "kernelspec": {
      "display_name": "Python 3",
      "language": "python",
      "name": "python3"
    },
    "language_info": {
      "codemirror_mode": {
        "name": "ipython",
        "version": 3
      },
      "file_extension": ".py",
      "mimetype": "text/x-python",
      "name": "python",
      "nbconvert_exporter": "python",
      "pygments_lexer": "ipython3",
      "version": "3.6.1"
    }
  },
  "nbformat": 4,
  "nbformat_minor": 4
}