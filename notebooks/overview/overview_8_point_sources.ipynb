{
  "cells": [
    {
      "cell_type": "markdown",
      "metadata": {},
      "source": [
        "Overview: Point Sources\n",
        "-----------------------\n",
        "\n",
        "So far, overview examples have shown strongly lensed galaxies, whose extended surface brightness is lensed into\n",
        "the awe-inspiring giant arcs and Einstein rings we see in high quality telescope imaging. There are many lenses where\n",
        "the background source is not extended but is instead a point-source, for example strongly lensed quasars and supernovae.\n",
        "\n",
        "For these objects, we do not want to model the source using light profiles, which implicitly assume an extended\n",
        "surface brightness distribution. Instead, we assume that the source is a point source with a centre (y,x).\n",
        "\n",
        "Our ray-tracing calculations no longer trace extended light rays from the source plane to the image-plane, but\n",
        "instead now find the locations the point-source's multiple images appear in the image-plane.\n",
        "\n",
        "Finding the multiple images of a mass model given a (y,x) coordinate in the source plane is an iterative problem\n",
        "performed in a very different way to ray-tracing a light profile. In this example, we introduce **PyAutoLens**`s\n",
        "`MultipleImageSolver`, which does exactly this and thus makes the analysis of strong lensed quasars, supernovae and\n",
        "point-like source's possible in **PyAutoLens**!\n",
        "\n",
        "We'll also show how these tools allow us to compute the flux-ratios and time-delays of the point-source.\n",
        "\n",
        "__Source Plane Chi Squared__\n",
        "\n",
        "This example performs point-source modeling using a source-plane chi-squared. This means the likelihood of a model\n",
        "is evaluated based on how close the multiple image positions it predicts trace to the centre of the point source\n",
        "in the source-plane.\n",
        "\n",
        "This is often regard as a less robust way to perform point-source modeling than an image-plane chi-squared, and it\n",
        "means that other information about the multiple images of the point source (e.g. their fluxes) cannot be used. On\n",
        "the plus side, it is much faster to perform modeling using a source-plane chi-squared.\n",
        "\n",
        "Visualization of point-source modeling results are also limited, as the feature is still in development.\n",
        "\n",
        "__Overview Script Quality__\n",
        "\n",
        "This script is less well written than others, lacking visualization, a coherent description and general writing\n",
        "quality. This is because it is a work-in-progress and I am still finding time to present this feature in a clear\n",
        "and concise way.\n",
        "\n",
        "If you have a desire to use point source lens modeling, and are okay with a source-plane chi-squared analysis, I\n",
        "recommend you go to the following modeling script which is more complete and better written:\n",
        "\n",
        "https://github.com/Jammy2211/autolens_workspace/blob/release/notebooks/point_source/modeling/start_here.ipynb\n",
        "\n",
        "__Image Plane Chi Squared (In Development)__\n",
        "\n",
        "An image-plane chi-squared is also available, however it is an in development feature with limitations. The main\n",
        "limitation is that the solver for the image-plane positions of a point-source in the source-plane is not robust. It\n",
        "often infers incorrect additional multiple image positions or fails to locate the correct ones.\n",
        "\n",
        "This is because I made the foolish decision to try and locate the positions by ray-tracing squares surrounding the\n",
        "image-plane positions to the source-plane and using a nearest neighbor based approach based on the Euclidean distance.\n",
        "This contrasts standard implementations elsewhere in the literature, which use a more robust approach based on ray\n",
        "tracing triangles to the source-plane and using whether the source-plane position lands within each triangle.\n",
        "\n",
        "This will one day be fixed, but we have so far not found time to do so."
      ]
    },
    {
      "cell_type": "code",
      "metadata": {},
      "source": [
        "%matplotlib inline\n",
        "from pyprojroot import here\n",
        "workspace_path = str(here())\n",
        "%cd $workspace_path\n",
        "print(f\"Working Directory has been set to `{workspace_path}`\")\n",
        "\n",
        "from os import path\n",
        "import autofit as af\n",
        "import autolens as al\n",
        "import autolens.plot as aplt"
      ],
      "outputs": [],
      "execution_count": null
    },
    {
      "cell_type": "markdown",
      "metadata": {},
      "source": [
        "__Lensed Point Source__\n",
        "\n",
        "To begin, we will create an image of strong lens using a simple isothermal mass model and source with an\n",
        "exponential light profile. \n",
        "\n",
        "Although we are going to show how **PyAutoLens**`s positional analysis tools model point-sources, showing the tools \n",
        "using an extended source will make it visibly clearer where the multiple images of the point source are!"
      ]
    },
    {
      "cell_type": "code",
      "metadata": {},
      "source": [
        "grid = al.Grid2D.uniform(\n",
        "    shape_native=(100, 100),\n",
        "    pixel_scales=0.05,  # <- The pixel-scale describes the conversion from pixel units to arc-seconds.\n",
        ")\n",
        "\n",
        "isothermal_mass_profile = al.mp.Isothermal(\n",
        "    centre=(0.0, 0.0),\n",
        "    einstein_radius=1.6,\n",
        "    ell_comps=al.convert.ell_comps_from(axis_ratio=0.9, angle=45.0),\n",
        ")\n",
        "\n",
        "exponential_light_profile = al.lp.Exponential(\n",
        "    centre=(0.0, 0.0), intensity=0.1, effective_radius=0.02\n",
        ")\n",
        "\n",
        "lens_galaxy = al.Galaxy(\n",
        "    redshift=0.5,\n",
        "    mass=isothermal_mass_profile,\n",
        ")\n",
        "\n",
        "source_galaxy = al.Galaxy(\n",
        "    redshift=1.0,\n",
        "    light=exponential_light_profile,\n",
        ")\n",
        "\n",
        "tracer_extended = al.Tracer(galaxies=[lens_galaxy, source_galaxy])"
      ],
      "outputs": [],
      "execution_count": null
    },
    {
      "cell_type": "markdown",
      "metadata": {},
      "source": [
        "We plot the image of our strongly lensed source galaxy. \n",
        "\n",
        "By eye, we can clearly see there are four multiple images located in a cross configuration, which are the \n",
        "four (y,x) multiple image coordinates we want our positional solver to find! "
      ]
    },
    {
      "cell_type": "code",
      "metadata": {},
      "source": [
        "tracer_plotter = aplt.TracerPlotter(tracer=tracer_extended, grid=grid)\n",
        "tracer_plotter.figures_2d(image=True)"
      ],
      "outputs": [],
      "execution_count": null
    },
    {
      "cell_type": "markdown",
      "metadata": {},
      "source": [
        "__Point Source__\n",
        "\n",
        "The image above visually illustrates where the source's light traces in the image-plane. \n",
        "\n",
        "Lets now treat this source as a point source, by setting up a source galaxy using the `Point` class. "
      ]
    },
    {
      "cell_type": "code",
      "metadata": {},
      "source": [
        "point_source = al.ps.PointSourceChi(centre=(0.07, 0.07))\n",
        "\n",
        "source_galaxy = al.Galaxy(redshift=1.0, point_0=point_source)\n",
        "\n",
        "tracer = al.Tracer(galaxies=[lens_galaxy, source_galaxy])"
      ],
      "outputs": [],
      "execution_count": null
    },
    {
      "cell_type": "markdown",
      "metadata": {},
      "source": [
        "__Position Solving__\n",
        "\n",
        "For a point source, our goal is to find the (y,x) coordinates in the image-plane that directly map to the centre\n",
        "of the point source in the source plane. In this example, we therefore need to compute the 4 image-plane that map\n",
        "directly to the location (0.07\", 0.07\"), the centre of the `Point` object above, in the source plane.\n",
        "\n",
        "This is often referred to as 'solving the lens equation' in the literature.\n",
        "\n",
        "This is an iterative problem that requires us to use the `MultipleImageSolver`. \n",
        "\n",
        "[For a source-plane chi-squared, we actually do not need to use a `MultipleImageSolver` at all, as its only purpose is to\n",
        "find the multiple-images of a source in the image-plane.\n",
        "\n",
        "Nevertheless, if you are feeling bold enough to try and use the current imaege-plage chi-squared feature, go ahead\n",
        "and use the `MultipleImageSolver` below.]"
      ]
    },
    {
      "cell_type": "code",
      "metadata": {},
      "source": [
        "solver = al.MultipleImageSolver(\n",
        "    grid=grid,\n",
        "    pixel_scale_precision=0.001,\n",
        "    upscale_factor=2,\n",
        "    distance_to_source_centre=0.01,\n",
        ")"
      ],
      "outputs": [],
      "execution_count": null
    },
    {
      "cell_type": "markdown",
      "metadata": {},
      "source": [
        "We now pass the tracer to the solver. This will then find the image-plane coordinates that map directly to the\n",
        "source-plane coordinate (0.07\", 0.07\"), which we plot below."
      ]
    },
    {
      "cell_type": "code",
      "metadata": {},
      "source": [
        "positions = solver.solve(lensing_obj=tracer, source_plane_coordinate=(0.07, 0.07))\n",
        "\n",
        "grid_plotter = aplt.Grid2DPlotter(grid=positions)\n",
        "grid_plotter.figure_2d()"
      ],
      "outputs": [],
      "execution_count": null
    },
    {
      "cell_type": "markdown",
      "metadata": {},
      "source": [
        "You might be wondering why don't we use the image of the lensed source to compute our multiple images. Can`t we just \n",
        "find the pixels in the image whose flux is brighter than its neighboring pixels? \n",
        "\n",
        "Although this might work, for positional modeling we want to know the (y,x) coordinates of the multiple images at a \n",
        "significantly higher precision than the grid we see the image on. In this example, the grid has a pixel scale of 0.05\",\n",
        "however we can determine our multiple image positions at scales of 0.01\" or below!\n",
        "\n",
        "**PyAutoLens** fully supports modeling strong lens datasets as a point-source. This might be used for analysing\n",
        "strongly lensed quasars or supernovae, which are so compact we do not observe their extended emission.\n",
        "\n",
        "To perform point-source modeling, we first create a `PointDataset` containing the image-plane (y,x) positions\n",
        "of each multiple image and their noise values (which would be the resolution of the imaging data they are observed). \n",
        "\n",
        "The positions below correspond to those of an isothermal mass model."
      ]
    },
    {
      "cell_type": "code",
      "metadata": {},
      "source": [
        "point_dataset = al.PointDataset(\n",
        "    name=\"point_0\",\n",
        "    positions=al.Grid2DIrregular(\n",
        "        [[1.1488, -1.1488], [1.109, 1.109], [-1.109, -1.109], [-1.1488, 1.1488]]\n",
        "    ),\n",
        "    positions_noise_map=al.ArrayIrregular([0.05, 0.05, 0.05, 0.05]),\n",
        ")"
      ],
      "outputs": [],
      "execution_count": null
    },
    {
      "cell_type": "markdown",
      "metadata": {},
      "source": [
        "The positions can be plotted over the observed image, to make sure they overlap with the multiple images we expect."
      ]
    },
    {
      "cell_type": "code",
      "metadata": {},
      "source": [
        "visuals = aplt.Visuals2D(positions=point_dataset.positions)\n",
        "\n",
        "tracer_plotter = aplt.TracerPlotter(\n",
        "    tracer=tracer_extended, grid=grid, visuals_2d=visuals\n",
        ")\n",
        "tracer_plotter.figures_2d(image=True)"
      ],
      "outputs": [],
      "execution_count": null
    },
    {
      "cell_type": "markdown",
      "metadata": {},
      "source": [
        "__Point Source Dictionary__\n",
        "\n",
        "In this simple example we model a single point source, which might correspond to one lensed quasar or supernovae.\n",
        "However, **PyAutoLens** supports model-fits to datasets with many lensed point-sources, for example in galaxy clusters.\n",
        "\n",
        "Each point source dataset is therefore passed into a `PointDict` object before the model-fit is performed. For \n",
        "this simple example only one dataset is passed in, but in the galaxy-cluster examples you'll see this object makes it\n",
        "straightforward to model datasets with many lensed sources."
      ]
    },
    {
      "cell_type": "code",
      "metadata": {},
      "source": [
        "point_dict = al.PointDict(point_dataset_list=[point_dataset])"
      ],
      "outputs": [],
      "execution_count": null
    },
    {
      "cell_type": "markdown",
      "metadata": {},
      "source": [
        "We can print the `positions` of this dictionary and dataset, as well as their noise-map values."
      ]
    },
    {
      "cell_type": "code",
      "metadata": {},
      "source": [
        "print(\"Point Source Dataset Name:\")\n",
        "print(point_dict[\"point_0\"].name)\n",
        "print(\"Point Source Multiple Image (y,x) Arc-second Coordinates:\")\n",
        "print(point_dict[\"point_0\"].positions.in_list)\n",
        "print(\"Point Source Multiple Image Noise-map Values:\")\n",
        "print(point_dict[\"point_0\"].positions_noise_map.in_list)"
      ],
      "outputs": [],
      "execution_count": null
    },
    {
      "cell_type": "markdown",
      "metadata": {},
      "source": [
        "__Name Pairing__\n",
        "\n",
        "Every point-source dataset in the `PointDict` has a name, which in this example was `point_0`. This `name` pairs \n",
        "the dataset to the `Point` in the model below. Because the name of the dataset is `point_0`, the \n",
        "only `Point` object that is used to fit it must have the name `point_0`.\n",
        "\n",
        "If there is no point-source in the model that has the same name as a `PointDataset`, that data is not used in\n",
        "the model-fit. If a point-source is included in the model whose name has no corresponding entry in \n",
        "the `PointDataset` **PyAutoLens** will raise an error.\n",
        "\n",
        "In this example, where there is just one source, name pairing appears pointless. However, point-source datasets may\n",
        "have many source galaxies in them, and name pairing is necessary to ensure every point source in the lens model is \n",
        "fitted to its particular lensed images in the `PointDict`!\n",
        "\n",
        "__Fitting__\n",
        "\n",
        "Just like we used a `Tracer` to fit imaging and interferometer data, we can use it to fit point-source data via the\n",
        "`FitPoint` object.\n",
        "\n",
        "This uses the names of each point-source in the dataset and model to create individual fits to the `positions`, \n",
        "`fluxes` and other attributes that could be fitted. This allows us to inspect the residual-map, \n",
        "chi-squared, likelihood, etc of every individual fit to part of our point source dataset.  "
      ]
    },
    {
      "cell_type": "code",
      "metadata": {},
      "source": [
        "fit = al.FitPointDict(point_dict=point_dict, tracer=tracer, point_solver=solver)\n",
        "\n",
        "print(fit[\"point_0\"].positions.residual_map)\n",
        "print(fit[\"point_0\"].positions.normalized_residual_map)\n",
        "print(fit[\"point_0\"].positions.chi_squared_map)\n",
        "print(fit[\"point_0\"].positions.log_likelihood)"
      ],
      "outputs": [],
      "execution_count": null
    },
    {
      "cell_type": "markdown",
      "metadata": {},
      "source": [
        "__Model__\n",
        "\n",
        "It is straight forward to fit a lens model to a point source dataset, using the same API that we saw for dataset and\n",
        "interferometer datasets.\n",
        "\n",
        "This uses an `AnalysisPoint` object which fits the lens model in the correct way for a point source dataset.\n",
        "This includes mapping the `name`'s of each dataset in the `PointDict` to the names of the point sources in\n",
        "the lens model."
      ]
    },
    {
      "cell_type": "code",
      "metadata": {},
      "source": [
        "# Lens:\n",
        "\n",
        "bulge = af.Model(al.lp.Sersic)\n",
        "mass = af.Model(al.mp.Isothermal)\n",
        "\n",
        "lens = af.Model(al.Galaxy, redshift=0.5, bulge=bulge, mass=mass)\n",
        "\n",
        "# Source:\n",
        "\n",
        "point_0 = af.Model(al.ps.Point)\n",
        "\n",
        "source = af.Model(al.Galaxy, redshift=1.0, point_0=point_0)\n",
        "\n",
        "# Overall Lens Model:\n",
        "\n",
        "galaxies = af.Collection(lens=lens, source=source)\n",
        "model = af.Collection(galaxies=galaxies)\n",
        "\n",
        "# Search + Analysis + Model-Fit\n",
        "\n",
        "search = af.Nautilus(path_prefix=\"overview\", name=\"point_source\")\n",
        "\n",
        "analysis = al.AnalysisPoint(point_dict=point_dict, solver=solver)\n",
        "\n",
        "result = search.fit(model=model, analysis=analysis)"
      ],
      "outputs": [],
      "execution_count": null
    },
    {
      "cell_type": "markdown",
      "metadata": {},
      "source": [
        "__Result__\n",
        "\n",
        "The **PyAutoLens** visualization library and `FitPoint` object includes specific methods for plotting the results.\n",
        "\n",
        "__Wrap Up__\n",
        "\n",
        "The `point_source` package of the `autolens_workspace` contains numerous example scripts for performing point source\n",
        "modeling to datasets where there are only a couple of lenses and lensed sources, which fall under the category of\n",
        "'galaxy scale' objects.\n",
        "\n",
        "This also includes examples of how to add and fit other information that are observed by a point-source source,\n",
        "for example the flux of each image."
      ]
    },
    {
      "cell_type": "code",
      "metadata": {},
      "source": [],
      "outputs": [],
      "execution_count": null
    }
  ],
  "metadata": {
    "anaconda-cloud": {},
    "kernelspec": {
      "display_name": "Python 3",
      "language": "python",
      "name": "python3"
    },
    "language_info": {
      "codemirror_mode": {
        "name": "ipython",
        "version": 3
      },
      "file_extension": ".py",
      "mimetype": "text/x-python",
      "name": "python",
      "nbconvert_exporter": "python",
      "pygments_lexer": "ipython3",
      "version": "3.6.1"
    }
  },
  "nbformat": 4,
  "nbformat_minor": 4
}