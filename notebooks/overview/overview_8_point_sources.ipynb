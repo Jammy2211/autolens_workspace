{
  "cells": [
    {
      "cell_type": "markdown",
      "metadata": {},
      "source": [
        "Overview: Point Sources\n",
        "-----------------------\n",
        "\n",
        "So far, overview examples have shown strongly lensed galaxies, whose extended surface brightness is lensed into\n",
        "the awe-inspiring giant arcs and Einstein rings we see in high quality telescope imaging. There are many lenses where\n",
        "the background source is not extended but is instead a point-source, for example strongly lensed quasars and supernovae.\n",
        "\n",
        "For these objects, it is invalid to model the source using light profiles, which implicitly assume an extended\n",
        "surface brightness distribution. Instead, we assume that the source is a point source with a centre (y,x).\n",
        "\n",
        "Our ray-tracing calculations no longer trace extended light rays from the source plane to the image-plane, but\n",
        "instead find the locations the point-source's multiple images appear in the image-plane.\n",
        "\n",
        "Finding the multiple images of a mass model given a (y,x) coordinate in the source plane is an iterative problem\n",
        "performed differently to ray-tracing a light profile. This example introduces the `MultipleImageSolver` object, which\n",
        "finds the image-plane multiple images of a point source and makes the analysis of strong lensed quasars, supernovae and\n",
        "other point-like source's possible.\n",
        "\n",
        "We also show how these tools can compute the fluxes and time delays of the point-source."
      ]
    },
    {
      "cell_type": "code",
      "metadata": {},
      "source": [
        "%matplotlib inline\n",
        "from pyprojroot import here\n",
        "workspace_path = str(here())\n",
        "%cd $workspace_path\n",
        "print(f\"Working Directory has been set to `{workspace_path}`\")\n",
        "\n",
        "from os import path\n",
        "import autofit as af\n",
        "import autolens as al\n",
        "import autolens.plot as aplt"
      ],
      "outputs": [],
      "execution_count": null
    },
    {
      "cell_type": "markdown",
      "metadata": {},
      "source": [
        "__Lensed Point Source__\n",
        "\n",
        "To begin, we create an image of strong lens using a isothermal mass model and source with a compact exponential light \n",
        "profile. \n",
        "\n",
        "Although our aim is to illustrate solving for the multiple image positions of a point source, by simulating the data \n",
        "with a compact extended source visualization of the point solver's solutions will be clearer."
      ]
    },
    {
      "cell_type": "code",
      "metadata": {},
      "source": [
        "grid = al.Grid2D.uniform(\n",
        "    shape_native=(100, 100),\n",
        "    pixel_scales=0.05,  # <- The pixel-scale describes the conversion from pixel units to arc-seconds.\n",
        ")\n",
        "\n",
        "isothermal_mass_profile = al.mp.Isothermal(\n",
        "    centre=(0.0, 0.0),\n",
        "    einstein_radius=1.6,\n",
        "    ell_comps=al.convert.ell_comps_from(axis_ratio=0.9, angle=45.0),\n",
        ")\n",
        "\n",
        "exponential_light_profile = al.lp.ExponentialCore(\n",
        "    centre=(0.07, 0.07), intensity=0.1, effective_radius=0.1\n",
        ")\n",
        "\n",
        "lens_galaxy = al.Galaxy(\n",
        "    redshift=0.5,\n",
        "    mass=isothermal_mass_profile,\n",
        ")\n",
        "\n",
        "source_galaxy = al.Galaxy(\n",
        "    redshift=1.0,\n",
        "    light=exponential_light_profile,\n",
        ")\n",
        "\n",
        "tracer_extended = al.Tracer(galaxies=[lens_galaxy, source_galaxy])"
      ],
      "outputs": [],
      "execution_count": null
    },
    {
      "cell_type": "markdown",
      "metadata": {},
      "source": [
        "We plot the image of our strongly lensed source galaxy. \n",
        "\n",
        "We can clearly see there are four multiple images located in a cross configuration. Their brightest pixels are the \n",
        "four (y,x) multiple image coordinates our point source multiple image position solver should find."
      ]
    },
    {
      "cell_type": "code",
      "metadata": {},
      "source": [
        "tracer_plotter = aplt.TracerPlotter(tracer=tracer_extended, grid=grid)\n",
        "tracer_plotter.figures_2d(image=True)"
      ],
      "outputs": [],
      "execution_count": null
    },
    {
      "cell_type": "markdown",
      "metadata": {},
      "source": [
        "__Point Source__\n",
        "\n",
        "The image above visually illustrates where the source's light traces in the image-plane. \n",
        "\n",
        "Lets now treat this source as a point source, by setting up a source galaxy using the `Point` class. \n",
        "\n",
        "It has the same centre as the compact source above, to ensure the multiple image positions are located at the same\n",
        "locations in the image-plane."
      ]
    },
    {
      "cell_type": "code",
      "metadata": {},
      "source": [
        "point_source = al.ps.Point(centre=(0.07, 0.07))\n",
        "\n",
        "source_galaxy = al.Galaxy(redshift=1.0, point_0=point_source)\n",
        "\n",
        "tracer = al.Tracer(galaxies=[lens_galaxy, source_galaxy])"
      ],
      "outputs": [],
      "execution_count": null
    },
    {
      "cell_type": "markdown",
      "metadata": {},
      "source": [
        "__Position Solving__\n",
        "\n",
        "For a point source, our goal is to find the (y,x) coordinates in the image-plane that directly map to the centre\n",
        "of the point source in the source plane. \n",
        "\n",
        "The number of solutions (e.g. the number of image-plane positions that map directly to the source-plane centre) depends\n",
        "on the mass model of the lens: \n",
        "\n",
        " - For spherical mass profiles, there are three unique solutions, where one is a demagnified central image that is \n",
        " typically so demagnified it is not observed in imaging data. \n",
        " \n",
        " - For elliptical mass profiles, there are typically 5 solutions, again including a demagnified central image.\n",
        " \n",
        " - For lenses with multiple mass profiles (e.g. two galaxies) and more exotic mass distributions, the number of \n",
        "   solutions can be even higher. \n",
        "\n",
        "This example uses an elliptical mass profile, so we should expect 5 solutions, which we compute below by creating a\n",
        "`MultipleImageSolver` object and passing it the tracer of our strong lens system."
      ]
    },
    {
      "cell_type": "code",
      "metadata": {},
      "source": [
        "solver = al.MultipleImageSolver(\n",
        "    lensing_obj=tracer,\n",
        "    grid=grid,\n",
        "    pixel_scale_precision=0.001,\n",
        ")"
      ],
      "outputs": [],
      "execution_count": null
    },
    {
      "cell_type": "markdown",
      "metadata": {},
      "source": [
        "We now pass the tracer to the solver. \n",
        "\n",
        "This will then find the image-plane coordinates that map directly to the source-plane coordinate (0.07\", 0.07\"), \n",
        "which we plot below.\n",
        "\n",
        "The plot is simply all 5 solved for positions on a scatter plot. To make the positions clearer, we increase\n",
        "the size of the markers to ensure they are visible and plot them as asterisks, which is the standard symbol used\n",
        "to denote multiple images of strong lenses in PyAutoLens."
      ]
    },
    {
      "cell_type": "code",
      "metadata": {},
      "source": [
        "positions = solver.solve(source_plane_coordinate=(0.07, 0.07))\n",
        "\n",
        "grid_plotter = aplt.Grid2DPlotter(\n",
        "    grid=positions,\n",
        "    mat_plot_2d=aplt.MatPlot2D(grid_scatter=aplt.GridScatter(s=100, marker=\"*\")),\n",
        ")\n",
        "grid_plotter.figure_2d()"
      ],
      "outputs": [],
      "execution_count": null
    },
    {
      "cell_type": "markdown",
      "metadata": {},
      "source": [
        "The plot above makes it difficult to compare the multiple image positions to the image of the strong lens itself.\n",
        "\n",
        "We can therefore overplot the multiple image positions on the image of the strong lens, which clearly shows that the\n",
        "multiple images trace the centre of the brightest pixels of the lensed source galaxy."
      ]
    },
    {
      "cell_type": "code",
      "metadata": {},
      "source": [
        "visuals = aplt.Visuals2D(multiple_images=positions)\n",
        "\n",
        "tracer_plotter = aplt.TracerPlotter(\n",
        "    tracer=tracer_extended, grid=grid, visuals_2d=visuals\n",
        ")\n",
        "tracer_plotter.figures_2d(image=True)"
      ],
      "outputs": [],
      "execution_count": null
    },
    {
      "cell_type": "markdown",
      "metadata": {},
      "source": [
        "__Solving the Lens Equation__\n",
        "\n",
        "In the literature, the process of finding the multiple images of a source in the image-plane is often referred to as\n",
        "'solving the lens equation'.\n",
        "\n",
        "There lens equation is a fundamental equation in lensing, which describes how light rays are deflected from the\n",
        "image-plane to the source-plane. It is given by:\n",
        "\n",
        "$\\beta = \\theta - \\hat{\\alpha}(\\theta)$\n",
        "\n",
        "Where:\n",
        "\n",
        "$\\beta$ is the source-plane (y,x) coordinate.\n",
        "$\\theta$ is the image-plane (y,x) coordinate.\n",
        "$\\hat{\\alpha}(\\theta)$ is the deflection angle at image-plane (y,x) coordinate $\\theta$.\n",
        "\n",
        "The lens equation is non-linear, as the deflection angle $\\hat{\\alpha}$ depends on the mass model of the lens galaxy.\n",
        "\n",
        "It is therefore called solving the lens equation because we are trying to find the image-plane (y,x) coordinates $\\theta$\n",
        "that satisfies the equation above for a given source-plane (y,x) coordinate $\\beta$.\n",
        "\n",
        "__How Does The Multiple Image Solver Work?__\n",
        "\n",
        "Computing the multiple image positions of a point source is a non-linear problem. Given a source-plane (y,x) coordinate,\n",
        "there are multiple image-plane (y,x) coordinates that trace to that source-plane coordinate, and there is no simple\n",
        "analytic solution to determine these image-plane coordinates.\n",
        "\n",
        "The solver therefore uses a triangulation approach to find the multiple image positions. It first overlays a grid of\n",
        "triangles over the image-plane, and uses the mass model to trace these triangles to the source-plane. If a triangle\n",
        "contains the source-plane (y,x) coordinate, it is retained and its image-plane coordinates are assigned as a multiple\n",
        "image of the source.\n",
        "\n",
        "We require the grid of triangles to be fine enough such that the source-plane (y,x) coordinate is contained within\n",
        "one of the triangles to a sufficient precision for our science case. This is controlled by the `pixel_scale_precision`\n",
        "input, which sets the target pixel scale of the grid. \n",
        "\n",
        "Triangles of iteratively finer resolution are created until this precision is met, therefore a lower value of\n",
        "`pixel_scale_precision` will lead to a more precise estimate of the multiple image positions at the expense of\n",
        "increased computational overhead.\n",
        "\n",
        "A full description of the triangulation approach alongside more customizations options can be found in the\n",
        "guide `autolens_workspace/notebooks/guides/multiple_image_solver.ipynb`.\n",
        "\n",
        "__Extended Source__\n",
        "\n",
        "This explains why extended light profiles are not used to model point sources. \n",
        "\n",
        "When we simulate a lensed source using a light profile, its multiple images are visible as the brightest pixels in\n",
        "the image. \n",
        "\n",
        "However, we cannot make a statement about the exact location of each multiple image to a greater precision\n",
        "than the pixel scale of the data we observe each multiple image on. For the data we simulated above, this pixel scale\n",
        "is 0.05\".\n",
        "\n",
        "The multiple image solver can determine the positions of the multiple images to much higher precision than this, for\n",
        "example the `pixel_scale_precision` of 0.001\" we used above. \n",
        "\n",
        "This is why point sources are treated separately, using their own dedicated `MultipleImageSolver` object.\n",
        "\n",
        "__Modeling__\n",
        "\n",
        "We can perform lens modeling using point sources using an analogous API to that used for imaging and interferometer\n",
        "datasets. \n",
        "\n",
        "This modeling is appropriate for strongly lensed quasars or supernovae.\n",
        "\n",
        "We first create a `PointDataset` object, which is similar to an `Imaging` or `Interferometer` object but contains the\n",
        "positions of the multiple images of the point source and their noise-map values. The noise values are the pixel-scale\n",
        "of the data, as this is the uncertainty of where we measure the multiple images in the image.\n",
        "\n",
        "We manually specify the positions of the multiple images below, which correspond to the multiple images of the\n",
        "isothermal mass model used above.\n",
        "\n",
        "The demagnified central image is not included in the dataset, as it is not observed in the image-plane. This is\n",
        "standard practice in point-source modeling.\n",
        "\n",
        "It also contains the name `point_0`, which is an important label, as explained in more detail below."
      ]
    },
    {
      "cell_type": "code",
      "metadata": {},
      "source": [
        "point_dataset = al.PointDataset(\n",
        "    name=\"point_0\",\n",
        "    positions=al.Grid2DIrregular(\n",
        "        [\n",
        "            [-1.03884121e00, -1.03906250e00],\n",
        "            [4.41972024e-01, 1.60859375e00],\n",
        "            [1.17899573e00, 1.17890625e00],\n",
        "            [1.60930210e00, 4.41406250e-01],\n",
        "        ],\n",
        "    ),\n",
        "    positions_noise_map=al.ArrayIrregular([0.05, 0.05, 0.05, 0.05]),\n",
        ")"
      ],
      "outputs": [],
      "execution_count": null
    },
    {
      "cell_type": "markdown",
      "metadata": {},
      "source": [
        "The positions can be plotted over the observed image, to make sure they overlap with the multiple images we expect."
      ]
    },
    {
      "cell_type": "code",
      "metadata": {},
      "source": [
        "visuals = aplt.Visuals2D(positions=point_dataset.positions)\n",
        "\n",
        "tracer_plotter = aplt.TracerPlotter(\n",
        "    tracer=tracer_extended, grid=grid, visuals_2d=visuals\n",
        ")\n",
        "tracer_plotter.figures_2d(image=True)"
      ],
      "outputs": [],
      "execution_count": null
    },
    {
      "cell_type": "markdown",
      "metadata": {},
      "source": [
        "__Point Source Dictionary__\n",
        "\n",
        "We input this `PointDataset` into a `PointDict`, which is a dictionary containing the dataset. This is the object \n",
        "used in the `modeling` scripts to perform lens modeling.\n",
        "\n",
        "In this example only one `PointDataset` is input into the `PointDict`, therefore the point dictionary seems somewhat\n",
        "redundant. \n",
        "\n",
        "However, for datasets where the multiple images of multiple different point sources are observed in the strong lens\n",
        "system, each will have their own unique `PointDataset`, which are all stored in the `PointDict`.\n",
        "\n",
        "This occurs in group and cluster scale strong lenses, and very rare and exotic galaxy scale strong lenses."
      ]
    },
    {
      "cell_type": "code",
      "metadata": {},
      "source": [
        "point_dict = al.PointDict(point_dataset_list=[point_dataset])"
      ],
      "outputs": [],
      "execution_count": null
    },
    {
      "cell_type": "markdown",
      "metadata": {},
      "source": [
        "We can print the `positions` of this dictionary and dataset, as well as their noise-map values.\n",
        "\n",
        "The key of the point dictionary we print corresponds to the name of the dataset, which was specified above as `point_0`.\n",
        "If there are multiple datasets in the `PointDict`, they would have different names, with their results accessible via\n",
        "using different keys in the dictionary corresponding to these names."
      ]
    },
    {
      "cell_type": "code",
      "metadata": {},
      "source": [
        "print(\"Point Source Dataset Name:\")\n",
        "print(point_dict[\"point_0\"].name)\n",
        "print(\"Point Source Multiple Image (y,x) Arc-second Coordinates:\")\n",
        "print(point_dict[\"point_0\"].positions.in_list)\n",
        "print(\"Point Source Multiple Image Noise-map Values:\")\n",
        "print(point_dict[\"point_0\"].positions_noise_map.in_list)"
      ],
      "outputs": [],
      "execution_count": null
    },
    {
      "cell_type": "markdown",
      "metadata": {},
      "source": [
        "__Name Pairing__\n",
        "\n",
        "The names of the point-source datasets have an even more important role, the names are used to pair each dataset to the\n",
        "point sources in the lens model used to fit it.\n",
        "\n",
        "For example, when creating the tracer at the beginning of this script, we named the point source `point_0`:\n",
        "\n",
        "point_source = al.ps.PointSourceChi(centre=(0.07, 0.07))\n",
        "source_galaxy = al.Galaxy(redshift=1.0, point_0=point_source)\n",
        "tracer = al.Tracer(galaxies=[lens_galaxy, source_galaxy])\n",
        "\n",
        "When we fit the point source dataset using this tracer, the name is again used in order to pair the dataset to the\n",
        "this point source. This means that point source with a centre of (0.07\", 0.07\") is used to fit the dataset with the\n",
        "name `point_0`.\n",
        "\n",
        "If there is no point-source in the model that has the same name as a `PointDataset`, that data is not used in\n",
        "the model-fit. If a point-source is included in the model whose name has no corresponding entry in \n",
        "the `PointDataset` an error will be raised.\n",
        "\n",
        "In this example, where there is just one source, name pairing is redundant. However, point-source datasets may\n",
        "have many source galaxies in them, and name pairing allows us to extend the point-source modeling to systems with\n",
        "many point sources.\n",
        "\n",
        "__Fitting__\n",
        "\n",
        "Just like we used a `Tracer` to fit imaging and interferometer data, we can use it to fit point-source data via the\n",
        "`FitPoint` object.\n",
        "\n",
        "The name pairing described above is used internally into the `FitPointDict` object to ensure that the correct point\n",
        "source is fitted to each dataset. \n",
        "\n",
        "The fit is returned as a dictionary which mirrors the `PointDict`, where its keys are again the names of the datasets."
      ]
    },
    {
      "cell_type": "code",
      "metadata": {},
      "source": [
        "fit = al.FitPointDict(point_dict=point_dict, tracer=tracer, solver=solver)\n",
        "\n",
        "print(fit[\"point_0\"].positions.residual_map)\n",
        "print(fit[\"point_0\"].positions.normalized_residual_map)\n",
        "print(fit[\"point_0\"].positions.chi_squared_map)\n",
        "print(fit[\"point_0\"].positions.log_likelihood)"
      ],
      "outputs": [],
      "execution_count": null
    },
    {
      "cell_type": "markdown",
      "metadata": {},
      "source": [
        "__Model__\n",
        "\n",
        "It is straight forward to fit a lens model to a point source dataset, using the same API that we saw for dataset and\n",
        "interferometer datasets.\n",
        "\n",
        "This uses an `AnalysisPoint` object which fits the lens model in the correct way for a point source dataset.\n",
        "This includes mapping the `name`'s of each dataset in the `PointDict` to the names of the point sources in\n",
        "the lens model."
      ]
    },
    {
      "cell_type": "code",
      "metadata": {},
      "source": [
        "# Lens:\n",
        "\n",
        "bulge = af.Model(al.lp.Sersic)\n",
        "mass = af.Model(al.mp.Isothermal)\n",
        "\n",
        "lens = af.Model(al.Galaxy, redshift=0.5, bulge=bulge, mass=mass)\n",
        "\n",
        "# Source:\n",
        "\n",
        "point_0 = af.Model(al.ps.Point)\n",
        "\n",
        "source = af.Model(al.Galaxy, redshift=1.0, point_0=point_0)\n",
        "\n",
        "# Overall Lens Model:\n",
        "\n",
        "galaxies = af.Collection(lens=lens, source=source)\n",
        "model = af.Collection(galaxies=galaxies)\n",
        "\n",
        "# Search + Analysis + Model-Fit\n",
        "\n",
        "search = af.Nautilus(path_prefix=\"overview\", name=\"point_source\")\n",
        "\n",
        "analysis = al.AnalysisPoint(point_dict=point_dict, solver=solver)\n",
        "\n",
        "result = search.fit(model=model, analysis=analysis)"
      ],
      "outputs": [],
      "execution_count": null
    },
    {
      "cell_type": "markdown",
      "metadata": {},
      "source": [
        "__Source Plane Chi Squared__\n",
        "\n",
        "This example above performs point-source fitting and modeling using what is often referred to as an \"image-plane \n",
        "chi-squared\". This means that the multiple image positions predicted by the model are computed in the image-plane\n",
        "and compared to the observed multiple image positions in the image-plane.\n",
        "\n",
        "An alternative approach is to perform point-source modeling using a \"source-plane chi-squared\". This means that the\n",
        "multiple image positions predicted by the model are computed and compared in the source-plane.\n",
        "\n",
        "This is often regarded as a less robust way to perform point-source modeling, which has been shown to produce biased\n",
        "and incorrect lens models. This is because a mass model may predict multiple images that are not observed in the \n",
        "image-plane, which the source-plane chi-squared calculation fails to properly account for. \n",
        "\n",
        "However, a source-plane chi-squared is much faster to compute than an image-plane chi-squared, as it does not require\n",
        "triangles to be iteratively traced to the source-plane to find the multiple images. In certain science cases, it is\n",
        "therefore useful, and therefore supported by **PyAutoLens**. \n",
        "\n",
        "The advanced search chaining feature of PyAutoLens allows one initially fit a model quickly using a \n",
        "source-plane chi-squared and then switch to an image-plane chi-squared for a robust final lens model.\n",
        "\n",
        "Using a source-plane chi-squared requires us to simply change the point source model input into the source\n",
        "galaxy to a `PointSourceChi` object"
      ]
    },
    {
      "cell_type": "code",
      "metadata": {},
      "source": [
        "point_source = al.ps.PointSourceChi(centre=(0.07, 0.07))\n",
        "\n",
        "source_galaxy = al.Galaxy(redshift=1.0, point_0=point_source)\n",
        "\n",
        "tracer_extended = al.Tracer(galaxies=[lens_galaxy, source_galaxy])\n",
        "\n",
        "fit = al.FitPointDict(point_dict=point_dict, tracer=tracer, solver=solver)\n",
        "\n",
        "print(fit[\"point_0\"].positions.residual_map)\n",
        "print(fit[\"point_0\"].positions.normalized_residual_map)\n",
        "print(fit[\"point_0\"].positions.chi_squared_map)\n",
        "print(fit[\"point_0\"].positions.log_likelihood)"
      ],
      "outputs": [],
      "execution_count": null
    },
    {
      "cell_type": "markdown",
      "metadata": {},
      "source": [
        "__Result__\n",
        "\n",
        "The **PyAutoLens** visualization library and `FitPoint` object includes specific methods for plotting the results.\n",
        "\n",
        "__Wrap Up__\n",
        "\n",
        "The `point_source` package of the `autolens_workspace` contains numerous example scripts for performing point source\n",
        "modeling to datasets where there are only a couple of lenses and lensed sources, which fall under the category of\n",
        "'galaxy scale' objects.\n",
        "\n",
        "This also includes examples of how to add and fit other information that are observed by a point-source source,\n",
        "for example the flux of each image."
      ]
    },
    {
      "cell_type": "code",
      "metadata": {},
      "source": [],
      "outputs": [],
      "execution_count": null
    }
  ],
  "metadata": {
    "anaconda-cloud": {},
    "kernelspec": {
      "display_name": "Python 3",
      "language": "python",
      "name": "python3"
    },
    "language_info": {
      "codemirror_mode": {
        "name": "ipython",
        "version": 3
      },
      "file_extension": ".py",
      "mimetype": "text/x-python",
      "name": "python",
      "nbconvert_exporter": "python",
      "pygments_lexer": "ipython3",
      "version": "3.6.1"
    }
  },
  "nbformat": 4,
  "nbformat_minor": 4
}