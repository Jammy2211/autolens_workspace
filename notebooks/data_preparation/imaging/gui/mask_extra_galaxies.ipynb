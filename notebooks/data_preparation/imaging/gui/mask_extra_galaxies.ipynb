{
  "cells": [
    {
      "cell_type": "markdown",
      "metadata": {},
      "source": [
        "GUI Preprocessing: Extra Galaxies Mask (Optional)\n",
        "=================================================\n",
        "\n",
        "There may be regions of an image that have signal near the lens and source that is from other galaxies not associated \n",
        "with the strong lenswe are studying. The emission from these images will impact our model fitting and needs to be \n",
        "removed from the analysis.\n",
        "\n",
        "The example `data_preparation/imaging/example/optional/extra_galaxies_mask.py` provides a full description of\n",
        "what the extra galaxies are and how they are used in the model-fit. You should read this script first before\n",
        "using this script.\n",
        "\n",
        "This script uses a GUI to mark the regions of the image where these extra galaxies are located, in contrast to the\n",
        "example above which requires you to input these values manually."
      ]
    },
    {
      "cell_type": "code",
      "metadata": {},
      "source": [
        "%matplotlib inline\n",
        "from pyprojroot import here\n",
        "workspace_path = str(here())\n",
        "%cd $workspace_path\n",
        "print(f\"Working Directory has been set to `{workspace_path}`\")\n",
        "\n",
        "from os import path\n",
        "import autolens as al\n",
        "import autolens.plot as aplt\n",
        "import numpy as np"
      ],
      "outputs": [],
      "execution_count": null
    },
    {
      "cell_type": "markdown",
      "metadata": {},
      "source": [
        "__Dataset__\n",
        "\n",
        "The path where the extra galaxy mask is output, which is `dataset/imaging/extra_galaxies`."
      ]
    },
    {
      "cell_type": "code",
      "metadata": {},
      "source": [
        "dataset_name = \"extra_galaxies\"\n",
        "dataset_path = path.join(\"dataset\", \"imaging\", dataset_name)"
      ],
      "outputs": [],
      "execution_count": null
    },
    {
      "cell_type": "markdown",
      "metadata": {},
      "source": [
        "The pixel scale of the imaging dataset."
      ]
    },
    {
      "cell_type": "code",
      "metadata": {},
      "source": [
        "pixel_scales = 0.1"
      ],
      "outputs": [],
      "execution_count": null
    },
    {
      "cell_type": "markdown",
      "metadata": {},
      "source": [
        "Load the `Imaging` data, where the extra galaxies are visible in the data."
      ]
    },
    {
      "cell_type": "code",
      "metadata": {},
      "source": [
        "data = al.Array2D.from_fits(\n",
        "    file_path=path.join(dataset_path, \"data.fits\"), pixel_scales=pixel_scales\n",
        ")\n",
        "\n",
        "cmap = aplt.Cmap(\n",
        "    norm=\"log\", vmin=1.0e-4, vmax=0.4 * np.max(data), linthresh=0.05, linscale=0.1\n",
        ")"
      ],
      "outputs": [],
      "execution_count": null
    },
    {
      "cell_type": "markdown",
      "metadata": {},
      "source": [
        "__Scribbler__\n",
        "\n",
        "Load the Scribbler GUI for spray painting the scaled regions of the dataset. \n",
        "\n",
        "Push Esc when you are finished spray painting."
      ]
    },
    {
      "cell_type": "code",
      "metadata": {},
      "source": [
        "scribbler = al.Scribbler(image=data.native, cmap=cmap)\n",
        "mask = scribbler.show_mask()\n",
        "mask = al.Mask2D(mask=mask, pixel_scales=pixel_scales)"
      ],
      "outputs": [],
      "execution_count": null
    },
    {
      "cell_type": "markdown",
      "metadata": {},
      "source": [
        "The GUI has now closed and the extra galaxies mask has been created.\n",
        "\n",
        "Apply the extra galaxies mask to the image, which will remove them from visualization."
      ]
    },
    {
      "cell_type": "code",
      "metadata": {},
      "source": [
        "data = data.apply_mask(mask=mask)"
      ],
      "outputs": [],
      "execution_count": null
    },
    {
      "cell_type": "markdown",
      "metadata": {},
      "source": [
        "__Output__\n",
        "\n",
        "The new image is plotted for inspection."
      ]
    },
    {
      "cell_type": "code",
      "metadata": {},
      "source": [
        "array_2d_plotter = aplt.Array2DPlotter(array=data)\n",
        "array_2d_plotter.figure_2d()"
      ],
      "outputs": [],
      "execution_count": null
    },
    {
      "cell_type": "markdown",
      "metadata": {},
      "source": [
        "Plot the data with the new mask, in order to check that the mask removes the regions of the image corresponding to the\n",
        "extra galaxies."
      ]
    },
    {
      "cell_type": "code",
      "metadata": {},
      "source": [
        "array_plotter = aplt.Array2DPlotter(array=data)\n",
        "array_plotter.figure_2d()"
      ],
      "outputs": [],
      "execution_count": null
    },
    {
      "cell_type": "markdown",
      "metadata": {},
      "source": [
        "__Output__\n",
        "\n",
        "Output to a .png file for easy inspection."
      ]
    },
    {
      "cell_type": "code",
      "metadata": {},
      "source": [
        "mat_plot = aplt.MatPlot2D(\n",
        "    output=aplt.Output(\n",
        "        path=dataset_path, filename=f\"data_mask_extra_galaxies\", format=\"png\"\n",
        "    )\n",
        ")\n",
        "array_plotter = aplt.Array2DPlotter(array=data, mat_plot_2d=mat_plot)\n",
        "array_plotter.figure_2d()"
      ],
      "outputs": [],
      "execution_count": null
    },
    {
      "cell_type": "markdown",
      "metadata": {},
      "source": [
        "Output the extra galaxies mask, which will be load and used before a model fit."
      ]
    },
    {
      "cell_type": "code",
      "metadata": {},
      "source": [
        "mask.output_to_fits(\n",
        "    file_path=path.join(dataset_path, \"mask_extra_galaxies.fits\"), overwrite=True\n",
        ")\n"
      ],
      "outputs": [],
      "execution_count": null
    }
  ],
  "metadata": {
    "anaconda-cloud": {},
    "kernelspec": {
      "display_name": "Python 3",
      "language": "python",
      "name": "python3"
    },
    "language_info": {
      "codemirror_mode": {
        "name": "ipython",
        "version": 3
      },
      "file_extension": ".py",
      "mimetype": "text/x-python",
      "name": "python",
      "nbconvert_exporter": "python",
      "pygments_lexer": "ipython3",
      "version": "3.6.1"
    }
  },
  "nbformat": 4,
  "nbformat_minor": 4
}