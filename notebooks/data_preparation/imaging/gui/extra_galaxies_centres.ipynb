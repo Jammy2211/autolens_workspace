{
  "cells": [
    {
      "cell_type": "markdown",
      "metadata": {},
      "source": [
        "GUI Preprocessing: Extra Galaxies Centres\n",
        "=========================================\n",
        "\n",
        "There may be extra galaxies nearby the lens and source galaxies, whose emission blends with the lens and source\n",
        "and whose mass may contribute to the ray-tracing and lens model.\n",
        "\n",
        "The example `data_preparation/imaging/example/optional/extra_galaxies_centres.py` provides a full description of\n",
        "what the extra galaxies are and how they are used in the model-fit. You should read this script first before\n",
        "using this script.\n",
        "\n",
        "This script uses a GUI to mark the (y,x) arcsecond locations of these extra galaxies, in contrast to the example\n",
        "above which requires you to input these values manually."
      ]
    },
    {
      "cell_type": "code",
      "metadata": {},
      "source": [
        "%matplotlib inline\n",
        "from pyprojroot import here\n",
        "workspace_path = str(here())\n",
        "%cd $workspace_path\n",
        "print(f\"Working Directory has been set to `{workspace_path}`\")\n",
        "\n",
        "from os import path\n",
        "import autolens as al\n",
        "import autolens.plot as aplt\n",
        "from matplotlib import pyplot as plt"
      ],
      "outputs": [],
      "execution_count": null
    },
    {
      "cell_type": "markdown",
      "metadata": {},
      "source": [
        "__Dataset__\n",
        "\n",
        "The path where the extra galaxy centres are output, which is `dataset/imaging/extra_galaxies`."
      ]
    },
    {
      "cell_type": "code",
      "metadata": {},
      "source": [
        "dataset_name = \"extra_galaxies\"\n",
        "dataset_path = path.join(\"dataset\", \"imaging\", dataset_name)"
      ],
      "outputs": [],
      "execution_count": null
    },
    {
      "cell_type": "markdown",
      "metadata": {},
      "source": [
        "The pixel scale of the imaging dataset."
      ]
    },
    {
      "cell_type": "code",
      "metadata": {},
      "source": [
        "pixel_scales = 0.1"
      ],
      "outputs": [],
      "execution_count": null
    },
    {
      "cell_type": "markdown",
      "metadata": {},
      "source": [
        "Load the image which we will use to mark the lens light centre."
      ]
    },
    {
      "cell_type": "code",
      "metadata": {},
      "source": [
        "data = al.Array2D.from_fits(\n",
        "    file_path=path.join(dataset_path, \"data.fits\"), pixel_scales=pixel_scales\n",
        ")"
      ],
      "outputs": [],
      "execution_count": null
    },
    {
      "cell_type": "markdown",
      "metadata": {},
      "source": [
        "__Search Box__\n",
        "\n",
        "When you click on a pixel to mark a position, the search box looks around this click and finds the pixel with\n",
        "the highest flux to mark the position.\n",
        "\n",
        "The `search_box_size` is the number of pixels around your click this search takes place."
      ]
    },
    {
      "cell_type": "code",
      "metadata": {},
      "source": [
        "search_box_size = 5"
      ],
      "outputs": [],
      "execution_count": null
    },
    {
      "cell_type": "markdown",
      "metadata": {},
      "source": [
        "__Clicker__\n",
        "\n",
        "Set up the `Clicker` object from the `clicker.py` module, which monitors your mouse clicks in order to determine\n",
        "the extra galaxy centres."
      ]
    },
    {
      "cell_type": "code",
      "metadata": {},
      "source": [
        "clicker = al.Clicker(\n",
        "    image=data, pixel_scales=pixel_scales, search_box_size=search_box_size\n",
        ")"
      ],
      "outputs": [],
      "execution_count": null
    },
    {
      "cell_type": "markdown",
      "metadata": {},
      "source": [
        "Set up the clicker canvas and load the GUI which you can now click on to mark the extra galaxy centres."
      ]
    },
    {
      "cell_type": "code",
      "metadata": {},
      "source": [
        "n_y, n_x = data.shape_native\n",
        "hw = int(n_x / 2) * pixel_scales\n",
        "ext = [-hw, hw, -hw, hw]\n",
        "fig = plt.figure(figsize=(14, 14))\n",
        "plt.imshow(data.native, cmap=\"jet\", extent=ext)\n",
        "plt.colorbar()\n",
        "cid = fig.canvas.mpl_connect(\"button_press_event\", clicker.onclick)\n",
        "plt.show()\n",
        "fig.canvas.mpl_disconnect(cid)\n",
        "plt.close(fig)"
      ],
      "outputs": [],
      "execution_count": null
    },
    {
      "cell_type": "markdown",
      "metadata": {},
      "source": [
        "Use the results of the Clicker GUI to create the list of extra galaxy centres."
      ]
    },
    {
      "cell_type": "code",
      "metadata": {},
      "source": [
        "extra_galaxies_centres = al.Grid2DIrregular(values=clicker.click_list)"
      ],
      "outputs": [],
      "execution_count": null
    },
    {
      "cell_type": "markdown",
      "metadata": {},
      "source": [
        "__Output__\n",
        "\n",
        "Now lets plot the image and extra galaxy centres, so we can check that the centre overlaps the brightest pixels in the\n",
        "extra galaxies."
      ]
    },
    {
      "cell_type": "code",
      "metadata": {},
      "source": [
        "visuals = aplt.Visuals2D(mass_profile_centres=extra_galaxies_centres)\n",
        "\n",
        "array_2d_plotter = aplt.Array2DPlotter(\n",
        "    array=data, visuals_2d=visuals, mat_plot_2d=aplt.MatPlot2D()\n",
        ")\n",
        "array_2d_plotter.figure_2d()"
      ],
      "outputs": [],
      "execution_count": null
    },
    {
      "cell_type": "markdown",
      "metadata": {},
      "source": [
        "Output this image of the extra galaxy centres to a .png file in the dataset folder for future reference."
      ]
    },
    {
      "cell_type": "code",
      "metadata": {},
      "source": [
        "array_2d_plotter = aplt.Array2DPlotter(\n",
        "    array=data,\n",
        "    visuals_2d=visuals,\n",
        "    mat_plot_2d=aplt.MatPlot2D(\n",
        "        output=aplt.Output(\n",
        "            path=dataset_path, filename=\"extra_galaxies_centres\", format=\"png\"\n",
        "        )\n",
        "    ),\n",
        ")\n",
        "array_2d_plotter.figure_2d()"
      ],
      "outputs": [],
      "execution_count": null
    },
    {
      "cell_type": "markdown",
      "metadata": {},
      "source": [
        "Output the extra galaxy centres to the dataset folder of the lens, so that we can load them from a .json file \n",
        "when we model them."
      ]
    },
    {
      "cell_type": "code",
      "metadata": {},
      "source": [
        "al.output_to_json(\n",
        "    obj=extra_galaxies_centres,\n",
        "    file_path=path.join(dataset_path, \"extra_galaxies_centres.json\"),\n",
        ")\n"
      ],
      "outputs": [],
      "execution_count": null
    }
  ],
  "metadata": {
    "anaconda-cloud": {},
    "kernelspec": {
      "display_name": "Python 3",
      "language": "python",
      "name": "python3"
    },
    "language_info": {
      "codemirror_mode": {
        "name": "ipython",
        "version": 3
      },
      "file_extension": ".py",
      "mimetype": "text/x-python",
      "name": "python",
      "nbconvert_exporter": "python",
      "pygments_lexer": "ipython3",
      "version": "3.6.1"
    }
  },
  "nbformat": 4,
  "nbformat_minor": 4
}