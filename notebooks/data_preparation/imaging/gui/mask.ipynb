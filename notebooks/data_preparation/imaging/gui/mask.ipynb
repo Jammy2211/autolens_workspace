{
  "cells": [
    {
      "cell_type": "markdown",
      "metadata": {},
      "source": [
        "GUI Preprocessing: Mask\n",
        "=======================\n",
        "\n",
        "This tool allows one to mask a bespoke mask for a given image of a strong lens using an interactive GUI. This mask\n",
        "can then be loaded before a pipeline is run and passed to that pipeline so as to become the default masked used by a\n",
        "search (if a mask function is not passed to that search).\n",
        "\n",
        "This GUI is adapted from the following code: https://gist.github.com/brikeats/4f63f867fd8ea0f196c78e9b835150ab"
      ]
    },
    {
      "cell_type": "code",
      "metadata": {},
      "source": [
        "%matplotlib inline\n",
        "from pyprojroot import here\n",
        "workspace_path = str(here())\n",
        "%cd $workspace_path\n",
        "print(f\"Working Directory has been set to `{workspace_path}`\")\n",
        "\n",
        "from os import path\n",
        "import autolens as al\n",
        "import autolens.plot as aplt\n",
        "import numpy as np"
      ],
      "outputs": [],
      "execution_count": null
    },
    {
      "cell_type": "markdown",
      "metadata": {},
      "source": [
        "__Dataset__\n",
        "\n",
        "Setup the path the datasets we'll use to illustrate preprocessing, which is the \n",
        "folder `dataset/imaging/simple__no_lens_light`."
      ]
    },
    {
      "cell_type": "code",
      "metadata": {},
      "source": [
        "dataset_name = \"simple__no_lens_light\"\n",
        "dataset_path = path.join(\"dataset\", \"imaging\", dataset_name)"
      ],
      "outputs": [],
      "execution_count": null
    },
    {
      "cell_type": "markdown",
      "metadata": {},
      "source": [
        "The pixel scale of the imaging dataset."
      ]
    },
    {
      "cell_type": "code",
      "metadata": {},
      "source": [
        "pixel_scales = 0.1"
      ],
      "outputs": [],
      "execution_count": null
    },
    {
      "cell_type": "markdown",
      "metadata": {},
      "source": [
        "Load the `Imaging` dataset, so that the mask can be plotted over the strong lens image."
      ]
    },
    {
      "cell_type": "code",
      "metadata": {},
      "source": [
        "data = al.Array2D.from_fits(\n",
        "    file_path=path.join(dataset_path, \"data.fits\"), pixel_scales=pixel_scales\n",
        ")"
      ],
      "outputs": [],
      "execution_count": null
    },
    {
      "cell_type": "markdown",
      "metadata": {},
      "source": [
        "__Scribbler__\n",
        "\n",
        "Load the Scribbler GUI for drawing the mask. \n",
        "\n",
        "Push Esc when you are finished drawing the mask."
      ]
    },
    {
      "cell_type": "code",
      "metadata": {},
      "source": [
        "scribbler = al.Scribbler(image=data.native)\n",
        "mask = scribbler.show_mask()\n",
        "mask = al.Mask2D(mask=np.invert(mask), pixel_scales=pixel_scales)"
      ],
      "outputs": [],
      "execution_count": null
    },
    {
      "cell_type": "markdown",
      "metadata": {},
      "source": [
        "__Output__\n",
        "\n",
        "Now lets plot the image and mask, so we can check that the mask includes the regions of the image we want."
      ]
    },
    {
      "cell_type": "code",
      "metadata": {},
      "source": [
        "visuals = aplt.Visuals2D(mask=mask)\n",
        "array_2d_plotter = aplt.Array2DPlotter(array=data, visuals_2d=visuals)\n",
        "array_2d_plotter.figure_2d()"
      ],
      "outputs": [],
      "execution_count": null
    },
    {
      "cell_type": "markdown",
      "metadata": {},
      "source": [
        "Output this image of the mask to a .png file in the dataset folder for future reference."
      ]
    },
    {
      "cell_type": "code",
      "metadata": {},
      "source": [
        "array_2d_plotter = aplt.Array2DPlotter(\n",
        "    array=data,\n",
        "    visuals_2d=visuals,\n",
        "    mat_plot_2d=aplt.MatPlot2D(\n",
        "        output=aplt.Output(path=dataset_path, filename=\"mask_gui\", format=\"png\")\n",
        "    ),\n",
        ")\n",
        "array_2d_plotter.figure_2d()"
      ],
      "outputs": [],
      "execution_count": null
    },
    {
      "cell_type": "markdown",
      "metadata": {},
      "source": [
        "Output it to the dataset folder of the lens, so that we can load it from a .fits in our modeling scripts."
      ]
    },
    {
      "cell_type": "code",
      "metadata": {},
      "source": [
        "mask.output_to_fits(file_path=path.join(dataset_path, \"mask_gui.fits\"), overwrite=True)\n"
      ],
      "outputs": [],
      "execution_count": null
    }
  ],
  "metadata": {
    "anaconda-cloud": {},
    "kernelspec": {
      "display_name": "Python 3",
      "language": "python",
      "name": "python3"
    },
    "language_info": {
      "codemirror_mode": {
        "name": "ipython",
        "version": 3
      },
      "file_extension": ".py",
      "mimetype": "text/x-python",
      "name": "python",
      "nbconvert_exporter": "python",
      "pygments_lexer": "ipython3",
      "version": "3.6.1"
    }
  },
  "nbformat": 4,
  "nbformat_minor": 4
}