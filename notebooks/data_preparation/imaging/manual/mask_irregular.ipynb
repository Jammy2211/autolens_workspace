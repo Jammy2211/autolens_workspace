{
  "cells": [
    {
      "cell_type": "markdown",
      "metadata": {},
      "source": [
        "Manual Preprocessing: Mask Irregular\n",
        "===================================="
      ]
    },
    {
      "cell_type": "code",
      "metadata": {},
      "source": [
        "%matplotlib inline\n",
        "from pyprojroot import here\n",
        "workspace_path = str(here())\n",
        "%cd $workspace_path\n",
        "print(f\"Working Directory has been set to `{workspace_path}`\")\n",
        "\n",
        "from os import path\n",
        "import autolens as al\n",
        "import autolens.plot as aplt\n",
        "import numpy as np"
      ],
      "outputs": [],
      "execution_count": null
    },
    {
      "cell_type": "markdown",
      "metadata": {},
      "source": [
        "This tool allows one to mask a bespoke mask for a given image of a strong lens, which can then be loaded\n",
        "before a model-fit.\n",
        "\n",
        "This tool creates an irregular mask, which can form any shape and is not restricted to circles, annuli, ellipses,\n",
        "etc. This mask is created as follows:\n",
        "\n",
        "1) Blur the observed image with a Gaussian kernel of specified FWHM.\n",
        "2) Compute the absolute S/N map of that blurred image and the noise-map.\n",
        "3) Create the mask for all pixels with a S/N above a theshold value.\n",
        "\n",
        "For strong lenses without a lens light component this masks create a source-only mask. If the lens light is included\n",
        "it includes the lens light and source.\n",
        "\n",
        "The following parameters determine the behaviour of this function:\n",
        "\n",
        "The sigma value (e.g. FWHM) of the Gaussian the image is blurred with and the S/N threshold defining above which a \n",
        "image-pixel value must be to not be masked."
      ]
    },
    {
      "cell_type": "code",
      "metadata": {},
      "source": [
        "blurring_gaussian_sigma = 0.1\n",
        "snr_cut = 10.0"
      ],
      "outputs": [],
      "execution_count": null
    },
    {
      "cell_type": "markdown",
      "metadata": {},
      "source": [
        "Setup the path the datasets we'll use to illustrate preprocessing, which is the \n",
        "folder `dataset/data_preparation/imaging/simple__no_lens_light`."
      ]
    },
    {
      "cell_type": "code",
      "metadata": {},
      "source": [
        "dataset_name = \"simple__no_lens_light\"\n",
        "dataset_path = path.join(\"dataset\", \"imaging\", dataset_name)\n",
        "\n",
        "data = al.Array2D.from_fits(\n",
        "    file_path=path.join(dataset_path, \"data.fits\"), pixel_scales=0.1\n",
        ")\n",
        "noise_map = al.Array2D.from_fits(\n",
        "    file_path=path.join(dataset_path, \"noise_map.fits\"), pixel_scales=0.1\n",
        ")"
      ],
      "outputs": [],
      "execution_count": null
    },
    {
      "cell_type": "markdown",
      "metadata": {},
      "source": [
        "Returns the 2D Gaussian that the image is blurred with. This blurring smooths over noise in the image, which will \n",
        "otherwise lead unmasked values with in individual pixels if not smoothed over correctly."
      ]
    },
    {
      "cell_type": "code",
      "metadata": {},
      "source": [
        "blurring_gaussian = al.Kernel2D.from_gaussian(\n",
        "    shape_native=(31, 31),\n",
        "    pixel_scales=data.pixel_scales,\n",
        "    sigma=blurring_gaussian_sigma,\n",
        ")"
      ],
      "outputs": [],
      "execution_count": null
    },
    {
      "cell_type": "markdown",
      "metadata": {},
      "source": [
        "Blur the image with this Gaussian smoothing kernel and plot the resulting image."
      ]
    },
    {
      "cell_type": "code",
      "metadata": {},
      "source": [
        "blurred_image = blurring_gaussian.convolved_array_from(array=data)\n",
        "aplt.Array2DPlotter(array=blurred_image)"
      ],
      "outputs": [],
      "execution_count": null
    },
    {
      "cell_type": "markdown",
      "metadata": {},
      "source": [
        "Now compute the absolute signal-to-noise map of this blurred image, given the noise-map of the observed dataset."
      ]
    },
    {
      "cell_type": "code",
      "metadata": {},
      "source": [
        "blurred_signal_to_noise_map = blurred_image / noise_map\n",
        "aplt.Array2DPlotter(array=blurred_signal_to_noise_map)"
      ],
      "outputs": [],
      "execution_count": null
    },
    {
      "cell_type": "markdown",
      "metadata": {},
      "source": [
        "Now create the mask in 2ll pixels where the signal to noise is above some threshold value."
      ]
    },
    {
      "cell_type": "code",
      "metadata": {},
      "source": [
        "mask = np.where(blurred_signal_to_noise_map.native > snr_cut, False, True)\n",
        "mask = al.Mask2D(mask=mask, pixel_scales=data.pixel_scales)\n",
        "\n",
        "visuals = aplt.Visuals2D(mask=mask)\n",
        "array_plotter = aplt.Array2DPlotter(array=data, visuals_2d=visuals)\n",
        "array_plotter.figure_2d()"
      ],
      "outputs": [],
      "execution_count": null
    },
    {
      "cell_type": "markdown",
      "metadata": {},
      "source": [
        "Now we`re happy with the mask, lets output it to the dataset folder of the lens, so that we can load it from a .fits\n",
        "file in our pipelines!"
      ]
    },
    {
      "cell_type": "code",
      "metadata": {},
      "source": [
        "mask.output_to_fits(file_path=path.join(dataset_path, \"mask.fits\"), overwrite=True)\n"
      ],
      "outputs": [],
      "execution_count": null
    }
  ],
  "metadata": {
    "anaconda-cloud": {},
    "kernelspec": {
      "display_name": "Python 3",
      "language": "python",
      "name": "python3"
    },
    "language_info": {
      "codemirror_mode": {
        "name": "ipython",
        "version": 3
      },
      "file_extension": ".py",
      "mimetype": "text/x-python",
      "name": "python",
      "nbconvert_exporter": "python",
      "pygments_lexer": "ipython3",
      "version": "3.6.1"
    }
  },
  "nbformat": 4,
  "nbformat_minor": 4
}