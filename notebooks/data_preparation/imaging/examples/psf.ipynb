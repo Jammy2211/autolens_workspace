{
  "cells": [
    {
      "cell_type": "markdown",
      "metadata": {},
      "source": [
        "Data Preparation: PSF\n",
        "=====================\n",
        "\n",
        "The Point Spread Function (PSF) describes blurring due the optics of your dataset`s telescope. It is used by\n",
        "PyAutoLens when fitting a dataset to include these effects, such that does not bias the model.\n",
        "\n",
        "It should be estimated from a stack of stars in the image during data reduction or using a PSF simulator (e.g. TinyTim\n",
        "for Hubble).\n",
        "\n",
        "This tutorial describes preprocessing your dataset`s psf to adhere to the units and formats required by PyAutoLens.\n",
        "\n",
        "__Pixel Scale__\n",
        "\n",
        "The \"pixel_scale\" of the image (and the data in general) is pixel-units to arcsecond-units conversion factor of\n",
        "your telescope. You should look up now if you are unsure of the value.\n",
        "\n",
        "The pixel scale of some common telescopes is as follows:\n",
        "\n",
        " - Hubble Space telescope 0.04\" - 0.1\" (depends on the instrument and wavelength).\n",
        " - James Webb Space telescope 0.06\" - 0.1\" (depends on the instrument and wavelength).\n",
        " - Euclid 0.1\" (Optical VIS instrument) and 0.2\" (NIR NISP instrument).\n",
        " - VRO / LSST 0.2\" - 0.3\" (depends on the instrument and wavelength).\n",
        " - Keck Adaptive Optics 0.01\" - 0.03\" (depends on the instrument and wavelength).\n",
        "\n",
        "It is absolutely vital you use the correct pixel scale, so double check this value!\n",
        "\n",
        "__Start Here Notebook__\n",
        "\n",
        "If any code in this script is unclear, refer to the `data_preparation/start_here.ipynb` notebook."
      ]
    },
    {
      "cell_type": "code",
      "metadata": {},
      "source": [
        "%matplotlib inline\n",
        "from pyprojroot import here\n",
        "workspace_path = str(here())\n",
        "%cd $workspace_path\n",
        "print(f\"Working Directory has been set to `{workspace_path}`\")\n",
        "\n",
        "%matplotlib\n",
        "from os import path\n",
        "import autolens as al\n",
        "import autolens.plot as aplt"
      ],
      "outputs": [],
      "execution_count": null
    },
    {
      "cell_type": "markdown",
      "metadata": {},
      "source": [
        "Setup the path the datasets we'll use to illustrate preprocessing, which is the folder `dataset/data_preparation/imaging`."
      ]
    },
    {
      "cell_type": "code",
      "metadata": {},
      "source": [
        "dataset_path = path.join(\"dataset\", \"imaging\", \"simple\")"
      ],
      "outputs": [],
      "execution_count": null
    },
    {
      "cell_type": "markdown",
      "metadata": {},
      "source": [
        "__Loading Data From Individual Fits Files__\n",
        "\n",
        "Load a PSF from .fits files (a format commonly used by Astronomers) via the `Array2D` object. \n",
        "\n",
        "This image represents a good data-reduction that conforms **PyAutoLens** formatting standards!"
      ]
    },
    {
      "cell_type": "code",
      "metadata": {},
      "source": [
        "psf = al.Kernel2D.from_fits(\n",
        "    file_path=path.join(dataset_path, \"psf.fits\"), hdu=0, pixel_scales=0.1\n",
        ")\n",
        "\n",
        "array_plotter = aplt.Array2DPlotter(array=psf)\n",
        "array_plotter.figure_2d()"
      ],
      "outputs": [],
      "execution_count": null
    },
    {
      "cell_type": "markdown",
      "metadata": {},
      "source": [
        "This psf conforms to **PyAutoLens** standards for the following reasons.\n",
        "\n",
        " - Size: The PSF has a shape 21 x 21 pixels, which is large enough to capture the PSF core and thus capture the \n",
        "   majority of the blurring effect, but not so large that the convolution slows down the analysis. Large \n",
        "   PSFs (e.g. 51 x 51) are supported, but will lead to much slower run times. The size of the PSF should be carefully \n",
        "   chosen to ensure it captures the majority of blurring due to the telescope optics, which for most instruments is \n",
        "   something around 11 x 11 to 21 x 21.\n",
        "\n",
        " - Oddness: The PSF has dimensions which are odd (an even PSF would for example have shape 20 x 20). The \n",
        "   convolution of an even PSF introduces a small shift in the modle images and produces an offset in the inferred\n",
        "   model parameters.\n",
        "   \n",
        " - Normalization: The PSF has been normalized such that all values within the kernel sum to 1 (note how all values in \n",
        "   the example PSF are below zero with the majority below 0.01). This ensures that flux is conserved when convolution \n",
        "   is performed, ensuring that quantities like a galaxy's magnitude are computed accurately.\n",
        "\n",
        " - Centering: The PSF is at the centre of the array (as opposed to in a corner), ensuring that no shift is introduced\n",
        "   due to PSF blurring on the inferred model parameters.\n",
        "\n",
        "If your PSF conforms to all of the above standards, you are good to use it for an analysis (but must also check\n",
        "you noise-map and image conform to standards first!).\n",
        "\n",
        "If it does not conform to standards, this script illustrates **PyAutoLens** functionality which can be used to \n",
        "convert it to standards. \n",
        "\n",
        "__1) PSF Size__\n",
        "\n",
        "The majority of PSF blurring occurs at its central core, which is the most important region for lens modeling. \n",
        "\n",
        "By default, the size of the PSF kernel in the .fits is used to perform convolution. The larger this stamp, the longer \n",
        "this convolution will take to run. Large PSFs (e.g. > 51 x 51) could have significantly slow down on run-time. \n",
        "\n",
        "In general we recommend the PSF size is 21 x 21. The example below is 11 x 11, which for this simulated data is just \n",
        "about acceptable but would be on the small side for many real telescopes."
      ]
    },
    {
      "cell_type": "code",
      "metadata": {},
      "source": [
        "psf = al.Kernel2D.from_fits(\n",
        "    file_path=path.join(dataset_path, \"psf.fits\"), hdu=0, pixel_scales=0.1\n",
        ")\n",
        "\n",
        "array_plotter = aplt.Array2DPlotter(array=psf)\n",
        "array_plotter.figure_2d()"
      ],
      "outputs": [],
      "execution_count": null
    },
    {
      "cell_type": "markdown",
      "metadata": {},
      "source": [
        "We can resize a psf the same way that we resize an image.\n",
        "\n",
        "Below, we resize the PSF to 5 x 5 pixels, which is too small for a realistic analysis and just for demonstration \n",
        "purposes."
      ]
    },
    {
      "cell_type": "code",
      "metadata": {},
      "source": [
        "trimmed_psf = al.preprocess.array_with_new_shape(array=psf, new_shape=(5, 5))\n",
        "\n",
        "array_plotter = aplt.Array2DPlotter(array=trimmed_psf)\n",
        "array_plotter.figure_2d()"
      ],
      "outputs": [],
      "execution_count": null
    },
    {
      "cell_type": "markdown",
      "metadata": {},
      "source": [
        "__PSF Dimensions__\n",
        "\n",
        "The PSF dimensions must be odd x odd (e.g. 21 x 21), because even-sized PSF kernels introduce a half-pixel offset in \n",
        "the convolution routine which can lead to systematics in the lens analysis. \n",
        "\n",
        "The preprocess module contains functions for converting an even-sized PSF to an odd-sized PSF.\n",
        "\n",
        "https://github.com/Jammy2211/PyAutoArray/blob/main/autoarray/dataset/preprocess.py\n",
        "\n",
        "- `psf_with_odd_dimensions_from`\n",
        "\n",
        "However, this uses an interpolation routine that will not be perfect. The best way to create an odd-sized PSF is to do \n",
        "so via the data reduction procedure. If this is a possibility, do that, this function is only for when you have no\n",
        "other choice.\n",
        "\n",
        "__PSF Normalization__\n",
        "\n",
        "The PSF should also be normalized to unity. That is, the sum of all values in the kernel \n",
        "should sum  to 1. This ensures that the PSF convolution does not change the overall normalization of the image.\n",
        "\n",
        "PyAutoLens automatically normalized PSF when they are passed into a `Imaging` or `SimulatedImaging` object, so you \n",
        "do not actually need to normalize your PSF. However, it is better to do it now, just in case.\n",
        "\n",
        "Below, we show how to normalize a PSF when it is loaded from a .fits file, by simply including the `normalize=True`\n",
        "argument (the default value is `False`)."
      ]
    },
    {
      "cell_type": "code",
      "metadata": {},
      "source": [
        "psf = al.Kernel2D.from_fits(\n",
        "    file_path=path.join(dataset_path, \"psf.fits\"),\n",
        "    hdu=0,\n",
        "    pixel_scales=0.1,\n",
        "    normalize=True,\n",
        ")\n"
      ],
      "outputs": [],
      "execution_count": null
    }
  ],
  "metadata": {
    "anaconda-cloud": {},
    "kernelspec": {
      "display_name": "Python 3",
      "language": "python",
      "name": "python3"
    },
    "language_info": {
      "codemirror_mode": {
        "name": "ipython",
        "version": 3
      },
      "file_extension": ".py",
      "mimetype": "text/x-python",
      "name": "python",
      "nbconvert_exporter": "python",
      "pygments_lexer": "ipython3",
      "version": "3.6.1"
    }
  },
  "nbformat": 4,
  "nbformat_minor": 4
}