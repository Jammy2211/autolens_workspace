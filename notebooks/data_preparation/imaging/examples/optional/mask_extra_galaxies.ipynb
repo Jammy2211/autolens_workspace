{
  "cells": [
    {
      "cell_type": "markdown",
      "metadata": {},
      "source": [
        "Data Preparation: Extra Galaxies Mask (Optional)\n",
        "================================================\n",
        "\n",
        "There may be regions of an image that have signal near the lens and source that is from other galaxies not associated \n",
        "with the strong lens we are studying. The emission from these images will impact our model fitting and needs to be \n",
        "removed from the analysis.\n",
        "\n",
        "This script creates a mask of these regions of the image, called the `mask_extra_galaxies`, which can be used to\n",
        "prevent them from impacting a fit. This mask may also include emission from objects which are not technically galaxies,\n",
        "but blend with the galaxy we are studying in a similar way. Common examples of such objects are foreground stars\n",
        "or emission due to the data reduction process.\n",
        "\n",
        "The mask can be applied in different ways. For example, it could be applied such that the image pixels are discarded\n",
        "from the fit entirely, Alternatively the mask could be used to set the image values to (near) zero and increase their\n",
        "corresponding noise-map to large values.\n",
        "\n",
        "The exact method used depends on the nature of the model being fitted. For simple fits like a light profile a mask\n",
        "is appropriate, as removing image pixels does not change how the model is fitted. However, for more complex models\n",
        "fits, like those using a pixelization, masking regions of the image in a way that removes their image pixels entirely\n",
        "from the fit can produce discontinuities in the pixelixation. In this case, scaling the data and noise-map values\n",
        "may be a better approach.\n",
        "\n",
        "This script outputs a `mask_extra_galaxies.fits` file, which can be loaded and used before a model fit, in whatever\n",
        "way is appropriate for the model being fitted.\n",
        "\n",
        "__Links / Resources__\n",
        "\n",
        "The script `data_preparation/gui/extra_galaxies_mask.ipynb` shows how to use a Graphical User Interface (GUI) to create\n",
        "the extra galaxies mask.\n",
        "\n",
        "__Start Here Notebook__\n",
        "\n",
        "If any code in this script is unclear, refer to the `data_preparation/start_here.ipynb` notebook."
      ]
    },
    {
      "cell_type": "code",
      "metadata": {},
      "source": [
        "%matplotlib inline\n",
        "from pyprojroot import here\n",
        "workspace_path = str(here())\n",
        "%cd $workspace_path\n",
        "print(f\"Working Directory has been set to `{workspace_path}`\")\n",
        "\n",
        "%matplotlib inline\n",
        "from os import path\n",
        "import autolens as al\n",
        "import autolens.plot as aplt\n",
        "\n",
        "import numpy as np"
      ],
      "outputs": [],
      "execution_count": null
    },
    {
      "cell_type": "markdown",
      "metadata": {},
      "source": [
        "The path where the extra galaxy centres are output, which is `dataset/imaging/extra_galaxies`."
      ]
    },
    {
      "cell_type": "code",
      "metadata": {},
      "source": [
        "dataset_type = \"imaging\"\n",
        "dataset_name = \"extra_galaxies\"\n",
        "dataset_path = path.join(\"dataset\", dataset_type, dataset_name)"
      ],
      "outputs": [],
      "execution_count": null
    },
    {
      "cell_type": "markdown",
      "metadata": {},
      "source": [
        "The pixel scale of the imaging dataset."
      ]
    },
    {
      "cell_type": "code",
      "metadata": {},
      "source": [
        "pixel_scales = 0.1"
      ],
      "outputs": [],
      "execution_count": null
    },
    {
      "cell_type": "markdown",
      "metadata": {},
      "source": [
        "Load the dataset image, so that the location of galaxies is clear when scaling the noise-map."
      ]
    },
    {
      "cell_type": "code",
      "metadata": {},
      "source": [
        "data = al.Array2D.from_fits(\n",
        "    file_path=path.join(dataset_path, \"data.fits\"), pixel_scales=pixel_scales\n",
        ")\n",
        "\n",
        "array_plotter = aplt.Array2DPlotter(array=data)\n",
        "array_plotter.figure_2d()"
      ],
      "outputs": [],
      "execution_count": null
    },
    {
      "cell_type": "markdown",
      "metadata": {},
      "source": [
        "Manually define the extra galaxies mask corresponding to the regions of the image where extra galaxies are located\n",
        "whose emission needs to be omitted from the model-fit."
      ]
    },
    {
      "cell_type": "code",
      "metadata": {},
      "source": [
        "mask = al.Mask2D.all_false(\n",
        "    shape_native=data.shape_native, pixel_scales=data.pixel_scales\n",
        ")\n",
        "mask[100:140, 45:82] = True\n",
        "mask[70:100, 125:150] = True"
      ],
      "outputs": [],
      "execution_count": null
    },
    {
      "cell_type": "markdown",
      "metadata": {},
      "source": [
        "Apply the extra galaxies mask to the image, which will remove them from visualization."
      ]
    },
    {
      "cell_type": "code",
      "metadata": {},
      "source": [
        "data = data.apply_mask(mask=mask)"
      ],
      "outputs": [],
      "execution_count": null
    },
    {
      "cell_type": "markdown",
      "metadata": {},
      "source": [
        "Plot the data with the new mask, in order to check that the mask removes the regions of the image corresponding to the\n",
        "extra galaxies."
      ]
    },
    {
      "cell_type": "code",
      "metadata": {},
      "source": [
        "array_plotter = aplt.Array2DPlotter(array=data)\n",
        "array_plotter.figure_2d()"
      ],
      "outputs": [],
      "execution_count": null
    },
    {
      "cell_type": "markdown",
      "metadata": {},
      "source": [
        "__Output__\n",
        "\n",
        "Output to a .png file for easy inspection."
      ]
    },
    {
      "cell_type": "code",
      "metadata": {},
      "source": [
        "mat_plot = aplt.MatPlot2D(\n",
        "    output=aplt.Output(\n",
        "        path=dataset_path, filename=f\"data_mask_extra_galaxies\", format=\"png\"\n",
        "    )\n",
        ")\n",
        "array_plotter = aplt.Array2DPlotter(array=data, mat_plot_2d=mat_plot)\n",
        "array_plotter.figure_2d()"
      ],
      "outputs": [],
      "execution_count": null
    },
    {
      "cell_type": "markdown",
      "metadata": {},
      "source": [
        "Output the extra galaxies mask, which will be load and used before a model fit."
      ]
    },
    {
      "cell_type": "code",
      "metadata": {},
      "source": [
        "mask.output_to_fits(\n",
        "    file_path=path.join(dataset_path, \"mask_extra_galaxies.fits\"), overwrite=True\n",
        ")"
      ],
      "outputs": [],
      "execution_count": null
    },
    {
      "cell_type": "markdown",
      "metadata": {},
      "source": [
        "The workspace also includes a GUI for image and noise-map scaling, which can be found at \n",
        "`autolens_workspace/*/data_preparation/imaging/gui/mask_extra_galaxies.py`. \n",
        "\n",
        "This tools allows you `spray paint` on the image where an you want to scale, allow irregular patterns (i.e. not \n",
        "rectangles) to be scaled."
      ]
    },
    {
      "cell_type": "code",
      "metadata": {},
      "source": [],
      "outputs": [],
      "execution_count": null
    }
  ],
  "metadata": {
    "anaconda-cloud": {},
    "kernelspec": {
      "display_name": "Python 3",
      "language": "python",
      "name": "python3"
    },
    "language_info": {
      "codemirror_mode": {
        "name": "ipython",
        "version": 3
      },
      "file_extension": ".py",
      "mimetype": "text/x-python",
      "name": "python",
      "nbconvert_exporter": "python",
      "pygments_lexer": "ipython3",
      "version": "3.6.1"
    }
  },
  "nbformat": 4,
  "nbformat_minor": 4
}