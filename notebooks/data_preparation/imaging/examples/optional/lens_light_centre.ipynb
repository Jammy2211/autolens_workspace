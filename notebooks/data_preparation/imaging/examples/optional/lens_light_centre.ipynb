{
  "cells": [
    {
      "cell_type": "markdown",
      "metadata": {},
      "source": [
        "Data Preparation: Lens Light Centre (Optional)\n",
        "==============================================\n",
        "\n",
        "This script marks the (y,x) arcsecond locations of the lens galaxy light centre(s) of the strong lens you are\n",
        "analysing. These can be used as fixed values for the lens light and mass models in a model-fit.\n",
        "\n",
        "This reduces the number of free parameters fitted for in a lens model and removes inaccurate solutions where\n",
        "the lens mass model centre is unrealistically far from its true centre.\n",
        "\n",
        "Advanced `chaining` scripts often use these input centres in the early fits to infer an accurate initial lens model,\n",
        "amd then make the centres free parameters in later searches to ensure a general and accurate lens model is inferred.\n",
        "\n",
        "If you create a `light_centre` for your dataset, you must also update your modeling script to use them.\n",
        "\n",
        "If your **PyAutoLens** analysis is struggling to converge to a good lens model, you should consider using a fixed\n",
        "lens light and / or mass centre to help the non-linear search find a good lens model.\n",
        "\n",
        "Links / Resources:\n",
        "\n",
        "The script `data_preparation/gui/lens_light_centre.ipynb` shows how to use a Graphical User Interface (GUI) to mask the\n",
        "lens galaxy light centres.\n",
        "\n",
        "__Start Here Notebook__\n",
        "\n",
        "If any code in this script is unclear, refer to the `data_preparation/start_here.ipynb` notebook."
      ]
    },
    {
      "cell_type": "code",
      "metadata": {},
      "source": [
        "%matplotlib inline\n",
        "from pyprojroot import here\n",
        "workspace_path = str(here())\n",
        "%cd $workspace_path\n",
        "print(f\"Working Directory has been set to `{workspace_path}`\")\n",
        "\n",
        "%matplotlib inline\n",
        "from os import path\n",
        "import autolens as al\n",
        "import autolens.plot as aplt"
      ],
      "outputs": [],
      "execution_count": null
    },
    {
      "cell_type": "markdown",
      "metadata": {},
      "source": [
        "The path where the lens light centre is output, which is `dataset/imaging/simple__no_lens_light`."
      ]
    },
    {
      "cell_type": "code",
      "metadata": {},
      "source": [
        "dataset_type = \"imaging\"\n",
        "dataset_name = \"lens_sersic\"\n",
        "dataset_path = path.join(\"dataset\", dataset_type, dataset_name)"
      ],
      "outputs": [],
      "execution_count": null
    },
    {
      "cell_type": "markdown",
      "metadata": {},
      "source": [
        "The pixel scale of the imaging dataset."
      ]
    },
    {
      "cell_type": "code",
      "metadata": {},
      "source": [
        "pixel_scales = 0.1"
      ],
      "outputs": [],
      "execution_count": null
    },
    {
      "cell_type": "markdown",
      "metadata": {},
      "source": [
        "Load the `Imaging` dataset, so that the lens light centres can be plotted over the strong lens image."
      ]
    },
    {
      "cell_type": "code",
      "metadata": {},
      "source": [
        "data = al.Array2D.from_fits(\n",
        "    file_path=path.join(dataset_path, \"data.fits\"), pixel_scales=pixel_scales\n",
        ")"
      ],
      "outputs": [],
      "execution_count": null
    },
    {
      "cell_type": "markdown",
      "metadata": {},
      "source": [
        "Now, create a lens light centre, which is a `Grid2DIrregular` object of (y,x) values."
      ]
    },
    {
      "cell_type": "code",
      "metadata": {},
      "source": [
        "light_centre = al.Grid2DIrregular(values=[(0.0, 0.0)])"
      ],
      "outputs": [],
      "execution_count": null
    },
    {
      "cell_type": "markdown",
      "metadata": {},
      "source": [
        "Now lets plot the image and lens light centre, so we can check that the centre overlaps the lens light."
      ]
    },
    {
      "cell_type": "code",
      "metadata": {},
      "source": [
        "mat_plot = aplt.MatPlot2D()\n",
        "visuals = aplt.Visuals2D(light_profile_centres=light_centre)\n",
        "\n",
        "array_plotter = aplt.Array2DPlotter(\n",
        "    array=data, visuals_2d=visuals, mat_plot_2d=mat_plot\n",
        ")\n",
        "array_plotter.figure_2d()"
      ],
      "outputs": [],
      "execution_count": null
    },
    {
      "cell_type": "markdown",
      "metadata": {},
      "source": [
        "Now we`re happy with the lens light centre(s), lets output them to the dataset folder of the lens, so that we can \n",
        "load them from a .json file in our pipelines!"
      ]
    },
    {
      "cell_type": "code",
      "metadata": {},
      "source": [
        "al.output_to_json(\n",
        "    obj=light_centre,\n",
        "    file_path=path.join(dataset_path, \"lens_light_centre.json\"),\n",
        ")"
      ],
      "outputs": [],
      "execution_count": null
    },
    {
      "cell_type": "markdown",
      "metadata": {},
      "source": [
        "The workspace also includes a GUI for drawing lens light centres, which can be found at \n",
        "`autolens_workspace/*/data_preparation/imaging/gui/light_centres.py`. \n",
        "\n",
        "This tools allows you `click` on the image where the lens light centres are, and it uses the brightest \n",
        "pixel within a 5x5 box of pixels to select the coordinate."
      ]
    },
    {
      "cell_type": "code",
      "metadata": {},
      "source": [],
      "outputs": [],
      "execution_count": null
    }
  ],
  "metadata": {
    "anaconda-cloud": {},
    "kernelspec": {
      "display_name": "Python 3",
      "language": "python",
      "name": "python3"
    },
    "language_info": {
      "codemirror_mode": {
        "name": "ipython",
        "version": 3
      },
      "file_extension": ".py",
      "mimetype": "text/x-python",
      "name": "python",
      "nbconvert_exporter": "python",
      "pygments_lexer": "ipython3",
      "version": "3.6.1"
    }
  },
  "nbformat": 4,
  "nbformat_minor": 4
}