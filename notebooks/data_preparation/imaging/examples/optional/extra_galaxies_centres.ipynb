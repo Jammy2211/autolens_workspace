{
  "cells": [
    {
      "cell_type": "markdown",
      "metadata": {},
      "source": [
        "Data Preparation: Extra Galaxies (Optional)\n",
        "===========================================\n",
        "\n",
        "There may be extra galaxies nearby the lens and source galaxies, whose emission blends with the lens and source\n",
        "and whose mass may contribute to the ray-tracing and lens model.\n",
        "\n",
        "We can include these extra galaxies in the lens model, either as light profiles, mass profiles, or both, using the\n",
        "modeling API, where these nearby objects are denoted `extra_galaxies`.\n",
        "\n",
        "This script marks the (y,x) arcsecond locations of these extra galaxies, so that when they are included in the lens model \n",
        "the centre of these extra galaxies light and / or mass profiles are fixed to these values (or their priors are initialized\n",
        "surrounding these centres).\n",
        "\n",
        "This tutorial closely mirrors tutorial 7, `lens_light_centre`, where the main purpose of this script is to mark the\n",
        "centres of every object we'll model as an extra galaxy. A GUI is also available to do this.\n",
        "\n",
        "__Masking Extra Galaxies__\n",
        "\n",
        "The example `mask_extra_galaxies.py` masks the regions of an image where extra galaxies are present. This mask is used \n",
        "to remove their signal from the data and increase their noise to make them not impact the fit. This means their \n",
        "luminous emission does not need to be included in the model, reducing the number of free parameters and speeding up the \n",
        "analysis. It is still a choice whether their mass is included in the model.\n",
        "\n",
        "Which approach you use to account for the emission of extra galaxies, modeling or masking, depends on how significant \n",
        "the blending of their emission with the lens and source galaxies is and how much it impacts the model-fit.\n",
        "\n",
        "__Links / Resources__\n",
        "\n",
        "The script `data_preparation/gui/extra_galaxies_centres.ipynb` shows how to use a Graphical User Interface (GUI) to mark \n",
        "the extra galaxy centres in this way.\n",
        "\n",
        "The script `modeling/features/extra_galaxies.py` shows how to use extra galaxies in a model-fit, including loading the \n",
        "extra galaxy centres created by this script.\n",
        "\n",
        "__Start Here Notebook__\n",
        "\n",
        "If any code in this script is unclear, refer to the `data_preparation/start_here.ipynb` notebook."
      ]
    },
    {
      "cell_type": "code",
      "metadata": {},
      "source": [
        "%matplotlib inline\n",
        "from pyprojroot import here\n",
        "workspace_path = str(here())\n",
        "%cd $workspace_path\n",
        "print(f\"Working Directory has been set to `{workspace_path}`\")\n",
        "\n",
        "%matplotlib inline\n",
        "from os import path\n",
        "import autolens as al\n",
        "import autolens.plot as aplt"
      ],
      "outputs": [],
      "execution_count": null
    },
    {
      "cell_type": "markdown",
      "metadata": {},
      "source": [
        "The path where the extra galaxy centres are output, which is `dataset/imaging/extra_galaxies`."
      ]
    },
    {
      "cell_type": "code",
      "metadata": {},
      "source": [
        "dataset_type = \"imaging\"\n",
        "dataset_name = \"extra_galaxies\"\n",
        "dataset_path = path.join(\"dataset\", dataset_type, dataset_name)"
      ],
      "outputs": [],
      "execution_count": null
    },
    {
      "cell_type": "markdown",
      "metadata": {},
      "source": [
        "The pixel scale of the imaging dataset."
      ]
    },
    {
      "cell_type": "code",
      "metadata": {},
      "source": [
        "pixel_scales = 0.1"
      ],
      "outputs": [],
      "execution_count": null
    },
    {
      "cell_type": "markdown",
      "metadata": {},
      "source": [
        "Load the `Imaging` dataset, so that the lens light centres can be plotted over the strong lens image."
      ]
    },
    {
      "cell_type": "code",
      "metadata": {},
      "source": [
        "data = al.Array2D.from_fits(\n",
        "    file_path=path.join(dataset_path, \"data.fits\"), pixel_scales=pixel_scales\n",
        ")"
      ],
      "outputs": [],
      "execution_count": null
    },
    {
      "cell_type": "markdown",
      "metadata": {},
      "source": [
        "Create the extra galaxy centres, which is a `Grid2DIrregular` object of (y,x) values."
      ]
    },
    {
      "cell_type": "code",
      "metadata": {},
      "source": [
        "extra_galaxies_centres = al.Grid2DIrregular(values=[(1.0, 3.5), (-2.0, -3.5)])"
      ],
      "outputs": [],
      "execution_count": null
    },
    {
      "cell_type": "markdown",
      "metadata": {},
      "source": [
        "Plot the image and extra galaxy centres, so we can check that the centre overlaps the lens light."
      ]
    },
    {
      "cell_type": "code",
      "metadata": {},
      "source": [
        "mat_plot = aplt.MatPlot2D()\n",
        "visuals = aplt.Visuals2D(light_profile_centres=extra_galaxies_centres)\n",
        "\n",
        "array_plotter = aplt.Array2DPlotter(\n",
        "    array=data, visuals_2d=visuals, mat_plot_2d=mat_plot\n",
        ")\n",
        "array_plotter.figure_2d()"
      ],
      "outputs": [],
      "execution_count": null
    },
    {
      "cell_type": "markdown",
      "metadata": {},
      "source": [
        "__Output__\n",
        "\n",
        "Save this as a .png image in the dataset folder for easy inspection later."
      ]
    },
    {
      "cell_type": "code",
      "metadata": {},
      "source": [
        "mat_plot = aplt.MatPlot2D(\n",
        "    output=aplt.Output(\n",
        "        path=dataset_path, filename=\"data_with_extra_galaxies\", format=\"png\"\n",
        "    )\n",
        ")\n",
        "visuals = aplt.Visuals2D(light_profile_centres=extra_galaxies_centres)\n",
        "\n",
        "array_plotter = aplt.Array2DPlotter(\n",
        "    array=data, visuals_2d=visuals, mat_plot_2d=mat_plot\n",
        ")\n",
        "array_plotter.figure_2d()"
      ],
      "outputs": [],
      "execution_count": null
    },
    {
      "cell_type": "markdown",
      "metadata": {},
      "source": [
        "Output the extra galaxy centres to the dataset folder of the lens, so that we can load them from a .json file \n",
        "when we model them."
      ]
    },
    {
      "cell_type": "code",
      "metadata": {},
      "source": [
        "al.output_to_json(\n",
        "    obj=extra_galaxies_centres,\n",
        "    file_path=path.join(dataset_path, \"extra_galaxies_centres.json\"),\n",
        ")"
      ],
      "outputs": [],
      "execution_count": null
    },
    {
      "cell_type": "markdown",
      "metadata": {},
      "source": [
        "The workspace also includes a GUI for drawing extra galaxy centres, which can be found at \n",
        "`autolens_workspace/*/data_preparation/imaging/gui/extra_galaxies_centres.py`. \n",
        "\n",
        "This tools allows you `click` on the image where an image of the lensed source is, and it will use the brightest pixel \n",
        "within a 5x5 box of pixels to select the coordinate."
      ]
    },
    {
      "cell_type": "code",
      "metadata": {},
      "source": [],
      "outputs": [],
      "execution_count": null
    }
  ],
  "metadata": {
    "anaconda-cloud": {},
    "kernelspec": {
      "display_name": "Python 3",
      "language": "python",
      "name": "python3"
    },
    "language_info": {
      "codemirror_mode": {
        "name": "ipython",
        "version": 3
      },
      "file_extension": ".py",
      "mimetype": "text/x-python",
      "name": "python",
      "nbconvert_exporter": "python",
      "pygments_lexer": "ipython3",
      "version": "3.6.1"
    }
  },
  "nbformat": 4,
  "nbformat_minor": 4
}