{
  "cells": [
    {
      "cell_type": "markdown",
      "metadata": {},
      "source": [
        "Data Preparation: Mask (Optional)\n",
        "=================================\n",
        "\n",
        "The mask removes the regions of the image where the lens and source galaxy are not present, typically the edges of the\n",
        "image.\n",
        "\n",
        "Example modeling scripts internally create a 3.0\" circular mask and therefore do not require that a mask has been\n",
        "created externally via a data preparation script.\n",
        "\n",
        "This script shows how to create customize masked (e.g. annular, ellipses) which are tailored to match the lens or\n",
        "lensed source emission.\n",
        "\n",
        "If you have not analysed your dataset yet and do not know of a specific reason why you need the bespoke masks\n",
        "created by this script, it is recommended that you simply use the default ~3.0\" circular mask internally made in each\n",
        "script and omit this data preparation tutorial.\n",
        "\n",
        "Links / Resources:\n",
        "\n",
        "The `examples/mask.ipynb` scripts shows how to create customize masked (e.g. annular, ellipses)\n",
        "which are tailored to match the lens or lensed source emission of your data.\n",
        "\n",
        "The script `data_preparation/gui/mask.ipynb` shows how to use a Graphical User Interface (GUI) to create an even\n",
        "more custom mask.\n",
        "\n",
        "__Start Here Notebook__\n",
        "\n",
        "If any code in this script is unclear, refer to the `data_preparation/start_here.ipynb` notebook."
      ]
    },
    {
      "cell_type": "code",
      "metadata": {},
      "source": [
        "%matplotlib inline\n",
        "from pyprojroot import here\n",
        "workspace_path = str(here())\n",
        "%cd $workspace_path\n",
        "print(f\"Working Directory has been set to `{workspace_path}`\")\n",
        "\n",
        "%matplotlib inline\n",
        "from os import path\n",
        "import autolens as al\n",
        "import autolens.plot as aplt"
      ],
      "outputs": [],
      "execution_count": null
    },
    {
      "cell_type": "markdown",
      "metadata": {},
      "source": [
        "This tool allows one to mask a bespoke mask for a given image of a strong lens, which is loaded before a\n",
        "pipeline is run and passed to that pipeline.\n",
        "\n",
        "Whereas in the previous 3 tutorials we used the data_raw folder of `autolens/propocess`, the mask is generated from\n",
        "the reduced dataset, so we'll example `Imaging` in the `autolens_workspace/dataset` folder where your dataset reduced\n",
        "following `data_preparation` tutorials 1-3 should be located.\n",
        "\n",
        "Setup the path to the autolens_workspace, using the correct path name below.\n",
        "\n",
        "The `dataset label` is the name of the folder in the `autolens_workspace/dataset` folder and `dataset_name` the \n",
        "folder the dataset is stored in, e.g, `/autolens_workspace/dataset/dataset_type/dataset_name`. The mask will be \n",
        "output here as `mask.fits`."
      ]
    },
    {
      "cell_type": "code",
      "metadata": {},
      "source": [
        "dataset_type = \"imaging\"\n",
        "dataset_name = \"simple__no_lens_light\""
      ],
      "outputs": [],
      "execution_count": null
    },
    {
      "cell_type": "markdown",
      "metadata": {},
      "source": [
        "Returns the path where the mask will be output, which in this case is\n",
        "`/autolens_workspace/dataset/imaging/simple__no_lens_light`"
      ]
    },
    {
      "cell_type": "code",
      "metadata": {},
      "source": [
        "dataset_path = path.join(\"dataset\", dataset_type, dataset_name)"
      ],
      "outputs": [],
      "execution_count": null
    },
    {
      "cell_type": "markdown",
      "metadata": {},
      "source": [
        "The pixel scale of the imaging dataset."
      ]
    },
    {
      "cell_type": "code",
      "metadata": {},
      "source": [
        "pixel_scales = 0.1"
      ],
      "outputs": [],
      "execution_count": null
    },
    {
      "cell_type": "markdown",
      "metadata": {},
      "source": [
        "First, load the image of the dataset, so that the mask can be plotted over the strong lens."
      ]
    },
    {
      "cell_type": "code",
      "metadata": {},
      "source": [
        "data = al.Array2D.from_fits(\n",
        "    file_path=path.join(dataset_path, \"data.fits\"), pixel_scales=pixel_scales\n",
        ")"
      ],
      "outputs": [],
      "execution_count": null
    },
    {
      "cell_type": "markdown",
      "metadata": {},
      "source": [
        "Create a mask for this dataset, using the Mask2D object I`ll use a circular-annular mask here, but I`ve commented \n",
        "other options you might want to use (feel free to experiment!)"
      ]
    },
    {
      "cell_type": "code",
      "metadata": {},
      "source": [
        "mask = al.Mask2D.circular_annular(\n",
        "    shape_native=data.shape_native,\n",
        "    pixel_scales=data.pixel_scales,\n",
        "    inner_radius=0.5,\n",
        "    outer_radius=2.5,\n",
        "    centre=(0.0, 0.0),\n",
        ")\n",
        "\n",
        "# mask = al.Mask2D.circular(\n",
        "#     shape_native=data.shape_native,\n",
        "#     pixel_scales=data.pixel_scales,\n",
        "#     radius=2.5,\n",
        "#     centre=(0.0, 0.0),\n",
        "# )\n",
        "\n",
        "# mask = al.Mask2D.elliptical(\n",
        "#     shape_native=data.shape_native,\n",
        "#     pixel_scales=data.pixel_scales,\n",
        "#     major_axis_radius=2.5,\n",
        "#     axis_ratio=0.7,\n",
        "#     angle=45.0,\n",
        "#     centre=(0.0, 0.0),\n",
        "# )\n",
        "\n",
        "# mask = al.Mask2D.elliptical_annular(\n",
        "#     shape_native=data.shape_native,\n",
        "#     pixel_scales=data.pixel_scales,\n",
        "#     inner_major_axis_radius=0.5,\n",
        "#     inner_axis_ratio=0.7,\n",
        "#     inner_phi=45.0,\n",
        "#     outer_major_axis_radius=0.5,\n",
        "#     outer_axis_ratio=0.7,\n",
        "#     outer_phi=45.0,\n",
        "#     centre=(0.0, 0.0),\n",
        "# )"
      ],
      "outputs": [],
      "execution_count": null
    },
    {
      "cell_type": "markdown",
      "metadata": {},
      "source": [
        "Now lets plot the image and mask, so we can check that the mask includes the regions of the image we want."
      ]
    },
    {
      "cell_type": "code",
      "metadata": {},
      "source": [
        "visuals = aplt.Visuals2D(mask=mask)\n",
        "\n",
        "array_plotter = aplt.Array2DPlotter(array=data, visuals_2d=visuals)\n",
        "array_plotter.figure_2d()"
      ],
      "outputs": [],
      "execution_count": null
    },
    {
      "cell_type": "markdown",
      "metadata": {},
      "source": [
        "Output the masked image to clearly show what parts of the source are included."
      ]
    },
    {
      "cell_type": "code",
      "metadata": {},
      "source": [
        "data = data.apply_mask(mask=mask)\n",
        "\n",
        "mat_plot = aplt.MatPlot2D(\n",
        "    output=aplt.Output(path=dataset_path, filename=f\"data_masked\", format=\"png\")\n",
        ")\n",
        "array_plotter = aplt.Array2DPlotter(array=data, mat_plot_2d=mat_plot)\n",
        "array_plotter.figure_2d()"
      ],
      "outputs": [],
      "execution_count": null
    },
    {
      "cell_type": "markdown",
      "metadata": {},
      "source": [
        "Now we`re happy with the mask, lets output it to the dataset folder of the lens, so that we can load it from a .fits\n",
        "file in our pipelines!"
      ]
    },
    {
      "cell_type": "code",
      "metadata": {},
      "source": [
        "mask.output_to_fits(file_path=path.join(dataset_path, \"mask.fits\"), overwrite=True)"
      ],
      "outputs": [],
      "execution_count": null
    },
    {
      "cell_type": "markdown",
      "metadata": {},
      "source": [
        "The workspace also includes a GUI for drawing a mask, which can be found at \n",
        "`autolens_workspace/*/data_preparation/imaging/gui/mask.py`. This tools allows you to draw the mask via a `spray paint` mouse\n",
        "icon, such that you can draw irregular masks more tailored to the source's light."
      ]
    },
    {
      "cell_type": "code",
      "metadata": {},
      "source": [],
      "outputs": [],
      "execution_count": null
    }
  ],
  "metadata": {
    "anaconda-cloud": {},
    "kernelspec": {
      "display_name": "Python 3",
      "language": "python",
      "name": "python3"
    },
    "language_info": {
      "codemirror_mode": {
        "name": "ipython",
        "version": 3
      },
      "file_extension": ".py",
      "mimetype": "text/x-python",
      "name": "python",
      "nbconvert_exporter": "python",
      "pygments_lexer": "ipython3",
      "version": "3.6.1"
    }
  },
  "nbformat": 4,
  "nbformat_minor": 4
}