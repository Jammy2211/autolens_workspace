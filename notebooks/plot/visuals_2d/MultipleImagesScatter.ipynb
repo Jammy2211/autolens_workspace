{
  "cells": [
    {
      "cell_type": "markdown",
      "metadata": {},
      "source": [
        "Plots: MultipleImageScatter\n",
        "===========================\n",
        "\n",
        "This example illustrates how to customize the multiple images plotted over data.\n",
        "\n",
        "__Start Here Notebook__\n",
        "\n",
        "If any code in this script is unclear, refer to the `plot/start_here.ipynb` notebook."
      ]
    },
    {
      "cell_type": "code",
      "metadata": {},
      "source": [
        "%matplotlib inline\n",
        "from pyprojroot import here\n",
        "workspace_path = str(here())\n",
        "%cd $workspace_path\n",
        "print(f\"Working Directory has been set to `{workspace_path}`\")\n",
        "\n",
        "import autolens as al\n",
        "import autolens.plot as aplt"
      ],
      "outputs": [],
      "execution_count": null
    },
    {
      "cell_type": "markdown",
      "metadata": {},
      "source": [
        "The multiple images are defined as the unique set of multiple images that are traced from the centre of\n",
        "every source galaxy in a `Tracer`. These are computed using the `PointSolver` object."
      ]
    },
    {
      "cell_type": "code",
      "metadata": {},
      "source": [
        "lens_galaxy = al.Galaxy(\n",
        "    redshift=0.5,\n",
        "    mass=al.mp.Isothermal(centre=(0.0, 0.0), einstein_radius=0.8, ell_comps=(0.2, 0.2)),\n",
        ")\n",
        "\n",
        "source_galaxy = al.Galaxy(\n",
        "    redshift=1.0,\n",
        "    bulge_0=al.lp.SersicCoreSph(\n",
        "        centre=(0.1, 0.1), intensity=0.3, effective_radius=1.0, sersic_index=2.5\n",
        "    ),\n",
        "    bulge_1=al.lp.SersicCoreSph(\n",
        "        centre=(0.4, 0.3), intensity=0.3, effective_radius=1.0, sersic_index=2.5\n",
        "    ),\n",
        ")\n",
        "tracer = al.Tracer(galaxies=[lens_galaxy, source_galaxy])"
      ],
      "outputs": [],
      "execution_count": null
    },
    {
      "cell_type": "markdown",
      "metadata": {},
      "source": [
        "We also need the `Grid2D` that we can use to make plots of the `Tracer`'s properties."
      ]
    },
    {
      "cell_type": "code",
      "metadata": {},
      "source": [
        "grid = al.Grid2D.uniform(shape_native=(100, 100), pixel_scales=0.05)"
      ],
      "outputs": [],
      "execution_count": null
    },
    {
      "cell_type": "markdown",
      "metadata": {},
      "source": [
        "The multiple images are an internal property of the `Tracer`, so we can plot them via an `Include2D` object."
      ]
    },
    {
      "cell_type": "code",
      "metadata": {},
      "source": [
        "include = aplt.Include2D(\n",
        "    multiple_images=True,\n",
        "    light_profile_centres=False,\n",
        "    mass_profile_centres=False,\n",
        "    tangential_critical_curves=False,\n",
        "    radial_critical_curves=False,\n",
        "    tangential_caustics=False,\n",
        "    radial_caustics=False,\n",
        ")\n",
        "tracer_plotter = aplt.TracerPlotter(tracer=tracer, grid=grid, include_2d=include)\n",
        "tracer_plotter.figures_2d(image=True)"
      ],
      "outputs": [],
      "execution_count": null
    },
    {
      "cell_type": "markdown",
      "metadata": {},
      "source": [
        "The appearance of the multiple images are customized using a `MultipleImagesScatter` object.\n",
        "\n",
        "To plot the multiple images this object wraps the following matplotlib method:\n",
        "\n",
        " https://matplotlib.org/3.2.2/api/_as_gen/matplotlib.pyplot.scatter.html"
      ]
    },
    {
      "cell_type": "code",
      "metadata": {},
      "source": [
        "multiple_images_scatter = aplt.MultipleImagesScatter(marker=\"o\", c=\"r\", s=150)\n",
        "\n",
        "mat_plot = aplt.MatPlot2D(multiple_images_scatter=multiple_images_scatter)\n",
        "\n",
        "tracer_plotter = aplt.TracerPlotter(\n",
        "    tracer=tracer, grid=grid, include_2d=include, mat_plot_2d=mat_plot\n",
        ")\n",
        "tracer_plotter.figures_2d(image=True)"
      ],
      "outputs": [],
      "execution_count": null
    },
    {
      "cell_type": "markdown",
      "metadata": {},
      "source": [
        "By specifying two colors to the `MultipleImagesScatter` object the multiple images of each `LightProfile`\n",
        "would be plotted in different colors (note how the `Galaxy` objects we created above had different redshifts and\n",
        "each therefore had its own `Plane` in the `Tracer`)."
      ]
    },
    {
      "cell_type": "code",
      "metadata": {},
      "source": [
        "multiple_images_scatter = aplt.MultipleImagesScatter(c=[\"r\", \"w\"], s=150)\n",
        "\n",
        "mat_plot = aplt.MatPlot2D(multiple_images_scatter=multiple_images_scatter)\n",
        "\n",
        "tracer_plotter = aplt.TracerPlotter(\n",
        "    tracer=tracer, grid=grid, include_2d=include, mat_plot_2d=mat_plot\n",
        ")\n",
        "tracer_plotter.figures_2d(image=True)\n",
        "\n",
        "\n",
        "# \"\"\"\n",
        "# To plot the light profile centres manually, we can pass them into a` Visuals2D` object. This is useful for plotting\n",
        "# the centres on figures where they are not an internal property, like an `Array2D`.\n",
        "# \"\"\"\n",
        "# position_solver = al.PointSolver(grid=grid)\n",
        "# multiple_images = position_solver.solve(tracer=tracer, source_plane_coordinate=(0.1, 0.1))\n",
        "#\n",
        "# visuals = aplt.Visuals2D(multiple_images=multiple_images)\n",
        "# image = tracer.image_2d_from(grid=grid)\n",
        "#\n",
        "# array_plotter = aplt.Array2DPlotter(\n",
        "#     array=data, mat_plot_2d=mat_plot, visuals_2d=visuals\n",
        "# )\n",
        "# array_plotter.figure()"
      ],
      "outputs": [],
      "execution_count": null
    },
    {
      "cell_type": "markdown",
      "metadata": {},
      "source": [
        "Finish."
      ]
    },
    {
      "cell_type": "code",
      "metadata": {},
      "source": [],
      "outputs": [],
      "execution_count": null
    }
  ],
  "metadata": {
    "anaconda-cloud": {},
    "kernelspec": {
      "display_name": "Python 3",
      "language": "python",
      "name": "python3"
    },
    "language_info": {
      "codemirror_mode": {
        "name": "ipython",
        "version": 3
      },
      "file_extension": ".py",
      "mimetype": "text/x-python",
      "name": "python",
      "nbconvert_exporter": "python",
      "pygments_lexer": "ipython3",
      "version": "3.6.1"
    }
  },
  "nbformat": 4,
  "nbformat_minor": 4
}