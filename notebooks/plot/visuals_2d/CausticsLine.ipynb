{
  "cells": [
    {
      "cell_type": "markdown",
      "metadata": {},
      "source": [
        "Plots: CausticsLine\n",
        "=========================\n",
        "\n",
        "This example illustrates how to customize the tangential and radial critical curves plotted over data.\n",
        "\n",
        "__Start Here Notebook__\n",
        "\n",
        "If any code in this script is unclear, refer to the `plot/start_here.ipynb` notebook."
      ]
    },
    {
      "cell_type": "code",
      "metadata": {},
      "source": [
        "%matplotlib inline\n",
        "from pyprojroot import here\n",
        "workspace_path = str(here())\n",
        "%cd $workspace_path\n",
        "print(f\"Working Directory has been set to `{workspace_path}`\")\n",
        "\n",
        "import autolens as al\n",
        "import autolens.plot as aplt"
      ],
      "outputs": [],
      "execution_count": null
    },
    {
      "cell_type": "markdown",
      "metadata": {},
      "source": [
        "__Caustics x1__\n",
        "\n",
        "To plot a critical curve, we use a `Tracer` object which performs the strong lensing calculation to\n",
        "produce a critical curve. \n",
        "\n",
        "By default, caustics are only plotted on source-plane images."
      ]
    },
    {
      "cell_type": "code",
      "metadata": {},
      "source": [
        "lens_galaxy = al.Galaxy(\n",
        "    redshift=0.5,\n",
        "    mass=al.mp.Isothermal(centre=(0.0, 0.0), einstein_radius=1.6, ell_comps=(0.2, 0.2)),\n",
        ")\n",
        "\n",
        "source_galaxy = al.Galaxy(\n",
        "    redshift=1.0,\n",
        "    bulge=al.lp.SersicCoreSph(\n",
        "        centre=(0.1, 0.1), intensity=0.3, effective_radius=1.0, sersic_index=2.5\n",
        "    ),\n",
        ")\n",
        "\n",
        "tracer = al.Tracer(galaxies=[lens_galaxy, source_galaxy])"
      ],
      "outputs": [],
      "execution_count": null
    },
    {
      "cell_type": "markdown",
      "metadata": {},
      "source": [
        "We also need the `Grid2D` that we can use to make plots of the `Tracer`'s quantities."
      ]
    },
    {
      "cell_type": "code",
      "metadata": {},
      "source": [
        "grid = al.Grid2D.uniform(shape_native=(100, 100), pixel_scales=0.05)"
      ],
      "outputs": [],
      "execution_count": null
    },
    {
      "cell_type": "markdown",
      "metadata": {},
      "source": [
        "The `Tracer` includes a method to compute its tangential and radial critical curves, meaning we can plot \n",
        "them via an `Include2D` object."
      ]
    },
    {
      "cell_type": "code",
      "metadata": {},
      "source": [
        "include = aplt.Include2D(tangential_caustics=True, radial_caustics=False)\n",
        "\n",
        "tracer_plotter = aplt.TracerPlotter(tracer=tracer, grid=grid, include_2d=include)\n",
        "tracer_plotter.figures_2d(source_plane=True)\n"
      ],
      "outputs": [],
      "execution_count": null
    },
    {
      "cell_type": "markdown",
      "metadata": {},
      "source": [
        "The appearance of the tangential and radial critical curves are customized using \n",
        "`TangentialCausticsPlot`  and `RadialCausticsPlot` objects.\n",
        "\n",
        "To plot the critical curves this object wraps the following matplotlib method:\n",
        "\n",
        " https://matplotlib.org/3.3.3/api/_as_gen/matplotlib.pyplot.plot.html"
      ]
    },
    {
      "cell_type": "code",
      "metadata": {},
      "source": [
        "tangential_caustics_plot = aplt.TangentialCausticsPlot(\n",
        "    linestyle=\"--\", linewidth=10, c=\"k\"\n",
        ")\n",
        "radial_caustics_plot = aplt.RadialCausticsPlot(linestyle=\"--\", linewidth=10, c=\"w\")\n",
        "\n",
        "mat_plot = aplt.MatPlot2D(\n",
        "    tangential_caustics_plot=tangential_caustics_plot,\n",
        "    radial_caustics_plot=radial_caustics_plot,\n",
        ")\n",
        "\n",
        "tracer_plotter = aplt.TracerPlotter(\n",
        "    tracer=tracer, grid=grid, include_2d=include, mat_plot_2d=mat_plot\n",
        ")\n",
        "tracer_plotter.figures_2d(source_plane=True)"
      ],
      "outputs": [],
      "execution_count": null
    },
    {
      "cell_type": "markdown",
      "metadata": {},
      "source": [
        "__Visuals__\n",
        "\n",
        "To plot caustics manually, we can pass them into a` Visuals2D` object. \n",
        "\n",
        "This is useful for plotting caustics on figures where they are not an internal property, like an `Array2D` of an \n",
        "image-plane image."
      ]
    },
    {
      "cell_type": "code",
      "metadata": {},
      "source": [
        "tangential_caustic_list = tracer.tangential_caustic_list_from(grid=grid)\n",
        "radial_caustics_list = tracer.radial_caustic_list_from(grid=grid)\n",
        "\n",
        "visuals = aplt.Visuals2D(\n",
        "    tangential_caustics=tangential_caustic_list,\n",
        "    radial_caustics=radial_caustics_list,\n",
        ")\n",
        "image = tracer.image_2d_from(grid=grid)\n",
        "\n",
        "array_plotter = aplt.Array2DPlotter(\n",
        "    array=image, mat_plot_2d=mat_plot, visuals_2d=visuals\n",
        ")\n",
        "array_plotter.figure_2d()"
      ],
      "outputs": [],
      "execution_count": null
    },
    {
      "cell_type": "markdown",
      "metadata": {},
      "source": [
        "__Caustics x2__\n",
        "\n",
        "If a `Tracer` has multiple mass profiles, it may also have multiple tangential and radial critical curves, which\n",
        "are plotted in different colors by default.\n",
        "\n",
        "By specifying two colors to the `TangentialCausticsPlot` and `RadialCausticsPlot` objects each tangential \n",
        "and caustic will be plotted in different colors.\n",
        "\n",
        "By inputting the same alternating colors for the critical curves and caustics each pair will appear the same color \n",
        "on image-plane and source-plane figures."
      ]
    },
    {
      "cell_type": "code",
      "metadata": {},
      "source": [
        "tangential_caustics_plot = aplt.TangentialCausticsPlot(c=[\"k\", \"r\"])\n",
        "radial_caustics_plot = aplt.RadialCausticsPlot(c=[\"w\", \"b\"])\n",
        "\n",
        "mat_plot = aplt.MatPlot2D(\n",
        "    tangential_caustics_plot=tangential_caustics_plot,\n",
        "    radial_caustics_plot=radial_caustics_plot,\n",
        ")\n",
        "\n",
        "lens_galaxy_0 = al.Galaxy(\n",
        "    redshift=0.5,\n",
        "    mass=al.mp.Isothermal(centre=(1.0, 0.0), einstein_radius=0.8, ell_comps=(0.2, 0.2)),\n",
        ")\n",
        "\n",
        "lens_galaxy_1 = al.Galaxy(\n",
        "    redshift=0.5,\n",
        "    mass=al.mp.Isothermal(\n",
        "        centre=(-1.0, 0.0), einstein_radius=0.8, ell_comps=(0.2, 0.2)\n",
        "    ),\n",
        ")\n",
        "\n",
        "source_galaxy = al.Galaxy(\n",
        "    redshift=1.0,\n",
        "    bulge=al.lp.SersicCoreSph(\n",
        "        centre=(0.1, 0.1), intensity=0.3, effective_radius=1.0, sersic_index=2.5\n",
        "    ),\n",
        ")\n",
        "\n",
        "tracer = al.Tracer(galaxies=[lens_galaxy_0, lens_galaxy_1, source_galaxy])\n",
        "\n",
        "tracer_plotter = aplt.TracerPlotter(\n",
        "    tracer=tracer, grid=grid, include_2d=include, mat_plot_2d=mat_plot\n",
        ")\n",
        "tracer_plotter.figures_2d(source_plane=True)"
      ],
      "outputs": [],
      "execution_count": null
    },
    {
      "cell_type": "markdown",
      "metadata": {},
      "source": [
        "Finish."
      ]
    },
    {
      "cell_type": "code",
      "metadata": {},
      "source": [],
      "outputs": [],
      "execution_count": null
    }
  ],
  "metadata": {
    "anaconda-cloud": {},
    "kernelspec": {
      "display_name": "Python 3",
      "language": "python",
      "name": "python3"
    },
    "language_info": {
      "codemirror_mode": {
        "name": "ipython",
        "version": 3
      },
      "file_extension": ".py",
      "mimetype": "text/x-python",
      "name": "python",
      "nbconvert_exporter": "python",
      "pygments_lexer": "ipython3",
      "version": "3.6.1"
    }
  },
  "nbformat": 4,
  "nbformat_minor": 4
}