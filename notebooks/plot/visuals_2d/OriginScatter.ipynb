{
  "cells": [
    {
      "cell_type": "markdown",
      "metadata": {},
      "source": [
        "Plots: OriginScatter\n",
        "====================\n",
        "\n",
        "This example illustrates how to customize the (y,x) origin of plotted data.\n",
        "\n",
        "The origin is plotted using the `GridScatter` object described in `autolens_workspace.plot.mat_wramat_plot.wrap.base`.\n",
        "The `OriginScatter` object serves the purpose is allowing us to unique customize the appearance of an origin on a plot.\n",
        "\n",
        "__Start Here Notebook__\n",
        "\n",
        "If any code in this script is unclear, refer to the `plot/start_here.ipynb` notebook."
      ]
    },
    {
      "cell_type": "code",
      "metadata": {},
      "source": [
        "%matplotlib inline\n",
        "from pyprojroot import here\n",
        "workspace_path = str(here())\n",
        "%cd $workspace_path\n",
        "print(f\"Working Directory has been set to `{workspace_path}`\")\n",
        "\n",
        "from os import path\n",
        "import autolens as al\n",
        "import autolens.plot as aplt"
      ],
      "outputs": [],
      "execution_count": null
    },
    {
      "cell_type": "markdown",
      "metadata": {},
      "source": [
        "First, lets load an example Hubble Space Telescope image of a real strong lens as an `Array2D`."
      ]
    },
    {
      "cell_type": "code",
      "metadata": {},
      "source": [
        "dataset_path = path.join(\"dataset\", \"slacs\", \"slacs1430+4105\")\n",
        "data_path = path.join(dataset_path, \"data.fits\")\n",
        "data = al.Array2D.from_fits(file_path=data_path, hdu=0, pixel_scales=0.03)"
      ],
      "outputs": [],
      "execution_count": null
    },
    {
      "cell_type": "markdown",
      "metadata": {},
      "source": [
        "The `Array2D` includes its mask as an internal property, meaning we can plot it via an `Include2D` object.\n",
        "\n",
        "As can be seen below, the origin of the data is (0.0, 0.0), which is where the black cross marking the origin\n",
        "appears."
      ]
    },
    {
      "cell_type": "code",
      "metadata": {},
      "source": [
        "include = aplt.Include2D(origin=True)\n",
        "\n",
        "array_plotter = aplt.Array2DPlotter(array=data, include_2d=include)\n",
        "array_plotter.figure_2d()"
      ],
      "outputs": [],
      "execution_count": null
    },
    {
      "cell_type": "markdown",
      "metadata": {},
      "source": [
        "The appearance of the (y,x) origin coordinates is customized using a `Scatter` object.\n",
        "\n",
        "To plot these (y,x) grids of coordinates these objects wrap the following matplotlib method:\n",
        "\n",
        " https://matplotlib.org/3.2.2/api/_as_gen/matplotlib.pyplot.scatter.html\n",
        " \n",
        "The example script `plot/mat_wrap/Scatter.py` gives a more detailed description on how to customize its appearance."
      ]
    },
    {
      "cell_type": "code",
      "metadata": {},
      "source": [
        "origin_scatter = aplt.OriginScatter(marker=\"o\", s=50)\n",
        "\n",
        "mat_plot = aplt.MatPlot2D(origin_scatter=origin_scatter)\n",
        "\n",
        "array_plotter = aplt.Array2DPlotter(\n",
        "    array=data, mat_plot_2d=mat_plot, include_2d=include\n",
        ")\n",
        "array_plotter.figure_2d()"
      ],
      "outputs": [],
      "execution_count": null
    },
    {
      "cell_type": "markdown",
      "metadata": {},
      "source": [
        "To plot the origin manually, we can pass it into a` Visuals2D` object."
      ]
    },
    {
      "cell_type": "code",
      "metadata": {},
      "source": [
        "visuals = aplt.Visuals2D(origin=al.Grid2DIrregular(values=[(1.0, 1.0)]))\n",
        "\n",
        "array_plotter = aplt.Array2DPlotter(array=data, visuals_2d=visuals)\n",
        "array_plotter.figure_2d()"
      ],
      "outputs": [],
      "execution_count": null
    },
    {
      "cell_type": "markdown",
      "metadata": {},
      "source": [
        "Finish."
      ]
    },
    {
      "cell_type": "code",
      "metadata": {},
      "source": [],
      "outputs": [],
      "execution_count": null
    }
  ],
  "metadata": {
    "anaconda-cloud": {},
    "kernelspec": {
      "display_name": "Python 3",
      "language": "python",
      "name": "python3"
    },
    "language_info": {
      "codemirror_mode": {
        "name": "ipython",
        "version": 3
      },
      "file_extension": ".py",
      "mimetype": "text/x-python",
      "name": "python",
      "nbconvert_exporter": "python",
      "pygments_lexer": "ipython3",
      "version": "3.6.1"
    }
  },
  "nbformat": 4,
  "nbformat_minor": 4
}