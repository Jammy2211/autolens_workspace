{
  "cells": [
    {
      "cell_type": "markdown",
      "metadata": {},
      "source": [
        "Plots: GetDist\n",
        "==============\n",
        "\n",
        "This example illustrates how to plot visualization summarizing the results of model-fit using any non-linear search\n",
        "using GetDist:\n",
        "\n",
        " - https://getdist.readthedocs.io/en/latest/\n",
        "\n",
        "GetDist is an optional library which creates 1D and 2D plots of probability distribution functions (PDF)s. Its\n",
        "visualization tools has more than the in-built visualization tools of many non-linear searches (e.g. Nautilus /\n",
        "emcee) and can often produce better looking plots.\n",
        "\n",
        "GetDist was developed for the analysis of Cosmological datasets.\n",
        "\n",
        "Installation\n",
        "------------\n",
        "\n",
        "Because GetDist is an optional library, you will likely have to install it manually via the command:\n",
        "\n",
        "`pip install getdist`"
      ]
    },
    {
      "cell_type": "code",
      "metadata": {},
      "source": [
        "\n",
        "%matplotlib inline\n",
        "from pyprojroot import here\n",
        "workspace_path = str(here())\n",
        "%cd $workspace_path\n",
        "print(f\"Working Directory has been set to `{workspace_path}`\")\n",
        "\n",
        "\n",
        "import numpy as np\n",
        "import matplotlib.pyplot as plt\n",
        "from os import path\n",
        "\n",
        "from getdist import MCSamples\n",
        "from getdist import plots\n",
        "\n",
        "import autofit as af\n",
        "import autolens as al"
      ],
      "outputs": [],
      "execution_count": null
    },
    {
      "cell_type": "markdown",
      "metadata": {},
      "source": [
        "__Model Fit__\n",
        "\n",
        "First, lets create a result via Nautilus by repeating the simple model-fit that is performed in \n",
        "the `modeling/start_here.py` example.\n",
        "\n",
        "We'll use Nautilus in this example, but any MCMC / nested sampling non-linear search which produces samples of\n",
        "the posterior could be used."
      ]
    },
    {
      "cell_type": "code",
      "metadata": {},
      "source": [
        "dataset_name = \"simple__no_lens_light\"\n",
        "\n",
        "search = af.Nautilus(\n",
        "    path_prefix=path.join(\"plot\"), name=\"GetDist\", unique_tag=dataset_name, n_live=100\n",
        ")\n",
        "\n",
        "dataset_path = path.join(\"dataset\", \"imaging\", dataset_name)\n",
        "\n",
        "dataset = al.Imaging.from_fits(\n",
        "    data_path=path.join(dataset_path, \"data.fits\"),\n",
        "    psf_path=path.join(dataset_path, \"psf.fits\"),\n",
        "    noise_map_path=path.join(dataset_path, \"noise_map.fits\"),\n",
        "    pixel_scales=0.1,\n",
        ")\n",
        "\n",
        "mask = al.Mask2D.circular(\n",
        "    shape_native=dataset.shape_native, pixel_scales=dataset.pixel_scales, radius=3.0\n",
        ")\n",
        "\n",
        "dataset = dataset.apply_mask(mask=mask)\n",
        "\n",
        "# Lens:\n",
        "\n",
        "mass = af.Model(al.mp.Isothermal)\n",
        "shear = af.Model(al.mp.ExternalShear)\n",
        "\n",
        "lens = af.Model(al.Galaxy, redshift=0.5, mass=mass, shear=shear)\n",
        "\n",
        "# Source:\n",
        "\n",
        "source = af.Model(al.Galaxy, redshift=1.0, bulge=al.lp.SersicCore)\n",
        "\n",
        "# Overall Lens Model:\n",
        "\n",
        "model = af.Collection(galaxies=af.Collection(lens=lens, source=source))\n",
        "\n",
        "analysis = al.AnalysisImaging(dataset=dataset)\n",
        "\n",
        "result = search.fit(model=model, analysis=analysis)\n",
        "\n",
        "samples = result.samples"
      ],
      "outputs": [],
      "execution_count": null
    },
    {
      "cell_type": "markdown",
      "metadata": {},
      "source": [
        "__Param Names__\n",
        "\n",
        "GetDist uses a `model.paramnames` file to load the name of every parameter in the model-fit and pair it with the\n",
        "latex symbol used to represent it in plots.\n",
        "\n",
        "This file is not created by **PyAutoLens** by default, but can be output by the `search.paths` object as shown below."
      ]
    },
    {
      "cell_type": "code",
      "metadata": {},
      "source": [
        "search.paths._save_parameter_names_file(model=model)\n",
        "search.paths.zip_remove()\n",
        "search.paths._zip()"
      ],
      "outputs": [],
      "execution_count": null
    },
    {
      "cell_type": "markdown",
      "metadata": {},
      "source": [
        "__GetDist MCSamples__\n",
        "\n",
        "GetDist uses an `MCSamples` object to store the samples of a non-linear search.\n",
        "\n",
        "Below, we create this object via a conversion from **PyAutoFit** `Samples`, as well as using the `names`\n",
        "and `labels` of parameters in the `Samples` object.\n",
        "\n",
        "The input `sampler=\"nested\"` is input because we used a nested sampling, `Nautilus`. For MCMC this should be\n",
        "replaced with \"mcmc\"."
      ]
    },
    {
      "cell_type": "code",
      "metadata": {},
      "source": [
        "gd_samples = MCSamples(\n",
        "    samples=np.asarray(samples.parameter_lists),\n",
        "    loglikes=np.asarray(samples.log_likelihood_list),\n",
        "    weights=np.asarray(samples.weight_list),\n",
        "    names=samples.model.model_component_and_parameter_names,\n",
        "    labels=samples.model.parameter_labels_with_superscripts,\n",
        "    sampler=\"nested\",\n",
        ")"
      ],
      "outputs": [],
      "execution_count": null
    },
    {
      "cell_type": "markdown",
      "metadata": {},
      "source": [
        "__Parameter Names__\n",
        "\n",
        "Note that in order to customize the figure, we will use the `samples.model.parameter_names` list."
      ]
    },
    {
      "cell_type": "code",
      "metadata": {},
      "source": [
        "print(samples.model.model_component_and_parameter_names)"
      ],
      "outputs": [],
      "execution_count": null
    },
    {
      "cell_type": "markdown",
      "metadata": {},
      "source": [
        "__GetDist Plotter__\n",
        "\n",
        "To make plots we use a GetDist plotter object, which can be customized to change the appearance of the plots."
      ]
    },
    {
      "cell_type": "code",
      "metadata": {},
      "source": [
        "gd_plotter = plots.get_subplot_plotter(width_inch=12)"
      ],
      "outputs": [],
      "execution_count": null
    },
    {
      "cell_type": "markdown",
      "metadata": {},
      "source": [
        "__GetDist Subplots__\n",
        "\n",
        "Using the plotter we can make different plots, for example a triangle plot showing the 1D and 2D PDFs of every \n",
        "parameter."
      ]
    },
    {
      "cell_type": "code",
      "metadata": {},
      "source": [
        "gd_plotter.triangle_plot(roots=gd_samples, filled=True)\n",
        "\n",
        "plt.show()\n",
        "plt.close()"
      ],
      "outputs": [],
      "execution_count": null
    },
    {
      "cell_type": "markdown",
      "metadata": {},
      "source": [
        "A triangle plot with specific parameters can be plotted by using the `params` input, whereby we specify the specific\n",
        "parameter names to plot."
      ]
    },
    {
      "cell_type": "code",
      "metadata": {},
      "source": [
        "gd_plotter.triangle_plot(\n",
        "    roots=gd_samples,\n",
        "    filled=True,\n",
        "    params=[\n",
        "        \"galaxies_lens_mass_einstein_radius\",\n",
        "        \"galaxies_lens_mass_ell_comps_0\",\n",
        "    ],\n",
        ")\n",
        "\n",
        "plt.show()\n",
        "plt.close()"
      ],
      "outputs": [],
      "execution_count": null
    },
    {
      "cell_type": "markdown",
      "metadata": {},
      "source": [
        "Rectangle plots can be used to show specific 2D combinations of parameters."
      ]
    },
    {
      "cell_type": "code",
      "metadata": {},
      "source": [
        "gd_plotter.rectangle_plot(\n",
        "    roots=gd_samples,\n",
        "    yparams=[\"galaxies_lens_mass_einstein_radius\"],\n",
        "    xparams=[\n",
        "        \"galaxies_lens_mass_ell_comps_0\",\n",
        "        \"galaxies_lens_mass_ell_comps_1\",\n",
        "    ],\n",
        ")\n",
        "\n",
        "plt.show()\n",
        "plt.close()"
      ],
      "outputs": [],
      "execution_count": null
    },
    {
      "cell_type": "markdown",
      "metadata": {},
      "source": [
        "__GetDist Single Plots__\n",
        "\n",
        "We can make plots of specific 1D or 2D PDFs, using the single plotter object."
      ]
    },
    {
      "cell_type": "code",
      "metadata": {},
      "source": [
        "gd_plotter = plots.get_single_plotter()\n",
        "\n",
        "gd_plotter.plot_1d(roots=gd_samples, param=\"galaxies_lens_mass_einstein_radius\")\n",
        "\n",
        "plt.show()\n",
        "plt.close()\n",
        "\n",
        "gd_plotter = plots.get_single_plotter()\n",
        "\n",
        "gd_plotter.plot_2d(\n",
        "    roots=gd_samples,\n",
        "    param1=\"galaxies_lens_mass_einstein_radius\",\n",
        "    param2=\"galaxies_lens_mass_ell_comps_0\",\n",
        ")\n",
        "\n",
        "plt.show()\n",
        "plt.close()"
      ],
      "outputs": [],
      "execution_count": null
    },
    {
      "cell_type": "markdown",
      "metadata": {},
      "source": [
        "We can also make a 3D plot, where the 2D PDF is plotted colored by the value of a third parameter."
      ]
    },
    {
      "cell_type": "code",
      "metadata": {},
      "source": [
        "gd_plotter = plots.get_single_plotter()\n",
        "\n",
        "gd_plotter.plot_3d(\n",
        "    roots=gd_samples,\n",
        "    params=[\n",
        "        \"galaxies_lens_mass_einstein_radius\",\n",
        "        \"galaxies_lens_mass_ell_comps_0\",\n",
        "        \"galaxies_lens_mass_ell_comps_1\",\n",
        "    ],\n",
        ")\n",
        "\n",
        "plt.show()\n",
        "plt.close()"
      ],
      "outputs": [],
      "execution_count": null
    },
    {
      "cell_type": "markdown",
      "metadata": {},
      "source": [
        "__Output__\n",
        "\n",
        "A figure can be output using standard matplotlib functionality."
      ]
    },
    {
      "cell_type": "code",
      "metadata": {},
      "source": [
        "\n",
        "gd_plotter = plots.get_single_plotter()\n",
        "\n",
        "gd_plotter.plot_3d(roots=gd_samples, params=[\"centre\", \"sigma\", \"normalization\"])\n",
        "\n",
        "output_path = path.join(\"output\")\n",
        "\n",
        "plt.savefig(path.join(output_path, \"getdist.png\"))\n",
        "plt.close()"
      ],
      "outputs": [],
      "execution_count": null
    },
    {
      "cell_type": "markdown",
      "metadata": {},
      "source": [
        "__GetDist Other Plots__\n",
        "\n",
        "There are many more ways to visualize PDFs possible with GetDist, checkout the official documentation for them all!\n",
        "\n",
        " - https://getdist.readthedocs.io/en/latest/\n",
        " - https://getdist.readthedocs.io/en/latest/plots.html\n",
        "\n",
        "__Plotting Multiple Samples__\n",
        "\n",
        "Finally, we can plot the results of multiple different non-linear searches on the same plot, using all\n",
        "of the functions above.\n",
        "\n",
        "Lets quickly make a second set of `Nautilus` results and plot them on the same figure above with the results\n",
        "of the first search."
      ]
    },
    {
      "cell_type": "code",
      "metadata": {},
      "source": [
        "\n",
        "Nautilus = af.Nautilus(path_prefix=\"plot\", name=\"GetDist_2\")\n",
        "\n",
        "result_extra = Nautilus.fit(model=model, analysis=analysis)\n",
        "\n",
        "samples_extra = result_extra.samples\n",
        "\n",
        "gd_samples_extra = MCSamples(\n",
        "    samples=np.asarray(samples_extra.parameter_lists),\n",
        "    loglikes=np.asarray(samples_extra.log_likelihood_list),\n",
        "    weights=np.asarray(samples_extra.weight_list),\n",
        "    names=samples_extra.model.model_component_and_parameter_names,\n",
        "    labels=samples.model.parameter_labels_with_superscripts,\n",
        "    sampler=\"nested\",\n",
        ")\n",
        "\n",
        "gd_plotter = plots.get_subplot_plotter(width_inch=12)\n",
        "\n",
        "gd_plotter.triangle_plot(roots=[gd_samples, gd_samples_extra], filled=True)\n",
        "\n",
        "plt.show()\n",
        "plt.close()"
      ],
      "outputs": [],
      "execution_count": null
    },
    {
      "cell_type": "markdown",
      "metadata": {},
      "source": [
        "Note that the models do not need to be the same to make the plots above.\n",
        "\n",
        "GetDist will clever use the `names` of the parameters to combine the parameters into customizeable PDF plots."
      ]
    },
    {
      "cell_type": "code",
      "metadata": {},
      "source": [],
      "outputs": [],
      "execution_count": null
    }
  ],
  "metadata": {
    "anaconda-cloud": {},
    "kernelspec": {
      "display_name": "Python 3",
      "language": "python",
      "name": "python3"
    },
    "language_info": {
      "codemirror_mode": {
        "name": "ipython",
        "version": 3
      },
      "file_extension": ".py",
      "mimetype": "text/x-python",
      "name": "python",
      "nbconvert_exporter": "python",
      "pygments_lexer": "ipython3",
      "version": "3.6.1"
    }
  },
  "nbformat": 4,
  "nbformat_minor": 4
}