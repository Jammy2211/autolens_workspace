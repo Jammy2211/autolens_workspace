{
  "cells": [
    {
      "cell_type": "markdown",
      "metadata": {},
      "source": [
        "Plots: MLEPlotter\n",
        "=====================\n",
        "\n",
        "This example illustrates how to plot visualization summarizing the results of a pyswarms non-linear search using\n",
        "a `ZeusPlotter`.\n",
        "\n",
        "__Start Here Notebook__\n",
        "\n",
        "If any code in this script is unclear, refer to the `plot/start_here.ipynb` notebook."
      ]
    },
    {
      "cell_type": "code",
      "metadata": {},
      "source": [
        "%matplotlib inline\n",
        "from pyprojroot import here\n",
        "workspace_path = str(here())\n",
        "%cd $workspace_path\n",
        "print(f\"Working Directory has been set to `{workspace_path}`\")\n",
        "\n",
        "import matplotlib.pyplot as plt\n",
        "from os import path\n",
        "\n",
        "import autofit as af\n",
        "import autolens as al\n",
        "import autolens.plot as aplt"
      ],
      "outputs": [],
      "execution_count": null
    },
    {
      "cell_type": "markdown",
      "metadata": {},
      "source": [
        "First, lets create a result via pyswarms by repeating the simple model-fit that is performed in \n",
        "the `modeling/start_here.py` example."
      ]
    },
    {
      "cell_type": "code",
      "metadata": {},
      "source": [
        "dataset_name = \"simple__no_lens_light\"\n",
        "\n",
        "search = af.PySwarmsGlobal(\n",
        "    path_prefix=path.join(\"plot\", \"MLEPlotter\"),\n",
        "    name=\"PySwarms\",\n",
        "    n_particles=50,\n",
        "    iters=10,\n",
        ")\n",
        "\n",
        "dataset_path = path.join(\"dataset\", \"imaging\", dataset_name)\n",
        "\n",
        "dataset = al.Imaging.from_fits(\n",
        "    data_path=path.join(dataset_path, \"data.fits\"),\n",
        "    psf_path=path.join(dataset_path, \"psf.fits\"),\n",
        "    noise_map_path=path.join(dataset_path, \"noise_map.fits\"),\n",
        "    pixel_scales=0.1,\n",
        ")\n",
        "\n",
        "mask = al.Mask2D.circular(\n",
        "    shape_native=dataset.shape_native, pixel_scales=dataset.pixel_scales, radius=3.0\n",
        ")\n",
        "\n",
        "dataset = dataset.apply_mask(mask=mask)\n",
        "\n",
        "# Lens:\n",
        "\n",
        "mass = af.Model(al.mp.Isothermal)\n",
        "shear = af.Model(al.mp.ExternalShear)\n",
        "\n",
        "lens = af.Model(al.Galaxy, redshift=0.5, mass=mass, shear=shear)\n",
        "\n",
        "# Source:\n",
        "\n",
        "source = af.Model(al.Galaxy, redshift=1.0, bulge=al.lp.SersicCore)\n",
        "\n",
        "# Overall Lens Model:\n",
        "\n",
        "model = af.Collection(galaxies=af.Collection(lens=lens, source=source))\n",
        "\n",
        "analysis = al.AnalysisImaging(dataset=dataset)\n",
        "\n",
        "result = search.fit(model=model, analysis=analysis)"
      ],
      "outputs": [],
      "execution_count": null
    },
    {
      "cell_type": "markdown",
      "metadata": {},
      "source": [
        "__Notation__\n",
        "\n",
        "Plot are labeled with short hand parameter names (e.g. the `centre` parameters are plotted using an `x`). \n",
        "\n",
        "The mappings of every parameter to its shorthand symbol for plots is specified in the `config/notation.yaml` file \n",
        "and can be customized.\n",
        "\n",
        "Each label also has a superscript corresponding to the model component the parameter originates from. For example,\n",
        "Gaussians are given the superscript `g`. This can also be customized in the `config/notation.yaml` file.\n",
        "\n",
        "__Plotting__\n",
        "\n",
        "We now pass the samples to a `MLEPlotter` which will allow us to use pyswarms's in-built plotting libraries to \n",
        "make figures.\n",
        "\n",
        "The pyswarms readthedocs describes fully all of the methods used below \n",
        "\n",
        " - https://pyswarms.readthedocs.io/en/latest/api/pyswarms.utils.plotters.html\n",
        " \n",
        "In all the examples below, we use the `kwargs` of this function to pass in any of the input parameters that are \n",
        "described in the API docs."
      ]
    },
    {
      "cell_type": "code",
      "metadata": {},
      "source": [
        "pyswarms_plotter = aplt.MLEPlotter(samples=result.samples)"
      ],
      "outputs": [],
      "execution_count": null
    },
    {
      "cell_type": "markdown",
      "metadata": {},
      "source": [
        "__Search Specific Visualization__\n",
        "\n",
        "The internal sampler can be used to plot the results of the non-linear search. \n",
        "\n",
        "We do this using the `search_internal` attribute which contains the sampler in its native form.\n",
        "\n",
        "The first time you run a search, the `search_internal` attribute will be available because it is passed ot the\n",
        "result via memory. \n",
        "\n",
        "If you rerun the fit on a completed result, it will not be available in memory, and therefore\n",
        "will be loaded from the `files/search_internal` folder. The `search_internal` entry of the `output.yaml` must be true \n",
        "for this to be possible."
      ]
    },
    {
      "cell_type": "code",
      "metadata": {},
      "source": [
        "search_internal = result.search_internal"
      ],
      "outputs": [],
      "execution_count": null
    },
    {
      "cell_type": "markdown",
      "metadata": {},
      "source": [
        "__Plots__\n",
        "\n",
        "The `contour` method shows a 2D projection of the particle trajectories."
      ]
    },
    {
      "cell_type": "code",
      "metadata": {},
      "source": [
        "from pyswarms.utils import plotters\n",
        "\n",
        "plotters.plot_contour(\n",
        "    pos_history=search_internal.pos_history,\n",
        "    canvas=None,\n",
        "    title=\"Trajectories\",\n",
        "    mark=None,\n",
        "    designer=None,\n",
        "    mesher=None,\n",
        "    animator=None,\n",
        ")\n",
        "plt.show()\n",
        "\n",
        "plotters.plot_cost_history(\n",
        "    cost_history=search_internal.cost_history,\n",
        "    ax=None,\n",
        "    title=\"Cost History\",\n",
        "    designer=None,\n",
        ")\n",
        "plt.show()"
      ],
      "outputs": [],
      "execution_count": null
    },
    {
      "cell_type": "markdown",
      "metadata": {},
      "source": [
        "Finish."
      ]
    },
    {
      "cell_type": "code",
      "metadata": {},
      "source": [],
      "outputs": [],
      "execution_count": null
    }
  ],
  "metadata": {
    "anaconda-cloud": {},
    "kernelspec": {
      "display_name": "Python 3",
      "language": "python",
      "name": "python3"
    },
    "language_info": {
      "codemirror_mode": {
        "name": "ipython",
        "version": 3
      },
      "file_extension": ".py",
      "mimetype": "text/x-python",
      "name": "python",
      "nbconvert_exporter": "python",
      "pygments_lexer": "ipython3",
      "version": "3.6.1"
    }
  },
  "nbformat": 4,
  "nbformat_minor": 4
}