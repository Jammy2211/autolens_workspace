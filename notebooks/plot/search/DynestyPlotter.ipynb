{
  "cells": [
    {
      "cell_type": "markdown",
      "metadata": {},
      "source": [
        "Plots: DynestyPlotter\n",
        "=====================\n",
        "\n",
        "This example illustrates how to plot visualization summarizing the results of a Nautilus non-linear search using\n",
        "a `ZeusPlotter`.\n",
        "\n",
        "__Start Here Notebook__\n",
        "\n",
        "If any code in this script is unclear, refer to the `plot/start_here.ipynb` notebook."
      ]
    },
    {
      "cell_type": "code",
      "metadata": {},
      "source": [
        "%matplotlib inline\n",
        "from pyprojroot import here\n",
        "workspace_path = str(here())\n",
        "%cd $workspace_path\n",
        "print(f\"Working Directory has been set to `{workspace_path}`\")\n",
        "\n",
        "import matplotlib.pyplot as plt\n",
        "from os import path\n",
        "\n",
        "import autofit as af\n",
        "import autolens as al\n",
        "import autolens.plot as aplt"
      ],
      "outputs": [],
      "execution_count": null
    },
    {
      "cell_type": "markdown",
      "metadata": {},
      "source": [
        "First, lets create a result via Nautilus by repeating the simple model-fit that is performed in \n",
        "the `modeling/start_here.py` example."
      ]
    },
    {
      "cell_type": "code",
      "metadata": {},
      "source": [
        "dataset_name = \"simple__no_lens_light\"\n",
        "\n",
        "search = af.DynestyStatic(\n",
        "    path_prefix=path.join(\"plot\"),\n",
        "    name=\"DynestyPlotter\",\n",
        "    unique_tag=dataset_name,\n",
        "    n_live=100,\n",
        ")\n",
        "\n",
        "dataset_path = path.join(\"dataset\", \"imaging\", dataset_name)\n",
        "\n",
        "dataset = al.Imaging.from_fits(\n",
        "    data_path=path.join(dataset_path, \"data.fits\"),\n",
        "    psf_path=path.join(dataset_path, \"psf.fits\"),\n",
        "    noise_map_path=path.join(dataset_path, \"noise_map.fits\"),\n",
        "    pixel_scales=0.1,\n",
        ")\n",
        "\n",
        "mask = al.Mask2D.circular(\n",
        "    shape_native=dataset.shape_native, pixel_scales=dataset.pixel_scales, radius=3.0\n",
        ")\n",
        "\n",
        "dataset = dataset.apply_mask(mask=mask)\n",
        "\n",
        "# Lens:\n",
        "\n",
        "mass = af.Model(al.mp.Isothermal)\n",
        "shear = af.Model(al.mp.ExternalShear)\n",
        "\n",
        "lens = af.Model(al.Galaxy, redshift=0.5, mass=mass, shear=shear)\n",
        "\n",
        "# Source:\n",
        "\n",
        "source = af.Model(al.Galaxy, redshift=1.0, bulge=al.lp.SersicCore)\n",
        "\n",
        "# Overall Lens Model:\n",
        "\n",
        "model = af.Collection(galaxies=af.Collection(lens=lens, source=source))\n",
        "\n",
        "analysis = al.AnalysisImaging(dataset=dataset)\n",
        "\n",
        "result = search.fit(model=model, analysis=analysis)"
      ],
      "outputs": [],
      "execution_count": null
    },
    {
      "cell_type": "markdown",
      "metadata": {},
      "source": [
        "__Notation__\n",
        "\n",
        "Plot are labeled with short hand parameter names (e.g. the `centre` parameters are plotted using an `x`). \n",
        "\n",
        "The mappings of every parameter to its shorthand symbol for plots is specified in the `config/notation.yaml` file \n",
        "and can be customized.\n",
        "\n",
        "Each label also has a superscript corresponding to the model component the parameter originates from. For example,\n",
        "Gaussians are given the superscript `g`. This can also be customized in the `config/notation.yaml` file.\n",
        "\n",
        "__Plotting__\n",
        "\n",
        "We now pass the samples to a `DynestyPlotter` which will allow us to use Nautilus's in-built plotting libraries to \n",
        "make figures.\n",
        "\n",
        "The Nautilus readthedocs describes fully all of the methods used below \n",
        "\n",
        " - https://nautilus-sampler.readthedocs.io/en/latest/quickstart.html\n",
        " - https://nautilus-sampler.readthedocs.io/en/latest/api.html#module-Nautilus.plotting\n",
        " \n",
        "In all the examples below, we use the `kwargs` of this function to pass in any of the input parameters that are \n",
        "described in the API docs.\n",
        "\n",
        "Nautilus plotters use `_kwargs` dictionaries to pass visualization settings to matplotlib lib. For example, below,\n",
        "we:\n",
        "\n",
        " - Set the fontsize of the x and y labels by passing `label_kwargs={\"fontsize\": 16}`.\n",
        " - Set the fontsize of the title by passing `title_kwargs={\"fontsize\": \"10\"}`.\n",
        " \n",
        "There are other `_kwargs` inputs we pass as None, you should check out the Nautilus docs if you need to customize your\n",
        "figure."
      ]
    },
    {
      "cell_type": "code",
      "metadata": {},
      "source": [
        "plotter = aplt.NestPlotter(samples=result.samples)"
      ],
      "outputs": [],
      "execution_count": null
    },
    {
      "cell_type": "markdown",
      "metadata": {},
      "source": [
        "The `corner_anesthetic` method produces a triangle of 1D and 2D PDF's of every parameter using the library `anesthetic`."
      ]
    },
    {
      "cell_type": "code",
      "metadata": {},
      "source": [
        "plotter.corner_anesthetic()"
      ],
      "outputs": [],
      "execution_count": null
    },
    {
      "cell_type": "markdown",
      "metadata": {},
      "source": [
        "The `corner_cornerpy` method produces a triangle of 1D and 2D PDF's of every parameter using the library `corner.py`."
      ]
    },
    {
      "cell_type": "code",
      "metadata": {},
      "source": [
        "plotter.corner_cornerpy(\n",
        "    dims=None,\n",
        "    span=None,\n",
        "    quantiles=[0.025, 0.5, 0.975],\n",
        "    color=\"black\",\n",
        "    smooth=0.02,\n",
        "    quantiles_2d=None,\n",
        "    hist_kwargs=None,\n",
        "    hist2d_kwargs=None,\n",
        "    label_kwargs={\"fontsize\": 16},\n",
        "    show_titles=True,\n",
        "    title_fmt=\".2f\",\n",
        "    title_kwargs={\"fontsize\": \"10\"},\n",
        "    truths=None,\n",
        "    truth_color=\"red\",\n",
        "    truth_kwargs=None,\n",
        "    max_n_ticks=5,\n",
        "    top_ticks=False,\n",
        "    use_math_text=False,\n",
        "    verbose=False,\n",
        ")\n"
      ],
      "outputs": [],
      "execution_count": null
    },
    {
      "cell_type": "markdown",
      "metadata": {},
      "source": [
        "__Search Specific Visualization__\n",
        "\n",
        "The internal sampler can be used to plot the results of the non-linear search. \n",
        "\n",
        "We do this using the `search_internal` attribute which contains the sampler in its native form.\n",
        "\n",
        "The first time you run a search, the `search_internal` attribute will be available because it is passed ot the\n",
        "result via memory. \n",
        "\n",
        "If you rerun the fit on a completed result, it will not be available in memory, and therefore\n",
        "will be loaded from the `files/search_internal` folder. The `search_internal` entry of the `output.yaml` must be true \n",
        "for this to be possible."
      ]
    },
    {
      "cell_type": "code",
      "metadata": {},
      "source": [
        "search_internal = result.search_internal"
      ],
      "outputs": [],
      "execution_count": null
    },
    {
      "cell_type": "markdown",
      "metadata": {},
      "source": [
        "__Plots__\n",
        "\n",
        "All plots use dynesty's inbuilt plotting library and the model."
      ]
    },
    {
      "cell_type": "code",
      "metadata": {},
      "source": [
        "from dynesty import plotting as dyplot\n",
        "\n",
        "model = result.model\n"
      ],
      "outputs": [],
      "execution_count": null
    },
    {
      "cell_type": "markdown",
      "metadata": {},
      "source": [
        "The boundplot plots the bounding distribution used to propose either (1) live points at a given iteration or (2) a \n",
        "specific dead point during the course of a run, projected onto the two dimensions specified by `dims`."
      ]
    },
    {
      "cell_type": "code",
      "metadata": {},
      "source": [
        "dyplot.boundplot(\n",
        "    results=search_internal.results,\n",
        "    labels=model.parameter_labels_with_superscripts_latex,\n",
        "    dims=(2, 2),\n",
        "    it=-1,  # -1 is the final iteration of the dynesty samples, change this to plot a different iteration\n",
        "    idx=None,\n",
        "    prior_transform=None,\n",
        "    periodic=None,\n",
        "    reflective=None,\n",
        "    ndraws=5000,\n",
        "    color=\"gray\",\n",
        "    plot_kwargs=None,\n",
        "    label_kwargs={\"fontsize\": 16},\n",
        "    max_n_ticks=5,\n",
        "    use_math_text=False,\n",
        "    show_live=False,\n",
        "    live_color=\"darkviolet\",\n",
        "    live_kwargs=None,\n",
        "    span=None,\n",
        "    fig=None,\n",
        ")\n",
        "\n",
        "plt.show()\n",
        "plt.close()"
      ],
      "outputs": [],
      "execution_count": null
    },
    {
      "cell_type": "markdown",
      "metadata": {},
      "source": [
        "The cornerbound plots the bounding distribution used to propose either (1) live points at a given iteration or (2) a \n",
        "specific dead point during the course of a run, projected onto all pairs of dimensions."
      ]
    },
    {
      "cell_type": "code",
      "metadata": {},
      "source": [
        "try:\n",
        "    dyplot.cornerbound(\n",
        "        results=search_internal.results,\n",
        "        labels=model.parameter_labels_with_superscripts_latex,\n",
        "        it=-1,  # -1 is the final iteration of the dynesty samples, change this to plot a different iteration\n",
        "        idx=None,\n",
        "        dims=None,\n",
        "        prior_transform=None,\n",
        "        periodic=None,\n",
        "        reflective=None,\n",
        "        ndraws=5000,\n",
        "        color=\"gray\",\n",
        "        plot_kwargs=None,\n",
        "        label_kwargs={\"fontsize\": 16},\n",
        "        max_n_ticks=5,\n",
        "        use_math_text=False,\n",
        "        show_live=False,\n",
        "        live_color=\"darkviolet\",\n",
        "        live_kwargs=None,\n",
        "        span=None,\n",
        "        fig=None,\n",
        "    )\n",
        "\n",
        "    plt.show()\n",
        "    plt.close()\n",
        "\n",
        "except ValueError:\n",
        "    pass"
      ],
      "outputs": [],
      "execution_count": null
    },
    {
      "cell_type": "markdown",
      "metadata": {},
      "source": [
        "The cornerplot plots a corner plot of the 1-D and 2-D marginalized posteriors."
      ]
    },
    {
      "cell_type": "code",
      "metadata": {},
      "source": [
        "\n",
        "try:\n",
        "    dyplot.cornerplot(\n",
        "        results=search_internal.results,\n",
        "        labels=model.parameter_labels_with_superscripts_latex,\n",
        "        dims=None,\n",
        "        span=None,\n",
        "        quantiles=[0.025, 0.5, 0.975],\n",
        "        color=\"black\",\n",
        "        smooth=0.02,\n",
        "        quantiles_2d=None,\n",
        "        hist_kwargs=None,\n",
        "        hist2d_kwargs=None,\n",
        "        label_kwargs={\"fontsize\": 16},\n",
        "        show_titles=True,\n",
        "        title_fmt=\".2f\",\n",
        "        title_kwargs={\"fontsize\": \"10\"},\n",
        "        truths=None,\n",
        "        truth_color=\"red\",\n",
        "        truth_kwargs=None,\n",
        "        max_n_ticks=5,\n",
        "        top_ticks=False,\n",
        "        use_math_text=False,\n",
        "        verbose=False,\n",
        "    )\n",
        "\n",
        "    plt.show()\n",
        "    plt.close()\n",
        "\n",
        "except ValueError:\n",
        "    pass\n"
      ],
      "outputs": [],
      "execution_count": null
    },
    {
      "cell_type": "markdown",
      "metadata": {},
      "source": [
        "The cornerpoints plots a (sub-)corner plot of (weighted) samples."
      ]
    },
    {
      "cell_type": "code",
      "metadata": {},
      "source": [
        "dyplot.cornerpoints(\n",
        "    results=search_internal.results,\n",
        "    labels=model.parameter_labels_with_superscripts_latex,\n",
        "    dims=None,\n",
        "    thin=1,\n",
        "    span=None,\n",
        "    cmap=\"plasma\",\n",
        "    color=None,\n",
        "    kde=True,\n",
        "    nkde=1000,\n",
        "    plot_kwargs=None,\n",
        "    label_kwargs={\"fontsize\": 16},\n",
        "    truths=None,\n",
        "    truth_color=\"red\",\n",
        "    truth_kwargs=None,\n",
        "    max_n_ticks=5,\n",
        "    use_math_text=False,\n",
        "    fig=None,\n",
        ")\n",
        "\n",
        "plt.show()\n",
        "plt.close()\n"
      ],
      "outputs": [],
      "execution_count": null
    },
    {
      "cell_type": "markdown",
      "metadata": {},
      "source": [
        "The runplot plots live points, ln(likelihood), ln(weight), and ln(evidence) as a function of ln(prior volume)."
      ]
    },
    {
      "cell_type": "code",
      "metadata": {},
      "source": [
        "dyplot.runplot(\n",
        "    results=search_internal.results,\n",
        "    span=None,\n",
        "    logplot=False,\n",
        "    kde=True,\n",
        "    nkde=1000,\n",
        "    color=\"blue\",\n",
        "    plot_kwargs=None,\n",
        "    label_kwargs={\"fontsize\": 16},\n",
        "    lnz_error=True,\n",
        "    lnz_truth=None,\n",
        "    truth_color=\"red\",\n",
        "    truth_kwargs=None,\n",
        "    max_x_ticks=8,\n",
        "    max_y_ticks=3,\n",
        "    use_math_text=True,\n",
        "    mark_final_live=True,\n",
        "    fig=None,\n",
        ")\n",
        "\n",
        "plt.show()\n",
        "plt.close()\n"
      ],
      "outputs": [],
      "execution_count": null
    },
    {
      "cell_type": "markdown",
      "metadata": {},
      "source": [
        "The traceplot plots traces and marginalized posteriors for each parameter."
      ]
    },
    {
      "cell_type": "code",
      "metadata": {},
      "source": [
        "\n",
        "dyplot.traceplot(\n",
        "    results=search_internal.results,\n",
        "    span=None,\n",
        "    quantiles=[0.025, 0.5, 0.975],\n",
        "    smooth=0.02,\n",
        "    thin=1,\n",
        "    dims=None,\n",
        "    post_color=\"blue\",\n",
        "    post_kwargs=None,\n",
        "    kde=True,\n",
        "    nkde=1000,\n",
        "    trace_cmap=\"plasma\",\n",
        "    trace_color=None,\n",
        "    trace_kwargs=None,\n",
        "    connect=False,\n",
        "    connect_highlight=10,\n",
        "    connect_color=\"red\",\n",
        "    connect_kwargs=None,\n",
        "    max_n_ticks=5,\n",
        "    use_math_text=False,\n",
        "    label_kwargs={\"fontsize\": 16},\n",
        "    show_titles=True,\n",
        "    title_fmt=\".2f\",\n",
        "    title_kwargs={\"fontsize\": \"10\"},\n",
        "    truths=None,\n",
        "    truth_color=\"red\",\n",
        "    truth_kwargs=None,\n",
        "    verbose=False,\n",
        "    fig=None,\n",
        ")\n",
        "\n",
        "plt.show()\n",
        "plt.close()"
      ],
      "outputs": [],
      "execution_count": null
    },
    {
      "cell_type": "markdown",
      "metadata": {},
      "source": [
        "Finish."
      ]
    },
    {
      "cell_type": "code",
      "metadata": {},
      "source": [],
      "outputs": [],
      "execution_count": null
    }
  ],
  "metadata": {
    "anaconda-cloud": {},
    "kernelspec": {
      "display_name": "Python 3",
      "language": "python",
      "name": "python3"
    },
    "language_info": {
      "codemirror_mode": {
        "name": "ipython",
        "version": 3
      },
      "file_extension": ".py",
      "mimetype": "text/x-python",
      "name": "python",
      "nbconvert_exporter": "python",
      "pygments_lexer": "ipython3",
      "version": "3.6.1"
    }
  },
  "nbformat": 4,
  "nbformat_minor": 4
}