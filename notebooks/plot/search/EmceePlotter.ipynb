{
  "cells": [
    {
      "cell_type": "markdown",
      "metadata": {},
      "source": [
        "Plots: EmceePlotter\n",
        "=====================\n",
        "\n",
        "This example illustrates how to plot visualization summarizing the results of a emcee non-linear search using\n",
        "a `ZeusPlotter`.\n",
        "\n",
        "__Start Here Notebook__\n",
        "\n",
        "If any code in this script is unclear, refer to the `plot/start_here.ipynb` notebook."
      ]
    },
    {
      "cell_type": "code",
      "metadata": {},
      "source": [
        "%matplotlib inline\n",
        "from pyprojroot import here\n",
        "workspace_path = str(here())\n",
        "%cd $workspace_path\n",
        "print(f\"Working Directory has been set to `{workspace_path}`\")\n",
        "\n",
        "from os import path\n",
        "\n",
        "import autofit as af\n",
        "import autolens as al\n",
        "import autolens.plot as aplt"
      ],
      "outputs": [],
      "execution_count": null
    },
    {
      "cell_type": "markdown",
      "metadata": {},
      "source": [
        "First, lets create a result via emcee by repeating the simple model-fit that is performed in \n",
        "the `modeling/start_here.py` example.\n",
        "\n",
        "We use a model with an initialized starting point, which is necessary for lens modeling with emcee."
      ]
    },
    {
      "cell_type": "code",
      "metadata": {},
      "source": [
        "dataset_name = \"simple__no_lens_light\"\n",
        "\n",
        "search = af.Emcee(\n",
        "    path_prefix=path.join(\"plot\"),\n",
        "    name=\"EmceePlotter\",\n",
        "    unique_tag=dataset_name,\n",
        "    nwalkers=30,\n",
        "    nsteps=500,\n",
        ")\n",
        "\n",
        "dataset_path = path.join(\"dataset\", \"imaging\", dataset_name)\n",
        "\n",
        "dataset = al.Imaging.from_fits(\n",
        "    data_path=path.join(dataset_path, \"data.fits\"),\n",
        "    psf_path=path.join(dataset_path, \"psf.fits\"),\n",
        "    noise_map_path=path.join(dataset_path, \"noise_map.fits\"),\n",
        "    pixel_scales=0.1,\n",
        ")\n",
        "\n",
        "mask = al.Mask2D.circular(\n",
        "    shape_native=dataset.shape_native, pixel_scales=dataset.pixel_scales, radius=3.0\n",
        ")\n",
        "\n",
        "dataset = dataset.apply_mask(mask=mask)\n",
        "\n",
        "mass = af.Model(al.mp.Isothermal)\n",
        "mass.centre.centre_0 = af.UniformPrior(lower_limit=-0.1, upper_limit=0.1)\n",
        "mass.centre.centre_1 = af.UniformPrior(lower_limit=-0.1, upper_limit=0.1)\n",
        "mass.ell_comps.ell_comps_0 = af.UniformPrior(lower_limit=-0.3, upper_limit=0.3)\n",
        "mass.ell_comps.ell_comps_1 = af.UniformPrior(lower_limit=-0.3, upper_limit=0.3)\n",
        "mass.einstein_radius = af.UniformPrior(lower_limit=1.0, upper_limit=2.0)\n",
        "\n",
        "shear = af.Model(al.mp.ExternalShear)\n",
        "shear.gamma_1 = af.UniformPrior(lower_limit=-0.1, upper_limit=0.1)\n",
        "shear.gamma_2 = af.UniformPrior(lower_limit=-0.1, upper_limit=0.1)\n",
        "\n",
        "bulge = af.Model(al.lp.Sersic)\n",
        "bulge.centre.centre_0 = af.UniformPrior(lower_limit=-0.1, upper_limit=0.1)\n",
        "bulge.centre.centre_1 = af.UniformPrior(lower_limit=-0.1, upper_limit=0.1)\n",
        "bulge.ell_comps.ell_comps_0 = af.UniformPrior(lower_limit=-0.3, upper_limit=0.3)\n",
        "bulge.ell_comps.ell_comps_1 = af.UniformPrior(lower_limit=-0.3, upper_limit=0.3)\n",
        "bulge.intensity = af.UniformPrior(lower_limit=0.1, upper_limit=0.5)\n",
        "bulge.effective_radius = af.UniformPrior(lower_limit=0.0, upper_limit=0.4)\n",
        "bulge.sersic_index = af.UniformPrior(lower_limit=0.5, upper_limit=2.0)\n",
        "\n",
        "lens = af.Model(al.Galaxy, redshift=0.5, mass=mass, shear=shear)\n",
        "source = af.Model(al.Galaxy, redshift=1.0, bulge=bulge)\n",
        "\n",
        "model = af.Collection(galaxies=af.Collection(lens=lens, source=source))\n",
        "\n",
        "analysis = al.AnalysisImaging(dataset=dataset)\n",
        "\n",
        "result = search.fit(model=model, analysis=analysis)"
      ],
      "outputs": [],
      "execution_count": null
    },
    {
      "cell_type": "markdown",
      "metadata": {},
      "source": [
        "We now pass the samples to a `EmceePlotter` which will allow us to use emcee's in-built plotting libraries to \n",
        "make figures.\n",
        "\n",
        "The emcee readthedocs describes fully all of the methods used below \n",
        "\n",
        " - https://emcee.readthedocs.io/en/stable/user/sampler/\n",
        " \n",
        " The plotter wraps the `corner` method of the library `corner.py` to make corner plots of the PDF:\n",
        "\n",
        "- https://corner.readthedocs.io/en/latest/index.html\n",
        " \n",
        "In all the examples below, we use the `kwargs` of this function to pass in any of the input parameters that are \n",
        "described in the API docs."
      ]
    },
    {
      "cell_type": "code",
      "metadata": {},
      "source": [
        "search_plotter = aplt.EmceePlotter(samples=result.samples)"
      ],
      "outputs": [],
      "execution_count": null
    },
    {
      "cell_type": "markdown",
      "metadata": {},
      "source": [
        "The `corner` method produces a triangle of 1D and 2D PDF's of every parameter in the model fit."
      ]
    },
    {
      "cell_type": "code",
      "metadata": {},
      "source": [
        "search_plotter.corner(\n",
        "    bins=20,\n",
        "    range=None,\n",
        "    color=\"k\",\n",
        "    hist_bin_factor=1,\n",
        "    smooth=None,\n",
        "    smooth1d=None,\n",
        "    label_kwargs=None,\n",
        "    titles=None,\n",
        "    show_titles=False,\n",
        "    title_fmt=\".2f\",\n",
        "    title_kwargs=None,\n",
        "    truths=None,\n",
        "    truth_color=\"#4682b4\",\n",
        "    scale_hist=False,\n",
        "    quantiles=None,\n",
        "    verbose=False,\n",
        "    fig=None,\n",
        "    max_n_ticks=5,\n",
        "    top_ticks=False,\n",
        "    use_math_text=False,\n",
        "    reverse=False,\n",
        "    labelpad=0.0,\n",
        "    hist_kwargs=None,\n",
        "    group=\"posterior\",\n",
        "    var_names=None,\n",
        "    filter_vars=None,\n",
        "    coords=None,\n",
        "    divergences=False,\n",
        "    divergences_kwargs=None,\n",
        "    labeller=None,\n",
        ")\n"
      ],
      "outputs": [],
      "execution_count": null
    },
    {
      "cell_type": "markdown",
      "metadata": {},
      "source": [
        "The `trajectories` method shows the likelihood of every parameter as a function of parameter value, colored by every\n",
        "individual walker."
      ]
    },
    {
      "cell_type": "code",
      "metadata": {},
      "source": [
        "search_plotter.trajectories()"
      ],
      "outputs": [],
      "execution_count": null
    },
    {
      "cell_type": "markdown",
      "metadata": {},
      "source": [
        "The `likelihood_series` method shows the likelihood as a function of step number, colored by every individual walker."
      ]
    },
    {
      "cell_type": "code",
      "metadata": {},
      "source": [
        "search_plotter.time_series()"
      ],
      "outputs": [],
      "execution_count": null
    },
    {
      "cell_type": "markdown",
      "metadata": {},
      "source": [
        "The `time_series` method shows the likelihood of every parameter as a function of step number, colored by every\n",
        "individual walker."
      ]
    },
    {
      "cell_type": "code",
      "metadata": {},
      "source": [
        "search_plotter.likelihood_series()\n"
      ],
      "outputs": [],
      "execution_count": null
    },
    {
      "cell_type": "markdown",
      "metadata": {},
      "source": [
        "Finish."
      ]
    },
    {
      "cell_type": "code",
      "metadata": {},
      "source": [],
      "outputs": [],
      "execution_count": null
    }
  ],
  "metadata": {
    "anaconda-cloud": {},
    "kernelspec": {
      "display_name": "Python 3",
      "language": "python",
      "name": "python3"
    },
    "language_info": {
      "codemirror_mode": {
        "name": "ipython",
        "version": 3
      },
      "file_extension": ".py",
      "mimetype": "text/x-python",
      "name": "python",
      "nbconvert_exporter": "python",
      "pygments_lexer": "ipython3",
      "version": "3.6.1"
    }
  },
  "nbformat": 4,
  "nbformat_minor": 4
}