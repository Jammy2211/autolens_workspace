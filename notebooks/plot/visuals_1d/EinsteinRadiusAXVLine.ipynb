{
  "cells": [
    {
      "cell_type": "markdown",
      "metadata": {},
      "source": [
        "Plots: EinsteinRadiusAXVLine\n",
        "=============================\n",
        "\n",
        "This example illustrates how to plot the einstein radius of a `MassProfile` on 1D figures of its properties.\n",
        "\n",
        "__Start Here Notebook__\n",
        "\n",
        "If any code in this script is unclear, refer to the `plot/start_here.ipynb` notebook."
      ]
    },
    {
      "cell_type": "code",
      "metadata": {},
      "source": [
        "%matplotlib inline\n",
        "from pyprojroot import here\n",
        "workspace_path = str(here())\n",
        "%cd $workspace_path\n",
        "print(f\"Working Directory has been set to `{workspace_path}`\")\n",
        "\n",
        "import autolens as al\n",
        "import autolens.plot as aplt"
      ],
      "outputs": [],
      "execution_count": null
    },
    {
      "cell_type": "markdown",
      "metadata": {},
      "source": [
        "First, lets create a simple `MassProfile` which we'll plot."
      ]
    },
    {
      "cell_type": "code",
      "metadata": {},
      "source": [
        "mass = al.mp.Isothermal(\n",
        "    centre=(0.0, 0.0),\n",
        "    ell_comps=al.convert.ell_comps_from(axis_ratio=0.9, angle=45.0),\n",
        "    einstein_radius=1.0,\n",
        ")"
      ],
      "outputs": [],
      "execution_count": null
    },
    {
      "cell_type": "markdown",
      "metadata": {},
      "source": [
        "We also need the 2D grid the `MassProfile` is evaluated on."
      ]
    },
    {
      "cell_type": "code",
      "metadata": {},
      "source": [
        "grid = al.Grid2D.uniform(shape_native=(100, 100), pixel_scales=0.05)"
      ],
      "outputs": [],
      "execution_count": null
    },
    {
      "cell_type": "markdown",
      "metadata": {},
      "source": [
        "We now pass the mass profile and grid to a `MassProfilePlotter` and call the `figures_1d` methods to plot its \n",
        "convergence as a function of radius.\n",
        "\n",
        "The `MassProfile` includes the einstein radius as an internal property, meaning we can plot it via an `Include1D` \n",
        "object."
      ]
    },
    {
      "cell_type": "code",
      "metadata": {},
      "source": [
        "include = aplt.Include1D(einstein_radius=True)\n",
        "mass_profile_plotter = aplt.MassProfilePlotter(\n",
        "    mass_profile=mass, grid=grid, include_1d=include\n",
        ")\n",
        "mass_profile_plotter.figures_1d(convergence=True)"
      ],
      "outputs": [],
      "execution_count": null
    },
    {
      "cell_type": "markdown",
      "metadata": {},
      "source": [
        "The appearance of the einstein radius is customized using a `EinsteinRadiusAXVLine` object.\n",
        "\n",
        "To plot the einstein radius as a vertical line this wraps the following matplotlib method:\n",
        "\n",
        " plt.axvline: https://matplotlib.org/3.3.2/api/_as_gen/matplotlib.pyplot.axvline.html"
      ]
    },
    {
      "cell_type": "code",
      "metadata": {},
      "source": [
        "einstein_radius_axvline = aplt.EinsteinRadiusAXVLine(\n",
        "    linestyle=\"-.\", c=\"r\", linewidth=20\n",
        ")\n",
        "\n",
        "mat_plot = aplt.MatPlot1D(einstein_radius_axvline=einstein_radius_axvline)\n",
        "\n",
        "mass_profile_plotter = aplt.MassProfilePlotter(\n",
        "    mass_profile=mass, grid=grid, mat_plot_1d=mat_plot, include_1d=include\n",
        ")\n",
        "mass_profile_plotter.figures_1d(convergence=True)"
      ],
      "outputs": [],
      "execution_count": null
    },
    {
      "cell_type": "markdown",
      "metadata": {},
      "source": [
        "To plot the einstein radius manually, we can pass it into a` Visuals1D` object."
      ]
    },
    {
      "cell_type": "code",
      "metadata": {},
      "source": [
        "visuals = aplt.Visuals1D(einstein_radius=mass.einstein_radius_from(grid=grid))\n",
        "\n",
        "mass_profile_plotter = aplt.MassProfilePlotter(\n",
        "    mass_profile=mass, grid=grid, visuals_1d=visuals\n",
        ")\n",
        "mass_profile_plotter.figures_1d(convergence=True)"
      ],
      "outputs": [],
      "execution_count": null
    },
    {
      "cell_type": "markdown",
      "metadata": {},
      "source": [
        "Finish."
      ]
    },
    {
      "cell_type": "code",
      "metadata": {},
      "source": [],
      "outputs": [],
      "execution_count": null
    }
  ],
  "metadata": {
    "anaconda-cloud": {},
    "kernelspec": {
      "display_name": "Python 3",
      "language": "python",
      "name": "python3"
    },
    "language_info": {
      "codemirror_mode": {
        "name": "ipython",
        "version": 3
      },
      "file_extension": ".py",
      "mimetype": "text/x-python",
      "name": "python",
      "nbconvert_exporter": "python",
      "pygments_lexer": "ipython3",
      "version": "3.6.1"
    }
  },
  "nbformat": 4,
  "nbformat_minor": 4
}