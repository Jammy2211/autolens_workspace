{
  "cells": [
    {
      "cell_type": "markdown",
      "metadata": {},
      "source": [
        "Plots: Mat Plot\n",
        "===============\n",
        "\n",
        "This example illustrates the API for customizing the appearance of figures and subplots using the `MatPlot` object,\n",
        "which wraps the `matplotlib` methods used to display figures.\n",
        "\n",
        "__Start Here Notebook__\n",
        "\n",
        "You should refer to the `plots/start_here.ipynb` notebook first for a description of how visuals work and the default\n",
        "behaviour of plotting visuals.\n",
        "\n",
        "__Contents__\n",
        "\n",
        "**Setup:** Set up all objects (e.g. grid, tracer, data) used to illustrate plotting.\n",
        "**\n",
        "\n",
        "__Setup__\n",
        "\n",
        "To illustrate plotting, we require standard objects like a grid, tracer and dataset."
      ]
    },
    {
      "cell_type": "code",
      "metadata": {},
      "source": [
        "\n",
        "%matplotlib inline\n",
        "from pyprojroot import here\n",
        "workspace_path = str(here())\n",
        "%cd $workspace_path\n",
        "print(f\"Working Directory has been set to `{workspace_path}`\")\n",
        "\n",
        "from pathlib import Path\n",
        "import autolens as al\n",
        "import autolens.plot as aplt\n",
        "\n",
        "dataset_path = Path(\"dataset\") / \"slacs\" / \"slacs1430+4105\"\n",
        "data_path = dataset_path / \"data.fits\"\n",
        "data = al.Array2D.from_fits(file_path=data_path, hdu=0, pixel_scales=0.03)"
      ],
      "outputs": [],
      "execution_count": null
    },
    {
      "cell_type": "markdown",
      "metadata": {},
      "source": [
        "__Units__\n",
        "\n",
        "The source code has internal units which are used for calculations and model-fitting (e.g. arc-seconds,\n",
        "electrons per second, dimensionless mass units)\n",
        "\n",
        "Visualization is performed in these internal units, however, the `Units` object allows the user to customize the\n",
        "units of the figure (e.g. convert arc-seconds to kiloparsecs).\n",
        "\n",
        "However, how to use the `Units` object to customize the units of a figure is not described here, but instead\n",
        "in`autolens_workspace/*/results/examples/units_and_cosmology.ipynb`. Unit conversions in general is\n",
        "described in this script.\n",
        "\n",
        "__Output__\n",
        "\n",
        "We can specify the output of the figure using the `Output` matplotlib wrapper object which wraps the following method(s):\n",
        "\n",
        " https://matplotlib.org/3.3.2/api/_as_gen/matplotlib.pyplot.show.html\n",
        " https://matplotlib.org/3.3.2/api/_as_gen/matplotlib.pyplot.savefig.html\n",
        "\n",
        "Below, we specify that the figure should be output as a `.png` file, with the name `example.png` in the `plot/plots` \n",
        "folder of the workspace."
      ]
    },
    {
      "cell_type": "code",
      "metadata": {},
      "source": [
        "output = aplt.Output(\n",
        "    path=Path(\"notebooks\") / \"plot\" / \"plots\", filename=\"example\", format=\"png\"\n",
        ")\n",
        "\n",
        "mat_plot = aplt.MatPlot2D(output=output)\n",
        "\n",
        "array_plotter = aplt.Array2DPlotter(array=data, mat_plot_2d=mat_plot)\n",
        "array_plotter.figure_2d()"
      ],
      "outputs": [],
      "execution_count": null
    },
    {
      "cell_type": "markdown",
      "metadata": {},
      "source": [
        "We can specify a list of output formats, such that the figure is output to all of them."
      ]
    },
    {
      "cell_type": "code",
      "metadata": {},
      "source": [
        "output = aplt.Output(\n",
        "    path=Path(\"notebooks\") / \"plot\" / \"plots\",\n",
        "    filename=\"example\",\n",
        "    format=[\"png\", \"pdf\"],\n",
        ")\n",
        "\n",
        "mat_plot = aplt.MatPlot2D(output=output)\n",
        "\n",
        "array_plotter = aplt.Array2DPlotter(array=data, mat_plot_2d=mat_plot)\n",
        "array_plotter.figure_2d()"
      ],
      "outputs": [],
      "execution_count": null
    },
    {
      "cell_type": "markdown",
      "metadata": {},
      "source": [
        "This `Output` object does not display the figure on your computer screen, bypassing this to output the `.png`. This is\n",
        "the default behaviour of PyAutoLens plots, but can be manually specified using the `format-\"show\"`"
      ]
    },
    {
      "cell_type": "code",
      "metadata": {},
      "source": [
        "output = aplt.Output(format=\"show\")\n",
        "\n",
        "mat_plot = aplt.MatPlot2D(output=output)\n",
        "\n",
        "array_plotter = aplt.Array2DPlotter(array=data, mat_plot_2d=mat_plot)\n",
        "array_plotter.figure_2d()\n"
      ],
      "outputs": [],
      "execution_count": null
    },
    {
      "cell_type": "markdown",
      "metadata": {},
      "source": [
        "__Figure__\n",
        "\n",
        "We can customize the figure using the `Figure` matplotlib wrapper object which wraps the following method(s):\n",
        "\n",
        " https://matplotlib.org/3.3.2/api/_as_gen/matplotlib.pyplot.figure.html"
      ]
    },
    {
      "cell_type": "code",
      "metadata": {},
      "source": [
        "figure = aplt.Figure(\n",
        "    figsize=(7, 7),\n",
        "    dpi=100.0,\n",
        "    facecolor=\"white\",\n",
        "    edgecolor=\"black\",\n",
        "    frameon=True,\n",
        "    clear=False,\n",
        "    tight_layout=False,\n",
        "    constrained_layout=False,\n",
        ")\n",
        "\n",
        "mat_plot = aplt.MatPlot2D(figure=figure)\n",
        "\n",
        "array_plotter = aplt.Array2DPlotter(array=data, mat_plot_2d=mat_plot)\n",
        "array_plotter.figure_2d()"
      ],
      "outputs": [],
      "execution_count": null
    },
    {
      "cell_type": "markdown",
      "metadata": {},
      "source": [
        "We can also customize the aspect ratio of the image displayed in a figure by passing the `Figure` an aspect ratio. \n",
        "\n",
        "This customizes the aspect ratio when the method `plt.imshow` is called.\n",
        "\n",
        " https://matplotlib.org/3.3.2/api/_as_gen/matplotlib.pyplot.imshow.html"
      ]
    },
    {
      "cell_type": "code",
      "metadata": {},
      "source": [
        "figure = aplt.Figure(aspect=\"square\")\n",
        "\n",
        "mat_plot = aplt.MatPlot2D(figure=figure)\n",
        "\n",
        "array_plotter = aplt.Array2DPlotter(array=data, mat_plot_2d=mat_plot)\n",
        "array_plotter.figure_2d()"
      ],
      "outputs": [],
      "execution_count": null
    },
    {
      "cell_type": "markdown",
      "metadata": {},
      "source": [
        "__Labels__\n",
        "\n",
        "We can customize the title, y and x labels using the `Title`, `YLabel` and `XLabel` matplotlib wrapper object \n",
        "which wraps the following method(s):\n",
        "\n",
        " https://matplotlib.org/3.3.2/api/_as_gen/matplotlib.pyplot.title.html\n",
        " https://matplotlib.org/3.3.2/api/_as_gen/matplotlib.pyplot.ylabel.html\n",
        " https://matplotlib.org/3.3.2/api/_as_gen/matplotlib.pyplot.xlabel.html\n",
        "\n",
        "We can manually specify the label of the title, ylabel and xlabel."
      ]
    },
    {
      "cell_type": "code",
      "metadata": {},
      "source": [
        "title = aplt.Title(label=\"This is the title\", color=\"r\", fontsize=20)\n",
        "\n",
        "ylabel = aplt.YLabel(ylabel=\"Label of Y\", color=\"b\", fontsize=5, position=(0.2, 0.5))\n",
        "\n",
        "xlabel = aplt.XLabel(xlabel=\"Label of X\", color=\"g\", fontsize=10)\n",
        "\n",
        "mat_plot = aplt.MatPlot2D(title=title, ylabel=ylabel, xlabel=xlabel)\n",
        "\n",
        "array_plotter = aplt.Array2DPlotter(array=data, mat_plot_2d=mat_plot)\n",
        "array_plotter.figure_2d()"
      ],
      "outputs": [],
      "execution_count": null
    },
    {
      "cell_type": "markdown",
      "metadata": {},
      "source": [
        "If we do not manually specify a label, the name of the function used to plot the image will be used as the title \n",
        "and the units of the image will be used for the ylabel and xlabel."
      ]
    },
    {
      "cell_type": "code",
      "metadata": {},
      "source": [
        "title = aplt.Title()\n",
        "ylabel = aplt.YLabel()\n",
        "xlabel = aplt.XLabel()\n",
        "\n",
        "mat_plot = aplt.MatPlot2D(title=title, ylabel=ylabel, xlabel=xlabel)\n",
        "\n",
        "array_plotter = aplt.Array2DPlotter(array=data, mat_plot_2d=mat_plot)\n",
        "array_plotter.figure_2d()"
      ],
      "outputs": [],
      "execution_count": null
    },
    {
      "cell_type": "markdown",
      "metadata": {},
      "source": [
        "The units can be manually specified."
      ]
    },
    {
      "cell_type": "code",
      "metadata": {},
      "source": [
        "mat_plot = aplt.MatPlot2D(units=aplt.Units(in_kpc=True, ticks_convert_factor=5.0))\n",
        "\n",
        "array_plotter = aplt.Array2DPlotter(array=data, mat_plot_2d=mat_plot)\n",
        "array_plotter.figure_2d()\n"
      ],
      "outputs": [],
      "execution_count": null
    },
    {
      "cell_type": "markdown",
      "metadata": {},
      "source": [
        "__Ticks__\n",
        "\n",
        "We can customize the ticks using the `YTicks` and `XTicks matplotlib wrapper object which wraps the following method(s):\n",
        "\n",
        " https://matplotlib.org/3.3.2/api/_as_gen/matplotlib.pyplot.tick_params.html\n",
        " https://matplotlib.org/3.3.2/api/_as_gen/matplotlib.pyplot.yticks.html\n",
        " https://matplotlib.org/3.3.2/api/_as_gen/matplotlib.pyplot.xticks.html"
      ]
    },
    {
      "cell_type": "code",
      "metadata": {},
      "source": [
        "tickparams = aplt.TickParams(\n",
        "    axis=\"y\",\n",
        "    which=\"major\",\n",
        "    direction=\"out\",\n",
        "    color=\"b\",\n",
        "    labelsize=20,\n",
        "    labelcolor=\"r\",\n",
        "    length=2,\n",
        "    pad=5,\n",
        "    width=3,\n",
        "    grid_alpha=0.8,\n",
        ")\n",
        "\n",
        "yticks = aplt.YTicks(alpha=0.8, fontsize=10, rotation=\"vertical\")\n",
        "xticks = aplt.XTicks(alpha=0.5, fontsize=5, rotation=\"horizontal\")\n",
        "\n",
        "mat_plot = aplt.MatPlot2D(tickparams=tickparams, yticks=yticks, xticks=xticks)\n",
        "\n",
        "array_plotter = aplt.Array2DPlotter(array=data, mat_plot_2d=mat_plot)\n",
        "array_plotter.figure_2d()"
      ],
      "outputs": [],
      "execution_count": null
    },
    {
      "cell_type": "markdown",
      "metadata": {},
      "source": [
        "A suffix can be added to every tick, for example the arc-seconds units can be included.\n",
        "\n",
        "This means one does not need to include the \"x (arcsec)\" and \"y (arcsec)\" labels on the plot, saving space for\n",
        "publication figures (see how to remove labels in `Labels.py`."
      ]
    },
    {
      "cell_type": "code",
      "metadata": {},
      "source": [
        "yticks = aplt.YTicks(manual_suffix='\"')\n",
        "xticks = aplt.XTicks(manual_suffix='\"')\n",
        "\n",
        "mat_plot = aplt.MatPlot2D(yticks=yticks, xticks=xticks)\n",
        "\n",
        "array_plotter = aplt.Array2DPlotter(array=data, mat_plot_2d=mat_plot)\n",
        "array_plotter.figure_2d()\n"
      ],
      "outputs": [],
      "execution_count": null
    },
    {
      "cell_type": "markdown",
      "metadata": {},
      "source": [
        "Ticks and their labels can be removed altogether by the following code:"
      ]
    },
    {
      "cell_type": "code",
      "metadata": {},
      "source": [
        "tickparams = aplt.TickParams(\n",
        "    bottom=False,\n",
        "    top=False,\n",
        "    left=False,\n",
        "    right=False,\n",
        "    labelbottom=False,\n",
        "    labelleft=False,\n",
        "    labelright=False,\n",
        "    labeltop=False,\n",
        ")\n",
        "\n",
        "mat_plot = aplt.MatPlot2D(tickparams=tickparams, yticks=yticks, xticks=xticks)\n",
        "\n",
        "array_plotter = aplt.Array2DPlotter(array=data, mat_plot_2d=mat_plot)\n",
        "array_plotter.figure_2d()"
      ],
      "outputs": [],
      "execution_count": null
    },
    {
      "cell_type": "markdown",
      "metadata": {},
      "source": [
        "__Axis__\n",
        "\n",
        "We can customize the figure using the `Axis` matplotlib wrapper object which wraps the following method(s):\n",
        "\n",
        " plt.axis: https://matplotlib.org/3.3.2/api/_as_gen/matplotlib.pyplot.axis.html"
      ]
    },
    {
      "cell_type": "code",
      "metadata": {},
      "source": [
        "array_plotter = aplt.Array2DPlotter(array=data)\n",
        "array_plotter.figure_2d()\n",
        "\n",
        "axis = aplt.Axis(extent=[-1.0, 1.0, -1.0, 1.0])\n",
        "\n",
        "mat_plot = aplt.MatPlot2D(axis=axis)\n",
        "\n",
        "array_plotter = aplt.Array2DPlotter(array=data, mat_plot_2d=mat_plot)\n",
        "array_plotter.figure_2d()"
      ],
      "outputs": [],
      "execution_count": null
    },
    {
      "cell_type": "markdown",
      "metadata": {},
      "source": [
        "__CMap__\n",
        "\n",
        "We can customize the colormap using the `Cmap` matplotlib wrapper object which wraps the following method(s):\n",
        "\n",
        " colors.Linear: https://matplotlib.org/3.3.2/tutorials/colors/colormaps.html\n",
        " colors.LogNorm: https://matplotlib.org/3.3.2/tutorials/colors/colormapnorms.html\n",
        " colors.SymLogNorm: https://matplotlib.org/3.3.2/api/_as_gen/matplotlib.colors.SymLogNorm.html\n",
        "\n",
        "The colormap is used in various functions that plot images with a `cmap`, most notably `plt.imshow`:\n",
        "\n",
        " https://matplotlib.org/3.3.2/api/_as_gen/matplotlib.pyplot.imshow.html\n",
        "\n",
        "First, lets plot the image using a linear colormap which uses a `colors.Normalize` object."
      ]
    },
    {
      "cell_type": "code",
      "metadata": {},
      "source": [
        "cmap = aplt.Cmap(cmap=\"jet\", norm=\"linear\", vmin=0.0, vmax=1.0)\n",
        "\n",
        "mat_plot = aplt.MatPlot2D(cmap=cmap)\n",
        "\n",
        "array_plotter = aplt.Array2DPlotter(array=data, mat_plot_2d=mat_plot)\n",
        "array_plotter.figure_2d()"
      ],
      "outputs": [],
      "execution_count": null
    },
    {
      "cell_type": "markdown",
      "metadata": {},
      "source": [
        "We can instead use logarithmic colormap (this wraps the `colors.LogNorm` matplotlib object)."
      ]
    },
    {
      "cell_type": "code",
      "metadata": {},
      "source": [
        "cmap = aplt.Cmap(cmap=\"hot\", norm=\"log\", vmin=0.0, vmax=2.0)\n",
        "\n",
        "mat_plot = aplt.MatPlot2D(cmap=cmap)\n",
        "\n",
        "array_plotter = aplt.Array2DPlotter(array=data, mat_plot_2d=mat_plot)\n",
        "array_plotter.figure_2d()"
      ],
      "outputs": [],
      "execution_count": null
    },
    {
      "cell_type": "markdown",
      "metadata": {},
      "source": [
        "We can use a symmetric log norm (this wraps the `colors.SymLogNorm` matplotlib object)."
      ]
    },
    {
      "cell_type": "code",
      "metadata": {},
      "source": [
        "cmap = aplt.Cmap(\n",
        "    cmap=\"twilight\",\n",
        "    norm=\"symmetric_log\",\n",
        "    vmin=0.0,\n",
        "    vmax=1.0,\n",
        "    linthresh=0.05,\n",
        "    linscale=0.1,\n",
        ")\n",
        "\n",
        "mat_plot = aplt.MatPlot2D(cmap=cmap)\n",
        "\n",
        "array_plotter = aplt.Array2DPlotter(array=data, mat_plot_2d=mat_plot)\n",
        "array_plotter.figure_2d()"
      ],
      "outputs": [],
      "execution_count": null
    },
    {
      "cell_type": "markdown",
      "metadata": {},
      "source": [
        "The diverge normalization ensures the colorbar is centred around 0.0, irrespective of whether vmin and vmax are input."
      ]
    },
    {
      "cell_type": "code",
      "metadata": {},
      "source": [
        "cmap = aplt.Cmap(cmap=\"twilight\", norm=\"diverge\")\n",
        "\n",
        "mat_plot = aplt.MatPlot2D(cmap=cmap)\n",
        "\n",
        "array_plotter = aplt.Array2DPlotter(array=data, mat_plot_2d=mat_plot)\n",
        "array_plotter.figure_2d()"
      ],
      "outputs": [],
      "execution_count": null
    },
    {
      "cell_type": "markdown",
      "metadata": {},
      "source": [
        "__Colorbar__\n",
        "\n",
        "We can customize the colorbar using the `Colorbar` matplotlib wrapper object which wraps the following method(s):\n",
        "\n",
        " https://matplotlib.org/3.3.2/api/_as_gen/matplotlib.pyplot.colorbar.html"
      ]
    },
    {
      "cell_type": "code",
      "metadata": {},
      "source": [
        "cb = aplt.Colorbar(\n",
        "    fraction=0.047,\n",
        "    shrink=5.0,\n",
        "    aspect=1.0,\n",
        "    pad=0.01,\n",
        "    anchor=(0.0, 0.5),\n",
        "    panchor=(1.0, 0.0),\n",
        ")\n",
        "\n",
        "mat_plot = aplt.MatPlot2D(colorbar=cb)\n",
        "\n",
        "array_plotter = aplt.Array2DPlotter(array=data, mat_plot_2d=mat_plot)\n",
        "array_plotter.figure_2d()"
      ],
      "outputs": [],
      "execution_count": null
    },
    {
      "cell_type": "markdown",
      "metadata": {},
      "source": [
        "The labels of the `Colorbar` can also be customized. \n",
        "\n",
        "This uses the `cb.ax.set_yticklabels` to manually override the tick locations and labels:\n",
        " \n",
        " https://matplotlib.org/3.3.3/api/_as_gen/matplotlib.axes.Axes.set_yticklabels.html\n",
        " \n",
        "The input parameters of both the above methods can be passed into the `Colorbar` object."
      ]
    },
    {
      "cell_type": "code",
      "metadata": {},
      "source": [
        "cb = aplt.Colorbar(manual_tick_labels=[1.0, 2.0], manual_tick_values=[0.0, 0.25])\n",
        "\n",
        "\n",
        "mat_plot = aplt.MatPlot2D(colorbar=cb)\n",
        "\n",
        "array_plotter = aplt.Array2DPlotter(array=data, mat_plot_2d=mat_plot)\n",
        "array_plotter.figure_2d()"
      ],
      "outputs": [],
      "execution_count": null
    },
    {
      "cell_type": "markdown",
      "metadata": {},
      "source": [
        "__ColorbarTickParams__\n",
        "\n",
        "We can customize the colorbar ticks using the `ColorbarTickParams` matplotlib wrapper object which wraps the \n",
        "following method of the matplotlib colorbar:\n",
        "\n",
        " https://matplotlib.org/3.1.1/api/_as_gen/matplotlib.axes.Axes.tick_params.html"
      ]
    },
    {
      "cell_type": "code",
      "metadata": {},
      "source": [
        "colorbar_tickparams = aplt.ColorbarTickParams(\n",
        "    axis=\"both\",\n",
        "    reset=False,\n",
        "    which=\"major\",\n",
        "    direction=\"in\",\n",
        "    length=2,\n",
        "    width=2,\n",
        "    color=\"r\",\n",
        "    pad=0.1,\n",
        "    labelsize=10,\n",
        "    labelcolor=\"r\",\n",
        ")\n",
        "\n",
        "mat_plot = aplt.MatPlot2D(colorbar_tickparams=colorbar_tickparams)\n",
        "\n",
        "array_plotter = aplt.Array2DPlotter(array=data, mat_plot_2d=mat_plot)\n",
        "array_plotter.figure_2d()"
      ],
      "outputs": [],
      "execution_count": null
    },
    {
      "cell_type": "markdown",
      "metadata": {},
      "source": [
        "The colorbar tick parameters can be removed altogether with the following:"
      ]
    },
    {
      "cell_type": "code",
      "metadata": {},
      "source": [
        "colorbar_tickparams = aplt.ColorbarTickParams(\n",
        "    bottom=False, top=False, left=False, right=False\n",
        ")\n",
        "\n",
        "mat_plot = aplt.MatPlot2D(colorbar_tickparams=colorbar_tickparams)\n",
        "\n",
        "array_plotter = aplt.Array2DPlotter(array=data, mat_plot_2d=mat_plot)\n",
        "array_plotter.figure_2d()"
      ],
      "outputs": [],
      "execution_count": null
    },
    {
      "cell_type": "markdown",
      "metadata": {},
      "source": [
        "__Scatter__\n",
        "\n",
        "The appearance of a (y,x) `Grid2D` of coordinates is customized using `Scatter` objects. To illustrate this, we will \n",
        "customize the appearance of the (y,x) origin on a figure using an `OriginScatter` object.\n",
        "\n",
        "To plot a (y,x) grids of coordinates (like an origin) these objects wrap the following matplotlib method:\n",
        "\n",
        " https://matplotlib.org/3.2.2/api/_as_gen/matplotlib.pyplot.scatter.html"
      ]
    },
    {
      "cell_type": "code",
      "metadata": {},
      "source": [
        "origin_scatter = aplt.OriginScatter(marker=\"o\", s=50)\n",
        "\n",
        "mat_plot = aplt.MatPlot2D(origin_scatter=origin_scatter)\n",
        "\n",
        "visuals = aplt.Visuals2D(origin=al.Grid2DIrregular(values=[(0.0, 0.0)]))\n",
        "\n",
        "array_plotter = aplt.Array2DPlotter(\n",
        "    array=data, mat_plot_2d=mat_plot, visuals_2d=visuals\n",
        ")\n",
        "array_plotter.figure_2d()"
      ],
      "outputs": [],
      "execution_count": null
    },
    {
      "cell_type": "markdown",
      "metadata": {},
      "source": [
        "There are numerous (y,x) grids of coordinates that plots. For example, in addition to the origin,\n",
        "there are grids like the multiple images of a strong lens, a source-plane grid of traced coordinates, etc.\n",
        "\n",
        "All of these grids are plotted using a `Scatter` object and they are described in more detail in the \n",
        "`plot/visuals_2d` example scripts. \n",
        "\n",
        "__Annotate__\n",
        "\n",
        "We can customize the annotations using the `Annotate` matplotlib wrapper object which wraps the following method(s):\n",
        "\n",
        " https://matplotlib.org/3.3.2/api/_as_gen/matplotlib.pyplot.annotate.html\n",
        "\n",
        "We manually specify the annotation using the input `s` and locations `x` and `y`, which means a solid white line\n",
        "will appear."
      ]
    },
    {
      "cell_type": "code",
      "metadata": {},
      "source": [
        "annotate = aplt.Annotate(\n",
        "    text=\"\",\n",
        "    xy=(2.0, 2.0),\n",
        "    xytext=(3.0, 2.0),\n",
        "    arrowprops=dict(arrowstyle=\"-\", color=\"w\"),\n",
        ")\n",
        "\n",
        "mat_plot = aplt.MatPlot2D(annotate=annotate)\n",
        "\n",
        "array_plotter = aplt.Array2DPlotter(array=data, mat_plot_2d=mat_plot)\n",
        "array_plotter.figure_2d()"
      ],
      "outputs": [],
      "execution_count": null
    },
    {
      "cell_type": "markdown",
      "metadata": {},
      "source": [
        "By passing a list of `Annotate` objects we can plot multiple text extracts."
      ]
    },
    {
      "cell_type": "code",
      "metadata": {},
      "source": [
        "annotate_0 = aplt.Annotate(\n",
        "    text=\"\",\n",
        "    xy=(2.0, 2.0),\n",
        "    xytext=(3.0, 2.0),\n",
        "    arrowprops=dict(arrowstyle=\"-\", color=\"w\"),\n",
        ")\n",
        "annotate_1 = aplt.Annotate(\n",
        "    text=\"\",\n",
        "    xy=(1.0, 1.0),\n",
        "    xytext=(2.0, 1.0),\n",
        "    arrowprops=dict(arrowstyle=\"-\", color=\"r\"),\n",
        ")\n",
        "\n",
        "mat_plot = aplt.MatPlot2D(annotate=[annotate_0, annotate_1])\n",
        "\n",
        "array_plotter = aplt.Array2DPlotter(array=data, mat_plot_2d=mat_plot)\n",
        "array_plotter.figure_2d()"
      ],
      "outputs": [],
      "execution_count": null
    },
    {
      "cell_type": "markdown",
      "metadata": {},
      "source": [
        "__Text__\n",
        "\n",
        "We can customize the text using the `Text` matplotlib wrapper object which wraps the following method(s):\n",
        "\n",
        " https://matplotlib.org/3.3.2/api/_as_gen/matplotlib.pyplot.text.html\n",
        "\n",
        "We manually specify the text using the input `s` and locations `x` and `y`."
      ]
    },
    {
      "cell_type": "code",
      "metadata": {},
      "source": [
        "text = aplt.Text(s=\"Example text\", x=0, y=0, color=\"r\", fontsize=20)\n",
        "\n",
        "mat_plot = aplt.MatPlot2D(text=text)\n",
        "\n",
        "array_plotter = aplt.Array2DPlotter(array=data, mat_plot_2d=mat_plot)\n",
        "array_plotter.figure_2d()"
      ],
      "outputs": [],
      "execution_count": null
    },
    {
      "cell_type": "markdown",
      "metadata": {},
      "source": [
        "By passing a list of `Text` objects we can plot multiple text extracts."
      ]
    },
    {
      "cell_type": "code",
      "metadata": {},
      "source": [
        "text_0 = aplt.Text(s=\"Example text 0\", x=0, y=0, color=\"r\", fontsize=20)\n",
        "text_1 = aplt.Text(s=\"Example text 1\", x=10, y=10, color=\"b\", fontsize=20)\n",
        "\n",
        "mat_plot = aplt.MatPlot2D(text=[text_0, text_1])\n",
        "\n",
        "array_plotter = aplt.Array2DPlotter(array=data, mat_plot_2d=mat_plot)\n",
        "array_plotter.figure_2d()"
      ],
      "outputs": [],
      "execution_count": null
    },
    {
      "cell_type": "markdown",
      "metadata": {},
      "source": [
        "__Contour__\n",
        "\n",
        "We can customize the contour using the `Contour` matplotlib wrapper object which wraps the following method(s):\n",
        "\n",
        " https://matplotlib.org/3.3.2/api/_as_gen/matplotlib.pyplot.contour.html\n",
        "\n",
        "We first create a light profile which we will use to plot contours over a image map."
      ]
    },
    {
      "cell_type": "code",
      "metadata": {},
      "source": [
        "light = al.lp.Sersic(\n",
        "    centre=(0.0, 0.0),\n",
        "    ell_comps=al.convert.ell_comps_from(axis_ratio=0.9, angle=45.0),\n",
        "    intensity=0.1,\n",
        "    effective_radius=1.0,\n",
        "    sersic_index=4.0,\n",
        ")\n",
        "\n",
        "grid = al.Grid2D.uniform(shape_native=(100, 100), pixel_scales=0.05)\n",
        "\n",
        "image = light.image_2d_from(grid=grid)\n",
        "\n",
        "contour = aplt.Contour(colors=\"k\")\n",
        "\n",
        "mat_plot = aplt.MatPlot2D(contour=contour)\n",
        "\n",
        "array_plotter = aplt.Array2DPlotter(array=image, mat_plot_2d=mat_plot)\n",
        "array_plotter.figure_2d()"
      ],
      "outputs": [],
      "execution_count": null
    },
    {
      "cell_type": "markdown",
      "metadata": {},
      "source": [
        "By default, the contour levels are computed automatically from the minimum and maximum values of the array. \n",
        "\n",
        "They are then plotted in 10 intervals spaced evenly in log10 values between these limits.\n",
        "\n",
        "The number of contour levels and use of linear spacing can be manually input."
      ]
    },
    {
      "cell_type": "code",
      "metadata": {},
      "source": [
        "contour = aplt.Contour(colors=\"k\", total_contours=5, use_log10=False)\n",
        "\n",
        "mat_plot = aplt.MatPlot2D(contour=contour)\n",
        "\n",
        "array_plotter = aplt.Array2DPlotter(array=image, mat_plot_2d=mat_plot)\n",
        "array_plotter.figure_2d()"
      ],
      "outputs": [],
      "execution_count": null
    },
    {
      "cell_type": "markdown",
      "metadata": {},
      "source": [
        "The levels can also be manually specified using the `manual_levels` input."
      ]
    },
    {
      "cell_type": "code",
      "metadata": {},
      "source": [
        "contour = aplt.Contour(manual_levels=[0.1, 0.5, 10.0])\n",
        "\n",
        "mat_plot = aplt.MatPlot2D(contour=contour)\n",
        "\n",
        "array_plotter = aplt.Array2DPlotter(array=image, mat_plot_2d=mat_plot)\n",
        "array_plotter.figure_2d()"
      ],
      "outputs": [],
      "execution_count": null
    },
    {
      "cell_type": "markdown",
      "metadata": {},
      "source": [
        "By default, the value of each contour is shown on the figure.\n",
        "\n",
        "This can be disabled using the `include_values` input."
      ]
    },
    {
      "cell_type": "code",
      "metadata": {},
      "source": [
        "contour = aplt.Contour(include_values=False)\n",
        "\n",
        "mat_plot = aplt.MatPlot2D(contour=contour)\n",
        "\n",
        "array_plotter = aplt.Array2DPlotter(array=image, mat_plot_2d=mat_plot)\n",
        "array_plotter.figure_2d()"
      ],
      "outputs": [],
      "execution_count": null
    },
    {
      "cell_type": "markdown",
      "metadata": {},
      "source": [
        "__Legend__\n",
        "\n",
        "We can customize the legend using the `Legend` matplotlib wrapper object which wraps the following method(s):\n",
        "\n",
        " https://matplotlib.org/3.3.2/api/_as_gen/matplotlib.pyplot.legend.html"
      ]
    },
    {
      "cell_type": "code",
      "metadata": {},
      "source": [
        "legend = aplt.Legend(include=True, loc=\"upper left\", fontsize=10, ncol=2)\n",
        "\n",
        "mat_plot = aplt.MatPlot2D(legend=legend)\n",
        "\n",
        "array_plotter = aplt.Array2DPlotter(array=data, mat_plot_2d=mat_plot)\n",
        "array_plotter.figure_2d()"
      ],
      "outputs": [],
      "execution_count": null
    },
    {
      "cell_type": "markdown",
      "metadata": {},
      "source": [
        "__FillBetween__\n",
        "\n",
        "We next illustrate how to fill between two lines on a 1D Matplotlib figure and subplots.\n",
        "\n",
        "First, lets create 1D data for the plot."
      ]
    },
    {
      "cell_type": "code",
      "metadata": {},
      "source": [
        "y = al.Array1D.no_mask(values=[1.0, 2.0, 3.0, 4.0, 5.0], pixel_scales=1.0)\n",
        "x = al.Array1D.no_mask(values=[1.0, 2.0, 3.0, 4.0, 5.0], pixel_scales=1.0)"
      ],
      "outputs": [],
      "execution_count": null
    },
    {
      "cell_type": "markdown",
      "metadata": {},
      "source": [
        "We now pass this y and x data to a `YX1DPlotter` and call the `figure` method."
      ]
    },
    {
      "cell_type": "code",
      "metadata": {},
      "source": [
        "yx_plotter = aplt.YX1DPlotter(y=y, x=x)\n",
        "yx_plotter.figure_1d()"
      ],
      "outputs": [],
      "execution_count": null
    },
    {
      "cell_type": "markdown",
      "metadata": {},
      "source": [
        "We can fill between two lines line on the y vs x plot using the `FillBetween` matplotlib wrapper object which wraps \n",
        "the following method(s):\n",
        "\n",
        " plt.fill_between: https://matplotlib.org/3.3.2/api/_as_gen/matplotlib.pyplot.fill_between.html\n",
        "\n",
        "The input`match_color_to_yx=True` ensures the filled area is the same as the line that is plotted, as opposed\n",
        "to a different color. This ensures that shaded regions can easily be paired in color to the plot when it is \n",
        "appropriate (e.g. plotted the errors of the line)."
      ]
    },
    {
      "cell_type": "code",
      "metadata": {},
      "source": [
        "y1 = al.Array1D.no_mask(values=[0.5, 1.5, 2.5, 3.5, 4.5], pixel_scales=1.0)\n",
        "y2 = al.Array1D.no_mask(values=[1.5, 2.5, 3.5, 4.5, 5.5], pixel_scales=1.0)\n",
        "\n",
        "mat_plot = aplt.MatPlot1D(\n",
        "    fill_between=aplt.FillBetween(match_color_to_yx=True, alpha=0.3)\n",
        ")\n",
        "\n",
        "visuals = aplt.Visuals1D(shaded_region=[y1, y2])\n",
        "\n",
        "yx_plotter = aplt.YX1DPlotter(y=y, x=x, mat_plot_1d=mat_plot, visuals_1d=visuals)\n",
        "yx_plotter.figure_1d()"
      ],
      "outputs": [],
      "execution_count": null
    },
    {
      "cell_type": "markdown",
      "metadata": {},
      "source": [
        "__AXVLine__\n",
        "\n",
        "We now illustrate how to plot vertical lines on a 1D Matplotlib figure and subplots."
      ]
    },
    {
      "cell_type": "code",
      "metadata": {},
      "source": [
        "y = al.Array1D.no_mask(values=[1.0, 2.0, 3.0, 4.0, 5.0], pixel_scales=1.0)\n",
        "x = al.Array1D.no_mask(values=[1.0, 2.0, 3.0, 4.0, 5.0], pixel_scales=1.0)"
      ],
      "outputs": [],
      "execution_count": null
    },
    {
      "cell_type": "markdown",
      "metadata": {},
      "source": [
        "We now pass this y and x data to a `YX1DPlotter` and call the `figure` method."
      ]
    },
    {
      "cell_type": "code",
      "metadata": {},
      "source": [
        "yx_plotter = aplt.YX1DPlotter(y=y, x=x)\n",
        "yx_plotter.figure_1d()"
      ],
      "outputs": [],
      "execution_count": null
    },
    {
      "cell_type": "markdown",
      "metadata": {},
      "source": [
        "We can plot a vertical line on the y vs x plot using the `AXVLine` matplotlib wrapper object which wraps the \n",
        "following method(s):\n",
        "\n",
        " plt.axvline: https://matplotlib.org/3.3.2/api/_as_gen/matplotlib.pyplot.axvline.html"
      ]
    },
    {
      "cell_type": "code",
      "metadata": {},
      "source": [
        "# mat_plot = aplt.MatPlot1D(axv)\n",
        "\n",
        "yx_plotter = aplt.YX1DPlotter(y=y, x=x)\n",
        "yx_plotter.figure_1d()"
      ],
      "outputs": [],
      "execution_count": null
    },
    {
      "cell_type": "markdown",
      "metadata": {},
      "source": [
        "Finish."
      ]
    },
    {
      "cell_type": "code",
      "metadata": {},
      "source": [],
      "outputs": [],
      "execution_count": null
    }
  ],
  "metadata": {
    "anaconda-cloud": {},
    "kernelspec": {
      "display_name": "Python 3",
      "language": "python",
      "name": "python3"
    },
    "language_info": {
      "codemirror_mode": {
        "name": "ipython",
        "version": 3
      },
      "file_extension": ".py",
      "mimetype": "text/x-python",
      "name": "python",
      "nbconvert_exporter": "python",
      "pygments_lexer": "ipython3",
      "version": "3.6.1"
    }
  },
  "nbformat": 4,
  "nbformat_minor": 4
}