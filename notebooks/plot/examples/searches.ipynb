{
  "cells": [
    {
      "cell_type": "markdown",
      "metadata": {},
      "source": [
        "Plots: Searches\n",
        "===============\n",
        "\n",
        "This example illustrates the API for plotting the results of different non-linear searches.\n",
        "\n",
        "__Start Here Notebook__\n",
        "\n",
        "You should refer to the `plots/start_here.ipynb` notebook first for a description of how visuals work and the default\n",
        "behaviour of plotting visuals.\n",
        "\n",
        "__Contents__\n",
        "\n",
        "- **Setup:** Sets up a dataset and model which we will perform quick model-fits to for illustration.\n",
        "- **DynestyPlotter:**: Plots results of the nested sampling method Dynesty.\n",
        "- **MCMCPlotter:**: Plots results of an Emcee fit (e.g. cornerplot).\n",
        "- **PySwarmsPlotter:**: Plots results of a PySwarms fit (e.g. contour).\n",
        "- **ZeusPlotter:**: Plots results of a Zeus fit (e.g. cornerplot).\n",
        "- **GetDist:**: Plot results of any MCMC / nested sampler non-linear search using the library GetDist.\n",
        "\n",
        "__Setup__\n",
        "\n",
        "To illustrate plotting, we require standard objects like a dataset and model which we will perform quick model-fits to\n",
        "for illustration."
      ]
    },
    {
      "cell_type": "code",
      "metadata": {},
      "source": [
        "\n",
        "%matplotlib inline\n",
        "from pyprojroot import here\n",
        "workspace_path = str(here())\n",
        "%cd $workspace_path\n",
        "print(f\"Working Directory has been set to `{workspace_path}`\")\n",
        "\n",
        "import matplotlib.pyplot as plt\n",
        "from pathlib import Path\n",
        "\n",
        "import autofit as af\n",
        "import autolens as al\n",
        "import autolens.plot as aplt\n",
        "\n",
        "dataset_name = \"simple__no_lens_light\"\n",
        "\n",
        "dataset_path = Path(\"dataset\") / \"imaging\" / dataset_name\n",
        "\n",
        "dataset = al.Imaging.from_fits(\n",
        "    data_path=dataset_path / \"data.fits\",\n",
        "    psf_path=dataset_path / \"psf.fits\",\n",
        "    noise_map_path=dataset_path / \"noise_map.fits\",\n",
        "    pixel_scales=0.1,\n",
        ")\n",
        "\n",
        "mask = al.Mask2D.circular(\n",
        "    shape_native=dataset.shape_native, pixel_scales=dataset.pixel_scales, radius=3.0\n",
        ")\n",
        "\n",
        "dataset = dataset.apply_mask(mask=mask)\n",
        "\n",
        "# Lens:\n",
        "\n",
        "mass = af.Model(al.mp.Isothermal)\n",
        "shear = af.Model(al.mp.ExternalShear)\n",
        "\n",
        "lens = af.Model(al.Galaxy, redshift=0.5, mass=mass, shear=shear)\n",
        "\n",
        "# Source:\n",
        "\n",
        "source = af.Model(al.Galaxy, redshift=1.0, bulge=al.lp.SersicCore)\n",
        "\n",
        "# Overall Lens Model:\n",
        "\n",
        "model = af.Collection(galaxies=af.Collection(lens=lens, source=source))\n",
        "\n",
        "analysis = al.AnalysisImaging(dataset=dataset)"
      ],
      "outputs": [],
      "execution_count": null
    },
    {
      "cell_type": "markdown",
      "metadata": {},
      "source": [
        "__Notation__\n",
        "\n",
        "Plot are labeled with short hand parameter names (e.g. the `centre` parameters are plotted using an `x`). \n",
        "\n",
        "The mappings of every parameter to its shorthand symbol for plots is specified in the `config/notation.yaml` file \n",
        "and can be customized.\n",
        "\n",
        "Each label also has a superscript corresponding to the model component the parameter originates from. For example,\n",
        "Gaussians are given the superscript `g`. This can also be customized in the `config/notation.yaml` file.\n",
        "\n",
        "__DynestyPlotter__\n",
        "\n",
        "We set up the Dynesty non-linear search and perform the fit to get the samples we will plot below."
      ]
    },
    {
      "cell_type": "code",
      "metadata": {},
      "source": [
        "search = af.DynestyStatic(\n",
        "    path_prefix=Path(\"plot\"),\n",
        "    name=\"DynestyPlotter\",\n",
        "    unique_tag=dataset_name,\n",
        "    n_live=100,\n",
        ")\n",
        "\n",
        "result = search.fit(model=model, analysis=analysis)"
      ],
      "outputs": [],
      "execution_count": null
    },
    {
      "cell_type": "markdown",
      "metadata": {},
      "source": [
        "We now pass the samples to a `DynestyPlotter` which will allow us to use the corner plotting function of the\n",
        "public library anesthetic\n",
        "\n",
        "The Dynesty readthedocs describes fully all of the methods used below \n",
        "\n",
        " - https://dynesty-sampler.readthedocs.io/en/latest/quickstart.html\n",
        " - https://dynesty-sampler.readthedocs.io/en/latest/api.html#module-Dynesty.plotting\n",
        " \n",
        "In all the examples below, we use the `kwargs` of this function to pass in any of the input parameters that are \n",
        "described in the API docs.\n",
        "\n",
        "Dynesty plotters use `_kwargs` dictionaries to pass visualization settings to matplotlib lib. For example, below,\n",
        "we:\n",
        "\n",
        " - Set the fontsize of the x and y labels by passing `label_kwargs={\"fontsize\": 16}`.\n",
        " - Set the fontsize of the title by passing `title_kwargs={\"fontsize\": \"10\"}`.\n",
        " \n",
        "There are other `_kwargs` inputs we pass as None, you should check out the Dynesty docs if you need to customize your\n",
        "figure."
      ]
    },
    {
      "cell_type": "code",
      "metadata": {},
      "source": [
        "plotter = aplt.NestPlotter(samples=result.samples)"
      ],
      "outputs": [],
      "execution_count": null
    },
    {
      "cell_type": "markdown",
      "metadata": {},
      "source": [
        "The `corner_anesthetic` method produces a triangle of 1D and 2D PDF's of every parameter using the library `anesthetic`."
      ]
    },
    {
      "cell_type": "code",
      "metadata": {},
      "source": [
        "plotter.corner_anesthetic()"
      ],
      "outputs": [],
      "execution_count": null
    },
    {
      "cell_type": "markdown",
      "metadata": {},
      "source": [
        "The `corner_cornerpy` method produces a triangle of 1D and 2D PDF's of every parameter using the library `corner.py`."
      ]
    },
    {
      "cell_type": "code",
      "metadata": {},
      "source": [
        "plotter.corner_cornerpy(\n",
        "    dims=None,\n",
        "    span=None,\n",
        "    quantiles=[0.025, 0.5, 0.975],\n",
        "    color=\"black\",\n",
        "    smooth=0.02,\n",
        "    quantiles_2d=None,\n",
        "    hist_kwargs=None,\n",
        "    hist2d_kwargs=None,\n",
        "    label_kwargs={\"fontsize\": 16},\n",
        "    show_titles=True,\n",
        "    title_fmt=\".2f\",\n",
        "    title_kwargs={\"fontsize\": \"10\"},\n",
        "    truths=None,\n",
        "    truth_color=\"red\",\n",
        "    truth_kwargs=None,\n",
        "    max_n_ticks=5,\n",
        "    top_ticks=False,\n",
        "    use_math_text=False,\n",
        "    verbose=False,\n",
        ")\n"
      ],
      "outputs": [],
      "execution_count": null
    },
    {
      "cell_type": "markdown",
      "metadata": {},
      "source": [
        "The internal sampler can be used to plot the results of the non-linear search. \n",
        "\n",
        "We do this using the `search_internal` attribute which contains the sampler in its native form.\n",
        "\n",
        "The first time you run a search, the `search_internal` attribute will be available because it is passed ot the\n",
        "result via memory. \n",
        "\n",
        "If you rerun the fit on a completed result, it will not be available in memory, and therefore\n",
        "will be loaded from the `files/search_internal` folder. The `search_internal` entry of the `output.yaml` must be true \n",
        "for this to be possible."
      ]
    },
    {
      "cell_type": "code",
      "metadata": {},
      "source": [
        "search_internal = result.search_internal"
      ],
      "outputs": [],
      "execution_count": null
    },
    {
      "cell_type": "markdown",
      "metadata": {},
      "source": [
        "__Plots__\n",
        "\n",
        "All plots use dynesty's inbuilt plotting library and the model."
      ]
    },
    {
      "cell_type": "code",
      "metadata": {},
      "source": [
        "from dynesty import plotting as dyplot\n",
        "\n",
        "model = result.model\n"
      ],
      "outputs": [],
      "execution_count": null
    },
    {
      "cell_type": "markdown",
      "metadata": {},
      "source": [
        "The boundplot plots the bounding distribution used to propose either (1) live points at a given iteration or (2) a \n",
        "specific dead point during the course of a run, projected onto the two dimensions specified by `dims`."
      ]
    },
    {
      "cell_type": "code",
      "metadata": {},
      "source": [
        "dyplot.boundplot(\n",
        "    results=search_internal.results,\n",
        "    labels=model.parameter_labels_with_superscripts_latex,\n",
        "    dims=(2, 2),\n",
        "    it=-1,  # -1 is the final iteration of the dynesty samples, change this to plot a different iteration\n",
        "    idx=None,\n",
        "    prior_transform=None,\n",
        "    periodic=None,\n",
        "    reflective=None,\n",
        "    ndraws=5000,\n",
        "    color=\"gray\",\n",
        "    plot_kwargs=None,\n",
        "    label_kwargs={\"fontsize\": 16},\n",
        "    max_n_ticks=5,\n",
        "    use_math_text=False,\n",
        "    show_live=False,\n",
        "    live_color=\"darkviolet\",\n",
        "    live_kwargs=None,\n",
        "    span=None,\n",
        "    fig=None,\n",
        ")\n",
        "\n",
        "plt.show()\n",
        "plt.close()"
      ],
      "outputs": [],
      "execution_count": null
    },
    {
      "cell_type": "markdown",
      "metadata": {},
      "source": [
        "The cornerbound plots the bounding distribution used to propose either (1) live points at a given iteration or (2) a \n",
        "specific dead point during the course of a run, projected onto all pairs of dimensions."
      ]
    },
    {
      "cell_type": "code",
      "metadata": {},
      "source": [
        "try:\n",
        "    dyplot.cornerbound(\n",
        "        results=search_internal.results,\n",
        "        labels=model.parameter_labels_with_superscripts_latex,\n",
        "        it=-1,  # -1 is the final iteration of the dynesty samples, change this to plot a different iteration\n",
        "        idx=None,\n",
        "        dims=None,\n",
        "        prior_transform=None,\n",
        "        periodic=None,\n",
        "        reflective=None,\n",
        "        ndraws=5000,\n",
        "        color=\"gray\",\n",
        "        plot_kwargs=None,\n",
        "        label_kwargs={\"fontsize\": 16},\n",
        "        max_n_ticks=5,\n",
        "        use_math_text=False,\n",
        "        show_live=False,\n",
        "        live_color=\"darkviolet\",\n",
        "        live_kwargs=None,\n",
        "        span=None,\n",
        "        fig=None,\n",
        "    )\n",
        "\n",
        "    plt.show()\n",
        "    plt.close()\n",
        "\n",
        "except ValueError:\n",
        "    pass"
      ],
      "outputs": [],
      "execution_count": null
    },
    {
      "cell_type": "markdown",
      "metadata": {},
      "source": [
        "The cornerplot plots a corner plot of the 1-D and 2-D marginalized posteriors."
      ]
    },
    {
      "cell_type": "code",
      "metadata": {},
      "source": [
        "\n",
        "try:\n",
        "    dyplot.cornerplot(\n",
        "        results=search_internal.results,\n",
        "        labels=model.parameter_labels_with_superscripts_latex,\n",
        "        dims=None,\n",
        "        span=None,\n",
        "        quantiles=[0.025, 0.5, 0.975],\n",
        "        color=\"black\",\n",
        "        smooth=0.02,\n",
        "        quantiles_2d=None,\n",
        "        hist_kwargs=None,\n",
        "        hist2d_kwargs=None,\n",
        "        label_kwargs={\"fontsize\": 16},\n",
        "        show_titles=True,\n",
        "        title_fmt=\".2f\",\n",
        "        title_kwargs={\"fontsize\": \"10\"},\n",
        "        truths=None,\n",
        "        truth_color=\"red\",\n",
        "        truth_kwargs=None,\n",
        "        max_n_ticks=5,\n",
        "        top_ticks=False,\n",
        "        use_math_text=False,\n",
        "        verbose=False,\n",
        "    )\n",
        "\n",
        "    plt.show()\n",
        "    plt.close()\n",
        "\n",
        "except ValueError:\n",
        "    pass\n"
      ],
      "outputs": [],
      "execution_count": null
    },
    {
      "cell_type": "markdown",
      "metadata": {},
      "source": [
        "The cornerpoints plots a (sub-)corner plot of (weighted) samples."
      ]
    },
    {
      "cell_type": "code",
      "metadata": {},
      "source": [
        "dyplot.cornerpoints(\n",
        "    results=search_internal.results,\n",
        "    labels=model.parameter_labels_with_superscripts_latex,\n",
        "    dims=None,\n",
        "    thin=1,\n",
        "    span=None,\n",
        "    cmap=\"plasma\",\n",
        "    color=None,\n",
        "    kde=True,\n",
        "    nkde=1000,\n",
        "    plot_kwargs=None,\n",
        "    label_kwargs={\"fontsize\": 16},\n",
        "    truths=None,\n",
        "    truth_color=\"red\",\n",
        "    truth_kwargs=None,\n",
        "    max_n_ticks=5,\n",
        "    use_math_text=False,\n",
        "    fig=None,\n",
        ")\n",
        "\n",
        "plt.show()\n",
        "plt.close()\n"
      ],
      "outputs": [],
      "execution_count": null
    },
    {
      "cell_type": "markdown",
      "metadata": {},
      "source": [
        "The runplot plots live points, ln(likelihood), ln(weight), and ln(evidence) as a function of ln(prior volume)."
      ]
    },
    {
      "cell_type": "code",
      "metadata": {},
      "source": [
        "dyplot.runplot(\n",
        "    results=search_internal.results,\n",
        "    span=None,\n",
        "    logplot=False,\n",
        "    kde=True,\n",
        "    nkde=1000,\n",
        "    color=\"blue\",\n",
        "    plot_kwargs=None,\n",
        "    label_kwargs={\"fontsize\": 16},\n",
        "    lnz_error=True,\n",
        "    lnz_truth=None,\n",
        "    truth_color=\"red\",\n",
        "    truth_kwargs=None,\n",
        "    max_x_ticks=8,\n",
        "    max_y_ticks=3,\n",
        "    use_math_text=True,\n",
        "    mark_final_live=True,\n",
        "    fig=None,\n",
        ")\n",
        "\n",
        "plt.show()\n",
        "plt.close()\n"
      ],
      "outputs": [],
      "execution_count": null
    },
    {
      "cell_type": "markdown",
      "metadata": {},
      "source": [
        "The traceplot plots traces and marginalized posteriors for each parameter."
      ]
    },
    {
      "cell_type": "code",
      "metadata": {},
      "source": [
        "dyplot.traceplot(\n",
        "    results=search_internal.results,\n",
        "    span=None,\n",
        "    quantiles=[0.025, 0.5, 0.975],\n",
        "    smooth=0.02,\n",
        "    thin=1,\n",
        "    dims=None,\n",
        "    post_color=\"blue\",\n",
        "    post_kwargs=None,\n",
        "    kde=True,\n",
        "    nkde=1000,\n",
        "    trace_cmap=\"plasma\",\n",
        "    trace_color=None,\n",
        "    trace_kwargs=None,\n",
        "    connect=False,\n",
        "    connect_highlight=10,\n",
        "    connect_color=\"red\",\n",
        "    connect_kwargs=None,\n",
        "    max_n_ticks=5,\n",
        "    use_math_text=False,\n",
        "    label_kwargs={\"fontsize\": 16},\n",
        "    show_titles=True,\n",
        "    title_fmt=\".2f\",\n",
        "    title_kwargs={\"fontsize\": \"10\"},\n",
        "    truths=None,\n",
        "    truth_color=\"red\",\n",
        "    truth_kwargs=None,\n",
        "    verbose=False,\n",
        "    fig=None,\n",
        ")\n",
        "\n",
        "plt.show()\n",
        "plt.close()"
      ],
      "outputs": [],
      "execution_count": null
    },
    {
      "cell_type": "markdown",
      "metadata": {},
      "source": [
        "__EmceePlotter__\n",
        "\n",
        "We now pass the samples to a `MCMCPlotter` which will allow us to use emcee's in-built plotting libraries to \n",
        "make figures.\n",
        "\n",
        "The emcee readthedocs describes fully all of the methods used below \n",
        "\n",
        " - https://emcee.readthedocs.io/en/stable/user/sampler/\n",
        " \n",
        " The plotter wraps the `corner` method of the library `corner.py` to make corner plots of the PDF:\n",
        "\n",
        "- https://corner.readthedocs.io/en/latest/index.html\n",
        " \n",
        "In all the examples below, we use the `kwargs` of this function to pass in any of the input parameters that are \n",
        "described in the API docs."
      ]
    },
    {
      "cell_type": "code",
      "metadata": {},
      "source": [
        "plotter = aplt.MCMCPlotter(samples=result.samples)\n"
      ],
      "outputs": [],
      "execution_count": null
    },
    {
      "cell_type": "markdown",
      "metadata": {},
      "source": [
        "The `corner` method produces a triangle of 1D and 2D PDF's of every parameter in the model fit."
      ]
    },
    {
      "cell_type": "code",
      "metadata": {},
      "source": [
        "plotter.corner_cornerpy(\n",
        "    bins=20,\n",
        "    range=None,\n",
        "    color=\"k\",\n",
        "    hist_bin_factor=1,\n",
        "    smooth=None,\n",
        "    smooth1d=None,\n",
        "    label_kwargs=None,\n",
        "    titles=None,\n",
        "    show_titles=False,\n",
        "    title_fmt=\".2f\",\n",
        "    title_kwargs=None,\n",
        "    truths=None,\n",
        "    truth_color=\"#4682b4\",\n",
        "    scale_hist=False,\n",
        "    quantiles=None,\n",
        "    verbose=False,\n",
        "    fig=None,\n",
        "    max_n_ticks=5,\n",
        "    top_ticks=False,\n",
        "    use_math_text=False,\n",
        "    reverse=False,\n",
        "    labelpad=0.0,\n",
        "    hist_kwargs=None,\n",
        "    group=\"posterior\",\n",
        "    var_names=None,\n",
        "    filter_vars=None,\n",
        "    coords=None,\n",
        "    divergences=False,\n",
        "    divergences_kwargs=None,\n",
        "    labeller=None,\n",
        ")\n"
      ],
      "outputs": [],
      "execution_count": null
    },
    {
      "cell_type": "markdown",
      "metadata": {},
      "source": [
        "__Search Specific Visualization__\n",
        "\n",
        "The internal sampler can be used to plot the results of the non-linear search. \n",
        "\n",
        "We do this using the `search_internal` attribute which contains the sampler in its native form.\n",
        "\n",
        "The first time you run a search, the `search_internal` attribute will be available because it is passed ot the\n",
        "result via memory. \n",
        "\n",
        "If you rerun the fit on a completed result, it will not be available in memory, and therefore\n",
        "will be loaded from the `files/search_internal` folder. The `search_internal` entry of the `output.yaml` must be true \n",
        "for this to be possible."
      ]
    },
    {
      "cell_type": "code",
      "metadata": {},
      "source": [
        "search_internal = result.search_internal"
      ],
      "outputs": [],
      "execution_count": null
    },
    {
      "cell_type": "markdown",
      "metadata": {},
      "source": [
        "The method below shows a 2D projection of the walker trajectories."
      ]
    },
    {
      "cell_type": "code",
      "metadata": {},
      "source": [
        "fig, axes = plt.subplots(result.model.prior_count, figsize=(10, 7))\n",
        "\n",
        "for i in range(result.model.prior_count):\n",
        "    for walker_index in range(search_internal.get_log_prob().shape[1]):\n",
        "        ax = axes[i]\n",
        "        ax.plot(\n",
        "            search_internal.get_chain()[:, walker_index, i],\n",
        "            search_internal.get_log_prob()[:, walker_index],\n",
        "            alpha=0.3,\n",
        "        )\n",
        "\n",
        "    ax.set_ylabel(\"Log Likelihood\")\n",
        "    ax.set_xlabel(result.model.parameter_labels_with_superscripts_latex[i])\n",
        "\n",
        "plt.show()"
      ],
      "outputs": [],
      "execution_count": null
    },
    {
      "cell_type": "markdown",
      "metadata": {},
      "source": [
        "This method shows the likelihood as a series of steps."
      ]
    },
    {
      "cell_type": "code",
      "metadata": {},
      "source": [
        "\n",
        "fig, axes = plt.subplots(1, figsize=(10, 7))\n",
        "\n",
        "for walker_index in range(search_internal.get_log_prob().shape[1]):\n",
        "    axes.plot(search_internal.get_log_prob()[:, walker_index], alpha=0.3)\n",
        "\n",
        "axes.set_ylabel(\"Log Likelihood\")\n",
        "axes.set_xlabel(\"step number\")\n",
        "\n",
        "plt.show()"
      ],
      "outputs": [],
      "execution_count": null
    },
    {
      "cell_type": "markdown",
      "metadata": {},
      "source": [
        "This method shows the parameter values of every walker at every step."
      ]
    },
    {
      "cell_type": "code",
      "metadata": {},
      "source": [
        "fig, axes = plt.subplots(result.samples.model.prior_count, figsize=(10, 7), sharex=True)\n",
        "\n",
        "for i in range(result.samples.model.prior_count):\n",
        "    ax = axes[i]\n",
        "    ax.plot(search_internal.get_chain()[:, :, i], alpha=0.3)\n",
        "    ax.set_ylabel(result.model.parameter_labels_with_superscripts_latex[i])\n",
        "\n",
        "axes[-1].set_xlabel(\"step number\")\n",
        "\n",
        "plt.show()"
      ],
      "outputs": [],
      "execution_count": null
    },
    {
      "cell_type": "markdown",
      "metadata": {},
      "source": [
        "__ZeusPlotter__\n",
        "\n",
        "We now pass the samples to a `ZeusPlotter` which will allow us to use Nautilus's in-built plotting libraries to \n",
        "make figures.\n",
        "\n",
        "The zeus readthedocs describes fully all of the methods used below \n",
        "\n",
        " - https://zeus-mcmc.readthedocs.io/en/latest/api/plotting.html#cornerplot\n",
        " - https://zeus-mcmc.readthedocs.io/en/latest/notebooks/normal_distribution.html\n",
        " \n",
        " The plotter wraps the `corner` method of the library `corner.py` to make corner plots of the PDF:\n",
        "\n",
        "- https://corner.readthedocs.io/en/latest/index.html\n",
        " \n",
        "In all the examples below, we use the `kwargs` of this function to pass in any of the input parameters that are \n",
        "described in the API docs."
      ]
    },
    {
      "cell_type": "code",
      "metadata": {},
      "source": [
        "plotter = aplt.MCMCPlotter(samples=result.samples)"
      ],
      "outputs": [],
      "execution_count": null
    },
    {
      "cell_type": "markdown",
      "metadata": {},
      "source": [
        "The `corner` method produces a triangle of 1D and 2D PDF's of every parameter in the model fit."
      ]
    },
    {
      "cell_type": "code",
      "metadata": {},
      "source": [
        "plotter.corner_cornerpy(\n",
        "    weight_list=None,\n",
        "    levels=None,\n",
        "    span=None,\n",
        "    quantiles=[0.025, 0.5, 0.975],\n",
        "    truth=None,\n",
        "    color=None,\n",
        "    alpha=0.5,\n",
        "    linewidth=1.5,\n",
        "    fill=True,\n",
        "    fontsize=10,\n",
        "    show_titles=True,\n",
        "    title_fmt=\".2f\",\n",
        "    title_fontsize=12,\n",
        "    cut=3,\n",
        "    fig=None,\n",
        "    size=(10, 10),\n",
        ")\n"
      ],
      "outputs": [],
      "execution_count": null
    },
    {
      "cell_type": "markdown",
      "metadata": {},
      "source": [
        "__Search Specific Visualization__\n",
        "\n",
        "The internal sampler can be used to plot the results of the non-linear search. \n",
        "\n",
        "We do this using the `search_internal` attribute which contains the sampler in its native form.\n",
        "\n",
        "For zeus, the `search_internal` attribute is only available if the zeus sampler results are output to hard-disk\n",
        "via hdf5. The `search_internal` entry of the `output.yaml` must be true for this to be the case."
      ]
    },
    {
      "cell_type": "code",
      "metadata": {},
      "source": [
        "search_internal = result.search_internal"
      ],
      "outputs": [],
      "execution_count": null
    },
    {
      "cell_type": "markdown",
      "metadata": {},
      "source": [
        "__Plots__\n",
        "\n",
        "The method below shows a 2D projection of the walker trajectories."
      ]
    },
    {
      "cell_type": "code",
      "metadata": {},
      "source": [
        "fig, axes = plt.subplots(result.model.prior_count, figsize=(10, 7))\n",
        "\n",
        "for i in range(result.model.prior_count):\n",
        "    for walker_index in range(search_internal.get_log_prob().shape[1]):\n",
        "        ax = axes[i]\n",
        "        ax.plot(\n",
        "            search_internal.get_chain()[:, walker_index, i],\n",
        "            search_internal.get_log_prob()[:, walker_index],\n",
        "            alpha=0.3,\n",
        "        )\n",
        "\n",
        "    ax.set_ylabel(\"Log Likelihood\")\n",
        "    ax.set_xlabel(result.model.parameter_labels_with_superscripts_latex[i])\n",
        "\n",
        "plt.show()"
      ],
      "outputs": [],
      "execution_count": null
    },
    {
      "cell_type": "markdown",
      "metadata": {},
      "source": [
        "This method shows the likelihood as a series of steps."
      ]
    },
    {
      "cell_type": "code",
      "metadata": {},
      "source": [
        "\n",
        "fig, axes = plt.subplots(1, figsize=(10, 7))\n",
        "\n",
        "for walker_index in range(search_internal.get_log_prob().shape[1]):\n",
        "    axes.plot(search_internal.get_log_prob()[:, walker_index], alpha=0.3)\n",
        "\n",
        "axes.set_ylabel(\"Log Likelihood\")\n",
        "axes.set_xlabel(\"step number\")\n",
        "\n",
        "plt.show()"
      ],
      "outputs": [],
      "execution_count": null
    },
    {
      "cell_type": "markdown",
      "metadata": {},
      "source": [
        "This method shows the parameter values of every walker at every step."
      ]
    },
    {
      "cell_type": "code",
      "metadata": {},
      "source": [
        "fig, axes = plt.subplots(result.samples.model.prior_count, figsize=(10, 7), sharex=True)\n",
        "\n",
        "for i in range(result.samples.model.prior_count):\n",
        "    ax = axes[i]\n",
        "    ax.plot(search_internal.get_chain()[:, :, i], alpha=0.3)\n",
        "    ax.set_ylabel(result.model.parameter_labels_with_superscripts_latex[i])\n",
        "\n",
        "axes[-1].set_xlabel(\"step number\")\n",
        "\n",
        "plt.show()"
      ],
      "outputs": [],
      "execution_count": null
    },
    {
      "cell_type": "markdown",
      "metadata": {},
      "source": [
        "__PySwarmsPlotter__\n",
        "\n",
        "We now pass the samples to a `MLEPlotter` which will allow us to use pyswarms's in-built plotting libraries to \n",
        "make figures.\n",
        "\n",
        "The pyswarms readthedocs describes fully all of the methods used below \n",
        "\n",
        " - https://pyswarms.readthedocs.io/en/latest/api/pyswarms.utils.plotters.html\n",
        " \n",
        "In all the examples below, we use the `kwargs` of this function to pass in any of the input parameters that are \n",
        "described in the API docs."
      ]
    },
    {
      "cell_type": "code",
      "metadata": {},
      "source": [
        "plotter = aplt.MLEPlotter(samples=result.samples)"
      ],
      "outputs": [],
      "execution_count": null
    },
    {
      "cell_type": "markdown",
      "metadata": {},
      "source": [
        "__Search Specific Visualization__\n",
        "\n",
        "The internal sampler can be used to plot the results of the non-linear search. \n",
        "\n",
        "We do this using the `search_internal` attribute which contains the sampler in its native form.\n",
        "\n",
        "The first time you run a search, the `search_internal` attribute will be available because it is passed ot the\n",
        "result via memory. \n",
        "\n",
        "If you rerun the fit on a completed result, it will not be available in memory, and therefore\n",
        "will be loaded from the `files/search_internal` folder. The `search_internal` entry of the `output.yaml` must be true \n",
        "for this to be possible."
      ]
    },
    {
      "cell_type": "code",
      "metadata": {},
      "source": [
        "search_internal = result.search_internal"
      ],
      "outputs": [],
      "execution_count": null
    },
    {
      "cell_type": "markdown",
      "metadata": {},
      "source": [
        "__Plots__\n",
        "\n",
        "The `contour` method shows a 2D projection of the particle trajectories."
      ]
    },
    {
      "cell_type": "code",
      "metadata": {},
      "source": [
        "from pyswarms.utils import plotters\n",
        "\n",
        "plotters.plot_contour(\n",
        "    pos_history=search_internal.pos_history,\n",
        "    canvas=None,\n",
        "    title=\"Trajectories\",\n",
        "    mark=None,\n",
        "    designer=None,\n",
        "    mesher=None,\n",
        "    animator=None,\n",
        ")\n",
        "plt.show()\n",
        "\n",
        "plotters.plot_cost_history(\n",
        "    cost_history=search_internal.cost_history,\n",
        "    ax=None,\n",
        "    title=\"Cost History\",\n",
        "    designer=None,\n",
        ")\n",
        "plt.show()"
      ],
      "outputs": [],
      "execution_count": null
    },
    {
      "cell_type": "markdown",
      "metadata": {},
      "source": [
        "__GetDist__\n",
        "\n",
        "This example illustrates how to plot visualization summarizing the results of model-fit using any non-linear search\n",
        "using GetDist:\n",
        "\n",
        " - https://getdist.readthedocs.io/en/latest/\n",
        "\n",
        "GetDist is an optional library which creates 1D and 2D plots of probability distribution functions (PDF)s. Its\n",
        "visualization tools has more than the in-built visualization tools of many non-linear searches (e.g. Nautilus /\n",
        "emcee) and can often produce better looking plots.\n",
        "\n",
        "GetDist was developed for the analysis of Cosmological datasets.\n",
        "\n",
        "Because GetDist is an optional library, you will likely have to install it manually via the command:\n",
        "\n",
        "`pip install getdist`"
      ]
    },
    {
      "cell_type": "code",
      "metadata": {},
      "source": [
        "from getdist import MCSamples\n",
        "from getdist import plots\n",
        "import numpy as np"
      ],
      "outputs": [],
      "execution_count": null
    },
    {
      "cell_type": "markdown",
      "metadata": {},
      "source": [
        "GetDist uses a `model.paramnames` file to load the name of every parameter in the model-fit and pair it with the\n",
        "latex symbol used to represent it in plots.\n",
        "\n",
        "This file is not created by default, but can be output by the `search.paths` object as shown below."
      ]
    },
    {
      "cell_type": "code",
      "metadata": {},
      "source": [
        "search.paths._save_parameter_names_file(model=model)\n",
        "search.paths.zip_remove()\n",
        "search.paths._zip()"
      ],
      "outputs": [],
      "execution_count": null
    },
    {
      "cell_type": "markdown",
      "metadata": {},
      "source": [
        "GetDist uses an `MCSamples` object to store the samples of a non-linear search.\n",
        "\n",
        "Below, we create this object via a conversion from **PyAutoFit** `Samples`, as well as using the `names`\n",
        "and `labels` of parameters in the `Samples` object.\n",
        "\n",
        "The input `sampler=\"nested\"` is input because we used a nested sampling, `Nautilus`. For MCMC this should be\n",
        "replaced with \"mcmc\"."
      ]
    },
    {
      "cell_type": "code",
      "metadata": {},
      "source": [
        "samples = result.samples\n",
        "\n",
        "gd_samples = MCSamples(\n",
        "    samples=np.asarray(samples.parameter_lists),\n",
        "    loglikes=np.asarray(samples.log_likelihood_list),\n",
        "    weights=np.asarray(samples.weight_list),\n",
        "    names=samples.model.model_component_and_parameter_names,\n",
        "    labels=samples.model.parameter_labels_with_superscripts,\n",
        "    sampler=\"nested\",\n",
        ")"
      ],
      "outputs": [],
      "execution_count": null
    },
    {
      "cell_type": "markdown",
      "metadata": {},
      "source": [
        "__Parameter Names__\n",
        "\n",
        "Note that in order to customize the figure, we will use the `samples.model.parameter_names` list."
      ]
    },
    {
      "cell_type": "code",
      "metadata": {},
      "source": [
        "print(samples.model.model_component_and_parameter_names)"
      ],
      "outputs": [],
      "execution_count": null
    },
    {
      "cell_type": "markdown",
      "metadata": {},
      "source": [
        "__GetDist Plotter__\n",
        "\n",
        "To make plots we use a GetDist plotter object, which can be customized to change the appearance of the plots."
      ]
    },
    {
      "cell_type": "code",
      "metadata": {},
      "source": [
        "gd_plotter = plots.get_subplot_plotter(width_inch=12)"
      ],
      "outputs": [],
      "execution_count": null
    },
    {
      "cell_type": "markdown",
      "metadata": {},
      "source": [
        "__GetDist Subplots__\n",
        "\n",
        "Using the plotter we can make different plots, for example a triangle plot showing the 1D and 2D PDFs of every \n",
        "parameter."
      ]
    },
    {
      "cell_type": "code",
      "metadata": {},
      "source": [
        "gd_plotter.triangle_plot(roots=gd_samples, filled=True)\n",
        "\n",
        "plt.show()\n",
        "plt.close()"
      ],
      "outputs": [],
      "execution_count": null
    },
    {
      "cell_type": "markdown",
      "metadata": {},
      "source": [
        "A triangle plot with specific parameters can be plotted by using the `params` input, whereby we specify the specific\n",
        "parameter names to plot."
      ]
    },
    {
      "cell_type": "code",
      "metadata": {},
      "source": [
        "gd_plotter.triangle_plot(\n",
        "    roots=gd_samples,\n",
        "    filled=True,\n",
        "    params=[\n",
        "        \"galaxies_lens_mass_einstein_radius\",\n",
        "        \"galaxies_lens_mass_ell_comps_0\",\n",
        "    ],\n",
        ")\n",
        "\n",
        "plt.show()\n",
        "plt.close()"
      ],
      "outputs": [],
      "execution_count": null
    },
    {
      "cell_type": "markdown",
      "metadata": {},
      "source": [
        "Rectangle plots can be used to show specific 2D combinations of parameters."
      ]
    },
    {
      "cell_type": "code",
      "metadata": {},
      "source": [
        "gd_plotter.rectangle_plot(\n",
        "    roots=gd_samples,\n",
        "    yparams=[\"galaxies_lens_mass_einstein_radius\"],\n",
        "    xparams=[\n",
        "        \"galaxies_lens_mass_ell_comps_0\",\n",
        "        \"galaxies_lens_mass_ell_comps_1\",\n",
        "    ],\n",
        ")\n",
        "\n",
        "plt.show()\n",
        "plt.close()"
      ],
      "outputs": [],
      "execution_count": null
    },
    {
      "cell_type": "markdown",
      "metadata": {},
      "source": [
        "__GetDist Single Plots__\n",
        "\n",
        "We can make plots of specific 1D or 2D PDFs, using the single plotter object."
      ]
    },
    {
      "cell_type": "code",
      "metadata": {},
      "source": [
        "gd_plotter = plots.get_single_plotter()\n",
        "\n",
        "gd_plotter.plot_1d(roots=gd_samples, param=\"galaxies_lens_mass_einstein_radius\")\n",
        "\n",
        "plt.show()\n",
        "plt.close()\n",
        "\n",
        "gd_plotter = plots.get_single_plotter()\n",
        "\n",
        "gd_plotter.plot_2d(\n",
        "    roots=gd_samples,\n",
        "    param1=\"galaxies_lens_mass_einstein_radius\",\n",
        "    param2=\"galaxies_lens_mass_ell_comps_0\",\n",
        ")\n",
        "\n",
        "plt.show()\n",
        "plt.close()"
      ],
      "outputs": [],
      "execution_count": null
    },
    {
      "cell_type": "markdown",
      "metadata": {},
      "source": [
        "We can also make a 3D plot, where the 2D PDF is plotted colored by the value of a third parameter."
      ]
    },
    {
      "cell_type": "code",
      "metadata": {},
      "source": [
        "gd_plotter = plots.get_single_plotter()\n",
        "\n",
        "gd_plotter.plot_3d(\n",
        "    roots=gd_samples,\n",
        "    params=[\n",
        "        \"galaxies_lens_mass_einstein_radius\",\n",
        "        \"galaxies_lens_mass_ell_comps_0\",\n",
        "        \"galaxies_lens_mass_ell_comps_1\",\n",
        "    ],\n",
        ")\n",
        "\n",
        "plt.show()\n",
        "plt.close()"
      ],
      "outputs": [],
      "execution_count": null
    },
    {
      "cell_type": "markdown",
      "metadata": {},
      "source": [
        "__Output__\n",
        "\n",
        "A figure can be output using standard matplotlib functionality."
      ]
    },
    {
      "cell_type": "code",
      "metadata": {},
      "source": [
        "\n",
        "gd_plotter = plots.get_single_plotter()\n",
        "\n",
        "gd_plotter.plot_3d(roots=gd_samples, params=[\"centre\", \"sigma\", \"normalization\"])\n",
        "\n",
        "output_path = Path(\"output\")\n",
        "\n",
        "plt.savefig(Path(output_path, \"getdist.png\"))\n",
        "plt.close()"
      ],
      "outputs": [],
      "execution_count": null
    },
    {
      "cell_type": "markdown",
      "metadata": {},
      "source": [
        "__GetDist Other Plots__\n",
        "\n",
        "There are many more ways to visualize PDFs possible with GetDist, checkout the official documentation for them all!\n",
        "\n",
        " - https://getdist.readthedocs.io/en/latest/\n",
        " - https://getdist.readthedocs.io/en/latest/plots.html\n",
        "\n",
        "__Plotting Multiple Samples__\n",
        "\n",
        "Finally, we can plot the results of multiple different non-linear searches on the same plot, using all\n",
        "of the functions above.\n",
        "\n",
        "Lets quickly make a second set of `Nautilus` results and plot them on the same figure above with the results\n",
        "of the first search."
      ]
    },
    {
      "cell_type": "code",
      "metadata": {},
      "source": [
        "\n",
        "Nautilus = af.Nautilus(path_prefix=\"plot\", name=\"GetDist_2\")\n",
        "\n",
        "result_extra = Nautilus.fit(model=model, analysis=analysis)\n",
        "\n",
        "samples_extra = result_extra.samples\n",
        "\n",
        "gd_samples_extra = MCSamples(\n",
        "    samples=np.asarray(samples_extra.parameter_lists),\n",
        "    loglikes=np.asarray(samples_extra.log_likelihood_list),\n",
        "    weights=np.asarray(samples_extra.weight_list),\n",
        "    names=samples_extra.model.model_component_and_parameter_names,\n",
        "    labels=samples.model.parameter_labels_with_superscripts,\n",
        "    sampler=\"nested\",\n",
        ")\n",
        "\n",
        "gd_plotter = plots.get_subplot_plotter(width_inch=12)\n",
        "\n",
        "gd_plotter.triangle_plot(roots=[gd_samples, gd_samples_extra], filled=True)\n",
        "\n",
        "plt.show()\n",
        "plt.close()"
      ],
      "outputs": [],
      "execution_count": null
    },
    {
      "cell_type": "markdown",
      "metadata": {},
      "source": [
        "Note that the models do not need to be the same to make the plots above.\n",
        "\n",
        "GetDist will clever use the `names` of the parameters to combine the parameters into customizeable PDF plots."
      ]
    },
    {
      "cell_type": "code",
      "metadata": {},
      "source": [],
      "outputs": [],
      "execution_count": null
    }
  ],
  "metadata": {
    "anaconda-cloud": {},
    "kernelspec": {
      "display_name": "Python 3",
      "language": "python",
      "name": "python3"
    },
    "language_info": {
      "codemirror_mode": {
        "name": "ipython",
        "version": 3
      },
      "file_extension": ".py",
      "mimetype": "text/x-python",
      "name": "python",
      "nbconvert_exporter": "python",
      "pygments_lexer": "ipython3",
      "version": "3.6.1"
    }
  },
  "nbformat": 4,
  "nbformat_minor": 4
}