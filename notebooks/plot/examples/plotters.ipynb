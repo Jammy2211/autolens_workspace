{
 "cells": [
  {
   "cell_type": "markdown",
   "metadata": {},
   "source": [
    "Plots: Plotters\n",
    "===============\n",
    "\n",
    "This example illustrates the API for plotting using `Plotter` objects, which enable quick visualization of all\n",
    "key quantities.\n",
    "\n",
    "__Start Here Notebook__\n",
    "\n",
    "You should refer to the `plots/start_here.ipynb` notebook first for a description of how plotters work and the default\n",
    "behaviour of plotting visuals.\n",
    "\n",
    "__Contents__\n",
    "\n",
    "**Setup:** Set up all objects (e.g. grid, tracer, data) used to illustrate plotting.\n",
    "**Array2D:** Plot an `Array2D` object, which is a base object representing any 2D quantity (e.g. images, convergence, data).\n",
    "**Grid2D:** Plot a `Grid2D` object, which is a base object representing a (y,x) grid of coordinates in 2D space.\n",
    "**Tracer:** Plot a `Tracer` object, representing a tracer of light through the universe, including the mass of lens galaxies.\n",
    "**Imaging:** Plot an `Imaging` object, representing an imaging dataset, including the data, noise-map and PSF.\n",
    "**Fit Imaging:** Plot a `FitImaging` object, representing the fit of a model to an imaging dataset (including residuals, chi-squared and model image).\n",
    "**Light Profile:** Plot a `LightProfile` object, representing the light of a galaxy.\n",
    "**Mass Profile:** Plot a `MassProfile` object, representing the mass of a galaxy.\n",
    "**Galaxy:** Plot a `Galaxy` object, which is a collection of light and mass profiles.\n",
    "**Galaxies:** Plot a `Galaxies` object, which is a collection of galaxies.\n",
    "**Interferometer:** Plot an `Interferometer` object, representing an interferometer dataset, including the data, noise-map and UV wavelengths.\n",
    "**Fit Interferometer:** Plot a `FitInterferometer` object, representing the fit of a model to an interferometer dataset (including residuals, chi-squared and model image).\n",
    "**Point Dataset:** Plot a `PointDataset` object, representing a point source dataset (e.g. lensed quasar, supernova).\n",
    "**Fit Point Dataset:** Plot a `FitPointDataset` object, representing the fit of a model to a point source dataset (including residuals and chi-squared).\n",
    "\n",
    "__Setup__\n",
    "\n",
    "To illustrate plotting, we require standard objects like a grid, tracer and dataset."
   ]
  },
  {
   "cell_type": "code",
   "metadata": {},
   "source": [
    "\n",
    "%matplotlib inline\n",
    "from pyprojroot import here\n",
    "workspace_path = str(here())\n",
    "%cd $workspace_path\n",
    "print(f\"Working Directory has been set to `{workspace_path}`\")\n",
    "\n",
    "from pathlib import Path\n",
    "import autolens as al\n",
    "import autolens.plot as aplt\n",
    "\n",
    "grid = al.Grid2D.uniform(shape_native=(100, 100), pixel_scales=0.05)\n",
    "\n",
    "dataset_name = \"lens_sersic\"\n",
    "dataset_path = Path(\"dataset\") / \"imaging\" / dataset_name\n",
    "\n",
    "dataset = al.Imaging.from_fits(\n",
    "    data_path=dataset_path / \"data.fits\",\n",
    "    psf_path=dataset_path / \"psf.fits\",\n",
    "    noise_map_path=dataset_path / \"noise_map.fits\",\n",
    "    pixel_scales=0.1,\n",
    ")\n",
    "\n",
    "mask = al.Mask2D.circular(\n",
    "    shape_native=dataset.shape_native, pixel_scales=dataset.pixel_scales, radius=3.0\n",
    ")\n",
    "\n",
    "dataset = dataset.apply_mask(mask=mask)\n",
    "\n",
    "lens_galaxy = al.Galaxy(\n",
    "    redshift=0.5,\n",
    "    bulge=al.lp.Sersic(\n",
    "        centre=(0.0, 0.0),\n",
    "        ell_comps=al.convert.ell_comps_from(axis_ratio=0.9, angle=45.0),\n",
    "        intensity=1.0,\n",
    "        effective_radius=0.8,\n",
    "        sersic_index=4.0,\n",
    "    ),\n",
    "    mass=al.mp.Isothermal(\n",
    "        centre=(0.0, 0.0),\n",
    "        einstein_radius=1.6,\n",
    "        ell_comps=al.convert.ell_comps_from(axis_ratio=0.9, angle=45.0),\n",
    "    ),\n",
    "    shear=al.mp.ExternalShear(gamma_1=0.05, gamma_2=0.05),\n",
    ")\n",
    "\n",
    "source_galaxy = al.Galaxy(\n",
    "    redshift=1.0,\n",
    "    bulge=al.lp.Sersic(\n",
    "        centre=(0.0, 0.0),\n",
    "        ell_comps=al.convert.ell_comps_from(axis_ratio=0.8, angle=60.0),\n",
    "        intensity=4.0,\n",
    "        effective_radius=0.1,\n",
    "        sersic_index=1.0,\n",
    "    ),\n",
    ")\n",
    "\n",
    "tracer = al.Tracer(galaxies=[lens_galaxy, source_galaxy])\n",
    "\n",
    "fit = al.FitImaging(dataset=dataset, tracer=tracer)"
   ],
   "outputs": [],
   "execution_count": null
  },
  {
   "cell_type": "markdown",
   "metadata": {},
   "source": [
    "__Array2D__\n",
    "\n",
    "The `Array2D` object is base object which represents any 2D quantity (e.g. images, convergence, data).\n",
    "\n",
    "It can be plotted using an `Array2DPlotter` and calling the `figure` method."
   ]
  },
  {
   "cell_type": "code",
   "metadata": {},
   "source": [
    "array_plotter = aplt.Array2DPlotter(array=dataset.data)\n",
    "array_plotter.figure_2d()"
   ],
   "outputs": [],
   "execution_count": null
  },
  {
   "cell_type": "markdown",
   "metadata": {},
   "source": [
    "__Grid2D__\n",
    "\n",
    "The `Grid2D` object is a base object which represents a (y,x) grid of coordinates in 2D space, 9including image-plane\n",
    "and source-plane grids.\n",
    "\n",
    "It can be plotted using a `Grid2DPlotter` and calling the `figure` method."
   ]
  },
  {
   "cell_type": "code",
   "metadata": {},
   "source": [
    "grid_plotter = aplt.Grid2DPlotter(grid=grid)\n",
    "grid_plotter.figure_2d()"
   ],
   "outputs": [],
   "execution_count": null
  },
  {
   "cell_type": "markdown",
   "metadata": {},
   "source": [
    "We can ray-trace grids using a tracer (or galaxy, mass profile) and plot them."
   ]
  },
  {
   "cell_type": "code",
   "metadata": {},
   "source": [
    "deflections = tracer.deflections_yx_2d_from(grid=grid)\n",
    "\n",
    "lensed_grid = grid.grid_2d_via_deflection_grid_from(deflection_grid=deflections)\n",
    "\n",
    "grid_plotter = aplt.Grid2DPlotter(grid=lensed_grid)\n",
    "grid_plotter.figure_2d()"
   ],
   "outputs": [],
   "execution_count": null
  },
  {
   "cell_type": "markdown",
   "metadata": {},
   "source": [
    "__Tracer__\n",
    "\n",
    "The `Tracer` object is a base object which represents a tracer of light through the universe, including\n",
    "multiple galaxies and their light and mass profiles.\n",
    "\n",
    "We can pass a tracer and grid to a `TracerPlotter` and call various `figure_*` methods to plot different attributes."
   ]
  },
  {
   "cell_type": "code",
   "metadata": {},
   "source": [
    "tracer_plotter = aplt.TracerPlotter(tracer=tracer, grid=grid)\n",
    "tracer_plotter.figures_2d(\n",
    "    image=True,\n",
    "    convergence=True,\n",
    "    potential=True,\n",
    "    deflections_y=True,\n",
    "    deflections_x=True,\n",
    "    magnification=True,\n",
    ")"
   ],
   "outputs": [],
   "execution_count": null
  },
  {
   "cell_type": "markdown",
   "metadata": {},
   "source": [
    "A subplot of the above quantaties can be plotted."
   ]
  },
  {
   "cell_type": "code",
   "metadata": {},
   "source": [
    "tracer_plotter.subplot_tracer()"
   ],
   "outputs": [],
   "execution_count": null
  },
  {
   "cell_type": "markdown",
   "metadata": {},
   "source": [
    "A subplot of the image-plane image and image in the source-plane of the galaxies in each plane can also be plotted \n",
    "(note that for  plane 0 the image-plane image and plane image are the same, thus the latter is omitted)."
   ]
  },
  {
   "cell_type": "code",
   "metadata": {},
   "source": [
    "tracer_plotter.subplot_galaxies_images()"
   ],
   "outputs": [],
   "execution_count": null
  },
  {
   "cell_type": "markdown",
   "metadata": {},
   "source": [
    "Whereas a `GalaxiesPlotter` had a method to plot its `plane_image`, it did not know the caustics of the source-plane as\n",
    "they depend on the `MassProfile`'s of `Galaxy`'s in lower redshift planes. When we plot a plane image with a `Tracer`,\n",
    "this information is now available and thus the caustics of the source-plane are now plotted.\n",
    "\n",
    "The same is true of the `border, where the `border` plotted on the image-plane image has been ray-traced to the \n",
    "source-plane. This is noteworthy as it means in the source-plane we can see where our entire masked region traces too.\n",
    "\n",
    "By default, this image is zoomed to the brightest pixels, so the galaxy can be clearly seen."
   ]
  },
  {
   "cell_type": "code",
   "metadata": {},
   "source": [
    "tracer_plotter.figures_2d_of_planes(\n",
    "    plane_index=1, plane_image=True, zoom_to_brightest=True\n",
    ")"
   ],
   "outputs": [],
   "execution_count": null
  },
  {
   "cell_type": "markdown",
   "metadata": {},
   "source": [
    "If we do not want the image to be zoomed, we can pass `zoom_to_brightest=False`. \n",
    "\n",
    "This shows the full extent of the grid used to create the source-plane image, and may also include the caustics \n",
    "which the zoomed image does not due to zooming inside of them."
   ]
  },
  {
   "cell_type": "code",
   "metadata": {},
   "source": [
    "tracer_plotter.figures_2d_of_planes(\n",
    "    plane_index=1, plane_image=True, zoom_to_brightest=False\n",
    ")"
   ],
   "outputs": [],
   "execution_count": null
  },
  {
   "cell_type": "markdown",
   "metadata": {},
   "source": [
    "A tracer consists of light and mass profiles, and their centres can be extracted and plotted over the image. \n",
    "\n",
    "The `visuals.ipynb` notebook, under the sections `LightProfileCentreScatter` and `MassProfilesCentreScatter`,\n",
    "describes how to plot these visuals over images.\n",
    "\n",
    "If the tracer has a mass profile, it also has critical curves and caustics. The `visuals.ipynb` notebook, under the \n",
    "sections `CriticalCurvesLine` and `CausticsLine`, describes how to plot these visuals over images.\n",
    "\n",
    "__Imaging__\n",
    "\n",
    "The `Imaging` object is a base object which represents an imaging dataset, including the data, noise-map and PSF.\n",
    "\n",
    "It can be plotted using an `ImagingPlotter` and calling the `figure_*` methods to plot different attributes."
   ]
  },
  {
   "cell_type": "code",
   "metadata": {},
   "source": [
    "dataset_plotter = aplt.ImagingPlotter(dataset=dataset)\n",
    "dataset_plotter.figures_2d(\n",
    "    data=True,\n",
    "    noise_map=True,\n",
    "    psf=True,\n",
    ")"
   ],
   "outputs": [],
   "execution_count": null
  },
  {
   "cell_type": "markdown",
   "metadata": {},
   "source": [
    "The `ImagingPlotter` may also plot a subplot of all of these attributes."
   ]
  },
  {
   "cell_type": "code",
   "metadata": {},
   "source": [
    "dataset_plotter.subplot_dataset()"
   ],
   "outputs": [],
   "execution_count": null
  },
  {
   "cell_type": "markdown",
   "metadata": {},
   "source": [
    "__Fit Imaging__\n",
    "\n",
    "The `FitImaging` object is a base object which represents the fit of a model to an imaging dataset, including the\n",
    "residuals, chi-squared and model image.\n",
    "\n",
    "It can be plotted using a `FitImagingPlotter` and calling the `figure_*` methods to plot different attributes."
   ]
  },
  {
   "cell_type": "code",
   "metadata": {},
   "source": [
    "fit_plotter = aplt.FitImagingPlotter(fit=fit)\n",
    "\n",
    "fit_plotter.figures_2d(\n",
    "    data=True,\n",
    "    noise_map=True,\n",
    "    signal_to_noise_map=True,\n",
    "    model_image=True,\n",
    "    residual_map=True,\n",
    "    normalized_residual_map=True,\n",
    "    chi_squared_map=True,\n",
    ")"
   ],
   "outputs": [],
   "execution_count": null
  },
  {
   "cell_type": "markdown",
   "metadata": {},
   "source": [
    "It can plot of the model image of an input plane."
   ]
  },
  {
   "cell_type": "code",
   "metadata": {},
   "source": [
    "fit_plotter.figures_2d_of_planes(plane_index=0, model_image=True)\n",
    "fit_plotter.figures_2d_of_planes(plane_index=1, model_image=True)"
   ],
   "outputs": [],
   "execution_count": null
  },
  {
   "cell_type": "markdown",
   "metadata": {},
   "source": [
    "It can plot the image of a plane with all other model images subtracted."
   ]
  },
  {
   "cell_type": "code",
   "metadata": {},
   "source": [
    "fit_plotter.figures_2d_of_planes(plane_index=0, subtracted_image=True)\n",
    "fit_plotter.figures_2d_of_planes(plane_index=1, subtracted_image=True)"
   ],
   "outputs": [],
   "execution_count": null
  },
  {
   "cell_type": "markdown",
   "metadata": {},
   "source": [
    "It can also plot the plane-image of a plane, that is what the source galaxy looks like without lensing (e.g.\n",
    "for `plane_index=1` this is the source-plane image).\n",
    "\n",
    "By default, this source-plane image is zoomed to the brightest pixels, so the galaxy can be clearly seen."
   ]
  },
  {
   "cell_type": "code",
   "metadata": {},
   "source": [
    "fit_plotter.figures_2d_of_planes(plane_index=0, plane_image=True)\n",
    "fit_plotter.figures_2d_of_planes(\n",
    "    plane_index=1, plane_image=True, zoom_to_brightest=True\n",
    ")"
   ],
   "outputs": [],
   "execution_count": null
  },
  {
   "cell_type": "markdown",
   "metadata": {},
   "source": [
    "If we do not want the image to be zoomed, we can pass `zoom_to_brightest=False`.\n",
    "\n",
    "This shows the full extent of the grid used to create the source-plane image, and may also include the caustics\n",
    "which the zoomed image does not due to zooming inside of them."
   ]
  },
  {
   "cell_type": "code",
   "metadata": {},
   "source": [
    "fit_plotter.figures_2d_of_planes(\n",
    "    plane_index=1, plane_image=True, zoom_to_brightest=False\n",
    ")"
   ],
   "outputs": [],
   "execution_count": null
  },
  {
   "cell_type": "markdown",
   "metadata": {},
   "source": [
    "The source is often much fainter than the lens galaxy, meaning we may want to brighten its appearance to fully see it.\n",
    "\n",
    "We can do this by passing the `use_source_vmax` bool, which sets the maximum value of the colormap to the maximum\n",
    "flux in the source-plane.\n",
    "\n",
    "This is used by default in the subplots plotted below."
   ]
  },
  {
   "cell_type": "code",
   "metadata": {},
   "source": [
    "fit_plotter.figures_2d(data=True, use_source_vmax=True)\n",
    "fit_plotter.figures_2d_of_planes(plane_index=1, model_image=True, use_source_vmax=True)\n",
    "fit_plotter.figures_2d_of_planes(\n",
    "    plane_index=1, subtracted_image=True, use_source_vmax=True\n",
    ")"
   ],
   "outputs": [],
   "execution_count": null
  },
  {
   "cell_type": "markdown",
   "metadata": {},
   "source": [
    "The `FitImagingPlotter` may also plot a subplot of these attributes."
   ]
  },
  {
   "cell_type": "code",
   "metadata": {},
   "source": [
    "fit_plotter.subplot_fit()\n",
    "fit_plotter.subplot_of_planes(plane_index=1)"
   ],
   "outputs": [],
   "execution_count": null
  },
  {
   "cell_type": "markdown",
   "metadata": {},
   "source": [
    "It also includes a log10 subplot option, which shows the same figures but with the colormap in log10 format to\n",
    "highlight the fainter regions of the data."
   ]
  },
  {
   "cell_type": "code",
   "metadata": {},
   "source": [
    "fit_plotter.subplot_fit_log10()"
   ],
   "outputs": [],
   "execution_count": null
  },
  {
   "cell_type": "markdown",
   "metadata": {},
   "source": [
    "By default, the `residual_map` and `normalized_residual_map` use a symmetric colormap.\n",
    "\n",
    "This means the maximum normalization (`vmax`) an minimum normalziation (`vmin`) are the same absolute value.\n",
    "\n",
    "This can be disabled via the `residuals_symmetric_cmap` input."
   ]
  },
  {
   "cell_type": "code",
   "metadata": {},
   "source": [
    "fit_plotter = aplt.FitImagingPlotter(fit=fit, residuals_symmetric_cmap=False)\n",
    "fit_plotter.figures_2d(\n",
    "    residual_map=True,\n",
    "    normalized_residual_map=True,\n",
    ")"
   ],
   "outputs": [],
   "execution_count": null
  },
  {
   "cell_type": "markdown",
   "metadata": {},
   "source": [
    "__Light Profile__\n",
    "\n",
    "Light profiles have dedicated plotters which can plot their attributes in 1D and 2D.\n",
    "\n",
    "We first pass a light profile and grid to a `LightProfilePlotter` and call various `figure_*` methods to \n",
    "plot different attributes in 1D and 2D."
   ]
  },
  {
   "cell_type": "code",
   "metadata": {},
   "source": [
    "bulge = tracer.galaxies[0].bulge\n",
    "\n",
    "light_profile_plotter = aplt.LightProfilePlotter(light_profile=bulge, grid=grid)\n",
    "light_profile_plotter.figures_1d(image=True)\n",
    "light_profile_plotter.figures_2d(image=True)"
   ],
   "outputs": [],
   "execution_count": null
  },
  {
   "cell_type": "markdown",
   "metadata": {},
   "source": [
    "Using a `LightProfilePDFPlotter`, we can make 1D plots that show the errors of a light model estimated via a model-fit. \n",
    "\n",
    "Here, the `light_profile_pdf_list` is a list of `LightProfile` objects that are drawn randomly from the PDF of a \n",
    "model-fit (the database tutorials show how these can be easily computed after a model fit). \n",
    "\n",
    "These are used to estimate the errors at an input `sigma` value of: \n",
    "\n",
    " - The 1D light profile, which is plotted as a shaded region on the figure. \n",
    " - The median `half_light_radius` with errors, which are plotted as vertical lines.\n",
    "\n",
    "Below, we manually input two `LightProfiles` that clearly show these errors on the figure."
   ]
  },
  {
   "cell_type": "code",
   "metadata": {},
   "source": [
    "light_profile_pdf_plotter = aplt.LightProfilePDFPlotter(\n",
    "    light_profile_pdf_list=[bulge], grid=grid, sigma=3.0\n",
    ")\n",
    "light_profile_pdf_plotter.figures_1d(image=True)"
   ],
   "outputs": [],
   "execution_count": null
  },
  {
   "cell_type": "markdown",
   "metadata": {},
   "source": [
    "A light profile centre can be extracted and plotted over the image. The `visuals.ipynb` notebook, under the \n",
    "section `LightProfileCentreScatter` describes how to plot these visuals over images.\n",
    "\n",
    "__Mass Profiles__\n",
    "\n",
    "Mass profiles have dedicated plotters which can plot their attributes in 1D and 2D.\n",
    "\n",
    "We first pass a mass profile and grid to a `MassProfilePlotter` and call various `figure_*` methods to\n",
    "plot different attributes in 1D and 2D."
   ]
  },
  {
   "cell_type": "code",
   "metadata": {},
   "source": [
    "mass = tracer.galaxies[0].mass\n",
    "\n",
    "mass_profile_plotter = aplt.MassProfilePlotter(mass_profile=mass, grid=grid)\n",
    "mass_profile_plotter.figures_2d(\n",
    "    convergence=True,\n",
    "    potential=True,\n",
    "    deflections_y=True,\n",
    "    deflections_x=True,\n",
    "    magnification=True,\n",
    ")\n",
    "mass_profile_plotter.figures_1d(convergence=True, potential=True)"
   ],
   "outputs": [],
   "execution_count": null
  },
  {
   "cell_type": "markdown",
   "metadata": {},
   "source": [
    "Using a `MassProfilePDFPlotter`, we can make 1D plots that show the errors of a mass model estimated via a model-fit. \n",
    "\n",
    "Here, the `mass_profile_pdf_list` is a list of `MassProfile` objects that are drawn randomly from the PDF of a \n",
    "model-fit (the database tutorials show how these can be easily computed after a model fit). \n",
    "\n",
    "These are used to estimate the errors at an input `sigma` value of: \n",
    "\n",
    " - The 1D mass profile, which is plotted as a shaded region on the figure. \n",
    " - The median `einstein_radius` with errors, which are plotted as vertical lines.\n",
    "\n",
    "Below, we manually input two `MassProfiles` that clearly show these errors on the figure."
   ]
  },
  {
   "cell_type": "code",
   "metadata": {},
   "source": [
    "mass_profile_pdf_plotter = aplt.MassProfilePDFPlotter(\n",
    "    mass_profile_pdf_list=[mass], grid=grid, sigma=3.0\n",
    ")\n",
    "mass_profile_pdf_plotter.figures_1d(convergence=True, potential=True)"
   ],
   "outputs": [],
   "execution_count": null
  },
  {
   "cell_type": "markdown",
   "metadata": {},
   "source": [
    "A mass profile centre can be extracted and plotted over the image.  The `visuals.ipynb` notebook, under the \n",
    "section `MassProfilesCentreScatter`, describes how to plot these visuals over images.\n",
    "\n",
    "A mass profile also has critical curves and caustics. The `visuals.ipynb` notebook, under the \n",
    "sections `CriticalCurvesLine` and `CausticsLine`, describes how to plot these visuals over images.\n",
    "\n",
    "__Galaxy__\n",
    "\n",
    "A `Galaxy` is a collection of light and mass profiles, and can be plotted using a `GalaxyPlotter`.\n",
    "\n",
    "We first pass a galaxy and grid to a `GalaxyPlotter` and call various `figure_*` methods to plot different\n",
    "attributes in 1D and 2D."
   ]
  },
  {
   "cell_type": "code",
   "metadata": {},
   "source": [
    "galaxy = tracer.galaxies[0]\n",
    "\n",
    "galaxy_plotter = aplt.GalaxyPlotter(galaxy=galaxy, grid=grid)\n",
    "galaxy_plotter.figures_2d(\n",
    "    image=True,\n",
    "    convergence=True,\n",
    "    potential=False,\n",
    "    deflections_y=True,\n",
    "    deflections_x=True,\n",
    "    magnification=True,\n",
    ")\n"
   ],
   "outputs": [],
   "execution_count": null
  },
  {
   "cell_type": "markdown",
   "metadata": {},
   "source": [
    "The `GalaxyPlotter` also has subplot method that plot each individual `Profile` in 2D as well as a 1D plot showing all\n",
    "`Profiles` together."
   ]
  },
  {
   "cell_type": "code",
   "metadata": {},
   "source": [
    "galaxy_plotter.subplot_of_light_profiles(image=True)\n",
    "galaxy_plotter.subplot_of_mass_profiles(\n",
    "    convergence=True, potential=True, deflections_y=True, deflections_x=True\n",
    ")"
   ],
   "outputs": [],
   "execution_count": null
  },
  {
   "cell_type": "markdown",
   "metadata": {},
   "source": [
    "We can plot 1D profiles, which display a properties of the galaxy in 1D as a function of radius.\n",
    "\n",
    "For the 1D plot of each profile, the 1D grid of (x,) coordinates is centred on the profile and aligned with the \n",
    "major-axis. \n",
    "\n",
    "Because the `GalaxyPlotter` above has an input `Grid2D` object, the 1D grid of radial coordinates used to plot\n",
    "these quantities is derived from this 2D grid. The 1D grid corresponds to the longest radial distance from the centre\n",
    "of the galaxy's light or mass profiles to the edge of the 2D grid."
   ]
  },
  {
   "cell_type": "code",
   "metadata": {},
   "source": [
    "galaxy_plotter.figures_1d(image=True, convergence=True, potential=True)\n"
   ],
   "outputs": [],
   "execution_count": null
  },
  {
   "cell_type": "markdown",
   "metadata": {},
   "source": [
    "If we want a specific 1D grid of a certain length over a certain range of coordinates, we can manually input a `Grid1D`\n",
    "object.\n",
    "\n",
    "We create a `Grid1D` starting from 0 which plots the image and convergence over the radial range 0.0\" -> 10.0\"."
   ]
  },
  {
   "cell_type": "code",
   "metadata": {},
   "source": [
    "grid_1d = al.Grid1D.uniform_from_zero(shape_native=(1000,), pixel_scales=0.01)\n",
    "\n",
    "galaxy_plotter = aplt.GalaxyPlotter(galaxy=galaxy, grid=grid)\n",
    "\n",
    "galaxy_plotter.figures_1d(image=True, convergence=True)"
   ],
   "outputs": [],
   "execution_count": null
  },
  {
   "cell_type": "markdown",
   "metadata": {},
   "source": [
    "Using a `Grid1D` which does not start from 0.0\" plots the 1D quantity with both negative and positive radial \n",
    "coordinates.\n",
    "\n",
    "This plot isn't particularly useful, but it shows how 1D plots work."
   ]
  },
  {
   "cell_type": "code",
   "metadata": {},
   "source": [
    "grid_1d = al.Grid1D.uniform(shape_native=(1000,), pixel_scales=0.01)\n",
    "\n",
    "galaxy_plotter = aplt.GalaxyPlotter(galaxy=galaxy, grid=grid)\n",
    "\n",
    "galaxy_plotter.figures_1d(image=True, convergence=True)"
   ],
   "outputs": [],
   "execution_count": null
  },
  {
   "cell_type": "markdown",
   "metadata": {},
   "source": [
    "We can also plot decomposed 1D profiles, which display the 1D quantity of every individual light and / or mass profiles. \n",
    "\n",
    "For the 1D plot of each profile, the 1D grid of (x) coordinates is centred on the profile and aligned with the \n",
    "major-axis. This means that if the galaxy consists of multiple profiles with different centres or angles the 1D plots \n",
    "are defined in a common way and appear aligned on the figure.\n",
    "\n",
    "We'll plot this using our masked grid above, which converts the 2D grid to a 1D radial grid used to plot every\n",
    "profile individually."
   ]
  },
  {
   "cell_type": "code",
   "metadata": {},
   "source": [
    "galaxy_plotter = aplt.GalaxyPlotter(galaxy=galaxy, grid=grid)\n",
    "\n",
    "galaxy_plotter.figures_1d_decomposed(image=True, convergence=True, potential=True)"
   ],
   "outputs": [],
   "execution_count": null
  },
  {
   "cell_type": "markdown",
   "metadata": {},
   "source": [
    "Using a `GalaxyPDFPlotter`, we can make 1D plots that show the errors of the light and mass models estimated via a \n",
    "model-fit. \n",
    "\n",
    "Here, the `galaxy_pdf_list` is a list of `Galaxy` objects that are drawn randomly from the PDF of a model-fit (the \n",
    "database tutorials show how these can be easily computed after a model fit). \n",
    "\n",
    "These are used to estimate the errors at an input `sigma` value of: \n",
    "\n",
    " - The 1D light or mass profile, which is plotted as a shaded region on the figure. \n",
    " - The median `half_light_radius` and `einstein_radius1 with errors, which are plotted as vertical lines.\n",
    "\n",
    "Below, we manually input two `Galaxy` objects with ligth and mass profiles that clearly show these errors on the figure."
   ]
  },
  {
   "cell_type": "code",
   "metadata": {},
   "source": [
    "galaxy_pdf_plotter = aplt.GalaxyPDFPlotter(\n",
    "    galaxy_pdf_list=[galaxy], grid=grid, sigma=3.0\n",
    ")\n",
    "galaxy_pdf_plotter.figures_1d(image=True, convergence=True, potential=True)"
   ],
   "outputs": [],
   "execution_count": null
  },
  {
   "cell_type": "markdown",
   "metadata": {},
   "source": [
    "A decomposed plot of the individual light profiles of the galaxy, with errors, can also be created."
   ]
  },
  {
   "cell_type": "code",
   "metadata": {},
   "source": [
    "galaxy_pdf_plotter.figures_1d_decomposed(image=True, convergence=True, potential=True)"
   ],
   "outputs": [],
   "execution_count": null
  },
  {
   "cell_type": "markdown",
   "metadata": {},
   "source": [
    "A galaxy consists of light and mass profiles, and their centres can be extracted and plotted over the image. \n",
    "The `visuals.ipynb` notebook, under the sections `LightProfileCentreScatter` and `MassProfilesCentreScatter`,\n",
    "describes how to plot these visuals over images.\n",
    "\n",
    "If the galaxy has a mass profile, it also has critical curves and caustics. The `visuals.ipynb` notebook, under the \n",
    "sections `CriticalCurvesLine` and `CausticsLine`, describes how to plot these visuals over images.\n",
    "\n",
    "__Galaxies__\n",
    "\n",
    "A `Galaxies` is a collection of galaxies, and can be plotted using a `GalaxiesPlotter`.\n",
    "\n",
    "We first pass a galaxies and grid to a `GalaxiesPlotter` and call various `figure_*` methods to plot different\n",
    "attributes in 1D and 2D.\n",
    "\n",
    "We separate the `image_plane_galaxies` and `source_plane_galaxies` so that we can plot them separately, as they\n",
    "are often at different redshifts and thus have different properties."
   ]
  },
  {
   "cell_type": "code",
   "metadata": {},
   "source": [
    "image_plane_galaxies = al.Galaxies(galaxies=[tracer.galaxies[0]])\n",
    "source_plane_galaxies = al.Galaxies(galaxies=[tracer.galaxies[1]])\n",
    "\n",
    "galaxies_plotter = aplt.GalaxiesPlotter(galaxies=image_plane_galaxies, grid=grid)\n",
    "galaxies_plotter.figures_2d(convergence=True)"
   ],
   "outputs": [],
   "execution_count": null
  },
  {
   "cell_type": "markdown",
   "metadata": {},
   "source": [
    "A subplot of the above quantaties can be plotted."
   ]
  },
  {
   "cell_type": "code",
   "metadata": {},
   "source": [
    "galaxies_plotter.subplot_galaxies()"
   ],
   "outputs": [],
   "execution_count": null
  },
  {
   "cell_type": "markdown",
   "metadata": {},
   "source": [
    "A subplot of the image of the galaxies in the plane can also be plotted."
   ]
  },
  {
   "cell_type": "code",
   "metadata": {},
   "source": [
    "galaxies_plotter.subplot_galaxy_images()"
   ],
   "outputs": [],
   "execution_count": null
  },
  {
   "cell_type": "markdown",
   "metadata": {},
   "source": [
    "We can also plot the `source_plane_galaxies` by passing it with the `lensed_grid` to a `GalaxiesPlotter`.\n",
    "\n",
    "In this case, our `source_galaxy` only had a ` LightProfile` so only a plot of its image is available."
   ]
  },
  {
   "cell_type": "code",
   "metadata": {},
   "source": [
    "galaxies_plotter = aplt.GalaxiesPlotter(\n",
    "    galaxies=source_plane_galaxies, grid=lensed_grid\n",
    ")\n",
    "galaxies_plotter.figures_2d(image=True)"
   ],
   "outputs": [],
   "execution_count": null
  },
  {
   "cell_type": "markdown",
   "metadata": {},
   "source": [
    "In addition to the lensed image of the source-plane, we can plot its unlensed image (e.g. how the source-galaxy \n",
    "appears in the source-plane before lensing) using the `figure_plane_image` method.\n",
    "\n",
    "By default, this image is zoomed to the brightest pixels, so the galaxy can be clearly seen."
   ]
  },
  {
   "cell_type": "code",
   "metadata": {},
   "source": [
    "galaxies_plotter.figures_2d(plane_image=True, zoom_to_brightest=True)"
   ],
   "outputs": [],
   "execution_count": null
  },
  {
   "cell_type": "markdown",
   "metadata": {},
   "source": [
    "If we do not want the image to be zoomed, we can pass `zoom_to_brightest=False`. This shows the full extent of the\n",
    "grid used to create the source-plane image."
   ]
  },
  {
   "cell_type": "code",
   "metadata": {},
   "source": [
    "galaxies_plotter.figures_2d(plane_image=True, zoom_to_brightest=False)"
   ],
   "outputs": [],
   "execution_count": null
  },
  {
   "cell_type": "markdown",
   "metadata": {},
   "source": [
    "We can also plot specific images of galaxies in the plane."
   ]
  },
  {
   "cell_type": "code",
   "metadata": {},
   "source": [
    "galaxies_plotter.figures_2d_of_galaxies(image=True, galaxy_index=0)"
   ],
   "outputs": [],
   "execution_count": null
  },
  {
   "cell_type": "markdown",
   "metadata": {},
   "source": [
    "A galaxy consists of light and mass profiles, and their centres can be extracted and plotted over the image. \n",
    "The `visuals.ipynb` notebook, under the sections `LightProfileCentreScatter` and `MassProfilesCentreScatter`,\n",
    "describes how to plot these visuals over images.\n",
    "\n",
    "If the galaxy has a mass profile, it also has critical curves and caustics. The `visuals.ipynb` notebook, under the \n",
    "sections `CriticalCurvesLine` and `CausticsLine`, describes how to plot these visuals over images.\n",
    "\n",
    "__Interferometer__\n",
    "\n",
    "The `Interferometer` object is a base object which represents an interferometer dataset, including the data, noise-map,\n",
    "and UV wavelengths.\n",
    "\n",
    "First, we load one."
   ]
  },
  {
   "cell_type": "code",
   "metadata": {},
   "source": [
    "dataset_name = \"simple\"\n",
    "dataset_path = Path(\"dataset\") / \"interferometer\" / dataset_name\n",
    "\n",
    "real_space_mask = al.Mask2D.circular(\n",
    "    shape_native=(200, 200), pixel_scales=0.05, radius=3.0\n",
    ")\n",
    "\n",
    "dataset = al.Interferometer.from_fits(\n",
    "    data_path=dataset_path / \"data.fits\",\n",
    "    noise_map_path=dataset_path / \"noise_map.fits\",\n",
    "    uv_wavelengths_path=Path(dataset_path, \"uv_wavelengths.fits\"),\n",
    "    real_space_mask=real_space_mask,\n",
    "    transformer_class=al.TransformerNUFFT,\n",
    ")"
   ],
   "outputs": [],
   "execution_count": null
  },
  {
   "cell_type": "markdown",
   "metadata": {},
   "source": [
    "We now pass the interferometer to an `InterferometerPlotter` and call various `figure_*` methods to plot different \n",
    "attributes."
   ]
  },
  {
   "cell_type": "code",
   "metadata": {},
   "source": [
    "dataset_plotter = aplt.InterferometerPlotter(dataset=dataset)\n",
    "dataset_plotter.figures_2d(\n",
    "    data=True,\n",
    "    noise_map=True,\n",
    "    u_wavelengths=True,\n",
    "    v_wavelengths=True,\n",
    "    uv_wavelengths=True,\n",
    "    amplitudes_vs_uv_distances=True,\n",
    "    phases_vs_uv_distances=True,\n",
    ")"
   ],
   "outputs": [],
   "execution_count": null
  },
  {
   "cell_type": "markdown",
   "metadata": {},
   "source": [
    "The dirty images of the interferometer dataset can also be plotted, which use the transformer of the interferometer \n",
    "to map the visibilities, noise-map or other quantity to a real-space image."
   ]
  },
  {
   "cell_type": "code",
   "metadata": {},
   "source": [
    "dataset_plotter.figures_2d(\n",
    "    dirty_image=True,\n",
    "    dirty_noise_map=True,\n",
    "    dirty_signal_to_noise_map=True,\n",
    ")"
   ],
   "outputs": [],
   "execution_count": null
  },
  {
   "cell_type": "markdown",
   "metadata": {},
   "source": [
    "The `InterferometerPlotter` may also plot a subplot of all of these attributes."
   ]
  },
  {
   "cell_type": "code",
   "metadata": {},
   "source": [
    "dataset_plotter.subplot_dataset()\n",
    "dataset_plotter.subplot_dirty_images()"
   ],
   "outputs": [],
   "execution_count": null
  },
  {
   "cell_type": "markdown",
   "metadata": {},
   "source": [
    "__Fit Interferometer__\n",
    "\n",
    "The `FitInterferometer` object is a base object which represents the fit of a model to an interferometer dataset,\n",
    "including the residuals, chi-squared and model image.\n",
    "\n",
    "We now create one."
   ]
  },
  {
   "cell_type": "code",
   "metadata": {},
   "source": [
    "lens_galaxy = al.Galaxy(\n",
    "    redshift=0.5,\n",
    "    mass=al.mp.Isothermal(\n",
    "        centre=(0.0, 0.0),\n",
    "        einstein_radius=1.6,\n",
    "        ell_comps=al.convert.ell_comps_from(axis_ratio=0.9, angle=45.0),\n",
    "    ),\n",
    ")\n",
    "\n",
    "source_galaxy = al.Galaxy(\n",
    "    redshift=1.0,\n",
    "    bulge=al.lp.Sersic(\n",
    "        centre=(0.1, 0.1),\n",
    "        ell_comps=al.convert.ell_comps_from(axis_ratio=0.8, angle=60.0),\n",
    "        intensity=0.3,\n",
    "        effective_radius=1.0,\n",
    "        sersic_index=2.5,\n",
    "    ),\n",
    ")\n",
    "\n",
    "tracer = al.Tracer(galaxies=[lens_galaxy, source_galaxy])\n",
    "\n",
    "fit = al.FitInterferometer(dataset=dataset, tracer=tracer)\n"
   ],
   "outputs": [],
   "execution_count": null
  },
  {
   "cell_type": "markdown",
   "metadata": {},
   "source": [
    "We now pass the FitInterferometer to an `FitInterferometerPlotter` and call various `figure_*` methods \n",
    "to plot different attributes."
   ]
  },
  {
   "cell_type": "code",
   "metadata": {},
   "source": [
    "fit_plotter = aplt.FitInterferometerPlotter(fit=fit)\n",
    "\n",
    "fit_plotter.figures_2d(\n",
    "    data=True,\n",
    "    noise_map=True,\n",
    "    signal_to_noise_map=True,\n",
    "    model_data=True,\n",
    "    residual_map_real=True,\n",
    "    residual_map_imag=True,\n",
    "    normalized_residual_map_real=True,\n",
    "    normalized_residual_map_imag=True,\n",
    "    chi_squared_map_real=True,\n",
    "    chi_squared_map_imag=True,\n",
    ")"
   ],
   "outputs": [],
   "execution_count": null
  },
  {
   "cell_type": "markdown",
   "metadata": {},
   "source": [
    "The dirty images of the interferometer fit can also be plotted, which use the transformer of the interferometer\n",
    "to map the visibilities, noise-map, residual-map or other quantitiy to a real-space image.\n",
    "\n",
    "Bare in mind the fit itself uses the visibilities and not the dirty images, so these images do not provide a direct\n",
    "visualization of the fit itself. However, they are easier to inspect than the fits plotted above which are in Fourier\n",
    "space and make it more straight forward to determine if an unphysical lens model is being fitted."
   ]
  },
  {
   "cell_type": "code",
   "metadata": {},
   "source": [
    "fit_plotter.figures_2d(\n",
    "    dirty_image=True,\n",
    "    dirty_noise_map=True,\n",
    "    dirty_signal_to_noise_map=True,\n",
    "    dirty_model_image=True,\n",
    "    dirty_residual_map=True,\n",
    "    dirty_normalized_residual_map=True,\n",
    "    dirty_chi_squared_map=True,\n",
    ")"
   ],
   "outputs": [],
   "execution_count": null
  },
  {
   "cell_type": "markdown",
   "metadata": {},
   "source": [
    "It can plot of the image of an input plane, where this image is the real-space image of the `Tracer`."
   ]
  },
  {
   "cell_type": "code",
   "metadata": {},
   "source": [
    "fit_plotter.figures_2d(image=True)"
   ],
   "outputs": [],
   "execution_count": null
  },
  {
   "cell_type": "markdown",
   "metadata": {},
   "source": [
    "It can also plot the plane-image of a plane, that is what the source galaxy looks like without lensing (e.g.\n",
    "for `plane_index=1` this is the source-plane image)"
   ]
  },
  {
   "cell_type": "code",
   "metadata": {},
   "source": [
    "fit_plotter.figures_2d_of_planes(plane_index=0, plane_image=True)\n",
    "fit_plotter.figures_2d_of_planes(plane_index=1, plane_image=True)"
   ],
   "outputs": [],
   "execution_count": null
  },
  {
   "cell_type": "markdown",
   "metadata": {},
   "source": [
    "The `FitInterferometerPlotter` may also plot a subplot of these attributes."
   ]
  },
  {
   "cell_type": "code",
   "metadata": {},
   "source": [
    "fit_plotter.subplot_fit()\n",
    "fit_plotter.subplot_fit_dirty_images()"
   ],
   "outputs": [],
   "execution_count": null
  },
  {
   "cell_type": "markdown",
   "metadata": {},
   "source": [
    "The plane images can be combined to plot the appearance of the galaxy in real-space."
   ]
  },
  {
   "cell_type": "code",
   "metadata": {},
   "source": [
    "fit_plotter.subplot_fit_real_space()"
   ],
   "outputs": [],
   "execution_count": null
  },
  {
   "cell_type": "markdown",
   "metadata": {},
   "source": [
    "By default, the `ditry_residual_map` and `dirty_normalized_residual_map` use a symmetric colormap.\n",
    "\n",
    "This means the maximum normalization (`vmax`) an minimum normalziation (`vmin`) are the same absolute value.\n",
    "\n",
    "This can be disabled via the `residuals_symmetric_cmap` input."
   ]
  },
  {
   "cell_type": "code",
   "metadata": {},
   "source": [
    "fit_plotter = aplt.FitInterferometerPlotter(fit=fit, residuals_symmetric_cmap=False)\n",
    "fit_plotter.figures_2d(\n",
    "    dirty_residual_map=True,\n",
    "    dirty_normalized_residual_map=True,\n",
    ")"
   ],
   "outputs": [],
   "execution_count": null
  },
  {
   "cell_type": "markdown",
   "metadata": {},
   "source": [
    "__Point Dataset__\n",
    "\n",
    "The `PointDataset` object is a base object which represents a point source dataset (e.g. lensed quasar, supernova),\n",
    "including the multiple image positions, their errors and optionally fluxes and time delays.\n",
    "\n",
    "We now load one to illustrate plotting."
   ]
  },
  {
   "cell_type": "code",
   "metadata": {},
   "source": [
    "dataset_name = \"simple\"\n",
    "dataset_path = Path(\"dataset\") / \"point_source\" / dataset_name\n",
    "\n",
    "dataset = al.from_json(\n",
    "    file_path=Path(dataset_path, \"point_dataset.json\"),\n",
    ")"
   ],
   "outputs": [],
   "execution_count": null
  },
  {
   "cell_type": "markdown",
   "metadata": {},
   "source": [
    "We now pass the point dataset to a `PointDatasetPlotter` and call various `figure_*` methods to plot different \n",
    "attributes."
   ]
  },
  {
   "cell_type": "code",
   "metadata": {},
   "source": [
    "point_dataset_plotter = aplt.PointDatasetPlotter(dataset=dataset)\n",
    "# point_dataset_plotter.figures_2d(positions=True, fluxes=True)"
   ],
   "outputs": [],
   "execution_count": null
  },
  {
   "cell_type": "markdown",
   "metadata": {},
   "source": [
    "The `PointDatasetPlotter` can also plot a subplot of all of these attributes."
   ]
  },
  {
   "cell_type": "code",
   "metadata": {},
   "source": [
    "point_dataset_plotter.subplot_dataset()"
   ],
   "outputs": [],
   "execution_count": null
  },
  {
   "cell_type": "markdown",
   "metadata": {},
   "source": [
    "__Fit Point Dataset__\n",
    "\n",
    "The `FitPointDataset` object is a base object which represents the fit of a model to a point source dataset,\n",
    "including the residuals and chi-squared.\n",
    "\n",
    "We now create one."
   ]
  },
  {
   "cell_type": "code",
   "metadata": {},
   "source": [
    "lens_galaxy = al.Galaxy(\n",
    "    redshift=0.5,\n",
    "    mass=al.mp.Isothermal(\n",
    "        centre=(0.0, 0.0),\n",
    "        einstein_radius=1.8,\n",
    "        ell_comps=al.convert.ell_comps_from(axis_ratio=0.9, angle=45.0),\n",
    "    ),\n",
    ")\n",
    "\n",
    "source_galaxy = al.Galaxy(\n",
    "    redshift=1.0, point_0=al.ps.PointFlux(centre=(0.0, 0.0), flux=0.8)\n",
    ")\n",
    "\n",
    "tracer = al.Tracer(galaxies=[lens_galaxy, source_galaxy])\n",
    "\n",
    "grid = al.Grid2D.uniform(\n",
    "    shape_native=(100, 100),\n",
    "    pixel_scales=0.2,  # <- The pixel-scale describes the conversion from pixel units to arc-seconds.\n",
    ")\n",
    "\n",
    "solver = al.PointSolver.for_grid(\n",
    "    grid=grid, pixel_scale_precision=0.001, magnification_threshold=0.1\n",
    ")\n",
    "\n",
    "fit = al.FitPointDataset(dataset=dataset, tracer=tracer, solver=solver)\n"
   ],
   "outputs": [],
   "execution_count": null
  },
  {
   "cell_type": "markdown",
   "metadata": {},
   "source": [
    "We now pass the FitPointDataset to a `FitPointDatasetPlotter` and call various `figure_*` methods to plot different \n",
    "attributes."
   ]
  },
  {
   "cell_type": "code",
   "metadata": {},
   "source": [
    "fit_plotter = aplt.FitPointDatasetPlotter(fit=fit)\n",
    "fit_plotter.figures_2d(positions=True, fluxes=True)"
   ],
   "outputs": [],
   "execution_count": null
  },
  {
   "cell_type": "markdown",
   "metadata": {},
   "source": [
    "Finish."
   ]
  },
  {
   "cell_type": "code",
   "metadata": {},
   "source": [],
   "outputs": [],
   "execution_count": null
  }
 ],
 "metadata": {
  "anaconda-cloud": {},
  "kernelspec": {
   "display_name": "Python 3",
   "language": "python",
   "name": "python3"
  },
  "language_info": {
   "codemirror_mode": {
    "name": "ipython",
    "version": 3
   },
   "file_extension": ".py",
   "mimetype": "text/x-python",
   "name": "python",
   "nbconvert_exporter": "python",
   "pygments_lexer": "ipython3",
   "version": "3.6.1"
  }
 },
 "nbformat": 4,
 "nbformat_minor": 4
}
