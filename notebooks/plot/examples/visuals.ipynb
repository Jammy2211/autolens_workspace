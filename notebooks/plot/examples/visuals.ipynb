{
  "cells": [
    {
      "cell_type": "markdown",
      "metadata": {},
      "source": [
        "Plots: Visuals\n",
        "==============\n",
        "\n",
        "This example illustrates the API for adding visuals to plots and customizing their appearance.\n",
        "\n",
        "__Start Here Notebook__\n",
        "\n",
        "You should refer to the `plots/start_here.ipynb` notebook first for a description of how visuals work and the default\n",
        "behaviour of plotting visuals.\n",
        "\n",
        "__Contents__\n",
        "\n",
        "**Setup:** Set up all objects (e.g. grid, tracer, data) used to illustrate plotting.\n",
        "**\n",
        "\n",
        "__Setup__\n",
        "\n",
        "To illustrate plotting, we require standard objects like a grid, tracer and dataset."
      ]
    },
    {
      "cell_type": "code",
      "metadata": {},
      "source": [
        "\n",
        "%matplotlib inline\n",
        "from pyprojroot import here\n",
        "workspace_path = str(here())\n",
        "%cd $workspace_path\n",
        "print(f\"Working Directory has been set to `{workspace_path}`\")\n",
        "\n",
        "from pathlib import Path\n",
        "\n",
        "import autolens as al\n",
        "import autolens.plot as aplt\n",
        "\n",
        "grid = al.Grid2D.uniform(shape_native=(100, 100), pixel_scales=0.05)\n",
        "\n",
        "lens_galaxy = al.Galaxy(\n",
        "    redshift=0.5,\n",
        "    bulge=al.lp.Sersic(\n",
        "        centre=(0.0, 0.0),\n",
        "        intensity=2.0,\n",
        "        effective_radius=0.6,\n",
        "        sersic_index=3.0,\n",
        "    ),\n",
        "    mass=al.mp.Isothermal(centre=(0.0, 0.0), einstein_radius=1.6, ell_comps=(0.2, 0.2)),\n",
        ")\n",
        "\n",
        "source_galaxy = al.Galaxy(\n",
        "    redshift=1.0,\n",
        "    bulge=al.lp.SersicCoreSph(\n",
        "        centre=(0.1, 0.1), intensity=0.3, effective_radius=1.0, sersic_index=2.5\n",
        "    ),\n",
        ")\n",
        "\n",
        "tracer = al.Tracer(galaxies=[lens_galaxy, source_galaxy])\n",
        "\n",
        "lens_galaxy_1 = al.Galaxy(\n",
        "    redshift=0.5,\n",
        "    bulge=al.lp.Sersic(\n",
        "        centre=(-1.0, 0.0),\n",
        "        intensity=2.0,\n",
        "        effective_radius=0.6,\n",
        "        sersic_index=3.0,\n",
        "    ),\n",
        "    mass=al.mp.Isothermal(\n",
        "        centre=(-1.0, 0.0), einstein_radius=0.8, ell_comps=(0.2, 0.2)\n",
        "    ),\n",
        ")\n",
        "\n",
        "source_galaxy_1 = al.Galaxy(\n",
        "    redshift=1.0,\n",
        "    bulge=al.lp.SersicCoreSph(\n",
        "        centre=(0.2, 0.2), intensity=0.3, effective_radius=1.0, sersic_index=2.5\n",
        "    ),\n",
        ")\n",
        "\n",
        "\n",
        "tracer_x2 = al.Tracer(\n",
        "    galaxies=[lens_galaxy, lens_galaxy_1, source_galaxy, source_galaxy_1]\n",
        ")\n",
        "\n",
        "dataset_path = Path(\"dataset\") / \"slacs\" / \"slacs1430+4105\"\n",
        "data_path = dataset_path / \"data.fits\"\n",
        "data = al.Array2D.from_fits(file_path=data_path, hdu=0, pixel_scales=0.03)"
      ],
      "outputs": [],
      "execution_count": null
    },
    {
      "cell_type": "markdown",
      "metadata": {},
      "source": [
        "__Critical Curves__\n",
        "\n",
        "The tangential and radial critical curves are plotted over data as lines."
      ]
    },
    {
      "cell_type": "code",
      "metadata": {},
      "source": [
        "tangential_critical_curve_list = tracer.tangential_critical_curve_list_from(grid=grid)\n",
        "radial_critical_curves_list = tracer.radial_critical_curve_list_from(grid=grid)\n",
        "\n",
        "visuals = aplt.Visuals2D(\n",
        "    tangential_critical_curves=tangential_critical_curve_list,\n",
        "    radial_critical_curves=radial_critical_curves_list,\n",
        ")\n",
        "\n",
        "image = tracer.image_2d_from(grid=grid)\n",
        "\n",
        "array_plotter = aplt.Array2DPlotter(array=image, visuals_2d=visuals)\n",
        "array_plotter.figure_2d()"
      ],
      "outputs": [],
      "execution_count": null
    },
    {
      "cell_type": "markdown",
      "metadata": {},
      "source": [
        "The appearance of the tangential and radial critical curves are customized using \n",
        "`TangentialCriticalCurvesPlot`  and `RadialCriticalCurvesPlot` objects.\n",
        "\n",
        "To plot the critical curves this object wraps the following matplotlib method:\n",
        "\n",
        " https://matplotlib.org/3.3.3/api/_as_gen/matplotlib.pyplot.plot.html"
      ]
    },
    {
      "cell_type": "code",
      "metadata": {},
      "source": [
        "tangential_critical_curves_plot = aplt.TangentialCriticalCurvesPlot(\n",
        "    linestyle=\"--\", linewidth=10, c=\"k\"\n",
        ")\n",
        "radial_critical_curves_plot = aplt.RadialCriticalCurvesPlot(\n",
        "    linestyle=\"--\", linewidth=10, c=\"w\"\n",
        ")\n",
        "\n",
        "mat_plot = aplt.MatPlot2D(\n",
        "    tangential_critical_curves_plot=tangential_critical_curves_plot,\n",
        "    radial_critical_curves_plot=radial_critical_curves_plot,\n",
        ")\n",
        "\n",
        "tracer_plotter = aplt.TracerPlotter(\n",
        "    tracer=tracer, grid=grid, mat_plot_2d=mat_plot, visuals_2d=visuals\n",
        ")\n",
        "tracer_plotter.figures_2d(image=True)"
      ],
      "outputs": [],
      "execution_count": null
    },
    {
      "cell_type": "markdown",
      "metadata": {},
      "source": [
        "If a `Tracer` has multiple mass profiles, it may also have multiple tangential and radial critical curves, which\n",
        "are plotted in different colors by default.\n",
        "\n",
        "This is the case for `tracer_x2`, which we use below.\n",
        "\n",
        "By specifying two colors to the `TangentialCriticalCurvesPlot` and `RadialCriticalCurvesPlot` objects each tangential \n",
        "and critical_curve will be plotted in different colors.\n",
        "\n",
        "By inputting the same alternating colors for the critical curves and caustics each pair will appear the same color \n",
        "on image-plane and source-plane figures."
      ]
    },
    {
      "cell_type": "code",
      "metadata": {},
      "source": [
        "radial_critical_curves_plot = aplt.RadialCriticalCurvesPlot(c=[\"w\", \"b\"])\n",
        "\n",
        "mat_plot = aplt.MatPlot2D(\n",
        "    tangential_critical_curves_plot=tangential_critical_curves_plot,\n",
        "    radial_critical_curves_plot=radial_critical_curves_plot,\n",
        ")\n",
        "\n",
        "tangential_critical_curve_list = tracer_x2.tangential_critical_curve_list_from(\n",
        "    grid=grid\n",
        ")\n",
        "radial_critical_curves_list = tracer_x2.radial_critical_curve_list_from(grid=grid)\n",
        "\n",
        "visuals = aplt.Visuals2D(\n",
        "    tangential_critical_curves=tangential_critical_curve_list,\n",
        "    radial_critical_curves=radial_critical_curves_list,\n",
        ")\n",
        "\n",
        "tracer_plotter = aplt.TracerPlotter(\n",
        "    tracer=tracer_x2, grid=grid, mat_plot_2d=mat_plot, visuals_2d=visuals\n",
        ")\n",
        "tracer_plotter.figures_2d(image=True)"
      ],
      "outputs": [],
      "execution_count": null
    },
    {
      "cell_type": "markdown",
      "metadata": {},
      "source": [
        "__Caustics__\n",
        "\n",
        "The tangential and radial caustics are plotted over data as lines."
      ]
    },
    {
      "cell_type": "code",
      "metadata": {},
      "source": [
        "tangential_caustic_list = tracer.tangential_caustic_list_from(grid=grid)\n",
        "radial_caustics_list = tracer.radial_caustic_list_from(grid=grid)\n",
        "\n",
        "visuals = aplt.Visuals2D(\n",
        "    tangential_caustics=tangential_caustic_list,\n",
        "    radial_caustics=radial_caustics_list,\n",
        ")\n",
        "image = tracer.image_2d_from(grid=grid)\n",
        "\n",
        "array_plotter = aplt.Array2DPlotter(array=image, visuals_2d=visuals)\n",
        "array_plotter.figure_2d()"
      ],
      "outputs": [],
      "execution_count": null
    },
    {
      "cell_type": "markdown",
      "metadata": {},
      "source": [
        "The appearance of the tangential and radial critical curves are customized using \n",
        "`TangentialCausticsPlot`  and `RadialCausticsPlot` objects.\n",
        "\n",
        "To plot the critical curves this object wraps the following matplotlib method:\n",
        "\n",
        " https://matplotlib.org/3.3.3/api/_as_gen/matplotlib.pyplot.plot.html"
      ]
    },
    {
      "cell_type": "code",
      "metadata": {},
      "source": [
        "tangential_caustics_plot = aplt.TangentialCausticsPlot(\n",
        "    linestyle=\"--\", linewidth=10, c=\"k\"\n",
        ")\n",
        "radial_caustics_plot = aplt.RadialCausticsPlot(linestyle=\"--\", linewidth=10, c=\"w\")\n",
        "\n",
        "mat_plot = aplt.MatPlot2D(\n",
        "    tangential_caustics_plot=tangential_caustics_plot,\n",
        "    radial_caustics_plot=radial_caustics_plot,\n",
        ")\n",
        "\n",
        "tracer_plotter = aplt.TracerPlotter(\n",
        "    tracer=tracer, grid=grid, mat_plot_2d=mat_plot, visuals_2d=visuals\n",
        ")\n",
        "tracer_plotter.figures_2d(source_plane=True)"
      ],
      "outputs": [],
      "execution_count": null
    },
    {
      "cell_type": "markdown",
      "metadata": {},
      "source": [
        "If a `Tracer` has multiple mass profiles, it may also have multiple tangential and radial critical curves, which\n",
        "are plotted in different colors by default. \n",
        "\n",
        "This is the case for `tracer_x2`, which we use below.\n",
        "\n",
        "By specifying two colors to the `TangentialCausticsPlot` and `RadialCausticsPlot` objects each tangential \n",
        "and caustic will be plotted in different colors.\n",
        "\n",
        "By inputting the same alternating colors for the critical curves and caustics each pair will appear the same color \n",
        "on image-plane and source-plane figures."
      ]
    },
    {
      "cell_type": "code",
      "metadata": {},
      "source": [
        "tangential_caustics_plot = aplt.TangentialCausticsPlot(c=[\"k\", \"r\"])\n",
        "radial_caustics_plot = aplt.RadialCausticsPlot(c=[\"w\", \"b\"])\n",
        "\n",
        "mat_plot = aplt.MatPlot2D(\n",
        "    tangential_caustics_plot=tangential_caustics_plot,\n",
        "    radial_caustics_plot=radial_caustics_plot,\n",
        ")\n",
        "\n",
        "tangential_caustic_list = tracer.tangential_caustic_list_from(grid=grid)\n",
        "radial_caustics_list = tracer.radial_caustic_list_from(grid=grid)\n",
        "\n",
        "visuals = aplt.Visuals2D(\n",
        "    tangential_caustics=tangential_caustic_list,\n",
        "    radial_caustics=radial_caustics_list,\n",
        ")\n",
        "\n",
        "tracer_plotter = aplt.TracerPlotter(\n",
        "    tracer=tracer_x2, grid=grid, mat_plot_2d=mat_plot, visuals_2d=visuals\n",
        ")\n",
        "tracer_plotter.figures_2d(source_plane=True)"
      ],
      "outputs": [],
      "execution_count": null
    },
    {
      "cell_type": "markdown",
      "metadata": {},
      "source": [
        "__Multiple Images__\n",
        "\n",
        "The multiple images of the source in the image-plane and source-plane can be plotted.\n",
        "\n",
        "The multiple images are computed using the `PointSolver` object."
      ]
    },
    {
      "cell_type": "code",
      "metadata": {},
      "source": [
        "solver = al.PointSolver(grid=grid)\n",
        "multiple_images = solver.solve(\n",
        "    tracer=tracer, source_plane_coordinate=source_galaxy.bulge.centre\n",
        ")\n",
        "\n",
        "visuals = aplt.Visuals2D(multiple_images=multiple_images)\n",
        "\n",
        "tracer_plotter = aplt.TracerPlotter(tracer=tracer, grid=grid, visuals_2d=visuals)\n",
        "tracer_plotter.figures_2d(image=True)"
      ],
      "outputs": [],
      "execution_count": null
    },
    {
      "cell_type": "markdown",
      "metadata": {},
      "source": [
        "The appearance of the multiple images are customized using a `MultipleImagesScatter` object.\n",
        "\n",
        "To plot the multiple images this object wraps the following matplotlib method:\n",
        "\n",
        "https://matplotlib.org/3.2.2/api/_as_gen/matplotlib.pyplot.scatter.html"
      ]
    },
    {
      "cell_type": "code",
      "metadata": {},
      "source": [
        "multiple_images_scatter = aplt.MultipleImagesScatter(marker=\"o\", c=\"r\", s=150)\n",
        "\n",
        "mat_plot = aplt.MatPlot2D(multiple_images_scatter=multiple_images_scatter)\n",
        "\n",
        "tracer_plotter = aplt.TracerPlotter(\n",
        "    tracer=tracer, grid=grid, mat_plot_2d=mat_plot, visuals_2d=visuals\n",
        ")\n",
        "tracer_plotter.figures_2d(image=True)"
      ],
      "outputs": [],
      "execution_count": null
    },
    {
      "cell_type": "markdown",
      "metadata": {},
      "source": [
        "By specifying two colors to the `MultipleImagesScatter` object the multiple images of different source galaxies\n",
        "are plotted in different colors.\n",
        "\n",
        "Below, we compute the multiple images for two different centres, as if there are two sources in the source-plane,\n",
        "and plot them separately."
      ]
    },
    {
      "cell_type": "code",
      "metadata": {},
      "source": [
        "multiple_images_0 = solver.solve(\n",
        "    tracer=tracer, source_plane_coordinate=source_galaxy.bulge.centre\n",
        ")\n",
        "multiple_images_1 = solver.solve(\n",
        "    tracer=tracer, source_plane_coordinate=source_galaxy_1.bulge.centre\n",
        ")\n",
        "\n",
        "multiple_images = [multiple_images_0, multiple_images_1]\n",
        "\n",
        "visuals = aplt.Visuals2D(multiple_images=multiple_images)\n",
        "\n",
        "multiple_images_scatter = aplt.MultipleImagesScatter(c=[\"r\", \"w\"], s=150)\n",
        "\n",
        "mat_plot = aplt.MatPlot2D(multiple_images_scatter=multiple_images_scatter)\n",
        "\n",
        "tracer_plotter = aplt.TracerPlotter(\n",
        "    tracer=tracer, grid=grid, mat_plot_2d=mat_plot, visuals_2d=visuals\n",
        ")\n",
        "tracer_plotter.figures_2d(image=True)\n"
      ],
      "outputs": [],
      "execution_count": null
    },
    {
      "cell_type": "markdown",
      "metadata": {},
      "source": [
        "__Positions__\n",
        "\n",
        "Positions can be plotted over an image, which have an API closely mirroring that of multiple images above.\n",
        "\n",
        "The most common use case for positions is plotting the (y,x) coordinates of the lensed source emission which are\n",
        "used to apply a penalty to the likelihood function.\n",
        "\n",
        "However, the code below can be used to mark any interesting points over an image."
      ]
    },
    {
      "cell_type": "code",
      "metadata": {},
      "source": [
        "positions = al.Grid2DIrregular(values=[(1.0, 1.0), (2.0, 2.0), (3.0, 3.0)])\n",
        "\n",
        "visuals = aplt.Visuals2D(positions=positions)\n",
        "\n",
        "array_plotter = aplt.Array2DPlotter(array=data, visuals_2d=visuals)\n",
        "array_plotter.figure_2d()"
      ],
      "outputs": [],
      "execution_count": null
    },
    {
      "cell_type": "markdown",
      "metadata": {},
      "source": [
        "The appearance of the positions is customized using a `Scatter` object.\n",
        "\n",
        "To plot the positions this object wraps the following matplotlib method:\n",
        "\n",
        " https://matplotlib.org/3.2.2/api/_as_gen/matplotlib.pyplot.scatter.html"
      ]
    },
    {
      "cell_type": "code",
      "metadata": {},
      "source": [
        "positions_scatter = aplt.PositionsScatter(marker=\"o\", c=\"r\", s=50)\n",
        "\n",
        "mat_plot = aplt.MatPlot2D(positions_scatter=positions_scatter)\n",
        "\n",
        "array_plotter = aplt.Array2DPlotter(\n",
        "    array=data, mat_plot_2d=mat_plot, visuals_2d=visuals\n",
        ")\n",
        "array_plotter.figure_2d()"
      ],
      "outputs": [],
      "execution_count": null
    },
    {
      "cell_type": "markdown",
      "metadata": {},
      "source": [
        "__Light Profile Centres__\n",
        "\n",
        "The centres of all light profiles in a tracer (or other object, like a galaxy) can be extracted and plotted.\n",
        "\n",
        "We are producing an image-plane plot of the light profile centres, therefore we extract the centres via\n",
        "`tracer.galxies[0]`."
      ]
    },
    {
      "cell_type": "code",
      "metadata": {},
      "source": [
        "light_profile_centres = tracer.galaxies[0].extract_attribute(\n",
        "    cls=al.LightProfile, attr_name=\"centre\"\n",
        ")\n",
        "\n",
        "visuals = aplt.Visuals2D(light_profile_centres=light_profile_centres)\n",
        "tracer_plotter = aplt.TracerPlotter(\n",
        "    tracer=tracer, grid=grid, mat_plot_2d=mat_plot, visuals_2d=visuals\n",
        ")\n",
        "tracer_plotter.figures_2d(image=True)"
      ],
      "outputs": [],
      "execution_count": null
    },
    {
      "cell_type": "markdown",
      "metadata": {},
      "source": [
        "The source-plane centres can also be extracted and plotted, via `tracer.galaxies[-1]`"
      ]
    },
    {
      "cell_type": "code",
      "metadata": {},
      "source": [
        "light_profile_centres_source_plane = tracer.galaxies[-1].extract_attribute(\n",
        "    cls=al.LightProfile, attr_name=\"centre\"\n",
        ")\n",
        "\n",
        "visuals = aplt.Visuals2D(light_profile_centres=light_profile_centres_source_plane)\n",
        "\n",
        "tracer_plotter = aplt.TracerPlotter(\n",
        "    tracer=tracer, grid=grid, mat_plot_2d=mat_plot, visuals_2d=visuals\n",
        ")\n",
        "tracer_plotter.figures_2d(source_plane=True)"
      ],
      "outputs": [],
      "execution_count": null
    },
    {
      "cell_type": "markdown",
      "metadata": {},
      "source": [
        "The appearance of the light profile centres are customized using a `LightProfileCentresScatter` object.\n",
        "\n",
        "To plot the light profile centres this object wraps the following matplotlib method:\n",
        "\n",
        " https://matplotlib.org/3.2.2/api/_as_gen/matplotlib.pyplot.scatter.html"
      ]
    },
    {
      "cell_type": "code",
      "metadata": {},
      "source": [
        "light_profile_centres = tracer_x2.galaxies[0].extract_attribute(\n",
        "    cls=al.LightProfile, attr_name=\"centre\"\n",
        ")\n",
        "\n",
        "light_profile_centres_scatter = aplt.LightProfileCentresScatter(\n",
        "    marker=\"o\", c=\"r\", s=150\n",
        ")\n",
        "mat_plot = aplt.MatPlot2D(light_profile_centres_scatter=light_profile_centres_scatter)\n",
        "tracer_plotter = aplt.TracerPlotter(\n",
        "    tracer=tracer_x2, grid=grid, mat_plot_2d=mat_plot, visuals_2d=visuals\n",
        ")\n",
        "tracer_plotter.figures_2d(image=True)"
      ],
      "outputs": [],
      "execution_count": null
    },
    {
      "cell_type": "markdown",
      "metadata": {},
      "source": [
        "By specifying two colors to the `LightProfileCentresScatter` object the light profile centres of each plane\n",
        "are plotted in different colors.\n",
        "\n",
        "The plot below uses the `tracer_x2` object which consists of multiple galaxies with multiple light profiles."
      ]
    },
    {
      "cell_type": "code",
      "metadata": {},
      "source": [
        "light_profile_centres_scatter = aplt.LightProfileCentresScatter(c=[\"r\", \"w\"], s=150)\n",
        "\n",
        "mat_plot = aplt.MatPlot2D(light_profile_centres_scatter=light_profile_centres_scatter)\n",
        "\n",
        "tracer_plotter = aplt.TracerPlotter(\n",
        "    tracer=tracer_x2, grid=grid, mat_plot_2d=mat_plot, visuals_2d=visuals\n",
        ")\n",
        "tracer_plotter.figures_2d(image=True)\n"
      ],
      "outputs": [],
      "execution_count": null
    },
    {
      "cell_type": "markdown",
      "metadata": {},
      "source": [
        "__Mass Profile Centre__\n",
        "\n",
        "The centres of all mass profiles in a tracer (or other object, like a galaxy) can be extracted and plotted.\n",
        "\n",
        "We are producing an image-plane plot of the mass profile centres, therefore we extract the centres via\n",
        "`tracer.galaxies[0]`."
      ]
    },
    {
      "cell_type": "code",
      "metadata": {},
      "source": [
        "mass_profile_centres = tracer.extract_attribute(\n",
        "    cls=al.mp.MassProfile, attr_name=\"centre\"\n",
        ")\n",
        "visuals = aplt.Visuals2D(mass_profile_centres=mass_profile_centres)\n",
        "image = tracer.image_2d_from(grid=grid)\n",
        "\n",
        "array_plotter = aplt.Array2DPlotter(array=image, visuals_2d=visuals)\n",
        "array_plotter.figure_2d()"
      ],
      "outputs": [],
      "execution_count": null
    },
    {
      "cell_type": "markdown",
      "metadata": {},
      "source": [
        "The appearance of the mass profile centres are customized using a `MassProfileCentresScatter` object.\n",
        "\n",
        "To plot the mass profile centres this object wraps the following matplotlib method:\n",
        "\n",
        " https://matplotlib.org/3.2.2/api/_as_gen/matplotlib.pyplot.scatter.html"
      ]
    },
    {
      "cell_type": "code",
      "metadata": {},
      "source": [
        "mass_profile_centres_scatter = aplt.MassProfileCentresScatter(marker=\"o\", c=\"r\", s=150)\n",
        "mat_plot = aplt.MatPlot2D(mass_profile_centres_scatter=mass_profile_centres_scatter)\n",
        "tracer_plotter = aplt.TracerPlotter(\n",
        "    tracer=tracer, grid=grid, mat_plot_2d=mat_plot, visuals_2d=visuals\n",
        ")\n",
        "tracer_plotter.figures_2d(image=True)"
      ],
      "outputs": [],
      "execution_count": null
    },
    {
      "cell_type": "markdown",
      "metadata": {},
      "source": [
        "By specifying two colors to the `MassProfileCentresScatter` object the mass profile centres of each plane\n",
        "are plotted in different colors.\n",
        "\n",
        "The plot below uses the `tracer_x2` object which consists of multiple galaxies with multiple mass profiles."
      ]
    },
    {
      "cell_type": "code",
      "metadata": {},
      "source": [
        "mass_profile_centres = tracer_x2.extract_attribute(\n",
        "    cls=al.mp.MassProfile, attr_name=\"centre\"\n",
        ")\n",
        "\n",
        "mass_profile_centres_scatter = aplt.MassProfileCentresScatter(c=[\"r\", \"w\"], s=150)\n",
        "\n",
        "mat_plot = aplt.MatPlot2D(mass_profile_centres_scatter=mass_profile_centres_scatter)\n",
        "\n",
        "tracer_plotter = aplt.TracerPlotter(\n",
        "    tracer=tracer_x2, grid=grid, mat_plot_2d=mat_plot, visuals_2d=visuals\n",
        ")\n",
        "tracer_plotter.figures_2d(image=True)"
      ],
      "outputs": [],
      "execution_count": null
    },
    {
      "cell_type": "markdown",
      "metadata": {},
      "source": [
        "__Mask__\n",
        "\n",
        "The mask is plotted over all images by default as black points.\n",
        "\n",
        "We now show how to manually pass in a mask to plot and customize its appearance."
      ]
    },
    {
      "cell_type": "code",
      "metadata": {},
      "source": [
        "mask = al.Mask2D.circular_annular(\n",
        "    shape_native=data.shape_native,\n",
        "    pixel_scales=data.pixel_scales,\n",
        "    inner_radius=0.3,\n",
        "    outer_radius=3.0,\n",
        ")\n",
        "masked_image_2d = al.Array2D(values=data.native, mask=mask)\n",
        "\n",
        "visuals = aplt.Visuals2D(mask=mask)\n",
        "\n",
        "array_plotter = aplt.Array2DPlotter(array=data, visuals_2d=visuals)\n",
        "array_plotter.figure_2d()"
      ],
      "outputs": [],
      "execution_count": null
    },
    {
      "cell_type": "markdown",
      "metadata": {},
      "source": [
        "The appearance of the mask is customized using a `Scatter` object.\n",
        "\n",
        "To plot the mask this object wraps the following matplotlib method:\n",
        "\n",
        " https://matplotlib.org/3.2.2/api/_as_gen/matplotlib.pyplot.scatter.html"
      ]
    },
    {
      "cell_type": "code",
      "metadata": {},
      "source": [
        "mask_scatter = aplt.MaskScatter(marker=\"o\", c=\"r\", s=50)\n",
        "\n",
        "mat_plot = aplt.MatPlot2D(mask_scatter=mask_scatter)\n",
        "\n",
        "array_plotter = aplt.Array2DPlotter(\n",
        "    array=masked_image_2d, mat_plot_2d=mat_plot, visuals_2d=visuals\n",
        ")\n",
        "array_plotter.figure_2d()"
      ],
      "outputs": [],
      "execution_count": null
    },
    {
      "cell_type": "markdown",
      "metadata": {},
      "source": [
        "__Origin__\n",
        "\n",
        "We can plot the (y,x) origin on the data to show where the grid is defined from.\n",
        "\n",
        "By default the origin of (0.0\", 0.0\") is at the centre of the image."
      ]
    },
    {
      "cell_type": "code",
      "metadata": {},
      "source": [
        "visuals = aplt.Visuals2D(origin=al.Grid2DIrregular(values=[(1.0, 1.0)]))\n",
        "\n",
        "array_plotter = aplt.Array2DPlotter(array=data, visuals_2d=visuals)\n",
        "array_plotter.figure_2d()"
      ],
      "outputs": [],
      "execution_count": null
    },
    {
      "cell_type": "markdown",
      "metadata": {},
      "source": [
        "The appearance of the (y,x) origin coordinates is customized using a `Scatter` object.\n",
        "\n",
        "To plot these (y,x) grids of coordinates these objects wrap the following matplotlib method:\n",
        "\n",
        " https://matplotlib.org/3.2.2/api/_as_gen/matplotlib.pyplot.scatter.html\n",
        "\n",
        "The example script `plot/mat_wrap/Scatter.py` gives a more detailed description on how to customize its appearance."
      ]
    },
    {
      "cell_type": "code",
      "metadata": {},
      "source": [
        "origin_scatter = aplt.OriginScatter(marker=\"o\", s=50)\n",
        "\n",
        "mat_plot = aplt.MatPlot2D(origin_scatter=origin_scatter)\n",
        "\n",
        "array_plotter = aplt.Array2DPlotter(\n",
        "    array=data, mat_plot_2d=mat_plot, visuals_2d=visuals\n",
        ")\n",
        "array_plotter.figure_2d()"
      ],
      "outputs": [],
      "execution_count": null
    },
    {
      "cell_type": "markdown",
      "metadata": {},
      "source": [
        "__Grid__\n",
        "\n",
        "We can plot a grid of (y,x) coordinates over an image.\n",
        "\n",
        "We'll use a uniform grid at a coarser resolution than our dataset."
      ]
    },
    {
      "cell_type": "code",
      "metadata": {},
      "source": [
        "grid = al.Grid2D.uniform(shape_native=(30, 30), pixel_scales=0.1)\n",
        "\n",
        "visuals = aplt.Visuals2D(grid=grid)\n",
        "\n",
        "array_plotter = aplt.Array2DPlotter(array=data, visuals_2d=visuals)\n",
        "array_plotter.figure_2d()"
      ],
      "outputs": [],
      "execution_count": null
    },
    {
      "cell_type": "markdown",
      "metadata": {},
      "source": [
        "We customize the grid's appearance using the `GridScatter` `matplotlib wrapper object which wraps the following method(s): \n",
        "\n",
        " https://matplotlib.org/3.3.2/api/_as_gen/matplotlib.pyplot.scatter.html"
      ]
    },
    {
      "cell_type": "code",
      "metadata": {},
      "source": [
        "grid_scatter = aplt.GridScatter(c=\"r\", marker=\".\", s=1)\n",
        "\n",
        "mat_plot = aplt.MatPlot2D(grid_scatter=grid_scatter)\n",
        "\n",
        "array_plotter = aplt.Array2DPlotter(\n",
        "    array=data, mat_plot_2d=mat_plot, visuals_2d=visuals\n",
        ")\n",
        "array_plotter.figure_2d()"
      ],
      "outputs": [],
      "execution_count": null
    },
    {
      "cell_type": "markdown",
      "metadata": {},
      "source": [
        "__Border__\n",
        "\n",
        "A border is the `Grid2D` of (y,x) coordinates at the centre of every pixel at the border of a mask. \n",
        "\n",
        "A border is defined as a pixel that is on an exterior edge of a mask (e.g. it does not include the inner pixels of \n",
        "an annular mask).\n",
        "\n",
        "Borders are rarely plotted, but are important when it comes to defining the edge of the source-plane for pixelized\n",
        "source reconstructions, with examples on this topic sometimes plotting the border."
      ]
    },
    {
      "cell_type": "code",
      "metadata": {},
      "source": [
        "mask = al.Mask2D.circular_annular(\n",
        "    shape_native=data.shape_native,\n",
        "    pixel_scales=data.pixel_scales,\n",
        "    inner_radius=0.3,\n",
        "    outer_radius=3.0,\n",
        ")\n",
        "masked_image_2d = al.Array2D(values=data.native, mask=mask)\n",
        "\n",
        "visuals = aplt.Visuals2D(border=mask.derive_grid.border)\n",
        "\n",
        "array_plotter = aplt.Array2DPlotter(array=data, visuals_2d=visuals)\n",
        "array_plotter.figure_2d()"
      ],
      "outputs": [],
      "execution_count": null
    },
    {
      "cell_type": "markdown",
      "metadata": {},
      "source": [
        "The appearance of the border is customized using a `BorderScatter` object.\n",
        "\n",
        "To plot the border this object wraps the following matplotlib method:\n",
        "\n",
        " https://matplotlib.org/3.2.2/api/_as_gen/matplotlib.pyplot.scatter.html"
      ]
    },
    {
      "cell_type": "code",
      "metadata": {},
      "source": [
        "border_scatter = aplt.BorderScatter(marker=\"o\", c=\"r\", s=50)\n",
        "\n",
        "mat_plot = aplt.MatPlot2D(border_scatter=border_scatter)\n",
        "\n",
        "array_plotter = aplt.Array2DPlotter(\n",
        "    array=masked_image_2d, mat_plot_2d=mat_plot, visuals_2d=visuals\n",
        ")\n",
        "array_plotter.figure_2d()"
      ],
      "outputs": [],
      "execution_count": null
    },
    {
      "cell_type": "markdown",
      "metadata": {},
      "source": [
        "__Array Overly__\n",
        "\n",
        "We can overlay a 2D array over an image.\n",
        "\n",
        "This is mostly used for dark matter subhalo analysis, where an array of log evidences increases is overlaid images\n",
        "to show whether a dark matter substructure is detected."
      ]
    },
    {
      "cell_type": "code",
      "metadata": {},
      "source": [
        "arr = al.Array2D.no_mask(\n",
        "    values=[[1.0, 2.0, 3.0], [4.0, 5.0, 6.0], [7.0, 8.0, 9.0]], pixel_scales=0.5\n",
        ")\n",
        "\n",
        "array_plotter = aplt.Array2DPlotter(array=data, visuals_2d=visuals)\n",
        "array_plotter.figure_2d()"
      ],
      "outputs": [],
      "execution_count": null
    },
    {
      "cell_type": "markdown",
      "metadata": {},
      "source": [
        "We customize the overlaid array using the `ArrayOverlay` matplotlib wrapper object which wraps the following method(s):\n",
        "\n",
        "To overlay the array this objects wrap the following matplotlib method:\n",
        "\n",
        " https://matplotlib.org/3.3.2/api/_as_gen/matplotlib.pyplot.imshow.html"
      ]
    },
    {
      "cell_type": "code",
      "metadata": {},
      "source": [
        "array_overlay = aplt.ArrayOverlay(alpha=0.5)\n",
        "\n",
        "mat_plot = aplt.MatPlot2D(array_overlay=array_overlay)\n",
        "\n",
        "array_plotter = aplt.Array2DPlotter(\n",
        "    array=data, mat_plot_2d=mat_plot, visuals_2d=visuals\n",
        ")\n",
        "array_plotter.figure_2d()"
      ],
      "outputs": [],
      "execution_count": null
    },
    {
      "cell_type": "markdown",
      "metadata": {},
      "source": [
        "__Patch Overlay__\n",
        "\n",
        "The matplotlib patch API can be used to plot shapes over an image.\n",
        "\n",
        "This is used in certain weak lensing plots to visualize galaxy shapes and ellipticities.\n",
        "\n",
        "To plot a patch on an image, we use the `matplotlib.patches` module. \n",
        "\n",
        "In this example, we will use the `Ellipse` patch."
      ]
    },
    {
      "cell_type": "code",
      "metadata": {},
      "source": [
        "from matplotlib.patches import Ellipse\n",
        "\n",
        "patch_0 = Ellipse(xy=(1.0, 2.0), height=1.0, width=2.0, angle=1.0)\n",
        "patch_1 = Ellipse(xy=(-2.0, -3.0), height=1.0, width=2.0, angle=1.0)\n",
        "\n",
        "visuals = aplt.Visuals2D(patches=[patch_0, patch_1])\n",
        "\n",
        "array_plotter = aplt.Array2DPlotter(array=data)  # , visuals_2d=visuals)\n",
        "array_plotter.figure_2d()"
      ],
      "outputs": [],
      "execution_count": null
    },
    {
      "cell_type": "markdown",
      "metadata": {},
      "source": [
        "We can customize the patches using the `Patcher` matplotlib wrapper object which wraps the following method(s):\n",
        "\n",
        " https://matplotlib.org/3.3.2/api/collections_api.html"
      ]
    },
    {
      "cell_type": "code",
      "metadata": {},
      "source": [
        "patch_overlay = aplt.PatchOverlay(\n",
        "    facecolor=[\"r\", \"g\"], edgecolor=\"none\", linewidth=10, offsets=3.0\n",
        ")\n",
        "\n",
        "mat_plot = aplt.MatPlot2D(patch_overlay=patch_overlay)\n",
        "\n",
        "array_plotter = aplt.Array2DPlotter(\n",
        "    array=data, mat_plot_2d=mat_plot, visuals_2d=visuals\n",
        ")\n",
        "array_plotter.figure_2d()"
      ],
      "outputs": [],
      "execution_count": null
    },
    {
      "cell_type": "markdown",
      "metadata": {},
      "source": [
        "__Vector Field__\n",
        "\n",
        "A quiver plot showing vectors (e.g. 2D (y,x) directions at (y,x) coordinates) can be plotted using the `matplotlib`\n",
        "`quiver` function.\n",
        "\n",
        "This is often used for weak lensing plots, showing the direction and magnitude of weak lensing infrred at each\n",
        "galaxy's location."
      ]
    },
    {
      "cell_type": "code",
      "metadata": {},
      "source": [
        "vectors = al.VectorYX2DIrregular(\n",
        "    values=[(1.0, 2.0), (2.0, 1.0)], grid=[(-1.0, 0.0), (-2.0, 0.0)]\n",
        ")\n",
        "visuals = aplt.Visuals2D(vectors=vectors)\n",
        "\n",
        "array_plotter = aplt.Array2DPlotter(array=data, visuals_2d=visuals)\n",
        "array_plotter.figure_2d()"
      ],
      "outputs": [],
      "execution_count": null
    },
    {
      "cell_type": "markdown",
      "metadata": {},
      "source": [
        "We can customize the appearance of the vectors using the `VectorYXQuiver` matplotlib wrapper object which wraps \n",
        "the following method(s):\n",
        "\n",
        " https://matplotlib.org/3.3.2/api/_as_gen/matplotlib.pyplot.quiver.html"
      ]
    },
    {
      "cell_type": "code",
      "metadata": {},
      "source": [
        "quiver = aplt.VectorYXQuiver(\n",
        "    headlength=1,\n",
        "    pivot=\"tail\",\n",
        "    color=\"w\",\n",
        "    linewidth=10,\n",
        "    units=\"width\",\n",
        "    angles=\"uv\",\n",
        "    scale=None,\n",
        "    width=0.5,\n",
        "    headwidth=3,\n",
        "    alpha=0.5,\n",
        ")\n",
        "\n",
        "mat_plot = aplt.MatPlot2D(vector_yx_quiver=quiver)\n",
        "\n",
        "array_plotter = aplt.Array2DPlotter(\n",
        "    array=data, mat_plot_2d=mat_plot, visuals_2d=visuals\n",
        ")\n",
        "array_plotter.figure_2d()"
      ],
      "outputs": [],
      "execution_count": null
    },
    {
      "cell_type": "markdown",
      "metadata": {},
      "source": [
        "__Half Light Radius__\n",
        "\n",
        "For 1D plots of a light profile (e.g. radius vs intensity) a 1D line of its half light radius can be plotted."
      ]
    },
    {
      "cell_type": "code",
      "metadata": {},
      "source": [
        "visuals = aplt.Visuals1D(half_light_radius=tracer.galaxies[0].bulge.half_light_radius)\n",
        "\n",
        "light_profile_plotter = aplt.LightProfilePlotter(\n",
        "    light_profile=tracer.galaxies[0].bulge, grid=grid, visuals_1d=visuals\n",
        ")\n",
        "light_profile_plotter.figures_1d(image=True)"
      ],
      "outputs": [],
      "execution_count": null
    },
    {
      "cell_type": "markdown",
      "metadata": {},
      "source": [
        "The appearance of the half-light radius is customized using a `HalfLightRadiusAXVLine` object.\n",
        "\n",
        "To plot the half-light radius as a vertical line this wraps the following matplotlib method:\n",
        "\n",
        " plt.axvline: https://matplotlib.org/3.3.2/api/_as_gen/matplotlib.pyplot.axvline.html"
      ]
    },
    {
      "cell_type": "code",
      "metadata": {},
      "source": [
        "half_light_radius_axvline = aplt.HalfLightRadiusAXVLine(\n",
        "    linestyle=\"-.\", c=\"r\", linewidth=20\n",
        ")\n",
        "\n",
        "mat_plot = aplt.MatPlot1D(half_light_radius_axvline=half_light_radius_axvline)\n",
        "\n",
        "light_profile_plotter = aplt.LightProfilePlotter(\n",
        "    light_profile=tracer.galaxies[0].bulge,\n",
        "    grid=grid,\n",
        "    mat_plot_1d=mat_plot,\n",
        "    visuals_1d=visuals,\n",
        ")\n",
        "light_profile_plotter.figures_1d(image=True)"
      ],
      "outputs": [],
      "execution_count": null
    },
    {
      "cell_type": "markdown",
      "metadata": {},
      "source": [
        "__Einstein Radius__\n",
        "\n",
        "For 1D plots of a mass profile (e.g. radius vs convergence) a 1D line of its Einstein radius can be plotted."
      ]
    },
    {
      "cell_type": "code",
      "metadata": {},
      "source": [
        "visuals = aplt.Visuals1D(\n",
        "    einstein_radius=tracer.galaxies[0].mass.einstein_radius_from(grid=grid)\n",
        ")\n",
        "\n",
        "mass_profile_plotter = aplt.MassProfilePlotter(\n",
        "    mass_profile=tracer.galaxies[0].mass, grid=grid, visuals_1d=visuals\n",
        ")\n",
        "mass_profile_plotter.figures_1d(convergence=True)"
      ],
      "outputs": [],
      "execution_count": null
    },
    {
      "cell_type": "markdown",
      "metadata": {},
      "source": [
        "The appearance of the einstein radius is customized using a `EinsteinRadiusAXVLine` object.\n",
        "\n",
        "To plot the einstein radius as a vertical line this wraps the following matplotlib method:\n",
        "\n",
        " plt.axvline: https://matplotlib.org/3.3.2/api/_as_gen/matplotlib.pyplot.axvline.html"
      ]
    },
    {
      "cell_type": "code",
      "metadata": {},
      "source": [
        "einstein_radius_axvline = aplt.EinsteinRadiusAXVLine(\n",
        "    linestyle=\"-.\", c=\"r\", linewidth=20\n",
        ")\n",
        "\n",
        "mat_plot = aplt.MatPlot1D(einstein_radius_axvline=einstein_radius_axvline)\n",
        "\n",
        "mass_profile_plotter = aplt.MassProfilePlotter(\n",
        "    mass_profile=tracer.galaxies[0].mass,\n",
        "    grid=grid,\n",
        "    mat_plot_1d=mat_plot,\n",
        "    visuals_1d=visuals,\n",
        ")\n",
        "mass_profile_plotter.figures_1d(convergence=True)\n"
      ],
      "outputs": [],
      "execution_count": null
    },
    {
      "cell_type": "markdown",
      "metadata": {},
      "source": [
        "Finish."
      ]
    },
    {
      "cell_type": "code",
      "metadata": {},
      "source": [],
      "outputs": [],
      "execution_count": null
    }
  ],
  "metadata": {
    "anaconda-cloud": {},
    "kernelspec": {
      "display_name": "Python 3",
      "language": "python",
      "name": "python3"
    },
    "language_info": {
      "codemirror_mode": {
        "name": "ipython",
        "version": 3
      },
      "file_extension": ".py",
      "mimetype": "text/x-python",
      "name": "python",
      "nbconvert_exporter": "python",
      "pygments_lexer": "ipython3",
      "version": "3.6.1"
    }
  },
  "nbformat": 4,
  "nbformat_minor": 4
}