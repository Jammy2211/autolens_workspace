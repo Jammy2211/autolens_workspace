{
  "cells": [
    {
      "cell_type": "markdown",
      "metadata": {},
      "source": [
        "Plots: VoronoiDrawer\n",
        "====================\n",
        "\n",
        "This example illustrates how to customize the appearance of the Voronoi mesh of a Voronoi mesh using the\n",
        "`VoronoiDrawer` object."
      ]
    },
    {
      "cell_type": "code",
      "metadata": {},
      "source": [
        "%matplotlib inline\n",
        "from pyprojroot import here\n",
        "workspace_path = str(here())\n",
        "%cd $workspace_path\n",
        "print(f\"Working Directory has been set to `{workspace_path}`\")\n",
        "\n",
        "from os import path\n",
        "import autolens as al\n",
        "import autolens.plot as aplt"
      ],
      "outputs": [],
      "execution_count": null
    },
    {
      "cell_type": "markdown",
      "metadata": {},
      "source": [
        "__Dataset__\n",
        "\n",
        "First, lets load example imaging of of a strong lens as an `Imaging` object."
      ]
    },
    {
      "cell_type": "code",
      "metadata": {},
      "source": [
        "dataset_name = \"simple__no_lens_light\"\n",
        "dataset_path = path.join(\"dataset\", \"imaging\", dataset_name)\n",
        "\n",
        "dataset = al.Imaging.from_fits(\n",
        "    data_path=path.join(dataset_path, \"data.fits\"),\n",
        "    psf_path=path.join(dataset_path, \"psf.fits\"),\n",
        "    noise_map_path=path.join(dataset_path, \"noise_map.fits\"),\n",
        "    pixel_scales=0.1,\n",
        ")"
      ],
      "outputs": [],
      "execution_count": null
    },
    {
      "cell_type": "markdown",
      "metadata": {},
      "source": [
        "We now mask the `Imaging` data so we can fit it with an `Inversion`."
      ]
    },
    {
      "cell_type": "code",
      "metadata": {},
      "source": [
        "mask = al.Mask2D.circular_annular(\n",
        "    shape_native=dataset.shape_native,\n",
        "    pixel_scales=dataset.pixel_scales,\n",
        "    inner_radius=0.3,\n",
        "    outer_radius=3.0,\n",
        ")\n",
        "dataset = dataset.apply_mask(mask=mask)"
      ],
      "outputs": [],
      "execution_count": null
    },
    {
      "cell_type": "markdown",
      "metadata": {},
      "source": [
        "__Tracer__\n",
        "\n",
        "The `Inversion` maps pixels from the image-plane of our `Imaging` data to its source plane, via a lens model.\n",
        "\n",
        "Lets create a `Tracer` which we will use to create the `Inversion`."
      ]
    },
    {
      "cell_type": "code",
      "metadata": {},
      "source": [
        "lens_galaxy = al.Galaxy(\n",
        "    redshift=0.5,\n",
        "    mass=al.mp.Isothermal(\n",
        "        centre=(0.0, 0.0), ell_comps=(0.111111, 0.0), einstein_radius=1.6\n",
        "    ),\n",
        ")\n",
        "\n",
        "pixelization = al.Pixelization(\n",
        "    mesh=al.mesh.VoronoiMagnification(shape=(25, 25)),\n",
        "    regularization=al.reg.Constant(coefficient=1.0),\n",
        ")\n",
        "\n",
        "source_galaxy = al.Galaxy(redshift=1.0, pixelization=pixelization)\n",
        "\n",
        "tracer = al.Tracer.from_galaxies(galaxies=[lens_galaxy, source_galaxy])"
      ],
      "outputs": [],
      "execution_count": null
    },
    {
      "cell_type": "markdown",
      "metadata": {},
      "source": [
        "Converting a `Tracer` to an `Inversion` performs a number of steps, which are handled by the `TracerToInversion` class. \n",
        "\n",
        "This class is where the data and tracer's galaxies are combined to fit the data via the inversion."
      ]
    },
    {
      "cell_type": "code",
      "metadata": {},
      "source": [
        "tracer_to_inversion = al.TracerToInversion(\n",
        "    tracer=tracer,\n",
        "    dataset=dataset,\n",
        "    data=dataset.data,\n",
        "    noise_map=dataset.noise_map,\n",
        "    w_tilde=dataset.w_tilde,\n",
        ")\n",
        "\n",
        "inversion = tracer_to_inversion.inversion"
      ],
      "outputs": [],
      "execution_count": null
    },
    {
      "cell_type": "markdown",
      "metadata": {},
      "source": [
        "We can customize the filling of Voronoi cells using the `VoronoiDrawer` object which wraps the \n",
        "method `matplotlib.fill()`:\n",
        "\n",
        "https://matplotlib.org/stable/api/_as_gen/matplotlib.pyplot.fill.html"
      ]
    },
    {
      "cell_type": "code",
      "metadata": {},
      "source": [
        "voronoi_drawer = aplt.VoronoiDrawer(edgecolor=\"b\", linewidth=1.0, linestyle=\"--\")\n",
        "\n",
        "mat_plot = aplt.MatPlot2D(voronoi_drawer=voronoi_drawer)"
      ],
      "outputs": [],
      "execution_count": null
    },
    {
      "cell_type": "markdown",
      "metadata": {},
      "source": [
        "We now pass the inversion to a `InversionPlotter` which we will use to illustrate customization with \n",
        "the `VoronoiDrawer` object."
      ]
    },
    {
      "cell_type": "code",
      "metadata": {},
      "source": [
        "inversion_plotter = aplt.InversionPlotter(inversion=inversion, mat_plot_2d=mat_plot)\n",
        "\n",
        "inversion_plotter.figures_2d_of_pixelization(pixelization_index=0, reconstruction=True)\n",
        "inversion_plotter.subplot_of_mapper(mapper_index=0)\n"
      ],
      "outputs": [],
      "execution_count": null
    }
  ],
  "metadata": {
    "anaconda-cloud": {},
    "kernelspec": {
      "display_name": "Python 3",
      "language": "python",
      "name": "python3"
    },
    "language_info": {
      "codemirror_mode": {
        "name": "ipython",
        "version": 3
      },
      "file_extension": ".py",
      "mimetype": "text/x-python",
      "name": "python",
      "nbconvert_exporter": "python",
      "pygments_lexer": "ipython3",
      "version": "3.6.1"
    }
  },
  "nbformat": 4,
  "nbformat_minor": 4
}