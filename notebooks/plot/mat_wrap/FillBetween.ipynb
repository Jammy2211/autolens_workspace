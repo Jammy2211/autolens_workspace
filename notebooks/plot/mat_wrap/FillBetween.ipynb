{
  "cells": [
    {
      "cell_type": "markdown",
      "metadata": {},
      "source": [
        "Plots: AVXLine\n",
        "==============\n",
        "\n",
        "This example illustrates how to fill between two lines on a 1D Matplotlib figure and subplots.\n",
        "\n",
        "__Start Here Notebook__\n",
        "\n",
        "If any code in this script is unclear, refer to the `plot/start_here.ipynb` notebook."
      ]
    },
    {
      "cell_type": "code",
      "metadata": {},
      "source": [
        "%matplotlib inline\n",
        "from pyprojroot import here\n",
        "workspace_path = str(here())\n",
        "%cd $workspace_path\n",
        "print(f\"Working Directory has been set to `{workspace_path}`\")\n",
        "\n",
        "from os import path\n",
        "import autolens as al\n",
        "import autolens.plot as aplt"
      ],
      "outputs": [],
      "execution_count": null
    },
    {
      "cell_type": "markdown",
      "metadata": {},
      "source": [
        "First, lets create 1D data for the plot."
      ]
    },
    {
      "cell_type": "code",
      "metadata": {},
      "source": [
        "y = al.Array1D.no_mask(values=[1.0, 2.0, 3.0, 4.0, 5.0], pixel_scales=1.0)\n",
        "x = al.Array1D.no_mask(values=[1.0, 2.0, 3.0, 4.0, 5.0], pixel_scales=1.0)"
      ],
      "outputs": [],
      "execution_count": null
    },
    {
      "cell_type": "markdown",
      "metadata": {},
      "source": [
        "We now pass this y and x data to a `YX1DPlotter` and call the `figure` method."
      ]
    },
    {
      "cell_type": "code",
      "metadata": {},
      "source": [
        "yx_plotter = aplt.YX1DPlotter(y=y, x=x)\n",
        "yx_plotter.figure_1d()"
      ],
      "outputs": [],
      "execution_count": null
    },
    {
      "cell_type": "markdown",
      "metadata": {},
      "source": [
        "We can fill between two lines line on the y vs x plot using the `FillBetween` matplotlib wrapper object which wraps \n",
        "the following method(s):\n",
        "\n",
        " plt.fill_between: https://matplotlib.org/3.3.2/api/_as_gen/matplotlib.pyplot.fill_between.html\n",
        " \n",
        "The input`match_color_to_yx=True` ensures the filled area is the same as the line that is plotted, as opposed\n",
        "to a different color. This ensures that shaded regions can easily be paired in color to the plot when it is \n",
        "appropriate (e.g. plotted the errors of the line)."
      ]
    },
    {
      "cell_type": "code",
      "metadata": {},
      "source": [
        "y1 = al.Array1D.no_mask(values=[0.5, 1.5, 2.5, 3.5, 4.5], pixel_scales=1.0)\n",
        "y2 = al.Array1D.no_mask(values=[1.5, 2.5, 3.5, 4.5, 5.5], pixel_scales=1.0)\n",
        "\n",
        "mat_plot = aplt.MatPlot1D(\n",
        "    fill_between=aplt.FillBetween(match_color_to_yx=True, alpha=0.3)\n",
        ")\n",
        "\n",
        "visuals = aplt.Visuals1D(shaded_region=[y1, y2])\n",
        "\n",
        "yx_plotter = aplt.YX1DPlotter(y=y, x=x, mat_plot_1d=mat_plot, visuals_1d=visuals)\n",
        "yx_plotter.figure_1d()"
      ],
      "outputs": [],
      "execution_count": null
    },
    {
      "cell_type": "markdown",
      "metadata": {},
      "source": [
        "Finish."
      ]
    },
    {
      "cell_type": "code",
      "metadata": {},
      "source": [],
      "outputs": [],
      "execution_count": null
    }
  ],
  "metadata": {
    "anaconda-cloud": {},
    "kernelspec": {
      "display_name": "Python 3",
      "language": "python",
      "name": "python3"
    },
    "language_info": {
      "codemirror_mode": {
        "name": "ipython",
        "version": 3
      },
      "file_extension": ".py",
      "mimetype": "text/x-python",
      "name": "python",
      "nbconvert_exporter": "python",
      "pygments_lexer": "ipython3",
      "version": "3.6.1"
    }
  },
  "nbformat": 4,
  "nbformat_minor": 4
}