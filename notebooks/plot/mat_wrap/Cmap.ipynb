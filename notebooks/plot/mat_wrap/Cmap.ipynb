{
  "cells": [
    {
      "cell_type": "markdown",
      "metadata": {},
      "source": [
        "Plots: Cmap\n",
        "===========\n",
        "\n",
        "This example illustrates how to customize the Colormap in PyAutoLens figures and subplots.\n",
        "\n",
        "__Start Here Notebook__\n",
        "\n",
        "If any code in this script is unclear, refer to the `plot/start_here.ipynb` notebook."
      ]
    },
    {
      "cell_type": "code",
      "metadata": {},
      "source": [
        "%matplotlib inline\n",
        "from pyprojroot import here\n",
        "workspace_path = str(here())\n",
        "%cd $workspace_path\n",
        "print(f\"Working Directory has been set to `{workspace_path}`\")\n",
        "\n",
        "from os import path\n",
        "import autolens as al\n",
        "import autolens.plot as aplt"
      ],
      "outputs": [],
      "execution_count": null
    },
    {
      "cell_type": "markdown",
      "metadata": {},
      "source": [
        "First, lets load an example Hubble Space Telescope image of a real strong lens as an `Array2D`."
      ]
    },
    {
      "cell_type": "code",
      "metadata": {},
      "source": [
        "dataset_path = path.join(\"dataset\", \"slacs\", \"slacs1430+4105\")\n",
        "data_path = path.join(dataset_path, \"data.fits\")\n",
        "data = al.Array2D.from_fits(file_path=data_path, hdu=0, pixel_scales=0.03)"
      ],
      "outputs": [],
      "execution_count": null
    },
    {
      "cell_type": "markdown",
      "metadata": {},
      "source": [
        "We can customize the colormap using the `Cmap` matplotlib wrapper object which wraps the following method(s):\n",
        "\n",
        " colors.Linear: https://matplotlib.org/3.3.2/tutorials/colors/colormaps.html\n",
        " colors.LogNorm: https://matplotlib.org/3.3.2/tutorials/colors/colormapnorms.html\n",
        " colors.SymLogNorm: https://matplotlib.org/3.3.2/api/_as_gen/matplotlib.colors.SymLogNorm.html\n",
        "        \n",
        "The colormap is used in various functions that plot images with a `cmap`, most notably `plt.imshow`:\n",
        "\n",
        " https://matplotlib.org/3.3.2/api/_as_gen/matplotlib.pyplot.imshow.html\n",
        " \n",
        "First, lets plot the image using a linear colormap which uses a `colors.Normalize` object."
      ]
    },
    {
      "cell_type": "code",
      "metadata": {},
      "source": [
        "cmap = aplt.Cmap(cmap=\"jet\", norm=\"linear\", vmin=0.0, vmax=1.0)\n",
        "\n",
        "mat_plot = aplt.MatPlot2D(cmap=cmap)\n",
        "\n",
        "array_plotter = aplt.Array2DPlotter(array=data, mat_plot_2d=mat_plot)\n",
        "array_plotter.figure_2d()"
      ],
      "outputs": [],
      "execution_count": null
    },
    {
      "cell_type": "markdown",
      "metadata": {},
      "source": [
        "We can instead use logarithmic colormap (this wraps the `colors.LogNorm` matplotlib object)."
      ]
    },
    {
      "cell_type": "code",
      "metadata": {},
      "source": [
        "cmap = aplt.Cmap(cmap=\"hot\", norm=\"log\", vmin=0.0, vmax=2.0)\n",
        "\n",
        "mat_plot = aplt.MatPlot2D(cmap=cmap)\n",
        "\n",
        "array_plotter = aplt.Array2DPlotter(array=data, mat_plot_2d=mat_plot)\n",
        "array_plotter.figure_2d()"
      ],
      "outputs": [],
      "execution_count": null
    },
    {
      "cell_type": "markdown",
      "metadata": {},
      "source": [
        "We can use a symmetric log norm (this wraps the `colors.SymLogNorm` matplotlib object)."
      ]
    },
    {
      "cell_type": "code",
      "metadata": {},
      "source": [
        "cmap = aplt.Cmap(\n",
        "    cmap=\"twilight\",\n",
        "    norm=\"symmetric_log\",\n",
        "    vmin=0.0,\n",
        "    vmax=1.0,\n",
        "    linthresh=0.05,\n",
        "    linscale=0.1,\n",
        ")\n",
        "\n",
        "mat_plot = aplt.MatPlot2D(cmap=cmap)\n",
        "\n",
        "array_plotter = aplt.Array2DPlotter(array=data, mat_plot_2d=mat_plot)\n",
        "array_plotter.figure_2d()"
      ],
      "outputs": [],
      "execution_count": null
    },
    {
      "cell_type": "markdown",
      "metadata": {},
      "source": [
        "The diverge normalization ensures the colorbar is centred around 0.0, irrespective of whether vmin and vmax are input."
      ]
    },
    {
      "cell_type": "code",
      "metadata": {},
      "source": [
        "cmap = aplt.Cmap(cmap=\"twilight\", norm=\"diverge\")\n",
        "\n",
        "mat_plot = aplt.MatPlot2D(cmap=cmap)\n",
        "\n",
        "array_plotter = aplt.Array2DPlotter(array=data, mat_plot_2d=mat_plot)\n",
        "array_plotter.figure_2d()"
      ],
      "outputs": [],
      "execution_count": null
    },
    {
      "cell_type": "markdown",
      "metadata": {},
      "source": [
        "Finish."
      ]
    },
    {
      "cell_type": "code",
      "metadata": {},
      "source": [],
      "outputs": [],
      "execution_count": null
    }
  ],
  "metadata": {
    "anaconda-cloud": {},
    "kernelspec": {
      "display_name": "Python 3",
      "language": "python",
      "name": "python3"
    },
    "language_info": {
      "codemirror_mode": {
        "name": "ipython",
        "version": 3
      },
      "file_extension": ".py",
      "mimetype": "text/x-python",
      "name": "python",
      "nbconvert_exporter": "python",
      "pygments_lexer": "ipython3",
      "version": "3.6.1"
    }
  },
  "nbformat": 4,
  "nbformat_minor": 4
}