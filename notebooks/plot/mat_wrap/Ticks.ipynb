{
  "cells": [
    {
      "cell_type": "markdown",
      "metadata": {},
      "source": [
        "Plots: Ticks\n",
        "============\n",
        "\n",
        "This example illustrates how to customize the Ticks of a figure or subplot displayed in PyAutoLens, by\n",
        "wrapping the inputs of the Matplotlib methods `plt.tick_params`, `plt.yticks` and `plt.xticks`.\n",
        "\n",
        "__Start Here Notebook__\n",
        "\n",
        "If any code in this script is unclear, refer to the `plot/start_here.ipynb` notebook."
      ]
    },
    {
      "cell_type": "code",
      "metadata": {},
      "source": [
        "%matplotlib inline\n",
        "from pyprojroot import here\n",
        "workspace_path = str(here())\n",
        "%cd $workspace_path\n",
        "print(f\"Working Directory has been set to `{workspace_path}`\")\n",
        "\n",
        "from os import path\n",
        "import autolens as al\n",
        "import autolens.plot as aplt"
      ],
      "outputs": [],
      "execution_count": null
    },
    {
      "cell_type": "markdown",
      "metadata": {},
      "source": [
        "First, lets load an example Hubble Space Telescope image of a real strong lens as an `Array2D`."
      ]
    },
    {
      "cell_type": "code",
      "metadata": {},
      "source": [
        "dataset_path = path.join(\"dataset\", \"slacs\", \"slacs1430+4105\")\n",
        "data_path = path.join(dataset_path, \"data.fits\")\n",
        "data = al.Array2D.from_fits(file_path=data_path, hdu=0, pixel_scales=0.03)"
      ],
      "outputs": [],
      "execution_count": null
    },
    {
      "cell_type": "markdown",
      "metadata": {},
      "source": [
        "We can customize the ticks using the `YTicks` and `XTicks matplotlib wrapper object which wraps the following method(s):\n",
        "\n",
        " https://matplotlib.org/3.3.2/api/_as_gen/matplotlib.pyplot.tick_params.html\n",
        " https://matplotlib.org/3.3.2/api/_as_gen/matplotlib.pyplot.yticks.html\n",
        " https://matplotlib.org/3.3.2/api/_as_gen/matplotlib.pyplot.xticks.html"
      ]
    },
    {
      "cell_type": "code",
      "metadata": {},
      "source": [
        "tickparams = aplt.TickParams(\n",
        "    axis=\"y\",\n",
        "    which=\"major\",\n",
        "    direction=\"out\",\n",
        "    color=\"b\",\n",
        "    labelsize=20,\n",
        "    labelcolor=\"r\",\n",
        "    length=2,\n",
        "    pad=5,\n",
        "    width=3,\n",
        "    grid_alpha=0.8,\n",
        ")\n",
        "\n",
        "yticks = aplt.YTicks(alpha=0.8, fontsize=10, rotation=\"vertical\")\n",
        "xticks = aplt.XTicks(alpha=0.5, fontsize=5, rotation=\"horizontal\")\n",
        "\n",
        "mat_plot = aplt.MatPlot2D(tickparams=tickparams, yticks=yticks, xticks=xticks)\n",
        "\n",
        "array_plotter = aplt.Array2DPlotter(array=data, mat_plot_2d=mat_plot)\n",
        "array_plotter.figure_2d()"
      ],
      "outputs": [],
      "execution_count": null
    },
    {
      "cell_type": "markdown",
      "metadata": {},
      "source": [
        "A suffix can be added to every tick, for example the arc-seconds units can be included.\n",
        "\n",
        "This means one does not need to include the \"x (arcsec)\" and \"y (arcsec)\" labels on the plot, saving space for\n",
        "publication figures (see how to remove labels in `Labels.py`."
      ]
    },
    {
      "cell_type": "code",
      "metadata": {},
      "source": [
        "yticks = aplt.YTicks(manual_suffix='\"')\n",
        "xticks = aplt.XTicks(manual_suffix='\"')\n",
        "\n",
        "mat_plot = aplt.MatPlot2D(yticks=yticks, xticks=xticks)\n",
        "\n",
        "array_plotter = aplt.Array2DPlotter(array=data, mat_plot_2d=mat_plot)\n",
        "array_plotter.figure_2d()\n"
      ],
      "outputs": [],
      "execution_count": null
    },
    {
      "cell_type": "markdown",
      "metadata": {},
      "source": [
        "Ticks and their labels can be removed altogether by the following code:"
      ]
    },
    {
      "cell_type": "code",
      "metadata": {},
      "source": [
        "tickparams = aplt.TickParams(\n",
        "    bottom=False,\n",
        "    top=False,\n",
        "    left=False,\n",
        "    right=False,\n",
        "    labelbottom=False,\n",
        "    labelleft=False,\n",
        "    labelright=False,\n",
        "    labeltop=False,\n",
        ")\n",
        "\n",
        "mat_plot = aplt.MatPlot2D(tickparams=tickparams, yticks=yticks, xticks=xticks)\n",
        "\n",
        "array_plotter = aplt.Array2DPlotter(array=data, mat_plot_2d=mat_plot)\n",
        "array_plotter.figure_2d()"
      ],
      "outputs": [],
      "execution_count": null
    },
    {
      "cell_type": "markdown",
      "metadata": {},
      "source": [
        "Finish."
      ]
    },
    {
      "cell_type": "code",
      "metadata": {},
      "source": [],
      "outputs": [],
      "execution_count": null
    }
  ],
  "metadata": {
    "anaconda-cloud": {},
    "kernelspec": {
      "display_name": "Python 3",
      "language": "python",
      "name": "python3"
    },
    "language_info": {
      "codemirror_mode": {
        "name": "ipython",
        "version": 3
      },
      "file_extension": ".py",
      "mimetype": "text/x-python",
      "name": "python",
      "nbconvert_exporter": "python",
      "pygments_lexer": "ipython3",
      "version": "3.6.1"
    }
  },
  "nbformat": 4,
  "nbformat_minor": 4
}