{
  "cells": [
    {
      "cell_type": "markdown",
      "metadata": {},
      "source": [
        "Plots: Contours\n",
        "===============\n",
        "\n",
        "This example illustrates how to customize the contours in PyAutoLens figures and subplots.\n",
        "\n",
        "__Start Here Notebook__\n",
        "\n",
        "If any code in this script is unclear, refer to the `plot/start_here.ipynb` notebook."
      ]
    },
    {
      "cell_type": "code",
      "metadata": {},
      "source": [
        "%matplotlib inline\n",
        "from pyprojroot import here\n",
        "workspace_path = str(here())\n",
        "%cd $workspace_path\n",
        "print(f\"Working Directory has been set to `{workspace_path}`\")\n",
        "\n",
        "from os import path\n",
        "import autolens as al\n",
        "import autolens.plot as aplt"
      ],
      "outputs": [],
      "execution_count": null
    },
    {
      "cell_type": "markdown",
      "metadata": {},
      "source": [
        "__Light__\n",
        "\n",
        "Create a light profile which we will use to plot contours over a image map."
      ]
    },
    {
      "cell_type": "code",
      "metadata": {},
      "source": [
        "light = al.lp.Sersic(\n",
        "    centre=(0.0, 0.0),\n",
        "    ell_comps=al.convert.ell_comps_from(axis_ratio=0.9, angle=45.0),\n",
        "    intensity=0.1,\n",
        "    effective_radius=1.0,\n",
        "    sersic_index=4.0,\n",
        ")\n",
        "\n",
        "grid = al.Grid2D.uniform(shape_native=(100, 100), pixel_scales=0.05)\n",
        "\n",
        "image = light.image_2d_from(grid=grid)"
      ],
      "outputs": [],
      "execution_count": null
    },
    {
      "cell_type": "markdown",
      "metadata": {},
      "source": [
        "We can customize the contour using the `Contour` matplotlib wrapper object which wraps the following method(s):\n",
        "\n",
        " https://matplotlib.org/3.3.2/api/_as_gen/matplotlib.pyplot.contour.html"
      ]
    },
    {
      "cell_type": "code",
      "metadata": {},
      "source": [
        "contour = aplt.Contour(colors=\"k\")\n",
        "\n",
        "mat_plot = aplt.MatPlot2D(contour=contour)\n",
        "\n",
        "array_plotter = aplt.Array2DPlotter(array=image, mat_plot_2d=mat_plot)\n",
        "array_plotter.figure_2d()"
      ],
      "outputs": [],
      "execution_count": null
    },
    {
      "cell_type": "markdown",
      "metadata": {},
      "source": [
        "__Levels__\n",
        "\n",
        "By default, the contour levels are computed automatically from the minimum and maximum values of the array. \n",
        "\n",
        "They are then plotted in 10 intervals spaced evenly in log10 values between these limits.\n",
        "\n",
        "The number of contour levels and use of linear spacing can be manually input."
      ]
    },
    {
      "cell_type": "code",
      "metadata": {},
      "source": [
        "contour = aplt.Contour(colors=\"k\", total_contours=5, use_log10=False)\n",
        "\n",
        "mat_plot = aplt.MatPlot2D(contour=contour)\n",
        "\n",
        "array_plotter = aplt.Array2DPlotter(array=image, mat_plot_2d=mat_plot)\n",
        "array_plotter.figure_2d()"
      ],
      "outputs": [],
      "execution_count": null
    },
    {
      "cell_type": "markdown",
      "metadata": {},
      "source": [
        "The levels can also be manually specified using the `manual_levels` input."
      ]
    },
    {
      "cell_type": "code",
      "metadata": {},
      "source": [
        "contour = aplt.Contour(manual_levels=[0.1, 0.5, 10.0])\n",
        "\n",
        "mat_plot = aplt.MatPlot2D(contour=contour)\n",
        "\n",
        "array_plotter = aplt.Array2DPlotter(array=image, mat_plot_2d=mat_plot)\n",
        "array_plotter.figure_2d()"
      ],
      "outputs": [],
      "execution_count": null
    },
    {
      "cell_type": "markdown",
      "metadata": {},
      "source": [
        "__Values__\n",
        "\n",
        "By default, the value of each contour is shown on the figure.\n",
        "\n",
        "This can be disabled using the `include_values` input."
      ]
    },
    {
      "cell_type": "code",
      "metadata": {},
      "source": [
        "contour = aplt.Contour(include_values=False)\n",
        "\n",
        "mat_plot = aplt.MatPlot2D(contour=contour)\n",
        "\n",
        "array_plotter = aplt.Array2DPlotter(array=image, mat_plot_2d=mat_plot)\n",
        "array_plotter.figure_2d()\n"
      ],
      "outputs": [],
      "execution_count": null
    },
    {
      "cell_type": "markdown",
      "metadata": {},
      "source": [
        "Finish."
      ]
    },
    {
      "cell_type": "code",
      "metadata": {},
      "source": [],
      "outputs": [],
      "execution_count": null
    }
  ],
  "metadata": {
    "anaconda-cloud": {},
    "kernelspec": {
      "display_name": "Python 3",
      "language": "python",
      "name": "python3"
    },
    "language_info": {
      "codemirror_mode": {
        "name": "ipython",
        "version": 3
      },
      "file_extension": ".py",
      "mimetype": "text/x-python",
      "name": "python",
      "nbconvert_exporter": "python",
      "pygments_lexer": "ipython3",
      "version": "3.6.1"
    }
  },
  "nbformat": 4,
  "nbformat_minor": 4
}