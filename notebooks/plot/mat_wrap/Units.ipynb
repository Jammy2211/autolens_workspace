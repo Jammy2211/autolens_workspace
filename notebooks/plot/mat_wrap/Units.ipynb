{
  "cells": [
    {
      "cell_type": "markdown",
      "metadata": {},
      "source": [
        "Plots: Units\n",
        "============\n",
        "\n",
        "**PyAutoLens** has internal units which are used for lensing calculations and model-fitting (e.g. arc-seconds,\n",
        "electrons per second, dimensionless mass units)\n",
        "\n",
        "Visualization is performed in these internal units, however, the `Units` object allows the user to customize the\n",
        "units of the figure (e.g. convert arc-seconds to kiloparsecs).\n",
        "\n",
        "However, how to use the `Units` object to customize the units of a figure is not described here, but instead\n",
        "in`autolens_workspace/*/imaging/results/examples/units_and_cosmology.ipynb`. Unit conversions in general is\n",
        "described in this script."
      ]
    },
    {
      "cell_type": "code",
      "metadata": {},
      "source": [],
      "outputs": [],
      "execution_count": null
    }
  ],
  "metadata": {
    "anaconda-cloud": {},
    "kernelspec": {
      "display_name": "Python 3",
      "language": "python",
      "name": "python3"
    },
    "language_info": {
      "codemirror_mode": {
        "name": "ipython",
        "version": 3
      },
      "file_extension": ".py",
      "mimetype": "text/x-python",
      "name": "python",
      "nbconvert_exporter": "python",
      "pygments_lexer": "ipython3",
      "version": "3.6.1"
    }
  },
  "nbformat": 4,
  "nbformat_minor": 4
}