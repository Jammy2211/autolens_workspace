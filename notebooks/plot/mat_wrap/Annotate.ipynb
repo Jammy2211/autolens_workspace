{
  "cells": [
    {
      "cell_type": "markdown",
      "metadata": {},
      "source": [
        "Plots: Annotate\n",
        "===============\n",
        "\n",
        "This example illustrates how to customize annotations that appears on a figure or subplot displayed in PyAutoLens."
      ]
    },
    {
      "cell_type": "code",
      "metadata": {},
      "source": [
        "%matplotlib inline\n",
        "from pyprojroot import here\n",
        "workspace_path = str(here())\n",
        "%cd $workspace_path\n",
        "print(f\"Working Directory has been set to `{workspace_path}`\")\n",
        "\n",
        "from os import path\n",
        "import autolens as al\n",
        "import autolens.plot as aplt"
      ],
      "outputs": [],
      "execution_count": null
    },
    {
      "cell_type": "markdown",
      "metadata": {},
      "source": [
        "First, lets load an example Hubble Space Telescope image of a real strong lens as an `Array2D`."
      ]
    },
    {
      "cell_type": "code",
      "metadata": {},
      "source": [
        "dataset_path = path.join(\"dataset\", \"slacs\", \"slacs1430+4105\")\n",
        "data_path = path.join(dataset_path, \"data.fits\")\n",
        "data = al.Array2D.from_fits(file_path=data_path, hdu=0, pixel_scales=0.03)"
      ],
      "outputs": [],
      "execution_count": null
    },
    {
      "cell_type": "markdown",
      "metadata": {},
      "source": [
        "We can customize the annotations using the `Annotate` matplotlib wrapper object which wraps the following method(s):\n",
        "\n",
        " https://matplotlib.org/3.3.2/api/_as_gen/matplotlib.pyplot.annotate.html\n",
        "\n",
        "We manually specify the annotation using the input `s` and locations `x` and `y`, which means a solid white line\n",
        "wil. appear."
      ]
    },
    {
      "cell_type": "code",
      "metadata": {},
      "source": [
        "annotate = aplt.Annotate(\n",
        "    text=\"\",\n",
        "    xy=(2.0, 2.0),\n",
        "    xytext=(3.0, 2.0),\n",
        "    arrowprops=dict(arrowstyle=\"-\", color=\"w\"),\n",
        ")\n",
        "\n",
        "mat_plot = aplt.MatPlot2D(annotate=annotate)\n",
        "\n",
        "array_plotter = aplt.Array2DPlotter(array=data, mat_plot_2d=mat_plot)\n",
        "array_plotter.figure_2d()"
      ],
      "outputs": [],
      "execution_count": null
    },
    {
      "cell_type": "markdown",
      "metadata": {},
      "source": [
        "By passing a list of `Annotate` objects we can plot multiple text extracts."
      ]
    },
    {
      "cell_type": "code",
      "metadata": {},
      "source": [
        "annotate_0 = aplt.Annotate(\n",
        "    text=\"\",\n",
        "    xy=(2.0, 2.0),\n",
        "    xytext=(3.0, 2.0),\n",
        "    arrowprops=dict(arrowstyle=\"-\", color=\"w\"),\n",
        ")\n",
        "annotate_1 = aplt.Annotate(\n",
        "    text=\"\",\n",
        "    xy=(1.0, 1.0),\n",
        "    xytext=(2.0, 1.0),\n",
        "    arrowprops=dict(arrowstyle=\"-\", color=\"r\"),\n",
        ")\n",
        "\n",
        "mat_plot = aplt.MatPlot2D(annotate=[annotate_0, annotate_1])\n",
        "\n",
        "array_plotter = aplt.Array2DPlotter(array=data, mat_plot_2d=mat_plot)\n",
        "array_plotter.figure_2d()"
      ],
      "outputs": [],
      "execution_count": null
    },
    {
      "cell_type": "markdown",
      "metadata": {},
      "source": [
        "Finish."
      ]
    },
    {
      "cell_type": "code",
      "metadata": {},
      "source": [],
      "outputs": [],
      "execution_count": null
    }
  ],
  "metadata": {
    "anaconda-cloud": {},
    "kernelspec": {
      "display_name": "Python 3",
      "language": "python",
      "name": "python3"
    },
    "language_info": {
      "codemirror_mode": {
        "name": "ipython",
        "version": 3
      },
      "file_extension": ".py",
      "mimetype": "text/x-python",
      "name": "python",
      "nbconvert_exporter": "python",
      "pygments_lexer": "ipython3",
      "version": "3.6.1"
    }
  },
  "nbformat": 4,
  "nbformat_minor": 4
}