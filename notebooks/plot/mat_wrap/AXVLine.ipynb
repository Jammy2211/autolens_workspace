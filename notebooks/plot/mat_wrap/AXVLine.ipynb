{
  "cells": [
    {
      "cell_type": "markdown",
      "metadata": {},
      "source": [
        "Plots: AVXLine\n",
        "==============\n",
        "\n",
        "This example illustrates how to plot vertical lines on a 1D Matplotlib figure and subplots.\n",
        "\n",
        "__Start Here Notebook__\n",
        "\n",
        "If any code in this script is unclear, refer to the `plot/start_here.ipynb` notebook."
      ]
    },
    {
      "cell_type": "code",
      "metadata": {},
      "source": [
        "%matplotlib inline\n",
        "from pyprojroot import here\n",
        "workspace_path = str(here())\n",
        "%cd $workspace_path\n",
        "print(f\"Working Directory has been set to `{workspace_path}`\")\n",
        "\n",
        "from os import path\n",
        "import autolens as al\n",
        "import autolens.plot as aplt"
      ],
      "outputs": [],
      "execution_count": null
    },
    {
      "cell_type": "markdown",
      "metadata": {},
      "source": [
        "First, lets create 1D data for the plot."
      ]
    },
    {
      "cell_type": "code",
      "metadata": {},
      "source": [
        "y = al.Array1D.no_mask(values=[1.0, 2.0, 3.0, 4.0, 5.0], pixel_scales=1.0)\n",
        "x = al.Array1D.no_mask(values=[1.0, 2.0, 3.0, 4.0, 5.0], pixel_scales=1.0)"
      ],
      "outputs": [],
      "execution_count": null
    },
    {
      "cell_type": "markdown",
      "metadata": {},
      "source": [
        "We now pass this y and x data to a `YX1DPlotter` and call the `figure` method."
      ]
    },
    {
      "cell_type": "code",
      "metadata": {},
      "source": [
        "yx_plotter = aplt.YX1DPlotter(y=y, x=x)\n",
        "yx_plotter.figure_1d()"
      ],
      "outputs": [],
      "execution_count": null
    },
    {
      "cell_type": "markdown",
      "metadata": {},
      "source": [
        "We can plot a vertical line on the y vs x plot using the `AXVLine` matplotlib wrapper object which wraps the \n",
        "following method(s):\n",
        "\n",
        " plt.axvline: https://matplotlib.org/3.3.2/api/_as_gen/matplotlib.pyplot.axvline.html"
      ]
    },
    {
      "cell_type": "code",
      "metadata": {},
      "source": [
        "# mat_plot = aplt.MatPlot1D(axv)\n",
        "\n",
        "yx_plotter = aplt.YX1DPlotter(y=y, x=x)\n",
        "yx_plotter.figure_1d()"
      ],
      "outputs": [],
      "execution_count": null
    },
    {
      "cell_type": "markdown",
      "metadata": {},
      "source": [
        "Finish."
      ]
    },
    {
      "cell_type": "code",
      "metadata": {},
      "source": [],
      "outputs": [],
      "execution_count": null
    }
  ],
  "metadata": {
    "anaconda-cloud": {},
    "kernelspec": {
      "display_name": "Python 3",
      "language": "python",
      "name": "python3"
    },
    "language_info": {
      "codemirror_mode": {
        "name": "ipython",
        "version": 3
      },
      "file_extension": ".py",
      "mimetype": "text/x-python",
      "name": "python",
      "nbconvert_exporter": "python",
      "pygments_lexer": "ipython3",
      "version": "3.6.1"
    }
  },
  "nbformat": 4,
  "nbformat_minor": 4
}