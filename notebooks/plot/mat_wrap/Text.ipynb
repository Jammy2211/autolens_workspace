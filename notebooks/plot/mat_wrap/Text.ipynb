{
  "cells": [
    {
      "cell_type": "markdown",
      "metadata": {},
      "source": [
        "Plots: Text\n",
        "===========\n",
        "\n",
        "This example illustrates how to customize the text that appears on a figure or subplot displayed in PyAutoLens.\n",
        "\n",
        "__Start Here Notebook__\n",
        "\n",
        "If any code in this script is unclear, refer to the `plot/start_here.ipynb` notebook."
      ]
    },
    {
      "cell_type": "code",
      "metadata": {},
      "source": [
        "%matplotlib inline\n",
        "from pyprojroot import here\n",
        "workspace_path = str(here())\n",
        "%cd $workspace_path\n",
        "print(f\"Working Directory has been set to `{workspace_path}`\")\n",
        "\n",
        "from os import path\n",
        "import autolens as al\n",
        "import autolens.plot as aplt"
      ],
      "outputs": [],
      "execution_count": null
    },
    {
      "cell_type": "markdown",
      "metadata": {},
      "source": [
        "First, lets load an example Hubble Space Telescope image of a real strong lens as an `Array2D`."
      ]
    },
    {
      "cell_type": "code",
      "metadata": {},
      "source": [
        "dataset_path = path.join(\"dataset\", \"slacs\", \"slacs1430+4105\")\n",
        "data_path = path.join(dataset_path, \"data.fits\")\n",
        "data = al.Array2D.from_fits(file_path=data_path, hdu=0, pixel_scales=0.03)"
      ],
      "outputs": [],
      "execution_count": null
    },
    {
      "cell_type": "markdown",
      "metadata": {},
      "source": [
        "We can customize the text using the `Text` matplotlib wrapper object which wraps the following method(s):\n",
        "\n",
        " https://matplotlib.org/3.3.2/api/_as_gen/matplotlib.pyplot.text.html\n",
        "\n",
        "We manually specify the text using the input `s` and locations `x` and `y`."
      ]
    },
    {
      "cell_type": "code",
      "metadata": {},
      "source": [
        "text = aplt.Text(s=\"Example text\", x=0, y=0, color=\"r\", fontsize=20)\n",
        "\n",
        "mat_plot = aplt.MatPlot2D(text=text)\n",
        "\n",
        "array_plotter = aplt.Array2DPlotter(array=data, mat_plot_2d=mat_plot)\n",
        "array_plotter.figure_2d()"
      ],
      "outputs": [],
      "execution_count": null
    },
    {
      "cell_type": "markdown",
      "metadata": {},
      "source": [
        "By passing a list of `Text` objects we can plot multiple text extracts."
      ]
    },
    {
      "cell_type": "code",
      "metadata": {},
      "source": [
        "text_0 = aplt.Text(s=\"Example text 0\", x=0, y=0, color=\"r\", fontsize=20)\n",
        "text_1 = aplt.Text(s=\"Example text 1\", x=10, y=10, color=\"b\", fontsize=20)\n",
        "\n",
        "mat_plot = aplt.MatPlot2D(text=[text_0, text_1])\n",
        "\n",
        "array_plotter = aplt.Array2DPlotter(array=data, mat_plot_2d=mat_plot)\n",
        "array_plotter.figure_2d()"
      ],
      "outputs": [],
      "execution_count": null
    },
    {
      "cell_type": "markdown",
      "metadata": {},
      "source": [
        "Finish."
      ]
    },
    {
      "cell_type": "code",
      "metadata": {},
      "source": [],
      "outputs": [],
      "execution_count": null
    }
  ],
  "metadata": {
    "anaconda-cloud": {},
    "kernelspec": {
      "display_name": "Python 3",
      "language": "python",
      "name": "python3"
    },
    "language_info": {
      "codemirror_mode": {
        "name": "ipython",
        "version": 3
      },
      "file_extension": ".py",
      "mimetype": "text/x-python",
      "name": "python",
      "nbconvert_exporter": "python",
      "pygments_lexer": "ipython3",
      "version": "3.6.1"
    }
  },
  "nbformat": 4,
  "nbformat_minor": 4
}