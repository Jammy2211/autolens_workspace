{
  "cells": [
    {
      "cell_type": "markdown",
      "metadata": {},
      "source": [
        "Plots: Output\n",
        "=============\n",
        "\n",
        "This example illustrates how to output a PyAutoLens figure or subplot.\n",
        "\n",
        "__Start Here Notebook__\n",
        "\n",
        "If any code in this script is unclear, refer to the `plot/start_here.ipynb` notebook."
      ]
    },
    {
      "cell_type": "code",
      "metadata": {},
      "source": [
        "%matplotlib inline\n",
        "from pyprojroot import here\n",
        "workspace_path = str(here())\n",
        "%cd $workspace_path\n",
        "print(f\"Working Directory has been set to `{workspace_path}`\")\n",
        "\n",
        "from os import path\n",
        "import autolens as al\n",
        "import autolens.plot as aplt"
      ],
      "outputs": [],
      "execution_count": null
    },
    {
      "cell_type": "markdown",
      "metadata": {},
      "source": [
        "First, lets load an example Hubble Space Telescope image of a real strong lens as an `Array2D`."
      ]
    },
    {
      "cell_type": "code",
      "metadata": {},
      "source": [
        "dataset_path = path.join(\"dataset\", \"slacs\", \"slacs1430+4105\")\n",
        "data_path = path.join(dataset_path, \"data.fits\")\n",
        "data = al.Array2D.from_fits(file_path=data_path, hdu=0, pixel_scales=0.03)"
      ],
      "outputs": [],
      "execution_count": null
    },
    {
      "cell_type": "markdown",
      "metadata": {},
      "source": [
        "We can specify the output of the figure using the `Output` matplotlib wrapper object which wraps the following method(s):\n",
        "\n",
        " https://matplotlib.org/3.3.2/api/_as_gen/matplotlib.pyplot.show.html\n",
        " https://matplotlib.org/3.3.2/api/_as_gen/matplotlib.pyplot.savefig.html\n",
        "\n",
        "Below, we specify that the figure should be output as a `.png` file, with the name `example.png` in the `plot/plots` \n",
        "folder of the workspace."
      ]
    },
    {
      "cell_type": "code",
      "metadata": {},
      "source": [
        "output = aplt.Output(\n",
        "    path=path.join(\"notebooks\", \"plot\", \"plots\"), filename=\"example\", format=\"png\"\n",
        ")\n",
        "\n",
        "mat_plot = aplt.MatPlot2D(output=output)\n",
        "\n",
        "array_plotter = aplt.Array2DPlotter(array=data, mat_plot_2d=mat_plot)\n",
        "array_plotter.figure_2d()"
      ],
      "outputs": [],
      "execution_count": null
    },
    {
      "cell_type": "markdown",
      "metadata": {},
      "source": [
        "We can specify a list of output formats, such that the figure is output to all of them."
      ]
    },
    {
      "cell_type": "code",
      "metadata": {},
      "source": [
        "output = aplt.Output(\n",
        "    path=path.join(\"notebooks\", \"plot\", \"plots\"),\n",
        "    filename=\"example\",\n",
        "    format=[\"png\", \"pdf\"],\n",
        ")\n",
        "\n",
        "mat_plot = aplt.MatPlot2D(output=output)\n",
        "\n",
        "array_plotter = aplt.Array2DPlotter(array=data, mat_plot_2d=mat_plot)\n",
        "array_plotter.figure_2d()"
      ],
      "outputs": [],
      "execution_count": null
    },
    {
      "cell_type": "markdown",
      "metadata": {},
      "source": [
        "This `Output` object does not display the figure on your computer screen, bypassing this to output the `.png`. This is\n",
        "the default behaviour of PyAutoLens plots, but can be manually specified using the `format-\"show\"`"
      ]
    },
    {
      "cell_type": "code",
      "metadata": {},
      "source": [
        "output = aplt.Output(format=\"show\")\n",
        "\n",
        "mat_plot = aplt.MatPlot2D(output=output)\n",
        "\n",
        "array_plotter = aplt.Array2DPlotter(array=data, mat_plot_2d=mat_plot)\n",
        "array_plotter.figure_2d()"
      ],
      "outputs": [],
      "execution_count": null
    },
    {
      "cell_type": "markdown",
      "metadata": {},
      "source": [
        "Finish."
      ]
    },
    {
      "cell_type": "code",
      "metadata": {},
      "source": [],
      "outputs": [],
      "execution_count": null
    }
  ],
  "metadata": {
    "anaconda-cloud": {},
    "kernelspec": {
      "display_name": "Python 3",
      "language": "python",
      "name": "python3"
    },
    "language_info": {
      "codemirror_mode": {
        "name": "ipython",
        "version": 3
      },
      "file_extension": ".py",
      "mimetype": "text/x-python",
      "name": "python",
      "nbconvert_exporter": "python",
      "pygments_lexer": "ipython3",
      "version": "3.6.1"
    }
  },
  "nbformat": 4,
  "nbformat_minor": 4
}