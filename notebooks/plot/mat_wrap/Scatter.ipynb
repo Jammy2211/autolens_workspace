{
  "cells": [
    {
      "cell_type": "markdown",
      "metadata": {},
      "source": [
        "Plots: Scatter\n",
        "==============\n",
        "\n",
        "This example illustrates how to plot and customize (y,x) grids of coordinates in PyAutoLens figures and subplots.\n",
        "\n",
        "__Start Here Notebook__\n",
        "\n",
        "If any code in this script is unclear, refer to the `plot/start_here.ipynb` notebook."
      ]
    },
    {
      "cell_type": "code",
      "metadata": {},
      "source": [
        "%matplotlib inline\n",
        "from pyprojroot import here\n",
        "workspace_path = str(here())\n",
        "%cd $workspace_path\n",
        "print(f\"Working Directory has been set to `{workspace_path}`\")\n",
        "\n",
        "from os import path\n",
        "import autolens as al\n",
        "import autolens.plot as aplt"
      ],
      "outputs": [],
      "execution_count": null
    },
    {
      "cell_type": "markdown",
      "metadata": {},
      "source": [
        "First, lets load an example Hubble Space Telescope image of a real strong lens as an `Array2D`."
      ]
    },
    {
      "cell_type": "code",
      "metadata": {},
      "source": [
        "dataset_path = path.join(\"dataset\", \"slacs\", \"slacs1430+4105\")\n",
        "data_path = path.join(dataset_path, \"data.fits\")\n",
        "data = al.Array2D.from_fits(file_path=data_path, hdu=0, pixel_scales=0.03)"
      ],
      "outputs": [],
      "execution_count": null
    },
    {
      "cell_type": "markdown",
      "metadata": {},
      "source": [
        "The appearance of a (y,x) `Grid2D` of coordinates is customized using `Scatter` objects. To illustrate this, we will \n",
        "customize the appearance of the (y,x) origin on a figure using an `OriginScatter` object.\n",
        "\n",
        "To plot a (y,x) grids of coordinates (like an origin) these objects wrap the following matplotlib method:\n",
        "\n",
        " https://matplotlib.org/3.2.2/api/_as_gen/matplotlib.pyplot.scatter.html"
      ]
    },
    {
      "cell_type": "code",
      "metadata": {},
      "source": [
        "origin_scatter = aplt.OriginScatter(marker=\"o\", s=50)\n",
        "\n",
        "mat_plot = aplt.MatPlot2D(origin_scatter=origin_scatter)\n",
        "\n",
        "array_plotter = aplt.Array2DPlotter(\n",
        "    array=data, include_2d=aplt.Include2D(origin=True), mat_plot_2d=mat_plot\n",
        ")\n",
        "array_plotter.figure_2d()"
      ],
      "outputs": [],
      "execution_count": null
    },
    {
      "cell_type": "markdown",
      "metadata": {},
      "source": [
        "There are numerous (y,x) grids of coordinates that PyAutoLens plots. For example, in addition to the origin,\n",
        "there are grids like the multiple images of a strong lens, a source-plane grid of traced coordinates, etc.\n",
        "\n",
        "All of these grids are plotted using a `Scatter` object and they are described in more detail in the \n",
        "`plot/include_2d` example scripts. "
      ]
    },
    {
      "cell_type": "code",
      "metadata": {},
      "source": [],
      "outputs": [],
      "execution_count": null
    }
  ],
  "metadata": {
    "anaconda-cloud": {},
    "kernelspec": {
      "display_name": "Python 3",
      "language": "python",
      "name": "python3"
    },
    "language_info": {
      "codemirror_mode": {
        "name": "ipython",
        "version": 3
      },
      "file_extension": ".py",
      "mimetype": "text/x-python",
      "name": "python",
      "nbconvert_exporter": "python",
      "pygments_lexer": "ipython3",
      "version": "3.6.1"
    }
  },
  "nbformat": 4,
  "nbformat_minor": 4
}