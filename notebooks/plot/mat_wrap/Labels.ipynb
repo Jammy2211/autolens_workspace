{
  "cells": [
    {
      "cell_type": "markdown",
      "metadata": {},
      "source": [
        "Plots: Labels\n",
        "=============\n",
        "\n",
        "This example illustrates how to customize the Labels of a figure or subplot displayed in PyAutoLens.\n",
        "\n",
        "__Start Here Notebook__\n",
        "\n",
        "If any code in this script is unclear, refer to the `plot/start_here.ipynb` notebook."
      ]
    },
    {
      "cell_type": "code",
      "metadata": {},
      "source": [
        "%matplotlib inline\n",
        "from pyprojroot import here\n",
        "workspace_path = str(here())\n",
        "%cd $workspace_path\n",
        "print(f\"Working Directory has been set to `{workspace_path}`\")\n",
        "\n",
        "from os import path\n",
        "import autolens as al\n",
        "import autolens.plot as aplt"
      ],
      "outputs": [],
      "execution_count": null
    },
    {
      "cell_type": "markdown",
      "metadata": {},
      "source": [
        "First, lets load an example Hubble Space Telescope image of a real strong lens as an `Array2D`."
      ]
    },
    {
      "cell_type": "code",
      "metadata": {},
      "source": [
        "dataset_path = path.join(\"dataset\", \"slacs\", \"slacs1430+4105\")\n",
        "data_path = path.join(dataset_path, \"data.fits\")\n",
        "data = al.Array2D.from_fits(file_path=data_path, hdu=0, pixel_scales=0.03)"
      ],
      "outputs": [],
      "execution_count": null
    },
    {
      "cell_type": "markdown",
      "metadata": {},
      "source": [
        "We can customize the ticks using the `YTicks` and `XTicks matplotlib wrapper object which wraps the following method(s):\n",
        "\n",
        " https://matplotlib.org/3.3.2/api/_as_gen/matplotlib.pyplot.title.html\n",
        " https://matplotlib.org/3.3.2/api/_as_gen/matplotlib.pyplot.ylabel.html\n",
        " https://matplotlib.org/3.3.2/api/_as_gen/matplotlib.pyplot.xlabel.html\n",
        "\n",
        "We can manually specify the label of the title, ylabel and xlabel."
      ]
    },
    {
      "cell_type": "code",
      "metadata": {},
      "source": [
        "title = aplt.Title(label=\"This is the title\", color=\"r\", fontsize=20)\n",
        "\n",
        "ylabel = aplt.YLabel(ylabel=\"Label of Y\", color=\"b\", fontsize=5, position=(0.2, 0.5))\n",
        "\n",
        "xlabel = aplt.XLabel(xlabel=\"Label of X\", color=\"g\", fontsize=10)\n",
        "\n",
        "mat_plot = aplt.MatPlot2D(title=title, ylabel=ylabel, xlabel=xlabel)\n",
        "\n",
        "array_plotter = aplt.Array2DPlotter(array=data, mat_plot_2d=mat_plot)\n",
        "array_plotter.figure_2d()"
      ],
      "outputs": [],
      "execution_count": null
    },
    {
      "cell_type": "markdown",
      "metadata": {},
      "source": [
        "If we do not manually specify a label, the name of the function used to plot the image will be used as the title \n",
        "and the units of the image will be used for the ylabel and xlabel."
      ]
    },
    {
      "cell_type": "code",
      "metadata": {},
      "source": [
        "title = aplt.Title()\n",
        "ylabel = aplt.YLabel()\n",
        "xlabel = aplt.XLabel()\n",
        "\n",
        "mat_plot = aplt.MatPlot2D(title=title, ylabel=ylabel, xlabel=xlabel)\n",
        "\n",
        "array_plotter = aplt.Array2DPlotter(array=data, mat_plot_2d=mat_plot)\n",
        "array_plotter.figure_2d()"
      ],
      "outputs": [],
      "execution_count": null
    },
    {
      "cell_type": "markdown",
      "metadata": {},
      "source": [
        "The units can be manually specified."
      ]
    },
    {
      "cell_type": "code",
      "metadata": {},
      "source": [
        "mat_plot = aplt.MatPlot2D(units=aplt.Units(in_kpc=True, ticks_convert_factor=5.0))\n",
        "\n",
        "array_plotter = aplt.Array2DPlotter(array=data, mat_plot_2d=mat_plot)\n",
        "array_plotter.figure_2d()"
      ],
      "outputs": [],
      "execution_count": null
    },
    {
      "cell_type": "markdown",
      "metadata": {},
      "source": [
        "Finish."
      ]
    },
    {
      "cell_type": "code",
      "metadata": {},
      "source": [],
      "outputs": [],
      "execution_count": null
    }
  ],
  "metadata": {
    "anaconda-cloud": {},
    "kernelspec": {
      "display_name": "Python 3",
      "language": "python",
      "name": "python3"
    },
    "language_info": {
      "codemirror_mode": {
        "name": "ipython",
        "version": 3
      },
      "file_extension": ".py",
      "mimetype": "text/x-python",
      "name": "python",
      "nbconvert_exporter": "python",
      "pygments_lexer": "ipython3",
      "version": "3.6.1"
    }
  },
  "nbformat": 4,
  "nbformat_minor": 4
}