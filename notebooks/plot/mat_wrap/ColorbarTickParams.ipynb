{
  "cells": [
    {
      "cell_type": "markdown",
      "metadata": {},
      "source": [
        "Plots: ColorbarTickParams\n",
        "=========================\n",
        "\n",
        "This example illustrates how to customize the ticks on a Colorbar in PyAutoLens figures and subplots.\n",
        "\n",
        "__Start Here Notebook__\n",
        "\n",
        "If any code in this script is unclear, refer to the `plot/start_here.ipynb` notebook."
      ]
    },
    {
      "cell_type": "code",
      "metadata": {},
      "source": [
        "%matplotlib inline\n",
        "from pyprojroot import here\n",
        "workspace_path = str(here())\n",
        "%cd $workspace_path\n",
        "print(f\"Working Directory has been set to `{workspace_path}`\")\n",
        "\n",
        "from os import path\n",
        "import autolens as al\n",
        "import autolens.plot as aplt"
      ],
      "outputs": [],
      "execution_count": null
    },
    {
      "cell_type": "markdown",
      "metadata": {},
      "source": [
        "First, lets load an example Hubble Space Telescope image of a real strong lens as an `Array2D`."
      ]
    },
    {
      "cell_type": "code",
      "metadata": {},
      "source": [
        "dataset_path = path.join(\"dataset\", \"slacs\", \"slacs1430+4105\")\n",
        "data_path = path.join(dataset_path, \"data.fits\")\n",
        "data = al.Array2D.from_fits(file_path=data_path, hdu=0, pixel_scales=0.03)"
      ],
      "outputs": [],
      "execution_count": null
    },
    {
      "cell_type": "markdown",
      "metadata": {},
      "source": [
        "We can customize the colorbar ticks using the `ColorbarTickParams` matplotlib wrapper object which wraps the \n",
        "following method of the matplotlib colorbar:\n",
        "\n",
        " https://matplotlib.org/3.1.1/api/_as_gen/matplotlib.axes.Axes.tick_params.html"
      ]
    },
    {
      "cell_type": "code",
      "metadata": {},
      "source": [
        "colorbar_tickparams = aplt.ColorbarTickParams(\n",
        "    axis=\"both\",\n",
        "    reset=False,\n",
        "    which=\"major\",\n",
        "    direction=\"in\",\n",
        "    length=2,\n",
        "    width=2,\n",
        "    color=\"r\",\n",
        "    pad=0.1,\n",
        "    labelsize=10,\n",
        "    labelcolor=\"r\",\n",
        ")\n",
        "\n",
        "mat_plot = aplt.MatPlot2D(colorbar_tickparams=colorbar_tickparams)\n",
        "\n",
        "array_plotter = aplt.Array2DPlotter(array=data, mat_plot_2d=mat_plot)\n",
        "array_plotter.figure_2d()"
      ],
      "outputs": [],
      "execution_count": null
    },
    {
      "cell_type": "markdown",
      "metadata": {},
      "source": [
        "The colorbar tick parameters can be removed altogether with the following:"
      ]
    },
    {
      "cell_type": "code",
      "metadata": {},
      "source": [
        "colorbar_tickparams = aplt.ColorbarTickParams(\n",
        "    bottom=False, top=False, left=False, right=False\n",
        ")\n",
        "\n",
        "mat_plot = aplt.MatPlot2D(colorbar_tickparams=colorbar_tickparams)\n",
        "\n",
        "array_plotter = aplt.Array2DPlotter(array=data, mat_plot_2d=mat_plot)\n",
        "array_plotter.figure_2d()"
      ],
      "outputs": [],
      "execution_count": null
    },
    {
      "cell_type": "markdown",
      "metadata": {},
      "source": [
        "Finish."
      ]
    },
    {
      "cell_type": "code",
      "metadata": {},
      "source": [],
      "outputs": [],
      "execution_count": null
    }
  ],
  "metadata": {
    "anaconda-cloud": {},
    "kernelspec": {
      "display_name": "Python 3",
      "language": "python",
      "name": "python3"
    },
    "language_info": {
      "codemirror_mode": {
        "name": "ipython",
        "version": 3
      },
      "file_extension": ".py",
      "mimetype": "text/x-python",
      "name": "python",
      "nbconvert_exporter": "python",
      "pygments_lexer": "ipython3",
      "version": "3.6.1"
    }
  },
  "nbformat": 4,
  "nbformat_minor": 4
}