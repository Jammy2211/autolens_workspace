{
  "cells": [
    {
      "cell_type": "markdown",
      "metadata": {},
      "source": [
        "Plots: MultiFigurePlotter\n",
        "=========================\n",
        "\n",
        "This example illustrates how to plot figures from different plotters on the same subplot, assuming that the same\n",
        "type of `Plotter` and figure is being plotted.\n",
        "\n",
        "An example of when to use this plotter would be when two different datasets (e.g. at different wavelengths) are loaded\n",
        "and visualized, and the images of each dataset are plotted on the same subplot side-by-side. This is the example we\n",
        "will use in this example script.\n",
        "\n",
        "This uses a `MultiFigurePlotter` object, which requires only a list of imaging datasets and `ImagingPlotter` objects\n",
        "to be passed to it. The `MultiFigurePlotter` object then plots the same figure from each `ImagingPlotter` on the same\n",
        "subplot.\n",
        "\n",
        "The script `MultiSubplot.py` illustrates a similar example, but a more general use-case where different figures\n",
        "from different plotters are plotted on the same subplot. This script offers a more concise way of plotting the same\n",
        "figures on the same subplot, but is less general.\n",
        "\n",
        "__Start Here Notebook__\n",
        "\n",
        "If any code in this script is unclear, refer to the `plot/start_here.ipynb` notebook."
      ]
    },
    {
      "cell_type": "code",
      "metadata": {},
      "source": [
        "%matplotlib inline\n",
        "from pyprojroot import here\n",
        "workspace_path = str(here())\n",
        "%cd $workspace_path\n",
        "print(f\"Working Directory has been set to `{workspace_path}`\")\n",
        "\n",
        "from os import path\n",
        "import autolens as al\n",
        "import autolens.plot as aplt"
      ],
      "outputs": [],
      "execution_count": null
    },
    {
      "cell_type": "markdown",
      "metadata": {},
      "source": [
        "__Dataset__\n",
        "\n",
        "Load the multi-wavelength `lens_sersic` datasets, which we visualize in this example script."
      ]
    },
    {
      "cell_type": "code",
      "metadata": {},
      "source": [
        "color_list = [\"g\", \"r\"]\n",
        "\n",
        "pixel_scales_list = [0.08, 0.12]\n",
        "\n",
        "dataset_type = \"multi\"\n",
        "dataset_label = \"imaging\"\n",
        "dataset_name = \"lens_sersic\"\n",
        "\n",
        "dataset_path = path.join(\"dataset\", dataset_type, dataset_label, dataset_name)\n",
        "\n",
        "dataset_list = [\n",
        "    al.Imaging.from_fits(\n",
        "        data_path=path.join(dataset_path, f\"{color}_data.fits\"),\n",
        "        psf_path=path.join(dataset_path, f\"{color}_psf.fits\"),\n",
        "        noise_map_path=path.join(dataset_path, f\"{color}_noise_map.fits\"),\n",
        "        pixel_scales=pixel_scales,\n",
        "    )\n",
        "    for color, pixel_scales in zip(color_list, pixel_scales_list)\n",
        "]"
      ],
      "outputs": [],
      "execution_count": null
    },
    {
      "cell_type": "markdown",
      "metadata": {},
      "source": [
        "__Plot__\n",
        "\n",
        "Plot the subhplot of each `Imaging` dataset individually using an `ImagingPlotter` object."
      ]
    },
    {
      "cell_type": "code",
      "metadata": {},
      "source": [
        "for dataset in dataset_list:\n",
        "    dataset_plotter = aplt.ImagingPlotter(dataset=dataset)\n",
        "    dataset_plotter.subplot_dataset()"
      ],
      "outputs": [],
      "execution_count": null
    },
    {
      "cell_type": "markdown",
      "metadata": {},
      "source": [
        "__Multi Plot__\n",
        "\n",
        "We now pass the list of `ImagingPlotter` objects to a `MultiFigurePlotter` object, which we use to plot the \n",
        "image of each dataset on the same subplot.\n",
        "\n",
        "The `MultiFigurePlotter` object uses the `subplot_of_figure` method to plot the same figure from each `ImagingPlotter`,\n",
        "with the inputs:\n",
        "\n",
        " - `func_name`: The name of the function used to plot the figure in the `ImagingPlotter` (e.g. `figures_2d`).\n",
        " - `figure_name`: The name of the figure plotted by the function (e.g. `image`)."
      ]
    },
    {
      "cell_type": "code",
      "metadata": {},
      "source": [
        "imaging_plotter_list = [\n",
        "    aplt.ImagingPlotter(dataset=dataset) for dataset in dataset_list\n",
        "]\n",
        "\n",
        "multi_figure_plotter = aplt.MultiFigurePlotter(plotter_list=imaging_plotter_list)\n",
        "\n",
        "multi_figure_plotter.subplot_of_figure(func_name=\"figures_2d\", figure_name=\"data\")"
      ],
      "outputs": [],
      "execution_count": null
    },
    {
      "cell_type": "markdown",
      "metadata": {},
      "source": [
        "__Wrap Up__\n",
        "\n",
        "In the simple example above, we used a `MultiFigurePlotter` to plot the same figure from each `ImagingPlotter` on\n",
        "the same `matplotlib` subplot. \n",
        "\n",
        "This can be used for any figure plotted by any `Plotter` object, as long as the figure is plotted using the same\n",
        "function name and figure name."
      ]
    },
    {
      "cell_type": "code",
      "metadata": {},
      "source": [],
      "outputs": [],
      "execution_count": null
    }
  ],
  "metadata": {
    "anaconda-cloud": {},
    "kernelspec": {
      "display_name": "Python 3",
      "language": "python",
      "name": "python3"
    },
    "language_info": {
      "codemirror_mode": {
        "name": "ipython",
        "version": 3
      },
      "file_extension": ".py",
      "mimetype": "text/x-python",
      "name": "python",
      "nbconvert_exporter": "python",
      "pygments_lexer": "ipython3",
      "version": "3.6.1"
    }
  },
  "nbformat": 4,
  "nbformat_minor": 4
}