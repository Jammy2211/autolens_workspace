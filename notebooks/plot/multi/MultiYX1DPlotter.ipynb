{
  "cells": [
    {
      "cell_type": "markdown",
      "metadata": {},
      "source": [
        "Plots: MultiYX1DPlotter\n",
        "=========================\n",
        "\n",
        "This example illustrates how to plot multi 1D figure lines on the same plot.\n",
        "\n",
        "It uses the specific example of plotting a `MassProfile`'s 1D convergence using multiple `MassProfilePlotter`'s.\n",
        "\n",
        "__Start Here Notebook__\n",
        "\n",
        "If any code in this script is unclear, refer to the `plot/start_here.ipynb` notebook."
      ]
    },
    {
      "cell_type": "code",
      "metadata": {},
      "source": [
        "%matplotlib inline\n",
        "from pyprojroot import here\n",
        "workspace_path = str(here())\n",
        "%cd $workspace_path\n",
        "print(f\"Working Directory has been set to `{workspace_path}`\")\n",
        "\n",
        "import autolens as al\n",
        "import autolens.plot as aplt"
      ],
      "outputs": [],
      "execution_count": null
    },
    {
      "cell_type": "markdown",
      "metadata": {},
      "source": [
        "First, lets create two simple `MassProfile`'s which we'll plot the 1D convergences of on the same figure."
      ]
    },
    {
      "cell_type": "code",
      "metadata": {},
      "source": [
        "mass_0 = al.mp.Isothermal(\n",
        "    centre=(0.0, 0.0),\n",
        "    einstein_radius=1.0,\n",
        "    ell_comps=al.convert.ell_comps_from(axis_ratio=0.7, angle=45.0),\n",
        ")\n",
        "\n",
        "mass_1 = al.mp.PowerLaw(\n",
        "    centre=(0.0, 0.0),\n",
        "    einstein_radius=1.0,\n",
        "    ell_comps=al.convert.ell_comps_from(axis_ratio=0.7, angle=45.0),\n",
        "    slope=2.1,\n",
        ")"
      ],
      "outputs": [],
      "execution_count": null
    },
    {
      "cell_type": "markdown",
      "metadata": {},
      "source": [
        "We also need the 2D grid the `MassProfile`'s are evaluated on."
      ]
    },
    {
      "cell_type": "code",
      "metadata": {},
      "source": [
        "grid = al.Grid2D.uniform(shape_native=(100, 100), pixel_scales=0.05)"
      ],
      "outputs": [],
      "execution_count": null
    },
    {
      "cell_type": "markdown",
      "metadata": {},
      "source": [
        "We now pass the mass profiles and grid to a `MassProfilePlotter` and create a `MultiYX1DPlotter` which will be\n",
        "used to plot both of their convergences in 1D on the same figure."
      ]
    },
    {
      "cell_type": "code",
      "metadata": {},
      "source": [
        "mat_plot = aplt.MatPlot1D(yx_plot=aplt.YXPlot(plot_axis_type=\"semilogy\"))\n",
        "\n",
        "mass_profile_plotter_0 = aplt.MassProfilePlotter(\n",
        "    mass_profile=mass_0, grid=grid, mat_plot_1d=mat_plot\n",
        ")\n",
        "mass_profile_plotter_1 = aplt.MassProfilePlotter(\n",
        "    mass_profile=mass_1, grid=grid, mat_plot_1d=mat_plot\n",
        ")"
      ],
      "outputs": [],
      "execution_count": null
    },
    {
      "cell_type": "markdown",
      "metadata": {},
      "source": [
        "We use these plotters to create a `MultiYX1DPlotter` which plot both of their convergences in 1D on the same figure."
      ]
    },
    {
      "cell_type": "code",
      "metadata": {},
      "source": [
        "multi_plotter = aplt.MultiYX1DPlotter(\n",
        "    plotter_list=[mass_profile_plotter_0, mass_profile_plotter_1]\n",
        ")"
      ],
      "outputs": [],
      "execution_count": null
    },
    {
      "cell_type": "markdown",
      "metadata": {},
      "source": [
        "We now use the multi plotter to plot the convergences, where:\n",
        "\n",
        " - `func_name`: he name of the `MassProfilePlotter` function we call, in this case `figures_1d`.\n",
        " - `figure_name`: the name of the function's boolean input we set to True such that it plots, in this case `convergence`.\n",
        " \n",
        "The input therefore corresponds to us writing `mass_profile_plotter.figures_1d(convergence=True)` for each plotter."
      ]
    },
    {
      "cell_type": "code",
      "metadata": {},
      "source": [
        "multi_plotter.figure_1d(func_name=\"figures_1d\", figure_name=\"convergence\")\n"
      ],
      "outputs": [],
      "execution_count": null
    }
  ],
  "metadata": {
    "anaconda-cloud": {},
    "kernelspec": {
      "display_name": "Python 3",
      "language": "python",
      "name": "python3"
    },
    "language_info": {
      "codemirror_mode": {
        "name": "ipython",
        "version": 3
      },
      "file_extension": ".py",
      "mimetype": "text/x-python",
      "name": "python",
      "nbconvert_exporter": "python",
      "pygments_lexer": "ipython3",
      "version": "3.6.1"
    }
  },
  "nbformat": 4,
  "nbformat_minor": 4
}