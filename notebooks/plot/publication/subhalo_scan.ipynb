{
  "cells": [
    {
      "cell_type": "markdown",
      "metadata": {},
      "source": [
        "Plots: Publication Subhalo Scan\n",
        "===============================\n",
        "\n",
        "Scientific papers have specific requirements on producing plots and figures so that they look good in the paper.\n",
        "This includes large labels, clear axis ticks and minimizing white space.\n",
        "\n",
        "This example illustrates how to plot an image-plane image (e.g. the observed data of a strong lens, or the\n",
        "image-plane model-image of a fit) with a subhalo scanning map overlaid, which gives the increase in Bayesian\n",
        "evidence of every model including a subhalo.\n",
        "\n",
        "We will not perform a model-fit to set up the evidence values and instead simply asssume an input set of values\n",
        "for efficiency.\n",
        "\n",
        "__Start Here Notebook__\n",
        "\n",
        "If any code in this script is unclear, refer to the `plot/start_here.ipynb` notebook."
      ]
    },
    {
      "cell_type": "code",
      "metadata": {},
      "source": [
        "%matplotlib inline\n",
        "from pyprojroot import here\n",
        "workspace_path = str(here())\n",
        "%cd $workspace_path\n",
        "print(f\"Working Directory has been set to `{workspace_path}`\")\n",
        "\n",
        "import numpy as np\n",
        "from os import path\n",
        "import autolens as al\n",
        "import autolens.plot as aplt"
      ],
      "outputs": [],
      "execution_count": null
    },
    {
      "cell_type": "markdown",
      "metadata": {},
      "source": [
        "__Dataset__\n",
        "\n",
        "First, lets load example imaging of of a strong lens as an `Imaging` object."
      ]
    },
    {
      "cell_type": "code",
      "metadata": {},
      "source": [
        "dataset_name = \"simple__no_lens_light\"\n",
        "dataset_path = path.join(\"dataset\", \"imaging\", dataset_name)\n",
        "\n",
        "dataset = al.Imaging.from_fits(\n",
        "    data_path=path.join(dataset_path, \"data.fits\"),\n",
        "    psf_path=path.join(dataset_path, \"psf.fits\"),\n",
        "    noise_map_path=path.join(dataset_path, \"noise_map.fits\"),\n",
        "    pixel_scales=0.1,\n",
        ")\n",
        "\n",
        "mask = al.Mask2D.circular(\n",
        "    radius=3.0, shape_native=dataset.shape_native, pixel_scales=dataset.pixel_scales\n",
        ")\n",
        "\n",
        "dataset = dataset.apply_mask(mask=mask)"
      ],
      "outputs": [],
      "execution_count": null
    },
    {
      "cell_type": "markdown",
      "metadata": {},
      "source": [
        "We first set up all the publication settings described in `autolens_workspace/scripts/plot/publication/image.py`\n",
        "which make image-plane images look publication quality.\n",
        "\n",
        "Checkout that example for an explanation of why we use these settings."
      ]
    },
    {
      "cell_type": "code",
      "metadata": {},
      "source": [
        "mat_plot_image = aplt.MatPlot2D(\n",
        "    title=aplt.Title(label=f\"Subhalo Scanning Publication Plot\", fontsize=24),\n",
        "    yticks=aplt.YTicks(\n",
        "        fontsize=22,\n",
        "        manual_suffix='\"',\n",
        "        manual_values=[-2.5, 0.0, 2.5],\n",
        "        rotation=\"vertical\",\n",
        "        va=\"center\",\n",
        "    ),\n",
        "    xticks=aplt.XTicks(fontsize=22, manual_suffix='\"', manual_values=[-2.5, 0.0, 2.5]),\n",
        "    ylabel=aplt.YLabel(ylabel=\"\"),\n",
        "    xlabel=aplt.XLabel(xlabel=\"\"),\n",
        "    colorbar=aplt.Colorbar(\n",
        "        manual_tick_values=[0.0, 0.3, 0.6], manual_tick_labels=[0.0, 0.3, 0.6]\n",
        "    ),\n",
        "    colorbar_tickparams=aplt.ColorbarTickParams(labelsize=22, labelrotation=90),\n",
        ")"
      ],
      "outputs": [],
      "execution_count": null
    },
    {
      "cell_type": "markdown",
      "metadata": {},
      "source": [
        "We now plot the image without the subhalo scanning map, to remind ourselves what it looks like."
      ]
    },
    {
      "cell_type": "code",
      "metadata": {},
      "source": [
        "dataset_plotter = aplt.ImagingPlotter(dataset=dataset, mat_plot_2d=mat_plot_image)\n",
        "dataset_plotter.figures_2d(\n",
        "    data=True,\n",
        ")"
      ],
      "outputs": [],
      "execution_count": null
    },
    {
      "cell_type": "markdown",
      "metadata": {},
      "source": [
        "__Subhalo Scanning Overlay__\n",
        "\n",
        "To plot a subhalo scan, we overlay an `Array2D` of values where each value is the increase in log Bayesian evidence\n",
        "of the subhalo model compared to model without it.\n",
        "\n",
        "The tutorial `autolens_workspace/results/advanced/result_subhalo_grid.py` shows how to compute this quantity via\n",
        "a full model-fit.\n",
        "\n",
        "In this example, we will simply manually define a 5 x 5 grid of values which we will plot."
      ]
    },
    {
      "cell_type": "code",
      "metadata": {},
      "source": [
        "evidence_array = al.Array2D.no_mask(\n",
        "    values=[\n",
        "        [-1.0, -1.0, 1.0, 2.0, 0.0],\n",
        "        [0.0, 1.0, 2.0, 3.0, 2.0],\n",
        "        [0.0, 3.0, 5.0, 20.0, 8.0],\n",
        "        [0.0, 1.0, 1.0, 15.0, 5.0],\n",
        "        [0.0, 1.0, 1.0, 0.0, 0.0],\n",
        "    ],\n",
        "    pixel_scales=1.0,\n",
        ")\n",
        "\n",
        "evidence_max = np.max(evidence_array)\n",
        "evidence_half = evidence_max / 2.0\n",
        "\n",
        "visuals = aplt.Visuals2D(array_overlay=evidence_array)\n",
        "include = aplt.Include2D(border=False)\n",
        "\n",
        "mat_plot = (\n",
        "    aplt.MatPlot2D(\n",
        "        array_overlay=aplt.ArrayOverlay(\n",
        "            cmap=\"RdYlGn\", alpha=0.6, vmin=0.0, vmax=evidence_max\n",
        "        ),\n",
        "        colorbar=aplt.Colorbar(\n",
        "            manual_tick_values=[0.0, evidence_half, evidence_max],\n",
        "            manual_tick_labels=[\n",
        "                0.0,\n",
        "                np.round(evidence_half, 1),\n",
        "                np.round(evidence_max, 1),\n",
        "            ],\n",
        "        ),\n",
        "    )\n",
        "    + mat_plot_image\n",
        ")"
      ],
      "outputs": [],
      "execution_count": null
    },
    {
      "cell_type": "markdown",
      "metadata": {},
      "source": [
        "Before discussing the figure, lets look at the plot:"
      ]
    },
    {
      "cell_type": "code",
      "metadata": {},
      "source": [
        "dataset_plotter = aplt.ImagingPlotter(\n",
        "    dataset=dataset,\n",
        "    mat_plot_2d=mat_plot,\n",
        "    visuals_2d=visuals,\n",
        "    include_2d=include,\n",
        ")\n",
        "dataset_plotter.figures_2d(\n",
        "    data=True,\n",
        ")"
      ],
      "outputs": [],
      "execution_count": null
    },
    {
      "cell_type": "markdown",
      "metadata": {},
      "source": [
        "Now lets justify the choice of settings we used above:\n",
        "\n",
        " - `cmap=\"cool\"`: in order to ensure low evidence values (e.g. the zeros) and high evidence values are visible clear\n",
        "   we require a colormap which is distinct from the colormap of the image. The colormap cool achieves this, as the \n",
        "   light blue is a distinct background from the dark blue and pink detection distinct from the data colormap.\n",
        "   \n",
        " - `alpha=0.6`: we want the background image to be visible, so that we can compare it to the subhalo scanning map.\n",
        "   The alpha parameter makes the subhalo scanning map appear transluscent, so that we can see both. \n",
        "   \n",
        " - `vmin / vmax / colorbar`: These properties are customized so that the colorbar runs from zero to the maximum\n",
        "   Bayesian evidence, making it easy to see the subhalo scanning map values."
      ]
    },
    {
      "cell_type": "code",
      "metadata": {},
      "source": [],
      "outputs": [],
      "execution_count": null
    }
  ],
  "metadata": {
    "anaconda-cloud": {},
    "kernelspec": {
      "display_name": "Python 3",
      "language": "python",
      "name": "python3"
    },
    "language_info": {
      "codemirror_mode": {
        "name": "ipython",
        "version": 3
      },
      "file_extension": ".py",
      "mimetype": "text/x-python",
      "name": "python",
      "nbconvert_exporter": "python",
      "pygments_lexer": "ipython3",
      "version": "3.6.1"
    }
  },
  "nbformat": 4,
  "nbformat_minor": 4
}