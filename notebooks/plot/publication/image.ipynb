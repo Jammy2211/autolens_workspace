{
  "cells": [
    {
      "cell_type": "markdown",
      "metadata": {},
      "source": [
        "Plots: Publication Image\n",
        "========================\n",
        "\n",
        "Scientific papers have specific requirements on producing plots and figures so that they look good in the paper.\n",
        "This includes large labels, clear axis ticks and minimizing white space.\n",
        "\n",
        "This example illustrates how to plot an image-plane image (e.g. the observed data of a strong lens, or the\n",
        "image-plane model-image of a fit) with `Plotter` settings that are suitable for a paper.\n",
        "\n",
        "Note that all of these settings are defaults in PyAutoLens, so you do not need to use them specifically in order\n",
        "to make paper-quality plots. However, they are described here such that you can customize them for your own plots\n",
        "if you so wish!\n",
        "\n",
        "__Start Here Notebook__\n",
        "\n",
        "If any code in this script is unclear, refer to the `plot/start_here.ipynb` notebook."
      ]
    },
    {
      "cell_type": "code",
      "metadata": {},
      "source": [
        "%matplotlib inline\n",
        "from pyprojroot import here\n",
        "workspace_path = str(here())\n",
        "%cd $workspace_path\n",
        "print(f\"Working Directory has been set to `{workspace_path}`\")\n",
        "\n",
        "from os import path\n",
        "import autolens as al\n",
        "import autolens.plot as aplt"
      ],
      "outputs": [],
      "execution_count": null
    },
    {
      "cell_type": "markdown",
      "metadata": {},
      "source": [
        "__Dataset__\n",
        "\n",
        "First, lets load example imaging of of a strong lens as an `Imaging` object."
      ]
    },
    {
      "cell_type": "code",
      "metadata": {},
      "source": [
        "dataset_name = \"simple__no_lens_light\"\n",
        "dataset_path = path.join(\"dataset\", \"imaging\", dataset_name)\n",
        "\n",
        "dataset = al.Imaging.from_fits(\n",
        "    data_path=path.join(dataset_path, \"data.fits\"),\n",
        "    psf_path=path.join(dataset_path, \"psf.fits\"),\n",
        "    noise_map_path=path.join(dataset_path, \"noise_map.fits\"),\n",
        "    pixel_scales=0.1,\n",
        ")\n",
        "\n",
        "mask = al.Mask2D.circular(\n",
        "    radius=3.0, shape_native=dataset.shape_native, pixel_scales=dataset.pixel_scales\n",
        ")\n",
        "\n",
        "dataset = dataset.apply_mask(mask=mask)"
      ],
      "outputs": [],
      "execution_count": null
    },
    {
      "cell_type": "markdown",
      "metadata": {},
      "source": [
        "We now pass the imaging to an `ImagingPlotter` and plot its `image`, to show what a default image looks like\n",
        "before we make changes that make it more suitable for publication.\n",
        "\n",
        "(The default settings of PyAutoLens visualization have been updated to be more suitable for publication, so\n",
        "the example below actually fixes many of the issues described below. I have simply not updated the example\n",
        "to reflect this)."
      ]
    },
    {
      "cell_type": "code",
      "metadata": {},
      "source": [
        "dataset_plotter = aplt.ImagingPlotter(dataset=dataset)\n",
        "dataset_plotter.figures_2d(\n",
        "    data=True,\n",
        ")"
      ],
      "outputs": [],
      "execution_count": null
    },
    {
      "cell_type": "markdown",
      "metadata": {},
      "source": [
        "__Y,X Label / Ticks and Title__\n",
        "\n",
        "The y / x labels and ticks, and the title, are not ideal for a paper figure:\n",
        " \n",
        " - The fontsize of the title and ticks are small and may be difficult to read in a paper.\n",
        " - The title \"Image\" is not descriptive.\n",
        " - The labels take up a lot of whitespace, requiring the labels \"y (arcsec)\" and \"x (arcsec\") next to the ticks. \n",
        " - The ticks go from -3.1 to 3.1, which is an unround number.\n",
        " - The y ticks require extra whitespace because they are written horizontally.\n",
        " - The numerical tick values at the bottom-left of the figure (the -3.1 ticks for y and x) may overlap with one\n",
        "   another if the fontsize is increased.\n",
        "   \n",
        "We address all of the issues below, lets take a look at the figure before discussing the changes."
      ]
    },
    {
      "cell_type": "code",
      "metadata": {},
      "source": [
        "mat_plot_ticks = aplt.MatPlot2D(\n",
        "    title=aplt.Title(label=f\"Image Illustrating Publication Plot\", fontsize=24),\n",
        "    yticks=aplt.YTicks(\n",
        "        fontsize=22,\n",
        "        manual_suffix='\"',\n",
        "        manual_values=[-2.5, 0.0, 2.5],\n",
        "        rotation=\"vertical\",\n",
        "        va=\"center\",\n",
        "    ),\n",
        "    xticks=aplt.XTicks(fontsize=22, manual_suffix='\"', manual_values=[-2.5, 0.0, 2.5]),\n",
        "    ylabel=aplt.YLabel(ylabel=\"\"),\n",
        "    xlabel=aplt.XLabel(xlabel=\"\"),\n",
        ")\n",
        "\n",
        "dataset_plotter = aplt.ImagingPlotter(dataset=dataset, mat_plot_2d=mat_plot_ticks)\n",
        "dataset_plotter.figures_2d(\n",
        "    data=True,\n",
        ")"
      ],
      "outputs": [],
      "execution_count": null
    },
    {
      "cell_type": "markdown",
      "metadata": {},
      "source": [
        "The new figure improves all of the issues above:\n",
        "\n",
        " - The title is larger and more descriptive.\n",
        " - The ticks fontsizes are bigger, ensuring they will be large and readable for the paper.  \n",
        " - The arcseconds units are now a \" symbol next to each tick value, therefore the \"y (arcsec)\" and \"x (arcsec)\" labels \n",
        "   are removed, avoiding unused whitespace.\n",
        " - By specifying the ticks `manual_values=[-2.5, 0.0, 2.5]`, we remove the unround 3.1 and -3.1 values and do not\n",
        "   have two -3.1 values overlapping one another in the bottom left corner.\n",
        " - The y ticks are now vertical, removing unused whitespace.\n",
        "\n",
        "__Colorbar__\n",
        "\n",
        "The colorbar is also not ideal for a paper:\n",
        "\n",
        " - The fontsize of the color tick values are small and may be difficult to read in a paper.\n",
        " - The ticks are horizontal, taking up extra whitespace.\n",
        "\n",
        "We address these issues below, lets take a look at the figure before discussing the changes.\n",
        "\n",
        "NOTE: In order to retain the changes to the title, labels and ticks above, we add the `MatPlot2D` objects together.\n",
        "If you are unfamiliar with this API, checkout the example ? for a discussion, but in brief adding `MatPlot2D` objects\n",
        "together is equivalent to specifying all the inputs in a single `MatPlot2D` object."
      ]
    },
    {
      "cell_type": "code",
      "metadata": {},
      "source": [
        "mat_plot_2d_cb = aplt.MatPlot2D(\n",
        "    colorbar=aplt.Colorbar(\n",
        "        manual_tick_values=[0.0, 0.3, 0.6], manual_tick_labels=[0.0, 0.3, 0.6]\n",
        "    ),\n",
        "    colorbar_tickparams=aplt.ColorbarTickParams(labelsize=22, labelrotation=90),\n",
        ")\n",
        "\n",
        "mat_plot = mat_plot_ticks + mat_plot_2d_cb\n",
        "\n",
        "dataset_plotter = aplt.ImagingPlotter(dataset=dataset, mat_plot_2d=mat_plot)\n",
        "dataset_plotter.figures_2d(\n",
        "    data=True,\n",
        ")"
      ],
      "outputs": [],
      "execution_count": null
    },
    {
      "cell_type": "markdown",
      "metadata": {},
      "source": [
        "The new colorbar improves on the previous one:\n",
        "\n",
        " - The colorbar tick label fontsize is bigger, which will be readable in a paper.\n",
        " - The veritcal tick labels saves on unused whitespace.\n",
        "\n",
        "__Y,X Ticks Alternative__\n",
        "\n",
        "Below, we show a different visualization where the information contained in the Y and X ticks is expressed in a more \n",
        "compressed way, removing white space:"
      ]
    },
    {
      "cell_type": "code",
      "metadata": {},
      "source": [
        "xpos = 2.0\n",
        "ypos = -2.9\n",
        "yposoff = 0.4\n",
        "xposoff = -0.1\n",
        "length = 1.0\n",
        "\n",
        "mat_plot_ticks = aplt.MatPlot2D(\n",
        "    title=aplt.Title(label=f\"Image Illustrating Publication Plot\", fontsize=24),\n",
        "    xticks=aplt.XTicks(manual_values=[]),\n",
        "    yticks=aplt.YTicks(manual_values=[]),\n",
        "    ylabel=aplt.YLabel(ylabel=\"\"),\n",
        "    xlabel=aplt.XLabel(xlabel=\"\"),\n",
        "    text=aplt.Text(s='1.0\"', x=xpos, y=ypos, c=\"w\", fontsize=30),\n",
        "    annotate=aplt.Annotate(\n",
        "        text=\"\",\n",
        "        xy=(xpos + xposoff, ypos + yposoff),\n",
        "        xytext=(xpos + xposoff + length, ypos + yposoff),\n",
        "        arrowprops=dict(arrowstyle=\"-\", color=\"w\"),\n",
        "    ),\n",
        ")\n",
        "\n",
        "mat_plot = mat_plot_ticks + mat_plot_2d_cb\n",
        "\n",
        "dataset_plotter = aplt.ImagingPlotter(dataset=dataset, mat_plot_2d=mat_plot)\n",
        "dataset_plotter.figures_2d(\n",
        "    data=True,\n",
        ")"
      ],
      "outputs": [],
      "execution_count": null
    },
    {
      "cell_type": "markdown",
      "metadata": {},
      "source": [
        "The ticks are completely removed and replaced with a white line in the image, which makes there even less unused \n",
        "white space.\n",
        "\n",
        "This is only possible because the y and x axis had the same scale (e.g. -3.0\" -> 3.0\"). If each axis spanned a \n",
        "different range this information would be lost in this visual.\n",
        "\n",
        "__Output__\n",
        "\n",
        "We output the visual to both .pdf and .png. For a publication, we recommend you use .pdf, as it is a higher quality\n",
        "image format. However, .pngs may be easier to quickly inspect on your computer as they are supported by more visual \n",
        "software packages.\n",
        "\n",
        "We also specify the following inputs:\n",
        "\n",
        " - `format_folder`: Images are output in separate folders based on format called `png` and `pdf`, which can be useful\n",
        "   for file management.\n",
        " - `bbox_inches`: Uses the matplotlib input `plt.savefig(bbox_inches=\"tight\")` to remove edge whitespace before\n",
        "   outputting the file."
      ]
    },
    {
      "cell_type": "code",
      "metadata": {},
      "source": [
        "\n",
        "mat_plot_2d_output = aplt.MatPlot2D(\n",
        "    output=aplt.Output(\n",
        "        filename=f\"image_publication\",\n",
        "        path=path.join(\"scripts\", \"plot\", \"publication\"),\n",
        "        format=[\"png\", \"pdf\"],\n",
        "        format_folder=True,\n",
        "        bbox_inches=\"tight\",\n",
        "    )\n",
        ")\n",
        "\n",
        "mat_plot = mat_plot + mat_plot_2d_output\n",
        "\n",
        "dataset_plotter = aplt.ImagingPlotter(dataset=dataset, mat_plot_2d=mat_plot)\n",
        "dataset_plotter.figures_2d(\n",
        "    data=True,\n",
        ")\n"
      ],
      "outputs": [],
      "execution_count": null
    }
  ],
  "metadata": {
    "anaconda-cloud": {},
    "kernelspec": {
      "display_name": "Python 3",
      "language": "python",
      "name": "python3"
    },
    "language_info": {
      "codemirror_mode": {
        "name": "ipython",
        "version": 3
      },
      "file_extension": ".py",
      "mimetype": "text/x-python",
      "name": "python",
      "nbconvert_exporter": "python",
      "pygments_lexer": "ipython3",
      "version": "3.6.1"
    }
  },
  "nbformat": 4,
  "nbformat_minor": 4
}