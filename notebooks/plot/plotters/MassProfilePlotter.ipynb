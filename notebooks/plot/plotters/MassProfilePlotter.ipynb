{
  "cells": [
    {
      "cell_type": "markdown",
      "metadata": {},
      "source": [
        "Plots: MassProfilePlotter\n",
        "=========================\n",
        "\n",
        "This example illustrates how to plot a `MassProfile` using a `MassProfilePlotter`.\n",
        "\n",
        "__Start Here Notebook__\n",
        "\n",
        "If any code in this script is unclear, refer to the `plot/start_here.ipynb` notebook."
      ]
    },
    {
      "cell_type": "code",
      "metadata": {},
      "source": [
        "%matplotlib inline\n",
        "from pyprojroot import here\n",
        "workspace_path = str(here())\n",
        "%cd $workspace_path\n",
        "print(f\"Working Directory has been set to `{workspace_path}`\")\n",
        "\n",
        "import autolens as al\n",
        "import autolens.plot as aplt"
      ],
      "outputs": [],
      "execution_count": null
    },
    {
      "cell_type": "markdown",
      "metadata": {},
      "source": [
        "__Mass Profile__\n",
        "\n",
        "First, lets create a simple `MassProfile` which we'll plot."
      ]
    },
    {
      "cell_type": "code",
      "metadata": {},
      "source": [
        "mass = al.mp.Isothermal(\n",
        "    centre=(0.0, 0.0),\n",
        "    einstein_radius=1.6,\n",
        "    ell_comps=al.convert.ell_comps_from(axis_ratio=0.7, angle=45.0),\n",
        ")"
      ],
      "outputs": [],
      "execution_count": null
    },
    {
      "cell_type": "markdown",
      "metadata": {},
      "source": [
        "__Grid__\n",
        "\n",
        "We also need the 2D grid the `MassProfile` is evaluated on."
      ]
    },
    {
      "cell_type": "code",
      "metadata": {},
      "source": [
        "grid = al.Grid2D.uniform(shape_native=(100, 100), pixel_scales=0.05)"
      ],
      "outputs": [],
      "execution_count": null
    },
    {
      "cell_type": "markdown",
      "metadata": {},
      "source": [
        "__Figures__\n",
        "\n",
        "We now pass the mass profile and grid to a `MassProfilePlotter` and call various `figure_*` methods to \n",
        "plot different attributes in 1D and 2D."
      ]
    },
    {
      "cell_type": "code",
      "metadata": {},
      "source": [
        "mass_profile_plotter = aplt.MassProfilePlotter(mass_profile=mass, grid=grid)\n",
        "mass_profile_plotter.figures_2d(\n",
        "    convergence=True,\n",
        "    potential=True,\n",
        "    deflections_y=True,\n",
        "    deflections_x=True,\n",
        "    magnification=True,\n",
        ")\n",
        "mass_profile_plotter.figures_1d(convergence=True, potential=True)"
      ],
      "outputs": [],
      "execution_count": null
    },
    {
      "cell_type": "markdown",
      "metadata": {},
      "source": [
        "__Include__\n",
        "\n",
        "A `MassProfile` and its `Grid2D` contains the following attributes which can be plotted automatically via \n",
        "the `Include2D` object.\n",
        "\n",
        "(By default, a `Grid2D` does not contain a `Mask2D`, we therefore manually created a `Grid2D` with a mask to illustrate\n",
        "plotting its mask and border below)."
      ]
    },
    {
      "cell_type": "code",
      "metadata": {},
      "source": [
        "include = aplt.Include2D(\n",
        "    origin=True,\n",
        "    mask=True,\n",
        "    border=True,\n",
        "    mass_profile_centres=True,\n",
        "    tangential_critical_curves=True,\n",
        "    radial_critical_curves=True,\n",
        ")\n",
        "\n",
        "mask = al.Mask2D.circular_annular(\n",
        "    shape_native=grid.shape_native,\n",
        "    pixel_scales=grid.pixel_scales,\n",
        "    inner_radius=0.3,\n",
        "    outer_radius=2.0,\n",
        ")\n",
        "masked_grid = al.Grid2D.from_mask(mask=mask)\n",
        "\n",
        "mass_profile_plotter = aplt.MassProfilePlotter(\n",
        "    mass_profile=mass, grid=masked_grid, include_2d=include\n",
        ")\n",
        "mass_profile_plotter.figures_2d(convergence=True)"
      ],
      "outputs": [],
      "execution_count": null
    },
    {
      "cell_type": "markdown",
      "metadata": {},
      "source": [
        "__Log10__\n",
        "\n",
        "Mass profiles are often clearer in log10 space, which inputting `use_log10=True` into the `MatPlot2D` object\n",
        "will do.\n",
        "\n",
        "The same image can be set up manually via the `CMap`, `Contour` and `Colorbar` objects, but given this is a common\n",
        "use-case, the `use_log10` input is provided for convenience."
      ]
    },
    {
      "cell_type": "code",
      "metadata": {},
      "source": [
        "mass_profile_plotter = aplt.MassProfilePlotter(\n",
        "    mass_profile=mass, grid=masked_grid, mat_plot_2d=aplt.MatPlot2D(use_log10=True)\n",
        ")\n",
        "mass_profile_plotter.figures_2d(convergence=True, potential=True)"
      ],
      "outputs": [],
      "execution_count": null
    },
    {
      "cell_type": "markdown",
      "metadata": {},
      "source": [
        "__Errors__\n",
        "\n",
        "Using a `MassProfilePDFPlotter`, we can make 1D plots that show the errors of a mass model estimated via a model-fit. \n",
        "\n",
        "Here, the `mass_profile_pdf_list` is a list of `MassProfile` objects that are drawn randomly from the PDF of a \n",
        "model-fit (the database tutorials show how these can be easily computed after a model fit). \n",
        "\n",
        "These are used to estimate the errors at an input `sigma` value of: \n",
        "\n",
        " - The 1D mass profile, which is plotted as a shaded region on the figure. \n",
        " - The median `einstein_radius` with errors, which are plotted as vertical lines.\n",
        "\n",
        "Below, we manually input two `MassProfiles` that clearly show these errors on the figure."
      ]
    },
    {
      "cell_type": "code",
      "metadata": {},
      "source": [
        "mass_0 = al.mp.Isothermal(\n",
        "    centre=(0.0, 0.0),\n",
        "    einstein_radius=1.5,\n",
        "    ell_comps=al.convert.ell_comps_from(axis_ratio=0.7, angle=45.0),\n",
        ")\n",
        "\n",
        "mass_1 = al.mp.Isothermal(\n",
        "    centre=(0.0, 0.0),\n",
        "    einstein_radius=1.7,\n",
        "    ell_comps=al.convert.ell_comps_from(axis_ratio=0.7, angle=45.0),\n",
        ")\n",
        "\n",
        "mass_profile_pdf_plotter = aplt.MassProfilePDFPlotter(\n",
        "    mass_profile_pdf_list=[mass_0, mass_1], grid=grid, sigma=3.0\n",
        ")\n",
        "mass_profile_pdf_plotter.figures_1d(convergence=True, potential=True)"
      ],
      "outputs": [],
      "execution_count": null
    },
    {
      "cell_type": "markdown",
      "metadata": {},
      "source": [
        "Finish."
      ]
    },
    {
      "cell_type": "code",
      "metadata": {},
      "source": [],
      "outputs": [],
      "execution_count": null
    }
  ],
  "metadata": {
    "anaconda-cloud": {},
    "kernelspec": {
      "display_name": "Python 3",
      "language": "python",
      "name": "python3"
    },
    "language_info": {
      "codemirror_mode": {
        "name": "ipython",
        "version": 3
      },
      "file_extension": ".py",
      "mimetype": "text/x-python",
      "name": "python",
      "nbconvert_exporter": "python",
      "pygments_lexer": "ipython3",
      "version": "3.6.1"
    }
  },
  "nbformat": 4,
  "nbformat_minor": 4
}