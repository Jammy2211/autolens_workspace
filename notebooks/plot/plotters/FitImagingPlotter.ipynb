{
  "cells": [
    {
      "cell_type": "markdown",
      "metadata": {},
      "source": [
        "Plots: FitImagingPlotter\n",
        "========================\n",
        "\n",
        "This example illustrates how to plot an `FitImaging` object using an `FitImagingPlotter`.\n",
        "\n",
        "__Start Here Notebook__\n",
        "\n",
        "If any code in this script is unclear, refer to the `plot/start_here.ipynb` notebook."
      ]
    },
    {
      "cell_type": "code",
      "metadata": {},
      "source": [
        "%matplotlib inline\n",
        "from pyprojroot import here\n",
        "workspace_path = str(here())\n",
        "%cd $workspace_path\n",
        "print(f\"Working Directory has been set to `{workspace_path}`\")\n",
        "\n",
        "from os import path\n",
        "import autolens as al\n",
        "import autolens.plot as aplt"
      ],
      "outputs": [],
      "execution_count": null
    },
    {
      "cell_type": "markdown",
      "metadata": {},
      "source": [
        "__Dataset__\n",
        "\n",
        "First, lets load example imaging of of a strong lens as an `Imaging` object."
      ]
    },
    {
      "cell_type": "code",
      "metadata": {},
      "source": [
        "dataset_name = \"lens_sersic\"\n",
        "dataset_path = path.join(\"dataset\", \"imaging\", dataset_name)\n",
        "\n",
        "dataset = al.Imaging.from_fits(\n",
        "    data_path=path.join(dataset_path, \"data.fits\"),\n",
        "    psf_path=path.join(dataset_path, \"psf.fits\"),\n",
        "    noise_map_path=path.join(dataset_path, \"noise_map.fits\"),\n",
        "    pixel_scales=0.1,\n",
        ")"
      ],
      "outputs": [],
      "execution_count": null
    },
    {
      "cell_type": "markdown",
      "metadata": {},
      "source": [
        "__Fit__\n",
        "\n",
        "We now mask the data and fit it with a `Tracer` to create a `FitImaging` object."
      ]
    },
    {
      "cell_type": "code",
      "metadata": {},
      "source": [
        "mask = al.Mask2D.circular(\n",
        "    shape_native=dataset.shape_native, pixel_scales=dataset.pixel_scales, radius=3.0\n",
        ")\n",
        "\n",
        "dataset = dataset.apply_mask(mask=mask)\n",
        "\n",
        "lens_galaxy = al.Galaxy(\n",
        "    redshift=0.5,\n",
        "    bulge=al.lp.Sersic(\n",
        "        centre=(0.0, 0.0),\n",
        "        ell_comps=al.convert.ell_comps_from(axis_ratio=0.9, angle=45.0),\n",
        "        intensity=1.0,\n",
        "        effective_radius=0.8,\n",
        "        sersic_index=4.0,\n",
        "    ),\n",
        "    mass=al.mp.Isothermal(\n",
        "        centre=(0.0, 0.0),\n",
        "        einstein_radius=1.6,\n",
        "        ell_comps=al.convert.ell_comps_from(axis_ratio=0.9, angle=45.0),\n",
        "    ),\n",
        "    shear=al.mp.ExternalShear(gamma_1=0.05, gamma_2=0.05),\n",
        ")\n",
        "\n",
        "source_galaxy = al.Galaxy(\n",
        "    redshift=1.0,\n",
        "    bulge=al.lp.Sersic(\n",
        "        centre=(0.0, 0.0),\n",
        "        ell_comps=al.convert.ell_comps_from(axis_ratio=0.8, angle=60.0),\n",
        "        intensity=4.0,\n",
        "        effective_radius=0.1,\n",
        "        sersic_index=1.0,\n",
        "    ),\n",
        ")\n",
        "\n",
        "tracer = al.Tracer(galaxies=[lens_galaxy, source_galaxy])\n",
        "\n",
        "fit = al.FitImaging(dataset=dataset, tracer=tracer)"
      ],
      "outputs": [],
      "execution_count": null
    },
    {
      "cell_type": "markdown",
      "metadata": {},
      "source": [
        "__Figures__\n",
        "\n",
        "We now pass the FitImaging to an `FitImagingPlotter` and call various `figure_*` methods to plot different attributes."
      ]
    },
    {
      "cell_type": "code",
      "metadata": {},
      "source": [
        "fit_plotter = aplt.FitImagingPlotter(fit=fit)\n",
        "\n",
        "fit_plotter.figures_2d(\n",
        "    data=True,\n",
        "    noise_map=True,\n",
        "    signal_to_noise_map=True,\n",
        "    model_image=True,\n",
        "    residual_map=True,\n",
        "    normalized_residual_map=True,\n",
        "    chi_squared_map=True,\n",
        ")"
      ],
      "outputs": [],
      "execution_count": null
    },
    {
      "cell_type": "markdown",
      "metadata": {},
      "source": [
        "It can plot of the model image of an input plane."
      ]
    },
    {
      "cell_type": "code",
      "metadata": {},
      "source": [
        "fit_plotter.figures_2d_of_planes(plane_index=0, model_image=True)\n",
        "fit_plotter.figures_2d_of_planes(plane_index=1, model_image=True)"
      ],
      "outputs": [],
      "execution_count": null
    },
    {
      "cell_type": "markdown",
      "metadata": {},
      "source": [
        "It can plot the image of a plane with all other model images subtracted."
      ]
    },
    {
      "cell_type": "code",
      "metadata": {},
      "source": [
        "fit_plotter.figures_2d_of_planes(plane_index=0, subtracted_image=True)\n",
        "fit_plotter.figures_2d_of_planes(plane_index=1, subtracted_image=True)"
      ],
      "outputs": [],
      "execution_count": null
    },
    {
      "cell_type": "markdown",
      "metadata": {},
      "source": [
        "__Source Zoom__\n",
        "\n",
        "It can also plot the plane-image of a plane, that is what the source galaxy looks like without lensing (e.g.\n",
        "for `plane_index=1` this is the source-plane image).\n",
        "\n",
        "By default, this source-plane image is zoomed to the brightest pixels, so the galaxy can be clearly seen."
      ]
    },
    {
      "cell_type": "code",
      "metadata": {},
      "source": [
        "fit_plotter.figures_2d_of_planes(plane_index=0, plane_image=True)\n",
        "fit_plotter.figures_2d_of_planes(\n",
        "    plane_index=1, plane_image=True, zoom_to_brightest=True\n",
        ")"
      ],
      "outputs": [],
      "execution_count": null
    },
    {
      "cell_type": "markdown",
      "metadata": {},
      "source": [
        "If we do not want the image to be zoomed, we can pass `zoom_to_brightest=False`.\n",
        "\n",
        "This shows the full extent of the grid used to create the source-plane image, and may also include the caustics\n",
        "which the zoomed image does not due to zooming inside of them."
      ]
    },
    {
      "cell_type": "code",
      "metadata": {},
      "source": [
        "fit_plotter.figures_2d_of_planes(\n",
        "    plane_index=1, plane_image=True, zoom_to_brightest=False\n",
        ")"
      ],
      "outputs": [],
      "execution_count": null
    },
    {
      "cell_type": "markdown",
      "metadata": {},
      "source": [
        "__Source Brightness__\n",
        "\n",
        "The source is often much fainter than the lens galaxy, meaning we may want to brighten its appearance to fully see it.\n",
        "\n",
        "We can do this by passing the `use_source_vmax` bool, which sets the maximum value of the colormap to the maximum\n",
        "flux in the source-plane.\n",
        "\n",
        "This is used by default in the subplots plotted below."
      ]
    },
    {
      "cell_type": "code",
      "metadata": {},
      "source": [
        "fit_plotter.figures_2d(data=True, use_source_vmax=True)\n",
        "fit_plotter.figures_2d_of_planes(plane_index=1, model_image=True, use_source_vmax=True)\n",
        "fit_plotter.figures_2d_of_planes(\n",
        "    plane_index=1, subtracted_image=True, use_source_vmax=True\n",
        ")"
      ],
      "outputs": [],
      "execution_count": null
    },
    {
      "cell_type": "markdown",
      "metadata": {},
      "source": [
        "__Subplots__\n",
        "\n",
        "The `FitImagingPlotter` may also plot a subplot of these attributes."
      ]
    },
    {
      "cell_type": "code",
      "metadata": {},
      "source": [
        "fit_plotter.subplot_fit()\n",
        "fit_plotter.subplot_of_planes(plane_index=1)"
      ],
      "outputs": [],
      "execution_count": null
    },
    {
      "cell_type": "markdown",
      "metadata": {},
      "source": [
        "It also includes a log10 subplot option, which shows the same figures but with the colormap in log10 format to\n",
        "highlight the fainter regions of the data."
      ]
    },
    {
      "cell_type": "code",
      "metadata": {},
      "source": [
        "fit_plotter.subplot_fit_log10()"
      ],
      "outputs": [],
      "execution_count": null
    },
    {
      "cell_type": "markdown",
      "metadata": {},
      "source": [
        "__Include__\n",
        "\n",
        "`FitImaging` contains the following attributes which can be plotted automatically via the `Include2D` object."
      ]
    },
    {
      "cell_type": "code",
      "metadata": {},
      "source": [
        "include = aplt.Include2D(\n",
        "    origin=True,\n",
        "    mask=True,\n",
        "    border=True,\n",
        "    light_profile_centres=True,\n",
        "    mass_profile_centres=True,\n",
        "    tangential_critical_curves=True,\n",
        "    radial_critical_curves=True,\n",
        "    tangential_caustics=True,\n",
        "    radial_caustics=True,\n",
        ")\n",
        "\n",
        "fit_plotter = aplt.FitImagingPlotter(fit=fit, include_2d=include)\n",
        "fit_plotter.subplot_fit()\n",
        "fit_plotter.subplot_of_planes(plane_index=0)\n",
        "fit_plotter.subplot_of_planes(plane_index=1)"
      ],
      "outputs": [],
      "execution_count": null
    },
    {
      "cell_type": "markdown",
      "metadata": {},
      "source": [
        "__Symmetric Residual Maps__\n",
        "\n",
        "By default, the `residual_map` and `normalized_residual_map` use a symmetric colormap.\n",
        "\n",
        "This means the maximum normalization (`vmax`) an minimum normalziation (`vmin`) are the same absolute value.\n",
        "\n",
        "This can be disabled via the `residuals_symmetric_cmap` input."
      ]
    },
    {
      "cell_type": "code",
      "metadata": {},
      "source": [
        "fit_plotter = aplt.FitImagingPlotter(fit=fit, residuals_symmetric_cmap=False)\n",
        "fit_plotter.figures_2d(\n",
        "    residual_map=True,\n",
        "    normalized_residual_map=True,\n",
        ")"
      ],
      "outputs": [],
      "execution_count": null
    },
    {
      "cell_type": "markdown",
      "metadata": {},
      "source": [
        "__Pixelization__\n",
        "\n",
        "We can also plot a `FitImaging` which uses a `Pixelization`."
      ]
    },
    {
      "cell_type": "code",
      "metadata": {},
      "source": [
        "pixelization = al.Pixelization(\n",
        "    image_mesh=al.image_mesh.Overlay(shape=(25, 25)),\n",
        "    mesh=al.mesh.Delaunay(),\n",
        "    regularization=al.reg.Constant(coefficient=1.0),\n",
        ")\n",
        "\n",
        "source_galaxy = al.Galaxy(redshift=1.0, pixelization=pixelization)\n",
        "\n",
        "tracer = al.Tracer(galaxies=[lens_galaxy, source_galaxy])\n",
        "\n",
        "fit = al.FitImaging(dataset=dataset, tracer=tracer)"
      ],
      "outputs": [],
      "execution_count": null
    },
    {
      "cell_type": "markdown",
      "metadata": {},
      "source": [
        "__Reconstruction Options__\n",
        "\n",
        "The visualization plottes the reconstructed source on the Delaunay mesh, and you'll have seen it zoomed in to\n",
        "its brightest pixels. \n",
        "\n",
        "This is so the galaxy can be clearly seen and is the default behavior of the `InversionPlotter`, given the\n",
        "input `zoom_to_brightest=True`."
      ]
    },
    {
      "cell_type": "code",
      "metadata": {},
      "source": [
        "fit_plotter = aplt.FitImagingPlotter(\n",
        "    fit=fit,\n",
        ")\n",
        "fit_plotter.figures_2d_of_planes(\n",
        "    plane_index=1, plane_image=True, zoom_to_brightest=True\n",
        ")"
      ],
      "outputs": [],
      "execution_count": null
    },
    {
      "cell_type": "markdown",
      "metadata": {},
      "source": [
        "If we do not want the image to be zoomed, we can pass `zoom_to_brightest=False`. \n",
        "\n",
        "This shows the full extent of the source-plane pixelization and may also include the caustics which the zoomed \n",
        "image does not due to zooming inside of them. This can be useful for ensuring that the construction of the\n",
        "source-plane pixelization is reasonable."
      ]
    },
    {
      "cell_type": "code",
      "metadata": {},
      "source": [
        "fit_plotter.figures_2d_of_planes(\n",
        "    plane_index=1, plane_image=True, zoom_to_brightest=False\n",
        ")"
      ],
      "outputs": [],
      "execution_count": null
    },
    {
      "cell_type": "markdown",
      "metadata": {},
      "source": [
        "An irregular mesh like the Delaunay or Voronoi can be plotted in two ways, using the irregular grid of cells or\n",
        "by interpolating the reconstructed source-plane image onto a uniform grid of pixels.\n",
        "\n",
        "By default, the irregular grid is plotted, but the interpolated image can be plotted by changing the\n",
        "`interpolate_to_uniform` input to `True`."
      ]
    },
    {
      "cell_type": "code",
      "metadata": {},
      "source": [
        "fit_plotter.figures_2d_of_planes(\n",
        "    plane_index=1, plane_image=True, interpolate_to_uniform=True\n",
        ")"
      ],
      "outputs": [],
      "execution_count": null
    },
    {
      "cell_type": "markdown",
      "metadata": {},
      "source": [
        "The mappings subplot shows the mappings between the image and source plane, by drawing circles around the brightest\n",
        "source pixels and showing how they map to the image-plane."
      ]
    },
    {
      "cell_type": "code",
      "metadata": {},
      "source": [
        "fit_plotter.subplot_mappings_of_plane(plane_index=1)"
      ],
      "outputs": [],
      "execution_count": null
    },
    {
      "cell_type": "markdown",
      "metadata": {},
      "source": [
        "__Include__\n",
        "\n",
        "It can use the `Include2D` object to plot the `Mapper`'s specific structures like the image and source plane \n",
        "pixelization grids."
      ]
    },
    {
      "cell_type": "code",
      "metadata": {},
      "source": [
        "include = aplt.Include2D(\n",
        "    mapper_image_plane_mesh_grid=True, mapper_source_plane_data_grid=True\n",
        ")\n",
        "\n",
        "fit_plotter = aplt.FitImagingPlotter(fit=fit, include_2d=include)\n",
        "fit_plotter.figures_2d_of_planes(plane_index=1, plane_image=True)"
      ],
      "outputs": [],
      "execution_count": null
    },
    {
      "cell_type": "markdown",
      "metadata": {},
      "source": [
        "In fact, via the `FitImagingPlotter` we can plot the `reconstruction` with caustics and a border, which are extracted\n",
        "from the `Tracer` of the `FitImaging`.\n",
        "\n",
        "To do this with an `InversionPlotter` we would have had to manually pass these attributes via the `Visuals2D` object."
      ]
    },
    {
      "cell_type": "code",
      "metadata": {},
      "source": [
        "include = aplt.Include2D(\n",
        "    border=True,\n",
        "    tangential_caustics=True,\n",
        "    radial_caustics=True,\n",
        "    mapper_image_plane_mesh_grid=True,\n",
        "    mapper_source_plane_data_grid=True,\n",
        ")\n",
        "\n",
        "fit_plotter = aplt.FitImagingPlotter(fit=fit, include_2d=include)\n",
        "fit_plotter.figures_2d_of_planes(plane_index=1, plane_image=True)"
      ],
      "outputs": [],
      "execution_count": null
    },
    {
      "cell_type": "markdown",
      "metadata": {},
      "source": [
        "__Inversion Plotter__\n",
        "\n",
        "We can even extract an `InversionPlotter` from the `FitImagingPlotter` and use it to plot all of its usual methods,\n",
        "which will now include the critical curves, caustics and border."
      ]
    },
    {
      "cell_type": "code",
      "metadata": {},
      "source": [
        "inversion_plotter = fit_plotter.inversion_plotter_of_plane(plane_index=1)\n",
        "inversion_plotter.figures_2d(reconstructed_image=True)\n",
        "inversion_plotter.figures_2d_of_pixelization(\n",
        "    pixelization_index=0, reconstruction=True, regularization_weights=True\n",
        ")"
      ],
      "outputs": [],
      "execution_count": null
    },
    {
      "cell_type": "markdown",
      "metadata": {},
      "source": [
        "__Double Einstein Ring__\n",
        "\n",
        "The `FitImagingPlotter` can also plot lens systems with two (or more) Einstein rings.\n",
        "\n",
        "First, lets load example imaging of a strong lens with two Einstein rings."
      ]
    },
    {
      "cell_type": "code",
      "metadata": {},
      "source": [
        "dataset_name = \"double_einstein_ring\"\n",
        "dataset_path = path.join(\"dataset\", \"imaging\", dataset_name)\n",
        "\n",
        "dataset = al.Imaging.from_fits(\n",
        "    data_path=path.join(dataset_path, \"data.fits\"),\n",
        "    psf_path=path.join(dataset_path, \"psf.fits\"),\n",
        "    noise_map_path=path.join(dataset_path, \"noise_map.fits\"),\n",
        "    pixel_scales=0.1,\n",
        ")"
      ],
      "outputs": [],
      "execution_count": null
    },
    {
      "cell_type": "markdown",
      "metadata": {},
      "source": [
        "__Fit__\n",
        "\n",
        "We now mask the data and fit it with a `Tracer` to create a `FitImaging` object."
      ]
    },
    {
      "cell_type": "code",
      "metadata": {},
      "source": [
        "mask = al.Mask2D.circular(\n",
        "    shape_native=dataset.shape_native, pixel_scales=dataset.pixel_scales, radius=3.5\n",
        ")\n",
        "dataset = dataset.apply_mask(mask=mask)\n",
        "\n",
        "lens_galaxy = al.Galaxy(\n",
        "    redshift=0.5,\n",
        "    bulge=al.lp.Sersic(\n",
        "        centre=(0.0, 0.0),\n",
        "        ell_comps=al.convert.ell_comps_from(axis_ratio=0.9, angle=45.0),\n",
        "        intensity=1.0,\n",
        "        effective_radius=0.8,\n",
        "        sersic_index=4.0,\n",
        "    ),\n",
        "    mass=al.mp.Isothermal(\n",
        "        centre=(0.0, 0.0),\n",
        "        einstein_radius=1.5,\n",
        "        ell_comps=al.convert.ell_comps_from(axis_ratio=0.9, angle=45.0),\n",
        "    ),\n",
        ")\n",
        "\n",
        "source_galaxy_0 = al.Galaxy(\n",
        "    redshift=1.0,\n",
        "    bulge=al.lp.ExponentialCoreSph(\n",
        "        centre=(-0.15, -0.15), intensity=1.2, effective_radius=0.1\n",
        "    ),\n",
        "    mass=al.mp.IsothermalSph(centre=(-0.15, -0.15), einstein_radius=0.3),\n",
        ")\n",
        "\n",
        "source_galaxy_1 = al.Galaxy(\n",
        "    redshift=2.0,\n",
        "    bulge=al.lp.ExponentialCoreSph(\n",
        "        centre=(-0.45, 0.45), intensity=0.6, effective_radius=0.07\n",
        "    ),\n",
        ")\n",
        "\n",
        "\n",
        "tracer = al.Tracer(galaxies=[lens_galaxy, source_galaxy_0, source_galaxy_1])\n",
        "\n",
        "fit = al.FitImaging(dataset=dataset, tracer=tracer)\n"
      ],
      "outputs": [],
      "execution_count": null
    },
    {
      "cell_type": "markdown",
      "metadata": {},
      "source": [
        "__Figures__\n",
        "\n",
        "We now pass the FitImaging to an `FitImagingPlotter` and call various `figure_*` methods to plot different attributes."
      ]
    },
    {
      "cell_type": "code",
      "metadata": {},
      "source": [
        "fit_plotter = aplt.FitImagingPlotter(fit=fit)\n",
        "\n",
        "fit_plotter.set_mat_plots_for_subplot(is_for_subplot=False)\n",
        "\n",
        "fit_plotter.figures_2d(\n",
        "    data=True,\n",
        "    noise_map=True,\n",
        "    signal_to_noise_map=True,\n",
        "    model_image=True,\n",
        "    residual_map=True,\n",
        "    normalized_residual_map=True,\n",
        "    chi_squared_map=True,\n",
        ")"
      ],
      "outputs": [],
      "execution_count": null
    },
    {
      "cell_type": "markdown",
      "metadata": {},
      "source": [
        "It can plot of the model image of an input plane."
      ]
    },
    {
      "cell_type": "code",
      "metadata": {},
      "source": [
        "fit_plotter.figures_2d_of_planes(plane_index=0, model_image=True)\n",
        "fit_plotter.figures_2d_of_planes(plane_index=1, model_image=True)\n",
        "fit_plotter.figures_2d_of_planes(model_image=True, plane_index=2)"
      ],
      "outputs": [],
      "execution_count": null
    },
    {
      "cell_type": "markdown",
      "metadata": {},
      "source": [
        "It can plot the image of a plane with all other model images subtracted."
      ]
    },
    {
      "cell_type": "code",
      "metadata": {},
      "source": [
        "fit_plotter.figures_2d_of_planes(plane_index=0, subtracted_image=True)\n",
        "fit_plotter.figures_2d_of_planes(plane_index=1, subtracted_image=True)\n",
        "fit_plotter.figures_2d_of_planes(subtracted_image=True, plane_index=2)"
      ],
      "outputs": [],
      "execution_count": null
    },
    {
      "cell_type": "markdown",
      "metadata": {},
      "source": [
        "It can also plot the plane-image of a plane, that is what the source galaxy looks like without lensing (e.g.\n",
        "for `plane_index=1` this is the source-plane image)"
      ]
    },
    {
      "cell_type": "code",
      "metadata": {},
      "source": [
        "fit_plotter.figures_2d_of_planes(plane_index=0)\n",
        "fit_plotter.figures_2d_of_planes(plane_index=1)\n",
        "fit_plotter.figures_2d_of_planes(plane_index=2)"
      ],
      "outputs": [],
      "execution_count": null
    },
    {
      "cell_type": "markdown",
      "metadata": {},
      "source": [
        "__Subplots__\n",
        "\n",
        "The `FitImagingPlotter` may also plot a subplot of these attributes."
      ]
    },
    {
      "cell_type": "code",
      "metadata": {},
      "source": [
        "fit_plotter.subplot_fit()\n",
        "fit_plotter.subplot_of_planes(plane_index=0)\n",
        "fit_plotter.subplot_of_planes(plane_index=1)\n",
        "fit_plotter.subplot_of_planes(plane_index=2)"
      ],
      "outputs": [],
      "execution_count": null
    },
    {
      "cell_type": "markdown",
      "metadata": {},
      "source": [
        "__Include__\n",
        "\n",
        "`FitImaging` contains the following attributes which can be plotted automatically via the `Include2D` object."
      ]
    },
    {
      "cell_type": "code",
      "metadata": {},
      "source": [
        "include = aplt.Include2D(\n",
        "    origin=True,\n",
        "    mask=True,\n",
        "    border=True,\n",
        "    light_profile_centres=True,\n",
        "    mass_profile_centres=True,\n",
        "    tangential_critical_curves=True,\n",
        "    radial_critical_curves=True,\n",
        "    tangential_caustics=True,\n",
        "    radial_caustics=True,\n",
        ")\n",
        "\n",
        "fit_plotter = aplt.FitImagingPlotter(fit=fit, include_2d=include)\n",
        "fit_plotter.subplot_fit()\n",
        "fit_plotter.subplot_of_planes(plane_index=0)\n",
        "fit_plotter.subplot_of_planes(plane_index=1)\n",
        "fit_plotter.subplot_of_planes(plane_index=2)"
      ],
      "outputs": [],
      "execution_count": null
    },
    {
      "cell_type": "markdown",
      "metadata": {},
      "source": [
        "__Pixelization__\n",
        "\n",
        "We can also plot a `FitImaging` which uses a `Pixelization`."
      ]
    },
    {
      "cell_type": "code",
      "metadata": {},
      "source": [
        "source_galaxy_0 = al.Galaxy(\n",
        "    redshift=1.0,\n",
        "    pixelization=al.Pixelization(\n",
        "        image_mesh=al.image_mesh.Overlay(shape=(25, 25)),\n",
        "        mesh=al.mesh.Delaunay(),\n",
        "        regularization=al.reg.Constant(coefficient=1.0),\n",
        "    ),\n",
        ")\n",
        "\n",
        "source_galaxy_1 = al.Galaxy(\n",
        "    redshift=2.0,\n",
        "    pixelization=al.Pixelization(\n",
        "        image_mesh=al.image_mesh.Overlay(shape=(25, 25)),\n",
        "        mesh=al.mesh.Delaunay(),\n",
        "        regularization=al.reg.Constant(coefficient=1.0),\n",
        "    ),\n",
        ")\n",
        "\n",
        "tracer = al.Tracer(galaxies=[lens_galaxy, source_galaxy_0, source_galaxy_1])\n",
        "\n",
        "fit = al.FitImaging(dataset=dataset, tracer=tracer)"
      ],
      "outputs": [],
      "execution_count": null
    },
    {
      "cell_type": "markdown",
      "metadata": {},
      "source": [
        "__Include__\n",
        "\n",
        "The `plane_image_from_plane` method now plots the reconstructed source on the Delaunay pixel-grid. It can use the\n",
        "`Include2D` object to plot the `Mapper`'s specific structures like the image and source plane pixelization grids."
      ]
    },
    {
      "cell_type": "code",
      "metadata": {},
      "source": [
        "include = aplt.Include2D(\n",
        "    mapper_image_plane_mesh_grid=True, mapper_source_plane_data_grid=True\n",
        ")\n",
        "\n",
        "fit_plotter = aplt.FitImagingPlotter(fit=fit, include_2d=include)\n",
        "fit_plotter.figures_2d_of_planes(plane_index=0, plane_image=True)\n",
        "fit_plotter.figures_2d_of_planes(plane_index=1, plane_image=True)\n",
        "fit_plotter.figures_2d_of_planes(plane_image=True, plane_index=2)"
      ],
      "outputs": [],
      "execution_count": null
    },
    {
      "cell_type": "markdown",
      "metadata": {},
      "source": [
        "In fact, via the `FitImagingPlotter` we can plot the `reconstruction` with caustics and a border, which are extracted \n",
        "from the `Tracer` of the `FitImaging`. \n",
        "\n",
        "To do this with an `InversionPlotter` we would have had to manually pass these attributes via the `Visuals2D` object."
      ]
    },
    {
      "cell_type": "code",
      "metadata": {},
      "source": [
        "include = aplt.Include2D(\n",
        "    border=True,\n",
        "    tangential_caustics=True,\n",
        "    radial_caustics=True,\n",
        "    mapper_image_plane_mesh_grid=True,\n",
        "    mapper_source_plane_data_grid=True,\n",
        ")\n",
        "\n",
        "fit_plotter = aplt.FitImagingPlotter(fit=fit, include_2d=include)\n",
        "fit_plotter.figures_2d_of_planes(plane_index=0, plane_image=True)\n",
        "fit_plotter.figures_2d_of_planes(plane_index=1, plane_image=True)\n",
        "fit_plotter.figures_2d_of_planes(plane_image=True, plane_index=2)"
      ],
      "outputs": [],
      "execution_count": null
    },
    {
      "cell_type": "markdown",
      "metadata": {},
      "source": [
        "__Inversion Plotter__\n",
        "\n",
        "We can even extract an `InversionPlotter` from the `FitImagingPlotter` and use it to plot all of its usual methods, \n",
        "which will now include the caustic and border."
      ]
    },
    {
      "cell_type": "code",
      "metadata": {},
      "source": [
        "inversion_plotter = fit_plotter.inversion_plotter_of_plane(plane_index=1)\n",
        "inversion_plotter.figures_2d_of_pixelization(\n",
        "    pixelization_index=0, reconstruction=True, regularization_weights=True\n",
        ")\n",
        "inversion_plotter = fit_plotter.inversion_plotter_of_plane(plane_index=2)\n",
        "inversion_plotter.figures_2d_of_pixelization(\n",
        "    pixelization_index=0, reconstruction=True, regularization_weights=True\n",
        ")\n"
      ],
      "outputs": [],
      "execution_count": null
    }
  ],
  "metadata": {
    "anaconda-cloud": {},
    "kernelspec": {
      "display_name": "Python 3",
      "language": "python",
      "name": "python3"
    },
    "language_info": {
      "codemirror_mode": {
        "name": "ipython",
        "version": 3
      },
      "file_extension": ".py",
      "mimetype": "text/x-python",
      "name": "python",
      "nbconvert_exporter": "python",
      "pygments_lexer": "ipython3",
      "version": "3.6.1"
    }
  },
  "nbformat": 4,
  "nbformat_minor": 4
}