{
  "cells": [
    {
      "cell_type": "markdown",
      "metadata": {},
      "source": [
        "Plots: FitInterferometerPlotter\n",
        "===============================\n",
        "\n",
        "This example illustrates how to plot an `FitInterferometer` object using an `FitInterferometerPlotter`.\n",
        "\n",
        "__Start Here Notebook__\n",
        "\n",
        "If any code in this script is unclear, refer to the `plot/start_here.ipynb` notebook."
      ]
    },
    {
      "cell_type": "code",
      "metadata": {},
      "source": [
        "%matplotlib inline\n",
        "from pyprojroot import here\n",
        "workspace_path = str(here())\n",
        "%cd $workspace_path\n",
        "print(f\"Working Directory has been set to `{workspace_path}`\")\n",
        "\n",
        "from os import path\n",
        "import numpy as np\n",
        "import autolens as al\n",
        "import autolens.plot as aplt"
      ],
      "outputs": [],
      "execution_count": null
    },
    {
      "cell_type": "markdown",
      "metadata": {},
      "source": [
        "__Dataset__\n",
        "\n",
        "First, lets load example interferometer of of a strong lens as an `Interferometer` object."
      ]
    },
    {
      "cell_type": "code",
      "metadata": {},
      "source": [
        "dataset_name = \"simple\"\n",
        "dataset_path = path.join(\"dataset\", \"interferometer\", dataset_name)\n",
        "\n",
        "real_space_mask = al.Mask2D.circular(\n",
        "    shape_native=(200, 200), pixel_scales=0.05, radius=3.0\n",
        ")\n",
        "\n",
        "dataset = al.Interferometer.from_fits(\n",
        "    data_path=path.join(dataset_path, \"data.fits\"),\n",
        "    noise_map_path=path.join(dataset_path, \"noise_map.fits\"),\n",
        "    uv_wavelengths_path=path.join(dataset_path, \"uv_wavelengths.fits\"),\n",
        "    real_space_mask=real_space_mask,\n",
        "    transformer_class=al.TransformerNUFFT,\n",
        ")"
      ],
      "outputs": [],
      "execution_count": null
    },
    {
      "cell_type": "markdown",
      "metadata": {},
      "source": [
        "__Fit__\n",
        "\n",
        "We now mask the data and fit it with a `Tracer` to create a `FitInterferometer` object."
      ]
    },
    {
      "cell_type": "code",
      "metadata": {},
      "source": [
        "lens_galaxy = al.Galaxy(\n",
        "    redshift=0.5,\n",
        "    mass=al.mp.Isothermal(\n",
        "        centre=(0.0, 0.0),\n",
        "        einstein_radius=1.6,\n",
        "        ell_comps=al.convert.ell_comps_from(axis_ratio=0.9, angle=45.0),\n",
        "    ),\n",
        ")\n",
        "\n",
        "source_galaxy = al.Galaxy(\n",
        "    redshift=1.0,\n",
        "    bulge=al.lp.Sersic(\n",
        "        centre=(0.1, 0.1),\n",
        "        ell_comps=al.convert.ell_comps_from(axis_ratio=0.8, angle=60.0),\n",
        "        intensity=0.3,\n",
        "        effective_radius=1.0,\n",
        "        sersic_index=2.5,\n",
        "    ),\n",
        ")\n",
        "\n",
        "tracer = al.Tracer(galaxies=[lens_galaxy, source_galaxy])\n",
        "\n",
        "fit = al.FitInterferometer(dataset=dataset, tracer=tracer)"
      ],
      "outputs": [],
      "execution_count": null
    },
    {
      "cell_type": "markdown",
      "metadata": {},
      "source": [
        "__Figures__\n",
        "\n",
        "We now pass the FitInterferometer to an `FitInterferometerPlotter` and call various `figure_*` methods \n",
        "to plot different attributes."
      ]
    },
    {
      "cell_type": "code",
      "metadata": {},
      "source": [
        "fit_plotter = aplt.FitInterferometerPlotter(fit=fit)\n",
        "\n",
        "fit_plotter.figures_2d(\n",
        "    data=True,\n",
        "    noise_map=True,\n",
        "    signal_to_noise_map=True,\n",
        "    model_data=True,\n",
        "    residual_map_real=True,\n",
        "    residual_map_imag=True,\n",
        "    normalized_residual_map_real=True,\n",
        "    normalized_residual_map_imag=True,\n",
        "    chi_squared_map_real=True,\n",
        "    chi_squared_map_imag=True,\n",
        ")"
      ],
      "outputs": [],
      "execution_count": null
    },
    {
      "cell_type": "markdown",
      "metadata": {},
      "source": [
        "The dirty images of the interferometer fit can also be plotted, which use the transformer of the interferometer\n",
        "to map the visibilities, noise-map, residual-map or other quantitiy to a real-space image.\n",
        "\n",
        "Bare in mind the fit itself uses the visibilities and not the dirty images, so these images do not provide a direct\n",
        "visualization of the fit itself. However, they are easier to inspect than the fits plotted above which are in Fourier\n",
        "space and make it more straight forward to determine if an unphysical lens model is being fitted."
      ]
    },
    {
      "cell_type": "code",
      "metadata": {},
      "source": [
        "fit_plotter.figures_2d(\n",
        "    dirty_image=True,\n",
        "    dirty_noise_map=True,\n",
        "    dirty_signal_to_noise_map=True,\n",
        "    dirty_model_image=True,\n",
        "    dirty_residual_map=True,\n",
        "    dirty_normalized_residual_map=True,\n",
        "    dirty_chi_squared_map=True,\n",
        ")"
      ],
      "outputs": [],
      "execution_count": null
    },
    {
      "cell_type": "markdown",
      "metadata": {},
      "source": [
        "It can plot of the image of an input plane, where this image is the real-space image of the `Tracer`."
      ]
    },
    {
      "cell_type": "code",
      "metadata": {},
      "source": [
        "fit_plotter.figures_2d(image=True)"
      ],
      "outputs": [],
      "execution_count": null
    },
    {
      "cell_type": "markdown",
      "metadata": {},
      "source": [
        "It can also plot the plane-image of a plane, that is what the source galaxy looks like without lensing (e.g.\n",
        "for `plane_index=1` this is the source-plane image)"
      ]
    },
    {
      "cell_type": "code",
      "metadata": {},
      "source": [
        "fit_plotter.figures_2d_of_planes(plane_index=0, plane_image=True)\n",
        "fit_plotter.figures_2d_of_planes(plane_index=1, plane_image=True)"
      ],
      "outputs": [],
      "execution_count": null
    },
    {
      "cell_type": "markdown",
      "metadata": {},
      "source": [
        "__Subplots__\n",
        "\n",
        "The `FitInterferometerPlotter` may also plot a subplot of these attributes."
      ]
    },
    {
      "cell_type": "code",
      "metadata": {},
      "source": [
        "fit_plotter.subplot_fit()\n",
        "fit_plotter.subplot_fit_dirty_images()\n"
      ],
      "outputs": [],
      "execution_count": null
    },
    {
      "cell_type": "markdown",
      "metadata": {},
      "source": [
        "The plane images can be combined to plot the appearance of the galaxy in real-space."
      ]
    },
    {
      "cell_type": "code",
      "metadata": {},
      "source": [
        "fit_plotter.subplot_fit_real_space()"
      ],
      "outputs": [],
      "execution_count": null
    },
    {
      "cell_type": "markdown",
      "metadata": {},
      "source": [
        "__Symmetric Residual Maps__\n",
        "\n",
        "By default, the `ditry_residual_map` and `dirty_normalized_residual_map` use a symmetric colormap.\n",
        "\n",
        "This means the maximum normalization (`vmax`) an minimum normalziation (`vmin`) are the same absolute value.\n",
        "\n",
        "This can be disabled via the `residuals_symmetric_cmap` input."
      ]
    },
    {
      "cell_type": "code",
      "metadata": {},
      "source": [
        "fit_plotter = aplt.FitInterferometerPlotter(fit=fit, residuals_symmetric_cmap=False)\n",
        "fit_plotter.figures_2d(\n",
        "    dirty_residual_map=True,\n",
        "    dirty_normalized_residual_map=True,\n",
        ")"
      ],
      "outputs": [],
      "execution_count": null
    },
    {
      "cell_type": "markdown",
      "metadata": {},
      "source": [
        "__Pixelization__\n",
        "\n",
        "We can also plot a `FitInterferometer` which uses a `Pixelization`."
      ]
    },
    {
      "cell_type": "code",
      "metadata": {},
      "source": [
        "pixelization = al.Pixelization(\n",
        "    image_mesh=al.image_mesh.Overlay(shape=(25, 25)),\n",
        "    mesh=al.mesh.Delaunay(),\n",
        "    regularization=al.reg.Constant(coefficient=1.0),\n",
        ")\n",
        "\n",
        "source_galaxy = al.Galaxy(redshift=1.0, pixelization=pixelization)\n",
        "\n",
        "tracer = al.Tracer(galaxies=[lens_galaxy, source_galaxy])\n",
        "\n",
        "fit = al.FitInterferometer(dataset=dataset, tracer=tracer)"
      ],
      "outputs": [],
      "execution_count": null
    },
    {
      "cell_type": "markdown",
      "metadata": {},
      "source": [
        "__Reconstruction Options__\n",
        "\n",
        "The visualization plottes the reconstructed source on the Delaunay mesh, and you'll have seen it zoomed in to\n",
        "its brightest pixels. \n",
        "\n",
        "This is so the galaxy can be clearly seen and is the default behavior of the `InversionPlotter`, given the\n",
        "input `zoom_to_brightest=True`."
      ]
    },
    {
      "cell_type": "code",
      "metadata": {},
      "source": [
        "fit_plotter = aplt.FitInterferometerPlotter(\n",
        "    fit=fit,\n",
        ")\n",
        "fit_plotter.figures_2d_of_planes(\n",
        "    plane_index=1, plane_image=True, zoom_to_brightest=True\n",
        ")"
      ],
      "outputs": [],
      "execution_count": null
    },
    {
      "cell_type": "markdown",
      "metadata": {},
      "source": [
        "If we do not want the image to be zoomed, we can pass `zoom_to_brightest=False`.\n",
        "\n",
        "This shows the full extent of the source-plane pixelization and may also include the caustics which the zoomed\n",
        "image does not due to zooming inside of them. This can be useful for ensuring that the construction of the\n",
        "source-plane pixelization is reasonable."
      ]
    },
    {
      "cell_type": "code",
      "metadata": {},
      "source": [
        "fit_plotter.figures_2d_of_planes(\n",
        "    plane_index=1, plane_image=True, zoom_to_brightest=False\n",
        ")"
      ],
      "outputs": [],
      "execution_count": null
    },
    {
      "cell_type": "markdown",
      "metadata": {},
      "source": [
        "The mappings subplot shows the mappings between the image and source plane, by drawing circles around the brightest\n",
        "source pixels and showing how they map to the image-plane."
      ]
    },
    {
      "cell_type": "code",
      "metadata": {},
      "source": [
        "fit_plotter.subplot_mappings_of_plane(plane_index=1)"
      ],
      "outputs": [],
      "execution_count": null
    },
    {
      "cell_type": "markdown",
      "metadata": {},
      "source": [
        "__Include__\n",
        "\n",
        "It can use the `Include2D` object to plot the `Mapper`'s specific structures like the image and source plane \n",
        "pixelization grids."
      ]
    },
    {
      "cell_type": "code",
      "metadata": {},
      "source": [
        "include = aplt.Include2D(\n",
        "    mapper_image_plane_mesh_grid=True, mapper_source_plane_data_grid=True\n",
        ")\n",
        "\n",
        "fit_plotter = aplt.FitInterferometerPlotter(fit=fit, include_2d=include)\n",
        "fit_plotter.figures_2d_of_planes(plane_index=1, plane_image=True)"
      ],
      "outputs": [],
      "execution_count": null
    },
    {
      "cell_type": "markdown",
      "metadata": {},
      "source": [
        "In fact, via the `FitInterferometerPlotter` we can plot the `reconstruction` with caustics and a border, which are extracted\n",
        "from the `Tracer` of the `FitInterferometer`.\n",
        "\n",
        "To do this with an `InversionPlotter` we would have had to manually pass these attributes via the `Visuals2D` object."
      ]
    },
    {
      "cell_type": "code",
      "metadata": {},
      "source": [
        "include = aplt.Include2D(\n",
        "    border=True,\n",
        "    tangential_caustics=True,\n",
        "    radial_caustics=True,\n",
        "    mapper_image_plane_mesh_grid=True,\n",
        "    mapper_source_plane_data_grid=True,\n",
        ")\n",
        "\n",
        "fit_plotter = aplt.FitInterferometerPlotter(fit=fit, include_2d=include)\n",
        "fit_plotter.figures_2d_of_planes(plane_index=1, plane_image=True)"
      ],
      "outputs": [],
      "execution_count": null
    },
    {
      "cell_type": "markdown",
      "metadata": {},
      "source": [
        "__Inversion Plotter__\n",
        "\n",
        "We can even extract an `InversionPlotter` from the `FitInterferometerPlotter` and use it to plot all of its usual \n",
        "methods,which will now include the critical curves, caustics and border."
      ]
    },
    {
      "cell_type": "code",
      "metadata": {},
      "source": [
        "inversion_plotter = fit_plotter.inversion_plotter_of_plane(plane_index=1)\n",
        "inversion_plotter.figures_2d(reconstructed_image=True)\n",
        "inversion_plotter.figures_2d_of_pixelization(\n",
        "    pixelization_index=0, reconstruction=True, regularization_weights=True\n",
        ")"
      ],
      "outputs": [],
      "execution_count": null
    },
    {
      "cell_type": "markdown",
      "metadata": {},
      "source": [
        "Finish."
      ]
    },
    {
      "cell_type": "code",
      "metadata": {},
      "source": [],
      "outputs": [],
      "execution_count": null
    }
  ],
  "metadata": {
    "anaconda-cloud": {},
    "kernelspec": {
      "display_name": "Python 3",
      "language": "python",
      "name": "python3"
    },
    "language_info": {
      "codemirror_mode": {
        "name": "ipython",
        "version": 3
      },
      "file_extension": ".py",
      "mimetype": "text/x-python",
      "name": "python",
      "nbconvert_exporter": "python",
      "pygments_lexer": "ipython3",
      "version": "3.6.1"
    }
  },
  "nbformat": 4,
  "nbformat_minor": 4
}