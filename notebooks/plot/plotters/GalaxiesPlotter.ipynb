{
  "cells": [
    {
      "cell_type": "markdown",
      "metadata": {},
      "source": [
        "Plots: GalaxiesPlotter\n",
        "======================\n",
        "\n",
        "This example illustrates how to plot `Galaxies` using a `GalaxiesPlotter`.\n",
        "\n",
        "__Start Here Notebook__\n",
        "\n",
        "If any code in this script is unclear, refer to the `plot/start_here.ipynb` notebook."
      ]
    },
    {
      "cell_type": "code",
      "metadata": {},
      "source": [
        "%matplotlib inline\n",
        "from pyprojroot import here\n",
        "workspace_path = str(here())\n",
        "%cd $workspace_path\n",
        "print(f\"Working Directory has been set to `{workspace_path}`\")\n",
        "\n",
        "import autolens as al\n",
        "import autolens.plot as aplt"
      ],
      "outputs": [],
      "execution_count": null
    },
    {
      "cell_type": "markdown",
      "metadata": {},
      "source": [
        "__Grid__\n",
        "\n",
        "First, lets create a image-plane `Grid2D` and ray-trace it via `MassProfile` to create a source-plane `Grid2D`."
      ]
    },
    {
      "cell_type": "code",
      "metadata": {},
      "source": [
        "grid = al.Grid2D.uniform(shape_native=(100, 100), pixel_scales=0.05)\n",
        "\n",
        "mass_profile = al.mp.Isothermal(\n",
        "    centre=(0.0, 0.0), ell_comps=(0.1, 0.2), einstein_radius=1.0\n",
        ")\n",
        "deflections = mass_profile.deflections_yx_2d_from(grid=grid)\n",
        "lens_galaxy = al.Galaxy(redshift=0.5, mass=mass_profile)\n",
        "\n",
        "lensed_grid = grid.grid_2d_via_deflection_grid_from(deflection_grid=deflections)"
      ],
      "outputs": [],
      "execution_count": null
    },
    {
      "cell_type": "markdown",
      "metadata": {},
      "source": [
        "__Galaxies__\n",
        "\n",
        "We create galaxies representing a source-plane containing a `Galaxy` with a `LightProfile`."
      ]
    },
    {
      "cell_type": "code",
      "metadata": {},
      "source": [
        "bulge = al.lp.Sersic(\n",
        "    centre=(0.1, 0.1),\n",
        "    ell_comps=al.convert.ell_comps_from(axis_ratio=0.8, angle=60.0),\n",
        "    intensity=0.3,\n",
        "    effective_radius=1.0,\n",
        "    sersic_index=2.5,\n",
        ")\n",
        "\n",
        "source_galaxy = al.Galaxy(redshift=1.0, bulge=bulge)\n",
        "\n",
        "image_plane_galaxies = al.Galaxies(galaxies=[lens_galaxy])\n",
        "source_plane_galaxies = al.Galaxies(galaxies=[source_galaxy])"
      ],
      "outputs": [],
      "execution_count": null
    },
    {
      "cell_type": "markdown",
      "metadata": {},
      "source": [
        "__Figures__\n",
        "\n",
        "We can plot the `image_plane_galaxies` by passing it and our `grid to a` GalaxiesPlotter` and calling various `figure_*` methods.\n",
        "\n",
        "In this script our `lens_galaxy` only had a `MassProfile` so only methods like `figure_convergence` are\n",
        "available."
      ]
    },
    {
      "cell_type": "code",
      "metadata": {},
      "source": [
        "galaxies_plotter = aplt.GalaxiesPlotter(galaxies=image_plane_galaxies, grid=grid)\n",
        "galaxies_plotter.figures_2d(convergence=True)"
      ],
      "outputs": [],
      "execution_count": null
    },
    {
      "cell_type": "markdown",
      "metadata": {},
      "source": [
        "__Subplots__\n",
        "\n",
        "A subplot of the above quantaties can be plotted."
      ]
    },
    {
      "cell_type": "code",
      "metadata": {},
      "source": [
        "galaxies_plotter.subplot_galaxies()"
      ],
      "outputs": [],
      "execution_count": null
    },
    {
      "cell_type": "markdown",
      "metadata": {},
      "source": [
        "A subplot of the image of the galaxies in the plane can also be plotted."
      ]
    },
    {
      "cell_type": "code",
      "metadata": {},
      "source": [
        "galaxies_plotter.subplot_galaxy_images()"
      ],
      "outputs": [],
      "execution_count": null
    },
    {
      "cell_type": "markdown",
      "metadata": {},
      "source": [
        "We can also plot the `source_plane_galaxies` by passing it with the `lensed_grid` to a `GalaxiesPlotter`.\n",
        "\n",
        "In this case, our `source_galaxy` only had a ` LightProfile` so only a plot of its image is available."
      ]
    },
    {
      "cell_type": "code",
      "metadata": {},
      "source": [
        "galaxies_plotter = aplt.GalaxiesPlotter(\n",
        "    galaxies=source_plane_galaxies, grid=lensed_grid\n",
        ")\n",
        "galaxies_plotter.figures_2d(image=True)"
      ],
      "outputs": [],
      "execution_count": null
    },
    {
      "cell_type": "markdown",
      "metadata": {},
      "source": [
        "In addition to the lensed image of the source-plane, we can plot its unlensed image (e.g. how the source-galaxy \n",
        "appears in the source-plane before lensing) using the `figure_plane_image` method.\n",
        "\n",
        "By default, this image is zoomed to the brightest pixels, so the galaxy can be clearly seen."
      ]
    },
    {
      "cell_type": "code",
      "metadata": {},
      "source": [
        "galaxies_plotter.figures_2d(plane_image=True, zoom_to_brightest=True)"
      ],
      "outputs": [],
      "execution_count": null
    },
    {
      "cell_type": "markdown",
      "metadata": {},
      "source": [
        "If we do not want the image to be zoomed, we can pass `zoom_to_brightest=False`. This shows the full extent of the\n",
        "grid used to create the source-plane image."
      ]
    },
    {
      "cell_type": "code",
      "metadata": {},
      "source": [
        "galaxies_plotter.figures_2d(plane_image=True, zoom_to_brightest=False)"
      ],
      "outputs": [],
      "execution_count": null
    },
    {
      "cell_type": "markdown",
      "metadata": {},
      "source": [
        "__Galaxy Image__\n",
        "\n",
        "We can also plot specific images of galaxies in the plane."
      ]
    },
    {
      "cell_type": "code",
      "metadata": {},
      "source": [
        "galaxies_plotter.figures_2d_of_galaxies(image=True, galaxy_index=0)"
      ],
      "outputs": [],
      "execution_count": null
    },
    {
      "cell_type": "markdown",
      "metadata": {},
      "source": [
        "__Visuals__\n",
        "\n",
        "It is feasible for us to plot the caustics in the source-plane. However, to calculate the `Caustics` we must manually\n",
        "compute them from the image-plane `MassProfile` and pass them to the source-plane mat_plot_2d. "
      ]
    },
    {
      "cell_type": "code",
      "metadata": {},
      "source": [
        "visuals = aplt.Visuals2D(\n",
        "    tangential_caustics=image_plane_galaxies.tangential_caustic_list_from(grid=grid),\n",
        "    radial_caustics=image_plane_galaxies.radial_caustic_list_from(grid=grid),\n",
        ")\n",
        "galaxies_plotter = aplt.GalaxiesPlotter(\n",
        "    galaxies=source_plane_galaxies, grid=lensed_grid, visuals_2d=visuals\n",
        ")\n",
        "galaxies_plotter.figures_2d(plane_image=True)"
      ],
      "outputs": [],
      "execution_count": null
    },
    {
      "cell_type": "markdown",
      "metadata": {},
      "source": [
        "__Include__\n",
        "\n",
        "For `GalaxiesPlotter`'s, `GalaxyPlotter`'s and `LightProfilePlotter's that are plotting source-plane images, the only\n",
        "way to plot the caustics is to manually extract them from the foreground `MassProfile`'s, as shown above. This is \n",
        "because these source-plane objects have no knowledge of what objects are in the image-plane.\n",
        "\n",
        "`TracerPlotter`'s automatically extract and plot caustics on source-plane figures, given they have available the \n",
        "necessary information on the image-plane mass. This is shown in `autolens_workspace/plot/plotters/TracerPlotter.py`.\n",
        "\n",
        "A `Plane` and its `Grid2D` contains the following attributes which can be plotted automatically via \n",
        "the `Include2D` object.\n",
        "\n",
        "(By default, a `Grid2D` does not contain a `Mask2D`, we therefore manually created a `Grid2D` with a mask to illustrate\n",
        "plotting its mask and border below)."
      ]
    },
    {
      "cell_type": "code",
      "metadata": {},
      "source": [
        "mask = al.Mask2D.circular(\n",
        "    shape_native=grid.shape_native, pixel_scales=grid.pixel_scales, radius=2.0\n",
        ")\n",
        "masked_grid = al.Grid2D.from_mask(mask=mask)\n",
        "\n",
        "include = aplt.Include2D(\n",
        "    origin=True,\n",
        "    mask=True,\n",
        "    border=True,\n",
        "    light_profile_centres=True,\n",
        "    mass_profile_centres=True,\n",
        "    tangential_critical_curves=True,\n",
        "    radial_critical_curves=True,\n",
        ")"
      ],
      "outputs": [],
      "execution_count": null
    },
    {
      "cell_type": "markdown",
      "metadata": {},
      "source": [
        "Note that the image-plane has no `LightProfile`'s and does not plot any light-profile centres. Similarly, the \n",
        "source-plane has no `MassProfile`'s and plot no mass-profile centres."
      ]
    },
    {
      "cell_type": "code",
      "metadata": {},
      "source": [
        "galaxies_plotter = aplt.GalaxiesPlotter(\n",
        "    galaxies=image_plane_galaxies, grid=masked_grid, include_2d=include\n",
        ")\n",
        "galaxies_plotter.figures_2d(image=True)\n",
        "galaxies_plotter = aplt.GalaxiesPlotter(\n",
        "    galaxies=source_plane_galaxies, grid=masked_grid, include_2d=include\n",
        ")\n",
        "galaxies_plotter.figures_2d(image=True)"
      ],
      "outputs": [],
      "execution_count": null
    },
    {
      "cell_type": "markdown",
      "metadata": {},
      "source": [
        "__Log10__\n",
        "\n",
        "A plane's light and mass profiles are often clearer in log10 space, which inputting `use_log10=True` into \n",
        "the `MatPlot2D` object will do.\n",
        "\n",
        "The same image can be set up manually via the `CMap`, `Contour` and `Colorbar` objects, but given this is a common\n",
        "use-case, the `use_log10` input is provided for convenience."
      ]
    },
    {
      "cell_type": "code",
      "metadata": {},
      "source": [
        "galaxies_plotter = aplt.GalaxiesPlotter(\n",
        "    galaxies=image_plane_galaxies,\n",
        "    grid=masked_grid,\n",
        "    mat_plot_2d=aplt.MatPlot2D(use_log10=True),\n",
        ")\n",
        "galaxies_plotter.figures_2d(image=True, convergence=True, potential=True)"
      ],
      "outputs": [],
      "execution_count": null
    },
    {
      "cell_type": "markdown",
      "metadata": {},
      "source": [
        "Finish."
      ]
    },
    {
      "cell_type": "code",
      "metadata": {},
      "source": [],
      "outputs": [],
      "execution_count": null
    }
  ],
  "metadata": {
    "anaconda-cloud": {},
    "kernelspec": {
      "display_name": "Python 3",
      "language": "python",
      "name": "python3"
    },
    "language_info": {
      "codemirror_mode": {
        "name": "ipython",
        "version": 3
      },
      "file_extension": ".py",
      "mimetype": "text/x-python",
      "name": "python",
      "nbconvert_exporter": "python",
      "pygments_lexer": "ipython3",
      "version": "3.6.1"
    }
  },
  "nbformat": 4,
  "nbformat_minor": 4
}