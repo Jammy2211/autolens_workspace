{
  "cells": [
    {
      "cell_type": "markdown",
      "metadata": {},
      "source": [
        "Plots: LightProfilePlotter\n",
        "==========================\n",
        "\n",
        "This example illustrates how to plot a `LightProfile` using a `LightProfilePlotter`.\n",
        "\n",
        "__Start Here Notebook__\n",
        "\n",
        "If any code in this script is unclear, refer to the `plot/start_here.ipynb` notebook."
      ]
    },
    {
      "cell_type": "code",
      "metadata": {},
      "source": [
        "%matplotlib inline\n",
        "from pyprojroot import here\n",
        "workspace_path = str(here())\n",
        "%cd $workspace_path\n",
        "print(f\"Working Directory has been set to `{workspace_path}`\")\n",
        "\n",
        "import autolens as al\n",
        "import autolens.plot as aplt"
      ],
      "outputs": [],
      "execution_count": null
    },
    {
      "cell_type": "markdown",
      "metadata": {},
      "source": [
        "__Light Profile__\n",
        "\n",
        "First, lets create a simple `LightProfile` which we'll plot."
      ]
    },
    {
      "cell_type": "code",
      "metadata": {},
      "source": [
        "bulge = al.lp.Sersic(\n",
        "    centre=(0.0, 0.0),\n",
        "    ell_comps=al.convert.ell_comps_from(axis_ratio=0.9, angle=45.0),\n",
        "    intensity=1.0,\n",
        "    effective_radius=0.8,\n",
        "    sersic_index=4.0,\n",
        ")"
      ],
      "outputs": [],
      "execution_count": null
    },
    {
      "cell_type": "markdown",
      "metadata": {},
      "source": [
        "__Grid__\n",
        "\n",
        "We also need the 2D grid the `LightProfile` is evaluated on."
      ]
    },
    {
      "cell_type": "code",
      "metadata": {},
      "source": [
        "grid = al.Grid2D.uniform(shape_native=(100, 100), pixel_scales=0.05)"
      ],
      "outputs": [],
      "execution_count": null
    },
    {
      "cell_type": "markdown",
      "metadata": {},
      "source": [
        "__Figures__\n",
        "\n",
        "We now pass the light profile and grid to a `LightProfilePlotter` and call various `figure_*` methods to \n",
        "plot different attributes in 1D and 2D."
      ]
    },
    {
      "cell_type": "code",
      "metadata": {},
      "source": [
        "light_profile_plotter = aplt.LightProfilePlotter(light_profile=bulge, grid=grid)\n",
        "light_profile_plotter.figures_1d(image=True)\n",
        "light_profile_plotter.figures_2d(image=True)"
      ],
      "outputs": [],
      "execution_count": null
    },
    {
      "cell_type": "markdown",
      "metadata": {},
      "source": [
        "__Include__\n",
        "\n",
        "A `LightProfile` and its `Grid2D` contains the following attributes which can be plotted automatically via \n",
        "the `Include2D` object.\n",
        "\n",
        "(By default, a `Grid2D` does not contain a `Mask2D`, we therefore manually created a `Grid2D` with a mask to illustrate\n",
        "plotting its mask and border below)."
      ]
    },
    {
      "cell_type": "code",
      "metadata": {},
      "source": [
        "include = aplt.Include2D(\n",
        "    origin=True, mask=True, border=True, light_profile_centres=True\n",
        ")\n",
        "\n",
        "mask = al.Mask2D.circular(\n",
        "    shape_native=grid.shape_native, pixel_scales=grid.pixel_scales, radius=2.0\n",
        ")\n",
        "masked_grid = al.Grid2D.from_mask(mask=mask)\n",
        "\n",
        "light_profile_plotter = aplt.LightProfilePlotter(\n",
        "    light_profile=bulge, grid=masked_grid, include_2d=include\n",
        ")\n",
        "light_profile_plotter.figures_2d(image=True)"
      ],
      "outputs": [],
      "execution_count": null
    },
    {
      "cell_type": "markdown",
      "metadata": {},
      "source": [
        "__Log10__\n",
        "\n",
        "Light profiles are often clearer in log10 space, which inputting `use_log10=True` into the `MatPlot2D` object\n",
        "will do.\n",
        "\n",
        "The same image can be set up manually via the `CMap`, `Contour` and `Colorbar` objects, but given this is a common\n",
        "use-case, the `use_log10` input is provided for convenience."
      ]
    },
    {
      "cell_type": "code",
      "metadata": {},
      "source": [
        "light_profile_plotter = aplt.LightProfilePlotter(\n",
        "    light_profile=bulge, grid=grid, mat_plot_2d=aplt.MatPlot2D(use_log10=True)\n",
        ")\n",
        "light_profile_plotter.figures_2d(image=True)"
      ],
      "outputs": [],
      "execution_count": null
    },
    {
      "cell_type": "markdown",
      "metadata": {},
      "source": [
        "__Errors__\n",
        "\n",
        "Using a `LightProfilePDFPlotter`, we can make 1D plots that show the errors of a light model estimated via a model-fit. \n",
        "\n",
        "Here, the `light_profile_pdf_list` is a list of `LightProfile` objects that are drawn randomly from the PDF of a \n",
        "model-fit (the database tutorials show how these can be easily computed after a model fit). \n",
        "\n",
        "These are used to estimate the errors at an input `sigma` value of: \n",
        "\n",
        " - The 1D light profile, which is plotted as a shaded region on the figure. \n",
        " - The median `half_light_radius` with errors, which are plotted as vertical lines.\n",
        "\n",
        "Below, we manually input two `LightProfiles` that clearly show these errors on the figure."
      ]
    },
    {
      "cell_type": "code",
      "metadata": {},
      "source": [
        "bulge_0 = al.lp.Sersic(\n",
        "    centre=(0.0, 0.0),\n",
        "    ell_comps=al.convert.ell_comps_from(axis_ratio=0.9, angle=45.0),\n",
        "    intensity=1.5,\n",
        "    effective_radius=0.4,\n",
        "    sersic_index=4.0,\n",
        ")\n",
        "\n",
        "bulge_1 = al.lp.Sersic(\n",
        "    centre=(0.0, 0.0),\n",
        "    ell_comps=al.convert.ell_comps_from(axis_ratio=0.9, angle=45.0),\n",
        "    intensity=0.5,\n",
        "    effective_radius=1.6,\n",
        "    sersic_index=4.0,\n",
        ")\n",
        "\n",
        "light_profile_pdf_plotter = aplt.LightProfilePDFPlotter(\n",
        "    light_profile_pdf_list=[bulge_0, bulge_1], grid=grid, sigma=3.0\n",
        ")\n",
        "light_profile_pdf_plotter.figures_1d(image=True)"
      ],
      "outputs": [],
      "execution_count": null
    },
    {
      "cell_type": "markdown",
      "metadata": {},
      "source": [
        "Finish."
      ]
    },
    {
      "cell_type": "code",
      "metadata": {},
      "source": [],
      "outputs": [],
      "execution_count": null
    }
  ],
  "metadata": {
    "anaconda-cloud": {},
    "kernelspec": {
      "display_name": "Python 3",
      "language": "python",
      "name": "python3"
    },
    "language_info": {
      "codemirror_mode": {
        "name": "ipython",
        "version": 3
      },
      "file_extension": ".py",
      "mimetype": "text/x-python",
      "name": "python",
      "nbconvert_exporter": "python",
      "pygments_lexer": "ipython3",
      "version": "3.6.1"
    }
  },
  "nbformat": 4,
  "nbformat_minor": 4
}