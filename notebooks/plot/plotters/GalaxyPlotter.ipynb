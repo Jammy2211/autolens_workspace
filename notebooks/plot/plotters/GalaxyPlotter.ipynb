{
  "cells": [
    {
      "cell_type": "markdown",
      "metadata": {},
      "source": [
        "Plots: GalaxyPlotter\n",
        "====================\n",
        "\n",
        "This example illustrates how to plot a `Galaxy` using a `GalaxyPlotter`.\n",
        "\n",
        "__Start Here Notebook__\n",
        "\n",
        "If any code in this script is unclear, refer to the `plot/start_here.ipynb` notebook."
      ]
    },
    {
      "cell_type": "code",
      "metadata": {},
      "source": [
        "%matplotlib inline\n",
        "from pyprojroot import here\n",
        "workspace_path = str(here())\n",
        "%cd $workspace_path\n",
        "print(f\"Working Directory has been set to `{workspace_path}`\")\n",
        "\n",
        "import autolens as al\n",
        "import autolens.plot as aplt"
      ],
      "outputs": [],
      "execution_count": null
    },
    {
      "cell_type": "markdown",
      "metadata": {},
      "source": [
        "__Galaxy__\n",
        "\n",
        "First, lets create a `Galaxy` with multiple `LightProfile`'s and a `MassProfile`."
      ]
    },
    {
      "cell_type": "code",
      "metadata": {},
      "source": [
        "bulge = al.lp.Sersic(\n",
        "    centre=(0.0, -0.05),\n",
        "    ell_comps=al.convert.ell_comps_from(axis_ratio=0.9, angle=45.0),\n",
        "    intensity=4.0,\n",
        "    effective_radius=0.6,\n",
        "    sersic_index=3.0,\n",
        ")\n",
        "\n",
        "disk = al.lp.Exponential(\n",
        "    centre=(0.0, 0.05),\n",
        "    ell_comps=al.convert.ell_comps_from(axis_ratio=0.7, angle=30.0),\n",
        "    intensity=2.0,\n",
        "    effective_radius=1.6,\n",
        ")\n",
        "\n",
        "mass = al.mp.Isothermal(\n",
        "    centre=(0.0, 0.0),\n",
        "    einstein_radius=0.8,\n",
        "    ell_comps=al.convert.ell_comps_from(axis_ratio=0.7, angle=45.0),\n",
        ")\n",
        "\n",
        "galaxy = al.Galaxy(redshift=0.5, bulge=bulge, disk=disk, mass=mass)"
      ],
      "outputs": [],
      "execution_count": null
    },
    {
      "cell_type": "markdown",
      "metadata": {},
      "source": [
        "__Grid__\n",
        "\n",
        "We also need the 2D grid the `Galaxy`'s `Profile`'s are evaluated on."
      ]
    },
    {
      "cell_type": "code",
      "metadata": {},
      "source": [
        "grid = al.Grid2D.uniform(shape_native=(100, 100), pixel_scales=0.05)"
      ],
      "outputs": [],
      "execution_count": null
    },
    {
      "cell_type": "markdown",
      "metadata": {},
      "source": [
        "__Figures__\n",
        "\n",
        "We now pass the galaxy and grid to a `GalaxyPlotter` and call various `figure_*` methods to plot different attributes.\n",
        "\n",
        "Below, we create 2D figures showing the image, convergence and other properties of the galaxy. Later in the script\n",
        "we show how to make 1D plots as a function of radius of these quantities."
      ]
    },
    {
      "cell_type": "code",
      "metadata": {},
      "source": [
        "galaxy_plotter = aplt.GalaxyPlotter(galaxy=galaxy, grid=grid)\n",
        "galaxy_plotter.figures_2d(\n",
        "    image=True,\n",
        "    convergence=True,\n",
        "    potential=False,\n",
        "    deflections_y=True,\n",
        "    deflections_x=True,\n",
        "    magnification=True,\n",
        ")"
      ],
      "outputs": [],
      "execution_count": null
    },
    {
      "cell_type": "markdown",
      "metadata": {},
      "source": [
        "__Subplots__\n",
        "\n",
        "The `GalaxyPlotter` also has subplot method that plot each individual `Profile` in 2D as well as a 1D plot showing all\n",
        "`Profiles` together."
      ]
    },
    {
      "cell_type": "code",
      "metadata": {},
      "source": [
        "galaxy_plotter.subplot_of_light_profiles(image=True)\n",
        "galaxy_plotter.subplot_of_mass_profiles(\n",
        "    convergence=True, potential=True, deflections_y=True, deflections_x=True\n",
        ")"
      ],
      "outputs": [],
      "execution_count": null
    },
    {
      "cell_type": "markdown",
      "metadata": {},
      "source": [
        "__Include__\n",
        "\n",
        "A `Galaxy` and its `Grid2D` contains the following attributes which can be plotted automatically via \n",
        "the `Include2D` object.\n",
        "\n",
        "(By default, a `Grid2D` does not contain a `Mask2D`, we therefore manually created a `Grid2D` with a mask to illustrate\n",
        "plotting its mask and border below)."
      ]
    },
    {
      "cell_type": "code",
      "metadata": {},
      "source": [
        "include = aplt.Include2D(\n",
        "    origin=True,\n",
        "    mask=True,\n",
        "    border=True,\n",
        "    light_profile_centres=True,\n",
        "    mass_profile_centres=True,\n",
        "    tangential_critical_curves=True,\n",
        "    radial_critical_curves=True,\n",
        ")\n",
        "\n",
        "mask = al.Mask2D.circular(\n",
        "    shape_native=grid.shape_native, pixel_scales=grid.pixel_scales, radius=2.0\n",
        ")\n",
        "masked_grid = al.Grid2D.from_mask(mask=mask)\n",
        "\n",
        "galaxy_plotter = aplt.GalaxyPlotter(galaxy=galaxy, grid=masked_grid, include_2d=include)\n",
        "galaxy_plotter.figures_2d(image=True)\n"
      ],
      "outputs": [],
      "execution_count": null
    },
    {
      "cell_type": "markdown",
      "metadata": {},
      "source": [
        "__Figures 1D__\n",
        "\n",
        "We can plot 1D profiles, which display a properties of the galaxy in 1D as a function of radius.\n",
        "\n",
        "For the 1D plot of each profile, the 1D grid of (x,) coordinates is centred on the profile and aligned with the \n",
        "major-axis. \n",
        "\n",
        "Because the `GalaxyPlotter` above has an input `Grid2D` object, the 1D grid of radial coordinates used to plot\n",
        "these quantities is derived from this 2D grid. The 1D grid corresponds to the longest radial distance from the centre\n",
        "of the galaxy's light or mass profiles to the edge of the 2D grid."
      ]
    },
    {
      "cell_type": "code",
      "metadata": {},
      "source": [
        "galaxy_plotter.figures_1d(image=True, convergence=True, potential=True)"
      ],
      "outputs": [],
      "execution_count": null
    },
    {
      "cell_type": "markdown",
      "metadata": {},
      "source": [
        "If we want a specific 1D grid of a certain length over a certain range of coordinates, we can manually input a `Grid1D`\n",
        "object.\n",
        "\n",
        "Below, we create a `Grid1D` starting from 0 which plots the image and convergence over the radial range 0.0\" -> 10.0\"."
      ]
    },
    {
      "cell_type": "code",
      "metadata": {},
      "source": [
        "grid_1d = al.Grid1D.uniform_from_zero(shape_native=(1000,), pixel_scales=0.01)\n",
        "\n",
        "galaxy_plotter = aplt.GalaxyPlotter(galaxy=galaxy, grid=grid)\n",
        "\n",
        "galaxy_plotter.figures_1d(image=True, convergence=True)"
      ],
      "outputs": [],
      "execution_count": null
    },
    {
      "cell_type": "markdown",
      "metadata": {},
      "source": [
        "Using a `Grid1D` which does not start from 0.0\" plots the 1D quantity with both negative and positive radial \n",
        "coordinates.\n",
        "\n",
        "This plot isn't particularly useful, but it shows how 1D plots work."
      ]
    },
    {
      "cell_type": "code",
      "metadata": {},
      "source": [
        "grid_1d = al.Grid1D.uniform(shape_native=(1000,), pixel_scales=0.01)\n",
        "\n",
        "galaxy_plotter = aplt.GalaxyPlotter(galaxy=galaxy, grid=grid)\n",
        "\n",
        "galaxy_plotter.figures_1d(image=True, convergence=True)"
      ],
      "outputs": [],
      "execution_count": null
    },
    {
      "cell_type": "markdown",
      "metadata": {},
      "source": [
        "We can also plot decomposed 1D profiles, which display the 1D quantity of every individual light and / or mass profiles. \n",
        "\n",
        "For the 1D plot of each profile, the 1D grid of (x) coordinates is centred on the profile and aligned with the \n",
        "major-axis. This means that if the galaxy consists of multiple profiles with different centres or angles the 1D plots \n",
        "are defined in a common way and appear aligned on the figure.\n",
        "\n",
        "We'll plot this using our masked grid above, which converts the 2D grid to a 1D radial grid used to plot every\n",
        "profile individually."
      ]
    },
    {
      "cell_type": "code",
      "metadata": {},
      "source": [
        "galaxy_plotter = aplt.GalaxyPlotter(galaxy=galaxy, grid=masked_grid)\n",
        "\n",
        "galaxy_plotter.figures_1d_decomposed(image=True, convergence=True, potential=True)"
      ],
      "outputs": [],
      "execution_count": null
    },
    {
      "cell_type": "markdown",
      "metadata": {},
      "source": [
        "__Errors__\n",
        "\n",
        "Using a `GalaxyPDFPlotter`, we can make 1D plots that show the errors of the light and mass models estimated via a \n",
        "model-fit. \n",
        "\n",
        "Here, the `galaxy_pdf_list` is a list of `Galaxy` objects that are drawn randomly from the PDF of a model-fit (the \n",
        "database tutorials show how these can be easily computed after a model fit). \n",
        "\n",
        "These are used to estimate the errors at an input `sigma` value of: \n",
        "\n",
        " - The 1D light or mass profile, which is plotted as a shaded region on the figure. \n",
        " - The median `half_light_radius` and `einstein_radius1 with errors, which are plotted as vertical lines.\n",
        "\n",
        "Below, we manually input two `Galaxy` objects with ligth and mass profiles that clearly show these errors on the figure."
      ]
    },
    {
      "cell_type": "code",
      "metadata": {},
      "source": [
        "bulge_0 = al.lp.Sersic(intensity=4.0, effective_radius=0.4, sersic_index=3.0)\n",
        "\n",
        "disk_0 = al.lp.Exponential(intensity=2.0, effective_radius=1.4)\n",
        "\n",
        "mass_0 = al.mp.Isothermal(einstein_radius=0.7)\n",
        "\n",
        "mass_clump_0 = al.mp.Isothermal(einstein_radius=0.1)\n",
        "\n",
        "galaxy_0 = al.Galaxy(\n",
        "    redshift=0.5, bulge=bulge_0, disk=disk_0, mass=mass_0, mass_clump=mass_clump_0\n",
        ")\n",
        "\n",
        "bulge_1 = al.lp.Sersic(intensity=4.0, effective_radius=0.8, sersic_index=3.0)\n",
        "\n",
        "disk_1 = al.lp.Exponential(intensity=2.0, effective_radius=1.8)\n",
        "\n",
        "mass_1 = al.mp.Isothermal(einstein_radius=0.9)\n",
        "\n",
        "mass_clump_1 = al.mp.Isothermal(einstein_radius=0.2)\n",
        "\n",
        "galaxy_1 = al.Galaxy(\n",
        "    redshift=0.5, bulge=bulge_1, disk=disk_1, mass=mass_1, mass_clump=mass_clump_1\n",
        ")\n",
        "\n",
        "galaxy_pdf_plotter = aplt.GalaxyPDFPlotter(\n",
        "    galaxy_pdf_list=[galaxy_0, galaxy_1], grid=grid, sigma=3.0\n",
        ")\n",
        "galaxy_pdf_plotter.figures_1d(image=True, convergence=True, potential=True)"
      ],
      "outputs": [],
      "execution_count": null
    },
    {
      "cell_type": "markdown",
      "metadata": {},
      "source": [
        "A decomposed plot of the individual light profiles of the galaxy, with errors, can also be created."
      ]
    },
    {
      "cell_type": "code",
      "metadata": {},
      "source": [
        "galaxy_pdf_plotter.figures_1d_decomposed(image=True, convergence=True, potential=True)"
      ],
      "outputs": [],
      "execution_count": null
    },
    {
      "cell_type": "markdown",
      "metadata": {},
      "source": [
        "Finish."
      ]
    },
    {
      "cell_type": "code",
      "metadata": {},
      "source": [],
      "outputs": [],
      "execution_count": null
    }
  ],
  "metadata": {
    "anaconda-cloud": {},
    "kernelspec": {
      "display_name": "Python 3",
      "language": "python",
      "name": "python3"
    },
    "language_info": {
      "codemirror_mode": {
        "name": "ipython",
        "version": 3
      },
      "file_extension": ".py",
      "mimetype": "text/x-python",
      "name": "python",
      "nbconvert_exporter": "python",
      "pygments_lexer": "ipython3",
      "version": "3.6.1"
    }
  },
  "nbformat": 4,
  "nbformat_minor": 4
}