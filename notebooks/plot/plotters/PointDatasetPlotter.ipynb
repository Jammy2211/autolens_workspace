{
  "cells": [
    {
      "cell_type": "markdown",
      "metadata": {},
      "source": [
        "Plots: PointDatasetPlotter\n",
        "==========================\n",
        "\n",
        "This example illustrates how to plot a `PointDataset` dataset using an `PointDatasetPlotter`."
      ]
    },
    {
      "cell_type": "code",
      "metadata": {},
      "source": [
        "%matplotlib inline\n",
        "from pyprojroot import here\n",
        "workspace_path = str(here())\n",
        "%cd $workspace_path\n",
        "print(f\"Working Directory has been set to `{workspace_path}`\")\n",
        "\n",
        "from os import path\n",
        "import autolens as al\n",
        "import autolens.plot as aplt"
      ],
      "outputs": [],
      "execution_count": null
    },
    {
      "cell_type": "markdown",
      "metadata": {},
      "source": [
        "__Dataset__\n",
        "\n",
        "First, lets load an example strong lens `PointDataset` object."
      ]
    },
    {
      "cell_type": "code",
      "metadata": {},
      "source": [
        "dataset_name = \"simple\"\n",
        "dataset_path = path.join(\"dataset\", \"point_source\", dataset_name)\n",
        "\n",
        "point_dict = al.PointDict.from_json(\n",
        "    file_path=path.join(dataset_path, \"point_dict.json\")\n",
        ")\n",
        "\n",
        "point_dataset = point_dict[\"point_0\"]"
      ],
      "outputs": [],
      "execution_count": null
    },
    {
      "cell_type": "markdown",
      "metadata": {},
      "source": [
        "__Figures__\n",
        "\n",
        "We now pass the point dataset to a `PointDatasetPlotter` and call various `figure_*` methods to plot different \n",
        "attributes."
      ]
    },
    {
      "cell_type": "code",
      "metadata": {},
      "source": [
        "point_dataset_plotter = aplt.PointDatasetPlotter(point_dataset=point_dataset)\n",
        "# point_dataset_plotter.figures_2d(positions=True, fluxes=True)"
      ],
      "outputs": [],
      "execution_count": null
    },
    {
      "cell_type": "markdown",
      "metadata": {},
      "source": [
        "__Subplots__\n",
        "\n",
        "The `PointDatasetPlotter` can also plot a subplot of all of these attributes."
      ]
    },
    {
      "cell_type": "code",
      "metadata": {},
      "source": [
        "point_dataset_plotter.subplot_dataset()"
      ],
      "outputs": [],
      "execution_count": null
    },
    {
      "cell_type": "markdown",
      "metadata": {},
      "source": [
        "Finish."
      ]
    },
    {
      "cell_type": "code",
      "metadata": {},
      "source": [],
      "outputs": [],
      "execution_count": null
    }
  ],
  "metadata": {
    "anaconda-cloud": {},
    "kernelspec": {
      "display_name": "Python 3",
      "language": "python",
      "name": "python3"
    },
    "language_info": {
      "codemirror_mode": {
        "name": "ipython",
        "version": 3
      },
      "file_extension": ".py",
      "mimetype": "text/x-python",
      "name": "python",
      "nbconvert_exporter": "python",
      "pygments_lexer": "ipython3",
      "version": "3.6.1"
    }
  },
  "nbformat": 4,
  "nbformat_minor": 4
}