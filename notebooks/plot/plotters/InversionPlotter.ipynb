{
  "cells": [
    {
      "cell_type": "markdown",
      "metadata": {},
      "source": [
        "Plots: InversionPlotter\n",
        "=======================\n",
        "\n",
        "This example illustrates how to plot a `Inversion` using a `InversionPlotter`.\n",
        "\n",
        "__Start Here Notebook__\n",
        "\n",
        "If any code in this script is unclear, refer to the `plot/start_here.ipynb` notebook."
      ]
    },
    {
      "cell_type": "code",
      "metadata": {},
      "source": [
        "%matplotlib inline\n",
        "from pyprojroot import here\n",
        "workspace_path = str(here())\n",
        "%cd $workspace_path\n",
        "print(f\"Working Directory has been set to `{workspace_path}`\")\n",
        "\n",
        "from os import path\n",
        "import autolens as al\n",
        "import autolens.plot as aplt"
      ],
      "outputs": [],
      "execution_count": null
    },
    {
      "cell_type": "markdown",
      "metadata": {},
      "source": [
        "__Dataset__\n",
        "\n",
        "First, lets load example imaging of of a strong lens as an `Imaging` object."
      ]
    },
    {
      "cell_type": "code",
      "metadata": {},
      "source": [
        "dataset_name = \"simple__no_lens_light\"\n",
        "dataset_path = path.join(\"dataset\", \"imaging\", dataset_name)\n",
        "\n",
        "dataset = al.Imaging.from_fits(\n",
        "    data_path=path.join(dataset_path, \"data.fits\"),\n",
        "    psf_path=path.join(dataset_path, \"psf.fits\"),\n",
        "    noise_map_path=path.join(dataset_path, \"noise_map.fits\"),\n",
        "    pixel_scales=0.1,\n",
        ")"
      ],
      "outputs": [],
      "execution_count": null
    },
    {
      "cell_type": "markdown",
      "metadata": {},
      "source": [
        "We now mask the `Imaging` data so we can fit it with an `Inversion`."
      ]
    },
    {
      "cell_type": "code",
      "metadata": {},
      "source": [
        "mask = al.Mask2D.circular_annular(\n",
        "    shape_native=dataset.shape_native,\n",
        "    pixel_scales=dataset.pixel_scales,\n",
        "    inner_radius=0.3,\n",
        "    outer_radius=3.0,\n",
        ")\n",
        "dataset = dataset.apply_mask(mask=mask)"
      ],
      "outputs": [],
      "execution_count": null
    },
    {
      "cell_type": "markdown",
      "metadata": {},
      "source": [
        "__Tracer__\n",
        "\n",
        "The `Inversion` maps pixels from the image-plane of our `Imaging` data to its source plane, via a lens model.\n",
        "\n",
        "Lets create a `Tracer` which we will use to create the `Inversion`."
      ]
    },
    {
      "cell_type": "code",
      "metadata": {},
      "source": [
        "lens_galaxy = al.Galaxy(\n",
        "    redshift=0.5,\n",
        "    bulge=al.lp_linear.Sersic(),\n",
        "    mass=al.mp.Isothermal(\n",
        "        centre=(0.0, 0.0),\n",
        "        einstein_radius=1.6,\n",
        "        ell_comps=al.convert.ell_comps_from(axis_ratio=0.9, angle=45.0),\n",
        "    ),\n",
        "    shear=al.mp.ExternalShear(gamma_1=0.05, gamma_2=0.05),\n",
        ")\n",
        "\n",
        "pixelization = al.Pixelization(\n",
        "    image_mesh=al.image_mesh.Overlay(shape=(25, 25)),\n",
        "    mesh=al.mesh.Delaunay(),\n",
        "    regularization=al.reg.Constant(coefficient=1.0),\n",
        ")\n",
        "\n",
        "source_galaxy = al.Galaxy(redshift=1.0, pixelization=pixelization)\n",
        "\n",
        "tracer = al.Tracer(galaxies=[lens_galaxy, source_galaxy])"
      ],
      "outputs": [],
      "execution_count": null
    },
    {
      "cell_type": "markdown",
      "metadata": {},
      "source": [
        "Converting a `Tracer` to an `Inversion` performs a number of steps, which are handled by the `TracerToInversion` class. \n",
        "\n",
        "This class is where the data and tracer's galaxies are combined to fit the data via the inversion."
      ]
    },
    {
      "cell_type": "code",
      "metadata": {},
      "source": [
        "tracer_to_inversion = al.TracerToInversion(\n",
        "    tracer=tracer,\n",
        "    dataset=dataset,\n",
        ")\n",
        "\n",
        "inversion = tracer_to_inversion.inversion"
      ],
      "outputs": [],
      "execution_count": null
    },
    {
      "cell_type": "markdown",
      "metadata": {},
      "source": [
        "__Figures__\n",
        "\n",
        "We now pass the inversion to a `InversionPlotter` and call various `figure_*` methods to plot different attributes."
      ]
    },
    {
      "cell_type": "code",
      "metadata": {},
      "source": [
        "inversion_plotter = aplt.InversionPlotter(inversion=inversion)\n",
        "inversion_plotter.figures_2d(reconstructed_image=True)"
      ],
      "outputs": [],
      "execution_count": null
    },
    {
      "cell_type": "markdown",
      "metadata": {},
      "source": [
        "An `Inversion` can have multiple mappers, which reconstruct multiple source galaxies at different redshifts and\n",
        "planes (e.g. double Einstein ring systems).\n",
        "\n",
        "To plot an individual source we must therefore specify the mapper index of the source we plot."
      ]
    },
    {
      "cell_type": "code",
      "metadata": {},
      "source": [
        "inversion_plotter.figures_2d_of_pixelization(\n",
        "    pixelization_index=0,\n",
        "    reconstructed_image=True,\n",
        "    reconstruction=True,\n",
        "    errors=True,\n",
        "    regularization_weights=True,\n",
        ")"
      ],
      "outputs": [],
      "execution_count": null
    },
    {
      "cell_type": "markdown",
      "metadata": {},
      "source": [
        "__Subplots__\n",
        "\n",
        "The `Inversion` attributes can also be plotted as a subplot."
      ]
    },
    {
      "cell_type": "code",
      "metadata": {},
      "source": [
        "inversion_plotter = aplt.InversionPlotter(inversion=inversion)\n",
        "inversion_plotter.subplot_of_mapper(mapper_index=0)"
      ],
      "outputs": [],
      "execution_count": null
    },
    {
      "cell_type": "markdown",
      "metadata": {},
      "source": [
        "The mappings subplot shows the mappings between the image and source plane, by drawing circles around the brightest\n",
        "source pixels and showing how they map to the image-plane."
      ]
    },
    {
      "cell_type": "code",
      "metadata": {},
      "source": [
        "inversion_plotter.subplot_mappings(pixelization_index=0)"
      ],
      "outputs": [],
      "execution_count": null
    },
    {
      "cell_type": "markdown",
      "metadata": {},
      "source": [
        "__Include__\n",
        "\n",
        "Inversion`'s have their own unique attributes that can be plotted via the `Include2D` class:"
      ]
    },
    {
      "cell_type": "code",
      "metadata": {},
      "source": [
        "include = aplt.Include2D(\n",
        "    origin=True,\n",
        "    mask=True,\n",
        "    border=True,\n",
        "    mapper_image_plane_mesh_grid=True,\n",
        "    mapper_source_plane_mesh_grid=True,\n",
        "    mapper_source_plane_data_grid=True,\n",
        ")\n",
        "\n",
        "inversion_plotter = aplt.InversionPlotter(inversion=inversion, include_2d=include)\n",
        "inversion_plotter.figures_2d(reconstructed_image=True)\n",
        "inversion_plotter.figures_2d_of_pixelization(pixelization_index=0, reconstruction=True)\n"
      ],
      "outputs": [],
      "execution_count": null
    },
    {
      "cell_type": "markdown",
      "metadata": {},
      "source": [
        "__Double Einstein Ring__\n",
        "\n",
        "The `InversionPlotter` can also plot lens systems with two (or more) Einstein rings.\n",
        "\n",
        "First, lets load example imaging of a strong lens with two Einstein rings."
      ]
    },
    {
      "cell_type": "code",
      "metadata": {},
      "source": [
        "dataset_name = \"double_einstein_ring\"\n",
        "dataset_path = path.join(\"dataset\", \"imaging\", dataset_name)\n",
        "\n",
        "dataset = al.Imaging.from_fits(\n",
        "    data_path=path.join(dataset_path, \"data.fits\"),\n",
        "    psf_path=path.join(dataset_path, \"psf.fits\"),\n",
        "    noise_map_path=path.join(dataset_path, \"noise_map.fits\"),\n",
        "    pixel_scales=0.1,\n",
        ")"
      ],
      "outputs": [],
      "execution_count": null
    },
    {
      "cell_type": "markdown",
      "metadata": {},
      "source": [
        "We now mask the `Imaging` data so we can fit it with an `Inversion`."
      ]
    },
    {
      "cell_type": "code",
      "metadata": {},
      "source": [
        "mask = al.Mask2D.circular_annular(\n",
        "    shape_native=dataset.shape_native,\n",
        "    pixel_scales=dataset.pixel_scales,\n",
        "    inner_radius=0.3,\n",
        "    outer_radius=3.5,\n",
        ")\n",
        "dataset = dataset.apply_mask(mask=mask)"
      ],
      "outputs": [],
      "execution_count": null
    },
    {
      "cell_type": "markdown",
      "metadata": {},
      "source": [
        "__Tracer__\n",
        "\n",
        "The `Inversion` maps pixels from the image-plane of our `Imaging` data to its source plane, via a lens model.\n",
        "\n",
        "Lets create a `Tracer` which we will use to create the `Inversion`."
      ]
    },
    {
      "cell_type": "code",
      "metadata": {},
      "source": [
        "\n",
        "lens_galaxy = al.Galaxy(\n",
        "    redshift=0.5,\n",
        "    bulge=al.lp.Sersic(\n",
        "        centre=(0.0, 0.0),\n",
        "        ell_comps=al.convert.ell_comps_from(axis_ratio=0.9, angle=45.0),\n",
        "        intensity=1.0,\n",
        "        effective_radius=0.8,\n",
        "        sersic_index=4.0,\n",
        "    ),\n",
        "    mass=al.mp.Isothermal(\n",
        "        centre=(0.0, 0.0),\n",
        "        einstein_radius=1.5,\n",
        "        ell_comps=al.convert.ell_comps_from(axis_ratio=0.9, angle=45.0),\n",
        "    ),\n",
        ")\n",
        "\n",
        "pixelization = al.Pixelization(\n",
        "    image_mesh=al.image_mesh.Overlay(shape=(25, 25)),\n",
        "    mesh=al.mesh.Delaunay(),\n",
        "    regularization=al.reg.Constant(coefficient=1.0),\n",
        ")\n",
        "\n",
        "source_galaxy_0 = al.Galaxy(\n",
        "    redshift=1.0,\n",
        "    mass=al.mp.IsothermalSph(centre=(-0.15, -0.15), einstein_radius=0.3),\n",
        "    pixelization=pixelization,\n",
        ")\n",
        "\n",
        "source_galaxy_1 = al.Galaxy(redshift=2.0, pixelization=pixelization)\n",
        "\n",
        "tracer = al.Tracer(galaxies=[lens_galaxy, source_galaxy_0, source_galaxy_1])"
      ],
      "outputs": [],
      "execution_count": null
    },
    {
      "cell_type": "markdown",
      "metadata": {},
      "source": [
        "Converting a `Tracer` to an `Inversion` performs a number of steps, which are handled by the `TracerToInversion` class. \n",
        "\n",
        "This class is where the data and tracer's galaxies are combined to fit the data via the inversion."
      ]
    },
    {
      "cell_type": "code",
      "metadata": {},
      "source": [
        "tracer_to_inversion = al.TracerToInversion(\n",
        "    tracer=tracer,\n",
        "    dataset=dataset,\n",
        ")\n",
        "\n",
        "inversion = tracer_to_inversion.inversion"
      ],
      "outputs": [],
      "execution_count": null
    },
    {
      "cell_type": "markdown",
      "metadata": {},
      "source": [
        "__Figures__\n",
        "\n",
        "We now pass the inversion to a `InversionPlotter` and call various `figure_*` methods to plot different attributes."
      ]
    },
    {
      "cell_type": "code",
      "metadata": {},
      "source": [
        "inversion_plotter = aplt.InversionPlotter(inversion=inversion)\n",
        "inversion_plotter.figures_2d(reconstructed_image=True)"
      ],
      "outputs": [],
      "execution_count": null
    },
    {
      "cell_type": "markdown",
      "metadata": {},
      "source": [
        "An `Inversion` can have multiple mappers, which reconstruct multiple source galaxies at different redshifts and\n",
        "planes (e.g. double Einstein ring systems).\n",
        "\n",
        "To plot an individual source we must therefore specify the mapper index of the source we plot."
      ]
    },
    {
      "cell_type": "code",
      "metadata": {},
      "source": [
        "inversion_plotter.figures_2d_of_pixelization(\n",
        "    pixelization_index=0, reconstructed_image=True, reconstruction=True\n",
        ")\n",
        "\n",
        "inversion_plotter.figures_2d_of_pixelization(\n",
        "    pixelization_index=1, reconstructed_image=True, reconstruction=True\n",
        ")"
      ],
      "outputs": [],
      "execution_count": null
    },
    {
      "cell_type": "markdown",
      "metadata": {},
      "source": [
        "__Subplots__\n",
        "\n",
        "The `Inversion` attributes can also be plotted as a subplot."
      ]
    },
    {
      "cell_type": "code",
      "metadata": {},
      "source": [
        "inversion_plotter = aplt.InversionPlotter(inversion=inversion)\n",
        "inversion_plotter.subplot_of_mapper(mapper_index=0)\n",
        "inversion_plotter.subplot_of_mapper(mapper_index=1)"
      ],
      "outputs": [],
      "execution_count": null
    },
    {
      "cell_type": "markdown",
      "metadata": {},
      "source": [
        "__Include__\n",
        "\n",
        "Inversion`'s have their own unique attributes that can be plotted via the `Include2D` class:"
      ]
    },
    {
      "cell_type": "code",
      "metadata": {},
      "source": [
        "include = aplt.Include2D(\n",
        "    origin=True,\n",
        "    mask=True,\n",
        "    border=True,\n",
        "    mapper_image_plane_mesh_grid=True,\n",
        "    mapper_source_plane_mesh_grid=True,\n",
        "    mapper_source_plane_data_grid=True,\n",
        ")\n",
        "\n",
        "inversion_plotter = aplt.InversionPlotter(inversion=inversion, include_2d=include)\n",
        "inversion_plotter.figures_2d(reconstructed_image=True)\n",
        "inversion_plotter.figures_2d_of_pixelization(pixelization_index=0, reconstruction=True)"
      ],
      "outputs": [],
      "execution_count": null
    },
    {
      "cell_type": "markdown",
      "metadata": {},
      "source": [
        "Finish."
      ]
    },
    {
      "cell_type": "code",
      "metadata": {},
      "source": [],
      "outputs": [],
      "execution_count": null
    }
  ],
  "metadata": {
    "anaconda-cloud": {},
    "kernelspec": {
      "display_name": "Python 3",
      "language": "python",
      "name": "python3"
    },
    "language_info": {
      "codemirror_mode": {
        "name": "ipython",
        "version": 3
      },
      "file_extension": ".py",
      "mimetype": "text/x-python",
      "name": "python",
      "nbconvert_exporter": "python",
      "pygments_lexer": "ipython3",
      "version": "3.6.1"
    }
  },
  "nbformat": 4,
  "nbformat_minor": 4
}