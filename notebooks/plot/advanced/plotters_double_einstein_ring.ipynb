{
  "cells": [
    {
      "cell_type": "markdown",
      "metadata": {},
      "source": [
        "Plots: Plotters Double Einstein Ring\n",
        "====================================\n",
        "\n",
        "This example illustrates the API for plotting using `Plotter` objects for double Einstein ring systems which have\n",
        "more than two planes at different redshifts.\n",
        "\n",
        "__Start Here Notebook__\n",
        "\n",
        "You should refer to the `plots/start_here.ipynb` notebook first for a description of how plotters work and the default\n",
        "behaviour of plotting visuals.\n",
        "\n",
        "__Contents__\n",
        "\n",
        "**Setup:** Set up all objects (e.g. grid, tracer, data) used to illustrate plotting.\n",
        "**Fit Imaging:** Plot the fit of a tracer to an imaging dataset for a double Einstein ring system.\n",
        "**Inversion:** Plot the inversion object which performs the linear algebra and other calculations which reconstruct the source galaxy for a double Einstein ring system.\n",
        "\n",
        "__Setup__\n",
        "\n",
        "To illustrate plotting, we require standard objects like a grid, tracer and dataset."
      ]
    },
    {
      "cell_type": "code",
      "metadata": {},
      "source": [
        "\n",
        "%matplotlib inline\n",
        "from pyprojroot import here\n",
        "workspace_path = str(here())\n",
        "%cd $workspace_path\n",
        "print(f\"Working Directory has been set to `{workspace_path}`\")\n",
        "\n",
        "from pathlib import Path\n",
        "import autolens as al\n",
        "import autolens.plot as aplt\n",
        "\n",
        "dataset_name = \"double_einstein_ring\"\n",
        "dataset_path = Path(\"dataset\") / \"imaging\" / dataset_name\n",
        "\n",
        "dataset = al.Imaging.from_fits(\n",
        "    data_path=dataset_path / \"data.fits\",\n",
        "    psf_path=dataset_path / \"psf.fits\",\n",
        "    noise_map_path=dataset_path / \"noise_map.fits\",\n",
        "    pixel_scales=0.1,\n",
        ")\n",
        "\n",
        "mask = al.Mask2D.circular(\n",
        "    shape_native=dataset.shape_native, pixel_scales=dataset.pixel_scales, radius=3.5\n",
        ")\n",
        "dataset = dataset.apply_mask(mask=mask)\n",
        "\n",
        "lens_galaxy = al.Galaxy(\n",
        "    redshift=0.5,\n",
        "    bulge=al.lp.Sersic(\n",
        "        centre=(0.0, 0.0),\n",
        "        ell_comps=al.convert.ell_comps_from(axis_ratio=0.9, angle=45.0),\n",
        "        intensity=1.0,\n",
        "        effective_radius=0.8,\n",
        "        sersic_index=4.0,\n",
        "    ),\n",
        "    mass=al.mp.Isothermal(\n",
        "        centre=(0.0, 0.0),\n",
        "        einstein_radius=1.5,\n",
        "        ell_comps=al.convert.ell_comps_from(axis_ratio=0.9, angle=45.0),\n",
        "    ),\n",
        ")\n",
        "\n",
        "source_galaxy_0 = al.Galaxy(\n",
        "    redshift=1.0,\n",
        "    bulge=al.lp.ExponentialCoreSph(\n",
        "        centre=(-0.15, -0.15), intensity=1.2, effective_radius=0.1\n",
        "    ),\n",
        "    mass=al.mp.IsothermalSph(centre=(-0.15, -0.15), einstein_radius=0.3),\n",
        ")\n",
        "\n",
        "source_galaxy_1 = al.Galaxy(\n",
        "    redshift=2.0,\n",
        "    bulge=al.lp.ExponentialCoreSph(\n",
        "        centre=(-0.45, 0.45), intensity=0.6, effective_radius=0.07\n",
        "    ),\n",
        ")\n",
        "\n",
        "\n",
        "tracer = al.Tracer(galaxies=[lens_galaxy, source_galaxy_0, source_galaxy_1])\n",
        "\n",
        "fit = al.FitImaging(dataset=dataset, tracer=tracer)"
      ],
      "outputs": [],
      "execution_count": null
    },
    {
      "cell_type": "markdown",
      "metadata": {},
      "source": [
        "__Fit Imaging__\n",
        "\n",
        "The `FitImaging` object is a base object which represents the fit of a model to an imaging dataset, including the\n",
        "residuals, chi-squared and model image.\n",
        "\n",
        "We now pass the FitImaging to an `FitImagingPlotter` and call various `figure_*` methods to plot different attributes."
      ]
    },
    {
      "cell_type": "code",
      "metadata": {},
      "source": [
        "fit_plotter = aplt.FitImagingPlotter(fit=fit)\n",
        "\n",
        "fit_plotter.set_mat_plots_for_subplot(is_for_subplot=False)\n",
        "\n",
        "fit_plotter.figures_2d(\n",
        "    data=True,\n",
        "    noise_map=True,\n",
        "    signal_to_noise_map=True,\n",
        "    model_image=True,\n",
        "    residual_map=True,\n",
        "    normalized_residual_map=True,\n",
        "    chi_squared_map=True,\n",
        ")"
      ],
      "outputs": [],
      "execution_count": null
    },
    {
      "cell_type": "markdown",
      "metadata": {},
      "source": [
        "It can plot of the model image of an input plane."
      ]
    },
    {
      "cell_type": "code",
      "metadata": {},
      "source": [
        "fit_plotter.figures_2d_of_planes(plane_index=0, model_image=True)\n",
        "fit_plotter.figures_2d_of_planes(plane_index=1, model_image=True)\n",
        "fit_plotter.figures_2d_of_planes(model_image=True, plane_index=2)"
      ],
      "outputs": [],
      "execution_count": null
    },
    {
      "cell_type": "markdown",
      "metadata": {},
      "source": [
        "It can plot the image of a plane with all other model images subtracted."
      ]
    },
    {
      "cell_type": "code",
      "metadata": {},
      "source": [
        "fit_plotter.figures_2d_of_planes(plane_index=0, subtracted_image=True)\n",
        "fit_plotter.figures_2d_of_planes(plane_index=1, subtracted_image=True)\n",
        "fit_plotter.figures_2d_of_planes(subtracted_image=True, plane_index=2)"
      ],
      "outputs": [],
      "execution_count": null
    },
    {
      "cell_type": "markdown",
      "metadata": {},
      "source": [
        "It can also plot the plane-image of a plane, that is what the source galaxy looks like without lensing (e.g.\n",
        "for `plane_index=1` this is the source-plane image)"
      ]
    },
    {
      "cell_type": "code",
      "metadata": {},
      "source": [
        "fit_plotter.figures_2d_of_planes(plane_index=0)\n",
        "fit_plotter.figures_2d_of_planes(plane_index=1)\n",
        "fit_plotter.figures_2d_of_planes(plane_index=2)"
      ],
      "outputs": [],
      "execution_count": null
    },
    {
      "cell_type": "markdown",
      "metadata": {},
      "source": [
        "The `FitImagingPlotter` may also plot a subplot of these attributes."
      ]
    },
    {
      "cell_type": "code",
      "metadata": {},
      "source": [
        "fit_plotter.subplot_fit()\n",
        "fit_plotter.subplot_of_planes(plane_index=0)\n",
        "fit_plotter.subplot_of_planes(plane_index=1)\n",
        "fit_plotter.subplot_of_planes(plane_index=2)"
      ],
      "outputs": [],
      "execution_count": null
    },
    {
      "cell_type": "markdown",
      "metadata": {},
      "source": [
        "We can also plot a `FitImaging` which uses a `Pixelization`."
      ]
    },
    {
      "cell_type": "code",
      "metadata": {},
      "source": [
        "source_galaxy_0 = al.Galaxy(\n",
        "    redshift=1.0,\n",
        "    pixelization=al.Pixelization(\n",
        "        image_mesh=al.image_mesh.Overlay(shape=(25, 25)),\n",
        "        mesh=al.mesh.Delaunay(),\n",
        "        regularization=al.reg.Constant(coefficient=1.0),\n",
        "    ),\n",
        ")\n",
        "\n",
        "source_galaxy_1 = al.Galaxy(\n",
        "    redshift=2.0,\n",
        "    pixelization=al.Pixelization(\n",
        "        image_mesh=al.image_mesh.Overlay(shape=(25, 25)),\n",
        "        mesh=al.mesh.Delaunay(),\n",
        "        regularization=al.reg.Constant(coefficient=1.0),\n",
        "    ),\n",
        ")\n",
        "\n",
        "tracer = al.Tracer(galaxies=[lens_galaxy, source_galaxy_0, source_galaxy_1])\n",
        "\n",
        "fit = al.FitImaging(dataset=dataset, tracer=tracer)"
      ],
      "outputs": [],
      "execution_count": null
    },
    {
      "cell_type": "markdown",
      "metadata": {},
      "source": [
        "We can even extract an `InversionPlotter` (described below) from the `FitImagingPlotter` and use it to plot all of its usual methods, \n",
        "which will now include the caustic and border."
      ]
    },
    {
      "cell_type": "code",
      "metadata": {},
      "source": [
        "fit_plotter = aplt.FitImagingPlotter(fit=fit)\n",
        "\n",
        "inversion_plotter = fit_plotter.inversion_plotter_of_plane(plane_index=1)\n",
        "inversion_plotter.figures_2d_of_pixelization(\n",
        "    pixelization_index=0, reconstruction=True, regularization_weights=True\n",
        ")\n",
        "inversion_plotter = fit_plotter.inversion_plotter_of_plane(plane_index=2)\n",
        "inversion_plotter.figures_2d_of_pixelization(\n",
        "    pixelization_index=0, reconstruction=True, regularization_weights=True\n",
        ")"
      ],
      "outputs": [],
      "execution_count": null
    },
    {
      "cell_type": "markdown",
      "metadata": {},
      "source": [
        "__Inversion__\n",
        "\n",
        "The fit above has a property called an `inversion`, which contains all of the linear algebra, mesh calculations\n",
        "and other key quantities used to reconstruct a source galaxy using a pixelization.\n",
        "\n",
        "This has its own dedicated plotter, the `InversionPlotter`, which can be used to plot the inversion's attributes\n",
        "and properties in a similar way to the `FitImagingPlotter`.\n",
        "\n",
        "Converting a `Tracer` to an `Inversion` performs a number of steps, which are handled by the `TracerToInversion` class. \n",
        "\n",
        "This class is where the data and tracer's galaxies are combined to fit the data via the inversion."
      ]
    },
    {
      "cell_type": "code",
      "metadata": {},
      "source": [
        "tracer_to_inversion = al.TracerToInversion(\n",
        "    tracer=tracer,\n",
        "    dataset=dataset,\n",
        ")\n",
        "\n",
        "inversion = tracer_to_inversion.inversion"
      ],
      "outputs": [],
      "execution_count": null
    },
    {
      "cell_type": "markdown",
      "metadata": {},
      "source": [
        "We now pass the inversion to a `InversionPlotter` and call various `figure_*` methods to plot different attributes."
      ]
    },
    {
      "cell_type": "code",
      "metadata": {},
      "source": [
        "inversion_plotter = aplt.InversionPlotter(inversion=inversion)\n",
        "inversion_plotter.figures_2d(reconstructed_image=True)"
      ],
      "outputs": [],
      "execution_count": null
    },
    {
      "cell_type": "markdown",
      "metadata": {},
      "source": [
        "An `Inversion` can have multiple mappers, which reconstruct multiple source galaxies at different redshifts and\n",
        "planes (e.g. double Einstein ring systems).\n",
        "\n",
        "To plot an individual source we must therefore specify the mapper index of the source we plot."
      ]
    },
    {
      "cell_type": "code",
      "metadata": {},
      "source": [
        "inversion_plotter.figures_2d_of_pixelization(\n",
        "    pixelization_index=0, reconstructed_image=True, reconstruction=True\n",
        ")\n",
        "\n",
        "inversion_plotter.figures_2d_of_pixelization(\n",
        "    pixelization_index=1, reconstructed_image=True, reconstruction=True\n",
        ")"
      ],
      "outputs": [],
      "execution_count": null
    },
    {
      "cell_type": "markdown",
      "metadata": {},
      "source": [
        "The `Inversion` attributes can also be plotted as a subplot."
      ]
    },
    {
      "cell_type": "code",
      "metadata": {},
      "source": [
        "inversion_plotter = aplt.InversionPlotter(inversion=inversion)\n",
        "inversion_plotter.subplot_of_mapper(mapper_index=0)\n",
        "inversion_plotter.subplot_of_mapper(mapper_index=1)"
      ],
      "outputs": [],
      "execution_count": null
    },
    {
      "cell_type": "markdown",
      "metadata": {},
      "source": [
        "Finish."
      ]
    },
    {
      "cell_type": "code",
      "metadata": {},
      "source": [],
      "outputs": [],
      "execution_count": null
    }
  ],
  "metadata": {
    "anaconda-cloud": {},
    "kernelspec": {
      "display_name": "Python 3",
      "language": "python",
      "name": "python3"
    },
    "language_info": {
      "codemirror_mode": {
        "name": "ipython",
        "version": 3
      },
      "file_extension": ".py",
      "mimetype": "text/x-python",
      "name": "python",
      "nbconvert_exporter": "python",
      "pygments_lexer": "ipython3",
      "version": "3.6.1"
    }
  },
  "nbformat": 4,
  "nbformat_minor": 4
}