{
  "cells": [
    {
      "cell_type": "markdown",
      "metadata": {},
      "source": [
        "Tutorial 3: Graphical Benefits\n",
        "==============================\n",
        "\n",
        "In the previous tutorials, we fitted a dataset containing 3 lenses which had a shared `slope` value.\n",
        "\n",
        "We used different approaches to estimate the shared `slope`, for example a simple approach of fitting each\n",
        "dataset one-by-one and estimating the slope via a weighted average or posterior multiplication and a more\n",
        "complicated approach using a graphical model.\n",
        "\n",
        "The estimates were consistent with one another, making it hard to justify the use of the more complicated graphical\n",
        "model. However, the model fitted in the previous tutorial was extremely simple, and by making it slightly more complex\n",
        "in this tutorial we will be able to show the benefits of using the graphical modeling approach.\n",
        "\n",
        "__The Model__\n",
        "\n",
        "The more complex datasets and model fitted in this tutorial is an extension of those fitted in the previous tutorial.\n",
        "\n",
        "Previously, the slope of each lens galaxy mass distribution was a power-law controlled but ojnly a slope.\n",
        "\n",
        "In this tutorial we fit a broken power-law with two parameters controlling the slope, which are shared across the\n",
        "dataset.\n",
        "\n",
        "__Sample Simulation__\n",
        "\n",
        "The dataset fitted in this example script is simulated imaging data of a sample of 3 galaxies.\n",
        "\n",
        "This data is not automatically provided with the autogalaxy workspace, and must be first simulated by running the\n",
        "script `autolens_workspace/scripts/simulators/imaging/samples/advanced/mass_bpl.py`."
      ]
    },
    {
      "cell_type": "code",
      "metadata": {},
      "source": [
        "%matplotlib inline\n",
        "from pyprojroot import here\n",
        "workspace_path = str(here())\n",
        "%cd $workspace_path\n",
        "print(f\"Working Directory has been set to `{workspace_path}`\")\n",
        "\n",
        "import numpy as np\n",
        "from os import path\n",
        "\n",
        "import autofit as af\n",
        "import autolens as al\n",
        "import autolens.plot as aplt"
      ],
      "outputs": [],
      "execution_count": null
    },
    {
      "cell_type": "markdown",
      "metadata": {},
      "source": [
        "__Dataset__\n",
        "\n",
        "For each lens dataset in our sample we set up the correct path and load it by iterating over a for loop. \n",
        "\n",
        "This data is not automatically provided with the autogalaxy workspace, and must be first simulated by running the \n",
        "script `autolens_workspace/scripts/simulators/imaging/samples/advanced/mass_bpl.py`. "
      ]
    },
    {
      "cell_type": "code",
      "metadata": {},
      "source": [
        "dataset_label = \"samples\"\n",
        "dataset_type = \"imaging\"\n",
        "dataset_sample_name = \"mass_bpl\"\n",
        "\n",
        "dataset_path = path.join(\"dataset\", dataset_type, dataset_label, dataset_sample_name)\n",
        "\n",
        "total_datasets = 3\n",
        "\n",
        "dataset_list = []\n",
        "\n",
        "for dataset_index in range(total_datasets):\n",
        "    dataset_sample_path = path.join(dataset_path, f\"dataset_{dataset_index}\")\n",
        "\n",
        "    dataset_list.append(\n",
        "        al.Imaging.from_fits(\n",
        "            data_path=path.join(dataset_sample_path, \"data.fits\"),\n",
        "            psf_path=path.join(dataset_sample_path, \"psf.fits\"),\n",
        "            noise_map_path=path.join(dataset_sample_path, \"noise_map.fits\"),\n",
        "            pixel_scales=0.1,\n",
        "        )\n",
        "    )"
      ],
      "outputs": [],
      "execution_count": null
    },
    {
      "cell_type": "markdown",
      "metadata": {},
      "source": [
        "__Mask__\n",
        "\n",
        "We now mask each lens in our dataset, using the imaging list we created above.\n",
        "\n",
        "We will assume a 3.0\" mask for every lens in the dataset is appropriate."
      ]
    },
    {
      "cell_type": "code",
      "metadata": {},
      "source": [
        "masked_imaging_list = []\n",
        "\n",
        "for dataset in dataset_list:\n",
        "    mask = al.Mask2D.circular(\n",
        "        shape_native=dataset.shape_native, pixel_scales=dataset.pixel_scales, radius=3.0\n",
        "    )\n",
        "\n",
        "    masked_imaging_list.append(dataset.apply_mask(mask=mask))"
      ],
      "outputs": [],
      "execution_count": null
    },
    {
      "cell_type": "markdown",
      "metadata": {},
      "source": [
        "__Paths__\n",
        "\n",
        "The path the results of all model-fits are output:"
      ]
    },
    {
      "cell_type": "code",
      "metadata": {},
      "source": [
        "path_prefix = path.join(\"imaging\", \"hierarchical\")"
      ],
      "outputs": [],
      "execution_count": null
    },
    {
      "cell_type": "markdown",
      "metadata": {},
      "source": [
        "__Model (one-by-one)__\n",
        "\n",
        "We are first going to fit each dataset one by one.\n",
        "\n",
        "We therefore fit a model where\n",
        "\n",
        " - The lens galaxy's total mass distribution is an `SphBrokenPowerLaw` with multiple parameters fixed to their true \n",
        " values [3 parameter].\n",
        " \n",
        " - The source galaxy's light is a linear parametric `ExponentialSph` [3 parameters].\n",
        "\n",
        "The number of free parameters and therefore the dimensionality of non-linear parameter space is N=7.\n",
        "\n",
        "To make graphical model fits run fast, the model above is simple compared to a lot of models fitted throughout the \n",
        "workspace (for example, both galaxies are spherical).\n",
        "\n",
        "If you are not familiar with the broken power-law, it is an extension of the power-law where two parameters control\n",
        "the slope instead of one. The broken power-law reduces to the power-law when `inner_slope=1.0` and `outer_slope=1.0`.\n",
        "For the simulated data fitted in this tutorial, all len mass models assume `inner_slope=1.5` and `outer_slope=0.5`."
      ]
    },
    {
      "cell_type": "code",
      "metadata": {},
      "source": [
        "lens = af.Model(al.Galaxy, redshift=0.5, mass=al.mp.PowerLawBrokenSph)\n",
        "lens.mass.centre = (0.0, 0.0)\n",
        "lens.mass.break_radius = 0.01\n",
        "\n",
        "source = af.Model(al.Galaxy, redshift=1.0, bulge=al.lp_linear.ExponentialCoreSph)\n",
        "\n",
        "model = af.Collection(galaxies=af.Collection(lens=lens, source=source))"
      ],
      "outputs": [],
      "execution_count": null
    },
    {
      "cell_type": "markdown",
      "metadata": {},
      "source": [
        "__Analysis__\n",
        "\n",
        "For each dataset we now create a corresponding `Analysis` class. "
      ]
    },
    {
      "cell_type": "code",
      "metadata": {},
      "source": [
        "analysis_list = []\n",
        "\n",
        "for dataset_index, masked_dataset in enumerate(masked_imaging_list):\n",
        "    analysis = al.AnalysisImaging(dataset=masked_dataset)\n",
        "\n",
        "    analysis_list.append(analysis)"
      ],
      "outputs": [],
      "execution_count": null
    },
    {
      "cell_type": "markdown",
      "metadata": {},
      "source": [
        "__Model Fits (one-by-one)__\n",
        "\n",
        "For each dataset we now create a non-linear search, analysis and perform the model-fit using this model.\n",
        "\n",
        "The `Result` is stored in the list `result_list` and they are output to a unique folder named using the `dataset_index`.."
      ]
    },
    {
      "cell_type": "code",
      "metadata": {},
      "source": [
        "result_list = []\n",
        "\n",
        "for dataset_index, analysis in enumerate(analysis_list):\n",
        "    dataset_name_with_index = f\"dataset_{dataset_index}\"\n",
        "    path_prefix_with_index = path.join(path_prefix, dataset_name_with_index)\n",
        "\n",
        "    search = af.Nautilus(\n",
        "        path_prefix=path_prefix_with_index, name=dataset_name_with_index, n_live=150\n",
        "    )\n",
        "\n",
        "    result = search.fit(model=model, analysis=analysis)\n",
        "    result_list.append(result)"
      ],
      "outputs": [],
      "execution_count": null
    },
    {
      "cell_type": "markdown",
      "metadata": {},
      "source": [
        "__Slope Estimates (Weighted Average)__\n",
        "\n",
        "We can now compute the slope estimate of the mass profiles, including their errors, from the individual model fits\n",
        "performed above."
      ]
    },
    {
      "cell_type": "code",
      "metadata": {},
      "source": [
        "samples_list = [result.samples for result in result_list]\n",
        "\n",
        "mp_instances = [samps.median_pdf() for samps in samples_list]\n",
        "mp_inner_slope = [instance.galaxies.lens.mass.inner_slope for instance in mp_instances]\n",
        "\n",
        "ue1_instances = [samp.values_at_upper_sigma(sigma=1.0) for samp in samples_list]\n",
        "le1_instances = [samp.values_at_lower_sigma(sigma=1.0) for samp in samples_list]\n",
        "\n",
        "ue1_inner_slope = [\n",
        "    instance.galaxies.lens.mass.inner_slope for instance in ue1_instances\n",
        "]\n",
        "le1_inner_slope = [\n",
        "    instance.galaxies.lens.mass.inner_slope for instance in le1_instances\n",
        "]\n",
        "\n",
        "error_list = [ue1 - le1 for ue1, le1 in zip(ue1_inner_slope, le1_inner_slope)]\n",
        "\n",
        "values = np.asarray(mp_inner_slope)\n",
        "sigmas = np.asarray(error_list)\n",
        "\n",
        "weights = 1 / sigmas**2.0\n",
        "weight_averaged = np.sum(1.0 / sigmas**2)\n",
        "\n",
        "weighted_inner_slope = np.sum(values * weights) / np.sum(weights, axis=0)\n",
        "weighted_error_inner_slope = 1.0 / np.sqrt(weight_averaged)\n",
        "\n",
        "\n",
        "mp_instances = [samps.median_pdf() for samps in samples_list]\n",
        "mp_outer_slope = [instance.galaxies.lens.mass.outer_slope for instance in mp_instances]\n",
        "\n",
        "ue1_instances = [samp.values_at_upper_sigma(sigma=1.0) for samp in samples_list]\n",
        "le1_instances = [samp.values_at_lower_sigma(sigma=1.0) for samp in samples_list]\n",
        "\n",
        "ue1_outer_slope = [\n",
        "    instance.galaxies.lens.mass.outer_slope for instance in ue1_instances\n",
        "]\n",
        "le1_outer_slope = [\n",
        "    instance.galaxies.lens.mass.outer_slope for instance in le1_instances\n",
        "]\n",
        "\n",
        "error_list = [ue1 - le1 for ue1, le1 in zip(ue1_outer_slope, le1_outer_slope)]\n",
        "\n",
        "values = np.asarray(mp_outer_slope)\n",
        "sigmas = np.asarray(error_list)\n",
        "\n",
        "weights = 1 / sigmas**2.0\n",
        "weight_averaged = np.sum(1.0 / sigmas**2)\n",
        "\n",
        "weighted_outer_slope = np.sum(values * weights) / np.sum(weights, axis=0)\n",
        "weighted_error_outer_slope = 1.0 / np.sqrt(weight_averaged)\n",
        "\n",
        "\n",
        "print(\n",
        "    f\"Weighted Average Inner Slope Estimate = {weighted_inner_slope} ({weighted_error_inner_slope}) [1.0 sigma confidence intervals]\"\n",
        ")\n",
        "print(\n",
        "    f\"Weighted Average Outer Slope Estimate = {weighted_outer_slope} ({weighted_error_outer_slope}) [1.0 sigma confidence intervals]\"\n",
        ")"
      ],
      "outputs": [],
      "execution_count": null
    },
    {
      "cell_type": "markdown",
      "metadata": {},
      "source": [
        "The estimate of the slopes are not accurate, with both estimates well offset from the input values \n",
        "of 1.5 and 0.5\n",
        "\n",
        "We will next show that the graphical model offers a notable improvement, but first lets consider why this\n",
        "approach is suboptimal.\n",
        "\n",
        "The most important difference between this model and the model fitted in the previous tutorial is that there are now\n",
        "two shared parameters we are trying to estimate, *and they are degenerate with one another*.\n",
        "\n",
        "We can see this by inspecting the probability distribution function (PDF) of the fit, placing particular focus on the \n",
        "2D degeneracy between the inner slope and outer slope of the lens mass model."
      ]
    },
    {
      "cell_type": "code",
      "metadata": {},
      "source": [
        "plotter = aplt.NestPlotter(samples=result_list[0].samples)\n",
        "plotter.corner_anesthetic()"
      ],
      "outputs": [],
      "execution_count": null
    },
    {
      "cell_type": "markdown",
      "metadata": {},
      "source": [
        "The problem is that the simple approach of taking a weighted average does not capture the curved banana-like shape\n",
        "of the PDF between the two slope. This leads to significant error over estimation and biased inferences on the \n",
        "estimates.\n",
        "\n",
        "__Discussion__\n",
        "\n",
        "Let us now consider other downsides of fitting each dataset one-by-one, from a more statistical perspective. We \n",
        "will contrast these to the graphical model later in the tutorial.\n",
        "\n",
        "1) By fitting each dataset one-by-one this means that each model-fit fails to fully exploit the information we know \n",
        "about the global model. We *know* that there are only two single shared values of `slope` across the full dataset \n",
        "that we want to estimate. However, each individual fit has its own `slope` value which is able to assume \n",
        "different values than the `slope` values used to fit the other datasets. This means that the large degeneracies \n",
        "between the two slope emerge for each model-fit.\n",
        "\n",
        "By not fitting our model as a global model, we do not maximize the amount of information that we can extract from the \n",
        "dataset as a whole. If a model fits dataset 1 particularly bad, this *should* be reflected in how we interpret how \n",
        "well the model fits datasets 2 and 3. Our non-linear search should have a global view of how well the model fits the \n",
        "whole dataset. This is the *crucial aspect of fitting each dataset individually that we miss*, and what a graphical \n",
        "model addresses.\n",
        "\n",
        "2) When we combined the result to estimate the global `slope` value via a weighted average, we marginalized over \n",
        "the samples in 1D. As showed above, when there are strong degeneracies between models parameters the information on \n",
        "the covariance between these parameters is lost when computing the global `slope`. This increases the inferred \n",
        "uncertainties. A graphical model performs no such 1D marginalization and therefore fully samples the\n",
        "parameter covariances.\n",
        "\n",
        "3) In Bayesian inference it is important that we define priors on all of the model parameters. By estimating the \n",
        "global `slope` after the model-fits are completed it is unclear what prior the global `slope` a\n",
        "ctually has! We actually defined the prior five times -- once for each fit -- which is not a well defined prior.\n",
        "\n",
        "In a graphical model the prior is clearly defined.\n",
        "\n",
        "What would have happened if we had estimate the shared slope via 2D posterior multiplication using a KDE? We\n",
        "will discuss this at the end of the tutorial after fitting a graphical model.\n",
        "\n",
        "__Model (Graphical)__\n",
        "\n",
        "We now compose a graphical model and fit it.\n",
        "\n",
        "Our model now consists of a lens mass model with a broken power-law, where the inner slope and outer slope have a\n",
        "`slope_shared_prior` variable, such that the same `inner_slope` and `outer_slope` parameters are used for the mass\n",
        "model of all lenses in all datasets. "
      ]
    },
    {
      "cell_type": "code",
      "metadata": {},
      "source": [
        "inner_slope_shared_prior = af.UniformPrior(lower_limit=0.0, upper_limit=2.0)\n",
        "outer_slope_shared_prior = af.UniformPrior(lower_limit=0.0, upper_limit=2.0)"
      ],
      "outputs": [],
      "execution_count": null
    },
    {
      "cell_type": "markdown",
      "metadata": {},
      "source": [
        "We now set up a list of `Model`'s, each of which contain a broken power law mass model.\n",
        "\n",
        "All of these `Model`'s use the `slope_shared_prior`'s above. This means all model-components use the same value \n",
        "of `inner_slope` and `outer_slope`.\n",
        "\n",
        "For a fit to three datasets this produces a parameter space with dimensionality N=15 (1 parameter per mass model, \n",
        "4 parameters per source galaxy and 2 shared `inner_slope` and `outer_slope` parameters)."
      ]
    },
    {
      "cell_type": "code",
      "metadata": {},
      "source": [
        "model_list = []\n",
        "\n",
        "\n",
        "for model_index in range(total_datasets):\n",
        "    lens = af.Model(al.Galaxy, redshift=0.5, mass=al.mp.PowerLawBrokenSph)\n",
        "    lens.mass.centre = (0.0, 0.0)\n",
        "\n",
        "    # This makes every Galaxy share the same `inner_slope` and `outer_slope`.\n",
        "    lens.mass.inner_slope = inner_slope_shared_prior\n",
        "    lens.mass.outer_slope = outer_slope_shared_prior\n",
        "\n",
        "    source = af.Model(al.Galaxy, redshift=1.0, bulge=al.lp_linear.ExponentialCoreSph)\n",
        "\n",
        "    model = af.Collection(galaxies=af.Collection(lens=lens, source=source))\n",
        "\n",
        "    model_list.append(model)"
      ],
      "outputs": [],
      "execution_count": null
    },
    {
      "cell_type": "markdown",
      "metadata": {},
      "source": [
        "__Analysis Factors__\n",
        "\n",
        "We again create the graphical model using `AnalysisFactor` objects."
      ]
    },
    {
      "cell_type": "code",
      "metadata": {},
      "source": [
        "analysis_factor_list = []\n",
        "\n",
        "for model, analysis in zip(model_list, analysis_list):\n",
        "    analysis_factor = af.AnalysisFactor(prior_model=model, analysis=analysis)\n",
        "\n",
        "    analysis_factor_list.append(analysis_factor)"
      ],
      "outputs": [],
      "execution_count": null
    },
    {
      "cell_type": "markdown",
      "metadata": {},
      "source": [
        "__Factor Graph__\n",
        "\n",
        "The analysis factors are then used to create the factor graph."
      ]
    },
    {
      "cell_type": "code",
      "metadata": {},
      "source": [
        "factor_graph = af.FactorGraphModel(*analysis_factor_list)"
      ],
      "outputs": [],
      "execution_count": null
    },
    {
      "cell_type": "markdown",
      "metadata": {},
      "source": [
        "The factor graph model can again be printed via the `info` attribute, which shows that there are two shared\n",
        "parameters across the datasets."
      ]
    },
    {
      "cell_type": "code",
      "metadata": {},
      "source": [
        "print(factor_graph.global_prior_model.info)"
      ],
      "outputs": [],
      "execution_count": null
    },
    {
      "cell_type": "markdown",
      "metadata": {},
      "source": [
        "__Search__\n",
        "\n",
        "We can now create a non-linear search and use it to the fit the factor graph, again using its `global_prior_model` \n",
        "property."
      ]
    },
    {
      "cell_type": "code",
      "metadata": {},
      "source": [
        "search = af.Nautilus(\n",
        "    path_prefix=path_prefix,\n",
        "    name=\"tutorial_3_graphical_benefits_2\",\n",
        ")\n",
        "\n",
        "result = search.fit(model=factor_graph.global_prior_model, analysis=factor_graph)"
      ],
      "outputs": [],
      "execution_count": null
    },
    {
      "cell_type": "markdown",
      "metadata": {},
      "source": [
        "__Result__\n",
        "\n",
        "The result's `info` attribute shows that the result is expressed following the same structure of analysis factors\n",
        "that the `global_prior_model.info` attribute revealed above."
      ]
    },
    {
      "cell_type": "code",
      "metadata": {},
      "source": [
        "print(result.info)"
      ],
      "outputs": [],
      "execution_count": null
    },
    {
      "cell_type": "markdown",
      "metadata": {},
      "source": [
        "We can now inspect the inferred `inner_slope` and `outer_slope` values and compare this to the values estimated above \n",
        "via a weighted average.  \n",
        "\n",
        "(The errors of the weighted average is what was estimated for a run on my PC, yours may be slightly different!)"
      ]
    },
    {
      "cell_type": "code",
      "metadata": {},
      "source": [
        "inner_slope = result.samples.median_pdf()[0].galaxies.lens.mass.inner_slope\n",
        "\n",
        "u1_error_0 = result.samples.values_at_upper_sigma(sigma=1.0)[\n",
        "    0\n",
        "].galaxies.lens.mass.inner_slope\n",
        "l1_error_0 = result.samples.values_at_lower_sigma(sigma=1.0)[\n",
        "    0\n",
        "].galaxies.lens.mass.inner_slope\n",
        "\n",
        "u3_error_0 = result.samples.values_at_upper_sigma(sigma=3.0)[\n",
        "    0\n",
        "].galaxies.lens.mass.inner_slope\n",
        "l3_error_0 = result.samples.values_at_lower_sigma(sigma=3.0)[\n",
        "    0\n",
        "].galaxies.lens.mass.inner_slope\n",
        "\n",
        "outer_slope = result.samples.median_pdf()[0].galaxies.lens.mass.outer_slope\n",
        "\n",
        "u1_error_1 = result.samples.values_at_upper_sigma(sigma=1.0)[\n",
        "    0\n",
        "].galaxies.lens.mass.outer_slope\n",
        "l1_error_1 = result.samples.values_at_lower_sigma(sigma=1.0)[\n",
        "    0\n",
        "].galaxies.lens.mass.outer_slope\n",
        "\n",
        "u3_error_1 = result.samples.values_at_upper_sigma(sigma=3.0)[\n",
        "    0\n",
        "].galaxies.lens.mass.outer_slope\n",
        "l3_error_1 = result.samples.values_at_lower_sigma(sigma=3.0)[\n",
        "    0\n",
        "].galaxies.lens.mass.outer_slope\n",
        "\n",
        "\n",
        "print(\n",
        "    f\"Weighted Average Inner Slope  Estimate = 1.8793105272514588 (0.1219903793654069) [1.0 sigma confidence intervals]\\n\"\n",
        ")\n",
        "print(\n",
        "    f\"Weighted Average Outer Slope Estimate = 1.3589940186100282 (0.08932284400100543) [1.0 sigma confidence intervals]\\n\"\n",
        ")\n",
        "\n",
        "print(\n",
        "    f\"Inferred value of the inner slope via a graphical fit to {total_datasets} datasets: \\n\"\n",
        ")\n",
        "print(\n",
        "    f\"{inner_slope} ({l1_error_0} {u1_error_0}) ({u1_error_0 - l1_error_0}) [1.0 sigma confidence intervals]\"\n",
        ")\n",
        "print(\n",
        "    f\"{inner_slope} ({l3_error_0} {u3_error_0}) ({u3_error_0 - l3_error_0}) [3.0 sigma confidence intervals]\"\n",
        ")\n",
        "\n",
        "print(\n",
        "    f\"Inferred value of the outer slope via a graphical fit to {total_datasets} datasets: \\n\"\n",
        ")\n",
        "print(\n",
        "    f\"{outer_slope} ({l1_error_1} {u1_error_1}) ({u1_error_1 - l1_error_1}) [1.0 sigma confidence intervals]\"\n",
        ")\n",
        "print(\n",
        "    f\"{outer_slope} ({l3_error_1} {u3_error_1}) ({u3_error_1 - l3_error_1}) [3.0 sigma confidence intervals]\"\n",
        ")"
      ],
      "outputs": [],
      "execution_count": null
    },
    {
      "cell_type": "markdown",
      "metadata": {},
      "source": [
        "As expected, using a graphical model allows us to infer a more precise and accurate model.\n",
        "\n",
        "You may already have an idea of why this is, but lets go over it in detail:\n",
        "\n",
        "__Discussion__\n",
        "\n",
        "Unlike a fit to each dataset one-by-one, the graphical model:\n",
        "\n",
        "1) Infers a PDF on the global slope that fully accounts for the degeneracies between the models fitted to \n",
        "different datasets. This reduces significantly the large 2D degeneracies between the two slope we saw when \n",
        "inspecting the PDFs of each individual fit.\n",
        "\n",
        "2) Fully exploits the information we know about the global model, for example that the slope of every lens\n",
        "in every dataset is aligned. Now, the fit of the lens in dataset 1 informs the fits in datasets 2 and 3, and visa \n",
        "versa.\n",
        "\n",
        "3) Has a well defined prior on the global slope, instead of independent priors on the slope of each \n",
        "dataset.\n",
        "\n",
        "__Posterior Multiplication__\n",
        "\n",
        "What if we had combined the results of the individual model fits using 2D posterior multiplication via a KDE?\n",
        "\n",
        "This would produce an inaccurate estimate of the error, because each posterior contains the prior on the slope \n",
        "multiple times which given the properties of this model should not be repeated.\n",
        "\n",
        "However, it is possible to convert each posterior to a likelihood (by dividing by its prior), combining these\n",
        "likelihoods to form a joint likelihood via 2D KDE multiplication and then insert just one prior back (agian using a 2D\n",
        "KDE) at the end to get a posterior which does not have repeated priors. \n",
        "\n",
        "This posterior, in theory, should be equivalent to the graphical model, giving the same accurate estimates of the\n",
        "slope with precise errors. The process extracts the same information, fully accounting for the 2D structure \n",
        "of the PDF between the two slope for each fit.\n",
        "\n",
        "However, in practise, this will likely not work that well. Every time we use a KDE to represent and multiply a \n",
        "posterior, we make an approximation which will impact our inferred errors. The removal of the prior before combining \n",
        "the likelihood and reinserting it after also introduces approximations, especially because the fit performed by the \n",
        "non-linear search is informed by the prior. \n",
        "\n",
        "Crucially, whilst posterior multiplication maybe sort-of-works-ok in two dimensions, for models with many more \n",
        "dimensions and degeneracies between parameters that are in 3D, 4D of more dimensions it simply does not work.\n",
        "\n",
        "In contrast, a graphical model fully samples all of the information a large dataset contains about the model, without\n",
        "making an approximations. In this sense, irrespective of how complex the model gets, it will fully extract the \n",
        "information contained in the dataset.\n",
        "\n",
        "__Wrap Up__\n",
        "\n",
        "In this tutorial, we demonstrated the strengths of a graphical model over fitting each dataset one-by-one. \n",
        "\n",
        "We argued that irrespective of how one may try to combine the results of many individual fits, the approximations that \n",
        "are made will always lead to a suboptimal estimation of the model parameters and fail to fully extract all information\n",
        "from the dataset. \n",
        "\n",
        "Furthermore, we argued that for high dimensional complex models a graphical model is the only way to fully extract\n",
        "all of the information contained in the dataset.\n",
        "\n",
        "In the next tutorial, we will consider a natural extension of a graphical model called a hierarchical model."
      ]
    },
    {
      "cell_type": "code",
      "metadata": {},
      "source": [],
      "outputs": [],
      "execution_count": null
    }
  ],
  "metadata": {
    "anaconda-cloud": {},
    "kernelspec": {
      "display_name": "Python 3",
      "language": "python",
      "name": "python3"
    },
    "language_info": {
      "codemirror_mode": {
        "name": "ipython",
        "version": 3
      },
      "file_extension": ".py",
      "mimetype": "text/x-python",
      "name": "python",
      "nbconvert_exporter": "python",
      "pygments_lexer": "ipython3",
      "version": "3.6.1"
    }
  },
  "nbformat": 4,
  "nbformat_minor": 4
}