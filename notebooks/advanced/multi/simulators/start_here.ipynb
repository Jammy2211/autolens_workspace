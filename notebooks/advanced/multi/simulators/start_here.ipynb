{
  "cells": [
    {
      "cell_type": "markdown",
      "metadata": {},
      "source": [
        "Simulator: SIE\n",
        "==============\n",
        "\n",
        "This script simulates multi-wavelength `Imaging` of a 'galaxy-scale' strong lens where:\n",
        "\n",
        " - The lens galaxy's light profile is an `Sersic`, which has a different `intensity` at each wavelength.\n",
        " - The lens galaxy's total mass distribution is an `Isothermal` and `ExternalShear`.\n",
        " - The source galaxy's light is an `Sersic`, which has a different `intensity` at each wavelength.\n",
        "\n",
        "Two images are simulated, corresponding to a greener ('g' band) redder image (`r` band).\n",
        "\n",
        "This is an advanced script and assumes previous knowledge of the core **PyAutoLens** API for simulating images. Thus,\n",
        "certain parts of code are not documented to ensure the script is concise."
      ]
    },
    {
      "cell_type": "code",
      "metadata": {},
      "source": [
        "%matplotlib inline\n",
        "from pyprojroot import here\n",
        "workspace_path = str(here())\n",
        "%cd $workspace_path\n",
        "print(f\"Working Directory has been set to `{workspace_path}`\")\n",
        "\n",
        "from os import path\n",
        "import autolens as al\n",
        "import autolens.plot as aplt"
      ],
      "outputs": [],
      "execution_count": null
    },
    {
      "cell_type": "markdown",
      "metadata": {},
      "source": [
        "__Colors__\n",
        "\n",
        "The colors of the multi-wavelength image, which in this case are green (g-band) and red (r-band).\n",
        "\n",
        "The strings are used for naming the datasets on output."
      ]
    },
    {
      "cell_type": "code",
      "metadata": {},
      "source": [
        "color_list = [\"g\", \"r\"]"
      ],
      "outputs": [],
      "execution_count": null
    },
    {
      "cell_type": "markdown",
      "metadata": {},
      "source": [
        "__Dataset Paths__"
      ]
    },
    {
      "cell_type": "code",
      "metadata": {},
      "source": [
        "dataset_type = \"multi\"\n",
        "dataset_label = \"imaging\"\n",
        "dataset_name = \"lens_sersic\"\n",
        "\n",
        "dataset_path = path.join(\"dataset\", dataset_type, dataset_label, dataset_name)"
      ],
      "outputs": [],
      "execution_count": null
    },
    {
      "cell_type": "markdown",
      "metadata": {},
      "source": [
        "__Simulate__\n",
        "\n",
        "The pixel-scale of each color image is different meaning we make a list of grids for the simulation."
      ]
    },
    {
      "cell_type": "code",
      "metadata": {},
      "source": [
        "pixel_scales_list = [0.08, 0.12]\n",
        "\n",
        "grid_list = [\n",
        "    al.Grid2D.uniform(\n",
        "        shape_native=(150, 150),\n",
        "        pixel_scales=pixel_scales,\n",
        "        over_sampling=al.OverSamplingIterate(\n",
        "            fractional_accuracy=0.9999, sub_steps=[2, 4, 8, 16]\n",
        "        ),\n",
        "    )\n",
        "    for pixel_scales in pixel_scales_list\n",
        "]"
      ],
      "outputs": [],
      "execution_count": null
    },
    {
      "cell_type": "markdown",
      "metadata": {},
      "source": [
        "Simulate simple Gaussian PSFs for the images in the r and g bands."
      ]
    },
    {
      "cell_type": "code",
      "metadata": {},
      "source": [
        "sigma_list = [0.1, 0.2]\n",
        "\n",
        "psf_list = [\n",
        "    al.Kernel2D.from_gaussian(\n",
        "        shape_native=(11, 11), sigma=sigma, pixel_scales=grid.pixel_scales\n",
        "    )\n",
        "    for grid, sigma in zip(grid_list, sigma_list)\n",
        "]"
      ],
      "outputs": [],
      "execution_count": null
    },
    {
      "cell_type": "markdown",
      "metadata": {},
      "source": [
        "Create separate simulators for the g and r bands."
      ]
    },
    {
      "cell_type": "code",
      "metadata": {},
      "source": [
        "background_sky_level_list = [0.1, 0.15]\n",
        "\n",
        "simulator_list = [\n",
        "    al.SimulatorImaging(\n",
        "        exposure_time=300.0,\n",
        "        psf=psf,\n",
        "        background_sky_level=background_sky_level,\n",
        "        add_poisson_noise=True,\n",
        "    )\n",
        "    for psf, background_sky_level in zip(psf_list, background_sky_level_list)\n",
        "]"
      ],
      "outputs": [],
      "execution_count": null
    },
    {
      "cell_type": "markdown",
      "metadata": {},
      "source": [
        "__Ray Tracing__\n",
        "\n",
        "The lens galaxy light at each wavelength has a different intensity, thus we create two lens galaxies for each waveband. \n",
        "\n",
        "The lens galaxy's mass (SIE+Shear) is identical for each waveband and included in both lens galaxies in the list.."
      ]
    },
    {
      "cell_type": "code",
      "metadata": {},
      "source": [
        "intensity_list = [0.05, 1.5]\n",
        "\n",
        "bulge_list = [\n",
        "    al.lp.Sersic(\n",
        "        centre=(0.0, 0.0),\n",
        "        ell_comps=al.convert.ell_comps_from(axis_ratio=0.9, angle=45.0),\n",
        "        intensity=intensity,\n",
        "        effective_radius=0.8,\n",
        "        sersic_index=4.0,\n",
        "    )\n",
        "    for intensity in intensity_list\n",
        "]\n",
        "\n",
        "mass = al.mp.Isothermal(\n",
        "    centre=(0.0, 0.0),\n",
        "    einstein_radius=1.6,\n",
        "    ell_comps=al.convert.ell_comps_from(axis_ratio=0.9, angle=45.0),\n",
        ")\n",
        "\n",
        "lens_galaxy_list = [\n",
        "    al.Galaxy(\n",
        "        redshift=0.5,\n",
        "        bulge=bulge,\n",
        "        mass=mass,\n",
        "        shear=al.mp.ExternalShear(gamma_1=0.05, gamma_2=0.05),\n",
        "    )\n",
        "    for bulge in bulge_list\n",
        "]"
      ],
      "outputs": [],
      "execution_count": null
    },
    {
      "cell_type": "markdown",
      "metadata": {},
      "source": [
        "__Ray Tracing__\n",
        "\n",
        "The source galaxy at each wavelength has a different intensity, thus we create two source galaxies for each waveband."
      ]
    },
    {
      "cell_type": "code",
      "metadata": {},
      "source": [
        "intensity_list = [0.5, 0.7]\n",
        "\n",
        "source_galaxy_list = [\n",
        "    al.Galaxy(\n",
        "        redshift=1.0,\n",
        "        bulge=al.lp.SersicCore(\n",
        "            centre=(0.0, 0.0),\n",
        "            ell_comps=al.convert.ell_comps_from(axis_ratio=0.8, angle=60.0),\n",
        "            intensity=intensity,\n",
        "            effective_radius=0.1,\n",
        "            sersic_index=1.0,\n",
        "        ),\n",
        "    )\n",
        "    for intensity in intensity_list\n",
        "]"
      ],
      "outputs": [],
      "execution_count": null
    },
    {
      "cell_type": "markdown",
      "metadata": {},
      "source": [
        "Use these galaxies to setup tracers at each waveband, which will generate each image for the simulated `Imaging` \n",
        "dataset."
      ]
    },
    {
      "cell_type": "code",
      "metadata": {},
      "source": [
        "tracer_list = [\n",
        "    al.Tracer(galaxies=[lens_galaxy, source_galaxy])\n",
        "    for lens_galaxy, source_galaxy in zip(lens_galaxy_list, source_galaxy_list)\n",
        "]"
      ],
      "outputs": [],
      "execution_count": null
    },
    {
      "cell_type": "markdown",
      "metadata": {},
      "source": [
        "Lets look at the tracer`s image, this is the image we'll be simulating."
      ]
    },
    {
      "cell_type": "code",
      "metadata": {},
      "source": [
        "for tracer, grid in zip(tracer_list, grid_list):\n",
        "    tracer_plotter = aplt.TracerPlotter(tracer=tracer, grid=grid)\n",
        "    tracer_plotter.figures_2d(image=True)"
      ],
      "outputs": [],
      "execution_count": null
    },
    {
      "cell_type": "markdown",
      "metadata": {},
      "source": [
        "Pass the simulator a tracer, which creates the image which is simulated as an imaging dataset."
      ]
    },
    {
      "cell_type": "code",
      "metadata": {},
      "source": [
        "dataset_list = [\n",
        "    simulator.via_tracer_from(tracer=tracer, grid=grid)\n",
        "    for grid, simulator, tracer in zip(grid_list, simulator_list, tracer_list)\n",
        "]"
      ],
      "outputs": [],
      "execution_count": null
    },
    {
      "cell_type": "markdown",
      "metadata": {},
      "source": [
        "Plot the simulated `Imaging` dataset before outputting it to fits."
      ]
    },
    {
      "cell_type": "code",
      "metadata": {},
      "source": [
        "for dataset in dataset_list:\n",
        "    dataset_plotter = aplt.ImagingPlotter(dataset=dataset)\n",
        "    dataset_plotter.subplot_dataset()"
      ],
      "outputs": [],
      "execution_count": null
    },
    {
      "cell_type": "markdown",
      "metadata": {},
      "source": [
        "__Output__\n",
        "\n",
        "Output each simulated dataset to the dataset path as .fits files, with a tag describing its color."
      ]
    },
    {
      "cell_type": "code",
      "metadata": {},
      "source": [
        "for color, dataset in zip(color_list, dataset_list):\n",
        "    dataset.output_to_fits(\n",
        "        data_path=path.join(dataset_path, f\"{color}_data.fits\"),\n",
        "        psf_path=path.join(dataset_path, f\"{color}_psf.fits\"),\n",
        "        noise_map_path=path.join(dataset_path, f\"{color}_noise_map.fits\"),\n",
        "        overwrite=True,\n",
        "    )"
      ],
      "outputs": [],
      "execution_count": null
    },
    {
      "cell_type": "markdown",
      "metadata": {},
      "source": [
        "__Visualize__\n",
        "\n",
        "Output a subplot of the simulated dataset, the image and the tracer's quantities to the dataset path as .png files.\n",
        "\n",
        "For a faster run time, the tracer visualization uses the binned grid instead of the iterative grid."
      ]
    },
    {
      "cell_type": "code",
      "metadata": {},
      "source": [
        "for color, dataset in zip(color_list, dataset_list):\n",
        "    mat_plot = aplt.MatPlot2D(\n",
        "        output=aplt.Output(path=dataset_path, prefix=f\"{color}_\", format=\"png\")\n",
        "    )\n",
        "\n",
        "    dataset_plotter = aplt.ImagingPlotter(dataset=dataset, mat_plot_2d=mat_plot)\n",
        "    dataset_plotter.subplot_dataset()\n",
        "    dataset_plotter.figures_2d(data=True)\n",
        "\n",
        "\n",
        "for color, grid, tracer in zip(color_list, grid_list, tracer_list):\n",
        "    mat_plot = aplt.MatPlot2D(\n",
        "        output=aplt.Output(path=dataset_path, prefix=f\"{color}_\", format=\"png\")\n",
        "    )\n",
        "\n",
        "    tracer_plotter = aplt.TracerPlotter(tracer=tracer, grid=grid, mat_plot_2d=mat_plot)\n",
        "    tracer_plotter.subplot_tracer()\n",
        "    tracer_plotter.subplot_galaxies_images()\n",
        "\n",
        "    mat_plot = aplt.MatPlot2D(\n",
        "        title=aplt.Title(label=f\"Lens and Source {color}-band Images\"),\n",
        "        output=aplt.Output(\n",
        "            path=dataset_path, filename=f\"{color}_tracer_image\", format=\"png\"\n",
        "        ),\n",
        "    )\n",
        "\n",
        "    tracer_plotter.figures_2d(image=True)"
      ],
      "outputs": [],
      "execution_count": null
    },
    {
      "cell_type": "markdown",
      "metadata": {},
      "source": [
        "__Tracer json__\n",
        "\n",
        "Save the `Tracer` in the dataset folder as a .json file, ensuring the true light profiles, mass profiles and galaxies\n",
        "are safely stored and available to check how the dataset was simulated in the future. \n",
        "\n",
        "This can be loaded via the method `tracer = al.from_json()`."
      ]
    },
    {
      "cell_type": "code",
      "metadata": {},
      "source": [
        "[\n",
        "    al.output_to_json(\n",
        "        obj=tracer, file_path=path.join(dataset_path, f\"{color}_tracer.json\")\n",
        "    )\n",
        "    for color, tracer in zip(color_list, tracer_list)\n",
        "]"
      ],
      "outputs": [],
      "execution_count": null
    },
    {
      "cell_type": "markdown",
      "metadata": {},
      "source": [
        "The dataset can be viewed in the folder `autolens_workspace/imaging/multi/lens_sersic`."
      ]
    },
    {
      "cell_type": "code",
      "metadata": {},
      "source": [],
      "outputs": [],
      "execution_count": null
    }
  ],
  "metadata": {
    "anaconda-cloud": {},
    "kernelspec": {
      "display_name": "Python 3",
      "language": "python",
      "name": "python3"
    },
    "language_info": {
      "codemirror_mode": {
        "name": "ipython",
        "version": 3
      },
      "file_extension": ".py",
      "mimetype": "text/x-python",
      "name": "python",
      "nbconvert_exporter": "python",
      "pygments_lexer": "ipython3",
      "version": "3.6.1"
    }
  },
  "nbformat": 4,
  "nbformat_minor": 4
}