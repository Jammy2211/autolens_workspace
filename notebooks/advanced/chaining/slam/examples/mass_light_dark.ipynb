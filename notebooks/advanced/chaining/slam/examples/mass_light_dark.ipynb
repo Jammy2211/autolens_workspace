{
  "cells": [
    {
      "cell_type": "markdown",
      "metadata": {},
      "source": [
        "SLaM (Source, Light and Mass): Mass Light Dark\n",
        "==============================================\n",
        "\n",
        "This example shows how to use the SLaM pipelines to end with a mass model which decomposes the lens into its\n",
        "stars and dark matter, using a light plus dark matter mass model.\n",
        "\n",
        "Unlike other example SLaM pipelines, which end with the MASS TOTAL PIPELINE, this script ends with the\n",
        "MASS LIGHT DARK PIPELINE.\n",
        "\n",
        "__Model__\n",
        "\n",
        "Using a SOURCE LP PIPELINE, LIGHT PIPELINE and a MASS LIGHT DARK PIPELINE this SLaM script  fits `Imaging` dataset of\n",
        "a strong lens system, where in the final model:\n",
        "\n",
        " - The lens galaxy's light is a bulge with a linear parametric `Sersic` light profile.\n",
        " - The lens galaxy's stellar mass distribution is a bulge tied to the light model above.\n",
        " - The lens galaxy's dark matter mass distribution is modeled as a `NFWMCRLudlow`.\n",
        " - The source galaxy's light is a `Pixelization`.\n",
        "\n",
        "This modeling script uses the SLaM pipelines:\n",
        "\n",
        " `source_lp`\n",
        " `source_pixelization`\n",
        " `light_lp`\n",
        " `mass_light_dark`\n",
        "\n",
        "Check them out for a detailed description of the analysis!\n",
        "\n",
        "__Start Here Notebook__\n",
        "\n",
        "If any code in this script is unclear, refer to the `slam/start_here.ipynb` notebook."
      ]
    },
    {
      "cell_type": "code",
      "metadata": {},
      "source": [
        "%matplotlib inline\n",
        "from pyprojroot import here\n",
        "workspace_path = str(here())\n",
        "%cd $workspace_path\n",
        "print(f\"Working Directory has been set to `{workspace_path}`\")\n",
        "\n",
        "import os\n",
        "import sys\n",
        "from os import path\n",
        "import autofit as af\n",
        "import autolens as al\n",
        "import autolens.plot as aplt\n",
        "\n",
        "sys.path.insert(0, os.getcwd())\n",
        "import slam"
      ],
      "outputs": [],
      "execution_count": null
    },
    {
      "cell_type": "markdown",
      "metadata": {},
      "source": [
        "__Dataset__ \n",
        "\n",
        "Load, plot and mask the `Imaging` data."
      ]
    },
    {
      "cell_type": "code",
      "metadata": {},
      "source": [
        "dataset_name = \"mass_stellar_dark\"\n",
        "dataset_path = path.join(\"dataset\", \"imaging\", dataset_name)\n",
        "\n",
        "dataset = al.Imaging.from_fits(\n",
        "    data_path=path.join(dataset_path, \"data.fits\"),\n",
        "    noise_map_path=path.join(dataset_path, \"noise_map.fits\"),\n",
        "    psf_path=path.join(dataset_path, \"psf.fits\"),\n",
        "    pixel_scales=0.1,\n",
        ")\n",
        "\n",
        "mask = al.Mask2D.circular(\n",
        "    shape_native=dataset.shape_native, pixel_scales=dataset.pixel_scales, radius=3.0\n",
        ")\n",
        "\n",
        "dataset = dataset.apply_mask(mask=mask)\n",
        "\n",
        "dataset_plotter = aplt.ImagingPlotter(dataset=dataset)\n",
        "dataset_plotter.subplot_dataset()"
      ],
      "outputs": [],
      "execution_count": null
    },
    {
      "cell_type": "markdown",
      "metadata": {},
      "source": [
        "__Settings AutoFit__\n",
        "\n",
        "The settings of autofit, which controls the output paths, parallelization, database use, etc."
      ]
    },
    {
      "cell_type": "code",
      "metadata": {},
      "source": [
        "settings_search = af.SettingsSearch(\n",
        "    path_prefix=path.join(\"imaging\", \"slam\"),\n",
        "    unique_tag=dataset_name,\n",
        "    info=None,\n",
        "    number_of_cores=1,\n",
        "    session=None,\n",
        ")"
      ],
      "outputs": [],
      "execution_count": null
    },
    {
      "cell_type": "markdown",
      "metadata": {},
      "source": [
        "__Redshifts__\n",
        "\n",
        "The redshifts of the lens and source galaxies."
      ]
    },
    {
      "cell_type": "code",
      "metadata": {},
      "source": [
        "redshift_lens = 0.5\n",
        "redshift_source = 1.0\n"
      ],
      "outputs": [],
      "execution_count": null
    },
    {
      "cell_type": "markdown",
      "metadata": {},
      "source": [
        "__SOURCE LP PIPELINE__\n",
        "\n",
        "The SOURCE LP PIPELINE uses one search to initialize a robust model for the source galaxy's light, which in \n",
        "this example:\n",
        "\n",
        " - Uses a linear parametric `Sersic` bulge for the lens galaxy's light.\n",
        "\n",
        " - Uses an `Isothermal` model for the lens's total mass distribution with an `ExternalShear`.\n",
        "\n",
        " __Settings__:\n",
        "\n",
        " - Mass Centre: Fix the mass profile centre to (0.0, 0.0) (this assumption will be relaxed in the MASS LIGHT DARK \n",
        " PIPELINE)."
      ]
    },
    {
      "cell_type": "code",
      "metadata": {},
      "source": [
        "analysis = al.AnalysisImaging(dataset=dataset)\n",
        "\n",
        "bulge = af.Model(al.lp_linear.Sersic)\n",
        "\n",
        "source_lp_result = slam.source_lp.run(\n",
        "    settings_search=settings_search,\n",
        "    analysis=analysis,\n",
        "    lens_bulge=bulge,\n",
        "    lens_disk=None,\n",
        "    mass=af.Model(al.mp.Isothermal),\n",
        "    shear=af.Model(al.mp.ExternalShear),\n",
        "    source_bulge=af.Model(al.lp_linear.SersicCore),\n",
        "    mass_centre=(0.0, 0.0),\n",
        "    redshift_lens=redshift_lens,\n",
        "    redshift_source=redshift_source,\n",
        ")"
      ],
      "outputs": [],
      "execution_count": null
    },
    {
      "cell_type": "markdown",
      "metadata": {},
      "source": [
        "__SOURCE PIX PIPELINE__\n",
        "\n",
        "The SOURCE PIX PIPELINE uses two searches to initialize a robust model for the `Pixelization` that\n",
        "reconstructs the source galaxy's light. \n",
        "\n",
        "This pixelization adapts its source pixels to the morphology of the source, placing more pixels in its \n",
        "brightest regions. To do this, an \"adapt image\" is required, which is the lens light subtracted image meaning\n",
        "only the lensed source emission is present.\n",
        "\n",
        "The SOURCE LP Pipeline result is not good enough quality to set up this adapt image (e.g. the source\n",
        "may be more complex than a simple light profile). The first step of the SOURCE PIX PIPELINE therefore fits a new\n",
        "model using a pixelization to create this adapt image.\n",
        "\n",
        "The first search, which is an initialization search, fits an `Overlay` image-mesh, `Delaunay` mesh \n",
        "and `AdaptiveBrightnessSplit` regularization.\n",
        "\n",
        "__Adapt Images / Image Mesh Settings__\n",
        "\n",
        "If you are unclear what the `adapt_images` and `SettingsInversion` inputs are doing below, refer to the \n",
        "`autolens_workspace/*/imaging/advanced/chaining/pix_adapt/start_here.py` example script.\n",
        "\n",
        "__Settings__:\n",
        "\n",
        " - Positions: We update the positions and positions threshold using the previous model-fitting result (as described \n",
        " in `chaining/examples/parametric_to_pixelization.py`) to remove unphysical solutions from the `Inversion` model-fitting."
      ]
    },
    {
      "cell_type": "code",
      "metadata": {},
      "source": [
        "analysis = al.AnalysisImaging(\n",
        "    dataset=dataset,\n",
        "    adapt_image_maker=al.AdaptImageMaker(result=source_lp_result),\n",
        "    positions_likelihood=source_lp_result.positions_likelihood_from(\n",
        "        factor=3.0, minimum_threshold=0.2\n",
        "    ),\n",
        ")\n",
        "\n",
        "source_pix_result_1 = slam.source_pix.run_1(\n",
        "    settings_search=settings_search,\n",
        "    analysis=analysis,\n",
        "    source_lp_result=source_lp_result,\n",
        "    mesh_init=al.mesh.Delaunay,\n",
        ")"
      ],
      "outputs": [],
      "execution_count": null
    },
    {
      "cell_type": "markdown",
      "metadata": {},
      "source": [
        "__SOURCE PIX PIPELINE 2 (with lens light)__\n",
        "\n",
        "The second search, which uses the mesh and regularization used throughout the remainder of the SLaM pipelines,\n",
        "fits the following model:\n",
        "\n",
        "- Uses a `Hilbert` image-mesh. \n",
        "\n",
        "- Uses a `Delaunay` mesh.\n",
        "\n",
        " - Uses an `AdaptiveBrightnessSplit` regularization.\n",
        "\n",
        " - Carries the lens redshift, source redshift and `ExternalShear` of the SOURCE LP PIPELINE through to the\n",
        " SOURCE PIX PIPELINE.\n",
        "\n",
        "The `Hilbert` image-mesh and `AdaptiveBrightness` regularization adapt the source pixels and regularization weights\n",
        "to the source's morphology.\n",
        "\n",
        "Below, we therefore set up the adapt image using this result."
      ]
    },
    {
      "cell_type": "code",
      "metadata": {},
      "source": [
        "adapt_image_maker = al.AdaptImageMaker(result=source_pix_result_1)\n",
        "adapt_image = adapt_image_maker.adapt_images.galaxy_name_image_dict[\n",
        "    \"('galaxies', 'source')\"\n",
        "]\n",
        "\n",
        "over_sampling = al.OverSamplingUniform.from_adapt(\n",
        "    data=adapt_image,\n",
        "    noise_map=dataset.noise_map,\n",
        ")\n",
        "\n",
        "dataset = dataset.apply_over_sampling(\n",
        "    over_sampling=al.OverSamplingDataset(pixelization=over_sampling)\n",
        ")\n",
        "\n",
        "analysis = al.AnalysisImaging(\n",
        "    dataset=dataset,\n",
        "    adapt_image_maker=al.AdaptImageMaker(result=source_pix_result_1),\n",
        "    settings_inversion=al.SettingsInversion(\n",
        "        image_mesh_min_mesh_pixels_per_pixel=3,\n",
        "        image_mesh_min_mesh_number=5,\n",
        "        image_mesh_adapt_background_percent_threshold=0.1,\n",
        "        image_mesh_adapt_background_percent_check=0.8,\n",
        "    ),\n",
        ")\n",
        "\n",
        "source_pix_result_2 = slam.source_pix.run_2(\n",
        "    settings_search=settings_search,\n",
        "    analysis=analysis,\n",
        "    source_lp_result=source_lp_result,\n",
        "    source_pix_result_1=source_pix_result_1,\n",
        "    image_mesh=al.image_mesh.Hilbert,\n",
        "    mesh=al.mesh.Delaunay,\n",
        "    regularization=al.reg.AdaptiveBrightnessSplit,\n",
        ")\n"
      ],
      "outputs": [],
      "execution_count": null
    },
    {
      "cell_type": "markdown",
      "metadata": {},
      "source": [
        "__LIGHT LP PIPELINE__\n",
        "\n",
        "The LIGHT LP PIPELINE uses one search to fit a complex lens light model to a high level of accuracy, using the\n",
        "lens mass model and source light model fixed to the maximum log likelihood result of the SOURCE PIX PIPELINE.\n",
        "\n",
        "In this example it:\n",
        "\n",
        " - Uses a linear parametric `Sersic` bulge [Fixed from SOURCE LP PIPELINE].\n",
        "\n",
        " - Uses an `Isothermal` model for the lens's total mass distribution [fixed from SOURCE LP PIPELINE].\n",
        "\n",
        " - Uses a `Pixelization` for the source's light [fixed from SOURCE PIX PIPELINE].\n",
        "\n",
        " - Carries the lens redshift, source redshift and `ExternalShear` of the SOURCE PIPELINE through to the MASS \n",
        " PIPELINE [fixed values]. "
      ]
    },
    {
      "cell_type": "code",
      "metadata": {},
      "source": [
        "bulge = af.Model(al.lp_linear.Sersic)\n",
        "\n",
        "analysis = al.AnalysisImaging(\n",
        "    dataset=dataset,\n",
        "    adapt_image_maker=al.AdaptImageMaker(result=source_pix_result_1),\n",
        ")\n",
        "\n",
        "light_result = slam.light_lp.run(\n",
        "    settings_search=settings_search,\n",
        "    analysis=analysis,\n",
        "    source_result_for_lens=source_pix_result_1,\n",
        "    source_result_for_source=source_pix_result_2,\n",
        "    lens_bulge=bulge,\n",
        "    lens_disk=None,\n",
        ")"
      ],
      "outputs": [],
      "execution_count": null
    },
    {
      "cell_type": "markdown",
      "metadata": {},
      "source": [
        "__MASS LIGHT DARK PIPELINE__\n",
        "\n",
        "The MASS LIGHT DARK PIPELINE uses one search to fits a complex lens mass model to a high level of \n",
        "accuracy, using the source model of the SOURCE PIPELINE and the lens light model of the LIGHT LP PIPELINE to \n",
        "initialize the model priors . \n",
        "\n",
        "In this example it:\n",
        "\n",
        " - Uses a linear parametric `Sersic` bulge for the lens galaxy's light and its stellar mass [11 parameters: fixed from \n",
        " LIGHT LP PIPELINE].\n",
        "\n",
        " - The lens galaxy's dark matter mass distribution is a `NFWMCRLudlow` whose centre is aligned with bulge of \n",
        " the light and stellar mass model above [5 parameters].\n",
        "\n",
        " - Uses a `Pixelization` for the source's light [fixed from SOURCE PIX PIPELINE].\n",
        "\n",
        " - Carries the lens redshift, source redshift and `ExternalShear` of the SOURCE LP PIPELINE through to the MASS \n",
        " LIGHT DARK PIPELINE.\n",
        " \n",
        "__Settings__:\n",
        "\n",
        " - adapt: We may be using adapt features and therefore pass the result of the SOURCE PIX PIPELINE to use as the\n",
        " hyper dataset if required.\n",
        "\n",
        " - Positions: We update the positions and positions threshold using the previous model-fitting result (as described \n",
        " in `chaining/examples/parametric_to_pixelization.py`) to remove unphysical solutions from the `Inversion` model-fitting."
      ]
    },
    {
      "cell_type": "code",
      "metadata": {},
      "source": [
        "analysis = al.AnalysisImaging(\n",
        "    dataset=dataset,\n",
        "    adapt_image_maker=al.AdaptImageMaker(result=source_pix_result_1),\n",
        "    positions_likelihood=source_pix_result_2.positions_likelihood_from(\n",
        "        factor=3.0, minimum_threshold=0.2\n",
        "    ),\n",
        ")\n",
        "\n",
        "lp_chain_tracer = al.util.chaining.lp_chain_tracer_from(\n",
        "    light_result=light_result, settings_search=settings_search\n",
        ")\n",
        "\n",
        "lens_bulge = af.Model(al.lmp.Sersic)\n",
        "dark = af.Model(al.mp.NFWMCRLudlow)\n",
        "\n",
        "dark.centre = lens_bulge.centre\n",
        "\n",
        "mass_result = slam.mass_light_dark.run(\n",
        "    settings_search=settings_search,\n",
        "    analysis=analysis,\n",
        "    lp_chain_tracer=lp_chain_tracer,\n",
        "    source_result_for_lens=source_pix_result_1,\n",
        "    source_result_for_source=source_pix_result_2,\n",
        "    light_result=light_result,\n",
        "    dark=dark,\n",
        ")"
      ],
      "outputs": [],
      "execution_count": null
    },
    {
      "cell_type": "markdown",
      "metadata": {},
      "source": [
        "Finish."
      ]
    },
    {
      "cell_type": "code",
      "metadata": {},
      "source": [],
      "outputs": [],
      "execution_count": null
    }
  ],
  "metadata": {
    "anaconda-cloud": {},
    "kernelspec": {
      "display_name": "Python 3",
      "language": "python",
      "name": "python3"
    },
    "language_info": {
      "codemirror_mode": {
        "name": "ipython",
        "version": 3
      },
      "file_extension": ".py",
      "mimetype": "text/x-python",
      "name": "python",
      "nbconvert_exporter": "python",
      "pygments_lexer": "ipython3",
      "version": "3.6.1"
    }
  },
  "nbformat": 4,
  "nbformat_minor": 4
}