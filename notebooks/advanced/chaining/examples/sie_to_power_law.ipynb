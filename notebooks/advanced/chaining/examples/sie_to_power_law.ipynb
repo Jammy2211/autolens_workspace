{
  "cells": [
    {
      "cell_type": "markdown",
      "metadata": {},
      "source": [
        "Chaining: SIE to Power-law\n",
        "==========================\n",
        "\n",
        "This script chains two searches to fit `Imaging` data of a 'galaxy-scale' strong lens with a model where:\n",
        "\n",
        " - The lens galaxy's light is omitted.\n",
        " - The lens galaxy's total mass distribution is an `PowerLaw`.\n",
        " - The source galaxy's light is a linear parametric `SersicCore`.\n",
        "\n",
        "The two searches break down as follows:\n",
        "\n",
        " 1) Models the lens galaxy's mass as an `Isothermal` and the source galaxy's light as an `Sersic`.\n",
        " 2) Models the lens galaxy's mass an an `PowerLaw` and the source galaxy's light as an `Sersic`.\n",
        "\n",
        "__Why Chain?__\n",
        "\n",
        "The `EllPower` is a general form of the `Isothermal` which has one additional parameter, the `slope`,\n",
        "which controls the inner mass distribution as follows:\n",
        "\n",
        " - A higher slope concentrates more mass in the central regions of the mass profile relative to the outskirts.\n",
        " - A lower slope shallows the inner mass distribution reducing its density relative to the outskirts. \n",
        "\n",
        "By allowing the lens model to vary the mass profile's inner distribution, its non-linear parameter space becomes\n",
        "significantly more complex and a notable degeneracy appears between the mass model`s mass normalization, elliptical\n",
        "components and slope. This is challenging to sample in an efficient and robust manner, especially when the non-linear\n",
        "search's initial samples use broad uniform priors on the lens and source parameters.\n",
        "\n",
        "Search chaining allows us to begin by fitting an `Isothermal` model and therefore estimate the lens's mass\n",
        "model and the source parameters via a non-linear parameter space that does not have a strong of a parameter degeneracy\n",
        "present. This makes the model-fit more efficient and reliable.\n",
        "\n",
        "The second search then fits the `PowerLaw`, using prior passing to initialize the mass and elliptical\n",
        "components of the lens galaxy as well as the source galaxy's light profile.\n",
        "\n",
        "__Preloading__\n",
        "\n",
        "When certain components of a model are fixed its associated quantities do not change during a model-fit. For\n",
        "example, for a lens model where all light profiles are fixed, the PSF blurred model-image of those light profiles\n",
        "is also fixed.\n",
        "\n",
        "**PyAutoLens** uses _implicit preloading_ to inspect the model and determine what quantities are fixed. It then stores\n",
        "these in memory before the non-linear search begins such that they are not recomputed for every likelihood evaluation.\n",
        "\n",
        "In this example no preloading occurs.\n",
        "\n",
        "__Start Here Notebook__\n",
        "\n",
        "If any code in this script is unclear, refer to the `chaining/start_here.ipynb` notebook."
      ]
    },
    {
      "cell_type": "code",
      "metadata": {},
      "source": [
        "%matplotlib inline\n",
        "from pyprojroot import here\n",
        "workspace_path = str(here())\n",
        "%cd $workspace_path\n",
        "print(f\"Working Directory has been set to `{workspace_path}`\")\n",
        "\n",
        "from os import path\n",
        "import autofit as af\n",
        "import autolens as al\n",
        "import autolens.plot as aplt"
      ],
      "outputs": [],
      "execution_count": null
    },
    {
      "cell_type": "markdown",
      "metadata": {},
      "source": [
        "__Dataset + Masking__ \n",
        "\n",
        "Load, plot and mask the `Imaging` data."
      ]
    },
    {
      "cell_type": "code",
      "metadata": {},
      "source": [
        "dataset_name = \"mass_power_law\"\n",
        "dataset_path = path.join(\"dataset\", \"imaging\", dataset_name)\n",
        "\n",
        "dataset = al.Imaging.from_fits(\n",
        "    data_path=path.join(dataset_path, \"data.fits\"),\n",
        "    noise_map_path=path.join(dataset_path, \"noise_map.fits\"),\n",
        "    psf_path=path.join(dataset_path, \"psf.fits\"),\n",
        "    pixel_scales=0.1,\n",
        ")\n",
        "\n",
        "mask = al.Mask2D.circular(\n",
        "    shape_native=dataset.shape_native, pixel_scales=dataset.pixel_scales, radius=3.0\n",
        ")\n",
        "\n",
        "dataset = dataset.apply_mask(mask=mask)\n",
        "\n",
        "dataset_plotter = aplt.ImagingPlotter(dataset=dataset)\n",
        "dataset_plotter.subplot_dataset()"
      ],
      "outputs": [],
      "execution_count": null
    },
    {
      "cell_type": "markdown",
      "metadata": {},
      "source": [
        "__Paths__\n",
        "\n",
        "The path the results of all chained searches are output:"
      ]
    },
    {
      "cell_type": "code",
      "metadata": {},
      "source": [
        "path_prefix = path.join(\"imaging\", \"chaining\", \"sie_to_power_law\")"
      ],
      "outputs": [],
      "execution_count": null
    },
    {
      "cell_type": "markdown",
      "metadata": {},
      "source": [
        "__Model (Search 1)__\n",
        "\n",
        "Search 1 fits a lens model where:\n",
        "\n",
        " - The lens galaxy's total mass distribution is an `Isothermal` with `ExternalShear` [7 parameters].\n",
        " - The source galaxy's light is a linear parametric `SersicCore` [6 parameters].\n",
        "\n",
        "The number of free parameters and therefore the dimensionality of non-linear parameter space is N=14."
      ]
    },
    {
      "cell_type": "code",
      "metadata": {},
      "source": [
        "lens = af.Model(\n",
        "    al.Galaxy, redshift=0.5, mass=al.mp.Isothermal, shear=al.mp.ExternalShear\n",
        ")\n",
        "\n",
        "source = af.Model(al.Galaxy, redshift=1.0, bulge=al.lp_linear.SersicCore)\n",
        "\n",
        "model_1 = af.Collection(galaxies=af.Collection(lens=lens, source=source))"
      ],
      "outputs": [],
      "execution_count": null
    },
    {
      "cell_type": "markdown",
      "metadata": {},
      "source": [
        "The `info` attribute shows the model in a readable format."
      ]
    },
    {
      "cell_type": "code",
      "metadata": {},
      "source": [
        "print(model_1.info)"
      ],
      "outputs": [],
      "execution_count": null
    },
    {
      "cell_type": "markdown",
      "metadata": {},
      "source": [
        "__Search + Analysis + Model-Fit (Search 1)__\n",
        "\n",
        "We now create the non-linear search, analysis and perform the model-fit using this model.\n",
        "\n",
        "You may wish to inspect the results of the search 1 model-fit to ensure a fast non-linear search has been provided that \n",
        "provides a reasonably accurate lens model."
      ]
    },
    {
      "cell_type": "code",
      "metadata": {},
      "source": [
        "search_1 = af.Nautilus(\n",
        "    path_prefix=path_prefix, name=\"search[1]__sie\", unique_tag=dataset_name, n_live=100\n",
        ")\n",
        "\n",
        "analysis_1 = al.AnalysisImaging(dataset=dataset)\n",
        "\n",
        "result_1 = search_1.fit(model=model_1, analysis=analysis_1)"
      ],
      "outputs": [],
      "execution_count": null
    },
    {
      "cell_type": "markdown",
      "metadata": {},
      "source": [
        "__Result (Search 1)__\n",
        "\n",
        "The results which are used for prior passing are summarized in the `info` attribute."
      ]
    },
    {
      "cell_type": "code",
      "metadata": {},
      "source": [
        "print(result_1.info)"
      ],
      "outputs": [],
      "execution_count": null
    },
    {
      "cell_type": "markdown",
      "metadata": {},
      "source": [
        "__Model (Search 2)__\n",
        "\n",
        "We use the results of search 1 to create the lens model fitted in search 2, where:\n",
        "\n",
        " - The lens galaxy's total mass distribution is an `PowerLaw` with `ExternalShear` [8 parameters: priors \n",
        " initialized from search 1].\n",
        " - The source galaxy's light is again a linear parametric `Sersic` [6 parameters: priors initialized from search 1].\n",
        " \n",
        "The number of free parameters and therefore the dimensionality of non-linear parameter space is N=15.\n",
        "\n",
        "The term `model` below passes the source model as model-components that are to be fitted for by the  non-linear search. \n",
        "Because the source model does not change we can pass its priors by simply using the`model` attribute of the result:"
      ]
    },
    {
      "cell_type": "code",
      "metadata": {},
      "source": [
        "source = result_1.model.galaxies.source"
      ],
      "outputs": [],
      "execution_count": null
    },
    {
      "cell_type": "markdown",
      "metadata": {},
      "source": [
        "However, we cannot use this to pass the lens galaxy, because its mass model must change from an `Isothermal` \n",
        "to an `PowerLaw`. The following code would not change the mass model to an `PowerLaw`:\n",
        " \n",
        " `lens = result.model.galaxies.lens`\n",
        " \n",
        "We can instead use the `take_attributes` method to pass the priors. Below, we pass the lens of the result above to a\n",
        "new `PowerLaw`, which will find all parameters in the `Isothermal` model that share the same name\n",
        "as parameters in the `PowerLaw` and pass their priors (in this case, the `centre`, `ell_comps` \n",
        "and `einstein_radius`).\n",
        "\n",
        "This leaves the `slope` parameter of the `PowerLaw` with its default `UniformPrior` which has a \n",
        "`lower_limit=1.5` and `upper_limit=3.0`."
      ]
    },
    {
      "cell_type": "code",
      "metadata": {},
      "source": [
        "mass = af.Model(al.mp.PowerLaw)\n",
        "mass.take_attributes(result_1.model.galaxies.lens.mass)\n",
        "shear = result_1.model.galaxies.lens.shear\n",
        "\n",
        "lens = af.Model(al.Galaxy, redshift=0.5, mass=mass, shear=shear)\n",
        "\n",
        "model_2 = af.Collection(galaxies=af.Collection(lens=lens, source=source))"
      ],
      "outputs": [],
      "execution_count": null
    },
    {
      "cell_type": "markdown",
      "metadata": {},
      "source": [
        "The `info` attribute shows the model, including how parameters and priors were passed from `result_1`."
      ]
    },
    {
      "cell_type": "code",
      "metadata": {},
      "source": [
        "print(model_2.info)"
      ],
      "outputs": [],
      "execution_count": null
    },
    {
      "cell_type": "markdown",
      "metadata": {},
      "source": [
        "__Search + Analysis + Model-Fit (Search 2)__\n",
        "\n",
        "We now create the non-linear search, analysis and perform the model-fit using this model.\n",
        "\n",
        "You may wish to inspect the `model.info` file of the search 2 model-fit to ensure the priors were passed correctly, as \n",
        "well as the checkout the results to ensure an accurate power-law mass model is inferred."
      ]
    },
    {
      "cell_type": "code",
      "metadata": {},
      "source": [
        "search_2 = af.Nautilus(\n",
        "    path_prefix=path_prefix,\n",
        "    name=\"search[2]__power_law\",\n",
        "    unique_tag=dataset_name,\n",
        "    n_live=100,\n",
        ")\n",
        "\n",
        "analysis_2 = al.AnalysisImaging(dataset=dataset)\n",
        "\n",
        "result_2 = search_2.fit(model=model_2, analysis=analysis_2)"
      ],
      "outputs": [],
      "execution_count": null
    },
    {
      "cell_type": "markdown",
      "metadata": {},
      "source": [
        "__Result (Search 2)__\n",
        "\n",
        "The final results can be summarized via printing `info`."
      ]
    },
    {
      "cell_type": "code",
      "metadata": {},
      "source": [
        "print(result_2.info)"
      ],
      "outputs": [],
      "execution_count": null
    },
    {
      "cell_type": "markdown",
      "metadata": {},
      "source": [
        "__Wrap Up__\n",
        "\n",
        "In this example, we passed used prior passing to initialize a lens mass model as an `Isothermal` and \n",
        "passed its priors to then fit the more complex `PowerLaw` model. \n",
        "\n",
        "This removed difficult-to-fit degeneracies from the non-linear parameter space in search 1, providing a more robust \n",
        "and efficient model-fit.\n",
        "\n",
        "__Pipelines__\n",
        "\n",
        "Advanced search chaining uses `pipelines` that chain together multiple searches to perform complex lens modeling \n",
        "in a robust and efficient way. \n",
        "\n",
        "The following example pipelines fits a power-law, using the same approach demonstrated in this script of first \n",
        "fitting an `Isothermal`:\n",
        "\n",
        " `autolens_workspace/imaging/chaining/pipelines/mass_total__source_lp_linear.py`\n",
        " \n",
        " __SLaM (Source, Light and Mass)__\n",
        " \n",
        "An even more advanced approach which uses search chaining are the SLaM pipelines, which break the lens modeling \n",
        "processing into a series of fits that first perfect the source model, then the lens light model and finally the lens\n",
        "mass model. \n",
        "\n",
        "The SLaM pipelines assume an `Isothermal` throughout the Source and Light pipelines, and only switch to a\n",
        "more complex mass model (like the `PowerLaw`) in the final Mass pipeline."
      ]
    },
    {
      "cell_type": "code",
      "metadata": {},
      "source": [],
      "outputs": [],
      "execution_count": null
    }
  ],
  "metadata": {
    "anaconda-cloud": {},
    "kernelspec": {
      "display_name": "Python 3",
      "language": "python",
      "name": "python3"
    },
    "language_info": {
      "codemirror_mode": {
        "name": "ipython",
        "version": 3
      },
      "file_extension": ".py",
      "mimetype": "text/x-python",
      "name": "python",
      "nbconvert_exporter": "python",
      "pygments_lexer": "ipython3",
      "version": "3.6.1"
    }
  },
  "nbformat": 4,
  "nbformat_minor": 4
}