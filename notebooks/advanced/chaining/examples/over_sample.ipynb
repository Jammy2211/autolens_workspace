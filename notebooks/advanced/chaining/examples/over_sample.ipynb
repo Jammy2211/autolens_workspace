{
  "cells": [
    {
      "cell_type": "markdown",
      "metadata": {},
      "source": [
        "Chaining: Over Sample\n",
        "=====================\n",
        "\n",
        "Over sampling is a numerical technique where the images of light profiles and galaxies are evaluated\n",
        "on a higher resolution grid than the image data to ensure the calculation is accurate.\n",
        "\n",
        "If you are reading this example, you should be familiar with over sampling already. If this is not the case,\n",
        "checkout the over sampling guide at `autolens_workspace/*/guides/over_sampling.py`.\n",
        "\n",
        "The guide illustrated adaptive over sampling, where the over sampling sub grid used high resolution pixels in the\n",
        "centre of a light profile and lower resolution pixels further out. This reached high levels of numerical accuracy\n",
        "with efficient run times.\n",
        "\n",
        "However, the adaptive sub grid only works for uniform grids which have not been deflected or ray-traced by the lens\n",
        "mass model. This criteria is met for the lens galaxy's light, but not for the emission of the lensed source. There\n",
        "is no automatic adaptive method for the lensed source, which is why the autolens workspace uses cored light profiles\n",
        "throughout.\n",
        "\n",
        "An efficient and adaptive over sampling grid is possible. However, it requires using search chaining, where between\n",
        "searches the over sampling grid is updated.\n",
        "\n",
        "This example shows how to combine lensed source adaptive over sampling with search chaining.\n",
        "\n",
        "__Start Here Notebook__\n",
        "\n",
        "If any code in this script is unclear, refer to the `chaining/start_here.ipynb` notebook."
      ]
    },
    {
      "cell_type": "code",
      "metadata": {},
      "source": [
        "\n",
        "%matplotlib inline\n",
        "from pyprojroot import here\n",
        "workspace_path = str(here())\n",
        "%cd $workspace_path\n",
        "print(f\"Working Directory has been set to `{workspace_path}`\")\n",
        "\n",
        "import numpy as np\n",
        "import os\n",
        "import sys\n",
        "from pathlib import Path\n",
        "import autofit as af\n",
        "import autolens as al\n",
        "import autolens.plot as aplt\n",
        "\n",
        "sys.path.insert(0, os.getcwd())"
      ],
      "outputs": [],
      "execution_count": null
    },
    {
      "cell_type": "markdown",
      "metadata": {},
      "source": [
        "__Dataset + Masking__ \n",
        "\n",
        "Load, plot and mask the `Imaging` data.\n",
        "\n",
        "The data is simulated using a Sersic without a core, unlike most datasets fitted throughout the workspace."
      ]
    },
    {
      "cell_type": "code",
      "metadata": {},
      "source": [
        "dataset_name = \"simple__no_lens_light\"\n",
        "dataset_path = Path(\"dataset\") / \"imaging\" / dataset_name\n",
        "\n",
        "dataset = al.Imaging.from_fits(\n",
        "    data_path=dataset_path / \"data.fits\",\n",
        "    noise_map_path=dataset_path / \"noise_map.fits\",\n",
        "    psf_path=dataset_path / \"psf.fits\",\n",
        "    pixel_scales=0.1,\n",
        ")\n",
        "\n",
        "mask_radius = 3.0\n",
        "\n",
        "mask = al.Mask2D.circular(\n",
        "    shape_native=dataset.shape_native,\n",
        "    pixel_scales=dataset.pixel_scales,\n",
        "    radius=mask_radius,\n",
        ")\n",
        "\n",
        "dataset = dataset.apply_mask(mask=mask)\n",
        "\n",
        "over_sample_size = al.util.over_sample.over_sample_size_via_radial_bins_from(\n",
        "    grid=dataset.grid,\n",
        "    sub_size_list=[4, 2, 1],\n",
        "    radial_list=[0.3, 0.6],\n",
        "    centre_list=[(0.0, 0.0)],\n",
        ")\n",
        "\n",
        "dataset = dataset.apply_over_sampling(over_sample_size_lp=over_sample_size)\n",
        "\n",
        "dataset_plotter = aplt.ImagingPlotter(dataset=dataset)\n",
        "dataset_plotter.subplot_dataset()"
      ],
      "outputs": [],
      "execution_count": null
    },
    {
      "cell_type": "markdown",
      "metadata": {},
      "source": [
        "__Paths__\n",
        "\n",
        "The path the results of all chained searches are output:"
      ]
    },
    {
      "cell_type": "code",
      "metadata": {},
      "source": [
        "path_prefix = Path(\"imaging\") / \"chaining\""
      ],
      "outputs": [],
      "execution_count": null
    },
    {
      "cell_type": "markdown",
      "metadata": {},
      "source": [
        "__Redshifts__\n",
        "\n",
        "The redshifts of the lens and source galaxies."
      ]
    },
    {
      "cell_type": "code",
      "metadata": {},
      "source": [
        "redshift_lens = 0.5\n",
        "redshift_source = 1.0"
      ],
      "outputs": [],
      "execution_count": null
    },
    {
      "cell_type": "markdown",
      "metadata": {},
      "source": [
        "__Model (Search 1)__\n",
        "\n",
        "Search 1 fits a lens model where:\n",
        "\n",
        " - The lens galaxy's total mass distribution is an `Isothermal` with `ExternalShear` [7 parameters].\n",
        " - The source galaxy's light is an MGE with 1 x 20 Gaussians [4 parameters].\n",
        "\n",
        "The number of free parameters and therefore the dimensionality of non-linear parameter space is N=14."
      ]
    },
    {
      "cell_type": "code",
      "metadata": {},
      "source": [
        "lens = af.Model(\n",
        "    al.Galaxy, redshift=0.5, mass=al.mp.Isothermal, shear=al.mp.ExternalShear\n",
        ")\n",
        "\n",
        "bulge = al.model_util.mge_model_from(\n",
        "    mask_radius=mask_radius,\n",
        "    total_gaussians=20,\n",
        "    gaussian_per_basis=1,\n",
        "    centre_prior_is_uniform=False,\n",
        ")\n",
        "\n",
        "source = af.Model(al.Galaxy, redshift=1.0, bulge=bulge)\n",
        "\n",
        "model_1 = af.Collection(galaxies=af.Collection(lens=lens, source=source))"
      ],
      "outputs": [],
      "execution_count": null
    },
    {
      "cell_type": "markdown",
      "metadata": {},
      "source": [
        "The `info` attribute shows the model in a readable format."
      ]
    },
    {
      "cell_type": "code",
      "metadata": {},
      "source": [
        "print(model_1.info)"
      ],
      "outputs": [],
      "execution_count": null
    },
    {
      "cell_type": "markdown",
      "metadata": {},
      "source": [
        "__Search + Analysis + Model-Fit (Search 1)__\n",
        "\n",
        "We now create the non-linear search, analysis and perform the model-fit using this model.\n",
        "\n",
        "You may wish to inspect the results of the search 1 model-fit to ensure a fast non-linear search has been provided that \n",
        "provides a reasonably accurate lens model.\n",
        "\n",
        "Faint residuals around the multiple images will be present, because the simulated data used a non-cored Sersic\n",
        "whereas the model fitted is a cored Sersic."
      ]
    },
    {
      "cell_type": "code",
      "metadata": {},
      "source": [
        "search_1 = af.Nautilus(\n",
        "    path_prefix=path_prefix,\n",
        "    name=\"search[1]__sersic_core\",\n",
        "    unique_tag=dataset_name,\n",
        "    n_live=100,\n",
        ")\n",
        "\n",
        "analysis_1 = al.AnalysisImaging(dataset=dataset)\n",
        "\n",
        "result_1 = search_1.fit(model=model_1, analysis=analysis_1)"
      ],
      "outputs": [],
      "execution_count": null
    },
    {
      "cell_type": "markdown",
      "metadata": {},
      "source": [
        "__Result (Search 1)__\n",
        "\n",
        "The results which are used for prior passing are summarised in the `info` attribute."
      ]
    },
    {
      "cell_type": "code",
      "metadata": {},
      "source": [
        "print(result_1.info)"
      ],
      "outputs": [],
      "execution_count": null
    },
    {
      "cell_type": "markdown",
      "metadata": {},
      "source": [
        "__Over Sampling (Search 2)__\n",
        "\n",
        "We now create an over sampling grid which applies high levels of over sampling to the brightest regions of the\n",
        "lensed source in the image plane.\n",
        "\n",
        "This uses the result of the first lens model in the following way:\n",
        "\n",
        " 1) Use the lens mass model to ray-trace every deflected image pixel to the source plane, computed the traced grid.\n",
        "  \n",
        " 2) Use the traced grid and the centre of the source light profile to compute the distance of every traced image pixel \n",
        "    to the source centre. \n",
        "    \n",
        " 3) For all pixels with a distance below a threshold value of 0.1\", we set the over sampling factor to a high value of \n",
        "    32, which will ensure accuracy in the evaluated of the source's light profile, even after lensing. Pixels 0.1\" to\n",
        "    0.3\" from the centre use an over sampling factor of 4, and all other pixels use an over sampling factor of 2.  "
      ]
    },
    {
      "cell_type": "code",
      "metadata": {},
      "source": [
        "\n",
        "tracer = result_1.max_log_likelihood_tracer\n",
        "\n",
        "traced_grid = tracer.traced_grid_2d_list_from(\n",
        "    grid=dataset.grid,\n",
        ")[-1]\n",
        "\n",
        "source_centre = tracer.galaxies[1].bulge.centre\n",
        "\n",
        "over_sample_size = al.util.over_sample.over_sample_size_via_radial_bins_from(\n",
        "    grid=traced_grid,\n",
        "    sub_size_list=[32, 8, 2],\n",
        "    radial_list=[0.1, 0.3],\n",
        "    centre_list=[source_centre],\n",
        ")"
      ],
      "outputs": [],
      "execution_count": null
    },
    {
      "cell_type": "markdown",
      "metadata": {},
      "source": [
        "One thing to note is this over sampling grid, although specific to the lensed source, is also applied to the lens\n",
        "galaxy's light. Other than slower computation times, this is not a problem, as the lens galaxy's light in these\n",
        "pixels will still be evaluated accurately.\n",
        "\n",
        "The data fitted in this example omits the lens light for simplicity, however if it were present we would want\n",
        "the lens galaxy's light to be over sampled in the same way as the source galaxy's light because we still require high \n",
        "levels of over sampling in the lens galaxy's light to evaluate it correctly. \n",
        "\n",
        "We therefore create an over sampling grid which is centred on the lens galaxy's light and combine these values with \n",
        "those found for the source galaxy's light, to ensure over sampling is centred on the brightest regions of both galaxies."
      ]
    },
    {
      "cell_type": "code",
      "metadata": {},
      "source": [
        "over_sample_size_lens = al.util.over_sample.over_sample_size_via_radial_bins_from(\n",
        "    grid=dataset.grid,\n",
        "    sub_size_list=[32, 8, 2],\n",
        "    radial_list=[0.1, 0.3],\n",
        "    centre_list=[(0.0, 0.0)],\n",
        ")\n",
        "\n",
        "over_sample_size = np.where(\n",
        "    over_sample_size > over_sample_size_lens, over_sample_size, over_sample_size_lens\n",
        ")\n",
        "over_sample_size = al.Array2D(values=over_sample_size, mask=mask)\n",
        "\n",
        "dataset = dataset.apply_over_sampling(over_sample_size_lp=over_sample_size)"
      ],
      "outputs": [],
      "execution_count": null
    },
    {
      "cell_type": "markdown",
      "metadata": {},
      "source": [
        "__Model (Search 1)__\n",
        "\n",
        "Search 1 fits a lens model where:\n",
        "\n",
        " - The lens galaxy's total mass distribution is an `Isothermal` with `ExternalShear` [7 parameters].\n",
        " - The source galaxy's light is an MGE with 1 x 20 Gaussians [4 parameters].\n",
        "\n",
        "The number of free parameters and therefore the dimensionality of non-linear parameter space is N=14."
      ]
    },
    {
      "cell_type": "code",
      "metadata": {},
      "source": [
        "lens = af.Model(\n",
        "    al.Galaxy, redshift=0.5, mass=al.mp.Isothermal, shear=al.mp.ExternalShear\n",
        ")\n",
        "\n",
        "source = af.Model(al.Galaxy, redshift=1.0, bulge=al.lp_linear.Sersic)\n",
        "\n",
        "model_2 = af.Collection(galaxies=af.Collection(lens=lens, source=source))"
      ],
      "outputs": [],
      "execution_count": null
    },
    {
      "cell_type": "markdown",
      "metadata": {},
      "source": [
        "The `info` attribute shows the model in a readable format."
      ]
    },
    {
      "cell_type": "code",
      "metadata": {},
      "source": [
        "print(model_2.info)"
      ],
      "outputs": [],
      "execution_count": null
    },
    {
      "cell_type": "markdown",
      "metadata": {},
      "source": [
        "__Search + Analysis + Model-Fit (Search 1)__\n",
        "\n",
        "We now create the non-linear search, analysis and perform the model-fit using this model.\n",
        "\n",
        "You may wish to inspect the results of the search 1 model-fit to ensure a fast non-linear search has been provided that \n",
        "provides a reasonably accurate lens model.\n",
        "\n",
        "Faint residuals around the multiple images will be present, because the simulated data used a non-cored Sersic\n",
        "whereas the model fitted is a cored Sersic."
      ]
    },
    {
      "cell_type": "code",
      "metadata": {},
      "source": [
        "search_2 = af.Nautilus(\n",
        "    path_prefix=path_prefix,\n",
        "    name=\"search[2]__sersic_over_sampled\",\n",
        "    unique_tag=dataset_name,\n",
        "    n_live=100,\n",
        ")\n",
        "\n",
        "analysis_2 = al.AnalysisImaging(dataset=dataset)\n",
        "\n",
        "result_2 = search_2.fit(model=model_2, analysis=analysis_2)"
      ],
      "outputs": [],
      "execution_count": null
    },
    {
      "cell_type": "markdown",
      "metadata": {},
      "source": [
        "__Result (Search 1)__\n",
        "\n",
        "The results which are used for prior passing are summarised in the `info` attribute."
      ]
    },
    {
      "cell_type": "code",
      "metadata": {},
      "source": [
        "print(result_2.info)"
      ],
      "outputs": [],
      "execution_count": null
    },
    {
      "cell_type": "markdown",
      "metadata": {},
      "source": [
        "Fin."
      ]
    },
    {
      "cell_type": "code",
      "metadata": {},
      "source": [],
      "outputs": [],
      "execution_count": null
    }
  ],
  "metadata": {
    "anaconda-cloud": {},
    "kernelspec": {
      "display_name": "Python 3",
      "language": "python",
      "name": "python3"
    },
    "language_info": {
      "codemirror_mode": {
        "name": "ipython",
        "version": 3
      },
      "file_extension": ".py",
      "mimetype": "text/x-python",
      "name": "python",
      "nbconvert_exporter": "python",
      "pygments_lexer": "ipython3",
      "version": "3.6.1"
    }
  },
  "nbformat": 4,
  "nbformat_minor": 4
}