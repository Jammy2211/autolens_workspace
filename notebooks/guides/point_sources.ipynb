{
  "cells": [
    {
      "cell_type": "markdown",
      "metadata": {},
      "source": [
        "Guide: Point Sources\n",
        "--------------------\n",
        "\n",
        "The examples covered so far have focused on strongly lensed galaxies, where extended surface brightness is warped into\n",
        "stunning giant arcs and Einstein rings visible in high-quality telescope images. For these extended sources, light\n",
        "profile objects\u2014such as analytic Sersic profiles\u2014are used to represent their surface brightness.\n",
        "\n",
        "However, some observed sources are extremely small, spanning just light weeks or days across. In these cases, only the\n",
        "source\u2019s central point of light is detected in each multiple image. Such sources are called **point sources**,\n",
        "which typically include quasars, supernovae, or stars.\n",
        "\n",
        "Strictly speaking, a point source does have a finite size\u2014on the order of light weeks or days\u2014but it is considered a\n",
        "point source because its size is orders of magnitude smaller than the resolution of the telescope. As a result, it\n",
        "appears as a single point of light, with all the flux of each multiple image effectively contained within a single pixel.\n",
        "\n",
        "Point sources affect lensing calculations differently than extended sources, requiring dedicated methods and\n",
        "functionality. This functionality is described here and used throughout the `point_source` simulation and modeling\n",
        "examples.\n",
        "\n",
        "If you are new to analyzing strong lenses with point sources, this guide is the ideal place to start!"
      ]
    },
    {
      "cell_type": "code",
      "metadata": {},
      "source": [
        "\n",
        "%matplotlib inline\n",
        "from pyprojroot import here\n",
        "workspace_path = str(here())\n",
        "%cd $workspace_path\n",
        "print(f\"Working Directory has been set to `{workspace_path}`\")\n",
        "\n",
        "import numpy as np\n",
        "from os import path\n",
        "import autofit as af\n",
        "import autolens as al\n",
        "import autolens.plot as aplt"
      ],
      "outputs": [],
      "execution_count": null
    },
    {
      "cell_type": "markdown",
      "metadata": {},
      "source": [
        "__Lensed Point Source__\n",
        "\n",
        "To begin, we create a strong lens image using an isothermal mass model and a source with a compact exponential light profile.\n",
        "\n",
        "Although our goal is to demonstrate solving for the multiple image positions of a point source, simulating the data \n",
        "with a compact extended source makes the visualization of the point solver\u2019s solutions clearer."
      ]
    },
    {
      "cell_type": "code",
      "metadata": {},
      "source": [
        "grid = al.Grid2D.uniform(\n",
        "    shape_native=(100, 100),\n",
        "    pixel_scales=0.05,  # <- The pixel-scale describes the conversion from pixel units to arc-seconds.\n",
        ")\n",
        "\n",
        "isothermal_mass_profile = al.mp.Isothermal(\n",
        "    centre=(0.0, 0.0),\n",
        "    einstein_radius=1.6,\n",
        "    ell_comps=al.convert.ell_comps_from(axis_ratio=0.9, angle=45.0),\n",
        ")\n",
        "\n",
        "exponential_light_profile = al.lp.ExponentialCore(\n",
        "    centre=(0.07, 0.07), intensity=0.1, effective_radius=0.1\n",
        ")\n",
        "\n",
        "lens_galaxy = al.Galaxy(\n",
        "    redshift=0.5,\n",
        "    mass=isothermal_mass_profile,\n",
        ")\n",
        "\n",
        "source_galaxy = al.Galaxy(\n",
        "    redshift=1.0,\n",
        "    light=exponential_light_profile,\n",
        ")\n",
        "\n",
        "tracer_extended = al.Tracer(galaxies=[lens_galaxy, source_galaxy])"
      ],
      "outputs": [],
      "execution_count": null
    },
    {
      "cell_type": "markdown",
      "metadata": {},
      "source": [
        "We plot the image of our strongly lensed source galaxy.\n",
        "\n",
        "Clearly visible are four multiple images arranged in a cross configuration. The brightest pixels correspond to the \n",
        "four (y, x) multiple image positions that our point source solver aims to identify."
      ]
    },
    {
      "cell_type": "code",
      "metadata": {},
      "source": [
        "tracer_plotter = aplt.TracerPlotter(tracer=tracer_extended, grid=grid)\n",
        "tracer_plotter.figures_2d(image=True)"
      ],
      "outputs": [],
      "execution_count": null
    },
    {
      "cell_type": "markdown",
      "metadata": {},
      "source": [
        "__Point Source__\n",
        "\n",
        "The image above visually illustrates where the source\u2019s light is traced on the image plane.\n",
        "\n",
        "We now treat this source as a point source by defining a source galaxy using the `Point` class.\n",
        "\n",
        "This point source shares the same center as the compact source above, ensuring that the multiple image positions \n",
        "coincide with those previously shown in the image plane."
      ]
    },
    {
      "cell_type": "code",
      "metadata": {},
      "source": [
        "point_source = al.ps.Point(centre=(0.07, 0.07))\n",
        "\n",
        "source_galaxy = al.Galaxy(redshift=1.0, point_0=point_source)\n",
        "\n",
        "tracer = al.Tracer(galaxies=[lens_galaxy, source_galaxy])"
      ],
      "outputs": [],
      "execution_count": null
    },
    {
      "cell_type": "markdown",
      "metadata": {},
      "source": [
        "__Point Solver__\n",
        "\n",
        "For a point source, our goal is to find the (y, x) coordinates in the image plane that map directly to the center of \n",
        "the point source in the source plane\u2014these are its \"multiple images.\" This is achieved using a `PointSolver`, which \n",
        "determines the multiple images of the mass model for a point source located at a given (y, x) position in the \n",
        "source plane.\n",
        "\n",
        "The solver works by ray tracing triangles from the image plane back to the source plane and checking whether the \n",
        "source-plane (y, x) center lies inside each triangle. It iteratively refines this process by ray tracing progressively \n",
        "smaller triangles, allowing the multiple image positions to be determined with sub-pixel precision.\n",
        "\n",
        "The `PointSolver` requires an initial grid of (y, x) coordinates in the image plane, which defines the first set of \n",
        "triangles to ray trace. It also needs a `pixel_scale_precision` parameter, specifying the resolution at which the \n",
        "multiple images are computed. Smaller values increase precision but require longer computation times. The value \n",
        "of 0.001 used here balances efficiency and accuracy.\n",
        "\n",
        "Strong lens mass models often predict a \"central image,\" a multiple image that is usually heavily demagnified and thus \n",
        "not observed. Since the `PointSolver` finds all valid multiple images, it will locate this central image regardless of \n",
        "its visibility. To avoid including this unobservable image, we set a `magnification_threshold=0.1`, which discards any \n",
        "images with magnifications below this value.\n",
        "\n",
        "If your dataset does include a detectable central image, you should lower this threshold accordingly to include it in \n",
        "your analysis.\n",
        "\n",
        "We now compute the multiple image positions by creating a `PointSolver` object and passing it the tracer of our \n",
        "strong lens system."
      ]
    },
    {
      "cell_type": "code",
      "metadata": {},
      "source": [
        "grid = al.Grid2D.uniform(\n",
        "    shape_native=(100, 100),\n",
        "    pixel_scales=0.2,  # <- The pixel-scale describes the conversion from pixel units to arc-seconds.\n",
        ")\n",
        "\n",
        "solver = al.PointSolver.for_grid(\n",
        "    grid=grid, pixel_scale_precision=0.001, magnification_threshold=0.1\n",
        ")"
      ],
      "outputs": [],
      "execution_count": null
    },
    {
      "cell_type": "markdown",
      "metadata": {},
      "source": [
        "We now pass the tracer to the solver.\n",
        "\n",
        "The solver will find the image-plane coordinates that map directly to the source-plane coordinate (0.07\", 0.07\"), \n",
        "which we plot below.\n",
        "\n",
        "The plot shows the four solved multiple image positions (with the central image excluded) as a scatter plot. To make \n",
        "the positions clearer, we increase the marker size and use asterisks\u2014PyAutoLens\u2019s standard symbol for denoting \n",
        "multiple images of strong lenses."
      ]
    },
    {
      "cell_type": "code",
      "metadata": {},
      "source": [
        "positions = solver.solve(tracer=tracer, source_plane_coordinate=(0.07, 0.07))\n",
        "\n",
        "grid_plotter = aplt.Grid2DPlotter(\n",
        "    grid=positions,\n",
        "    mat_plot_2d=aplt.MatPlot2D(grid_scatter=aplt.GridScatter(s=100, marker=\"*\")),\n",
        ")\n",
        "grid_plotter.figure_2d()"
      ],
      "outputs": [],
      "execution_count": null
    },
    {
      "cell_type": "markdown",
      "metadata": {},
      "source": [
        "The plot above makes it difficult to directly compare the multiple image positions with the image of the strong lens itself.\n",
        "\n",
        "To improve clarity, we overplot the multiple image positions on the strong lens image. This clearly shows that the \n",
        "multiple images coincide with the centers of the brightest pixels of the lensed source galaxy."
      ]
    },
    {
      "cell_type": "code",
      "metadata": {},
      "source": [
        "visuals = aplt.Visuals2D(multiple_images=positions)\n",
        "\n",
        "tracer_plotter = aplt.TracerPlotter(\n",
        "    tracer=tracer_extended, grid=grid, visuals_2d=visuals\n",
        ")\n",
        "tracer_plotter.figures_2d(image=True)"
      ],
      "outputs": [],
      "execution_count": null
    },
    {
      "cell_type": "markdown",
      "metadata": {},
      "source": [
        "__Number of Solutions__\n",
        "\n",
        "The number of solutions (e.g. the number of image-plane multiple images that map to the source centre) depends\n",
        "on the mass model of the lens: \n",
        "\n",
        " - For spherical mass profiles, there are three unique solutions, including a demagnified central image.\n",
        "\n",
        " - For elliptical mass profiles, there are five unique solutions, again including a demagnified central image.\n",
        "\n",
        " - For lenses with multiple mass profiles (e.g. two galaxies) and more exotic mass distributions, the number of \n",
        "   solutions can be even higher. \n",
        "\n",
        "__Solving the Lens Equation__\n",
        "\n",
        "In the literature, the process of finding the multiple images of a source in the image-plane is often referred to as\n",
        "'solving the lens equation'.\n",
        "\n",
        "There lens equation is a fundamental equation in lensing, which describes how light rays are deflected from the\n",
        "image-plane to the source-plane. It is given by:\n",
        "\n",
        "$\\beta = \\theta - \\hat{\\alpha}(\\theta)$\n",
        "\n",
        "Where:\n",
        "\n",
        "$\\beta$ is the source-plane (y,x) coordinate.\n",
        "$\\theta$ is the image-plane (y,x) coordinate.\n",
        "$\\hat{\\alpha}(\\theta)$ is the deflection angle at image-plane (y,x) coordinate $\\theta$.\n",
        "\n",
        "The lens equation is non-linear, as the deflection angle $\\hat{\\alpha}$ depends on the mass model of the lens galaxy.\n",
        "\n",
        "It is therefore called solving the lens equation because we are trying to find the image-plane (y,x) coordinates $\\theta$\n",
        "that satisfies the equation above for a given source-plane (y,x) coordinate $\\beta$.\n",
        "\n",
        "__Triangle Tracing__\n",
        "\n",
        "Computing the multiple image positions of a point source is a non-linear problem. Given a source-plane (y,x) coordinate,\n",
        "there are multiple image-plane (y,x) coordinates that trace to that source-plane coordinate, and there is no simple\n",
        "analytic solution to determine these image-plane coordinates.\n",
        "\n",
        "The solver therefore uses a triangulation approach to find the multiple image positions. It first overlays a grid of\n",
        "triangles over the image-plane, and uses the mass model to trace these triangles to the source-plane. If a triangle\n",
        "contains the source-plane (y,x) coordinate, it is retained and its image-plane coordinates are assigned as a multiple\n",
        "image of the source.\n",
        "\n",
        "We require the grid of triangles to be fine enough such that the source-plane (y,x) coordinate is contained within\n",
        "one of the triangles to a sufficient precision for our science case. This is controlled by the `pixel_scale_precision`\n",
        "input, which sets the target pixel scale of the grid. \n",
        "\n",
        "Triangles of iteratively finer resolution are created until this precision is met, therefore a lower value of\n",
        "`pixel_scale_precision` will lead to a more precise estimate of the multiple image positions at the expense of\n",
        "increased computational overhead.\n",
        "\n",
        "Here is a visualization of the triangulation approach:\n",
        "\n",
        "[CODE]\n",
        "\n",
        "__Dataset__\n",
        "\n",
        "We first create a `PointDataset` object, which is similar to an `Imaging` or `Interferometer` object but contains the\n",
        "positions of the multiple images of the point source and their noise-map values. The noise values are the pixel-scale\n",
        "of the data, as this is the uncertainty of where we measure the multiple images in the image.\n",
        "\n",
        "We manually specify the positions of the multiple images below, which correspond to the multiple images of the\n",
        "isothermal mass model used above.\n",
        "\n",
        "The demagnified central image is not included in the dataset, as it is not observed in the image-plane. This is\n",
        "standard practice in point-source modeling.\n",
        "\n",
        "It also contains the name `point_0`, which is an important label, as explained in more detail below."
      ]
    },
    {
      "cell_type": "code",
      "metadata": {},
      "source": [
        "dataset = al.PointDataset(\n",
        "    name=\"point_0\",\n",
        "    positions=al.Grid2DIrregular(\n",
        "        [\n",
        "            [-1.03884121e00, -1.03906250e00],\n",
        "            [4.41972024e-01, 1.60859375e00],\n",
        "            [1.17899573e00, 1.17890625e00],\n",
        "            [1.60930210e00, 4.41406250e-01],\n",
        "        ],\n",
        "    ),\n",
        "    positions_noise_map=al.ArrayIrregular([0.05, 0.05, 0.05, 0.05]),\n",
        ")"
      ],
      "outputs": [],
      "execution_count": null
    },
    {
      "cell_type": "markdown",
      "metadata": {},
      "source": [
        "We can print this dictionary to see the dataset's `name`, `positions` and `fluxes` and noise-map values."
      ]
    },
    {
      "cell_type": "code",
      "metadata": {},
      "source": [
        "print(\"Point Dataset Info:\")\n",
        "print(dataset.info)"
      ],
      "outputs": [],
      "execution_count": null
    },
    {
      "cell_type": "markdown",
      "metadata": {},
      "source": [
        "The positions can be plotted over the observed image, to make sure they overlap with the multiple images we expect."
      ]
    },
    {
      "cell_type": "code",
      "metadata": {},
      "source": [
        "visuals = aplt.Visuals2D(positions=dataset.positions)\n",
        "\n",
        "tracer_plotter = aplt.TracerPlotter(\n",
        "    tracer=tracer_extended, grid=grid, visuals_2d=visuals\n",
        ")\n",
        "tracer_plotter.figures_2d(image=True)"
      ],
      "outputs": [],
      "execution_count": null
    },
    {
      "cell_type": "markdown",
      "metadata": {},
      "source": [
        "__Name Pairing__\n",
        "\n",
        "The names of the point-source datasets have an even more important role, the names are used to pair each dataset to the\n",
        "point sources in the lens model used to fit it.\n",
        "\n",
        "For example, when creating the tracer at the beginning of this script, we named the point source `point_0`:\n",
        "\n",
        "point_source = al.ps.Point(centre=(0.07, 0.07))\n",
        "source_galaxy = al.Galaxy(redshift=1.0, point_0=point_source)\n",
        "tracer = al.Tracer(galaxies=[lens_galaxy, source_galaxy])\n",
        "\n",
        "When we fit the point source dataset using this tracer, the name is again used in order to pair the dataset to the\n",
        "this point source. This means that point source with a centre of (0.07\", 0.07\") is used to fit the dataset with the\n",
        "name `point_0`.\n",
        "\n",
        "If there is no point-source in the model that has the same name as a `PointDataset`, that data is not used in\n",
        "the model-fit. If a point-source is included in the model whose name has no corresponding entry in \n",
        "the `PointDataset` an error will be raised.\n",
        "\n",
        "In this example, where there is just one source, name pairing is redundant. However, point-source datasets may\n",
        "have many source galaxies in them, and name pairing allows us to extend the point-source modeling to systems with\n",
        "many point sources.\n",
        "\n",
        "__Fitting__\n",
        "\n",
        "Just like we used a `Tracer` to fit imaging and interferometer data, we can use it to fit point-source data via the\n",
        "`FitPoint` object.\n",
        "\n",
        "The name pairing described above is used internally into the `FitPointDataset` object to ensure that the correct point\n",
        "source is fitted to each dataset. \n",
        "\n",
        "The fit is returned as a dictionary which mirrors the `PointDataset`, where its keys are again the names of the datasets."
      ]
    },
    {
      "cell_type": "code",
      "metadata": {},
      "source": [
        "fit = al.FitPointDataset(\n",
        "    dataset=dataset,\n",
        "    tracer=tracer,\n",
        "    solver=solver,\n",
        "    fit_positions_cls=al.FitPositionsImagePairRepeat,  # This input is describe below\n",
        ")\n",
        "\n",
        "print(fit.positions.residual_map)\n",
        "print(fit.positions.normalized_residual_map)\n",
        "print(fit.positions.chi_squared_map)\n",
        "print(fit.positions.log_likelihood)"
      ],
      "outputs": [],
      "execution_count": null
    },
    {
      "cell_type": "markdown",
      "metadata": {},
      "source": [
        "__Chi Squared__\n",
        "\n",
        "For point-source modeling, there are many different ways to define the likelihood function, broadly referred to a\n",
        "an `image-plane chi-squared` or `source-plane chi-squared`. This determines whether the multiple images of the point\n",
        "source are used to compute the likelihood in the source-plane or image-plane.\n",
        "\n",
        "The default settings used above use the image-plane chi-squared, which uses the `PointSolver` to determine the \n",
        "multiple images of the point source in the image-plane for the given mass model and compares the positions of these \n",
        "model images to the observed images to compute the chi-squared and likelihood.\n",
        "\n",
        "There are still many different ways the image-plane chi-squared can be computed, for example do we allow for \n",
        "repeat image-pairs (i.e. the same multiple image being observed multiple times)? Do we pair all possible combinations\n",
        "of multiple images to observed images? This default settings use the simplest approach, which pair each multiple image\n",
        "with the observed image that is closest to it, allowing for repeat image pairs. \n",
        "\n",
        "For example, we can repeat the fit above whilst not allowing for repeat image pairs as follows:"
      ]
    },
    {
      "cell_type": "code",
      "metadata": {},
      "source": [
        "fit = al.FitPointDataset(\n",
        "    dataset=dataset,\n",
        "    tracer=tracer,\n",
        "    solver=solver,\n",
        "    fit_positions_cls=al.FitPositionsImagePair,  # Different input to the one used above\n",
        ")\n",
        "\n",
        "print(\n",
        "    \"Minimum Distance Between Observed Multiple Images and Model Multiple Images Without Repeats:\"\n",
        ")\n",
        "print(fit.positions.residual_map)\n",
        "\n",
        "print(\"Log Likelihood Without Repeats:\")\n",
        "print(fit.positions.log_likelihood)"
      ],
      "outputs": [],
      "execution_count": null
    },
    {
      "cell_type": "markdown",
      "metadata": {},
      "source": [
        "We can allow for repeat image pairs by using the `FitPositionsImagePairRepeat` class, which is the default input."
      ]
    },
    {
      "cell_type": "code",
      "metadata": {},
      "source": [
        "fit = al.FitPointDataset(\n",
        "    dataset=dataset,\n",
        "    tracer=tracer,\n",
        "    solver=solver,\n",
        "    fit_positions_cls=al.FitPositionsImagePairRepeat,  # Different input to the one used above\n",
        ")\n",
        "\n",
        "print(\n",
        "    \"Minimum Distance Between Observed Multiple Images and Model Multiple Images With Repeats:\"\n",
        ")\n",
        "print(fit.positions.residual_map)\n",
        "\n",
        "print(\"Log Likelihood With Repeats:\")\n",
        "print(fit.positions.log_likelihood)"
      ],
      "outputs": [],
      "execution_count": null
    },
    {
      "cell_type": "markdown",
      "metadata": {},
      "source": [
        "For a \"source-plane chi-squared\", the likelihood is computed in the source-plane. The analysis is simpler, it ray-traces\n",
        "the multiple images back to the source-plane and defines a chi-squared metric. For example, the default implementation \n",
        "sums the Euclidean distance between the image positions and the point source centre in the source-plane.\n",
        "\n",
        "The source-plane chi-squared is significantly faster to compute than the image-plane chi-squared, however it is \n",
        "less robust than the image-plane chi-squared and can lead to biased lens model results. \n",
        "\n",
        "Here is an example of how to use the source-plane chi-squared:"
      ]
    },
    {
      "cell_type": "code",
      "metadata": {},
      "source": [
        "fit = al.FitPointDataset(\n",
        "    dataset=dataset,\n",
        "    tracer=tracer,\n",
        "    solver=solver,\n",
        "    fit_positions_cls=al.FitPositionsSource,  # Different input to the one used above\n",
        ")\n",
        "\n",
        "print(\n",
        "    \"Minimum Distance Between Source Plane Centre and Model Source Plane Images After Ray Tracing:\"\n",
        ")\n",
        "print(fit.positions.residual_map)\n",
        "\n",
        "print(\"Log Likelihood in the Source Plane:\")\n",
        "print(fit.positions.log_likelihood)"
      ],
      "outputs": [],
      "execution_count": null
    },
    {
      "cell_type": "markdown",
      "metadata": {},
      "source": [
        "__Fluxes__\n",
        "\n",
        "Another measurable quantity of a point source is its flux\u2014the total amount of light received from each multiple image \n",
        "of the point source (e.g., the quasar images).\n",
        "\n",
        "In practice, fluxes are often measured but not used directly when analyzing lensed point sources such as quasars or \n",
        "supernovae. This is because fluxes can be significantly affected by microlensing, which many lens models do not \n",
        "accurately capture. However, in this simulation, microlensing is not included, so the fluxes can be simulated and \n",
        "fitted reliably.\n",
        "\n",
        "We now simulate the fluxes of the multiple images of this point source.\n",
        "\n",
        "Given a mass model and the (y, x) image-plane coordinates of each image, the magnification at each point can be \n",
        "calculated.\n",
        "\n",
        "Below, we compute the magnification for every multiple image coordinate, which will then be used to simulate their \n",
        "fluxes."
      ]
    },
    {
      "cell_type": "code",
      "metadata": {},
      "source": [
        "magnifications = tracer.magnification_2d_via_hessian_from(grid=positions)"
      ],
      "outputs": [],
      "execution_count": null
    },
    {
      "cell_type": "markdown",
      "metadata": {},
      "source": [
        "To simulate the fluxes, we assume the source galaxy point-source has a total flux of 1.0.\n",
        "\n",
        "Each observed image has a flux that is the source's flux multiplied by the magnification at that image-plane coordinate."
      ]
    },
    {
      "cell_type": "code",
      "metadata": {},
      "source": [
        "flux = 1.0\n",
        "fluxes = [flux * np.abs(magnification) for magnification in magnifications]\n",
        "fluxes = al.ArrayIrregular(values=fluxes)"
      ],
      "outputs": [],
      "execution_count": null
    },
    {
      "cell_type": "markdown",
      "metadata": {},
      "source": [
        "The noise values of the fluxes are set to the square root of the flux, which is a common given that Poisson noise\n",
        "is expected to dominate the noise of the fluxes."
      ]
    },
    {
      "cell_type": "code",
      "metadata": {},
      "source": [
        "fluxes_noise_map = al.ArrayIrregular(values=[np.sqrt(flux) for _ in range(len(fluxes))])\n",
        "# %%\n",
        "'''\n",
        "__Flux Point Dataset__\n",
        "\n",
        "The fluxes are not input a `PointDataset` object, alongside the image-plane coordinates of the multiple images\n",
        "and their associated noise-map values. \n",
        "\n",
        "We again give the dataset the name `point_0`, which is a label given to the dataset to indicate that it is a dataset \n",
        "of a single point-source.\n",
        "'''"
      ],
      "outputs": [],
      "execution_count": null
    },
    {
      "cell_type": "code",
      "metadata": {},
      "source": [
        "dataset = al.PointDataset(\n",
        "    name=\"point_0\",\n",
        "    positions=positions,\n",
        "    positions_noise_map=grid.pixel_scale,\n",
        "    fluxes=fluxes,\n",
        "    fluxes_noise_map=fluxes_noise_map,\n",
        ")"
      ],
      "outputs": [],
      "execution_count": null
    },
    {
      "cell_type": "markdown",
      "metadata": {},
      "source": [
        "__Flux Fitting__\n",
        "\n",
        "Above, we used a `FitPointDataset` to fit the positions of the point source in the image-plane.\n",
        "\n",
        "We can also use it to fit the fluxes of the point source, which is done by passing the new dataset also containing\n",
        "the `fluxes` and `fluxes_noise_map` to the fit.\n",
        "\n",
        "To fit fluxes, our model point source also needs a flux parameter, which is done by using the `PointFlux`\n",
        "component instead of the `Point` component. "
      ]
    },
    {
      "cell_type": "code",
      "metadata": {},
      "source": [
        "point = al.ps.PointFlux(centre=(0.07, 0.07), flux=1.0)\n",
        "\n",
        "source_galaxy = al.Galaxy(redshift=1.0, point_0=point)\n",
        "\n",
        "tracer = al.Tracer(galaxies=[lens_galaxy, source_galaxy])\n",
        "\n",
        "fit = al.FitPointDataset(\n",
        "    dataset=dataset,\n",
        "    tracer=tracer,\n",
        "    solver=solver,\n",
        "    fit_positions_cls=al.FitPositionsImagePairRepeat,  # This input is describe below\n",
        ")"
      ],
      "outputs": [],
      "execution_count": null
    },
    {
      "cell_type": "markdown",
      "metadata": {},
      "source": [
        "The fit now contains both a `positions` and `fluxes` attribute, which contain the fit of the positions and fluxes\n",
        "of the point source."
      ]
    },
    {
      "cell_type": "code",
      "metadata": {},
      "source": [
        "print(fit.positions.residual_map)\n",
        "print(fit.positions.normalized_residual_map)\n",
        "print(fit.positions.chi_squared_map)\n",
        "print(fit.positions.log_likelihood)\n",
        "\n",
        "print(fit.flux.residual_map)\n",
        "print(fit.flux.normalized_residual_map)\n",
        "print(fit.flux.chi_squared_map)\n",
        "print(fit.flux.log_likelihood)"
      ],
      "outputs": [],
      "execution_count": null
    },
    {
      "cell_type": "markdown",
      "metadata": {},
      "source": [
        "__Time Delays__\n",
        "\n",
        "Another measurable quantity of a point source is its time delay\u2014the time it takes for light to travel from the\n",
        "source to the observer for each multiple image of the point source (e.g., the quasar images). This is often expressed\n",
        "as the relative time delay between each image and the image with the shortest time delay, which is often referred to as\n",
        "the \"reference image.\"\n",
        "\n",
        "Time delays are commonly used in strong lensing analyses, for example to measure the Hubble constant, since\n",
        "they are less affected by microlensing and can provide robust cosmological constraints.\n",
        "\n",
        "We now simulate the same point source dataset, but this time including the time delays of the multiple images.\n",
        "\n",
        "Given a mass model and (y, x) image-plane coordinates, the time delay at each image-plane position can be\n",
        "calculated from the mass model. It includes the contribution of both the geometric time delay (the time it takes\n",
        "different light rays to travel from the source to the observer) and the Shapiro time delay (the time it takes\n",
        "light to travel through the gravitational potential of the lens galaxy)."
      ]
    },
    {
      "cell_type": "code",
      "metadata": {},
      "source": [
        "time_delays = tracer.time_delays_from(grid=positions)"
      ],
      "outputs": [],
      "execution_count": null
    },
    {
      "cell_type": "markdown",
      "metadata": {},
      "source": [
        "In real observations, times delays are measured by taking photometric measurements of the multiple images over time,\n",
        "aligning the light curves, and measuring the time delays between the images.\n",
        "\n",
        "This processes estimates with it uncertainties, which are often represented as noise-map values in the dataset.\n",
        "For simplicity, in this simulation we assume the time delays have a noise value which is a quarter of their\n",
        "measurement value, however it is not typical that the noise value is directly proportional to the time delay."
      ]
    },
    {
      "cell_type": "code",
      "metadata": {},
      "source": [
        "time_delays_noise_map = al.ArrayIrregular(values=time_delays * 0.25)"
      ],
      "outputs": [],
      "execution_count": null
    },
    {
      "cell_type": "markdown",
      "metadata": {},
      "source": [
        "The time delays are input into a `PointDataset` object, alongside the image-plane coordinates of the multiple images\n",
        "and their associated noise-map values. \n",
        "\n",
        "We again give the dataset the name `point_0`, which is a label given to the dataset to indicate that it is a dataset \n",
        "of a single point-source."
      ]
    },
    {
      "cell_type": "code",
      "metadata": {},
      "source": [
        "dataset = al.PointDataset(\n",
        "    name=\"point_0\",\n",
        "    positions=positions,\n",
        "    positions_noise_map=grid.pixel_scale,\n",
        "    time_delays=time_delays,\n",
        "    time_delays_noise_map=time_delays_noise_map,\n",
        ")"
      ],
      "outputs": [],
      "execution_count": null
    },
    {
      "cell_type": "markdown",
      "metadata": {},
      "source": [
        "__Time Delay Fitting__\n",
        "\n",
        "We can also use the `FitPointDataset` to fit the time delays of the point source, which is done by passing the new\n",
        "dataset also containing the `time_delays` and `time_delays_noise_map` to the fit.\n",
        "\n",
        "To fit time delays, the model point source does not need any special parameters (like it did for flux fitting),\n",
        "so we can revert back to the normal `Point` component."
      ]
    },
    {
      "cell_type": "code",
      "metadata": {},
      "source": [
        "point = al.ps.Point(centre=(0.07, 0.07))\n",
        "\n",
        "source_galaxy = al.Galaxy(redshift=1.0, point_0=point)\n",
        "\n",
        "tracer = al.Tracer(galaxies=[lens_galaxy, source_galaxy])\n",
        "\n",
        "fit = al.FitPointDataset(\n",
        "    dataset=dataset,\n",
        "    tracer=tracer,\n",
        "    solver=solver,\n",
        "    fit_positions_cls=al.FitPositionsImagePairRepeat,  # This input is describe below\n",
        ")"
      ],
      "outputs": [],
      "execution_count": null
    },
    {
      "cell_type": "markdown",
      "metadata": {},
      "source": [
        "The fit now contains both a `positions` and `time_delays` attribute, which contain the fit of the positions and fluxes\n",
        "of the point source."
      ]
    },
    {
      "cell_type": "code",
      "metadata": {},
      "source": [
        "print(fit.positions.residual_map)\n",
        "print(fit.positions.normalized_residual_map)\n",
        "print(fit.positions.chi_squared_map)\n",
        "print(fit.positions.log_likelihood)\n",
        "\n",
        "print(fit.time_delays.residual_map)\n",
        "print(fit.time_delays.normalized_residual_map)\n",
        "print(fit.time_delays.chi_squared_map)\n",
        "print(fit.time_delays.log_likelihood)"
      ],
      "outputs": [],
      "execution_count": null
    },
    {
      "cell_type": "markdown",
      "metadata": {},
      "source": [
        "Checkout the guide `autolens_workspace/*/guides/point_source.py` for more details and a full illustration of the\n",
        "different ways the chi-squared can be computed.\n",
        "\n",
        "__New User Wrap Up__\n",
        "\n",
        "The `point_source` package of the `autolens_workspace` contains numerous example scripts for performing point source\n",
        "modeling. These focus on \"galaxy scale\" lenses, which are lenses that have a single lens galaxy, as opposed to\n",
        "\"group scale\" or \"cluster scale\" lenses which have multiple lens galaxies.\n",
        "\n",
        "Point source modeling is at the heart of group and cluster scale lens modeling, and is the topic of the\n",
        "next overview script.\n",
        "\n",
        "__Shape Solver__\n",
        "\n",
        "All calculations above assumed the source was a point source with no size. \n",
        "\n",
        "This was built into the point-solver, for example when we solved for the multiple images of the point source in the \n",
        "image-plane, we ray-traced triangles to the source-plane and asked whether the source-plane (y,x) centre was within \n",
        "the triangle.\n",
        "\n",
        "There is functionality to include the size and shape of the source in the calculation, which uses the `ShapeSolver`\n",
        "class. This still traces triangles, but each iteration of the solver now computes the area of each image-plane triangle \n",
        "that is within the source-plane shape. This means we can determine the area in the image-plane that maps within an \n",
        "extended region of the source-plane shape.\n",
        "\n",
        "For example, by inputting the shape `Circle` with a radius of 0.001\", the shape solver will determine the area of the \n",
        "multiple images pixel which fall within this circle, which is different information to the point solver which told\n",
        "us the exact (y,x) coordinates of the multiple images.\n",
        "\n",
        "The ratio of the total image pixel area to the area within the source-plane \n",
        "circle is the magnification factor of the source. This magnification factor then changes the observed flux of each \n",
        "multiple image.\n",
        "\n",
        "Observations we might think are fully in the point source regime therefore may have an observable signature of the size\n",
        "of the source in the flux ratios and magnifications of the multiple images. Therefore, sometimes the source size \n",
        "is large enough that it is important we account for it."
      ]
    },
    {
      "cell_type": "code",
      "metadata": {},
      "source": [
        "solver = al.ShapeSolver.for_grid(\n",
        "    grid=grid, pixel_scale_precision=0.001, magnification_threshold=0.1\n",
        ")\n",
        "\n",
        "solver.find_magnification(tracer=tracer, shape=al.Circle(x=0.0, y=0.0, radius=0.001))\n"
      ],
      "outputs": [],
      "execution_count": null
    }
  ],
  "metadata": {
    "anaconda-cloud": {},
    "kernelspec": {
      "display_name": "Python 3",
      "language": "python",
      "name": "python3"
    },
    "language_info": {
      "codemirror_mode": {
        "name": "ipython",
        "version": 3
      },
      "file_extension": ".py",
      "mimetype": "text/x-python",
      "name": "python",
      "nbconvert_exporter": "python",
      "pygments_lexer": "ipython3",
      "version": "3.6.1"
    }
  },
  "nbformat": 4,
  "nbformat_minor": 4
}