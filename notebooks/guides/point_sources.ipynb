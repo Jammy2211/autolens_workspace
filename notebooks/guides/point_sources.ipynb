{
  "cells": [
    {
      "cell_type": "markdown",
      "metadata": {},
      "source": [
        "Guide: Point Sources\n",
        "--------------------\n",
        "\n",
        "The examples covered so far have shown strongly lensed galaxies, whose extended surface brightness is lensed into\n",
        "the awe-inspiring giant arcs and Einstein rings we see in high quality telescope imaging. For extended sources,\n",
        "light profile objects are used to represent their surface brightness as analytic functions (e.g. Sersic profiles).\n",
        "\n",
        "However, the observed source could be extremely small, for example just light weeks or days across. In this case,\n",
        "we effectively only observe the source's central point of light in each multiple image. In this case, we refer to the\n",
        "source as a 'point source', which will typically be a quasar, supernova or star.\n",
        "\n",
        "Stricly speaking, a point source does have a size and is not a point, it has a diameter some light weeks or light days.\n",
        "We consider it a point source because its size is orders of magnitude smaller than the resolution of the telescope that\n",
        "it is observed using, such that it appears as a point of light (e.g. all of the flux of each multiple image is\n",
        "contained within a single pixel).\n",
        "\n",
        "Point sources radially change the lensing calculations, meaning they require their own dedicated functionality.\n",
        "This functionality is described here, and is then used in the `point_source` simulation and modeling examples.\n",
        "\n",
        "If you are a new user who will be analysing point sources strong lenses, this guide is the right starting point!"
      ]
    },
    {
      "cell_type": "code",
      "metadata": {},
      "source": [
        "%matplotlib inline\n",
        "from pyprojroot import here\n",
        "workspace_path = str(here())\n",
        "%cd $workspace_path\n",
        "print(f\"Working Directory has been set to `{workspace_path}`\")\n",
        "\n",
        "from os import path\n",
        "import autofit as af\n",
        "import autolens as al\n",
        "import autolens.plot as aplt"
      ],
      "outputs": [],
      "execution_count": null
    },
    {
      "cell_type": "markdown",
      "metadata": {},
      "source": [
        "__Lensed Point Source__\n",
        "\n",
        "To begin, we create an image of strong lens using a isothermal mass model and source with a compact exponential light \n",
        "profile. \n",
        "\n",
        "Although our aim is to illustrate solving for the multiple image positions of a point source, by simulating the data \n",
        "with a compact extended source visualization of the point solver's solutions will be clearer."
      ]
    },
    {
      "cell_type": "code",
      "metadata": {},
      "source": [
        "grid = al.Grid2D.uniform(\n",
        "    shape_native=(100, 100),\n",
        "    pixel_scales=0.05,  # <- The pixel-scale describes the conversion from pixel units to arc-seconds.\n",
        ")\n",
        "\n",
        "isothermal_mass_profile = al.mp.Isothermal(\n",
        "    centre=(0.0, 0.0),\n",
        "    einstein_radius=1.6,\n",
        "    ell_comps=al.convert.ell_comps_from(axis_ratio=0.9, angle=45.0),\n",
        ")\n",
        "\n",
        "exponential_light_profile = al.lp.ExponentialCore(\n",
        "    centre=(0.07, 0.07), intensity=0.1, effective_radius=0.1\n",
        ")\n",
        "\n",
        "lens_galaxy = al.Galaxy(\n",
        "    redshift=0.5,\n",
        "    mass=isothermal_mass_profile,\n",
        ")\n",
        "\n",
        "source_galaxy = al.Galaxy(\n",
        "    redshift=1.0,\n",
        "    light=exponential_light_profile,\n",
        ")\n",
        "\n",
        "tracer_extended = al.Tracer(galaxies=[lens_galaxy, source_galaxy])"
      ],
      "outputs": [],
      "execution_count": null
    },
    {
      "cell_type": "markdown",
      "metadata": {},
      "source": [
        "We plot the image of our strongly lensed source galaxy. \n",
        "\n",
        "We can clearly see there are four multiple images located in a cross configuration. Their brightest pixels are the \n",
        "four (y,x) multiple image coordinates our point source multiple image position solver should find."
      ]
    },
    {
      "cell_type": "code",
      "metadata": {},
      "source": [
        "tracer_plotter = aplt.TracerPlotter(tracer=tracer_extended, grid=grid)\n",
        "tracer_plotter.figures_2d(image=True)"
      ],
      "outputs": [],
      "execution_count": null
    },
    {
      "cell_type": "markdown",
      "metadata": {},
      "source": [
        "__Point Source__\n",
        "\n",
        "The image above visually illustrates where the source's light traces in the image-plane. \n",
        "\n",
        "Lets now treat this source as a point source, by setting up a source galaxy using the `Point` class. \n",
        "\n",
        "It has the same centre as the compact source above, to ensure the multiple image positions are located at the same\n",
        "locations in the image-plane."
      ]
    },
    {
      "cell_type": "code",
      "metadata": {},
      "source": [
        "point_source = al.ps.Point(centre=(0.07, 0.07))\n",
        "\n",
        "source_galaxy = al.Galaxy(redshift=1.0, point_0=point_source)\n",
        "\n",
        "tracer = al.Tracer(galaxies=[lens_galaxy, source_galaxy])"
      ],
      "outputs": [],
      "execution_count": null
    },
    {
      "cell_type": "markdown",
      "metadata": {},
      "source": [
        "__Multiple Image Solving__\n",
        "\n",
        "For a point source, our goal is to find the (y,x) coordinates in the image-plane that directly map to the centre\n",
        "of the point source in the source plane, its \"multiple images\". This uses a `PointSolver`, which determines the \n",
        "multiple-images of the mass model for a point source at location (y,x) in the source plane. \n",
        "\n",
        "It does this by ray tracing triangles from the image-plane to the source-plane and calculating if the \n",
        "source-plane (y,x) centre is inside the triangle. The method gradually ray-traces smaller and smaller triangles so \n",
        "that the multiple images can be determine with sub-pixel precision.\n",
        "\n",
        "The `PointSolver` requires a starting grid of (y,x) coordinates in the image-plane which defines the first set\n",
        "of triangles that are ray-traced to the source-plane. It also requires that a `pixel_scale_precision` is input, \n",
        "which is the resolution up to which the multiple images are computed. The lower the `pixel_scale_precision`, the\n",
        "longer the calculation, with the value of 0.001 below balancing efficiency with precision.\n",
        "\n",
        "Strong lens mass models have a multiple image called the \"central image\". However, the image is nearly always \n",
        "significantly demagnified, meaning that it is not observed and cannot constrain the lens model. As this image is a\n",
        "valid multiple image, the `PointSolver` will locate it irrespective of whether its so demagnified it is not observed.\n",
        "To ensure this does not occur, we set a `magnification_threshold=0.1`, which discards this image because its\n",
        "magnification will be well below this threshold.\n",
        "\n",
        "If your dataset contains a central image that is observed you should reduce to include it in\n",
        "the analysis.\n",
        "\n",
        "which we compute below by creating a\n",
        "`PointSolver` object and passing it the tracer of our strong lens system."
      ]
    },
    {
      "cell_type": "code",
      "metadata": {},
      "source": [
        "grid = al.Grid2D.uniform(\n",
        "    shape_native=(100, 100),\n",
        "    pixel_scales=0.2,  # <- The pixel-scale describes the conversion from pixel units to arc-seconds.\n",
        ")\n",
        "\n",
        "solver = al.PointSolver.for_grid(\n",
        "    grid=grid, pixel_scale_precision=0.001, magnification_threshold=0.1\n",
        ")"
      ],
      "outputs": [],
      "execution_count": null
    },
    {
      "cell_type": "markdown",
      "metadata": {},
      "source": [
        "We now pass the tracer to the solver. \n",
        "\n",
        "This will then find the image-plane coordinates that map directly to the source-plane coordinate (0.07\", 0.07\"), \n",
        "which we plot below.\n",
        "\n",
        "The plot is the 4 solved for multiple image positions (with the central image removed) on a scatter plot. To make \n",
        "the positions clearer, we increase the size of the markers to ensure they are visible and plot them as asterisks, \n",
        "which is the standard symbol used to denote multiple images of strong lenses in PyAutoLens."
      ]
    },
    {
      "cell_type": "code",
      "metadata": {},
      "source": [
        "positions = solver.solve(tracer=tracer, source_plane_coordinate=(0.07, 0.07))\n",
        "\n",
        "grid_plotter = aplt.Grid2DPlotter(\n",
        "    grid=positions,\n",
        "    mat_plot_2d=aplt.MatPlot2D(grid_scatter=aplt.GridScatter(s=100, marker=\"*\")),\n",
        ")\n",
        "grid_plotter.figure_2d()"
      ],
      "outputs": [],
      "execution_count": null
    },
    {
      "cell_type": "markdown",
      "metadata": {},
      "source": [
        "The plot above makes it difficult to compare the multiple image positions to the image of the strong lens itself.\n",
        "\n",
        "We can therefore overplot the multiple image positions on the image of the strong lens, which clearly shows that the\n",
        "multiple images trace the centre of the brightest pixels of the lensed source galaxy."
      ]
    },
    {
      "cell_type": "code",
      "metadata": {},
      "source": [
        "visuals = aplt.Visuals2D(multiple_images=positions)\n",
        "\n",
        "tracer_plotter = aplt.TracerPlotter(\n",
        "    tracer=tracer_extended, grid=grid, visuals_2d=visuals\n",
        ")\n",
        "tracer_plotter.figures_2d(image=True)"
      ],
      "outputs": [],
      "execution_count": null
    },
    {
      "cell_type": "markdown",
      "metadata": {},
      "source": [
        "__Number of Solutions__\n",
        "\n",
        "The number of solutions (e.g. the number of image-plane multiple images that map to the source centre) depends\n",
        "on the mass model of the lens: \n",
        "\n",
        " - For spherical mass profiles, there are three unique solutions, including a demagnified central image.\n",
        "\n",
        " - For elliptical mass profiles, there are five unique solutions, again including a demagnified central image.\n",
        "\n",
        " - For lenses with multiple mass profiles (e.g. two galaxies) and more exotic mass distributions, the number of \n",
        "   solutions can be even higher. \n",
        "\n",
        "__Solving the Lens Equation__\n",
        "\n",
        "In the literature, the process of finding the multiple images of a source in the image-plane is often referred to as\n",
        "'solving the lens equation'.\n",
        "\n",
        "There lens equation is a fundamental equation in lensing, which describes how light rays are deflected from the\n",
        "image-plane to the source-plane. It is given by:\n",
        "\n",
        "$\\beta = \\theta - \\hat{\\alpha}(\\theta)$\n",
        "\n",
        "Where:\n",
        "\n",
        "$\\beta$ is the source-plane (y,x) coordinate.\n",
        "$\\theta$ is the image-plane (y,x) coordinate.\n",
        "$\\hat{\\alpha}(\\theta)$ is the deflection angle at image-plane (y,x) coordinate $\\theta$.\n",
        "\n",
        "The lens equation is non-linear, as the deflection angle $\\hat{\\alpha}$ depends on the mass model of the lens galaxy.\n",
        "\n",
        "It is therefore called solving the lens equation because we are trying to find the image-plane (y,x) coordinates $\\theta$\n",
        "that satisfies the equation above for a given source-plane (y,x) coordinate $\\beta$.\n",
        "\n",
        "__Triangle Tracing__\n",
        "\n",
        "Computing the multiple image positions of a point source is a non-linear problem. Given a source-plane (y,x) coordinate,\n",
        "there are multiple image-plane (y,x) coordinates that trace to that source-plane coordinate, and there is no simple\n",
        "analytic solution to determine these image-plane coordinates.\n",
        "\n",
        "The solver therefore uses a triangulation approach to find the multiple image positions. It first overlays a grid of\n",
        "triangles over the image-plane, and uses the mass model to trace these triangles to the source-plane. If a triangle\n",
        "contains the source-plane (y,x) coordinate, it is retained and its image-plane coordinates are assigned as a multiple\n",
        "image of the source.\n",
        "\n",
        "We require the grid of triangles to be fine enough such that the source-plane (y,x) coordinate is contained within\n",
        "one of the triangles to a sufficient precision for our science case. This is controlled by the `pixel_scale_precision`\n",
        "input, which sets the target pixel scale of the grid. \n",
        "\n",
        "Triangles of iteratively finer resolution are created until this precision is met, therefore a lower value of\n",
        "`pixel_scale_precision` will lead to a more precise estimate of the multiple image positions at the expense of\n",
        "increased computational overhead.\n",
        "\n",
        "Here is a visualization of the triangulation approach:\n",
        "\n",
        "[CODE]\n",
        "\n",
        "__Dataset__\n",
        "\n",
        "We first create a `PointDataset` object, which is similar to an `Imaging` or `Interferometer` object but contains the\n",
        "positions of the multiple images of the point source and their noise-map values. The noise values are the pixel-scale\n",
        "of the data, as this is the uncertainty of where we measure the multiple images in the image.\n",
        "\n",
        "We manually specify the positions of the multiple images below, which correspond to the multiple images of the\n",
        "isothermal mass model used above.\n",
        "\n",
        "The demagnified central image is not included in the dataset, as it is not observed in the image-plane. This is\n",
        "standard practice in point-source modeling.\n",
        "\n",
        "It also contains the name `point_0`, which is an important label, as explained in more detail below."
      ]
    },
    {
      "cell_type": "code",
      "metadata": {},
      "source": [
        "dataset = al.PointDataset(\n",
        "    name=\"point_0\",\n",
        "    positions=al.Grid2DIrregular(\n",
        "        [\n",
        "            [-1.03884121e00, -1.03906250e00],\n",
        "            [4.41972024e-01, 1.60859375e00],\n",
        "            [1.17899573e00, 1.17890625e00],\n",
        "            [1.60930210e00, 4.41406250e-01],\n",
        "        ],\n",
        "    ),\n",
        "    positions_noise_map=al.ArrayIrregular([0.05, 0.05, 0.05, 0.05]),\n",
        ")"
      ],
      "outputs": [],
      "execution_count": null
    },
    {
      "cell_type": "markdown",
      "metadata": {},
      "source": [
        "We can print this dictionary to see the dataset's `name`, `positions` and `fluxes` and noise-map values."
      ]
    },
    {
      "cell_type": "code",
      "metadata": {},
      "source": [
        "print(\"Point Dataset Info:\")\n",
        "print(dataset.info)"
      ],
      "outputs": [],
      "execution_count": null
    },
    {
      "cell_type": "markdown",
      "metadata": {},
      "source": [
        "The positions can be plotted over the observed image, to make sure they overlap with the multiple images we expect."
      ]
    },
    {
      "cell_type": "code",
      "metadata": {},
      "source": [
        "visuals = aplt.Visuals2D(positions=dataset.positions)\n",
        "\n",
        "tracer_plotter = aplt.TracerPlotter(\n",
        "    tracer=tracer_extended, grid=grid, visuals_2d=visuals\n",
        ")\n",
        "tracer_plotter.figures_2d(image=True)"
      ],
      "outputs": [],
      "execution_count": null
    },
    {
      "cell_type": "markdown",
      "metadata": {},
      "source": [
        "__Name Pairing__\n",
        "\n",
        "The names of the point-source datasets have an even more important role, the names are used to pair each dataset to the\n",
        "point sources in the lens model used to fit it.\n",
        "\n",
        "For example, when creating the tracer at the beginning of this script, we named the point source `point_0`:\n",
        "\n",
        "point_source = al.ps.Point(centre=(0.07, 0.07))\n",
        "source_galaxy = al.Galaxy(redshift=1.0, point_0=point_source)\n",
        "tracer = al.Tracer(galaxies=[lens_galaxy, source_galaxy])\n",
        "\n",
        "When we fit the point source dataset using this tracer, the name is again used in order to pair the dataset to the\n",
        "this point source. This means that point source with a centre of (0.07\", 0.07\") is used to fit the dataset with the\n",
        "name `point_0`.\n",
        "\n",
        "If there is no point-source in the model that has the same name as a `PointDataset`, that data is not used in\n",
        "the model-fit. If a point-source is included in the model whose name has no corresponding entry in \n",
        "the `PointDataset` an error will be raised.\n",
        "\n",
        "In this example, where there is just one source, name pairing is redundant. However, point-source datasets may\n",
        "have many source galaxies in them, and name pairing allows us to extend the point-source modeling to systems with\n",
        "many point sources.\n",
        "\n",
        "__Fitting__\n",
        "\n",
        "Just like we used a `Tracer` to fit imaging and interferometer data, we can use it to fit point-source data via the\n",
        "`FitPoint` object.\n",
        "\n",
        "The name pairing described above is used internally into the `FitPointDataset` object to ensure that the correct point\n",
        "source is fitted to each dataset. \n",
        "\n",
        "The fit is returned as a dictionary which mirrors the `PointDataset`, where its keys are again the names of the datasets."
      ]
    },
    {
      "cell_type": "code",
      "metadata": {},
      "source": [
        "fit = al.FitPointDataset(\n",
        "    dataset=dataset,\n",
        "    tracer=tracer,\n",
        "    solver=solver,\n",
        "    fit_positions_cls=al.FitPositionsImagePairRepeat,  # This input is describe below\n",
        ")\n",
        "\n",
        "print(fit.positions.residual_map)\n",
        "print(fit.positions.normalized_residual_map)\n",
        "print(fit.positions.chi_squared_map)\n",
        "print(fit.positions.log_likelihood)"
      ],
      "outputs": [],
      "execution_count": null
    },
    {
      "cell_type": "markdown",
      "metadata": {},
      "source": [
        "__Chi Squared__\n",
        "\n",
        "For point-source modeling, there are many different ways to define the likelihood function, broadly referred to a\n",
        "an `image-plane chi-squared` or `source-plane chi-squared`. This determines whether the multiple images of the point\n",
        "source are used to compute the likelihood in the source-plane or image-plane.\n",
        "\n",
        "The default settings used above use the image-plane chi-squared, which uses the `PointSolver` to determine the \n",
        "multiple images of the point source in the image-plane for the given mass model and compares the positions of these \n",
        "model images to the observed images to compute the chi-squared and likelihood.\n",
        "\n",
        "There are still many different ways the image-plane chi-squared can be computed, for example do we allow for \n",
        "repeat image-pairs (i.e. the same multiple image being observed multiple times)? Do we pair all possible combinations\n",
        "of multiple images to observed images? This default settings use the simplest approach, which pair each multiple image\n",
        "with the observed image that is closest to it, allowing for repeat image pairs. \n",
        "\n",
        "For example, we can repeat the fit above whilst not allowing for repeat image pairs as follows:"
      ]
    },
    {
      "cell_type": "code",
      "metadata": {},
      "source": [
        "fit = al.FitPointDataset(\n",
        "    dataset=dataset,\n",
        "    tracer=tracer,\n",
        "    solver=solver,\n",
        "    fit_positions_cls=al.FitPositionsImagePair,  # Different input to the one used above\n",
        ")\n",
        "\n",
        "print(\n",
        "    \"Minimum Distance Between Observed Multiple Images and Model Multiple Images Without Repeats:\"\n",
        ")\n",
        "print(fit.positions.residual_map)\n",
        "\n",
        "print(\"Log Likelihood Without Repeats:\")\n",
        "print(fit.positions.log_likelihood)"
      ],
      "outputs": [],
      "execution_count": null
    },
    {
      "cell_type": "markdown",
      "metadata": {},
      "source": [
        "We can allow for repeat image pairs by using the `FitPositionsImagePairRepeat` class, which is the default input."
      ]
    },
    {
      "cell_type": "code",
      "metadata": {},
      "source": [
        "fit = al.FitPointDataset(\n",
        "    dataset=dataset,\n",
        "    tracer=tracer,\n",
        "    solver=solver,\n",
        "    fit_positions_cls=al.FitPositionsImagePairRepeat,  # Different input to the one used above\n",
        ")\n",
        "\n",
        "print(\n",
        "    \"Minimum Distance Between Observed Multiple Images and Model Multiple Images With Repeats:\"\n",
        ")\n",
        "print(fit.positions.residual_map)\n",
        "\n",
        "print(\"Log Likelihood With Repeats:\")\n",
        "print(fit.positions.log_likelihood)"
      ],
      "outputs": [],
      "execution_count": null
    },
    {
      "cell_type": "markdown",
      "metadata": {},
      "source": [
        "For a \"source-plane chi-squared\", the likelihood is computed in the source-plane. The analysis is simpler, it ray-traces\n",
        "the multiple images back to the source-plane and defines a chi-squared metric. For example, the default implementation \n",
        "sums the Euclidean distance between the image positions and the point source centre in the source-plane.\n",
        "\n",
        "The source-plane chi-squared is significantly faster to compute than the image-plane chi-squared, however it is \n",
        "less robust than the image-plane chi-squared and can lead to biased lens model results. \n",
        "\n",
        "Here is an example of how to use the source-plane chi-squared:"
      ]
    },
    {
      "cell_type": "code",
      "metadata": {},
      "source": [
        "fit = al.FitPointDataset(\n",
        "    dataset=dataset,\n",
        "    tracer=tracer,\n",
        "    solver=solver,\n",
        "    fit_positions_cls=al.FitPositionsSource,  # Different input to the one used above\n",
        ")\n",
        "\n",
        "print(\n",
        "    \"Minimum Distance Between Source Plane Centre and Model Source Plane Images After Ray Tracing:\"\n",
        ")\n",
        "print(fit.positions.residual_map)\n",
        "\n",
        "print(\"Log Likelihood in the Source Plane:\")\n",
        "print(fit.positions.log_likelihood)"
      ],
      "outputs": [],
      "execution_count": null
    },
    {
      "cell_type": "markdown",
      "metadata": {},
      "source": [
        "Checkout the guide `autolens_workspace/*/guides/point_source.py` for more details and a full illustration of the\n",
        "different ways the chi-squared can be computed.\n",
        "\n",
        "__New User Wrap Up__\n",
        "\n",
        "The `point_source` package of the `autolens_workspace` contains numerous example scripts for performing point source\n",
        "modeling. These focus on \"galaxy scale\" lenses, which are lenses that have a single lens galaxy, as opposed to\n",
        "\"group scale\" or \"cluster scale\" lenses which have multiple lens galaxies.\n",
        "\n",
        "Point source modeling is at the heart of group and cluster scale lens modeling, and is the topic of the\n",
        "next overview script.\n",
        "\n",
        "__Fluxes and Time Delays__\n",
        "\n",
        "The point-source dataset can also include the fluxes and time-delays of each multiple image. \n",
        "\n",
        "This information can be computed for a lens model via the `PointSolver`, and used in modeling to constrain the \n",
        "lens model.\n",
        "\n",
        "A full description of how to include this information in the model-fit is given in \n",
        "the `autolens_workspace/*/guides/point_source.py` and \n",
        "the `autolens_workspace/*/point_sources/modeling/features/fluxes_and_time_delays.py` example script.\n",
        "\n",
        "__Shape Solver__\n",
        "\n",
        "All calculations above assumed the source was a point source with no size. \n",
        "\n",
        "This was built into the point-solver, for example when we solved for the multiple images of the point source in the \n",
        "image-plane, we ray-traced triangles to the source-plane and asked whether the source-plane (y,x) centre was within \n",
        "the triangle.\n",
        "\n",
        "There is functionality to include the size and shape of the source in the calculation, which uses the `ShapeSolver`\n",
        "class. This still traces triangles, but each iteration of the solver now computes the area of each image-plane triangle \n",
        "that is within the source-plane shape. This means we can determine the area in the image-plane that maps within an \n",
        "extended region of the source-plane shape.\n",
        "\n",
        "For example, by inputting the shape `Circle` with a radius of 0.001\", the shape solver will determine the area of the \n",
        "multiple images pixel which fall within this circle, which is different information to the point solver which told\n",
        "us the exact (y,x) coordinates of the multiple images.\n",
        "\n",
        "The ratio of the total image pixel area to the area within the source-plane \n",
        "circle is the magnification factor of the source. This magnification factor then changes the observed flux of each \n",
        "multiple image.\n",
        "\n",
        "Observations we might think are fully in the point source regime therefore may have an observable signature of the size\n",
        "of the source in the flux ratios and magnifications of the multiple images. Therefore, sometimes the source size \n",
        "is large enough that it is important we account for it."
      ]
    },
    {
      "cell_type": "code",
      "metadata": {},
      "source": [
        "solver = al.ShapeSolver.for_grid(\n",
        "    grid=grid, pixel_scale_precision=0.001, magnification_threshold=0.1\n",
        ")\n",
        "\n",
        "solver.find_magnification(tracer=tracer, shape=al.Circle(x=0.0, y=0.0, radius=0.001))\n"
      ],
      "outputs": [],
      "execution_count": null
    }
  ],
  "metadata": {
    "anaconda-cloud": {},
    "kernelspec": {
      "display_name": "Python 3",
      "language": "python",
      "name": "python3"
    },
    "language_info": {
      "codemirror_mode": {
        "name": "ipython",
        "version": 3
      },
      "file_extension": ".py",
      "mimetype": "text/x-python",
      "name": "python",
      "nbconvert_exporter": "python",
      "pygments_lexer": "ipython3",
      "version": "3.6.1"
    }
  },
  "nbformat": 4,
  "nbformat_minor": 4
}