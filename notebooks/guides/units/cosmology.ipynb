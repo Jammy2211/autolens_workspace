{
  "cells": [
    {
      "cell_type": "markdown",
      "metadata": {},
      "source": [
        "Units and Cosmology\n",
        "===================\n",
        "\n",
        "This tutorial illustrates how to perform unit conversions from **PyAutoLens**'s internal units (e.g. arc-seconds,\n",
        "electrons per second, dimensionless mass units) to physical units (e.g. kiloparsecs, magnitudes, solar masses).\n",
        "\n",
        "This is used on a variety of important lens model cosmological quantities for example the lens's Einstein radius and\n",
        "Mass or the effective radii of the galaxies in the lens model.\n",
        "\n",
        "__Plot Module__\n",
        "\n",
        "This example uses the plot module to plot the results, including `Plotter` objects that make\n",
        "the figures and `MatPlot` objects that wrap matplotlib to customize the figures.\n",
        "\n",
        "The visualization API is straightforward but is explained in the `autolens_workspace/*/plot` package in full.\n",
        "This includes detailed guides on how to customize every aspect of the figures, which can easily be combined with the\n",
        "code outlined in this tutorial.\n",
        "\n",
        "__Errors__\n",
        "\n",
        "To produce errors on unit converted quantities, you`ll may need to perform marginalization over samples of these\n",
        "converted quantities (see `results/examples/samples.ipynb`)."
      ]
    },
    {
      "cell_type": "code",
      "metadata": {},
      "source": [
        "%matplotlib inline\n",
        "from pyprojroot import here\n",
        "workspace_path = str(here())\n",
        "%cd $workspace_path\n",
        "print(f\"Working Directory has been set to `{workspace_path}`\")\n",
        "\n",
        "import numpy as np\n",
        "from os import path\n",
        "import autofit as af\n",
        "import autolens as al\n",
        "import autolens.plot as aplt"
      ],
      "outputs": [],
      "execution_count": null
    },
    {
      "cell_type": "markdown",
      "metadata": {},
      "source": [
        "__Tracer__\n",
        "\n",
        "We set up a simple strong lens tracer and grid which will illustrate the unit conversion functionality. "
      ]
    },
    {
      "cell_type": "code",
      "metadata": {},
      "source": [
        "grid = al.Grid2D.uniform(shape_native=(100, 100), pixel_scales=0.05)\n",
        "\n",
        "lens = al.Galaxy(\n",
        "    redshift=0.5,\n",
        "    mass=al.mp.Isothermal(\n",
        "        centre=(0.0, 0.0),\n",
        "        ell_comps=(0.1, 0.0),\n",
        "        einstein_radius=1.6,\n",
        "    ),\n",
        ")\n",
        "\n",
        "source = al.Galaxy(\n",
        "    redshift=1.0,\n",
        "    bulge=al.lp.SersicCore(\n",
        "        centre=(0.0, 0.0),\n",
        "        ell_comps=(0.1, 0.0),\n",
        "        intensity=1.0,\n",
        "        effective_radius=1.0,\n",
        "        sersic_index=4.0,\n",
        "    ),\n",
        ")\n",
        "\n",
        "tracer = al.Tracer(galaxies=[lens, source])"
      ],
      "outputs": [],
      "execution_count": null
    },
    {
      "cell_type": "markdown",
      "metadata": {},
      "source": [
        "__Arcsec to Kiloparsec__\n",
        "\n",
        "The majority of distance quantities in **PyAutoLens** are in arcseconds, because this means that known redshifts are\n",
        "not required in order to compose the lens model.\n",
        "\n",
        "By assuming redshifts for the lens and source galaxies we can convert their quantities from arcseconds to kiloparsecs.\n",
        "\n",
        "Below, we compute the effective radii of the source in kiloparsecs. To do this, we assume a cosmology which \n",
        "allows us to compute the conversion factor `kpc_per_arcsec`."
      ]
    },
    {
      "cell_type": "code",
      "metadata": {},
      "source": [
        "cosmology = al.cosmo.Planck15()\n",
        "\n",
        "source = tracer.planes[1][0]\n",
        "source_plane_kpc_per_arcsec = cosmology.kpc_per_arcsec_from(redshift=source.redshift)\n",
        "source_effective_radius_kpc = (\n",
        "    source.bulge.effective_radius * source_plane_kpc_per_arcsec\n",
        ")"
      ],
      "outputs": [],
      "execution_count": null
    },
    {
      "cell_type": "markdown",
      "metadata": {},
      "source": [
        "This `kpc_per_arcsec` can be used as a conversion factor between arcseconds and kiloparsecs when plotting images of\n",
        "galaxies.\n",
        "\n",
        "Below, we compute this value in both the image-plane and source-plane, and plot the images in both planes in their\n",
        "respectively converted units of kilo-parsec.\n",
        "\n",
        "This passes the plotting modules `Units` object a `ticks_convert_factor` and manually specified the new units of the\n",
        "plot ticks."
      ]
    },
    {
      "cell_type": "code",
      "metadata": {},
      "source": [
        "lens = tracer.planes[0][0]\n",
        "image_plane_kpc_per_arcsec = cosmology.kpc_per_arcsec_from(redshift=lens.redshift)\n",
        "\n",
        "units = aplt.Units(ticks_convert_factor=image_plane_kpc_per_arcsec, ticks_label=\" kpc\")\n",
        "\n",
        "mat_plot = aplt.MatPlot2D(units=units)\n",
        "\n",
        "tracer_plotter = aplt.TracerPlotter(tracer=tracer, grid=grid, mat_plot_2d=mat_plot)\n",
        "tracer_plotter.figures_2d(image=True)\n",
        "\n",
        "units = aplt.Units(ticks_convert_factor=source_plane_kpc_per_arcsec, ticks_label=\" kpc\")\n",
        "\n",
        "mat_plot = aplt.MatPlot2D(units=units)\n",
        "\n",
        "tracer_plotter = aplt.TracerPlotter(tracer=tracer, grid=grid, mat_plot_2d=mat_plot)\n",
        "tracer_plotter.figures_2d(source_plane=True)"
      ],
      "outputs": [],
      "execution_count": null
    },
    {
      "cell_type": "markdown",
      "metadata": {},
      "source": [
        "__Einstein Radius__\n",
        "\n",
        "Given a tracer, galaxy or mass profile we can compute its Einstein Radius, which is defined as the area within the \n",
        "tangential critical curve. \n",
        "\n",
        "These are calculated from the functions: \n",
        "\n",
        " - `einstein_radius_from`. \n",
        " - `einstein_mass_via_tangential_critical_curve`.\n",
        "\n",
        "Although these quantities should not depend on the grid we input, they are calculated using the input grid. Thus,\n",
        "we must specify a grid which matches the scale of the lens model, which would typically be the grid of image-pixels\n",
        "that we use to model our data.\n",
        "\n",
        "Lets print the Einstein Radius, which is returned in the default internal **PyAutoLens** units of arc-seconds."
      ]
    },
    {
      "cell_type": "code",
      "metadata": {},
      "source": [
        "grid = al.Grid2D.uniform(shape_native=(100, 100), pixel_scales=0.1)\n",
        "einstein_radius = tracer.einstein_radius_from(grid=grid)\n",
        "\n",
        "print(\"Einstein Radius (arcsec) = \", einstein_radius)"
      ],
      "outputs": [],
      "execution_count": null
    },
    {
      "cell_type": "markdown",
      "metadata": {},
      "source": [
        "If we know the redshift of the lens galaxy and assume an cosmology we can convert this to kilo-parsecs."
      ]
    },
    {
      "cell_type": "code",
      "metadata": {},
      "source": [
        "cosmology = al.cosmo.Planck15()\n",
        "\n",
        "kpc_per_arcsec = cosmology.kpc_per_arcsec_from(redshift=tracer.planes[0].redshift)\n",
        "einstein_radius_kpc = einstein_radius * kpc_per_arcsec\n",
        "print(\"Einstein Radius (kpc) = \", einstein_radius_kpc)"
      ],
      "outputs": [],
      "execution_count": null
    },
    {
      "cell_type": "markdown",
      "metadata": {},
      "source": [
        "We can also compute the Einstein radius of individual planes, galaxies and mass profiles."
      ]
    },
    {
      "cell_type": "code",
      "metadata": {},
      "source": [
        "print(tracer.planes[0].einstein_radius_from(grid=grid))\n",
        "print(tracer.planes[0][0].einstein_radius_from(grid=grid))\n",
        "print(tracer.planes[0][0].mass.einstein_radius_from(grid=grid))"
      ],
      "outputs": [],
      "execution_count": null
    },
    {
      "cell_type": "markdown",
      "metadata": {},
      "source": [
        "__Einstein Mass__\n",
        "\n",
        "The Einstein mass can also be computed from a tracer, galaxy or mass profile.\n",
        "\n",
        "The default units of an Einstein mass are angular units; this is because to convert it to physical units (e.g. solar\n",
        "masses) one must assume redsfhits for the lens and source galaxies.\n",
        "\n",
        "The mass in angular units is given by: `pi * einstein_radius (arcsec) ** 2.0`"
      ]
    },
    {
      "cell_type": "code",
      "metadata": {},
      "source": [
        "einstein_mass = tracer.einstein_mass_angular_from(grid=grid)\n",
        "print(\"Einstein Mass (angular) = \", einstein_mass)"
      ],
      "outputs": [],
      "execution_count": null
    },
    {
      "cell_type": "markdown",
      "metadata": {},
      "source": [
        "To convert this mass to solar masses, we need the critical surface mass density of the strong lens, which relies on \n",
        "it being a strong lens with not only a lens redshift (e.g. the redshift of the profile) but also a source redshift.\n",
        "\n",
        "If we use the `tracer`'s galaxies for the redshifts, where the lens is at redshift 0.5 and it is lensing a source at \n",
        "redshift 1.0, we can compute its mass in solar masses."
      ]
    },
    {
      "cell_type": "code",
      "metadata": {},
      "source": [
        "cosmology = al.cosmo.Planck15()\n",
        "\n",
        "critical_surface_density = cosmology.critical_surface_density_between_redshifts_from(\n",
        "    redshift_0=tracer.planes[0].redshift, redshift_1=tracer.planes[1].redshift\n",
        ")\n",
        "einstein_mass_solar_mass = einstein_mass * critical_surface_density\n",
        "print(\"Einstein Mass (solMass) = \", einstein_mass_solar_mass)\n",
        "print(\"Einstein Mass (solMass) = \", \"{:.4e}\".format(einstein_mass_solar_mass))"
      ],
      "outputs": [],
      "execution_count": null
    },
    {
      "cell_type": "markdown",
      "metadata": {},
      "source": [
        "We can compute Einstein masses of individual components:"
      ]
    },
    {
      "cell_type": "code",
      "metadata": {},
      "source": [
        "print(tracer.planes[0].einstein_mass_angular_from(grid=grid))\n",
        "print(tracer.planes[0][0].einstein_mass_angular_from(grid=grid))\n",
        "print(tracer.planes[0][0].mass.einstein_mass_angular_from(grid=grid))"
      ],
      "outputs": [],
      "execution_count": null
    },
    {
      "cell_type": "markdown",
      "metadata": {},
      "source": [
        "In principle, the Einstein Mass of a `Tracer` should be readily accessible in a `Tracer` object, given this contains\n",
        "all of the galaxies in a strong lens system (and thus has their redshifts) as well as an input Cosmology.\n",
        "\n",
        "However, we do not provide methods with this quantity and require that you, the user, compute the Einstein mass \n",
        "(in angular or solar masses) using examples above. This is because for systems with multiple galaxies or planes, the \n",
        "definition of an Einstein Radius / Mass become less clear. \n",
        "\n",
        "We feel it is better that a user explicitly computes these quantities from a `Tracer` so if it has multiple galaxies \n",
        "or planes you are aware of this.\n",
        "\n",
        "__Brightness Units / Luminosity__\n",
        "\n",
        "When plotting the image of a galaxy, each pixel value is also plotted in electrons / second, which is the unit values\n",
        "displayed in the colorbar. \n",
        "\n",
        "A conversion factor between electrons per second and another unit can be input when plotting images of galaxies.\n",
        "\n",
        "Below, we pass the exposure time of the image, which converts the units of the image from `electrons / second` to\n",
        "electrons. \n",
        "\n",
        "Note that this input `ticks_convert_factor_values` is the same input parameter used above to convert mass plots like the \n",
        "convergence to physical units."
      ]
    },
    {
      "cell_type": "code",
      "metadata": {},
      "source": [
        "exposure_time_seconds = 2000.0\n",
        "units = aplt.Units(\n",
        "    colorbar_convert_factor=exposure_time_seconds, colorbar_label=\" seconds\"\n",
        ")\n",
        "\n",
        "mat_plot = aplt.MatPlot2D(units=units)\n",
        "\n",
        "galaxy_plotter = aplt.GalaxyPlotter(galaxy=source, grid=grid, mat_plot_2d=mat_plot)\n",
        "galaxy_plotter.figures_2d(image=True)"
      ],
      "outputs": [],
      "execution_count": null
    },
    {
      "cell_type": "markdown",
      "metadata": {},
      "source": [
        "The luminosity of a galaxy is the total amount of light it emits, which is computed by integrating the light profile.\n",
        "This integral is performed over the entire light profile, or within a specified radius.\n",
        "\n",
        "Lets compute the luminosity of the source galaxy in the default internal **PyAutoLens** units of `electrons / second`.\n",
        "Below, we compute the luminosity to infinite radius, which is the total luminosity of the galaxy, but one could\n",
        "easily compute the luminosity within a specified radius instead."
      ]
    },
    {
      "cell_type": "code",
      "metadata": {},
      "source": [
        "source = tracer.planes[1][0]\n",
        "\n",
        "luminosity = source.luminosity_within_circle_from(radius=np.inf)\n",
        "print(\"Luminosity (electrons / second) = \", luminosity)"
      ],
      "outputs": [],
      "execution_count": null
    },
    {
      "cell_type": "markdown",
      "metadata": {},
      "source": [
        "From a luminosity in `electrons / second`, we can convert it to other units, such as `Jansky` or `erg / second`. \n",
        "This can also be used to compute the magnitude of the galaxy, which is the apparent brightness of the galaxy in a\n",
        "given bandpass.\n",
        "\n",
        "This functionality is not currently implemented in **PyAutoLens**, but would be fairly simple for you to do\n",
        "yourself (e.g. using the `astropy` package). If you want to contribute to **PyAutoLens**, this would be a great\n",
        "first issue to tackle, so please get in touch on SLACK!\n",
        "\n",
        "__Convergence__\n",
        "\n",
        "The `colorbar_convert_factor` and `colorbar_label` inputs above can also be used to convert the units of mass\n",
        "profiles images. \n",
        "\n",
        "For example, we can convert the convergence from its dimensionless lensing units to a physical surface density\n",
        "in units of solar masses per kpc^2."
      ]
    },
    {
      "cell_type": "code",
      "metadata": {},
      "source": [
        "critical_surface_density = cosmology.critical_surface_density_between_redshifts_from(\n",
        "    redshift_0=tracer.planes[0].redshift, redshift_1=tracer.planes[1].redshift\n",
        ")\n",
        "\n",
        "units = aplt.Units(\n",
        "    colorbar_convert_factor=critical_surface_density, colorbar_label=\" $MSun kpc^-2$\"\n",
        ")\n",
        "convergence = tracer.convergence_2d_from(grid=grid)"
      ],
      "outputs": [],
      "execution_count": null
    },
    {
      "cell_type": "markdown",
      "metadata": {},
      "source": [
        "With the convergence in units of MSun / kpc^2, we can easily compute the total mass associated with it in a specifc\n",
        "area.\n",
        "\n",
        "For example, in a single pixel of convergence in these units, we can compute the mass by simply multiplying it by the\n",
        "area of the pixel in kpc^2."
      ]
    },
    {
      "cell_type": "code",
      "metadata": {},
      "source": [
        "pixel_area_kpc = (\n",
        "    grid.pixel_scales[0] * grid.pixel_scales[1] * image_plane_kpc_per_arcsec**2\n",
        ")\n",
        "\n",
        "print(\n",
        "    f\"Total mass in central pixel: {convergence.native[50, 50] * critical_surface_density * pixel_area_kpc} MSun\"\n",
        ")"
      ],
      "outputs": [],
      "execution_count": null
    },
    {
      "cell_type": "markdown",
      "metadata": {},
      "source": [
        "The total mass of the convergence map is the sum of all these masses."
      ]
    },
    {
      "cell_type": "code",
      "metadata": {},
      "source": [
        "print(\n",
        "    f\"Total mass in convergence map: {np.sum(convergence * critical_surface_density * pixel_area_kpc)} MSun\"\n",
        ")\n"
      ],
      "outputs": [],
      "execution_count": null
    }
  ],
  "metadata": {
    "anaconda-cloud": {},
    "kernelspec": {
      "display_name": "Python 3",
      "language": "python",
      "name": "python3"
    },
    "language_info": {
      "codemirror_mode": {
        "name": "ipython",
        "version": 3
      },
      "file_extension": ".py",
      "mimetype": "text/x-python",
      "name": "python",
      "nbconvert_exporter": "python",
      "pygments_lexer": "ipython3",
      "version": "3.6.1"
    }
  },
  "nbformat": 4,
  "nbformat_minor": 4
}