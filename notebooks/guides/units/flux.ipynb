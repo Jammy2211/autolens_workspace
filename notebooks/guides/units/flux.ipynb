{
  "cells": [
    {
      "cell_type": "markdown",
      "metadata": {},
      "source": [
        "Flux\n",
        "====\n",
        "\n",
        "Absolute flux calibration in Astronomy is the process of converting the number of photons detected by a telescope into\n",
        "a physical unit of luminosity or a magnitude. For example, a luminosity might be given in units of solar luminosities\n",
        "or the brightness of a galaxy quoted as a magnitude in units of AB magnitudes.\n",
        "\n",
        "The conversion of a light profile, that has been fitted to data, to physical units can be non-trivial, as careful\n",
        "consideration must be given to the units that are involved.\n",
        "\n",
        "The key quantity is the `intensity` of the light profile, the units of which match the units of the data that is fitted.\n",
        "For example, if the data is in units of electrons per second, the intensity will also be in units of electrons per\n",
        "second per pixel.\n",
        "\n",
        "The conversion of this intensity to a physical unit, like solar luminosities, therefore requires us to make a number\n",
        "of conversion steps that go from electrons per second to the desired physical unit or magnitude.\n",
        "\n",
        "This guide gives example conversions for units commonly used in astronomy, such as converting the intensity of a\n",
        "light profile from electrons per second to solar luminosities or AB magnitudes. Once we have values in a more standard\n",
        "unit, like a solar luminosity or AB magnitude, it becomes a lot more straightforward to follow Astropy tutorials\n",
        "(or other resources) to convert these values to other units or perform calculations with them.\n",
        "\n",
        "__Zero Point__\n",
        "\n",
        "In astronomy, a zero point refers to a reference value used in photometry and spectroscopy to calibrate the brightness\n",
        "of celestial objects. It sets the baseline for a magnitude system, allowing astronomers to compare the brightness of\n",
        "different stars, galaxies, or other objects.\n",
        "\n",
        "For example, the zero point in a photometric system corresponds to the magnitude that a standard star (or a theoretical\n",
        "object) would have if it produced a specific amount of light at a particular wavelength. It provides a way to convert\n",
        "the raw measurements of light received by a telescope into meaningful values of brightness (magnitudes).\n",
        "\n",
        "The conversions below all require a zero point, which is typically provided in the documentation of the telescope or\n",
        "instrument that was used to observe the data."
      ]
    },
    {
      "cell_type": "code",
      "metadata": {},
      "source": [
        "%matplotlib inline\n",
        "from pyprojroot import here\n",
        "workspace_path = str(here())\n",
        "%cd $workspace_path\n",
        "print(f\"Working Directory has been set to `{workspace_path}`\")\n",
        "\n",
        "import numpy as np\n",
        "from os import path\n",
        "import autofit as af\n",
        "import autolens as al\n",
        "import autolens.plot as aplt"
      ],
      "outputs": [],
      "execution_count": null
    },
    {
      "cell_type": "markdown",
      "metadata": {},
      "source": [
        "__Mega Janskys / steradian (MJy/sr): James Webb Space Telescope__\n",
        "\n",
        "James Webb Space Telescope (JWST) NIRCam data is often provided in units of Mega Janskys per steradian (MJy/sr).\n",
        "We therefore show how to convert the intensity of a light profile to MJy/sr.\n",
        "\n",
        "This calculation is well documented in the JWST documentation, and we are following the steps in the following\n",
        "webpage:\n",
        "\n",
        "https://jwst-docs.stsci.edu/jwst-near-infrared-camera/nircam-performance/nircam-absolute-flux-calibration-and-zeropoints#gsc.tab=0\n",
        "\n",
        "First, we need a light profile, which we'll assume is a Sersic profilee. If you're analyzing real JWST data, you'll\n",
        "need to use the light profile that was fitted to the data."
      ]
    },
    {
      "cell_type": "code",
      "metadata": {},
      "source": [
        "light = al.lp.Sersic(\n",
        "    centre=(0.0, 0.0),\n",
        "    ell_comps=(0.0, 0.0),\n",
        "    intensity=2.0,  # in units of MJy/sr\n",
        "    effective_radius=0.1,\n",
        "    sersic_index=3.0,\n",
        ")"
      ],
      "outputs": [],
      "execution_count": null
    },
    {
      "cell_type": "markdown",
      "metadata": {},
      "source": [
        "According to the document above, flux density in MJy/sr can be converted to AB magnitude using the following formula:\n",
        "\n",
        " mag_AB = -6.10 - 2.5 * log10(flux[MJy/sr]*PIXAR_SR[sr/pix] ) = ZP_AB \u2013 2.5 log10(flux[MJy/sr])\n",
        "\n",
        "Where ZP_AB is the zeropoint:  \n",
        "\n",
        " ZP_AB = \u20136.10 \u2013 2.5 log10(PIXAR_SR[sr/pix]). \n",
        "\n",
        "For example, ZP_AB = 28.0 for PIXAR_SR = 2.29e-14 (corresponding to pixel size 0.0312\").\n",
        "\n",
        "For data in units of MJy/sr, computing the total flux that goes into the log10 term is straightforward, it is\n",
        "simply the sum of the image of the light profile. \n",
        "\n",
        "We compute this using a grid, which must be large enough that all light from the light profile is included. Below,\n",
        "we use a grid which extends to 10\" from the centre of the light profile, which is sufficient for this example,\n",
        "but you may need to increase this size for your own data."
      ]
    },
    {
      "cell_type": "code",
      "metadata": {},
      "source": [
        "grid = al.Grid2D.uniform(shape_native=(500, 500), pixel_scales=0.02)\n",
        "\n",
        "image = light.image_2d_from(grid=grid)\n",
        "\n",
        "total_flux = np.sum(image)"
      ],
      "outputs": [],
      "execution_count": null
    },
    {
      "cell_type": "markdown",
      "metadata": {},
      "source": [
        "We now convert this total flux to an AB magnitude using the zero point of the JWST NIRCam filter we are analyzing.\n",
        "\n",
        "As stated above, the zero point is given by:\n",
        "\n",
        " ZP_AB = \u20136.10 \u2013 2.5 log10(PIXAR_SR[sr/pix])\n",
        " \n",
        "Where the value of PIXAR_SR is provided in the JWST documentation for the filter you are analyzing. \n",
        "\n",
        "The Pixar_SR values for JWST (James Webb Space Telescope) NIRCam filters refer to the pixel scale in steradians (sr) \n",
        "for each filter, which is a measure of the solid angle covered by each pixel. These values are important for \n",
        "calibrating and understanding how light is captured by the instrument.\n",
        "\n",
        "For the F444W filter, which we are using in this example, the value is 2.29e-14 (corresponding to a pixel size o\n",
        "f 0.0312\")."
      ]
    },
    {
      "cell_type": "code",
      "metadata": {},
      "source": [
        "pixar_sr = 2.29e-14\n",
        "\n",
        "zero_point = -6.10 - 2.5 * np.log10(pixar_sr)\n",
        "\n",
        "magnitude_ab = zero_point - 2.5 * np.log10(total_flux)"
      ],
      "outputs": [],
      "execution_count": null
    },
    {
      "cell_type": "markdown",
      "metadata": {},
      "source": [
        "Finish."
      ]
    },
    {
      "cell_type": "code",
      "metadata": {},
      "source": [],
      "outputs": [],
      "execution_count": null
    }
  ],
  "metadata": {
    "anaconda-cloud": {},
    "kernelspec": {
      "display_name": "Python 3",
      "language": "python",
      "name": "python3"
    },
    "language_info": {
      "codemirror_mode": {
        "name": "ipython",
        "version": 3
      },
      "file_extension": ".py",
      "mimetype": "text/x-python",
      "name": "python",
      "nbconvert_exporter": "python",
      "pygments_lexer": "ipython3",
      "version": "3.6.1"
    }
  },
  "nbformat": 4,
  "nbformat_minor": 4
}