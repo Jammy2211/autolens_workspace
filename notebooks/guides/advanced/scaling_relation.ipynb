{
  "cells": [
    {
      "cell_type": "markdown",
      "metadata": {},
      "source": [
        "Misc: Scaling Relations\n",
        "=======================\n",
        "\n",
        "Strong lenses often have many galaxies surrounding the lens galaxy.\n",
        "\n",
        "For galaxy-scale systems these are often far from the lensed source, meaning they individually contribute little to the\n",
        "overall lensing but may have a measurable impact when considered collectively.\n",
        "\n",
        "In group and cluster lenses these objects are often closer to the lensed source and can therefore individually have\n",
        "a significant impact on the lensing.\n",
        "\n",
        "In both cases, it is desirable to include these objects in the lens mass model. However, the number of parameters\n",
        "required to model each galaxy individually can be prohibitively large. For example, with 10 galaxies each modeled\n",
        "using a `IsothermalSph` profile, the lens model would have 30 parameters!\n",
        "\n",
        "It is therefore common practice to model the lensing contribution of these galaxies using a scaling relation,\n",
        "whereby easier to measure properties of the galaxy (e.g. its luminosity, stellar mass, velocity dispersion) are related\n",
        "to the mass profile's quantities.\n",
        "\n",
        "The free parameters are now only those related to the scaling relation, for example is normalization and gradient.\n",
        "\n",
        "__Mass Model And Scaling Relation__\n",
        "\n",
        "This example shows how to compose a scaling-relation lens model using the dual Pseudo-Isothermal Elliptical (dPIE)\n",
        "mass distribution introduced in Eliasdottir 2007: https://arxiv.org/abs/0710.5636.\n",
        "\n",
        "It relates the luminosity of every galaxy to a cut radius (r_cut), a core radius (r_core) and a velocity dispersion\n",
        "(sigma):\n",
        "\n",
        "$r_cut = r_cut^* (L/L^*)^{0.5}$\n",
        "\n",
        "$r_core = r_core^* (L/L^*)^{0.5}$\n",
        "\n",
        "$\\sigma = \\sigma^* (L/L^*)^{0.25}$\n",
        "\n",
        "The free parameters are therefore L^*, r_cut^*, r_core^* and \\sigma^*.\n",
        "\n",
        "This mass model differs from the `Isothermal` profile used commonly throughout the **PyAutoLens** examples. The dPIE\n",
        "is more commonly used in strong lens cluster studies where scaling relations are used to model the lensing contribution\n",
        "of many cluster galaxies.\n",
        "\n",
        "The API provided in this example is general and can be used to compose any scaling relation mass model (or\n",
        "light model, or anything else!).\n",
        "\n",
        "__Centres__\n",
        "\n",
        "Scaling relations parameterize the mass of each galaxy, but not their centres. If the centres of the galaxies are\n",
        "treated as free parameters, one again runs into the problem of having too many parameters and a model which\n",
        "cannot be fitted efficiently.\n",
        "\n",
        "Scaling relation modeling therefore always inputs the centres of the galaxies as fixed values. In this example, we\n",
        "use a simulated dataset where the centres of the galaxies are known perfectly.\n",
        "\n",
        "In a real analysis, one must determine the centres of the galaxies before modeling them with a scaling relation.\n",
        "There are a number of ways to do this:\n",
        "\n",
        " - Use image processing software like Source Extractor (https://sextractor.readthedocs.io/en/latest/).\n",
        "\n",
        " - Fit every galaxy individually with a parametric light profile (e.g. an `Sersic`).\n",
        "\n",
        " - Use a moment's based analysis of the data.\n",
        "\n",
        "For certain strong lenses all of the above approaches may be challenging, because the light of each galaxy may be\n",
        "blended with the lensed source's emission. This may motivate simultaneous fitting of the lensed source and galaxies.\n",
        "\n",
        "__Redshifts__\n",
        "\n",
        "In this example all line of sight galaxies are at the same redshift as the lens galaxy, meaning multi-plane lensing\n",
        "is not used.\n",
        "\n",
        "If you have redshift information on the line of sight galaxies and some of their redshifts are different to the lens\n",
        "galaxy, you can easily extend this example below to perform multi-plane lensing.\n",
        "\n",
        "You would simply define a `redshift_list` and use this to set up the extra `Galaxy` redshifts.\n",
        "\n",
        "__Extra Galaxies API__\n",
        "\n",
        "**PyAutoLens** refers to all galaxies surrounded the strong lens as `extra_galaxies`, with the modeling API extended\n",
        "to model them.\n",
        "\n",
        "The galaxies (and their parameters) included via a scaling relation are therefore prefixed with `extra_galaxy_` to \n",
        "distinguish them from the lens galaxy and source galaxy, and in the model they are separate from the `galaxies` and \n",
        "use their own `extra_galaxies` collection."
      ]
    },
    {
      "cell_type": "code",
      "metadata": {},
      "source": [
        "%matplotlib inline\n",
        "from pyprojroot import here\n",
        "workspace_path = str(here())\n",
        "%cd $workspace_path\n",
        "print(f\"Working Directory has been set to `{workspace_path}`\")\n",
        "\n",
        "from os import path\n",
        "import autofit as af\n",
        "import autolens as al\n",
        "import autolens.plot as aplt\n",
        "\n",
        "output = aplt.Output(path=\".\", format=\"png\")"
      ],
      "outputs": [],
      "execution_count": null
    },
    {
      "cell_type": "markdown",
      "metadata": {},
      "source": [
        "__Dataset__\n",
        "\n",
        "First, lets load a strong lens dataset, which is a simulated group scale lens with 2 galaxies surrounding the\n",
        "lensed source.\n",
        "\n",
        "These three galaxies will be modeled using a scaling relation."
      ]
    },
    {
      "cell_type": "code",
      "metadata": {},
      "source": [
        "dataset_name = \"lens_x3__source_x1\"\n",
        "dataset_path = path.join(\"dataset\", \"group\", dataset_name)\n",
        "\n",
        "dataset = al.Imaging.from_fits(\n",
        "    data_path=path.join(dataset_path, \"data.fits\"),\n",
        "    noise_map_path=path.join(dataset_path, \"noise_map.fits\"),\n",
        "    psf_path=path.join(dataset_path, \"psf.fits\"),\n",
        "    pixel_scales=0.1,\n",
        ")\n",
        "\n",
        "dataset_plotter = aplt.ImagingPlotter(dataset=dataset)\n",
        "dataset_plotter.subplot_dataset()"
      ],
      "outputs": [],
      "execution_count": null
    },
    {
      "cell_type": "markdown",
      "metadata": {},
      "source": [
        "__Centres__\n",
        "\n",
        "Before composing our scaling relation model, we need to define the centres of the galaxies. \n",
        "\n",
        "In this example, we know these centres perfectly from the simulated dataset. In a real analysis, we would have to\n",
        "determine these centres beforehand (see discussion above)."
      ]
    },
    {
      "cell_type": "code",
      "metadata": {},
      "source": [
        "extra_galaxies_centre_list = [(3.5, 2.5), (-4.4, -5.0)]"
      ],
      "outputs": [],
      "execution_count": null
    },
    {
      "cell_type": "markdown",
      "metadata": {},
      "source": [
        "We can plot the centres over the strong lens dataset to check that they look like reasonable values."
      ]
    },
    {
      "cell_type": "code",
      "metadata": {},
      "source": [
        "visuals = aplt.Visuals2D(\n",
        "    light_profile_centres=al.Grid2DIrregular(values=extra_galaxies_centre_list)\n",
        ")\n",
        "\n",
        "dataset_plotter = aplt.ImagingPlotter(\n",
        "    dataset=dataset, visuals_2d=visuals, mat_plot_2d=aplt.MatPlot2D(output=output)\n",
        ")\n",
        "dataset_plotter.subplot_dataset()"
      ],
      "outputs": [],
      "execution_count": null
    },
    {
      "cell_type": "markdown",
      "metadata": {},
      "source": [
        "__Luminosities__\n",
        "\n",
        "We also need the luminosity of each galaxy, which in this example is the measured property we relate to mass via\n",
        "the scaling relation.\n",
        "\n",
        "We again uses the true values of the luminosities from the simulated dataset, but in a real analysis we would have\n",
        "to determine these luminosities beforehand (see discussion above).\n",
        "\n",
        "This could be other measured properties, like stellar mass or velocity dispersion."
      ]
    },
    {
      "cell_type": "code",
      "metadata": {},
      "source": [
        "extra_galaxies_luminosity_list = [0.9, 0.9]"
      ],
      "outputs": [],
      "execution_count": null
    },
    {
      "cell_type": "markdown",
      "metadata": {},
      "source": [
        "__dPIE__\n",
        "\n",
        "The dPIE is not yet implemented in the source code so I am copy and pasting it in here below.\n",
        "\n",
        "This part of the example will be removed, once its in the source code."
      ]
    },
    {
      "cell_type": "code",
      "metadata": {},
      "source": [
        "from typing import Tuple\n",
        "import numpy as np\n",
        "\n",
        "import autoarray as aa\n",
        "from autogalaxy.profiles.mass.abstract.abstract import MassProfile\n",
        "\n",
        "\n",
        "class dPIESph(MassProfile):\n",
        "    \"\"\"\n",
        "    The dual Pseudo-Isothermal Elliptical mass distribution introduced in\n",
        "    Eliasdottir 2007: https://arxiv.org/abs/0710.5636\n",
        "\n",
        "    This version is without ellipticity, so perhaps the \"E\" is a misnomer.\n",
        "\n",
        "    Corresponds to a projected density profile that looks like:\n",
        "\n",
        "        \\\\Sigma(R) = \\\\Sigma_0 (ra * rs) / (rs - ra) *\n",
        "                      (1 / \\\\sqrt(ra^2 + R^2) - 1 / \\\\sqrt(rs^2 + R^2))\n",
        "\n",
        "    (c.f. Eliasdottir '07 eqn. A3)\n",
        "\n",
        "    In this parameterization, ra and rs are the scale radii above in angular\n",
        "    units (arcsec). The parameter is \\\\Sigma_0 / \\\\Sigma_crit.\n",
        "    \"\"\"\n",
        "\n",
        "    def __init__(\n",
        "        self,\n",
        "        centre: Tuple[float, float] = (0.0, 0.0),\n",
        "        ra: float = 0.1,\n",
        "        rs: float = 2.0,\n",
        "        sigma_scale: float = 0.1,\n",
        "    ):\n",
        "        super(MassProfile, self).__init__(centre, (0.0, 0.0))\n",
        "        self.ra = ra\n",
        "        self.rs = rs\n",
        "        self.sigma_scale = sigma_scale\n",
        "\n",
        "    @aa.grid_dec.to_vector_yx\n",
        "    @aa.grid_dec.transform\n",
        "    @aa.grid_dec.relocate_to_radial_minimum\n",
        "    def deflections_yx_2d_from(self, grid: aa.type.Grid2DLike, **kwargs):\n",
        "        ys, xs = grid.T\n",
        "        (ycen, xcen) = self.centre\n",
        "        xoff, yoff = xs - xcen, ys - ycen\n",
        "        radii = np.sqrt(xoff**2 + yoff**2)\n",
        "\n",
        "        r_ra = radii / self.ra\n",
        "        r_rs = radii / self.rs\n",
        "        # c.f. Eliasdottir '07 eq. A20\n",
        "        f = r_ra / (1 + np.sqrt(1 + r_ra * r_ra)) - r_rs / (\n",
        "            1 + np.sqrt(1 + r_rs * r_rs)\n",
        "        )\n",
        "\n",
        "        ra, rs = self.ra, self.rs\n",
        "        # c.f. Eliasdottir '07 eq. A19\n",
        "        # magnitude of deflection\n",
        "        alpha = 2 * self.sigma_scale * ra * rs / (rs - ra) * f\n",
        "\n",
        "        # now we decompose the deflection into y/x components\n",
        "        defl_y = alpha * yoff / radii\n",
        "        defl_x = alpha * xoff / radii\n",
        "        return aa.Grid2DIrregular.from_yx_1d(defl_y, defl_x)\n",
        "\n",
        "    @aa.grid_dec.to_array\n",
        "    @aa.grid_dec.transform\n",
        "    @aa.grid_dec.relocate_to_radial_minimum\n",
        "    def convergence_2d_from(self, grid: aa.type.Grid2DLike, **kwargs):\n",
        "        # already transformed to center on profile centre so this works\n",
        "        radsq = grid[:, 0] ** 2 + grid[:, 1] ** 2\n",
        "        a, s = self.ra, self.rs\n",
        "        # c.f. Eliasdottir '07 eqn (A3)\n",
        "        return (\n",
        "            self.sigma_scale\n",
        "            * (a * s)\n",
        "            / (s - a)\n",
        "            * (1 / np.sqrt(a**2 + radsq) - 1 / np.sqrt(s**2 + radsq))\n",
        "        )\n",
        "\n",
        "    @aa.grid_dec.to_array\n",
        "    def potential_2d_from(self, grid: aa.type.Grid2DLike, **kwargs):\n",
        "        return np.zeros(shape=grid.shape[0])\n"
      ],
      "outputs": [],
      "execution_count": null
    },
    {
      "cell_type": "markdown",
      "metadata": {},
      "source": [
        "__Scaling Relation__\n",
        "\n",
        "We now compose our scaling relation models, using **PyAutoFits** relational model API, which works as follows:\n",
        "\n",
        "- Define the free parameters of the scaling relation using priors (note how the priors below are outside the for loop,\n",
        "  meaning that every extra galaxy is associated with the same scailng relation prior and therefore parameters).\n",
        "\n",
        "- For every extra galaxy centre and lumnosity, create a model mass profile (using `af.Model(dPIESph)`), where the centre\n",
        "  of the mass profile is the extra galaxy centres and its other parameters are set via the scaling relation priors.\n",
        "  \n",
        "- Make each extra galaxy a model galaxy (via `af.Model(Galaxy)`) and associate it with the model mass profile, where the\n",
        "  redshifts of the extra galaxies are set to the same values as the lens galaxy."
      ]
    },
    {
      "cell_type": "code",
      "metadata": {},
      "source": [
        "ra_star = af.LogUniformPrior(lower_limit=1e8, upper_limit=1e11)\n",
        "rs_star = af.UniformPrior(lower_limit=-1.0, upper_limit=1.0)\n",
        "sigma_star = af.LogUniformPrior(lower_limit=1e5, upper_limit=1e7)\n",
        "luminosity_star = 1e9\n",
        "\n",
        "extra_galaxies_list = []\n",
        "\n",
        "for extra_galaxy_centre, extra_galaxy_luminosity in zip(\n",
        "    extra_galaxies_centre_list, extra_galaxies_luminosity_list\n",
        "):\n",
        "    mass = af.Model(dPIESph)\n",
        "    mass.centre = extra_galaxy_centre\n",
        "    mass.ra = ra_star * (extra_galaxy_luminosity / luminosity_star) ** 0.5\n",
        "    mass.rs = rs_star * (extra_galaxy_luminosity / luminosity_star) ** 0.5\n",
        "    mass.sigma_scale = sigma_star * (extra_galaxy_luminosity / luminosity_star) ** 0.25\n",
        "\n",
        "    extra_galaxy = af.Model(al.Galaxy, redshift=0.5, mass=mass)\n",
        "\n",
        "    extra_galaxies_list.append(extra_galaxy)"
      ],
      "outputs": [],
      "execution_count": null
    },
    {
      "cell_type": "markdown",
      "metadata": {},
      "source": [
        "__Model__\n",
        "\n",
        "We compose the overall lens model using the normal API."
      ]
    },
    {
      "cell_type": "code",
      "metadata": {},
      "source": [
        "\n",
        "# Lens:\n",
        "\n",
        "bulge = af.Model(al.lp.SersicSph)\n",
        "\n",
        "mass = af.Model(al.mp.IsothermalSph)\n",
        "\n",
        "lens = af.Model(al.Galaxy, redshift=0.5, bulge=bulge, mass=mass)\n",
        "\n",
        "# Source:\n",
        "\n",
        "source = af.Model(al.Galaxy, redshift=1.0, bulge=al.lp.SersicCore)"
      ],
      "outputs": [],
      "execution_count": null
    },
    {
      "cell_type": "markdown",
      "metadata": {},
      "source": [
        "When creating the overall model, we include the extra galaxies as a separate collection of galaxies.\n",
        "\n",
        "This is not strictly necessary (e.g. if we input them into the `galaxies` attribute of the model the code would still\n",
        "function correctly).\n",
        "\n",
        "However, to ensure results are easier to interpret we keep them separate."
      ]
    },
    {
      "cell_type": "code",
      "metadata": {},
      "source": [
        "model = af.Collection(\n",
        "    galaxies=af.Collection(lens=lens, source=source)\n",
        "    + af.Collection(extra_galaxies_list),\n",
        ")"
      ],
      "outputs": [],
      "execution_count": null
    },
    {
      "cell_type": "markdown",
      "metadata": {},
      "source": [
        "The `model.info` shows the model we have composed.\n",
        "\n",
        "The priors and values of parameters that are set via scaling relations can be seen in the printed info.\n",
        "\n",
        "The number of free parameters is N=16, which breaks down as follows:\n",
        "\n",
        " - 4 for the lens galaxy's `SersicSph` bulge.\n",
        " - 3 for the lens galaxy's `IsothermalSph` mass.\n",
        " - 6 for the source galaxy's `Sersic` bulge.\n",
        " - 3 for the scaling relation parameters.\n",
        " \n",
        "Had we modeled both extra galaxies independently as dPIE profiles, we would of had 6 parameters per extra galaxy, \n",
        "giving N=19. Furthermore, by using scaling relations we can add more extra galaxies to the model without increasing the \n",
        "number of free parameters. "
      ]
    },
    {
      "cell_type": "code",
      "metadata": {},
      "source": [
        "print(model.info)"
      ],
      "outputs": [],
      "execution_count": null
    },
    {
      "cell_type": "markdown",
      "metadata": {},
      "source": [
        "__Model Fit__\n",
        "\n",
        "We now perform the usual steps to perform a model-fit, to see our scaling relation based fit in action!"
      ]
    },
    {
      "cell_type": "code",
      "metadata": {},
      "source": [
        "mask = al.Mask2D.circular(\n",
        "    shape_native=dataset.shape_native, pixel_scales=dataset.pixel_scales, radius=9.0\n",
        ")\n",
        "\n",
        "dataset = dataset.apply_mask(mask=mask)\n",
        "\n",
        "search = af.Nautilus(\n",
        "    path_prefix=path.join(\"imaging\", \"modeling\"),\n",
        "    name=\"scaling_relation\",\n",
        "    unique_tag=dataset_name,\n",
        "    n_live=150,\n",
        "    number_of_cores=4,\n",
        "    iterations_per_update=10000,\n",
        ")\n",
        "\n",
        "analysis = al.AnalysisImaging(dataset=dataset)\n",
        "\n",
        "result = search.fit(model=model, analysis=analysis)"
      ],
      "outputs": [],
      "execution_count": null
    },
    {
      "cell_type": "markdown",
      "metadata": {},
      "source": [
        "__Wrap Up__\n",
        "\n",
        "This example has shown how to use **PyAutoLens**'s scaling relation API to model a strong lens. \n",
        "\n",
        "We have seen how by measuring the centres and luminosities of galaxies (referred to as extra galaxies) surrounding the \n",
        "lens galaxy, we can use scaling relations to define their mass profiles. This reduces the number of free parameters in \n",
        "the lens model, because we only need to infer the scaling relation parameters, rather than the individual parameters of\n",
        "each extra galaxy.\n",
        "\n",
        "The API shown in this script is highly flexible and you should have no problem adapting it use any scaling relation\n",
        "you wish to use in your own strong lens models! "
      ]
    },
    {
      "cell_type": "code",
      "metadata": {},
      "source": [],
      "outputs": [],
      "execution_count": null
    }
  ],
  "metadata": {
    "anaconda-cloud": {},
    "kernelspec": {
      "display_name": "Python 3",
      "language": "python",
      "name": "python3"
    },
    "language_info": {
      "codemirror_mode": {
        "name": "ipython",
        "version": 3
      },
      "file_extension": ".py",
      "mimetype": "text/x-python",
      "name": "python",
      "nbconvert_exporter": "python",
      "pygments_lexer": "ipython3",
      "version": "3.6.1"
    }
  },
  "nbformat": 4,
  "nbformat_minor": 4
}