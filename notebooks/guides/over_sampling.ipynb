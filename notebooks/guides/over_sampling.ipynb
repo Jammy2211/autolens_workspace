{
  "cells": [
    {
      "cell_type": "markdown",
      "metadata": {},
      "source": [
        "Over Sampling\n",
        "=============\n",
        "\n",
        "Throughout the workspace, we have created 2D grids of (y,x) coordinates and input them into light profiles to\n",
        "compute their image.\n",
        "\n",
        "This calculates how much of the light profile's emission is observed with every 2D pixel defined on the grid.\n",
        "\n",
        "However, there is a problem. If we only input the (y,x) coordinates at the centre of every pixel, we are not\n",
        "evaluating how the entire light profile is observed within that pixel. If the light profile has a very steep gradient\n",
        "in intensity from one edge of the pixel to the other, only evaluating the intensity at the centre of the pixel will\n",
        "not give an accurate estimate of the total amount of light that falls within that pixel.\n",
        "\n",
        "Over-sampling addresses this problem. Instead of evaluating the light profile at the centre of every pixel, we\n",
        "evaluate it using a sub-grid of coordinates within every pixel and take the average of the intensity values.\n",
        "Provided the sub-grid is high enough resolution that it \"over-samples\" the light profile within the pixel enough, this\n",
        "will give an accurate estimate of the total intensity within the pixel.\n",
        "\n",
        "__Default Over-Sampling__\n",
        "\n",
        "Examples throughout the workspace use a default over-sampling set up that should ensure accurate results for any\n",
        "analysis you have done. This default over-sampling is as follows:\n",
        "\n",
        "- When evaluating the image of the foreground lens galaxy, an adaptive over sampling grid is used which uses sub\n",
        "grids of size 32 x 32 in the central regions of the image, 4x4 further out and 2x2 beyond that.\n",
        "\n",
        "- When evaluating the image of the source galaxy, no over-sampling (e.g. a 1 x 1 subgrid) is performed but instead\n",
        "cored light profiles for the source are used which can be evaluated accurate without over-sampling.\n",
        "\n",
        "This guide will explain why these choices were made for the default over-sampling behaviour.\n",
        "\n",
        "__Plot Module__\n",
        "\n",
        "This example uses the plot module to plot the results, including `Plotter` objects that make\n",
        "the figures and `MatPlot` objects that wrap matplotlib to customize the figures.\n",
        "\n",
        "The visualization API is straightforward but is explained in the `autolens_workspace/*/plot` package in full.\n",
        "This includes detailed guides on how to customize every aspect of the figures, which can easily be combined with the\n",
        "code outlined in this tutorial."
      ]
    },
    {
      "cell_type": "code",
      "metadata": {},
      "source": [
        "%matplotlib inline\n",
        "from pyprojroot import here\n",
        "workspace_path = str(here())\n",
        "%cd $workspace_path\n",
        "print(f\"Working Directory has been set to `{workspace_path}`\")\n",
        "\n",
        "from os import path\n",
        "import autolens as al\n",
        "import autolens.plot as aplt"
      ],
      "outputs": [],
      "execution_count": null
    },
    {
      "cell_type": "markdown",
      "metadata": {},
      "source": [
        "__Illustration__\n",
        "\n",
        "To illustrate over sampling, lets first create a uniform grid which does not over-sample the pixels, using \n",
        "the `over_sampling` input.\n",
        "\n",
        "We input an `OverSamplingUniform` object, which for every pixel on the grid over-samples it using a uniform sub-grid \n",
        "with dimensions specified by the input `sub_size`. \n",
        "\n",
        "For example, the input below uses `sub_size=1`, therefore each pixel is split into a sub-grid of size \n",
        "`sub_size x sub_size` = `1 x 1`. This is equivalent to not over-sampling the grid at all.  "
      ]
    },
    {
      "cell_type": "code",
      "metadata": {},
      "source": [
        "grid_sub_1 = al.Grid2D.uniform(\n",
        "    shape_native=(40, 40),\n",
        "    pixel_scales=0.1,\n",
        "    over_sampling=al.OverSamplingUniform(sub_size=1),\n",
        ")"
      ],
      "outputs": [],
      "execution_count": null
    },
    {
      "cell_type": "markdown",
      "metadata": {},
      "source": [
        "We now plot the grid, over laying a uniform grid of pixels to illustrate the area of each pixel within which we\n",
        "want light profile intensities to be computed."
      ]
    },
    {
      "cell_type": "code",
      "metadata": {},
      "source": [
        "mat_plot = aplt.MatPlot2D(title=aplt.Title(label=\"Grid Without Over-Sampling\"))\n",
        "\n",
        "grid_plotter = aplt.Grid2DPlotter(grid=grid_sub_1, mat_plot_2d=mat_plot)\n",
        "grid_plotter.figure_2d(plot_grid_lines=True)"
      ],
      "outputs": [],
      "execution_count": null
    },
    {
      "cell_type": "markdown",
      "metadata": {},
      "source": [
        "We now create and plot a uniform grid which does over-sample the pixels, using a `sub_size` of 2.\n",
        "\n",
        "The image shows that each pixel is now split into a 2x2 sub-grid of coordinates, which will be used to compute the\n",
        "intensity of the light profile and therefore more accurately estimate the total intensity within each pixel if \n",
        "there is a significant gradient in intensity within the pixel."
      ]
    },
    {
      "cell_type": "code",
      "metadata": {},
      "source": [
        "grid_sub_2 = al.Grid2D.uniform(\n",
        "    shape_native=(40, 40),\n",
        "    pixel_scales=0.1,\n",
        "    over_sampling=al.OverSamplingUniform(sub_size=2),\n",
        ")\n",
        "\n",
        "mat_plot = aplt.MatPlot2D(title=aplt.Title(label=\"Grid With 2x2 Over-Sampling\"))\n",
        "\n",
        "grid_plotter = aplt.Grid2DPlotter(grid=grid_sub_2, mat_plot_2d=mat_plot)\n",
        "grid_plotter.figure_2d(plot_grid_lines=True, plot_over_sampled_grid=True)\n",
        "\n",
        "print(grid_sub_1)\n",
        "print(grid_sub_2.over_sampler.over_sampled_grid)"
      ],
      "outputs": [],
      "execution_count": null
    },
    {
      "cell_type": "markdown",
      "metadata": {},
      "source": [
        "__Numerics__\n",
        "\n",
        "Lets quickly check how the sub-grid is defined and stored numerically.\n",
        "\n",
        "The first four pixels of this sub-grid correspond to the first four sub-pixels in the first pixel of the grid. \n",
        "\n",
        "The top-left pixel image above shows how the sub-pixels are spaced within the pixel. \n",
        "\n",
        "The `grid_sub_2` object has the same shape as the `grid_sub_1` object, and its coordinates are identical. The \n",
        "`grid_sub_2` object therefore does not naturally store the sub-pixel coordinates:"
      ]
    },
    {
      "cell_type": "code",
      "metadata": {},
      "source": [
        "print(\"(y,x) pixel 0 of grid_sub_1:\")\n",
        "print(grid_sub_1[0])\n",
        "print(\"(y,x) pixel 0 of grid_sub_2:\")\n",
        "print(grid_sub_2[0])"
      ],
      "outputs": [],
      "execution_count": null
    },
    {
      "cell_type": "markdown",
      "metadata": {},
      "source": [
        "To numerically access the sub-pixel coordinates, we use the `over_sampler.over_sampled_grid` property of the grid,\n",
        "which uses the input `sub_size` to create a grid with the sub-pixel coordinates.\n",
        "\n",
        "We use this below and show that the grid created, has a shape of (400, 2), where the 400 corresponds to the 20x20\n",
        "sub-pixels of the original 10x10 grid.\n",
        "\n",
        "Notably, the grid is not stored in its native shape of (20, 20, 2) but instead as a 1D array of shape (400, 2).\n",
        "Below, we will explain why this is the case."
      ]
    },
    {
      "cell_type": "code",
      "metadata": {},
      "source": [
        "over_sampled_grid = grid_sub_2.over_sampler.over_sampled_grid\n",
        "\n",
        "print(\"Over-sampled grid shape:\")\n",
        "print(over_sampled_grid.shape)"
      ],
      "outputs": [],
      "execution_count": null
    },
    {
      "cell_type": "markdown",
      "metadata": {},
      "source": [
        "We now confirm that the first four sub-pixels of the over-sampled grid correspond are contained within the \n",
        "first pixel of the grid."
      ]
    },
    {
      "cell_type": "code",
      "metadata": {},
      "source": [
        "print(\"(y,x) pixel 0 (of original grid):\")\n",
        "print(grid_sub_2[0])\n",
        "print(\"(y,x) sub-pixel 0 (of pixel 0):\")\n",
        "print(over_sampled_grid[0])\n",
        "print(\"(y,x) sub-pixel 1 (of pixel 0):\")\n",
        "print(over_sampled_grid[1])\n",
        "print(\"(y,x) sub-pixel 2 (of pixel 0):\")\n",
        "print(over_sampled_grid[2])\n",
        "print(\"(y,x) sub-pixel 3 (of pixel 0):\")\n",
        "print(over_sampled_grid[3])"
      ],
      "outputs": [],
      "execution_count": null
    },
    {
      "cell_type": "markdown",
      "metadata": {},
      "source": [
        "Numerically, the over-sampled grid contains the sub-pixel coordinates of every pixel in the grid, going from the \n",
        "first top-left pixel right and downwards to the bottom-right pixel. \n",
        "\n",
        "So the pixel to the right of the first pixel is the next 4 sub-pixels in the over-sampled grid, and so on.\n",
        "\n",
        "__Images__\n",
        "\n",
        "We now use over-sampling to compute the image of a Sersic light profile, which has a steep intensity gradient\n",
        "at its centre which a lack of over-sampling does not accurately capture.\n",
        "\n",
        "We create the light profile, input the two grids (with `sub_size=1` and `sub_size=2`) and compute the image of the\n",
        "light profile using each grid. We then plot the residuals between the two images in order to show the difference\n",
        "between the two images and thus why over-sampling is important."
      ]
    },
    {
      "cell_type": "code",
      "metadata": {},
      "source": [
        "light = al.lp.Sersic(\n",
        "    centre=(0.0, 0.0),\n",
        "    ell_comps=(0.0, 0.0),\n",
        "    intensity=1.0,\n",
        "    effective_radius=0.2,\n",
        "    sersic_index=3.0,\n",
        ")\n",
        "\n",
        "image_sub_1 = light.image_2d_from(grid=grid_sub_1)\n",
        "image_sub_2 = light.image_2d_from(grid=grid_sub_2)\n",
        "\n",
        "plotter = aplt.Array2DPlotter(\n",
        "    array=image_sub_1,\n",
        ")\n",
        "plotter.set_title(\"Image of Serisc Profile\")\n",
        "plotter.figure_2d()\n",
        "\n",
        "residual_map = image_sub_2 - image_sub_1\n",
        "\n",
        "plotter = aplt.Array2DPlotter(\n",
        "    array=residual_map,\n",
        ")\n",
        "plotter.set_title(\"Residuals Due to Lack of Over-Sampling\")\n",
        "plotter.figure_2d()\n"
      ],
      "outputs": [],
      "execution_count": null
    },
    {
      "cell_type": "markdown",
      "metadata": {},
      "source": [
        "In the central 4 pixels of the image, the residuals are large due to the steep intensity gradient of the Sersic\n",
        "profile at its centre. \n",
        "\n",
        "The gradient in these pixels is so steep that evaluating the intensity at the centre of the pixel, without over \n",
        "sampling, does not accurately capture the total intensity within the pixel.\n",
        "\n",
        "At the edges of the image, the residuals are very small, as the intensity gradient of the Sersic profile is very \n",
        "shallow and it is an accurate approximation to evaluate the intensity at the centre of the pixel.\n",
        "\n",
        "The absolute value of the central residuals are 0.74, however it is difficult to assess whether this is a large or\n",
        "small value. We can quantify this by dividing by the evaluated value of the Sersic image in each pixel in order\n",
        "to compute the fractional residuals."
      ]
    },
    {
      "cell_type": "code",
      "metadata": {},
      "source": [
        "fractional_residual_map = residual_map / image_sub_2\n",
        "\n",
        "plotter = aplt.Array2DPlotter(\n",
        "    array=fractional_residual_map,\n",
        ")\n",
        "plotter.set_title(\"Fractional Residuals Due to Lack of Over-Sampling\")\n",
        "\n",
        "plotter.figure_2d()"
      ],
      "outputs": [],
      "execution_count": null
    },
    {
      "cell_type": "markdown",
      "metadata": {},
      "source": [
        "The fractional residuals in the centre exceed 0.1, or 10%, which is a significant error in the image and\n",
        "demonstrates why over-sampling is important.\n",
        "\n",
        "Lets confirm sub-griding can converge to central residuals that are very small.\n",
        "\n",
        "The fractional residuals with high levels of over-sampling are below 0.01, or 1%, which is sufficiently accurate\n",
        "for most scientific purposes (albeit you should think carefully about the level of over-sampling you need for\n",
        "your specific science case)."
      ]
    },
    {
      "cell_type": "code",
      "metadata": {},
      "source": [
        "grid_sub_16 = al.Grid2D.uniform(\n",
        "    shape_native=(40, 40),\n",
        "    pixel_scales=0.1,\n",
        "    over_sampling=al.OverSamplingUniform(sub_size=16),\n",
        ")\n",
        "grid_sub_32 = al.Grid2D.uniform(\n",
        "    shape_native=(40, 40),\n",
        "    pixel_scales=0.1,\n",
        "    over_sampling=al.OverSamplingUniform(sub_size=32),\n",
        ")\n",
        "\n",
        "image_sub_16 = light.image_2d_from(grid=grid_sub_16)\n",
        "image_sub_32 = light.image_2d_from(grid=grid_sub_32)\n",
        "\n",
        "residual_map = image_sub_32 - image_sub_16\n",
        "\n",
        "plotter = aplt.Array2DPlotter(\n",
        "    array=residual_map,\n",
        ")\n",
        "plotter.set_title(\"Over-Sampling Reduces Residuals\")\n",
        "plotter.figure_2d()\n",
        "\n",
        "fractional_residual_map = residual_map / image_sub_32\n",
        "\n",
        "plotter = aplt.Array2DPlotter(\n",
        "    array=fractional_residual_map,\n",
        ")\n",
        "plotter.set_title(\"Fractional Residuals With Over-Sampling\")\n",
        "plotter.figure_2d()"
      ],
      "outputs": [],
      "execution_count": null
    },
    {
      "cell_type": "markdown",
      "metadata": {},
      "source": [
        "__Iterative Over-Sampling__\n",
        "\n",
        "We have shown that over-sampling is important for accurate image evaluation. However, there is a major drawback to\n",
        "over-sampling, which is that it is computationally expensive. \n",
        "\n",
        "For example, for the 32x32 over-sampled grid above, 1024 sub-pixels are used in every pixel, which must all be \n",
        "evaluated using the Sersic light profile. The calculation of the image is therefore at least 1000 times slower than if\n",
        "we had not used over-sampling.\n",
        "\n",
        "Speeding up the calculation is crucial for model-fitting where the image is evaluated many times to fit the\n",
        "model to the data.\n",
        "\n",
        "Fortunately, there is an obvious solution to this problem. We saw above that the residuals rapidly decrease away\n",
        "from the centre of the light profile. Therefore, we only need to over-sample the central regions of the image,\n",
        "where the intensity gradient is steep, and can use much lower levels of over-sampling away from the centre.\n",
        "\n",
        "The `OverSamplingIterate` object performs this iterative over-sampling by performing the following steps:\n",
        "\n",
        " 1) It computes the image using a low level of over-sampling (e.g. `sub_size=1`).\n",
        " 2) It computes another image using a user input higher level of over-sampling (e.g. `sub_size=2`).\n",
        " 3) It computes the fractional residuals between the two images.\n",
        " 4) If the fractional residuals are above a threshold input by the user, it increases the level of over-sampling\n",
        "    in only those pixels where the residuals are above the threshold.\n",
        " 5) It then repeats this process using higher and higher levels of over-sampling in pixels which have not met the\n",
        "    accuracy threshold, until all pixels do or the user-defined maximum level of over-sampling is reached.\n",
        "\n",
        "This object is used throughout the workspace to simulate images of galaxies in the `simulators` package\n",
        "\n",
        "We now use this object and confirm that it can compute the image of the Sersic profile accurately by comparing\n",
        "to the image computed using a 32x32 degree of over-sampling.\n",
        "\n",
        "The object has the following inputs:\n",
        "\n",
        " - `fractional_accuracy`: The fractional accuracy threshold the iterative over-sampling aims to meet. The value of\n",
        "    0.9999 means that the fractional residuals in every pixel must be below 0.0001, or 0.01%.\n",
        " \n",
        "  - `sub_steps`: The sub-size values that are iteratively increased which control the level of over-sampling used to\n",
        "    compute the image."
      ]
    },
    {
      "cell_type": "code",
      "metadata": {},
      "source": [
        "grid_iterate = al.Grid2D.uniform(\n",
        "    shape_native=(40, 40),\n",
        "    pixel_scales=0.1,\n",
        "    over_sampling=al.OverSamplingIterate(\n",
        "        fractional_accuracy=0.9999, sub_steps=[2, 4, 8, 16]\n",
        "    ),\n",
        ")\n",
        "\n",
        "image_iterate = light.image_2d_from(grid=grid_iterate)\n",
        "\n",
        "residual_map = image_sub_32 - image_iterate\n",
        "\n",
        "fractional_residual_map = residual_map / image_sub_32\n",
        "\n",
        "plotter = aplt.Array2DPlotter(\n",
        "    array=fractional_residual_map,\n",
        ")\n",
        "plotter.set_title(\"Fractional Residuals Using Iterative Over-Sampling\")\n",
        "plotter.figure_2d()"
      ],
      "outputs": [],
      "execution_count": null
    },
    {
      "cell_type": "markdown",
      "metadata": {},
      "source": [
        "The fractional residuals are below 0.01% in every pixel, showing that the `OverSamplingIterate` object has\n",
        "accurately computed the image of the Sersic profile.\n",
        "\n",
        "__Manual Adaptive Grid__\n",
        "\n",
        "The iterative over-sampling is a powerful tool, but it is still computationally expensive. This is because it\n",
        "has to evaluate the light profile image many times at increasing levels of over-sampling until the fractional\n",
        "residuals are below the threshold.\n",
        "\n",
        "For modeling, where the image is evaluated many times to fit the model to the data, this is not ideal. A faster\n",
        "approach which reap the benefits of over-sampling is to manually define a grid which over-samples the regions of\n",
        "the image where the intensity gradient is expected steep, and uses low levels of over-sampling elsewhere.\n",
        "\n",
        "For an unlensed galaxy (e.g. the foreground lens galaxy), this is simple. The intensity gradient is known to be steep \n",
        "at its centre, therefore we just require a high level of over-sampling at its centre.\n",
        "\n",
        "Below, we define a grid which uses a 24 x 24 sub-grid within the central 0.3\" of pixels, uses a 8 x 8 grid between\n",
        "0.3\" and 0.6\" and a 2 x 2 grid beyond that. By comparing this manual adaptive grid to the iterative over-sampling\n",
        "grid, we can confirm that the adaptive grid provides a good balance between accuracy and computational efficiency.\n",
        "\n",
        "Modeling uses masked grids, therefore the grid we use below is computed via a circular mask.\n",
        "\n",
        "Throughout the modeling examples in the workspace, we use this adaptive grid to ensure that the image of the lens\n",
        "galaxy is evaluated accurately and efficiently."
      ]
    },
    {
      "cell_type": "code",
      "metadata": {},
      "source": [
        "mask = al.Mask2D.circular(shape_native=(40, 40), pixel_scales=0.1, radius=5.0)\n",
        "\n",
        "grid = al.Grid2D.from_mask(mask=mask)\n",
        "\n",
        "grid_adaptive = al.Grid2D(\n",
        "    values=grid,\n",
        "    mask=mask,\n",
        "    over_sampling=al.OverSamplingUniform.from_radial_bins(\n",
        "        grid=grid, sub_size_list=[32, 8, 2], radial_list=[0.3, 0.6]\n",
        "    ),\n",
        ")\n",
        "\n",
        "mat_plot = aplt.MatPlot2D(title=aplt.Title(label=\"Grid With Adaptive Over-Sampling\"))\n",
        "\n",
        "grid_plotter = aplt.Grid2DPlotter(grid=grid_adaptive, mat_plot_2d=mat_plot)\n",
        "grid_plotter.figure_2d(plot_grid_lines=True, plot_over_sampled_grid=True)\n",
        "\n",
        "image_adaptive = light.image_2d_from(grid=grid_adaptive)\n",
        "image_sub_32 = light.image_2d_from(grid=grid_sub_32)\n",
        "\n",
        "residual_map = image_adaptive - image_sub_32\n",
        "\n",
        "fractional_residual_map = residual_map / image_sub_32\n",
        "\n",
        "plotter = aplt.Array2DPlotter(\n",
        "    array=fractional_residual_map,\n",
        ")\n",
        "plotter.set_title(\"Adaptive Over-Sampling Residuals\")\n",
        "plotter.figure_2d()"
      ],
      "outputs": [],
      "execution_count": null
    },
    {
      "cell_type": "markdown",
      "metadata": {},
      "source": [
        "__Default Over-Sampling__\n",
        "\n",
        "The iterative over-sampling used above is accurate, but it is computationally expensive and not ideal\n",
        "for tasks like lens modeling which require the image to be evaluated many times.\n",
        "\n",
        "The default over-sampling (e.g. if you do not manually input an over-sampling object) is created as follows:\n",
        "\n",
        " 1) Extract the centre of the light or mass profiles being evaluated (a value of (0.5\", 0.5\") is used below).\n",
        " 2) Use the name of the light or mass profile to load pre defined over sampling values from `config/grid.yaml`.\n",
        " 3) Use these values to set up an adaptive over-sampling grid around the profile centre, which by default contains 3 \n",
        "    sub-size levels, a 32 x 32 sub-grid in the central regions, a 4 x 4 sub-grid further out and a 2 x 2 sub-grid \n",
        "    beyond that.\n",
        "\n",
        "This default behaviour occurs whenever a light or mass profile is evaluated using a grid, and therefore you can be \n",
        "confident that all calculations you have performed are over-sampled accurately and efficiently.\n",
        "\n",
        "We illustrate and plot this default adaptive over sampling grid below."
      ]
    },
    {
      "cell_type": "code",
      "metadata": {},
      "source": [
        "grid = al.Grid2D.uniform(shape_native=(40, 40), pixel_scales=0.1, over_sampling=None)\n",
        "\n",
        "over_sampling = al.OverSamplingUniform.from_adaptive_scheme(\n",
        "    grid=grid, name=\"Sersic\", centre=(0.5, 0.5)\n",
        ")\n",
        "\n",
        "grid = al.Grid2D.uniform(\n",
        "    shape_native=(40, 40), pixel_scales=0.1, over_sampling=over_sampling\n",
        ")\n",
        "\n",
        "mat_plot = aplt.MatPlot2D(title=aplt.Title(label=\"Grid With Default Over-Sampling\"))\n",
        "\n",
        "grid_plotter = aplt.Grid2DPlotter(grid=grid, mat_plot_2d=mat_plot)\n",
        "grid_plotter.figure_2d(plot_grid_lines=True, plot_over_sampled_grid=True)"
      ],
      "outputs": [],
      "execution_count": null
    },
    {
      "cell_type": "markdown",
      "metadata": {},
      "source": [
        "This default over sampling scheme only works because the input grid is uniform, because this means the centre of the\n",
        "light or mass profile is where in the grid high levels of over sampling are required. This assumption is not true of a \n",
        "grid which has been deflected via a mass model. \n",
        "\n",
        "This adaptive over-sampling scheme therefore cannot be used for evaluating lensed sources and is only used to \n",
        "evaluate the image of the foreground lens galaxy.\n",
        "\n",
        "__Multiple Lens Galaxies__\n",
        "\n",
        "The analysis may contain multiple lens galaxies, each of which must be over-sampled accurately. \n",
        "\n",
        "The default over-sampling can already handle this, as it uses the centre of each galaxy to set up the adaptive\n",
        "over-sampling grid. It does this for every light profile of every galaxy in the analysis, thus different adaptive\n",
        "grids will be used if the galaxies are at different centres.\n",
        "\n",
        "We therefore recommend you always use the default over-sampling for multi-galaxy modeling.\n",
        "\n",
        "__Ray Tracing__\n",
        "\n",
        "So far, we have evaluated the image of a light profile using over-sampling on an unlensed uniform grid. \n",
        "\n",
        "For lensing calculations, the grid is ray-traced via a mass model to an irregular grid in the source plane, which\n",
        "as discussed a moment ago means that the adaptive over-sampling scheme cannot be used.\n",
        "\n",
        "We now illustrate using over-sampling with a mass profile, noting that for lensing:\n",
        "\n",
        " 1) The fraction residuals due to differing over-sampling levels now occur in the lensed source's brightest multiply \n",
        " imaged pixels. \n",
        " \n",
        " 2) It is the combination of a rapidly changing source light profile and the magnification pattern of the mass model\n",
        "    which requires over sampling. The mass model focuses many image-pixels to the source's brightest regions."
      ]
    },
    {
      "cell_type": "code",
      "metadata": {},
      "source": [
        "mass = al.mp.Isothermal(centre=(0.0, 0.0), ell_comps=(0.1, 0.0), einstein_radius=1.0)\n",
        "\n",
        "light = al.lp.Sersic(\n",
        "    centre=(0.0, 0.0),\n",
        "    ell_comps=(0.0, 0.0),\n",
        "    intensity=1.0,\n",
        "    effective_radius=0.2,\n",
        "    sersic_index=3.0,\n",
        ")\n",
        "\n",
        "lens = al.Galaxy(redshift=0.5, mass=mass)\n",
        "\n",
        "source = al.Galaxy(redshift=1.0, bulge=light)\n",
        "\n",
        "tracer = al.Tracer(galaxies=[lens, source])\n",
        "\n",
        "image_sub_1 = tracer.image_2d_from(grid=grid_sub_1)\n",
        "image_sub_2 = tracer.image_2d_from(grid=grid_sub_2)\n",
        "\n",
        "plotter = aplt.Array2DPlotter(\n",
        "    array=image_sub_1,\n",
        ")\n",
        "plotter.set_title(\"Image of Lensed Source\")\n",
        "plotter.figure_2d()\n",
        "\n",
        "residual_map = image_sub_2 - image_sub_1\n",
        "\n",
        "fractional_residual_map = residual_map / image_sub_2\n",
        "\n",
        "plotter = aplt.Array2DPlotter(\n",
        "    array=fractional_residual_map,\n",
        ")\n",
        "plotter.set_title(\"Lensing Low Over-Sampling Residuals\")\n",
        "plotter.figure_2d()"
      ],
      "outputs": [],
      "execution_count": null
    },
    {
      "cell_type": "markdown",
      "metadata": {},
      "source": [
        "The iterative over sampling grid can be used to perform lensing calculations accurately and efficiently.\n",
        "\n",
        "This reason this grid works, but the default adaptive over-sampling grid does not, is because the iterative grid\n",
        "recomputes the deflection angles and performs th ray-tracing at every level of over-sampling. This default grid\n",
        "cannot be defined in a way that does this, as one does not know where the brightest regions of the source will be\n",
        "before the ray-tracing is performed."
      ]
    },
    {
      "cell_type": "code",
      "metadata": {},
      "source": [
        "image_sub_32 = tracer.image_2d_from(grid=grid_sub_32)\n",
        "image_iterate = tracer.image_2d_from(grid=grid_iterate)\n",
        "\n",
        "residual_map = image_sub_32 - image_iterate\n",
        "\n",
        "fractional_residual_map = residual_map / image_sub_32\n",
        "\n",
        "plotter = aplt.Array2DPlotter(\n",
        "    array=fractional_residual_map,\n",
        ")\n",
        "plotter.set_title(\"Lensing High Over-Sampling Residuals\")\n",
        "plotter.figure_2d()"
      ],
      "outputs": [],
      "execution_count": null
    },
    {
      "cell_type": "markdown",
      "metadata": {},
      "source": [
        "__Default Ray Tracing__\n",
        "\n",
        "There is not default adaptive over sampling scheme that can work for ray tracing in an efficient and accurate manner.\n",
        "\n",
        "This is why the majority of workspace examples use cored light profiles for the source galaxy. A cored light profile\n",
        "does not rapidly change in its central regions, and therefore can be evaluated accurately without over-sampling.\n",
        "\n",
        "__Dataset & Modeling__\n",
        "\n",
        "Throughout this guide, grid objects have been used to compute the image of light and mass profiles and illustrate\n",
        "over sampling.\n",
        "\n",
        "If you are performing calculations with imaging data or want to fit a lens model to the data with a specific\n",
        "over-sampling level, the following API is used:"
      ]
    },
    {
      "cell_type": "code",
      "metadata": {},
      "source": [
        "dataset_name = \"simple__no_lens_light\"\n",
        "dataset_path = path.join(\"dataset\", \"imaging\", dataset_name)\n",
        "\n",
        "dataset = al.Imaging.from_fits(\n",
        "    data_path=path.join(dataset_path, \"data.fits\"),\n",
        "    psf_path=path.join(dataset_path, \"psf.fits\"),\n",
        "    noise_map_path=path.join(dataset_path, \"noise_map.fits\"),\n",
        "    pixel_scales=0.1,\n",
        ")\n",
        "\n",
        "# This can be any of the over-sampling objects we have used above.\n",
        "\n",
        "dataset = dataset.apply_over_sampling(\n",
        "    over_sampling=al.OverSamplingDataset(uniform=al.OverSamplingUniform(sub_size=4))\n",
        ")"
      ],
      "outputs": [],
      "execution_count": null
    },
    {
      "cell_type": "markdown",
      "metadata": {},
      "source": [
        "__Search Chaining__\n",
        "\n",
        "To efficiently perform lens modeling with appropriate over-sampling for the lensed source, we use the advanced\n",
        "lens modeling feature search chaining.\n",
        "\n",
        "An example of how to use search chaining to over sample sources efficient is provided in \n",
        "the `autolens_workspace/*/imaging/advanced/chaining/over_sampling.ipynb` example.\n",
        "\n",
        "__Pixelization__\n",
        "\n",
        "Source galaxies can be reconstructed using pixelizations, which discretize the source's light onto a mesh,\n",
        "for example a Voronoi mesh.\n",
        "\n",
        "Over sampling is used by pixelizations in an analogous way to light profiles. By default, a 4 x 4 sub-grid is used,\n",
        "whereby every image pixel is ray-traced on its 4 x 4 sub grid to the source mesh and fractional mappings are computed.\n",
        "\n",
        "This is explained in more detail in the pixelization examples.\n",
        "\n",
        "Here is an example of how to change the over sampling applied to a pixelization for a lens model fit:"
      ]
    },
    {
      "cell_type": "code",
      "metadata": {},
      "source": [
        "dataset = dataset.apply_over_sampling(\n",
        "    over_sampling=al.OverSamplingDataset(\n",
        "        pixelization=al.OverSamplingUniform(sub_size=4)\n",
        "    )\n",
        ")"
      ],
      "outputs": [],
      "execution_count": null
    },
    {
      "cell_type": "markdown",
      "metadata": {},
      "source": [
        "Finish."
      ]
    },
    {
      "cell_type": "code",
      "metadata": {},
      "source": [],
      "outputs": [],
      "execution_count": null
    }
  ],
  "metadata": {
    "anaconda-cloud": {},
    "kernelspec": {
      "display_name": "Python 3",
      "language": "python",
      "name": "python3"
    },
    "language_info": {
      "codemirror_mode": {
        "name": "ipython",
        "version": 3
      },
      "file_extension": ".py",
      "mimetype": "text/x-python",
      "name": "python",
      "nbconvert_exporter": "python",
      "pygments_lexer": "ipython3",
      "version": "3.6.1"
    }
  },
  "nbformat": 4,
  "nbformat_minor": 4
}