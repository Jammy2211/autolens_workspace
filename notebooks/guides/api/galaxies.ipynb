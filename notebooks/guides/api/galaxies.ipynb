{
  "cells": [
    {
      "cell_type": "markdown",
      "metadata": {},
      "source": [
        "Galaxies\n",
        "========\n",
        "\n",
        "In the guide `tracer.py`, we inspected the results of a `Tracer` and computed the overall properties of the\n",
        "lens model's image, convergence and other quantities.\n",
        "\n",
        "However, we did not compute the individual properties of each galaxy. For example, we did not compute an image of the\n",
        "source galaxy on the source plane or compute individual quantities for each mass profile.\n",
        "\n",
        "This tutorial illustrates how to compute these more complicated results. We therefore fit a slightly more complicated\n",
        "lens model, where the lens galaxy's light is composed of two components (a bulge and disk) and the source-plane\n",
        "comprises two galaxies.\n",
        "\n",
        "__Plot Module__\n",
        "\n",
        "This example uses the plot module to plot the results, including `Plotter` objects that make\n",
        "the figures and `MatPlot` objects that wrap matplotlib to customize the figures.\n",
        "\n",
        "The visualization API is straightforward but is explained in the `autolens_workspace/*/plot` package in full.\n",
        "This includes detailed guides on how to customize every aspect of the figures, which can easily be combined with the\n",
        "code outlined in this tutorial.\n",
        "\n",
        "__Units__\n",
        "\n",
        "In this example, all quantities are **PyAutoLens**'s internal unit coordinates, with spatial coordinates in\n",
        "arc seconds, luminosities in electrons per second and mass quantities (e.g. convergence) are dimensionless.\n",
        "\n",
        "The guide `guides/units_and_cosmology.ipynb` illustrates how to convert these quantities to physical units like\n",
        "kiloparsecs, magnitudes and solar masses.\n",
        "\n",
        "__Data Structures__\n",
        "\n",
        "Quantities inspected in this example script use **PyAutoLens** bespoke data structures for storing arrays, grids,\n",
        "vectors and other 1D and 2D quantities. These use the `slim` and `native` API to toggle between representing the\n",
        "data in 1D numpy arrays or high dimension numpy arrays.\n",
        "\n",
        "This tutorial will only use the `slim` properties which show results in 1D numpy arrays of\n",
        "shape [total_unmasked_pixels]. This is a slimmed-down representation of the data in 1D that contains only the\n",
        "unmasked data points\n",
        "\n",
        "These are documented fully in the `autolens_workspace/*/guides/data_structures.ipynb` guide.\n",
        "\n",
        "__Start Here Notebook__\n",
        "\n",
        "If any code in this script is unclear, refer to the `results/start_here.ipynb` notebook."
      ]
    },
    {
      "cell_type": "code",
      "metadata": {},
      "source": [
        "%matplotlib inline\n",
        "from pyprojroot import here\n",
        "workspace_path = str(here())\n",
        "%cd $workspace_path\n",
        "print(f\"Working Directory has been set to `{workspace_path}`\")\n",
        "\n",
        "import numpy as np\n",
        "from os import path\n",
        "import autofit as af\n",
        "import autolens as al\n",
        "import autolens.plot as aplt"
      ],
      "outputs": [],
      "execution_count": null
    },
    {
      "cell_type": "markdown",
      "metadata": {},
      "source": [
        "__Grids__\n",
        "\n",
        "To describe the luminous emission of galaxies, **PyAutoGalaxy** uses `Grid2D` data structures, which are \n",
        "two-dimensional Cartesian grids of (y,x) coordinates. \n",
        "\n",
        "Below, we make and plot a uniform Cartesian grid:"
      ]
    },
    {
      "cell_type": "code",
      "metadata": {},
      "source": [
        "grid = al.Grid2D.uniform(\n",
        "    shape_native=(100, 100),\n",
        "    pixel_scales=0.1,  # The pixel-scale describes the conversion from pixel units to arc-seconds.\n",
        ")\n",
        "\n",
        "grid_plotter = aplt.Grid2DPlotter(grid=grid)\n",
        "grid_plotter.figure_2d()"
      ],
      "outputs": [],
      "execution_count": null
    },
    {
      "cell_type": "markdown",
      "metadata": {},
      "source": [
        "__Tracer__\n",
        "\n",
        "We first set up a tracer with a lens galaxy and two source galaxies, which we will use to illustrate how to extract\n",
        "individual galaxy images."
      ]
    },
    {
      "cell_type": "code",
      "metadata": {},
      "source": [
        "lens_galaxy = al.Galaxy(\n",
        "    redshift=0.5,\n",
        "    bulge=al.lp.Sersic(\n",
        "        centre=(0.0, 0.0),\n",
        "        ell_comps=al.convert.ell_comps_from(axis_ratio=0.9, angle=45.0),\n",
        "        intensity=2.0,\n",
        "        effective_radius=0.6,\n",
        "        sersic_index=3.0,\n",
        "    ),\n",
        "    disk=al.lp.Exponential(\n",
        "        centre=(0.0, 0.0),\n",
        "        ell_comps=al.convert.ell_comps_from(axis_ratio=0.7, angle=30.0),\n",
        "        intensity=0.1,\n",
        "        effective_radius=1.6,\n",
        "    ),\n",
        "    mass=al.mp.Isothermal(\n",
        "        centre=(0.0, 0.0),\n",
        "        einstein_radius=1.6,\n",
        "        ell_comps=al.convert.ell_comps_from(axis_ratio=0.9, angle=45.0),\n",
        "    ),\n",
        "    shear=al.mp.ExternalShear(gamma_1=0.05, gamma_2=0.05),\n",
        ")\n",
        "\n",
        "source_galaxy_0 = al.Galaxy(\n",
        "    redshift=1.0,\n",
        "    bulge=al.lp.Sersic(\n",
        "        centre=(0.25, 0.15),\n",
        "        ell_comps=al.convert.ell_comps_from(axis_ratio=0.7, angle=120.0),\n",
        "        intensity=0.7,\n",
        "        effective_radius=0.7,\n",
        "        sersic_index=1.0,\n",
        "    ),\n",
        ")\n",
        "\n",
        "source_galaxy_1 = al.Galaxy(\n",
        "    redshift=1.0,\n",
        "    bulge=al.lp.Sersic(\n",
        "        centre=(0.7, -0.5),\n",
        "        ell_comps=al.convert.ell_comps_from(axis_ratio=0.9, angle=60.0),\n",
        "        intensity=0.2,\n",
        "        effective_radius=1.6,\n",
        "        sersic_index=3.0,\n",
        "    ),\n",
        ")\n",
        "\n",
        "tracer = al.Tracer(galaxies=[lens_galaxy, source_galaxy_0, source_galaxy_1])\n",
        "\n",
        "tracer_plotter = aplt.TracerPlotter(tracer=tracer, grid=grid)\n",
        "tracer_plotter.subplot_tracer()"
      ],
      "outputs": [],
      "execution_count": null
    },
    {
      "cell_type": "markdown",
      "metadata": {},
      "source": [
        "__Individual Lens Galaxy Components__\n",
        "\n",
        "We are able to create an image of the lens galaxy as follows, which includes the emission of both the lens galaxy's\n",
        "`bulge` and `disk` components."
      ]
    },
    {
      "cell_type": "code",
      "metadata": {},
      "source": [
        "image = tracer.image_2d_from(grid=grid)"
      ],
      "outputs": [],
      "execution_count": null
    },
    {
      "cell_type": "markdown",
      "metadata": {},
      "source": [
        "In order to create images of the `bulge` and `disk` separately, we need to extract each individual component from the \n",
        "tracer. \n",
        "\n",
        "To do this, we first use the tracer's `planes` attribute, which is a list of all `Planes` objects in the tracer. \n",
        "\n",
        "This list is in ascending order of plane redshift, such that `planes[0]` is the image-plane and `planes[1]` is the \n",
        "source-plane. Had we modeled a multi-plane lens system there would be additional planes at each individual redshift \n",
        "(the redshifts of the galaxies in the model determine at what redshifts planes are created)."
      ]
    },
    {
      "cell_type": "code",
      "metadata": {},
      "source": [
        "image_plane = tracer.planes[0]\n",
        "source_plane = tracer.planes[1]"
      ],
      "outputs": [],
      "execution_count": null
    },
    {
      "cell_type": "markdown",
      "metadata": {},
      "source": [
        "Each plane contains a list of galaxies, which are in order of how we specify them in the `collection` above.\n",
        "\n",
        "In order to extract the `bulge` and `disk` we therefore need the lens galaxy, which we can extract from \n",
        "the `image_plane` and print to make sure it contains the correct light profiles."
      ]
    },
    {
      "cell_type": "code",
      "metadata": {},
      "source": [
        "print(image_plane)\n",
        "\n",
        "lens_galaxy = image_plane[0]\n",
        "\n",
        "print(lens_galaxy)"
      ],
      "outputs": [],
      "execution_count": null
    },
    {
      "cell_type": "markdown",
      "metadata": {},
      "source": [
        "Finally, we can use the `lens_galaxy` to extract the `bulge` and `disk` and make the image of each."
      ]
    },
    {
      "cell_type": "code",
      "metadata": {},
      "source": [
        "bulge = lens_galaxy.bulge\n",
        "disk = lens_galaxy.disk\n",
        "\n",
        "bulge_image_2d = bulge.image_2d_from(grid=grid)\n",
        "disk_image_2d = disk.image_2d_from(grid=grid)"
      ],
      "outputs": [],
      "execution_count": null
    },
    {
      "cell_type": "markdown",
      "metadata": {},
      "source": [
        "If you are unclear on what `slim` means, refer to the section `Data Structure` at the top of this example."
      ]
    },
    {
      "cell_type": "code",
      "metadata": {},
      "source": [
        "print(bulge_image_2d.slim[0])\n",
        "print(disk_image_2d.slim[0])"
      ],
      "outputs": [],
      "execution_count": null
    },
    {
      "cell_type": "markdown",
      "metadata": {},
      "source": [
        "It is more concise to extract these quantities in one line of Python.\n",
        "\n",
        "The way to think about index accessing of `planes`, as shown below is as follows:\n",
        "\n",
        "- The first index, `planes[0]` accesses the first plane (the image-plane).\n",
        "- The second index, `planes[0][0]` accesses the first galaxy in the first plane (the lens galaxy)."
      ]
    },
    {
      "cell_type": "code",
      "metadata": {},
      "source": [
        "bulge_image_2d = tracer.planes[0][0].bulge.image_2d_from(grid=grid)"
      ],
      "outputs": [],
      "execution_count": null
    },
    {
      "cell_type": "markdown",
      "metadata": {},
      "source": [
        "The `LightProfilePlotter` makes it straight forward to extract and plot an individual light profile component."
      ]
    },
    {
      "cell_type": "code",
      "metadata": {},
      "source": [
        "bulge_plotter = aplt.LightProfilePlotter(\n",
        "    light_profile=tracer.planes[0][0].bulge, grid=grid\n",
        ")\n",
        "bulge_plotter.figures_2d(image=True)"
      ],
      "outputs": [],
      "execution_count": null
    },
    {
      "cell_type": "markdown",
      "metadata": {},
      "source": [
        "__Log10__\n",
        "\n",
        "The light distributions of galaxies are closer to a log10 distribution than a linear one. \n",
        "\n",
        "This means that when we plot an image of a light profile, its appearance is better highlighted when we take the\n",
        "logarithm of its values and plot it in log10 space.\n",
        "\n",
        "The `MatPlot2D` object has an input `use_log10`, which will do this automatically when we call the `figures_2d` method.\n",
        "Below, we can see that the image plotted now appears more clearly, with the outskirts of the light profile more visible."
      ]
    },
    {
      "cell_type": "code",
      "metadata": {},
      "source": [
        "bulge_plotter = aplt.LightProfilePlotter(\n",
        "    light_profile=tracer.planes[0][0].bulge,\n",
        "    grid=grid,\n",
        "    mat_plot_2d=aplt.MatPlot2D(use_log10=True),\n",
        ")\n",
        "bulge_plotter.figures_2d(image=True)"
      ],
      "outputs": [],
      "execution_count": null
    },
    {
      "cell_type": "markdown",
      "metadata": {},
      "source": [
        "__Galaxies__\n",
        "\n",
        "Above, we extract the `bulge` and `disk` light profiles. \n",
        "\n",
        "We can just as easily extract each `Galaxy` and use it to perform the calculations above. Note that because the \n",
        "lens galaxy contains both the `bulge` and `disk`, the `image` we create below contains both components (and is therefore\n",
        "the same as `tracer.image_2d_from(grid=grid)`:"
      ]
    },
    {
      "cell_type": "code",
      "metadata": {},
      "source": [
        "lens = tracer.planes[0][0]\n",
        "\n",
        "lens_image_2d = lens.image_2d_from(grid=grid)\n",
        "lens_convergence_2d = lens.convergence_2d_from(grid=grid)"
      ],
      "outputs": [],
      "execution_count": null
    },
    {
      "cell_type": "markdown",
      "metadata": {},
      "source": [
        "We can also use the `GalaxyPlotter` to plot the lens galaxy, for example a subplot of each individual light profile \n",
        "image and mass profile convergence."
      ]
    },
    {
      "cell_type": "code",
      "metadata": {},
      "source": [
        "galaxy_plotter = aplt.GalaxyPlotter(galaxy=lens, grid=grid)\n",
        "galaxy_plotter.subplot_of_light_profiles(image=True)\n",
        "galaxy_plotter.subplot_of_mass_profiles(convergence=True)"
      ],
      "outputs": [],
      "execution_count": null
    },
    {
      "cell_type": "markdown",
      "metadata": {},
      "source": [
        "__Source Plane Images__\n",
        "\n",
        "We can also extract the source-plane galaxies to plot images of them.\n",
        "\n",
        "We create a specific uniform grid to plot these images. Because this grid is an image-plane grid, the images of the\n",
        "source are their unlensed source-plane images (we show have to create their lensed images below). "
      ]
    },
    {
      "cell_type": "code",
      "metadata": {},
      "source": [
        "grid = al.Grid2D.uniform(shape_native=(50, 50), pixel_scales=0.05)\n",
        "\n",
        "source_0 = tracer.planes[1][0]\n",
        "source_1 = tracer.planes[1][1]\n",
        "\n",
        "# source_0 = tracer.galaxies.source_0\n",
        "# source_1 = tracer.galaxies.source_1\n",
        "\n",
        "galaxy_plotter = aplt.GalaxyPlotter(galaxy=source_0, grid=grid)\n",
        "galaxy_plotter.figures_2d(image=True)\n",
        "\n",
        "galaxy_plotter = aplt.GalaxyPlotter(galaxy=source_1, grid=grid)\n",
        "galaxy_plotter.figures_2d(image=True)"
      ],
      "outputs": [],
      "execution_count": null
    },
    {
      "cell_type": "markdown",
      "metadata": {},
      "source": [
        "__Tracer Composition__\n",
        "\n",
        "Lets quickly summarize what we've learnt by printing every object in the tracer:"
      ]
    },
    {
      "cell_type": "code",
      "metadata": {},
      "source": [
        "print(tracer)\n",
        "print(tracer.planes[0])  # image plane\n",
        "print(tracer.planes[1])  # source plane\n",
        "print(tracer.planes[0][0])  # lens galaxy in image plane\n",
        "print(tracer.planes[1][0])  # source galaxy 0 in source plane\n",
        "print(tracer.planes[1][1])  # source galaxy 1 in source plane\n",
        "print(tracer.planes[0][0].mass)  # lens galaxy mass profile\n",
        "print(tracer.planes[1][0].bulge)  # source galaxy 0 bulge\n",
        "print(tracer.planes[1][1].bulge)  # source galaxy 1 bulge\n",
        "print()"
      ],
      "outputs": [],
      "execution_count": null
    },
    {
      "cell_type": "markdown",
      "metadata": {},
      "source": [
        "__Lensed Grids and Images__\n",
        "\n",
        "In order to plot source-plane images that are lensed we can compute traced grids from the tracer."
      ]
    },
    {
      "cell_type": "code",
      "metadata": {},
      "source": [
        "traced_grid_list = tracer.traced_grid_2d_list_from(grid=grid)"
      ],
      "outputs": [],
      "execution_count": null
    },
    {
      "cell_type": "markdown",
      "metadata": {},
      "source": [
        "The first grid in the list is the image-plane grid (and is identical to `grid`) whereas the second grid has\n",
        "had its coordinates deflected via the tracer's lens galaxy mass profiles."
      ]
    },
    {
      "cell_type": "code",
      "metadata": {},
      "source": [
        "image_plane_grid = traced_grid_list[0]\n",
        "source_plane_grid = traced_grid_list[1]"
      ],
      "outputs": [],
      "execution_count": null
    },
    {
      "cell_type": "markdown",
      "metadata": {},
      "source": [
        "We can use the `source_plane_grid` to created an image of both lensed source galaxies."
      ]
    },
    {
      "cell_type": "code",
      "metadata": {},
      "source": [
        "source_0 = tracer.planes[1][0]\n",
        "source_0_image_2d = source_0.image_2d_from(grid=source_plane_grid)\n",
        "\n",
        "source_0 = tracer.planes[1][1]\n",
        "source_1_image_2d = source_1.image_2d_from(grid=source_plane_grid)\n",
        "\n",
        "galaxy_plotter = aplt.GalaxyPlotter(galaxy=source_0, grid=source_plane_grid)\n",
        "galaxy_plotter.figures_2d(image=True)"
      ],
      "outputs": [],
      "execution_count": null
    },
    {
      "cell_type": "markdown",
      "metadata": {},
      "source": [
        "___Source Magnification__\n",
        "\n",
        "The overall magnification of the source is estimated as the ratio of total surface brightness in the image-plane and \n",
        "total surface brightness in the source-plane.\n",
        "\n",
        "To ensure the magnification is stable and that we resolve all source emission in both the image-plane and source-plane \n",
        "we use a very high resolution grid (in contrast to calculations above which used the lower resolution masked imaging \n",
        "grids).\n",
        "\n",
        "(If an inversion is used to model the source a slightly different calculation is performed which is discussed in\n",
        "result tutorial 6.)"
      ]
    },
    {
      "cell_type": "code",
      "metadata": {},
      "source": [
        "grid = al.Grid2D.uniform(shape_native=(1000, 1000), pixel_scales=0.03)\n",
        "\n",
        "traced_grid_list = tracer.traced_grid_2d_list_from(grid=grid)\n",
        "\n",
        "image_plane_grid = traced_grid_list[0]\n",
        "source_plane_grid = traced_grid_list[1]"
      ],
      "outputs": [],
      "execution_count": null
    },
    {
      "cell_type": "markdown",
      "metadata": {},
      "source": [
        "We now compute the image of each plane using the above two grids, where the ray-traced `source_plane_grid`\n",
        "creates the image of the lensed source and `image_plane_grid` creates the source-plane image of the source.\n",
        "\n",
        "(By using `tracer.planes[1].image_2d_from`, as opposed to `tracer.image_2d_from`, we ensure that only source-plane\n",
        "emission is included and that lens light emission is not)."
      ]
    },
    {
      "cell_type": "code",
      "metadata": {},
      "source": [
        "lensed_source_image_2d = tracer.planes[1].image_2d_from(grid=source_plane_grid)\n",
        "source_plane_image_2d = tracer.planes[1].image_2d_from(grid=image_plane_grid)"
      ],
      "outputs": [],
      "execution_count": null
    },
    {
      "cell_type": "markdown",
      "metadata": {},
      "source": [
        "The `source_plane_grid` and `image_plane_grid` grids below were created above by ray-tracing the\n",
        "first one to create the other. \n",
        "\n",
        "They therefore evaluate the lensed source and source-plane emission on grids with the same total area.\n",
        "\n",
        "When computing magnifications, care must always be taken to ensure the areas in the image-plane and source-plane\n",
        "are properly accounted for."
      ]
    },
    {
      "cell_type": "code",
      "metadata": {},
      "source": [
        "print(lensed_source_image_2d.total_area)\n",
        "print(source_plane_image_2d.total_area)"
      ],
      "outputs": [],
      "execution_count": null
    },
    {
      "cell_type": "markdown",
      "metadata": {},
      "source": [
        "Because their areas are the same, we can estimate the magnification by simply taking the ratio of total flux."
      ]
    },
    {
      "cell_type": "code",
      "metadata": {},
      "source": [
        "source_magnification_2d = np.sum(lensed_source_image_2d) / np.sum(source_plane_image_2d)"
      ],
      "outputs": [],
      "execution_count": null
    },
    {
      "cell_type": "markdown",
      "metadata": {},
      "source": [
        "__One Dimensional Quantities__\n",
        "\n",
        "We have made two dimensional plots of galaxy images, grids and convergences.\n",
        "\n",
        "We can also compute all these quantities in 1D, for inspection and visualization.\n",
        "\n",
        "For example, from a light profile or galaxy we can compute its `image_1d`, which provides us with its image values\n",
        "(e.g. luminosity) as a function of radius."
      ]
    },
    {
      "cell_type": "code",
      "metadata": {},
      "source": [
        "lens = tracer.planes[0][0]\n",
        "image_1d = lens.image_1d_from(grid=grid)\n",
        "print(image_1d)\n",
        "\n",
        "source_bulge = tracer.planes[1][0].bulge\n",
        "image_1d = source_bulge.image_1d_from(grid=grid)\n",
        "print(image_1d)"
      ],
      "outputs": [],
      "execution_count": null
    },
    {
      "cell_type": "markdown",
      "metadata": {},
      "source": [
        "How are these 1D quantities from an input 2D grid? \n",
        "\n",
        "From the 2D grid a 1D grid is compute where:\n",
        "\n",
        " - The 1D grid of (x,) coordinates are centred on the galaxy or light profile and aligned with the major-axis. \n",
        " - The 1D grid extends from this centre to the edge of the 2D grid.\n",
        " - The pixel-scale of the 2D grid defines the radial steps between each coordinate.\n",
        "\n",
        "If we input a larger 2D grid, with a smaller pixel scale, the 1D plot adjusts accordingly."
      ]
    },
    {
      "cell_type": "code",
      "metadata": {},
      "source": [
        "grid = al.Grid2D.uniform(shape_native=(100, 100), pixel_scales=0.04)\n",
        "image_1d = lens.image_1d_from(grid=grid)\n",
        "print(image_1d.shape)\n",
        "print(image_1d)\n",
        "\n",
        "grid = al.Grid2D.uniform(shape_native=(200, 200), pixel_scales=0.02)\n",
        "image_1d = lens.image_1d_from(grid=grid)\n",
        "print(image_1d.shape)\n",
        "print(image_1d)"
      ],
      "outputs": [],
      "execution_count": null
    },
    {
      "cell_type": "markdown",
      "metadata": {},
      "source": [
        "We can alternatively input a `Grid1D` where we define the (x,) coordinates we wish to evaluate the function on."
      ]
    },
    {
      "cell_type": "code",
      "metadata": {},
      "source": [
        "grid_1d = al.Grid1D.uniform_from_zero(shape_native=(10000,), pixel_scales=0.01)\n",
        "\n",
        "galaxy_plotter = aplt.GalaxyPlotter(galaxy=lens, grid=grid)\n",
        "\n",
        "galaxy_plotter.figures_1d(image=True, convergence=True)"
      ],
      "outputs": [],
      "execution_count": null
    },
    {
      "cell_type": "markdown",
      "metadata": {},
      "source": [
        "Fin."
      ]
    },
    {
      "cell_type": "code",
      "metadata": {},
      "source": [],
      "outputs": [],
      "execution_count": null
    }
  ],
  "metadata": {
    "anaconda-cloud": {},
    "kernelspec": {
      "display_name": "Python 3",
      "language": "python",
      "name": "python3"
    },
    "language_info": {
      "codemirror_mode": {
        "name": "ipython",
        "version": 3
      },
      "file_extension": ".py",
      "mimetype": "text/x-python",
      "name": "python",
      "nbconvert_exporter": "python",
      "pygments_lexer": "ipython3",
      "version": "3.6.1"
    }
  },
  "nbformat": 4,
  "nbformat_minor": 4
}