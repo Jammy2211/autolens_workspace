{
  "cells": [
    {
      "cell_type": "markdown",
      "metadata": {},
      "source": [
        "Fits\n",
        "====\n",
        "\n",
        "This tutorial inspects an inferred model using the `Tracer` object inferred by the non-linear search.\n",
        "This allows us to visualize and interpret its results.\n",
        "\n",
        "The first half of this tutorial repeats the over example `overview/overview_1_lensing.py` and contains the\n",
        "following:\n",
        "\n",
        "This tutorial focuses on explaining how to use the inferred tracer to compute results as numpy arrays and only\n",
        "briefly discusses visualization.\n",
        "\n",
        "__Plot Module__\n",
        "\n",
        "This example uses the plot module to plot the results, including `Plotter` objects that make\n",
        "the figures and `MatPlot` objects that wrap matplotlib to customize the figures.\n",
        "\n",
        "The visualization API is straightforward but is explained in the `autolens_workspace/*/plot` package in full.\n",
        "This includes detailed guides on how to customize every aspect of the figures, which can easily be combined with the\n",
        "code outlined in this tutorial.\n",
        "\n",
        "__Units__\n",
        "\n",
        "In this example, all quantities are **PyAutoLens**'s internal unit coordinates, with spatial coordinates in\n",
        "arc seconds, luminosities in electrons per second and mass quantities (e.g. convergence) are dimensionless.\n",
        "\n",
        "The guide `guides/units_and_cosmology.ipynb` illustrates how to convert these quantities to physical units like\n",
        "kiloparsecs, magnitudes and solar masses.\n",
        "\n",
        "__Data Structures__\n",
        "\n",
        "Quantities inspected in this example script use **PyAutoLens** bespoke data structures for storing arrays, grids,\n",
        "vectors and other 1D and 2D quantities. These use the `slim` and `native` API to toggle between representing the\n",
        "data in 1D numpy arrays or high dimension numpy arrays.\n",
        "\n",
        "This tutorial will only use the `slim` properties which show results in 1D numpy arrays of\n",
        "shape [total_unmasked_pixels]. This is a slimmed-down representation of the data in 1D that contains only the\n",
        "unmasked data points\n",
        "\n",
        "These are documented fully in the `autolens_workspace/*/guides/data_structures.ipynb` guide.\n",
        "\n",
        "__Other Models__\n",
        "\n",
        "This tutorial does not use a pixelized source reconstruction or linear light profiles, which have their own dediciated\n",
        "functionality that interfacts with the `FitImaging` object.\n",
        "\n",
        "These are described in the dedicated example scripts `results/examples/linear.py` and `results/examples/pixelizaiton.py`.\n",
        "\n",
        "__Start Here Notebook__\n",
        "\n",
        "If any code in this script is unclear, refer to the `results/start_here.ipynb` notebook."
      ]
    },
    {
      "cell_type": "code",
      "metadata": {},
      "source": [
        "%matplotlib inline\n",
        "from pyprojroot import here\n",
        "workspace_path = str(here())\n",
        "%cd $workspace_path\n",
        "print(f\"Working Directory has been set to `{workspace_path}`\")\n",
        "\n",
        "import autolens as al\n",
        "import autolens.plot as aplt"
      ],
      "outputs": [],
      "execution_count": null
    },
    {
      "cell_type": "markdown",
      "metadata": {},
      "source": [
        "__Grids__\n",
        "\n",
        "To describe the deflection of light, **PyAutoLens** uses `Grid2D` data structures, which are two-dimensional\n",
        "Cartesian grids of (y,x) coordinates. \n",
        "\n",
        "Below, we make and plot a uniform Cartesian grid in units of arcseconds. \n",
        "\n",
        "All quantities which are distance units (e.g. coordinate centre's radii) are in units of arc-seconds, as this is the\n",
        "most convenient unit to represent lensing quantities."
      ]
    },
    {
      "cell_type": "code",
      "metadata": {},
      "source": [
        "grid = al.Grid2D.uniform(\n",
        "    shape_native=(100, 100),\n",
        "    pixel_scales=0.05,  # The pixel-scale describes the conversion from pixel units to arc-seconds.\n",
        ")\n",
        "\n",
        "grid_plotter = aplt.Grid2DPlotter(grid=grid)\n",
        "grid_plotter.set_title(label=\"Cartesian (y,x) Grid (arcsec)\")\n",
        "grid_plotter.figure_2d()"
      ],
      "outputs": [],
      "execution_count": null
    },
    {
      "cell_type": "markdown",
      "metadata": {},
      "source": [
        "__Light Profiles__\n",
        "\n",
        "We will ray-trace this `Grid2D`'s coordinates to calculate how the lens galaxy's mass deflects the source \n",
        "galaxy's light. We therefore need analytic functions representing a galaxy's light and mass distributions. \n",
        "\n",
        "This requires analytic functions representing the light and mass distributions of galaxies, for example the \n",
        "elliptical `Sersic` `LightProfile`:"
      ]
    },
    {
      "cell_type": "code",
      "metadata": {},
      "source": [
        "sersic_light_profile = al.lp.Sersic(\n",
        "    centre=(0.0, 0.0),\n",
        "    ell_comps=(0.2, 0.1),\n",
        "    intensity=0.005,\n",
        "    effective_radius=2.0,\n",
        "    sersic_index=2.5,\n",
        ")"
      ],
      "outputs": [],
      "execution_count": null
    },
    {
      "cell_type": "markdown",
      "metadata": {},
      "source": [
        "By passing this profile a `Grid2D`, we can evaluate the light at every (y,x) coordinate on the `Grid2D` and create an \n",
        "image of the Sersic.\n",
        "\n",
        "All images in **PyAutoLens** are in units of electrons per second."
      ]
    },
    {
      "cell_type": "code",
      "metadata": {},
      "source": [
        "image = sersic_light_profile.image_2d_from(grid=grid)"
      ],
      "outputs": [],
      "execution_count": null
    },
    {
      "cell_type": "markdown",
      "metadata": {},
      "source": [
        "The **PyAutoLens** plot module provides methods for plotting objects and their properties, like light profile's image."
      ]
    },
    {
      "cell_type": "code",
      "metadata": {},
      "source": [
        "light_profile_plotter = aplt.LightProfilePlotter(\n",
        "    light_profile=sersic_light_profile, grid=grid\n",
        ")\n",
        "light_profile_plotter.set_title(label=\"Image of Sersic Light Profile\")\n",
        "light_profile_plotter.figures_2d(image=True)"
      ],
      "outputs": [],
      "execution_count": null
    },
    {
      "cell_type": "markdown",
      "metadata": {},
      "source": [
        "__Mass Profiles__\n",
        "\n",
        "**PyAutoLens** uses `MassProfile` objects to represent a galaxy's mass distribution and perform ray-tracing\n",
        "calculations. \n",
        "\n",
        "Below we create an `Isothermal` mass profile and compute its deflection angles on our Cartesian grid, which describe\n",
        "how the source galaxy's light rays are deflected as they pass this mass distribution."
      ]
    },
    {
      "cell_type": "code",
      "metadata": {},
      "source": [
        "isothermal_mass_profile = al.mp.Isothermal(\n",
        "    centre=(0.0, 0.0), ell_comps=(0.1, 0.0), einstein_radius=1.6\n",
        ")\n",
        "deflections = isothermal_mass_profile.deflections_yx_2d_from(grid=grid)"
      ],
      "outputs": [],
      "execution_count": null
    },
    {
      "cell_type": "markdown",
      "metadata": {},
      "source": [
        "Lets plot the isothermal mass profile's deflection angle map.\n",
        "\n",
        "The black curve on the figure is the tangential critical curve of the mass profile, if you do not know what this is\n",
        "don't worry about it for now!"
      ]
    },
    {
      "cell_type": "code",
      "metadata": {},
      "source": [
        "mass_profile_plotter = aplt.MassProfilePlotter(\n",
        "    mass_profile=isothermal_mass_profile, grid=grid\n",
        ")\n",
        "mass_profile_plotter.set_title(label=\"Isothermal Deflection Angles (y)\")\n",
        "mass_profile_plotter.figures_2d(\n",
        "    deflections_y=True,\n",
        ")\n",
        "mass_profile_plotter.set_title(label=\"Isothermal Deflection Angles (x)\")\n",
        "mass_profile_plotter.figures_2d(\n",
        "    deflections_x=True,\n",
        ")"
      ],
      "outputs": [],
      "execution_count": null
    },
    {
      "cell_type": "markdown",
      "metadata": {},
      "source": [
        "There are many other lensing quantities which can be plotted, for example the convergence and gravitational\n",
        "potential.\n",
        "\n",
        "If you are not familiar with gravitational lensing and therefore are unclear on what the convergence and potential \n",
        "are, don't worry for now!"
      ]
    },
    {
      "cell_type": "code",
      "metadata": {},
      "source": [
        "mass_profile_plotter.set_title(label=\"Isothermal Mass Convergence\")\n",
        "mass_profile_plotter.figures_2d(\n",
        "    convergence=True,\n",
        ")\n",
        "mass_profile_plotter.set_title(label=\"Isothermal Mass Potential\")\n",
        "mass_profile_plotter.figures_2d(\n",
        "    potential=True,\n",
        ")"
      ],
      "outputs": [],
      "execution_count": null
    },
    {
      "cell_type": "markdown",
      "metadata": {},
      "source": [
        "__Galaxies__\n",
        "\n",
        "A `Galaxy` object is a collection of `LightProfile` and `MassProfile` objects at a given redshift. \n",
        "\n",
        "The code below creates two galaxies representing the lens and source galaxies shown in the strong lensing diagram above."
      ]
    },
    {
      "cell_type": "code",
      "metadata": {},
      "source": [
        "lens_galaxy = al.Galaxy(\n",
        "    redshift=0.5, bulge=sersic_light_profile, mass=isothermal_mass_profile\n",
        ")\n",
        "\n",
        "source_light_profile = al.lp.ExponentialCore(\n",
        "    centre=(0.3, 0.2), ell_comps=(0.1, 0.0), intensity=0.1, effective_radius=0.5\n",
        ")\n",
        "\n",
        "source_galaxy = al.Galaxy(redshift=1.0, bulge=source_light_profile)"
      ],
      "outputs": [],
      "execution_count": null
    },
    {
      "cell_type": "markdown",
      "metadata": {},
      "source": [
        "The geometry of the strong lens system depends on the cosmological distances between the Earth, the lens galaxy and \n",
        "the source galaxy. It there depends on the redshifts of the `Galaxy` objects. \n",
        "\n",
        "By passing these `Galaxy` objects to a `Tracer` with a `Cosmology` object, **PyAutoLens** uses these galaxy redshifts \n",
        "and a cosmological model to create the appropriate strong lens system."
      ]
    },
    {
      "cell_type": "code",
      "metadata": {},
      "source": [
        "tracer = al.Tracer(galaxies=[lens_galaxy, source_galaxy], cosmology=al.cosmo.Planck15())"
      ],
      "outputs": [],
      "execution_count": null
    },
    {
      "cell_type": "markdown",
      "metadata": {},
      "source": [
        "__Ray Tracing__\n",
        "\n",
        "We can now create the image of the strong lens system! \n",
        "\n",
        "When calculating this image, the `Tracer` performs all ray-tracing for the strong lens system. This includes using the \n",
        "lens galaxy's total mass distribution to deflect the light-rays that are traced to the source galaxy. As a result, \n",
        "the source's appears as a multiply imaged and strongly lensed Einstein ring."
      ]
    },
    {
      "cell_type": "code",
      "metadata": {},
      "source": [
        "image = tracer.image_2d_from(grid=grid)\n",
        "\n",
        "tracer_plotter = aplt.TracerPlotter(tracer=tracer, grid=grid)\n",
        "tracer_plotter.set_title(label=\"Image of Strong Lens System\")\n",
        "tracer_plotter.figures_2d(image=True)"
      ],
      "outputs": [],
      "execution_count": null
    },
    {
      "cell_type": "markdown",
      "metadata": {},
      "source": [
        "__Log10__\n",
        "\n",
        "The light and masss distributions of galaxies are closer to a log10 distribution than a linear one. \n",
        "\n",
        "This means that when we plot an image of a light profile, its appearance is better highlighted when we take the\n",
        "logarithm of its values and plot it in log10 space.\n",
        "\n",
        "The `MatPlot2D` object has an input `use_log10`, which will do this automatically when we call the `figures_2d` method.\n",
        "Below, we can see that the image plotted now appears more clearly, with the outskirts of the light profile more visible."
      ]
    },
    {
      "cell_type": "code",
      "metadata": {},
      "source": [
        "tracer_plotter = aplt.TracerPlotter(\n",
        "    tracer=tracer,\n",
        "    grid=grid.mask.derive_grid.all_false,\n",
        "    mat_plot_2d=aplt.MatPlot2D(use_log10=True),\n",
        ")\n",
        "tracer_plotter.figures_2d(image=True)"
      ],
      "outputs": [],
      "execution_count": null
    },
    {
      "cell_type": "markdown",
      "metadata": {},
      "source": [
        "The `TracerPlotter` includes the mass quantities we plotted previously, which can be plotted as a subplot \n",
        "that plots all these quantities simultaneously.\n",
        "\n",
        "The black and white lines in the source-plane image are the tangential and radial caustics of the mass, which again\n",
        "you do not need to worry about for now if you don't know what that is!"
      ]
    },
    {
      "cell_type": "code",
      "metadata": {},
      "source": [
        "tracer_plotter.set_title(label=None)\n",
        "tracer_plotter.subplot_tracer()"
      ],
      "outputs": [],
      "execution_count": null
    },
    {
      "cell_type": "markdown",
      "metadata": {},
      "source": [
        "The tracer is composed of planes. The system above has two planes, an image-plane (at redshift=0.5) and a \n",
        "source-plane (at redshift=1.0). \n",
        "\n",
        "When creating an image via a Tracer, the mass profiles are used to ray-trace the image-plane grid (plotted above) \n",
        "to a source-plane grid, via the mass profile's deflection angles.\n",
        "\n",
        "We can use the tracer`s `traced_grid_2d_list_from` method to calculate and plot the image-plane and source-plane grids."
      ]
    },
    {
      "cell_type": "code",
      "metadata": {},
      "source": [
        "traced_grid_list = tracer.traced_grid_2d_list_from(grid=grid)\n",
        "\n",
        "grid_plotter = aplt.Grid2DPlotter(grid=traced_grid_list[0])\n",
        "grid_plotter.set_title(label=\"Image Plane Grid\")\n",
        "grid_plotter.figure_2d()\n",
        "\n",
        "grid_plotter = aplt.Grid2DPlotter(grid=traced_grid_list[1])\n",
        "grid_plotter.set_title(label=\"Source Plane Grid\")\n",
        "grid_plotter.figure_2d()  # Source-plane grid."
      ],
      "outputs": [],
      "execution_count": null
    },
    {
      "cell_type": "markdown",
      "metadata": {},
      "source": [
        "__Extending Objects__\n",
        "\n",
        "The **PyAutoLens** API has been designed such that all of the objects introduced above are extensible. `Galaxy` \n",
        "objects can take many `LightProfile`'s and `MassProfile`'s. `Tracer`' objects can take many `Galaxy`'s. \n",
        "\n",
        "If the galaxies are at different redshifts a strong lensing system with multiple lens planes will be created, \n",
        "performing complex multi-plane ray-tracing calculations.\n",
        "\n",
        "To finish, lets create a `Tracer` with 3 galaxies at 3 different redshifts, forming a system with two distinct Einstein\n",
        "rings! The mass distribution of the first galaxy also has separate components for its stellar mass and dark matter."
      ]
    },
    {
      "cell_type": "code",
      "metadata": {},
      "source": [
        "lens_galaxy_0 = al.Galaxy(\n",
        "    redshift=0.5,\n",
        "    bulge=al.lmp.Sersic(\n",
        "        centre=(0.0, 0.0),\n",
        "        ell_comps=(0.0, 0.05),\n",
        "        intensity=0.5,\n",
        "        effective_radius=0.3,\n",
        "        sersic_index=3.5,\n",
        "        mass_to_light_ratio=0.6,\n",
        "    ),\n",
        "    disk=al.lmp.Exponential(\n",
        "        centre=(0.0, 0.0),\n",
        "        ell_comps=(0.0, 0.1),\n",
        "        intensity=1.0,\n",
        "        effective_radius=2.0,\n",
        "        mass_to_light_ratio=0.2,\n",
        "    ),\n",
        "    dark=al.mp.NFWSph(centre=(0.0, 0.0), kappa_s=0.08, scale_radius=30.0),\n",
        ")\n",
        "\n",
        "lens_galaxy_1 = al.Galaxy(\n",
        "    redshift=1.0,\n",
        "    bulge=al.lp.Exponential(\n",
        "        centre=(0.00, 0.00),\n",
        "        ell_comps=(0.05, 0.05),\n",
        "        intensity=1.2,\n",
        "        effective_radius=0.1,\n",
        "    ),\n",
        "    mass=al.mp.Isothermal(\n",
        "        centre=(0.0, 0.0), ell_comps=(0.05, 0.05), einstein_radius=0.3\n",
        "    ),\n",
        ")\n",
        "\n",
        "source_galaxy = al.Galaxy(\n",
        "    redshift=2.0,\n",
        "    bulge=al.lp.Sersic(\n",
        "        centre=(0.0, 0.0),\n",
        "        ell_comps=(0.0, 0.111111),\n",
        "        intensity=1.4,\n",
        "        effective_radius=0.1,\n",
        "        sersic_index=1.5,\n",
        "    ),\n",
        ")\n",
        "\n",
        "tracer = al.Tracer(galaxies=[lens_galaxy_0, lens_galaxy_1, source_galaxy])"
      ],
      "outputs": [],
      "execution_count": null
    },
    {
      "cell_type": "markdown",
      "metadata": {},
      "source": [
        "This is what the lens looks like. \n",
        "\n",
        "Note how crazy the critical curves are!"
      ]
    },
    {
      "cell_type": "code",
      "metadata": {},
      "source": [
        "tracer_plotter = aplt.TracerPlotter(tracer=tracer, grid=grid)\n",
        "tracer_plotter.set_title(label=\"Image of Complex Strong Lens\")\n",
        "tracer_plotter.figures_2d(image=True)\n"
      ],
      "outputs": [],
      "execution_count": null
    },
    {
      "cell_type": "markdown",
      "metadata": {},
      "source": [
        "__Attributes__\n",
        "\n",
        "Printing individual attributes of the max log likelihood tracer gives us access to the inferred parameters of the\n",
        "lens and source galaxies.\n",
        "\n",
        "The tracer contains the galaxies as both a list and an instance of the model used to fit it. This means we can\n",
        "access the same values in two ways, either indexing the galaxies list index or by the name used in model composition.\n",
        "\n",
        "It can be difficult to track which galaxy is which index in the list, so it is recommended to use the model\n",
        "composition to access the galaxies."
      ]
    },
    {
      "cell_type": "code",
      "metadata": {},
      "source": [
        "print(f\"Einstein Radius via list index = {tracer.galaxies[1].mass.einstein_radius}\")"
      ],
      "outputs": [],
      "execution_count": null
    },
    {
      "cell_type": "markdown",
      "metadata": {},
      "source": [
        "__Lensing Quantities__\n",
        "\n",
        "The maximum log likelihood tracer contains a lot of information about the inferred model.\n",
        "\n",
        "For example, by passing it a 2D grid of (y,x) coordinates we can return a numpy array containing its 2D image. This\n",
        "includes the lens light and lensed source images.\n",
        "\n",
        "Below, we use the grid of the `imaging` to computed the image on, which is the grid used to fit to the data."
      ]
    },
    {
      "cell_type": "code",
      "metadata": {},
      "source": [
        "image = tracer.image_2d_from(grid=grid)"
      ],
      "outputs": [],
      "execution_count": null
    },
    {
      "cell_type": "markdown",
      "metadata": {},
      "source": [
        "__Data Structures Slim / Native__\n",
        "\n",
        "The image above is returned as a 1D numpy array. \n",
        "\n",
        "**PyAutoLens** includes dedicated functionality for manipulating this array, for example mapping it to 2D or\n",
        "performing the calculation on a high resolution sub-grid which is then binned up. \n",
        "\n",
        "This uses the data structure API, which is described in the `results/examples/data_structures.py` example. This \n",
        "tutorial will avoid using this API, but if you need to manipulate results in more detail you should check it out."
      ]
    },
    {
      "cell_type": "code",
      "metadata": {},
      "source": [
        "print(image.slim)"
      ],
      "outputs": [],
      "execution_count": null
    },
    {
      "cell_type": "markdown",
      "metadata": {},
      "source": [
        "__Grid Choices__\n",
        "\n",
        "We can input a different grid, which is not masked, to evaluate the image everywhere of interest. We can also change\n",
        "the grid's resolution from that used in the model-fit.\n",
        "\n",
        "The examples uses a grid with `shape_native=(3,3)`. This is much lower resolution than one would typically use to \n",
        "perform ray tracing, but is chosen here so that the `print()` statements display in a concise and readable format."
      ]
    },
    {
      "cell_type": "code",
      "metadata": {},
      "source": [
        "grid = al.Grid2D.uniform(shape_native=(5, 5), pixel_scales=0.1)\n",
        "\n",
        "image = tracer.image_2d_from(grid=grid)\n",
        "\n",
        "print(image.slim)"
      ],
      "outputs": [],
      "execution_count": null
    },
    {
      "cell_type": "markdown",
      "metadata": {},
      "source": [
        "__Sub Gridding__\n",
        "\n",
        "A grid can also have a sub-grid, defined via its `sub_size`, which defines how each pixel on the 2D grid is split \n",
        "into sub-pixels of size (`sub_size` x `sub_size`). \n",
        "\n",
        "The calculation below shows how to use a sub-grid and return an image which has already been binned up. \n",
        "\n",
        "Full details of the API for this calculation are given in the `guides/over_sampling.py` example."
      ]
    },
    {
      "cell_type": "code",
      "metadata": {},
      "source": [
        "grid = al.Grid2D.uniform(\n",
        "    shape_native=grid.shape_native,\n",
        "    pixel_scales=grid.pixel_scales,\n",
        "    over_sampling=al.OverSamplingUniform(sub_size=2),\n",
        ")\n",
        "\n",
        "grid_sub = al.Grid2D.uniform(shape_native=(3, 3), pixel_scales=0.1)\n",
        "\n",
        "image = tracer.image_2d_from(grid=grid_sub)\n",
        "\n",
        "print(image)"
      ],
      "outputs": [],
      "execution_count": null
    },
    {
      "cell_type": "markdown",
      "metadata": {},
      "source": [
        "__Positions Grid__\n",
        "\n",
        "We may want the image at specific (y,x) coordinates.\n",
        "\n",
        "We can use an irregular 2D (y,x) grid of coordinates for this. The grid below evaluates the image at:\n",
        "\n",
        "- y = 1.0, x = 1.0.\n",
        "- y = 1.0, x = 2.0.\n",
        "- y = 2.0, x = 2.0."
      ]
    },
    {
      "cell_type": "code",
      "metadata": {},
      "source": [
        "grid_irregular = al.Grid2DIrregular(values=[[1.0, 1.0], [1.0, 2.0], [2.0, 2.0]])\n",
        "\n",
        "image = tracer.image_2d_from(grid=grid_irregular)\n",
        "\n",
        "print(image)"
      ],
      "outputs": [],
      "execution_count": null
    },
    {
      "cell_type": "markdown",
      "metadata": {},
      "source": [
        "__Scalar Lensing Quantities__\n",
        "\n",
        "The tracer has many scalar lensing quantities, which are all returned using an `Array2D` and therefore use the same \n",
        "interface as images, described above.\n",
        "\n",
        "For example, we can compute the `Tracer`'s convergence using all of the grids above."
      ]
    },
    {
      "cell_type": "code",
      "metadata": {},
      "source": [
        "convergence_2d = tracer.convergence_2d_from(grid=grid)\n",
        "print(convergence_2d)\n",
        "\n",
        "convergence_2d = tracer.convergence_2d_from(grid=grid_sub)\n",
        "print(convergence_2d)\n",
        "\n",
        "convergence_2d = tracer.convergence_2d_from(grid=grid_irregular)\n",
        "print(convergence_2d)"
      ],
      "outputs": [],
      "execution_count": null
    },
    {
      "cell_type": "markdown",
      "metadata": {},
      "source": [
        "This is the convergence of every galaxy in the tracer summed together. It may not be appropriate if your lens model \n",
        "performs multi-plane ray-tracing (e.g. there are more than 2 redshifts containing galaxies). Later results tutorials\n",
        "provide tools that are more appropriate for multi-plane tracers.\n",
        "\n",
        "There are other scalar quantities accessible via the tracer (those not familiar with strong lensing mathematical \n",
        "formalism may not recognise what these quantities are -- don't worry about it for now!):"
      ]
    },
    {
      "cell_type": "code",
      "metadata": {},
      "source": [
        "potential_2d = tracer.potential_2d_from(grid=grid)\n",
        "\n",
        "tangential_eigen_value = tracer.tangential_eigen_value_from(grid=grid)\n",
        "radial_eigen_value = tracer.radial_eigen_value_from(grid=grid)\n"
      ],
      "outputs": [],
      "execution_count": null
    },
    {
      "cell_type": "markdown",
      "metadata": {},
      "source": [
        "A 2D magnification map is available, which using only the ray-tracing and therefore mass model quantities how much\n",
        "light rays are focus at a given point in the image-plane.\n",
        "\n",
        "If you are studying a strongly lensed source galaxy and want to know how much the galaxy itself is magnified, the\n",
        "magnification below is not of too much use too you. In the result tutorial `galaxies.py` we explain how the \n",
        "magnification of the source can be quantified."
      ]
    },
    {
      "cell_type": "code",
      "metadata": {},
      "source": [
        "magnification_2d = tracer.magnification_2d_from(grid=grid)"
      ],
      "outputs": [],
      "execution_count": null
    },
    {
      "cell_type": "markdown",
      "metadata": {},
      "source": [
        "__Vector Quantities__\n",
        "\n",
        "Many lensing quantities are vectors. That is, they are (y,x) coordinates that have 2 values representing their\n",
        "magnitudes in both the y and x directions.\n",
        "\n",
        "These quantities also have a dedicated data structure which is described fully in \n",
        "the `results/examples/data_structure.py` example.\n",
        "\n",
        "The most obvious of these is the deflection angles, which are used throughout lens modeling to ray-trace grids\n",
        "from the image-plane to the source-plane via a lens galaxy mass model.\n",
        "\n",
        "To indicate that a quantities is a vector, **PyAutoLens** uses the label `_yx`"
      ]
    },
    {
      "cell_type": "code",
      "metadata": {},
      "source": [
        "deflections_yx_2d = tracer.deflections_yx_2d_from(grid=grid)"
      ],
      "outputs": [],
      "execution_count": null
    },
    {
      "cell_type": "markdown",
      "metadata": {},
      "source": [
        "For vector quantities the has shape `2`, corresponding to the y and x vectors respectively."
      ]
    },
    {
      "cell_type": "code",
      "metadata": {},
      "source": [
        "print(deflections_yx_2d[0, :])"
      ],
      "outputs": [],
      "execution_count": null
    },
    {
      "cell_type": "markdown",
      "metadata": {},
      "source": [
        "The `VectorYX2D` object has a built in method to return the magnitude of each vector, which is a scalar quantity\n",
        "and therefore returned using a 1D Numpy array."
      ]
    },
    {
      "cell_type": "code",
      "metadata": {},
      "source": [
        "deflection_magnitudes_2d = deflections_yx_2d.magnitudes\n",
        "print(deflection_magnitudes_2d)"
      ],
      "outputs": [],
      "execution_count": null
    },
    {
      "cell_type": "markdown",
      "metadata": {},
      "source": [
        "__Other Vector Lensing Quantities__\n",
        "\n",
        "The tracer has other vector lensing quantities, which use the same interface described above."
      ]
    },
    {
      "cell_type": "code",
      "metadata": {},
      "source": [
        "shear_yx_2d = tracer.shear_yx_2d_via_hessian_from(grid=grid)"
      ],
      "outputs": [],
      "execution_count": null
    },
    {
      "cell_type": "markdown",
      "metadata": {},
      "source": [
        "__Other Quantities__\n",
        "\n",
        "Many more quantities are shown below.\n",
        "\n",
        "A full description of each can be found in the docstring of the source code of each function:\n",
        "\n",
        "   https://github.com/Jammy2211/PyAutoGalaxy/blob/main/autogalaxy/operate/deflections.py"
      ]
    },
    {
      "cell_type": "code",
      "metadata": {},
      "source": [
        "tangential_critical_curve = tracer.tangential_critical_curve_list_from(grid=grid)\n",
        "\n",
        "radial_critical_curve = tracer.radial_critical_curve_list_from(grid=grid)\n",
        "\n",
        "tangential_caustic = tracer.tangential_caustic_list_from(grid=grid)\n",
        "\n",
        "radial_caustic = tracer.radial_caustic_list_from(grid=grid)\n",
        "\n",
        "### You should be able to comment this out and it work fine ###\n",
        "\n",
        "# area_within_tangential_critical_curve = (\n",
        "#     tracer.tangential_critical_curve_area_list_from(grid=grid)\n",
        "# )\n",
        "#\n",
        "# einstein_radius = tracer.einstein_radius_from(grid=grid)\n",
        "#\n",
        "# einstein_mass_angular = tracer.einstein_mass_angular_from(grid=grid)"
      ],
      "outputs": [],
      "execution_count": null
    },
    {
      "cell_type": "markdown",
      "metadata": {},
      "source": [
        "Fin."
      ]
    },
    {
      "cell_type": "code",
      "metadata": {},
      "source": [],
      "outputs": [],
      "execution_count": null
    }
  ],
  "metadata": {
    "anaconda-cloud": {},
    "kernelspec": {
      "display_name": "Python 3",
      "language": "python",
      "name": "python3"
    },
    "language_info": {
      "codemirror_mode": {
        "name": "ipython",
        "version": 3
      },
      "file_extension": ".py",
      "mimetype": "text/x-python",
      "name": "python",
      "nbconvert_exporter": "python",
      "pygments_lexer": "ipython3",
      "version": "3.6.1"
    }
  },
  "nbformat": 4,
  "nbformat_minor": 4
}