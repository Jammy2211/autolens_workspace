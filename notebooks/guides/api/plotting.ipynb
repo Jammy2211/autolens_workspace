{
  "cells": [
    {
      "cell_type": "markdown",
      "metadata": {},
      "source": [
        "Plotting\n",
        "========\n",
        "\n",
        "If you are looking for a description of how to customize the appearance of plots, for example:\n",
        "\n",
        "- Changing the matplotlib color map and settings so they display images in your preferred style.\n",
        "- Controlling what visuals (e.g. the mask, critical curves, etc.) are plotted on figures.\n",
        "- Other advanced plotting settings and customizations.\n",
        "\n",
        "Go to the `autolens_workspace/*/plot` package, and start by reading the `start_here.ipynb` example.\n",
        "This will give you an overview of the plotting tools available, how to customize them, and guide you to other plotting\n",
        "examples which you may find useful!"
      ]
    },
    {
      "cell_type": "code",
      "metadata": {},
      "source": [],
      "outputs": [],
      "execution_count": null
    }
  ],
  "metadata": {
    "anaconda-cloud": {},
    "kernelspec": {
      "display_name": "Python 3",
      "language": "python",
      "name": "python3"
    },
    "language_info": {
      "codemirror_mode": {
        "name": "ipython",
        "version": 3
      },
      "file_extension": ".py",
      "mimetype": "text/x-python",
      "name": "python",
      "nbconvert_exporter": "python",
      "pygments_lexer": "ipython3",
      "version": "3.6.1"
    }
  },
  "nbformat": 4,
  "nbformat_minor": 4
}