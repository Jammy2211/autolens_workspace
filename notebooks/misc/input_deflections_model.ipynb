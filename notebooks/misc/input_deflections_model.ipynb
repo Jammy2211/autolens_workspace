{
  "cells": [
    {
      "cell_type": "markdown",
      "metadata": {},
      "source": [
        "Example: Known Deflections Model\n",
        "================================\n",
        "\n",
        "This example is a continuation of the script `input_deflections_sourre_planes.py`. You should read through that\n",
        "script if you have not done so already before covering this script.\n",
        "\n",
        "As we discussed, we can now use an input deflection angle map from an external source to create lensed images of\n",
        "source galaxies. In this example, we assume the source is not known and something we fit for via lens modeling."
      ]
    },
    {
      "cell_type": "code",
      "metadata": {},
      "source": [
        "%matplotlib inline\n",
        "from pyprojroot import here\n",
        "workspace_path = str(here())\n",
        "%cd $workspace_path\n",
        "print(f\"Working Directory has been set to `{workspace_path}`\")\n",
        "\n",
        "from os import path\n",
        "import autofit as af\n",
        "import autolens as al\n",
        "import autolens.plot as aplt"
      ],
      "outputs": [],
      "execution_count": null
    },
    {
      "cell_type": "markdown",
      "metadata": {},
      "source": [
        "To begin, we set up the `InputDeflections` object in an identical fashion to the previous example.\n",
        "\n",
        "In this example, our `input` deflection angle map is the true deflection angles of the `Imaging` data simulated in the \n",
        "`mass_sie__source_lp.py` simulator. You should be able to simply edit the `from_fits` methods below to point\n",
        "to your own dataset an deflection maps.\n",
        "\n",
        "Load and plot this dataset."
      ]
    },
    {
      "cell_type": "code",
      "metadata": {},
      "source": [
        "dataset_name = \"simple__no_lens_light\"\n",
        "dataset_path = path.join(\"dataset\", \"imaging\", dataset_name)\n",
        "\n",
        "dataset = al.Imaging.from_fits(\n",
        "    data_path=path.join(dataset_path, \"data.fits\"),\n",
        "    psf_path=path.join(dataset_path, \"psf.fits\"),\n",
        "    noise_map_path=path.join(dataset_path, \"noise_map.fits\"),\n",
        "    pixel_scales=0.1,\n",
        ")\n",
        "\n",
        "dataset_plotter = aplt.ImagingPlotter(dataset=dataset)\n",
        "dataset_plotter.subplot_dataset()"
      ],
      "outputs": [],
      "execution_count": null
    },
    {
      "cell_type": "markdown",
      "metadata": {},
      "source": [
        "In `autolens_workspace/examples/misc/files` you`ll find the script `make_source_plane.py`, which creates the image-plane \n",
        "`Grid2D` and deflection angles we use in this example (which are identical to those used in the \n",
        "`mass_sie__source_lp.py` simulator). \n",
        "\n",
        "Load the input deflection angle map from a .fits files (which is created in the code mentioned above)."
      ]
    },
    {
      "cell_type": "code",
      "metadata": {},
      "source": [
        "deflections_y = al.Array2D.from_fits(\n",
        "    file_path=path.join(\"dataset\", \"misc\", \"deflections_y.fits\"),\n",
        "    pixel_scales=dataset.pixel_scales,\n",
        ")\n",
        "deflections_x = al.Array2D.from_fits(\n",
        "    file_path=path.join(\"dataset\", \"misc\", \"deflections_x.fits\"),\n",
        "    pixel_scales=dataset.pixel_scales,\n",
        ")"
      ],
      "outputs": [],
      "execution_count": null
    },
    {
      "cell_type": "markdown",
      "metadata": {},
      "source": [
        "Lets plot the deflection angles to make sure they look like what we expect!"
      ]
    },
    {
      "cell_type": "code",
      "metadata": {},
      "source": [
        "aplt.Array2DPlotter(array=deflections_y)\n",
        "aplt.Array2DPlotter(array=deflections_x)"
      ],
      "outputs": [],
      "execution_count": null
    },
    {
      "cell_type": "markdown",
      "metadata": {},
      "source": [
        "Lets next load and plot the image-plane grid"
      ]
    },
    {
      "cell_type": "code",
      "metadata": {},
      "source": [
        "grid = al.Grid2D.from_fits(\n",
        "    file_path=path.join(\"dataset\", \"misc\", \"grid.fits\"),\n",
        "    pixel_scales=dataset.pixel_scales,\n",
        ")\n",
        "grid_plotter = aplt.Grid2DPlotter(grid=grid)\n",
        "grid_plotter.figure_2d()"
      ],
      "outputs": [],
      "execution_count": null
    },
    {
      "cell_type": "markdown",
      "metadata": {},
      "source": [
        "The `Mask2D` our model-fit using the `InputDeflections` will use. This is set up the same way as the previous script, but\n",
        "not this `Mask2D` now defines the image-plane region we will fit the data (and therefore where our residuals, chi-squared,\n",
        "likelihood, etc is calculated."
      ]
    },
    {
      "cell_type": "code",
      "metadata": {},
      "source": [
        "mask = al.Mask2D.circular(\n",
        "    shape_native=dataset.shape_native, pixel_scales=dataset.pixel_scales, radius=3.0\n",
        ")\n",
        "\n",
        "grid = al.Grid2D.from_mask(mask=mask)\n",
        "\n",
        "dataset = dataset.apply_mask(mask=mask)"
      ],
      "outputs": [],
      "execution_count": null
    },
    {
      "cell_type": "markdown",
      "metadata": {},
      "source": [
        "We create the `InputDeflections` `MassProfile`.almosst the same as the previous example. This is going to be passed to \n",
        "a  `Model` below, so we can use it with a source model to fit to the `Imaging` data using a non-linear search.\n",
        "\n",
        "However, we pass two additional parameters, `preload_grid` and `preload_blurring_grid`. \n",
        "\n",
        "The interpolation performed by the `InputDeflections` can be computationally slow, and if we did it for every \n",
        "lens model we fit to the data we`d waste a lot of time. However, because our deflection angle map is fixed and the \n",
        "`grid` and `blurring_grid` we interpolated it to are fixed, by passing the latter as a `preload_grid` we can skip\n",
        "this expensive repeated calculation and speed up the code significantly."
      ]
    },
    {
      "cell_type": "code",
      "metadata": {},
      "source": [
        "image_plane_grid = al.Grid2D.uniform(\n",
        "    shape_native=dataset.shape_native, pixel_scales=dataset.pixel_scales\n",
        ")\n",
        "\n",
        "input_deflections = al.mp.InputDeflections(\n",
        "    deflections_y=deflections_y,\n",
        "    deflections_x=deflections_x,\n",
        "    image_plane_grid=image_plane_grid,\n",
        "    preload_grid=grid,\n",
        "    preload_blurring_grid=al.Grid2D.blurring_grid_from(\n",
        "        mask=mask, kernel_shape_native=dataset.psf.shape_native\n",
        "    ),\n",
        ")"
      ],
      "outputs": [],
      "execution_count": null
    },
    {
      "cell_type": "markdown",
      "metadata": {},
      "source": [
        "__Model__\n",
        "\n",
        "We now compose the lens and source `Model`, where the source is an `Sersic`."
      ]
    },
    {
      "cell_type": "code",
      "metadata": {},
      "source": [
        "lens = af.Model(al.Galaxy, redshift=0.5, mass=input_deflections)\n",
        "source = af.Model(al.Galaxy, redshift=1.0, bulge=al.lp.Sersic)\n",
        "\n",
        "model = af.Collection(galaxies=af.Collection(lens=lens, source=source))"
      ],
      "outputs": [],
      "execution_count": null
    },
    {
      "cell_type": "markdown",
      "metadata": {},
      "source": [
        "__Search__\n",
        "\n",
        "The source is fitted to the `Imaging` data via the input deflection angles using a non-linear search, which we \n",
        "specify below as the nested sampling algorithm Nautilus (https://nautilus-sampler.readthedocs.io/en/latest/). Checkout \n",
        "other examples on the workspace if you are unsure what this does!\n",
        "\n",
        "The script `autolens_workspace/*/modeling/customize/non_linear_searches.py` gives a description of the types of\n",
        "non-linear searches that **PyAutoLens** supports. If you do not know what a non-linear search is or how it \n",
        "operates, checkout chapters 1 and 2 of the HowToLens lecture series."
      ]
    },
    {
      "cell_type": "code",
      "metadata": {},
      "source": [
        "search = af.Nautilus(\n",
        "    path_prefix=path.join(\"misc\"),\n",
        "    name=\"search__input_deflections\",\n",
        "    unique_tag=dataset_name,\n",
        "    n_live=150,\n",
        ")"
      ],
      "outputs": [],
      "execution_count": null
    },
    {
      "cell_type": "markdown",
      "metadata": {},
      "source": [
        "__Analysis__\n",
        "\n",
        "Create the `AnalysisImaging` object defining how the via Nautilus the model is fitted to the data."
      ]
    },
    {
      "cell_type": "code",
      "metadata": {},
      "source": [
        "analysis = al.AnalysisImaging(dataset=dataset)"
      ],
      "outputs": [],
      "execution_count": null
    },
    {
      "cell_type": "markdown",
      "metadata": {},
      "source": [
        "__Model-Fit__\n",
        "\n",
        "We can now begin the model-fit by passing the model and analysis object to the search, which performs a non-linear\n",
        "search to find which models fit the data with the highest likelihood.\n",
        "\n",
        "Checkout the folder `autolens_workspace/output/imaging/simple__no_lens_light/mass[sie]_source[bulge]` for live outputs \n",
        "of the results of the fit, including on-the-fly visualization of the best fit model!"
      ]
    },
    {
      "cell_type": "code",
      "metadata": {},
      "source": [
        "result = search.fit(model=model, analysis=analysis)"
      ],
      "outputs": [],
      "execution_count": null
    },
    {
      "cell_type": "markdown",
      "metadata": {},
      "source": [
        "Finish."
      ]
    },
    {
      "cell_type": "code",
      "metadata": {},
      "source": [],
      "outputs": [],
      "execution_count": null
    }
  ],
  "metadata": {
    "anaconda-cloud": {},
    "kernelspec": {
      "display_name": "Python 3",
      "language": "python",
      "name": "python3"
    },
    "language_info": {
      "codemirror_mode": {
        "name": "ipython",
        "version": 3
      },
      "file_extension": ".py",
      "mimetype": "text/x-python",
      "name": "python",
      "nbconvert_exporter": "python",
      "pygments_lexer": "ipython3",
      "version": "3.6.1"
    }
  },
  "nbformat": 4,
  "nbformat_minor": 4
}