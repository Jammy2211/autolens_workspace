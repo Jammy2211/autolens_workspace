{
  "cells": [
    {
      "cell_type": "markdown",
      "metadata": {},
      "source": [
        "Results: Start Here\n",
        "===================\n",
        "\n",
        "This script is the starting point for investigating the results of lens modeling and it provides\n",
        "an overview of the lens modeling API.\n",
        "\n",
        "The majority of results are dataset independent, meaning that the same API can be used to inspect the results of any\n",
        "lens model. Therefore, for the majority of results we refer you to the `autolens_workspace/imaging/results` package,\n",
        "which details the API which can be copy and pasted for interferometer fits.\n",
        "\n",
        "The `examples` folder here does provide specific examples of how to inspects the results of fits using\n",
        "interferometer datasets.\n",
        "\n",
        "__Model__\n",
        "\n",
        "We begin by fitting a quick lens model to a simple lens dataset, which we will use to illustrate the lens modeling\n",
        "results API.\n",
        "\n",
        "If you are not familiar with the lens modeling API and process, checkout the `autolens_workspace/examples/modeling`\n",
        "folder for examples."
      ]
    },
    {
      "cell_type": "code",
      "metadata": {},
      "source": [
        "%matplotlib inline\n",
        "from pyprojroot import here\n",
        "workspace_path = str(here())\n",
        "%cd $workspace_path\n",
        "print(f\"Working Directory has been set to `{workspace_path}`\")\n",
        "\n",
        "from os import path\n",
        "import autofit as af\n",
        "import autolens as al\n",
        "import autolens.plot as aplt"
      ],
      "outputs": [],
      "execution_count": null
    },
    {
      "cell_type": "markdown",
      "metadata": {},
      "source": [
        "__Model Fit__\n",
        "\n",
        "The code below (which we have omitted comments from for brevity) performs a lens model-fit using Nautilus. You should\n",
        "be familiar enough with lens modeling to understand this, if not you should go over the beginner model-fit script again!"
      ]
    },
    {
      "cell_type": "code",
      "metadata": {},
      "source": [
        "real_space_mask = al.Mask2D.circular(\n",
        "    shape_native=(800, 800), pixel_scales=0.05, radius=4.0\n",
        ")\n",
        "\n",
        "dataset_name = \"simple\"\n",
        "dataset_path = path.join(\"dataset\", \"interferometer\", dataset_name)\n",
        "\n",
        "dataset = al.Interferometer.from_fits(\n",
        "    data_path=path.join(dataset_path, \"data.fits\"),\n",
        "    noise_map_path=path.join(dataset_path, \"noise_map.fits\"),\n",
        "    uv_wavelengths_path=path.join(dataset_path, \"uv_wavelengths.fits\"),\n",
        "    real_space_mask=real_space_mask,\n",
        ")\n",
        "\n",
        "settings_dataset = al.SettingsInterferometer(transformer_class=al.TransformerNUFFT)\n",
        "\n",
        "# Lens:\n",
        "\n",
        "mass = af.Model(al.mp.Isothermal)\n",
        "shear = af.Model(al.mp.ExternalShear)\n",
        "\n",
        "lens = af.Model(al.Galaxy, redshift=0.5, mass=mass, shear=shear)\n",
        "\n",
        "# Source:\n",
        "\n",
        "bulge = af.Model(al.lp.Sersic)\n",
        "\n",
        "source = af.Model(al.Galaxy, redshift=1.0, bulge=bulge)\n",
        "\n",
        "# Overall Lens Model:\n",
        "\n",
        "model = af.Collection(galaxies=af.Collection(lens=lens, source=source))\n",
        "\n",
        "search = af.Nautilus(\n",
        "    path_prefix=path.join(\"interferometer\"),\n",
        "    name=\"mass[sie]_source[bulge]\",\n",
        "    unique_tag=dataset_name,\n",
        "    n_live=100,\n",
        "    number_of_cores=1,\n",
        ")\n",
        "\n",
        "analysis = al.AnalysisInterferometer(dataset=dataset)\n",
        "\n",
        "result = search.fit(model=model, analysis=analysis)"
      ],
      "outputs": [],
      "execution_count": null
    },
    {
      "cell_type": "markdown",
      "metadata": {},
      "source": [
        "__Info__\n",
        "\n",
        "As seen throughout the workspace, the `info` attribute shows the result in a readable format."
      ]
    },
    {
      "cell_type": "code",
      "metadata": {},
      "source": [
        "print(result.info)"
      ],
      "outputs": [],
      "execution_count": null
    },
    {
      "cell_type": "markdown",
      "metadata": {},
      "source": [
        "__Samples__\n",
        "\n",
        "The result's `Samples` object contains the complete set of non-linear search Nautilus samples, where each sample \n",
        "corresponds to a set of a model parameters that were evaluated and accepted. \n",
        "\n",
        "The examples script `autolens_workspace/*/imaging/results/examples/samples.py` provides a detailed description of \n",
        "this object, including:\n",
        "\n",
        " - Extracting the maximum likelihood lens model.\n",
        " - Using marginalized PDFs to estimate errors on the lens model parameters.\n",
        " - Deriving errors on derived quantities, such as the Einstein radius.\n",
        "\n",
        "Below, is an example of how to use the `Samples` object to estimate the lens mass model parameters which are \n",
        "the median of the probability distribution function and its errors at 3 sigma confidence intervals."
      ]
    },
    {
      "cell_type": "code",
      "metadata": {},
      "source": [
        "samples = result.samples\n",
        "\n",
        "median_pdf_instance = samples.median_pdf()\n",
        "\n",
        "print(\"Median PDF Model Instances: \\n\")\n",
        "print(median_pdf_instance.galaxies.lens.mass)\n",
        "print()\n",
        "\n",
        "ue3_instance = samples.values_at_upper_sigma(sigma=3.0)\n",
        "le3_instance = samples.values_at_lower_sigma(sigma=3.0)\n",
        "\n",
        "print(\"Errors Instances: \\n\")\n",
        "print(ue3_instance.galaxies.lens.mass, \"\\n\")\n",
        "print(le3_instance.galaxies.lens.mass, \"\\n\")"
      ],
      "outputs": [],
      "execution_count": null
    },
    {
      "cell_type": "markdown",
      "metadata": {},
      "source": [
        "__Tracer__\n",
        "\n",
        "The result's maximum likelihood `Tracer` object contains everything necessary to perform ray-tracing and other\n",
        "calculations with the lens model.\n",
        "\n",
        "The examples script `autolens_workspace/*/imaging/results/examples/tracer.py` provides a detailed \n",
        "description of this object, including:\n",
        "\n",
        " - Producing individual images of the lens and source galaxies in the image and source plane.\n",
        " - Inspecting mass model components like the convergence, potential and deflection angles.\n",
        " - Other lensing quantities like the critical curve and caustics.\n",
        "\n",
        "Below, is an example of how to use the `Tracer` object to calculate the image of the lens and source galaxies."
      ]
    },
    {
      "cell_type": "code",
      "metadata": {},
      "source": [
        "tracer = result.max_log_likelihood_tracer\n",
        "\n",
        "image = tracer.image_2d_from(grid=dataset.grid)"
      ],
      "outputs": [],
      "execution_count": null
    },
    {
      "cell_type": "markdown",
      "metadata": {},
      "source": [
        "__Fits__\n",
        "\n",
        "The result's maximum likelihood `FitInterferometer` object contains everything necessary to inspect the lens model \n",
        "fit to the  data.\n",
        "\n",
        "The examples script `autolens_workspace/*/imaging/results/examples/fits.py` provides a detailed description of this \n",
        "object, including:\n",
        "\n",
        " - How to inspect the residuals, chi-squared, likelihood and other quantities.\n",
        " - Outputting resulting images (e.g. the source reconstruction) to hard-disk.\n",
        " - Refitting the data with other lens models from the `Samples` object, to investigate how sensitive the fit is to\n",
        "   different lens models.\n",
        "\n",
        "This script uses a `FitImaging` object, but the API for the majority of quantities are identical for an \n",
        "interferometer fit.\n",
        "\n",
        "Below, is an example of how to use the `FitImaging` object to output the source reconstruction to print the \n",
        "chi-squared and log likelihood values."
      ]
    },
    {
      "cell_type": "code",
      "metadata": {},
      "source": [
        "fit = result.max_log_likelihood_fit\n",
        "\n",
        "print(fit.chi_squared)\n",
        "print(fit.log_likelihood)"
      ],
      "outputs": [],
      "execution_count": null
    },
    {
      "cell_type": "markdown",
      "metadata": {},
      "source": [
        "__Galaxies__\n",
        "\n",
        "The result's maximum likelihood `Galaxy` objects contain everything necessary to inspect the individual properties of\n",
        "the lens and source galaxies.\n",
        "\n",
        "The examples script `autolens_workspace/*/imaging/results/examples/galaxies.py` describes this object, including:\n",
        "\n",
        " - How to plot individual galaxy images, such as the source galaxy's image-plane and source-plane images.\n",
        " - Plotting the individual light profiles and mass profiles of the galaxies.\n",
        " - Making one dimensional profiles of the galaxies, such as their light and mass profiles as a function of radius.\n",
        " \n",
        "Below, is an example of how to use the `Galaxy` objects to plot the source galaxy's source-plane image."
      ]
    },
    {
      "cell_type": "code",
      "metadata": {},
      "source": [
        "tracer = result.max_log_likelihood_tracer\n",
        "\n",
        "source = tracer.planes[1].galaxies[0]\n",
        "galaxy_plotter = aplt.GalaxyPlotter(galaxy=source, grid=dataset.grid)\n",
        "galaxy_plotter.figures_2d(image=True)"
      ],
      "outputs": [],
      "execution_count": null
    },
    {
      "cell_type": "markdown",
      "metadata": {},
      "source": [
        "__Cosmological Quantities__\n",
        "\n",
        "The maximum likelihood model includes cosmological quantities, which can be computed via the result.\n",
        "\n",
        "The examples script `autolens_workspace/*/imaging/results/examples/cosmological_quantities.py` provides a detailed \n",
        "description of this object, including:\n",
        "\n",
        " - Calculating the Einstein radius of the lens galaxy.\n",
        " - Converting quantities like the Einstein radius or effective radius from arcseconds to kiloparsecs.\n",
        " - Computing the Einstein mass of the lens galaxy in solar masses.\n",
        " \n",
        "Below, is an example of how to convert the effective radius of the source galaxy from arcseconds to kiloparsecs."
      ]
    },
    {
      "cell_type": "code",
      "metadata": {},
      "source": [
        "tracer = result.max_log_likelihood_tracer\n",
        "\n",
        "cosmology = al.cosmo.Planck15()\n",
        "\n",
        "source = tracer.planes[1].galaxies[0]\n",
        "source_kpc_per_arcsec = cosmology.kpc_per_arcsec_from(redshift=source.redshift)\n",
        "source_effective_radius_kpc = source.bulge.effective_radius * source_kpc_per_arcsec"
      ],
      "outputs": [],
      "execution_count": null
    },
    {
      "cell_type": "markdown",
      "metadata": {},
      "source": [
        "__Linear Light Profiles / Basis Objects__\n",
        "\n",
        "A lens model can be fitted using a linear light profile, which is a light profile whose `intensity` parameter is \n",
        "sovled for via linear algebra.\n",
        "\n",
        "This includes Basis objects such as a Multi-Gaussian expansion of Shapelets.\n",
        "\n",
        "These objects mostly behave identically to ordinary light profiles, but due to the linear algebra have their own\n",
        "specific functionality.\n",
        "\n",
        "The example script `autolens_workspace/*/imaging/results/examples/linear.py` provides a detailed description of \n",
        "this functionality, including:\n",
        "\n",
        " - Extracting individual quantities from the linear light profile, such as the coefficients of the basis functions.\n",
        " - Extracting the intensity of the linear light profiles after they have been computed via linear algebra.\n",
        " - Plotting the linear light profiles.\n",
        " \n",
        "The fit above did not use a pixelization, so we omit a example of the API below.\n",
        "\n",
        "__Pixelization__\n",
        "\n",
        "The lens model can reconstruct the source galaxy using a pixelization, for example on a Voronoi mesh.\n",
        "\n",
        "The example script `autolens_workspace/*/imaging/results/examples/pixelizations.py` describes inspecting the results of a fit using a pixelization, including:\n",
        "\n",
        " - Producing source reconstructions using the Voronoi mesh, Delaunay triangulation or whichever mesh is used.\n",
        " - Inspecting the evidence terms of the fit, which quantify how well the pixelization reconstructs fits the data whilst\n",
        "   accounting for the complexity of the pixelization.\n",
        " - Estimating the magnification of the source galaxy's image using the pixelization.\n",
        "\n",
        "The fit above did not use a pixelization, so we omit a example of the API below."
      ]
    },
    {
      "cell_type": "code",
      "metadata": {},
      "source": [],
      "outputs": [],
      "execution_count": null
    }
  ],
  "metadata": {
    "anaconda-cloud": {},
    "kernelspec": {
      "display_name": "Python 3",
      "language": "python",
      "name": "python3"
    },
    "language_info": {
      "codemirror_mode": {
        "name": "ipython",
        "version": 3
      },
      "file_extension": ".py",
      "mimetype": "text/x-python",
      "name": "python",
      "nbconvert_exporter": "python",
      "pygments_lexer": "ipython3",
      "version": "3.6.1"
    }
  },
  "nbformat": 4,
  "nbformat_minor": 4
}