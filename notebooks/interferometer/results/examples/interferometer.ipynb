{
  "cells": [
    {
      "cell_type": "markdown",
      "metadata": {},
      "source": [
        "This script still needs writing, I have kept some notes on questions asked by users which may help you..."
      ]
    },
    {
      "cell_type": "code",
      "metadata": {},
      "source": [
        "\n",
        "# %%\n",
        "'''\n",
        " > For interferometric data, which units PyAutoLens uses for brightness? I think they are in Jy/arcsec^2 (?) since \n",
        "   I have computed the magnification from from my original image in Jy/beam I just wanted to be sure that the conversions \n",
        "   I have assumed are fine.\n",
        "\n",
        "This is correct, the units of brightness are Jy/arcsec^2\n",
        "'''"
      ],
      "outputs": [],
      "execution_count": null
    },
    {
      "cell_type": "code",
      "metadata": {},
      "source": [],
      "outputs": [],
      "execution_count": null
    },
    {
      "cell_type": "markdown",
      "metadata": {},
      "source": [
        ">  -When converting the reconstructed source image to a .fits file, what is the best image shape to assume in the \n",
        "    interpolation ? By now I am using the same shape as the native one used when defining the real space mask at the \n",
        "    beginning, should it be fine? And also, what are the brightness units here?\n",
        "\n",
        "The reconstruction is essentially a devonvolved image which if you sum up all pixel you get the total flux of the \n",
        "source. If if was a regular grid in each pixel the units are Jy/pixel or Jy/arcsec^2\n",
        "\n",
        "The shape of the grid is really you're choice, so long as it does not extend spatially beyond the extent of the source\n",
        "reconstruction (as there is no reconstructed source values here in order to enable an accurate interpolation). \n",
        "\n",
        "I would use a shape which covers the whole source you are reconstructing (with a bit of padding), and gives visually\n",
        "appealing data you can use for whatever science you're interested in.\n",
        "\n",
        "I would imagine the shape of the real space mask is much larger than you really need, but probably doesn't do much\n",
        "harm either.\n",
        "\n",
        "One caveat may be magnifications. It could be that as you make the shape of the interpolation grid bigger, the\n",
        "magnification changes. I'm not sure on this but would advise you experiment to see if the magnifications \n",
        "seem \"stable\" (assuming you are estimate a magnification at some point)."
      ]
    },
    {
      "cell_type": "code",
      "metadata": {},
      "source": [],
      "outputs": [],
      "execution_count": null
    }
  ],
  "metadata": {
    "anaconda-cloud": {},
    "kernelspec": {
      "display_name": "Python 3",
      "language": "python",
      "name": "python3"
    },
    "language_info": {
      "codemirror_mode": {
        "name": "ipython",
        "version": 3
      },
      "file_extension": ".py",
      "mimetype": "text/x-python",
      "name": "python",
      "nbconvert_exporter": "python",
      "pygments_lexer": "ipython3",
      "version": "3.6.1"
    }
  },
  "nbformat": 4,
  "nbformat_minor": 4
}