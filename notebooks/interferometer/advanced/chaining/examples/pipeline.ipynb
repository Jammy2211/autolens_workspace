{
  "cells": [
    {
      "cell_type": "markdown",
      "metadata": {},
      "source": [
        "Pipelines: Mass Total + Source Inversion\n",
        "========================================\n",
        "\n",
        "By chaining together two searches this script fits `Interferometer` dataset of a 'galaxy-scale' strong lens, where in the\n",
        "final model:\n",
        ".\n",
        " - The lens galaxy's light is omitted from the data and model.\n",
        " - The lens galaxy's total mass distribution is an `PowerLaw`.\n",
        " - The source galaxy is an `Inversion`.\n",
        "\n",
        " __Run Times and Settings__\n",
        "\n",
        "The run times of an interferometer `Inversion` depend significantly on the following settings:\n",
        "\n",
        " - `transformer_class`: whether a discrete Fourier transform (`TransformerDFT`) or non-uniform fast Fourier Transform\n",
        " (`TransformerNUFFT) is used to map the inversion's image from real-space to Fourier space.\n",
        "\n",
        " - `use_linear_operators`: whether the linear operator formalism or matrix formalism is used for the linear algebra.\n",
        "\n",
        "The optimal settings depend on the number of visibilities in the dataset:\n",
        "\n",
        " - For N_visibilities < 1000: `transformer_class=TransformerDFT` and `use_linear_operators=False` gives the fastest\n",
        " run-times.\n",
        " - For  N_visibilities > ~10000: use `transformer_class=TransformerNUFFT`  and `use_linear_operators=True`.\n",
        "\n",
        "The dataset modeled by default in this script has just 200 visibilties, therefore `transformer_class=TransformerDFT`\n",
        "and `use_linear_operators=False`.\n",
        "\n",
        "The script `autolens_workspace/*/interferometer/run_times.py` allows you to compute the run-time of an inversion\n",
        "for your interferometer dataset. It does this for all possible combinations of settings and therefore can tell you\n",
        "which settings give the fastest run times for your dataset."
      ]
    },
    {
      "cell_type": "code",
      "metadata": {},
      "source": [
        "%matplotlib inline\n",
        "from pyprojroot import here\n",
        "workspace_path = str(here())\n",
        "%cd $workspace_path\n",
        "print(f\"Working Directory has been set to `{workspace_path}`\")\n",
        "\n",
        "import numpy as np\n",
        "from os import path\n",
        "import autofit as af\n",
        "import autolens as al\n",
        "import autolens.plot as aplt"
      ],
      "outputs": [],
      "execution_count": null
    },
    {
      "cell_type": "markdown",
      "metadata": {},
      "source": [
        "__Dataset + Masking__ \n",
        "\n",
        "Load the `Interferometer` data, define the visibility and real-space masks and plot them."
      ]
    },
    {
      "cell_type": "code",
      "metadata": {},
      "source": [
        "real_space_mask = al.Mask2D.circular(\n",
        "    shape_native=(151, 151), pixel_scales=0.05, radius=3.0\n",
        ")\n",
        "\n",
        "dataset_name = \"simple\"\n",
        "dataset_path = path.join(\"dataset\", \"interferometer\", dataset_name)\n",
        "\n",
        "dataset = al.Interferometer.from_fits(\n",
        "    data_path=path.join(dataset_path, \"data.fits\"),\n",
        "    noise_map_path=path.join(dataset_path, \"noise_map.fits\"),\n",
        "    uv_wavelengths_path=path.join(dataset_path, \"uv_wavelengths.fits\"),\n",
        "    real_space_mask=real_space_mask,\n",
        ")\n",
        "dataset = dataset.apply_settings(\n",
        "    settings=al.SettingsInterferometer(transformer_class=al.TransformerDFT)\n",
        ")"
      ],
      "outputs": [],
      "execution_count": null
    },
    {
      "cell_type": "markdown",
      "metadata": {},
      "source": [
        "__Inversion Settings (Run Times)__\n",
        "\n",
        "The run times of an interferometer `Inversion` depend significantly on the following settings:\n",
        "\n",
        " - `transformer_class`: whether a discrete Fourier transform (`TransformerDFT`) or non-uniform fast Fourier Transform\n",
        " (`TransformerNUFFT) is used to map the inversion's image from real-space to Fourier space.\n",
        "\n",
        " - `use_linear_operators`: whether the linear operator formalism or matrix formalism is used for the linear algebra.\n",
        "\n",
        "The optimal settings depend on the number of visibilities in the dataset:\n",
        "\n",
        " - For N_visibilities < 1000: `transformer_class=TransformerDFT` and `use_linear_operators=False` gives the fastest\n",
        " run-times.\n",
        " - For  N_visibilities > ~10000: use `transformer_class=TransformerNUFFT`  and `use_linear_operators=True`.\n",
        "\n",
        "The dataset modeled by default in this script has just 200 visibilties, therefore `transformer_class=TransformerDFT`\n",
        "and `use_linear_operators=False`. If you are using this script to model your own dataset with a different number of\n",
        "visibilities, you should update the options below accordingly.\n",
        "\n",
        "The script `autolens_workspace/*/interferometer/run_times.py` allows you to compute the run-time of an inversion\n",
        "for your interferometer dataset. It does this for all possible combinations of settings and therefore can tell you\n",
        "which settings give the fastest run times for your dataset."
      ]
    },
    {
      "cell_type": "code",
      "metadata": {},
      "source": [
        "settings_dataset = al.SettingsInterferometer(transformer_class=al.TransformerDFT)\n",
        "settings_inversion = al.SettingsInversion(use_linear_operators=False)"
      ],
      "outputs": [],
      "execution_count": null
    },
    {
      "cell_type": "markdown",
      "metadata": {},
      "source": [
        "We now create the `Interferometer` object which is used to fit the lens model.\n",
        "\n",
        "This includes a `SettingsInterferometer`, which includes the method used to Fourier transform the real-space \n",
        "image of the strong lens to the uv-plane and compare directly to the visiblities. We use a non-uniform fast Fourier \n",
        "transform, which is the most efficient method for interferometer datasets containing ~1-10 million visibilities."
      ]
    },
    {
      "cell_type": "code",
      "metadata": {},
      "source": [
        "dataset = dataset.apply_settings(settings=settings_dataset)\n",
        "dataset_plotter = aplt.InterferometerPlotter(dataset=dataset)\n",
        "dataset_plotter.subplot_dataset()\n",
        "dataset_plotter.subplot_dirty_images()"
      ],
      "outputs": [],
      "execution_count": null
    },
    {
      "cell_type": "markdown",
      "metadata": {},
      "source": [
        "__Paths__\n",
        "\n",
        "The path the results of all chained searches are output:"
      ]
    },
    {
      "cell_type": "code",
      "metadata": {},
      "source": [
        "path_prefix = path.join(\"interferometer\", \"pipelines\")"
      ],
      "outputs": [],
      "execution_count": null
    },
    {
      "cell_type": "markdown",
      "metadata": {},
      "source": [
        "__Redshifts__\n",
        "\n",
        "The redshifts of the lens and source galaxies, which are used to perform unit converions of the model and data (e.g. \n",
        "from arc-seconds to kiloparsecs, masses to solar masses, etc.)."
      ]
    },
    {
      "cell_type": "code",
      "metadata": {},
      "source": [
        "redshift_lens = 0.5\n",
        "redshift_source = 1.0"
      ],
      "outputs": [],
      "execution_count": null
    },
    {
      "cell_type": "markdown",
      "metadata": {},
      "source": [
        "__Model + Search + Analysis + Model-Fit (Search 1)__\n",
        "\n",
        "Search 1 fits a lens model where:\n",
        "\n",
        " - The lens galaxy's total mass distribution is an `Isothermal` with `ExternalShear` [7 parameters].\n",
        " \n",
        " - The source galaxy's light is a parametric `Sersic` [7 parameters].\n",
        "\n",
        "The number of free parameters and therefore the dimensionality of non-linear parameter space is N=14."
      ]
    },
    {
      "cell_type": "code",
      "metadata": {},
      "source": [
        "model_1 = af.Collection(\n",
        "    galaxies=af.Collection(\n",
        "        lens=af.Model(\n",
        "            al.Galaxy,\n",
        "            redshift=redshift_lens,\n",
        "            mass=al.mp.Isothermal,\n",
        "            shear=al.mp.ExternalShear,\n",
        "        ),\n",
        "        source=af.Model(al.Galaxy, redshift=redshift_source, bulge=al.lp.Sersic),\n",
        "    )\n",
        ")\n",
        "\n",
        "search_1 = af.Nautilus(\n",
        "    path_prefix=path_prefix,\n",
        "    name=\"search[1]_mass[sie]_source[lp]\",\n",
        "    unique_tag=dataset_name,\n",
        "    n_live=100,\n",
        ")\n",
        "\n",
        "analysis_1 = al.AnalysisInterferometer(dataset=dataset)\n",
        "\n",
        "result_1 = search_1.fit(model=model_1, analysis=analysis_1)"
      ],
      "outputs": [],
      "execution_count": null
    },
    {
      "cell_type": "markdown",
      "metadata": {},
      "source": [
        "__Model + Search + Analysis + Model-Fit (Search 2)__\n",
        "\n",
        "We use the results of search 1 to create the lens model fitted in search 2, where:\n",
        "\n",
        " - The lens galaxy's total mass distribution is an `Isothermal` and `ExternalShear` [Parameters fixed to \n",
        " results of search 1].\n",
        " \n",
        " - The source-galaxy's light uses a `DelaunayMagnification` mesh [2 parameters].\n",
        " \n",
        " - This pixelization is regularized using a `ConstantSplit` scheme [1 parameter]. \n",
        "\n",
        "The number of free parameters and therefore the dimensionality of non-linear parameter space is N=3.\n",
        "\n",
        "This search allows us to very efficiently set up the resolution of the mesh and regularization coefficient \n",
        "of the regularization scheme, before using these models to refit the lens mass model."
      ]
    },
    {
      "cell_type": "code",
      "metadata": {},
      "source": [
        "pixelization = af.Model(\n",
        "    al.Pixelization,\n",
        "    mesh=al.mesh.DelaunayMagnification,\n",
        "    regularization=al.reg.ConstantSplit,\n",
        ")\n",
        "\n",
        "model_2 = af.Collection(\n",
        "    galaxies=af.Collection(\n",
        "        lens=af.Model(\n",
        "            al.Galaxy,\n",
        "            redshift=redshift_lens,\n",
        "            mass=result_1.instance.galaxies.lens.mass,\n",
        "            shear=result_1.instance.galaxies.lens.shear,\n",
        "        ),\n",
        "        source=af.Model(al.Galaxy, redshift=redshift_source, pixelization=pixelization),\n",
        "    )\n",
        ")\n",
        "\n",
        "search_2 = af.Nautilus(\n",
        "    path_prefix=path_prefix,\n",
        "    name=\"search[2]_mass[sie]_source[pix_init]\",\n",
        "    unique_tag=dataset_name,\n",
        "    n_live=50,\n",
        ")\n",
        "\n",
        "analysis_2 = al.AnalysisInterferometer(\n",
        "    dataset=dataset, settings_inversion=settings_inversion\n",
        ")\n",
        "\n",
        "result_2 = search_2.fit(model=model_2, analysis=analysis_2)"
      ],
      "outputs": [],
      "execution_count": null
    },
    {
      "cell_type": "markdown",
      "metadata": {},
      "source": [
        "__Model + Search (Search 3)__\n",
        "\n",
        "We use the results of searches 1 and 2 to create the lens model fitted in search 3, where:\n",
        "\n",
        " - The lens galaxy's total mass distribution is an `Isothermal` and `ExternalShear` [7 parameters: priors \n",
        " initialized from search 1].\n",
        " \n",
        " - The source-galaxy's light uses a `DelaunayMagnification` mesh [parameters fixed to results of search 2].\n",
        " \n",
        " - This pixelization is regularized using a `ConstantSplit` scheme [parameters fixed to results of search 2]. \n",
        "\n",
        "The number of free parameters and therefore the dimensionality of non-linear parameter space is N=3.\n",
        "\n",
        "This search allows us to very efficiently set up the resolution of the mesh and regularization coefficient \n",
        "of the regularization scheme, before using these models to refit the lens mass model."
      ]
    },
    {
      "cell_type": "code",
      "metadata": {},
      "source": [
        "model_3 = af.Collection(\n",
        "    galaxies=af.Collection(\n",
        "        lens=af.Model(\n",
        "            al.Galaxy,\n",
        "            redshift=redshift_lens,\n",
        "            mass=result_1.model.galaxies.lens.mass,\n",
        "            shear=result_1.model.galaxies.lens.shear,\n",
        "        ),\n",
        "        source=af.Model(\n",
        "            al.Galaxy,\n",
        "            redshift=redshift_source,\n",
        "            pixelization=result_2.instance.galaxies.source.pixelization,\n",
        "        ),\n",
        "    )\n",
        ")\n",
        "\n",
        "search_3 = af.Nautilus(\n",
        "    path_prefix=path_prefix,\n",
        "    name=\"search[3]_mass[sie]_source[pix]\",\n",
        "    unique_tag=dataset_name,\n",
        "    n_live=100,\n",
        ")"
      ],
      "outputs": [],
      "execution_count": null
    },
    {
      "cell_type": "markdown",
      "metadata": {},
      "source": [
        "__Positions + Analysis + Model-Fit (Search 3)__\n",
        "\n",
        "We update the positions and positions threshold using the previous model-fitting result (as described \n",
        " in `chaining/examples/parametric_to_pixelization.py`) to remove unphysical solutions from the `Inversion` model-fitting."
      ]
    },
    {
      "cell_type": "code",
      "metadata": {},
      "source": [
        "analysis_3 = al.AnalysisInterferometer(\n",
        "    dataset=dataset,\n",
        "    positions_likelihood=result_2.positions_likelihood_from(\n",
        "        factor=3.0, minimum_threshold=0.2\n",
        "    ),\n",
        "    settings_inversion=settings_inversion,\n",
        ")\n",
        "\n",
        "result_3 = search_3.fit(model=model_3, analysis=analysis_3)"
      ],
      "outputs": [],
      "execution_count": null
    },
    {
      "cell_type": "markdown",
      "metadata": {},
      "source": [
        "__Model + Search + Analysis + Model-Fit (Search 4)__\n",
        "\n",
        "We use the results of searches 2 and 4 to create the lens model fitted in search 4, where:\n",
        "\n",
        " - The lens galaxy's total mass distribution is an `PowerLaw` and `ExternalShear` [8 parameters: priors \n",
        " initialized from search 3].\n",
        " \n",
        " - The source-galaxy's light uses a `DelaunayMagnification` mesh [parameters fixed to results of search 2].\n",
        " \n",
        " - This pixelization is regularized using a `ConstantSplit` scheme [parameters fixed to results of search 2]. \n",
        "\n",
        "The number of free parameters and therefore the dimensionality of non-linear parameter space is N=3.\n",
        "\n",
        "This search allows us to very efficiently set up the resolution of the mesh and regularization coefficient \n",
        "of the regularization scheme, before using these models to refit the lens mass model."
      ]
    },
    {
      "cell_type": "code",
      "metadata": {},
      "source": [
        "mass = af.Model(al.mp.PowerLaw)\n",
        "mass.take_attributes(result_3.model.galaxies.lens.mass)\n",
        "\n",
        "model_4 = af.Collection(\n",
        "    galaxies=af.Collection(\n",
        "        lens=af.Model(\n",
        "            al.Galaxy,\n",
        "            redshift=redshift_lens,\n",
        "            mass=mass,\n",
        "            shear=result_3.model.galaxies.lens.shear,\n",
        "        ),\n",
        "        source=af.Model(\n",
        "            al.Galaxy,\n",
        "            redshift=redshift_source,\n",
        "            pixelization=result_2.instance.galaxies.source.pixelization,\n",
        "        ),\n",
        "    )\n",
        ")\n",
        "\n",
        "search_4 = af.Nautilus(\n",
        "    path_prefix=path_prefix,\n",
        "    name=\"search[4]_mass[total]_source[pix]\",\n",
        "    unique_tag=dataset_name,\n",
        "    n_live=150,\n",
        ")\n",
        "\n",
        "analysis_4 = al.AnalysisInterferometer(\n",
        "    dataset=dataset,\n",
        "    positions_likelihood=result_3.positions_likelihood_from(\n",
        "        factor=3.0, minimum_threshold=0.2\n",
        "    ),\n",
        "    settings_inversion=settings_inversion,\n",
        ")\n",
        "\n",
        "result_4 = search_4.fit(model=model_4, analysis=analysis_4)"
      ],
      "outputs": [],
      "execution_count": null
    },
    {
      "cell_type": "markdown",
      "metadata": {},
      "source": [
        "Finish."
      ]
    },
    {
      "cell_type": "code",
      "metadata": {},
      "source": [],
      "outputs": [],
      "execution_count": null
    }
  ],
  "metadata": {
    "anaconda-cloud": {},
    "kernelspec": {
      "display_name": "Python 3",
      "language": "python",
      "name": "python3"
    },
    "language_info": {
      "codemirror_mode": {
        "name": "ipython",
        "version": 3
      },
      "file_extension": ".py",
      "mimetype": "text/x-python",
      "name": "python",
      "nbconvert_exporter": "python",
      "pygments_lexer": "ipython3",
      "version": "3.6.1"
    }
  },
  "nbformat": 4,
  "nbformat_minor": 4
}