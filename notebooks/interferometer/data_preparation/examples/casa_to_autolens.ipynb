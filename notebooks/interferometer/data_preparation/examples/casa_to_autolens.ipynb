{
  "cells": [
    {
      "cell_type": "markdown",
      "metadata": {},
      "source": [
        "THIS SCRIPT IS INCOMPLETE AND IN DEVELOPMENT BUT IT HOPEFULLY IS INFORMATIVE ENOUGH TO HELP YOU GET STARTED.\n",
        "\n",
        "If not contact us on SLACK!\n",
        "\n",
        "__CASA to PyAutoLens__\n",
        "\n",
        "The interferometer object in AutoLens takes as arguments the visibilities, uv_wavelengths and noise_map (i.e. the\n",
        "SIGMA associated with the visibilities). The uv_wavelengths should have a shape (n_vis, 2) where n_vis is the total\n",
        "number of visibilities and the two different columns correspond to the u, v components of the uv_wavenelengths.\n",
        "\n",
        "The visibilities and noise map are complex arrays of shape (n_vis, ) where the real and imag of the array are the real\n",
        "and imag parts of the visibilities and SIGMA.\n",
        "\n",
        "- Exporting visibilities and uv_wavelengths with CASA.\n",
        "\n",
        "ALMA data are stored in .ms data structure. The shape of the visibilities in this structure has a shape\n",
        "of (2, n_spw, n_c, n_v, 2) where n_spw in the number of spectral windows, n_c is the number of channels, n_v is the\n",
        "number of visibilities. The first two rows of this array correspond to the 2 different polarisations."
      ]
    },
    {
      "cell_type": "code",
      "metadata": {},
      "source": [
        "import numpy as np\n",
        "import os\n",
        "\n",
        "import autolens as al"
      ],
      "outputs": [],
      "execution_count": null
    },
    {
      "cell_type": "markdown",
      "metadata": {},
      "source": [
        "You can use the CASA task \"split\" to create 4 new different .ms directories, each corresponding to a different spw."
      ]
    },
    {
      "cell_type": "code",
      "metadata": {},
      "source": [
        "\n",
        "# split(\n",
        "#     vis=\"name.ms\",\n",
        "#     outputvis=\"name_spw_0.ms\",\n",
        "#     keepmms=True,\n",
        "#     field=\"SPT-0418\",\n",
        "#     spw=\"0\",\n",
        "#     datacolumn=\"data\",\n",
        "#     keepflags=True\n",
        "# )"
      ],
      "outputs": [],
      "execution_count": null
    },
    {
      "cell_type": "markdown",
      "metadata": {},
      "source": [
        "Now each \"name_spw.ms\" will have the visibilities stored in an array shaped (2, n_c, n_v, 2). In order to reduce the \n",
        "size of the visibilities we often average visibilities corresponding to different channels. \n",
        "\n",
        "We can use the CASA task \"split\", setting the argument width=<number of channels> (e.g. width=128), again for this \n",
        "step (note, however, that different spws can have different number of channels)"
      ]
    },
    {
      "cell_type": "code",
      "metadata": {},
      "source": [
        "\n",
        "# split(\n",
        "#     vis=\"name_spw_0.ms\",\n",
        "#     outputvis=\"name_spw_0_chanaveraged.ms\",\n",
        "#     keepmms=True,\n",
        "#     field=\"SPT-0418\",\n",
        "#     width=128,\n",
        "#     datacolumn=\"data\",\n",
        "#     keepflags=True\n",
        "# )"
      ],
      "outputs": [],
      "execution_count": null
    },
    {
      "cell_type": "markdown",
      "metadata": {},
      "source": [
        "To return the visibilities and uv_wavelengths (in units of wavelengths, NOT meters - which is the way they are \n",
        "stored in the .ms) from each .ms directory that you created in the previous step use the following scripts (save \n",
        "them in a .fits format):"
      ]
    },
    {
      "cell_type": "code",
      "metadata": {},
      "source": [
        "#\n",
        "# def getcol_wrapper(ms, table, colname):\n",
        "#\n",
        "#     if os.path.isdir(ms):\n",
        "#         tb.open(\n",
        "#             \"{}/{}\".format(ms, table)\n",
        "#         )\n",
        "#\n",
        "#         col = np.squeeze(\n",
        "#             tb.getcol(colname)\n",
        "#         )\n",
        "#\n",
        "#         tb.close()\n",
        "#     else:\n",
        "#         raise IOError(\n",
        "#             \"{} does not exist\".format(ms)\n",
        "#         )\n",
        "#\n",
        "#     return col\n",
        "#\n",
        "# def get_visibilities(ms):\n",
        "#\n",
        "#     if os.path.isdir(ms):\n",
        "#         data = getcol_wrapper(\n",
        "#             ms=ms,\n",
        "#             table=\"\",\n",
        "#             colname=\"DATA\"\n",
        "#         )\n",
        "#     else:\n",
        "#         raise IOError(\n",
        "#             \"{} does not exisxt\".format(ms)\n",
        "#         )\n",
        "#\n",
        "#     visibilities = np.stack(\n",
        "#         arrays=(data.real, data.imag),\n",
        "#         axis=-1\n",
        "#     )\n",
        "#\n",
        "#     return visibilities\n",
        "#\n",
        "#\n",
        "# def get_uv_wavelengths(ms):\n",
        "#\n",
        "#     def convert_array_to_wavelengths(array, frequency):\n",
        "#\n",
        "#         if astropy_is_imported:\n",
        "#             array_converted = (\n",
        "#                 (array * units.m) * (frequency * units.Hz) / constants.c\n",
        "#             ).decompose()\n",
        "#\n",
        "#             array_converted = array_converted.value\n",
        "#         else:\n",
        "#             factor = 3.3356409519815204e-09\n",
        "#             array_converted = array * frequency * factor\n",
        "#\n",
        "#         return array_converted\n",
        "#\n",
        "#     if os.path.isdir(ms):\n",
        "#         uvw = getcol_wrapper(\n",
        "#             ms=ms,\n",
        "#             table=\"\",\n",
        "#             colname=\"UVW\"\n",
        "#         )\n",
        "#     else:\n",
        "#         raise IOError(\n",
        "#             \"{} does not exist\".format(ms)\n",
        "#         )\n",
        "#\n",
        "#     chan_freq = getcol_wrapper(\n",
        "#         ms=ms,\n",
        "#         table=\"SPECTRAL_WINDOW\",\n",
        "#         colname=\"CHAN_FREQ\"\n",
        "#     )\n",
        "#\n",
        "#     chan_freq_shape = np.shape(chan_freq)\n",
        "#\n",
        "#     if np.shape(chan_freq):\n",
        "#\n",
        "#         u_wavelengths, v_wavelengths = np.zeros(\n",
        "#             shape=(\n",
        "#                 2,\n",
        "#                 chan_freq_shape[0],\n",
        "#                 uvw.shape[1]\n",
        "#             )\n",
        "#         )\n",
        "#\n",
        "#         for i in range(chan_freq_shape[0]):\n",
        "#             u_wavelengths[i, :] = convert_array_to_wavelengths(array=uvw[0, :], frequency=chan_freq[i])\n",
        "#             v_wavelengths[i, :] = convert_array_to_wavelengths(array=uvw[1, :], frequency=chan_freq[i])\n",
        "#\n",
        "#     else:\n",
        "#\n",
        "#         u_wavelengths = convert_array_to_wavelengths(array=uvw[0, :], frequency=chan_freq)\n",
        "#         v_wavelengths = convert_array_to_wavelengths(array=uvw[1, :], frequency=chan_freq)\n",
        "#\n",
        "#\n",
        "#     uv_wavelengths = np.stack(\n",
        "#         arrays=(u_wavelengths, v_wavelengths),\n",
        "#         axis=-1\n",
        "#     )\n",
        "#\n",
        "#     return uv_wavelengths"
      ],
      "outputs": [],
      "execution_count": null
    },
    {
      "cell_type": "markdown",
      "metadata": {},
      "source": [
        "Now we have the visibilities and uv_wavelengths arrays with shapes, (2, n_v, 2) and (n_v, 2), respectively. Note that \n",
        "the same point in uv-space has 2 visibilities associated with it, corresponding to the two different polarisations. \n",
        "You can further average the visibilities for the two polarisations \"np.average(visibilities, axis=0)\".\n",
        "\n",
        "Now back to where we started ... AutoLens requires you to create the object \"interferometer\":"
      ]
    },
    {
      "cell_type": "code",
      "metadata": {},
      "source": [
        "#\n",
        "# dataset = al.Interferometer(\n",
        "#     visibilities=,\n",
        "#     noise_map=,\n",
        "#     uv_wavelengths=,\n",
        "#     real_space_mask=,\n",
        "#     settings=al.SettingsInterferometer(\n",
        "#         transformer_class=al.TransformerNUFFT,\n",
        "#     ),\n",
        "# )"
      ],
      "outputs": [],
      "execution_count": null
    },
    {
      "cell_type": "markdown",
      "metadata": {},
      "source": [
        "Assuming you have averaged the polarisations you can simply use:"
      ]
    },
    {
      "cell_type": "code",
      "metadata": {},
      "source": [
        "\n",
        "# visibilities=al.Visibilities(visibilities[:, 0] + 1j * visibilities[:, 1])\n",
        "# uv_wavelengths=uv_wavelengths"
      ],
      "outputs": [],
      "execution_count": null
    },
    {
      "cell_type": "markdown",
      "metadata": {},
      "source": [
        "If not, and visibilities still have a shape (2, n_v, 2) then add the following lines before initialising the \n",
        "interferometer object:"
      ]
    },
    {
      "cell_type": "code",
      "metadata": {},
      "source": [
        "\n",
        "# visibilities = visibilities.reshape(int(visibilities.shape[0] * visibilities.shape[1]), 2)\n",
        "# uv_wavelengths = np.concatenate((uv_wavelengths, uv_wavelengths), axis=0)\n",
        "# uv_wavelengths = uv_wavelengths.reshape(int(uv_wavelengths.shape[0] * uv_wavelengths.shape[1]), 2)"
      ],
      "outputs": [],
      "execution_count": null
    },
    {
      "cell_type": "markdown",
      "metadata": {},
      "source": [
        "**NOTE: You have visibilities from 4 spectral windows. Concatenate them in one single array**\n",
        "\n",
        "- Exporting SIGMA with CASA.\n",
        "\n",
        "The procedure to export the SIGMA using CASA is the same as the visibilities with ones extra step. By default the \n",
        "SIGMA are computed in a relative way and they do not reflect the real scatter in the visibility data. \n",
        "\n",
        "We can use the CASA task \"statwt\" to rescale the visibilities according to their scatter. Execute the following \n",
        "command after you performed the first \"split\""
      ]
    },
    {
      "cell_type": "code",
      "metadata": {},
      "source": [
        "#\n",
        "# statwt(\n",
        "#     vis=\"name_spw_0.ms\",\n",
        "#     datacolumn=\"data\"\n",
        "# )"
      ],
      "outputs": [],
      "execution_count": null
    },
    {
      "cell_type": "markdown",
      "metadata": {},
      "source": [
        "Repeat the steps above, but use the following script to return the SIGMA"
      ]
    },
    {
      "cell_type": "code",
      "metadata": {},
      "source": [
        "\n",
        "# def get_sigma(ms):\n",
        "#\n",
        "#     sigma = getcol_wrapper(\n",
        "#         ms=ms,\n",
        "#         table=\"\",\n",
        "#         colname=\"SIGMA\"\n",
        "#     )\n",
        "#\n",
        "#     return sigma"
      ],
      "outputs": [],
      "execution_count": null
    },
    {
      "cell_type": "markdown",
      "metadata": {},
      "source": [
        "CASA assigns the same error to both the real and imag components of the visibilities, so the sigma array will \n",
        "have a shape (2, n_v, ). Use, \"sigma=np.stack(arrays=(sigma, sigma),axis=-1)\"."
      ]
    },
    {
      "cell_type": "code",
      "metadata": {},
      "source": [],
      "outputs": [],
      "execution_count": null
    }
  ],
  "metadata": {
    "anaconda-cloud": {},
    "kernelspec": {
      "display_name": "Python 3",
      "language": "python",
      "name": "python3"
    },
    "language_info": {
      "codemirror_mode": {
        "name": "ipython",
        "version": 3
      },
      "file_extension": ".py",
      "mimetype": "text/x-python",
      "name": "python",
      "nbconvert_exporter": "python",
      "pygments_lexer": "ipython3",
      "version": "3.6.1"
    }
  },
  "nbformat": 4,
  "nbformat_minor": 4
}