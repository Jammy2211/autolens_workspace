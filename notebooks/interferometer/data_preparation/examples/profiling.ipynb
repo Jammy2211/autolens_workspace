{
  "cells": [
    {
      "cell_type": "markdown",
      "metadata": {},
      "source": [
        "Profiling: Interferometer Inversion\n",
        "===================================\n",
        "\n",
        "For performing an `Inversion` to interferometer data, there are a variety of settings that can be chosen which produce\n",
        "numerically equivalent solutions but change how the calculation is performed.\n",
        "\n",
        "The run time of the `Inversion` varies considerably depending on what settings are used, and the fastest settings\n",
        "depend on the number of visibilities in the interferometer dataset as well as its `uv_wavelengths`.\n",
        "\n",
        "This script allows you to load an interferometer dataset, define the `real_space_mask` and fit it for all combinations\n",
        "of different settings to determine which settings give the fastest results for your dataset.\n",
        "\n",
        "To fit the dataset a lens mass model is omitted, given we have not modeled the dataset yet. Whilst the solution we use\n",
        "is therefore not an actual strong lens model, it is appropriate for determining the fastest settings.\n",
        "\n",
        "Some of the settings will use extremely large amounts of memory (e.g. > 100GB) for large visibility datasets\n",
        "(e.g. > 100000) and may crash your computer. To prevent this, their profiling function is commented out below. However,\n",
        "these settings may give the fastest performance for low visibility datasets (e.g. < 1000). If your dataset has\n",
        "low numbers of visibilities you should comment these lines of code out to compare their run times.\n",
        "\n",
        "__Linear Algebra Formalism__\n",
        "\n",
        "There are two ways the linear algebra can be calculated for an `Inversion`:\n",
        "\n",
        " - **Matrices:** Use a numerically more accurate matrix formalism to perform the linear algebra. For datasets\n",
        " of < 100 0000 visibilities this approach is computationally feasible, and if your dataset is this small we recommend\n",
        " that you use this option because it is faster (by setting `use_linear_operators=False`. However, larger visibility\n",
        " datasets these matrices require excessive amounts of memory (> 16 GB) to store, making this approach unfeasible.\n",
        "\n",
        " - **Linear Operators (default)**: These are slightly less accurate, but do not require excessive amounts of memory to\n",
        " store the linear algebra calculations. For any dataset with > 1 million visibilities this is the only viable approach\n",
        " to perform lens modeling efficiently."
      ]
    },
    {
      "cell_type": "code",
      "metadata": {},
      "source": [
        "%matplotlib inline\n",
        "from pyprojroot import here\n",
        "workspace_path = str(here())\n",
        "%cd $workspace_path\n",
        "print(f\"Working Directory has been set to `{workspace_path}`\")\n",
        "\n",
        "import numpy as np\n",
        "from os import path\n",
        "import time\n",
        "\n",
        "import autofit as af\n",
        "import autolens as al\n",
        "import autolens.plot as aplt"
      ],
      "outputs": [],
      "execution_count": null
    },
    {
      "cell_type": "markdown",
      "metadata": {},
      "source": [
        "__Fit Time__\n",
        "\n",
        "This function is used throughout this script to time how long a fit takes for each combination of settings."
      ]
    },
    {
      "cell_type": "code",
      "metadata": {},
      "source": [
        "\n",
        "\n",
        "def print_fit_time_from(\n",
        "    interferometer, transformer_class, use_w_tilde, use_linear_operators, repeats=1\n",
        "):\n",
        "    settings_dataset = al.SettingsInterferometer(transformer_class=transformer_class)\n",
        "    dataset = dataset.apply_settings(settings=settings_dataset)\n",
        "\n",
        "    \"\"\"\n",
        "    __Numba Caching__\n",
        "\n",
        "    Call FitImaging once to get all numba functions initialized.\n",
        "    \"\"\"\n",
        "    fit = al.FitInterferometer(\n",
        "        dataset=dataset,\n",
        "        tracer=tracer,\n",
        "        settings_inversion=al.SettingsInversion(\n",
        "            use_w_tilde=use_w_tilde, use_linear_operators=use_linear_operators\n",
        "        ),\n",
        "    )\n",
        "    print(fit.figure_of_merit)\n",
        "\n",
        "    \"\"\"\n",
        "    __Fit Time__\n",
        "\n",
        "    Time FitImaging by itself, to compare to profiling dict call.\n",
        "    \"\"\"\n",
        "    start = time.time()\n",
        "    for i in range(repeats):\n",
        "        fit = al.FitInterferometer(\n",
        "            dataset=dataset,\n",
        "            tracer=tracer,\n",
        "            settings_inversion=al.SettingsInversion(\n",
        "                use_w_tilde=use_w_tilde, use_linear_operators=use_linear_operators\n",
        "            ),\n",
        "        )\n",
        "        fit.figure_of_merit\n",
        "\n",
        "    fit_time = (time.time() - start) / repeats\n",
        "    print(f\"Fit Time = {fit_time} \\n\")\n"
      ],
      "outputs": [],
      "execution_count": null
    },
    {
      "cell_type": "markdown",
      "metadata": {},
      "source": [
        "__Mask__\n",
        "\n",
        "We define the \u2018real_space_mask\u2019 which defines the grid the image the strong lens is evaluated using."
      ]
    },
    {
      "cell_type": "code",
      "metadata": {},
      "source": [
        "real_space_mask = al.Mask2D.circular(\n",
        "    shape_native=(800, 800), pixel_scales=0.2, radius=3.0, sub_size=1\n",
        ")"
      ],
      "outputs": [],
      "execution_count": null
    },
    {
      "cell_type": "markdown",
      "metadata": {},
      "source": [
        "__Dataset__\n",
        "\n",
        "Load and plot the strong lens `Interferometer` dataset `simple` from .fits files , which we will fit \n",
        "with the lens model."
      ]
    },
    {
      "cell_type": "code",
      "metadata": {},
      "source": [
        "dataset_name = \"simple\"\n",
        "dataset_path = path.join(\"dataset\", \"interferometer\", dataset_name)\n",
        "\n",
        "dataset = al.Interferometer.from_fits(\n",
        "    data_path=path.join(dataset_path, \"data.fits\"),\n",
        "    noise_map_path=path.join(dataset_path, \"noise_map.fits\"),\n",
        "    uv_wavelengths_path=path.join(dataset_path, \"uv_wavelengths.fits\"),\n",
        "    real_space_mask=real_space_mask,\n",
        ")\n",
        "\n",
        "dataset_plotter = aplt.InterferometerPlotter(dataset=dataset)\n",
        "dataset_plotter.subplot_dataset()\n",
        "dataset_plotter.subplot_dirty_images()"
      ],
      "outputs": [],
      "execution_count": null
    },
    {
      "cell_type": "markdown",
      "metadata": {},
      "source": [
        "__Tracer__\n",
        "\n",
        "Set up the `Tracer` used to profile each method, which:\n",
        " \n",
        " - Does not implement mass or light profiles for the lens galaxy.\n",
        " - Uses a `DelaunayMagnification` mesh with `Constant` regularization to fit the data and thus profile the \n",
        "  `Inversion` run time."
      ]
    },
    {
      "cell_type": "code",
      "metadata": {},
      "source": [
        "lens_galaxy = al.Galaxy(redshift=0.5)\n",
        "\n",
        "pixelization = al.Pixelization(\n",
        "    mesh=al.mesh.DelaunayMagnification(shape=(30, 30)),\n",
        "    regularization=al.reg.Constant(coefficient=1.0),\n",
        ")\n",
        "\n",
        "source_galaxy = al.Galaxy(redshift=1.0, pixelization=pixelization)\n",
        "\n",
        "tracer = al.Tracer.from_galaxies(galaxies=[lens_galaxy, source_galaxy])"
      ],
      "outputs": [],
      "execution_count": null
    },
    {
      "cell_type": "markdown",
      "metadata": {},
      "source": [
        "__DFT + Matrices (Mapping)__\n",
        "\n",
        "Compute the run-time using:\n",
        "\n",
        " - `TransformerDFT`: The Discrete Fourier Transform. ,\n",
        "  - `use_linear_operators=False`: this uses the `Inversion` matrix formalism (as opposed to the linear_operator formalism).\n",
        " \n",
        "These settings are fastest for interferometer datasets with < 1000 visibilities. \n",
        "\n",
        "They scale poorly to datasets with > 10000 visibilities which will use large quantities of memory, thus the\n",
        "code below is commented out by default."
      ]
    },
    {
      "cell_type": "code",
      "metadata": {},
      "source": [
        "print_fit_time_from(\n",
        "    dataset=interferometer,\n",
        "    transformer_class=al.TransformerDFT,\n",
        "    use_w_tilde=False,\n",
        "    use_linear_operators=False,\n",
        ")"
      ],
      "outputs": [],
      "execution_count": null
    },
    {
      "cell_type": "markdown",
      "metadata": {},
      "source": [
        "__NUFFT + Matrices (Mapping)__\n",
        "\n",
        "Compute the run-time using:\n",
        "\n",
        " - `TransformerNUFFT`: The Non-Uniform Fast Fourier Transform. ,\n",
        " - `use_linear_operators=False`: this uses the `Inversion` matrix formalism (as opposed to the linear_operator formalism).\n",
        "\n",
        "These settingsare fastest for interferometer datasets with ~ 10000 visibilities. \n",
        "\n",
        "They scale poorly to datasets with < 1000 and > 10000 visibilities which will use large quantities of memory, thus the\n",
        "code below is commented out by default."
      ]
    },
    {
      "cell_type": "code",
      "metadata": {},
      "source": [
        "print_fit_time_from(\n",
        "    dataset=interferometer,\n",
        "    transformer_class=al.TransformerNUFFT,\n",
        "    use_w_tilde=False,\n",
        "    use_linear_operators=False,\n",
        ")"
      ],
      "outputs": [],
      "execution_count": null
    },
    {
      "cell_type": "markdown",
      "metadata": {},
      "source": [
        "__NUFFT + Linear Operators__\n",
        "\n",
        "Compute the run-time using:\n",
        "\n",
        " - `TransformerNUFFT`: The Non-Uniform Fast Fourier Transform. ,\n",
        "  - `use_linear_operators=True`: this uses the `Inversion` linear operator formalism (as opposed to the matrix \n",
        "  formalism).\n",
        "\n",
        "These settings are fastest for interferometer datasets with > 100000 visibilities. \n",
        "\n",
        "They scale poorly to datasets with < 10000 visibilities."
      ]
    },
    {
      "cell_type": "code",
      "metadata": {},
      "source": [
        "# print_fit_time_from(\n",
        "#     dataset=interferometer,\n",
        "#     transformer_class=al.TransformerNUFFT,\n",
        "#     use_w_tilde=False,\n",
        "#     use_linear_operators=True\n",
        "# )\n"
      ],
      "outputs": [],
      "execution_count": null
    }
  ],
  "metadata": {
    "anaconda-cloud": {},
    "kernelspec": {
      "display_name": "Python 3",
      "language": "python",
      "name": "python3"
    },
    "language_info": {
      "codemirror_mode": {
        "name": "ipython",
        "version": 3
      },
      "file_extension": ".py",
      "mimetype": "text/x-python",
      "name": "python",
      "nbconvert_exporter": "python",
      "pygments_lexer": "ipython3",
      "version": "3.6.1"
    }
  },
  "nbformat": 4,
  "nbformat_minor": 4
}