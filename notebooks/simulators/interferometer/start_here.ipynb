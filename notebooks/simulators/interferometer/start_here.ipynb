{
  "cells": [
    {
      "cell_type": "markdown",
      "metadata": {},
      "source": [
        "Simulator: SIE\n",
        "==============\n",
        "\n",
        "This script simulates `Interferometer` data of a 'galaxy-scale' strong lens where:\n",
        "\n",
        " - The lens galaxy's total mass distribution is an `Isothermal` and `ExternalShear`.\n",
        " - The source galaxy's light is an `Sersic`."
      ]
    },
    {
      "cell_type": "code",
      "metadata": {},
      "source": [
        "%matplotlib inline\n",
        "from pyprojroot import here\n",
        "workspace_path = str(here())\n",
        "%cd $workspace_path\n",
        "print(f\"Working Directory has been set to `{workspace_path}`\")\n",
        "\n",
        "from os import path\n",
        "import autolens as al\n",
        "import autolens.plot as aplt"
      ],
      "outputs": [],
      "execution_count": null
    },
    {
      "cell_type": "markdown",
      "metadata": {},
      "source": [
        "The `dataset_type` describes the type of data being simulated (in this case, `Interferometer` data) and `dataset_name` \n",
        "gives it a descriptive name. They define the folder the dataset is output to on your hard-disk:\n",
        "\n",
        " - The image will be output to `/autolens_workspace/dataset/dataset_type/dataset_name/image.fits`.\n",
        " - The noise-map will be output to `/autolens_workspace/dataset/dataset_type/dataset_name/noise_map.fits`.\n",
        " - The psf will be output to `/autolens_workspace/dataset/dataset_type/dataset_name/psf.fits`."
      ]
    },
    {
      "cell_type": "code",
      "metadata": {},
      "source": [
        "dataset_type = \"interferometer\"\n",
        "dataset_name = \"simple\""
      ],
      "outputs": [],
      "execution_count": null
    },
    {
      "cell_type": "markdown",
      "metadata": {},
      "source": [
        "The path where the dataset will be output, which in this case is\n",
        "`/autolens_workspace/dataset/interferometer/simple`"
      ]
    },
    {
      "cell_type": "code",
      "metadata": {},
      "source": [
        "dataset_path = path.join(\"dataset\", dataset_type, dataset_name)"
      ],
      "outputs": [],
      "execution_count": null
    },
    {
      "cell_type": "markdown",
      "metadata": {},
      "source": [
        "__Grid__\n",
        "\n",
        "Define the 2d grid of (y,x) coordinates that the galaxy images are evaluated and therefore simulated on, via\n",
        "the inputs:\n",
        "\n",
        " - `shape_native`: The (y_pixels, x_pixels) 2D shape of the grid defining the shape of the data that is simulated.\n",
        " - `pixel_scales`: The arc-second to pixel conversion factor of the grid and data.\n",
        "\n",
        "For interferometer data, this image is evaluate in real-space and then transformed to Fourier space.\n",
        "\n",
        "__Over Sampling__\n",
        "\n",
        "If you are familiar with using imaging data, you may have seen that a numerical technique called\n",
        "over sampling is used, which evaluates light profiles on a higher resolution grid than the image data to ensure the\n",
        "calculation is accurate.\n",
        "\n",
        "Interferometer does not observe galaxies in a way where over sampling is necessary, therefore all interferometer\n",
        "calculations are performed without over sampling."
      ]
    },
    {
      "cell_type": "code",
      "metadata": {},
      "source": [
        "grid = al.Grid2D.uniform(shape_native=(800, 800), pixel_scales=0.05)"
      ],
      "outputs": [],
      "execution_count": null
    },
    {
      "cell_type": "markdown",
      "metadata": {},
      "source": [
        "To perform the Fourier transform we need the wavelengths of the baselines, which we'll load from the fits file below.\n",
        "\n",
        "By default we use baselines from the Square Mile Array (SMA), which produces low resolution interferometer data that\n",
        "can be fitted extremely efficiently. The `autolens_workspace` includes ALMA uv_wavelengths files for simulating\n",
        "much high resolution datasets (which can be performed by replacing \"sma.fits\" below with \"alma.fits\")."
      ]
    },
    {
      "cell_type": "code",
      "metadata": {},
      "source": [
        "uv_wavelengths_path = path.join(\"dataset\", dataset_type, \"uv_wavelengths\")\n",
        "uv_wavelengths = al.util.array_1d.numpy_array_1d_via_fits_from(\n",
        "    file_path=path.join(uv_wavelengths_path, \"sma.fits\"), hdu=0\n",
        ")"
      ],
      "outputs": [],
      "execution_count": null
    },
    {
      "cell_type": "markdown",
      "metadata": {},
      "source": [
        "To simulate the interferometer dataset we first create a simulator, which defines the exposure time, noise levels \n",
        "and Fourier transform method used in the simulation."
      ]
    },
    {
      "cell_type": "code",
      "metadata": {},
      "source": [
        "simulator = al.SimulatorInterferometer(\n",
        "    uv_wavelengths=uv_wavelengths,\n",
        "    exposure_time=300.0,\n",
        "    noise_sigma=1000.0,\n",
        "    transformer_class=al.TransformerDFT,\n",
        ")"
      ],
      "outputs": [],
      "execution_count": null
    },
    {
      "cell_type": "markdown",
      "metadata": {},
      "source": [
        "__Ray Tracing__\n",
        "\n",
        "Setup the lens galaxy's mass (SIE+Shear) and source galaxy light (elliptical Sersic) for this simulated lens.\n",
        "\n",
        "The following should be noted about the parameters below:\n",
        "\n",
        " - The native units of light and mass profiles distance parameters (e.g. centres, effective_radius) are arc-seconds. \n",
        " - The intensity of the light profiles is in units of electrons per second per arc-second squared.\n",
        " - The ellipticity of light and mass profiles are defined using the `ell_comps` parameter, however we below use\n",
        "   the convert module to input the `axis-ratio` (semi-major axis / semi-minor axis = b/a) and positive \n",
        "   angle (degrees defined counter clockwise from the positive x-axis).\n",
        " - The external shear is defined using the (gamma_1, gamma_2) convention.\n",
        " - The input redshifts are used to determine which galaxy is the lens (e.g. lower redshift) and which is the \n",
        "   source (e.g. higher redshift).\n",
        " - The source uses a cored Sersic with a radius half the pixel-scale, ensuring that over-sampling is not necessary."
      ]
    },
    {
      "cell_type": "code",
      "metadata": {},
      "source": [
        "lens_galaxy = al.Galaxy(\n",
        "    redshift=0.5,\n",
        "    mass=al.mp.Isothermal(\n",
        "        centre=(0.0, 0.0),\n",
        "        einstein_radius=1.6,\n",
        "        ell_comps=al.convert.ell_comps_from(axis_ratio=0.9, angle=45.0),\n",
        "    ),\n",
        "    shear=al.mp.ExternalShear(gamma_1=0.05, gamma_2=0.05),\n",
        ")\n",
        "\n",
        "source_galaxy = al.Galaxy(\n",
        "    redshift=1.0,\n",
        "    bulge=al.lp.SersicCore(\n",
        "        centre=(0.0, 0.0),\n",
        "        ell_comps=al.convert.ell_comps_from(axis_ratio=0.8, angle=60.0),\n",
        "        intensity=0.3,\n",
        "        effective_radius=1.0,\n",
        "        sersic_index=2.5,\n",
        "    ),\n",
        ")"
      ],
      "outputs": [],
      "execution_count": null
    },
    {
      "cell_type": "markdown",
      "metadata": {},
      "source": [
        "Use these galaxies to setup a tracer, which will generate the image for the simulated interferometer dataset."
      ]
    },
    {
      "cell_type": "code",
      "metadata": {},
      "source": [
        "tracer = al.Tracer(galaxies=[lens_galaxy, source_galaxy])"
      ],
      "outputs": [],
      "execution_count": null
    },
    {
      "cell_type": "markdown",
      "metadata": {},
      "source": [
        "Lets look at the tracer`s image, this is the image we'll be simulating."
      ]
    },
    {
      "cell_type": "code",
      "metadata": {},
      "source": [
        "tracer_plotter = aplt.TracerPlotter(tracer=tracer, grid=grid)\n",
        "tracer_plotter.figures_2d(image=True)"
      ],
      "outputs": [],
      "execution_count": null
    },
    {
      "cell_type": "markdown",
      "metadata": {},
      "source": [
        "We can now pass this simulator a tracer, which creates the ray-traced image plotted above and simulates it as an\n",
        "interferometer dataset."
      ]
    },
    {
      "cell_type": "code",
      "metadata": {},
      "source": [
        "dataset = simulator.via_tracer_from(tracer=tracer, grid=grid)"
      ],
      "outputs": [],
      "execution_count": null
    },
    {
      "cell_type": "markdown",
      "metadata": {},
      "source": [
        "Lets plot the simulated interferometer dataset before we output it to fits."
      ]
    },
    {
      "cell_type": "code",
      "metadata": {},
      "source": [
        "dataset_plotter = aplt.InterferometerPlotter(dataset=dataset)\n",
        "dataset_plotter.figures_2d(dirty_image=True)\n",
        "dataset_plotter.subplot_dataset()\n",
        "dataset_plotter.subplot_dirty_images()"
      ],
      "outputs": [],
      "execution_count": null
    },
    {
      "cell_type": "markdown",
      "metadata": {},
      "source": [
        "__Output__\n",
        "\n",
        "Output the simulated dataset to the dataset path as .fits files."
      ]
    },
    {
      "cell_type": "code",
      "metadata": {},
      "source": [
        "dataset.output_to_fits(\n",
        "    data_path=path.join(dataset_path, \"data.fits\"),\n",
        "    noise_map_path=path.join(dataset_path, \"noise_map.fits\"),\n",
        "    uv_wavelengths_path=path.join(dataset_path, \"uv_wavelengths.fits\"),\n",
        "    overwrite=True,\n",
        ")"
      ],
      "outputs": [],
      "execution_count": null
    },
    {
      "cell_type": "markdown",
      "metadata": {},
      "source": [
        "__Visualize__\n",
        "\n",
        "Output a subplot of the simulated dataset, the image and the tracer's quantities to the dataset path as .png files."
      ]
    },
    {
      "cell_type": "code",
      "metadata": {},
      "source": [
        "mat_plot = aplt.MatPlot2D(output=aplt.Output(path=dataset_path, format=\"png\"))\n",
        "\n",
        "dataset_plotter = aplt.InterferometerPlotter(dataset=dataset, mat_plot_2d=mat_plot)\n",
        "dataset_plotter.subplot_dataset()\n",
        "dataset_plotter.subplot_dirty_images()\n",
        "dataset_plotter.figures_2d(data=True)\n",
        "\n",
        "tracer_plotter = aplt.TracerPlotter(tracer=tracer, grid=grid, mat_plot_2d=mat_plot)\n",
        "tracer_plotter.subplot_tracer()\n",
        "tracer_plotter.subplot_galaxies_images()"
      ],
      "outputs": [],
      "execution_count": null
    },
    {
      "cell_type": "markdown",
      "metadata": {},
      "source": [
        "__Tracer json__\n",
        "\n",
        "Save the `Tracer` in the dataset folder as a .json file, ensuring the true light profiles, mass profiles and galaxies\n",
        "are safely stored and available to check how the dataset was simulated in the future. \n",
        "\n",
        "This can be loaded via the method `tracer = al.from_json()`."
      ]
    },
    {
      "cell_type": "code",
      "metadata": {},
      "source": [
        "al.output_to_json(\n",
        "    obj=tracer,\n",
        "    file_path=path.join(dataset_path, \"tracer.json\"),\n",
        ")"
      ],
      "outputs": [],
      "execution_count": null
    },
    {
      "cell_type": "markdown",
      "metadata": {},
      "source": [
        "The dataset can be viewed in the folder `autolens_workspace/imaging/simple`."
      ]
    },
    {
      "cell_type": "code",
      "metadata": {},
      "source": [],
      "outputs": [],
      "execution_count": null
    }
  ],
  "metadata": {
    "anaconda-cloud": {},
    "kernelspec": {
      "display_name": "Python 3",
      "language": "python",
      "name": "python3"
    },
    "language_info": {
      "codemirror_mode": {
        "name": "ipython",
        "version": 3
      },
      "file_extension": ".py",
      "mimetype": "text/x-python",
      "name": "python",
      "nbconvert_exporter": "python",
      "pygments_lexer": "ipython3",
      "version": "3.6.1"
    }
  },
  "nbformat": 4,
  "nbformat_minor": 4
}