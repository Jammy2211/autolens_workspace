{
  "cells": [
    {
      "cell_type": "markdown",
      "metadata": {},
      "source": [
        "Simulator: Start Here\n",
        "=====================\n",
        "\n",
        "This script is the starting point for simulating strong lens cluster datasets, which typically have a Brighest Custer\n",
        "Galaxy (BCG), large host dark matter halo, 20+ lens galaxies and 5+ source galaxies.\n",
        "\n",
        "Given how complex these systems are, modeling typically uses the point source API such that only the brightest pixels\n",
        "in each multiple image in the image plane are fitted. This script therefore outputs both this information and CCD\n",
        "imaging data of the cluster for visualization. Advanced PyAutoLens tools support extended source modeling of clusters.\n",
        "\n",
        "After reading this script, the `examples` folder provide examples for simulating more complex lenses in different ways.\n",
        "\n",
        "__Scaling Relation__\n",
        "\n",
        "This example uses a scaling-relation lens model using the dual Pseudo-Isothermal Elliptical (dPIE)\n",
        "mass distribution introduced in Eliasdottir 2007: https://arxiv.org/abs/0710.5636.\n",
        "\n",
        "It relates the luminosity of every galaxy to a cut radius (r_cut), a core radius (r_core) and a mass normaliaton b0:\n",
        "\n",
        "$r_cut = r_cut^* (L/L^*)^{0.5}$\n",
        "\n",
        "$r_core = r_core^* (L/L^*)^{0.5}$\n",
        "\n",
        "$b0 = b0^* (L/L^*)^{0.25}$\n",
        "\n",
        "This mass model differs from the `Isothermal` profile used commonly throughout the **PyAutoLens** examples. The dPIE\n",
        "is more commonly used in strong lens cluster studies where scaling relations are used to model the lensing contribution\n",
        "of many cluster galaxies.\n",
        "\n",
        "__Model__\n",
        "\n",
        "This script simulates `PointDataset` and `Imaging` data of a strong lens where:\n",
        "\n",
        " - There are 50 lens galaxies whose mass is a `dPIEMass` profile with parameters set via a scaling relation.\n",
        " - There are 3 source galaxies each described as a point source."
      ]
    },
    {
      "cell_type": "code",
      "metadata": {},
      "source": [
        "\n",
        "%matplotlib inline\n",
        "from pyprojroot import here\n",
        "workspace_path = str(here())\n",
        "%cd $workspace_path\n",
        "print(f\"Working Directory has been set to `{workspace_path}`\")\n",
        "\n",
        "import pandas as pd\n",
        "from pathlib import Path\n",
        "import jax.numpy as jnp\n",
        "import numpy as np\n",
        "import autolens as al\n",
        "import autolens.plot as aplt"
      ],
      "outputs": [],
      "execution_count": null
    },
    {
      "cell_type": "markdown",
      "metadata": {},
      "source": [
        "__Dataset Paths__\n",
        "\n",
        "The `dataset_type` describes the type of data being simulated (in this case, `PointDataset` data) and `dataset_name` \n",
        "gives it a descriptive name. They define the folder the dataset is output to on your hard-disk:\n",
        "\n",
        " - The image will be output to `/autolens_workspace/dataset/dataset_type/dataset_name/positions.json`.\n",
        " - The noise-map will be output to `/autolens_workspace/dataset/dataset_type/dataset_name/noise_map.json`."
      ]
    },
    {
      "cell_type": "code",
      "metadata": {},
      "source": [
        "dataset_type = \"cluster\"\n",
        "dataset_name = \"simple\""
      ],
      "outputs": [],
      "execution_count": null
    },
    {
      "cell_type": "markdown",
      "metadata": {},
      "source": [
        "The path where the dataset will be output. \n",
        "\n",
        "In this example, this is: `/autolens_workspace/dataset/cluster/simple`"
      ]
    },
    {
      "cell_type": "code",
      "metadata": {},
      "source": [
        "dataset_path = Path(\"dataset\") / dataset_type / dataset_name"
      ],
      "outputs": [],
      "execution_count": null
    },
    {
      "cell_type": "markdown",
      "metadata": {},
      "source": [
        "__Grid__\n",
        "\n",
        "Define the 2d grid of (y,x) coordinates that the lens and source galaxy images are evaluated and therefore simulated \n",
        "on, via the inputs:\n",
        "\n",
        " - `shape_native`: The (y_pixels, x_pixels) 2D shape of the grid defining the shape of the data that is simulated.\n",
        " - `pixel_scales`: The arc-second to pixel conversion factor of the grid and data.\n",
        " \n",
        "Note how for a cluster lens this spans a large arc second region, from -50.0\" to 50.0\"."
      ]
    },
    {
      "cell_type": "code",
      "metadata": {},
      "source": [
        "grid = al.Grid2D.uniform(\n",
        "    shape_native=(500, 500),\n",
        "    pixel_scales=0.05,\n",
        ")"
      ],
      "outputs": [],
      "execution_count": null
    },
    {
      "cell_type": "markdown",
      "metadata": {},
      "source": [
        "__CSV__\n",
        "\n",
        "For cluster strong lenses, there are often 50 or more galaxies, whose centres, luminosities and other parameters we\n",
        "need to keep track of.\n",
        "\n",
        "We use .csv files to store and load the parameter values of all galaxies, noting that .csv files are not used\n",
        "elsewhere in the workspace where lens models are simpler.\n",
        "\n",
        "We load a .csv containing the centres and luminosities of the 50 cluster member galaxies as a pandas data frame.  "
      ]
    },
    {
      "cell_type": "code",
      "metadata": {},
      "source": [
        "df = pd.read_csv(dataset_path / \"lens_galaxies.csv\")\n",
        "\n",
        "print(df)"
      ],
      "outputs": [],
      "execution_count": null
    },
    {
      "cell_type": "markdown",
      "metadata": {},
      "source": [
        "__Centres__\n",
        "\n",
        "Before using the scaling relation, we need to define the centres of the 50 lens galaxies galaxies. \n",
        "\n",
        "The 50 values of centres load via a .csv below are drawn from a realisitic strong lens cluster model."
      ]
    },
    {
      "cell_type": "code",
      "metadata": {},
      "source": [
        "extra_galaxies_centre_list = []\n",
        "\n",
        "for _, row in df.iterrows():\n",
        "\n",
        "    centre_0 = row[\"centre_y\"]\n",
        "    centre_1 = row[\"centre_x\"]\n",
        "\n",
        "    extra_galaxies_centre_list.append((centre_0, centre_1))\n",
        "\n",
        "print(extra_galaxies_centre_list)"
      ],
      "outputs": [],
      "execution_count": null
    },
    {
      "cell_type": "markdown",
      "metadata": {},
      "source": [
        "__Luminosities__\n",
        "\n",
        "We also need the luminosity of each galaxy, which in this example is the measured property we relate to mass via\n",
        "the scaling relation.\n",
        "\n",
        "We again use luminosity values drawn from a realistic galaxy cluster.\n",
        "\n",
        "This could be other measured properties, like stellar mass or velocity dispersion."
      ]
    },
    {
      "cell_type": "code",
      "metadata": {},
      "source": [
        "extra_galaxies_luminosity_list = []\n",
        "\n",
        "for _, row in df.iterrows():\n",
        "\n",
        "    luminosity = row[\"luminosity\"]\n",
        "\n",
        "    extra_galaxies_luminosity_list.append(luminosity)\n",
        "\n",
        "print(extra_galaxies_luminosity_list)"
      ],
      "outputs": [],
      "execution_count": null
    },
    {
      "cell_type": "markdown",
      "metadata": {},
      "source": [
        "__Scaling Relation__\n",
        "\n",
        "We now compose our mass parameters using the scaling relation models, which works as follows:\n",
        "\n",
        "- Compute the parameters for a given mass model using the scaling relations defined at the top of this example\n",
        "  with the parameters `ra_star`, `rs_star` and `b0_star` .\n",
        "\n",
        "- For every extra galaxy centre and luminosity, create a mass profile (using `dPIEPotentialSph`), where  the centre \n",
        "  of the mass profile is the extra galaxy centres and its other parameters are set via the scaling relation  priors.\n",
        "\n",
        "- Make each extra galaxy a galaxy (via `Galaxy`) and associate it with th mass profile, where the\n",
        "  redshifts of the extra galaxies are set to the same values as the lens galaxy.\n",
        "  \n",
        "We also include a `Sersic` lens light component for each galaxy. This is not used in modeling, but it will mean we\n",
        "output an image where the lens's are visible, making the cluster's lensing configuration easier to inspect."
      ]
    },
    {
      "cell_type": "code",
      "metadata": {},
      "source": [
        "ra_star = 1e10\n",
        "rs_star = 0.1\n",
        "b0_star = 1e11\n",
        "luminosity_star = 1e9\n",
        "\n",
        "extra_galaxies_list = []\n",
        "\n",
        "for extra_galaxy_centre, extra_galaxy_luminosity in zip(\n",
        "    extra_galaxies_centre_list, extra_galaxies_luminosity_list\n",
        "):\n",
        "\n",
        "    bulge = al.lp.SersicSph(\n",
        "        centre=extra_galaxy_centre,\n",
        "        intensity=extra_galaxy_luminosity / luminosity_star,\n",
        "        effective_radius=1.0,\n",
        "        sersic_index=2.0,\n",
        "    )\n",
        "\n",
        "    ra = ra_star * (extra_galaxy_luminosity / luminosity_star) ** 0.5\n",
        "    rs = rs_star * (extra_galaxy_luminosity / luminosity_star) ** 0.5\n",
        "    b0 = b0_star * (extra_galaxy_luminosity / luminosity_star) ** 0.25\n",
        "\n",
        "    mass = al.mp.dPIEMassSph(centre=extra_galaxy_centre, ra=ra, rs=rs, b0=b0)\n",
        "\n",
        "    print(ra, rs, b0, np.max(mass.deflections_yx_2d_from(grid=grid)))\n",
        "\n",
        "    extra_galaxy = al.Galaxy(redshift=0.5, bulge=bulge, mass=mass)\n",
        "\n",
        "    extra_galaxies_list.append(extra_galaxy)"
      ],
      "outputs": [],
      "execution_count": null
    },
    {
      "cell_type": "markdown",
      "metadata": {},
      "source": [
        "__Source Galaxies__\n",
        "\n",
        "We now create the centres of the 5 source galaxies being lensed by the cluster.\n",
        "\n",
        "Their image-plane multiple images will be solved for, and these are the observations\n",
        "which are input into cluster lens modeling examples in order to constrain the lens model.\n",
        "\n",
        "We also include a `Sersic` lens light component for each galaxy. This is not used in modeling, \n",
        "but it will mean we output an image where the source arcS are visible, making the cluster's \n",
        "lensing configuration easier to inspect."
      ]
    },
    {
      "cell_type": "code",
      "metadata": {},
      "source": [
        "source_galaxy_centre_list = [\n",
        "    (0.1, 0.1),\n",
        "    (1.15, 0.15),\n",
        "    (0.2, 0.2),\n",
        "    (-2.0, -3.0),\n",
        "    (3.0, 2.0),\n",
        "]\n",
        "\n",
        "source_galaxy_list = []\n",
        "\n",
        "for i, source_galaxy_centre in enumerate(source_galaxy_centre_list):\n",
        "\n",
        "    bulge = al.lp.SersicSph(\n",
        "        centre=source_galaxy_centre,\n",
        "        intensity=1.0,\n",
        "        effective_radius=0.1,\n",
        "        sersic_index=1.0,\n",
        "    )\n",
        "\n",
        "    point = al.ps.Point(centre=source_galaxy_centre)\n",
        "\n",
        "    source_galaxy = al.Galaxy(redshift=0.5, **{f\"point_{i}\": point})\n",
        "\n",
        "    source_galaxy_list.append(source_galaxy)"
      ],
      "outputs": [],
      "execution_count": null
    },
    {
      "cell_type": "markdown",
      "metadata": {},
      "source": [
        "__Ray Tracing__\n",
        "\n",
        "Setup the lens galaxies and source galaxies for this simulated cluster lens. \n",
        "\n",
        "For lens modeling, defining ellipticity in terms of the `ell_comps` improves the model-fitting procedure.\n",
        "\n",
        "However, for simulating a strong lens you may find it more intuitive to define the elliptical geometry using the \n",
        "axis-ratio of the profile (axis_ratio = semi-major axis / semi-minor axis = b/a) and position angle, where angle is\n",
        "in degrees and defined counter clockwise from the positive x-axis.\n",
        "\n",
        "We can use the `convert` module to determine the elliptical components from the axis-ratio and angle."
      ]
    },
    {
      "cell_type": "code",
      "metadata": {},
      "source": [
        "tracer = al.Tracer(galaxies=extra_galaxies_list + source_galaxy_list)"
      ],
      "outputs": [],
      "execution_count": null
    },
    {
      "cell_type": "markdown",
      "metadata": {},
      "source": [
        "__Point Solver__\n",
        "\n",
        "For cluster sources, our goal is to find the (y, x) coordinates in the image plane that map directly to the center of \n",
        "the source's centre in the source plane\u2014these are its \"multiple images.\" This is achieved using a `PointSolver`, \n",
        "which  determines the multiple images of the mass model for a point source located at a given (y, x) position in the \n",
        "source plane.\n",
        "\n",
        "The solver works by ray tracing triangles from the image plane back to the source plane and checking whether the \n",
        "source-plane (y, x) center lies inside each triangle. It iteratively refines this process by ray tracing progressively \n",
        "smaller triangles, allowing the multiple image positions to be determined with sub-pixel precision.\n",
        "\n",
        "The `PointSolver` requires an initial grid of (y, x) coordinates in the image plane (defined above), which defines the \n",
        "first set of triangles to ray trace spanning the whole cluster. It also needs a `pixel_scale_precision` parameter, \n",
        "specifying the resolution at which the multiple images are computed. Smaller values increase precision but requiring \n",
        "longer computation times. The value of 0.001 used here balances efficiency and accuracy.\n",
        "\n",
        "Strong lens mass models often predict a \"central image,\" a multiple image that is usually heavily demagnified and thus \n",
        "not observed. Since the `PointSolver` finds all valid multiple images, it will locate this central image regardless of \n",
        "its visibility. To avoid including this unobservable image, we set a `magnification_threshold=0.1`, which discards any \n",
        "images with magnifications below this value.\n",
        "\n",
        "If your dataset does include a detectable central image, you should lower this threshold accordingly to include it in \n",
        "your analysis.\n",
        "\n",
        "We now compute the multiple image positions by creating a `PointSolver` object and passing it the tracer of our \n",
        "strong lens system."
      ]
    },
    {
      "cell_type": "code",
      "metadata": {},
      "source": [
        "solver = al.PointSolver.for_grid(\n",
        "    grid=grid, pixel_scale_precision=0.001, magnification_threshold=0.1\n",
        ")"
      ],
      "outputs": [],
      "execution_count": null
    },
    {
      "cell_type": "markdown",
      "metadata": {},
      "source": [
        "We now pass the tracer to the solver, to determine the image-plane multiple images for the source centres.\n",
        "\n",
        "The solver finds the image-plane coordinates that map directly to the source-plane coordinates defined above, it is\n",
        "called iteratively for each source centre with the multiple images stored in a list."
      ]
    },
    {
      "cell_type": "code",
      "metadata": {},
      "source": [
        "positions_list = []\n",
        "\n",
        "for i, source_galaxy_centre in enumerate(source_galaxy_centre_list):\n",
        "\n",
        "    point = getattr(source_galaxy_list[i], f\"point_{i}\")\n",
        "\n",
        "    positions = solver.solve(tracer=tracer, source_plane_coordinate=point.centre)\n",
        "\n",
        "    # remove infinitys from point solver required for JAX\n",
        "    positions = positions[~jnp.isinf(positions.array)]\n",
        "\n",
        "    print(positions)\n",
        "\n",
        "    positions_list.append(positions)\n",
        "\n",
        "aaa"
      ],
      "outputs": [],
      "execution_count": null
    },
    {
      "cell_type": "markdown",
      "metadata": {},
      "source": [
        "__Point Datasets__\n",
        "\n",
        "All the quantities computed above are stored in a `PointDataset` object, which organizes information about the multiple \n",
        "images of a point-source strong lens system.\n",
        "\n",
        "Each dataset is labeled with a `name` (e.g. `point_0`, `point_1`), identifying it as corresponding to a single point \n",
        "source called. The name is essential for associating each dataset with the correct point source in the lens model \n",
        "for lens modeling.\n",
        "\n",
        "The dataset contains the image-plane coordinates of the multiple images and their corresponding noise-map values. \n",
        "Typically, the noise value for each position is set to the pixel scale of the CCD image, representing the area the \n",
        "point source occupies. Although sub-pixel accuracy can be achieved with more detailed analysis, this example does not \n",
        "cover those techniques.\n",
        "\n",
        "Note also that this dataset does not contain fluxes or time delays, which are often included in point source datasets\n",
        "and are simulated elsewhere in the workspace."
      ]
    },
    {
      "cell_type": "code",
      "metadata": {},
      "source": [
        "dataset_list = []\n",
        "\n",
        "for i, positions in enumerate(positions_list):\n",
        "\n",
        "    dataset = al.PointDataset(\n",
        "        name=f\"point_{i}\",\n",
        "        positions=positions,\n",
        "        positions_noise_map=grid.pixel_scale,\n",
        "    )\n",
        "\n",
        "    dataset_list.append(dataset)"
      ],
      "outputs": [],
      "execution_count": null
    },
    {
      "cell_type": "markdown",
      "metadata": {},
      "source": [
        "We now output the point dataset to the dataset path as a .json file, which is loaded in the point source modeling\n",
        "examples.\n",
        "\n",
        "In this example, there is just one point source dataset. However, for group and cluster strong lenses there\n",
        "can be many point source datasets in a single dataset, and separate .json files are output for each."
      ]
    },
    {
      "cell_type": "code",
      "metadata": {},
      "source": [
        "for i, dataset in enumerate(dataset_list):\n",
        "\n",
        "    al.output_to_json(\n",
        "        obj=dataset,\n",
        "        file_path=dataset_path / f\"point_dataset_{i}.json\",\n",
        "    )"
      ],
      "outputs": [],
      "execution_count": null
    },
    {
      "cell_type": "markdown",
      "metadata": {},
      "source": [
        "__Visualize__\n",
        "\n",
        "Output a subplot of the simulated point source dataset as a .png file."
      ]
    },
    {
      "cell_type": "code",
      "metadata": {},
      "source": [
        "mat_plot_1d = aplt.MatPlot1D(output=aplt.Output(path=dataset_path, format=\"png\"))\n",
        "mat_plot_2d = aplt.MatPlot2D(output=aplt.Output(path=dataset_path, format=\"png\"))\n",
        "\n",
        "point_dataset_plotter = aplt.PointDatasetPlotter(\n",
        "    dataset=dataset, mat_plot_1d=mat_plot_1d, mat_plot_2d=mat_plot_2d\n",
        ")\n",
        "point_dataset_plotter.subplot_dataset()"
      ],
      "outputs": [],
      "execution_count": null
    },
    {
      "cell_type": "markdown",
      "metadata": {},
      "source": [
        "Output subplots of the tracer's images, including the positions of the multiple images on the image."
      ]
    },
    {
      "cell_type": "code",
      "metadata": {},
      "source": [
        "visuals = aplt.Visuals2D(multiple_images=positions)\n",
        "\n",
        "tracer_plotter = aplt.TracerPlotter(\n",
        "    tracer=tracer, grid=grid, mat_plot_2d=mat_plot_2d, visuals_2d=visuals\n",
        ")\n",
        "tracer_plotter.subplot_tracer()\n",
        "tracer_plotter.subplot_galaxies_images()"
      ],
      "outputs": [],
      "execution_count": null
    },
    {
      "cell_type": "markdown",
      "metadata": {},
      "source": [
        "__Tracer json__\n",
        "\n",
        "Save the `Tracer` in the dataset folder as a .json file, ensuring the true light profiles, mass profiles and galaxies\n",
        "are safely stored and available to check how the dataset was simulated in the future. \n",
        "\n",
        "This can be loaded via the method `tracer = al.from_json()`."
      ]
    },
    {
      "cell_type": "code",
      "metadata": {},
      "source": [
        "al.output_to_json(\n",
        "    obj=tracer,\n",
        "    file_path=dataset_path / \"tracer.json\",\n",
        ")"
      ],
      "outputs": [],
      "execution_count": null
    },
    {
      "cell_type": "markdown",
      "metadata": {},
      "source": [
        "__Imaging__\n",
        "\n",
        "Strong lens clusters typically comes with imaging data, for example showing the foreground lens distribution and\n",
        "arcs of the sources.\n",
        "\n",
        "This is used to measure the locations of the point source multiple images in the first place, and is also useful for \n",
        "visually confirming the images we are using are in  right place. It may also contain emission from the lens galaxy's \n",
        "light, which can be used to perform point-source modeling.\n",
        "\n",
        "We therefore simulate imaging dataset of this point source and output it to the dataset folder in an `imaging` folder\n",
        "as .fits and .png files. \n",
        "\n",
        "The grid for point sources tracing above had a pixel scale of 0.1\", which would make a very low resolution CCD imaging.\n",
        "We therefore use a higher resolution grid for this image.\n",
        "\n",
        "If you are not familiar with the imaging simulator API, checkout the `simulators/imaging/start_here.py` example \n",
        "in the `autolens_workspace`."
      ]
    },
    {
      "cell_type": "code",
      "metadata": {},
      "source": [
        "grid = al.Grid2D.uniform(\n",
        "    shape_native=(1000, 1000), pixel_scales=0.1, over_sample_size=1\n",
        ")\n",
        "\n",
        "psf = al.Kernel2D.from_gaussian(\n",
        "    shape_native=(11, 11), sigma=0.1, pixel_scales=grid.pixel_scales\n",
        ")\n",
        "\n",
        "simulator = al.SimulatorImaging(\n",
        "    exposure_time=300.0,\n",
        "    psf=psf,\n",
        "    background_sky_level=0.1,\n",
        "    add_poisson_noise_to_data=True,\n",
        ")\n",
        "\n",
        "imaging = simulator.via_tracer_from(tracer=tracer, grid=grid)\n",
        "\n",
        "imaging_path = dataset_path / \"imaging\"\n",
        "\n",
        "mat_plot_2d = aplt.MatPlot2D(output=aplt.Output(path=imaging_path, format=\"png\"))\n",
        "\n",
        "imaging_plotter = aplt.ImagingPlotter(\n",
        "    dataset=imaging, mat_plot_2d=mat_plot_2d, visuals_2d=visuals\n",
        ")\n",
        "imaging_plotter.subplot_dataset()\n",
        "\n",
        "imaging.output_to_fits(\n",
        "    data_path=dataset_path / \"data.fits\",\n",
        "    psf_path=dataset_path / \"psf.fits\",\n",
        "    noise_map_path=dataset_path / \"noise_map.fits\",\n",
        "    overwrite=True,\n",
        ")\n",
        "\n",
        "dataset_plotter = aplt.ImagingPlotter(dataset=imaging, mat_plot_2d=mat_plot_2d)\n",
        "dataset_plotter.subplot_dataset()\n",
        "dataset_plotter.figures_2d(data=True)"
      ],
      "outputs": [],
      "execution_count": null
    },
    {
      "cell_type": "markdown",
      "metadata": {},
      "source": [
        "Finished."
      ]
    },
    {
      "cell_type": "code",
      "metadata": {},
      "source": [],
      "outputs": [],
      "execution_count": null
    }
  ],
  "metadata": {
    "anaconda-cloud": {},
    "kernelspec": {
      "display_name": "Python 3",
      "language": "python",
      "name": "python3"
    },
    "language_info": {
      "codemirror_mode": {
        "name": "ipython",
        "version": 3
      },
      "file_extension": ".py",
      "mimetype": "text/x-python",
      "name": "python",
      "nbconvert_exporter": "python",
      "pygments_lexer": "ipython3",
      "version": "3.6.1"
    }
  },
  "nbformat": 4,
  "nbformat_minor": 4
}