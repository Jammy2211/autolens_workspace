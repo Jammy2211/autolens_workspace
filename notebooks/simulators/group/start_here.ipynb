{
  "cells": [
    {
      "cell_type": "markdown",
      "metadata": {},
      "source": [
        "Simulator: Group\n",
        "================\n",
        "\n",
        "This script simulates an example strong lens on the 'group' scale, where there is a single primary lens galaxy\n",
        "and two smaller galaxies nearby, whose mass contributes significantly to the ray-tracing and is therefore included in\n",
        "the strong lens model.\n",
        "\n",
        "This script simulates `Imaging` of a 'group-scale' strong lens where:\n",
        "\n",
        " - The group consists of three lens galaxies whose ligth distributions are `SersicSph` profiles and\n",
        " total mass distributions are `IsothermalSph` profiles.\n",
        " - A single source galaxy is observed whose `LightProfile` is an `Sersic`."
      ]
    },
    {
      "cell_type": "code",
      "metadata": {},
      "source": [
        "\n",
        "%matplotlib inline\n",
        "from pyprojroot import here\n",
        "workspace_path = str(here())\n",
        "%cd $workspace_path\n",
        "print(f\"Working Directory has been set to `{workspace_path}`\")\n",
        "\n",
        "import numpy as np\n",
        "from pathlib import Path\n",
        "import autolens as al\n",
        "import autolens.plot as aplt"
      ],
      "outputs": [],
      "execution_count": null
    },
    {
      "cell_type": "markdown",
      "metadata": {},
      "source": [
        "__Dataset Paths__\n",
        "\n",
        "The `dataset_type` describes the type of data being simulated and `dataset_name` gives it a descriptive name. They define the folder the dataset is output to on your hard-disk:\n",
        "\n",
        " - The image will be output to `/autolens_workspace/dataset/dataset_type/dataset_name/image.fits`.\n",
        " - The noise-map will be output to `/autolens_workspace/dataset/dataset_type/dataset_name/noise_map.fits`.\n",
        " - The psf will be output to `/autolens_workspace/dataset/dataset_type/dataset_name/psf.fits`."
      ]
    },
    {
      "cell_type": "code",
      "metadata": {},
      "source": [
        "dataset_type = \"group\"\n",
        "dataset_name = \"simple\""
      ],
      "outputs": [],
      "execution_count": null
    },
    {
      "cell_type": "markdown",
      "metadata": {},
      "source": [
        "The path where the dataset will be output. \n",
        "\n",
        "In this example, this is: `/autolens_workspace/dataset/group/simple`"
      ]
    },
    {
      "cell_type": "code",
      "metadata": {},
      "source": [
        "dataset_path = Path(\"dataset\", dataset_type, dataset_name)"
      ],
      "outputs": [],
      "execution_count": null
    },
    {
      "cell_type": "markdown",
      "metadata": {},
      "source": [
        "__Grid__\n",
        "\n",
        "Define the 2d grid of (y,x) coordinates that the lens and source galaxy images are evaluated and therefore simulated \n",
        "on, via the inputs:\n",
        "\n",
        " - `shape_native`: The (y_pixels, x_pixels) 2D shape of the grid defining the shape of the data that is simulated.\n",
        " - `pixel_scales`: The arc-second to pixel conversion factor of the grid and data."
      ]
    },
    {
      "cell_type": "code",
      "metadata": {},
      "source": [
        "grid = al.Grid2D.uniform(\n",
        "    shape_native=(250, 250),\n",
        "    pixel_scales=0.1,\n",
        ")"
      ],
      "outputs": [],
      "execution_count": null
    },
    {
      "cell_type": "markdown",
      "metadata": {},
      "source": [
        "__Over Sampling__\n",
        "\n",
        "Over sampling is a numerical technique where the images of light profiles and galaxies are evaluated \n",
        "on a higher resolution grid than the image data to ensure the calculation is accurate. \n",
        "\n",
        "For lensing calculations, the high magnification regions of a lensed source galaxy require especially high levels of \n",
        "over sampling to ensure the lensed images are evaluated accurately.\n",
        "\n",
        "Over sampling is a numerical technique where the images of light profiles and galaxies are evaluated \n",
        "on a higher resolution grid than the image data to ensure the calculation is accurate. \n",
        "\n",
        "An adaptive oversampling scheme is implemented, evaluating the central regions at (0.0\", 0.0\") of the light profile at a \n",
        "resolution of 32x32, transitioning to 8x8 in intermediate areas, and 2x2 in the outskirts. This ensures precise and \n",
        "accurate image simulation while focusing computational resources on the bright regions that demand higher oversampling.\n",
        "\n",
        "This adaptive over sampling is also applied at the centre of every over galaxy in the group.\n",
        "\n",
        "An adaptive oversampling grid cannot be defined for the lensed source because its light appears in different regions of \n",
        "the image plane for each dataset. For this reason, most workspace examples utilize cored light profiles for the \n",
        "source galaxy. Cored light profiles change gradually in their central regions, allowing accurate evaluation without \n",
        "requiring oversampling.\n",
        "\n",
        "Once you are more experienced, you should read up on over-sampling in more detail via \n",
        "the `autolens_workspace/*/guides/over_sampling.ipynb` notebook."
      ]
    },
    {
      "cell_type": "code",
      "metadata": {},
      "source": [
        "over_sample_size = al.util.over_sample.over_sample_size_via_radial_bins_from(\n",
        "    grid=grid,\n",
        "    sub_size_list=[32, 8, 2],\n",
        "    radial_list=[0.3, 0.6],\n",
        "    centre_list=[(0.0, 0.0), (3.5, 2.5), (-4.4, -5.0)],\n",
        ")\n",
        "\n",
        "grid = grid.apply_over_sampling(over_sample_size=over_sample_size)"
      ],
      "outputs": [],
      "execution_count": null
    },
    {
      "cell_type": "markdown",
      "metadata": {},
      "source": [
        "Simulate a simple Gaussian PSF for the image."
      ]
    },
    {
      "cell_type": "code",
      "metadata": {},
      "source": [
        "psf = al.Kernel2D.from_gaussian(\n",
        "    shape_native=(11, 11), sigma=0.1, pixel_scales=grid.pixel_scales\n",
        ")"
      ],
      "outputs": [],
      "execution_count": null
    },
    {
      "cell_type": "markdown",
      "metadata": {},
      "source": [
        "To simulate the `Imaging` dataset we first create a simulator, which defines the exposure time, background sky,\n",
        "noise levels and psf of the dataset that is simulated."
      ]
    },
    {
      "cell_type": "code",
      "metadata": {},
      "source": [
        "simulator = al.SimulatorImaging(\n",
        "    exposure_time=300.0,\n",
        "    psf=psf,\n",
        "    background_sky_level=0.1,\n",
        "    add_poisson_noise_to_data=True,\n",
        ")"
      ],
      "outputs": [],
      "execution_count": null
    },
    {
      "cell_type": "markdown",
      "metadata": {},
      "source": [
        "__Main Galaxies and Extra Galaxies__\n",
        "\n",
        "For a group-scale lens, we designate there to be two types of lens galaxies in the system:\n",
        "\n",
        " - `main_galaxies`: The main lens galaxies which likely make up the majority of light and mass in the lens system.\n",
        " These are modeled individually with a unique name for each, with their light and mass distributions modeled using \n",
        " parametric models.\n",
        " \n",
        " - `extra_galaxies`: The extra galaxies which are nearby the lens system and contribute to the lensing of the source\n",
        "  galaxy. These are modeled with a more restrictive model, for example with their centres fixed to the observed\n",
        "  centre of light and their mass distributions modeled using a scaling relation. These are grouped into a single \n",
        "  `extra_galaxies` collection.\n",
        "  \n",
        "In this simple example group scale lens, there is one main lens galaxy and two extra galaxies. \n",
        "\n",
        "__Ray Tracing__\n",
        "\n",
        "Setup the mass models of the main lens galaxy (`Isothermal` and `ExternalShear1), source \n",
        "galaxy (`SersicCore` and `Point`) and two extra galaxies using the `IsothermalSph` model and the source galaxy light \n",
        "using an elliptical `Sersic`."
      ]
    },
    {
      "cell_type": "code",
      "metadata": {},
      "source": [
        "# Main Lens:\n",
        "\n",
        "lens_galaxy = al.Galaxy(\n",
        "    redshift=0.5,\n",
        "    bulge=al.lp.SersicSph(\n",
        "        centre=(0.0, 0.0), intensity=0.7, effective_radius=2.0, sersic_index=4.0\n",
        "    ),\n",
        "    mass=al.mp.IsothermalSph(centre=(0.0, 0.0), einstein_radius=4.0),\n",
        ")\n",
        "\n",
        "# Extra Galaxies\n",
        "\n",
        "extra_lens_galaxy_0 = al.Galaxy(\n",
        "    redshift=0.5,\n",
        "    bulge=al.lp.SersicSph(\n",
        "        centre=(3.5, 2.5), intensity=0.9, effective_radius=0.8, sersic_index=3.0\n",
        "    ),\n",
        "    mass=al.mp.IsothermalSph(centre=(3.5, 2.5), einstein_radius=0.8),\n",
        ")\n",
        "\n",
        "extra_lens_galaxy_1 = al.Galaxy(\n",
        "    redshift=0.5,\n",
        "    bulge=al.lp.SersicSph(\n",
        "        centre=(-4.4, -5.0), intensity=0.9, effective_radius=0.8, sersic_index=3.0\n",
        "    ),\n",
        "    mass=al.mp.IsothermalSph(centre=(-4.4, -5.0), einstein_radius=1.0),\n",
        ")\n",
        "\n",
        "extra_galaxies = [extra_lens_galaxy_0, extra_lens_galaxy_1]\n",
        "\n",
        "# Source:\n",
        "\n",
        "source_galaxy = al.Galaxy(\n",
        "    redshift=1.0,\n",
        "    bulge=al.lp.SersicCore(\n",
        "        centre=(0.0, 0.1),\n",
        "        ell_comps=al.convert.ell_comps_from(axis_ratio=0.8, angle=60.0),\n",
        "        intensity=3.0,\n",
        "        effective_radius=0.4,\n",
        "        sersic_index=1.0,\n",
        "    ),\n",
        ")\n"
      ],
      "outputs": [],
      "execution_count": null
    },
    {
      "cell_type": "markdown",
      "metadata": {},
      "source": [
        "Use these galaxies to setup a tracer, which will generate the image for the simulated `Imaging` dataset."
      ]
    },
    {
      "cell_type": "code",
      "metadata": {},
      "source": [
        "tracer = al.Tracer(\n",
        "    galaxies=[lens_galaxy, extra_lens_galaxy_0, extra_lens_galaxy_1, source_galaxy]\n",
        ")"
      ],
      "outputs": [],
      "execution_count": null
    },
    {
      "cell_type": "markdown",
      "metadata": {},
      "source": [
        "Lets look at the tracer`s image, this is the image we'll be simulating."
      ]
    },
    {
      "cell_type": "code",
      "metadata": {},
      "source": [
        "tracer_plotter = aplt.TracerPlotter(tracer=tracer, grid=grid)\n",
        "tracer_plotter.figures_2d(image=True)"
      ],
      "outputs": [],
      "execution_count": null
    },
    {
      "cell_type": "markdown",
      "metadata": {},
      "source": [
        "__Dataset__\n",
        "\n",
        "Pass the simulator a tracer, which creates the image which is simulated as an imaging dataset."
      ]
    },
    {
      "cell_type": "code",
      "metadata": {},
      "source": [
        "dataset = simulator.via_tracer_from(tracer=tracer, grid=grid)"
      ],
      "outputs": [],
      "execution_count": null
    },
    {
      "cell_type": "markdown",
      "metadata": {},
      "source": [
        "Lets plot the simulated `Imaging` dataset before we output it to fits."
      ]
    },
    {
      "cell_type": "code",
      "metadata": {},
      "source": [
        "\n",
        "dataset_plotter = aplt.ImagingPlotter(dataset=dataset, mat_plot_2d=aplt.MatPlot2D())\n",
        "dataset_plotter.subplot_dataset()"
      ],
      "outputs": [],
      "execution_count": null
    },
    {
      "cell_type": "markdown",
      "metadata": {},
      "source": [
        "Output the simulated dataset to the dataset path as .fits files."
      ]
    },
    {
      "cell_type": "code",
      "metadata": {},
      "source": [
        "dataset.output_to_fits(\n",
        "    data_path=dataset_path / \"data.fits\",\n",
        "    psf_path=dataset_path / \"psf.fits\",\n",
        "    noise_map_path=dataset_path / \"noise_map.fits\",\n",
        "    overwrite=True,\n",
        ")"
      ],
      "outputs": [],
      "execution_count": null
    },
    {
      "cell_type": "markdown",
      "metadata": {},
      "source": [
        "__Visualize__\n",
        "\n",
        "Output a subplot of the simulated dataset, the image and the tracer's quantities to the dataset path as .png files."
      ]
    },
    {
      "cell_type": "code",
      "metadata": {},
      "source": [
        "mat_plot = aplt.MatPlot2D(output=aplt.Output(path=dataset_path, format=\"png\"))\n",
        "\n",
        "dataset_plotter = aplt.ImagingPlotter(dataset=dataset, mat_plot_2d=mat_plot)\n",
        "dataset_plotter.subplot_dataset()\n",
        "dataset_plotter.figures_2d(data=True)"
      ],
      "outputs": [],
      "execution_count": null
    },
    {
      "cell_type": "markdown",
      "metadata": {},
      "source": [
        "__Tracer json__\n",
        "\n",
        "Save the `Tracer` in the dataset folder as a .json file, ensuring the true light profiles, mass profiles and galaxies\n",
        "are safely stored and available to check how the dataset was simulated in the future. \n",
        "\n",
        "This can be loaded via the method `tracer = al.from_json()`."
      ]
    },
    {
      "cell_type": "code",
      "metadata": {},
      "source": [
        "al.output_to_json(\n",
        "    obj=tracer,\n",
        "    file_path=Path(dataset_path, \"tracer.json\"),\n",
        ")"
      ],
      "outputs": [],
      "execution_count": null
    },
    {
      "cell_type": "markdown",
      "metadata": {},
      "source": [
        "Finished."
      ]
    },
    {
      "cell_type": "code",
      "metadata": {},
      "source": [],
      "outputs": [],
      "execution_count": null
    }
  ],
  "metadata": {
    "anaconda-cloud": {},
    "kernelspec": {
      "display_name": "Python 3",
      "language": "python",
      "name": "python3"
    },
    "language_info": {
      "codemirror_mode": {
        "name": "ipython",
        "version": 3
      },
      "file_extension": ".py",
      "mimetype": "text/x-python",
      "name": "python",
      "nbconvert_exporter": "python",
      "pygments_lexer": "ipython3",
      "version": "3.6.1"
    }
  },
  "nbformat": 4,
  "nbformat_minor": 4
}