{
  "cells": [
    {
      "cell_type": "markdown",
      "metadata": {},
      "source": [
        "Simulator: Sample Broken Power-Law\n",
        "==================================\n",
        "\n",
        "\n",
        "This script illustrates how to simulate a sample of `Imaging` datasets of 'galaxy-scale' strong lenses, which can\n",
        "easily be used to simulate hundreds or thousands of strong lenses.\n",
        "\n",
        "To simulate the sample of lenses, each lens and source galaxies set up using the `Model` object which is also used in\n",
        "the `modeling` scripts. This means that the parameters of each simulated strong lens are drawn from the distributions\n",
        "defined via priors, which can be customized to simulate a wider range of strong lenses.\n",
        "\n",
        "This script simulate a sample of `Imaging` datasets of 'galaxy-scale' strong lenses, whose mass distributions are\n",
        "`BrokenPowerLaw`'s.\n",
        "\n",
        "It is used in `autolens_workspace/notebooks/imaging/advanced/hierarchical` to illustrate how a hierarchical model can\n",
        "be fitted to a large sample of strong lenses in order to infer the glboal properties of the lens sample.\n",
        "\n",
        "This script uses the signal-to-noise based light profiles described in the\n",
        "script `imaging/simulators/misc/manual_signal_to_noise_ratio.ipynb`, to make it straight forward to ensure the lens\n",
        "and source galaxies are visible in each image.\n",
        "\n",
        "__Model__\n",
        "\n",
        "This script simulates a sample of `Imaging` data of 'galaxy-scale' strong lenses where:\n",
        "\n",
        " - The lens galaxies total mass distributions are `SphBrokenPowerLaw` models.\n",
        " - The source galaxies light profiles are `SphExp`'s.\n",
        "\n",
        "__Start Here Notebook__\n",
        "\n",
        "If any code in this script is unclear, refer to the `simulators/start_here.ipynb` notebook."
      ]
    },
    {
      "cell_type": "code",
      "metadata": {},
      "source": [
        "%matplotlib inline\n",
        "from pyprojroot import here\n",
        "workspace_path = str(here())\n",
        "%cd $workspace_path\n",
        "print(f\"Working Directory has been set to `{workspace_path}`\")\n",
        "\n",
        "from os import path\n",
        "import autofit as af\n",
        "import autolens as al\n",
        "import autolens.plot as aplt"
      ],
      "outputs": [],
      "execution_count": null
    },
    {
      "cell_type": "markdown",
      "metadata": {},
      "source": [
        "__Dataset Paths__\n",
        "\n",
        "The `dataset_type` describes the type of data being simulated (in this case, `Imaging` data) and `dataset_name`\n",
        "gives it a descriptive name. "
      ]
    },
    {
      "cell_type": "code",
      "metadata": {},
      "source": [
        "dataset_label = \"samples\"\n",
        "dataset_type = \"imaging\"\n",
        "dataset_sample_name = \"mass_bpl\""
      ],
      "outputs": [],
      "execution_count": null
    },
    {
      "cell_type": "markdown",
      "metadata": {},
      "source": [
        "The path where the dataset will be output, which in this case is:\n",
        "`/autolens_workspace/dataset/imaging/sample__mass_sis_0`"
      ]
    },
    {
      "cell_type": "code",
      "metadata": {},
      "source": [
        "dataset_path = path.join(\"dataset\", dataset_type, dataset_label, dataset_sample_name)"
      ],
      "outputs": [],
      "execution_count": null
    },
    {
      "cell_type": "markdown",
      "metadata": {},
      "source": [
        "__Simulate__\n",
        "\n",
        "Simulate the image using a `Grid2D` with the `OverSamplingIterate` object."
      ]
    },
    {
      "cell_type": "code",
      "metadata": {},
      "source": [
        "grid = al.Grid2D.uniform(\n",
        "    shape_native=(150, 150),\n",
        "    pixel_scales=0.1,\n",
        "    over_sampling=al.OverSamplingIterate(\n",
        "        fractional_accuracy=0.9999, sub_steps=[2, 4, 8, 16]\n",
        "    ),\n",
        ")"
      ],
      "outputs": [],
      "execution_count": null
    },
    {
      "cell_type": "markdown",
      "metadata": {},
      "source": [
        "Simulate a simple Gaussian PSF for the image."
      ]
    },
    {
      "cell_type": "code",
      "metadata": {},
      "source": [
        "psf = al.Kernel2D.from_gaussian(\n",
        "    shape_native=(11, 11), sigma=0.2, pixel_scales=grid.pixel_scales\n",
        ")"
      ],
      "outputs": [],
      "execution_count": null
    },
    {
      "cell_type": "markdown",
      "metadata": {},
      "source": [
        "To simulate the `Imaging` dataset we first create a simulator, which defines the exposure time, background sky,\n",
        "noise levels and psf of the dataset that is simulated."
      ]
    },
    {
      "cell_type": "code",
      "metadata": {},
      "source": [
        "simulator = al.SimulatorImaging(\n",
        "    exposure_time=300.0, psf=psf, background_sky_level=0.1, add_poisson_noise=True\n",
        ")"
      ],
      "outputs": [],
      "execution_count": null
    },
    {
      "cell_type": "markdown",
      "metadata": {},
      "source": [
        "__Sample Model Distributions__\n",
        "\n",
        "To simulate a sample, we draw random instances of lens and source galaxies where the parameters of their light and \n",
        "mass profiles are drawn from distributions. These distributions are defined via priors -- the same objects that are used \n",
        "when defining the priors of each parameter for a non-linear search.\n",
        "\n",
        "Below, we define the distributions the lens galaxy's bulge light and mass profiles are drawn from alongside\n",
        "the soruce's bulge. "
      ]
    },
    {
      "cell_type": "code",
      "metadata": {},
      "source": [
        "\n",
        "mass = af.Model(al.mp.PowerLawBrokenSph)\n",
        "\n",
        "mass.centre = (0.0, 0.0)\n",
        "mass.einstein_radius = af.UniformPrior(lower_limit=1.0, upper_limit=1.8)\n",
        "mass.inner_slope = 1.5\n",
        "mass.outer_slope = 0.5\n",
        "mass.break_radius = 0.01\n",
        "\n",
        "lens = af.Model(al.Galaxy, redshift=0.5, mass=mass)\n",
        "\n",
        "bulge = af.Model(al.lp_snr.ExponentialSph)\n",
        "\n",
        "bulge.centre_0 = af.GaussianPrior(mean=0.0, sigma=0.3)\n",
        "bulge.centre_1 = af.GaussianPrior(mean=0.0, sigma=0.3)\n",
        "bulge.signal_to_noise_ratio = af.UniformPrior(lower_limit=10.0, upper_limit=30.0)\n",
        "bulge.effective_radius = af.UniformPrior(lower_limit=0.01, upper_limit=3.0)\n",
        "\n",
        "source = af.Model(al.Galaxy, redshift=1.0, bulge=bulge)"
      ],
      "outputs": [],
      "execution_count": null
    },
    {
      "cell_type": "markdown",
      "metadata": {},
      "source": [
        "__Sample Instances__\n",
        "\n",
        "Within a for loop, we will now generate instances of the lens and source galaxies using the `Model`'s defined above.\n",
        "This loop will run for `total_datasets` iterations, which sets the number of lenses that are simulated.\n",
        "\n",
        "Each iteration of the for loop will then create a tracer and use this to simulate the imaging dataset."
      ]
    },
    {
      "cell_type": "code",
      "metadata": {},
      "source": [
        "total_datasets = 3\n",
        "\n",
        "for sample_index in range(total_datasets):\n",
        "    dataset_sample_path = path.join(dataset_path, f\"dataset_{sample_index}\")\n",
        "\n",
        "    lens_galaxy = lens.random_instance()\n",
        "    source_galaxy = source.random_instance()\n",
        "\n",
        "    \"\"\"\n",
        "    __Ray Tracing__\n",
        "    \n",
        "    Use the sample's lens and source galaxies to setup a tracer, which will generate the image for the \n",
        "    simulated `Imaging` dataset.\n",
        "    \n",
        "    The steps below are expanded on in other `imaging/simulator` scripts, so check them out if anything below is unclear.\n",
        "    \"\"\"\n",
        "    tracer = al.Tracer(galaxies=[lens_galaxy, source_galaxy])\n",
        "\n",
        "    tracer_plotter = aplt.TracerPlotter(tracer=tracer, grid=grid)\n",
        "    tracer_plotter.figures_2d(image=True)\n",
        "\n",
        "    dataset = simulator.via_tracer_from(tracer=tracer, grid=grid)\n",
        "\n",
        "    dataset_plotter = aplt.ImagingPlotter(dataset=dataset)\n",
        "    dataset_plotter.subplot_dataset()\n",
        "\n",
        "    \"\"\"\n",
        "    __Output__\n",
        "    \n",
        "    Output the simulated dataset to the dataset path as .fits files.\n",
        "    \n",
        "    This uses the updated `dataset_path_sample` which outputs this sample lens to a unique folder.\n",
        "    \"\"\"\n",
        "    dataset.output_to_fits(\n",
        "        data_path=path.join(dataset_sample_path, \"data.fits\"),\n",
        "        psf_path=path.join(dataset_sample_path, \"psf.fits\"),\n",
        "        noise_map_path=path.join(dataset_sample_path, \"noise_map.fits\"),\n",
        "        overwrite=True,\n",
        "    )\n",
        "\n",
        "    \"\"\"\n",
        "    __Visualize__\n",
        "    \n",
        "    Output a subplot of the simulated dataset, the image and the tracer's quantities to the dataset path as .png files.\n",
        "\n",
        "    For a faster run time, the tracer visualization uses the binned grid instead of the iterative grid.\n",
        "    \"\"\"\n",
        "    mat_plot = aplt.MatPlot2D(\n",
        "        output=aplt.Output(path=dataset_sample_path, format=\"png\")\n",
        "    )\n",
        "\n",
        "    dataset_plotter = aplt.ImagingPlotter(dataset=dataset, mat_plot_2d=mat_plot)\n",
        "    dataset_plotter.subplot_dataset()\n",
        "    dataset_plotter.figures_2d(data=True)\n",
        "\n",
        "    tracer_plotter = aplt.TracerPlotter(tracer=tracer, grid=grid, mat_plot_2d=mat_plot)\n",
        "    tracer_plotter.subplot_tracer()\n",
        "    tracer_plotter.subplot_galaxies_images()\n",
        "\n",
        "    \"\"\"\n",
        "    __Tracer json__\n",
        "\n",
        "    Save the `Tracer` in the dataset folder as a .json file, ensuring the true light profiles, mass profiles and galaxies\n",
        "    are safely stored and available to check how the dataset was simulated in the future. \n",
        "    \n",
        "    This can be loaded via the method `tracer = al.from_json()`.\n",
        "    \"\"\"\n",
        "    al.output_to_json(\n",
        "        obj=tracer,\n",
        "        file_path=path.join(dataset_sample_path, \"tracer.json\"),\n",
        "    )\n",
        "\n",
        "    \"\"\"\n",
        "    The dataset can be viewed in the \n",
        "    folder `autolens_workspace/imaging/sample/mass_sie__source_sersic_{sample_index]`.\n",
        "    \"\"\"\n"
      ],
      "outputs": [],
      "execution_count": null
    }
  ],
  "metadata": {
    "anaconda-cloud": {},
    "kernelspec": {
      "display_name": "Python 3",
      "language": "python",
      "name": "python3"
    },
    "language_info": {
      "codemirror_mode": {
        "name": "ipython",
        "version": 3
      },
      "file_extension": ".py",
      "mimetype": "text/x-python",
      "name": "python",
      "nbconvert_exporter": "python",
      "pygments_lexer": "ipython3",
      "version": "3.6.1"
    }
  },
  "nbformat": 4,
  "nbformat_minor": 4
}