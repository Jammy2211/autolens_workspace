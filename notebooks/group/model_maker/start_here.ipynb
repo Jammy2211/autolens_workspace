{
  "cells": [
    {
      "cell_type": "markdown",
      "metadata": {},
      "source": [
        "Model Maker: Lens x3 + source x1\n",
        "================================\n",
        "\n",
        "For group-scale strong lens modeling, there are multiple lens and / or source galaxies. Manually writing the lens\n",
        "model of each in the Python scripts we used to perform lens model becomes unfeasible and it better for us to manage\n",
        "model composition in a separate file and store them in .json files.\n",
        "\n",
        "This script makes the model that is fitted to the example `group` dataset, where:\n",
        "\n",
        " - There are three lens galaxies whose light models are `SersicSph` profiles and total mass distributions\n",
        " are `IsothermalSph` models.\n",
        "\n",
        " - The source `Galaxy` is modeled as a point source `Point`.\n",
        "\n",
        "To write your own group-scale lens model, you can easily adapt this script."
      ]
    },
    {
      "cell_type": "code",
      "metadata": {},
      "source": [
        "%matplotlib inline\n",
        "from pyprojroot import here\n",
        "workspace_path = str(here())\n",
        "%cd $workspace_path\n",
        "print(f\"Working Directory has been set to `{workspace_path}`\")\n",
        "\n",
        "import os\n",
        "from os import path\n",
        "import json\n",
        "import autofit as af\n",
        "import autolens as al"
      ],
      "outputs": [],
      "execution_count": null
    },
    {
      "cell_type": "markdown",
      "metadata": {},
      "source": [
        "__Paths__\n",
        "\n",
        "The path where the models are output, which is also where the data is stored."
      ]
    },
    {
      "cell_type": "code",
      "metadata": {},
      "source": [
        "dataset_name = \"lens_x3__source_x1\"\n",
        "model_path = path.join(\"dataset\", \"group\", dataset_name)\n",
        "\n",
        "os.makedirs(model_path, exist_ok=True)"
      ],
      "outputs": [],
      "execution_count": null
    },
    {
      "cell_type": "markdown",
      "metadata": {},
      "source": [
        "__Lens_x3__\n",
        "\n",
        "The group consists of three lens galaxies whose total mass distributions are `IsothermalSph` models."
      ]
    },
    {
      "cell_type": "code",
      "metadata": {},
      "source": [
        "mass = af.Model(al.mp.IsothermalSph)\n",
        "\n",
        "mass.centre_0 = af.GaussianPrior(mean=0.0, sigma=0.5)\n",
        "mass.centre_1 = af.GaussianPrior(mean=0.0, sigma=0.5)\n",
        "\n",
        "shear = af.Model(al.mp.ExternalShear)\n",
        "\n",
        "lens_0 = af.Model(al.Galaxy, redshift=0.5, mass=mass, shear=shear)\n",
        "\n",
        "mass = af.Model(al.mp.IsothermalSph)\n",
        "mass.centre_0 = af.GaussianPrior(mean=3.5, sigma=0.5)\n",
        "mass.centre_1 = af.GaussianPrior(mean=2.5, sigma=0.5)\n",
        "\n",
        "lens_1 = af.Model(al.Galaxy, redshift=0.5, mass=mass)\n",
        "\n",
        "mass = af.Model(al.mp.IsothermalSph)\n",
        "mass.centre_0 = af.GaussianPrior(mean=-4.4, sigma=0.5)\n",
        "mass.centre_1 = af.GaussianPrior(mean=-5.0, sigma=0.5)\n",
        "\n",
        "lens_2 = af.Model(al.Galaxy, redshift=0.5, mass=mass)"
      ],
      "outputs": [],
      "execution_count": null
    },
    {
      "cell_type": "markdown",
      "metadata": {},
      "source": [
        "__Lenses Model__\n",
        "\n",
        "We now combine the lenses into a `Collection` object and write it to a `.json` file."
      ]
    },
    {
      "cell_type": "code",
      "metadata": {},
      "source": [
        "lenses = af.Collection(lens_0=lens_0, lens_1=lens_1, lens_2=lens_2)\n",
        "\n",
        "lenses_file = path.join(model_path, \"lenses.json\")\n",
        "\n",
        "with open(lenses_file, \"w+\") as f:\n",
        "    json.dump(lenses.dict(), f, indent=4)"
      ],
      "outputs": [],
      "execution_count": null
    },
    {
      "cell_type": "markdown",
      "metadata": {},
      "source": [
        "__Source_x1__\n",
        "\n",
        "The group has a single source galaxy whose emission is observed but we model as a `Point`."
      ]
    },
    {
      "cell_type": "code",
      "metadata": {},
      "source": [
        "point_0 = af.Model(al.ps.Point)\n",
        "point_0.centre_0 = af.GaussianPrior(mean=0.0, sigma=3.0)\n",
        "point_0.centre_1 = af.GaussianPrior(mean=0.0, sigma=3.0)\n",
        "\n",
        "source_0 = af.Model(al.Galaxy, redshift=1.0, point_0=point_0)"
      ],
      "outputs": [],
      "execution_count": null
    },
    {
      "cell_type": "markdown",
      "metadata": {},
      "source": [
        "__Sources Model__\n",
        "\n",
        "We now combine the source(s) into a `Collection` object and write it to a `.json` file."
      ]
    },
    {
      "cell_type": "code",
      "metadata": {},
      "source": [
        "sources = af.Collection(source_0=source_0)\n",
        "\n",
        "sources_file = path.join(model_path, \"sources.json\")\n",
        "\n",
        "with open(sources_file, \"w+\") as f:\n",
        "    json.dump(sources.dict(), f, indent=4)"
      ],
      "outputs": [],
      "execution_count": null
    },
    {
      "cell_type": "markdown",
      "metadata": {},
      "source": [
        "Finish."
      ]
    },
    {
      "cell_type": "code",
      "metadata": {},
      "source": [],
      "outputs": [],
      "execution_count": null
    }
  ],
  "metadata": {
    "anaconda-cloud": {},
    "kernelspec": {
      "display_name": "Python 3",
      "language": "python",
      "name": "python3"
    },
    "language_info": {
      "codemirror_mode": {
        "name": "ipython",
        "version": 3
      },
      "file_extension": ".py",
      "mimetype": "text/x-python",
      "name": "python",
      "nbconvert_exporter": "python",
      "pygments_lexer": "ipython3",
      "version": "3.6.1"
    }
  },
  "nbformat": 4,
  "nbformat_minor": 4
}