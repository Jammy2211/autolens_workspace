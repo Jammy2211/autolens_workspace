{
  "cells": [
    {
      "cell_type": "markdown",
      "metadata": {},
      "source": [
        "Start Here: Imaging\n",
        "===================\n",
        "\n",
        "Strong gravitational lenses are often observed with CCD imaging, for example using HST, JWST,\n",
        "or ground-based telescopes.\n",
        "\n",
        "This script shows you how to model such a lens system using **PyAutoLens** with as little setup\n",
        "as possible. In about 15 minutes you\u2019ll be able to point the code at your own FITS files and\n",
        "fit your first lens.\n",
        "\n",
        "We focus on a *galaxy-scale* lens (a single lens galaxy). If you have multiple lens galaxies,\n",
        "see the `start_here_group.ipynb` and `start_here_cluster.ipynb` examples.\n",
        "\n",
        "PyAutoLens uses JAX under the hood for fast GPU/CPU acceleration. If JAX is installed with GPU\n",
        "support, your fits will run much faster (a few minutes instead of an hour). If you don\u2019t have\n",
        "a GPU locally, consider Google Colab which provides free GPUs, so your modeling runs are much faster.\n",
        "\n",
        "We also show how to simulate strong lens imaging. This is useful for building machine learning training datasets,\n",
        "or for investigating lensing effects in a controlled way.\n",
        "\n",
        "__Google Colab Setup__\n",
        "\n",
        "The introduction `start_here` examples are available on Google Colab, which allows you to run them in a web browser\n",
        "without manual local PyAutoLens installation.\n",
        "\n",
        "The code below sets up your environment if you are using Google Colab, including installing autolens and downloading\n",
        "files required to run the notebook. If you are running this script not in Colab (e.g. locally on your own computer),\n",
        "running the code below state you are not in a Colab environment and skip the setup."
      ]
    },
    {
      "cell_type": "code",
      "metadata": {},
      "source": [
        "from autoconf import setup_colab\n",
        "\n",
        "try:\n",
        "    setup_colab.setup_colab_autolens()\n",
        "except RuntimeError:\n",
        "    pass"
      ],
      "outputs": [],
      "execution_count": null
    },
    {
      "cell_type": "markdown",
      "metadata": {},
      "source": [
        "__Imports__\n",
        "\n",
        "Lets first import autolens, its plotting module and the other libraries we'll need.\n",
        "\n",
        "You'll see these imports in the majority of workspace examples."
      ]
    },
    {
      "cell_type": "code",
      "metadata": {},
      "source": [
        "%matplotlib inline\n",
        "from pyprojroot import here\n",
        "workspace_path = str(here())\n",
        "%cd $workspace_path\n",
        "print(f\"Working Directory has been set to `{workspace_path}`\")\n",
        "\n",
        "import numpy as np\n",
        "from pathlib import Path\n",
        "\n",
        "import autofit as af\n",
        "import autolens as al\n",
        "import autolens.plot as aplt"
      ],
      "outputs": [],
      "execution_count": null
    },
    {
      "cell_type": "markdown",
      "metadata": {},
      "source": [
        "__Dataset__\n",
        "\n",
        "We begin by loading the dataset. Three ingredients are needed for lens modeling:\n",
        "\n",
        "1. The image itself (CCD counts).\n",
        "2. A noise-map (per-pixel RMS noise).\n",
        "3. The PSF (Point Spread Function).\n",
        "\n",
        "Here we use James Webb Space Telescope imaging of a strong lens called the COSMOS-Web ring. Replace these FITS paths \n",
        "with your own to immediately try modeling your data.\n",
        "\n",
        "The `pixel_scales` value converts pixel units into arcseconds. It is critical you set this\n",
        "correctly for your data."
      ]
    },
    {
      "cell_type": "code",
      "metadata": {},
      "source": [
        "dataset_name = \"cosmos_web_ring\"\n",
        "dataset_path = Path(\"dataset\") / \"imaging\" / dataset_name\n",
        "\n",
        "dataset = al.Imaging.from_fits(\n",
        "    data_path=dataset_path / \"data.fits\",\n",
        "    psf_path=dataset_path / \"psf.fits\",\n",
        "    noise_map_path=dataset_path / \"noise_map.fits\",\n",
        "    pixel_scales=0.06,\n",
        ")\n",
        "\n",
        "dataset_plotter = aplt.ImagingPlotter(dataset=dataset)\n",
        "dataset_plotter.subplot_dataset()"
      ],
      "outputs": [],
      "execution_count": null
    },
    {
      "cell_type": "markdown",
      "metadata": {},
      "source": [
        "__Extra Galaxy Removal GUI__\n",
        "\n",
        "There may be regions of an image that have signal near the lens and source that is from other galaxies not associated\n",
        "with the strong lens we are studying. The emission from these images will impact our model fitting and needs to be\n",
        "removed from the analysis.\n",
        "\n",
        "This `mask_extra_galaxies` is used to prevent them from impacting a fit by scaling the RMS noise map values to\n",
        "large values. This mask may also include emission from objects which are not technically galaxies,\n",
        "but blend with the galaxy we are studying in a similar way. Common examples of such objects are foreground stars\n",
        "or emission due to the data reduction process.\n",
        "\n",
        "After performing lens modeling to this strong lens, the script further down provides a GUI to create such a mask\n",
        "for your own data, if necessary."
      ]
    },
    {
      "cell_type": "code",
      "metadata": {},
      "source": [
        "mask_extra_galaxies = al.Mask2D.from_fits(\n",
        "    file_path=f\"{dataset_path}/mask_extra_galaxies.fits\",\n",
        "    pixel_scales=dataset.pixel_scales,\n",
        "    invert=True,\n",
        ")\n",
        "\n",
        "dataset = dataset.apply_noise_scaling(mask=mask_extra_galaxies)\n",
        "\n",
        "dataset_plotter = aplt.ImagingPlotter(dataset=dataset)\n",
        "dataset_plotter.subplot_dataset()"
      ],
      "outputs": [],
      "execution_count": null
    },
    {
      "cell_type": "markdown",
      "metadata": {},
      "source": [
        "__Masking__\n",
        "\n",
        "Lens modeling does not need to fit the entire image, only the region containing lens and\n",
        "source light. We therefore define a circular mask around the lens.\n",
        "\n",
        "- Make sure the mask fully encloses the lensed arcs and the lens galaxy.\n",
        "- Avoid masking too much empty sky, as this slows fitting without adding information.\n",
        "\n",
        "We\u2019ll also oversample the central pixels, which improves modeling accuracy without adding\n",
        "unnecessary cost far from the lens."
      ]
    },
    {
      "cell_type": "code",
      "metadata": {},
      "source": [
        "mask_radius = 2.5\n",
        "\n",
        "mask = al.Mask2D.circular(\n",
        "    shape_native=dataset.shape_native,\n",
        "    pixel_scales=dataset.pixel_scales,\n",
        "    radius=mask_radius,\n",
        ")\n",
        "\n",
        "dataset = dataset.apply_mask(mask=mask)\n",
        "\n",
        "# Over sampling is important for accurate lens modeling, but details are omitted\n",
        "# for simplicity here, so don't worry about what this code is doing yet!\n",
        "\n",
        "over_sample_size = al.util.over_sample.over_sample_size_via_radial_bins_from(\n",
        "    grid=dataset.grid,\n",
        "    sub_size_list=[4, 2, 1],\n",
        "    radial_list=[0.3, 0.6],\n",
        "    centre_list=[(0.0, 0.0)],\n",
        ")\n",
        "\n",
        "dataset = dataset.apply_over_sampling(over_sample_size_lp=over_sample_size)\n",
        "\n",
        "dataset_plotter = aplt.ImagingPlotter(dataset=dataset)\n",
        "dataset_plotter.subplot_dataset()"
      ],
      "outputs": [],
      "execution_count": null
    },
    {
      "cell_type": "markdown",
      "metadata": {},
      "source": [
        "__Model__\n",
        "\n",
        "To perform lens modeling we must define a lens model, describing the light profiles of \n",
        "the lens and source galaxies, and the mass profile of the lens galaxy.\n",
        "\n",
        "A brilliant lens model to start with is one which uses a Multi Gaussian Expansion (MGE) \n",
        "to model the lens and source light, and a Singular Isothermal Ellipsoid (SIE) plus \n",
        "shear to model the lens mass. \n",
        "\n",
        "Full details of why this models is so good are provided in the main workspace docs, \n",
        "but in a nutshell it  provides an excellent balance of being fast to fit, flexible \n",
        "enough to capture complex galaxy morphologies and providing accurate fits to the vast \n",
        "majority of strong lenses.\n",
        "\n",
        "The MGE model composition API is quite long and technical, so we simply load the MGE \n",
        "models for the lens and source below via a utility function `mge_model_from` which \n",
        "hides the API to make the code in this introduction example ready to read. We then \n",
        "use the PyAutoLens Model API to compose the over lens model."
      ]
    },
    {
      "cell_type": "code",
      "metadata": {},
      "source": [
        "# Lens:\n",
        "\n",
        "bulge = al.model_util.mge_model_from(\n",
        "    mask_radius=mask_radius, total_gaussians=20, centre_prior_is_uniform=True\n",
        ")\n",
        "\n",
        "mass = af.Model(al.mp.Isothermal)\n",
        "\n",
        "shear = af.Model(al.mp.ExternalShear)\n",
        "\n",
        "lens = af.Model(al.Galaxy, redshift=0.5, bulge=bulge, mass=mass, shear=shear)\n",
        "\n",
        "# Source:\n",
        "\n",
        "bulge = al.model_util.mge_model_from(\n",
        "    mask_radius=mask_radius, total_gaussians=20, centre_prior_is_uniform=False\n",
        ")\n",
        "\n",
        "source = af.Model(al.Galaxy, redshift=1.0, bulge=bulge)\n",
        "\n",
        "# Overall Lens Model:\n",
        "\n",
        "model = af.Collection(galaxies=af.Collection(lens=lens, source=source))"
      ],
      "outputs": [],
      "execution_count": null
    },
    {
      "cell_type": "markdown",
      "metadata": {},
      "source": [
        "We can print the model to show the parameters that the model is composed of, which shows many of the MGE's fixed\n",
        "parameter values the API above hided the composition of."
      ]
    },
    {
      "cell_type": "code",
      "metadata": {},
      "source": [
        "print(model.info)"
      ],
      "outputs": [],
      "execution_count": null
    },
    {
      "cell_type": "markdown",
      "metadata": {},
      "source": [
        "__Model Fit__\n",
        "\n",
        "We now fit the data with the lens model using the non-linear fitting method and nested sampling algorithm Nautilus.\n",
        "\n",
        "This requires an `AnalysisImaging` object, which defines the `log_likelihood_function` used by Nautilus to fit\n",
        "the model to the imaging data."
      ]
    },
    {
      "cell_type": "code",
      "metadata": {},
      "source": [
        "search = af.Nautilus(\n",
        "    path_prefix=Path(\"imaging\"),  # The path where results and output are stored.\n",
        "    name=\"start_here\",  # The name of the fit and folder results are output to.\n",
        "    unique_tag=dataset_name,  # A unique tag which also defines the folder.\n",
        "    n_live=100,  # The number of Nautilus \"live\" points, increase for more complex models.\n",
        "    n_batch=50,  # For fast GPU fitting lens model fits are batched and run simultaneously.\n",
        "    iterations_per_quick_update=2500,  # Every N iterations the max likelihood model is visualized and written to output folder.\n",
        ")\n",
        "\n",
        "analysis = al.AnalysisImaging(dataset=dataset)\n",
        "\n",
        "result = search.fit(model=model, analysis=analysis)"
      ],
      "outputs": [],
      "execution_count": null
    },
    {
      "cell_type": "markdown",
      "metadata": {},
      "source": [
        "__Result__\n",
        "\n",
        "Now this is running you should checkout the `autolens_workspace/output` folder, where many results of the fit\n",
        "are written in a human readable format (e.g. .json files) and .fits and .png images of the fit are stored.\n",
        "\n",
        "When the fit is complex, we can print the results by printing `result.info`."
      ]
    },
    {
      "cell_type": "code",
      "metadata": {},
      "source": [
        "print(result.info)"
      ],
      "outputs": [],
      "execution_count": null
    },
    {
      "cell_type": "markdown",
      "metadata": {},
      "source": [
        "The result also contains the maximum likelihood lens model which can be used to plot the best-fit lensing information\n",
        "and fit to the data."
      ]
    },
    {
      "cell_type": "code",
      "metadata": {},
      "source": [
        "tracer_plotter = aplt.TracerPlotter(\n",
        "    tracer=result.max_log_likelihood_tracer, grid=result.grids.lp\n",
        ")\n",
        "tracer_plotter.subplot_tracer()\n",
        "\n",
        "fit_plotter = aplt.FitImagingPlotter(fit=result.max_log_likelihood_fit)\n",
        "fit_plotter.subplot_fit()"
      ],
      "outputs": [],
      "execution_count": null
    },
    {
      "cell_type": "markdown",
      "metadata": {},
      "source": [
        "The result object contains pretty much everything you need to do science with your own strong lens, but details\n",
        "of all the information it contains are beyond the scope of this introductory script. The `guides` and `result` \n",
        "packages of the workspace contains all the information you need to analyze your results yourself.\n",
        "\n",
        "__Extra Galaxy Removal GUI__\n",
        "\n",
        "The model-fit above removed a region of the image to the south-east of the lens, which contains light from\n",
        "another galaxy not associated with the strong lens system.\n",
        "\n",
        "This GUI below provides the tool you need to produce such a mask for your own data, if necessary, with which you can\n",
        "then use the `apply_noise_scaling` function."
      ]
    },
    {
      "cell_type": "code",
      "metadata": {},
      "source": [
        "cmap = aplt.Cmap(cmap=\"jet\", norm=\"log\", vmin=1.0e-3, vmax=np.max(dataset.data) / 3.0)\n",
        "\n",
        "try:\n",
        "    scribbler = al.Scribbler(\n",
        "        image=dataset.data.native,\n",
        "        cmap=cmap,\n",
        "        brush_width=0.04,\n",
        "        mask_overlay=mask,\n",
        "    )\n",
        "    mask = scribbler.show_mask()\n",
        "    mask = al.Mask2D(mask=mask, pixel_scales=dataset.pixel_scales)\n",
        "\n",
        "    data = dataset.data.apply_mask(mask=mask)\n",
        "\n",
        "    mask.output_to_fits(\n",
        "        file_path=dataset_path / \"mask_extra_galaxies.fits\",\n",
        "        overwrite=True,\n",
        "    )\n",
        "except Exception as e:\n",
        "    print(\n",
        "        \"\"\"\n",
        "        Problem loading GUI, probably an issue with TKinter or your matplotlib TKAgg backend.\n",
        "\n",
        "        You will likely need to try and fix or reinstall various GUI / visualization libraries, or try\n",
        "        running this example not via a Jupyter notebook.\n",
        "\n",
        "        There are also manual tools for performing this task in the workspace.\n",
        "        \"\"\"\n",
        "    )\n",
        "    print()\n",
        "    print(e)"
      ],
      "outputs": [],
      "execution_count": null
    },
    {
      "cell_type": "markdown",
      "metadata": {},
      "source": [
        "__Model Your Own Lens__\n",
        "\n",
        "If you have your own strong lens imaging data, you are now ready to model it yourself by adapting the code above\n",
        "and simply inputting the path to your own .fits files into the `Imaging.from_fits()` function.\n",
        "\n",
        "A few things to note, with full details on data preparation provided in the main workspace documentation:\n",
        "\n",
        "- Supply your own CCD image, PSF, and RMS noise-map.\n",
        "- Ensure the lens galaxy is roughly centered in the image.\n",
        "- Double-check `pixel_scales` for your telescope/detector.\n",
        "- Adjust the mask radius to include all relevant light.\n",
        "- Remove extra light from galaxies and other objects using the extra galaxies mask GUI above.\n",
        "- Start with the default model \u2014 it works very well for pretty much all galaxy scale lenses!\n",
        "\n",
        "__Simulator__\n",
        "\n",
        "Let\u2019s now switch gears and simulate our own strong lens imaging. This is a great way to:\n",
        "\n",
        "- Practice lens modeling before using real data.\n",
        "- Build large training sets (e.g. for machine learning).\n",
        "- Test lensing theory in a controlled environment.\n",
        "\n",
        "To do this we need to define a 2D grid of (y,x) coordinates in the image-plane. This grid is\n",
        "where we\u2019ll evaluate the light from the lens and source galaxies."
      ]
    },
    {
      "cell_type": "code",
      "metadata": {},
      "source": [
        "grid = al.Grid2D.uniform(\n",
        "    shape_native=(100, 100),\n",
        "    pixel_scales=0.1,\n",
        ")\n",
        "\n",
        "over_sample_size = al.util.over_sample.over_sample_size_via_radial_bins_from(\n",
        "    grid=grid,\n",
        "    sub_size_list=[32, 8, 2],\n",
        "    radial_list=[0.3, 0.6],\n",
        "    centre_list=[(0.0, 0.0)],\n",
        ")\n",
        "\n",
        "grid = grid.apply_over_sampling(over_sample_size=over_sample_size)"
      ],
      "outputs": [],
      "execution_count": null
    },
    {
      "cell_type": "markdown",
      "metadata": {},
      "source": [
        "We now define a `Tracer` \u2014 this is the key object that combines all galaxies in the system\n",
        "and computes how light rays are deflected.\n",
        "\n",
        "- The lens galaxy has both light (a Sersic bulge) and mass (an isothermal profile + shear).\n",
        "- The source galaxy has its own light (a SersicCore profile).\n",
        "\n",
        "Together they define a strong lens system. The tracer will \u201cray-trace\u201d our grid through\n",
        "this mass distribution and generate a lensed image."
      ]
    },
    {
      "cell_type": "code",
      "metadata": {},
      "source": [
        "lens_galaxy = al.Galaxy(\n",
        "    redshift=0.5,\n",
        "    bulge=al.lp.Sersic(\n",
        "        centre=(0.0, 0.0),\n",
        "        ell_comps=al.convert.ell_comps_from(axis_ratio=0.9, angle=45.0),\n",
        "        intensity=2.0,\n",
        "        effective_radius=0.6,\n",
        "        sersic_index=3.0,\n",
        "    ),\n",
        "    mass=al.mp.Isothermal(\n",
        "        centre=(0.0, 0.0),\n",
        "        einstein_radius=1.6,\n",
        "        ell_comps=al.convert.ell_comps_from(axis_ratio=0.9, angle=45.0),\n",
        "    ),\n",
        "    shear=al.mp.ExternalShear(gamma_1=0.05, gamma_2=0.05),\n",
        ")\n",
        "\n",
        "source_galaxy = al.Galaxy(\n",
        "    redshift=1.0,\n",
        "    bulge=al.lp.SersicCore(\n",
        "        centre=(0.0, 0.0),\n",
        "        ell_comps=al.convert.ell_comps_from(axis_ratio=0.8, angle=60.0),\n",
        "        intensity=4.0,\n",
        "        effective_radius=0.1,\n",
        "        sersic_index=1.0,\n",
        "    ),\n",
        ")\n",
        "\n",
        "tracer = al.Tracer(galaxies=[lens_galaxy, source_galaxy])"
      ],
      "outputs": [],
      "execution_count": null
    },
    {
      "cell_type": "markdown",
      "metadata": {},
      "source": [
        "Plotting the tracer\u2019s image gives us a \u201cperfect\u201d view of the strong lens system, before\n",
        "adding telescope effects."
      ]
    },
    {
      "cell_type": "code",
      "metadata": {},
      "source": [
        "tracer_plotter = aplt.TracerPlotter(tracer=tracer, grid=grid)\n",
        "tracer_plotter.figures_2d(image=True)"
      ],
      "outputs": [],
      "execution_count": null
    },
    {
      "cell_type": "markdown",
      "metadata": {},
      "source": [
        "The image cna be saved to .fits for later use."
      ]
    },
    {
      "cell_type": "code",
      "metadata": {},
      "source": [
        "image = tracer.image_2d_from(grid=grid)\n",
        "\n",
        "al.output_to_fits(\n",
        "    values=image.native,\n",
        "    file_path=Path(\"image.fits\"),\n",
        "    overwrite=True,\n",
        ")"
      ],
      "outputs": [],
      "execution_count": null
    },
    {
      "cell_type": "markdown",
      "metadata": {},
      "source": [
        "__Simulator__\n",
        "\n",
        "The images above do not represent real CCD imaging data, as they do not include the blurring due to the telescope \n",
        "optics or sources of noise.\n",
        "\n",
        "The `SimulatorImaging` class simulates these two key properties of real imaging data, which we use below to create\n",
        "realistic imaging of the strong lens system.\n",
        "\n",
        "The units of the image are arbitrary, with the workspace providing guides on how to convert to physical units for lens\n",
        "simulations.\n",
        "\n",
        "The code below performs the simulation, plots the simulated imaging data and outputs it to .fits files with .png\n",
        "files included for easy visualization."
      ]
    },
    {
      "cell_type": "code",
      "metadata": {},
      "source": [
        "psf = al.Kernel2D.from_gaussian(\n",
        "    shape_native=(11, 11),  # The 2D shape of the PSF array.\n",
        "    sigma=0.1,  # The size of the Gaussian PSF, where FWHM = 2.35 * sigma.\n",
        "    pixel_scales=grid.pixel_scales,  # The pixel scale of the PSF, matches the image's pixel scale.\n",
        ")\n",
        "\n",
        "simulator = al.SimulatorImaging(\n",
        "    exposure_time=300.0,  # The exposure time of the observation, increases the S/N of the image.\n",
        "    psf=psf,  # The PSF which blurs the image.\n",
        "    background_sky_level=0.1,  # The background sky level of the image, increases the noise.\n",
        "    add_poisson_noise_to_data=True,  # Whether Poisson noise is added to the image or not.\n",
        ")\n",
        "\n",
        "dataset = simulator.via_tracer_from(tracer=tracer, grid=grid)\n",
        "\n",
        "dataset_plotter = aplt.ImagingPlotter(dataset=dataset)\n",
        "dataset_plotter.subplot_dataset()\n",
        "\n",
        "dataset_path = Path(\"dataset\") / \"imaging\" / \"simulated_lens\"\n",
        "\n",
        "dataset.output_to_fits(\n",
        "    data_path=dataset_path / \"data.fits\",\n",
        "    psf_path=dataset_path / \"psf.fits\",\n",
        "    noise_map_path=dataset_path / \"noise_map.fits\",\n",
        "    overwrite=True,\n",
        ")\n",
        "\n",
        "mat_plot = aplt.MatPlot2D(output=aplt.Output(path=dataset_path, format=\"png\"))"
      ],
      "outputs": [],
      "execution_count": null
    },
    {
      "cell_type": "markdown",
      "metadata": {},
      "source": [
        "We can now inspect the simulated dataset: image, noise-map, and PSF. These can also be\n",
        "written to FITS files and visualized as PNGs. This is exactly the same format as real data,\n",
        "so you can immediately try fitting the simulated dataset with the modeling workflow above."
      ]
    },
    {
      "cell_type": "code",
      "metadata": {},
      "source": [
        "dataset_plotter = aplt.ImagingPlotter(dataset=dataset, mat_plot_2d=mat_plot)\n",
        "dataset_plotter.subplot_dataset()\n",
        "dataset_plotter.figures_2d(data=True)"
      ],
      "outputs": [],
      "execution_count": null
    },
    {
      "cell_type": "markdown",
      "metadata": {},
      "source": [
        "__Sample__\n",
        "\n",
        "Often we want to simulate *many* strong lenses \u2014 for example, to train a neural network\n",
        "or to explore population-level statistics.\n",
        "\n",
        "This uses the model composition API to define the distribution of the light and mass profiles\n",
        "of the lens and source galaxies we draw from. The model composition is a little too complex for\n",
        "the first example, thus we use a helper function to create a simple lens and source model.\n",
        "\n",
        "We then generate 3 lenses for speed, and plot their images so you can see the variety of lenses\n",
        "we create.\n",
        "\n",
        "Each lens is simulated as if it were observed with CD imaging, therefore with a PSF and noise-map."
      ]
    },
    {
      "cell_type": "code",
      "metadata": {},
      "source": [
        "lens_model, source_model = al.model_util.simulator_start_here_model_from()\n",
        "\n",
        "print(lens_model.info)\n",
        "print(source_model.info)"
      ],
      "outputs": [],
      "execution_count": null
    },
    {
      "cell_type": "markdown",
      "metadata": {},
      "source": [
        "We now simulate a sample of strong lens, we just do 3 for efficiency here but you can increase this to any number."
      ]
    },
    {
      "cell_type": "code",
      "metadata": {},
      "source": [
        "total_datasets = 3\n",
        "\n",
        "for sample_index in range(total_datasets):\n",
        "\n",
        "    lens_galaxy = lens_model.random_instance()\n",
        "    source_galaxy = source_model.random_instance()\n",
        "\n",
        "    tracer = al.Tracer(galaxies=[lens_galaxy, source_galaxy])\n",
        "\n",
        "    dataset = simulator.via_tracer_from(tracer=tracer, grid=grid)\n",
        "\n",
        "    dataset_plotter = aplt.ImagingPlotter(dataset=dataset)\n",
        "    dataset_plotter.subplot_dataset()"
      ],
      "outputs": [],
      "execution_count": null
    },
    {
      "cell_type": "markdown",
      "metadata": {},
      "source": [
        "__Wrap Up__\n",
        "\n",
        "This script has shown how to model CCD imaging data of strong lenses, and simulate your own strong lens images.\n",
        "\n",
        "Details of the **PyAutoLens** API and how lens modeling and simulations actually work were omitted for simplicity,\n",
        "but everything you need to know is described throughout the main workspace documentation. You should check it out,\n",
        "but maybe you want to try and model your own lens first!\n",
        "\n",
        "The following locations of the workspace are good places to checkout next:\n",
        "\n",
        "- `autolens_workspace/*/modeling/imaging`: A full description of the lens modeling API and how to customize your model-fits.\n",
        "- `autolens_workspace/*/simulators/imaging`: A full description of the lens simulation API and how to customize your simulations.\n",
        "- `autolens_workspace/*/data_preparation/imaging`: How to load and prepare your own imaging data for lens modeling.\n",
        "- `autolens_workspace/results`: How to load and analyze the results of your lens model fits, including tools for large samples.\n",
        "- `autolens_workspace/guides`: A complete description of the API and information on lensing calculations and units.\n",
        "- `autolens_workspace/features`: A description of advanced features for lens modeling, for example pixelized source reconstructions, read this once you're confident with the basics!"
      ]
    },
    {
      "cell_type": "code",
      "metadata": {},
      "source": [],
      "outputs": [],
      "execution_count": null
    }
  ],
  "metadata": {
    "anaconda-cloud": {},
    "kernelspec": {
      "display_name": "Python 3",
      "language": "python",
      "name": "python3"
    },
    "language_info": {
      "codemirror_mode": {
        "name": "ipython",
        "version": 3
      },
      "file_extension": ".py",
      "mimetype": "text/x-python",
      "name": "python",
      "nbconvert_exporter": "python",
      "pygments_lexer": "ipython3",
      "version": "3.6.1"
    }
  },
  "nbformat": 4,
  "nbformat_minor": 4
}