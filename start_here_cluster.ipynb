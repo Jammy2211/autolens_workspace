{
  "cells": [
    {
      "cell_type": "markdown",
      "metadata": {},
      "source": [
        "Start Here: Cluster\n",
        "===================\n",
        "\n",
        "Cluster scale lenses are composed of:\n",
        "\n",
        " - Brightest Cluster Galaxies (BCG) which are modeled individually.\n",
        " - One or more large scale dark matter halos (typically > 1e14 MSun) which are modeled individually.\n",
        " - 50 - 100 member galaxies, whose collective mass contributes to ray tracing significantly and therefore all are modeled.\n",
        " - 5-50 source galaxies, all at different redshifts, which are all modeled individually.\n",
        "\n",
        "This script shows you how to model cluster lens system using **PyAutoLens** with as little setup\n",
        "as possible. In about 15 minutes you\u2019ll be able to point the code at your own cluster catalogue and FITS files and\n",
        "fit your first cluster-scale lens.\n",
        "\n",
        "We focus on a *cluster-scale* lens (20 + lenses, many sources). If you have a single lens galaxy responsible for\n",
        "most th lensing, lensing a single source, you should instead checlout the `start_here_group.ipynb` example.\n",
        "\n",
        "PyAutoLens uses JAX under the hood for fast GPU/CPU acceleration. If JAX is installed with GPU\n",
        "support, your fits will run much faster (a few minutes instead of an hour). If you don\u2019t have\n",
        "a GPU locally, consider Google Colab which provides free GPUs, so your modeling runs are much faster.\n",
        "\n",
        "__Beta Feature__\n",
        "\n",
        "Modeling strong lens clusters with PyAutoLens is a feature in beta testing, and there are many deficiencies with\n",
        "the current implementation:\n",
        "\n",
        "- Visualization is not optimal for cluster models with many lens and sources.\n",
        "- Documentation on the workspace is limited compared to other features.\n",
        "\n",
        "However, the PyAutoLens cluster implementation has a key feature which means you may still want to use it over\n",
        "more established software. For lens modeling, the JAX GPU likelihood evaluation (which for those familiar with cluster\n",
        "modeling uses an image plane chi squared) is over 50 times faster than existing established cluster modeling software.\n",
        "It also fully supports multi-plane ray tracing of any complexity.\n",
        "\n",
        "__Google Colab Setup__\n",
        "\n",
        "The introduction `start_here` examples are available on Google Colab, which allows you to run them in a web browser\n",
        "without manual local PyAutoLens installation.\n",
        "\n",
        "The code below sets up your environment if you are using Google Colab, including installing autolens and downloading\n",
        "files required to run the notebook. If you are running this script not in Colab (e.g. locally on your own computer), \n",
        "running the code below state you are not in a Colab environment and skip the setup."
      ]
    },
    {
      "cell_type": "code",
      "metadata": {},
      "source": [
        "from autoconf import setup_colab\n",
        "\n",
        "setup_colab.for_autolens()"
      ],
      "outputs": [],
      "execution_count": null
    },
    {
      "cell_type": "markdown",
      "metadata": {},
      "source": [
        "__Imports__\n",
        "\n",
        "Lets first import autolens, its plotting module and the other libraries we'll need.\n",
        "\n",
        "You'll see these imports in the majority of workspace examples."
      ]
    },
    {
      "cell_type": "code",
      "metadata": {},
      "source": [
        "%matplotlib inline\n",
        "from pyprojroot import here\n",
        "workspace_path = str(here())\n",
        "%cd $workspace_path\n",
        "print(f\"Working Directory has been set to `{workspace_path}`\")\n",
        "\n",
        "import numpy as np\n",
        "from pathlib import Path\n",
        "\n",
        "import autofit as af\n",
        "import autolens as al\n",
        "import autolens.plot as aplt"
      ],
      "outputs": [],
      "execution_count": null
    },
    {
      "cell_type": "markdown",
      "metadata": {},
      "source": [
        "__Dataset__\n",
        "\n",
        "We begin by loading CCD imaging of the cluster dataset. \n",
        "\n",
        "The `pixel_scales` value converts pixel units into arcseconds. It is critical you set this\n",
        "correctly for your data.\n",
        "\n",
        "The image itself is not used for cluster modeling, but plotting it shows the cluster configuration\n",
        "and where the lens and source galaxies are."
      ]
    },
    {
      "cell_type": "code",
      "metadata": {},
      "source": [
        "dataset_name = \"simple\"\n",
        "dataset_path = Path(\"dataset\") / \"cluster\" / dataset_name\n",
        "\n",
        "data = al.Array2D.from_fits(file_path=dataset_path / \"data.fits\", pixel_scales=0.05)\n",
        "\n",
        "array_plotter = aplt.Array2DPlotter(array=data)\n",
        "array_plotter.figure_2d()\n"
      ],
      "outputs": [],
      "execution_count": null
    },
    {
      "cell_type": "markdown",
      "metadata": {},
      "source": [
        "__Main Galaxies and Extra Galaxies__\n",
        "\n",
        "For a group-scale lens, we designate there to be two types of lens galaxies in the system:\n",
        "\n",
        " - `main_galaxy`: The main lens galaxy which likely make up the majority of light and mass in the lens system.\n",
        " These are modeled individually with a unique name for each, with their light and mass distributions modeled using \n",
        " parametric models.\n",
        " \n",
        " - `extra_galaxies`: The extra galaxies which are nearby the group lens system, whose mass contribute to the lensing \n",
        " of the source galaxy. These are modeled with a more restrictive model, for example with their are centres fixed to the \n",
        " observed centre of light. These are grouped into a single `extra_galaxies` collection.\n",
        " \n",
        "__Centres__\n",
        "\n",
        "For group-scale lenses we must manually specify the centres of the extra galaxies, which are fixed to the observed\n",
        "centres of light of the galaxies. This is integral to ensuring the lens model can be fitted accurately, without these\n",
        "centres being input there is a high chance the model will not converge to the correct solution.\n",
        "\n",
        "In this example, we simply load the centres from a .json file contained in the dataset folder. After modeling the\n",
        "data, this example will provide a GUI for you to determine the centres of the extra galaxies in your own data,\n",
        "if they are not already known."
      ]
    },
    {
      "cell_type": "code",
      "metadata": {},
      "source": [
        "extra_galaxies_centres = al.from_json(\n",
        "    file_path=dataset_path / \"extra_galaxies_centres.json\"\n",
        ")"
      ],
      "outputs": [],
      "execution_count": null
    },
    {
      "cell_type": "markdown",
      "metadata": {},
      "source": [
        "__Masking__\n",
        "\n",
        "Lens modeling does not need to fit the entire image, only the region containing lens and\n",
        "source light, and the light of extra galaxies in the group. We therefore define a circular mask around all galaxies.\n",
        "\n",
        "- Make sure the mask fully encloses the lensed arcs, lens galaxy and extra galaxies.\n",
        "- Avoid masking too much empty sky, as this slows fitting without adding information.\n",
        "\n",
        "We\u2019ll also oversample the central pixels, which improves modeling accuracy without adding\n",
        "unnecessary cost far from the lens. Over sampling is also applied to the extra galaxies."
      ]
    },
    {
      "cell_type": "code",
      "metadata": {},
      "source": [
        "mask_radius = 3.7\n",
        "\n",
        "mask = al.Mask2D.circular(\n",
        "    shape_native=dataset.shape_native,\n",
        "    pixel_scales=dataset.pixel_scales,\n",
        "    radius=mask_radius,\n",
        ")\n",
        "\n",
        "dataset = dataset.apply_mask(mask=mask)\n",
        "\n",
        "# Over sampling is important for accurate lens modeling, but details are omitted\n",
        "# for simplicity here, so don't worry about what this code is doing yet!\n",
        "\n",
        "over_sample_size = al.util.over_sample.over_sample_size_via_radial_bins_from(\n",
        "    grid=dataset.grid,\n",
        "    sub_size_list=[4, 2, 1],\n",
        "    radial_list=[0.3, 0.6],\n",
        "    centre_list=[(0.0, 0.0)] + extra_galaxies_centres.in_list,\n",
        ")\n",
        "\n",
        "dataset = dataset.apply_over_sampling(over_sample_size_lp=over_sample_size)\n",
        "\n",
        "dataset_plotter = aplt.ImagingPlotter(dataset=dataset)\n",
        "dataset_plotter.subplot_dataset()"
      ],
      "outputs": [],
      "execution_count": null
    },
    {
      "cell_type": "markdown",
      "metadata": {},
      "source": [
        "__Model__\n",
        "\n",
        "To perform lens modeling we must define a lens model, describing the light profiles of the lens and source galaxies,\n",
        "and the mass profile of the lens galaxy. This includes the mass of the groups extra galaxies.\n",
        "\n",
        "A brilliant lens model to start with is one which uses a Multi Gaussian Expansion (MGE) to model the lens and source\n",
        "light, and a Singular Isothermal Ellipsoid (SIE) plus shear to model the lens mass. \n",
        "\n",
        "Full details of why this models is so good are provided in the main workspace docs, but in a nutshell it \n",
        "provides an excellent balance of being fast to fit, flexible enough to capture complex galaxy morphologies and \n",
        "providing accurate fits to the vast majority of strong lenses. For group scale lenses, the MGE allows us to fit\n",
        "the light of extra galaxies without increasing the number of free parameters in the model.\n",
        "\n",
        "The MGE model composition API is quite long and technical, so we simply load the MGE models for the lens and source \n",
        "below via a utility function `mge_model_from` which hides the API to make the code in this introduction example ready \n",
        "to read. We then use the PyAutoLens Model API to compose the over lens model.\n",
        " \n",
        "Note how we also loop over the extra galaxy centres, creating an MGE light model and SIE mass model for each extra \n",
        "galaxy fixed to the input centre."
      ]
    },
    {
      "cell_type": "code",
      "metadata": {},
      "source": [
        "# Main Lens:\n",
        "\n",
        "bulge = al.model_util.mge_model_from(\n",
        "    mask_radius=mask_radius, total_gaussians=20, centre_prior_is_uniform=True\n",
        ")\n",
        "\n",
        "mass = af.Model(al.mp.Isothermal)\n",
        "\n",
        "shear = af.Model(al.mp.ExternalShear)\n",
        "\n",
        "lens = af.Model(al.Galaxy, redshift=0.5, bulge=bulge, mass=mass, shear=shear)\n",
        "\n",
        "# Extra Galaxies\n",
        "\n",
        "extra_galaxies_list = []\n",
        "\n",
        "for extra_galaxy_centre in extra_galaxies_centres:\n",
        "\n",
        "    # Extra Galaxy Light\n",
        "\n",
        "    bulge = al.model_util.mge_model_from(\n",
        "        mask_radius=mask_radius,\n",
        "        total_gaussians=10,\n",
        "        centre_fixed=extra_galaxy_centre,\n",
        "        use_spherical=True,\n",
        "    )\n",
        "\n",
        "    # Extra Galaxy Mass\n",
        "\n",
        "    mass = af.Model(al.mp.IsothermalSph)\n",
        "\n",
        "    mass.centre = extra_galaxy_centre\n",
        "    mass.einstein_radius = af.UniformPrior(lower_limit=0.0, upper_limit=0.5)\n",
        "\n",
        "    # Extra Galaxy\n",
        "\n",
        "    extra_galaxy = af.Model(al.Galaxy, redshift=0.5, bulge=bulge, mass=mass)\n",
        "\n",
        "    extra_galaxies_list.append(extra_galaxy)\n",
        "\n",
        "extra_galaxies = af.Collection(extra_galaxies_list)\n",
        "\n",
        "# Source:\n",
        "\n",
        "bulge = al.model_util.mge_model_from(\n",
        "    mask_radius=mask_radius,\n",
        "    total_gaussians=20,\n",
        "    gaussian_per_basis=1,\n",
        "    centre_prior_is_uniform=False,\n",
        ")\n",
        "\n",
        "source = af.Model(al.Galaxy, redshift=1.0, bulge=bulge)\n",
        "\n",
        "# Overall Lens Model:\n",
        "\n",
        "model = af.Collection(\n",
        "    galaxies=af.Collection(lens=lens, source=source), extra_galaxies=extra_galaxies\n",
        ")"
      ],
      "outputs": [],
      "execution_count": null
    },
    {
      "cell_type": "markdown",
      "metadata": {},
      "source": [
        "We can print the model to show the parameters that the model is composed of, which shows many of the MGE's fixed\n",
        "parameter values the API above hided the composition of."
      ]
    },
    {
      "cell_type": "code",
      "metadata": {},
      "source": [
        "print(model.info)"
      ],
      "outputs": [],
      "execution_count": null
    },
    {
      "cell_type": "markdown",
      "metadata": {},
      "source": [
        "__Model Fit__\n",
        "\n",
        "We now fit the data with the lens model using the non-linear fitting method and nested sampling algorithm Nautilus.\n",
        "\n",
        "This requires an `AnalysisImaging` object, which defines the `log_likelihood_function` used by Nautilus to fit\n",
        "the model to the imaigng data."
      ]
    },
    {
      "cell_type": "code",
      "metadata": {},
      "source": [
        "search = af.Nautilus(\n",
        "    path_prefix=Path(\"group\"),  # The path where results and output are stored.\n",
        "    name=\"start_here\",  # The name of the fit and folder results are output to.\n",
        "    unique_tag=dataset_name,  # A unique tag which also defines the folder.\n",
        "    n_live=100,  # The number of Nautilus \"live\" points, increase for more complex models.\n",
        "    n_batch=50,  # For fast GPU fitting lens model fits are batched and run simultaneously.\n",
        "    iterations_per_quick_update=2500,  # Every N iterations the max likelihood model is visualized and written to output folder.\n",
        ")\n",
        "\n",
        "analysis = al.AnalysisImaging(dataset=dataset)\n",
        "\n",
        "result = search.fit(model=model, analysis=analysis)"
      ],
      "outputs": [],
      "execution_count": null
    },
    {
      "cell_type": "markdown",
      "metadata": {},
      "source": [
        "__Result__\n",
        "\n",
        "Now this is running you should checkout the `autolens_workspace/output` folder, where many results of the fit\n",
        "are written in a human readable format (e.g. .json files) and .fits and .png images of the fit are stored.\n",
        "\n",
        "When the fit is complex, we can print the results by printing `result.info`."
      ]
    },
    {
      "cell_type": "code",
      "metadata": {},
      "source": [
        "print(result.info)"
      ],
      "outputs": [],
      "execution_count": null
    },
    {
      "cell_type": "markdown",
      "metadata": {},
      "source": [
        "The result also contains the maximum likelihood lens model which can be used to plot the best-fit lensing information\n",
        "and fit to the data."
      ]
    },
    {
      "cell_type": "code",
      "metadata": {},
      "source": [
        "tracer_plotter = aplt.TracerPlotter(\n",
        "    tracer=result.max_log_likelihood_tracer, grid=result.grids.lp\n",
        ")\n",
        "tracer_plotter.subplot_tracer()\n",
        "\n",
        "fit_plotter = aplt.FitImagingPlotter(fit=result.max_log_likelihood_fit)\n",
        "fit_plotter.subplot_fit()"
      ],
      "outputs": [],
      "execution_count": null
    },
    {
      "cell_type": "markdown",
      "metadata": {},
      "source": [
        "The result object contains pretty much everything you need to do science with your own strong lens, but details\n",
        "of all the information it contains are beyond the scope of this introductory script. The `guides` and `result` \n",
        "packages of the workspace contains all the information you need to analyze your results yourself.\n",
        "\n",
        "__Centre Input GUI__\n",
        "\n",
        "__Model Your Own Lens__\n",
        "\n",
        "If you have your own strong lens imaging data, you are now ready to model it yourself by adapting the code above\n",
        "and simply inputting the path to your own .fits files into the `Imaging.from_fits()` function.\n",
        "\n",
        "A few things to note, with full details on data preparation provided in the main workspace documentation:\n",
        "\n",
        "- Supply your own CCD image, PSF, and RMS noise-map.\n",
        "- Ensure the lens galaxy is roughly centered in the image.\n",
        "- Ensure you input the centres of the extra galaxies in the group correctly.\n",
        "- Double-check `pixel_scales` for your telescope/detector.\n",
        "- Adjust the mask radius to include all relevant light.\n",
        "- Start with the default model \u2014 it works very well for pretty much all group with < 5 extra galaxies!\n",
        "\n",
        "__Simulator__\n",
        "\n",
        "In the galaxy-scale examples (`start_here_imaging.ipynb`, `start_here_interferometer.ipynb`, `start_here_point_source.ipynb`)\n",
        "we illustrate how to simulate strong lens images. \n",
        "\n",
        "For group scale lenses, we omit this, as it is quite techinical and long. The `autolens_workspace/*/group/simulator` \n",
        "package has examples of how to simulate group scale lenses if you are interested.\n",
        "\n",
        "__Scaling Relations__\n",
        "\n",
        "This example models the mass of each galaxy individually, which means the number of dimensions of the model increases\n",
        "as we model group scale lenses with more galaxies. This can lead to a model that is slow to fit and poorly constrained.\n",
        "There may also not be enough information in the data to constrain every galaxy's mass.\n",
        "\n",
        "A common approach to overcome this is to put many of the extra galaxies a scaling relation, where the mass of the \n",
        "galaxies are related to their light via a observationally motivated scaling relation. This means that as more \n",
        "galaxies are included in the lens model, the dimensionality of the model does not increase. Furthermore, their \n",
        "luminosities act as priors on their masses, which helps ensure the model is well constrained.\n",
        "\n",
        "Lens modeling using scaling relations is fully support and described in the `features/scaling_relation.ipynb` example.\n",
        "If your group has many extra galaxies (e.g. more than 5) you probably want to read this example once you are confident\n",
        "with this one.\n",
        "\n",
        "In the near future (Novembver 2026) we will provide more extensive group scale lens modeling examples which ensure\n",
        "that complex groups with 10+ extra galaxies can be fitted efficiently and robustly using scaling relations. PyAutoLens\n",
        "can do a good jbo now, but big improvements are coming!\n",
        "\n",
        "__Wrap Up__\n",
        "\n",
        "This script has shown how to model CCD imaging data of group-scale strong lenses.\n",
        "\n",
        "Details of the **PyAutoLens** API and how lens modeling works were omitted for simplicity, but everything you need to \n",
        "know is described throughout the main workspace documentation. You should check it out, but maybe you want to try and \n",
        "model your own lens first!\n",
        "\n",
        "The following locations of the workspace are good places to checkout next:\n",
        "\n",
        "- `autolens_workspace/*/modeling/group`: A full description of the lens modeling API and how to customize your model-fits.\n",
        "- `autolens_workspace/*/simulators/group`: A full description of the lens simulation API and how to customize your simulations.\n",
        "- `autolens_workspace/*/data_preparation/group`: How to load and prepare your own imaging data for lens modeling.\n",
        "- `autolens_workspace/results`: How to load and analyze the results of your lens model fits, including tools for large samples.\n",
        "- `autolens_workspace/guides`: A complete description of the API and information on lensing calculations and units.\n",
        "- `autolens_workspace/feature`: A description of advanced features for lens modeling, for example pixelized source reconstructions, read this once you're confident with the basics!"
      ]
    },
    {
      "cell_type": "code",
      "metadata": {},
      "source": [],
      "outputs": [],
      "execution_count": null
    }
  ],
  "metadata": {
    "anaconda-cloud": {},
    "kernelspec": {
      "display_name": "Python 3",
      "language": "python",
      "name": "python3"
    },
    "language_info": {
      "codemirror_mode": {
        "name": "ipython",
        "version": 3
      },
      "file_extension": ".py",
      "mimetype": "text/x-python",
      "name": "python",
      "nbconvert_exporter": "python",
      "pygments_lexer": "ipython3",
      "version": "3.6.1"
    }
  },
  "nbformat": 4,
  "nbformat_minor": 4
}