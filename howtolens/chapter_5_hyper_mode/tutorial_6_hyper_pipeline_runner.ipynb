{
  "cells": [
    {
      "cell_type": "markdown",
      "metadata": {},
      "source": [
        "Tutorial 6: Hyper Pipeline\n",
        "==========================\n",
        "\n",
        "To end, lets illustrate the use of hyper-mode in a pipeline.\n",
        "\n",
        "You can find many more example pipelines in the folder `autolens_workspace/advanced/hyper`."
      ]
    },
    {
      "cell_type": "code",
      "metadata": {},
      "source": [
        "from autoconf import conf\n",
        "import autofit as af\n",
        "import os\n",
        "\n",
        "workspace_path = os.environ[\"WORKSPACE\"]\n",
        "print(\"Workspace Path: \", workspace_path)"
      ],
      "outputs": [],
      "execution_count": null
    },
    {
      "cell_type": "markdown",
      "metadata": {},
      "source": [
        "Use this path to explicitly set the config path and output path."
      ]
    },
    {
      "cell_type": "code",
      "metadata": {},
      "source": [
        "conf.instance = conf.Config(\n",
        "    config_path=f\"{workspace_path}/howtolens/config\",\n",
        "    output_path=f\"{workspace_path}/howtolens/output\",\n",
        ")"
      ],
      "outputs": [],
      "execution_count": null
    },
    {
      "cell_type": "markdown",
      "metadata": {},
      "source": [
        " AUTOLENS + DATA SETUP "
      ]
    },
    {
      "cell_type": "code",
      "metadata": {},
      "source": [
        "import autofit as af\n",
        "import autolens as al\n",
        "import autolens.plot as aplt"
      ],
      "outputs": [],
      "execution_count": null
    },
    {
      "cell_type": "markdown",
      "metadata": {},
      "source": [
        "we'll use strong lensing data, where:\n",
        "\n",
        " - The lens galaxy`s light is an `EllipticalSersic`.\n",
        " - The lens galaxy`s `MassProfile` is an `EllipticalIsothermal`.\n",
        " - The source galaxy`s `LightProfile` is four `EllipticalSersic``.."
      ]
    },
    {
      "cell_type": "code",
      "metadata": {},
      "source": [
        "from autolens_workspace.howtolens.simulators.chapter_5 import (\n",
        "    light_sersic__mass_sie__source_sersic_x4,\n",
        ")\n",
        "\n",
        "dataset_type = \"chapter_5\"\n",
        "dataset_name = \"light_sersic__mass_sie__source_sersic_x4\"\n",
        "dataset_path = f\"{workspace_path}/howtolens/dataset/{dataset_type}/{dataset_name}\"\n",
        "\n",
        "imaging = al.Imaging.from_fits(\n",
        "    image_path=f\"{dataset_path}/image.fits\",\n",
        "    noise_map_path=f\"{dataset_path}/noise_map.fits\",\n",
        "    psf_path=f\"{dataset_path}/psf.fits\",\n",
        "    pixel_scales=0.1,\n",
        ")\n",
        "\n",
        "mask = al.Mask2D.circular(\n",
        "    shape_2d=imaging.shape_2d, pixel_scales=imaging.pixel_scales, radius=3.0\n",
        ")\n",
        "\n",
        "aplt.Imaging.subplot_imaging(imaging=imaging, mask=mask)"
      ],
      "outputs": [],
      "execution_count": null
    },
    {
      "cell_type": "markdown",
      "metadata": {},
      "source": [
        "__Settings__\n",
        "\n",
        "The `SettingsPhaseImaging` describe how the model is fitted to the data in the log likelihood function. We discussed\n",
        "these in chapter 2, and a full description of all settings can be found in the example script:\n",
        "\n",
        " `autolens_workspace/examples/model/customize/settings.py`.\n",
        "\n",
        "The settings chosen here are applied to all phases in the pipeline."
      ]
    },
    {
      "cell_type": "code",
      "metadata": {},
      "source": [
        "settings_masked_imaging = al.SettingsMaskedImaging(grid_class=al.Grid, sub_size=2)\n",
        "settings = al.SettingsPhaseImaging(settings_masked_imaging=settings_masked_imaging)"
      ],
      "outputs": [],
      "execution_count": null
    },
    {
      "cell_type": "markdown",
      "metadata": {},
      "source": [
        "__Pipeline_Setup_And_Tagging__:\n",
        "\n",
        "The setup module customizes the behaviour of a pipeline. Hyper-fitting brings with it the following setup:\n",
        "\n",
        " - If hyper-galaxies are used to scale the noise in each component of the image (default True)\n",
        " - If the level of background noise is modeled throughout the pipeline (default True)\n",
        " - If the background sky is modeled throughout the pipeline (default False)\n",
        "    \n",
        "Each of these features uses their own non-linear search in extended `hyper phases`, which are also specified in the\n",
        "_SetupPipeline-."
      ]
    },
    {
      "cell_type": "code",
      "metadata": {},
      "source": [
        "hyper_galaxies_search = af.DynestyStatic(n_live_points=100, evidence_tolerance=0.8)\n",
        "inversion_search = af.DynestyStatic(n_live_points=30, evidence_tolerance=0.8)\n",
        "hyper_combined_search = af.DynestyStatic(n_live_points=50, evidence_tolerance=0.8)\n",
        "\n",
        "setup_hyper = al.SetupHyper(\n",
        "    hyper_galaxies_lens=True,\n",
        "    hyper_galaxies_source=True,\n",
        "    hyper_background_noise=True,\n",
        "    hyper_image_sky=False,  # <- By default this feature is off, as it rarely changes the lens model.\n",
        "    hyper_galaxies_search=hyper_galaxies_search,\n",
        "    inversion_search=inversion_search,\n",
        "    hyper_combined_search=hyper_combined_search,\n",
        ")\n",
        "setup_light = al.SetupLightSersic(light_centre=None)\n",
        "setup_mass = al.SetupMassTotal(no_shear=False)\n",
        "setup_source = al.SetupSourceInversion(\n",
        "    pixelization=al.pix.VoronoiBrightnessImage, regularization=al.reg.AdaptiveBrightness\n",
        ")\n",
        "\n",
        "setup = al.SetupPipeline(\n",
        "    folders=[\"c5_t6_hyper\"],\n",
        "    setup_hyper=setup_hyper,\n",
        "    setup_light=setup_light,\n",
        "    setup_mass=setup_mass,\n",
        "    setup_source=setup_source,\n",
        ")\n",
        "# %%\n",
        "\"\"\"\n",
        "Lets import the pipeline and run it.\n",
        "\"\"\""
      ],
      "outputs": [],
      "execution_count": null
    },
    {
      "cell_type": "code",
      "metadata": {},
      "source": [
        "from autolens_workspace.howtolens.chapter_5_hyper_mode import tutorial_6_hyper_pipeline\n",
        "\n",
        "pipeline_hyper = tutorial_6_hyper_pipeline.make_pipeline(setup=setup, settings=settings)\n",
        "\n",
        "# Uncomment to run.\n",
        "# pipeline_hyper.run(dataset=imaging, mask=mask)\n"
      ],
      "outputs": [],
      "execution_count": null
    }
  ],
  "metadata": {
    "anaconda-cloud": {},
    "kernelspec": {
      "display_name": "Python 3",
      "language": "python",
      "name": "python3"
    },
    "language_info": {
      "codemirror_mode": {
        "name": "ipython",
        "version": 3
      },
      "file_extension": ".py",
      "mimetype": "text/x-python",
      "name": "python",
      "nbconvert_exporter": "python",
      "pygments_lexer": "ipython3",
      "version": "3.6.1"
    }
  },
  "nbformat": 4,
  "nbformat_minor": 1
}