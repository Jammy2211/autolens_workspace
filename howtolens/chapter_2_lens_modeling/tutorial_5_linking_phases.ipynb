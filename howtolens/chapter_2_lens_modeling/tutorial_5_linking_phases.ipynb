{
  "cells": [
    {
      "cell_type": "markdown",
      "metadata": {},
      "source": [
        "__Linking Phases__\n",
        "\n",
        "So, we've learnt that if our parameter space is too complex, our non-linear search might fail to find the global\n",
        "maximum solution. However, we also learnt how to ensure this doesn't happen, by:\n",
        "\n",
        "    1) Tuning our priors to the strong lens we're fitting.\n",
        "    2) Making our lens model less complex.\n",
        "    3) Searching non-linear parameter space for longer.\n",
        "\n",
        "However, each of the above approaches has disadvantages. The more we tune our priors, the less we can generalize our\n",
        "analysis to a different strong lens. The less complex we make our model, the less realistic it is. And if we rely too\n",
        "much on searching parameter space for longer, we could end up with phase's that take days, weeks or months to run.\n",
        "\n",
        "In this exercise, we're going to combine these 3 approaches so that we can fit complex and realistic lens models in a\n",
        "way that that can be generalized to many different strong lenses. To do this, we'll run 2 phases, and link the lens\n",
        "model inferred in the first phase to the priors of the second phase's lens model.\n",
        "\n",
        "Our first phase will make the same light-traces-mass assumption we made in the previous tutorial. We saw that this\n",
        "gives a reasonable lens model. However, we'll make a couple of extra simplifying assumptions, to really try and bring\n",
        "our lens model complexity down and get the non-linear search running fast.\n",
        "\n",
        "The model we infer above will therefore be a lot less realistic. But it doesn't matter, because in the second phase\n",
        "we're going to relax these assumptions and get back our more realistic lens model. The beauty is that, by running the\n",
        "first phase, we can use its results to tune the priors of our second phase. For example:\n",
        "\n",
        "1) The first phase should give us a pretty good idea of the lens galaxy's light and mass profiles, for example its\n",
        "   intensity, effective radius and einstein radius.\n",
        "\n",
        "2) It should also give us a pretty good fit to the lensed source galaxy. This means we'll already know where in\n",
        "   source-plane its is located and what its intensity and effective are."
      ]
    },
    {
      "cell_type": "code",
      "metadata": {},
      "source": [
        "%matplotlib inline\n",
        "\n",
        "import numpy as np\n",
        "\n",
        "from autoconf import conf\n",
        "import autolens as al\n",
        "import autolens.plot as aplt\n",
        "import autofit as af"
      ],
      "outputs": [],
      "execution_count": null
    },
    {
      "cell_type": "markdown",
      "metadata": {},
      "source": [
        "You need to change the path below to the chapter 1 directory."
      ]
    },
    {
      "cell_type": "code",
      "metadata": {},
      "source": [
        "workspace_path = \"/path/to/user/autolens_workspace/howtolens\"\n",
        "workspace_path = \"/home/jammy/PycharmProjects/PyAuto/autolens_workspace\"\n",
        "\n",
        "conf.instance = conf.Config(\n",
        "    config_path=f\"{workspace_path}/config\",\n",
        "    output_path=f\"{workspace_path}/output/howtolens\",\n",
        ")"
      ],
      "outputs": [],
      "execution_count": null
    },
    {
      "cell_type": "markdown",
      "metadata": {},
      "source": [
        "We'll use the same strong lensing data as the previous tutorial, where:\n",
        "\n",
        "    - The lens galaxy's _LightProfile_ is an _EllipticalSersic_.\n",
        "    - The lens galaxy's _MassProfile_ is an _EllipticalIsothermal_.\n",
        "    - The source galaxy's _LightProfile_ is an _EllipticalExponential_."
      ]
    },
    {
      "cell_type": "code",
      "metadata": {},
      "source": [
        "from autolens_workspace.howtolens.simulators.chapter_2 import (\n",
        "    lens_sersic_sie__source_exp,\n",
        ")\n",
        "\n",
        "dataset_label = \"chapter_2\"\n",
        "dataset_name = \"lens_sersic_sie__source_exp\"\n",
        "dataset_path = f\"{workspace_path}/howtolens/dataset/{dataset_label}/{dataset_name}\"\n",
        "\n",
        "imaging = al.Imaging.from_fits(\n",
        "    image_path=f\"{dataset_path}/image.fits\",\n",
        "    noise_map_path=f\"{dataset_path}/noise_map.fits\",\n",
        "    psf_path=f\"{dataset_path}/psf.fits\",\n",
        "    pixel_scales=0.1,\n",
        ")"
      ],
      "outputs": [],
      "execution_count": null
    },
    {
      "cell_type": "markdown",
      "metadata": {},
      "source": [
        "We'll create and use a smaller 2.0\" _Mask_ again."
      ]
    },
    {
      "cell_type": "code",
      "metadata": {},
      "source": [
        "mask = al.Mask.circular(\n",
        "    shape_2d=imaging.shape_2d, pixel_scales=imaging.pixel_scales, radius=2.0\n",
        ")"
      ],
      "outputs": [],
      "execution_count": null
    },
    {
      "cell_type": "markdown",
      "metadata": {},
      "source": [
        "When plotted, the lens light's is clearly visible in the centre of the image."
      ]
    },
    {
      "cell_type": "code",
      "metadata": {},
      "source": [
        "aplt.Imaging.subplot_imaging(imaging=imaging, mask=mask)"
      ],
      "outputs": [],
      "execution_count": null
    },
    {
      "cell_type": "markdown",
      "metadata": {},
      "source": [
        "Like in the previous tutorial, we use a_PhaseSettingsImaging_ object to specify our model-fitting procedure uses a \n",
        "regular _Grid_."
      ]
    },
    {
      "cell_type": "code",
      "metadata": {},
      "source": [
        "settings = al.PhaseSettingsImaging(grid_class=al.Grid, sub_size=2)"
      ],
      "outputs": [],
      "execution_count": null
    },
    {
      "cell_type": "markdown",
      "metadata": {},
      "source": [
        "As we've eluded to before, one can look at an image and immediately identify the centre of the lens galaxy. It's \n",
        "that bright blob of light in the middle! Given that we know we're going to make the lens model more complex in the \n",
        "next phase, lets take a more liberal approach than before and fix the lens centre to (y,x) = (0.0\", 0.0\")."
      ]
    },
    {
      "cell_type": "code",
      "metadata": {},
      "source": [
        "lens = al.GalaxyModel(\n",
        "    redshift=0.5, light=al.lp.EllipticalSersic, mass=al.mp.EllipticalIsothermal\n",
        ")\n",
        "\n",
        "source = al.GalaxyModel(redshift=1.0, light=al.lp.EllipticalExponential)"
      ],
      "outputs": [],
      "execution_count": null
    },
    {
      "cell_type": "markdown",
      "metadata": {},
      "source": [
        "You haven't actually seen a line like this one before. By setting a parameter to a number (and not a prior) it is be \n",
        "removed from non-linear parameter space and always fixed to that value. Pretty neat, huh?"
      ]
    },
    {
      "cell_type": "code",
      "metadata": {},
      "source": [
        "lens.light.centre_0 = 0.0\n",
        "lens.light.centre_1 = 0.0\n",
        "lens.mass.centre_0 = 0.0\n",
        "lens.mass.centre_1 = 0.0"
      ],
      "outputs": [],
      "execution_count": null
    },
    {
      "cell_type": "markdown",
      "metadata": {},
      "source": [
        "Lets use the same approach of making the ellipticity of the mass trace that of the light.\n",
        "\"\"\"\n",
        "lens.mass.elliptical_comps = lens.light.elliptical_comps"
      ]
    },
    {
      "cell_type": "markdown",
      "metadata": {},
      "source": [
        "Now, you might be thinking, doesn't this prevent our phase from generalizing to other strong lenses? What if the \n",
        "centre of their lens galaxy isn't at (0.0\", 0.0\")?\n",
        "\n",
        "Well, this is true if our dataset reduction centres the lens galaxy somewhere else. But we get to choose where we \n",
        "centre it when we make the image. Therefore, I'd recommend you always centre the lens galaxy at the same location, \n",
        "and (0.0\", 0.0\") seems the best choice!\n",
        "\n",
        "We also discussed that the Sersic index of most lens galaxies is around 4. Lets fix it to 4 this time."
      ]
    },
    {
      "cell_type": "code",
      "metadata": {},
      "source": [
        "lens.light.sersic_index = 4.0"
      ],
      "outputs": [],
      "execution_count": null
    },
    {
      "cell_type": "markdown",
      "metadata": {},
      "source": [
        "Now lets create the phase."
      ]
    },
    {
      "cell_type": "code",
      "metadata": {},
      "source": [
        "phase_1 = al.PhaseImaging(\n",
        "    phase_name=\"phase_t5_linking_phases_1\",\n",
        "    settings=settings,\n",
        "    galaxies=dict(lens=lens, source=source),\n",
        "    search=af.DynestyStatic(n_live_points=40, evidence_tolerance=100.0),\n",
        ")"
      ],
      "outputs": [],
      "execution_count": null
    },
    {
      "cell_type": "markdown",
      "metadata": {},
      "source": [
        "Lets run the phase, noting that our liberal approach to reducing the lens model complexity has reduced it to just \n",
        "11 parameters. (The results are still preloaded for you, but feel free to run it yourself, its fairly quick)."
      ]
    },
    {
      "cell_type": "code",
      "metadata": {},
      "source": [
        "print(\n",
        "    \"Dynesty has begun running - checkout the workspace/output/5_linking_phases\"\n",
        "    \"folder for live output of the results, images and lens model.\"\n",
        "    \"This Jupyter notebook cell with progress once Dynesty has completed - this could take some time!\"\n",
        ")\n",
        "\n",
        "# phase_1_result = phase_1.run(dataset=imaging, mask=mask)\n",
        "\n",
        "print(\"Dynesty has finished run - you may now continue the notebook.\")"
      ],
      "outputs": [],
      "execution_count": null
    },
    {
      "cell_type": "markdown",
      "metadata": {},
      "source": [
        "And indeed, we get a reasonably good model and fit to the data - in a much shorter space of time!"
      ]
    },
    {
      "cell_type": "code",
      "metadata": {},
      "source": [
        "aplt.FitImaging.subplot_fit_imaging(fit=phase_1_result.max_log_likelihood_fit)"
      ],
      "outputs": [],
      "execution_count": null
    },
    {
      "cell_type": "markdown",
      "metadata": {},
      "source": [
        "Now all we need to do is look at the results of phase 1 and tune our priors in phase 2 to those results. Lets setup \n",
        "a custom phase that does exactly that.\n",
        "\n",
        "GaussianPriors are a nice way to do this. They tell the non-linear search where to look, but leave open the \n",
        "possibility that there might be a better solution nearby. In contrast, UniformPriors put hard limits on what values a \n",
        "parameter can or can't take. It makes it more likely we'll accidently cut-out the global maxima solution."
      ]
    },
    {
      "cell_type": "code",
      "metadata": {},
      "source": [
        "lens = al.GalaxyModel(\n",
        "    redshift=0.5, light=al.lp.EllipticalSersic, mass=al.mp.EllipticalIsothermal\n",
        ")\n",
        "source = al.GalaxyModel(redshift=1.0, light=al.lp.EllipticalExponential)"
      ],
      "outputs": [],
      "execution_count": null
    },
    {
      "cell_type": "markdown",
      "metadata": {},
      "source": [
        "What I've done below is looked at the results of phase 1 and manually specified a prior for every parameter. If a \n",
        "parameter was fixed in the previous phase, its prior is based around the previous value. Don't worry about the sigma \n",
        "values for now, I've chosen values that I know will ensure reasonable sampling, but we'll cover this later."
      ]
    },
    {
      "cell_type": "code",
      "metadata": {},
      "source": [
        "\n",
        "\"\"\"LENS LIGHT PRIORS\"\"\"\n",
        "\n",
        "lens.light.centre.centre_0 = af.GaussianPrior(\n",
        "    mean=0.0, sigma=0.1, lower_limit=-np.inf, upper_limit=np.inf\n",
        ")\n",
        "lens.light.centre.centre_1 = af.GaussianPrior(\n",
        "    mean=0.0, sigma=0.1, lower_limit=-np.inf, upper_limit=np.inf\n",
        ")\n",
        "lens.light.elliptical_comps.elliptical_comps_0 = af.GaussianPrior(\n",
        "    mean=0.33333, sigma=0.15, lower_limit=-1.0, upper_limit=1.0\n",
        ")\n",
        "lens.light.elliptical_comps.elliptical_comps_1 = af.GaussianPrior(\n",
        "    mean=0.0, sigma=0.2, lower_limit=-1.0, upper_limit=1.0\n",
        ")\n",
        "lens.light.intensity = af.GaussianPrior(\n",
        "    mean=0.02, sigma=0.01, lower_limit=0.0, upper_limit=np.inf\n",
        ")\n",
        "lens.light.effective_radius = af.GaussianPrior(\n",
        "    mean=0.62, sigma=0.2, lower_limit=0.0, upper_limit=np.inf\n",
        ")\n",
        "lens.light.sersic_index = af.GaussianPrior(\n",
        "    mean=4.0, sigma=2.0, lower_limit=0.0, upper_limit=np.inf\n",
        ")\n",
        "\n",
        "\"\"\"LENS MASS PRIORS\"\"\"\n",
        "\n",
        "lens.mass.centre.centre_0 = af.GaussianPrior(\n",
        "    mean=0.0, sigma=0.1, lower_limit=-np.inf, upper_limit=np.inf\n",
        ")\n",
        "lens.mass.centre.centre_1 = af.GaussianPrior(\n",
        "    mean=0.0, sigma=0.1, lower_limit=-np.inf, upper_limit=np.inf\n",
        ")\n",
        "lens.mass.elliptical_comps.elliptical_comps_0 = af.GaussianPrior(\n",
        "    mean=0.33333, sigma=0.15, lower_limit=-1.0, upper_limit=1.0\n",
        ")\n",
        "lens.mass.elliptical_comps.elliptical_comps_1 = af.GaussianPrior(\n",
        "    mean=0.0, sigma=0.2, lower_limit=-1.0, upper_limit=1.0\n",
        ")\n",
        "lens.mass.einstein_radius = af.GaussianPrior(\n",
        "    mean=0.8, sigma=0.1, lower_limit=0.0, upper_limit=np.inf\n",
        ")\n",
        "\n",
        "\"\"\"SOURCE LIGHT PRIORS\"\"\"\n",
        "\n",
        "source.light.centre.centre_0 = af.GaussianPrior(\n",
        "    mean=0.0, sigma=0.1, lower_limit=-np.inf, upper_limit=np.inf\n",
        ")\n",
        "source.light.centre.centre_1 = af.GaussianPrior(\n",
        "    mean=0.0, sigma=0.1, lower_limit=-np.inf, upper_limit=np.inf\n",
        ")\n",
        "source.light.elliptical_comps.elliptical_comps_0 = af.GaussianPrior(\n",
        "    mean=0.0, sigma=0.15, lower_limit=-1.0, upper_limit=1.0\n",
        ")\n",
        "source.light.elliptical_comps.elliptical_comps_1 = af.GaussianPrior(\n",
        "    mean=-0.33333, sigma=0.2, lower_limit=-1.0, upper_limit=1.0\n",
        ")\n",
        "source.light.intensity = af.GaussianPrior(\n",
        "    mean=0.14, sigma=0.05, lower_limit=0.0, upper_limit=np.inf\n",
        ")\n",
        "source.light.effective_radius = af.GaussianPrior(\n",
        "    mean=0.27, sigma=0.2, lower_limit=0.0, upper_limit=np.inf\n",
        ")"
      ],
      "outputs": [],
      "execution_count": null
    },
    {
      "cell_type": "markdown",
      "metadata": {},
      "source": [
        "Lets setup and run the phase. As expected, it gives us the correct lens model. However, it does so significantly faster \n",
        "than we're used to - I didn't have to edit the config files to get this phase to run fast!"
      ]
    },
    {
      "cell_type": "code",
      "metadata": {},
      "source": [
        "phase_2 = al.PhaseImaging(\n",
        "    phase_name=\"phase_t5_linking_phases_2\",\n",
        "    settings=settings,\n",
        "    galaxies=dict(lens=lens, source=source),\n",
        "    search=af.DynestyStatic(n_live_points=40, evidence_tolerance=100.0),\n",
        ")\n",
        "\n",
        "print(\n",
        "    \"Dynesty has begun running - checkout the workspace/output/5_linking_phases\"\n",
        "    \"folder for live output of the results, images and lens model.\"\n",
        "    \"This Jupyter notebook cell with progress once Dynesty has completed - this could take some time!\"\n",
        ")\n",
        "\n",
        "# phase_2_results = phase_2.run(dataset=imaging, mask=mask)\n",
        "\n",
        "print(\"Dynesty has finished run - you may now continue the notebook.\")"
      ],
      "outputs": [],
      "execution_count": null
    },
    {
      "cell_type": "markdown",
      "metadata": {},
      "source": [
        "Look at that, the right lens model, again!"
      ]
    },
    {
      "cell_type": "code",
      "metadata": {},
      "source": [
        "aplt.FitImaging.subplot_fit_imaging(fit=phase_2_results.max_log_likelihood_fit)"
      ],
      "outputs": [],
      "execution_count": null
    },
    {
      "cell_type": "markdown",
      "metadata": {},
      "source": [
        "Our choice to link two phases together was a huge success. We managed to fit a complex and realistic model, but were \n",
        "able to begin by making simplifying assumptions that eased our search of non-linear parameter space. We could apply \n",
        "phase 1 to pretty much any strong lens and therefore get ourselves a decent lens model with which to tune phase 2's \n",
        "priors.\n",
        "\n",
        "You're probably thinking though that there is one huge, giant, glaring flaw in all of this that I've not mentioned. \n",
        "Phase 2 can't be generalized to another lens - it's priors are tuned to the image we fitted. If we had a lot of lenses, \n",
        "we'd have to write a new phase_2 for every single one. This isn't ideal, is it?\n",
        "\n",
        "Fortunately, we can pass priors in PyAutoLens without specifying the specific values, using what we call promises. The\n",
        "code below sets up phase_2 with priors fully linked, but without specifying each individual prior!"
      ]
    },
    {
      "cell_type": "code",
      "metadata": {},
      "source": [
        "phase_2_pass = al.PhaseImaging(\n",
        "    phase_name=\"phase_t5_linking_phases_2_pass\",\n",
        "    settings=settings,\n",
        "    galaxies=dict(\n",
        "        lens=phase_1_result.model.galaxies.lens,\n",
        "        source=phase_1_result.model.galaxies.source,\n",
        "    ),\n",
        "    search=af.DynestyStatic(n_live_points=40, evidence_tolerance=100.0),\n",
        ")\n",
        "\n",
        "# phase_2_pass.run(dataset=imaging, mask=mask)"
      ],
      "outputs": [],
      "execution_count": null
    },
    {
      "cell_type": "markdown",
      "metadata": {},
      "source": [
        "By using the following API to link the result to the next model:\n",
        " \n",
        "lens = phase_1_result.model.galaxies.lens\n",
        "source = phase_1_result.model.galaxies.source\n",
        " \n",
        "The priors passed above retained the model parameterization of phase 1, including the fixed values of (0.0, 0.0) for\n",
        "the centres of the light and mass profiles and the alignment between their elliptical components. However, we often \n",
        "want to pass priors *and* change the model parameterization.\n",
        "\n",
        "To do this, we have to use the __PriorModel__ object in AutoFit, which allows us to turn light and mass profiles into \n",
        "'model components' whose parameters have priors that can be manipulated in an analogous fashion to to __GalaxyModel__.\n",
        "In fact, the individual components of the __GalaxyModel__ class have been __PriorModel__'s all along! "
      ]
    },
    {
      "cell_type": "code",
      "metadata": {},
      "source": [
        "print(lens.light)\n",
        "print(lens.mass)\n",
        "print(source.light)"
      ],
      "outputs": [],
      "execution_count": null
    },
    {
      "cell_type": "markdown",
      "metadata": {},
      "source": [
        "We can thus set up the __GalaxyModel__ we desire, by first creating the individual __PriorModel__'s of each\n",
        "component and then passing the priors of each individual parameter. "
      ]
    },
    {
      "cell_type": "markdown",
      "metadata": {},
      "source": [
        "LENS LIGHT PRIORS\"\"\"\n",
        "\n",
        "light = af.PriorModel(al.lp.EllipticalSersic)\n",
        "\n",
        "light.elliptical_comps.elliptical_comps = (\n",
        "    phase_1_result.model.galaxies.lens.light.elliptical_comps\n",
        ")\n",
        "light.intensity = phase_1_result.model.galaxies.lens.light.intensity\n",
        "light.effective_radius = phase_1_result.model.galaxies.lens.light.effective_radius\n",
        "\n",
        "\"\"\"LENS MASS PRIORS\"\"\"\n",
        "\n",
        "mass = af.PriorModel(al.mp.EllipticalIsothermal)\n",
        "\n",
        "lens.mass.elliptical_comps.elliptical_comps = (\n",
        "    phase_1_result.model.galaxies.lens.mass.elliptical_comps\n",
        ")\n",
        "lens.mass.einstein_radius = phase_1_result.model.galaxies.lens.mass.einstein_radius\n",
        "\n",
        "lens = al.GalaxyModel(redshift=0.5, light=light, mass=mass)"
      ]
    },
    {
      "cell_type": "markdown",
      "metadata": {},
      "source": [
        "We now create and run the phase, using the lens __GalaxyModel__ we created above."
      ]
    },
    {
      "cell_type": "code",
      "metadata": {},
      "source": [
        "phase_2_pass = al.PhaseImaging(\n",
        "    phase_name=\"phase_t5_linking_phases_2_pass_individual\",\n",
        "    settings=settings,\n",
        "    galaxies=dict(lens=lens, source=phase_1_result.model.galaxies.source),\n",
        "    search=af.DynestyStatic(n_live_points=40, evidence_tolerance=100.0),\n",
        ")\n",
        "\n",
        "# phase_2_pass.run(dataset=imaging, mask=mask)"
      ],
      "outputs": [],
      "execution_count": null
    },
    {
      "cell_type": "markdown",
      "metadata": {},
      "source": [
        "Don't worry too much about whether you fully understand the prior passing API yet, as this will be a key subject in\n",
        "chapter 3 when we consider pipelines. Furthermore, in the 'autolens_workspace/pipelines' directly you'll find\n",
        "numerous example pipelines that give examples of how to perform prior passing for many common lens models. \n",
        "\n",
        "To end, lets consider how we passed priors using the 'model' attribute of the phase 1 results above. Its not fully \n",
        "clear how these priors are passed. Do they use a UniformPrior or GaussianPrior? What are the limits / mean / width of \n",
        "these priors?\n",
        "\n",
        "Lets say I link two parameters as follows:\n",
        " \n",
        "    mass.einstein_radius = phase_1_result.model.galaxies.lens.mass.einstein_radius\n",
        "\n",
        "By invoking the 'model' attribute, the passing of priors behaves following 3 rules:\n",
        "\n",
        "    1) The new parameter, in this case the einstein radius, uses a GaussianPrior. A GaussianPrior is ideal, as the 1D \n",
        "       pdf results we compute at the end of a phase are easily summarized as a Gaussian.\n",
        "\n",
        "    2) The mean of the GaussianPrior is the value of the parameter estimated in phase 1 (e.g. the median of its 1D PDF).\n",
        "    \n",
        "      This ensures that Dynesty specifically starts by searching the region of non-linear parameter space that \n",
        "      corresponds to highest log likelihood solutions in the previous phase. Thus, we're setting our priors to look in \n",
        "      the 'correct' regions of parameter space.\n",
        "\n",
        "    3) The sigma of the Gaussian will use either: (i) the 1D error on the previous result's parameter or; (ii) the \n",
        "       value specified in the appropriate 'config/json_priors/profile.json' config file's 'width_modifer' field (check \n",
        "       these files out now).\n",
        "\n",
        "       The idea here is simple. We want a value of sigma that gives a GaussianPrior wide enough to search a broad \n",
        "       region of parameter space, so that the lens model can change if a better solution is nearby. However, we want it \n",
        "       to be narrow enough that we don't search too much of parameter space, as this will be slow or risk leading us \n",
        "       into an incorrect solution! A natural choice is the errors of the parameter from the previous phase.\n",
        "\n",
        "       Unfortunately, this doesn't always work. Lens modeling is prone to an effect called 'over-fitting' where we \n",
        "       underestimate the errors on our lens model parameters. This is especially true when we take the shortcuts in \n",
        "       early phases - fast non-linear search settings, simplified lens models, etc.\n",
        "\n",
        "       Therefore, the 'width_modifier' in the json config files are our fallback. If the error on a parameter is \n",
        "       suspiciously small, we instead use the value specified in the widths file. These values are chosen based on \n",
        "       our experience as being a good balance broadly sampling parameter space but not being so narrow important \n",
        "       solutions are missed. \n",
        "       \n",
        "There are two ways a value is specified using the priors/width file:\n",
        "\n",
        "    1) Absolute value - 'a' - In this case, the error assumed on the parameter is the value given in the config file. \n",
        "    For example, for the width on centre_0 of a _LightProfile_, the config file reads centre_0 = a, 0.05. This means if \n",
        "    the error on the parameter centre_0 was less than 0.05 in the previous phase, the sigma of its GaussianPrior in \n",
        "    this phase will be 0.05.\n",
        "    \n",
        "    2) Relative value - 'r' - In this case, the error assumed on the parameter is the % of the value of the \n",
        "    estimate value given in the config file. For example, if the intensity estimated in the previous phase was 2.0, \n",
        "    and the relative error in the config file is specified as intensity = r, 0.5, then the sigma of the GaussianPrior \n",
        "    will be 50% of this value, i.e. sigma = 0.5 * 2.0 = 1.0.\n",
        "\n",
        "We use absolute and relative values for different parameters, depending on their properties. For example, using the \n",
        "relative value of a parameter like the _Profile_ centre makes no sense. If our lens galaxy is centred at (0.0, 0.0), \n",
        "the relative error will always be tiny and thus poorly defined. Therefore, the default configs in PyAutoLens use \n",
        "absolute errors on the centre.\n",
        "\n",
        "However, there are parameters where using an absolute value does not make sense. Intensity is a good example of this. \n",
        "The intensity of an image depends on its unit_label, S/N, galaxy brightness, etc. There is no single absolute value \n",
        "that one can use to generically link the intensity of any two proflies. Thus, it makes more sense to link them using \n",
        "the relative value from a previous phase."
      ]
    },
    {
      "cell_type": "markdown",
      "metadata": {},
      "source": [
        "__EXAMPLE__\n",
        "\n",
        "Lets go through an example using a real parameter. Lets say in phase 1 we fit the lens galaxy's light with an \n",
        "elliptical Sersic profile, and we estimate that its sersic index is equal to 4.0 +- 2.0. To pass this as a prior to \n",
        "phase 2, we would write:\n",
        "\n",
        "lens.light.sersic_index = phase1.result.model.lens.light.sersic_index\n",
        "\n",
        "The prior on the lens galaxy's sersic _LightProfile_ would thus be a GaussianPrior in phase 2, with mean=4.0 and \n",
        "sigma=2.0.\n",
        "\n",
        "If the error on the Sersic index in phase 1 had been really small, lets say, 0.01, we would use the value of the \n",
        "Sersic index width in the priors/width config file to set sigma instead. In this case, the prior config file specifies \n",
        "that we use an absolute value of 0.8 to link this af. Thus, the GaussianPrior in phase 2 would have a mean=4.0 and \n",
        "sigma=0.8.\n",
        "\n",
        "If the prior config file had specified that we use an relative value of 0.8, the GaussianPrior in phase 2 would have a \n",
        "mean=4.0 and sigma=3.2.\n",
        "\n",
        "And with that, we're done. Linking priors is a bit of an art form, but one that tends to work really well. Its true to \n",
        "say that things can go wrong - maybe we 'trim' out the solution we're looking for, or underestimate our errors a bit \n",
        "due to making our priors too narrow. However, in general, things are okay, and the example pipelines in \n",
        "'autolens_workspace/pipelines' have been thoroughly tested to ensure prior linking works effectively."
      ]
    }
  ],
  "metadata": {
    "anaconda-cloud": {},
    "kernelspec": {
      "display_name": "Python 3",
      "language": "python",
      "name": "python3"
    },
    "language_info": {
      "codemirror_mode": {
        "name": "ipython",
        "version": 3
      },
      "file_extension": ".py",
      "mimetype": "text/x-python",
      "name": "python",
      "nbconvert_exporter": "python",
      "pygments_lexer": "ipython3",
      "version": "3.6.1"
    }
  },
  "nbformat": 4,
  "nbformat_minor": 1
}