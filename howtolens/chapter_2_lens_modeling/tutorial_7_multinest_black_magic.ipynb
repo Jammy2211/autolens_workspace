{
  "cells": [
    {
      "cell_type": "markdown",
      "metadata": {},
      "source": [
        "__MultiNest Black Magic__\n",
        "\n",
        "In this tutorial, I want to show you 'MultiNest black magic'. Basically, there are ways to get MultiNest to run fast.\n",
        "Really fast. 30-40x faster than all of the previous tutorials!\n",
        "\n",
        "However, it risky, soo its important you develop an intuition for how this black magic works, so that you know when\n",
        "it is and isn't appropriate to use it.\n",
        "\n",
        "But, before we think about that, lets run two phase's, one without black magic and one with it. These runs will use\n",
        "the same prior config files (see 'chapter_2_lens_modeling/configs/7_multnest_black_magic'), thus any speed up in our\n",
        "phase's is not due to prior tuning."
      ]
    },
    {
      "cell_type": "code",
      "metadata": {},
      "source": [
        "%matplotlib inline\n",
        "\n",
        "import autolens as al\n",
        "import autolens.plot as aplt\n",
        "import autofit as af\n",
        "\n",
        "import time"
      ],
      "outputs": [],
      "execution_count": null
    },
    {
      "cell_type": "markdown",
      "metadata": {},
      "source": [
        "You need to change the path below to the chapter 2 directory."
      ]
    },
    {
      "cell_type": "code",
      "metadata": {},
      "source": [
        "chapter_path = \"/path/to/user/autolens_workspace/howtolens/chapter_2_lens_modeling\"\n",
        "chapter_path = \"/home/jammy/PycharmProjects/PyAuto/autolens_workspace/howtolens/chapter_2_lens_modeling\"\n",
        "\n",
        "af.conf.instance = af.conf.Config(\n",
        "    config_path=f\"{chapter_path}/configs/t7_multinest_black_magic\",\n",
        "    output_path=f\"{chapter_path}/output\",\n",
        ")"
      ],
      "outputs": [],
      "execution_count": null
    },
    {
      "cell_type": "markdown",
      "metadata": {},
      "source": [
        "This function simulates the image we'll fit in this tutorial. Unlike previous tutorial images, it includes the \n",
        "light-profile of the lens galaxy."
      ]
    },
    {
      "cell_type": "code",
      "metadata": {},
      "source": [
        "def simulate():\n",
        "\n",
        "    grid = al.Grid.uniform(shape_2d=(130, 130), pixel_scales=0.1, sub_size=1)\n",
        "\n",
        "    psf = al.Kernel.from_gaussian(shape_2d=(11, 11), sigma=0.1, pixel_scales=0.1)\n",
        "\n",
        "    lens_galaxy = al.Galaxy(\n",
        "        redshift=0.5,\n",
        "        light=al.lp.EllipticalSersic(\n",
        "            centre=(0.0, 0.0),\n",
        "            axis_ratio=0.8,\n",
        "            phi=45.0,\n",
        "            intensity=0.2,\n",
        "            effective_radius=0.8,\n",
        "            sersic_index=3.0,\n",
        "        ),\n",
        "        mass=al.mp.EllipticalIsothermal(\n",
        "            centre=(0.0, 0.0), axis_ratio=0.8, phi=45.0, einstein_radius=1.6\n",
        "        ),\n",
        "    )\n",
        "\n",
        "    source_galaxy = al.Galaxy(\n",
        "        redshift=1.0,\n",
        "        light=al.lp.EllipticalSersic(\n",
        "            centre=(0.0, 0.0), intensity=0.2, effective_radius=0.2\n",
        "        ),\n",
        "    )\n",
        "\n",
        "    tracer = al.Tracer.from_galaxies(galaxies=[lens_galaxy, source_galaxy])\n",
        "\n",
        "    simulator = al.SimulatorImaging(\n",
        "        exposure_time_map=al.Array.full(fill_value=300.0, shape_2d=grid.shape_2d),\n",
        "        psf=psf,\n",
        "        background_sky_map=al.Array.full(fill_value=0.1, shape_2d=grid.shape_2d),\n",
        "        add_noise=True,\n",
        "    )\n",
        "\n",
        "    return simulator.from_tracer_and_grid(tracer=tracer, grid=grid)\n"
      ],
      "outputs": [],
      "execution_count": null
    },
    {
      "cell_type": "markdown",
      "metadata": {},
      "source": [
        "Simulate the imaging data and set up the mask."
      ]
    },
    {
      "cell_type": "code",
      "metadata": {},
      "source": [
        "imaging = simulate()\n",
        "\n",
        "mask = al.Mask.circular(\n",
        "    shape_2d=imaging.shape_2d, pixel_scales=imaging.pixel_scales, radius=3.0\n",
        ")\n",
        "\n",
        "aplt.Imaging.subplot_imaging(imaging=imaging, mask=mask)"
      ],
      "outputs": [],
      "execution_count": null
    },
    {
      "cell_type": "markdown",
      "metadata": {},
      "source": [
        "Lets first run the phase without black magic, which is performed as we're now used to.\n",
        "\n",
        "A word of warning, this phase takes >1 hour to run... so if you get bored, skip the run cell below and continue to \n",
        "the phase with black magic."
      ]
    },
    {
      "cell_type": "code",
      "metadata": {},
      "source": [
        "phase_normal = al.PhaseImaging(\n",
        "    phase_name=\"phase_t7_no_black_magic\",\n",
        "    galaxies=dict(\n",
        "        lens=al.GalaxyModel(\n",
        "            redshift=0.5, light=al.lp.EllipticalSersic, mass=al.mp.EllipticalIsothermal\n",
        "        ),\n",
        "        source=al.GalaxyModel(redshift=1.0, light=al.lp.EllipticalSersic),\n",
        "    ),\n",
        "    non_linear_class=af.MultiNest,\n",
        ")"
      ],
      "outputs": [],
      "execution_count": null
    },
    {
      "cell_type": "markdown",
      "metadata": {},
      "source": [
        "We're going to use the time module to time how long each MultiNest run takes. However, if you resume the MultiNest \n",
        "run from a previous job, this time won't be accurate."
      ]
    },
    {
      "cell_type": "code",
      "metadata": {},
      "source": [
        "start = time.time()"
      ],
      "outputs": [],
      "execution_count": null
    },
    {
      "cell_type": "markdown",
      "metadata": {},
      "source": [
        "Comment the run function out below to run the phase. This phase takes a long time to run (12 hours +), \n",
        "so you are probably best off not running it and leaving the line below commented out. But if you don't believe me on the\n",
        "run times be my guest and run the code!"
      ]
    },
    {
      "cell_type": "code",
      "metadata": {},
      "source": [
        "print(\n",
        "    \"MultiNest has begun running - checkout the workspace/howtolens/chapter_2_lens_modeling/output/7_multinest_black_magic\"\n",
        "    \" folder for live output of the results, images and lens model.\"\n",
        "    \" This Jupyter notebook cell with progress once MultiNest has completed - this could take some time!\"\n",
        ")\n",
        "\n",
        "# phase_normal_results = phase_normal.run(dataset=imaging, mask=mask)\n",
        "\n",
        "print(\"MultiNest has finished run - you may now continue the notebook.\")"
      ],
      "outputs": [],
      "execution_count": null
    },
    {
      "cell_type": "markdown",
      "metadata": {},
      "source": [
        "If we ran the phase, we can check that we get a reasonably good model and fit to the data."
      ]
    },
    {
      "cell_type": "code",
      "metadata": {},
      "source": [
        "# aplt.FitImaging.subplot_fit_imaging(fit=phase_normal_results.max_log_likelihood_fit, mask=True)\n",
        "# print(\"Time without black magic = {}\".format(time.time() - start))"
      ],
      "outputs": [],
      "execution_count": null
    },
    {
      "cell_type": "markdown",
      "metadata": {},
      "source": [
        "Now lets run the phase with black magic on, which will hopefully run a lot faster than the previous phase."
      ]
    },
    {
      "cell_type": "code",
      "metadata": {},
      "source": [
        "phase_black_magic = al.PhaseImaging(\n",
        "    phase_name=\"phase_t7_with_black_magic\",\n",
        "    galaxies=dict(\n",
        "        lens=al.GalaxyModel(\n",
        "            redshift=0.5, light=al.lp.EllipticalSersic, mass=al.mp.EllipticalIsothermal\n",
        "        ),\n",
        "        source=al.GalaxyModel(redshift=1.0, light=al.lp.EllipticalSersic),\n",
        "    ),\n",
        "    non_linear_class=af.MultiNest,\n",
        ")"
      ],
      "outputs": [],
      "execution_count": null
    },
    {
      "cell_type": "markdown",
      "metadata": {},
      "source": [
        "And herein lies the black magic. The changes to n_live_points and sampling efficiency are part of it, but its the \n",
        "constant efficiency mode where the real magic lies. However, lets not worry about whats happening just let, I will \n",
        "explain all in a moment."
      ]
    },
    {
      "cell_type": "code",
      "metadata": {},
      "source": [
        "phase_black_magic.optimizer.n_live_points = 60\n",
        "phase_black_magic.optimizer.sampling_efficiency = 0.5\n",
        "phase_black_magic.optimizer.const_efficiency_mode = True"
      ],
      "outputs": [],
      "execution_count": null
    },
    {
      "cell_type": "markdown",
      "metadata": {},
      "source": [
        "Reset our timer."
      ]
    },
    {
      "cell_type": "code",
      "metadata": {},
      "source": [
        "start = time.time()"
      ],
      "outputs": [],
      "execution_count": null
    },
    {
      "cell_type": "markdown",
      "metadata": {},
      "source": [
        "Lets run the phase - the run-time will be output to the output/7_multinest_black_magic/"
      ]
    },
    {
      "cell_type": "code",
      "metadata": {},
      "source": [
        "print(\n",
        "    \"MultiNest has begun running - checkout the workspace/howtolens/chapter_2_lens_modeling/output/7_multinest_black_magic\"\n",
        "    \" folder for live output of the results, images and lens model.\"\n",
        "    \" This Jupyter notebook cell with progress once MultiNest has completed - this could take some time!\"\n",
        ")\n",
        "\n",
        "phase_black_magic_results = phase_black_magic.run(dataset=imaging, mask=mask)\n",
        "\n",
        "print(\"MultiNest has finished run - you may now continue the notebook.\")"
      ],
      "outputs": [],
      "execution_count": null
    },
    {
      "cell_type": "markdown",
      "metadata": {},
      "source": [
        "Does our use of black magic impact the quality of our fit to the data?"
      ]
    },
    {
      "cell_type": "code",
      "metadata": {},
      "source": [
        "aplt.FitImaging.subplot_fit_imaging(\n",
        "    fit=phase_black_magic_results.max_log_likelihood_fit\n",
        ")\n",
        "\n",
        "print(\"Time with black magic = {}\".format(time.time() - start))"
      ],
      "outputs": [],
      "execution_count": null
    },
    {
      "cell_type": "markdown",
      "metadata": {},
      "source": [
        "And there we have it, a speed up of our non-linear search of at least x30! Something about constant efficiency mode \n",
        "has lead to a huge speed up in our MultiNest search. So, what happened? How did we get such a large increase in \n",
        "run speed?\n",
        "\n",
        "To begin, we should think a bit more about how MultiNest works. MultiNest first 'maps out' parameter space over large \n",
        "scales using a set of live points (the number of which is defined by n_live_points). From these points it assesses\n",
        "what it thinks parameter space looks like and where it thinks the highest log likelihood regions of parameter space are. \n",
        "MultiNest then 'guesses' (on average) more lens models from these higher log_likelihood regions of parameter space, with \n",
        "the hope that its live points will slowly converge around the maximum log likelihood solution(s).\n",
        "\n",
        "How fast does MultiNest try to converge around these solutions? That is set by its sampling_efficiency. For example, \n",
        "a sampling efficiency of 0.3 means that MultiNest targets that 30% of its sample will result in 'accepted' \n",
        "live points (e.g. that they successfully sample a log likelihood above at least one existing live point). For an efficiency \n",
        "of 0.8, it'd do this 80% of the time. Clearly, the higher our efficiency, the faster MultiNest samples parameter space.\n",
        "\n",
        "However, if MultiNest is not confident it has a sufficiently good map of parameter space that it can begin to converge \n",
        "around solutions at the sampling efficiency, it will lower the efficiency so as to more thoroughly map out parameter \n",
        "space. This is what is happening with the black magic switched off - the sampling efficiency doesn't retain the input \n",
        "value of 0.5 (50%) but instead drops dramtically to values of <5% by the end of the analysis. No longer it took so \n",
        "long to run, it took a HUGE amount of samples!\n",
        "\n",
        "The thing is, MultiNest doesn't really need to drop its acceptance rate. Its simply confused by the noisy and unsmooth \n",
        "parameter space we sample during lens modeling. A non linear sampler like MultiNest is expecting to see a perfectly \n",
        "smooth parameter space with no stochastic variation between two points close to one another in parameter space (e.g. \n",
        "a parametric space defined by a smooth analytic function f(x, y, z) = x^2 + y^3 - 4z^2). The parameter space we sample \n",
        "in lens modeling is not at all smooth and this upsets MultiNest to the point that its sampling often grinds to a halt.\n",
        "\n",
        "Enter, constant efficiency sampling mode! This mode *forces* MultiNest to retain the sampling efficiency acceptance \n",
        "rate regardless of whether or not it *thinks* it has a sufficiently good mapping out of parameter space. This gives \n",
        "us the huge speed up (as we saw for the black magic phase above), whilst ensuring we still compute an accurate lens \n",
        "model (because MultiNest had mapped out parameter space well enough, it just didn't know it). Therefore, MultiNest \n",
        "black magic is us 'tricking' MultiNest into not worrying too much about how thoroughly it samples parameter space \n",
        "and its an extremely powerful tool to keep run-times with PyAutoLens manageable.\n",
        "\n",
        "Of course, there are caveats and care must be taken. When we use constant efficiency mode, there is now the \n",
        "possibility that MultiNest will converge on a local maxima in parameter space and not be aware of it. We can see \n",
        "this by aggresively increasing the sampling efficiency and reducing the number of live points."
      ]
    },
    {
      "cell_type": "code",
      "metadata": {},
      "source": [
        "phase_too_much_black_magic = al.PhaseImaging(\n",
        "    phase_name=\"phase_t7_with_too_much_black_magic\",\n",
        "    galaxies=dict(\n",
        "        lens=al.GalaxyModel(\n",
        "            redshift=0.5, light=al.lp.EllipticalSersic, mass=al.mp.EllipticalIsothermal\n",
        "        ),\n",
        "        source=al.GalaxyModel(redshift=1.0, light=al.lp.EllipticalSersic),\n",
        "    ),\n",
        "    non_linear_class=af.MultiNest,\n",
        ")\n",
        "\n",
        "phase_too_much_black_magic.optimizer.n_live_points = 10\n",
        "phase_too_much_black_magic.optimizer.sampling_efficiency = 0.95\n",
        "phase_too_much_black_magic.optimizer.const_efficiency_mode = True"
      ],
      "outputs": [],
      "execution_count": null
    },
    {
      "cell_type": "markdown",
      "metadata": {},
      "source": [
        "Reset our timer."
      ]
    },
    {
      "cell_type": "code",
      "metadata": {},
      "source": [
        "start = time.time()"
      ],
      "outputs": [],
      "execution_count": null
    },
    {
      "cell_type": "markdown",
      "metadata": {},
      "source": [
        "Lets run the phase - the run-time will be output to the output/7_multinest_black_magic/"
      ]
    },
    {
      "cell_type": "code",
      "metadata": {},
      "source": [
        "print(\n",
        "    \"MultiNest has begun running - checkout the workspace/howtolens/chapter_2_lens_modeling/output/7_multinest_black_magic\"\n",
        "    \" folder for live output of the results, images and lens model.\"\n",
        "    \" This Jupyter notebook cell with progress once MultiNest has completed - this could take some time!\"\n",
        ")\n",
        "\n",
        "phase_too_much_black_magic_results = phase_too_much_black_magic.run(\n",
        "    dataset=imaging, mask=mask\n",
        ")\n",
        "\n",
        "print(\"MultiNest has finished run - you may now continue the notebook.\")\n",
        "\n",
        "aplt.FitImaging.subplot_fit_imaging(\n",
        "    fit=phase_too_much_black_magic_results.max_log_likelihood_fit\n",
        ")\n",
        "\n",
        "print(\"Time with too much black magic = {}\".format(time.time() - start))"
      ],
      "outputs": [],
      "execution_count": null
    },
    {
      "cell_type": "markdown",
      "metadata": {},
      "source": [
        "The phase ran super fast, but it gave us the incorrect lens model! We must use black magic with care!\n",
        "\n",
        "So, when should we use black magic and when shouldn't we? I generally follow the guidelines below:\n",
        "\n",
        "1) When the dimensionality of parameter space is small < ~15 parameters.\n",
        "\n",
        "2) If the parameter space is > ~15 parameters, when the priors on the majority of model parameters are initialized \n",
        "using Gaussian priors centred on an accurate model.\n",
        "\n",
        "3) When the lens model doesn't have high dimensionality degeneracies between different parameter (We'll expand on \n",
        "this in later chapters).\n",
        "\n",
        "Finally, its worth emphasizing that when we cover pipelines in chapter 3 that black magic is extremely powerful. As we \n",
        "discussed in the previous tutorial, the whole premise of pipelines is we 'initialize' the lens model using a less \n",
        "accurate but more efficienct analysis, and worry about getting the results 'perfect' at the end. Thus, we'll see  \n",
        "that in pipelines the early phases nearly always run in constant efficiency mode."
      ]
    },
    {
      "cell_type": "markdown",
      "metadata": {},
      "source": [
        "There is one more trick we can use to speed up MultiNest, which involves changing the 'log_evidence tolerance' (our runs \n",
        "above assumed the defaut value of log evidence tolerance of 0.8)."
      ]
    },
    {
      "cell_type": "code",
      "metadata": {},
      "source": [
        "phase_new_evidence_tolerance = al.PhaseImaging(\n",
        "    phase_name=\"phase_t7_new_evidence_tolerance\",\n",
        "    galaxies=dict(\n",
        "        lens=al.GalaxyModel(\n",
        "            redshift=0.5, light=al.lp.EllipticalSersic, mass=al.mp.EllipticalIsothermal\n",
        "        ),\n",
        "        source=al.GalaxyModel(redshift=1.0, light=al.lp.EllipticalSersic),\n",
        "    ),\n",
        "    non_linear_class=af.MultiNest,\n",
        ")\n",
        "\n",
        "phase_new_evidence_tolerance.optimizer.n_live_points = 60\n",
        "phase_new_evidence_tolerance.optimizer.sampling_efficiency = 0.5\n",
        "phase_new_evidence_tolerance.optimizer.const_efficiency_mode = True\n",
        "phase_new_evidence_tolerance.optimizer.evidence_tolerance = 10000.0"
      ],
      "outputs": [],
      "execution_count": null
    },
    {
      "cell_type": "markdown",
      "metadata": {},
      "source": [
        "MultiNest samples parameter space until it believes there are no more regions of log_likelihood above a threshold \n",
        "value left to sample. The log evidence tolerance sets this threshold, whereby higher values mean MultiNest stops \n",
        "sampling sooner. This is at the expense of not sampling the highest log likelihood regions of parameter space in detail.\n",
        "\n",
        "Lets run this phase with our new log evidence tolerance and plot the best-fit result."
      ]
    },
    {
      "cell_type": "code",
      "metadata": {},
      "source": [
        "phase_new_evidence_tolerance_result = phase_new_evidence_tolerance.run(\n",
        "    dataset=imaging, mask=mask\n",
        ")\n",
        "\n",
        "aplt.FitImaging.subplot_fit_imaging(\n",
        "    fit=phase_new_evidence_tolerance_result.max_log_likelihood_fit\n",
        ")"
      ],
      "outputs": [],
      "execution_count": null
    },
    {
      "cell_type": "markdown",
      "metadata": {},
      "source": [
        "This was the fastest phase run of the entire tutorial! However, the resulting fit shown above doesn't look as good as \n",
        "other results (albeit its still a decent fit). This is because MultiNest stopped sampling earlier than the other runs, \n",
        "'settling' with a decent fit but not refining it to the level of detail of other runs.\n",
        "\n",
        "By not sampling parameter space thoroughly we'll get unreliable parameter errors on our lens model! If a detailed, \n",
        "accurate and precise lens model is desired the log evidence tolerance shoulld therefore be kept low, around the default \n",
        "value of 0.8.\n",
        "\n",
        "However, in the next chapter we'll run a lot of fits where we *don't* care about the lens model errors. All we want \n",
        "is a reasonable estimate of the lens model to subsequent fit in a linked phase (like in tutorial 5). For this purpose, \n",
        "setting high log evidence tolerances is powerful way to get very fast analyses. We'll be exploiting this trick throughout \n",
        "all of the following chapters."
      ]
    }
  ],
  "metadata": {
    "anaconda-cloud": {},
    "kernelspec": {
      "display_name": "Python 3",
      "language": "python",
      "name": "python3"
    },
    "language_info": {
      "codemirror_mode": {
        "name": "ipython",
        "version": 3
      },
      "file_extension": ".py",
      "mimetype": "text/x-python",
      "name": "python",
      "nbconvert_exporter": "python",
      "pygments_lexer": "ipython3",
      "version": "3.6.1"
    }
  },
  "nbformat": 4,
  "nbformat_minor": 1
}