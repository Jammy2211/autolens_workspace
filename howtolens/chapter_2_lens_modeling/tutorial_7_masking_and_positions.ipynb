{
  "cells": [
    {
      "cell_type": "markdown",
      "metadata": {},
      "source": [
        "Tutorial 7: Masking and Positions\n",
        "=================================\n",
        "\n",
        "We've learnt nearly all the tools we need to model strong lenses, so I'm now going to quickly cover how you should\n",
        "choose your mask. I'll also show you another neat trick to improve the speed and accuracy of your non-linear search."
      ]
    },
    {
      "cell_type": "code",
      "metadata": {},
      "source": [
        "%matplotlib inline\n",
        "\n",
        "from pyprojroot import here\n",
        "\n",
        "workspace_path = str(here())\n",
        "%cd $workspace_path\n",
        "print(f\"Working Directory has been set to `{workspace_path}`\")\n",
        "\n",
        "from os import path\n",
        "import autolens as al\n",
        "import autolens.plot as aplt\n",
        "import autofit as af"
      ],
      "outputs": [],
      "execution_count": null
    },
    {
      "cell_type": "markdown",
      "metadata": {},
      "source": [
        "we'll use the same strong lensing data as tutorials 1 & 2, where:\n",
        "\n",
        " - The lens `Galaxy`'s total mass distribution is a *SphericalIsothermal*.\n",
        " - The source `Galaxy`'s `LightProfile` is a *SphericalExponential*."
      ]
    },
    {
      "cell_type": "code",
      "metadata": {},
      "source": [
        "dataset_name = \"mass_sis__source_exp\"\n",
        "dataset_path = path.join(\"dataset\", \"howtolens\", \"chapter_2\", dataset_name)\n",
        "\n",
        "imaging = al.Imaging.from_fits(\n",
        "    image_path=path.join(dataset_path, \"image.fits\"),\n",
        "    noise_map_path=path.join(dataset_path, \"noise_map.fits\"),\n",
        "    psf_path=path.join(dataset_path, \"psf.fits\"),\n",
        "    pixel_scales=0.1,\n",
        ")"
      ],
      "outputs": [],
      "execution_count": null
    },
    {
      "cell_type": "markdown",
      "metadata": {},
      "source": [
        "When it comes to determining an appropriate mask for this image, the best approach is to set up a `Mask2D` and pass it \n",
        "to a `Imaging` plotter. You can then check visually if the mask is an appropriate size or not. \n",
        "\n",
        "Below, we choose an inner radius that cuts into our lensed source galaxy - clearly this isn't a good mask."
      ]
    },
    {
      "cell_type": "code",
      "metadata": {},
      "source": [
        "mask = al.Mask2D.circular_annular(\n",
        "    shape_2d=imaging.shape_2d,\n",
        "    pixel_scales=imaging.pixel_scales,\n",
        "    inner_radius=1.4,\n",
        "    outer_radius=2.4,\n",
        ")\n",
        "\n",
        "aplt.Imaging.subplot_imaging(imaging=imaging, mask=mask)"
      ],
      "outputs": [],
      "execution_count": null
    },
    {
      "cell_type": "markdown",
      "metadata": {},
      "source": [
        "So, lets decrease the inner radius to correct for this."
      ]
    },
    {
      "cell_type": "code",
      "metadata": {},
      "source": [
        "mask = al.Mask2D.circular_annular(\n",
        "    shape_2d=imaging.shape_2d,\n",
        "    pixel_scales=imaging.pixel_scales,\n",
        "    inner_radius=0.6,\n",
        "    outer_radius=2.4,\n",
        ")\n",
        "\n",
        "aplt.Imaging.subplot_imaging(imaging=imaging, mask=mask)"
      ],
      "outputs": [],
      "execution_count": null
    },
    {
      "cell_type": "markdown",
      "metadata": {},
      "source": [
        "Like in the previous tutorial, we use a `SettingsPhaseImaging` object to specify our model-fitting procedure uses a \n",
        "regular `Grid`."
      ]
    },
    {
      "cell_type": "code",
      "metadata": {},
      "source": [
        "settings_masked_imaging = al.SettingsMaskedImaging(grid_class=al.Grid, sub_size=2)\n",
        "\n",
        "settings = al.SettingsPhaseImaging(settings_masked_imaging=settings_masked_imaging)"
      ],
      "outputs": [],
      "execution_count": null
    },
    {
      "cell_type": "markdown",
      "metadata": {},
      "source": [
        "Now we create our phase as usual, remember that we pass the mask to the run function!"
      ]
    },
    {
      "cell_type": "code",
      "metadata": {},
      "source": [
        "phase_with_custom_mask = al.PhaseImaging(\n",
        "    search=af.DynestyStatic(\n",
        "        path_prefix=\"howtolens\", name=\"phase_t7_with_custom_mask\", n_live_points=40\n",
        "    ),\n",
        "    settings=settings,\n",
        "    galaxies=dict(\n",
        "        lens=al.GalaxyModel(redshift=0.5, mass=al.mp.SphericalIsothermal),\n",
        "        source=al.GalaxyModel(redshift=1.0, bulge=al.lp.SphericalExponential),\n",
        "    ),\n",
        ")\n",
        "\n",
        "phase_with_custom_mask.run(dataset=imaging, mask=mask)"
      ],
      "outputs": [],
      "execution_count": null
    },
    {
      "cell_type": "markdown",
      "metadata": {},
      "source": [
        "So, our mask encompasses the lensed source galaxy. However, is this really the right sized mask? Do we want a \n",
        "bigger mask? a smaller mask?\n",
        "\n",
        "When it comes to masking, we are essentially balancing run-speed and accuracy. If speed wasn`t a consideration, \n",
        "bigger masks would *always* be better, for two reasons:\n",
        "\n",
        "1) The lensed source galaxy may have very faint emission that when you look at the plot above you don't notice. \n",
        " Overly aggressive masking risks you masking out some of that light, data which would better constrain your \n",
        " lens model!\n",
        "    \n",
        " 2) When you fit an image with a model image the fit is performed only within the masked region. Outside of the \n",
        " masked region it is possible that the model image produces some source-galaxy light in a region of the image \n",
        " where it isn't actually observed. If this region is masked, the poor fit in this region won't reduce the model`s \n",
        " log likelihood.\n",
        "\n",
        "As you use **PyAutoLens** more you will get a feel for how fast an analysis will run given a certain image resolution, \n",
        "lens model complexity, `NonLinearSearch` priors / setup, etc. As you develop this intuition, I would recommend you \n",
        "always aim to use masks as big as possible which still give a reasonable run-speed. Aggressive masking will get your \n",
        "code running fast - but it could lead you to infer an incorrect lens model!\n",
        "\n",
        "If you are fitting the foreground lens `Galaxy`'s light you pretty much have no choice but to use a large circular \n",
        "mask anyway, as you'll need to capture the lens`s extended emission. Chances are this will encompass the entire \n",
        "source galaxy."
      ]
    },
    {
      "cell_type": "markdown",
      "metadata": {},
      "source": [
        "We can also manually specify a set of image-pixels correspondin to the multiple images of the source-galaxy(s). \n",
        "During the analysis, **PyAutoLens** will first check that these pixels trace within a specified arc-second threshold of \n",
        "one another (which is controlled by the `position_threshold` parameter input into a phase). This provides two benefits:\n",
        "\n",
        " 1) The analysis runs faster as the `NonLinearSearch` avoids searching regions of parameter space where the \n",
        " mass-model is clearly not accurate.\n",
        "    \n",
        " 2) By removing these solutions, a global-maximum solution may be reached instead of a local-maxima. This is \n",
        " because removing the incorrect mass models makes the non-linear parameter space less complex.\n",
        "\n",
        "We can easily check the image-positions are accurate by plotting them using our `Imaging` `Plotter`.(they are the magenta \n",
        "dots on the image).\n",
        "\n",
        "To specify these positions, we use the `GridIrregularGrouped` object, which is used by **PyAutoLens** in general to specify (y,x)\n",
        "coordinates."
      ]
    },
    {
      "cell_type": "code",
      "metadata": {},
      "source": [
        "\n",
        "positions = al.GridIrregularGrouped(\n",
        "    grid=[(1.6, 0.0), (0.0, 1.6), (-1.6, 0.0), (0.0, -1.6)]\n",
        ")\n",
        "\n",
        "aplt.Imaging.subplot_imaging(imaging=imaging, positions=positions)"
      ],
      "outputs": [],
      "execution_count": null
    },
    {
      "cell_type": "markdown",
      "metadata": {},
      "source": [
        "For the positions to be used in a Phase, we associate them with the `Imaging` data.\n",
        " \n",
        "We also pass the `SettingsPhaseImaging` a new object, `SettingsLens`. This includes the *position_threshold* used \n",
        "during modeling to resample inaccurate mass models."
      ]
    },
    {
      "cell_type": "code",
      "metadata": {},
      "source": [
        "imaging = al.Imaging(\n",
        "    image=imaging.image,\n",
        "    noise_map=imaging.noise_map,\n",
        "    psf=imaging.psf,\n",
        "    positions=positions,\n",
        ")\n",
        "\n",
        "settings_masked_imaging = al.SettingsMaskedImaging(grid_class=al.Grid, sub_size=2)\n",
        "settings_lens = al.SettingsLens(positions_threshold=2.0)\n",
        "\n",
        "settings = al.SettingsPhaseImaging(\n",
        "    settings_masked_imaging=settings_masked_imaging, settings_lens=settings_lens\n",
        ")\n"
      ],
      "outputs": [],
      "execution_count": null
    },
    {
      "cell_type": "markdown",
      "metadata": {},
      "source": [
        "We can then tell our phase to use these positions in the analysis."
      ]
    },
    {
      "cell_type": "code",
      "metadata": {},
      "source": [
        "phase_with_positions = al.PhaseImaging(\n",
        "    search=af.DynestyStatic(\n",
        "        path_prefix=\"howtolens\", name=\"phase_t7_with_positions\", n_live_points=40\n",
        "    ),\n",
        "    settings=settings,\n",
        "    galaxies=dict(\n",
        "        lens=al.GalaxyModel(redshift=0.5, mass=al.mp.SphericalIsothermal),\n",
        "        source=al.GalaxyModel(redshift=1.0, bulge=al.lp.SphericalExponential),\n",
        "    ),\n",
        ")"
      ],
      "outputs": [],
      "execution_count": null
    },
    {
      "cell_type": "code",
      "metadata": {},
      "source": [
        "print(\n",
        "    \"Dynesty has begun running - checkout the workspace/output/t7_with_positions\"\n",
        "    \"  folder for live output of the results, images and lens model.\"\n",
        "    \"  This Jupyter notebook cell with progress once Dynesty has completed - this could take some time!\"\n",
        ")\n",
        "\n",
        "phase_with_positions.run(dataset=imaging, mask=mask)\n",
        "\n",
        "print(\"Dynesty has finished run - you may now continue the notebook.\")"
      ],
      "outputs": [],
      "execution_count": null
    },
    {
      "cell_type": "markdown",
      "metadata": {},
      "source": [
        "You may observe multiple source-galaxies each with their own set of multiple-images. If you have a means by which to \n",
        "pair different positions to the same source galaxies (for example, spectroscopic data) you can set up multiple sets of \n",
        "positions which each have to trace to within the position threshold of one another for the lens model to be accepted.\n",
        "\n",
        "Lets load example data containing two distinct source galaxies."
      ]
    },
    {
      "cell_type": "code",
      "metadata": {},
      "source": [
        "dataset_name = \"mass_sis__source_exp_x2\"\n",
        "dataset_path = path.join(\"dataset\", \"howtolens\", \"chapter_2\", dataset_name)\n",
        "\n",
        "imaging = al.Imaging.from_fits(\n",
        "    image_path=path.join(dataset_path, \"image.fits\"),\n",
        "    noise_map_path=path.join(dataset_path, \"noise_map.fits\"),\n",
        "    psf_path=path.join(dataset_path, \"psf.fits\"),\n",
        "    pixel_scales=0.1,\n",
        ")\n",
        "\n",
        "aplt.Imaging.subplot_imaging(imaging=imaging)"
      ],
      "outputs": [],
      "execution_count": null
    },
    {
      "cell_type": "markdown",
      "metadata": {},
      "source": [
        "To specify the positions we break the positions list into two separate lists of coordinates. \n",
        "\n",
        "These are plotted in different colours to represent that they trace from different source galaxies."
      ]
    },
    {
      "cell_type": "code",
      "metadata": {},
      "source": [
        "positions = al.GridIrregularGrouped(\n",
        "    grid=[[(2.65, 0.0), (-0.55, 0.0)], [(-2.65, 0.0), (0.55, 0.0)]]\n",
        ")\n",
        "\n",
        "aplt.Imaging.subplot_imaging(imaging=imaging, positions=positions)"
      ],
      "outputs": [],
      "execution_count": null
    },
    {
      "cell_type": "markdown",
      "metadata": {},
      "source": [
        "Again, we pass the positions into our `Imaging` data and set a positions threshold to run the phase."
      ]
    },
    {
      "cell_type": "code",
      "metadata": {},
      "source": [
        "imaging = al.Imaging(\n",
        "    image=imaging.image,\n",
        "    noise_map=imaging.noise_map,\n",
        "    psf=imaging.psf,\n",
        "    positions=positions,\n",
        ")\n",
        "\n",
        "settings_masked_imaging = al.SettingsMaskedImaging(grid_class=al.Grid, sub_size=2)\n",
        "settings_lens = al.SettingsLens(positions_threshold=2.0)\n",
        "\n",
        "settings = al.SettingsPhaseImaging(\n",
        "    settings_masked_imaging=settings_masked_imaging, settings_lens=settings_lens\n",
        ")\n",
        "\n",
        "phase_with_x2_positions = al.PhaseImaging(\n",
        "    search=af.DynestyStatic(\n",
        "        path_prefix=\"howtolens\", name=\"phase_t7_with_x2_positions\", n_live_points=40\n",
        "    ),\n",
        "    settings=settings,\n",
        "    galaxies=dict(\n",
        "        lens=al.GalaxyModel(redshift=0.5, mass=al.mp.SphericalIsothermal),\n",
        "        source_0=al.GalaxyModel(redshift=1.0, bulge=al.lp.SphericalExponential),\n",
        "        source_1=al.GalaxyModel(redshift=1.0, bulge=al.lp.SphericalExponential),\n",
        "    ),\n",
        ")\n",
        "\n",
        "print(\n",
        "    \"Dynesty has begun running - checkout the workspace/output/t7_with_x2_positions\"\n",
        "    \"  folder for live output of the results, images and lens model.\"\n",
        "    \"  This Jupyter notebook cell with progress once Dynesty has completed - this could take some time!\"\n",
        ")\n",
        "\n",
        "\n",
        "phase_with_x2_positions.run(dataset=imaging, mask=mask)\n",
        "\n",
        "print(\"Dynesty has finished run - you may now continue the notebook.\")"
      ],
      "outputs": [],
      "execution_count": null
    },
    {
      "cell_type": "markdown",
      "metadata": {},
      "source": [
        "And that completes our final tutorial in this chapter! At this point, I recommend that you checkout the \n",
        "`autolens_workspace/preprocess section of the workspace. This includes tools which allow you create custom masks and \n",
        "positions for a specific strong lens and output them so they can be loaded before an analysis.\n",
        "\n",
        "When we cover pipelines next, you'll see that pipelines allow us to use a custom mask and set of positions for each \n",
        "lens we model. So, although we have to draw the masks and positions for each lens in a sample, once we've done that \n",
        "we can fit all lenses with one standardized pipeline!\n",
        "\n",
        "There are two things you should bare in mind in terms of masking and positions:\n",
        "\n",
        " 1) Customizing the mask and positions for the analysis of one strong lens gets the analysis running fast and can \n",
        " provide accurate non-linear sampling. However, for a large sample of lenses, customizing the mask and positions \n",
        " will begin to take a lot of time. If you're willing to put that time and effort in, great, but these solutions \n",
        " *do not* scale-up to large samples of lenses.\n",
        "    \n",
        " 2) A word of warning - be *extremely* careful when using positions, especially if it is unclear if the lensed \n",
        " source galaxy has one or multiple source's of light. If your position threshold is small and the positions you \n",
        " give the analysis correspond to different parts of the source, you may remove the *correct lens model*. In my \n",
        " experience, as long as you keep the threshold above ~0.5\" you'll be fine.\n",
        "\n",
        "And with that, we've completed the chapter."
      ]
    }
  ],
  "metadata": {
    "anaconda-cloud": {},
    "kernelspec": {
      "display_name": "Python 3",
      "language": "python",
      "name": "python3"
    },
    "language_info": {
      "codemirror_mode": {
        "name": "ipython",
        "version": 3
      },
      "file_extension": ".py",
      "mimetype": "text/x-python",
      "name": "python",
      "nbconvert_exporter": "python",
      "pygments_lexer": "ipython3",
      "version": "3.6.1"
    }
  },
  "nbformat": 4,
  "nbformat_minor": 4
}