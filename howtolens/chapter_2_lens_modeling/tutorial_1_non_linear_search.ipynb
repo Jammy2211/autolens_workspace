{
  "cells": [
    {
      "cell_type": "markdown",
      "metadata": {},
      "source": [
        "Tutorial 1: Non-linear Search\n",
        "=============================\n",
        "\n",
        "In this example, we're going to find a lens model that provides a good fit to an image, without assuming any knowledge\n",
        "of what the `correct` lens model is.\n",
        "\n",
        "So, whats a `lens model`? It is the combination of `LightProfile`'s and `MassProfile`'s we use to represent a lens galaxy,\n",
        "source galaxy and therefore the strong lens ray-tracing configuration (i.e. the `Tracer`..\n",
        "\n",
        "To begin, we have to choose the parametrization of our lens model. We don't need to specify the values of its light\n",
        "and mass profiles (e.g. the centre, einstein_radius, etc.) - only the profiles themselves. In this example,\n",
        "we'll use the following lens model:\n",
        "\n",
        " 1) A `SphericalIsothermal` Sphere (SIS) for the lens `Galaxy`'s mass.\n",
        " 2) A `SphericalExponential` `LightProfile`.for the source-`Galaxy`'s light.\n",
        "\n",
        "I'll let you into a secret - this is the same lens model used to simulate the `Imaging` data we're going to fit and\n",
        "we're going to infer the actual parameters I used!\n",
        "\n",
        "So, how do we infer the light and `MassProfile` parameters that give a good fit to our data?\n",
        "\n",
        "Well, we could randomly guess a lens model, corresponding to some random set of parameters. We could use this\n",
        "lens model to create a `Tracer` and fit the `Imaging` with it, via a `FitImaging` object. We can quantify how good the\n",
        "fit is using its log likelihood (recall chapter_1/tutorial_8). If we kept guessing lens models, eventually we`d find\n",
        "one that provides a good fit (i.e. high log_likelihood) to the data!\n",
        "\n",
        "It may sound surprising, but this is actually the basis of how lens modeling works. However, we can do a lot better\n",
        "than random guessing. Instead, we track the log likelihood of our previous guesses and guess more models using\n",
        "combinations of parameters that gave higher log_likelihood solutions previously. The idea is that if a set of parameters\n",
        "provided a good fit to the data, another set with similar values probably will too.\n",
        "\n",
        "This is called a `non-linear search` and its a fairly common problem faced by scientists. Over the next few tutorials,\n",
        "we're going to really get our heads around the concept of a `NonLinearSearch` - intuition which will prove crucial to\n",
        "being a successful lens modeler.\n",
        "\n",
        "An animation of a `NonLinearSearch` fitting a lens model can be found on the following page on our readthedocs. Note\n",
        "how the initial models that it fits give a poor fit to the data, but gradually improve as more iterations are performed.\n",
        "\n",
        " `https://pyautolens.readthedocs.io/en/latest/overview/modeling.html`\n",
        "\n",
        "we're going to use a `NonLinearSearch` called `Dynesty`. I highly recommend it, and find its great for\n",
        "lens modeling. However, for now, lets not worry about the details of how Dynesty actually works. Instead, just\n",
        "picture that a `NonLinearSearch` in **PyAutoLens** operates as follows:\n",
        "\n",
        " 1) Randomly guess a lens model and use its `LightProfile`'s and `MassProfile`'s to set up a lens galaxy, source galaxy\n",
        " and a `Tracer`.\n",
        "\n",
        " 2) Use this `Tracer` and a `MaskedImaging` to generate a model image and compare this model image to the\n",
        " observed strong lens `Imaging` data using a `FitImaging` object, providing the log likelihood.\n",
        "\n",
        " 3) Repeat this many times, using the likelihoods of previous fits (typically those with a high log_likelihood) to\n",
        " guide us to the lens models with the highest log likelihood."
      ]
    },
    {
      "cell_type": "code",
      "metadata": {},
      "source": [
        "%matplotlib inline\n",
        "\n",
        "from pyprojroot import here\n",
        "\n",
        "workspace_path = str(here())\n",
        "%cd $workspace_path\n",
        "print(f\"Working Directory has been set to `{workspace_path}`\")\n",
        "\n",
        "from os import path\n",
        "import autofit as af  # <- This library is used for non-linear fitting.\n",
        "import autolens as al\n",
        "import autolens.plot as aplt"
      ],
      "outputs": [],
      "execution_count": null
    },
    {
      "cell_type": "markdown",
      "metadata": {},
      "source": [
        "You`re going to see a line like the one below (with `conf.instance =`) in every tutorial this chapter. This sets the\n",
        "following two properties:\n",
        "\n",
        " - The path to the configuration files used by **PyAutoLens**, some of which configure the non-linear search. You need \n",
        "   to give the path to your autolens_workspace, so the configuration files in the workspace are used (e.g. \n",
        "   `/path/to/autolens_workspace/config`). \n",
        "\n",
        " - The path to the **PyAutoLens** output folder, which is where the results of the `NonLinearSearch` are written to \n",
        "   on your hard-disk, alongside visualization and other properties of the fit \n",
        "   (e.g. `/path/to/autolens_workspace/output/howtolens`)\n",
        "\n",
        "(These will work autommatically if the WORKSPACE environment variable was set up correctly during installation. \n",
        "Nevertheless, setting the paths explicitly within the code is good practise."
      ]
    },
    {
      "cell_type": "markdown",
      "metadata": {},
      "source": [
        "Lets loads the `Imaging` dataset we'll fit a lens model with using a non-linear search. If you are interested in how\n",
        "we simulate strong lens data, checkout the scripts in the folder `autolens_workspace/howtolens/simulators`.\n",
        "\n",
        "The strong lens in this image was generated using:\n",
        "\n",
        " - The lens `Galaxy`'s total mass distribution is a *SphericalIsothermal*.\n",
        " - The source `Galaxy`'s `LightProfile` is a *SphericalExponential*.\n",
        "\n",
        "This dataset (and all datasets used in tutorials from here are on) are stored and loaded from the \n",
        "`autolens_workspace/dataset/howtolens` folder."
      ]
    },
    {
      "cell_type": "code",
      "metadata": {},
      "source": [
        "dataset_name = \"mass_sis__source_exp\"\n",
        "dataset_path = path.join(\"dataset\", \"howtolens\", \"chapter_2\", dataset_name)\n",
        "\n",
        "imaging = al.Imaging.from_fits(\n",
        "    image_path=path.join(dataset_path, \"image.fits\"),\n",
        "    noise_map_path=path.join(dataset_path, \"noise_map.fits\"),\n",
        "    psf_path=path.join(dataset_path, \"psf.fits\"),\n",
        "    pixel_scales=0.1,\n",
        ")"
      ],
      "outputs": [],
      "execution_count": null
    },
    {
      "cell_type": "markdown",
      "metadata": {},
      "source": [
        "The non-linear fit also needs a `Mask2D`, lets use a 3.0\" circle."
      ]
    },
    {
      "cell_type": "code",
      "metadata": {},
      "source": [
        "mask = al.Mask2D.circular(\n",
        "    shape_2d=imaging.shape_2d, pixel_scales=imaging.pixel_scales, radius=3.0\n",
        ")\n",
        "\n",
        "aplt.Imaging.subplot_imaging(imaging=imaging, mask=mask)"
      ],
      "outputs": [],
      "execution_count": null
    },
    {
      "cell_type": "markdown",
      "metadata": {},
      "source": [
        "To compute a lens model, we use a `GalaxyModel`, which behaves analogously to the `Galaxy` objects we're now used to. \n",
        "However, whereas for a `Galaxy` we manually specified the value of every parameter of its `LightProfile`'s and \n",
        "`MassProfile`'s, for a `GalaxyModel` these are fitted for and inferred by the non-linear search.\n",
        "\n",
        "Lets model the lens galaxy with an `SphericalIsothermal` `MassProfile`.(which is what it was simulated with)."
      ]
    },
    {
      "cell_type": "code",
      "metadata": {},
      "source": [
        "lens_galaxy_model = al.GalaxyModel(redshift=0.5, mass=al.mp.SphericalIsothermal)"
      ],
      "outputs": [],
      "execution_count": null
    },
    {
      "cell_type": "markdown",
      "metadata": {},
      "source": [
        "Lets model the source galaxy with a spherical exponential `LightProfile` (again, what it was simulated with)."
      ]
    },
    {
      "cell_type": "code",
      "metadata": {},
      "source": [
        "source_galaxy_model = al.GalaxyModel(redshift=1.0, bulge=al.lp.SphericalExponential)"
      ],
      "outputs": [],
      "execution_count": null
    },
    {
      "cell_type": "markdown",
      "metadata": {},
      "source": [
        "We can use a `SettingsPhaseImaging` object to customize how a `Tracer` and `FitImaging` are used to fit the `Imaging` \n",
        "dataset. Below, we specify:\n",
        "\n",
        " - That a regular `Grid` is used to fit create the model-image when fitting the data \n",
        " (see `autolens_workspace/examples/grids.py` for a description of grids).\n",
        " - The sub-grid size of this grid.\n",
        "\n",
        "These settings are passed to `SettingsPhaseImaging` via a `SettingsMaskedImaging` object, which in the previous chapter\n",
        "we saw could be used to customize how the `MaskedImaging` was setup. All settings passed to a `SettingsPhaseImaging`\n",
        "object are passed in this way, thus the settings we input into a phase are categorized based on what they change.\n",
        "\n",
        "You'll note that the output folder of non-linear seach results has been `tagged` with these phase settings. we'll \n",
        "discuss this and phase settings in more detail in a later tutorial."
      ]
    },
    {
      "cell_type": "code",
      "metadata": {},
      "source": [
        "settings_masked_imaging = al.SettingsMaskedImaging(grid_class=al.Grid, sub_size=2)\n",
        "\n",
        "settings = al.SettingsPhaseImaging(settings_masked_imaging=settings_masked_imaging)"
      ],
      "outputs": [],
      "execution_count": null
    },
    {
      "cell_type": "markdown",
      "metadata": {},
      "source": [
        "To fit the galaxy models above via a `NonLinearSearch` (in this case, Dynesty) we use a `PhaseImaging` object. Phases\n",
        "bring together the model, `NonLinearSearch` and data, in order to perform a model-fit and thus infer a lens model.\n",
        "\n",
        "(Just like we could give profiles descriptive names, like `light`, `bulge` and `disk`, we can do the exact same \n",
        "thing with the phase`s galaxies. This is good practise - as once we start using complex lens models, you could \n",
        "potentially have a lot of galaxies - and this is the best way to keep track of them!).\n",
        "\n",
        "You'll note that we also pass the `NonLinearSearch` the following:\n",
        " \n",
        " - Input parameters like `n_live_points` and `walks` controlling how it samples parameter space. we'll cover what \n",
        "   these do in a later tutorial.  The results full output path are `tagged` depending on these settings.\n",
        " - A `path_prefix` which tells the search to output its results in the folder `autolens_workspace/output/howtolens/`. \n",
        " - A `name`, which gives the search a name and means the full output path is \n",
        "   `autolens_workspace/output/howtolens/phase_t1_non_linear_search`. "
      ]
    },
    {
      "cell_type": "code",
      "metadata": {},
      "source": [
        "phase = al.PhaseImaging(\n",
        "    search=af.DynestyStatic(\n",
        "        path_prefix=\"howtolens\", name=\"phase_t1_non_linear_search\", n_live_points=40\n",
        "    ),\n",
        "    settings=settings,\n",
        "    galaxies=dict(lens_galaxy=lens_galaxy_model, source_galaxy=source_galaxy_model),\n",
        ")"
      ],
      "outputs": [],
      "execution_count": null
    },
    {
      "cell_type": "markdown",
      "metadata": {},
      "source": [
        "To run the phase, we pass it the data we're going to fit a lens model to and the `NonLinearSearch` begins!\n",
        "\n",
        "Model fits using a `NonLinearSearch` can take a long time to run. Whilst the fit in this tutorial should take of order \n",
        "~10 minutes, later tutorials will take upwards of hours! This is fine, afterall lens modeling is an inherently \n",
        "computationally expensive exercise, but does make going through these tutorials problematic.\n",
        "\n",
        "Furthermore, in a Jupyter notebook, if you run the `NonLinearSearch` (using the phase.run command below) you won't \n",
        "be able to continue the notebook until it has finished. For this reason, we recommend that you run the non-linear\n",
        "search in these tutorials not via your Juypter notebook, but instead by running the tutorial script found in the\n",
        "`chapter_2_lens_modeling/scripts` folder. This can be run either using the `python3 tutoial_1_non_linear_search.py` \n",
        "command on your command line or via your IDE (if you are using one).\n",
        "\n",
        "The `NonLinearSearch` outputs all results to your hard-disk, thus if it runs and finishes in the script, you can then\n",
        "run the Jupyter notebook cell and immediately load the result. This is how we recommend all non-linear searches are \n",
        "performed in **PyAutoLens** and is therefore a good habit to get into. In these tutorials, we have commented the \n",
        "`phase.run` command below in every cell to remind you that you should go to the tutorial script in the \n",
        "`chapter_2_lens_modeling/scripts` folder, uncomment the line and run the entire script!"
      ]
    },
    {
      "cell_type": "code",
      "metadata": {},
      "source": [
        "print(\n",
        "    \"Dynesty has begun running - checkout the autolens_workspace/output/\"\n",
        "    \" folder for live output of the results, images and lens model.\"\n",
        "    \" This Jupyter notebook cell with progress once Dynesty has completed - this could take some time!\"\n",
        ")\n",
        "\n",
        "result = phase.run(dataset=imaging, mask=mask)\n",
        "\n",
        "print(\"Dynesty has finished run - you may now continue the notebook.\")"
      ],
      "outputs": [],
      "execution_count": null
    },
    {
      "cell_type": "markdown",
      "metadata": {},
      "source": [
        "Now this is running you should checkout the `autolens_workspace/output` folder.\n",
        "\n",
        "This is where the results of the phase are written to your hard-disk (in the `1_non_linear_search` folder). When its \n",
        "completed, images and output will also appear in this folder, meaning that you don't need to keep running Python \n",
        "code to see the result.\n",
        "\n",
        "In fact, even when a phase is running, it outputs the the current maximum log likelihood results of the lens model \n",
        "to your hard-disk, on-the-fly. If you navigate to the output/howtolens folder, even before the phase has finished, \n",
        "you'll see:\n",
        "\n",
        " 1) The `image` folder, where the current maximum log likelihood lens model `Tracer` and `FitImaging` are visualized \n",
        " (again, this outputs on-the-fly).\n",
        " \n",
        " 2) The file `samples/samples.csv`, which contains a table-format list of every sample of the non-linear search\n",
        " complete with log likelihood values.\n",
        " \n",
        " 3) The `model.info` file, which lists all parameters of the lens model and their priors.\n",
        " \n",
        " 4) The `model.results` file, which lists the current best-fit lens model (this outputs on-the-fly).\n",
        " \n",
        " 5) The `output.log` file, where all Python interpreter output is directed.\n",
        "\n",
        "The best-fit solution (i.e. the maximum log likelihood) is stored in the `results`, which we can plot as per usual \n",
        "(you must wait for the `NonLinearSearch` to finish before you can get the `results` variable). we'll discuss the \n",
        "`results` returned by a phase in detail at the end of the chapter."
      ]
    },
    {
      "cell_type": "code",
      "metadata": {},
      "source": [
        "aplt.FitImaging.subplot_fit_imaging(fit=result.max_log_likelihood_fit)"
      ],
      "outputs": [],
      "execution_count": null
    },
    {
      "cell_type": "markdown",
      "metadata": {},
      "source": [
        "The fit looks good and we've therefore found a model close to the one I used to simulate the image with (you can \n",
        "confirm this yourself if you want, by comparing the inferred parameters to those found in the script\n",
        "`autolens_workspace/howtolens/simulators/mass_sis__source_exp.py`).\n",
        "\n",
        "And with that, we're done - you`ve successfully modeled your first strong lens with **PyAutoLens**! Before moving onto the \n",
        "next tutorial, I want you to think about the following:\n",
        "\n",
        " 1) a `NonLinearSearch` is often said to search a `non-linear parameter-space` - why is the term parameter-space \n",
        " used?\n",
        "\n",
        " 2) Why is this parameter space 'non-linear'?\n",
        "\n",
        " 3) Initially, the `NonLinearSearch` randomly guesses the values of the parameters. However, it shouldn`t `know` \n",
        " what reasonable values for a parameter are. For example, it doesn`t know that a reasonable Einstein radius is \n",
        " between 0.0\" and 4.0\"). How does it know what are reasonable values of parameters to guess?"
      ]
    }
  ],
  "metadata": {
    "anaconda-cloud": {},
    "kernelspec": {
      "display_name": "Python 3",
      "language": "python",
      "name": "python3"
    },
    "language_info": {
      "codemirror_mode": {
        "name": "ipython",
        "version": 3
      },
      "file_extension": ".py",
      "mimetype": "text/x-python",
      "name": "python",
      "nbconvert_exporter": "python",
      "pygments_lexer": "ipython3",
      "version": "3.6.1"
    }
  },
  "nbformat": 4,
  "nbformat_minor": 4
}