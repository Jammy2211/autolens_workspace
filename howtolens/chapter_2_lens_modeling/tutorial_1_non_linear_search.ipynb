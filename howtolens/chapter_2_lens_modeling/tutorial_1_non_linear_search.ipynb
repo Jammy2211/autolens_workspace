{
 "cells": [
  {
   "cell_type": "markdown",
   "metadata": {},
   "source": [
    "__Non-linear Search__\n",
    "\n",
    "In this example, we're going to find a lens model that provides a good fit to an image, without assuming any knowledge of what the 'correct' lens model is.\n",
    "\n",
    "So, whats a 'lens model'? It is the combination of light profiles and mass profiles we use to represent a lens galaxy,source galaxy and therefore the strong lens ray-tracing configuration (i.e. a tracer).\n",
    "\n",
    "To begin, we have to choose the parametrization of our lens model. We don't need to specify the values of its light and mass profiles (e.g. the centre, einstein_radius, etc.) - only the profiles themselves. In this example, we'll use the following lens model:\n",
    "\n",
    "1) A spherical Isothermal Sphere (SIS) for the lens galaxy's mass.\n",
    "2) A spherical exponential light profile for the source galaxy's light.\n",
    "\n",
    "I'll let you into a secret - this is the same lens model used to Simulate the Imaging data we're going to fit and we're going to infer the actual parameters I used.\n",
    "\n",
    "So, how do we infer the light and mass profile parameters that give a good fit to our data?\n",
    "\n",
    "Well, we could randomly guess a lens model, corresponding to some random set of parameters. We could use this lens model to create a tracer and fit the image-data, and quantify how good the fit was using its likelihood (recall chapter_1/tutorial_8). If we kept guessing lens models, eventually we'd find one that provides a good fit (i.e. high likelihood) to the data!\n",
    "\n",
    "It may sound surprising, but this is actually the basis of how lens modeling works. However, we can do a lot better than random guessing. Instead, we track the likelihood of our previous guesses and guess more models using combinations of parameters that gave higher likelihood solutions previously. The idea is that if a set of parameters provided a good fit to the data, another set with similar values probably will too.\n",
    "\n",
    "This is called a 'non-linear search' and its a fairly common problem faced by scientists. Over the next few tutorials, we're going to really get our heads around the concept of a non-linear search - intuition which will prove crucial to being a successful lens modeler.\n",
    "\n",
    "We're going to use a non-linear search algorithm called 'MultiNest'. I highly recommend it, and find its great for lens modeling. However, for now, lets not worry about the details of how MultiNest actually works. Instead, just picture that a non-linear search in PyAutoLens operates as follows:\n",
    "\n",
    "1) Randomly guess a lens model and use its light-profiles and mass-profiles to set up a lens galaxy, source galaxy and a tracer.\n",
    "\n",
    "2) Pass this tracer through the fitting module, generating a model image and comparing this model image to the observed strong lens imaging data. This computes a likelihood.\n",
    "\n",
    "3) Repeat this many times, using the likelihoods of previous fits (typically those with a high likelihood) to guide us to the lens models with the highest likelihood."
   ]
  },
  {
   "cell_type": "code",
   "execution_count": null,
   "metadata": {},
   "outputs": [],
   "source": [
    "%matplotlib inline\n",
    "\n",
    "import autolens as al\n",
    "import autolens.plot as aplt\n",
    "import autofit as af # <- This library is used for non-linear fitting."
   ]
  },
  {
   "cell_type": "markdown",
   "metadata": {},
   "source": [
    "You're going to see a line like the one below (with 'conf.instance') in every tutorial this chapter. I recommend that for now you just ignore it. A non-linear search can take a long time to run (minutes, hours, or days), and thisisn't ideal if you want to go through the tutorials without having to constant stop for long periods!\n",
    "\n",
    "This line overrides the configuration of the non-linear search such that it computes the solution really fast. To do this, I've 'cheated' - I've computed the solution myself and then input it into the config. Nevertheless, it means things will run fast for you, meaning you won't suffer long delays doing the tutorials.\n",
    "\n",
    "This will all become clear at the end of the chapter, so for now just bare in mind that we are taking a short-cut to get our non-linear search to run fast!\n",
    "\n",
    "You need to change the path below to the chapter 1 directory."
   ]
  },
  {
   "cell_type": "code",
   "execution_count": null,
   "metadata": {},
   "outputs": [],
   "source": [
    "chapter_path = \"/path/to/user/autolens_workspace/howtolens/chapter_2_lens_modeling/\"\n",
    "chapter_path = \"/home/jammy/PycharmProjects/PyAuto/autolens_workspace/howtolens/chapter_2_lens_modeling/\"\n",
    "\n",
    "af.conf.instance = af.conf.Config(\n",
    "    config_path=chapter_path + \"/configs/t1_non_linear_search\",\n",
    "    output_path=chapter_path + \"/output\",\n",
    ")"
   ]
  },
  {
   "cell_type": "markdown",
   "metadata": {},
   "source": [
    "This function simulates the image we'll fit in this tutorial."
   ]
  },
  {
   "cell_type": "code",
   "execution_count": null,
   "metadata": {},
   "outputs": [],
   "source": [
    "def simulate():\n",
    "\n",
    "    psf = al.kernel.from_gaussian(shape_2d=(11, 11), sigma=0.1, pixel_scales=0.1)\n",
    "\n",
    "    lens_galaxy = al.Galaxy(\n",
    "        redshift=0.5,\n",
    "        mass=al.mp.SphericalIsothermal(centre=(0.0, 0.0), einstein_radius=1.6),\n",
    "    )\n",
    "\n",
    "    source_galaxy = al.Galaxy(\n",
    "        redshift=1.0,\n",
    "        light=al.lp.SphericalExponential(\n",
    "            centre=(0.0, 0.0), intensity=0.2, effective_radius=0.2\n",
    "        ),\n",
    "    )\n",
    "\n",
    "    tracer = al.Tracer.from_galaxies(galaxies=[lens_galaxy, source_galaxy])\n",
    "\n",
    "    simulator = al.simulator.imaging(\n",
    "        shape_2d=(130, 130),\n",
    "        pixel_scales=0.1,\n",
    "        exposure_time=300.0,\n",
    "        sub_size=1,\n",
    "        psf=psf,\n",
    "        background_level=0.1,\n",
    "        add_noise=True,\n",
    "    )\n",
    "\n",
    "    return simulator.from_tracer(tracer=tracer)"
   ]
  },
  {
   "cell_type": "markdown",
   "metadata": {},
   "source": [
    "Lets call the simulate function above, providing us with Imaging data to fit."
   ]
  },
  {
   "cell_type": "code",
   "execution_count": null,
   "metadata": {},
   "outputs": [],
   "source": [
    "imaging = simulate()"
   ]
  },
  {
   "cell_type": "markdown",
   "metadata": {},
   "source": [
    "The non-linear fit also needs a mask, lets use a circular 3.0\" mask."
   ]
  },
  {
   "cell_type": "code",
   "execution_count": null,
   "metadata": {},
   "outputs": [],
   "source": [
    "mask = al.mask.circular(\n",
    "    shape_2d=imaging.shape_2d, pixel_scales=imaging.pixel_scales, radius=3.0\n",
    ")\n",
    "\n",
    "aplt.imaging.subplot_imaging(imaging=imaging, mask=mask)"
   ]
  },
  {
   "cell_type": "markdown",
   "metadata": {},
   "source": [
    "To compute a lens model, we use a GalaxyModel, which behaves analogously to the Galaxy objects we're now used to. However, whereas for a Galaxy we manually specified the value of every parameter of its light-profiles and mass-profiles, for a GalaxyModel these are inferred by the non-linear search.\n",
    "\n",
    "Lets model the lens galaxy with an SIS mass profile (which is what it was simulated with)."
   ]
  },
  {
   "cell_type": "code",
   "execution_count": null,
   "metadata": {},
   "outputs": [],
   "source": [
    "lens_galaxy_model = al.GalaxyModel(redshift=0.5, mass=al.mp.SphericalIsothermal)"
   ]
  },
  {
   "cell_type": "markdown",
   "metadata": {},
   "source": [
    "Lets model the source galaxy with a spherical exponential light profile (again, what it was simulated with)."
   ]
  },
  {
   "cell_type": "code",
   "execution_count": null,
   "metadata": {},
   "outputs": [],
   "source": [
    "source_galaxy_model = al.GalaxyModel(redshift=1.0, light=al.lp.SphericalExponential)"
   ]
  },
  {
   "cell_type": "markdown",
   "metadata": {},
   "source": [
    "A phase takes our galaxy models and fits their parameters via a non-linear search (in this case, MultiNest).\n",
    "\n",
    "(Just like we could give profiles descriptive names, like 'light', 'bulge' and 'disk', we can do the exact same thing with the phase's galaxies. This is good practise - as once we start using complex lens models, you couldpotentially have a lot of galaxies - and this is the best way to keep track of them!).\n",
    "\n",
    "(ignore the 'dict' - its necessary syntax but not something you need to concern yourself with)."
   ]
  },
  {
   "cell_type": "code",
   "execution_count": null,
   "metadata": {},
   "outputs": [],
   "source": [
    "phase = al.PhaseImaging(\n",
    "    phase_name=\"phase_t1_non_linear_search\",\n",
    "    galaxies=dict(lens_galaxy=lens_galaxy_model, source_galaxy=source_galaxy_model),\n",
    "    optimizer_class=af.MultiNest,\n",
    ")"
   ]
  },
  {
   "cell_type": "markdown",
   "metadata": {},
   "source": [
    "To run the phase, we pass it the data we're going to fit a lens model to and the non-linear search begins! As the phase runs, a logger will show you the parameters of the best-fit model."
   ]
  },
  {
   "cell_type": "code",
   "execution_count": null,
   "metadata": {},
   "outputs": [],
   "source": [
    "print(\n",
    "    \"MultiNest has begun running - checkout the workspace/howtolens/chapter_2_lens_modeling/output/1_non_linear_search\"\n",
    "    \"folder for live output of the results, images and lens model.\"\n",
    "    \"This Jupyter notebook cell with progress once MultiNest has completed - this could take some time!\"\n",
    ")\n",
    "\n",
    "results = phase.run(dataset=imaging, mask=mask)\n",
    "\n",
    "print(\"MultiNest has finished run - you may now continue the notebook.\")"
   ]
  },
  {
   "cell_type": "markdown",
   "metadata": {},
   "source": [
    "Now this is running you should checkout the 'autolens_workspace/howtolens/chapter_2_lens_modeling/output' folder.\n",
    "\n",
    "This is where the results of the phase are written to your hard-disk (in the '1_non_linear_search' folder). When its completed, images and output will also appear in this folder, meaning that you don't need to keep running Python code to see the results.\n",
    "\n",
    "The best-fit solution (i.e. the highest likelihood) is stored in the 'results', which we can plot as per usual."
   ]
  },
  {
   "cell_type": "code",
   "execution_count": null,
   "metadata": {},
   "outputs": [],
   "source": [
    "aplt.fit_imaging.subplot_fit_imaging(fit=results.most_likely_fit)"
   ]
  },
  {
   "cell_type": "markdown",
   "metadata": {},
   "source": [
    "The fit looks good and we've therefore found a model close to the one I used to simulat the image with (you can confirm this yourself if you want, by comparing the inferred parameters to those found in the simulate function above).\n",
    "\n",
    "And with that, we're done - you've successfully modeled your first strong lens with PyAutoLens! Before moving onto the next tutorial, I want you to think about the following:\n",
    "\n",
    "1) a non-linear search is often said to search a 'non-linear parameter-space' - why is the term parameter-space used?\n",
    "\n",
    "2) Why is this parameter space 'non-linear'?\n",
    "\n",
    "3) Initially, the non-linear search randomly guesses the values of the parameters. However, it shouldn't 'know' what reasonable values for a parameter are. For example, it doesn't know that a reasonable Einstein radius is between 0.0\" and 4.0\"). How does it know what are reasonable values of parameters to guess?"
   ]
  },
  {
   "cell_type": "code",
   "execution_count": null,
   "metadata": {},
   "outputs": [],
   "source": []
  },
  {
   "cell_type": "code",
   "execution_count": null,
   "metadata": {},
   "outputs": [],
   "source": []
  }
 ],
 "metadata": {
  "kernelspec": {
   "display_name": "Python 3",
   "language": "python",
   "name": "python3"
  },
  "language_info": {
   "codemirror_mode": {
    "name": "ipython",
    "version": 3
   },
   "file_extension": ".py",
   "mimetype": "text/x-python",
   "name": "python",
   "nbconvert_exporter": "python",
   "pygments_lexer": "ipython3",
   "version": "3.6.9"
  }
 },
 "nbformat": 4,
 "nbformat_minor": 2
}
