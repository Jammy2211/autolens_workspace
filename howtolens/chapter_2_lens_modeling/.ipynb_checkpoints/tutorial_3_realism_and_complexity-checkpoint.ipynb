{
 "cells": [
  {
   "cell_type": "markdown",
   "metadata": {},
   "source": [
    "__Realism and Complexity__\n",
    "\n",
    "Up to now, we've fitted some fairly crude and unrealistic lens models. For example, we've modeled the lens galaxy's mass as a sphere. Given most lens galaxies are 'elliptical' galaxies, we should probably model their mass as elliptical! We've also omitted the lens galaxy's light, which typically outshines the source galaxy. \n",
    "\n",
    "In this example, we'll start using a more realistic lens model.\n",
    "\n",
    "In my experience, the simplest lens model (e.g. that has the fewest parameters) that provides a good fit to real strong lenses is as follows:\n",
    "\n",
    "1) An elliptical Sersic light-profile for the lens galaxy's light.\n",
    "2) A singular isothermal ellipsoid (SIE) mass-profile for the lens galaxy's mass.\n",
    "3) An elliptical exponential light-profile for the source galaxy's light (to be honest, this is too simple, but lets worry about that later).\n",
    "\n",
    "This has a total of 18 non-linear parameters, which is over double the number of parameters we've fitted up to now. In future exercises, we'll fit even more complex models, with some 20-30+ non-linear parameters.\n",
    "\n",
    "The goal of this, rather short, exercise, is to fit this 'realistic' model to a simulated image, where the lens's light is visible and mass is elliptical. What could go wrong?"
   ]
  },
  {
   "cell_type": "code",
   "execution_count": null,
   "metadata": {},
   "outputs": [],
   "source": [
    "%matplotlib inline\n",
    "\n",
    "import autolens as al\n",
    "import autolens.plot as aplt\n",
    "import autofit as af"
   ]
  },
  {
   "cell_type": "markdown",
   "metadata": {},
   "source": [
    "You need to change the path below to the chapter 1 directory."
   ]
  },
  {
   "cell_type": "code",
   "execution_count": null,
   "metadata": {},
   "outputs": [],
   "source": [
    "chapter_path = \"/path/to/user/autolens_workspace/howtolens/chapter_2_lens_modeling/\"\n",
    "chapter_path = \"/home/jammy/PycharmProjects/PyAuto/autolens_workspace/howtolens/chapter_2_lens_modeling/\"\n",
    "\n",
    "af.conf.instance = af.conf.Config(\n",
    "    config_path=chapter_path + \"configs/t3_realism_and_complexity/\",\n",
    "    output_path=chapter_path + \"output/\",\n",
    ")"
   ]
  },
  {
   "cell_type": "markdown",
   "metadata": {},
   "source": [
    "Another simulate image function, which generates a different Imaging data-set from the first two tutorials."
   ]
  },
  {
   "cell_type": "code",
   "execution_count": null,
   "metadata": {},
   "outputs": [],
   "source": [
    "def simulate():\n",
    "\n",
    "    psf = al.kernel.from_gaussian(shape_2d=(11, 11), sigma=0.05, pixel_scales=0.05)\n",
    "\n",
    "    lens_galaxy = al.Galaxy(\n",
    "        redshift=0.5,\n",
    "        light=al.lp.EllipticalSersic(\n",
    "            centre=(0.0, 0.0),\n",
    "            axis_ratio=0.9,\n",
    "            phi=45.0,\n",
    "            intensity=0.04,\n",
    "            effective_radius=0.5,\n",
    "            sersic_index=3.5,\n",
    "        ),\n",
    "        mass=al.mp.EllipticalIsothermal(\n",
    "            centre=(0.0, 0.0), axis_ratio=0.8, phi=45.0, einstein_radius=0.8\n",
    "        ),\n",
    "    )\n",
    "\n",
    "    source_galaxy = al.Galaxy(\n",
    "        redshift=1.0,\n",
    "        light=al.lp.EllipticalSersic(\n",
    "            centre=(0.0, 0.0),\n",
    "            axis_ratio=0.5,\n",
    "            phi=90.0,\n",
    "            intensity=0.03,\n",
    "            effective_radius=0.3,\n",
    "            sersic_index=3.0,\n",
    "        ),\n",
    "    )\n",
    "\n",
    "    tracer = al.Tracer.from_galaxies(galaxies=[lens_galaxy, source_galaxy])\n",
    "\n",
    "    simulator = al.simulator.imaging(\n",
    "        shape_2d=(130, 130),\n",
    "        pixel_scales=0.1,\n",
    "        exposure_time=300.0,\n",
    "        sub_size=1,\n",
    "        psf=psf,\n",
    "        background_level=0.1,\n",
    "        add_noise=True,\n",
    "    )\n",
    "\n",
    "    return simulator.from_tracer(tracer=tracer)"
   ]
  },
  {
   "cell_type": "markdown",
   "metadata": {},
   "source": [
    "Simulate the Imaging data and set up the mask."
   ]
  },
  {
   "cell_type": "code",
   "execution_count": null,
   "metadata": {},
   "outputs": [],
   "source": [
    "imaging = simulate()\n",
    "\n",
    "mask = al.mask.circular(\n",
    "    shape_2d=imaging.shape_2d, pixel_scales=imaging.pixel_scales, radius=3.0\n",
    ")"
   ]
  },
  {
   "cell_type": "markdown",
   "metadata": {},
   "source": [
    "When plotted, the lens light's is clearly visible in the centre of the image."
   ]
  },
  {
   "cell_type": "code",
   "execution_count": null,
   "metadata": {},
   "outputs": [],
   "source": [
    "aplt.imaging.subplot_imaging(imaging=imaging, mask=mask)"
   ]
  },
  {
   "cell_type": "markdown",
   "metadata": {},
   "source": [
    "Now lets fit it using a phase, noting that our galaxy-model corresponds to the one used in the simulate function above.\n",
    "\n",
    "Because we now have 18 non-linear parameters, the non-linear search takes a lot longer to run. On my laptop, this phase took around an hour, which is a bit too long for you to wait if you want to go through these tutorials quickly.\n",
    "Therefore, as discussed before, I've included the results of this non-linear search already, allowing you to go through the tutorial as if you had actually run them.\n",
    "\n",
    "Nevertheless, you could try running it yourself (maybe over your lunch break?). All you need to do is change the phase_name below, maybe to something like 'howtolens/3_realism_and_complexity_rerun'"
   ]
  },
  {
   "cell_type": "code",
   "execution_count": null,
   "metadata": {},
   "outputs": [],
   "source": [
    "phase = al.PhaseImaging(\n",
    "    phase_name=\"phase_t3_realism_and_complexity\",\n",
    "    galaxies=dict(\n",
    "        lens_galaxy=al.GalaxyModel(\n",
    "            redshift=0.5, light=al.lp.EllipticalSersic, mass=al.mp.EllipticalIsothermal\n",
    "        ),\n",
    "        source_galaxy=al.GalaxyModel(redshift=1.0, light=al.lp.EllipticalExponential),\n",
    "    ),\n",
    "    optimizer_class=af.MultiNest,\n",
    ")"
   ]
  },
  {
   "cell_type": "markdown",
   "metadata": {},
   "source": [
    "Lets run the phase."
   ]
  },
  {
   "cell_type": "code",
   "execution_count": null,
   "metadata": {},
   "outputs": [],
   "source": [
    "print(\n",
    "    \"MultiNest has begun running - checkout the workspace/howtolens/chapter_2_lens_modeling/output/3_realism_and_complexity\"\n",
    "    \"folder for live output of the results, images and lens model.\"\n",
    "    \"This Jupyter notebook cell with progress once MultiNest has completed - this could take some time!\"\n",
    ")\n",
    "\n",
    "results = phase.run(dataset=imaging, mask=mask)\n",
    "\n",
    "print(\"MultiNest has finished run - you may now continue the notebook.\")"
   ]
  },
  {
   "cell_type": "markdown",
   "metadata": {},
   "source": [
    "And lets look at the fit to the Imaging data."
   ]
  },
  {
   "cell_type": "code",
   "execution_count": null,
   "metadata": {},
   "outputs": [],
   "source": [
    "aplt.fit_imaging.subplot_fit_imaging(\n",
    "    fit=results.most_likely_fit,\n",
    ")"
   ]
  },
  {
   "cell_type": "markdown",
   "metadata": {},
   "source": [
    "Uh-oh. That fit doesn't look very good, does it? If we compare our inferred parameters (look at the 'autolens_workspace/howtolens/chapter_2_lens_modeling/output/3_realism_and_complexity' folder to the actual values (in the simulate function) you'll see that we have, indeed, fitted the wrong model.\n",
    "\n",
    "Yep, we've inferred the wrong lens model. Or have we? Maybe you're thinking that this model provides an even higher likelihood than the correct solution? Lets make absolutely sure it doesnt: (you've seen all this code below before, but I've put a few comments to remind you of whats happening)."
   ]
  },
  {
   "cell_type": "code",
   "execution_count": null,
   "metadata": {},
   "outputs": [],
   "source": [
    "masked_imaging = al.masked.imaging(imaging=imaging, mask=mask)\n",
    "\n",
    "aplt.imaging.image(\n",
    "    imaging=imaging, mask=mask\n",
    ")\n",
    "\n",
    "# Make the tracer we use to Simulate the Imaging data\n",
    "lens_galaxy = al.Galaxy(\n",
    "    redshift=0.5,\n",
    "    light=al.lp.EllipticalSersic(\n",
    "        centre=(0.0, 0.0),\n",
    "        axis_ratio=0.9,\n",
    "        phi=45.0,\n",
    "        intensity=0.04,\n",
    "        effective_radius=0.5,\n",
    "        sersic_index=3.5,\n",
    "    ),\n",
    "    mass=al.mp.EllipticalIsothermal(\n",
    "        centre=(0.0, 0.0), axis_ratio=0.8, phi=45.0, einstein_radius=0.8\n",
    "    ),\n",
    ")\n",
    "\n",
    "source_galaxy = al.Galaxy(\n",
    "    redshift=1.0,\n",
    "    light=al.lp.EllipticalSersic(\n",
    "        centre=(0.0, 0.0),\n",
    "        axis_ratio=0.5,\n",
    "        phi=90.0,\n",
    "        intensity=0.03,\n",
    "        effective_radius=0.3,\n",
    "        sersic_index=3.0,\n",
    "    ),\n",
    ")\n",
    "\n",
    "tracer = al.Tracer.from_galaxies(\n",
    "    galaxies=[lens_galaxy, source_galaxy],\n",
    ")"
   ]
  },
  {
   "cell_type": "markdown",
   "metadata": {},
   "source": [
    "Now, lets fit the lens-data with the tracer and plot the fit. It looks a lot better than above, doesn't it?"
   ]
  },
  {
   "cell_type": "code",
   "execution_count": null,
   "metadata": {},
   "outputs": [],
   "source": [
    "correct_fit = al.fit(masked_dataset=masked_imaging, tracer=tracer)\n",
    "\n",
    "aplt.fit_imaging.subplot_fit_imaging(fit=correct_fit)"
   ]
  },
  {
   "cell_type": "markdown",
   "metadata": {},
   "source": [
    "Finally, just to be sure, lets compare the two likelihoods."
   ]
  },
  {
   "cell_type": "code",
   "execution_count": null,
   "metadata": {},
   "outputs": [],
   "source": [
    "print(\"Likelihood of Non-linear Search:\")\n",
    "print(results.most_likely_fit.likelihood)\n",
    "print(\"Likelihood of Correct Model:\")\n",
    "print(correct_fit.likelihood)"
   ]
  },
  {
   "cell_type": "markdown",
   "metadata": {},
   "source": [
    "Well, there we have it, the input model has a much higher likelihood than the one our non-linear search inferred.\n",
    "\n",
    "Clearly, our non-linear search failed. So, what happened? Where did it all go wrong?\n",
    "\n",
    "Lets think about 'complexity'. As we made our lens model more realistic, we also made it more complex. Our non-linear parameter space went from 7 dimensions to 18. This means there was a much larger 'volume' of parameter space to search. Maybe, therefore, our non-linear search got lost. It found some region of parameter space that it thought was the highest likelihood region and focused the rest of its search there. But it was mistaken, there was in fact another region of parameter space with even higher likelihood solutions.\n",
    "\n",
    "This region - the one our non-linear search failed to locate - is called the global maximum likelihood region, or 'global maxima'. The region we found instead is called a 'local maxima' At its core, lens modeling is all about learning how to get a non-linear search to find the global maxima region of parameter space, even when the lens model is extremely complex.\n",
    "\n",
    "If you did run the phase above yourself, you might of actually inferred the correct lens model. There is some level of randomness in a non-linear search. This means that sometimes, it might find a local maxima and other times a  global maxima. Nevertheless, as lens models become more complex, you'll quickly find yourself stuck in local maxima unless you learn how to navigate parameter spaces better.\n",
    "\n",
    "\n",
    "And with that, we're done. In the next exercise, we'll learn how to deal with our failures and begin thinking about how we can ensure our non-linear search finds the global-maximum likelihood solution. Before that, think about the following:\n",
    "\n",
    "1) When you look at an image of a strong lens, do you get a sense of roughly what values certain lens model parameters are?\n",
    "\n",
    "2) The non-linear search failed because parameter space was too complex. Could we make it less complex, whilst still keeping our lens model fairly realistic?\n",
    "\n",
    "3) The source galaxy in this example had only 6 non-linear parameters. Real source galaxies may have multiple components (e.g. a bar, disk, bulge, star-forming knot) and there may even be more than 1 source galaxy! Do you think there is any hope of us navigating a parameter space if the source contributes 20+ parameters by itself?\n"
   ]
  },
  {
   "cell_type": "code",
   "execution_count": null,
   "metadata": {},
   "outputs": [],
   "source": []
  }
 ],
 "metadata": {
  "kernelspec": {
   "display_name": "Python 3",
   "language": "python",
   "name": "python3"
  },
  "language_info": {
   "codemirror_mode": {
    "name": "ipython",
    "version": 3
   },
   "file_extension": ".py",
   "mimetype": "text/x-python",
   "name": "python",
   "nbconvert_exporter": "python",
   "pygments_lexer": "ipython3",
   "version": "3.6.9"
  }
 },
 "nbformat": 4,
 "nbformat_minor": 2
}
