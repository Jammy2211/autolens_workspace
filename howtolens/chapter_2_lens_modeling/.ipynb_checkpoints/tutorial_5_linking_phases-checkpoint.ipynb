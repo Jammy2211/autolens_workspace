{
 "cells": [
  {
   "cell_type": "markdown",
   "metadata": {},
   "source": [
    "__Linking Phases__\n",
    "\n",
    "So, we've learnt that if our parameter space is too complex, our non-linear search might fail to find the global maximum solution. However, we also learnt how to ensure this doesn't happen, by:\n",
    "\n",
    "1) Tuning our priors to the strong lens we're fitting.\n",
    "2) Making our lens model less complex.\n",
    "3) Searching non-linear parameter space for longer.\n",
    "\n",
    "However, each of the above approaches has disadvantages. The more we tune our priors, the less we can generalize our analysis to a different strong lens. The less complex we make our model, the less realistic it is. And if we rely too much on searching parameter space for longer, we could end up with phase's that take days, weeks or months to run.\n",
    "\n",
    "In this exercise, we're going to combine these 3 approaches so that we can fit complex and realistic lens models in a way that that can be generalized to many different strong lenses. To do this, we'll run 2 phases, and link the lens model inferred in the first phase to the priors of the second phase's lens model.\n",
    "\n",
    "Our first phase will make the same light-traces-mass assumption we made in the previous tutorial. We saw that this gives a reasonable lens model. However, we'll make a couple of extra simplifying assumptions, to really try and bring our lens model complexity down and get the non-linear search running fast.\n",
    "\n",
    "The model we infer above will therefore be a lot less realistic. But it doesn't matter, because in the second phase we're going to relax these assumptions and get back our more realistic lens model. The beauty is that, by running the first phase, we can use its results to tune the priors of our second phase. For example:\n",
    "\n",
    "1) The first phase should give us a pretty good idea of the lens galaxy's light and mass profiles, for example its intensity, effective radius and einstein radius.\n",
    "\n",
    "2) It should also give us a pretty good fit to the lensed source galaxy. This means we'll already know where in source-plane its is located and what its intensity and effective are."
   ]
  },
  {
   "cell_type": "code",
   "execution_count": null,
   "metadata": {},
   "outputs": [],
   "source": [
    "%matplotlib inline\n",
    "\n",
    "import autolens as al\n",
    "import autolens.plot as aplt\n",
    "import autofit as af"
   ]
  },
  {
   "cell_type": "markdown",
   "metadata": {},
   "source": [
    "You need to change the path below to the chapter 1 directory."
   ]
  },
  {
   "cell_type": "code",
   "execution_count": null,
   "metadata": {},
   "outputs": [],
   "source": [
    "chapter_path = \"/path/to/user/autolens_workspace/howtolens/chapter_2_lens_modeling/\"\n",
    "chapter_path = \"/home/jammy/PycharmProjects/PyAuto/autolens_workspace/howtolens/chapter_2_lens_modeling/\"\n",
    "\n",
    "af.conf.instance = af.conf.Config(\n",
    "    config_path=chapter_path + \"configs/t5_linking_phases\",\n",
    "    output_path=chapter_path + \"output\",\n",
    ")"
   ]
  },
  {
   "cell_type": "markdown",
   "metadata": {},
   "source": [
    "Another simulate image function, for the same image as tutorial 4.."
   ]
  },
  {
   "cell_type": "code",
   "execution_count": null,
   "metadata": {},
   "outputs": [],
   "source": [
    "def simulate():\n",
    "\n",
    "    psf = al.kernel.from_gaussian(shape_2d=(11, 11), sigma=0.05, pixel_scales=0.05)\n",
    "\n",
    "    lens_galaxy = al.Galaxy(\n",
    "        redshift=0.5,\n",
    "        light=al.lp.EllipticalSersic(\n",
    "            centre=(0.0, 0.0),\n",
    "            axis_ratio=0.9,\n",
    "            phi=45.0,\n",
    "            intensity=0.04,\n",
    "            effective_radius=0.5,\n",
    "            sersic_index=3.5,\n",
    "        ),\n",
    "        mass=al.mp.EllipticalIsothermal(\n",
    "            centre=(0.0, 0.0), axis_ratio=0.8, phi=45.0, einstein_radius=0.8\n",
    "        ),\n",
    "    )\n",
    "\n",
    "    source_galaxy = al.Galaxy(\n",
    "        redshift=1.0,\n",
    "        light=al.lp.EllipticalSersic(\n",
    "            centre=(0.0, 0.0),\n",
    "            axis_ratio=0.5,\n",
    "            phi=90.0,\n",
    "            intensity=0.03,\n",
    "            effective_radius=0.3,\n",
    "            sersic_index=3.0,\n",
    "        ),\n",
    "    )\n",
    "\n",
    "    tracer = al.Tracer.from_galaxies(galaxies=[lens_galaxy, source_galaxy])\n",
    "\n",
    "    simulator = al.simulator.imaging(\n",
    "        shape_2d=(130, 130),\n",
    "        pixel_scales=0.1,\n",
    "        exposure_time=300.0,\n",
    "        sub_size=1,\n",
    "        psf=psf,\n",
    "        background_level=0.1,\n",
    "        add_noise=True,\n",
    "    )\n",
    "\n",
    "    return simulator.from_tracer(tracer=tracer)"
   ]
  },
  {
   "cell_type": "markdown",
   "metadata": {},
   "source": [
    "Simulate the Imaging data and set up the mask."
   ]
  },
  {
   "cell_type": "code",
   "execution_count": null,
   "metadata": {},
   "outputs": [],
   "source": [
    "imaging = simulate()\n",
    "\n",
    "mask = al.mask.circular(\n",
    "    shape_2d=imaging.shape_2d, pixel_scales=imaging.pixel_scales, radius=3.0\n",
    ")\n",
    "\n",
    "aplt.imaging.subplot_imaging(imaging=imaging, mask=mask)"
   ]
  },
  {
   "cell_type": "markdown",
   "metadata": {},
   "source": [
    "Lets use the same approach of making light trace mass that we did previously, but we'll make it slightly less complex then before.\n",
    "\n",
    "In the galaxy model below we use two new inputs - 'align_axis_ratios' and'align_orientations'. These functions align the axis_ratio and phi values of all of the lens galaxy's profiles (in this case, its light profile and mass profile). We did this in the previous phase using the 'customize_priors' function, but because this is a fairly common thing to do to a GalaxyModel we made these these inputs available for your convenience.\n",
    "\n",
    "There is also an 'align_centres' method, but because we are fixing all centres to floats it is omitted."
   ]
  },
  {
   "cell_type": "code",
   "execution_count": null,
   "metadata": {},
   "outputs": [],
   "source": [
    "lens = al.GalaxyModel(\n",
    "    redshift=0.5,\n",
    "    light=al.lp.EllipticalSersic,\n",
    "    mass=al.mp.EllipticalIsothermal,\n",
    "    align_axis_ratios=True,\n",
    "    align_orientations=True,\n",
    ")\n",
    "source = al.GalaxyModel(redshift=1.0, light=al.lp.EllipticalExponential)"
   ]
  },
  {
   "cell_type": "markdown",
   "metadata": {},
   "source": [
    "As we've eluded to before, one can look at an image and immediately identify the centre of the lens galaxy. It's that bright blob of light in the middle! Given that we know we're going to make the lens model more complex in the next phase, lets take a more liberal approach than before and fix the lens centre to (y,x) = (0.0\", 0.0\").\n",
    "\n",
    "You haven't actually seen a line like this one before. By setting a parameter to a number (and not a prior) it is be removed from non-linear parameter space and always fixed to that value. Pretty neat, huh?"
   ]
  },
  {
   "cell_type": "code",
   "execution_count": null,
   "metadata": {},
   "outputs": [],
   "source": [
    "lens.light.centre_0 = 0.0\n",
    "lens.light.centre_1 = 0.0\n",
    "lens.mass.centre_0 = 0.0\n",
    "lens.mass.centre_1 = 0.0"
   ]
  },
  {
   "cell_type": "markdown",
   "metadata": {},
   "source": [
    "Now, you might be thinking, doesn't this prevent our phase from generalizing to other strong lenses? What if the centre of their lens galaxy isn't at (0.0\", 0.0\")?\n",
    "\n",
    "Well, this is true if our data reduction centres the lens galaxy somewhere else. But we get to choose where we centre it when we make the image. Therefore, I'd recommend you always centre the lens galaxy at the same location, and (0.0\", 0.0\") seems the best choice!\n",
    "\n",
    "We also discussed that the Sersic index of most lens galaxies is around 4. Lets fix it to 4 this time."
   ]
  },
  {
   "cell_type": "code",
   "execution_count": null,
   "metadata": {},
   "outputs": [],
   "source": [
    "lens.light.sersic_index = 4.0"
   ]
  },
  {
   "cell_type": "markdown",
   "metadata": {},
   "source": [
    "Now lets create the phase."
   ]
  },
  {
   "cell_type": "code",
   "execution_count": null,
   "metadata": {},
   "outputs": [],
   "source": [
    "phase_1 = al.PhaseImaging(\n",
    "    phase_name=\"phase_t5_linking_phases_1\",\n",
    "    galaxies=dict(\n",
    "        lens=al.GalaxyModel(\n",
    "            redshift=0.5,\n",
    "            light=al.lp.EllipticalSersic,\n",
    "            mass=al.mp.EllipticalIsothermal,\n",
    "            align_axis_ratios=True,\n",
    "            align_orientations=True,\n",
    "        ),\n",
    "        source=al.GalaxyModel(redshift=1.0, light=al.lp.EllipticalExponential),\n",
    "    ),\n",
    "    optimizer_class=af.MultiNest,\n",
    ")"
   ]
  },
  {
   "cell_type": "markdown",
   "metadata": {},
   "source": [
    "Lets go one step further. Now we know our parameter space is less complex, maybe we can find the maximum likelihood with fewer MultiNest live points and a faster sampling rate?"
   ]
  },
  {
   "cell_type": "code",
   "execution_count": null,
   "metadata": {},
   "outputs": [],
   "source": [
    "phase_1.optimizer.n_live_points = 30\n",
    "phase_1.optimizer.sampling_efficiency = 0.9"
   ]
  },
  {
   "cell_type": "markdown",
   "metadata": {},
   "source": [
    "Lets run the phase, noting that our liberal approach to reducing the lens model complexity has reduced it to just 11 parameters. (The results are still preloaded for you, but feel free to run it yourself, its fairly quick)."
   ]
  },
  {
   "cell_type": "code",
   "execution_count": null,
   "metadata": {},
   "outputs": [],
   "source": [
    "print(\n",
    "    \"MultiNest has begun running - checkout the workspace/howtolens/chapter_2_lens_modeling/output/5_linking_phases\"\n",
    "    \"folder for live output of the results, images and lens model.\"\n",
    "    \"This Jupyter notebook cell with progress once MultiNest has completed - this could take some time!\"\n",
    ")\n",
    "\n",
    "phase_1_results = phase_1.run(dataset=imaging, mask=mask)\n",
    "\n",
    "print(\"MultiNest has finished run - you may now continue the notebook.\")"
   ]
  },
  {
   "cell_type": "markdown",
   "metadata": {},
   "source": [
    "And indeed, we get a reasonably good model and fit to the data - in a much shorter space of time!"
   ]
  },
  {
   "cell_type": "code",
   "execution_count": null,
   "metadata": {},
   "outputs": [],
   "source": [
    "aplt.fit_imaging.subplot_fit_imaging(\n",
    "    fit=phase_1_results.most_likely_fit,\n",
    ")"
   ]
  },
  {
   "cell_type": "markdown",
   "metadata": {},
   "source": [
    "Now all we need to do is look at the results of phase 1 and tune our priors in phase 2 to those results. Lets setup a custom phase that does exactly that.\n",
    "\n",
    "GaussianPriors are a nice way to do this. They tell the non-linear search where to look, but leave open the possibility that there might be a better solution nearby. In contrast, UniformPriors put hard limits on what values a parameter can or can't take. It makes it more likely we'll accidently cut-out the global maxima solution."
   ]
  },
  {
   "cell_type": "code",
   "execution_count": null,
   "metadata": {},
   "outputs": [],
   "source": [
    "lens = al.GalaxyModel(\n",
    "    redshift=0.5, light=al.lp.EllipticalSersic, mass=al.mp.EllipticalIsothermal\n",
    ")\n",
    "source = al.GalaxyModel(redshift=1.0, light=al.lp.EllipticalExponential)"
   ]
  },
  {
   "cell_type": "markdown",
   "metadata": {},
   "source": [
    "What I've done below is looked at the results of phase 1 and manually specified a prior for every parameter. If a parameter was fixed in the previous phase, its prior is based around the previous value. Don't worry about the sigma values for now, I've chosen values that I know will ensure reasonable sampling, but we'll cover this later."
   ]
  },
  {
   "cell_type": "code",
   "execution_count": null,
   "metadata": {},
   "outputs": [],
   "source": [
    "\n",
    "## LENS LIGHT PRIORS ###\n",
    "\n",
    "lens.light.centre_0 = af.GaussianPrior(mean=0.0, sigma=0.1)\n",
    "\n",
    "lens.light.centre_1 = af.GaussianPrior(mean=0.0, sigma=0.1)\n",
    "\n",
    "lens.light.axis_ratio = af.GaussianPrior(mean=0.8, sigma=0.15)\n",
    "\n",
    "lens.light.phi = af.GaussianPrior(mean=45.0, sigma=15.0)\n",
    "\n",
    "lens.light.intensity = af.GaussianPrior(mean=0.02, sigma=0.01)\n",
    "\n",
    "lens.light.effective_radius = af.GaussianPrior(mean=0.62, sigma=0.2)\n",
    "\n",
    "lens.light.sersic_index = af.GaussianPrior(mean=4.0, sigma=2.0)\n",
    "\n",
    "### LENS MASS PRIORS ###\n",
    "\n",
    "lens.mass.centre_0 = af.GaussianPrior(mean=0.0, sigma=0.1)\n",
    "\n",
    "lens.mass.centre_1 = af.GaussianPrior(mean=0.0, sigma=0.1)\n",
    "\n",
    "lens.mass.axis_ratio = af.GaussianPrior(mean=0.8, sigma=0.25)\n",
    "\n",
    "lens.mass.phi = af.GaussianPrior(mean=45.0, sigma=30.0)\n",
    "\n",
    "lens.mass.einstein_radius = af.GaussianPrior(mean=0.8, sigma=0.1)\n",
    "\n",
    "### SOURCE LIGHT PRIORS ###\n",
    "\n",
    "source.light.centre_0 = af.GaussianPrior(mean=0.0, sigma=0.1)\n",
    "\n",
    "source.light.centre_1 = af.GaussianPrior(mean=0.0, sigma=0.1)\n",
    "\n",
    "source.light.axis_ratio = af.GaussianPrior(mean=0.8, sigma=0.1)\n",
    "\n",
    "source.light.phi = af.GaussianPrior(mean=90.0, sigma=10.0)\n",
    "\n",
    "source.light.intensity = af.GaussianPrior(mean=0.14, sigma=0.05)\n",
    "\n",
    "source.light.effective_radius = af.GaussianPrior(mean=0.12, sigma=0.2)"
   ]
  },
  {
   "cell_type": "markdown",
   "metadata": {},
   "source": [
    "Lets setup and run the phase. As expected, it gives us the correct lens model. However, it does so significantly faster than we're used to - I didn't have to edit the config files to get this phase to run fast!"
   ]
  },
  {
   "cell_type": "code",
   "execution_count": null,
   "metadata": {},
   "outputs": [],
   "source": [
    "phase_2 = CustomPriorPhase(\n",
    "    phase_name=\"phase_t5_linking_phases_2\",\n",
    "    galaxies=dict(\n",
    "        lens=al.GalaxyModel(\n",
    "            redshift=0.5, light=al.lp.EllipticalSersic, mass=al.mp.EllipticalIsothermal\n",
    "        ),\n",
    "        source=al.GalaxyModel(redshift=1.0, light=al.lp.EllipticalExponential),\n",
    "    ),\n",
    "    optimizer_class=af.MultiNest,\n",
    ")\n",
    "\n",
    "phase_2.optimizer.n_live_points = 30\n",
    "phase_2.optimizer.sampling_efficiency = 0.9\n",
    "\n",
    "print(\n",
    "    \"MultiNest has begun running - checkout the workspace/howtolens/chapter_2_lens_modeling/output/5_linking_phases\"\n",
    "    \"folder for live output of the results, images and lens model.\"\n",
    "    \"This Jupyter notebook cell with progress once MultiNest has completed - this could take some time!\"\n",
    ")\n",
    "\n",
    "phase_2_results = phase_2.run(dataset=imaging, mask=mask)\n",
    "\n",
    "print(\"MultiNest has finished run - you may now continue the notebook.\")"
   ]
  },
  {
   "cell_type": "markdown",
   "metadata": {},
   "source": [
    "Look at that, the right lens model, again!"
   ]
  },
  {
   "cell_type": "code",
   "execution_count": null,
   "metadata": {},
   "outputs": [],
   "source": [
    "aplt.fit_imaging.subplot(\n",
    "    fit=phase_2_results.most_likely_fit,\n",
    ")"
   ]
  },
  {
   "cell_type": "markdown",
   "metadata": {},
   "source": [
    "Our choice to link two phases together was a huge success. We managed to fit a complex and realistic model, but were able to begin by making simplifying assumptions that eased our search of non-linear parameter space. We could apply phase 1 to pretty much any strong lens and therefore get ourselves a decent lens model with which to tune phase 2's priors.\n",
    "\n",
    "You're probably thinking though that there is one huge, giant, glaring flaw in all of this that I've not mentioned. Phase 2 can't be generalized to another lens - it's priors are tuned to the image we fitted. If we had a lot of lenses, we'd have to write a new phase_2 for every single one. This isn't ideal, is it?\n",
    "\n",
    "Well, let me reassure you, that PyAutoLens has you covered. In chapter 3, we'll cover 'pipelines'. As you might of guessed, a pipeline comprises a set of phases that are linked together. This allows us to start with a simple, easy-to-fit lens model, and gradually makes it more complex. Crucially, as the pipeline runs, we 'feed' the results of previous phases through the pipeline, allowing us to tune our priors automatically, in a way that can be applied generically to any strong lens.\n",
    "\n",
    "However, before moving forward, there's a couple more thing we need to discuss - which revolve around run-speed. Lens modeling is a computationally expensive process and keeping the run times on the order of days, or less, can be tricky. I'll give  you a sense of how we can do that in the next tutorial, and show you some neat tricks to get PyAutoLens modeling lenses super-fast after that!\n",
    "\n",
    "Before that, have a quick think about this - what might be the main factors driving a phase's run-time?"
   ]
  },
  {
   "cell_type": "code",
   "execution_count": null,
   "metadata": {},
   "outputs": [],
   "source": []
  }
 ],
 "metadata": {
  "kernelspec": {
   "display_name": "Python 3",
   "language": "python",
   "name": "python3"
  },
  "language_info": {
   "codemirror_mode": {
    "name": "ipython",
    "version": 3
   },
   "file_extension": ".py",
   "mimetype": "text/x-python",
   "name": "python",
   "nbconvert_exporter": "python",
   "pygments_lexer": "ipython3",
   "version": "3.6.9"
  }
 },
 "nbformat": 4,
 "nbformat_minor": 2
}
