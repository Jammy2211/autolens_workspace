{
 "cells": [
  {
   "cell_type": "markdown",
   "metadata": {},
   "source": [
    "__Masking and Positions__\n",
    "\n",
    "We've learnt nearly all the tools we need to model strong lenses, so I'm now going to quickly cover how you should choose your mask. I'll also show you another neat trick to improve the speed and accuracy of your non-linear search. "
   ]
  },
  {
   "cell_type": "code",
   "execution_count": null,
   "metadata": {},
   "outputs": [],
   "source": [
    "%matplotlib inline\n",
    "\n",
    "import autolens as al\n",
    "import autolens.plot as aplt\n",
    "import autofit as af"
   ]
  },
  {
   "cell_type": "markdown",
   "metadata": {},
   "source": [
    "You need to change the path below to the chapter 2 directory."
   ]
  },
  {
   "cell_type": "code",
   "execution_count": null,
   "metadata": {},
   "outputs": [],
   "source": [
    "chapter_path = \"/path/to/user/autolens_workspace/howtolens/chapter_2_lens_modeling/\"\n",
    "chapter_path = \"/home/jammy/PycharmProjects/PyAuto/autolens_workspace/howtolens/chapter_2_lens_modeling/\"\n",
    "\n",
    "af.conf.instance = af.conf.Config(\n",
    "    config_path=chapter_path + \"/configs/t8_masking_and_positions\",\n",
    "    output_path=chapter_path + \"/output\",\n",
    ")"
   ]
  },
  {
   "cell_type": "markdown",
   "metadata": {},
   "source": [
    "Lets simulate the simple image we've used throughout this chapter."
   ]
  },
  {
   "cell_type": "code",
   "execution_count": null,
   "metadata": {},
   "outputs": [],
   "source": [
    "def simulate():\n",
    "\n",
    "    psf = al.kernel.from_gaussian(shape_2d=(11, 11), sigma=0.1, pixel_scales=0.1)\n",
    "\n",
    "    lens_galaxy = al.Galaxy(\n",
    "        redshift=0.5,\n",
    "        mass=al.mp.SphericalIsothermal(centre=(0.0, 0.0), einstein_radius=1.6),\n",
    "    )\n",
    "\n",
    "    source_galaxy = al.Galaxy(\n",
    "        redshift=1.0,\n",
    "        light=al.lp.SphericalExponential(\n",
    "            centre=(0.0, 0.0), intensity=0.2, effective_radius=0.2\n",
    "        ),\n",
    "    )\n",
    "\n",
    "    tracer = al.Tracer.from_galaxies(galaxies=[lens_galaxy, source_galaxy])\n",
    "\n",
    "    simulator = al.simulator.imaging(\n",
    "        shape_2d=(130, 130),\n",
    "        pixel_scales=0.1,\n",
    "        exposure_time=300.0,\n",
    "        sub_size=1,\n",
    "        psf=psf,\n",
    "        background_level=0.1,\n",
    "        add_noise=True,\n",
    "    )\n",
    "\n",
    "    return simulator.from_tracer(tracer=tracer)"
   ]
  },
  {
   "cell_type": "markdown",
   "metadata": {},
   "source": [
    "Simulate the imaging data."
   ]
  },
  {
   "cell_type": "code",
   "execution_count": null,
   "metadata": {},
   "outputs": [],
   "source": [
    "imaging = simulate()"
   ]
  },
  {
   "cell_type": "markdown",
   "metadata": {},
   "source": [
    "When it comes to determining an appropriate mask for this image, the best approach is to set up a mask using the mask module and pass it to a imaging plotter. You can then check visually if the mask is an appropriate size or not. Below, we choose an inner radius that cuts into our lensed source galaxy - clearly this isn't a good mask."
   ]
  },
  {
   "cell_type": "code",
   "execution_count": null,
   "metadata": {},
   "outputs": [],
   "source": [
    "mask = al.mask.circular_annular(\n",
    "    shape_2d=imaging.shape_2d,\n",
    "    pixel_scales=imaging.pixel_scales,\n",
    "    inner_radius=1.4,\n",
    "    outer_radius=2.4,\n",
    ")\n",
    "\n",
    "aplt.imaging.subplot_imaging(imaging=imaging, mask=mask)"
   ]
  },
  {
   "cell_type": "markdown",
   "metadata": {},
   "source": [
    "So, lets decrease the inner radius to correct for this."
   ]
  },
  {
   "cell_type": "code",
   "execution_count": null,
   "metadata": {},
   "outputs": [],
   "source": [
    "mask = al.mask.circular_annular(\n",
    "    shape_2d=imaging.shape_2d,\n",
    "    pixel_scales=imaging.pixel_scales,\n",
    "    inner_radius=0.6,\n",
    "    outer_radius=2.4,\n",
    ")\n",
    "\n",
    "aplt.imaging.subplot_imaging(imaging=imaging, mask=mask)"
   ]
  },
  {
   "cell_type": "markdown",
   "metadata": {},
   "source": [
    "Now we create our phase as usual, remember that we pass the mask to the run function!"
   ]
  },
  {
   "cell_type": "code",
   "execution_count": null,
   "metadata": {},
   "outputs": [],
   "source": [
    "phase_with_custom_mask = al.PhaseImaging(\n",
    "    phase_name=\"phase_t8_with_custom_mask\",\n",
    "    galaxies=dict(\n",
    "        lens=al.GalaxyModel(redshift=0.5), source=al.GalaxyModel(redshift=1.0)\n",
    "    ),\n",
    "    optimizer_class=af.MultiNest,\n",
    ")"
   ]
  },
  {
   "cell_type": "markdown",
   "metadata": {},
   "source": [
    "So, our mask encompasses the lensed source galaxy. However, is this really the right sized mask? Do we want a bigger mask? a smaller mask?\n",
    "\n",
    "When it comes to masking, we are essentially balancing run-speed and accuracy. If speed wasn't a consideration, bigger masks would *always* be better, for two reasons:\n",
    "\n",
    "1) The lensed source galaxy may have very faint emission that when you look at the plot above you don't notice. Overly aggressive masking risks you masking out some of that light - data which would better constrain your lens model!\n",
    "\n",
    "2) When you fit an image with a model image the fit is performed only within the masked region. Outside of the masked region it is possible that the model image produces some source-galaxy light in a region of the image where it isn't actually observed. If this region is masked, the poor fit in this region won't reduce the model's likelihood.\n",
    "\n",
    "As you use PyAutoLens more you will get a feel for how fast an analysis will run given a certain image resolution, lens model complexity, non-linear search priors / setup, etc. As you develop this intuition, I would recommend you always aim to use masks as big as possible which still give a reasonable run-speed. Aggresive masking will get your code running fast - but it could lead you to infer an incorrect lens model!\n",
    "\n",
    "If you are fitting the foreground lens galaxy's light you pretty much have no choice but to use a large circular mask anyway, as you'll need to capture the lens's extended emission. Chances are this will encompass the entire source galaxy."
   ]
  },
  {
   "cell_type": "markdown",
   "metadata": {},
   "source": [
    "We can also manually specify a set of image-pixels which correspond to the multiple images of the source-galaxy(s). During the analysis, PyAutoLens will first check that these pixels trace within a specified arc-second threshold of one another (which is controlled by the 'position_threshold' parameter input into a phase). This provides two benefits:\n",
    "\n",
    "1) The analysis runs faster as the non-linear search avoids searching regions of parameter space where the mass-model is clearly not accurate.\n",
    "\n",
    "2) By removing these solutions, a global-maximum solution may be reached instead of a local-maxima. This is because removing the incorrect mass models makes the non-linear parameter space less complex.\n",
    "\n",
    "We can easily check the image-positions are accurate by plotting them using our imaging plotter (they are the magenta dots on the image)."
   ]
  },
  {
   "cell_type": "code",
   "execution_count": null,
   "metadata": {},
   "outputs": [],
   "source": [
    "aplt.imaging.subplot_imaging(\n",
    "    imaging=imaging, positions=[(1.6, 0.0), (0.0, 1.6), (-1.6, 0.0), (0.0, -1.6)]\n",
    ")"
   ]
  },
  {
   "cell_type": "markdown",
   "metadata": {},
   "source": [
    "We can then tell our phase to use these positions in the analysis."
   ]
  },
  {
   "cell_type": "code",
   "execution_count": null,
   "metadata": {},
   "outputs": [],
   "source": [
    "phase_with_positions = al.PhaseImaging(\n",
    "    phase_name=\"phase_t8_with_positions\",\n",
    "    galaxies=dict(\n",
    "        lens=al.GalaxyModel(redshift=0.5, mass=al.mp.SphericalIsothermal),\n",
    "        source=al.GalaxyModel(\n",
    "            redshift=1.0, light=al.lp.SphericalExponential\n",
    "        ),\n",
    "    ),\n",
    "    positions_threshold=0.5,  # <- We input a positions threshold here, to signify how far pixels must trace within one another.\n",
    "    optimizer_class=af.MultiNest,\n",
    ")"
   ]
  },
  {
   "cell_type": "markdown",
   "metadata": {},
   "source": [
    "The positions are passed to the phase when we run it,as shown below."
   ]
  },
  {
   "cell_type": "code",
   "execution_count": null,
   "metadata": {},
   "outputs": [],
   "source": [
    "print(\n",
    "    \"MultiNest has begun running - checkout the workspace/howtolens/chapter_2_lens_modeling/output/t7_multinest_black_magic\"\n",
    "    \" folder for live output of the results, images and lens model.\"\n",
    "    \" This Jupyter notebook cell with progress once MultiNest has completed - this could take some time!\"\n",
    ")\n",
    "\n",
    "phase_with_positions.run(\n",
    "    dataset=imaging, \n",
    "    mask=mask,\n",
    "    positions=[(1.6, 0.0), (0.0, 1.6), (-1.6, 0.0), (0.0, -1.6)]\n",
    ")\n",
    "\n",
    "print(\"MultiNest has finished run - you may now continue the notebook.\")"
   ]
  },
  {
   "cell_type": "markdown",
   "metadata": {},
   "source": [
    "You may observe multiple source-galaxies each with their own set of multiple-images. If you have a means by which to pair different positions to the same source galaxies (for example, spectroscopic data) you can set up multiple sets of positions which each have to trace to within the position threshold of one another for the lens model to be accepted."
   ]
  },
  {
   "cell_type": "code",
   "execution_count": null,
   "metadata": {},
   "outputs": [],
   "source": [
    "def simulate_two_galaxies():\n",
    "\n",
    "    psf = al.kernel.from_gaussian(shape_2d=(11, 11), sigma=0.1, pixel_scales=0.1)\n",
    "\n",
    "    lens_galaxy = al.Galaxy(\n",
    "        redshift=0.5,\n",
    "        mass=al.mp.SphericalIsothermal(centre=(0.0, 0.0), einstein_radius=1.6),\n",
    "    )\n",
    "\n",
    "    source_galaxy_0 = al.Galaxy(\n",
    "        redshift=1.0,\n",
    "        light=al.lp.SphericalExponential(\n",
    "            centre=(1.0, 0.0), intensity=0.2, effective_radius=0.2\n",
    "        ),\n",
    "    )\n",
    "\n",
    "    source_galaxy_1 = al.Galaxy(\n",
    "        redshift=1.0,\n",
    "        light=al.lp.SphericalExponential(\n",
    "            centre=(-1.0, 0.0), intensity=0.2, effective_radius=0.2\n",
    "        ),\n",
    "    )\n",
    "\n",
    "    tracer = al.Tracer.from_galaxies(\n",
    "        galaxies=[lens_galaxy, source_galaxy_0, source_galaxy_1]\n",
    "    )\n",
    "\n",
    "    simulator = al.simulator.imaging(\n",
    "        shape_2d=(130, 130),\n",
    "        pixel_scales=0.1,\n",
    "        exposure_time=300.0,\n",
    "        sub_size=1,\n",
    "        psf=psf,\n",
    "        background_level=0.1,\n",
    "        add_noise=True,\n",
    "    )\n",
    "\n",
    "    return simulator.from_tracer(tracer=tracer)"
   ]
  },
  {
   "cell_type": "markdown",
   "metadata": {},
   "source": [
    "Simulate the new data."
   ]
  },
  {
   "cell_type": "code",
   "execution_count": null,
   "metadata": {},
   "outputs": [],
   "source": [
    "imaging = simulate_two_galaxies()\n",
    "\n",
    "aplt.imaging.subplot_imaging(imaging=imaging)"
   ]
  },
  {
   "cell_type": "markdown",
   "metadata": {},
   "source": [
    "To specify the positions we break the positions list into two separate lists of coordinates. \n",
    "\n",
    "These are plotted in different colours to represent that they trace from different source galaxies."
   ]
  },
  {
   "cell_type": "code",
   "execution_count": null,
   "metadata": {},
   "outputs": [],
   "source": [
    "aplt.imaging.subplot_imaging(\n",
    "    imaging=imaging,\n",
    "    positions=[[(2.65, 0.0), (-0.55, 0.0)], [(-2.65, 0.0), (0.55, 0.0)]],\n",
    ")"
   ]
  },
  {
   "cell_type": "markdown",
   "metadata": {},
   "source": [
    "Again, we tell our phase to use the positions and pass this list of pixels to our phase when we run it."
   ]
  },
  {
   "cell_type": "code",
   "execution_count": null,
   "metadata": {},
   "outputs": [],
   "source": [
    "phase_with_x2_positions = al.PhaseImaging(\n",
    "    phase_name=\"phase_t8_with_x2_positions\",\n",
    "    galaxies=dict(\n",
    "        lens=al.GalaxyModel(redshift=0.5, mass=al.mp.SphericalIsothermal),\n",
    "        source_0=al.GalaxyModel(\n",
    "            redshift=1.0, light=al.lp.SphericalExponential\n",
    "        ),\n",
    "        source_1=al.GalaxyModel(\n",
    "            redshift=1.0, light=al.lp.SphericalExponential\n",
    "        ),\n",
    "    ),\n",
    "    positions_threshold=0.5,  # <- We input a positions threshold here, to signify how far pixels must trace within one another.\n",
    "    optimizer_class=af.MultiNest,\n",
    ")\n",
    "\n",
    "print(\n",
    "    \"MultiNest has begun running - checkout the workspace/howtolens/chapter_2_lens_modeling/output/t7_multinest_black_magic\"\n",
    "    \" folder for live output of the results, images and lens model.\"\n",
    "    \" This Jupyter notebook cell with progress once MultiNest has completed - this could take some time!\"\n",
    ")\n",
    "\n",
    "phase_with_x2_positions.run(\n",
    "    dataset=imaging, \n",
    "    mask=mask,\n",
    "    positions=[[(2.65, 0.0), (-0.55, 0.0)], [(-2.65, 0.0), (0.55, 0.0)]]\n",
    ")\n",
    "\n",
    "print(\"MultiNest has finished run - you may now continue the notebook.\")"
   ]
  },
  {
   "cell_type": "markdown",
   "metadata": {},
   "source": [
    "And that completes our final tutorial in this chapter! At this point, I recommend that you checkout the 'autolens_workspace/tools/mask_maker.py' and 'autolens_workspace/tools/positions_maker.py' scripts. These tools allow you create custom masks and positions for a specific strong lens and output them so  they can be loaded before an analysis.\n",
    "\n",
    "When we cover pipelines next, you'll see that pipelines allow us to use a custom mask and set of positions for each lens we model. So, although we have to draw the masks and positions for each lens in a sample, once we've done that we can fit all lenses with one standardized pipeline!\n",
    "\n",
    " There are two things you should bare in mind in terms of masking and positions:\n",
    "\n",
    "1) Customizing the mask and positions for the analysis of one strong lens gets the analysis running fast and can provide accurate non-linear sampling. However, for a large sample of lenses, customizing the mask and positions will begin to take a lot of time. If you're willing to put that time and effort in, great, but these solutions *do not* scale-up to large samples of lenses.\n",
    "\n",
    "2) A word of warning - be *extremely* careful when using positions, especially if it is unclear if the lensed source galaxy has one or multiple source's of light. If your position threshold is small and the positions you give the analysis correspond to different parts of the source, you may remove the *correct lens model*. In my experience, as long as you keep the threshold above ~0.5\" you'll be fine.\n",
    "\n",
    "And with that, we've completed the chapter."
   ]
  },
  {
   "cell_type": "code",
   "execution_count": null,
   "metadata": {},
   "outputs": [],
   "source": []
  },
  {
   "cell_type": "code",
   "execution_count": null,
   "metadata": {},
   "outputs": [],
   "source": []
  }
 ],
 "metadata": {
  "kernelspec": {
   "display_name": "Python 3",
   "language": "python",
   "name": "python3"
  },
  "language_info": {
   "codemirror_mode": {
    "name": "ipython",
    "version": 3
   },
   "file_extension": ".py",
   "mimetype": "text/x-python",
   "name": "python",
   "nbconvert_exporter": "python",
   "pygments_lexer": "ipython3",
   "version": "3.6.9"
  }
 },
 "nbformat": 4,
 "nbformat_minor": 2
}
