{
 "cells": [
  {
   "cell_type": "markdown",
   "metadata": {},
   "source": [
    "We finished the last tutorial on a sour note. Our non-linear search failed miserably, and we were unable to infer a lens model which fitted our data. In this tutorial, we're going to right our past wrongs and infer the correct model - not just once, but three times!"
   ]
  },
  {
   "cell_type": "code",
   "execution_count": null,
   "metadata": {},
   "outputs": [],
   "source": [
    "%matplotlib inline\n",
    "\n",
    "import autolens as al\n",
    "import autolens.plot as aplt\n",
    "import autofit as af"
   ]
  },
  {
   "cell_type": "markdown",
   "metadata": {},
   "source": [
    "You need to change the path below to the chapter 1 directory."
   ]
  },
  {
   "cell_type": "code",
   "execution_count": null,
   "metadata": {},
   "outputs": [],
   "source": [
    "chapter_path = \"/path/to/user/autolens_workspace/howtolens/chapter_2_lens_modeling/\"\n",
    "chapter_path = \"/home/jammy/PycharmProjects/PyAuto/autolens_workspace/howtolens/chapter_2_lens_modeling/\"\n",
    "\n",
    "af.conf.instance = af.conf.Config(\n",
    "    config_path=chapter_path + \"configs/t4_dealing_with_failure\",\n",
    "    output_path=chapter_path + \"output\",\n",
    ")"
   ]
  },
  {
   "cell_type": "markdown",
   "metadata": {},
   "source": [
    "Even with my custom config files the non-linear searches will take a bit of time to run in this tutorial if you choose to run them yourselves.\n",
    "\n",
    "Another simulate image function, albeit it generates a new image"
   ]
  },
  {
   "cell_type": "code",
   "execution_count": null,
   "metadata": {},
   "outputs": [],
   "source": [
    "def simulate():\n",
    "\n",
    "    psf = al.kernel.from_gaussian(shape_2d=(11, 11), sigma=0.05, pixel_scales=0.05)\n",
    "\n",
    "    lens_galaxy = al.Galaxy(\n",
    "        redshift=0.5,\n",
    "        light=al.lp.EllipticalSersic(\n",
    "            centre=(0.0, 0.0),\n",
    "            axis_ratio=0.9,\n",
    "            phi=45.0,\n",
    "            intensity=0.04,\n",
    "            effective_radius=0.5,\n",
    "            sersic_index=3.5,\n",
    "        ),\n",
    "        mass=al.mp.EllipticalIsothermal(\n",
    "            centre=(0.0, 0.0), axis_ratio=0.8, phi=45.0, einstein_radius=0.8\n",
    "        ),\n",
    "    )\n",
    "\n",
    "    source_galaxy = al.Galaxy(\n",
    "        redshift=1.0,\n",
    "        light=al.lp.EllipticalSersic(\n",
    "            centre=(0.0, 0.0),\n",
    "            axis_ratio=0.5,\n",
    "            phi=90.0,\n",
    "            intensity=0.03,\n",
    "            effective_radius=0.3,\n",
    "            sersic_index=3.0,\n",
    "        ),\n",
    "    )\n",
    "\n",
    "    tracer = al.Tracer.from_galaxies(galaxies=[lens_galaxy, source_galaxy])\n",
    "\n",
    "    simulator = al.simulator.imaging(\n",
    "        shape_2d=(130, 130),\n",
    "        pixel_scales=0.1,\n",
    "        exposure_time=300.0,\n",
    "        sub_size=1,\n",
    "        psf=psf,\n",
    "        background_level=0.1,\n",
    "        add_noise=True,\n",
    "    )\n",
    "\n",
    "    return simulator.from_tracer(tracer=tracer)"
   ]
  },
  {
   "cell_type": "markdown",
   "metadata": {},
   "source": [
    "Simulate the Imaging data and set up the mask."
   ]
  },
  {
   "cell_type": "code",
   "execution_count": null,
   "metadata": {},
   "outputs": [],
   "source": [
    "imaging = simulate()\n",
    "\n",
    "mask = al.mask.circular(\n",
    "    shape_2d=imaging.shape_2d, pixel_scales=imaging.pixel_scales, radius=3.0\n",
    ")\n",
    "\n",
    "aplt.imaging.subplot_imaging(imaging=imaging, mask=mask)"
   ]
  },
  {
   "cell_type": "markdown",
   "metadata": {},
   "source": [
    "__Approach 1: Prior Tuning__\n",
    "\n",
    "First, we're going to try giving our non-linear search a helping hand. Lets think about our priors, they're telling the non-linear search where to look in parameter space. If we tell it to look in the right place (that is, *tune* our priors), it might find the best-fit lens model.\n",
    "\n",
    "We've already seen that we can fully customize priors in PyAutoLens, so lets do it. I've set up a custom phase below and specified a new set of priors that'll give the non-linear search a much better chance if inferring the correct model. I've also let you know what we're changing the priors from (as initially specified by the 'config/priors/default' config files.)\n",
    "\n",
    "We'll call our lens and source galaxies 'lens' and 'source' this time, for shorter more readable code."
   ]
  },
  {
   "cell_type": "code",
   "execution_count": null,
   "metadata": {},
   "outputs": [],
   "source": [
    "lens = al.GalaxyModel(\n",
    "    redshift=0.5, light=al.lp.EllipticalSersic, mass=al.mp.EllipticalIsothermal\n",
    ")\n",
    "\n",
    "source = al.GalaxyModel(redshift=1.0, light=al.lp.EllipticalExponential)"
   ]
  },
  {
   "cell_type": "markdown",
   "metadata": {},
   "source": [
    "By default, the prior on the (y,x) coordinates of a light / mass profile is a GaussianPrior with mean 0.0\" and sigma \"1.0. However, visual inspection of our strong lens image tells us that its clearly around x = 0.0\" and y = 0.0\", so lets reduce where non-linear search looks for these parameters."
   ]
  },
  {
   "cell_type": "code",
   "execution_count": null,
   "metadata": {},
   "outputs": [],
   "source": [
    "lens.light.centre_0 = af.UniformPrior(lower_limit=-0.05, upper_limit=0.05)\n",
    "\n",
    "lens.light.centre_1 = af.UniformPrior(lower_limit=-0.05, upper_limit=0.05)\n",
    "\n",
    "lens.mass.centre_0 = af.UniformPrior(lower_limit=-0.05, upper_limit=0.05)\n",
    "\n",
    "lens.mass.centre_1 = af.UniformPrior(lower_limit=-0.05, upper_limit=0.05)"
   ]
  },
  {
   "cell_type": "markdown",
   "metadata": {},
   "source": [
    "By default, the axis-ratio of our lens galaxy's elliptical light profile is a UniformPrior between 0.2 and 1.0. However, by looking at the image it looks fairly circular, so lets use a GaussianPrior nearer 1.0."
   ]
  },
  {
   "cell_type": "code",
   "execution_count": null,
   "metadata": {},
   "outputs": [],
   "source": [
    "lens.light.axis_ratio = af.GaussianPrior(mean=0.8, sigma=0.15)"
   ]
  },
  {
   "cell_type": "markdown",
   "metadata": {},
   "source": [
    "We'll also assume that the light profile's axis_ratio informs us of the mass-profile's axis_ratio, but because this may not strictly be true (e.g. because of dark matter) we'll use a wider prior."
   ]
  },
  {
   "cell_type": "code",
   "execution_count": null,
   "metadata": {},
   "outputs": [],
   "source": [
    "lens.mass.axis_ratio = af.GaussianPrior(mean=0.8, sigma=0.25)"
   ]
  },
  {
   "cell_type": "markdown",
   "metadata": {},
   "source": [
    "By default, the orientation of the galaxy's light profile, phi, uses a UniformPrior between 0.0 and 180.0 degrees. However, if you look really close at the image (and maybe adjust the color-map of the plotters) you'll notice that it is elliptical and oriented around 45.0 degrees counter-clockwise from the x-axis. Lets update our prior"
   ]
  },
  {
   "cell_type": "code",
   "execution_count": null,
   "metadata": {},
   "outputs": [],
   "source": [
    "lens.light.phi = af.GaussianPrior(mean=45.0, sigma=15.0)"
   ]
  },
  {
   "cell_type": "markdown",
   "metadata": {},
   "source": [
    "Again, lets assume that the light's orientation roughly traces that of the mass."
   ]
  },
  {
   "cell_type": "code",
   "execution_count": null,
   "metadata": {},
   "outputs": [],
   "source": [
    "lens.mass.phi = af.GaussianPrior(mean=45.0, sigma=30.0)"
   ]
  },
  {
   "cell_type": "markdown",
   "metadata": {},
   "source": [
    "The effective radius of a light profile is its 'half-light' radius, the radius at which 50% of its total luminosity is internal to a circle defined within that radius. PyAutoLens assumes a UniformPrior on this quantity between 0.0\" and 4.0\", but inspection of the image (again, using a colormap scaling) shows the lens's light doesn't extend anywhere near 4.0\", so lets reduce it."
   ]
  },
  {
   "cell_type": "code",
   "execution_count": null,
   "metadata": {},
   "outputs": [],
   "source": [
    "lens.light.effective_radius = af.GaussianPrior(mean=0.5, sigma=0.8)"
   ]
  },
  {
   "cell_type": "markdown",
   "metadata": {},
   "source": [
    "Typically, we have knowledge of our lens galaxy's morphology. Most strong lenses are massive elliptical galaxies which have Sersic indexes near 4. So lets change our Sersic index from a UniformPrior between 0.8 and 8.0 to reflect this."
   ]
  },
  {
   "cell_type": "code",
   "execution_count": null,
   "metadata": {},
   "outputs": [],
   "source": [
    "lens.light.sersic_index = af.GaussianPrior(mean=4.0, sigma=1.0)"
   ]
  },
  {
   "cell_type": "markdown",
   "metadata": {},
   "source": [
    "Finally, the 'ring' that the lensed source forms clearly has a radius of about 0.8\". This is its Einstein radius, so lets change the prior from a UniformPrior between 0.0\" and 4.0\"."
   ]
  },
  {
   "cell_type": "code",
   "execution_count": null,
   "metadata": {},
   "outputs": [],
   "source": [
    "lens.mass.einstein_radius = af.GaussianPrior(mean=0.8, sigma=0.2)"
   ]
  },
  {
   "cell_type": "markdown",
   "metadata": {},
   "source": [
    "In this exercise, I'm not going to change any priors on the source galaxy. Whilst lens modeling experts can look at a strong lens and often tell you roughly where the source-galaxy is located (in the source-plane), it is something of art form. Furthermore, the source's morphology can be pretty complex, making it difficult to come up with a good source prior!"
   ]
  },
  {
   "cell_type": "markdown",
   "metadata": {},
   "source": [
    "We can now create this custom phase and run it. Our non-linear search will start in a high likelihood region of parameter space."
   ]
  },
  {
   "cell_type": "code",
   "execution_count": null,
   "metadata": {},
   "outputs": [],
   "source": [
    "custom_prior_phase = al.PhaseImaging(\n",
    "    phase_name=\"phase_t4_tuned_priors\",\n",
    "    galaxies=dict(\n",
    "        lens=al.GalaxyModel(\n",
    "            redshift=0.5, light=al.lp.EllipticalSersic, mass=al.mp.EllipticalIsothermal\n",
    "        ),\n",
    "        source=al.GalaxyModel(redshift=1.0, light=al.lp.EllipticalExponential),\n",
    "    ),\n",
    "    optimizer_class=af.MultiNest,\n",
    ")\n",
    "\n",
    "print(\n",
    "    \"MultiNest has begun running - checkout the workspace/howtolens/chapter_2_lens_modeling/output/4_dealing_with_failure\"\n",
    "    \"folder for live output of the results, images and lens model.\"\n",
    "    \"This Jupyter notebook cell with progress once MultiNest has completed - this could take some time!\"\n",
    ")\n",
    "\n",
    "custom_prior_result = custom_prior_phase.run(dataset=imaging, mask=mask)\n",
    "\n",
    "print(\"MultiNest has finished run - you may now continue the notebook.\")"
   ]
  },
  {
   "cell_type": "markdown",
   "metadata": {},
   "source": [
    "Bam! We get a good model. The right model. A glorious model! We gave our non-linear search a helping hand, and it repaid us in spades!\n",
    "\n",
    "Check out the PDF in the '/howstolens/chapter_2_lens_modeling/output/4_custom_priors/image' folder - what degeneracies do you notice between parameters?"
   ]
  },
  {
   "cell_type": "code",
   "execution_count": null,
   "metadata": {},
   "outputs": [],
   "source": [
    "aplt.fit_imaging.subplot_fit_imaging(fit=custom_prior_result.most_likely_fit)"
   ]
  },
  {
   "cell_type": "markdown",
   "metadata": {},
   "source": [
    "Okay, so we've learnt that by tuning our priors to the lens we're fitting we can increase our chance of inferring the global maxima lens model. Before moving onto the next approach, lets think about the advantages and disadvantages of prior tuning:\n",
    "\n",
    "Advantage - We find the maximum likelihood solution in parameter space.\n",
    "Advantage - The phase took less time to run because the non-linear search explored less of parameter space.\n",
    "Disadvantage - If we specified one prior incorrectly the non-linear search would begin and therefore end at an incorrect solution.\n",
    "Disadvantage - Our phase was tailored to this specific strong lens. If we want to fit a large sample of lenses we'd have to write a custom phase for every single one - this would take up a lot of our time!"
   ]
  },
  {
   "cell_type": "markdown",
   "metadata": {},
   "source": [
    "__Approach 2: Reducing Complexity__\n",
    "\n",
    "Previously, Our non-linear searched failed because we made the lens model more complex. Maybe we can make it less complex, whilst still keeping it fairly realistic? Maybe there are some assumptions we can make to reduce the number of lens model parameters and therefore dimensionality of non-linear parameter space?\n",
    "\n",
    "Well, we can *always* make assumptions. Below, I'm going to create a phase that assumes that light-traces-mass. That is, that our light-profile's centre, axis_ratio and orientation are perfectly aligned with its mass. This may, or may not, be a reasonable assumption, but it'll remove 4 parameters from the lens model (the mass-profiles y, x, axis_ratio and phi), so its worth trying!"
   ]
  },
  {
   "cell_type": "code",
   "execution_count": null,
   "metadata": {},
   "outputs": [],
   "source": [
    "lens = al.GalaxyModel(\n",
    "    redshift=0.5, light=al.lp.EllipticalSersic, mass=al.mp.EllipticalIsothermal\n",
    ")\n",
    "\n",
    "source = al.GalaxyModel(redshift=1.0, light=al.lp.EllipticalExponential)"
   ]
  },
  {
   "cell_type": "markdown",
   "metadata": {},
   "source": [
    "In the pass priors function we can 'pair' any two parameters by setting them equal to one another. This removes the parameter on the left-hand side of the pairing from the lens model such that is always assumes the same value as the parameter on the right-hand side."
   ]
  },
  {
   "cell_type": "code",
   "execution_count": null,
   "metadata": {},
   "outputs": [],
   "source": [
    "lens.mass.centre_0 = lens.light.centre_0"
   ]
  },
  {
   "cell_type": "markdown",
   "metadata": {},
   "source": [
    "Now, the mass-profile's y coordinate will only use the y coordinate of the light profile. "
   ]
  },
  {
   "cell_type": "code",
   "execution_count": null,
   "metadata": {},
   "outputs": [],
   "source": [
    "lens.mass.centre_1 = lens.light.centre_1"
   ]
  },
  {
   "cell_type": "markdown",
   "metadata": {},
   "source": [
    "Lets do this with the remaining geometric parameters of the light and mass profiles."
   ]
  },
  {
   "cell_type": "code",
   "execution_count": null,
   "metadata": {},
   "outputs": [],
   "source": [
    "lens.mass.axis_ratio = lens.light.axis_ratio\n",
    "\n",
    "lens.mass.phi = lens.light.phi"
   ]
  },
  {
   "cell_type": "markdown",
   "metadata": {},
   "source": [
    "Again, we create this phase and run it. The non-linear search now has a less complex parameter space to search."
   ]
  },
  {
   "cell_type": "code",
   "execution_count": null,
   "metadata": {},
   "outputs": [],
   "source": [
    "light_traces_mass_phase = al.PhaseImaging(\n",
    "    phase_name=\"phase_t4_light_traces_mass\",\n",
    "    galaxies=dict(\n",
    "        lens=al.GalaxyModel(\n",
    "            redshift=0.5, light=al.lp.EllipticalSersic, mass=al.mp.EllipticalIsothermal\n",
    "        ),\n",
    "        source=al.GalaxyModel(redshift=1.0, light=al.lp.EllipticalExponential),\n",
    "    ),\n",
    "    optimizer_class=af.MultiNest,\n",
    ")\n",
    "\n",
    "print(\n",
    "    \"MultiNest has begun running - checkout the workspace/howtolens/chapter_2_lens_modeling/output/4_dealing_with_failure\"\n",
    "    \"folder for live output of the results, images and lens model.\"\n",
    "    \"This Jupyter notebook cell with progress once MultiNest has completed - this could take some time!\"\n",
    ")\n",
    "\n",
    "light_traces_mass_phase_result = light_traces_mass_phase.run(dataset=imaging, mask=mask)\n",
    "\n",
    "print(\"MultiNest has finished run - you may now continue the notebook.\")\n",
    "\n",
    "aplt.fit_imaging.subplot_fit_imaging(fit=light_traces_mass_phase_result.most_likely_fit)"
   ]
  },
  {
   "cell_type": "markdown",
   "metadata": {},
   "source": [
    "The results look pretty good. Our source galaxy fits the data pretty well and we've clearly inferred a model that looks similar to the one above. However, inspection of the residuals shows that the fit wasn't quite as good as the custom-phase above.\n",
    "\n",
    "It turns out that when I simulated this image light didn't perfectly trace mass. The light-profile's axis-ratio was 0.9, whereas the mass-profiles was 0.8. The quality of the fit has suffered as a result and the likelihood we've inferred is lower.\n",
    "\n",
    "Herein lies the pitfalls of making assumptions - they may make your model less realistic and your results worse! Nevertheless, our lens model is clearly much better than it was in the previous tutorial, so making assumptions isn't a bad idea if you're struggling to fit the data well.\n",
    "\n",
    "Again, lets consider the advantages and disadvantages of this approach:\n",
    "\n",
    "Advantage - By reducing parameter space's complexity we inferred a global maximum likelihood.\n",
    "Advantage - The phase is not specific to one lens - we could run it on many strong lens images.\n",
    "Disadvantage - Our model was less realistic and our fit suffered as a result."
   ]
  },
  {
   "cell_type": "markdown",
   "metadata": {},
   "source": [
    "__Approach 3: Look Harder__\n",
    "\n",
    "In approaches 1 and 2 we extended our non-linear search an olive branch and helped it find the highest likelihood regions of parameter space. In approach 3 ,we're going to tell it to just 'look harder'.\n",
    "\n",
    "Basically, every non-linear search algorithm has a set of parameters that govern how thoroughly it searches parameter space. The more thoroughly it looks, the more likely it is that it'll find the global maximum lens model. However, the search will also take longer - and we don't want it to take too long to get some results.\n",
    "\n",
    "Lets setup a phase and overwrite some of the non-linear search's parameters from the defaults it assumes in the 'config/non_linear.ini' config file:"
   ]
  },
  {
   "cell_type": "code",
   "execution_count": null,
   "metadata": {},
   "outputs": [],
   "source": [
    "custom_non_linear_phase = al.PhaseImaging(\n",
    "    phase_name=\"phase_t4_custom_non_linear\",\n",
    "    galaxies=dict(\n",
    "        lens=al.GalaxyModel(\n",
    "            redshift=0.5, light=al.lp.EllipticalSersic, mass=al.mp.EllipticalIsothermal\n",
    "        ),\n",
    "        source=al.GalaxyModel(redshift=1.0, light=al.lp.EllipticalExponential),\n",
    "    ),\n",
    "    optimizer_class=af.MultiNest,\n",
    ")"
   ]
  },
  {
   "cell_type": "markdown",
   "metadata": {},
   "source": [
    "The 'optimizer' below is MultiNest, the non-linear search we're using.\n",
    "\n",
    "When MultiNest searches non-linear parameter space it places down a set of 'live-points', each of which corresponds to a particular lens model (set of parameters) with an associted likelihood. When it samples a new lens model with a higher likelihood than any of the currently active live points, this new lens model becomes an active point. As a result, the active point with the lowest likelihood is discarded.\n",
    "\n",
    "The more live points MultiNest uses the more thoroughly it will sample parameter space. Lets increase the number of points from the default value (50) to 100."
   ]
  },
  {
   "cell_type": "code",
   "execution_count": null,
   "metadata": {},
   "outputs": [],
   "source": [
    "custom_non_linear_phase.optimizer.n_live_points = 100"
   ]
  },
  {
   "cell_type": "markdown",
   "metadata": {},
   "source": [
    "When MultiNest find a 'peak' likelihood in parameter space it begins to converge around this peak. It does this by guessing lens models with similar parameters. However, this peak might not be the global maximum, and if MultiNest converges too quickly around a peak it won't realise this before its too late.\n",
    "\n",
    "The sampling efficiency therefore describes how quickly MultiNest converges around a peak. It assumes values between 0.0 and 1.0, where 1.0 corresponds to the fastest convergence but highest risk of not locating the global maximum. Lets reduce the sampling efficiency from 0.8 to 0.5."
   ]
  },
  {
   "cell_type": "code",
   "execution_count": null,
   "metadata": {},
   "outputs": [],
   "source": [
    "custom_non_linear_phase.optimizer.sampling_efficiency = 0.5"
   ]
  },
  {
   "cell_type": "markdown",
   "metadata": {},
   "source": [
    "These are the two most important MultiNest parameters controlling how it navigates parameter space, so lets run this phase and see if our more detailed inspection of parameter space finds the correct lens model."
   ]
  },
  {
   "cell_type": "code",
   "execution_count": null,
   "metadata": {},
   "outputs": [],
   "source": [
    "print(\n",
    "    \"MultiNest has begun running - checkout the workspace/howtolens/chapter_2_lens_modeling/output/4_dealing_with_failure\"\n",
    "    \"folder for live output of the results, images and lens model.\"\n",
    "    \"This Jupyter notebook cell with progress once MultiNest has completed - this could take some time!\"\n",
    ")\n",
    "custom_non_linear_result = custom_non_linear_phase.run(dataset=imaging, mask=mask)\n",
    "print(\"MultiNest has finished run - you may now continue the notebook.\")\n",
    "\n",
    "aplt.fit_imaging.subplot_fit_imaging(fit=custom_non_linear_result.most_likely_fit)"
   ]
  },
  {
   "cell_type": "markdown",
   "metadata": {},
   "source": [
    "Indeed, it does. Thus, we can always brute-force our way to a good lens model, if all else fails.\n",
    "\n",
    "Finally, lets list the advantages and disadvantages of this approach:\n",
    "\n",
    "Advantage - Its easy to setup, we just increase n_live_points or decrease sampling_efficiency.\n",
    "Advantage - It generalizes to any strong lens.\n",
    "Advantage - We didn't have to make our model less realistic.\n",
    "Disadvantage - Its expensive. Very expensive. The run-time of this phase was over 6 hours. For more complex models we could be talking days or weeks (or, dare I say it, months).\n",
    "\n",
    "#o, there we have it, we can now fit strong lenses with PyAutoLens. And if it fails, we know how to get it to work. I hope you're feeling pretty smug. You might even be thinking 'why should I bother with the rest of these tutorials, if I can fit strong a lens already'.\n",
    "\n",
    "Well, my friend, I want you to think about the last disadvantage listed above. If modeling a single lens could really take as long as a month, are you really willing to spend your valuable time waiting for this? I'm not, which is why I developed PyAutoLens, and in the next tutorial we'll see how we can get the best of both worlds - realistic, complex lens model that take mere hours to infer!\n",
    "\n",
    "Before doing that though, I want you to go over the advantages and disadvantages listed above again and think whether we could combine these different approaches to get the best of all worlds."
   ]
  }
 ],
 "metadata": {
  "kernelspec": {
   "display_name": "Python 3",
   "language": "python",
   "name": "python3"
  },
  "language_info": {
   "codemirror_mode": {
    "name": "ipython",
    "version": 3
   },
   "file_extension": ".py",
   "mimetype": "text/x-python",
   "name": "python",
   "nbconvert_exporter": "python",
   "pygments_lexer": "ipython3",
   "version": "3.6.9"
  }
 },
 "nbformat": 4,
 "nbformat_minor": 2
}
