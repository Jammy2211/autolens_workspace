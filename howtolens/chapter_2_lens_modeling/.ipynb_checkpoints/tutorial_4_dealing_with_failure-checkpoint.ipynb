{
 "cells": [
  {
   "cell_type": "markdown",
   "metadata": {},
   "source": [
    "We finished the last tutorial on a sour note. Our non-linear search failed miserably, and we were unable to infer a lens model which fitted our data. In this tutorial, we're going to right our past wrongs and infer the correct model - not just once, but three times!"
   ]
  },
  {
   "cell_type": "code",
   "execution_count": null,
   "metadata": {},
   "outputs": [],
   "source": [
    "import autofit as af\n",
    "import autolens as al\n",
    "from autolens.pipeline.phase import phase_imaging\n",
    "from autolens.model.galaxy import galaxy_model as gm"
   ]
  },
  {
   "cell_type": "markdown",
   "metadata": {},
   "source": [
    "You need to change the path below to the chapter 1 directory."
   ]
  },
  {
   "cell_type": "code",
   "execution_count": null,
   "metadata": {},
   "outputs": [],
   "source": [
    "chapter_path = \"/path/to/user/autolens_workspace/howtolens/chapter_2_lens_modeling/\"\n",
    "chapter_path = \"/home/jammy/PycharmProjects/PyAutoLens/workspace/howtolens/chapter_2_lens_modeling/\"\n",
    "\n",
    "af.conf.instance = af.conf.Config(\n",
    "    config_path=chapter_path + \"configs/t4_dealing_with_failure\",\n",
    "    output_path=chapter_path + \"output\",\n",
    ")"
   ]
  },
  {
   "cell_type": "markdown",
   "metadata": {},
   "source": [
    "Even with my custom config files the non-linear searches will take a bit of time to run in this tutorial if you choose to run them yourselves.\n",
    "\n",
    "Another simulate image function, albeit it generates a new image"
   ]
  },
  {
   "cell_type": "code",
   "execution_count": null,
   "metadata": {},
   "outputs": [],
   "source": [
    "def simulate():\n",
    "\n",
    "    psf = al.PSF.from_gaussian(shape=(11, 11), sigma=0.05, pixel_scale=0.05)\n",
    "\n",
    "    grid = al.Grid.from_shape_pixel_scale_and_sub_grid_size(\n",
    "        shape=(130, 130), pixel_scale=0.1, sub_grid_size=2\n",
    "    )\n",
    "\n",
    "    lens_galaxy = al.Galaxy(\n",
    "        redshift=0.5,\n",
    "        light=al.light_profiles.EllipticalSersic(\n",
    "            centre=(0.0, 0.0),\n",
    "            axis_ratio=0.9,\n",
    "            phi=45.0,\n",
    "            intensity=0.04,\n",
    "            effective_radius=0.5,\n",
    "            sersic_index=3.5,\n",
    "        ),\n",
    "        mass=al.mass_profiles.EllipticalIsothermal(\n",
    "            centre=(0.0, 0.0), axis_ratio=0.8, phi=45.0, einstein_radius=0.8\n",
    "        ),\n",
    "    )\n",
    "\n",
    "    source_galaxy = al.Galaxy(\n",
    "        redshift=1.0,\n",
    "        light=al.light_profiles.EllipticalSersic(\n",
    "            centre=(0.0, 0.0),\n",
    "            axis_ratio=0.5,\n",
    "            phi=90.0,\n",
    "            intensity=0.03,\n",
    "            effective_radius=0.3,\n",
    "            sersic_index=3.0,\n",
    "        ),\n",
    "    )\n",
    "\n",
    "    tracer = al.Tracer.from_galaxies(galaxies=[lens_galaxy, source_galaxy])\n",
    "\n",
    "    return al.SimulatedCCDData.from_tracer_grid_and_exposure_arrays(\n",
    "        tracer=tracer,\n",
    "        grid=grid,\n",
    "        pixel_scale=0.1,\n",
    "        exposure_time=300.0,\n",
    "        psf=psf,\n",
    "        background_sky_level=0.1,\n",
    "        add_noise=True,\n",
    "    )"
   ]
  },
  {
   "cell_type": "markdown",
   "metadata": {},
   "source": [
    "Simulate the CCD data and plot it."
   ]
  },
  {
   "cell_type": "code",
   "execution_count": null,
   "metadata": {},
   "outputs": [],
   "source": [
    "ccd_data = simulate()\n",
    "\n",
    "al.ccd_plotters.plot_ccd_subplot(ccd_data=ccd_data)"
   ]
  },
  {
   "cell_type": "markdown",
   "metadata": {},
   "source": [
    "__Approach 1: Prior Tuning__\n",
    "\n",
    "First, we're going to try giving our non-linear search a helping hand. Lets think about our priors, they're telling the non-linear search where to look in parameter space. If we tell it to look in the right place (that is, *tune* our priors), it might find the best-fit lens model.\n",
    "\n",
    "We've already seen that we can fully customize priors in PyAutoLens, so lets do it. I've set up a custom phase below and specified a new set of priors that'll give the non-linear search a much better chance if inferring the correct model. I've also let you know what we're changing the priors from (as initially specified by the 'config/priors/default' config files.)"
   ]
  },
  {
   "cell_type": "code",
   "execution_count": null,
   "metadata": {},
   "outputs": [],
   "source": [
    "class CustomPriorPhase(phase_imaging.PhaseImaging):\n",
    "    def customize_priors(self, results):\n",
    "\n",
    "        # We've called our lens galaxy 'lens' this time, for shorter more readable code.\n",
    "\n",
    "        # By default, the prior on the (y,x) coordinates of a light / mass profile is a GaussianPrior with mean\n",
    "        # 0.0\" and sigma \"1.0. However, visual inspection of our strong lens image tells us that its clearly around\n",
    "        # x = 0.0\" and y = 0.0\", so lets reduce where non-linear search looks for these parameters.\n",
    "\n",
    "        self.galaxies.lens.light.centre_0 = af.UniformPrior(\n",
    "            lower_limit=-0.05, upper_limit=0.05\n",
    "        )\n",
    "\n",
    "        self.galaxies.lens.light.centre_1 = af.UniformPrior(\n",
    "            lower_limit=-0.05, upper_limit=0.05\n",
    "        )\n",
    "\n",
    "        self.galaxies.lens.mass.centre_0 = af.UniformPrior(\n",
    "            lower_limit=-0.05, upper_limit=0.05\n",
    "        )\n",
    "\n",
    "        self.galaxies.lens.mass.centre_1 = af.UniformPrior(\n",
    "            lower_limit=-0.05, upper_limit=0.05\n",
    "        )\n",
    "\n",
    "        # By default, the axis-ratio of our lens galaxy's elliptical light profile is a UniformPrior between 0.2 and\n",
    "        # 1.0. However, by looking at the image it looks fairly circular, so lets use a GaussianPrior nearer 1.0.\n",
    "        self.galaxies.lens.light.axis_ratio = af.GaussianPrior(mean=0.8, sigma=0.15)\n",
    "\n",
    "        # We'll also assume that the light profile's axis_ratio informs us of the mass-profile's axis_ratio, but\n",
    "        # because this may not strictly be true (e.g. because of dark matter) we'll use a wider prior.\n",
    "        self.galaxies.lens.mass.axis_ratio = af.GaussianPrior(mean=0.8, sigma=0.25)\n",
    "\n",
    "        # By default, the orientation of the galaxy's light profile, phi, uses a UniformPrior between 0.0 and\n",
    "        # 180.0 degrees. However, if you look really close at the image (and maybe adjust the color-map of the plot)\n",
    "        # you'll notice that it is elliptical and oriented around 45.0 degrees counter-clockwise\n",
    "        # from the x-axis. Lets update our prior\n",
    "        self.galaxies.lens.light.phi = af.GaussianPrior(mean=45.0, sigma=15.0)\n",
    "\n",
    "        # Again, lets assume that the light's orientation roughly traces that of the mass.\n",
    "        self.galaxies.lens.mass.phi = af.GaussianPrior(mean=45.0, sigma=30.0)\n",
    "\n",
    "        # The effective radius of a light profile is its 'half-light' radius, the radius at which 50% of its\n",
    "        # total luminosity is internal to a circle defined within that radius. PyAutoLens assumes a\n",
    "        # UniformPrior on this quantity between 0.0\" and 4.0\", but inspection of the image (again, using a colormap\n",
    "        # scaling) shows the lens's light doesn't extend anywhere near 4.0\", so lets reduce it.\n",
    "        self.galaxies.lens.light.effective_radius = af.GaussianPrior(\n",
    "            mean=0.5, sigma=0.8\n",
    "        )\n",
    "\n",
    "        # Typically, we have knowledge of our lens galaxy's morphology. Most strong lenses are massive elliptical \n",
    "        # galaxies which have Sersic indexes near 4. So lets change our Sersic index from a UniformPrior between \n",
    "        # 0.8 and 8.0 to reflect this.\n",
    "        self.galaxies.lens.light.sersic_index = af.GaussianPrior(mean=4.0, sigma=1.0)\n",
    "\n",
    "        # Finally, the 'ring' that the lensed source forms clearly has a radius of about 0.8\". This is its Einstein\n",
    "        # radius, so lets change the prior from a UniformPrior between 0.0\" and 4.0\".\n",
    "        self.galaxies.lens.mass.einstein_radius = af.GaussianPrior(mean=0.8, sigma=0.2)\n",
    "\n",
    "        # In this exercise, I'm not going to change any priors on the source galaxy. Whilst lens modeling experts can\n",
    "        # look at a strong lens and often tell you roughly where the source-galaxy is located (in the source-plane),\n",
    "        # it is something of art form. Furthermore, the source's morphology can be pretty complex, making it\n",
    "        # difficult to come up with a good source prior!"
   ]
  },
  {
   "cell_type": "markdown",
   "metadata": {},
   "source": [
    "We can now create this custom phase and run it. Our non-linear search will start in a high likelihood region of parameter space."
   ]
  },
  {
   "cell_type": "code",
   "execution_count": null,
   "metadata": {},
   "outputs": [],
   "source": [
    "custom_prior_phase = CustomPriorPhase(\n",
    "    phase_name=\"phase_t4_tuned_priors\",\n",
    "    galaxies=dict(\n",
    "        lens=gm.GalaxyModel(\n",
    "            redshift=0.5, light=al.light_profiles.EllipticalSersic, mass=al.mass_profiles.EllipticalIsothermal\n",
    "        ),\n",
    "        source=gm.GalaxyModel(redshift=1.0, light=al.light_profiles.EllipticalExponential),\n",
    "    ),\n",
    "    optimizer_class=af.MultiNest,\n",
    ")\n",
    "\n",
    "print(\n",
    "    \"MultiNest has begun running - checkout the workspace/howtolens/chapter_2_lens_modeling/output/4_dealing_with_failure\"\n",
    "    \"folder for live output of the results, images and lens model.\"\n",
    "    \"This Jupyter notebook cell with progress once MultiNest has completed - this could take some time!\"\n",
    ")\n",
    "\n",
    "custom_prior_result = custom_prior_phase.run(data=ccd_data)\n",
    "\n",
    "print(\"MultiNest has finished run - you may now continue the notebook.\")"
   ]
  },
  {
   "cell_type": "markdown",
   "metadata": {},
   "source": [
    "Bam! We get a good model. The right model. A glorious model! We gave our non-linear search a helping hand, and it repaid us in spades!\n",
    "\n",
    "Check out the PDF in the '/howstolens/chapter_2_lens_modeling/output/4_custom_priors/image' folder - what degeneracies do you notice between parameters?"
   ]
  },
  {
   "cell_type": "code",
   "execution_count": null,
   "metadata": {},
   "outputs": [],
   "source": [
    "al.lens_fit_plotters.plot_fit_subplot(fit=custom_prior_result.most_likely_fit)"
   ]
  },
  {
   "cell_type": "markdown",
   "metadata": {},
   "source": [
    "Okay, so we've learnt that by tuning our priors to the lens we're fitting we can increase our chance of inferring the global maxima lens model. Before moving onto the next approach, lets think about the advantages and disadvantages of prior tuning:\n",
    "\n",
    "Advantage - We find the maximum likelihood solution in parameter space.\n",
    "Advantage - The phase took less time to run because the non-linear search explored less of parameter space.\n",
    "Disadvantage - If we specified one prior incorrectly the non-linear search would begin and therefore end at an incorrect solution.\n",
    "Disadvantage - Our phase was tailored to this specific strong lens. If we want to fit a large sample of lenses we'd have to write a custom phase for every single one - this would take up a lot of our time!"
   ]
  },
  {
   "cell_type": "markdown",
   "metadata": {},
   "source": [
    "__Approach 2: Reducing Complexity__\n",
    "\n",
    "Previously, Our non-linear searched failed because we made the lens model more complex. Maybe we can make it less complex, whilst still keeping it fairly realistic? Maybe there are some assumptions we can make to reduce the number of lens model parameters and therefore dimensionality of non-linear parameter space?\n",
    "\n",
    "Well, we can *always* make assumptions. Below, I'm going to create a phase that assumes that light-traces-mass. That is, that our light-profile's centre, axis_ratio and orientation are perfectly aligned with its mass. This may, or may not, be a reasonable assumption, but it'll remove 4 parameters from the lens model (the mass-profiles y, x, axis_ratio and phi), so its worth trying!"
   ]
  },
  {
   "cell_type": "code",
   "execution_count": null,
   "metadata": {},
   "outputs": [],
   "source": [
    "class LightTracesMassPhase(phase_imaging.PhaseImaging):\n",
    "    def customize_priors(self, results):\n",
    "\n",
    "        # In the pass priors function we can 'pair' any two parameters by setting them equal to one another. This\n",
    "        # removes the parameter on the left-hand side of the pairing from the lens model such that is always assumes\n",
    "        # the same value as the parameter on the right-hand side.\n",
    "        self.galaxies.lens.mass.centre_0 = self.galaxies.lens.light.centre_0\n",
    "\n",
    "        # Now, the mass-profile's y coordinate will only use the y coordinate of the light profile. Lets do this with\n",
    "        # the remaining geometric parameters of the light and mass profiles\n",
    "        self.galaxies.lens.mass.centre_1 = self.galaxies.lens.light.centre_1\n",
    "\n",
    "        self.galaxies.lens.mass.axis_ratio = self.galaxies.lens.light.axis_ratio\n",
    "\n",
    "        self.galaxies.lens.mass.phi = self.galaxies.lens.light.phi"
   ]
  },
  {
   "cell_type": "markdown",
   "metadata": {},
   "source": [
    "Again, we create this phase and run it. The non-linear search now has a less complex parameter space to search."
   ]
  },
  {
   "cell_type": "code",
   "execution_count": null,
   "metadata": {},
   "outputs": [],
   "source": [
    "light_traces_mass_phase = LightTracesMassPhase(\n",
    "    phase_name=\"phase_t4_light_traces_mass\",\n",
    "    galaxies=dict(\n",
    "        lens=gm.GalaxyModel(\n",
    "            redshift=0.5, light=al.light_profiles.EllipticalSersic, mass=al.mass_profiles.EllipticalIsothermal\n",
    "        ),\n",
    "        source=gm.GalaxyModel(redshift=1.0, light=al.light_profiles.EllipticalExponential),\n",
    "    ),\n",
    "    optimizer_class=af.MultiNest,\n",
    ")\n",
    "\n",
    "print(\n",
    "    \"MultiNest has begun running - checkout the workspace/howtolens/chapter_2_lens_modeling/output/4_dealing_with_failure\"\n",
    "    \"folder for live output of the results, images and lens model.\"\n",
    "    \"This Jupyter notebook cell with progress once MultiNest has completed - this could take some time!\"\n",
    ")\n",
    "\n",
    "light_traces_mass_phase_result = light_traces_mass_phase.run(data=ccd_data)\n",
    "\n",
    "print(\"MultiNest has finished run - you may now continue the notebook.\")\n",
    "al.lens_fit_plotters.plot_fit_subplot(fit=light_traces_mass_phase_result.most_likely_fit)"
   ]
  },
  {
   "cell_type": "markdown",
   "metadata": {},
   "source": [
    "The results look pretty good. Our source galaxy fits the data pretty well and we've clearly inferred a model that looks similar to the one above. However, inspection of the residuals shows that the fit wasn't quite as good as the custom-phase above.\n",
    "\n",
    "It turns out that when I simulated this image light didn't perfectly trace mass. The light-profile's axis-ratio was 0.9, whereas the mass-profiles was 0.8. The quality of the fit has suffered as a result and the likelihood we've inferred is lower.\n",
    "\n",
    "Herein lies the pitfalls of making assumptions - they may make your model less realistic and your results worse! Nevertheless, our lens model is clearly much better than it was in the previous tutorial, so making assumptions isn't a bad idea if you're struggling to fit the data well.\n",
    "\n",
    "Again, lets consider the advantages and disadvantages of this approach:\n",
    "\n",
    "Advantage - By reducing parameter space's complexity we inferred a global maximum likelihood.\n",
    "Advantage - The phase is not specific to one lens - we could run it on many strong lens images.\n",
    "Disadvantage - Our model was less realistic and our fit suffered as a result."
   ]
  },
  {
   "cell_type": "markdown",
   "metadata": {},
   "source": [
    "__Approach 3: Look Harder__\n",
    "\n",
    "In approaches 1 and 2 we extended our non-linear search an olive branch and helped it find the highest likelihood regions of parameter space. In approach 3 ,we're going to tell it to just 'look harder'.\n",
    "\n",
    "Basically, every non-linear search algorithm has a set of parameters that govern how thoroughly it searches parameter space. The more thoroughly it looks, the more likely it is that it'll find the global maximum lens model. However, the search will also take longer - and we don't want it to take too long to get some results.\n",
    "\n",
    "Lets setup a phase and overwrite some of the non-linear search's parameters from the defaults it assumes in the 'config/non_linear.ini' config file:"
   ]
  },
  {
   "cell_type": "code",
   "execution_count": null,
   "metadata": {},
   "outputs": [],
   "source": [
    "custom_non_linear_phase = phase_imaging.PhaseImaging(\n",
    "    phase_name=\"phase_t4_custom_non_linear\",\n",
    "    galaxies=dict(\n",
    "        lens=gm.GalaxyModel(\n",
    "            redshift=0.5, light=al.light_profiles.EllipticalSersic, mass=al.mass_profiles.EllipticalIsothermal\n",
    "        ),\n",
    "        source=gm.GalaxyModel(redshift=1.0, light=al.light_profiles.EllipticalExponential),\n",
    "    ),\n",
    "    optimizer_class=af.MultiNest,\n",
    ")"
   ]
  },
  {
   "cell_type": "markdown",
   "metadata": {},
   "source": [
    "The 'optimizer' below is MultiNest, the non-linear search we're using.\n",
    "\n",
    "When MultiNest searches non-linear parameter space it places down a set of 'live-points', each of which corresponds to a particular lens model (set of parameters) with an associted likelihood. When it samples a new lens model with a higher likelihood than any of the currently active live points, this new lens model becomes an active point. As a result, the active point with the lowest likelihood is discarded.\n",
    "\n",
    "The more live points MultiNest uses the more thoroughly it will sample parameter space. Lets increase the number of points from the default value (50) to 100."
   ]
  },
  {
   "cell_type": "code",
   "execution_count": null,
   "metadata": {},
   "outputs": [],
   "source": [
    "custom_non_linear_phase.optimizer.n_live_points = 100"
   ]
  },
  {
   "cell_type": "markdown",
   "metadata": {},
   "source": [
    "When MultiNest find a 'peak' likelihood in parameter space it begins to converge around this peak. It does this by guessing lens models with similar parameters. However, this peak might not be the global maximum, and if MultiNest converges too quickly around a peak it won't realise this before its too late.\n",
    "\n",
    "The sampling efficiency therefore describes how quickly MultiNest converges around a peak. It assumes values between 0.0 and 1.0, where 1.0 corresponds to the fastest convergence but highest risk of not locating the global maximum. Lets reduce the sampling efficiency from 0.8 to 0.5."
   ]
  },
  {
   "cell_type": "code",
   "execution_count": null,
   "metadata": {},
   "outputs": [],
   "source": [
    "custom_non_linear_phase.optimizer.sampling_efficiency = 0.5"
   ]
  },
  {
   "cell_type": "markdown",
   "metadata": {},
   "source": [
    "These are the two most important MultiNest parameters controlling how it navigates parameter space, so lets run this phase and see if our more detailed inspection of parameter space finds the correct lens model."
   ]
  },
  {
   "cell_type": "code",
   "execution_count": null,
   "metadata": {},
   "outputs": [],
   "source": [
    "print(\n",
    "    \"MultiNest has begun running - checkout the workspace/howtolens/chapter_2_lens_modeling/output/4_dealing_with_failure\"\n",
    "    \"folder for live output of the results, images and lens model.\"\n",
    "    \"This Jupyter notebook cell with progress once MultiNest has completed - this could take some time!\"\n",
    ")\n",
    "custom_non_linear_result = custom_non_linear_phase.run(data=ccd_data)\n",
    "print(\"MultiNest has finished run - you may now continue the notebook.\")\n",
    "\n",
    "al.lens_fit_plotters.plot_fit_subplot(fit=custom_non_linear_result.most_likely_fit)"
   ]
  },
  {
   "cell_type": "markdown",
   "metadata": {},
   "source": [
    "Indeed, it does. Thus, we can always brute-force our way to a good lens model, if all else fails.\n",
    "\n",
    "Finally, lets list the advantages and disadvantages of this approach:\n",
    "\n",
    "Advantage - Its easy to setup, we just increase n_live_points or decrease sampling_efficiency.\n",
    "Advantage - It generalizes to any strong lens.\n",
    "Advantage - We didn't have to make our model less realistic.\n",
    "Disadvantage - Its expensive. Very expensive. The run-time of this phase was over 6 hours. For more complex models we could be talking days or weeks (or, dare I say it, months).\n",
    "\n",
    "#o, there we have it, we can now fit strong lenses with PyAutoLens. And if it fails, we know how to get it to work. I hope you're feeling pretty smug. You might even be thinking 'why should I bother with the rest of these tutorials, if I can fit strong a lens already'.\n",
    "\n",
    "Well, my friend, I want you to think about the last disadvantage listed above. If modeling a single lens could really take as long as a month, are you really willing to spend your valuable time waiting for this? I'm not, which is why I developed PyAutoLens, and in the next tutorial we'll see how we can get the best of both worlds - realistic, complex lens model that take mere hours to infer!\n",
    "\n",
    "Before doing that though, I want you to go over the advantages and disadvantages listed above again and think whether we could combine these different approaches to get the best of all worlds."
   ]
  }
 ],
 "metadata": {
  "kernelspec": {
   "display_name": "Python 3",
   "language": "python",
   "name": "python3"
  },
  "language_info": {
   "codemirror_mode": {
    "name": "ipython",
    "version": 3
   },
   "file_extension": ".py",
   "mimetype": "text/x-python",
   "name": "python",
   "nbconvert_exporter": "python",
   "pygments_lexer": "ipython3",
   "version": "3.6.7"
  }
 },
 "nbformat": 4,
 "nbformat_minor": 2
}
