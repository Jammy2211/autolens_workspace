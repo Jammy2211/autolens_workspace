{
  "cells": [
    {
      "cell_type": "markdown",
      "metadata": {},
      "source": [
        "Tutorial 2: Parameter Space and Priors\n",
        "======================================\n",
        "\n",
        "In the previous example, we used a `NonLinearSearch` to infer the best-fit lens model of imaging-imaging of a strong\n",
        "lens. In this example, we'll get a deeper intuition of how a `NonLinearSearch` works.\n",
        "\n",
        "First, I want to develop the idea of a `parameter space`. Lets think of a function, like the simple function below:\n",
        "\n",
        "f(x) = x^2\n",
        "\n",
        "In this function, when we input a parameter x, it returns a value f(x). The mappings between different values of x and\n",
        "f(x) define a parameter space (and if you remember your high school math classes, you'll remember this parameter\n",
        "space is a parabola).\n",
        "\n",
        "A function can of course have multiple parameters:\n",
        "\n",
        "f(x, y, z) = x + y^2 - z^3\n",
        "\n",
        "This function has 3 parameters, x, y and z. The mappings between x, y and z and f(x, y, z) again define a parameter\n",
        "space, albeit now in 3 dimensions. Nevertheless, one could still picture this parameter space as some 3 dimensional\n",
        "curved surface.\n",
        "\n",
        "The process of computing a log likelihood in **PyAutoLens** can be visualized in exactly the same way. We have a set of\n",
        "lens model parameters, which we input into **PyAutoLens**`s `log_likelihood function`. Now, this log likelihood function\n",
        "isn't something that we can write down analytically and its inherently non-linear. But, nevertheless, it is a function;\n",
        "if we put the same set of lens model parameters into it, we'll compute the same log likelihood.\n",
        "\n",
        "We can write our log_likelihood function as follows (using x_mp, y_mp, I_lp etc. as short-hand notation for the\n",
        "`MassProfile` and `LightProfile` parameters):\n",
        "\n",
        "f(x_mp, y_mp, R_mp, x_lp, y_lp, I_lp, R_lp) = a log likelihood from **PyAutoLens**`s `Tracer` and `FitImaging` objects.\n",
        "\n",
        "The point is, like we did for the simple functions above, we again have a parameter space! It can`t be written\n",
        "down analytically and its undoubtedly very complex and non-linear. Fortunately, we've already learnt how to search\n",
        "it, and find the solutions which maximize our log_likelihood function!\n",
        "\n",
        "Lets inspect the results of the last tutorial`s non-linear search. we're going to look at what are called `probably\n",
        "density functions` or PDF`s for short. These represent where the highest log likelihood regions of parameter space were\n",
        "found for each parameter.\n",
        "\n",
        "Navigate to the image folder in `autolens_workspace/output/howtolens/phase_t1_non_linear_search`\n",
        "and open the `pdf_triangle.png` figure. The Gaussian shaped lines running down the diagonal of this triangle represent\n",
        "1D estimates of the highest log likelihood regions that were found in parameter space for each parameter.\n",
        "\n",
        "The remaining figures, which look like contour-maps, show the maximum log likelihood regions in 2D between every\n",
        "parameter pair. We often see that two parameters are `degenerate`, whereby increasing one and decreasing the other\n",
        "leads to a similar log_likelihood value. The 2D PDF between the source-`Galaxy`'s `LightProfile`'s intensity I and\n",
        "effective radius R shows such a degeneracy. This makes sense - making the source galaxy brighter and smaller is\n",
        "similar to making it fainter and bigger!\n",
        "\n",
        "So, how does **PyAutoLens** know where to look in parameter space? A parameter, say, the Einstein Radius, could in\n",
        "principle take any value between negative and positive infinity. **PyAutoLens** must of told it to only search regions of\n",
        "parameter space with `reasonable` values (i.e. Einstein radii of around 1\"-3\").\n",
        "\n",
        "These are our `priors` - which define where we tell the `NonLinearSearch` to search parameter space. These tutorials\n",
        "use two types of prior:\n",
        "\n",
        "UniformPrior:\n",
        "\n",
        " The values of a parameter are randomly drawn between a lower and upper limit. For example, the\n",
        " orientation angle phi of a `Profile` typically assumes a uniform prior between 0.0 and 180.0 degrees.\n",
        "\n",
        "GaussianPrior:\n",
        "\n",
        " The values of a parameter are randomly drawn from a Gaussian distribution with a mean value and a\n",
        " width sigma. For example, an Einstein radius might assume a mean value of 1.0\" and width of sigma = 1.0\".\n",
        "\n",
        "The default priors on all parameters can be found by navigating to the `autolens_workspace/config/priors/` folder,\n",
        "and inspecting config files like light_profiles.json. The convention is as follow:\n",
        "\n",
        "{\n",
        "    \"SphericalIsothermal\": { <- The name of the `Profile` we are defining the default priors of.\n",
        "        \"einstein_radius\": { <- The parameter of the `Profile` we are defining the default priors of.\n",
        "            \"type\": \"Gaussian\", <- The type of prior, in this case a GaussianPrior (other priors are Uniform, LogUniform, etc.)\n",
        "            \"lower_limit\": 0.0, <- The lower physical limit allowed for values of this parameter.\n",
        "            \"upper_limit\": \"inf\", <- The upper physical limit allowed for values of this parameter.\n",
        "            \"width_modifier\": {\n",
        "                \"type\": \"Relative\", <- Ignore these for now.\n",
        "                \"value\": 0.05\n",
        "            },\n",
        "            \"mean\": 1.6, <- The `mean` of the GaussianPrior, telling Dynesty where to sample parameter space.\n",
        "            \"sigma\": 0.01 <- The `sigma` of the GaussianPrior, telling Dynesty how wide to sample this parameter.\n",
        "        }\n",
        "    },\n",
        "}"
      ]
    },
    {
      "cell_type": "code",
      "metadata": {},
      "source": [
        "%matplotlib inline\n",
        "\n",
        "from pyprojroot import here\n",
        "\n",
        "workspace_path = str(here())\n",
        "%cd $workspace_path\n",
        "print(f\"Working Directory has been set to `{workspace_path}`\")\n",
        "\n",
        "from os import path\n",
        "import autolens as al\n",
        "import autolens.plot as aplt\n",
        "import autofit as af"
      ],
      "outputs": [],
      "execution_count": null
    },
    {
      "cell_type": "markdown",
      "metadata": {},
      "source": [
        "we'll use the same strong lensing data as the previous tutorial, where:\n",
        "\n",
        " - The lens `Galaxy`'s total mass distribution is a *SphericalIsothermal*.\n",
        " - The source `Galaxy`'s `LightProfile` is a *SphericalExponential*."
      ]
    },
    {
      "cell_type": "code",
      "metadata": {},
      "source": [
        "dataset_name = \"mass_sis__source_exp\"\n",
        "dataset_path = path.join(\"dataset\", \"howtolens\", \"chapter_2\", dataset_name)\n",
        "\n",
        "imaging = al.Imaging.from_fits(\n",
        "    image_path=path.join(dataset_path, \"image.fits\"),\n",
        "    noise_map_path=path.join(dataset_path, \"noise_map.fits\"),\n",
        "    psf_path=path.join(dataset_path, \"psf.fits\"),\n",
        "    pixel_scales=0.1,\n",
        ")"
      ],
      "outputs": [],
      "execution_count": null
    },
    {
      "cell_type": "markdown",
      "metadata": {},
      "source": [
        "we'll create and use a 3.0\" `Mask2D` again."
      ]
    },
    {
      "cell_type": "code",
      "metadata": {},
      "source": [
        "mask = al.Mask2D.circular(\n",
        "    shape_2d=imaging.shape_2d, pixel_scales=imaging.pixel_scales, radius=3.0\n",
        ")\n",
        "\n",
        "aplt.Imaging.subplot_imaging(imaging=imaging, mask=mask)"
      ],
      "outputs": [],
      "execution_count": null
    },
    {
      "cell_type": "markdown",
      "metadata": {},
      "source": [
        "To change the priors on specific parameters, we create our galaxy models and then, simply, customize their priors."
      ]
    },
    {
      "cell_type": "code",
      "metadata": {},
      "source": [
        "lens = al.GalaxyModel(redshift=0.5, mass=al.mp.SphericalIsothermal)\n",
        "source = al.GalaxyModel(redshift=1.0, bulge=al.lp.SphericalExponential)"
      ],
      "outputs": [],
      "execution_count": null
    },
    {
      "cell_type": "markdown",
      "metadata": {},
      "source": [
        "To change priors, we use the `prior` module of PyAutoFit (imported as af). These priors link our `GalaxyModel` to the \n",
        "non-linear search. Thus, it tells **PyAutoLens** where to search non-linear parameter space.\n",
        "\n",
        "These two lines change the centre of the lens `Galaxy`'s total mass distribution to UniformPriors around the coordinates \n",
        "(-0.1\", 0.1\"). For real lens modeling, this might be done by visually inspecting the centre of emission of the lens \n",
        "_Galaxy_`s light.\n",
        "\n",
        "The word `mass` corresponds to the word we used when setting up the `GalaxyModel` above."
      ]
    },
    {
      "cell_type": "code",
      "metadata": {},
      "source": [
        "lens.mass.centre_0 = af.UniformPrior(lower_limit=-0.1, upper_limit=0.1)\n",
        "lens.mass.centre_1 = af.UniformPrior(lower_limit=-0.1, upper_limit=0.1)"
      ],
      "outputs": [],
      "execution_count": null
    },
    {
      "cell_type": "markdown",
      "metadata": {},
      "source": [
        "Lets also change the prior on the lens `Galaxy`'s einstein radius to a GaussianPrior centred on 1.4\". For real lens \n",
        "modeling, this might be done by visually estimating the radius the lens`s arcs / ring appear."
      ]
    },
    {
      "cell_type": "code",
      "metadata": {},
      "source": [
        "lens.mass.einstein_radius = af.GaussianPrior(mean=1.4, sigma=0.2)"
      ],
      "outputs": [],
      "execution_count": null
    },
    {
      "cell_type": "markdown",
      "metadata": {},
      "source": [
        "We can also customize the source galaxy - lets say we believe it is compact and limit its effective radius."
      ]
    },
    {
      "cell_type": "code",
      "metadata": {},
      "source": [
        "source.bulge.effective_radius = af.UniformPrior(lower_limit=0.0, upper_limit=0.3)"
      ],
      "outputs": [],
      "execution_count": null
    },
    {
      "cell_type": "markdown",
      "metadata": {},
      "source": [
        "Like in the previous tutorial, we use a `SettingsPhaseImaging` object to specify our model-fitting procedure uses a \n",
        "regular `Grid`."
      ]
    },
    {
      "cell_type": "code",
      "metadata": {},
      "source": [
        "settings_masked_imaging = al.SettingsMaskedImaging(grid_class=al.Grid, sub_size=2)\n",
        "\n",
        "settings = al.SettingsPhaseImaging(settings_masked_imaging=settings_masked_imaging)"
      ],
      "outputs": [],
      "execution_count": null
    },
    {
      "cell_type": "markdown",
      "metadata": {},
      "source": [
        "We can now create this custom phase like we did a hyper phase before. If you look at the `model.info` file in the \n",
        "output of the non-linear search, you'll see that the priors have indeed been changed."
      ]
    },
    {
      "cell_type": "code",
      "metadata": {},
      "source": [
        "phase = al.PhaseImaging(\n",
        "    search=af.DynestyStatic(\n",
        "        path_prefix=\"howtolens\", name=\"phase_t2_custom_priors\", n_live_points=40\n",
        "    ),\n",
        "    settings=settings,\n",
        "    galaxies=dict(lens=lens, source=source),\n",
        ")\n",
        "\n",
        "print(\n",
        "    \"Dynesty has begun running - checkout the autolens_workspace/output/2_custom_priors\"\n",
        "    \" folder for live output of the results, images and lens model.\"\n",
        "    \" This Jupyter notebook cell with progress once Dynesty has completed - this could take some time!\"\n",
        ")\n",
        "\n",
        "result = phase.run(dataset=imaging, mask=mask)\n",
        "\n",
        "aplt.FitImaging.subplot_fit_imaging(fit=result.max_log_likelihood_fit)\n",
        "\n",
        "print(\"Dynesty has finished run - you may now continue the notebook.\")"
      ],
      "outputs": [],
      "execution_count": null
    },
    {
      "cell_type": "markdown",
      "metadata": {},
      "source": [
        "And, we're done. This tutorial had some pretty difficult concepts to wrap your head around. However, I can`t emphasize \n",
        "enough how important it is that you develop an intuition for non-linear searches and the notion of a non-linear \n",
        "parameter space. Becoming good at lens modeling is all being able to navigate a complex, degenerate and highly \n",
        "non-linear parameter space! Luckily, we're going to keep thinking about this in the next set of tutorials, so if \n",
        "you're not feeling too confident yet, you will be soon!\n",
        "\n",
        "Before continuing to the next tutorial, I want you think about whether anything could go wrong when we search a \n",
        "non-linear parameter space. Is it possible that we won't find the highest log likelihood lens model? Why might this be?\n",
        "\n",
        "Try and list 3 reasons why this might happen. In the next tutorial, we'll learn about just that - failure!"
      ]
    }
  ],
  "metadata": {
    "anaconda-cloud": {},
    "kernelspec": {
      "display_name": "Python 3",
      "language": "python",
      "name": "python3"
    },
    "language_info": {
      "codemirror_mode": {
        "name": "ipython",
        "version": 3
      },
      "file_extension": ".py",
      "mimetype": "text/x-python",
      "name": "python",
      "nbconvert_exporter": "python",
      "pygments_lexer": "ipython3",
      "version": "3.6.1"
    }
  },
  "nbformat": 4,
  "nbformat_minor": 4
}