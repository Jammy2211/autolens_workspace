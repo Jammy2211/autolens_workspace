{
  "cells": [
    {
      "cell_type": "markdown",
      "metadata": {},
      "source": [
        "Tutorial 3: Realism and Complexity\n",
        "==================================\n",
        "\n",
        "Up to now, we've fitted some fairly crude and unrealistic lens models. For example, we've modeled the lens `Galaxy`'s\n",
        "mass as a sphere. Given most lens galaxies are `elliptical`s we should probably model their mass as elliptical! We've\n",
        "also omitted the lens `Galaxy`'s light, which typically outshines the source galaxy.\n",
        "\n",
        "In this example, we'll start using a more realistic lens model.\n",
        "\n",
        "In my experience, the simplest lens model (e.g. that has the fewest parameters) that provides a good fit to real\n",
        "strong lenses is as follows:\n",
        "\n",
        " 1) An _EllipticalSersic `LightProfile` for the lens `Galaxy`'s light.\n",
        " 2) A `EllipticalIsothermal` (SIE) `MassProfile` for the lens `Galaxy`'s mass.\n",
        " 3) An `EllipticalExponential` `LightProfile`.for the source-`Galaxy`'s light (to be honest, this is too simple,\n",
        " but lets worry about that later).\n",
        "\n",
        "This has a total of 18 non-linear parameters, which is over double the number of parameters we've fitted up to now.\n",
        "In future exercises, we'll fit even more complex models, with some 20-30+ non-linear parameters."
      ]
    },
    {
      "cell_type": "code",
      "metadata": {},
      "source": [
        "%matplotlib inline\n",
        "\n",
        "from pyprojroot import here\n",
        "\n",
        "workspace_path = str(here())\n",
        "%cd $workspace_path\n",
        "print(f\"Working Directory has been set to `{workspace_path}`\")\n",
        "\n",
        "from os import path\n",
        "import autolens as al\n",
        "import autolens.plot as aplt\n",
        "import autofit as af"
      ],
      "outputs": [],
      "execution_count": null
    },
    {
      "cell_type": "markdown",
      "metadata": {},
      "source": [
        "we'll use new strong lensing data, where:\n",
        "\n",
        " - The lens `Galaxy`'s `LightProfile` is an `EllipticalSersic`.\n",
        " - The lens `Galaxy`'s total mass distribution is an `EllipticalIsothermal`.\n",
        " - The source `Galaxy`'s `LightProfile` is an `EllipticalExponential`."
      ]
    },
    {
      "cell_type": "code",
      "metadata": {},
      "source": [
        "dataset_name = \"light_sersic__mass_sie__source_exp\"\n",
        "dataset_path = path.join(\"dataset\", \"howtolens\", \"chapter_2\", dataset_name)\n",
        "\n",
        "imaging = al.Imaging.from_fits(\n",
        "    image_path=path.join(dataset_path, \"image.fits\"),\n",
        "    noise_map_path=path.join(dataset_path, \"noise_map.fits\"),\n",
        "    psf_path=path.join(dataset_path, \"psf.fits\"),\n",
        "    pixel_scales=0.1,\n",
        ")"
      ],
      "outputs": [],
      "execution_count": null
    },
    {
      "cell_type": "markdown",
      "metadata": {},
      "source": [
        "we'll create and use a 2.5\" `Mask2D`."
      ]
    },
    {
      "cell_type": "code",
      "metadata": {},
      "source": [
        "mask = al.Mask2D.circular(\n",
        "    shape_2d=imaging.shape_2d, pixel_scales=imaging.pixel_scales, radius=2.5\n",
        ")"
      ],
      "outputs": [],
      "execution_count": null
    },
    {
      "cell_type": "markdown",
      "metadata": {},
      "source": [
        "When plotted, the lens light`s is clearly visible in the centre of the image."
      ]
    },
    {
      "cell_type": "code",
      "metadata": {},
      "source": [
        "aplt.Imaging.subplot_imaging(imaging=imaging, mask=mask)"
      ],
      "outputs": [],
      "execution_count": null
    },
    {
      "cell_type": "markdown",
      "metadata": {},
      "source": [
        "Like in the previous tutorial, we use a `SettingsPhaseImaging` object to specify our model-fitting procedure uses a \n",
        "regular `Grid`."
      ]
    },
    {
      "cell_type": "code",
      "metadata": {},
      "source": [
        "settings_masked_imaging = al.SettingsMaskedImaging(grid_class=al.Grid, sub_size=2)\n",
        "\n",
        "settings = al.SettingsPhaseImaging(settings_masked_imaging=settings_masked_imaging)"
      ],
      "outputs": [],
      "execution_count": null
    },
    {
      "cell_type": "markdown",
      "metadata": {},
      "source": [
        "Now lets fit the dataset using a phase."
      ]
    },
    {
      "cell_type": "code",
      "metadata": {},
      "source": [
        "phase = al.PhaseImaging(\n",
        "    search=af.DynestyStatic(\n",
        "        path_prefix=\"howtolens\",\n",
        "        name=\"phase_t3_realism_and_complexity\",\n",
        "        n_live_points=80,\n",
        "    ),\n",
        "    settings=settings,\n",
        "    galaxies=dict(\n",
        "        lens_galaxy=al.GalaxyModel(\n",
        "            redshift=0.5, bulge=al.lp.EllipticalSersic, mass=al.mp.EllipticalIsothermal\n",
        "        ),\n",
        "        source_galaxy=al.GalaxyModel(redshift=1.0, bulge=al.lp.EllipticalExponential),\n",
        "    ),\n",
        ")"
      ],
      "outputs": [],
      "execution_count": null
    },
    {
      "cell_type": "markdown",
      "metadata": {},
      "source": [
        "Lets run the phase."
      ]
    },
    {
      "cell_type": "code",
      "metadata": {},
      "source": [
        "print(\n",
        "    \"Dynesty has begun running - checkout the autolens_workspace/output/3_realism_and_complexity\"\n",
        "    \" folder for live output of the results, images and lens model.\"\n",
        "    \" This Jupyter notebook cell with progress once Dynesty has completed - this could take some time!\"\n",
        ")\n",
        "\n",
        "result = phase.run(dataset=imaging, mask=mask)\n",
        "\n",
        "print(\"Dynesty has finished run - you may now continue the notebook.\")"
      ],
      "outputs": [],
      "execution_count": null
    },
    {
      "cell_type": "markdown",
      "metadata": {},
      "source": [
        "And lets look at the fit to the `Imaging` data, which as we are used to fits the data brilliantly!"
      ]
    },
    {
      "cell_type": "code",
      "metadata": {},
      "source": [
        "aplt.FitImaging.subplot_fit_imaging(fit=result.max_log_likelihood_fit)"
      ],
      "outputs": [],
      "execution_count": null
    },
    {
      "cell_type": "markdown",
      "metadata": {},
      "source": [
        "Up to now, all of our non-linear searches have been successes. They find a lens model that provides a visibly good fit\n",
        "to the data, minimizing the residuals and inferring a high log likelihood value. \n",
        "\n",
        "These solutions are called `global` maxima, they correspond to the highest likelihood regions of the entirity of \n",
        "parameter space. There are no other lens models in parameter space that would give higher likelihoods - this is the\n",
        "model we wants to always infer!\n",
        "\n",
        "However, non-linear searches may not always successfully locate the global maxima lens models. They may instead infer \n",
        "a `local maxima`, a solution which has a high log likelihood value relative to the lens models near it in parameter \n",
        "space, but whose log likelihood is significantly below the `global` maxima solution somewhere else in parameter space. \n",
        "\n",
        "Inferring such solutions is essentially a failure of our `NonLinearSearch` and it is something we do not want to\n",
        "happen! Lets infer a local maxima, by reducing the number of `live points` Dynesty uses to map out parameter space.\n",
        "we're going to use so few that it has no hope of locating the global maxima, ultimating finding and inferring a local \n",
        "maxima instead."
      ]
    },
    {
      "cell_type": "code",
      "metadata": {},
      "source": [
        "phase = al.PhaseImaging(\n",
        "    search=af.DynestyStatic(\n",
        "        path_prefix=\"howtolens\",\n",
        "        name=\"phase_t3_realism_and_complexity__local_maxima\",\n",
        "        n_live_points=5,\n",
        "    ),\n",
        "    settings=settings,\n",
        "    galaxies=dict(\n",
        "        lens_galaxy=al.GalaxyModel(\n",
        "            redshift=0.5, bulge=al.lp.EllipticalSersic, mass=al.mp.EllipticalIsothermal\n",
        "        ),\n",
        "        source_galaxy=al.GalaxyModel(redshift=1.0, bulge=al.lp.EllipticalExponential),\n",
        "    ),\n",
        ")\n",
        "\n",
        "print(\n",
        "    \"Dynesty has begun running - checkout the autolens_workspace/output/3_realism_and_complexity\"\n",
        "    \" folder for live output of the results, images and lens model.\"\n",
        "    \" This Jupyter notebook cell with progress once Dynesty has completed - this could take some time!\"\n",
        ")\n",
        "\n",
        "result_local_maxima = phase.run(dataset=imaging, mask=mask)\n",
        "\n",
        "print(\"Dynesty has finished run - you may now continue the notebook.\")"
      ],
      "outputs": [],
      "execution_count": null
    },
    {
      "cell_type": "markdown",
      "metadata": {},
      "source": [
        "And lets look at the fit to the `Imaging` data, which is clearly worse than our original fit above."
      ]
    },
    {
      "cell_type": "code",
      "metadata": {},
      "source": [
        "aplt.FitImaging.subplot_fit_imaging(fit=result_local_maxima.max_log_likelihood_fit)"
      ],
      "outputs": [],
      "execution_count": null
    },
    {
      "cell_type": "markdown",
      "metadata": {},
      "source": [
        "Finally, just to be sure we hit a local maxima, lets compare the maximum log likelihood values of the two results \n",
        "\n",
        "The local maxima value is significantly lower, confirming that our `NonLinearSearch` simply failed to locate lens \n",
        "models which fit the data better when it searched parameter space."
      ]
    },
    {
      "cell_type": "code",
      "metadata": {},
      "source": [
        "print(\"Likelihood of Global Model:\")\n",
        "print(result.max_log_likelihood_fit.log_likelihood)\n",
        "print(\"Likelihood of Local Model:\")\n",
        "print(result_local_maxima.max_log_likelihood_fit.log_likelihood)"
      ],
      "outputs": [],
      "execution_count": null
    },
    {
      "cell_type": "markdown",
      "metadata": {},
      "source": [
        "In this example, we intentionally made our `NonLinearSearch` fail, by using so few live points it had no hope of \n",
        "sampling parameter space thoroughly. For modeling real lenses we wouldn't do this on purpose, but the risk of inferring \n",
        "a local maxima is still very real, especially as we make our lens model more complex.\n",
        "\n",
        "Lets think about *complexity*. As we make our lens model more realistic, we also made it more complex. For this \n",
        "tutorial, our non-linear parameter space went from 7 dimensions to 18. This means there was a much larger *volume* of \n",
        "parameter space to search. As this volume grows, there becomes a higher chance that our `NonLinearSearch` gets lost \n",
        "and infers a local maxima, especially if we don't set it up with enough live points!\n",
        "\n",
        "At its core, lens modeling is all about learning how to get a `NonLinearSearch` to find the global maxima region of \n",
        "parameter space, even when the lens model is extremely complex.\n",
        "\n",
        "And with that, we're done. In the next exercise, we'll learn how to deal with failure and begin thinking about how we \n",
        "can ensure our `NonLinearSearch` finds the global-maximum log likelihood solution. Before that, think about \n",
        "the following:\n",
        "\n",
        " 1) When you look at an image of a strong lens, do you get a sense of roughly what values certain lens model \n",
        " parameters are?\n",
        "    \n",
        " 2) The `NonLinearSearch` failed because parameter space was too complex. Could we make it less complex, whilst \n",
        " still keeping our lens model fairly realistic?\n",
        "    \n",
        " 3) The source galaxy in this example had only 7 non-linear parameters. Real source galaxies may have multiple \n",
        " components (e.g. a bar, disk, bulge, star-forming knot) and there may even be more than 1 source galaxy! Do you \n",
        " think there is any hope of us navigating a parameter space if the source contributes 20+ parameters by itself?"
      ]
    }
  ],
  "metadata": {
    "anaconda-cloud": {},
    "kernelspec": {
      "display_name": "Python 3",
      "language": "python",
      "name": "python3"
    },
    "language_info": {
      "codemirror_mode": {
        "name": "ipython",
        "version": 3
      },
      "file_extension": ".py",
      "mimetype": "text/x-python",
      "name": "python",
      "nbconvert_exporter": "python",
      "pygments_lexer": "ipython3",
      "version": "3.6.1"
    }
  },
  "nbformat": 4,
  "nbformat_minor": 4
}