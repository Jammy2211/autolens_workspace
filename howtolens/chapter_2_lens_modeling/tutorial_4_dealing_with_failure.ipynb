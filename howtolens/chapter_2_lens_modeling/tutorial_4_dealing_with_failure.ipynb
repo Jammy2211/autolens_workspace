{
  "cells": [
    {
      "cell_type": "markdown",
      "metadata": {},
      "source": [
        "Tutorial 4: Dealing With Failure\n",
        "================================\n",
        "\n",
        "In the last tutorial we showed how our `NonLinearSearch` can potentially fail, and infer a local maxima solution.\n",
        "In this tutorial, we're going to learn how to stop this and infer the globally maximal lens model.\n",
        "\n",
        "In the previous tutorial, when we inferred a local maxima we knew that we had done so. For modeling a real lens,\n",
        "we do not know the *true* lens model and it iss often  unclear if a solution is a global or local maximma. The tricks\n",
        "we learn in this tutorial are therefore equally important for verifying that a solution does indeed appear to be the\n",
        "global maxima."
      ]
    },
    {
      "cell_type": "code",
      "metadata": {},
      "source": [
        "%matplotlib inline\n",
        "\n",
        "from pyprojroot import here\n",
        "\n",
        "workspace_path = str(here())\n",
        "%cd $workspace_path\n",
        "print(f\"Working Directory has been set to `{workspace_path}`\")\n",
        "\n",
        "import numpy as np\n",
        "from os import path\n",
        "import autolens as al\n",
        "import autolens.plot as aplt\n",
        "import autofit as af"
      ],
      "outputs": [],
      "execution_count": null
    },
    {
      "cell_type": "markdown",
      "metadata": {},
      "source": [
        "we'll use the same strong lensing data as the previous tutorial, where:\n",
        "\n",
        " - The lens `Galaxy`'s `LightProfile` is an `EllipticalSersic`.\n",
        " - The lens `Galaxy`'s total mass distribution is an `EllipticalIsothermal`.\n",
        " - The source `Galaxy`'s `LightProfile` is an `EllipticalExponential`."
      ]
    },
    {
      "cell_type": "code",
      "metadata": {},
      "source": [
        "dataset_name = \"light_sersic__mass_sie__source_exp\"\n",
        "dataset_path = path.join(\"dataset\", \"howtolens\", \"chapter_2\", dataset_name)\n",
        "\n",
        "imaging = al.Imaging.from_fits(\n",
        "    image_path=path.join(dataset_path, \"image.fits\"),\n",
        "    noise_map_path=path.join(dataset_path, \"noise_map.fits\"),\n",
        "    psf_path=path.join(dataset_path, \"psf.fits\"),\n",
        "    pixel_scales=0.1,\n",
        ")"
      ],
      "outputs": [],
      "execution_count": null
    },
    {
      "cell_type": "markdown",
      "metadata": {},
      "source": [
        "we'll create and use a smaller 2.0\" `Mask2D` again."
      ]
    },
    {
      "cell_type": "code",
      "metadata": {},
      "source": [
        "mask = al.Mask2D.circular(\n",
        "    shape_2d=imaging.shape_2d, pixel_scales=imaging.pixel_scales, radius=2.0\n",
        ")"
      ],
      "outputs": [],
      "execution_count": null
    },
    {
      "cell_type": "markdown",
      "metadata": {},
      "source": [
        "When plotted, the lens light`s is clearly visible in the centre of the image."
      ]
    },
    {
      "cell_type": "code",
      "metadata": {},
      "source": [
        "aplt.Imaging.subplot_imaging(imaging=imaging, mask=mask)"
      ],
      "outputs": [],
      "execution_count": null
    },
    {
      "cell_type": "markdown",
      "metadata": {},
      "source": [
        "Like in the previous tutorials, we use a `SettingsPhaseImaging` object to specify our model-fitting procedure uses a \n",
        "regular `Grid`."
      ]
    },
    {
      "cell_type": "code",
      "metadata": {},
      "source": [
        "settings_masked_imaging = al.SettingsMaskedImaging(grid_class=al.Grid, sub_size=2)\n",
        "\n",
        "settings = al.SettingsPhaseImaging(settings_masked_imaging=settings_masked_imaging)"
      ],
      "outputs": [],
      "execution_count": null
    },
    {
      "cell_type": "markdown",
      "metadata": {},
      "source": [
        "__Approach 1: Prior Tuning__\n",
        "\n",
        "First, we're going to try giving our `NonLinearSearch` a helping hand. Lets think about our priors, they`re telling \n",
        "the `NonLinearSearch` where to look in parameter space. If we tell it to look in the right place (that is, \n",
        "*tune* our priors), it might find the best-fit lens model.\n",
        "\n",
        "We've already seen that we can fully customize priors in **PyAutoLens**, so lets do it. I've set up a custom phase \n",
        "below and specified a new set of priors that'll give the `NonLinearSearch` a much better chance if inferring the \n",
        "correct model. I've also let you know what we're changing the priors from (as initially specified by the \n",
        "`config/priors/default` config files.)\n",
        "\n",
        "we'll call our lens and source galaxies `lens` and `source` this time, for shorter more readable code.\n",
        "\n",
        "In a later tutorial, we'll cover `NonLinearSearch` approaches that are different to Dynesty, where one provides the\n",
        "non-linear search with a *starting point* where it samples parameter space. In a similar fashion to prior tuning,\n",
        "giving these searches a good starting point will increase the chances of us finding the global maxima."
      ]
    },
    {
      "cell_type": "code",
      "metadata": {},
      "source": [
        "lens = al.GalaxyModel(\n",
        "    redshift=0.5, bulge=al.lp.EllipticalSersic, mass=al.mp.EllipticalIsothermal\n",
        ")"
      ],
      "outputs": [],
      "execution_count": null
    },
    {
      "cell_type": "markdown",
      "metadata": {},
      "source": [
        "By default, the prior on the $(y,x)$ coordinates of a `LightProfile` / `MassProfile` is a GaussianPrior with mean 0.0\" and \n",
        "sigma \"1.0. However, visual inspection of our strong lens image tells us that its clearly around x = 0.0\" and y = 0.0\", \n",
        "so lets reduce where `NonLinearSearch` looks for these parameters."
      ]
    },
    {
      "cell_type": "code",
      "metadata": {},
      "source": [
        "lens.bulge.centre.centre_0 = af.UniformPrior(lower_limit=-0.05, upper_limit=0.05)\n",
        "lens.bulge.centre.centre_1 = af.UniformPrior(lower_limit=-0.05, upper_limit=0.05)\n",
        "lens.mass.centre.centre_0 = af.UniformPrior(lower_limit=-0.05, upper_limit=0.05)\n",
        "lens.mass.centre.centre_1 = af.UniformPrior(lower_limit=-0.05, upper_limit=0.05)"
      ],
      "outputs": [],
      "execution_count": null
    },
    {
      "cell_type": "markdown",
      "metadata": {},
      "source": [
        "By default, the elliptical components of the of our lens `Galaxy`'s elliptical `LightProfile` are `UniformPriors` \n",
        "between -1.0 and 1.0, corresponding to the full range of possible ellipses with axis-ratio from 0.0 to 1.0 and \n",
        "position angles from 0.0 to 180.0 degrees.\n",
        "\n",
        "However, looking close to the image it is clear that the lens `Galaxy`'s light is elliptical and oriented around \n",
        "45.0 degrees counter-clockwise from the x-axis. We can update the priors on our elliptical components to reflect this."
      ]
    },
    {
      "cell_type": "code",
      "metadata": {},
      "source": [
        "lens.bulge.elliptical_comps.elliptical_comps_0 = af.GaussianPrior(\n",
        "    mean=0.333333, sigma=0.1, lower_limit=-1.0, upper_limit=1.0\n",
        ")\n",
        "lens.bulge.elliptical_comps.elliptical_comps_1 = af.GaussianPrior(\n",
        "    mean=0.0, sigma=0.1, lower_limit=-1.0, upper_limit=1.0\n",
        ")"
      ],
      "outputs": [],
      "execution_count": null
    },
    {
      "cell_type": "markdown",
      "metadata": {},
      "source": [
        "Lets additionally assume that the `LightProfile`'s ellipticity informs us of the `MassProfile`'s ellipticity. Because \n",
        "this may not strictly be true (e.g. because of dark matter) we'll use a wider prior."
      ]
    },
    {
      "cell_type": "code",
      "metadata": {},
      "source": [
        "lens.mass.elliptical_comps.elliptical_comps_0 = af.GaussianPrior(\n",
        "    mean=0.333333, sigma=0.3, lower_limit=-1.0, upper_limit=1.0\n",
        ")\n",
        "lens.mass.elliptical_comps.elliptical_comps_1 = af.GaussianPrior(\n",
        "    mean=0.0, sigma=0.3, lower_limit=-1.0, upper_limit=1.0\n",
        ")"
      ],
      "outputs": [],
      "execution_count": null
    },
    {
      "cell_type": "markdown",
      "metadata": {},
      "source": [
        "The effective radius of a `LightProfile` is its `half-light` radius, the radius at which 50% of its total luminosity \n",
        "is internal to a circle defined within that radius. **PyAutoLens** assumes a UniformPrior on this quantity between 0.0\" and \n",
        "4.0\", but inspection of the image (again, using a colormap scaling) shows the lens`s light doesn`t extend anywhere near \n",
        "4.0\", so lets reduce it."
      ]
    },
    {
      "cell_type": "code",
      "metadata": {},
      "source": [
        "lens.bulge.effective_radius = af.GaussianPrior(\n",
        "    mean=1.0, sigma=0.8, lower_limit=0.0, upper_limit=np.inf\n",
        ")"
      ],
      "outputs": [],
      "execution_count": null
    },
    {
      "cell_type": "markdown",
      "metadata": {},
      "source": [
        "Typically, we have knowledge of our lens `Galaxy`'s morphology. Most strong lenses are massive elliptical galaxies which \n",
        "have Sersic indexes near 4. So lets change our Sersic index from a UniformPrior between 0.8 and 8.0 to reflect this."
      ]
    },
    {
      "cell_type": "code",
      "metadata": {},
      "source": [
        "lens.bulge.sersic_index = af.GaussianPrior(\n",
        "    mean=4.0, sigma=1.0, lower_limit=0.0, upper_limit=np.inf\n",
        ")"
      ],
      "outputs": [],
      "execution_count": null
    },
    {
      "cell_type": "markdown",
      "metadata": {},
      "source": [
        "Finally, the `ring` that the lensed source forms clearly has a radius of about 1.2\". This is its Einstein radius, so \n",
        "lets change the prior from a UniformPrior between 0.0\" and 4.0\"."
      ]
    },
    {
      "cell_type": "code",
      "metadata": {},
      "source": [
        "lens.mass.einstein_radius = af.GaussianPrior(\n",
        "    mean=1.2, sigma=0.2, lower_limit=0.0, upper_limit=np.inf\n",
        ")"
      ],
      "outputs": [],
      "execution_count": null
    },
    {
      "cell_type": "markdown",
      "metadata": {},
      "source": [
        "In this exercise, I'm not going to change any priors on the source galaxy. Whilst lens modeling experts can look at a \n",
        "strong lens and often tell you roughly where the source-galaxy is located (in the source-plane), it is something of art \n",
        "form. Furthermore, the source's morphology can be pretty complex, making it difficult to come up with a good source prior!"
      ]
    },
    {
      "cell_type": "code",
      "metadata": {},
      "source": [
        "source = al.GalaxyModel(redshift=1.0, bulge=al.lp.EllipticalExponential)"
      ],
      "outputs": [],
      "execution_count": null
    },
    {
      "cell_type": "markdown",
      "metadata": {},
      "source": [
        "We can now create this custom phase and run it. Our `NonLinearSearch` will now start by sampling higher likelihood \n",
        "regions of parameter space, given our improved and more informed priors."
      ]
    },
    {
      "cell_type": "code",
      "metadata": {},
      "source": [
        "phase = al.PhaseImaging(\n",
        "    search=af.DynestyStatic(\n",
        "        path_prefix=\"howtolens\", name=\"phase_t4_custom_priors\", n_live_points=50\n",
        "    ),\n",
        "    settings=settings,\n",
        "    galaxies=dict(lens=lens, source=source),\n",
        ")\n",
        "\n",
        "print(\n",
        "    \"Dynesty has begun running - checkout the workspace/output/4_dealing_with_failure\"\n",
        "    \" folder for live output of the results, images and lens model.\"\n",
        "    \" This Jupyter notebook cell with progress once Dynesty has completed - this could take some time!\"\n",
        ")\n",
        "\n",
        "result_custom_priors = phase.run(dataset=imaging, mask=mask)\n",
        "\n",
        "print(\"Dynesty has finished run - you may now continue the notebook.\")"
      ],
      "outputs": [],
      "execution_count": null
    },
    {
      "cell_type": "markdown",
      "metadata": {},
      "source": [
        "Bam! We get a good model, which indeed corresponds to the global maxima. By giving our `NonLinearSearch` a helping hand\n",
        "and informing it of where to sample parameter space, we can increase the odds that we find the global maxima solution."
      ]
    },
    {
      "cell_type": "code",
      "metadata": {},
      "source": [
        "aplt.FitImaging.subplot_fit_imaging(fit=result_custom_priors.max_log_likelihood_fit)"
      ],
      "outputs": [],
      "execution_count": null
    },
    {
      "cell_type": "markdown",
      "metadata": {},
      "source": [
        "By tuning our priors to the lens we're fitting we can increase our chance of inferring the global maxima lens model. \n",
        "Before moving onto the next approach, lets think about the advantages and disadvantages of prior tuning:\n",
        "\n",
        "Advantages: \n",
        "\n",
        " - We find the maximum log likelihood solution in parameter space.\n",
        " - The phase took less time to run because the `NonLinearSearch` explored less of parameter space.\n",
        "\n",
        "Disadvantages: \n",
        "\n",
        " - If we specified a prior incorrectly the `NonLinearSearch` would begin and therefore end at an incorrect solution.\n",
        " - Our phase was tailored to this specific strong lens. If we want to fit a large sample of lenses we`d \n",
        " have to write a custom phase for every single one - this would take up a lot of our time!"
      ]
    },
    {
      "cell_type": "markdown",
      "metadata": {},
      "source": [
        "__Approach 2: Reducing Complexity__\n",
        "\n",
        "Previously, Our non-linear searched failed because we made the lens model more complex. Can we can make it less complex, \n",
        "whilst still keeping it fairly realistic? Maybe there are some assumptions we can make to reduce the number of \n",
        "lens model parameters and therefore dimensionality of non-linear parameter space?\n",
        "\n",
        "Well, we can *always* make assumptions. Below, I'm going to create a phase that assumes that light-traces-mass. That \n",
        "is, that our `LightProfile`'s centre, and elliptical components are perfectly aligned with its mass. This may, or may \n",
        "not, be a reasonable assumption, but it`ll remove 4 parameters from the lens model (the `MassProfile`'s y, x, and \n",
        "elliptical components), so its worth trying!"
      ]
    },
    {
      "cell_type": "code",
      "metadata": {},
      "source": [
        "lens = al.GalaxyModel(\n",
        "    redshift=0.5, bulge=al.lp.EllipticalSersic, mass=al.mp.EllipticalIsothermal\n",
        ")\n",
        "\n",
        "source = al.GalaxyModel(redshift=1.0, bulge=al.lp.EllipticalExponential)"
      ],
      "outputs": [],
      "execution_count": null
    },
    {
      "cell_type": "markdown",
      "metadata": {},
      "source": [
        "In the pass priors function we can `pair` any two parameters by setting them equal to one another. This removes the \n",
        "parameter on the left-hand side of the pairing from the lens model such that is always assumes the same value as the \n",
        "parameter on the right-hand side."
      ]
    },
    {
      "cell_type": "code",
      "metadata": {},
      "source": [
        "lens.mass.centre = lens.bulge.centre"
      ],
      "outputs": [],
      "execution_count": null
    },
    {
      "cell_type": "markdown",
      "metadata": {},
      "source": [
        "Lets do this with the elliptical components of the light and mass profiles."
      ]
    },
    {
      "cell_type": "code",
      "metadata": {},
      "source": [
        "lens.mass.elliptical_comps = lens.bulge.elliptical_comps"
      ],
      "outputs": [],
      "execution_count": null
    },
    {
      "cell_type": "markdown",
      "metadata": {},
      "source": [
        "Again, we create this phase and run it. The `NonLinearSearch` now has a less complex parameter space to search."
      ]
    },
    {
      "cell_type": "code",
      "metadata": {},
      "source": [
        "phase_light_traces_mass = al.PhaseImaging(\n",
        "    search=af.DynestyStatic(\n",
        "        path_prefix=\"howtolens\", name=\"phase_t4_light_traces_mass\", n_live_points=40\n",
        "    ),\n",
        "    settings=settings,\n",
        "    galaxies=dict(lens=lens, source=source),\n",
        ")\n",
        "\n",
        "print(\n",
        "    \"Dynesty has begun running - checkout the workspace/output/4_dealing_with_failure\"\n",
        "    \" folder for live output of the results, images and lens model.\"\n",
        "    \" This Jupyter notebook cell with progress once Dynesty has completed - this could take some time!\"\n",
        ")\n",
        "\n",
        "result_light_trace_mass = phase_light_traces_mass.run(dataset=imaging, mask=mask)\n",
        "\n",
        "print(\"Dynesty has finished run - you may now continue the notebook.\")\n",
        "\n",
        "aplt.FitImaging.subplot_fit_imaging(fit=result_light_trace_mass.max_log_likelihood_fit)"
      ],
      "outputs": [],
      "execution_count": null
    },
    {
      "cell_type": "markdown",
      "metadata": {},
      "source": [
        "The results look pretty good. Our source galaxy fits the data pretty well and we've clearly inferred a model that \n",
        "looks similar to the one above. However, inspection of the residuals shows that the fit wasn`t quite as good as the \n",
        "custom-phase above.\n",
        "\n",
        "It turns out that when I simulated this image light didn`t perfectly trace mass. The `LightProfile`'s elliptical \n",
        "components were (0.333333, 0.0) whereas the `MassProfile`'s were (0.25, 0.0). The quality of the fit has suffered as a \n",
        "result and the log likelihood we inferred is lower.\n",
        "\n",
        "Herein lies the pitfalls of making assumptions - they may make your model less realistic and your fits worse! \n",
        "\n",
        "Again, lets consider the advantages and disadvantages of this approach:\n",
        "\n",
        "Advantages:\n",
        "\n",
        " - By reducing parameter space`s complexity we inferred a global maximum log likelihood.\n",
        " - The phase is not specific to one lens - we could run it on many strong lens images.\n",
        "    \n",
        "Disadvantages:\n",
        "\n",
        " - Our model was less realistic and our fit suffered as a result."
      ]
    },
    {
      "cell_type": "markdown",
      "metadata": {},
      "source": [
        "__Approach 3: Look Harder__\n",
        "\n",
        "In approaches 1 and 2 we extended our `NonLinearSearch` an olive branch and helped it find the highest log likelihood \n",
        "regions of parameter space. In approach 3 ,we're going to tell it to just `look harder`.\n",
        "\n",
        "Basically, every `NonLinearSearch` has a set of parameters that govern how thoroughly it searches parameter \n",
        "space. The more thoroughly it looks, the more likely it is that it`ll find the global maximum lens model. However, \n",
        "the search will also take longer - and we don't want it to take too long to get us a result!\n",
        "\n",
        "In tutorial 7, we'll discuss non-linear searches in more detail, so we'll defer a detailed discussion of setting up\n",
        "the non-linear searches until then.\n",
        "\n",
        "lets list the advantages and disadvantages of simply adjusting the non-linear search:\n",
        "\n",
        "Advantages:\n",
        "\n",
        " - Its easy to setup, we simply change parameter of the `NonLinearSearch` like n_live_points.\n",
        "    \n",
        " - It generalizes to any strong lens.\n",
        " \n",
        " - We didn`t have to make our model less realistic.\n",
        "\n",
        "Disadvantage:\n",
        " \n",
        " - Its potentially expensive. Very expensive. For very complex models, the run times can begin to take hours, days, \n",
        " weeks or, dare I say it, months!\n",
        "\n",
        "So, we can now fit strong lenses with **PyAutoLens**. And when it fails, we know how to get it to work. I hope you're \n",
        "feeling pretty smug. You might even be thinking `why should I bother with the rest of these tutorials, if I can fit \n",
        "strong a lens already`.\n",
        "\n",
        "Well, my friend, I want you to think about the last disadvantage listed above. If modeling a single lens could really \n",
        "take as long as a month, are you really willing to spend your valuable time waiting for this? I'm not, which is why I \n",
        "developed **PyAutoLens**, and in the next tutorial we'll see how we can get the best of both worlds - realistic, complex \n",
        "lens model that take mere hours to infer!\n",
        "\n",
        "Before doing that though, I want you to go over the advantages and disadvantages listed above again and think whether\n",
        "we could combine these different approaches to get the best of all worlds."
      ]
    }
  ],
  "metadata": {
    "anaconda-cloud": {},
    "kernelspec": {
      "display_name": "Python 3",
      "language": "python",
      "name": "python3"
    },
    "language_info": {
      "codemirror_mode": {
        "name": "ipython",
        "version": 3
      },
      "file_extension": ".py",
      "mimetype": "text/x-python",
      "name": "python",
      "nbconvert_exporter": "python",
      "pygments_lexer": "ipython3",
      "version": "3.6.1"
    }
  },
  "nbformat": 4,
  "nbformat_minor": 4
}