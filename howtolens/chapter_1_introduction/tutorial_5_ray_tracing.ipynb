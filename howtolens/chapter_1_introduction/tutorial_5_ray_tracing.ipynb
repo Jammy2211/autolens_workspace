{
 "cells": [
  {
   "cell_type": "markdown",
   "metadata": {
    "collapsed": true
   },
   "source": [
    "__Ray Tracing__\n",
    "\n",
    "In the last tutorial, our use of planes was a bit clunky. We manually had to input grids to trace them, and keep track of which grids were image-plane grids and which were source plane al. It was easy to make mistakes!\n",
    "\n",
    "Fotunately, in PyAutoLens, you won't actually spend much hands-on time with the plane module. Instead, you'll primarily use the 'ray-tracing' module, which we'll cover in this example. Lets look at how easy it is to setup the same lens-plane + source-plane strong lens configuration as the previous tutorial, but with a lot less lines of code!"
   ]
  },
  {
   "cell_type": "code",
   "execution_count": null,
   "metadata": {},
   "outputs": [],
   "source": [
    "%matplotlib inline\n",
    "\n",
    "import autolens as al"
   ]
  },
  {
   "cell_type": "markdown",
   "metadata": {},
   "source": [
    "Let use the same grid we've all grown to know and love by now!"
   ]
  },
  {
   "cell_type": "code",
   "execution_count": null,
   "metadata": {},
   "outputs": [],
   "source": [
    "image_plane_grid = al.grid.uniform(\n",
    "    shape_2d=(100, 100), pixel_scales=0.05, sub_size=2\n",
    ")"
   ]
  },
  {
   "cell_type": "markdown",
   "metadata": {},
   "source": [
    "For our lens galaxy, we'll use the same SIS mass profile as before."
   ]
  },
  {
   "cell_type": "code",
   "execution_count": null,
   "metadata": {},
   "outputs": [],
   "source": [
    "sis_mass_profile = al.mp.SphericalIsothermal(\n",
    "    centre=(0.0, 0.0), einstein_radius=1.6\n",
    ")\n",
    "\n",
    "lens_galaxy = al.Galaxy(redshift=0.5, mass=sis_mass_profile)\n",
    "\n",
    "print(lens_galaxy)"
   ]
  },
  {
   "cell_type": "markdown",
   "metadata": {},
   "source": [
    "And for our source galaxy, the same Sersic light profile"
   ]
  },
  {
   "cell_type": "code",
   "execution_count": null,
   "metadata": {},
   "outputs": [],
   "source": [
    "sersic_light_profile = al.lp.SphericalSersic(\n",
    "    centre=(0.0, 0.0), intensity=1.0, effective_radius=1.0, sersic_index=1.0\n",
    ")\n",
    "\n",
    "source_galaxy = al.Galaxy(redshift=1.0, light=sersic_light_profile)\n",
    "\n",
    "print(source_galaxy)"
   ]
  },
  {
   "cell_type": "markdown",
   "metadata": {},
   "source": [
    "Now, lets use the lens and source galaxies to ray-trace our grid, using a 'tracer' from the ray-tracing module. When we pass our galaxies into the Tracer below, the following happens:\n",
    "\n",
    "1) The galaxies are ordered in ascending redshift.\n",
    "2) Planes are created at every one of these redshifts, with the galaxies at those redshifts associated with those planes."
   ]
  },
  {
   "cell_type": "code",
   "execution_count": null,
   "metadata": {},
   "outputs": [],
   "source": [
    "tracer = al.Tracer.from_galaxies(\n",
    "    galaxies=[lens_galaxy, source_galaxy],\n",
    ")"
   ]
  },
  {
   "cell_type": "markdown",
   "metadata": {},
   "source": [
    "This tracer is composed of a list of planes, in this case two planes (the image and source plane)."
   ]
  },
  {
   "cell_type": "code",
   "execution_count": null,
   "metadata": {},
   "outputs": [],
   "source": [
    "print(tracer.planes)"
   ]
  },
  {
   "cell_type": "markdown",
   "metadata": {},
   "source": [
    "We can access these using the 'image-plane' and 'source-plane' attributes."
   ]
  },
  {
   "cell_type": "code",
   "execution_count": null,
   "metadata": {},
   "outputs": [],
   "source": [
    "print(\"Image Plane:\")\n",
    "print(tracer.planes[0])\n",
    "print(tracer.image_plane)\n",
    "print()\n",
    "print(\"Source Plane:\")\n",
    "print(tracer.planes[1])\n",
    "print(tracer.source_plane)"
   ]
  },
  {
   "cell_type": "markdown",
   "metadata": {},
   "source": [
    "The most convenient part of the tracer is we can use it to perform fully 'ray-traced' images, without manually setting up the planes to do this. The function below does the following\n",
    "\n",
    "1) Using the lens-galaxy's mass-profile, the deflection angle of every image-plane grid coordinate is computed.\n",
    "2) These deflection angles are used to trace every image-plane coordinate to a source-plane coordinate.\n",
    "3) The light of each traced source-plane coordinate is evaluated using the source-plane galaxy's light profile."
   ]
  },
  {
   "cell_type": "code",
   "execution_count": null,
   "metadata": {},
   "outputs": [],
   "source": [
    "traced_profile_image = tracer.profile_image_from_grid(grid=image_plane_grid)\n",
    "print(\"traced image pixel 1\")\n",
    "print(traced_profile_image[0, 0])\n",
    "print(\"traced image pixel 2\")\n",
    "print(traced_profile_image[0, 1])\n",
    "print(\"traced image pixel 3\")\n",
    "print(traced_profile_image[0, 2])"
   ]
  },
  {
   "cell_type": "markdown",
   "metadata": {},
   "source": [
    "This image appears as the Einstein ring we saw in the previous tutorial."
   ]
  },
  {
   "cell_type": "code",
   "execution_count": null,
   "metadata": {},
   "outputs": [],
   "source": [
    "al.plot.tracer.profile_image(tracer=tracer, grid=image_plane_grid)"
   ]
  },
  {
   "cell_type": "markdown",
   "metadata": {},
   "source": [
    "We can also use the tracer to compute the traced grid of every plane, instead of getting the traced image itself:"
   ]
  },
  {
   "cell_type": "code",
   "execution_count": null,
   "metadata": {},
   "outputs": [],
   "source": [
    "traced_grids = tracer.traced_grids_of_planes_from_grid(\n",
    "    grid=image_plane_grid\n",
    ")"
   ]
  },
  {
   "cell_type": "markdown",
   "metadata": {},
   "source": [
    "And the source-plane's grid has been deflected."
   ]
  },
  {
   "cell_type": "code",
   "execution_count": null,
   "metadata": {},
   "outputs": [],
   "source": [
    "print(\"grid source-plane coordinate 1\")\n",
    "print(traced_grids[1][0,0])\n",
    "print(\"grid source-plane coordinate 2\")\n",
    "print(traced_grids[1][0,1])\n",
    "print(\"grid source-plane coordinate 3\")\n",
    "print(traced_grids[1][0,2])"
   ]
  },
  {
   "cell_type": "markdown",
   "metadata": {},
   "source": [
    "We can use the plane_plotter to plot these grids, like we did before."
   ]
  },
  {
   "cell_type": "code",
   "execution_count": null,
   "metadata": {},
   "outputs": [],
   "source": [
    "al.plot.plane.plane_grid(\n",
    "    plane=tracer.image_plane, grid=traced_grids[0], title=\"Image-plane Grid\"\n",
    ")\n",
    "\n",
    "al.plot.plane.plane_grid(\n",
    "    plane=tracer.source_plane, grid=traced_grids[1], title=\"Source-plane Grid\"\n",
    ")\n",
    "\n",
    "al.plot.plane.plane_grid(\n",
    "    plane=tracer.source_plane,\n",
    "    grid=traced_grids[1],\n",
    "    axis_limits=[-0.1, 0.1, -0.1, 0.1],\n",
    "    title=\"Source-plane Grid\",\n",
    ")"
   ]
  },
  {
   "cell_type": "markdown",
   "metadata": {},
   "source": [
    "PyAutoLens has tools for plotting a tracer. A ray-tracing subplot plots the following:\n",
    "\n",
    "1) The image, computed by tracing the source galaxy's light 'forwards' through the tracer.\n",
    "\n",
    "2) The source-plane image, showing the source galaxy's true appearance (i.e. if it were not lensed).\n",
    "\n",
    "3) The image-plane convergence, computed using the lens galaxy's mass profile.\n",
    "\n",
    "4) The image-plane gravitational potential, computed using the lens galaxy's mass profile.\n",
    "\n",
    "5) The image-plane deflection angles, computed using the lens galaxy's mass profile."
   ]
  },
  {
   "cell_type": "code",
   "execution_count": null,
   "metadata": {},
   "outputs": [],
   "source": [
    "al.plot.tracer.subplot(tracer=tracer, grid=image_plane_grid)"
   ]
  },
  {
   "cell_type": "markdown",
   "metadata": {},
   "source": [
    "Just like for a plane, these quantities attributes can be computed by passing a grid (converted to 2D NumPy arrays the same dimensions as our input grid!)."
   ]
  },
  {
   "cell_type": "code",
   "execution_count": null,
   "metadata": {},
   "outputs": [],
   "source": [
    "convergence = tracer.convergence_from_grid(\n",
    "    grid=image_plane_grid\n",
    ")\n",
    "\n",
    "print(\"Tracer - Convergence - grid coordinate 1:\")\n",
    "print(convergence[0, 0])\n",
    "print(\"Tracer - Convergence - grid coordinate 2:\")\n",
    "print(convergence[0, 1])\n",
    "print(\"Tracer - Convergence - grid coordinate 3:\")\n",
    "print(convergence[0, 2])\n",
    "print(\"Tracer - Convergence - grid coordinate 101:\")\n",
    "print(convergence[1, 0])"
   ]
  },
  {
   "cell_type": "markdown",
   "metadata": {},
   "source": [
    "Of course, these convergences are identical to the image-plane convergences, as it's only the lens galaxy that contributes to the overall mass of the ray-tracing system."
   ]
  },
  {
   "cell_type": "code",
   "execution_count": null,
   "metadata": {},
   "outputs": [],
   "source": [
    "image_plane_convergence = tracer.image_plane.convergence_from_grid(\n",
    "    grid=image_plane_grid\n",
    ")\n",
    "\n",
    "print(\"Image-Plane - Convergence - grid coordinate 1:\")\n",
    "print(image_plane_convergence[0, 0])\n",
    "print(\"Image-Plane - Convergence - grid coordinate 2:\")\n",
    "print(image_plane_convergence[0, 1])\n",
    "print(\"Image-Plane - Convergence - grid coordinate 3:\")\n",
    "print(image_plane_convergence[0, 2])\n",
    "print(\"Image-Plane - Convergence - grid coordinate 101:\")\n",
    "print(image_plane_convergence[1, 0])"
   ]
  },
  {
   "cell_type": "markdown",
   "metadata": {},
   "source": [
    "I've left the rest below commented to avoid too many print statements, but if you're feeling adventurous go ahead and uncomment the lines below!"
   ]
  },
  {
   "cell_type": "code",
   "execution_count": null,
   "metadata": {},
   "outputs": [],
   "source": [
    "# print('Potential:')\n",
    "# print(tracer.potential_from_grid(grid=image_plane_grid))\n",
    "# print(tracer.image_plane.potential_from_grid(grid=image_plane_grid))\n",
    "# print('Deflections:')\n",
    "# print(tracer.deflections_from_grid(grid=image_plane_grid))\n",
    "# print(tracer.deflections_from_grid(grid=image_plane_grid))\n",
    "# print(tracer.image_plane.deflections_from_grid(grid=image_plane_grid))\n",
    "# print(tracer.image_plane.deflections_from_grid(grid=image_plane_grid))"
   ]
  },
  {
   "cell_type": "markdown",
   "metadata": {},
   "source": [
    "You can also plot the above attributes on individual figures, using appropriate ray-tracing plotter (I've left most commented out again for convinience)"
   ]
  },
  {
   "cell_type": "code",
   "execution_count": null,
   "metadata": {},
   "outputs": [],
   "source": [
    "al.plot.tracer.convergence(tracer=tracer, grid=image_plane_grid)\n",
    "\n",
    "# al.plot.tracer.potential(tracer=tracer, grid=image_plane_grid)\n",
    "# al.plot.tracer.deflections_y(tracer=tracer, grid=image_plane_grid)\n",
    "# al.plot.tracer.deflections_x(tracer=tracer, grid=image_plane_grid)\n",
    "# al.plot.tracer.profile_image(tracer=tracer, grid=image_plane_grid)"
   ]
  },
  {
   "cell_type": "markdown",
   "metadata": {},
   "source": [
    "Before we finish, you might be wondering 'why do both the image-plane and tracer have the attributes convergence / potential / deflection angles, when the two are identical'. Afterall, only mass profiles contribute to these quantities, and only the image-plane has galaxies with measureable  mass profiles! There are two reasons:\n",
    "\n",
    "1) Convinience - You could always write 'tracer.image_plane.convergence' and 'al.plot.plane.convergence(plane=tracer.image_plane). However, code appears neater if you can just write 'tracer.convergence' and 'al.plot.tracer.convergence(tracer=tracer).\n",
    "\n",
    "2) Multi-plane lensing - For now, we're focused on the simplest lensing configuratio possible, an image-plane + source-plane configuration. However, there are strong lens system where there are more than 2 planes! In these instances, the  convergence, potential and deflections of each plane is different to the overall values given by the tracer.  This is beyond the scope of this chapter, but be reassured that what you're learning now will prepare you for the advanced chapters later on!\n",
    "\n",
    "And with that, we're done. You've performed your first ray-tracing with PyAutoLens! There are no exercises for this chapter, and we're going to take a deeper look at ray-tracing in the next chapter."
   ]
  }
 ],
 "metadata": {
  "kernelspec": {
   "display_name": "Python 3",
   "language": "python",
   "name": "python3"
  },
  "language_info": {
   "codemirror_mode": {
    "name": "ipython",
    "version": 3
   },
   "file_extension": ".py",
   "mimetype": "text/x-python",
   "name": "python",
   "nbconvert_exporter": "python",
   "pygments_lexer": "ipython3",
   "version": "3.6.8"
  }
 },
 "nbformat": 4,
 "nbformat_minor": 1
}
