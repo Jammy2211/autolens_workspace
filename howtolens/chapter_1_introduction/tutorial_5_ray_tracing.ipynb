{
  "cells": [
    {
      "cell_type": "markdown",
      "metadata": {},
      "source": [
        "Tutorial 5: Ray Tracing\n",
        "=======================\n",
        "\n",
        "In the last tutorial, our use of `Plane`'s was a bit clunky. We manually had to input `Grid`'s to trace them, and keep\n",
        "track of which `Grid`'s were the image-plane`s and which were the source planes. It was easy to make mistakes!\n",
        "\n",
        "Fotunately, in **PyAutoLens**, you won't actually spend much hands-on time with the `Plane` objects. Instead, you`ll\n",
        "primarily use the `ray-tracing` module, which we'll cover in this example. Lets look at how easy it is to setup the\n",
        "same lens-plane + source-plane strong lens configuration as the previous tutorial, but with a lot less lines of code!"
      ]
    },
    {
      "cell_type": "code",
      "metadata": {},
      "source": [
        "%matplotlib inline\n",
        "\n",
        "from pyprojroot import here\n",
        "\n",
        "workspace_path = str(here())\n",
        "%cd $workspace_path\n",
        "print(f\"Working Directory has been set to `{workspace_path}`\")\n",
        "\n",
        "import autolens as al\n",
        "import autolens.plot as aplt"
      ],
      "outputs": [],
      "execution_count": null
    },
    {
      "cell_type": "markdown",
      "metadata": {},
      "source": [
        "Let use the same `Grid` we've all grown to know and love by now!"
      ]
    },
    {
      "cell_type": "code",
      "metadata": {},
      "source": [
        "image_plane_grid = al.Grid.uniform(shape_2d=(100, 100), pixel_scales=0.05, sub_size=2)"
      ],
      "outputs": [],
      "execution_count": null
    },
    {
      "cell_type": "markdown",
      "metadata": {},
      "source": [
        "For our lens galaxy, we'll use the same SIS `MassProfile` as before."
      ]
    },
    {
      "cell_type": "code",
      "metadata": {},
      "source": [
        "sis_mass_profile = al.mp.SphericalIsothermal(centre=(0.0, 0.0), einstein_radius=1.6)\n",
        "\n",
        "lens_galaxy = al.Galaxy(redshift=0.5, mass=sis_mass_profile)\n",
        "\n",
        "print(lens_galaxy)"
      ],
      "outputs": [],
      "execution_count": null
    },
    {
      "cell_type": "markdown",
      "metadata": {},
      "source": [
        "And for our source galaxy, the same `SphericalSersic` `LightProfile`"
      ]
    },
    {
      "cell_type": "code",
      "metadata": {},
      "source": [
        "sersic_light_profile = al.lp.SphericalSersic(\n",
        "    centre=(0.0, 0.0), intensity=1.0, effective_radius=1.0, sersic_index=1.0\n",
        ")\n",
        "\n",
        "source_galaxy = al.Galaxy(redshift=1.0, light=sersic_light_profile)\n",
        "\n",
        "print(source_galaxy)"
      ],
      "outputs": [],
      "execution_count": null
    },
    {
      "cell_type": "markdown",
      "metadata": {},
      "source": [
        "Now, lets use the lens and source galaxies to ray-trace our `Grid`, using a `Tracer` from the ray-tracing module. \n",
        "When we pass our galaxies into the `Tracer` below, the following happens:\n",
        "\n",
        "1) The galaxies are ordered in ascending redshift.\n",
        "2) Planes are created at every one of these redshifts, with the galaxies at those redshifts associated with those planes."
      ]
    },
    {
      "cell_type": "code",
      "metadata": {},
      "source": [
        "tracer = al.Tracer.from_galaxies(galaxies=[lens_galaxy, source_galaxy])"
      ],
      "outputs": [],
      "execution_count": null
    },
    {
      "cell_type": "markdown",
      "metadata": {},
      "source": [
        "This `Tracer` is composed of a list of planes, in this case two `Plane`'s (the image and source plane)."
      ]
    },
    {
      "cell_type": "code",
      "metadata": {},
      "source": [
        "print(tracer.planes)"
      ],
      "outputs": [],
      "execution_count": null
    },
    {
      "cell_type": "markdown",
      "metadata": {},
      "source": [
        "We can access these using the `image-plane` and `source-plane` attributes."
      ]
    },
    {
      "cell_type": "code",
      "metadata": {},
      "source": [
        "print(\"Image Plane:\")\n",
        "print(tracer.planes[0])\n",
        "print(tracer.image_plane)\n",
        "print()\n",
        "print(\"Source Plane:\")\n",
        "print(tracer.planes[1])\n",
        "print(tracer.source_plane)"
      ],
      "outputs": [],
      "execution_count": null
    },
    {
      "cell_type": "markdown",
      "metadata": {},
      "source": [
        "The most convenient part of the `Tracer` is we can use it to create fully `ray-traced` images, without manually \n",
        "setting up the `Plane`'s to do this. The function below does the following\n",
        "\n",
        "1) Using the lens-total mass distribution, the deflection angle of every image-plane `Grid` coordinate is computed.\n",
        "2) These deflection angles are used to trace every image-plane coordinate to a source-plane coordinate.\n",
        "3) The light of each traced source-plane coordinate is evaluated using the source-plane `Galaxy`'s `LightProfile`."
      ]
    },
    {
      "cell_type": "code",
      "metadata": {},
      "source": [
        "traced_image = tracer.image_from_grid(grid=image_plane_grid)\n",
        "print(\"traced image pixel 1\")\n",
        "print(traced_image.in_2d[0, 0])\n",
        "print(\"traced image pixel 2\")\n",
        "print(traced_image.in_2d[0, 1])\n",
        "print(\"traced image pixel 3\")\n",
        "print(traced_image.in_2d[0, 2])"
      ],
      "outputs": [],
      "execution_count": null
    },
    {
      "cell_type": "markdown",
      "metadata": {},
      "source": [
        "This image appears as the Einstein ring we saw in the previous tutorial."
      ]
    },
    {
      "cell_type": "code",
      "metadata": {},
      "source": [
        "aplt.Tracer.image(tracer=tracer, grid=image_plane_grid)"
      ],
      "outputs": [],
      "execution_count": null
    },
    {
      "cell_type": "markdown",
      "metadata": {},
      "source": [
        "We can also use the `Tracer` to compute the traced `Grid` of every plane, instead of getting the traced image itself:"
      ]
    },
    {
      "cell_type": "code",
      "metadata": {},
      "source": [
        "traced_grids = tracer.traced_grids_of_planes_from_grid(grid=image_plane_grid)"
      ],
      "outputs": [],
      "execution_count": null
    },
    {
      "cell_type": "markdown",
      "metadata": {},
      "source": [
        "And the source-plane`s `Grid` has been deflected."
      ]
    },
    {
      "cell_type": "code",
      "metadata": {},
      "source": [
        "print(\"grid source-plane coordinate 1\")\n",
        "print(traced_grids[1].in_2d[0, 0])\n",
        "print(\"grid source-plane coordinate 2\")\n",
        "print(traced_grids[1].in_2d[0, 1])\n",
        "print(\"grid source-plane coordinate 3\")\n",
        "print(traced_grids[1].in_2d[0, 2])"
      ],
      "outputs": [],
      "execution_count": null
    },
    {
      "cell_type": "markdown",
      "metadata": {},
      "source": [
        "We can use the plane_plotter to plot these grids, like we did before."
      ]
    },
    {
      "cell_type": "code",
      "metadata": {},
      "source": [
        "plotter = aplt.Plotter(labels=aplt.Labels(title=\"Image-plane Grid\"))\n",
        "\n",
        "aplt.Plane.plane_grid(plane=tracer.image_plane, grid=traced_grids[0], plotter=plotter)\n",
        "\n",
        "plotter = aplt.Plotter(labels=aplt.Labels(title=\"Source-plane Grid\"))\n",
        "\n",
        "aplt.Plane.plane_grid(plane=tracer.source_plane, grid=traced_grids[1], plotter=plotter)\n",
        "\n",
        "aplt.Plane.plane_grid(\n",
        "    plane=tracer.source_plane,\n",
        "    grid=traced_grids[1],\n",
        "    axis_limits=[-0.1, 0.1, -0.1, 0.1],\n",
        "    plotter=plotter,\n",
        ")"
      ],
      "outputs": [],
      "execution_count": null
    },
    {
      "cell_type": "markdown",
      "metadata": {},
      "source": [
        "__PyAutoLens__ has tools for plotting a `Tracer`. A ray-tracing subplot plots the following:\n",
        "\n",
        "1) The image, computed by tracing the source-`Galaxy`'s light `forwards` through the `Tracer`.\n",
        "\n",
        "2) The source-plane image, showing the source-`Galaxy`'s true appearance (i.e. if it were not lensed).\n",
        "\n",
        "3) The image-plane convergence, computed using the lens `Galaxy`'s total mass distribution.\n",
        "\n",
        "4) The image-plane gravitational potential, computed using the lens `Galaxy`'s total mass distribution.\n",
        "\n",
        "5) The image-plane deflection angles, computed using the lens `Galaxy`'s total mass distribution."
      ]
    },
    {
      "cell_type": "code",
      "metadata": {},
      "source": [
        "aplt.Tracer.subplot_tracer(tracer=tracer, grid=image_plane_grid)"
      ],
      "outputs": [],
      "execution_count": null
    },
    {
      "cell_type": "markdown",
      "metadata": {},
      "source": [
        "Just like for a plane, these quantities attributes can be computed by passing a `Grid` (converted to 2D ndarrays\n",
        "the same dimensions as our input grid!)."
      ]
    },
    {
      "cell_type": "code",
      "metadata": {},
      "source": [
        "convergence = tracer.convergence_from_grid(grid=image_plane_grid)\n",
        "\n",
        "print(\"Tracer - Convergence - `Grid` coordinate 1:\")\n",
        "print(convergence.in_2d[0, 0])\n",
        "print(\"Tracer - Convergence - `Grid` coordinate 2:\")\n",
        "print(convergence.in_2d[0, 1])\n",
        "print(\"Tracer - Convergence - `Grid` coordinate 3:\")\n",
        "print(convergence.in_2d[0, 2])\n",
        "print(\"Tracer - Convergence - `Grid` coordinate 101:\")\n",
        "print(convergence.in_2d[1, 0])"
      ],
      "outputs": [],
      "execution_count": null
    },
    {
      "cell_type": "markdown",
      "metadata": {},
      "source": [
        "Of course, these convergences are identical to the image-plane convergences, as it`s only the lens galaxy that \n",
        "contributes to the overall mass of the ray-tracing system."
      ]
    },
    {
      "cell_type": "code",
      "metadata": {},
      "source": [
        "image_plane_convergence = tracer.image_plane.convergence_from_grid(\n",
        "    grid=image_plane_grid\n",
        ")\n",
        "\n",
        "print(\"Image-Plane - Convergence - `Grid` coordinate 1:\")\n",
        "print(image_plane_convergence.in_2d[0, 0])\n",
        "print(\"Image-Plane - Convergence - `Grid` coordinate 2:\")\n",
        "print(image_plane_convergence.in_2d[0, 1])\n",
        "print(\"Image-Plane - Convergence - `Grid` coordinate 3:\")\n",
        "print(image_plane_convergence.in_2d[0, 2])\n",
        "print(\"Image-Plane - Convergence - `Grid` coordinate 101:\")\n",
        "print(image_plane_convergence.in_2d[1, 0])"
      ],
      "outputs": [],
      "execution_count": null
    },
    {
      "cell_type": "markdown",
      "metadata": {},
      "source": [
        "I`ve left the rest below commented to avoid too many print statements, but if you`re feeling adventurous go ahead \n",
        "and uncomment the lines below!"
      ]
    },
    {
      "cell_type": "code",
      "metadata": {},
      "source": [
        "# print(`Potential:`)\n",
        "# print(tracer.potential_from_grid(grid=image_plane_grid))\n",
        "# print(tracer.image_plane.potential_from_grid(grid=image_plane_grid))\n",
        "# print(`Deflections:`)\n",
        "# print(tracer.deflections_from_grid(grid=image_plane_grid))\n",
        "# print(tracer.deflections_from_grid(grid=image_plane_grid))\n",
        "# print(tracer.image_plane.deflections_from_grid(grid=image_plane_grid))\n",
        "# print(tracer.image_plane.deflections_from_grid(grid=image_plane_grid))"
      ],
      "outputs": [],
      "execution_count": null
    },
    {
      "cell_type": "markdown",
      "metadata": {},
      "source": [
        "You can also plot the above attributes on individual figures, using appropriate ray-tracing `Plotter` (I`ve left most \n",
        "commented out again for convenience)"
      ]
    },
    {
      "cell_type": "code",
      "metadata": {},
      "source": [
        "aplt.Tracer.convergence(tracer=tracer, grid=image_plane_grid)\n",
        "\n",
        "# aplt.Tracer.potential(tracer=tracer, grid=image_plane_grid)\n",
        "# aplt.Tracer.deflections_y(tracer=tracer, grid=image_plane_grid)\n",
        "# aplt.Tracer.deflections_x(tracer=tracer, grid=image_plane_grid)\n",
        "# aplt.Tracer.image(tracer=tracer, grid=image_plane_grid)"
      ],
      "outputs": [],
      "execution_count": null
    },
    {
      "cell_type": "markdown",
      "metadata": {},
      "source": [
        "Before we finish, you might be wondering `why do both the image-plane and `Tracer` have the attributes convergence / \n",
        "potential / deflection angles, when the two are identical`. Afterall, only `MassProfile`'s contribute to these\n",
        "quantities, and only the image-plane has galaxies with measureable  `MassProfile`'s! There are two reasons:\n",
        "\n",
        "Convenience: \n",
        "\n",
        " You could always write `tracer.image_plane.convergence` and `aplt.Plane.convergence(plane=tracer.image_plane). \n",
        " However, code appears neater if you can just write `tracer.convergence` and `aplt.Tracer.convergence(tracer=tracer).\n",
        "\n",
        "Multi-plane lensing:\n",
        " \n",
        " For now, we`re focused on the simplest lensing configuratio possible, an image-plane + source-plane configuration. \n",
        " However, there are strong lens system where there are more than 2 planes! \n",
        "\n",
        " In these instances, the  convergence, potential and deflections of each plane is different to the overall values \n",
        " given by the `Tracer`.  This is beyond the scope of this chapter, but be reassured that what you`re learning now \n",
        " will prepare you for the advanced chapters later on!\n",
        "\n",
        "And with that, we`re done. You`ve performed your first ray-tracing with **PyAutoLens**! There are no exercises for this \n",
        "chapter, and we`re going to take a deeper look at ray-tracing in the next chapter."
      ]
    }
  ],
  "metadata": {
    "anaconda-cloud": {},
    "kernelspec": {
      "display_name": "Python 3",
      "language": "python",
      "name": "python3"
    },
    "language_info": {
      "codemirror_mode": {
        "name": "ipython",
        "version": 3
      },
      "file_extension": ".py",
      "mimetype": "text/x-python",
      "name": "python",
      "nbconvert_exporter": "python",
      "pygments_lexer": "ipython3",
      "version": "3.6.1"
    }
  },
  "nbformat": 4,
  "nbformat_minor": 4
}