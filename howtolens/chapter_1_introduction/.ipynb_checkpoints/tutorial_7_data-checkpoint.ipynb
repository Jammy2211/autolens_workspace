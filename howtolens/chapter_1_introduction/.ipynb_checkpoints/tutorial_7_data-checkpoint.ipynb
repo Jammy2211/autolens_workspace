{
 "cells": [
  {
   "cell_type": "markdown",
   "metadata": {},
   "source": [
    "__Imaging DATA__\n",
    "\n",
    "In this example, we'll use the 'imaging' module to simulate imaging of a strong lens made using a tracer. By simulate, we mean that it will appear as if we had observed it using a real telescope, with this example making an image representative of Hubble Space Telescope imaging."
   ]
  },
  {
   "cell_type": "code",
   "execution_count": null,
   "metadata": {},
   "outputs": [],
   "source": [
    "%matplotlib inline\n",
    "\n",
    "import autolens as al\n",
    "import autolens.plot as aplt"
   ]
  },
  {
   "cell_type": "markdown",
   "metadata": {},
   "source": [
    "To simulate an image, we need to model the telescope's optics. We'll do this by convolving the image with a Point-Spread Function, which we can simulate as a Gaussian using the abstract data module."
   ]
  },
  {
   "cell_type": "code",
   "execution_count": null,
   "metadata": {},
   "outputs": [],
   "source": [
    "psf = al.kernel.from_gaussian(shape_2d=(11, 11), sigma=0.1, pixel_scales=0.1)"
   ]
  },
  {
   "cell_type": "markdown",
   "metadata": {},
   "source": [
    "To simulate imaging instrument, we use a grid, like usual."
   ]
  },
  {
   "cell_type": "code",
   "execution_count": null,
   "metadata": {},
   "outputs": [],
   "source": [
    "grid = al.grid.uniform(\n",
    "    shape_2d=(100, 100), pixel_scales=0.1, sub_size=2\n",
    ")"
   ]
  },
  {
   "cell_type": "markdown",
   "metadata": {},
   "source": [
    "Now, lets setup our lens galaxy, source galaxy and tracer."
   ]
  },
  {
   "cell_type": "code",
   "execution_count": null,
   "metadata": {},
   "outputs": [],
   "source": [
    "lens_galaxy = al.Galaxy(\n",
    "    redshift=0.5,\n",
    "    mass=al.mp.EllipticalIsothermal(\n",
    "        centre=(0.0, 0.0), einstein_radius=1.6, axis_ratio=0.7, phi=45.0\n",
    "    ),\n",
    ")\n",
    "\n",
    "source_galaxy = al.Galaxy(\n",
    "    redshift=1.0,\n",
    "    light=al.lp.EllipticalSersic(\n",
    "        centre=(0.1, 0.1),\n",
    "        axis_ratio=0.8,\n",
    "        phi=45.0,\n",
    "        intensity=1.0,\n",
    "        effective_radius=1.0,\n",
    "        sersic_index=2.5,\n",
    "    ),\n",
    ")\n",
    "\n",
    "tracer = al.Tracer.from_galaxies(galaxies=[lens_galaxy, source_galaxy])"
   ]
  },
  {
   "cell_type": "markdown",
   "metadata": {},
   "source": [
    "Lets look at the tracer's image - this is the image we'll be simulating."
   ]
  },
  {
   "cell_type": "code",
   "execution_count": null,
   "metadata": {},
   "outputs": [],
   "source": [
    "aplt.tracer.profile_image(tracer=tracer, grid=grid)"
   ]
  },
  {
   "cell_type": "markdown",
   "metadata": {},
   "source": [
    "To Simulate the Imaging data, we don't use the image plotted above. Instead, we use an image which has been generated  specifically for simulating an image, which pads the array it is computed on based on the shape of the PSF we  convolve the image with. This ensures edge-effects do not degrade our simulation's PSF convolution."
   ]
  },
  {
   "cell_type": "code",
   "execution_count": null,
   "metadata": {},
   "outputs": [],
   "source": [
    "normal_image = tracer.profile_image_from_grid(grid=grid)\n",
    "padded_image = tracer.padded_profile_image_from_grid_and_psf_shape(\n",
    "    grid=grid, psf_shape_2d=psf.shape_2d\n",
    ")\n",
    "print(normal_image.shape)\n",
    "print(padded_image.shape)"
   ]
  },
  {
   "cell_type": "markdown",
   "metadata": {},
   "source": [
    "Now, to simulate the imaging data, we pass the tracer and grid to the imaging module's simulate function. This adds the following effects to the image:\n",
    "\n",
    "1) Telescope optics: Using the Point Spread Function above.\n",
    "2) The Background Sky: Although the image that is returned is automatically background sky subtracted.\n",
    "3) Poisson noise: Due to the background sky, lens galaxy and source galaxy Poisson photon counts."
   ]
  },
  {
   "cell_type": "code",
   "execution_count": null,
   "metadata": {},
   "outputs": [],
   "source": [
    "simulator = al.simulator.imaging(\n",
    "    shape_2d=grid.shape_2d,\n",
    "    pixel_scales=0.1,\n",
    "    sub_size=grid.sub_size,\n",
    "    exposure_time=300.0,\n",
    "    psf=psf,\n",
    "    background_level=0.1,\n",
    "    add_noise=True,\n",
    ")\n",
    "\n",
    "imaging = simulator.from_tracer(tracer=tracer)"
   ]
  },
  {
   "cell_type": "markdown",
   "metadata": {},
   "source": [
    "Lets plot the image - we can see the image has been blurred due to the telescope optics and noise has been added."
   ]
  },
  {
   "cell_type": "code",
   "execution_count": null,
   "metadata": {},
   "outputs": [],
   "source": [
    "aplt.imaging.image(imaging=imaging)"
   ]
  },
  {
   "cell_type": "markdown",
   "metadata": {},
   "source": [
    "Finally, lets output these files to.fits files, we'll begin to analyze them in the next tutorial!"
   ]
  },
  {
   "cell_type": "markdown",
   "metadata": {},
   "source": [
    "The data path specifies where the data is output, this time in the directory 'chapter_path/data'"
   ]
  },
  {
   "cell_type": "code",
   "execution_count": null,
   "metadata": {},
   "outputs": [],
   "source": [
    "chapter_path = \"/path/to/AutoLens/workspace/howtolens/chapter_1_introduction\"\n",
    "chapter_path = (\n",
    "    \"/home/jammy/PycharmProjects/PyAuto/autolens_workspace/howtolens/chapter_1_introduction/\"\n",
    ")"
   ]
  },
  {
   "cell_type": "code",
   "execution_count": null,
   "metadata": {},
   "outputs": [],
   "source": [
    "dataset_path = chapter_path + \"dataset/\""
   ]
  },
  {
   "cell_type": "markdown",
   "metadata": {},
   "source": [
    "Now output our simulated data to hard-disk."
   ]
  },
  {
   "cell_type": "code",
   "execution_count": null,
   "metadata": {},
   "outputs": [],
   "source": [
    "imaging.output_to_fits(\n",
    "    image_path=dataset_path + \"image.fits\",\n",
    "    noise_map_path=dataset_path + \"noise_map.fits\",\n",
    "    psf_path=dataset_path + \"psf.fits\",\n",
    "    overwrite=True,\n",
    ")"
   ]
  },
  {
   "cell_type": "code",
   "execution_count": null,
   "metadata": {},
   "outputs": [],
   "source": []
  }
 ],
 "metadata": {
  "kernelspec": {
   "display_name": "Python 3",
   "language": "python",
   "name": "python3"
  },
  "language_info": {
   "codemirror_mode": {
    "name": "ipython",
    "version": 3
   },
   "file_extension": ".py",
   "mimetype": "text/x-python",
   "name": "python",
   "nbconvert_exporter": "python",
   "pygments_lexer": "ipython3",
   "version": "3.6.9"
  }
 },
 "nbformat": 4,
 "nbformat_minor": 2
}
