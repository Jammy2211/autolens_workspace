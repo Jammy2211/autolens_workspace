{
 "cells": [
  {
   "cell_type": "markdown",
   "metadata": {
    "collapsed": true
   },
   "source": [
    "__Profiles__\n",
    "\n",
    "In this example, we'll create a grid of Cartesian (y,x) coordinates and pass it to the 'light_profiles'  module to create images on this grid and the 'mass_profiles' module to create deflection-angle maps on this grid. "
   ]
  },
  {
   "cell_type": "code",
   "execution_count": null,
   "metadata": {},
   "outputs": [],
   "source": [
    "%matplotlib inline\n",
    "\n",
    "from autolens.model.profiles import light_profiles\n",
    "from autolens.model.profiles import mass_profiles\n",
    "from autolens.array import grids\n",
    "from autolens.model.profiles.plotters import profile_plotters"
   ]
  },
  {
   "cell_type": "markdown",
   "metadata": {},
   "source": [
    "Lets use the same grid as the previous tutorial (if you skipped that tutorial, I recommend you go back to it!)"
   ]
  },
  {
   "cell_type": "code",
   "execution_count": null,
   "metadata": {},
   "outputs": [],
   "source": [
    "grid = grids.Grid.from_shape_pixel_scale_and_sub_grid_size(\n",
    "    shape=(100, 100), pixel_scale=0.05, sub_grid_size=2\n",
    ")"
   ]
  },
  {
   "cell_type": "markdown",
   "metadata": {},
   "source": [
    "Next, lets create a light profile using the 'light_profiles' module. We'll use a Sersic function, which is a analytic function often use to depict galaxies."
   ]
  },
  {
   "cell_type": "code",
   "execution_count": null,
   "metadata": {},
   "outputs": [],
   "source": [
    "sersic_light_profile = light_profiles.EllipticalSersic(\n",
    "    centre=(0.0, 0.0),\n",
    "    axis_ratio=0.8,\n",
    "    phi=45.0,\n",
    "    intensity=1.0,\n",
    "    effective_radius=1.0,\n",
    "    sersic_index=2.5,\n",
    ")"
   ]
  },
  {
   "cell_type": "markdown",
   "metadata": {},
   "source": [
    "We can print a profile to confirm its parameters."
   ]
  },
  {
   "cell_type": "code",
   "execution_count": null,
   "metadata": {},
   "outputs": [],
   "source": [
    "print(sersic_light_profile)"
   ]
  },
  {
   "cell_type": "markdown",
   "metadata": {},
   "source": [
    "We can pass a grid to a light profile to compute its intensity at every grid coordinate. When we compute an array from a grid using a '_from_grid' method like the one below, we have two options for how the calculation is performed:\n",
    "\n",
    "1) The values (e.g. the image) are calculated on the sub-grid. The function will either return the values on this sub grid or bin the sub-gridded values to the grids actual shape (in this case (100, 100)).\n",
    "\n",
    "2) The values are either mapped to the 2D shape of the grid (100, 100) or returned as a flattened 1D NumPy array, on either the sub-grid (e.g. 40000 values) or non sub-gridded array (10000 values).\n",
    "\n",
    "This behaviour is determined by two boolean inputs, 'return_in_2d' and 'return_binned'."
   ]
  },
  {
   "cell_type": "code",
   "execution_count": null,
   "metadata": {},
   "outputs": [],
   "source": [
    "light_profile_image = sersic_light_profile.profile_image_from_grid(\n",
    "    grid=grid, return_in_2d=True, return_binned=True,\n",
    ")"
   ]
  },
  {
   "cell_type": "markdown",
   "metadata": {},
   "source": [
    "In this case, the array is returned in 2D and binned up to the shape of the input grid (100, 100)."
   ]
  },
  {
   "cell_type": "code",
   "execution_count": null,
   "metadata": {},
   "outputs": [],
   "source": [
    "print(\"intensity of central grid pixels:\")\n",
    "print(light_profile_image[49, 49])\n",
    "print(light_profile_image[49, 50])\n",
    "print(light_profile_image[50, 49])\n",
    "print(light_profile_image[50, 50])"
   ]
  },
  {
   "cell_type": "markdown",
   "metadata": {},
   "source": [
    "We can return the binned-up array in 1D."
   ]
  },
  {
   "cell_type": "code",
   "execution_count": null,
   "metadata": {},
   "outputs": [],
   "source": [
    "light_profile_image = sersic_light_profile.profile_image_from_grid(\n",
    "    grid=grid, return_in_2d=False, return_binned=True,\n",
    ")"
   ]
  },
  {
   "cell_type": "code",
   "execution_count": null,
   "metadata": {},
   "outputs": [],
   "source": [
    "print(\"intensity of grid pixel 1:\")\n",
    "print(light_profile_image[0])\n",
    "print(\"intensity of grid pixel 2:\")\n",
    "print(light_profile_image[1])\n",
    "print()"
   ]
  },
  {
   "cell_type": "markdown",
   "metadata": {},
   "source": [
    "1D flattening occurs from the top-left pixel, and goes rightwards and downwards. Thus, because the light profile is centered at (0.0, 0.0), the central pixels are the brightest."
   ]
  },
  {
   "cell_type": "code",
   "execution_count": null,
   "metadata": {},
   "outputs": [],
   "source": [
    "print(\"intensity of central grid pixels:\")\n",
    "print(light_profile_image[4949])\n",
    "print(light_profile_image[4950])\n",
    "print(light_profile_image[5049])\n",
    "print(light_profile_image[5050])"
   ]
  },
  {
   "cell_type": "markdown",
   "metadata": {},
   "source": [
    "If we set return_binned to False, we return the values on the sub-grid, which for a sub_grid_size of 2 gives us 4 times as many values."
   ]
  },
  {
   "cell_type": "code",
   "execution_count": null,
   "metadata": {},
   "outputs": [],
   "source": [
    "light_profile_image = sersic_light_profile.profile_image_from_grid(\n",
    "    grid=grid, return_in_2d=False, return_binned=False,\n",
    ")\n",
    "print(\"Number of sub pixels = \", light_profile_image.shape[0])"
   ]
  },
  {
   "cell_type": "markdown",
   "metadata": {},
   "source": [
    "By default, all arrays from a 'from_grid' method are returned in 2D and binned up, so if you don't specify these boolean inputs you'll get the result in the most intuitive format."
   ]
  },
  {
   "cell_type": "code",
   "execution_count": null,
   "metadata": {},
   "outputs": [],
   "source": [
    "light_profile_image = sersic_light_profile.profile_image_from_grid(\n",
    "    grid=grid,\n",
    ")\n",
    "print(\"intensity of central grid pixels:\")\n",
    "print(light_profile_image[49, 49])\n",
    "print(light_profile_image[49, 50])\n",
    "print(light_profile_image[50, 49])\n",
    "print(light_profile_image[50, 50])"
   ]
  },
  {
   "cell_type": "markdown",
   "metadata": {},
   "source": [
    "The 'return_in_2d' and 'return_binned' inputs are on pretty much *every* _from_grid methods in PyAutoLens!"
   ]
  },
  {
   "cell_type": "markdown",
   "metadata": {},
   "source": [
    "We can use a profile plotter to plot this intensity map (this maps the grid to 2D before plotting)."
   ]
  },
  {
   "cell_type": "code",
   "execution_count": null,
   "metadata": {},
   "outputs": [],
   "source": [
    "profile_plotters.plot_image(light_profile=sersic_light_profile, grid=grid)"
   ]
  },
  {
   "cell_type": "markdown",
   "metadata": {},
   "source": [
    "To perform ray-tracing, we need to create a 'mass-profile'. A mass-profile is an analytic function that describes the distribution of mass in a galaxy, and therefore can be used to derive its surface-density, gravitational potential and most importantly, its deflection angles. For those unfamiliar with lensing, the deflection angles describe how light is bent by the mass-profile due to the curvature of space-time.\n",
    "\n",
    "Lets create a singular isothermal sphere (SIS) mass-profile using the 'mass-profiles' module."
   ]
  },
  {
   "cell_type": "code",
   "execution_count": null,
   "metadata": {},
   "outputs": [],
   "source": [
    "sis_mass_profile = mass_profiles.SphericalIsothermal(\n",
    "    centre=(0., 0.), einstein_radius=1.6\n",
    ")\n",
    "\n",
    "print(sis_mass_profile)"
   ]
  },
  {
   "cell_type": "markdown",
   "metadata": {},
   "source": [
    "Just like above, we can pass a grid to a mass-profile to compute its deflection angles (still in 1D)\n",
    "\n",
    "(If you are new to gravitiational lensing, and are unclear on what a 'deflection-angle' means or what it is used for, then I'll explain all in tutorial 4 of this chapter. For now, just look at the pretty pictures they make, and worry about what they mean in tutorial 4!)."
   ]
  },
  {
   "cell_type": "code",
   "execution_count": null,
   "metadata": {},
   "outputs": [],
   "source": [
    "mass_profile_deflections = sis_mass_profile.deflections_from_grid(\n",
    "    grid=grid, return_in_2d=True, return_binned=True,\n",
    ")\n",
    "\n",
    "print(\"deflection-angles of grid pixel 0:\")\n",
    "print(mass_profile_deflections[0, 0])\n",
    "print(\"deflection-angles of grid pixel 1:\")\n",
    "print(mass_profile_deflections[0, 1])\n",
    "print()\n",
    "print(\"deflection-angles of central grid pixels:\")\n",
    "print(mass_profile_deflections[49, 49])\n",
    "print(mass_profile_deflections[49, 50])\n",
    "print(mass_profile_deflections[50, 49])\n",
    "print(mass_profile_deflections[50, 50])"
   ]
  },
  {
   "cell_type": "markdown",
   "metadata": {},
   "source": [
    "And again, a profile plotter can plot these deflection angles in 2D."
   ]
  },
  {
   "cell_type": "code",
   "execution_count": null,
   "metadata": {},
   "outputs": [],
   "source": [
    "profile_plotters.plot_deflections_y(\n",
    "    mass_profile=sis_mass_profile, grid=grid\n",
    ")\n",
    "\n",
    "profile_plotters.plot_deflections_x(\n",
    "    mass_profile=sis_mass_profile, grid=grid\n",
    ")"
   ]
  },
  {
   "cell_type": "markdown",
   "metadata": {},
   "source": [
    "Mass profiles have a range of other properties that are used for lensing calculations, a couple of which we'veplotted images of below:\n",
    "\n",
    "Convergence - The surface mass density of the mass-profile in dimensionless units which are convenient for lensing calcuations.\n",
    "Potential - The gravitational of the mass-profile again in convenient dimensionless units.\n",
    "Magnification - Describes how much brighter each image-pixel appears due to focusing of light rays by the mass-profile.\n",
    "\n",
    "Extracting arrays of these quantities fom PyAutoLens is exactly the same as for the image and deflection angles above."
   ]
  },
  {
   "cell_type": "code",
   "execution_count": null,
   "metadata": {},
   "outputs": [],
   "source": [
    "mass_profile_convergence = sis_mass_profile.convergence_from_grid(\n",
    "    grid=grid, return_in_2d=True, return_binned=True,\n",
    ")\n",
    "\n",
    "mass_profile_potential = sis_mass_profile.potential_from_grid(grid=grid, return_in_2d=True, return_binned=True)\n",
    "\n",
    "mass_profile_magnification = sis_mass_profile.magnification_from_grid(grid=grid, return_in_2d=True, return_binned=True)"
   ]
  },
  {
   "cell_type": "markdown",
   "metadata": {},
   "source": [
    "Plotting them is equally straight forward."
   ]
  },
  {
   "cell_type": "code",
   "execution_count": null,
   "metadata": {},
   "outputs": [],
   "source": [
    "profile_plotters.plot_convergence(\n",
    "    mass_profile=sis_mass_profile, grid=grid\n",
    ")\n",
    "\n",
    "profile_plotters.plot_potential(mass_profile=sis_mass_profile, grid=grid)\n",
    "\n",
    "profile_plotters.plot_magnification(mass_profile=sis_mass_profile, grid=grid)"
   ]
  },
  {
   "cell_type": "markdown",
   "metadata": {},
   "source": [
    "Congratulations, you've completed your second PyAutoLens tutorial! Before moving on to the next one, experiment with PyAutoLens by doing the following:\n",
    "\n",
    "1) Change the light profile's effective radius and Sersic index - how does the image's appearance change?\n",
    "2) Change the mass profile's einstein radius - what happens to the deflection angles, potential and convergence?\n",
    "3) Experiment with different light-profiles and mass-profiles in the light_profiles and mass_profiles modules. In particular, use the EllipticalIsothermal profile to introduce ellipticity into a mass profile."
   ]
  }
 ],
 "metadata": {
  "kernelspec": {
   "display_name": "Python 3",
   "language": "python",
   "name": "python3"
  },
  "language_info": {
   "codemirror_mode": {
    "name": "ipython",
    "version": 3
   },
   "file_extension": ".py",
   "mimetype": "text/x-python",
   "name": "python",
   "nbconvert_exporter": "python",
   "pygments_lexer": "ipython3",
   "version": "3.6.7"
  }
 },
 "nbformat": 4,
 "nbformat_minor": 1
}
