{
 "cells": [
  {
   "cell_type": "markdown",
   "metadata": {},
   "source": [
    "__CCD DATA__\n",
    "\n",
    "In this example, we'll use the 'ccd' module to simulate ccd imaging of a strong lens made using a tracer. By simulate, we mean that it will appear as if we had observed it using a real telescope, with this example making an image representative of Hubble Space Telescope imaging."
   ]
  },
  {
   "cell_type": "code",
   "execution_count": null,
   "metadata": {},
   "outputs": [],
   "source": [
    "from autolens.data.instrument import abstract_data\n",
    "from autolens.data.instrument import ccd\n",
    "from autolens.array import grids\n",
    "from autolens.lens import ray_tracing\n",
    "from autolens.model.galaxy import galaxy as g\n",
    "from autolens.model.profiles import light_profiles as lp\n",
    "from autolens.model.profiles import mass_profiles as mp\n",
    "from autolens.lens.plotters import ray_tracing_plotters\n",
    "from autolens.data.plotters import ccd_plotters"
   ]
  },
  {
   "cell_type": "markdown",
   "metadata": {},
   "source": [
    "To simulate an image, we need to model the telescope's optics. We'll do this by convolving the image with a Point-Spread Function, which we can simulate as a Gaussian using the abstract data module."
   ]
  },
  {
   "cell_type": "code",
   "execution_count": null,
   "metadata": {},
   "outputs": [],
   "source": [
    "psf = abstract_data.PSF.from_gaussian(shape=(11, 11), sigma=0.1, pixel_scale=0.1)"
   ]
  },
  {
   "cell_type": "markdown",
   "metadata": {},
   "source": [
    "To simulate ccd instrument, we use a grid, like usual."
   ]
  },
  {
   "cell_type": "code",
   "execution_count": null,
   "metadata": {},
   "outputs": [],
   "source": [
    "grid = grids.Grid.from_shape_pixel_scale_and_sub_grid_size(\n",
    "    shape=(100, 100), pixel_scale=0.1, sub_grid_size=2\n",
    ")"
   ]
  },
  {
   "cell_type": "markdown",
   "metadata": {},
   "source": [
    "Now, lets setup our lens galaxy, source galaxy and tracer."
   ]
  },
  {
   "cell_type": "code",
   "execution_count": null,
   "metadata": {},
   "outputs": [],
   "source": [
    "lens_galaxy = g.Galaxy(\n",
    "    redshift=0.5,\n",
    "    mass=mp.EllipticalIsothermal(\n",
    "        centre=(0.0, 0.0), einstein_radius=1.6, axis_ratio=0.7, phi=45.0\n",
    "    ),\n",
    ")\n",
    "\n",
    "source_galaxy = g.Galaxy(\n",
    "    redshift=1.0,\n",
    "    light=lp.EllipticalSersic(\n",
    "        centre=(0.1, 0.1),\n",
    "        axis_ratio=0.8,\n",
    "        phi=45.0,\n",
    "        intensity=1.0,\n",
    "        effective_radius=1.0,\n",
    "        sersic_index=2.5,\n",
    "    ),\n",
    ")\n",
    "\n",
    "tracer = ray_tracing.Tracer.from_galaxies(galaxies=[lens_galaxy, source_galaxy])"
   ]
  },
  {
   "cell_type": "markdown",
   "metadata": {},
   "source": [
    "Lets look at the tracer's image - this is the image we'll be simulating."
   ]
  },
  {
   "cell_type": "code",
   "execution_count": null,
   "metadata": {},
   "outputs": [],
   "source": [
    "ray_tracing_plotters.plot_profile_image(tracer=tracer, grid=grid)"
   ]
  },
  {
   "cell_type": "markdown",
   "metadata": {},
   "source": [
    "To Simulate the CCD data, we don't use the image plotted above. Instead, we use an image which has been generated  specifically for simulating an image, which pads the array it is computed on based on the shape of the PSF we  convolve the image with. This ensures edge-effects do not degrade our simulation's PSF convolution."
   ]
  },
  {
   "cell_type": "code",
   "execution_count": null,
   "metadata": {},
   "outputs": [],
   "source": [
    "normal_image = tracer.profile_image_from_grid(grid=grid, return_in_2d=True)\n",
    "padded_image = tracer.padded_profile_image_2d_from_grid_and_psf_shape(\n",
    "    grid=grid, psf_shape=psf.shape\n",
    ")\n",
    "print(normal_image.shape)\n",
    "print(padded_image.shape)"
   ]
  },
  {
   "cell_type": "markdown",
   "metadata": {},
   "source": [
    "Now, to simulate the ccd imaging data, we pass the tracer and grid to the ccd module's simulate function. This adds the following effects to the image:\n",
    "\n",
    "1) Telescope optics: Using the Point Spread Function above.\n",
    "2) The Background Sky: Although the image that is returned is automatically background sky subtracted.\n",
    "3) Poisson noise: Due to the background sky, lens galaxy and source galaxy Poisson photon counts."
   ]
  },
  {
   "cell_type": "code",
   "execution_count": null,
   "metadata": {},
   "outputs": [],
   "source": [
    "ccd_data = ccd.SimulatedCCDData.from_tracer_grid_and_exposure_arrays(\n",
    "    tracer=tracer,\n",
    "    grid=grid,\n",
    "    pixel_scale=0.1,\n",
    "    exposure_time=300.0,\n",
    "    psf=psf,\n",
    "    background_sky_level=0.1,\n",
    "    add_noise=True,\n",
    ")"
   ]
  },
  {
   "cell_type": "markdown",
   "metadata": {},
   "source": [
    "Lets plot the image - we can see the image has been blurred due to the telescope optics and noise has been added."
   ]
  },
  {
   "cell_type": "code",
   "execution_count": null,
   "metadata": {},
   "outputs": [],
   "source": [
    "ccd_plotters.plot_image(ccd_data=ccd_data)"
   ]
  },
  {
   "cell_type": "markdown",
   "metadata": {},
   "source": [
    "Finally, lets output these files to.fits files, we'll begin to analyze them in the next tutorial!"
   ]
  },
  {
   "cell_type": "code",
   "execution_count": null,
   "metadata": {},
   "outputs": [],
   "source": [
    "chapter_path = \"/path/to/AutoLens/workspace/howtolens/chapter_1_introduction\"\n",
    "chapter_path = (\n",
    "    \"/home/jammy/PycharmProjects/PyAutoLens/workspace/howtolens/chapter_1_introduction/\"\n",
    ")"
   ]
  },
  {
   "cell_type": "markdown",
   "metadata": {},
   "source": [
    "The data path specifies where the data is output, this time in the directory 'chapter_path/data'"
   ]
  },
  {
   "cell_type": "code",
   "execution_count": null,
   "metadata": {},
   "outputs": [],
   "source": [
    "data_path = chapter_path + \"data/\""
   ]
  },
  {
   "cell_type": "markdown",
   "metadata": {},
   "source": [
    "Now output our simulated data to hard-disk."
   ]
  },
  {
   "cell_type": "code",
   "execution_count": null,
   "metadata": {},
   "outputs": [],
   "source": [
    "ccd.output_ccd_data_to_fits(\n",
    "    ccd_data=ccd_data,\n",
    "    image_path=data_path + \"image.fits\",\n",
    "    noise_map_path=data_path + \"noise_map.fits\",\n",
    "    psf_path=data_path + \"psf.fits\",\n",
    "    overwrite=True,\n",
    ")"
   ]
  },
  {
   "cell_type": "code",
   "execution_count": null,
   "metadata": {},
   "outputs": [],
   "source": []
  }
 ],
 "metadata": {
  "kernelspec": {
   "display_name": "Python 3",
   "language": "python",
   "name": "python3"
  },
  "language_info": {
   "codemirror_mode": {
    "name": "ipython",
    "version": 3
   },
   "file_extension": ".py",
   "mimetype": "text/x-python",
   "name": "python",
   "nbconvert_exporter": "python",
   "pygments_lexer": "ipython3",
   "version": "3.6.7"
  }
 },
 "nbformat": 4,
 "nbformat_minor": 2
}
