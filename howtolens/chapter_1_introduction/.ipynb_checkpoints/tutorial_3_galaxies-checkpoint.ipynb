{
 "cells": [
  {
   "cell_type": "markdown",
   "metadata": {
    "collapsed": true
   },
   "source": [
    "__Galaxies__\n",
    "\n",
    "In this example, we'll use 'mass_profiles' and 'light_profiles' modules introduced previously, along with the 'galaxy' module to create Galaxy objects in PyAutoLens. We'll see that:\n",
    "\n",
    "1) Galaxies can be made from multiple light-profiles and mass-profiles.\n",
    "\n",
    "2) By taking multiple components, the summed image / deflection angle's of the profiles are computed.\n",
    "\n",
    "3) Galaxies have redshifts, defining where they are relative to one another in lensing calculations."
   ]
  },
  {
   "cell_type": "code",
   "execution_count": null,
   "metadata": {},
   "outputs": [],
   "source": [
    "%matplotlib inline\n",
    "\n",
    "import autolens as al\n",
    "import autolens.plot as aplt"
   ]
  },
  {
   "cell_type": "markdown",
   "metadata": {},
   "source": [
    "Lets use an identical grid to the previous example."
   ]
  },
  {
   "cell_type": "code",
   "execution_count": null,
   "metadata": {},
   "outputs": [],
   "source": [
    "grid = al.grid.uniform(\n",
    "    shape_2d=(100, 100), pixel_scales=0.05, sub_size=2\n",
    ")"
   ]
  },
  {
   "cell_type": "markdown",
   "metadata": {},
   "source": [
    "Lets make a galaxy with a Sersic light profile, by making a Sersic light profile and pasing it to a Galaxy object."
   ]
  },
  {
   "cell_type": "code",
   "execution_count": null,
   "metadata": {},
   "outputs": [],
   "source": [
    "sersic_light_profile = al.lp.EllipticalSersic(\n",
    "    centre=(0.0, 0.0),\n",
    "    axis_ratio=0.8,\n",
    "    phi=45.0,\n",
    "    intensity=1.0,\n",
    "    effective_radius=1.0,\n",
    "    sersic_index=2.5,\n",
    ")\n",
    "\n",
    "galaxy_with_light_profile = al.Galaxy(redshift=0.5, light=sersic_light_profile)\n",
    "\n",
    "print(galaxy_with_light_profile)"
   ]
  },
  {
   "cell_type": "markdown",
   "metadata": {},
   "source": [
    "In the previous example, we passed grids to the light-profile module to compute its image. We can do the exact same with galaxies, to again compute the galaxy's image."
   ]
  },
  {
   "cell_type": "code",
   "execution_count": null,
   "metadata": {},
   "outputs": [],
   "source": [
    "galaxy_image = galaxy_with_light_profile.profile_image_from_grid(\n",
    "    grid=grid, \n",
    ")\n",
    "\n",
    "print(\"intensity of grid pixel 0:\")\n",
    "print(galaxy_image.in_2d[0, 0])\n",
    "print(\"intensity of grid pixel 1:\")\n",
    "print(galaxy_image.in_2d[0, 1])\n",
    "print(\"intensity of grid pixel 2:\")\n",
    "print(galaxy_image.in_2d[0, 2])\n",
    "print(\"etc.\")"
   ]
  },
  {
   "cell_type": "markdown",
   "metadata": {},
   "source": [
    "A galaxy plotter allows us to the plot the image, just like the profile plotters did for a light profile."
   ]
  },
  {
   "cell_type": "code",
   "execution_count": null,
   "metadata": {},
   "outputs": [],
   "source": [
    "aplt.galaxy.profile_image(\n",
    "    galaxy=galaxy_with_light_profile, grid=grid\n",
    ")"
   ]
  },
  {
   "cell_type": "markdown",
   "metadata": {},
   "source": [
    "We can pass galaxies as many profiles as we like. Lets create a galaxy with three light profiles."
   ]
  },
  {
   "cell_type": "code",
   "execution_count": null,
   "metadata": {},
   "outputs": [],
   "source": [
    "light_profile_1 = al.lp.SphericalSersic(\n",
    "    centre=(0.0, 0.0), intensity=1.0, effective_radius=1.0, sersic_index=2.5\n",
    ")\n",
    "\n",
    "light_profile_2 = al.lp.SphericalSersic(\n",
    "    centre=(1.0, 1.0), intensity=1.0, effective_radius=2.0, sersic_index=3.0\n",
    ")\n",
    "\n",
    "light_profile_3 = al.lp.SphericalSersic(\n",
    "    centre=(1.0, -1.0), intensity=1.0, effective_radius=2.0, sersic_index=2.0\n",
    ")\n",
    "\n",
    "galaxy_with_3_light_profiles = al.Galaxy(\n",
    "    redshift=0.5,\n",
    "    light_1=light_profile_1,\n",
    "    light_2=light_profile_2,\n",
    "    light_3=light_profile_3,\n",
    ")\n",
    "\n",
    "print(galaxy_with_3_light_profiles)"
   ]
  },
  {
   "cell_type": "markdown",
   "metadata": {},
   "source": [
    "If we plot the galaxy, we see 3 blobs of light!"
   ]
  },
  {
   "cell_type": "code",
   "execution_count": null,
   "metadata": {},
   "outputs": [],
   "source": [
    "aplt.galaxy.profile_image(\n",
    "    galaxy=galaxy_with_3_light_profiles, grid=grid\n",
    ")"
   ]
  },
  {
   "cell_type": "markdown",
   "metadata": {},
   "source": [
    "We can also plot each individual light profile using the 'subplot' galaxy plotter."
   ]
  },
  {
   "cell_type": "code",
   "execution_count": null,
   "metadata": {},
   "outputs": [],
   "source": [
    "aplt.galaxy.profile_image_subplot(\n",
    "    galaxy=galaxy_with_3_light_profiles, grid=grid\n",
    ")"
   ]
  },
  {
   "cell_type": "markdown",
   "metadata": {},
   "source": [
    "Mass profiles interact with Galaxy objects in the exact same way as light profiles. Lets create a galaxy with three SIS mass profiles. "
   ]
  },
  {
   "cell_type": "code",
   "execution_count": null,
   "metadata": {},
   "outputs": [],
   "source": [
    "mass_profile_1 = al.mp.SphericalIsothermal(\n",
    "    centre=(0.0, 0.0), einstein_radius=1.0\n",
    ")\n",
    "\n",
    "mass_profile_2 = al.mp.SphericalIsothermal(\n",
    "    centre=(1.0, 1.0), einstein_radius=1.0\n",
    ")\n",
    "\n",
    "mass_profile_3 = al.mp.SphericalIsothermal(\n",
    "    centre=(1.0, -1.0), einstein_radius=1.0\n",
    ")\n",
    "\n",
    "galaxy_with_3_mass_profiles = al.Galaxy(\n",
    "    redshift=0.5, mass_1=mass_profile_1, mass_2=mass_profile_2, mass_3=mass_profile_3\n",
    ")\n",
    "\n",
    "print(galaxy_with_3_mass_profiles)"
   ]
  },
  {
   "cell_type": "markdown",
   "metadata": {},
   "source": [
    "We can use a galaxy plotter to plot these deflection angles. (Deflection angles of mass-profiles add together just like the light-profile image's above)"
   ]
  },
  {
   "cell_type": "code",
   "execution_count": null,
   "metadata": {},
   "outputs": [],
   "source": [
    "aplt.galaxy.deflections_y(\n",
    "    galaxy=galaxy_with_3_mass_profiles, grid=grid\n",
    ")\n",
    "\n",
    "aplt.galaxy.deflections_x(\n",
    "    galaxy=galaxy_with_3_mass_profiles, grid=grid\n",
    ")"
   ]
  },
  {
   "cell_type": "markdown",
   "metadata": {},
   "source": [
    "I wonder what 3 summed convergence maps or potential's look like ;)"
   ]
  },
  {
   "cell_type": "code",
   "execution_count": null,
   "metadata": {},
   "outputs": [],
   "source": [
    "aplt.galaxy.convergence(\n",
    "    galaxy=galaxy_with_3_mass_profiles, grid=grid\n",
    ")\n",
    "\n",
    "aplt.galaxy.potential(\n",
    "    galaxy=galaxy_with_3_mass_profiles, grid=grid\n",
    ")"
   ]
  },
  {
   "cell_type": "markdown",
   "metadata": {},
   "source": [
    "Finally, a galaxy can take both light and mass profiles, and there is no limit to how many we pass it."
   ]
  },
  {
   "cell_type": "code",
   "execution_count": null,
   "metadata": {},
   "outputs": [],
   "source": [
    "light_profile_1 = al.lp.SphericalSersic(\n",
    "    centre=(0.0, 0.0), intensity=1.0, effective_radius=1.0, sersic_index=1.0\n",
    ")\n",
    "\n",
    "light_profile_2 = al.lp.SphericalSersic(\n",
    "    centre=(1.0, 1.0), intensity=1.0, effective_radius=2.0, sersic_index=2.0\n",
    ")\n",
    "\n",
    "light_profile_3 = al.lp.SphericalSersic(\n",
    "    centre=(2.0, 2.0), intensity=1.0, effective_radius=3.0, sersic_index=3.0\n",
    ")\n",
    "\n",
    "light_profile_4 = al.lp.EllipticalSersic(\n",
    "    centre=(1.0, -1.0),\n",
    "    axis_ratio=0.5,\n",
    "    phi=45.0,\n",
    "    intensity=1.0,\n",
    "    effective_radius=1.0,\n",
    "    sersic_index=1.0,\n",
    ")\n",
    "\n",
    "mass_profile_1 = al.mp.SphericalIsothermal(\n",
    "    centre=(0.0, 0.0), einstein_radius=1.0\n",
    ")\n",
    "\n",
    "mass_profile_2 = al.mp.SphericalIsothermal(\n",
    "    centre=(1.0, 1.0), einstein_radius=2.0\n",
    ")\n",
    "\n",
    "mass_profile_3 = al.mp.SphericalIsothermal(\n",
    "    centre=(2.0, 2.0), einstein_radius=3.0\n",
    ")\n",
    "\n",
    "mass_profile_4 = al.mp.EllipticalIsothermal(\n",
    "    centre=(1.0, -1.0), axis_ratio=0.5, phi=45.0, einstein_radius=2.0\n",
    ")\n",
    "\n",
    "galaxy_with_many_profiles = al.Galaxy(\n",
    "    redshift=0.5,\n",
    "    light_1=light_profile_1,\n",
    "    light_2=light_profile_2,\n",
    "    light_3=light_profile_3,\n",
    "    light_4=light_profile_4,\n",
    "    mass_1=mass_profile_1,\n",
    "    mass_2=mass_profile_2,\n",
    "    mass_3=mass_profile_3,\n",
    "    mass_4=mass_profile_4,\n",
    ")"
   ]
  },
  {
   "cell_type": "markdown",
   "metadata": {},
   "source": [
    "Suffice to say, the galaxy's images, convergence, potential and deflections look pretty interesting."
   ]
  },
  {
   "cell_type": "code",
   "execution_count": null,
   "metadata": {},
   "outputs": [],
   "source": [
    "aplt.galaxy.profile_image(\n",
    "    galaxy=galaxy_with_many_profiles, grid=grid\n",
    ")\n",
    "\n",
    "aplt.galaxy.convergence(\n",
    "    galaxy=galaxy_with_many_profiles, grid=grid\n",
    ")\n",
    "\n",
    "aplt.galaxy.potential(\n",
    "    galaxy=galaxy_with_many_profiles, grid=grid\n",
    ")\n",
    "\n",
    "aplt.galaxy.deflections_y(\n",
    "    galaxy=galaxy_with_many_profiles, grid=grid\n",
    ")\n",
    "\n",
    "aplt.galaxy.deflections_x(\n",
    "    galaxy=galaxy_with_many_profiles, grid=grid\n",
    ")"
   ]
  },
  {
   "cell_type": "markdown",
   "metadata": {},
   "source": [
    "And we're done. Lets finished by just thinking about one question:\n",
    "\n",
    "1) We've learnt we can group profiles into galaxies, to essentially sum the contribution of each light profile to the galaxy image's intensity, or sum the contribution of each mass profile to the convergence, potential and deflection angles. In strong lensing, there are often multiple galaxies next to one another responsible for the lensing - how might we account for this?"
   ]
  }
 ],
 "metadata": {
  "kernelspec": {
   "display_name": "Python 3",
   "language": "python",
   "name": "python3"
  },
  "language_info": {
   "codemirror_mode": {
    "name": "ipython",
    "version": 3
   },
   "file_extension": ".py",
   "mimetype": "text/x-python",
   "name": "python",
   "nbconvert_exporter": "python",
   "pygments_lexer": "ipython3",
   "version": "3.6.9"
  }
 },
 "nbformat": 4,
 "nbformat_minor": 1
}
