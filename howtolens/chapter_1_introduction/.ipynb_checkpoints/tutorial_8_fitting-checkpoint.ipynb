{
 "cells": [
  {
   "cell_type": "markdown",
   "metadata": {},
   "source": [
    "__Fitting__\n",
    "\n",
    "In this example, we'll fit the ccd data we simulated in the previous exercise. We'll do this using model images generated via a tracer, and by comparing to the simulated image we'll get diagostics about the quality of the fit."
   ]
  },
  {
   "cell_type": "code",
   "execution_count": null,
   "metadata": {},
   "outputs": [],
   "source": [
    "from autolens.data.instrument import ccd\n",
    "from autolens.array import mask as ma\n",
    "from autolens.lens import ray_tracing, lens_fit\n",
    "from autolens.model.galaxy import galaxy as g\n",
    "from autolens.lens import lens_data as ld\n",
    "from autolens.model.profiles import light_profiles as lp\n",
    "from autolens.model.profiles import mass_profiles as mp\n",
    "from autolens.data.plotters import ccd_plotters\n",
    "from autolens.lens.plotters import ray_tracing_plotters\n",
    "from autolens.lens.plotters import lens_fit_plotters"
   ]
  },
  {
   "cell_type": "markdown",
   "metadata": {},
   "source": [
    "First you need to change the path below to the chapter 1 directory so we can load the data we output previously."
   ]
  },
  {
   "cell_type": "code",
   "execution_count": null,
   "metadata": {},
   "outputs": [],
   "source": [
    "chapter_path = (\n",
    "    \"/home/jammy/PycharmProjects/PyAutoLens/workspace/howtolens/chapter_1_introduction/\"\n",
    ")"
   ]
  },
  {
   "cell_type": "markdown",
   "metadata": {},
   "source": [
    "The data path specifies where the data was output in the last tutorial, this time in the directory 'chapter_path/data'"
   ]
  },
  {
   "cell_type": "code",
   "execution_count": null,
   "metadata": {},
   "outputs": [],
   "source": [
    "data_path = chapter_path + \"data/\"\n",
    "\n",
    "ccd_data = ccd.load_ccd_data_from_fits(\n",
    "    image_path=data_path + \"image.fits\",\n",
    "    noise_map_path=data_path + \"noise_map.fits\",\n",
    "    psf_path=data_path + \"psf.fits\",\n",
    "    pixel_scale=0.1,\n",
    ")"
   ]
  },
  {
   "cell_type": "markdown",
   "metadata": {},
   "source": [
    "'ccd_data' is a CCDData object, which is a 'package' of all components of the CCD instrument of the lens, in particular:\n",
    "\n",
    "1) The image.\n",
    "2) The Point Spread Function (PSF).\n",
    "3) Its noise-map."
   ]
  },
  {
   "cell_type": "code",
   "execution_count": null,
   "metadata": {},
   "outputs": [],
   "source": [
    "print(\"Image:\")\n",
    "print(ccd_data.image)\n",
    "print(\"Noise-Map:\")\n",
    "print(ccd_data.noise_map)\n",
    "print(\"PSF:\")\n",
    "print(ccd_data.psf)"
   ]
  },
  {
   "cell_type": "markdown",
   "metadata": {},
   "source": [
    "To fit an image, we first specify a mask. A mask describes the sections of the image that we fit.\n",
    "\n",
    "Typically, we want to mask regions of the image where the lens and source galaxies are not visible, for example at the edges where the signal is entirely background sky and noise.\n",
    "\n",
    "For the image we simulated, a 3\" circular mask will do the job."
   ]
  },
  {
   "cell_type": "code",
   "execution_count": null,
   "metadata": {},
   "outputs": [],
   "source": [
    "mask = ma.Mask.circular(\n",
    "    shape=ccd_data.shape, pixel_scale=ccd_data.pixel_scale, radius_arcsec=3.0\n",
    ")\n",
    "\n",
    "print(mask)  # 1 = True, which means the pixel is masked. Edge pixels are indeed masked.\n",
    "print(mask[48:53, 48:53])  # Whereas central pixels are False and therefore unmasked."
   ]
  },
  {
   "cell_type": "markdown",
   "metadata": {},
   "source": [
    "We can use a ccd_plotter to compare the mask and the image - this is useful if we really want to 'tailor' a mask to the lensed source's light (which in this example, we won't)."
   ]
  },
  {
   "cell_type": "code",
   "execution_count": null,
   "metadata": {},
   "outputs": [],
   "source": [
    "ccd_plotters.plot_image(ccd_data=ccd_data, mask=mask)"
   ]
  },
  {
   "cell_type": "markdown",
   "metadata": {},
   "source": [
    "We can also use the mask to 'zoom' our plot around the masked region only - meaning that if our image is very large, we can focus-in on the lens and source galaxies.\n",
    "\n",
    "You'll see this is an option for pretty much every plotter in PyAutoLens, and is something we'll do often throughout the tutorials."
   ]
  },
  {
   "cell_type": "code",
   "execution_count": null,
   "metadata": {},
   "outputs": [],
   "source": [
    "ccd_plotters.plot_image(ccd_data=ccd_data, mask=mask, zoom_around_mask=True)"
   ]
  },
  {
   "cell_type": "markdown",
   "metadata": {},
   "source": [
    "We can also remove all pixels outside the mask in the plot, meaning bright pixels outside the mask won't impact the plot's color range. Again, we'll do this throughout the code."
   ]
  },
  {
   "cell_type": "code",
   "execution_count": null,
   "metadata": {},
   "outputs": [],
   "source": [
    "ccd_plotters.plot_image(\n",
    "    ccd_data=ccd_data, mask=mask, extract_array_from_mask=True, zoom_around_mask=True\n",
    ")"
   ]
  },
  {
   "cell_type": "markdown",
   "metadata": {},
   "source": [
    "A lens data object is a 'package' of all parts of a data-set we need in order to fit it with a lens model:\n",
    "\n",
    "1) The ccd-data, including the image, PSF (so that when we compare a tracer's image to the image instrument we can include blurring due to the telescope optics) and noise-map (so our goodness-of-fit measure accounts for noise in the observations).\n",
    "\n",
    "2) The mask, so that only the regions of the image with a signal are fitted.\n",
    "\n",
    "3) A grid aligned to the ccd-imaging data's pixels, so the tracer's image is generated on the same (masked) grid as the image."
   ]
  },
  {
   "cell_type": "code",
   "execution_count": null,
   "metadata": {},
   "outputs": [],
   "source": [
    "lens_data = ld.LensData(ccd_data=ccd_data, mask=mask)\n",
    "\n",
    "ccd_plotters.plot_image(ccd_data=lens_data.ccd_data)"
   ]
  },
  {
   "cell_type": "markdown",
   "metadata": {},
   "source": [
    "By printing its attribute, we can see that it does indeed contain the unmasked image, unmasked noise-map mask, psf and so on."
   ]
  },
  {
   "cell_type": "code",
   "execution_count": null,
   "metadata": {},
   "outputs": [],
   "source": [
    "print(\"Image:\")\n",
    "print(lens_data.unmasked_image)\n",
    "print()\n",
    "print(\"Noise-Map:\")\n",
    "print(lens_data.unmasked_noise_map)\n",
    "print()\n",
    "print(\"PSF:\")\n",
    "print(lens_data.psf)\n",
    "print()\n",
    "print(\"Mask\")\n",
    "print(lens_data.mask_2d)\n",
    "print()\n",
    "print(\"Masked Grid\")\n",
    "print(lens_data.grid)"
   ]
  },
  {
   "cell_type": "markdown",
   "metadata": {},
   "source": [
    "The lens_data also contains a masked image, returned below in 2D and 1D.\n",
    "\n",
    "On the 2D array, all edge values are masked and are therefore zeros. To see the image values, try changing theindexes of the array that are print to the central pixels (e.g. [49, 50])"
   ]
  },
  {
   "cell_type": "code",
   "execution_count": null,
   "metadata": {},
   "outputs": [],
   "source": [
    "print(\"The 2D Masked Image and 1D Image of unmasked entries\")\n",
    "print(lens_data.image(return_in_2d=True).shape)\n",
    "print(lens_data.image(return_in_2d=True))\n",
    "print(lens_data.image(return_in_2d=False).shape)\n",
    "print(lens_data.image(return_in_2d=False))"
   ]
  },
  {
   "cell_type": "markdown",
   "metadata": {},
   "source": [
    "There is a masked noise-map, again returned in 2D and 1D with edge values set to zeros."
   ]
  },
  {
   "cell_type": "code",
   "execution_count": null,
   "metadata": {},
   "outputs": [],
   "source": [
    "print(\"The 2D Masked Noise-Map and 1D Noise-Map of unmasked entries\")\n",
    "print(lens_data.noise_map(return_in_2d=True).shape)\n",
    "print(lens_data.noise_map(return_in_2d=True))\n",
    "print(lens_data.noise_map(return_in_2d=False).shape)\n",
    "print(lens_data.noise_map(return_in_2d=False))"
   ]
  },
  {
   "cell_type": "markdown",
   "metadata": {},
   "source": [
    "The lens-data also has a grid, where only coordinates which are not masked are included."
   ]
  },
  {
   "cell_type": "code",
   "execution_count": null,
   "metadata": {},
   "outputs": [],
   "source": [
    "print(\"Masked Grid\")\n",
    "print(lens_data.grid)"
   ]
  },
  {
   "cell_type": "markdown",
   "metadata": {},
   "source": [
    "To fit an image, create an image using a tracer. Lets use the same tracer we simulated the ccd instrument with (thus, our fit is 'perfect').\n",
    "\n",
    "Its worth noting that below, we use the lens_data's grid to setup the tracer. This ensures that our image-plane image is the same resolution and alignment as our lens data's masked image."
   ]
  },
  {
   "cell_type": "code",
   "execution_count": null,
   "metadata": {},
   "outputs": [],
   "source": [
    "\n",
    "lens_galaxy = g.Galaxy(\n",
    "    redshift=0.5,\n",
    "    mass=mp.EllipticalIsothermal(\n",
    "        centre=(0.0, 0.0), einstein_radius=1.6, axis_ratio=0.7, phi=45.0\n",
    "    ),\n",
    ")\n",
    "\n",
    "source_galaxy = g.Galaxy(\n",
    "    redshift=1.0,\n",
    "    light=lp.EllipticalSersic(\n",
    "        centre=(0.1, 0.1),\n",
    "        axis_ratio=0.8,\n",
    "        phi=45.0,\n",
    "        intensity=1.0,\n",
    "        effective_radius=1.0,\n",
    "        sersic_index=2.5,\n",
    "    ),\n",
    ")\n",
    "\n",
    "tracer = ray_tracing.Tracer.from_galaxies(galaxies=[lens_galaxy, source_galaxy])\n",
    "\n",
    "ray_tracing_plotters.plot_profile_image(tracer=tracer, grid=lens_data.grid)"
   ]
  },
  {
   "cell_type": "markdown",
   "metadata": {},
   "source": [
    "To fit the image, we pass the lens data and tracer to the 'lens_fit' module. This performs the following:\n",
    "\n",
    "1) Blurs the tracer's image with the lens data's PSF, ensuring the telescope optics are included in the fit. This creates the fit's 'model_image'.\n",
    "\n",
    "2) Computes the difference between this model_image and the observed image-data, creating the fit's 'residual_map'.\n",
    "\n",
    "3) Divides the residual-map by the noise-map and squares each value, creating the fit's 'chi_squared_map'.\n",
    "\n",
    "4) Sums up these chi-squared values and converts them to a 'likelihood', which quantifies how good the tracer's fit to the data was (higher likelihood = better fit)."
   ]
  },
  {
   "cell_type": "code",
   "execution_count": null,
   "metadata": {},
   "outputs": [],
   "source": [
    "fit = lens_fit.LensDataFit.for_data_and_tracer(lens_data=lens_data, tracer=tracer)\n",
    "\n",
    "lens_fit_plotters.plot_fit_subplot(\n",
    "    fit=fit, should_plot_mask=True, extract_array_from_mask=True, zoom_around_mask=True\n",
    ")"
   ]
  },
  {
   "cell_type": "markdown",
   "metadata": {},
   "source": [
    "We can print the fit's attributes. As usual, we can choose whether to return the fits in 2d or 1d, and in 2d if we don't specify where we'll get all zeros, as the edges were masked:"
   ]
  },
  {
   "cell_type": "code",
   "execution_count": null,
   "metadata": {},
   "outputs": [],
   "source": [
    "print(\"Model-Image:\")\n",
    "print(fit.model_image(return_in_2d=True))\n",
    "print(fit.model_image(return_in_2d=False))\n",
    "print()\n",
    "print(\"Residual Maps:\")\n",
    "print(fit.residual_map(return_in_2d=True))\n",
    "print(fit.residual_map(return_in_2d=False))\n",
    "print()\n",
    "print(\"Chi-Squareds Maps:\")\n",
    "print(fit.chi_squared_map(return_in_2d=True))\n",
    "print(fit.chi_squared_map(return_in_2d=False))"
   ]
  },
  {
   "cell_type": "markdown",
   "metadata": {},
   "source": [
    "Of course, the central unmasked pixels have non-zero values."
   ]
  },
  {
   "cell_type": "code",
   "execution_count": null,
   "metadata": {},
   "outputs": [],
   "source": [
    "model_image = fit.model_image(return_in_2d=True)\n",
    "print(model_image[48:53, 48:53])\n",
    "print()\n",
    "\n",
    "residual_map = fit.residual_map(return_in_2d=True)\n",
    "print(\"Residuals Central Pixels:\")\n",
    "print(residual_map[48:53, 48:53])\n",
    "print()\n",
    "\n",
    "print(\"Chi-Squareds Central Pixels:\")\n",
    "chi_squared_map = fit.chi_squared_map(return_in_2d=True)\n",
    "print(chi_squared_map[48:53, 48:53])"
   ]
  },
  {
   "cell_type": "markdown",
   "metadata": {},
   "source": [
    "The fit also gives a likelihood, which is a single-figure estimate of how good the model image fitted the simulated image (in unmasked pixels only!)."
   ]
  },
  {
   "cell_type": "code",
   "execution_count": null,
   "metadata": {},
   "outputs": [],
   "source": [
    "print(\"Likelihood:\")\n",
    "print(fit.likelihood)"
   ]
  },
  {
   "cell_type": "markdown",
   "metadata": {},
   "source": [
    "We used the same tracer to create and fit the image, giving an excellent fit. The residual-map and chi-squared-map, show no signs of the source galaxy's light present, indicating a good fit. This solution will translate to one of the highest-likelihood solutions possible.\n",
    "\n",
    "Lets change the tracer, so that it's near the correct solution, but slightly off. Below, we slightly offset the lens galaxy, by 0.005\""
   ]
  },
  {
   "cell_type": "code",
   "execution_count": null,
   "metadata": {},
   "outputs": [],
   "source": [
    "lens_galaxy = g.Galaxy(\n",
    "    redshift=0.5,\n",
    "    mass=mp.EllipticalIsothermal(\n",
    "        centre=(0.005, 0.005), einstein_radius=1.6, axis_ratio=0.7, phi=45.0\n",
    "    ),\n",
    ")\n",
    "\n",
    "source_galaxy = g.Galaxy(\n",
    "    redshift=1.0,\n",
    "    light=lp.EllipticalSersic(\n",
    "        centre=(0.1, 0.1),\n",
    "        axis_ratio=0.8,\n",
    "        phi=45.0,\n",
    "        intensity=1.0,\n",
    "        effective_radius=1.0,\n",
    "        sersic_index=2.5,\n",
    "    ),\n",
    ")\n",
    "\n",
    "tracer = ray_tracing.Tracer.from_galaxies(galaxies=[lens_galaxy, source_galaxy])\n",
    "\n",
    "fit = lens_fit.LensDataFit.for_data_and_tracer(lens_data=lens_data, tracer=tracer)\n",
    "\n",
    "lens_fit_plotters.plot_fit_subplot(\n",
    "    fit=fit, should_plot_mask=True, extract_array_from_mask=True, zoom_around_mask=True\n",
    ")"
   ]
  },
  {
   "cell_type": "markdown",
   "metadata": {},
   "source": [
    "Residuals now appear at the locations of the source galaxy, increasing the chi-squared values (which determine our likelihood).\n",
    "\n",
    "Lets compare the likelihood to the value we computed above (which was 11697.24):"
   ]
  },
  {
   "cell_type": "code",
   "execution_count": null,
   "metadata": {},
   "outputs": [],
   "source": [
    "print(\"Previous Likelihood:\")\n",
    "print(11697.24)\n",
    "print(\"New Likelihood:\")\n",
    "print(fit.likelihood)"
   ]
  },
  {
   "cell_type": "markdown",
   "metadata": {},
   "source": [
    "It decreases! As expected, this model us a worse fit to the data.\n",
    "\n",
    "Lets change the tracer, one more time, to a solution nowhere near the correct one."
   ]
  },
  {
   "cell_type": "code",
   "execution_count": null,
   "metadata": {},
   "outputs": [],
   "source": [
    "lens_galaxy = g.Galaxy(\n",
    "    redshift=0.5,\n",
    "    mass=mp.EllipticalIsothermal(\n",
    "        centre=(0.005, 0.005), einstein_radius=1.3, axis_ratio=0.8, phi=45.0\n",
    "    ),\n",
    ")\n",
    "\n",
    "source_galaxy = g.Galaxy(\n",
    "    redshift=1.0,\n",
    "    light=lp.EllipticalSersic(\n",
    "        centre=(0.1, 0.1),\n",
    "        axis_ratio=0.7,\n",
    "        phi=65.0,\n",
    "        intensity=1.0,\n",
    "        effective_radius=0.4,\n",
    "        sersic_index=3.5,\n",
    "    ),\n",
    ")\n",
    "\n",
    "tracer = ray_tracing.Tracer.from_galaxies(galaxies=[lens_galaxy, source_galaxy])\n",
    "\n",
    "fit = lens_fit.LensDataFit.for_data_and_tracer(lens_data=lens_data, tracer=tracer)\n",
    "\n",
    "lens_fit_plotters.plot_fit_subplot(\n",
    "    fit=fit, should_plot_mask=True, extract_array_from_mask=True, zoom_around_mask=True\n",
    ")"
   ]
  },
  {
   "cell_type": "markdown",
   "metadata": {},
   "source": [
    "Clearly, the model provides a terrible fit and this tracer is not a plausible representation of the image-data (of course, we already knew that, given that we simulated it!)\n",
    "\n",
    "The likelihood drops dramatically, as expected."
   ]
  },
  {
   "cell_type": "code",
   "execution_count": null,
   "metadata": {},
   "outputs": [],
   "source": [
    "print(\"Previous Likelihoods:\")\n",
    "print(11697.24)\n",
    "print(10319.44)\n",
    "print(\"New Likelihood:\")\n",
    "print(fit.likelihood)"
   ]
  },
  {
   "cell_type": "markdown",
   "metadata": {},
   "source": [
    "Congratulations, you've fitted your first strong lens with PyAutoLens! Perform the following exercises:\n",
    "\n",
    "1) In this example, we 'knew' the correct solution, because we simulated the lens ourselves. In the real Universe, we have no idea what the correct solution is. How would you go about finding the correct solution? Could you find a solution that fits the data reasonable through trial and error?\n"
   ]
  },
  {
   "cell_type": "code",
   "execution_count": null,
   "metadata": {},
   "outputs": [],
   "source": []
  },
  {
   "cell_type": "code",
   "execution_count": null,
   "metadata": {},
   "outputs": [],
   "source": []
  }
 ],
 "metadata": {
  "kernelspec": {
   "display_name": "Python 3",
   "language": "python",
   "name": "python3"
  },
  "language_info": {
   "codemirror_mode": {
    "name": "ipython",
    "version": 3
   },
   "file_extension": ".py",
   "mimetype": "text/x-python",
   "name": "python",
   "nbconvert_exporter": "python",
   "pygments_lexer": "ipython3",
   "version": "3.6.7"
  }
 },
 "nbformat": 4,
 "nbformat_minor": 2
}
