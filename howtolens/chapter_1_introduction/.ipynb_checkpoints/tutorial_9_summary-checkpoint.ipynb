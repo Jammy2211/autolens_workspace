{
 "cells": [
  {
   "cell_type": "markdown",
   "metadata": {},
   "source": [
    "__Summary__\n",
    "\n",
    "In this chapter, you've learnt how create and fit strong lenses with PyAutoLens. In particular, you've learnt:\n",
    "\n",
    "1) PyAutoLens uses Cartesian grids of (y,x) coordinates to perform ray-tracing.\n",
    "2) These grids are combined with light and mass profiles to compute images, convergences, potentials and deflection angles.\n",
    "3) Profiles are combined to make galaxies.\n",
    "4) Collections of galaxies (at the same redshift) form a plane.\n",
    "5) A tracer can make an image-plane + source-plane strong lens system.\n",
    "6) The Universe's cosmology can be input into this tracer to convert units to physical values.\n",
    "7) The tracer's image can be used to simulate strong lens imaging observed on a real telescope.\n",
    "8) This instrument can be fitted, so to as quantify how well a model strong lens system represents the observed image.\n",
    "\n",
    "In this summary, we'll consider how flexible the tools PyAutoLens gives you are to study every aspect of a strong lens system. Lets get a 'fit' to a strong lens, by setting up an image, mask, tracer, etc."
   ]
  },
  {
   "cell_type": "code",
   "execution_count": null,
   "metadata": {},
   "outputs": [],
   "source": [
    "from autolens.data.instrument import ccd\n",
    "from autolens.array import mask as ma\n",
    "from autolens.lens import ray_tracing, lens_fit\n",
    "from autolens.model.galaxy import galaxy as g\n",
    "from autolens.lens import lens_data as ld\n",
    "from autolens.model.profiles import light_profiles as lp\n",
    "from autolens.model.profiles import mass_profiles as mp\n",
    "from autolens.data.plotters import ccd_plotters\n",
    "from autolens.model.profiles.plotters import profile_plotters\n",
    "from autolens.model.galaxy.plotters import galaxy_plotters\n",
    "from autolens.lens.plotters import plane_plotters\n",
    "from autolens.lens.plotters import ray_tracing_plotters"
   ]
  },
  {
   "cell_type": "markdown",
   "metadata": {},
   "source": [
    "You need to change the path below to the chapter 1 directory."
   ]
  },
  {
   "cell_type": "code",
   "execution_count": null,
   "metadata": {},
   "outputs": [],
   "source": [
    "chapter_path = \"/path/to/user/autolens_workspace/howtolens/chapter_1_introduction/\"\n",
    "chapter_path = (\n",
    "    \"/home/jammy/PycharmProjects/PyAutoLens/workspace/howtolens/chapter_1_introduction/\"\n",
    ")"
   ]
  },
  {
   "cell_type": "markdown",
   "metadata": {},
   "source": [
    "The data path specifies where the data was output in the last tutorial, which is the directory 'chapter_path/data'"
   ]
  },
  {
   "cell_type": "code",
   "execution_count": null,
   "metadata": {},
   "outputs": [],
   "source": [
    "data_path = chapter_path + \"data/\""
   ]
  },
  {
   "cell_type": "markdown",
   "metadata": {},
   "source": [
    "Below, we do all the steps we learned this chapter - making galaxies, a tracer, fitting the data, etc."
   ]
  },
  {
   "cell_type": "code",
   "execution_count": null,
   "metadata": {},
   "outputs": [],
   "source": [
    "ccd_data = ccd.load_ccd_data_from_fits(\n",
    "    image_path=data_path + \"image.fits\",\n",
    "    noise_map_path=data_path + \"noise_map.fits\",\n",
    "    psf_path=data_path + \"psf.fits\",\n",
    "    pixel_scale=0.1,\n",
    ")\n",
    "\n",
    "mask = ma.Mask.circular(\n",
    "    shape=ccd_data.shape, pixel_scale=ccd_data.pixel_scale, radius_arcsec=3.0\n",
    ")\n",
    "\n",
    "lens_data = ld.LensData(ccd_data=ccd_data, mask=mask)\n",
    "\n",
    "lens_galaxy = g.Galaxy(\n",
    "    redshift=0.5,\n",
    "    mass=mp.EllipticalIsothermal(\n",
    "        centre=(0.0, 0.0), einstein_radius=1.6, axis_ratio=0.7, phi=45.0\n",
    "    ),\n",
    ")\n",
    "\n",
    "source_galaxy = g.Galaxy(\n",
    "    redshift=1.0,\n",
    "    bulge=lp.EllipticalSersic(\n",
    "        centre=(0.1, 0.1),\n",
    "        axis_ratio=0.8,\n",
    "        phi=45.0,\n",
    "        intensity=1.0,\n",
    "        effective_radius=1.0,\n",
    "        sersic_index=4.0,\n",
    "    ),\n",
    "    disk=lp.EllipticalSersic(\n",
    "        centre=(0.1, 0.1),\n",
    "        axis_ratio=0.8,\n",
    "        phi=45.0,\n",
    "        intensity=1.0,\n",
    "        effective_radius=1.0,\n",
    "        sersic_index=1.0,\n",
    "    ),\n",
    ")"
   ]
  },
  {
   "cell_type": "code",
   "execution_count": null,
   "metadata": {},
   "outputs": [],
   "source": [
    "tracer = ray_tracing.Tracer.from_galaxies(galaxies=[lens_galaxy, source_galaxy])\n",
    "\n",
    "fit = lens_fit.LensDataFit.for_data_and_tracer(lens_data=lens_data, tracer=tracer)"
   ]
  },
  {
   "cell_type": "markdown",
   "metadata": {},
   "source": [
    "The fit contains our tracer, which contains our planes, which contains galaxies, which contains our profiles:"
   ]
  },
  {
   "cell_type": "code",
   "execution_count": null,
   "metadata": {},
   "outputs": [],
   "source": [
    "print(fit)\n",
    "print()\n",
    "print(fit.tracer)\n",
    "print()\n",
    "print(fit.tracer.image_plane)\n",
    "print()\n",
    "print(fit.tracer.source_plane)\n",
    "print()\n",
    "print(fit.tracer.image_plane.galaxies[0])\n",
    "print()\n",
    "print(fit.tracer.source_plane.galaxies[0])\n",
    "print()\n",
    "print(fit.tracer.image_plane.galaxies[0].mass)\n",
    "print()\n",
    "print(fit.tracer.source_plane.galaxies[0].bulge)\n",
    "print()\n",
    "print(fit.tracer.source_plane.galaxies[0].disk)\n",
    "print()"
   ]
  },
  {
   "cell_type": "markdown",
   "metadata": {},
   "source": [
    "Using the plotters we've used throughout this chapter, we can visualize any aspect of a fit we're interested in. For example, if we want to plot the image of the source galaxy mass profile, we can do this in a variety of different ways"
   ]
  },
  {
   "cell_type": "code",
   "execution_count": null,
   "metadata": {},
   "outputs": [],
   "source": [
    "ray_tracing_plotters.plot_profile_image(tracer=fit.tracer, grid=lens_data.grid)\n",
    "\n",
    "source_plane_grid = tracer.traced_grids_of_planes_from_grid(grid=lens_data.grid)[1]\n",
    "plane_plotters.plot_profile_image(plane=fit.tracer.source_plane, grid=source_plane_grid)\n",
    "\n",
    "galaxy_plotters.plot_profile_image(\n",
    "    galaxy=fit.tracer.source_plane.galaxies[0], grid=source_plane_grid\n",
    ")"
   ]
  },
  {
   "cell_type": "markdown",
   "metadata": {},
   "source": [
    "As our fit and ray-tracing becomes more complex, it is useful to know how to decompose their different attributes to extract different things about them. For example, we made our source-galaxy above with two light profiles, a 'bulge' and 'disk. We can plot the image of each component individually, if we know how to break-up the different components of the fit and tracer."
   ]
  },
  {
   "cell_type": "code",
   "execution_count": null,
   "metadata": {},
   "outputs": [],
   "source": [
    "profile_plotters.plot_image(\n",
    "    light_profile=fit.tracer.source_plane.galaxies[0].bulge,\n",
    "    grid=source_plane_grid,\n",
    "    title=\"Bulge image\",\n",
    ")\n",
    "\n",
    "profile_plotters.plot_image(\n",
    "    light_profile=fit.tracer.source_plane.galaxies[0].disk,\n",
    "    grid=source_plane_grid,\n",
    "    title=\"Disk image\",\n",
    ")"
   ]
  },
  {
   "cell_type": "markdown",
   "metadata": {},
   "source": [
    "And, we're done, not just with the tutorial, but the chapter!\n",
    "\n",
    "To end, I want to quickly talk about code-design and structure. Yeah, I know, as a scientist, you don't like code and certaintly don't want to think about code! However, the point is, with PyAutoLens, you don't need to!\n",
    "\n",
    "Think about it - throughout this chapter, we never talk about anything like it was code. We didn't refer to 'variables', 'parameters' and 'functions' did we? Instead, we talked about 'galaxies', 'planes' and a 'tracer'. These are the things that, as scientists, we use to visualize a strong lens system.\n",
    "\n",
    "Software that abstracts the underlying code in this way follows what is called an 'object-oriented design', and it is our hope with PyAutoLens that we've made the way you use it (that is, in coding speak, its 'interface') intuitive.\n",
    "\n",
    "However, if you do enjoy code, variables, functions, and parameters, you're probably ready to take a look at the PyAutoLens source-code. This can be found in the 'autolens' folder. At team PyAutoLens, we take a lot of pride in our source-code, so I can promise you its well written, well documented and thoroughly tested (check out the 'test' directory if you're curious how to test code well!).\n",
    "\n",
    "Okay, enough self-serving praise for PyAutoLens, lets wrap up the chapter. You've learn a lot in this chapter, but what you haven't learnt is how to 'model' a real strong gravitational lens.\n",
    "\n",
    "In the real world, we've no idea what the 'correct' set of light and mass profile parameters are that will give a good fit to a lens. Lens modeling is the process of finding the lens model which provides the best-fit, and that will be the focus of our next set of tutorials."
   ]
  },
  {
   "cell_type": "code",
   "execution_count": null,
   "metadata": {},
   "outputs": [],
   "source": []
  },
  {
   "cell_type": "code",
   "execution_count": null,
   "metadata": {},
   "outputs": [],
   "source": []
  },
  {
   "cell_type": "code",
   "execution_count": null,
   "metadata": {},
   "outputs": [],
   "source": []
  },
  {
   "cell_type": "code",
   "execution_count": null,
   "metadata": {},
   "outputs": [],
   "source": []
  },
  {
   "cell_type": "code",
   "execution_count": null,
   "metadata": {},
   "outputs": [],
   "source": []
  }
 ],
 "metadata": {
  "kernelspec": {
   "display_name": "Python 3",
   "language": "python",
   "name": "python3"
  },
  "language_info": {
   "codemirror_mode": {
    "name": "ipython",
    "version": 3
   },
   "file_extension": ".py",
   "mimetype": "text/x-python",
   "name": "python",
   "nbconvert_exporter": "python",
   "pygments_lexer": "ipython3",
   "version": "3.6.7"
  }
 },
 "nbformat": 4,
 "nbformat_minor": 2
}
