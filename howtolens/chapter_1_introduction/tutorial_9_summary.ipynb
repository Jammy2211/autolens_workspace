{
  "cells": [
    {
      "cell_type": "markdown",
      "metadata": {},
      "source": [
        "Tutorial 9: Summary\n",
        "===================\n",
        "\n",
        "In this chapter, you`ve learnt how create and fit strong lenses with **PyAutoLens**. In particular, you`ve learnt:\n",
        "\n",
        " 1) **PyAutoLens** uses Cartesian `Grid`'s of $(y,x)$ coordinates to perform ray-tracing.\n",
        " 2) These `Grid`'s are combined with light and mass profiles to compute images, convergences, potentials and\n",
        " deflection angles.\n",
        " 3) Profiles are combined to make galaxies.\n",
        " 4) Collections of galaxies (at the same redshift) form a plane.\n",
        " 5) A `Tracer` can make an image-plane + source-plane strong lens system.\n",
        " 6) The Universe`s cosmology can be input into this `Tracer` to convert unit_label to physical values.\n",
        " 7) The tracer`s image can be used to simulate strong lens `Imaging` observed on a real telescope.\n",
        " 8) This instrument can be fitted, so to as quantify how well a model strong lens system represents the observed image.\n",
        "\n",
        "In this summary, we'll consider how flexible the tools **PyAutoLens** gives you are to study every aspect of a strong lens\n",
        "system. Lets get a `fit` to a strong lens, by setting up an image, mask, tracer, etc."
      ]
    },
    {
      "cell_type": "code",
      "metadata": {},
      "source": [
        "%matplotlib inline\n",
        "\n",
        "from pyprojroot import here\n",
        "\n",
        "workspace_path = str(here())\n",
        "%cd $workspace_path\n",
        "print(f\"Working Directory has been set to `{workspace_path}`\")\n",
        "\n",
        "from os import path\n",
        "import autolens as al\n",
        "import autolens.plot as aplt"
      ],
      "outputs": [],
      "execution_count": null
    },
    {
      "cell_type": "markdown",
      "metadata": {},
      "source": [
        "we'll need the path to the chapter in this tutorial to load the dataset from your hard-disk."
      ]
    },
    {
      "cell_type": "markdown",
      "metadata": {},
      "source": [
        "The `dataset_path` specifies where the data was output in the last tutorial, which is the directory `chapter_path/data`"
      ]
    },
    {
      "cell_type": "code",
      "metadata": {},
      "source": [
        "dataset_path = path.join(\"dataset\", \"howtolens\", \"chapter_1\")"
      ],
      "outputs": [],
      "execution_count": null
    },
    {
      "cell_type": "markdown",
      "metadata": {},
      "source": [
        "Below, we do all the steps we learned this chapter - making `Galaxy`'s a tracer, fitting the data, etc."
      ]
    },
    {
      "cell_type": "code",
      "metadata": {},
      "source": [
        "imaging = al.Imaging.from_fits(\n",
        "    image_path=path.join(dataset_path, \"image.fits\"),\n",
        "    noise_map_path=path.join(dataset_path, \"noise_map.fits\"),\n",
        "    psf_path=path.join(dataset_path, \"psf.fits\"),\n",
        "    pixel_scales=0.1,\n",
        ")\n",
        "\n",
        "mask = al.Mask2D.circular(\n",
        "    shape_2d=imaging.shape_2d, pixel_scales=imaging.pixel_scales, sub_size=2, radius=3.0\n",
        ")\n",
        "\n",
        "masked_imaging = al.MaskedImaging(imaging=imaging, mask=mask)\n",
        "\n",
        "lens_galaxy = al.Galaxy(\n",
        "    redshift=0.5,\n",
        "    mass=al.mp.EllipticalIsothermal(\n",
        "        centre=(0.0, 0.0), einstein_radius=1.6, elliptical_comps=(0.17647, 0.0)\n",
        "    ),\n",
        ")\n",
        "\n",
        "source_galaxy = al.Galaxy(\n",
        "    redshift=1.0,\n",
        "    bulge=al.lp.EllipticalSersic(\n",
        "        centre=(0.1, 0.1),\n",
        "        elliptical_comps=(0.0, 0.111111),\n",
        "        intensity=1.0,\n",
        "        effective_radius=1.0,\n",
        "        sersic_index=4.0,\n",
        "    ),\n",
        "    disk=al.lp.EllipticalSersic(\n",
        "        centre=(0.1, 0.1),\n",
        "        elliptical_comps=(0.0, 0.111111),\n",
        "        intensity=1.0,\n",
        "        effective_radius=1.0,\n",
        "        sersic_index=1.0,\n",
        "    ),\n",
        ")\n",
        "\n",
        "tracer = al.Tracer.from_galaxies(galaxies=[lens_galaxy, source_galaxy])\n",
        "\n",
        "fit = al.FitImaging(masked_imaging=masked_imaging, tracer=tracer)"
      ],
      "outputs": [],
      "execution_count": null
    },
    {
      "cell_type": "markdown",
      "metadata": {},
      "source": [
        "The fit contains our `Tracer`, which contains `Planes`, which contains `Galaxy`'s which contains `Profile`'s:"
      ]
    },
    {
      "cell_type": "code",
      "metadata": {},
      "source": [
        "print(fit)\n",
        "print()\n",
        "print(fit.tracer)\n",
        "print()\n",
        "print(fit.tracer.image_plane)\n",
        "print()\n",
        "print(fit.tracer.source_plane)\n",
        "print()\n",
        "print(fit.tracer.image_plane.galaxies[0])\n",
        "print()\n",
        "print(fit.tracer.source_plane.galaxies[0])\n",
        "print()\n",
        "print(fit.tracer.image_plane.galaxies[0].mass)\n",
        "print()\n",
        "print(fit.tracer.source_plane.galaxies[0].bulge)\n",
        "print()\n",
        "print(fit.tracer.source_plane.galaxies[0].disk)\n",
        "print()"
      ],
      "outputs": [],
      "execution_count": null
    },
    {
      "cell_type": "markdown",
      "metadata": {},
      "source": [
        "Using the plotters we've used throughout this chapter, we can visualize any aspect of a fit we`re interested in. \n",
        "For example, if we want to plot the image of the source galaxy `MassProfile`, we can do this in a variety of \n",
        "different ways"
      ]
    },
    {
      "cell_type": "code",
      "metadata": {},
      "source": [
        "aplt.Tracer.image(tracer=fit.tracer, grid=masked_imaging.grid)\n",
        "\n",
        "source_plane_grid = tracer.traced_grids_of_planes_from_grid(grid=masked_imaging.grid)[1]\n",
        "aplt.Plane.image(plane=fit.tracer.source_plane, grid=source_plane_grid)\n",
        "\n",
        "aplt.Galaxy.image(galaxy=fit.tracer.source_plane.galaxies[0], grid=source_plane_grid)"
      ],
      "outputs": [],
      "execution_count": null
    },
    {
      "cell_type": "markdown",
      "metadata": {},
      "source": [
        "As our fit and ray-tracing becomes more complex, it is useful to know how to decompose their different attributes to \n",
        "extract different things about them. For example, we made our source-galaxy above with two `LightProfile`'s, a \n",
        "`bulge` and `disk. We can plot the image of each component individually, if we know how to break-up the different \n",
        "components of the fit and `Tracer`."
      ]
    },
    {
      "cell_type": "code",
      "metadata": {},
      "source": [
        "aplt.LightProfile.image(\n",
        "    light_profile=fit.tracer.source_plane.galaxies[0].bulge,\n",
        "    grid=source_plane_grid,\n",
        "    plotter=aplt.Plotter(labels=aplt.Labels(title=\"Bulge image\")),\n",
        ")\n",
        "\n",
        "aplt.LightProfile.image(\n",
        "    light_profile=fit.tracer.source_plane.galaxies[0].disk,\n",
        "    grid=source_plane_grid,\n",
        "    plotter=aplt.Plotter(labels=aplt.Labels(title=\"Disk image\")),\n",
        ")"
      ],
      "outputs": [],
      "execution_count": null
    },
    {
      "cell_type": "markdown",
      "metadata": {},
      "source": [
        "And, we`re done, not just with the tutorial, but the chapter!\n",
        "\n",
        "To end, I want to quickly talk about code-design and structure. Yeah, I know, as a scientist, you don't like code \n",
        "and certainly don't want to think about code! However, the point is, with **PyAutoLens**, you don't need to!\n",
        "\n",
        "Think about it - throughout this chapter, we never talk about anything like it was code. We didn`t refer to \n",
        "`variables`, `parameters` and `functions` did we? Instead, we talked about `galaxies`, `planes` and a `Tracer`. \n",
        "These are the things that, as scientists, we use to visualize a strong lens system.\n",
        "\n",
        "Software that abstracts the underlying code in this way follows what is called an `object-oriented design`, and it \n",
        "is our hope with **PyAutoLens** that we've made the way you use it (that is, in coding speak, its `interface`) intuitive.\n",
        "\n",
        "However, if you do enjoy code, variables, functions, and parameters, you`re probably ready to take a look at the \n",
        "__PyAutoLens__ source-code. This can be found in the `autolens` folder. At team **PyAutoLens**, we take a lot of pride in our \n",
        "source-code, so I can promise you its well written, well documented and thoroughly tested (check out the `test` \n",
        "directory if you`re curious how to test code well!).\n",
        "\n",
        "Okay, enough self-serving praise for **PyAutoLens**, lets wrap up the chapter. You`ve learn a lot in this chapter, but \n",
        "what you haven`t learnt is how to `model` a real strong gravitational lens.\n",
        "\n",
        "In the real world, we've no idea what the `correct` set of light and `MassProfile` parameters are that will give a \n",
        "good fit to a lens. Lens modeling is the process of finding the lens model which provides the best-fit, and that will \n",
        "be the focus of our next set of tutorials."
      ]
    }
  ],
  "metadata": {
    "anaconda-cloud": {},
    "kernelspec": {
      "display_name": "Python 3",
      "language": "python",
      "name": "python3"
    },
    "language_info": {
      "codemirror_mode": {
        "name": "ipython",
        "version": 3
      },
      "file_extension": ".py",
      "mimetype": "text/x-python",
      "name": "python",
      "nbconvert_exporter": "python",
      "pygments_lexer": "ipython3",
      "version": "3.6.1"
    }
  },
  "nbformat": 4,
  "nbformat_minor": 4
}