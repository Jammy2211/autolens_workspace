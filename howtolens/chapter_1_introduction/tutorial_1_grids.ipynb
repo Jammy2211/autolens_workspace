{
  "cells": [
    {
      "cell_type": "markdown",
      "metadata": {},
      "source": [
        "Tutorial 1: Grids\n",
        "=================\n",
        "\n",
        "In this example, we'll create _Grid_'s of Cartesian (y,x) coordinates, representing the arc-second coordinate _Grid_ \n",
        "of an observed data-set (e.g. imaging)."
      ]
    },
    {
      "cell_type": "code",
      "metadata": {},
      "source": [
        "%matplotlib inline\n",
        "\n",
        "import autolens as al\n",
        "import autolens.plot as aplt"
      ],
      "outputs": [],
      "execution_count": null
    },
    {
      "cell_type": "markdown",
      "metadata": {},
      "source": [
        "In PyAutoLens, a _Grid_ is a set of two-dimensional (y,x) coordinates (in arc-seconds) that are deflected and traced by \n",
        "a strong lensing system.\n",
        "\n",
        "This coordinate _Grid_ is aligned with the image we analyze, such that each coordinate on a  _Grid_ maps to the centre \n",
        "of each image-pixel. Lets make a _Grid_ using 100 x 100 pixels, with a pixel scale (arcsecond-to-pixel conversion \n",
        "factor) of 0.05\", giving us a a 5\" x 5\" grid."
      ]
    },
    {
      "cell_type": "code",
      "metadata": {},
      "source": [
        "grid = al.Grid.uniform(shape_2d=(100, 100), pixel_scales=0.05)"
      ],
      "outputs": [],
      "execution_count": null
    },
    {
      "cell_type": "markdown",
      "metadata": {},
      "source": [
        "First, lets plot this _Grid_, which shows that it is a fairly bland uniform _Grid_ of dots."
      ]
    },
    {
      "cell_type": "code",
      "metadata": {},
      "source": [
        "plotter = aplt.Plotter(labels=aplt.Labels(title=\"Fairly Bland Uniform Grid Of Dots\"))\n",
        "\n",
        "aplt.Grid(grid=grid, plotter=plotter)"
      ],
      "outputs": [],
      "execution_count": null
    },
    {
      "cell_type": "markdown",
      "metadata": {},
      "source": [
        "We can print each coordinate of this _Grid_, revealing that it consists of a set of arc-second coordinates (where the \n",
        "spacing between each coordinate corresponds to the 'pixel_scales' of 0.05\" defined above)"
      ]
    },
    {
      "cell_type": "code",
      "metadata": {},
      "source": [
        "print(\"(y,x) pixel 0:\")\n",
        "print(grid.in_2d[0, 0])\n",
        "print(\"(y,x) pixel 1:\")\n",
        "print(grid.in_2d[0, 1])\n",
        "print(\"(y,x) pixel 2:\")\n",
        "print(grid.in_2d[0, 2])\n",
        "print(\"(y,x) pixel 100:\")\n",
        "print(grid.in_2d[1, 0])\n",
        "print(\"etc.\")"
      ],
      "outputs": [],
      "execution_count": null
    },
    {
      "cell_type": "markdown",
      "metadata": {},
      "source": [
        "_Grid_'s in PyAutoLens are stored as both 1D and 2D NumPy arrays, because different calculations benefit from us using \n",
        "the array in different formats. We can access both the 1D and 2D _Array_'s automatically by specifying the input as a 1D \n",
        "or 2D."
      ]
    },
    {
      "cell_type": "code",
      "metadata": {},
      "source": [
        "print(\"(y,x) pixel 0 (accessed in 2D):\")\n",
        "print(grid.in_2d[0, 0])\n",
        "print(\"(y,x) pixel 0 (accessed in 1D):\")\n",
        "print(grid.in_1d[0])"
      ],
      "outputs": [],
      "execution_count": null
    },
    {
      "cell_type": "markdown",
      "metadata": {},
      "source": [
        "The shape of the _Grid_ is also available in 1D and 2D, consisting of 10000 (100 x 100) coordinates."
      ]
    },
    {
      "cell_type": "code",
      "metadata": {},
      "source": [
        "print(grid.shape_2d)\n",
        "print(grid.shape_1d)"
      ],
      "outputs": [],
      "execution_count": null
    },
    {
      "cell_type": "markdown",
      "metadata": {},
      "source": [
        "We can print the entire _Grid_ in either 1D or 2D. "
      ]
    },
    {
      "cell_type": "code",
      "metadata": {},
      "source": [
        "print(grid.in_2d)\n",
        "print(grid.in_1d)"
      ],
      "outputs": [],
      "execution_count": null
    },
    {
      "cell_type": "markdown",
      "metadata": {},
      "source": [
        "A _Grid_ can also have a sub-grid, which splits each pixel on the _Grid_ into sub-pixels of size (sub_size x sub_size). \n",
        "These additional pixels are used to perform calculations more accurately."
      ]
    },
    {
      "cell_type": "code",
      "metadata": {},
      "source": [
        "grid = al.Grid.uniform(shape_2d=(100, 100), pixel_scales=0.05, sub_size=2)"
      ],
      "outputs": [],
      "execution_count": null
    },
    {
      "cell_type": "markdown",
      "metadata": {},
      "source": [
        "We specified a sub_size of 2 above, therefore we expect 4 (2 x 2) times more sub-pixels than pixels. We can see this \n",
        "is the case by inspecting the _Grid_ sub_shape attributes."
      ]
    },
    {
      "cell_type": "code",
      "metadata": {},
      "source": [
        "print(grid.sub_shape_1d)\n",
        "print(grid.sub_shape_2d)"
      ],
      "outputs": [],
      "execution_count": null
    },
    {
      "cell_type": "markdown",
      "metadata": {},
      "source": [
        "The first four pixels of our sub-grid correspond to the first four sub-pixels, which form a sub-grid inside the\n",
        "first _Grid_ pixel, as follows:"
      ]
    },
    {
      "cell_type": "markdown",
      "metadata": {},
      "source": [
        "pixel 1:\n",
        "              _________\n",
        "              |         |\n",
        "              |         |  o = (y,x) centre of\n",
        " y = 2.475\"   |    o    |       _Grid_ coordinate.\n",
        "              |         |\n",
        "              |_________|\n",
        "              x = -2.475\n",
        "\n",
        "Sub-pixels 1, 2, 3 & 4:\n",
        "               _________\n",
        "              |         |\n",
        "              |  o   o  |  o = (y,x) centre of sub-\n",
        " y = 2.475\"   |         |       _Grid_ coordinates.\n",
        "              |  o   o  |\n",
        "              |_________|\n",
        "              x = -2.475\n",
        "\n",
        "The sub-pixels coordinate are spaced uniformly between the pixel's edges\n",
        "(which are at y = (2.45\", 2.5\") and x = (-2.5\". -2.45\") )"
      ]
    },
    {
      "cell_type": "markdown",
      "metadata": {},
      "source": [
        "By default, a _Grid_ is stored in 1D, and we can access its elements without specifying 'in_1d'"
      ]
    },
    {
      "cell_type": "code",
      "metadata": {},
      "source": [
        "print(\"(y,x) sub-pixel 0 (of pixel 0):\")\n",
        "print(grid[0])\n",
        "print(\"(y,x) sub-pixel 1 (of pixel 0):\")\n",
        "print(grid[1])\n",
        "print(\"(y,x) sub-pixel 2 (of pixel 0):\")\n",
        "print(grid[2])\n",
        "print(\"(y,x) sub-pixel 3 (of pixel 0):\")\n",
        "print(grid[3])"
      ],
      "outputs": [],
      "execution_count": null
    },
    {
      "cell_type": "markdown",
      "metadata": {},
      "source": [
        "The sub-grid then continues on to the next _Grid_ pixels (and so on)"
      ]
    },
    {
      "cell_type": "code",
      "metadata": {},
      "source": [
        "print(\"(y,x) sub-pixel 0 (of pixel 1):\")\n",
        "print(grid[4])\n",
        "print(\"(y,x) sub-pixel 0 (of pixel 1):\")\n",
        "print(grid[5])\n",
        "print(\"etc.\")"
      ],
      "outputs": [],
      "execution_count": null
    },
    {
      "cell_type": "markdown",
      "metadata": {},
      "source": [
        "We can again access these coordinates in 2D."
      ]
    },
    {
      "cell_type": "code",
      "metadata": {},
      "source": [
        "print(\"(y,x) sub-pixel 0 (of pixel 1):\")\n",
        "print(grid.in_2d[0, 2])\n",
        "print(\"(y,x) sub-pixel 1 (of pixel 1):\")\n",
        "print(grid.in_2d[0, 3])\n",
        "print(\"etc.\")"
      ],
      "outputs": [],
      "execution_count": null
    },
    {
      "cell_type": "markdown",
      "metadata": {},
      "source": [
        "Congratulations, you've completed your first PyAutoLens tutorial! Before moving on to the next one, experiment with \n",
        "PyAutoLens by doing the following:\n",
        "\n",
        "1) Change the pixel-scale of the _Grid_'s - what happens to the Cartesian coordinates?\n",
        "2) Change the resolution of the _Grid_'s - what happens Cartesian coordinates?\n",
        "3) Change the sub-grid size - what do you note about the pixel-scale of sub pixels?"
      ]
    },
    {
      "cell_type": "code",
      "metadata": {},
      "source": [],
      "outputs": [],
      "execution_count": null
    }
  ],
  "metadata": {
    "anaconda-cloud": {},
    "kernelspec": {
      "display_name": "Python 3",
      "language": "python",
      "name": "python3"
    },
    "language_info": {
      "codemirror_mode": {
        "name": "ipython",
        "version": 3
      },
      "file_extension": ".py",
      "mimetype": "text/x-python",
      "name": "python",
      "nbconvert_exporter": "python",
      "pygments_lexer": "ipython3",
      "version": "3.6.1"
    }
  },
  "nbformat": 4,
  "nbformat_minor": 1
}