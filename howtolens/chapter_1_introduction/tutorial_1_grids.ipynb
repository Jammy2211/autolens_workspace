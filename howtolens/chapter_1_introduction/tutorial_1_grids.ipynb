{
 "cells": [
  {
   "cell_type": "markdown",
   "metadata": {
    "collapsed": true
   },
   "source": [
    "__Grids__\n",
    "\n",
    "In this example, we'll create grids of Cartesian (y,x) coordinates, representing the arc-second coordinate grid of an observed data-set (e.g. ccd imaging)."
   ]
  },
  {
   "cell_type": "code",
   "execution_count": null,
   "metadata": {},
   "outputs": [],
   "source": [
    "%matplotlib inline\n",
    "\n",
    "from autolens.data.array import grids\n",
    "from autolens.data.array.plotters import grid_plotters"
   ]
  },
  {
   "cell_type": "markdown",
   "metadata": {},
   "source": [
    "In PyAutoLens, a grid is a set of two-dimensional (y,x) coordinates (in arc-seconds) that are deflected and traced by a strong lensing system.\n",
    "\n",
    "This coordinate grid is aligned with the image we analyze, such that each coordinate on a 'regular' grid maps to the centre of each image-pixel. Lets make a regular grid using 100 x 100 pixels, with a pixel scale (arcsecond-to-pixel conversion factor) of 0.05\", giving us a 5\" x 5\" grid."
   ]
  },
  {
   "cell_type": "code",
   "execution_count": 2,
   "metadata": {},
   "outputs": [],
   "source": [
    "regular_grid = grids.RegularGrid.from_shape_and_pixel_scale(shape=(100, 100), pixel_scale=0.05)\n"
   ]
  },
  {
   "cell_type": "markdown",
   "metadata": {},
   "source": [
    "First, lets plot this regular grid, which shows that it is a fairly bland uniform grid of dots."
   ]
  },
  {
   "cell_type": "code",
   "execution_count": 3,
   "metadata": {},
   "outputs": [
    {
     "data": {
      "image/png": "[encoded data removed]",
      "text/plain": [
       "<Figure size 864x576 with 1 Axes>"
      ]
     },
     "metadata": {},
     "output_type": "display_data"
    }
   ],
   "source": [
    "grid_plotters.plot_grid(grid=regular_grid, title='Fairly Bland Uniform Grid Of Dots')"
   ]
  },
  {
   "cell_type": "markdown",
   "metadata": {},
   "source": [
    "We can print each coordinate of this regular grid, revealing that it consists of a set of arc-second coordinates (where the spacing between each coordinate corresponds to the 'pixel_scale' of 0.05\" defined above)"
   ]
  },
  {
   "cell_type": "code",
   "execution_count": null,
   "metadata": {},
   "outputs": [],
   "source": [
    "print('(y,x) regular-pixel 1:')\n",
    "print(regular_grid[0])\n",
    "print('(y,x) regular-pixel 2:')\n",
    "print(regular_grid[1])\n",
    "print('(y,x) regular-pixel 3:')\n",
    "print(regular_grid[2])\n",
    "print('(y,x) regular-pixel 101:')\n",
    "print(regular_grid[100])\n",
    "print('etc.')"
   ]
  },
  {
   "cell_type": "markdown",
   "metadata": {},
   "source": [
    "PyAutoLens actually flattens the NumPy array to 1D to save memory, however it consists of all 10000 pixel coordinates on our 2D grid"
   ]
  },
  {
   "cell_type": "code",
   "execution_count": 5,
   "metadata": {},
   "outputs": [
    {
     "name": "stdout",
     "output_type": "stream",
     "text": [
      "(10000, 2)\n"
     ]
    }
   ],
   "source": [
    "print(regular_grid.shape)"
   ]
  },
  {
   "cell_type": "markdown",
   "metadata": {},
   "source": [
    "PyAutoLens uses many different types of grids, for performing many different calculations. For example, a sub-grid splits each pixel on the regular grid above into a sub-pixel of size (sub_grid_size x sub_grid_size):\n"
   ]
  },
  {
   "cell_type": "code",
   "execution_count": 6,
   "metadata": {},
   "outputs": [],
   "source": [
    "sub_grid = grids.SubGrid.from_shape_pixel_scale_and_sub_grid_size(shape=(100, 100), pixel_scale=0.05,\n",
    "                                                                  sub_grid_size=2)"
   ]
  },
  {
   "cell_type": "markdown",
   "metadata": {},
   "source": [
    "We specified a sub_grid_size of 2 above, therefore we expect 4 (2 x 2) times more sub-pixels than regular-pixels (which like the regular grid are again flattened to 1D)."
   ]
  },
  {
   "cell_type": "code",
   "execution_count": 7,
   "metadata": {},
   "outputs": [
    {
     "name": "stdout",
     "output_type": "stream",
     "text": [
      "(40000, 2)\n"
     ]
    }
   ],
   "source": [
    "print(sub_grid.shape)"
   ]
  },
  {
   "cell_type": "markdown",
   "metadata": {},
   "source": [
    "The first four pixels of our sub-grid correspond to the first four sub-pixels, which form a sub-grid inside the\n",
    "first regular-grid pixel, as follows:\n",
    "\n",
    "The sub-pixels coordinate are spaced uniformly between the regular-pixel's edges (which are at y = (2.45\", 2.5\") and x = (-2.5\". -2.45\") )\n",
    "\n",
    "The comment below provides an illustration of this"
   ]
  },
  {
   "cell_type": "code",
   "execution_count": 8,
   "metadata": {},
   "outputs": [
    {
     "name": "stdout",
     "output_type": "stream",
     "text": [
      "(y,x) sub-pixel 1 (of regular pixel 1):\n[ 2.48333333 -2.48333333]\n(y,x) sub-pixel 2 (of regular pixel 1):\n[ 2.48333333 -2.46666667]\n(y,x) sub-pixel 3 (of regular pixel 1):\n[ 2.46666667 -2.48333333]\n(y,x) sub-pixel 4 (of regular pixel 1):\n[ 2.46666667 -2.46666667]\n"
     ]
    }
   ],
   "source": [
    "# Regular pixel 1:\n",
    "#              _________\n",
    "#              |         |\n",
    "#              |         |  o = (y,x) centre of regular-\n",
    "# y = 2.475\"   |    o    |       grid coordinate.\n",
    "#              |         |\n",
    "#              |_________|\n",
    "#              x = -2.475\n",
    "\n",
    "# Sub-pixels 1, 2, 3 & 4:\n",
    "#               _________\n",
    "#              |         |\n",
    "#              |  o   o  |  o = (y,x) centre of sub-\n",
    "# y = 2.475\"   |         |       grid coordinates.\n",
    "#              |  o   o  |\n",
    "#              |_________|\n",
    "#             x = -2.475\n",
    "\n",
    "print('(y,x) sub-pixel 1 (of regular pixel 1):')\n",
    "print(sub_grid[0])\n",
    "print('(y,x) sub-pixel 2 (of regular pixel 1):')\n",
    "print(sub_grid[1])\n",
    "print('(y,x) sub-pixel 3 (of regular pixel 1):')\n",
    "print(sub_grid[2])\n",
    "print('(y,x) sub-pixel 4 (of regular pixel 1):')\n",
    "print(sub_grid[3])"
   ]
  },
  {
   "cell_type": "markdown",
   "metadata": {},
   "source": [
    "The sub-grid then continues on to the next regular-grid pixels (and so on)"
   ]
  },
  {
   "cell_type": "code",
   "execution_count": 9,
   "metadata": {},
   "outputs": [
    {
     "name": "stdout",
     "output_type": "stream",
     "text": [
      "(y,x) sub-pixel 1 (of regular pixel 2):\n[ 2.48333333 -2.43333333]\n(y,x) sub-pixel 2 (of regular pixel 2):\n[ 2.48333333 -2.41666667]\netc.\n"
     ]
    }
   ],
   "source": [
    "print('(y,x) sub-pixel 1 (of regular pixel 2):')\n",
    "print(sub_grid[4])\n",
    "print('(y,x) sub-pixel 2 (of regular pixel 2):')\n",
    "print(sub_grid[5])\n",
    "print('etc.')"
   ]
  },
  {
   "cell_type": "markdown",
   "metadata": {},
   "source": [
    "Finally, it is convenient for PyAutoLens to 'group' all of its grid into one object, which we call a 'grid-stack'. A grid stack consists of a set of aligned grids, for example, the regular and sub-grids above, but also other grids which we will explain throughout these tutorials. Making a grid-stack is as simple as above."
   ]
  },
  {
   "cell_type": "code",
   "execution_count": 10,
   "metadata": {},
   "outputs": [],
   "source": [
    "grid_stack = grids.GridStack.from_shape_pixel_scale_and_sub_grid_size(shape=(100, 100), pixel_scale=0.05,\n",
    "                                                                      sub_grid_size=2)"
   ]
  },
  {
   "cell_type": "markdown",
   "metadata": {},
   "source": [
    "The grid-stack coordinates are indeed identical to the individual grids above"
   ]
  },
  {
   "cell_type": "code",
   "execution_count": null,
   "metadata": {},
   "outputs": [],
   "source": [
    "print('(y,x) regular-pixel 1:')\n",
    "print(grid_stack.regular[0])\n",
    "print('(y,x) regular-pixel 2:')\n",
    "print(grid_stack.regular[1])\n",
    "print('(y,x) sub-pixel 1 (of regular pixel 1):')\n",
    "print(grid_stack.sub[0])\n",
    "print('(y,x) sub-pixel 2 (of regular pixel 1):')\n",
    "print(grid_stack.sub[1])\n",
    "print('(y,x) sub-pixel 3 (of regular pixel 1):')\n",
    "print(grid_stack.sub[2])\n",
    "print('(y,x) sub-pixel 4 (of regular pixel 1):')\n",
    "print(grid_stack.sub[3])"
   ]
  },
  {
   "cell_type": "markdown",
   "metadata": {},
   "source": [
    "Congratulations, you've completed your first PyAutoLens tutorial! Before moving on to the next one, experiment with\n",
    "PyAutoLens by doing the following:\n",
    "\n",
    "1) Change the pixel-scale of the grids - what happens to the Cartesian coordinates?\n",
    "\n",
    "2) Change the resolution of the grids - what happens Cartesian coordinates?\n",
    "\n",
    "3) Change the sub-grid size - what do you note about the pixel-scale of sub pixels?"
   ]
  }
 ],
 "metadata": {
  "kernelspec": {
   "display_name": "Python 2",
   "language": "python",
   "name": "python2"
  },
  "language_info": {
   "codemirror_mode": {
    "name": "ipython",
    "version": 2
   },
   "file_extension": ".py",
   "mimetype": "text/x-python",
   "name": "python",
   "nbconvert_exporter": "python",
   "pygments_lexer": "ipython2",
   "version": "2.7.6"
  }
 },
 "nbformat": 4,
 "nbformat_minor": 0
}
