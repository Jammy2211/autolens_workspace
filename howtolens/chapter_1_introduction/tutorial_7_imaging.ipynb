{
 "cells": [
  {
   "cell_type": "markdown",
   "metadata": {
    "collapsed": true
   },
   "source": [
    "__CCD Data__\n",
    "\n",
    "In this example, we'll use the 'ccd' module to 'simulate' ccd imaging of a strong lens made using a tracer. By simulate, we mean that it will appear as if we had observed it using a real telescope, with this example making an image representative of Hubble Space Telescope imaging."
   ]
  },
  {
   "cell_type": "code",
   "execution_count": null,
   "metadata": {},
   "outputs": [],
   "source": [
    "%matplotlib inline\n",
    "\n",
    "from autolens.data import ccd\n",
    "from autolens.data.array import grids\n",
    "from autolens.lens import ray_tracing\n",
    "from autolens.model.galaxy import galaxy as g\n",
    "from autolens.model.profiles import light_profiles as lp\n",
    "from autolens.model.profiles import mass_profiles as mp\n",
    "from autolens.lens.plotters import ray_tracing_plotters\n",
    "from autolens.data.plotters import ccd_plotters"
   ]
  },
  {
   "cell_type": "markdown",
   "metadata": {},
   "source": [
    "To simulate an image, we need to model the telescope's optics. We'll do this by convolving the image with a Point-Spread Function, which we can simulate as a Gaussian using the imaging module."
   ]
  },
  {
   "cell_type": "code",
   "execution_count": 4,
   "metadata": {},
   "outputs": [],
   "source": [
    "psf = ccd.PSF.simulate_as_gaussian(shape=(11, 11), sigma=0.1, pixel_scale=0.1)"
   ]
  },
  {
   "cell_type": "markdown",
   "metadata": {},
   "source": [
    "To simulate ccd data, we use a special type of grid. This grid pads its 2D dimensions relative to the PSF-shape, to ensure that the edge's of our simulated image are not degraded."
   ]
  },
  {
   "cell_type": "code",
   "execution_count": 5,
   "metadata": {},
   "outputs": [
    {
     "name": "stdout",
     "output_type": "stream",
     "text": [
      "(100, 100)\n(110, 110)\n"
     ]
    }
   ],
   "source": [
    "image_plane_grid_stack = grids.GridStack.grid_stack_for_simulation(shape=(100, 100), pixel_scale=0.1, \n",
    "                                                                   psf_shape=psf.shape)\n",
    "print(image_plane_grid_stack.regular.image_shape)\n",
    "print(image_plane_grid_stack.regular.padded_shape)"
   ]
  },
  {
   "cell_type": "markdown",
   "metadata": {},
   "source": [
    "Now, lets setup our lens galaxy, source galaxy and tracer."
   ]
  },
  {
   "cell_type": "code",
   "execution_count": 6,
   "metadata": {},
   "outputs": [],
   "source": [
    "lens_galaxy = g.Galaxy(mass=mp.EllipticalIsothermal(centre=(0.0, 0.0), einstein_radius=1.6, axis_ratio=0.7, phi=45.0))\n",
    "source_galaxy = g.Galaxy(light=lp.EllipticalSersic(centre=(0.1, 0.1), axis_ratio=0.8, phi=45.0,\n",
    "                                                        intensity=1.0, effective_radius=1.0, sersic_index=2.5))\n",
    "tracer = ray_tracing.TracerImageSourcePlanes(lens_galaxies=[lens_galaxy], source_galaxies=[source_galaxy],\n",
    "                                             image_plane_grid_stack=image_plane_grid_stack)"
   ]
  },
  {
   "cell_type": "markdown",
   "metadata": {},
   "source": [
    "Lets look at the tracer's image-plane image - this is the image we'll be simulating."
   ]
  },
  {
   "cell_type": "code",
   "execution_count": 7,
   "metadata": {},
   "outputs": [
    {
     "data": {
      "image/png": "[encoded data removed]",
      "text/plain": [
       "<Figure size 504x504 with 2 Axes>"
      ]
     },
     "metadata": {},
     "output_type": "display_data"
    }
   ],
   "source": [
    "ray_tracing_plotters.plot_image_plane_image(tracer=tracer)"
   ]
  },
  {
   "cell_type": "markdown",
   "metadata": {},
   "source": [
    "To simulate the image, we don't use the image-plane image plotted above. Instead, we use an image-plane image which has been generated specifically for simulating an image, using the padded grid above. This ensures edge-effects do not degrade our simulation's PSF convolution."
   ]
  },
  {
   "cell_type": "code",
   "execution_count": 8,
   "metadata": {},
   "outputs": [
    {
     "name": "stdout",
     "output_type": "stream",
     "text": [
      "(100, 100)\n(110, 110)\n"
     ]
    }
   ],
   "source": [
    "print(tracer.image_plane_image.shape)\n",
    "print(tracer.image_plane_image_for_simulation.shape)"
   ]
  },
  {
   "cell_type": "markdown",
   "metadata": {},
   "source": [
    "Now, to simulate the ccd imaging data, we pass the tracer's image-plane image to the ccd module's simulate function. This adds the following effects to the image:\n",
    "\n",
    "1) Telescope optics: Using the Point Spread Function above.\n",
    "\n",
    "2) The Background Sky: Although the image that is returned is automatically background sky subtracted.\n",
    "\n",
    "3) Poisson noise: Due to the background sky, lens galaxy and source galaxy Poisson photon counts."
   ]
  },
  {
   "cell_type": "code",
   "execution_count": 9,
   "metadata": {},
   "outputs": [
    {
     "ename": "AttributeError",
     "evalue": "'numpy.ndarray' object has no attribute 'origin'",
     "traceback": [
      "\u001b[0;31m---------------------------------------------------------------------------\u001b[0m",
      "\u001b[0;31mAttributeError\u001b[0m                            Traceback (most recent call last)",
      "\u001b[0;32m<ipython-input-9-8528a17a6010>\u001b[0m in \u001b[0;36m<module>\u001b[0;34m\u001b[0m\n\u001b[1;32m     10\u001b[0m \u001b[0;34m\u001b[0m\u001b[0m\n\u001b[1;32m     11\u001b[0m \u001b[0;31m# Lets plot the image - we can see the image has been blurred due to the telescope optics and noise has been added.\u001b[0m\u001b[0;34m\u001b[0m\u001b[0;34m\u001b[0m\u001b[0m\n\u001b[0;32m---> 12\u001b[0;31m \u001b[0mccd_plotters\u001b[0m\u001b[0;34m.\u001b[0m\u001b[0mplot_image\u001b[0m\u001b[0;34m(\u001b[0m\u001b[0mccd_data\u001b[0m\u001b[0;34m=\u001b[0m\u001b[0msimulated_ccd\u001b[0m\u001b[0;34m)\u001b[0m\u001b[0;34m\u001b[0m\u001b[0m\n\u001b[0m",
      "\u001b[0;32m~/PyCharm/Projects/AutoLens/autolens/data/plotters/ccd_plotters.py\u001b[0m in \u001b[0;36mplot_image\u001b[0;34m(ccd_data, plot_origin, mask, should_plot_border, positions, as_subplot, units, kpc_per_arcsec, figsize, aspect, cmap, norm, norm_min, norm_max, linthresh, linscale, cb_ticksize, cb_fraction, cb_pad, title, titlesize, xlabelsize, ylabelsize, xyticksize, mask_pointsize, position_pointsize, grid_pointsize, output_path, output_format, output_filename)\u001b[0m\n\u001b[1;32m    146\u001b[0m         \u001b[0mover\u001b[0m \u001b[0mthe\u001b[0m \u001b[0mimmage\u001b[0m\u001b[0;34m.\u001b[0m\u001b[0;34m\u001b[0m\u001b[0m\n\u001b[1;32m    147\u001b[0m     \"\"\"\n\u001b[0;32m--> 148\u001b[0;31m     \u001b[0morigin\u001b[0m \u001b[0;34m=\u001b[0m \u001b[0mget_origin\u001b[0m\u001b[0;34m(\u001b[0m\u001b[0marray\u001b[0m\u001b[0;34m=\u001b[0m\u001b[0mccd_data\u001b[0m\u001b[0;34m.\u001b[0m\u001b[0mimage\u001b[0m\u001b[0;34m,\u001b[0m \u001b[0mplot_origin\u001b[0m\u001b[0;34m=\u001b[0m\u001b[0mplot_origin\u001b[0m\u001b[0;34m)\u001b[0m\u001b[0;34m\u001b[0m\u001b[0m\n\u001b[0m\u001b[1;32m    149\u001b[0m \u001b[0;34m\u001b[0m\u001b[0m\n\u001b[1;32m    150\u001b[0m     array_plotters.plot_array(array=ccd_data.image, origin=origin, mask=mask, should_plot_border=should_plot_border,\n",
      "\u001b[0;32m~/PyCharm/Projects/AutoLens/autolens/data/plotters/ccd_plotters.py\u001b[0m in \u001b[0;36mget_origin\u001b[0;34m(array, plot_origin)\u001b[0m\n\u001b[1;32m    263\u001b[0m     \"\"\"\n\u001b[1;32m    264\u001b[0m     \u001b[0;32mif\u001b[0m \u001b[0mplot_origin\u001b[0m\u001b[0;34m:\u001b[0m\u001b[0;34m\u001b[0m\u001b[0m\n\u001b[0;32m--> 265\u001b[0;31m         \u001b[0;32mreturn\u001b[0m \u001b[0marray\u001b[0m\u001b[0;34m.\u001b[0m\u001b[0morigin\u001b[0m\u001b[0;34m\u001b[0m\u001b[0m\n\u001b[0m\u001b[1;32m    266\u001b[0m     \u001b[0;32melse\u001b[0m\u001b[0;34m:\u001b[0m\u001b[0;34m\u001b[0m\u001b[0m\n\u001b[1;32m    267\u001b[0m         \u001b[0;32mreturn\u001b[0m \u001b[0;32mNone\u001b[0m\u001b[0;34m\u001b[0m\u001b[0m\n",
      "\u001b[0;31mAttributeError\u001b[0m: 'numpy.ndarray' object has no attribute 'origin'"
     ],
     "output_type": "error"
    }
   ],
   "source": [
    "simulated_ccd = ccd.CCDData.simulate(array=tracer.image_plane_image_for_simulation, pixel_scale=0.1, \n",
    "                                     exposure_time=300.0, psf=psf, background_sky_level=0.1, add_noise=True)"
   ]
  },
  {
   "cell_type": "markdown",
   "metadata": {},
   "source": [
    "Lets plot the image - we can see the image has been blurred due to the telescope optics and noise has been added."
   ]
  },
  {
   "cell_type": "code",
   "execution_count": null,
   "metadata": {},
   "outputs": [],
   "source": [
    "ccd_plotters.plot_image(ccd_data=simulated_ccd)"
   ]
  },
  {
   "cell_type": "markdown",
   "metadata": {},
   "source": [
    "Finally, lets output these files to.fits files, we'll begin to analyze them in the next tutorial!"
   ]
  },
  {
   "cell_type": "code",
   "execution_count": 10,
   "metadata": {},
   "outputs": [],
   "source": [
    "path = '/path/to/AutoLens/workspace/howtolens/chapter_1_introduction'\n",
    "\n",
    "# If you are using Docker, the path you should use to output these images is (e.g. comment out this line)\n",
    "# path = '/home/user/workspace/howtolens/chapter_1_introduction'\n",
    "\n",
    "# If you arn't using docker, you need to change the path below to the chapter 2 directory and uncomment it\n",
    "# path = '/path/to/user/workspace/howtolens/chapter_1_introduction'\n",
    "\n",
    "ccd.output_ccd_data_to_fits(ccd_data=simulated_ccd, image_path=path+'/data/image.fits',\n",
    "                                                    noise_map_path=path+'/data/noise_map.fits',\n",
    "                                                    psf_path=path+'/data/psf.fits',\n",
    "                          overwrite=True)\n"
   ]
  }
 ],
 "metadata": {
  "kernelspec": {
   "display_name": "Python 2",
   "language": "python",
   "name": "python2"
  },
  "language_info": {
   "codemirror_mode": {
    "name": "ipython",
    "version": 2
   },
   "file_extension": ".py",
   "mimetype": "text/x-python",
   "name": "python",
   "nbconvert_exporter": "python",
   "pygments_lexer": "ipython2",
   "version": "2.7.6"
  }
 },
 "nbformat": 4,
 "nbformat_minor": 0
}
