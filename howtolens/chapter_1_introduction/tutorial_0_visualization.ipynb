{
  "cells": [
    {
      "cell_type": "markdown",
      "metadata": {},
      "source": [
        "Tutorial 0: Visualization\n",
        "=========================\n",
        "\n",
        "In this tutorial, we'll cover visualization in **PyAutoLens** and make sure images display properly on your computer.\n",
        "\n",
        "First, lets load an image of a (simulated) strong lens. Don't worry too much about what the code below is doing as it\n",
        "will be covered in a later tutorial."
      ]
    },
    {
      "cell_type": "code",
      "metadata": {},
      "source": [
        "%matplotlib inline\n",
        "\n",
        "from os import path\n",
        "import autolens as al\n",
        "import autolens.plot as aplt"
      ],
      "outputs": [],
      "execution_count": null
    },
    {
      "cell_type": "markdown",
      "metadata": {},
      "source": [
        "PyAutoLens assumes the working directory is `/path/to/autolens_workspace/` on your hard-disk. This is so that it can:\n",
        " \n",
        " - Load configuration settings from config files in the `autolens_workspace/config` folder.\n",
        " - Load example data from the `autolens_workspace/dataset` folder.\n",
        " - Output the results of models fits to your hard-disk to the `autolens/output` folder. \n",
        "    \n",
        "If you don't have an autolens_workspace (perhaps you cloned / forked the **PyAutoLens** GitHub repository?) you can\n",
        "download it here:\n",
        " \n",
        " https://github.com/Jammy2211/autolens_workspace\n",
        "\n",
        "At the top of every tutorial notebook, you'll see the following cell. This cell uses the project `pyprojroot` to\n",
        "locate the path to the workspace on your computer and use it to set the working directory of the notebook."
      ]
    },
    {
      "cell_type": "code",
      "metadata": {},
      "source": [
        "from pyprojroot import here\n",
        "\n",
        "workspace_path = str(here())\n",
        "%cd $workspace_path\n",
        "print(f\"Working Directory has been set to `{workspace_path}`\")"
      ],
      "outputs": [],
      "execution_count": null
    },
    {
      "cell_type": "markdown",
      "metadata": {},
      "source": [
        "If the printed working directory does not match the workspace path on your computer, you can manually set it\n",
        "as follows (the example below shows the path I would use on my laptop. The code is commented out so you do not\n",
        "use this path in this tutorial!\n",
        "\"\"\"\n",
        "# %%\n",
        "# workspace_path = \"/Users/Jammy/Code/PyAuto/autolens_workspace\"\n",
        "# %cd $workspace_path\n",
        "# print(f\"Working Directory has been set to `{workspace_path}`\")"
      ]
    },
    {
      "cell_type": "markdown",
      "metadata": {},
      "source": [
        "The dataset path specifies where the dataset is located, this time in the directory `chapter_path/dataset`"
      ]
    },
    {
      "cell_type": "code",
      "metadata": {},
      "source": [
        "dataset_path = path.join(\"dataset\", \"howtolens\", \"chapter_1\")"
      ],
      "outputs": [],
      "execution_count": null
    },
    {
      "cell_type": "markdown",
      "metadata": {},
      "source": [
        "We now load this dataset from .fits files and create an instance of an `imaging` object."
      ]
    },
    {
      "cell_type": "code",
      "metadata": {},
      "source": [
        "imaging = al.Imaging.from_fits(\n",
        "    image_path=path.join(dataset_path, \"image.fits\"),\n",
        "    noise_map_path=path.join(dataset_path, \"noise_map.fits\"),\n",
        "    psf_path=path.join(dataset_path, \"psf.fits\"),\n",
        "    pixel_scales=0.1,\n",
        ")"
      ],
      "outputs": [],
      "execution_count": null
    },
    {
      "cell_type": "markdown",
      "metadata": {},
      "source": [
        "We can plot an image as follows:"
      ]
    },
    {
      "cell_type": "code",
      "metadata": {},
      "source": [
        "aplt.Imaging.image(imaging=imaging)"
      ],
      "outputs": [],
      "execution_count": null
    },
    {
      "cell_type": "markdown",
      "metadata": {},
      "source": [
        "Does the figure display correctly on your computer screen? \n",
        "\n",
        "If not, you can customize a number of matplotlib setup options using a Plotter object in **PyAutoLens**."
      ]
    },
    {
      "cell_type": "code",
      "metadata": {},
      "source": [
        "imaging = al.Imaging.from_fits(\n",
        "    image_path=path.join(dataset_path, \"image.fits\"),\n",
        "    noise_map_path=path.join(dataset_path, \"noise_map.fits\"),\n",
        "    psf_path=path.join(dataset_path, \"psf.fits\"),\n",
        "    pixel_scales=0.1,\n",
        ")\n",
        "\n",
        "plotter = aplt.Plotter(\n",
        "    figure=aplt.Figure(figsize=(7, 7)),\n",
        "    ticks=aplt.Ticks(ysize=8, xsize=8),\n",
        "    labels=aplt.Labels(ysize=6, xsize=6, titlesize=12),\n",
        ")\n",
        "\n",
        "aplt.Imaging.image(imaging=imaging, plotter=plotter)"
      ],
      "outputs": [],
      "execution_count": null
    },
    {
      "cell_type": "markdown",
      "metadata": {},
      "source": [
        "Many matplotlib options can be customized, but for now we're only concerned with making sure figures display cleanly in \n",
        "your Jupter Notebooks. However, for future reference, a descrition of all options can be found in the file \n",
        "`autolens_workspace/plot/mat_objs.py`.\n",
        "\n",
        "Ideally, we wouldn't need to specify a new `Plotter` every time we plot an image we make, especially as you'll be \n",
        "changing the same option to the same value over and over again (e.g. the figsize). Fortunately, the default values \n",
        "used by **PyAutoLens** can be fully customized.\n",
        "\n",
        "Checkout the the file `autolens_workspace/config/visualize/figures.ini`.\n",
        "\n",
        "All default matplotlib values used by **PyAutoLens** are here. There`s lots, so lets only focus on whats important for \n",
        "displaying figures correctly:\n",
        "\n",
        "[figures] -> figsize\n",
        "\n",
        "[labels] -> titlesize, ysize, xsize\n",
        "\n",
        "[ticks] -> ysize, xsize\n",
        "\n",
        "Don't worry about all the other options listed in this file for now, as they`ll make a lot more sense once you are \n",
        "familiar with **PyAutoLens**.\n",
        "\n",
        "(Note that you will need to reset your Juypter notebook server for these changes to take effect, so make sure you \n",
        "have the right values using the function above beforehand!)\n",
        "\n",
        "In addition to individual `figures` which use a `plotter` to plot them, **PyAutoLens** also plots `subplots` using a \n",
        "`sub_plotter`. Lets plot a subplot of our `Imaging` data:"
      ]
    },
    {
      "cell_type": "code",
      "metadata": {},
      "source": [
        "aplt.Imaging.subplot_imaging(imaging=imaging)"
      ],
      "outputs": [],
      "execution_count": null
    },
    {
      "cell_type": "markdown",
      "metadata": {},
      "source": [
        "Again, we can customize this subplot using a SubPlotter.\n",
        "\n",
        "(The `.sub` ensures we load the setting values from the config file `autolens_workspace/config/visualize/subplots.ini`"
      ]
    },
    {
      "cell_type": "code",
      "metadata": {},
      "source": [
        "sub_plotter = aplt.SubPlotter(\n",
        "    figure=aplt.Figure.sub(figsize=(7, 7)),\n",
        "    ticks=aplt.Ticks.sub(ysize=8, xsize=8),\n",
        "    labels=aplt.Labels.sub(ysize=6, xsize=6, titlesize=12),\n",
        ")\n",
        "\n",
        "aplt.Imaging.subplot_imaging(imaging=imaging, sub_plotter=sub_plotter)"
      ],
      "outputs": [],
      "execution_count": null
    },
    {
      "cell_type": "markdown",
      "metadata": {},
      "source": [
        "Again, you can customize the default appearance of subplots by editing the config file \n",
        "autolens_workspace/config/visualize/subplots.ini`.\n",
        "\n",
        "The other thing we can do with figures is choose what we include in the plot. For example, we can choose whether to \n",
        "include the origin of the coordinate system on our plot of the image:"
      ]
    },
    {
      "cell_type": "code",
      "metadata": {},
      "source": [
        "aplt.Imaging.image(imaging=imaging, plotter=plotter, include=aplt.Include(origin=True))\n",
        "\n",
        "aplt.Imaging.image(imaging=imaging, plotter=plotter, include=aplt.Include(origin=False))"
      ],
      "outputs": [],
      "execution_count": null
    },
    {
      "cell_type": "markdown",
      "metadata": {},
      "source": [
        "Throughout the **HowToLens** lecture series you'll see lots more objects that can include on figures.\n",
        "\n",
        "Just like the matplotlib setup, you can customize what does and does not appear on figures by default using the \n",
        "config file `autolens_workspace/config/visualize/general.ini`\n",
        "\n",
        "Great! Hopefully, visualization in **PyAutoLens** is displaying nicely for us to get on with the **HowToLens** lecture series."
      ]
    },
    {
      "cell_type": "code",
      "metadata": {},
      "source": [],
      "outputs": [],
      "execution_count": null
    }
  ],
  "metadata": {
    "anaconda-cloud": {},
    "kernelspec": {
      "display_name": "Python 3",
      "language": "python",
      "name": "python3"
    },
    "language_info": {
      "codemirror_mode": {
        "name": "ipython",
        "version": 3
      },
      "file_extension": ".py",
      "mimetype": "text/x-python",
      "name": "python",
      "nbconvert_exporter": "python",
      "pygments_lexer": "ipython3",
      "version": "3.6.1"
    }
  },
  "nbformat": 4,
  "nbformat_minor": 4
}