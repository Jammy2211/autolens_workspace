{
  "cells": [
    {
      "cell_type": "markdown",
      "metadata": {},
      "source": [
        "Tutorial 3: Galaxies\n",
        "====================\n",
        "\n",
        "In this example, we'll use the `mass_profiles` and `light_profiles` modules introduced previously, along with the\n",
        "`galaxy` module to create `Galaxy` objects in **PyAutoLens**. we'll see that:\n",
        "\n",
        "1) `Galaxy`'s can be made from multiple `LightProfile`'s and `MassProfile`'s.\n",
        "\n",
        "2) By taking multiple components, the summed image / deflection angle`s of the profiles are computed.\n",
        "\n",
        "3) `Galaxy`'s have redshifts, defining where they are relative to one another in lensing calculations."
      ]
    },
    {
      "cell_type": "code",
      "metadata": {},
      "source": [
        "%matplotlib inline\n",
        "\n",
        "from pyprojroot import here\n",
        "\n",
        "workspace_path = str(here())\n",
        "%cd $workspace_path\n",
        "print(f\"Working Directory has been set to `{workspace_path}`\")\n",
        "\n",
        "import autolens as al\n",
        "import autolens.plot as aplt"
      ],
      "outputs": [],
      "execution_count": null
    },
    {
      "cell_type": "markdown",
      "metadata": {},
      "source": [
        "Lets use an identical `Grid` to the previous example."
      ]
    },
    {
      "cell_type": "code",
      "metadata": {},
      "source": [
        "grid = al.Grid.uniform(shape_2d=(100, 100), pixel_scales=0.05, sub_size=2)"
      ],
      "outputs": [],
      "execution_count": null
    },
    {
      "cell_type": "markdown",
      "metadata": {},
      "source": [
        "Lets make a `Galaxy` with an `EllipticalSersic` `LightProfile`, by making an `EllipticalSersic` `LightProfile`.and \n",
        "passing it to a `Galaxy` object."
      ]
    },
    {
      "cell_type": "code",
      "metadata": {},
      "source": [
        "sersic_light_profile = al.lp.EllipticalSersic(\n",
        "    centre=(0.0, 0.0),\n",
        "    elliptical_comps=(0.0, 0.111111),\n",
        "    intensity=1.0,\n",
        "    effective_radius=1.0,\n",
        "    sersic_index=2.5,\n",
        ")\n",
        "\n",
        "galaxy_with_light_profile = al.Galaxy(redshift=0.5, light=sersic_light_profile)\n",
        "\n",
        "print(galaxy_with_light_profile)"
      ],
      "outputs": [],
      "execution_count": null
    },
    {
      "cell_type": "markdown",
      "metadata": {},
      "source": [
        "In the previous example, we passed `Grid`'s to the `LightProfile` module to compute its image. We can do the exact same \n",
        "with `Galaxy`'s to again compute the `Galaxy`'s image."
      ]
    },
    {
      "cell_type": "code",
      "metadata": {},
      "source": [
        "galaxy_image = galaxy_with_light_profile.image_from_grid(grid=grid)\n",
        "\n",
        "print(\"intensity of `Grid` pixel 0:\")\n",
        "print(galaxy_image.in_2d[0, 0])\n",
        "print(\"intensity of `Grid` pixel 1:\")\n",
        "print(galaxy_image.in_2d[0, 1])\n",
        "print(\"intensity of `Grid` pixel 2:\")\n",
        "print(galaxy_image.in_2d[0, 2])\n",
        "print(\"etc.\")"
      ],
      "outputs": [],
      "execution_count": null
    },
    {
      "cell_type": "markdown",
      "metadata": {},
      "source": [
        "A galaxy `Plotter` allows us to the plot the image, just like the `Profile` plotters did for a `LightProfile`'s."
      ]
    },
    {
      "cell_type": "code",
      "metadata": {},
      "source": [
        "aplt.Galaxy.image(galaxy=galaxy_with_light_profile, grid=grid)"
      ],
      "outputs": [],
      "execution_count": null
    },
    {
      "cell_type": "markdown",
      "metadata": {},
      "source": [
        "We can pass galaxies as many profiles as we like. Lets create a `Galaxy` with three `LightProfile`'s."
      ]
    },
    {
      "cell_type": "code",
      "metadata": {},
      "source": [
        "light_profile_1 = al.lp.SphericalSersic(\n",
        "    centre=(0.0, 0.0), intensity=1.0, effective_radius=1.0, sersic_index=2.5\n",
        ")\n",
        "\n",
        "light_profile_2 = al.lp.SphericalSersic(\n",
        "    centre=(1.0, 1.0), intensity=1.0, effective_radius=2.0, sersic_index=3.0\n",
        ")\n",
        "\n",
        "light_profile_3 = al.lp.SphericalSersic(\n",
        "    centre=(1.0, -1.0), intensity=1.0, effective_radius=2.0, sersic_index=2.0\n",
        ")\n",
        "\n",
        "galaxy_with_3_light_profiles = al.Galaxy(\n",
        "    redshift=0.5,\n",
        "    light_1=light_profile_1,\n",
        "    light_2=light_profile_2,\n",
        "    light_3=light_profile_3,\n",
        ")\n",
        "\n",
        "print(galaxy_with_3_light_profiles)"
      ],
      "outputs": [],
      "execution_count": null
    },
    {
      "cell_type": "markdown",
      "metadata": {},
      "source": [
        "If we plot the galaxy, we see 3 blobs of light!"
      ]
    },
    {
      "cell_type": "code",
      "metadata": {},
      "source": [
        "aplt.Galaxy.image(galaxy=galaxy_with_3_light_profiles, grid=grid)"
      ],
      "outputs": [],
      "execution_count": null
    },
    {
      "cell_type": "markdown",
      "metadata": {},
      "source": [
        "We can also plot each individual `LightProfile` using the `subplot` galaxy plotter."
      ]
    },
    {
      "cell_type": "code",
      "metadata": {},
      "source": [
        "aplt.Galaxy.image_subplot(galaxy=galaxy_with_3_light_profiles, grid=grid)"
      ],
      "outputs": [],
      "execution_count": null
    },
    {
      "cell_type": "markdown",
      "metadata": {},
      "source": [
        "`MassProfile`'s interact with `Galaxy` objects in the exact same way as `LightProfile`'s. Lets create a `Galaxy` with three \n",
        "`SphericalIsothermal` `MassProfile`'s. "
      ]
    },
    {
      "cell_type": "code",
      "metadata": {},
      "source": [
        "mass_profile_1 = al.mp.SphericalIsothermal(centre=(0.0, 0.0), einstein_radius=1.0)\n",
        "\n",
        "mass_profile_2 = al.mp.SphericalIsothermal(centre=(1.0, 1.0), einstein_radius=1.0)\n",
        "\n",
        "mass_profile_3 = al.mp.SphericalIsothermal(centre=(1.0, -1.0), einstein_radius=1.0)\n",
        "\n",
        "galaxy_with_3_mass_profiles = al.Galaxy(\n",
        "    redshift=0.5, mass_1=mass_profile_1, mass_2=mass_profile_2, mass_3=mass_profile_3\n",
        ")\n",
        "\n",
        "print(galaxy_with_3_mass_profiles)"
      ],
      "outputs": [],
      "execution_count": null
    },
    {
      "cell_type": "markdown",
      "metadata": {},
      "source": [
        "We can use a `Galaxy` `Plotter`.to plot these deflection angles. (Deflection angles of `MassProfile`'s add together just \n",
        "like the `LightProfile` image`s above)"
      ]
    },
    {
      "cell_type": "code",
      "metadata": {},
      "source": [
        "aplt.Galaxy.deflections_y(galaxy=galaxy_with_3_mass_profiles, grid=grid)\n",
        "\n",
        "aplt.Galaxy.deflections_x(galaxy=galaxy_with_3_mass_profiles, grid=grid)"
      ],
      "outputs": [],
      "execution_count": null
    },
    {
      "cell_type": "markdown",
      "metadata": {},
      "source": [
        "I wonder what 3 summed convergence maps or potential`s look like ;)"
      ]
    },
    {
      "cell_type": "code",
      "metadata": {},
      "source": [
        "aplt.Galaxy.convergence(galaxy=galaxy_with_3_mass_profiles, grid=grid)\n",
        "\n",
        "aplt.Galaxy.potential(galaxy=galaxy_with_3_mass_profiles, grid=grid)"
      ],
      "outputs": [],
      "execution_count": null
    },
    {
      "cell_type": "markdown",
      "metadata": {},
      "source": [
        "Finally, a `Galaxy` can take both light and mass profiles, and there is no limit to how many we pass it."
      ]
    },
    {
      "cell_type": "code",
      "metadata": {},
      "source": [
        "light_profile_1 = al.lp.SphericalSersic(\n",
        "    centre=(0.0, 0.0), intensity=1.0, effective_radius=1.0, sersic_index=1.0\n",
        ")\n",
        "\n",
        "light_profile_2 = al.lp.SphericalSersic(\n",
        "    centre=(1.0, 1.0), intensity=1.0, effective_radius=2.0, sersic_index=2.0\n",
        ")\n",
        "\n",
        "light_profile_3 = al.lp.SphericalSersic(\n",
        "    centre=(2.0, 2.0), intensity=1.0, effective_radius=3.0, sersic_index=3.0\n",
        ")\n",
        "\n",
        "light_profile_4 = al.lp.EllipticalSersic(\n",
        "    centre=(1.0, -1.0),\n",
        "    elliptical_comps=(0.3, 0.0),\n",
        "    intensity=1.0,\n",
        "    effective_radius=1.0,\n",
        "    sersic_index=1.0,\n",
        ")\n",
        "\n",
        "mass_profile_1 = al.mp.SphericalIsothermal(centre=(0.0, 0.0), einstein_radius=1.0)\n",
        "\n",
        "mass_profile_2 = al.mp.SphericalIsothermal(centre=(1.0, 1.0), einstein_radius=2.0)\n",
        "\n",
        "mass_profile_3 = al.mp.SphericalIsothermal(centre=(2.0, 2.0), einstein_radius=3.0)\n",
        "\n",
        "mass_profile_4 = al.mp.EllipticalIsothermal(\n",
        "    centre=(1.0, -1.0), elliptical_comps=(0.333333, 0.0), einstein_radius=2.0\n",
        ")\n",
        "\n",
        "galaxy_with_many_profiles = al.Galaxy(\n",
        "    redshift=0.5,\n",
        "    light_1=light_profile_1,\n",
        "    light_2=light_profile_2,\n",
        "    light_3=light_profile_3,\n",
        "    light_4=light_profile_4,\n",
        "    mass_1=mass_profile_1,\n",
        "    mass_2=mass_profile_2,\n",
        "    mass_3=mass_profile_3,\n",
        "    mass_4=mass_profile_4,\n",
        ")"
      ],
      "outputs": [],
      "execution_count": null
    },
    {
      "cell_type": "markdown",
      "metadata": {},
      "source": [
        "Suffice to say, the `Galaxy`'s images, convergence, potential and deflections look pretty interesting."
      ]
    },
    {
      "cell_type": "code",
      "metadata": {},
      "source": [
        "aplt.Galaxy.image(galaxy=galaxy_with_many_profiles, grid=grid)\n",
        "\n",
        "aplt.Galaxy.convergence(galaxy=galaxy_with_many_profiles, grid=grid)\n",
        "\n",
        "aplt.Galaxy.potential(galaxy=galaxy_with_many_profiles, grid=grid)\n",
        "\n",
        "aplt.Galaxy.deflections_y(galaxy=galaxy_with_many_profiles, grid=grid)\n",
        "\n",
        "aplt.Galaxy.deflections_x(galaxy=galaxy_with_many_profiles, grid=grid)"
      ],
      "outputs": [],
      "execution_count": null
    },
    {
      "cell_type": "markdown",
      "metadata": {},
      "source": [
        "And we`re done. Lets finished by just thinking about one question:\n",
        "\n",
        " 1) We've learnt we can group profiles into `Galaxy`'s to essentially sum the contribution of each `LightProfile` to \n",
        " the galaxy image`s intensity, or sum the contribution of each `MassProfile` to the convergence, potential and \n",
        " deflection angles. In strong lensing, there are often multiple galaxies next to one another responsible for the \n",
        " lensing - how might we account for this?"
      ]
    }
  ],
  "metadata": {
    "anaconda-cloud": {},
    "kernelspec": {
      "display_name": "Python 3",
      "language": "python",
      "name": "python3"
    },
    "language_info": {
      "codemirror_mode": {
        "name": "ipython",
        "version": 3
      },
      "file_extension": ".py",
      "mimetype": "text/x-python",
      "name": "python",
      "nbconvert_exporter": "python",
      "pygments_lexer": "ipython3",
      "version": "3.6.1"
    }
  },
  "nbformat": 4,
  "nbformat_minor": 4
}