{
  "cells": [
    {
      "cell_type": "markdown",
      "metadata": {},
      "source": [
        "Tutorial 2: Profiles\n",
        "====================\n",
        "\n",
        "In this example, we'll create a `Grid` of Cartesian $(y,x)$ coordinates and pass it to the `light_profiles`  module to\n",
        "create images on this `Grid` and the `mass_profiles` module to create deflection-angle maps on this grid."
      ]
    },
    {
      "cell_type": "code",
      "metadata": {},
      "source": [
        "%matplotlib inline\n",
        "\n",
        "from pyprojroot import here\n",
        "\n",
        "workspace_path = str(here())\n",
        "%cd $workspace_path\n",
        "print(f\"Working Directory has been set to `{workspace_path}`\")\n",
        "\n",
        "import autolens as al\n",
        "import autolens.plot as aplt"
      ],
      "outputs": [],
      "execution_count": null
    },
    {
      "cell_type": "markdown",
      "metadata": {},
      "source": [
        "Lets use the same `Grid` as the previous tutorial (if you skipped that tutorial, I recommend you go back to it!)"
      ]
    },
    {
      "cell_type": "code",
      "metadata": {},
      "source": [
        "grid = al.Grid.uniform(shape_2d=(100, 100), pixel_scales=0.05, sub_size=2)"
      ],
      "outputs": [],
      "execution_count": null
    },
    {
      "cell_type": "markdown",
      "metadata": {},
      "source": [
        "Next, lets create a `LightProfile` using the `light_profiles` module, which in **PyAutoLens** is imported as `lp` for \n",
        "conciseness. we'll use an `EllipticalSersic` function, which is an analytic function often use to depict galaxies.\n",
        "\n",
        "(If you are unsure what the `elliptical_comps` are, I'll give a description of them at the end of the tutorial.)"
      ]
    },
    {
      "cell_type": "code",
      "metadata": {},
      "source": [
        "sersic_light_profile = al.lp.EllipticalSersic(\n",
        "    centre=(0.0, 0.0),\n",
        "    elliptical_comps=(0.0, 0.111111),\n",
        "    intensity=1.0,\n",
        "    effective_radius=1.0,\n",
        "    sersic_index=2.5,\n",
        ")"
      ],
      "outputs": [],
      "execution_count": null
    },
    {
      "cell_type": "markdown",
      "metadata": {},
      "source": [
        "We can print a `Profile` to confirm its parameters."
      ]
    },
    {
      "cell_type": "code",
      "metadata": {},
      "source": [
        "print(sersic_light_profile)"
      ],
      "outputs": [],
      "execution_count": null
    },
    {
      "cell_type": "markdown",
      "metadata": {},
      "source": [
        "We can pass a `Grid` to a `LightProfile` to compute its intensity at every `Grid` coordinate, using a `_from_grid`\n",
        "method"
      ]
    },
    {
      "cell_type": "code",
      "metadata": {},
      "source": [
        "light_image = sersic_light_profile.image_from_grid(grid=grid)"
      ],
      "outputs": [],
      "execution_count": null
    },
    {
      "cell_type": "markdown",
      "metadata": {},
      "source": [
        "Much like the `Grid` objects in the previous tutorials, these functions return **PyAutoLens** `Array` objects which are \n",
        "accessible in both 2D and 1D."
      ]
    },
    {
      "cell_type": "code",
      "metadata": {},
      "source": [
        "print(light_image.shape_2d)\n",
        "print(light_image.shape_1d)\n",
        "print(light_image.in_2d[0, 0])\n",
        "print(light_image.in_1d[0])\n",
        "print(light_image.in_2d)\n",
        "print(light_image.in_1d)"
      ],
      "outputs": [],
      "execution_count": null
    },
    {
      "cell_type": "markdown",
      "metadata": {},
      "source": [
        "The values computed (e.g. the image) are calculated on the sub-grid and the returned values are stored on the sub-grid, \n",
        "which in this case is a 200 x 200 grid."
      ]
    },
    {
      "cell_type": "code",
      "metadata": {},
      "source": [
        "print(light_image.sub_shape_2d)\n",
        "print(light_image.sub_shape_1d)\n",
        "print(light_image.in_2d[0, 0])\n",
        "print(light_image[0])"
      ],
      "outputs": [],
      "execution_count": null
    },
    {
      "cell_type": "markdown",
      "metadata": {},
      "source": [
        "The benefit of storing all the values on the sub-grid, is that we can now use these values to bin-up the regular grid`s \n",
        "shape by taking the mean of each intensity value computed on the sub-grid. This ensures that aliasing effects due to \n",
        "computing intensities at only one pixel coordinate inside a full pixel does not degrade the image we create."
      ]
    },
    {
      "cell_type": "code",
      "metadata": {},
      "source": [
        "print(\"intensity of top-left `Grid` pixel:\")\n",
        "print(light_image.in_2d_binned[0, 0])\n",
        "print(light_image.in_1d_binned[0])"
      ],
      "outputs": [],
      "execution_count": null
    },
    {
      "cell_type": "markdown",
      "metadata": {},
      "source": [
        "If you find these 2D and 1D `Array`'s confusing - I wouldn't worry about it. From here on, we'll pretty much just use \n",
        "these `Array`'s as they returned to us from functions and not think about if they should be in 2D or 1D. Nevertheless, \n",
        "its important that you understand **PyAutoLens** offers these 2D and 1D representations - as it`ll help us later when we \n",
        "cover fititng lens data!\n",
        "\n",
        "We can use a `Profile` `Plotter`.to plot this image."
      ]
    },
    {
      "cell_type": "code",
      "metadata": {},
      "source": [
        "aplt.LightProfile.image(light_profile=sersic_light_profile, grid=grid)"
      ],
      "outputs": [],
      "execution_count": null
    },
    {
      "cell_type": "markdown",
      "metadata": {},
      "source": [
        "To perform ray-tracing, we need to create a `MassProfile` from the `mass_profiles` module, which we import as `mp` for \n",
        "conciseness. \n",
        "\n",
        "A `MassProfile` is an analytic function that describes the distribution of mass in a galaxy, and therefore \n",
        "can be used to derive its surface-density, gravitational potential and most importantly, its deflection angles. For \n",
        "those unfamiliar with lensing, the deflection angles describe how light is bent by the `MassProfile` due to the \n",
        "curvature of space-time."
      ]
    },
    {
      "cell_type": "code",
      "metadata": {},
      "source": [
        "sis_mass_profile = al.mp.SphericalIsothermal(centre=(0.0, 0.0), einstein_radius=1.6)\n",
        "\n",
        "print(sis_mass_profile)"
      ],
      "outputs": [],
      "execution_count": null
    },
    {
      "cell_type": "markdown",
      "metadata": {},
      "source": [
        "Just like above, we can pass a `Grid` to a `MassProfile` to compute its deflection angles. These are returned as the \n",
        "`Grid``s we used in the previous tutorials, so have full access to the 2D / 1D methods and mappings. And, just like \n",
        "the image above, they are computed on the sub-grid, so that we can bin up their values to compute more accurate \n",
        "deflection angles.\n",
        "\n",
        "(If you are new to gravitiational lensing, and are unclear on what a `deflection-angle` means or what it is used for, \n",
        "then I'll explain all in tutorial 4 of this chapter. For now, just look at the pretty pictures they make, and worry \n",
        "about what they mean in tutorial 4!)."
      ]
    },
    {
      "cell_type": "code",
      "metadata": {},
      "source": [
        "mass_profile_deflections = sis_mass_profile.deflections_from_grid(grid=grid)\n",
        "\n",
        "print(\"deflection-angles of `Grid` sub-pixel 0:\")\n",
        "print(mass_profile_deflections.in_2d[0, 0])\n",
        "print(\"deflection-angles of `Grid` sub-pixel 1:\")\n",
        "print(mass_profile_deflections.in_2d[0, 1])\n",
        "print()\n",
        "print(\"deflection-angles of `Grid` pixel 0:\")\n",
        "print(mass_profile_deflections.in_2d_binned[0, 1])\n",
        "print()\n",
        "print(\"deflection-angles of central `Grid` pixels:\")\n",
        "print(mass_profile_deflections.in_2d_binned[49, 49])\n",
        "print(mass_profile_deflections.in_2d_binned[49, 50])\n",
        "print(mass_profile_deflections.in_2d_binned[50, 49])\n",
        "print(mass_profile_deflections.in_2d_binned[50, 50])"
      ],
      "outputs": [],
      "execution_count": null
    },
    {
      "cell_type": "markdown",
      "metadata": {},
      "source": [
        "A `Profile` `Plotter`.can plot these deflection angles.\n",
        "\n",
        "(The black and red lines are the `critical curve` and `caustic` of the `MassProfile`. we'll cover what these are in \n",
        "a later tutorial.)"
      ]
    },
    {
      "cell_type": "code",
      "metadata": {},
      "source": [
        "aplt.MassProfile.deflections_y(mass_profile=sis_mass_profile, grid=grid)\n",
        "aplt.MassProfile.deflections_x(mass_profile=sis_mass_profile, grid=grid)"
      ],
      "outputs": [],
      "execution_count": null
    },
    {
      "cell_type": "markdown",
      "metadata": {},
      "source": [
        "`MassProfile`'s have a range of other properties that are used for lensing calculations, a couple of which we've plotted \n",
        "images of below:\n",
        "\n",
        "   - Convergence: The surface mass density of the `MassProfile` in dimensionless units which are convenient for \n",
        "                  lensing calcuations.\n",
        "   - Potential: The gravitational of the `MassProfile` again in convenient dimensionless units.\n",
        "   - Magnification: Describes how much brighter each image-pixel appears due to focusing of light rays by the `MassProfile`.\n",
        "\n",
        "Extracting `Array`'s of these quantities from **PyAutoLens** is exactly the same as for the image and deflection angles above."
      ]
    },
    {
      "cell_type": "code",
      "metadata": {},
      "source": [
        "mass_profile_convergence = sis_mass_profile.convergence_from_grid(grid=grid)\n",
        "\n",
        "mass_profile_potential = sis_mass_profile.potential_from_grid(grid=grid)\n",
        "\n",
        "mass_profile_magnification = sis_mass_profile.magnification_from_grid(grid=grid)"
      ],
      "outputs": [],
      "execution_count": null
    },
    {
      "cell_type": "markdown",
      "metadata": {},
      "source": [
        "Plotting them is equally straight forward."
      ]
    },
    {
      "cell_type": "code",
      "metadata": {},
      "source": [
        "aplt.MassProfile.convergence(mass_profile=sis_mass_profile, grid=grid)\n",
        "\n",
        "aplt.MassProfile.potential(mass_profile=sis_mass_profile, grid=grid)\n",
        "\n",
        "aplt.MassProfile.magnification(mass_profile=sis_mass_profile, grid=grid)"
      ],
      "outputs": [],
      "execution_count": null
    },
    {
      "cell_type": "markdown",
      "metadata": {},
      "source": [
        "Congratulations, you`ve completed your second **PyAutoLens** tutorial! Before moving on to the next one, experiment with \n",
        "**PyAutoLens** by doing the following:\n",
        "\n",
        "1) Change the `LightProfile`'s effective radius and Sersic index - how does the image's appearance change?\n",
        "2) Change the `MassProfile`'s einstein radius - what happens to the deflection angles, potential and convergence?\n",
        "3) Experiment with different `LightProfile`'s and `MassProfile`'s in the light_profiles and mass_profiles modules. \n",
        "In particular, use the `EllipticalIsothermal` `Profile`.to introduce ellipticity into a `MassProfile`."
      ]
    },
    {
      "cell_type": "markdown",
      "metadata": {},
      "source": [
        "___Elliptical Components___\n",
        "\n",
        "The `elliptical_comps` describe the ellipticity of the geometry of the light and mass profiles. You may be more \n",
        "familiar with a coordinate system where the ellipse is defined in terms of:\n",
        "\n",
        "   - axis_ratio = semi-major axis / semi-minor axis = b/a\n",
        "   - position angle phi, where phi is in degrees.\n",
        "\n",
        "We can use the **PyAutoLens** `convert` module to determine the elliptical components from the axis-ratio and phi,\n",
        "noting that the position angle phi is defined counter-clockwise from the positive x-axis."
      ]
    },
    {
      "cell_type": "code",
      "metadata": {},
      "source": [
        "elliptical_comps = al.convert.elliptical_comps_from(axis_ratio=0.5, phi=45.0)\n",
        "\n",
        "print(elliptical_comps)"
      ],
      "outputs": [],
      "execution_count": null
    },
    {
      "cell_type": "markdown",
      "metadata": {},
      "source": [
        "The elliptical components are related to the axis-ratio and position angle phi as follows:\n",
        "\n",
        "    fac = (1 - axis_ratio) / (1 + axis_ratio)\n",
        "    \n",
        "    elliptical_comp[0] = elliptical_comp_y = fac * np.sin(2 * phi)\n",
        "    elliptical_comp[1] = elliptical_comp_x = fac * np.cos(2 * phi)\n",
        "\n",
        "The reason we use the elliptical components, instead of the axis-ratio and phi, to define a `Profile` geometry is that it\n",
        "improves the lens modeling process. What is lens modeling? You'll find out in chapter 2!"
      ]
    }
  ],
  "metadata": {
    "anaconda-cloud": {},
    "kernelspec": {
      "display_name": "Python 3",
      "language": "python",
      "name": "python3"
    },
    "language_info": {
      "codemirror_mode": {
        "name": "ipython",
        "version": 3
      },
      "file_extension": ".py",
      "mimetype": "text/x-python",
      "name": "python",
      "nbconvert_exporter": "python",
      "pygments_lexer": "ipython3",
      "version": "3.6.1"
    }
  },
  "nbformat": 4,
  "nbformat_minor": 4
}