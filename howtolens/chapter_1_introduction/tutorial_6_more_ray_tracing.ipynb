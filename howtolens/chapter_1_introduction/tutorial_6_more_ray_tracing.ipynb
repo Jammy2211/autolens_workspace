{
  "cells": [
    {
      "cell_type": "markdown",
      "metadata": {},
      "source": [
        "Tutorial 6: More Ray Tracing\n",
        "============================\n",
        "\n",
        "In this example, we'll reinforce what we learnt about ray-tracing in the last tutorial and introduce the following\n",
        "new concepts:\n",
        "\n",
        "1) That a `Tracer` can be given any number of galaxies.\n",
        "\n",
        "2) That by specifying redshifts and a cosmology, our results are converted to physical unit_label of\n",
        "kiloparsecs (kpc)."
      ]
    },
    {
      "cell_type": "code",
      "metadata": {},
      "source": [
        "%matplotlib inline\n",
        "\n",
        "from pyprojroot import here\n",
        "\n",
        "workspace_path = str(here())\n",
        "%cd $workspace_path\n",
        "print(f\"Working Directory has been set to `{workspace_path}`\")\n",
        "\n",
        "import autolens as al\n",
        "import autolens.plot as aplt\n",
        "\n",
        "from astropy import cosmology"
      ],
      "outputs": [],
      "execution_count": null
    },
    {
      "cell_type": "markdown",
      "metadata": {},
      "source": [
        "To begin, lets setup the `Grid`'s we `ll ray-trace using. Lets do something crazy, and use a higher resolution `Grid` \n",
        "then before and set the sub `Grid` size to 4x4 per pixel!\n",
        "\n",
        "Every pixel is sub-gridded by 4x4, so the sub-grid has x16 more coordinates.\n",
        "\n",
        "Lets also stop calling it the `image_plane_grid`, and just remember from now on our `grid` is in the image-plane."
      ]
    },
    {
      "cell_type": "code",
      "metadata": {},
      "source": [
        "grid = al.Grid.uniform(shape_2d=(200, 200), pixel_scales=0.025, sub_size=2)"
      ],
      "outputs": [],
      "execution_count": null
    },
    {
      "cell_type": "markdown",
      "metadata": {},
      "source": [
        "Every pixel is sub-gridded by 4x4, so the sub-grid has x16 more coordinates."
      ]
    },
    {
      "cell_type": "code",
      "metadata": {},
      "source": [
        "print(grid.sub_shape_2d)\n",
        "print(grid.sub_shape_1d)"
      ],
      "outputs": [],
      "execution_count": null
    },
    {
      "cell_type": "markdown",
      "metadata": {},
      "source": [
        "Next, lets setup a lens galaxy. In the previous tutorial, we set up each `Profile` one line at a time. This made code \n",
        "long and cumbersome to read. This time we'll setup easy galaxy using one block of code. \n",
        " \n",
        "\n",
        "we'll also give the lens galaxy some attributes we didn`t in the last tutorial:\n",
        "\n",
        " 1) A `LightProfile`, meaning its light will appear in the image.\n",
        " 2) An external shear, which accounts for the deflection of light due to line-of-sight structures.\n",
        " 3) A redshift, which the `Tracer` will use to convert arc second coordinates to kpc."
      ]
    },
    {
      "cell_type": "code",
      "metadata": {},
      "source": [
        "lens_galaxy = al.Galaxy(\n",
        "    redshift=0.5,\n",
        "    bulge=al.lp.SphericalSersic(\n",
        "        centre=(0.0, 0.0), intensity=2.0, effective_radius=0.5, sersic_index=2.5\n",
        "    ),\n",
        "    mass=al.mp.EllipticalIsothermal(\n",
        "        centre=(0.0, 0.0), elliptical_comps=(0.0, -0.111111), einstein_radius=1.6\n",
        "    ),\n",
        "    shear=al.mp.ExternalShear(elliptical_comps=(0.05, 0.0)),\n",
        ")\n",
        "\n",
        "print(lens_galaxy)"
      ],
      "outputs": [],
      "execution_count": null
    },
    {
      "cell_type": "markdown",
      "metadata": {},
      "source": [
        "Lets also create a small satellite galaxy nearby the lens galaxy and at the same redshift."
      ]
    },
    {
      "cell_type": "code",
      "metadata": {},
      "source": [
        "lens_satellite = al.Galaxy(\n",
        "    redshift=0.5,\n",
        "    bulge=al.lp.SphericalDevVaucouleurs(\n",
        "        centre=(1.0, 0.0), intensity=2.0, effective_radius=0.2\n",
        "    ),\n",
        "    mass=al.mp.SphericalIsothermal(centre=(1.0, 0.0), einstein_radius=0.4),\n",
        ")\n",
        "\n",
        "print(lens_satellite)"
      ],
      "outputs": [],
      "execution_count": null
    },
    {
      "cell_type": "markdown",
      "metadata": {},
      "source": [
        "Lets have a quick look at the appearance of our lens galaxy and its satellite."
      ]
    },
    {
      "cell_type": "code",
      "metadata": {},
      "source": [
        "aplt.Galaxy.image(\n",
        "    galaxy=lens_galaxy,\n",
        "    grid=grid,\n",
        "    plotter=aplt.Plotter(labels=aplt.Labels(title=\"Lens Galaxy\")),\n",
        ")\n",
        "\n",
        "aplt.Galaxy.image(\n",
        "    galaxy=lens_satellite,\n",
        "    grid=grid,\n",
        "    plotter=aplt.Plotter(labels=aplt.Labels(title=\"Lens Satellite\")),\n",
        ")"
      ],
      "outputs": [],
      "execution_count": null
    },
    {
      "cell_type": "markdown",
      "metadata": {},
      "source": [
        "And their deflection angles - note that the satellite doesn`t contribute as much to the deflections."
      ]
    },
    {
      "cell_type": "code",
      "metadata": {},
      "source": [
        "aplt.Galaxy.deflections_y(\n",
        "    galaxy=lens_galaxy,\n",
        "    grid=grid,\n",
        "    plotter=aplt.Plotter(labels=aplt.Labels(title=\"Lens Galaxy Deflections (y)\")),\n",
        ")\n",
        "aplt.Galaxy.deflections_y(\n",
        "    galaxy=lens_satellite,\n",
        "    grid=grid,\n",
        "    plotter=aplt.Plotter(labels=aplt.Labels(title=\"Lens Satellite Deflections (y)\")),\n",
        ")\n",
        "aplt.Galaxy.deflections_x(\n",
        "    galaxy=lens_galaxy,\n",
        "    grid=grid,\n",
        "    plotter=aplt.Plotter(labels=aplt.Labels(title=\"Lens Galalxy Deflections (x)\")),\n",
        ")\n",
        "aplt.Galaxy.deflections_x(\n",
        "    galaxy=lens_satellite,\n",
        "    grid=grid,\n",
        "    plotter=aplt.Plotter(labels=aplt.Labels(title=\"Lens Satellite Deflections (x)\")),\n",
        ")"
      ],
      "outputs": [],
      "execution_count": null
    },
    {
      "cell_type": "markdown",
      "metadata": {},
      "source": [
        "Now, lets make two source galaxies at redshift 1.0. Lets not use the terms `light` and `mass` to setup the light and \n",
        "`MassProfile`'s. Instead, lets use more descriptive names of what we think each component represents ( e.g. a `bulge` \n",
        "and `disk`)."
      ]
    },
    {
      "cell_type": "code",
      "metadata": {},
      "source": [
        "source_galaxy_0 = al.Galaxy(\n",
        "    redshift=1.0,\n",
        "    bulge=al.lp.SphericalDevVaucouleurs(\n",
        "        centre=(0.1, 0.2), intensity=0.3, effective_radius=0.3\n",
        "    ),\n",
        "    disk=al.lp.EllipticalExponential(\n",
        "        centre=(0.1, 0.2),\n",
        "        elliptical_comps=(0.111111, 0.0),\n",
        "        intensity=3.0,\n",
        "        effective_radius=2.0,\n",
        "    ),\n",
        ")\n",
        "\n",
        "source_galaxy_1 = al.Galaxy(\n",
        "    redshift=1.0,\n",
        "    disk=al.lp.EllipticalExponential(\n",
        "        centre=(-0.3, -0.5),\n",
        "        elliptical_comps=(0.1, 0.0),\n",
        "        intensity=8.0,\n",
        "        effective_radius=1.0,\n",
        "    ),\n",
        ")\n",
        "\n",
        "print(source_galaxy_0)\n",
        "print(source_galaxy_1)"
      ],
      "outputs": [],
      "execution_count": null
    },
    {
      "cell_type": "markdown",
      "metadata": {},
      "source": [
        "Lets look at our source galaxies (before lensing)"
      ]
    },
    {
      "cell_type": "code",
      "metadata": {},
      "source": [
        "aplt.Galaxy.image(\n",
        "    galaxy=source_galaxy_0,\n",
        "    grid=grid,\n",
        "    plotter=aplt.Plotter(labels=aplt.Labels(title=\"Source Galaxy 0\")),\n",
        ")\n",
        "\n",
        "aplt.Galaxy.image(\n",
        "    galaxy=source_galaxy_1,\n",
        "    grid=grid,\n",
        "    plotter=aplt.Plotter(labels=aplt.Labels(title=\"Source Galaxy 1\")),\n",
        ")\n"
      ],
      "outputs": [],
      "execution_count": null
    },
    {
      "cell_type": "markdown",
      "metadata": {},
      "source": [
        "Now lets pass our 4 galaxies to the ray_tracing module, which means the following will occur:\n",
        "\n",
        " 1) Using the galaxy redshift`s, and image-plane and source-plane will be created with the appopriate galaxies.\n",
        "\n",
        "Note that we've also supplied the `Tracer` below with a Planck15 cosmology."
      ]
    },
    {
      "cell_type": "code",
      "metadata": {},
      "source": [
        "tracer = al.Tracer.from_galaxies(\n",
        "    galaxies=[lens_galaxy, lens_satellite, source_galaxy_0, source_galaxy_1],\n",
        "    cosmology=cosmology.Planck15,\n",
        ")"
      ],
      "outputs": [],
      "execution_count": null
    },
    {
      "cell_type": "markdown",
      "metadata": {},
      "source": [
        "We can next plot the tracer`s `Profile` image, which is compute as follows:\n",
        "\n",
        " 1) First, using the image-plane `Grid`, the images of the lens galaxy and its satellite are computed.\n",
        "\n",
        " 2) Using the `MassProfile`'s of the lens and satellite, their deflection angles are computed.\n",
        "\n",
        " 3) These deflection angles are summed, such that the deflection of light due to every `MassProfile` and both the lens \n",
        " galaxy and its satellite is computed.\n",
        "\n",
        " 4) These deflection angles are used to trace every image-grid coordinate to a source-plane coordinate.\n",
        "\n",
        " 5) The image of the source galaxies is computed by ray-tracing their light back to the image-plane."
      ]
    },
    {
      "cell_type": "code",
      "metadata": {},
      "source": [
        "aplt.Tracer.image(tracer=tracer, grid=grid)"
      ],
      "outputs": [],
      "execution_count": null
    },
    {
      "cell_type": "markdown",
      "metadata": {},
      "source": [
        "As we did previously, we can extract the `Grid`'s of each plane and inspect the source-plane grid."
      ]
    },
    {
      "cell_type": "code",
      "metadata": {},
      "source": [
        "traced_grids = tracer.traced_grids_of_planes_from_grid(grid=grid)\n",
        "\n",
        "aplt.Plane.plane_grid(\n",
        "    plane=tracer.source_plane,\n",
        "    grid=traced_grids[1],\n",
        "    plotter=aplt.Plotter(labels=aplt.Labels(title=\"Source-plane Grid\")),\n",
        ")"
      ],
      "outputs": [],
      "execution_count": null
    },
    {
      "cell_type": "markdown",
      "metadata": {},
      "source": [
        "We can zoom in on the `centre` of the source-plane."
      ]
    },
    {
      "cell_type": "code",
      "metadata": {},
      "source": [
        "aplt.Plane.plane_grid(\n",
        "    plane=tracer.source_plane,\n",
        "    grid=traced_grids[1],\n",
        "    axis_limits=[-0.2, 0.2, -0.2, 0.2],\n",
        "    plotter=aplt.Plotter(labels=aplt.Labels(title=\"Source-plane Grid\")),\n",
        ")"
      ],
      "outputs": [],
      "execution_count": null
    },
    {
      "cell_type": "markdown",
      "metadata": {},
      "source": [
        "Lets plot the lensing quantities again. Note that, because we supplied our galaxies with redshifts and our `Tracer` with \n",
        "a cosmology, our unit can be converted to kiloparsecs! (This cell can take a bit of time to run)"
      ]
    },
    {
      "cell_type": "code",
      "metadata": {},
      "source": [
        "sub_plotter = aplt.SubPlotter(units=aplt.Units(in_kpc=True))\n",
        "aplt.Tracer.subplot_tracer(tracer=tracer, grid=grid, sub_plotter=sub_plotter)"
      ],
      "outputs": [],
      "execution_count": null
    },
    {
      "cell_type": "markdown",
      "metadata": {},
      "source": [
        "In the previous example, we saw that the `Tracer` had attributes we plotted (e.g. convergence, potential, etc.). Now \n",
        "we've input a cosmology and galaxy redshifts, the `Tracer` has attributes associated with its cosmology."
      ]
    },
    {
      "cell_type": "code",
      "metadata": {},
      "source": [
        "print(\"Image-plane arcsec-per-kpc:\")\n",
        "print(tracer.image_plane.arcsec_per_kpc)\n",
        "print(\"Image-plane kpc-per-arcsec:\")\n",
        "print(tracer.image_plane.kpc_per_arcsec)\n",
        "print(\"Angular Diameter Distance to Image-plane:\")\n",
        "print(tracer.image_plane.angular_diameter_distance_to_earth_in_units(unit_length=\"kpc\"))\n",
        "\n",
        "print(\"Source-plane arcsec-per-kpc:\")\n",
        "print(tracer.source_plane.arcsec_per_kpc)\n",
        "print(\"Source-plane kpc-per-arcsec:\")\n",
        "print(tracer.source_plane.kpc_per_arcsec)\n",
        "print(\"Angular Diameter Distance to Source-plane:\")\n",
        "print(\n",
        "    tracer.source_plane.angular_diameter_distance_to_earth_in_units(unit_length=\"kpc\")\n",
        ")\n",
        "\n",
        "print(\"Angular Diameter Distance From Image To Source Plane:\")\n",
        "print(\n",
        "    tracer.angular_diameter_distance_from_image_to_source_plane_in_units(\n",
        "        unit_length=\"kpc\"\n",
        "    )\n",
        ")\n",
        "print(\"Lensing Critical convergence:\")\n",
        "print(\n",
        "    tracer.critical_surface_density_between_planes_in_units(i=0, j=1, unit_length=\"kpc\")\n",
        ")"
      ],
      "outputs": [],
      "execution_count": null
    },
    {
      "cell_type": "markdown",
      "metadata": {},
      "source": [
        "And with that, we've completed tutorial 6. Try the following:\n",
        "\n",
        " 1) By changing the lens and source galaxy redshifts, does the image of the `Tracer` change at all?\n",
        "\n",
        " 2) What happens to the cosmological quantities as you change these redshifts? Do you remember enough of your \n",
        "       cosmology lectures to predict how quantities like the angular diameter distance change as a function of redshift?\n",
        "\n",
        " 3) The `Tracer` has a small delay in being computed, whereas other tracers were almost instant. What do you think \n",
        "    is the cause of this slow-down?"
      ]
    }
  ],
  "metadata": {
    "anaconda-cloud": {},
    "kernelspec": {
      "display_name": "Python 3",
      "language": "python",
      "name": "python3"
    },
    "language_info": {
      "codemirror_mode": {
        "name": "ipython",
        "version": 3
      },
      "file_extension": ".py",
      "mimetype": "text/x-python",
      "name": "python",
      "nbconvert_exporter": "python",
      "pygments_lexer": "ipython3",
      "version": "3.6.1"
    }
  },
  "nbformat": 4,
  "nbformat_minor": 4
}