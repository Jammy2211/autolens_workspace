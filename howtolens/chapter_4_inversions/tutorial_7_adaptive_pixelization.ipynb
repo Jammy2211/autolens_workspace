{
  "cells": [
    {
      "cell_type": "markdown",
      "metadata": {},
      "source": [
        "__Adaptive Pixelization__\n",
        "\n",
        "In this tutorial we'll use a new pixelization, called the VoronoiMagnification pixelization. This pixelization\n",
        " doesn't use a uniform grid of rectangular pixels, but instead uses an irregular 'Voronoi' pixels. So, why do we\n",
        " want to do that? Lets take another quick look at the rectangular grid.."
      ]
    },
    {
      "cell_type": "code",
      "metadata": {},
      "source": [
        "%matplotlib inline\n",
        "\n",
        "import autolens as al\n",
        "import autolens.plot as aplt"
      ],
      "outputs": [],
      "execution_count": null
    },
    {
      "cell_type": "markdown",
      "metadata": {},
      "source": [
        "This simulates the same the image we've fitted in the past few tutorials."
      ]
    },
    {
      "cell_type": "code",
      "metadata": {},
      "source": [
        "def simulate():\n",
        "\n",
        "    grid = al.Grid.uniform(shape_2d=(150, 150), pixel_scales=0.05, sub_size=2)\n",
        "\n",
        "    psf = al.Kernel.from_gaussian(shape_2d=(11, 11), sigma=0.05, pixel_scales=0.05)\n",
        "\n",
        "    lens_galaxy = al.Galaxy(\n",
        "        redshift=0.5,\n",
        "        mass=al.mp.EllipticalIsothermal(\n",
        "            centre=(0.0, 0.0), axis_ratio=0.8, phi=45.0, einstein_radius=1.6\n",
        "        ),\n",
        "    )\n",
        "\n",
        "    source_galaxy = al.Galaxy(\n",
        "        redshift=1.0,\n",
        "        light=al.lp.EllipticalSersic(\n",
        "            centre=(0.0, 0.0),\n",
        "            axis_ratio=0.7,\n",
        "            phi=135.0,\n",
        "            intensity=0.2,\n",
        "            effective_radius=0.2,\n",
        "            sersic_index=2.5,\n",
        "        ),\n",
        "    )\n",
        "\n",
        "    tracer = al.Tracer.from_galaxies(galaxies=[lens_galaxy, source_galaxy])\n",
        "\n",
        "    simulator = al.SimulatorImaging(\n",
        "        exposure_time_map=al.Array.full(fill_value=300.0, shape_2d=grid.shape_2d),\n",
        "        psf=psf,\n",
        "        background_sky_map=al.Array.full(fill_value=100.0, shape_2d=grid.shape_2d),\n",
        "        add_noise=True,\n",
        "    )\n",
        "\n",
        "    return simulator.from_tracer_and_grid(tracer=tracer, grid=grid)\n"
      ],
      "outputs": [],
      "execution_count": null
    },
    {
      "cell_type": "markdown",
      "metadata": {},
      "source": [
        "Lets quickly remind ourselves of the image and the 3.0\" circular mask we'll use to mask it."
      ]
    },
    {
      "cell_type": "code",
      "metadata": {},
      "source": [
        "imaging = simulate()\n",
        "\n",
        "mask = al.Mask.circular(\n",
        "    shape_2d=imaging.shape_2d, pixel_scales=imaging.pixel_scales, sub_size=2, radius=2.5\n",
        ")\n",
        "\n",
        "aplt.Imaging.subplot_imaging(imaging=imaging, mask=mask)"
      ],
      "outputs": [],
      "execution_count": null
    },
    {
      "cell_type": "markdown",
      "metadata": {},
      "source": [
        "The lines of code below do everything we're used to, that is, setup an image, mask it, trace it via a tracer, \n",
        "setup the rectangular mapper, etc."
      ]
    },
    {
      "cell_type": "code",
      "metadata": {},
      "source": [
        "lens_galaxy = al.Galaxy(\n",
        "    redshift=0.5,\n",
        "    mass=al.mp.EllipticalIsothermal(\n",
        "        centre=(0.0, 0.0), axis_ratio=0.8, phi=45.0, einstein_radius=1.6\n",
        "    ),\n",
        ")\n",
        "\n",
        "masked_imaging = al.MaskedImaging(imaging=imaging, mask=mask)\n",
        "\n",
        "source_galaxy = al.Galaxy(\n",
        "    redshift=1.0,\n",
        "    pixelization=al.pix.Rectangular(shape=(40, 40)),\n",
        "    regularization=al.reg.Constant(coefficient=0.5),\n",
        ")\n",
        "\n",
        "tracer = al.Tracer.from_galaxies(galaxies=[lens_galaxy, source_galaxy])\n",
        "\n",
        "fit = al.FitImaging(masked_imaging=masked_imaging, tracer=tracer)\n",
        "\n",
        "aplt.FitImaging.subplot_fit_imaging(fit=fit, include=aplt.Include(mask=True))"
      ],
      "outputs": [],
      "execution_count": null
    },
    {
      "cell_type": "markdown",
      "metadata": {},
      "source": [
        "Okay, so lets think about the rectangular pixelization. Is this the optimal way to reconstruct our source? Are there \n",
        "features in the source-plane that arn't ideal? How do you think we could do a better job?\n",
        "\n",
        "Well, given we're doing a whole tutorial on using a different pixelization to the rectangular grid, you've probably \n",
        "guessed that it isn't optimal. Infact, its pretty rubbish, and not a pixelization we should actually want to model \n",
        "many lenses with!\n",
        "\n",
        "So what is wrong with the grid? Well, lets think about the source reconstruction."
      ]
    },
    {
      "cell_type": "code",
      "metadata": {},
      "source": [
        "aplt.Inversion.reconstruction(\n",
        "    inversion=fit.inversion, include=aplt.Include(inversion_pixelization_grid=True)\n",
        ")"
      ],
      "outputs": [],
      "execution_count": null
    },
    {
      "cell_type": "markdown",
      "metadata": {},
      "source": [
        "There is one clear problem, we are using a small number of the total source pixels to reconstruct the source. The \n",
        "majority of source pixels are located away from the source. By my estimate, we're using just 16 pixels (the central \n",
        "4x4 grid) out of the 1600 pixels to actually fit the data! The remaining ~1500 pixels are doing *nothing* but fit noise.\n",
        "\n",
        "This is a waste and our analysis will take longer to run because of it. However, more importantly, it means that our \n",
        "Bayesian regularization scheme is sub-optimal. In tutorial 4, we discussed how the Bayesian * log evidence of the \n",
        "regularization wants to obtain the *simplest* source solution possible. That is the solution which fits the data \n",
        "well using the fewest source pixels. Clearly, if we dedicating a huge number of source pixels to doing *nothing*, our \n",
        "source reconstruction will be unecessarily complex (and therefore lower log_evidence).\n",
        "\n",
        "If our pixelization could 'focus' its pixels where we actually have more data, e.g. the highly magnified regions of \n",
        "the source-plane, we could reconstruct the source using far fewer pixels. That'd be great both for computational \n",
        "efficiency and increasing the Bayesian log evidence and that is exactly what our Voronoi grid does.\n",
        "\n",
        "To achieve this, we first compute an 'image-plane sparse grid', which is a set of sparse coordinates in the image-plane \n",
        "that will be ray-traced to the source-plane and define the centres of our source-pixel grid. We compute this grid \n",
        "directly from a pixelization, by passing it a grid."
      ]
    },
    {
      "cell_type": "code",
      "metadata": {},
      "source": [
        "adaptive = al.pix.VoronoiMagnification(shape=(20, 20))\n",
        "\n",
        "image_plane_sparse_grid = adaptive.sparse_grid_from_grid(grid=masked_imaging.grid)"
      ],
      "outputs": [],
      "execution_count": null
    },
    {
      "cell_type": "markdown",
      "metadata": {},
      "source": [
        "We can plot this grid over the image, to see that it is a coarse grid over-laying the image itself."
      ]
    },
    {
      "cell_type": "code",
      "metadata": {},
      "source": [
        "aplt.Imaging.image(imaging=imaging, grid=image_plane_sparse_grid, mask=mask)"
      ],
      "outputs": [],
      "execution_count": null
    },
    {
      "cell_type": "markdown",
      "metadata": {},
      "source": [
        "When we pass a tracer a source galaxy with this pixelization it automatically computes the ray-traced source-plane \n",
        "Voronoi grid using the grid above. Thus, our Voronoi pixelization is used by the tracer's fit."
      ]
    },
    {
      "cell_type": "code",
      "metadata": {},
      "source": [
        "source_galaxy = al.Galaxy(\n",
        "    redshift=1.0, pixelization=adaptive, regularization=al.reg.Constant(coefficient=1.0)\n",
        ")\n",
        "\n",
        "tracer = al.Tracer.from_galaxies(galaxies=[lens_galaxy, source_galaxy])"
      ],
      "outputs": [],
      "execution_count": null
    },
    {
      "cell_type": "markdown",
      "metadata": {},
      "source": [
        "If we look at the lens fit, we'll that our source-plane no longer uses rectangular pixels, but Voronoi pixels!"
      ]
    },
    {
      "cell_type": "code",
      "metadata": {},
      "source": [
        "fit = al.FitImaging(masked_imaging=masked_imaging, tracer=tracer)\n",
        "\n",
        "aplt.FitImaging.subplot_fit_imaging(\n",
        "    fit=fit,\n",
        "    include=aplt.Include(\n",
        "        mask=True,\n",
        "        inversion_image_pixelization_grid=True,\n",
        "        inversion_pixelization_grid=True,\n",
        "    ),\n",
        ")"
      ],
      "outputs": [],
      "execution_count": null
    },
    {
      "cell_type": "markdown",
      "metadata": {},
      "source": [
        "And we can take a closer inspection of the inversion itself."
      ]
    },
    {
      "cell_type": "code",
      "metadata": {},
      "source": [
        "aplt.Inversion.reconstruction(\n",
        "    inversion=fit.inversion, include=aplt.Include(inversion_pixelization_grid=True)\n",
        ")"
      ],
      "outputs": [],
      "execution_count": null
    },
    {
      "cell_type": "markdown",
      "metadata": {},
      "source": [
        "Clearly, this is an improvement. We're using fewer pixels than the rectangular grid (400, instead of 1600), but \n",
        "reconstructing our source is far greater detail. A win all around? It sure is.\n",
        "\n",
        "On our rectangular grid, we regularized each source pixel with its 4 neighbors. We compared their fluxes, summed \n",
        "the differences, and penalized solutions where the differences were large. For a Voronoi grid, we do the same thing, \n",
        "now comparing each source-pixel with all other source-pixels with which it shares a direct vertex. This means that \n",
        "different source-pixels may be regularized with different numbers of source-pixels, depending on how many neighbors \n",
        "are formed.\n",
        "\n",
        "This Voronoi magnification grid is still far from optimal. There are lots of source-pixels effectively fitting just \n",
        "noise. We may achieve even better solutions if the central regions of the source were reconstructed using even more \n",
        "pixels. So, how do we improve on this? Well, you'll have to wait until chapter 5, when we introduce PyAutoLens's \n",
        "adaptive functionality, or 'hyper-mode'.\n",
        "\n",
        "In the mean time, you may wish to experiment with using both Rectangular and VoronoiMagnification grids to fit \n",
        "lenses which can be easily achieve by changing the input pixeliation given to a pipeline."
      ]
    }
  ],
  "metadata": {
    "anaconda-cloud": {},
    "kernelspec": {
      "display_name": "Python 3",
      "language": "python",
      "name": "python3"
    },
    "language_info": {
      "codemirror_mode": {
        "name": "ipython",
        "version": 3
      },
      "file_extension": ".py",
      "mimetype": "text/x-python",
      "name": "python",
      "nbconvert_exporter": "python",
      "pygments_lexer": "ipython3",
      "version": "3.6.1"
    }
  },
  "nbformat": 4,
  "nbformat_minor": 1
}