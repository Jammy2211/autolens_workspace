{
  "cells": [
    {
      "cell_type": "markdown",
      "metadata": {},
      "source": [
        "Tutorial 1: Pixelizations\n",
        "=========================\n",
        "\n",
        "To begin chapter 4, we'll begin by learning about `Pixelization``., which we apply to a source-plane to reconstruct a\n",
        "source-`Galaxy`'s light."
      ]
    },
    {
      "cell_type": "code",
      "metadata": {},
      "source": [
        "%matplotlib inline\n",
        "\n",
        "from pyprojroot import here\n",
        "\n",
        "workspace_path = str(here())\n",
        "%cd $workspace_path\n",
        "print(f\"Working Directory has been set to `{workspace_path}`\")\n",
        "\n",
        "import autolens as al\n",
        "import autolens.plot as aplt"
      ],
      "outputs": [],
      "execution_count": null
    },
    {
      "cell_type": "markdown",
      "metadata": {},
      "source": [
        "Lets setup a lensed source-plane grid, using a lens galaxy and `Tracer` (our source galaxy doesn`t have a \n",
        "`LightProfile`,as we`re going to reconstruct its light using a pixelization)."
      ]
    },
    {
      "cell_type": "code",
      "metadata": {},
      "source": [
        "grid = al.Grid.uniform(shape_2d=(100, 100), pixel_scales=0.05, sub_size=2)\n",
        "\n",
        "lens_galaxy = al.Galaxy(\n",
        "    redshift=0.5,\n",
        "    mass=al.mp.EllipticalIsothermal(\n",
        "        centre=(0.0, 0.0), elliptical_comps=(0.0, -0.111111), einstein_radius=1.6\n",
        "    ),\n",
        ")\n",
        "\n",
        "tracer = al.Tracer.from_galaxies(galaxies=[lens_galaxy, al.Galaxy(redshift=1.0)])\n",
        "\n",
        "source_plane_grid = tracer.traced_grids_of_planes_from_grid(grid=grid)[1]"
      ],
      "outputs": [],
      "execution_count": null
    },
    {
      "cell_type": "markdown",
      "metadata": {},
      "source": [
        "Next, lets set up a `Pixelization`.sing the `pixelization` module, which is imported as `pix` for short.\n",
        "\n",
        "There are multiple `Pixelization`'s available in **PyAutoLens**. For now, we'll keep it simple and use a uniform \n",
        "rectangular grid. As usual, the grid`s `shape` defines its $(y,x)$ dimensions."
      ]
    },
    {
      "cell_type": "code",
      "metadata": {},
      "source": [
        "rectangular = al.pix.Rectangular(shape=(25, 25))"
      ],
      "outputs": [],
      "execution_count": null
    },
    {
      "cell_type": "markdown",
      "metadata": {},
      "source": [
        "By itself, a `Pixelization`.oesn`t tell us much. It has no `Grid` of coordinates, no image, and nothing which tells it \n",
        "about the lens we`re fitting. This information comes when we use the `Pixelization`.o set up a `Mapper`. we'll use \n",
        "the (traced) source-plane `Grid` to set up this mapper."
      ]
    },
    {
      "cell_type": "code",
      "metadata": {},
      "source": [
        "mapper = rectangular.mapper_from_grid_and_sparse_grid(grid=source_plane_grid)"
      ],
      "outputs": [],
      "execution_count": null
    },
    {
      "cell_type": "markdown",
      "metadata": {},
      "source": [
        "This `Mapper` is a `RectangularMapper` - every `Pixelization` generates it owns mapper."
      ]
    },
    {
      "cell_type": "code",
      "metadata": {},
      "source": [
        "print(type(mapper))"
      ],
      "outputs": [],
      "execution_count": null
    },
    {
      "cell_type": "markdown",
      "metadata": {},
      "source": [
        "By plotting our mapper, we now see our `Pixelization`. Its a fairly boring `Grid` of rectangular pixels.\n",
        "\n",
        "(we'll cover what the `inversion` means in a later tutorial)."
      ]
    },
    {
      "cell_type": "code",
      "metadata": {},
      "source": [
        "aplt.MapperObj(\n",
        "    mapper=mapper,\n",
        "    include=aplt.Include(inversion_grid=False, inversion_pixelization_grid=False),\n",
        "    plotter=aplt.Plotter(\n",
        "        labels=aplt.Labels(title=\"Fairly Boring Grid of Rectangular Pixels\")\n",
        "    ),\n",
        ")"
      ],
      "outputs": [],
      "execution_count": null
    },
    {
      "cell_type": "markdown",
      "metadata": {},
      "source": [
        "However, the `Mapper` does contain lots of interesting information about our `Pixelization`, for example its \n",
        "pixelization_grid tells us where the pixel centers are located."
      ]
    },
    {
      "cell_type": "code",
      "metadata": {},
      "source": [
        "print(\"Rectangular Grid Pixel Centre 1:\")\n",
        "print(mapper.pixelization_grid[0])\n",
        "print(\"Rectangular Grid Pixel Centre 2:\")\n",
        "print(mapper.pixelization_grid[1])\n",
        "print(\"Rectangular Grid Pixel Centre 3:\")\n",
        "print(mapper.pixelization_grid[2])\n",
        "print(\"etc.\")"
      ],
      "outputs": [],
      "execution_count": null
    },
    {
      "cell_type": "markdown",
      "metadata": {},
      "source": [
        "Infact, we can plot these centre on our `Grid` - to make it look slightly less boring!"
      ]
    },
    {
      "cell_type": "code",
      "metadata": {},
      "source": [
        "aplt.MapperObj(\n",
        "    mapper=mapper,\n",
        "    include=aplt.Include(inversion_grid=False, inversion_pixelization_grid=True),\n",
        "    plotter=aplt.Plotter(\n",
        "        labels=aplt.Labels(title=\"Slightly less Boring Grid of Rectangular Pixels\")\n",
        "    ),\n",
        ")"
      ],
      "outputs": [],
      "execution_count": null
    },
    {
      "cell_type": "markdown",
      "metadata": {},
      "source": [
        "The `Mapper` also has the (source-plane) `Grid` that we passed when we set it up. Lets check they`re the same."
      ]
    },
    {
      "cell_type": "code",
      "metadata": {},
      "source": [
        "print(\"Source Grid Pixel 1\")\n",
        "print(source_plane_grid[0])\n",
        "print(mapper.grid[0])\n",
        "print(\"Source Grid Pixel 2\")\n",
        "print(source_plane_grid[1])\n",
        "print(mapper.grid[1])\n",
        "print(\"etc.\")"
      ],
      "outputs": [],
      "execution_count": null
    },
    {
      "cell_type": "markdown",
      "metadata": {},
      "source": [
        "We can over-lay the `Grid` on top. Its starting to look a bit less boring now!"
      ]
    },
    {
      "cell_type": "code",
      "metadata": {},
      "source": [
        "aplt.MapperObj(\n",
        "    mapper=mapper,\n",
        "    include=aplt.Include(inversion_grid=True, inversion_pixelization_grid=True),\n",
        "    plotter=aplt.Plotter(\n",
        "        labels=aplt.Labels(title=\"Even less Boring Grid of Rectangular Pixels\")\n",
        "    ),\n",
        ")"
      ],
      "outputs": [],
      "execution_count": null
    },
    {
      "cell_type": "markdown",
      "metadata": {},
      "source": [
        "Finally, the mapper`s pixeliation_grid has lots of information about the `Pixelization`, for example, the arc-second \n",
        "size and dimensions."
      ]
    },
    {
      "cell_type": "code",
      "metadata": {},
      "source": [
        "print(mapper.pixelization_grid.shape_2d_scaled)\n",
        "print(mapper.pixelization_grid.scaled_maxima)\n",
        "print(mapper.pixelization_grid.scaled_minima)"
      ],
      "outputs": [],
      "execution_count": null
    },
    {
      "cell_type": "markdown",
      "metadata": {},
      "source": [
        "And with that, we`re done. This was a relatively gentle overview of `Pixelization``., but one that was hopefully easy \n",
        "to follow. Think about the following questions before moving on to the next tutorial:\n",
        "\n",
        " 1) Look at how the source-grid coordinates are distributed over the rectangular pixel-grid. Are these points \n",
        " distributed evenly over the rectangular grid`s pixels? Do some pixels have a lot more grid-points inside of them? \n",
        " Do some pixels have no grid-points in them?\n",
        "\n",
        " 2) The rectangular pixelization`s edges are aligned with the most exterior coordinates of the source-grid. This is \n",
        " intentional - why do you think this is?"
      ]
    }
  ],
  "metadata": {
    "anaconda-cloud": {},
    "kernelspec": {
      "display_name": "Python 3",
      "language": "python",
      "name": "python3"
    },
    "language_info": {
      "codemirror_mode": {
        "name": "ipython",
        "version": 3
      },
      "file_extension": ".py",
      "mimetype": "text/x-python",
      "name": "python",
      "nbconvert_exporter": "python",
      "pygments_lexer": "ipython3",
      "version": "3.6.1"
    }
  },
  "nbformat": 4,
  "nbformat_minor": 4
}