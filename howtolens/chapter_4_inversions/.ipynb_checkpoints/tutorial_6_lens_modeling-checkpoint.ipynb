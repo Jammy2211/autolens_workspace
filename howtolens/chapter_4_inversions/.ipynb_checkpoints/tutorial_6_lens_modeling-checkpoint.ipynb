{
 "cells": [
  {
   "cell_type": "markdown",
   "metadata": {},
   "source": [
    "__Lens Modeling__\n",
    "\n",
    "I think you'll agree, inversions are a very powerful tool for modeling strong lenses. Now that our source galaxies comprise just a few parameters we've got a much less complex non-linear parameter space to deal with. This allows us to fit more complex mass models and ask ever more interesting scientific questions!\n",
    "\n",
    "However, inversions arn't perfect, especially when we use to them model lenses. These arn't huge issues and they're easy to deal with, but its worth me explaining them now so they don't trip you up when you start using inversions!\n",
    "\n",
    "So, what happens if we fit an image using an inversion and the wrong lens model? lets simulate an image and find out."
   ]
  },
  {
   "cell_type": "code",
   "execution_count": null,
   "metadata": {},
   "outputs": [],
   "source": [
    "%matplotlib inline\n",
    "\n",
    "import autolens as al\n",
    "import autolens.plot as aplt"
   ]
  },
  {
   "cell_type": "markdown",
   "metadata": {},
   "source": [
    "This is the usual simulate function."
   ]
  },
  {
   "cell_type": "code",
   "execution_count": null,
   "metadata": {},
   "outputs": [],
   "source": [
    "def simulate():\n",
    "\n",
    "    psf = al.kernel.from_gaussian(shape_2d=(11, 11), sigma=0.05, pixel_scales=0.05)\n",
    "\n",
    "    lens_galaxy = al.Galaxy(\n",
    "        redshift=0.5,\n",
    "        mass=al.mp.EllipticalIsothermal(\n",
    "            centre=(0.0, 0.0), axis_ratio=0.8, phi=135.0, einstein_radius=1.6\n",
    "        ),\n",
    "    )\n",
    "\n",
    "    source_galaxy = al.Galaxy(\n",
    "        redshift=1.0,\n",
    "        light=al.lp.EllipticalSersic(\n",
    "            centre=(0.1, 0.1),\n",
    "            axis_ratio=0.8,\n",
    "            phi=90.0,\n",
    "            intensity=0.2,\n",
    "            effective_radius=0.3,\n",
    "            sersic_index=1.0,\n",
    "        ),\n",
    "    )\n",
    "\n",
    "    tracer = al.Tracer.from_galaxies(galaxies=[lens_galaxy, source_galaxy])\n",
    "\n",
    "    simulator = al.simulator.imaging(\n",
    "        shape_2d=(180, 180),\n",
    "        pixel_scales=0.05,\n",
    "        exposure_time=300.0,\n",
    "        sub_size=1,\n",
    "        psf=psf,\n",
    "        background_level=0.1,\n",
    "        add_noise=True,\n",
    "    )\n",
    "\n",
    "    return simulator.from_tracer(tracer=tracer)"
   ]
  },
  {
   "cell_type": "markdown",
   "metadata": {},
   "source": [
    "And the same fitting function as the last tutorial."
   ]
  },
  {
   "cell_type": "code",
   "execution_count": null,
   "metadata": {},
   "outputs": [],
   "source": [
    "def perform_fit_with_lens__source_galaxy(lens_galaxy, source_galaxy):\n",
    "\n",
    "    imaging = simulate()\n",
    "    mask = al.mask.circular_annular(\n",
    "        shape_2d=imaging.shape_2d,\n",
    "        pixel_scales=imaging.pixel_scales,\n",
    "        sub_size=2,\n",
    "        inner_radius=0.5,\n",
    "        outer_radius=2.2,\n",
    "    )\n",
    "\n",
    "    masked_imaging = al.masked.imaging(imaging=imaging, mask=mask)\n",
    "\n",
    "    tracer = al.Tracer.from_galaxies(galaxies=[lens_galaxy, source_galaxy])\n",
    "\n",
    "    return al.fit(masked_dataset=masked_imaging, tracer=tracer)"
   ]
  },
  {
   "cell_type": "markdown",
   "metadata": {},
   "source": [
    "This fit uses a lens galaxy with the wrong mass-model (I've reduced its Einstein Radius from 1.6 to 0.8)."
   ]
  },
  {
   "cell_type": "code",
   "execution_count": null,
   "metadata": {},
   "outputs": [],
   "source": [
    "lens_galaxy = al.Galaxy(\n",
    "    redshift=0.5,\n",
    "    mass=al.mp.EllipticalIsothermal(\n",
    "        centre=(0.0, 0.0), axis_ratio=0.8, phi=135.0, einstein_radius=0.8\n",
    "    ),\n",
    ")\n",
    "\n",
    "source_galaxy = al.Galaxy(\n",
    "    redshift=1.0,\n",
    "    pixelization=al.pix.Rectangular(shape=(40, 40)),\n",
    "    regularization=al.reg.Constant(coefficient=1.0),\n",
    ")\n",
    "\n",
    "fit = perform_fit_with_lens__source_galaxy(\n",
    "    lens_galaxy=lens_galaxy, source_galaxy=source_galaxy\n",
    ")\n",
    "\n",
    "aplt.fit_imaging.subplot_fit_imaging(\n",
    "    fit=fit, \n",
    "    include=aplt.Include(mask=True)\n",
    ")"
   ]
  },
  {
   "cell_type": "markdown",
   "metadata": {},
   "source": [
    "What happened!? This incorrect mass-model provides a really good_fit to the image! The residuals and chi-squared map are as good as the ones we saw in the last tutorial.\n",
    "\n",
    "How can an incorrect lens model provide such a fit? Well, as I'm sure you noticed, the source has been reconstructed as a demagnified version of the image. Clearly, this isn't a physical solution or a solution that we want our non-linear search to find, but for inversions these solutions nevertheless exist.\n",
    "\n",
    "This isn't necessarily problematic for lens modeling. Afterall, the source reconstruction above is extremely complex, in that it requires a lot of pixels to fit the image accurately. Indeed, its Bayesian evidence is much lower than the correct solution."
   ]
  },
  {
   "cell_type": "code",
   "execution_count": null,
   "metadata": {},
   "outputs": [],
   "source": [
    "lens_galaxy = al.Galaxy(\n",
    "    redshift=0.5,\n",
    "    mass=al.mp.EllipticalIsothermal(\n",
    "        centre=(0.0, 0.0), axis_ratio=0.8, phi=135.0, einstein_radius=1.6\n",
    "    ),\n",
    ")\n",
    "\n",
    "source_galaxy = al.Galaxy(\n",
    "    redshift=1.0,\n",
    "    pixelization=al.pix.Rectangular(shape=(40, 40)),\n",
    "    regularization=al.reg.Constant(coefficient=1.0),\n",
    ")\n",
    "\n",
    "correct_fit = perform_fit_with_lens__source_galaxy(\n",
    "    lens_galaxy=lens_galaxy, source_galaxy=source_galaxy\n",
    ")\n",
    "\n",
    "aplt.fit_imaging.subplot_fit_imaging(\n",
    "    fit=correct_fit,\n",
    "    include=aplt.Include(mask=True)\n",
    ")\n",
    "\n",
    "print(\"Bayesian Evidence of Incorrect Fit:\")\n",
    "print(fit.evidence)\n",
    "print(\"Bayesian Evidence of Correct Fit:\")\n",
    "print(correct_fit.evidence)"
   ]
  },
  {
   "cell_type": "markdown",
   "metadata": {},
   "source": [
    "The evidence *is* lower. However, the difference in evidence isn't *that large*. This is going to be a problem for our non-linear search, as its going to see *a lot* of solutions with really high evidences. Furthermore, these solutions occupy the *vast majority* of parameter space (e.g. every single lens model that is wrong). This makes it easy for the non-linear search to get lost searching through these unphysical solutions and, unfortunately, infer an incorrect lens model (e.g. a local maxima).\n",
    "\n",
    "There is no simple fix for this. The reality is that for an inversion these solutions exist. This is why pipelines were initially conceived - as they offer a simple solution to this problem. We build a pipelin that begins by modeling the source galaxy as a light profile, 'initializing' our lens mass model. Then, when we switch to an inversion in the next phase, our mass model starts in the correct regions of parameter space and doesn'tget lost sampling these incorrect solutions.\n",
    "\n",
    "Its not ideal, but its also not a big problem. Furthermore, light-profiles run faster computationally than inversions, so we'd probably want to do this anyway!"
   ]
  },
  {
   "cell_type": "markdown",
   "metadata": {},
   "source": [
    "Okay, so we've covered incorrect solutions, lets end by noting that we can model profiles and inversions at the same time. We do this when we want to simultaneously fit and subtract the light of a lens galaxy and reconstruct its lensed source using an inversion. To do this, all we have to do is give the lens galaxy a light profile."
   ]
  },
  {
   "cell_type": "code",
   "execution_count": null,
   "metadata": {},
   "outputs": [],
   "source": [
    "def simulate_lens_with_light_profile():\n",
    "\n",
    "    psf = al.kernel.from_gaussian(shape_2d=(11, 11), sigma=0.05, pixel_scales=0.05)\n",
    "\n",
    "    lens_galaxy = al.Galaxy(\n",
    "        redshift=0.5,\n",
    "        light=al.lp.SphericalSersic(\n",
    "            centre=(0.0, 0.0), intensity=0.2, effective_radius=0.8, sersic_index=4.0\n",
    "        ),\n",
    "        mass=al.mp.EllipticalIsothermal(\n",
    "            centre=(0.0, 0.0), axis_ratio=0.8, phi=135.0, einstein_radius=1.6\n",
    "        ),\n",
    "    )\n",
    "\n",
    "    source_galaxy = al.Galaxy(\n",
    "        redshift=1.0,\n",
    "        light=al.lp.EllipticalSersic(\n",
    "            centre=(0.1, 0.1),\n",
    "            axis_ratio=0.8,\n",
    "            phi=90.0,\n",
    "            intensity=0.2,\n",
    "            effective_radius=0.3,\n",
    "            sersic_index=1.0,\n",
    "        ),\n",
    "    )\n",
    "\n",
    "    tracer = al.Tracer.from_galaxies(galaxies=[lens_galaxy, source_galaxy])\n",
    "\n",
    "    simulator = al.simulator.imaging(\n",
    "        shape_2d=(180, 180),\n",
    "        pixel_scales=0.05,\n",
    "        exposure_time=300.0,\n",
    "        sub_size=1,\n",
    "        psf=psf,\n",
    "        background_level=0.1,\n",
    "        add_noise=True,\n",
    "    )\n",
    "\n",
    "    return simulator.from_tracer(tracer=tracer)"
   ]
  },
  {
   "cell_type": "markdown",
   "metadata": {},
   "source": [
    "When fitting such an image we now want to include the lens's light in the analysis. First, we update our mask to be circular so that it includes the central regions of the image and lens galaxy."
   ]
  },
  {
   "cell_type": "code",
   "execution_count": null,
   "metadata": {},
   "outputs": [],
   "source": [
    "imaging = simulate_lens_with_light_profile()\n",
    "\n",
    "mask = al.mask.circular(\n",
    "    shape_2d=imaging.shape_2d,\n",
    "    pixel_scales=imaging.pixel_scales, \n",
    "    sub_size=2,\n",
    "    radius=2.5\n",
    ")"
   ]
  },
  {
   "cell_type": "markdown",
   "metadata": {},
   "source": [
    "As I said above, performing this fit is the same as usual, we just give the lens galaxy a light profile."
   ]
  },
  {
   "cell_type": "code",
   "execution_count": null,
   "metadata": {},
   "outputs": [],
   "source": [
    "lens_galaxy = al.Galaxy(\n",
    "    redshift=0.5,\n",
    "    light=al.lp.SphericalSersic(\n",
    "        centre=(0.0, 0.0), intensity=0.2, effective_radius=0.8, sersic_index=4.0\n",
    "    ),\n",
    "    mass=al.mp.EllipticalIsothermal(\n",
    "        centre=(0.0, 0.0), axis_ratio=0.8, phi=135.0, einstein_radius=1.6\n",
    "    ),\n",
    ")"
   ]
  },
  {
   "cell_type": "markdown",
   "metadata": {},
   "source": [
    "These are all the usual things we do when setting up a fit."
   ]
  },
  {
   "cell_type": "code",
   "execution_count": null,
   "metadata": {},
   "outputs": [],
   "source": [
    "source_galaxy = al.Galaxy(\n",
    "    redshift=1.0,\n",
    "    pixelization=al.pix.Rectangular(shape=(40, 40)),\n",
    "    regularization=al.reg.Constant(coefficient=1.0),\n",
    ")\n",
    "\n",
    "masked_imaging = al.masked.imaging(imaging=imaging, mask=mask)\n",
    "\n",
    "tracer = al.Tracer.from_galaxies(galaxies=[lens_galaxy, source_galaxy])"
   ]
  },
  {
   "cell_type": "markdown",
   "metadata": {},
   "source": [
    "This fit now subtracts the lens galaxy's light from the image and fits the resulting source-only image with the inversion. When we plot the image, a new panel on the sub-plot appears showing the model image of the lens galaxy."
   ]
  },
  {
   "cell_type": "code",
   "execution_count": null,
   "metadata": {},
   "outputs": [],
   "source": [
    "fit = al.fit(masked_dataset=masked_imaging, tracer=tracer)\n",
    "\n",
    "aplt.fit_imaging.subplot_fit_imaging(\n",
    "    fit=fit,\n",
    "    include=aplt.Include(mask=True)\n",
    ")"
   ]
  },
  {
   "cell_type": "markdown",
   "metadata": {},
   "source": [
    "Of course if the lens subtraction is rubbish so is our fit, so we can be sure that our lens model wants to fit the lens galaxy's light accurately (below, I've increased the lens galaxy intensity from 0.2 to 0.3)."
   ]
  },
  {
   "cell_type": "code",
   "execution_count": null,
   "metadata": {},
   "outputs": [],
   "source": [
    "lens_galaxy = al.Galaxy(\n",
    "    redshift=0.5,\n",
    "    light=al.lp.SphericalSersic(\n",
    "        centre=(0.0, 0.0), intensity=0.3, effective_radius=0.8, sersic_index=4.0\n",
    "    ),\n",
    "    mass=al.mp.EllipticalIsothermal(\n",
    "        centre=(0.0, 0.0), axis_ratio=0.8, phi=135.0, einstein_radius=1.6\n",
    "    ),\n",
    ")\n",
    "\n",
    "tracer = al.Tracer.from_galaxies(galaxies=[lens_galaxy, source_galaxy])\n",
    "\n",
    "fit = al.fit(masked_dataset=masked_imaging, tracer=tracer)\n",
    "\n",
    "aplt.fit_imaging.subplot_fit_imaging(\n",
    "    fit=fit,\n",
    "    include=aplt.Include(mask=True)\n",
    ")"
   ]
  },
  {
   "cell_type": "markdown",
   "metadata": {},
   "source": [
    "And with that, we're done. Finally, I'll point out a few things about what we've covered to get you thinking about the next tutorial on adaption.\n",
    "\n",
    "- The unphysical solutions above are clearly problematic. Whilst they have lower Bayesian evidences their existance will still impact our inferred lens model. However, the pixelization's that we used in this chapter are not adapted to the images they are fitting and this means that the correct solutions achieve much lower Bayesian evidence values than is actually possible. Thus, once we've covered adaption, these issues will be resolved!\n",
    "\n",
    "- When the lens galaxy's light is subtracted perfectly it leaves no residuals. However, if it isn't subtracted perfectly it does leave residuals and these residuals will be fitted by the inversion. If the residual are significant this is going to mess with our source reconstruction and can lead to some pretty nasty systematics. In the next chapter, we'll learn how our adaptive analysis can prevent this residual fitting."
   ]
  },
  {
   "cell_type": "code",
   "execution_count": null,
   "metadata": {},
   "outputs": [],
   "source": []
  }
 ],
 "metadata": {
  "kernelspec": {
   "display_name": "Python 3",
   "language": "python",
   "name": "python3"
  },
  "language_info": {
   "codemirror_mode": {
    "name": "ipython",
    "version": 3
   },
   "file_extension": ".py",
   "mimetype": "text/x-python",
   "name": "python",
   "nbconvert_exporter": "python",
   "pygments_lexer": "ipython3",
   "version": "3.6.9"
  }
 },
 "nbformat": 4,
 "nbformat_minor": 2
}
