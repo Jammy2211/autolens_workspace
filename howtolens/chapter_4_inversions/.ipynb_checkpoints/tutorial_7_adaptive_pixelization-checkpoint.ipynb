{
 "cells": [
  {
   "cell_type": "markdown",
   "metadata": {},
   "source": [
    "__Adaptive Pixelization__\n",
    "\n",
    "In this tutorial we'll use a new pixelization, called the VoronoiMagnification pixelization. This pixelization doesn't use a uniform grid of rectangular pixels, but instead uses an irregular 'Voronoi' pixels. So, why do we want to do that? Lets take another quick look at the rectangular grid.."
   ]
  },
  {
   "cell_type": "code",
   "execution_count": null,
   "metadata": {},
   "outputs": [],
   "source": [
    "%matplotlib inline\n",
    "\n",
    "import autolens as al\n",
    "import autolens.plot as aplt"
   ]
  },
  {
   "cell_type": "markdown",
   "metadata": {},
   "source": [
    "This simulates the same the image we've fitted in the past few tutorials."
   ]
  },
  {
   "cell_type": "code",
   "execution_count": null,
   "metadata": {},
   "outputs": [],
   "source": [
    "def simulate():\n",
    "\n",
    "    psf = al.kernel.from_gaussian(shape_2d=(11, 11), sigma=0.05, pixel_scales=0.05)\n",
    "\n",
    "    grid = al.grid.uniform(\n",
    "        shape_2d=(150, 150), pixel_scales=0.05, sub_size=2\n",
    "    )\n",
    "\n",
    "    lens_galaxy = al.Galaxy(\n",
    "        redshift=0.5,\n",
    "        mass=al.mp.EllipticalIsothermal(\n",
    "            centre=(0.0, 0.0), axis_ratio=0.8, phi=45.0, einstein_radius=1.6\n",
    "        ),\n",
    "    )\n",
    "\n",
    "    source_galaxy = al.Galaxy(\n",
    "        redshift=1.0,\n",
    "        light=al.lp.EllipticalSersic(\n",
    "            centre=(0.0, 0.0),\n",
    "            axis_ratio=0.7,\n",
    "            phi=135.0,\n",
    "            intensity=0.2,\n",
    "            effective_radius=0.2,\n",
    "            sersic_index=2.5,\n",
    "        ),\n",
    "    )\n",
    "\n",
    "    tracer = al.Tracer.from_galaxies(galaxies=[lens_galaxy, source_galaxy])\n",
    "\n",
    "    simulator = al.simulator.imaging(\n",
    "        shape_2d=(150, 150),\n",
    "        pixel_scales=0.05,\n",
    "        exposure_time=300.0,\n",
    "        sub_size=2,\n",
    "        psf=psf,\n",
    "        background_level=1.0,\n",
    "        add_noise=True,\n",
    "    )\n",
    "\n",
    "    return simulator.from_tracer(tracer=tracer)"
   ]
  },
  {
   "cell_type": "markdown",
   "metadata": {},
   "source": [
    "Lets quickly remind ourselves of the image and the 3.0\" circular mask we'll use to mask it."
   ]
  },
  {
   "cell_type": "code",
   "execution_count": null,
   "metadata": {},
   "outputs": [],
   "source": [
    "imaging = simulate()\n",
    "\n",
    "mask = al.mask.circular(\n",
    "    shape_2d=imaging.shape_2d, \n",
    "    pixel_scales=imaging.pixel_scales, \n",
    "    sub_size=2, \n",
    "    radius=2.5\n",
    ")\n",
    "\n",
    "aplt.imaging.subplot_imaging(imaging=imaging, mask=mask)"
   ]
  },
  {
   "cell_type": "markdown",
   "metadata": {},
   "source": [
    "The lines of code below do everything we're used to, that is, setup an image, mask it, trace it via a tracer, setup the rectangular mapper, etc."
   ]
  },
  {
   "cell_type": "code",
   "execution_count": null,
   "metadata": {},
   "outputs": [],
   "source": [
    "lens_galaxy = al.Galaxy(\n",
    "    redshift=0.5,\n",
    "    mass=al.mp.EllipticalIsothermal(\n",
    "        centre=(0.0, 0.0), axis_ratio=0.8, phi=45.0, einstein_radius=1.6\n",
    "    ),\n",
    ")\n",
    "\n",
    "masked_imaging = al.masked.imaging(imaging=imaging, mask=mask)\n",
    "\n",
    "source_galaxy = al.Galaxy(\n",
    "    redshift=1.0,\n",
    "    pixelization=al.pix.Rectangular(shape=(40, 40)),\n",
    "    regularization=al.reg.Constant(coefficient=0.5),\n",
    ")\n",
    "\n",
    "tracer = al.Tracer.from_galaxies(galaxies=[lens_galaxy, source_galaxy])\n",
    "\n",
    "fit = al.fit(masked_dataset=masked_imaging, tracer=tracer)\n",
    "\n",
    "aplt.fit_imaging.subplot_fit_imaging(\n",
    "    fit=fit,\n",
    "    include=aplt.Include(mask=True)\n",
    ")"
   ]
  },
  {
   "cell_type": "markdown",
   "metadata": {},
   "source": [
    "Okay, so lets think about the rectangular pixelization. Is this the optimal way to reconstruct our source? Are there features in the source-plane that arn't ideal? How do you think we could do a better job?\n",
    "\n",
    "Well, given we're doing a whole tutorial on using a different pixelization to the rectangular grid, you've probably guessed that it isn't optimal. Infact, its pretty rubbish, and not a pixelization we should actually want to model many lenses with!\n",
    "\n",
    "So what is wrong with the grid? Well, lets think about the source reconstruction."
   ]
  },
  {
   "cell_type": "code",
   "execution_count": null,
   "metadata": {},
   "outputs": [],
   "source": [
    "aplt.inversion.reconstruction(\n",
    "    inversion=fit.inversion,\n",
    "    include=aplt.Include(inversion_pixelization_grid=True)\n",
    ")"
   ]
  },
  {
   "cell_type": "markdown",
   "metadata": {},
   "source": [
    "There is one clear problem, we are using a small number of the total source pixels to reconstruct the source. The majority of source pixels are located away from the source. By my estimate, we're using just 16 pixels (the central 4x4 grid) out of the 1600 pixels to actually fit the data! The remaining ~1500 pixels are doing *nothing* but fit noise.\n",
    "\n",
    "This is a waste and our analysis will take longer to run because of it. However, more importantly, it means that our Bayesian regularization scheme is sub-optimal. In tutorial 4, we discussed how the Bayesian evidence of the regularization wants to obtain the *simplest* source solution possible. That is the solution which fits the data well using the fewest source pixels. Clearly, if we dedicating a huge number of source pixels to doing *nothing*, our source reconstruction will be unecessarily complex (and therefore lower evidence).\n",
    "\n",
    "If our pixelization could 'focus' its pixels where we actually have more data, e.g. the highly magnified regions of the source-plane, we could reconstruct the source using far fewer pixels. That'd be great both for computational efficiency and increasing the Bayesian evidence and that is exactly what our Voronoi grid does.\n",
    "\n",
    "To achieve this, we first compute an 'image-plane sparse grid', which is a set of sparse coordinates in the image-plane that will be ray-traced to the source-plane and define the centres of our source-pixel grid. We compute this grid directly from a pixelization, by passing it a grid."
   ]
  },
  {
   "cell_type": "code",
   "execution_count": null,
   "metadata": {},
   "outputs": [],
   "source": [
    "adaptive = al.pix.VoronoiMagnification(shape=(20, 20))\n",
    "\n",
    "image_plane_sparse_grid = adaptive.sparse_grid_from_grid(\n",
    "    grid=masked_imaging.grid\n",
    ")"
   ]
  },
  {
   "cell_type": "markdown",
   "metadata": {},
   "source": [
    "We can plot this grid over the image, to see that it is a coarse grid over-laying the image itself."
   ]
  },
  {
   "cell_type": "code",
   "execution_count": null,
   "metadata": {},
   "outputs": [],
   "source": [
    "aplt.imaging.image(\n",
    "    imaging=imaging,\n",
    "    grid=image_plane_sparse_grid,\n",
    "    mask=mask\n",
    ")"
   ]
  },
  {
   "cell_type": "markdown",
   "metadata": {},
   "source": [
    "When we pass a tracer a source galaxy with this pixelization it automatically computes the ray-traced source-plane Voronoi grid using the grid above. Thus, our Voronoi pixelization is used by the tracer's fit."
   ]
  },
  {
   "cell_type": "code",
   "execution_count": null,
   "metadata": {},
   "outputs": [],
   "source": [
    "source_galaxy = al.Galaxy(\n",
    "    redshift=1.0, pixelization=adaptive, regularization=al.reg.Constant(coefficient=1.0)\n",
    ")\n",
    "\n",
    "tracer = al.Tracer.from_galaxies(galaxies=[lens_galaxy, source_galaxy])"
   ]
  },
  {
   "cell_type": "markdown",
   "metadata": {},
   "source": [
    "If we look at the lens fit, we'll that our source-plane no longer uses rectangular pixels, but Voronoi pixels!"
   ]
  },
  {
   "cell_type": "code",
   "execution_count": null,
   "metadata": {},
   "outputs": [],
   "source": [
    "fit = al.fit(masked_dataset=masked_imaging, tracer=tracer)\n",
    "\n",
    "aplt.fit_imaging.subplot_fit_imaging(\n",
    "    fit=fit,\n",
    "    include=aplt.Include(\n",
    "        mask=True,\n",
    "        inversion_image_pixelization_grid=True,\n",
    "        inversion_pixelization_grid=True)\n",
    ")"
   ]
  },
  {
   "cell_type": "markdown",
   "metadata": {},
   "source": [
    "And we can take a closer inspection of the inversion itself."
   ]
  },
  {
   "cell_type": "code",
   "execution_count": null,
   "metadata": {},
   "outputs": [],
   "source": [
    "aplt.inversion.reconstruction(\n",
    "    inversion=fit.inversion,\n",
    "    include=aplt.Include(inversion_pixelization_grid=True)\n",
    ")"
   ]
  },
  {
   "cell_type": "markdown",
   "metadata": {},
   "source": [
    "Clearly, this is an improvement. We're using fewer pixels than the rectangular grid (400, instead of 1600), but reconstructing our source is far greater detail. A win all around? It sure is.\n",
    "\n",
    "On our rectangular grid, we regularized each source pixel with its 4 neighbors. We compared their fluxes, summed the differences, and penalized solutions where the differences were large. For a Voronoi grid, we do the same thing, now comparing each source-pixel with all other source-pixels with which it shares a direct vertex. This means that different source-pixels may be regularized with different numbers of source-pixels, depending on how many neighbors are formed.\n",
    "\n",
    "This Voronoi magnification grid is still far from optimal. There are lots of source-pixels effectively fitting just noise. We may achieve even better solutions if the central regions of the source were reconstructed using even more pixels. So, how do we improve on this? Well, you'll have to wait until chapter 5, when we introduce PyAutoLens's adaptive functionality, or 'hyper-mode'.\n",
    "\n",
    "In the mean time, you may wish to experiment with using both Rectangular and VoronoiMagnification grids to fit lenses which can be easily achieve by changing the input pixeliation given to a pipeline."
   ]
  }
 ],
 "metadata": {
  "kernelspec": {
   "display_name": "Python 3",
   "language": "python",
   "name": "python3"
  },
  "language_info": {
   "codemirror_mode": {
    "name": "ipython",
    "version": 3
   },
   "file_extension": ".py",
   "mimetype": "text/x-python",
   "name": "python",
   "nbconvert_exporter": "python",
   "pygments_lexer": "ipython3",
   "version": "3.6.9"
  }
 },
 "nbformat": 4,
 "nbformat_minor": 2
}
