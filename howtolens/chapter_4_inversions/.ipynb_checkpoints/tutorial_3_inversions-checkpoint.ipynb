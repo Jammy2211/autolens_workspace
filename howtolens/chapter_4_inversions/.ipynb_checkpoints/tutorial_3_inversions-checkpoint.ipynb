{
 "cells": [
  {
   "cell_type": "markdown",
   "metadata": {},
   "source": [
    "___Inversions__\n",
    "\n",
    "We've covered mappers, which, if I haven't emphasised it enough yet, map things. Now, we're going to look at how we can use these mappers (which map things) to reconstruct the source galaxy - I hope you're excited!"
   ]
  },
  {
   "cell_type": "code",
   "execution_count": null,
   "metadata": {},
   "outputs": [],
   "source": [
    "%matplotlib inline\n",
    "\n",
    "import autolens as al\n",
    "import autolens.plot as aplt"
   ]
  },
  {
   "cell_type": "markdown",
   "metadata": {},
   "source": [
    "Lets simulate the same lens as before. The source is simple - which kind of defeats the point of using a pixel-grid to reconstruct it, but we'll make things more complex later on!"
   ]
  },
  {
   "cell_type": "code",
   "execution_count": null,
   "metadata": {},
   "outputs": [],
   "source": [
    "def simulate():\n",
    "    \n",
    "    psf = al.kernel.from_gaussian(shape_2d=(11, 11), sigma=0.05, pixel_scales=0.05)\n",
    "\n",
    "    grid = al.grid.uniform(\n",
    "        shape_2d=(180, 180), pixel_scales=0.05\n",
    "    )\n",
    "\n",
    "    lens_galaxy = al.Galaxy(\n",
    "        redshift=0.5,\n",
    "        mass=al.mp.EllipticalIsothermal(\n",
    "            centre=(0.0, 0.0), axis_ratio=0.8, phi=135.0, einstein_radius=1.6\n",
    "        ),\n",
    "    )\n",
    "\n",
    "    source_galaxy = al.Galaxy(\n",
    "        redshift=1.0,\n",
    "        light=al.lp.EllipticalSersic(\n",
    "            centre=(0.0, 0.0),\n",
    "            axis_ratio=0.8,\n",
    "            phi=90.0,\n",
    "            intensity=0.2,\n",
    "            effective_radius=1.0,\n",
    "            sersic_index=1.5,\n",
    "        ),\n",
    "    )\n",
    "\n",
    "    tracer = al.Tracer.from_galaxies(galaxies=[lens_galaxy, source_galaxy])\n",
    "\n",
    "    simulator = al.simulator.imaging(\n",
    "        shape_2d=(180, 180),\n",
    "        pixel_scales=0.05,\n",
    "        exposure_time=300.0,\n",
    "        sub_size=1,\n",
    "        psf=psf,\n",
    "        background_level=0.1,\n",
    "        add_noise=True,\n",
    "    )\n",
    "\n",
    "    return simulator.from_tracer(tracer=tracer)"
   ]
  },
  {
   "cell_type": "markdown",
   "metadata": {},
   "source": [
    "Now, lets simulate the source, mask it, and use a plot to check the masking is appropriate."
   ]
  },
  {
   "cell_type": "code",
   "execution_count": null,
   "metadata": {},
   "outputs": [],
   "source": [
    "imaging = simulate()\n",
    "\n",
    "mask = al.mask.circular_annular(\n",
    "    shape_2d=imaging.shape_2d,\n",
    "    pixel_scales=imaging.pixel_scales,\n",
    "    sub_size=1,\n",
    "    inner_radius=1.0,\n",
    "    outer_radius=2.2,\n",
    ")\n",
    "\n",
    "aplt.imaging.image(imaging=imaging, mask=mask)"
   ]
  },
  {
   "cell_type": "markdown",
   "metadata": {},
   "source": [
    "Next, lets set this image up as lens data and setup a tracer using the input lens galaxy model (we don't need to provide the source's light profile, as we're using a mapper to reconstruct it)."
   ]
  },
  {
   "cell_type": "code",
   "execution_count": null,
   "metadata": {},
   "outputs": [],
   "source": [
    "masked_imaging = al.masked.imaging(imaging=imaging, mask=mask)\n",
    "\n",
    "lens_galaxy = al.Galaxy(\n",
    "    redshift=0.5,\n",
    "    mass=al.mp.EllipticalIsothermal(\n",
    "        centre=(0.0, 0.0), axis_ratio=0.8, phi=135.0, einstein_radius=1.6\n",
    "    ),\n",
    ")\n",
    "\n",
    "tracer = al.Tracer.from_galaxies(\n",
    "    galaxies=[lens_galaxy, al.Galaxy(redshift=1.0)]\n",
    ")\n",
    "\n",
    "source_plane_grid = tracer.traced_grids_of_planes_from_grid(grid=masked_imaging.grid)[1]"
   ]
  },
  {
   "cell_type": "markdown",
   "metadata": {},
   "source": [
    "We'll use another rectangular pixelization and mapper to perform the reconstruction"
   ]
  },
  {
   "cell_type": "code",
   "execution_count": null,
   "metadata": {},
   "outputs": [],
   "source": [
    "rectangular = al.pix.Rectangular(shape=(25, 25))\n",
    "\n",
    "mapper = rectangular.mapper_from_grid_and_sparse_grid(\n",
    "    grid=source_plane_grid\n",
    ")\n",
    "\n",
    "aplt.mapper.subplot_image_and_mapper(\n",
    "    image=imaging.image, \n",
    "    mapper=mapper, \n",
    "    include=aplt.Include(mask=True, inversion_grid=True)\n",
    ")"
   ]
  },
  {
   "cell_type": "markdown",
   "metadata": {},
   "source": [
    "And now, finally, we're going to use our mapper to invert the image using the 'inversions' module, which is imported as 'inv'. I'll explain how this works in a second - but lets just go ahead and perform the inversion first. (Ignore the 'regularization' input below for now, we'll cover this in the next tutorial)."
   ]
  },
  {
   "cell_type": "code",
   "execution_count": null,
   "metadata": {},
   "outputs": [],
   "source": [
    "inversion = al.inversion(\n",
    "    masked_dataset=masked_imaging,\n",
    "    mapper=mapper,\n",
    "    regularization=al.reg.Constant(coefficient=1.0),\n",
    ")"
   ]
  },
  {
   "cell_type": "markdown",
   "metadata": {},
   "source": [
    "Our inversion has a reconstructed image and pixeilzation, whcih we can plot using an inversion plotter"
   ]
  },
  {
   "cell_type": "code",
   "execution_count": null,
   "metadata": {},
   "outputs": [],
   "source": [
    "aplt.inversion.reconstructed_image(\n",
    "    inversion=inversion,\n",
    "    include=aplt.Include(mask=True)\n",
    ")\n",
    "\n",
    "aplt.inversion.reconstruction(\n",
    "    inversion=inversion,\n",
    "    include=aplt.Include(inversion_grid=True)\n",
    ")"
   ]
  },
  {
   "cell_type": "markdown",
   "metadata": {},
   "source": [
    "And there we have it, we've successfully reconstructed, or, *inverted*, our source using the mapper's rectangular grid. Whilst this source was simple (a blob of light in the centre of the source-plane), inversions come into their own when fitting sources with complex morphologies. Infact, given we're having so much fun inverting things, lets simulate a really complex source and invert it!"
   ]
  },
  {
   "cell_type": "code",
   "execution_count": null,
   "metadata": {},
   "outputs": [],
   "source": [
    "def simulate_complex_source():\n",
    "\n",
    "    psf = al.kernel.from_gaussian(shape_2d=(11, 11), sigma=0.05, pixel_scales=0.05)\n",
    "\n",
    "    lens_galaxy = al.Galaxy(\n",
    "        redshift=0.5,\n",
    "        mass=al.mp.EllipticalIsothermal(\n",
    "            centre=(0.0, 0.0), axis_ratio=0.8, phi=135.0, einstein_radius=1.6\n",
    "        ),\n",
    "    )\n",
    "\n",
    "    source_galaxy_0 = al.Galaxy(\n",
    "        redshift=1.0,\n",
    "        light=al.lp.EllipticalSersic(\n",
    "            centre=(0.1, 0.1),\n",
    "            axis_ratio=0.8,\n",
    "            phi=90.0,\n",
    "            intensity=0.2,\n",
    "            effective_radius=1.0,\n",
    "            sersic_index=1.5,\n",
    "        ),\n",
    "    )\n",
    "\n",
    "    source_galaxy_1 = al.Galaxy(\n",
    "        redshift=1.0,\n",
    "        light=al.lp.EllipticalSersic(\n",
    "            centre=(-0.25, 0.25),\n",
    "            axis_ratio=0.7,\n",
    "            phi=45.0,\n",
    "            intensity=0.1,\n",
    "            effective_radius=0.2,\n",
    "            sersic_index=3.0,\n",
    "        ),\n",
    "    )\n",
    "\n",
    "    source_galaxy_2 = al.Galaxy(\n",
    "        redshift=1.0,\n",
    "        light=al.lp.EllipticalSersic(\n",
    "            centre=(0.45, -0.35),\n",
    "            axis_ratio=0.6,\n",
    "            phi=90.0,\n",
    "            intensity=0.03,\n",
    "            effective_radius=0.3,\n",
    "            sersic_index=3.5,\n",
    "        ),\n",
    "    )\n",
    "\n",
    "    source_galaxy_3 = al.Galaxy(\n",
    "        redshift=1.0,\n",
    "        light=al.lp.EllipticalSersic(\n",
    "            centre=(-0.05, -0.0),\n",
    "            axis_ratio=0.9,\n",
    "            phi=140.0,\n",
    "            intensity=0.03,\n",
    "            effective_radius=0.1,\n",
    "            sersic_index=4.0,\n",
    "        ),\n",
    "    )\n",
    "\n",
    "    source_galaxy_4 = al.Galaxy(\n",
    "        redshift=1.0,\n",
    "        light=al.lp.EllipticalSersic(\n",
    "            centre=(0.85, -0.85),\n",
    "            axis_ratio=0.6,\n",
    "            phi=90.0,\n",
    "            intensity=0.03,\n",
    "            effective_radius=0.3,\n",
    "            sersic_index=3.5,\n",
    "        ),\n",
    "    )\n",
    "\n",
    "    source_galaxy_5 = al.Galaxy(\n",
    "        redshift=1.0,\n",
    "        light=al.lp.EllipticalSersic(\n",
    "            centre=(-0.75, -0.1),\n",
    "            axis_ratio=0.9,\n",
    "            phi=140.0,\n",
    "            intensity=0.03,\n",
    "            effective_radius=0.1,\n",
    "            sersic_index=4.0,\n",
    "        ),\n",
    "    )\n",
    "\n",
    "    tracer = al.Tracer.from_galaxies(\n",
    "        galaxies=[\n",
    "            lens_galaxy,\n",
    "            source_galaxy_0,\n",
    "            source_galaxy_1,\n",
    "            source_galaxy_2,\n",
    "            source_galaxy_3,\n",
    "            source_galaxy_4,\n",
    "            source_galaxy_5,\n",
    "        ]\n",
    "    )\n",
    "\n",
    "    simulator = al.simulator.imaging(\n",
    "        shape_2d=(180, 180),\n",
    "        pixel_scales=0.05,\n",
    "        exposure_time=300.0,\n",
    "        sub_size=1,\n",
    "        psf=psf,\n",
    "        background_level=0.1,\n",
    "        add_noise=True,\n",
    "    )\n",
    "\n",
    "    return simulator.from_tracer(tracer=tracer)"
   ]
  },
  {
   "cell_type": "markdown",
   "metadata": {},
   "source": [
    "This code is doing all the the same as above (setup the image, galaxies, tracer, mapper, ec.), but I have made the mask slightly larger for this source."
   ]
  },
  {
   "cell_type": "code",
   "execution_count": null,
   "metadata": {},
   "outputs": [],
   "source": [
    "imaging = simulate_complex_source()\n",
    "\n",
    "mask = al.mask.circular_annular(\n",
    "    shape_2d=imaging.shape_2d,\n",
    "    pixel_scales=imaging.pixel_scales,\n",
    "    sub_size=1,\n",
    "    inner_radius=0.1,\n",
    "    outer_radius=3.2,\n",
    ")\n",
    "\n",
    "aplt.imaging.image(imaging=imaging, mask=mask)\n",
    "\n",
    "masked_imaging = al.masked.imaging(imaging=imaging, mask=mask)\n",
    "\n",
    "tracer = al.Tracer.from_galaxies(\n",
    "    galaxies=[lens_galaxy, al.Galaxy(redshift=1.0)]\n",
    ")\n",
    "\n",
    "source_plane_grid = tracer.traced_grids_of_planes_from_grid(grid=masked_imaging.grid)[1]\n",
    "\n",
    "mapper = rectangular.mapper_from_grid_and_sparse_grid(\n",
    "    grid=source_plane_grid\n",
    ")\n",
    "\n",
    "inversion = al.inversion(\n",
    "    masked_dataset=masked_imaging,\n",
    "    mapper=mapper,\n",
    "    regularization=al.reg.Constant(coefficient=1.0),\n",
    ")"
   ]
  },
  {
   "cell_type": "markdown",
   "metadata": {},
   "source": [
    "Lets inspect the complex source reconstruction."
   ]
  },
  {
   "cell_type": "code",
   "execution_count": null,
   "metadata": {},
   "outputs": [],
   "source": [
    "aplt.inversion.reconstructed_image(\n",
    "    inversion=inversion,\n",
    "    include=aplt.Include(mask=True)\n",
    ")\n",
    "\n",
    "aplt.inversion.reconstruction(\n",
    "    inversion=inversion,\n",
    "    include=aplt.Include(inversion_grid=True)\n",
    ")\n"
   ]
  },
  {
   "cell_type": "markdown",
   "metadata": {},
   "source": [
    "Pretty great, huh? If you ran the complex source pipeline, you'll remember that getting a model image that looked that good simply *was not possible*. With an inversion, we can do it with ease - and without fitting 30+ parameters!\n",
    "\n",
    "Lets discuss how an inversion actually works. The explanation I give below is overly-simplified. I'm avoiding the technical details of how an inversion *actually* works. To be good at lens modeling you don't need to understand the nitty-gritty details of linear inversions, you just need an instinct for how to use them as a tool to model lenses.\n",
    "\n",
    "Nevertheless, I know a lot of you hate 'black-boxes', or have an interest in linear algrebra. If you're that way inclined, then checkout the documentation of the autolens source code for more information. In particular, you should look at the following functions:\n",
    "\n",
    "inversions.mappers.mapping_matrix\n",
    "inversions.convolution.convolve_mapping_matrix\n",
    "inversions.regularization.Regularization\n",
    "inversions.inversions.Inversion\n",
    "\n",
    "To begin, lets consider some random mappings between our mapper's source-pixels and the image."
   ]
  },
  {
   "cell_type": "code",
   "execution_count": null,
   "metadata": {},
   "outputs": [],
   "source": [
    "aplt.mapper.subplot_image_and_mapper(\n",
    "    image=masked_imaging.image,\n",
    "    mapper=mapper,\n",
    "    include=aplt.Include(mask=True, inversion_grid=True),\n",
    "    source_pixel_indexes=[[445], [285], [313], [132], [11]],\n",
    ")"
   ]
  },
  {
   "cell_type": "markdown",
   "metadata": {},
   "source": [
    "These mappings are known before the inversion, which means pre-inversion we know two key pieces of information:\n",
    "\n",
    "1) The mappings between every source-pixel and sets of image-pixels.\n",
    "2) The flux values in every observed image-pixel, which are the values we want to fit successfully.\n",
    "\n",
    "It turns out that with these two pieces of information we can linearly solve for the set of source-pixel fluxes that best-fit (e.g. maximize the likelihood of) our observed image. Essentially, we set up the mapping between source and image pixels as a large matrix and solve for the source-pixel fluxes in an analogous fashion to how you would solve a set of simultaneous linear equations. This process is called a 'linear inversion'.\n",
    "\n",
    "There are three more things about a linear inversion that are worth knowing:\n",
    "\n",
    "1) We've discussed the image sub-grid before, which splits each image-pixel into a sub-pixel. If a sub-grid is used, it is the mapping between every sub-pixel and source-pixel that is computed and used to perform the inversion. This prevents aliasing effects degrading the image reconstruction, and, as a rule of thumb, I would suggest you use sub-gridding of degree 2x2.\n",
    "\n",
    "2) When datas using light profiles we discussed how a 'model_image' was generated by blurring them with the data's PSF. A similar blurring operation is incorporated into the inversion, such that the reconstructed image and source fully account for the telescope optics and effect of the PSF.\n",
    "\n",
    "3) The inversion's solution is regularized. But wait, that's what we'll cover in the next tutorial!\n",
    "\n",
    "Finally, let me show you how easy it is to fit an image with an inversion using the fitting module. Instead of giving the source galaxy a light profile, we give it a pixelization and regularization, and pass it to a tracer."
   ]
  },
  {
   "cell_type": "code",
   "execution_count": null,
   "metadata": {},
   "outputs": [],
   "source": [
    "source_galaxy = al.Galaxy(\n",
    "    redshift=1.0,\n",
    "    pixelization=al.pix.Rectangular(shape=(40, 40)),\n",
    "    regularization=al.reg.Constant(coefficient=1.0),\n",
    ")\n",
    "\n",
    "tracer = al.Tracer.from_galaxies(galaxies=[lens_galaxy, source_galaxy])"
   ]
  },
  {
   "cell_type": "markdown",
   "metadata": {},
   "source": [
    "Then, like before, we call on the fitting module to perform the fit to the lensing image. Indeed, we see some pretty good looking residuals - we're certainly fitting the lensed source accurately!"
   ]
  },
  {
   "cell_type": "code",
   "execution_count": null,
   "metadata": {},
   "outputs": [],
   "source": [
    "fit = al.fit(masked_dataset=masked_imaging, tracer=tracer)\n",
    "\n",
    "aplt.fit_imaging.subplot_fit_imaging(\n",
    "    fit=fit,\n",
    "    include=aplt.Include(mask=True)\n",
    ")"
   ]
  },
  {
   "cell_type": "markdown",
   "metadata": {},
   "source": [
    "And, we're done, here are a few questions to get you thinking about inversions:\n",
    "\n",
    "1) The inversion provides the best-fit solution to the observed image. Is there a problem with seeking the 'best-fit'? Is there a risk that we're going to fit other things in the image than just the lensed source galaxy? What happens if you reduce the regularization 'coefficient' above to zero?\n",
    "\n",
    "2) The exterior pixels in the rectangular grid have no image-pixels in them. However, they are still given a reconstructed flux. If this value isn't' coming from a util to an image-pixel, where is it be coming from?"
   ]
  }
 ],
 "metadata": {
  "kernelspec": {
   "display_name": "Python 3",
   "language": "python",
   "name": "python3"
  },
  "language_info": {
   "codemirror_mode": {
    "name": "ipython",
    "version": 3
   },
   "file_extension": ".py",
   "mimetype": "text/x-python",
   "name": "python",
   "nbconvert_exporter": "python",
   "pygments_lexer": "ipython3",
   "version": "3.6.9"
  }
 },
 "nbformat": 4,
 "nbformat_minor": 2
}
