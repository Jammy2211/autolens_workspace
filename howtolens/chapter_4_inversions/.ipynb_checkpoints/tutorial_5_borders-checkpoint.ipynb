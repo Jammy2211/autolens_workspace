{
 "cells": [
  {
   "cell_type": "markdown",
   "metadata": {},
   "source": [
    "__Borders__\n",
    "\n",
    "In the previous tutorial, we told our inversion to use a border. Here, we'll discuss what this border does."
   ]
  },
  {
   "cell_type": "code",
   "execution_count": null,
   "metadata": {},
   "outputs": [],
   "source": [
    "%matplotlib inline\n",
    "\n",
    "import autolens as al\n",
    "import autolens.plot as aplt"
   ]
  },
  {
   "cell_type": "markdown",
   "metadata": {},
   "source": [
    "To begin, lets simulate a simple image and use it to generate a rectangular mapper, as we're now used to doing."
   ]
  },
  {
   "cell_type": "code",
   "execution_count": null,
   "metadata": {},
   "outputs": [],
   "source": [
    "def simulate():\n",
    "\n",
    "    psf = al.kernel.from_gaussian(shape_2d=(11, 11), sigma=0.05, pixel_scales=0.05)\n",
    "\n",
    "    lens_galaxy = al.Galaxy(\n",
    "        redshift=0.5,\n",
    "        mass=al.mp.EllipticalIsothermal(\n",
    "            centre=(0.0, 0.0), axis_ratio=0.8, phi=135.0, einstein_radius=1.6\n",
    "        ),\n",
    "    )\n",
    "\n",
    "    source_galaxy = al.Galaxy(\n",
    "        redshift=1.0,\n",
    "        light=al.lp.EllipticalSersic(\n",
    "            centre=(0.1, 0.1),\n",
    "            axis_ratio=0.8,\n",
    "            phi=90.0,\n",
    "            intensity=0.2,\n",
    "            effective_radius=0.3,\n",
    "            sersic_index=1.0,\n",
    "        ),\n",
    "    )\n",
    "\n",
    "    tracer = al.Tracer.from_galaxies(galaxies=[lens_galaxy, source_galaxy])\n",
    "\n",
    "    simulator = al.simulator.imaging(\n",
    "        shape_2d=(180, 180),\n",
    "        pixel_scales=0.05,\n",
    "        exposure_time=300.0,\n",
    "        sub_size=1,\n",
    "        psf=psf,\n",
    "        background_level=0.1,\n",
    "        add_noise=True,\n",
    "    )\n",
    "\n",
    "    return simulator.from_tracer(tracer=tracer)\n"
   ]
  },
  {
   "cell_type": "markdown",
   "metadata": {},
   "source": [
    "Lets have a quick look at the image."
   ]
  },
  {
   "cell_type": "code",
   "execution_count": null,
   "metadata": {},
   "outputs": [],
   "source": [
    "imaging = simulate()\n",
    "\n",
    "aplt.imaging.subplot_imaging(imaging=imaging)"
   ]
  },
  {
   "cell_type": "markdown",
   "metadata": {},
   "source": [
    "So, what is a border? In the image-plane, a border is the set of exterior pixels in a mask that are at, well, its border. Lets plot the image with a circular mask, and tell our imaging plotter to plot the border as well."
   ]
  },
  {
   "cell_type": "code",
   "execution_count": null,
   "metadata": {},
   "outputs": [],
   "source": [
    "mask_circular = al.mask.circular(\n",
    "    shape_2d=imaging.shape_2d, \n",
    "    pixel_scales=imaging.pixel_scales, \n",
    "    sub_size=2, \n",
    "    radius=2.5\n",
    ")\n",
    "\n",
    "aplt.imaging.subplot_imaging(\n",
    "    imaging=imaging, \n",
    "    mask=mask_circular, \n",
    "    include=aplt.Include(border=True)\n",
    ")"
   ]
  },
  {
   "cell_type": "markdown",
   "metadata": {},
   "source": [
    "As you can see, for a circular mask, the border *is* the edge of our mask (the ring of black dots we're used to seeing whenever we plot a mask). For an annular mask, not every pixel on the edge of the mask is necessarily a part of its border!"
   ]
  },
  {
   "cell_type": "code",
   "execution_count": null,
   "metadata": {},
   "outputs": [],
   "source": [
    "mask_annular = al.mask.circular_annular(\n",
    "    shape_2d=imaging.shape_2d,\n",
    "    pixel_scales=imaging.pixel_scales,\n",
    "    sub_size=2,\n",
    "    inner_radius=0.8,\n",
    "    outer_radius=2.5,\n",
    ")\n",
    "\n",
    "aplt.imaging.subplot_imaging(\n",
    "    imaging=imaging, \n",
    "    mask=mask_annular, \n",
    "    include=aplt.Include(border=True)\n",
    ")"
   ]
  },
  {
   "cell_type": "markdown",
   "metadata": {},
   "source": [
    "Indeed, a border is *only* the pixels at the exterior edge of our mask, which for the annular mask above means non of the pixels at the inner radius = 0.8\" edge are part of the border.\n",
    "\n",
    "So, what does a border actually do? To show you, we'll need to fit this image with a lens model and mapper and we'll do that by using the same function as the previous tutorial (to perform a quick source galaxy fit) but with the option to input a mask and use a border."
   ]
  },
  {
   "cell_type": "code",
   "execution_count": null,
   "metadata": {},
   "outputs": [],
   "source": [
    "def perform_fit_with_source_galaxy_mask_and_border(\n",
    "    source_galaxy, mask, inversion_uses_border\n",
    "):\n",
    "\n",
    "    imaging = simulate()\n",
    "\n",
    "    masked_imaging = al.masked.imaging(\n",
    "        imaging=imaging, mask=mask, inversion_uses_border=inversion_uses_border\n",
    "    )\n",
    "\n",
    "    lens_galaxy = al.Galaxy(\n",
    "        redshift=0.5,\n",
    "        mass=al.mp.EllipticalIsothermal(\n",
    "            centre=(0.0, 0.0), axis_ratio=0.8, phi=135.0, einstein_radius=1.6\n",
    "        ),\n",
    "    )\n",
    "\n",
    "    tracer = al.Tracer.from_galaxies(galaxies=[lens_galaxy, source_galaxy])\n",
    "\n",
    "    return al.fit(masked_dataset=masked_imaging, tracer=tracer)"
   ]
  },
  {
   "cell_type": "markdown",
   "metadata": {},
   "source": [
    "Okay, so lets first look at our mapper without using a border using our annular mask."
   ]
  },
  {
   "cell_type": "code",
   "execution_count": null,
   "metadata": {},
   "outputs": [],
   "source": [
    "source_galaxy = al.Galaxy(\n",
    "    redshift=1.0,\n",
    "    pixelization=al.pix.Rectangular(shape=(40, 40)),\n",
    "    regularization=al.reg.Constant(coefficient=1.0),\n",
    ")\n",
    "\n",
    "fit = perform_fit_with_source_galaxy_mask_and_border(\n",
    "    source_galaxy=source_galaxy, mask=mask_annular, inversion_uses_border=False\n",
    ")\n",
    "\n",
    "aplt.inversion.reconstruction(\n",
    "    inversion=fit.inversion, \n",
    "    include=aplt.Include(inversion_grid=True)\n",
    ")"
   ]
  },
  {
   "cell_type": "markdown",
   "metadata": {},
   "source": [
    "Everything looks fine - we get a reconstructed source on a visually appeasing source-plane grid. So, why are we so worried about borders? Lets see what happens if we use a circular mask instead."
   ]
  },
  {
   "cell_type": "code",
   "execution_count": null,
   "metadata": {},
   "outputs": [],
   "source": [
    "fit = perform_fit_with_source_galaxy_mask_and_border(\n",
    "    source_galaxy=source_galaxy, mask=mask_circular, inversion_uses_border=False\n",
    ")\n",
    "\n",
    "aplt.inversion.reconstruction(\n",
    "    inversion=fit.inversion, \n",
    "    include=aplt.Include(inversion_grid=True)\n",
    ")"
   ]
  },
  {
   "cell_type": "markdown",
   "metadata": {},
   "source": [
    "Woah - whats happened? There are lots of extra points on our source-plane grid which trace to extremely large radii away from the central regions of the source-plane! These points are traced image-pixels (just like all the other points) which correspond to the central image-pixels that our annular mask masked but that our circular mask didn't!\n",
    "\n",
    "Lets quickly check this using a mapper plotter."
   ]
  },
  {
   "cell_type": "code",
   "execution_count": null,
   "metadata": {},
   "outputs": [],
   "source": [
    "aplt.mapper.subplot_image_and_mapper(\n",
    "    image=fit.masked_imaging.image,\n",
    "    mapper=fit.inversion.mapper,\n",
    "    include=aplt.Include(inversion_grid=True),\n",
    "    image_pixel_indexes=[\n",
    "        [3578, 3579, 3580, 3581, 3582],\n",
    "        [3678, 3679, 3680, 3681, 3682],\n",
    "        [3778, 3779, 3780, 3781, 3782],\n",
    "        [3878, 3879, 3880, 3881, 3882],\n",
    "        [3978, 3979, 3980, 3981, 3982],\n",
    "        [4078, 4079, 4080, 4081, 4082],\n",
    "        [4178, 4179, 4180, 4181, 4182],\n",
    "    ],\n",
    ")"
   ]
  },
  {
   "cell_type": "markdown",
   "metadata": {},
   "source": [
    "So, whats happening physically? Towards the centre of our EllipticalIsothermal mass profile the density profile becomes extremely cuspy (rising very sharply). This cause extremely large deflection angles to be computed - lets have a quick look."
   ]
  },
  {
   "cell_type": "code",
   "execution_count": null,
   "metadata": {},
   "outputs": [],
   "source": [
    "aplt.tracer.deflections_y(tracer=fit.tracer, grid=fit.grid)\n",
    "aplt.tracer.deflections_x(tracer=fit.tracer, grid=fit.grid)"
   ]
  },
  {
   "cell_type": "markdown",
   "metadata": {},
   "source": [
    "This means that our central image pixels are highly demagnified, tracing to extremely large values in the source plane! Physically, this isn't a problem - it just means that we don't see a 'central image' in most strong lenses as light-rays which trace through the centre of the lens are demagnified. However, if the lens galaxy had a cored mass distribution we would see the central image.\n",
    "\n",
    "This is a problem for our pixelization and mapper, which in the source-plane fits these demagnified pixels like any other pixels. This has two negative consequences:\n",
    "\n",
    "1) The rectangular grid we 'overlay' over the source-plane is much larger than for the annular mask because it has to expand to include the demagnified image-pixels. As a result, large source-pixels are used to reconstruct the central regions of the source-plane (where the source galaxy is actually located), meaning we reconstruct the source-galaxy at a lower effective resolution.\n",
    "\n",
    "2) The rectangular grid reconstructs the flux of the demanigified image pixels using source-pixels which contain *only* demagnified image pixels. However, these source-pixels *should* have other image-pixels traced within them from pixels at large radii from the centre of the lens galaxy. Unfortunately, our circular mask masks these pixels out, meaning they do not make it to our source-plane and are omitted from the source reconstruction.\n",
    "\n",
    "Lets quickly use a larger circular mask to confirm that these pixels do exist, if we don't mask them."
   ]
  },
  {
   "cell_type": "code",
   "execution_count": null,
   "metadata": {},
   "outputs": [],
   "source": [
    "mask_circular_large = al.mask.circular(\n",
    "    shape_2d=imaging.shape_2d, pixel_scales=imaging.pixel_scales, radius=4.0\n",
    ")\n",
    "\n",
    "fit = perform_fit_with_source_galaxy_mask_and_border(\n",
    "    source_galaxy=source_galaxy, mask=mask_circular, inversion_uses_border=False\n",
    ")\n",
    "\n",
    "aplt.inversion.reconstruction(\n",
    "    inversion=fit.inversion, \n",
    "    include=aplt.Include(inversion_grid=True)\n",
    ")"
   ]
  },
  {
   "cell_type": "markdown",
   "metadata": {},
   "source": [
    "This second point is a *huge* problem, as allowing source-pixels to fit regions of our mask in this completely unphysical way introduces extremely dangerous systematics into our source reconstruction and lens model analysis. You can see this in the weird patterns these pixels make in the exterior regions of our source-reconstruction!\n",
    "\n",
    "Borders are the solution to this problem. We simply take the mask border in the image-plane we showed above, trace it to the source-plane and relocate all traced image-pixels pixels outside this source-plane border to its edge. Lets take a look."
   ]
  },
  {
   "cell_type": "code",
   "execution_count": null,
   "metadata": {},
   "outputs": [],
   "source": [
    "fit = perform_fit_with_source_galaxy_mask_and_border(\n",
    "    source_galaxy=source_galaxy, mask=mask_circular, inversion_uses_border=True\n",
    ")\n",
    "\n",
    "aplt.inversion.reconstruction(\n",
    "    inversion=fit.inversion, \n",
    "    include=aplt.Include(inversion_grid=True)\n",
    ")\n",
    "\n",
    "aplt.mapper.subplot_image_and_mapper(\n",
    "    image=fit.masked_imaging.image,\n",
    "    mapper=fit.inversion.mapper,\n",
    "    include=aplt.Include(inversion_grid=True),\n",
    "    image_pixel_indexes=[\n",
    "        [0, 1, 2, 3, 4, 5, 6, 7, 8, 9, 10],\n",
    "    ],\n",
    ")"
   ]
  },
  {
   "cell_type": "markdown",
   "metadata": {},
   "source": [
    "This successfully addresses both of the issues above! However, you might be thinking, isn't that a bit of a hack? Its not really a physical treatment of the ray-tracing, is it?\n",
    "\n",
    "Well, you're right. However, the *only* physical way to do this would be to use a mask so large that all demangified central pixels are surrounded by traced image-pixels. This would require a mask so large our computer would crash, That's not a good solution, thus borders provide us with a workaround - one that I've extensively tested and have found that, provided your mask isn't too small, doesn't lead to systematic biases.\n",
    "\n",
    "Next, I'm going to quickly highlight how important borders are when modeling multiple lens galaxies. Their complex mass distribution and lensing configuration often produce very nasty edge effects where image pixels not just in the centre of mask, but anywhere in the mask, trace beyond the source-plane border."
   ]
  },
  {
   "cell_type": "code",
   "execution_count": null,
   "metadata": {},
   "outputs": [],
   "source": [
    "def simulate_image_x2_lenses():\n",
    "\n",
    "    psf = al.kernel.from_gaussian(shape_2d=(11, 11), sigma=0.05, pixel_scales=0.05)\n",
    "\n",
    "    grid = al.grid.uniform(\n",
    "        shape_2d=(300, 300), pixel_scales=0.05,\n",
    "    )\n",
    "\n",
    "    lens_galaxy_0 = al.Galaxy(\n",
    "        redshift=0.5,\n",
    "        mass=al.mp.EllipticalIsothermal(\n",
    "            centre=(1.1, 0.51), axis_ratio=0.9, phi=110.0, einstein_radius=1.07\n",
    "        ),\n",
    "    )\n",
    "\n",
    "    lens_galaxy_1 = al.Galaxy(\n",
    "        redshift=0.5,\n",
    "        mass=al.mp.EllipticalIsothermal(\n",
    "            centre=(-0.20, -0.35), axis_ratio=0.56, phi=16.0, einstein_radius=0.71\n",
    "        ),\n",
    "    )\n",
    "\n",
    "    source_galaxy_0 = al.Galaxy(\n",
    "        redshift=1.0,\n",
    "        light=al.lp.EllipticalSersic(\n",
    "            centre=(0.05, 0.05),\n",
    "            axis_ratio=0.8,\n",
    "            phi=90.0,\n",
    "            intensity=0.2,\n",
    "            effective_radius=0.3,\n",
    "            sersic_index=1.0,\n",
    "        ),\n",
    "    )\n",
    "\n",
    "    tracer = al.Tracer.from_galaxies(\n",
    "        galaxies=[lens_galaxy_0, lens_galaxy_1, source_galaxy_0]\n",
    "    )\n",
    "\n",
    "    simulator = al.simulator.imaging(\n",
    "        shape_2d=(180, 180),\n",
    "        pixel_scales=0.05,\n",
    "        exposure_time=300.0,\n",
    "        sub_size=1,\n",
    "        psf=psf,\n",
    "        background_level=1.0,\n",
    "        add_noise=True,\n",
    "    )\n",
    "\n",
    "    return simulator.from_tracer(tracer=tracer)\n"
   ]
  },
  {
   "cell_type": "markdown",
   "metadata": {},
   "source": [
    "Lets simulate our 2 lens system, define a new circular mask and plot them."
   ]
  },
  {
   "cell_type": "code",
   "execution_count": null,
   "metadata": {},
   "outputs": [],
   "source": [
    "imaging = simulate_image_x2_lenses()\n",
    "\n",
    "mask_circular = al.mask.circular(\n",
    "    shape_2d=imaging.shape_2d, \n",
    "    pixel_scales=imaging.pixel_scales, \n",
    "    sub_size=2, \n",
    "    radius=2.8\n",
    ")\n",
    "\n",
    "aplt.imaging.subplot_imaging(\n",
    "    imaging=imaging, \n",
    "    mask=mask_circular, \n",
    "    include=aplt.Include(border=True)\n",
    ")"
   ]
  },
  {
   "cell_type": "markdown",
   "metadata": {},
   "source": [
    "We need to redefine our perform fit function, to use the x2 lens galaxy model."
   ]
  },
  {
   "cell_type": "code",
   "execution_count": null,
   "metadata": {},
   "outputs": [],
   "source": [
    "def perform_fit_x2_lenses_with_source_galaxy_mask_and_border(\n",
    "    source_galaxy, mask, inversion_uses_border\n",
    "):\n",
    "\n",
    "    simulate_image_x2_lenses()\n",
    "\n",
    "    masked_imaging = al.masked.imaging(\n",
    "        imaging=imaging, mask=mask, inversion_uses_border=inversion_uses_border\n",
    "    )\n",
    "\n",
    "    lens_galaxy_0 = al.Galaxy(\n",
    "        redshift=0.5,\n",
    "        mass=al.mp.EllipticalIsothermal(\n",
    "            centre=(1.1, 0.51), axis_ratio=0.9, phi=110.0, einstein_radius=1.07\n",
    "        ),\n",
    "    )\n",
    "\n",
    "    lens_galaxy_1 = al.Galaxy(\n",
    "        redshift=0.5,\n",
    "        mass=al.mp.EllipticalIsothermal(\n",
    "            centre=(-0.20, -0.35), axis_ratio=0.56, phi=16.0, einstein_radius=0.71\n",
    "        ),\n",
    "    )\n",
    "\n",
    "    tracer = al.Tracer.from_galaxies(\n",
    "        galaxies=[lens_galaxy_0, lens_galaxy_1, source_galaxy]\n",
    "    )\n",
    "\n",
    "    return al.fit(masked_dataset=masked_imaging, tracer=tracer)"
   ]
  },
  {
   "cell_type": "markdown",
   "metadata": {},
   "source": [
    "Now, lets fit this image using the input model and perform the source reconstruction without a border. As you can see, we get many demagnified image pixels which trace well beyond our source-plane border if we don't relocate them!"
   ]
  },
  {
   "cell_type": "code",
   "execution_count": null,
   "metadata": {},
   "outputs": [],
   "source": [
    "fit = perform_fit_x2_lenses_with_source_galaxy_mask_and_border(\n",
    "    source_galaxy=source_galaxy, mask=mask_circular, inversion_uses_border=False\n",
    ")\n",
    "\n",
    "aplt.inversion.reconstruction(\n",
    "    inversion=fit.inversion, \n",
    "    include=aplt.Include(inversion_grid=True, border=True)\n",
    ")"
   ]
  },
  {
   "cell_type": "markdown",
   "metadata": {},
   "source": [
    "However, when we relocate them, we get a good-looking source-plane with a well defined border and edge, thus ensuring our analysis will (hopefully) be free of systematic biases."
   ]
  },
  {
   "cell_type": "code",
   "execution_count": null,
   "metadata": {},
   "outputs": [],
   "source": [
    "fit = perform_fit_x2_lenses_with_source_galaxy_mask_and_border(\n",
    "    source_galaxy=source_galaxy, mask=mask_circular, inversion_uses_border=True\n",
    ")\n",
    "aplt.inversion.reconstruction(\n",
    "    inversion=fit.inversion, \n",
    "    include=aplt.Include(inversion_grid=True, border=True)\n",
    ")"
   ]
  },
  {
   "cell_type": "markdown",
   "metadata": {},
   "source": [
    "Multi-galaxy modeling is rife for border effects and if you have multiple lens galaxies I heartily recommend you pay a close eye to your source-plane borders!\n",
    "\n",
    "Before we end,I want to quickly highlight that care must be taken when choosing the size of your mask. If you don't choose a big enough mask, the border won't be able to relocate all of the demanigified image pixels to the border edge."
   ]
  },
  {
   "cell_type": "code",
   "execution_count": null,
   "metadata": {},
   "outputs": [],
   "source": [
    "\n",
    "mask_circular = al.mask.circular(\n",
    "    shape_2d=imaging.shape_2d, pixel_scales=imaging.pixel_scales, sub_size=2, radius=2.5\n",
    ")\n",
    "\n",
    "fit = perform_fit_x2_lenses_with_source_galaxy_mask_and_border(\n",
    "    source_galaxy=source_galaxy, mask=mask_circular, inversion_uses_border=True\n",
    ")\n",
    "\n",
    "aplt.inversion.reconstruction(\n",
    "    inversion=fit.inversion, \n",
    "    include=aplt.Include(inversion_grid=True, border=True)\n",
    ")\n",
    "\n",
    "mask_circular = al.mask.circular(\n",
    "    shape_2d=imaging.shape_2d, pixel_scales=imaging.pixel_scales, sub_size=2, radius=2.7\n",
    ")\n",
    "\n",
    "fit = perform_fit_x2_lenses_with_source_galaxy_mask_and_border(\n",
    "    source_galaxy=source_galaxy, mask=mask_circular, inversion_uses_border=True\n",
    ")\n",
    "\n",
    "aplt.inversion.reconstruction(\n",
    "    inversion=fit.inversion, \n",
    "    include=aplt.Include(inversion_grid=True, border=True)\n",
    ")\n",
    "\n",
    "\n",
    "mask_circular = al.mask.circular(\n",
    "    shape_2d=imaging.shape_2d, pixel_scales=imaging.pixel_scales, sub_size=2, radius=2.9\n",
    ")\n",
    "\n",
    "fit = perform_fit_x2_lenses_with_source_galaxy_mask_and_border(\n",
    "    source_galaxy=source_galaxy, mask=mask_circular, inversion_uses_border=True\n",
    ")\n",
    "\n",
    "aplt.inversion.reconstruction(\n",
    "    inversion=fit.inversion, \n",
    "    include=aplt.Include(inversion_grid=True, border=True)\n",
    ")\n",
    "\n",
    "\n",
    "mask_circular = al.mask.circular(\n",
    "    shape_2d=imaging.shape_2d, pixel_scales=imaging.pixel_scales, sub_size=2, radius=3.1\n",
    ")\n",
    "\n",
    "fit = perform_fit_x2_lenses_with_source_galaxy_mask_and_border(\n",
    "    source_galaxy=source_galaxy, mask=mask_circular, inversion_uses_border=True\n",
    ")\n",
    "\n",
    "aplt.inversion.reconstruction(\n",
    "    inversion=fit.inversion, \n",
    "    include=aplt.Include(inversion_grid=True, border=True)\n",
    ")"
   ]
  },
  {
   "cell_type": "markdown",
   "metadata": {},
   "source": [
    "And with that, borders are done. In truth, borders should pretty much take care of themselves when you're using PyAutoLens and you probably won't think about them much. However, as I showed above, if you don't choose a large enough mask things can go wrong - thus, its important you know what borders are, so you can look out for this potential source of systematics!"
   ]
  }
 ],
 "metadata": {
  "kernelspec": {
   "display_name": "Python 3",
   "language": "python",
   "name": "python3"
  },
  "language_info": {
   "codemirror_mode": {
    "name": "ipython",
    "version": 3
   },
   "file_extension": ".py",
   "mimetype": "text/x-python",
   "name": "python",
   "nbconvert_exporter": "python",
   "pygments_lexer": "ipython3",
   "version": "3.6.9"
  }
 },
 "nbformat": 4,
 "nbformat_minor": 2
}
