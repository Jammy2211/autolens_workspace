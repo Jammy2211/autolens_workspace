{
 "cells": [
  {
   "cell_type": "markdown",
   "metadata": {},
   "source": [
    "__Pixelizations__\n",
    "\n",
    "To begin chapter 4, we'll begin by learning about pixelizations, which we apply to a source-plane to reconstruct a source galaxy's light."
   ]
  },
  {
   "cell_type": "code",
   "execution_count": null,
   "metadata": {},
   "outputs": [],
   "source": [
    "%matplotlib inline\n",
    "\n",
    "import autolens as al\n",
    "import autolens.plot as aplt"
   ]
  },
  {
   "cell_type": "markdown",
   "metadata": {},
   "source": [
    "Lets setup a lensed source-plane grid, using a lens galaxy and tracer (our source galaxy doesn't have a light profile,as we're going to reconstruct its light using a pixelization)."
   ]
  },
  {
   "cell_type": "code",
   "execution_count": null,
   "metadata": {},
   "outputs": [],
   "source": [
    "grid = al.grid.uniform(\n",
    "    shape_2d=(100, 100), pixel_scales=0.05, sub_size=2\n",
    ")\n",
    "\n",
    "lens_galaxy = al.Galaxy(\n",
    "    redshift=0.5,\n",
    "    mass=al.mp.EllipticalIsothermal(\n",
    "        centre=(0.0, 0.0), axis_ratio=0.8, phi=90.0, einstein_radius=1.6\n",
    "    ),\n",
    ")\n",
    "\n",
    "tracer = al.Tracer.from_galaxies(\n",
    "    galaxies=[lens_galaxy, al.Galaxy(redshift=1.0)],\n",
    ")\n",
    "\n",
    "source_plane_grid = tracer.traced_grids_of_planes_from_grid(grid=grid)[1]"
   ]
  },
  {
   "cell_type": "markdown",
   "metadata": {},
   "source": [
    "Next, lets set up a pixelization using the 'pixelizations' module, which we've imported as 'pix'.\n",
    "\n",
    "There are multiple pixelizations available in PyAutoLens. For now, we'll keep it simple and use a uniform rectangular grid. As usual, the grid's 'shape' defines its (y,x) dimensions."
   ]
  },
  {
   "cell_type": "code",
   "execution_count": null,
   "metadata": {},
   "outputs": [],
   "source": [
    "rectangular = al.pix.Rectangular(shape=(25, 25))"
   ]
  },
  {
   "cell_type": "markdown",
   "metadata": {},
   "source": [
    "By itself, a pixelization doesn't tell us much. It has no grid of coordinates, no image, and nothing which tells it about the lens we're fitting. This information comes when we use the pixelization to set up a 'mapper'. We'll use the (traced) source-plane grid to set up this mapper."
   ]
  },
  {
   "cell_type": "code",
   "execution_count": null,
   "metadata": {},
   "outputs": [],
   "source": [
    "mapper = rectangular.mapper_from_grid_and_sparse_grid(\n",
    "    grid=source_plane_grid,\n",
    ")"
   ]
  },
  {
   "cell_type": "markdown",
   "metadata": {},
   "source": [
    "This mapper is a 'RectangularMapper' - every pixelization generates it owns mapper."
   ]
  },
  {
   "cell_type": "code",
   "execution_count": null,
   "metadata": {},
   "outputs": [],
   "source": [
    "print(type(mapper))"
   ]
  },
  {
   "cell_type": "markdown",
   "metadata": {},
   "source": [
    "By plotting our mapper, we now see our pixelization. Its a fairly boring grid of rectangular pixels.\n",
    "\n",
    "(we'll cover what the 'inversion' means in a later tutorial)."
   ]
  },
  {
   "cell_type": "code",
   "execution_count": null,
   "metadata": {},
   "outputs": [],
   "source": [
    "aplt.mapper_obj(\n",
    "    mapper=mapper,\n",
    "    include=aplt.Include(inversion_grid=False, inversion_pixelization_grid=False),\n",
    "    plotter=aplt.Plotter(labels=aplt.Labels(title=\"Fairly Boring Grid of Rectangular Pixels\")),\n",
    ")"
   ]
  },
  {
   "cell_type": "markdown",
   "metadata": {},
   "source": [
    "However, the mapper does contain lots of interesting information about our pixelization, for example its pixelization grid tells us where the pixel centers are located."
   ]
  },
  {
   "cell_type": "code",
   "execution_count": null,
   "metadata": {},
   "outputs": [],
   "source": [
    "print(\"Rectangular Grid Pixel Centre 1:\")\n",
    "print(mapper.pixelization_grid[0])\n",
    "print(\"Rectangular Grid Pixel Centre 2:\")\n",
    "print(mapper.pixelization_grid[1])\n",
    "print(\"Rectangular Grid Pixel Centre 3:\")\n",
    "print(mapper.pixelization_grid[2])\n",
    "print(\"etc.\")"
   ]
  },
  {
   "cell_type": "markdown",
   "metadata": {},
   "source": [
    "Infact, we can plot these centre on our grid - to make it look slightly less boring!"
   ]
  },
  {
   "cell_type": "code",
   "execution_count": null,
   "metadata": {},
   "outputs": [],
   "source": [
    "aplt.mapper_obj(\n",
    "    mapper=mapper,\n",
    "    include=aplt.Include(inversion_grid=False, inversion_pixelization_grid=True),\n",
    "    plotter=aplt.Plotter(labels=aplt.Labels(title=\"Slightly less Boring Grid of Rectangular Pixels\")),\n",
    ")"
   ]
  },
  {
   "cell_type": "markdown",
   "metadata": {},
   "source": [
    "The mapper also has the (source-plane) grid that we passed when we set it up. Lets check they're the same."
   ]
  },
  {
   "cell_type": "code",
   "execution_count": null,
   "metadata": {},
   "outputs": [],
   "source": [
    "print(\"Source Grid Pixel 1\")\n",
    "print(source_plane_grid[0])\n",
    "print(mapper.grid[0])\n",
    "print(\"Source Grid Pixel 2\")\n",
    "print(source_plane_grid[1])\n",
    "print(mapper.grid[1])\n",
    "print(\"etc.\")"
   ]
  },
  {
   "cell_type": "markdown",
   "metadata": {},
   "source": [
    "We can over-lay the grid on top. Its starting to look a bit less boring now!"
   ]
  },
  {
   "cell_type": "code",
   "execution_count": null,
   "metadata": {},
   "outputs": [],
   "source": [
    "aplt.mapper_obj(\n",
    "    mapper=mapper, \n",
    "    include=aplt.Include(inversion_grid=True, inversion_pixelization_grid=True),\n",
    "    plotter=aplt.Plotter(labels=aplt.Labels(title=\"Even less Boring Grid of Rectangular Pixels\")),\n",
    ")"
   ]
  },
  {
   "cell_type": "markdown",
   "metadata": {},
   "source": [
    "Finally, the mapper's pixeliation grid has lots of information about the pixelization, for example, the arc-second size and dimensions."
   ]
  },
  {
   "cell_type": "code",
   "execution_count": null,
   "metadata": {},
   "outputs": [],
   "source": [
    "print(mapper.pixelization_grid.shape_2d_scaled)\n",
    "print(mapper.pixelization_grid.scaled_maxima)\n",
    "print(mapper.pixelization_grid.scaled_minima)"
   ]
  },
  {
   "cell_type": "markdown",
   "metadata": {},
   "source": [
    "And with that, we're done. This was a relatively gentle overview of pixelizations, but one that was hopefully easy to follow. Think about the following questions before moving on to the next tutorial:\n",
    "\n",
    "1) Look at how the source-grid coordinates are distributed over the rectangular pixel-grid. Are these points distributed evenly over the rectangular grid's pixels? Do some pixels have a lot more grid-points inside of them? Do some pixels have no grid-points in them?\n",
    "\n",
    "2) The rectangular pixelization's edges are aligned with the most exterior coordinates of the source-grid. This is intentional - why do you think this is?"
   ]
  },
  {
   "cell_type": "code",
   "execution_count": null,
   "metadata": {},
   "outputs": [],
   "source": []
  }
 ],
 "metadata": {
  "kernelspec": {
   "display_name": "Python 3",
   "language": "python",
   "name": "python3"
  },
  "language_info": {
   "codemirror_mode": {
    "name": "ipython",
    "version": 3
   },
   "file_extension": ".py",
   "mimetype": "text/x-python",
   "name": "python",
   "nbconvert_exporter": "python",
   "pygments_lexer": "ipython3",
   "version": "3.6.9"
  }
 },
 "nbformat": 4,
 "nbformat_minor": 2
}
