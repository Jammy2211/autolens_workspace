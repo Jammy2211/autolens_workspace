{
 "cells": [
  {
   "cell_type": "markdown",
   "metadata": {},
   "source": [
    "__Mappers__\n",
    "\n",
    "In the previous example, we made a mapper from a rectangular pixelization. However, it wasn't clear what a mapper was actually mapping. Infact, it didn't do much mapping at all! Therefore, in this tutorial, we'll cover mapping."
   ]
  },
  {
   "cell_type": "code",
   "execution_count": null,
   "metadata": {},
   "outputs": [],
   "source": [
    "%matplotlib inline\n",
    "\n",
    "import autolens as al\n",
    "import autolens.plot as aplt"
   ]
  },
  {
   "cell_type": "markdown",
   "metadata": {},
   "source": [
    "To begin, lets simulate and load an image - it'll be clear why we're doing this in a moment."
   ]
  },
  {
   "cell_type": "code",
   "execution_count": null,
   "metadata": {},
   "outputs": [],
   "source": [
    "def simulate():\n",
    "\n",
    "    psf = al.kernel.from_gaussian(shape_2d=(11, 11), sigma=0.05, pixel_scales=0.05)\n",
    "\n",
    "    lens_galaxy = al.Galaxy(\n",
    "        redshift=0.5,\n",
    "        mass=al.mp.EllipticalIsothermal(\n",
    "            centre=(0.0, 0.0), axis_ratio=0.8, phi=45.0, einstein_radius=1.6\n",
    "        ),\n",
    "    )\n",
    "\n",
    "    source_galaxy = al.Galaxy(\n",
    "        redshift=1.0,\n",
    "        light=al.lp.EllipticalSersic(\n",
    "            centre=(0.0, 0.0),\n",
    "            axis_ratio=0.7,\n",
    "            phi=135.0,\n",
    "            intensity=0.2,\n",
    "            effective_radius=0.2,\n",
    "            sersic_index=2.5,\n",
    "        ),\n",
    "    )\n",
    "\n",
    "    tracer = al.Tracer.from_galaxies(galaxies=[lens_galaxy, source_galaxy])\n",
    "\n",
    "    simulator = al.simulator.imaging(\n",
    "        shape_2d=(150, 150),\n",
    "        pixel_scales=0.05,\n",
    "        exposure_time=300.0,\n",
    "        sub_size=1,\n",
    "        psf=psf,\n",
    "        background_level=0.1,\n",
    "        add_noise=True,\n",
    "    )\n",
    "\n",
    "    return simulator.from_tracer(tracer=tracer)"
   ]
  },
  {
   "cell_type": "markdown",
   "metadata": {},
   "source": [
    "Lets simulate our Imaging data."
   ]
  },
  {
   "cell_type": "code",
   "execution_count": null,
   "metadata": {},
   "outputs": [],
   "source": [
    "imaging = simulate()\n",
    "aplt.imaging.subplot_imaging(imaging=imaging)"
   ]
  },
  {
   "cell_type": "markdown",
   "metadata": {},
   "source": [
    "Now, lets set up our grids (using the image above)."
   ]
  },
  {
   "cell_type": "code",
   "execution_count": null,
   "metadata": {},
   "outputs": [],
   "source": [
    "grid = al.grid.uniform(\n",
    "    shape_2d=imaging.shape_2d, pixel_scales=imaging.pixel_scales, sub_size=1\n",
    ")"
   ]
  },
  {
   "cell_type": "markdown",
   "metadata": {},
   "source": [
    "Our tracer will use the same lens galaxy and source galaxy that we used to Simulate the Imaging data (although, becuase we're modeling the source with a pixel-grid, we don't need to supply its light profile)."
   ]
  },
  {
   "cell_type": "code",
   "execution_count": null,
   "metadata": {},
   "outputs": [],
   "source": [
    "lens_galaxy = al.Galaxy(\n",
    "    redshift=0.5,\n",
    "    mass=al.mp.EllipticalIsothermal(\n",
    "        centre=(0.0, 0.0), axis_ratio=0.8, phi=45.0, einstein_radius=1.6\n",
    "    ),\n",
    ")\n",
    "\n",
    "tracer = al.Tracer.from_galaxies(galaxies=[lens_galaxy, al.Galaxy(redshift=1.0)])\n",
    "\n",
    "source_plane_grid = tracer.traced_grids_of_planes_from_grid(grid=grid)[1]"
   ]
  },
  {
   "cell_type": "markdown",
   "metadata": {},
   "source": [
    " Next, we setup our pixelization and mapper using the tracer's source-plane grid."
   ]
  },
  {
   "cell_type": "code",
   "execution_count": null,
   "metadata": {},
   "outputs": [],
   "source": [
    "rectangular = al.pix.Rectangular(shape=(25, 25))\n",
    "\n",
    "mapper = rectangular.mapper_from_grid_and_sparse_grid(grid=source_plane_grid)"
   ]
  },
  {
   "cell_type": "markdown",
   "metadata": {},
   "source": [
    "We're going to plot our mapper alongside the image we used to generate the source-plane grid."
   ]
  },
  {
   "cell_type": "code",
   "execution_count": null,
   "metadata": {},
   "outputs": [],
   "source": [
    "aplt.mapper.subplot_image_and_mapper(\n",
    "    image=imaging.image, mapper=mapper, include=aplt.Include(inversion_grid=True)\n",
    ")"
   ]
  },
  {
   "cell_type": "markdown",
   "metadata": {},
   "source": [
    "The pixels in the image map to the pixels in the source-plane, and visa-versa. Lets highlight a set of image-pixels in both the image and source-plane."
   ]
  },
  {
   "cell_type": "code",
   "execution_count": null,
   "metadata": {},
   "outputs": [],
   "source": [
    "aplt.mapper.subplot_image_and_mapper(\n",
    "    image=imaging.image,\n",
    "    mapper=mapper,\n",
    "    include=aplt.Include(inversion_grid=True),\n",
    "    image_pixel_indexes=[[0, 1, 2, 3, 4, 5, 6, 7, 8, 9],\n",
    "                         [100, 200, 300, 400, 500, 600, 700, 800, 900, 1000]],\n",
    ")"
   ]
  },
  {
   "cell_type": "markdown",
   "metadata": {},
   "source": [
    "That's nice, and we can see the mappings, but it isn't really what we want to know, is it? We really want to go the other way, and see how our source-pixels map to the image. This is where mappers come into their own, as they let us map all the points in a given source-pixel back to the image. Lets map source pixel 313, the central source-pixel, to the image."
   ]
  },
  {
   "cell_type": "code",
   "execution_count": null,
   "metadata": {},
   "outputs": [],
   "source": [
    "aplt.mapper.subplot_image_and_mapper(\n",
    "    image=imaging.image,\n",
    "    mapper=mapper,\n",
    "    include=aplt.Include(inversion_grid=True),\n",
    "    source_pixel_indexes=[[312]],\n",
    ")"
   ]
  },
  {
   "cell_type": "markdown",
   "metadata": {},
   "source": [
    "And there we have it - multiple imaging in all its glory. Try changing the source-pixel indexes of the line below. This will give you a feel for how different regions of the source-plane map to the image."
   ]
  },
  {
   "cell_type": "code",
   "execution_count": null,
   "metadata": {},
   "outputs": [],
   "source": [
    "aplt.mapper.subplot_image_and_mapper(\n",
    "    image=imaging.image,\n",
    "    mapper=mapper,\n",
    "    include=aplt.Include(inversion_grid=True),\n",
    "    source_pixel_indexes=[[312, 318], [412]],\n",
    ")"
   ]
  },
  {
   "cell_type": "markdown",
   "metadata": {},
   "source": [
    "Okay, so I think we can agree, mappers map things! More specifically, they map our source-plane pixels to pixels in the observed image of a strong lens.\n",
    "\n",
    "Finally, lets do the same as above, but using a masked image. By applying a mask, the mapper will only map image-pixels inside the mask. This removes the (many) image pixels at the edge of the image, where the source isn't present. These pixels also pad-out the source-plane, thus by removing them our source-plane reduces in size.\n",
    "\n",
    "Lets just have a quick look at these edges pixels:"
   ]
  },
  {
   "cell_type": "code",
   "execution_count": null,
   "metadata": {},
   "outputs": [],
   "source": [
    "aplt.mapper.subplot_image_and_mapper(\n",
    "    image=imaging.image,\n",
    "    mapper=mapper,\n",
    "    include=aplt.Include(inversion_grid=True),\n",
    "    source_pixel_indexes=[[0, 1, 2, 3, 4, 5, 6, 7], [620, 621, 622, 623, 624]],\n",
    ")"
   ]
  },
  {
   "cell_type": "markdown",
   "metadata": {},
   "source": [
    "Lets use an annular mask, which will capture the ring-like shape of the lensed source galaxy."
   ]
  },
  {
   "cell_type": "code",
   "execution_count": null,
   "metadata": {},
   "outputs": [],
   "source": [
    "mask = al.mask.circular_annular(\n",
    "    shape_2d=imaging.shape_2d,\n",
    "    pixel_scales=imaging.pixel_scales,\n",
    "    inner_radius=1.0,\n",
    "    outer_radius=2.2,\n",
    ")"
   ]
  },
  {
   "cell_type": "markdown",
   "metadata": {},
   "source": [
    "Lets quickly confirm the annuli capture the source's light."
   ]
  },
  {
   "cell_type": "code",
   "execution_count": null,
   "metadata": {},
   "outputs": [],
   "source": [
    "aplt.imaging.image(imaging=imaging, mask=mask)"
   ]
  },
  {
   "cell_type": "markdown",
   "metadata": {},
   "source": [
    "As usual, we setup our image and mask up as lens data and create a tracer using its (now masked) al."
   ]
  },
  {
   "cell_type": "code",
   "execution_count": null,
   "metadata": {},
   "outputs": [],
   "source": [
    "masked_imaging = al.masked.imaging(imaging=imaging, mask=mask)\n",
    "\n",
    "tracer = al.Tracer.from_galaxies(\n",
    "    galaxies=[lens_galaxy, al.Galaxy(redshift=1.0)]\n",
    ")\n",
    "\n",
    "source_plane_grid = tracer.traced_grids_of_planes_from_grid(grid=masked_imaging.grid)[1]"
   ]
  },
  {
   "cell_type": "markdown",
   "metadata": {},
   "source": [
    "Finally, we use the masked source-plane grid to setup a new mapper (using the same rectangular 25 x 25 pixelization as before)."
   ]
  },
  {
   "cell_type": "code",
   "execution_count": null,
   "metadata": {},
   "outputs": [],
   "source": [
    "mapper = rectangular.mapper_from_grid_and_sparse_grid(\n",
    "    grid=source_plane_grid\n",
    ")"
   ]
  },
  {
   "cell_type": "markdown",
   "metadata": {},
   "source": [
    "Lets have another look."
   ]
  },
  {
   "cell_type": "code",
   "execution_count": null,
   "metadata": {},
   "outputs": [],
   "source": [
    "aplt.mapper.subplot_image_and_mapper(\n",
    "    image=masked_imaging.image,\n",
    "    mapper=mapper,\n",
    "    include=aplt.Include(mask=True, inversion_grid=True)\n",
    ")"
   ]
  },
  {
   "cell_type": "markdown",
   "metadata": {},
   "source": [
    "Woah! Look how much closer we are to the source-plane (The axis sizes have decreased from ~ -2.5\" -> 2.5\" to ~ -0.6\" to 0.6\"). We can now really see the diamond of points in the centre of the source-plane (for those who have been reading up, this diamond is called the 'caustic')."
   ]
  },
  {
   "cell_type": "code",
   "execution_count": null,
   "metadata": {},
   "outputs": [],
   "source": [
    "aplt.mapper.subplot_image_and_mapper(\n",
    "    image=masked_imaging.image,\n",
    "    mapper=mapper,\n",
    "    include=aplt.Include(mask=True, inversion_grid=True),\n",
    "    source_pixel_indexes=[[312], [314], [316], [318]],\n",
    ")"
   ]
  },
  {
   "cell_type": "markdown",
   "metadata": {},
   "source": [
    "Great - tutorial 2 down! We've learnt about mappers, which map things, and we used them to understand how the image and source plane map to one another. Your exercises are:\n",
    "\n",
    "1) Change the einstein radius of the lens galaxy in small increments (e.g. einstein radius 1.6\" -> 1.55\"). As the radius deviates from 1.6\" (the input value of the simulated lens), what do you notice about where the points map from the centre of the source-plane (where the source-galaxy is simulated, e.g. (0.0\", 0.0\"))?\n",
    "\n",
    "2) Incrementally increase the axis ratio of the lens's mass profile to 1.0. What happens to quadruple imaging?\n",
    "\n",
    "3) Now, finally, think - how is all of this going to help us actually model lenses? We've said we're going to reconstruct our source galaxies on the pixel-grid. So, how does knowing how each pixel maps to the image actually help us? If you've not got any bright ideas, then worry not - that exactly what we're going to cover in the next tutorial.\n"
   ]
  }
 ],
 "metadata": {
  "kernelspec": {
   "display_name": "Python 3",
   "language": "python",
   "name": "python3"
  },
  "language_info": {
   "codemirror_mode": {
    "name": "ipython",
    "version": 3
   },
   "file_extension": ".py",
   "mimetype": "text/x-python",
   "name": "python",
   "nbconvert_exporter": "python",
   "pygments_lexer": "ipython3",
   "version": "3.6.9"
  }
 },
 "nbformat": 4,
 "nbformat_minor": 2
}
