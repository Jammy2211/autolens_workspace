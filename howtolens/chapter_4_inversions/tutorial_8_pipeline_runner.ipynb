{
  "cells": [
    {
      "cell_type": "markdown",
      "metadata": {},
      "source": [
        "Tutorial 8: Pipeline\n",
        "====================\n",
        "\n",
        "To illustrate lens modeling using an `Inversion` and `Pipeline`, we'll go back to the complex source model-fit that we\n",
        "performed in tutorial 3 of chapter 3. This time, as you`ve probably guessed, we'll fit the complex source using an\n",
        "`Inversion`.\n",
        "\n",
        "we'll begin by modeling the source with a `LightProfile`, to initialize the mass model and avoid the unphysical\n",
        "solutions discussed in tutorial 6. we'll then switch to an `Inversion`."
      ]
    },
    {
      "cell_type": "code",
      "metadata": {},
      "source": [
        "%matplotlib inline\n",
        "\n",
        "from pyprojroot import here\n",
        "\n",
        "workspace_path = str(here())\n",
        "%cd $workspace_path\n",
        "print(f\"Working Directory has been set to `{workspace_path}`\")\n",
        "\n",
        "from os import path\n",
        "import autolens as al\n",
        "import autolens.plot as aplt"
      ],
      "outputs": [],
      "execution_count": null
    },
    {
      "cell_type": "markdown",
      "metadata": {},
      "source": [
        "we'll use strong lensing data, where:\n",
        "\n",
        " - The lens `Galaxy`'s light is omitted.\n",
        " - The lens `Galaxy`'s total mass distribution is an `EllipticalIsothermal`.\n",
        " - The source `Galaxy`'s `LightProfile` is four `EllipticalSersic``.."
      ]
    },
    {
      "cell_type": "code",
      "metadata": {},
      "source": [
        "dataset_name = \"mass_sie__source_sersic_x4\"\n",
        "dataset_path = path.join(\"dataset\", \"howtolens\", \"chapter_4\", dataset_name)\n",
        "\n",
        "imaging = al.Imaging.from_fits(\n",
        "    image_path=path.join(dataset_path, \"image.fits\"),\n",
        "    noise_map_path=path.join(dataset_path, \"noise_map.fits\"),\n",
        "    psf_path=path.join(dataset_path, \"psf.fits\"),\n",
        "    pixel_scales=0.1,\n",
        ")\n",
        "\n",
        "mask = al.Mask2D.circular(\n",
        "    shape_2d=imaging.shape_2d, pixel_scales=imaging.pixel_scales, radius=3.0\n",
        ")\n",
        "\n",
        "\n",
        "aplt.Imaging.subplot_imaging(imaging=imaging, mask=mask)"
      ],
      "outputs": [],
      "execution_count": null
    },
    {
      "cell_type": "markdown",
      "metadata": {},
      "source": [
        "__Settings__\n",
        "\n",
        "The `SettingsPhaseImaging` describe how the model is fitted to the data in the log likelihood function. We discussed\n",
        "these in chapter 2, and a full description of all settings can be found in the example script:\n",
        "\n",
        " `autolens_workspace/examples/model/customize/settings.py`.\n",
        "\n",
        "The settings chosen here are applied to all phases in the pipeline. Note how we can use the _SettingsPixelization_\n",
        "object to determine whether the border is used during the model-fit."
      ]
    },
    {
      "cell_type": "code",
      "metadata": {},
      "source": [
        "settings_masked_imaging = al.SettingsMaskedImaging(sub_size=2)\n",
        "settings_pixelization = al.SettingsPixelization(use_border=True)\n",
        "\n",
        "settings = al.SettingsPhaseImaging(\n",
        "    settings_masked_imaging=settings_masked_imaging,\n",
        "    settings_pixelization=settings_pixelization,\n",
        ")"
      ],
      "outputs": [],
      "execution_count": null
    },
    {
      "cell_type": "markdown",
      "metadata": {},
      "source": [
        "__Pipeline_Setup_And_Tagging__:\n",
        "\n",
        "We will use the standardized `Setup` objects in this pipeline, which as discussed in chapter 3 provide us with \n",
        "covenient and standardized tools to compose a lens model and tags the output paths. \n",
        "\n",
        "We saw the `SetupMassTotal` object in the previous chapter, which:\n",
        "\n",
        "For this pipeline the pipeline setup customizes and tags:\n",
        "\n",
        " - The `MassProfile` fitted by the pipeline.\n",
        " - If there is an `ExternalShear` in the mass model or not."
      ]
    },
    {
      "cell_type": "code",
      "metadata": {},
      "source": [
        "setup_mass = al.SetupMassTotal(with_shear=True)"
      ],
      "outputs": [],
      "execution_count": null
    },
    {
      "cell_type": "markdown",
      "metadata": {},
      "source": [
        "We also use the `SetupSourceInversion` object to customize the `Inversion` used for the source, specifically:\n",
        "\n",
        " - The `Pixelization` used by the `Inversion` of this pipeline.\n",
        " - The `Regularization` scheme used by the `Inversion` of this pipeline."
      ]
    },
    {
      "cell_type": "code",
      "metadata": {},
      "source": [
        "setup_source = al.SetupSourceInversion(\n",
        "    pixelization_prior_model=al.pix.VoronoiMagnification,\n",
        "    regularization_prior_model=al.reg.Constant,\n",
        ")\n",
        "\n",
        "setup = al.SetupPipeline(\n",
        "    path_prefix=path.join(\"howtolens\", \"c4_t8_inversion\"),\n",
        "    setup_mass=setup_mass,\n",
        "    setup_source=setup_source,\n",
        ")"
      ],
      "outputs": [],
      "execution_count": null
    },
    {
      "cell_type": "markdown",
      "metadata": {},
      "source": [
        "__Pipeline Creation__\n",
        "\n",
        "To create a pipeline we import it from the pipelines folder and run its `make_pipeline` function, inputting the \n",
        "`Setup` and `SettingsPhase` above."
      ]
    },
    {
      "cell_type": "code",
      "metadata": {},
      "source": [
        "from pipelines import tutorial_8_pipeline\n",
        "\n",
        "pipeline_inversion = tutorial_8_pipeline.make_pipeline(setup=setup, settings=settings)\n",
        "\n",
        "# Uncomment to run.\n",
        "# pipeline_inversion.run(dataset=imaging, mask=mask)"
      ],
      "outputs": [],
      "execution_count": null
    },
    {
      "cell_type": "markdown",
      "metadata": {},
      "source": [
        "And with that, we now have a pipeline to model strong lenses using an inversion! Checkout the example pipeline in\n",
        "`autolens_workspace/pipelines/examples/inversion_hyper_galaxies_bg_noise.py` for an example of an `Inversion` pipeline \n",
        "that includes the lens light component."
      ]
    }
  ],
  "metadata": {
    "anaconda-cloud": {},
    "kernelspec": {
      "display_name": "Python 3",
      "language": "python",
      "name": "python3"
    },
    "language_info": {
      "codemirror_mode": {
        "name": "ipython",
        "version": 3
      },
      "file_extension": ".py",
      "mimetype": "text/x-python",
      "name": "python",
      "nbconvert_exporter": "python",
      "pygments_lexer": "ipython3",
      "version": "3.6.1"
    }
  },
  "nbformat": 4,
  "nbformat_minor": 4
}