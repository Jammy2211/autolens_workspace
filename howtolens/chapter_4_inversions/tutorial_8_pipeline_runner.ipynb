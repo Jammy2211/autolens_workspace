{
  "cells": [
    {
      "cell_type": "markdown",
      "metadata": {},
      "source": [
        "In this tutorial, we'll go back to our complex source pipeline, but this time, as you've probably guessed, fit it\n",
        "using an inversion. As we discussed in tutorial 6, we'll begin by modeling the source with a light profile,\n",
        "to initialize the mass model, and then switch to an inversion."
      ]
    },
    {
      "cell_type": "code",
      "metadata": {},
      "source": [
        "import os\n",
        "import autofit as af"
      ],
      "outputs": [],
      "execution_count": null
    },
    {
      "cell_type": "markdown",
      "metadata": {},
      "source": [
        "Setup the path to the autolens_workspace, using a relative directory name."
      ]
    },
    {
      "cell_type": "code",
      "metadata": {},
      "source": [
        "workspace_path = \"/path/to/user/autolens_workspace/\"\n",
        "workspace_path = \"/home/jammy/PycharmProjects/PyAuto/autolens_workspace/\""
      ],
      "outputs": [],
      "execution_count": null
    },
    {
      "cell_type": "markdown",
      "metadata": {},
      "source": [
        "Setup the path to the config folder, using the autolens_workspace path."
      ]
    },
    {
      "cell_type": "code",
      "metadata": {},
      "source": [
        "config_path = workspace_path + \"config\""
      ],
      "outputs": [],
      "execution_count": null
    },
    {
      "cell_type": "markdown",
      "metadata": {},
      "source": [
        "Use this path to explicitly set the config path and output path."
      ]
    },
    {
      "cell_type": "code",
      "metadata": {},
      "source": [
        "af.conf.instance = af.conf.Config(\n",
        "    config_path=config_path, output_path=workspace_path + \"output\"\n",
        ")"
      ],
      "outputs": [],
      "execution_count": null
    },
    {
      "cell_type": "code",
      "metadata": {},
      "source": [
        "%matplotlib inline\n",
        "\n",
        "import autolens as al\n",
        "import autolens.plot as aplt"
      ],
      "outputs": [],
      "execution_count": null
    },
    {
      "cell_type": "markdown",
      "metadata": {},
      "source": [
        "This function simulates the complex source, and is the same function we used in chapter 3, tutorial 3."
      ]
    },
    {
      "cell_type": "code",
      "metadata": {},
      "source": [
        "def simulate():\n",
        "\n",
        "    grid = al.Grid.uniform(shape_2d=(180, 180), pixel_scales=0.05, sub_size=1)\n",
        "\n",
        "    psf = al.Kernel.from_gaussian(shape_2d=(11, 11), sigma=0.05, pixel_scales=0.05)\n",
        "\n",
        "    lens_galaxy = al.Galaxy(\n",
        "        redshift=0.5,\n",
        "        mass=al.mp.EllipticalIsothermal(\n",
        "            centre=(0.0, 0.0), axis_ratio=0.8, phi=135.0, einstein_radius=1.6\n",
        "        ),\n",
        "    )\n",
        "\n",
        "    source_galaxy_0 = al.Galaxy(\n",
        "        redshift=1.0,\n",
        "        light=al.lp.EllipticalSersic(\n",
        "            centre=(0.1, 0.1),\n",
        "            axis_ratio=0.8,\n",
        "            phi=90.0,\n",
        "            intensity=0.2,\n",
        "            effective_radius=1.0,\n",
        "            sersic_index=1.5,\n",
        "        ),\n",
        "    )\n",
        "\n",
        "    source_galaxy_1 = al.Galaxy(\n",
        "        redshift=1.0,\n",
        "        light=al.lp.EllipticalSersic(\n",
        "            centre=(-0.25, 0.25),\n",
        "            axis_ratio=0.7,\n",
        "            phi=45.0,\n",
        "            intensity=0.1,\n",
        "            effective_radius=0.2,\n",
        "            sersic_index=3.0,\n",
        "        ),\n",
        "    )\n",
        "\n",
        "    source_galaxy_2 = al.Galaxy(\n",
        "        redshift=1.0,\n",
        "        light=al.lp.EllipticalSersic(\n",
        "            centre=(0.45, -0.35),\n",
        "            axis_ratio=0.6,\n",
        "            phi=90.0,\n",
        "            intensity=0.03,\n",
        "            effective_radius=0.3,\n",
        "            sersic_index=3.5,\n",
        "        ),\n",
        "    )\n",
        "\n",
        "    source_galaxy_3 = al.Galaxy(\n",
        "        redshift=1.0,\n",
        "        light=al.lp.EllipticalSersic(\n",
        "            centre=(-0.05, -0.0),\n",
        "            axis_ratio=0.9,\n",
        "            phi=140.0,\n",
        "            intensity=0.03,\n",
        "            effective_radius=0.1,\n",
        "            sersic_index=4.0,\n",
        "        ),\n",
        "    )\n",
        "\n",
        "    tracer = al.Tracer.from_galaxies(\n",
        "        galaxies=[\n",
        "            lens_galaxy,\n",
        "            source_galaxy_0,\n",
        "            source_galaxy_1,\n",
        "            source_galaxy_2,\n",
        "            source_galaxy_3,\n",
        "        ]\n",
        "    )\n",
        "\n",
        "    simulator = al.SimulatorImaging(\n",
        "        exposure_time_map=al.Array.full(fill_value=300.0, shape_2d=grid.shape_2d),\n",
        "        psf=psf,\n",
        "        background_sky_map=al.Array.full(fill_value=0.1, shape_2d=grid.shape_2d),\n",
        "        add_noise=True,\n",
        "    )\n",
        "\n",
        "    return simulator.from_tracer_and_grid(tracer=tracer, grid=grid)\n"
      ],
      "outputs": [],
      "execution_count": null
    },
    {
      "cell_type": "markdown",
      "metadata": {},
      "source": [
        "Lets simulate the we'll fit, which is the same complex source as the\n",
        "'chapter_3_pipelines/tutorial_3_complex_source.py' tutorial."
      ]
    },
    {
      "cell_type": "code",
      "metadata": {},
      "source": [
        "imaging = simulate()\n",
        "aplt.Imaging.subplot_imaging(imaging=imaging)"
      ],
      "outputs": [],
      "execution_count": null
    },
    {
      "cell_type": "markdown",
      "metadata": {},
      "source": [
        "Lets also use the same mask as before.\n",
        "\"\"\"\n",
        "mask = al.Mask.circular(\n",
        "    shape_2d=imaging.shape_2d, pixel_scales=imaging.pixel_scales, radius=3.0\n",
        ")"
      ]
    },
    {
      "cell_type": "markdown",
      "metadata": {},
      "source": [
        "Lets import the pipeline and run it."
      ]
    },
    {
      "cell_type": "code",
      "metadata": {},
      "source": [
        "from howtolens.chapter_4_inversions import tutorial_8_pipeline\n",
        "\n",
        "pipeline_inversion = tutorial_8_pipeline.make_pipeline(\n",
        "    phase_folders=[\"howtolens\", \"c4_t8_inversion\"]\n",
        ")\n",
        "pipeline_inversion.run(dataset=imaging, mask=mask)"
      ],
      "outputs": [],
      "execution_count": null
    },
    {
      "cell_type": "markdown",
      "metadata": {},
      "source": [
        "And with that, we now have a pipeline to model strong lenses using an inversion! Checkout the example pipeline in\n",
        "'autolens_workspace/pipelines/examples/inversion_hyper_galaxies_bg_noise.py' for an example of an inversion pipeline that includes the lens light\n",
        "component."
      ]
    }
  ],
  "metadata": {
    "anaconda-cloud": {},
    "kernelspec": {
      "display_name": "Python 3",
      "language": "python",
      "name": "python3"
    },
    "language_info": {
      "codemirror_mode": {
        "name": "ipython",
        "version": 3
      },
      "file_extension": ".py",
      "mimetype": "text/x-python",
      "name": "python",
      "nbconvert_exporter": "python",
      "pygments_lexer": "ipython3",
      "version": "3.6.1"
    }
  },
  "nbformat": 4,
  "nbformat_minor": 1
}