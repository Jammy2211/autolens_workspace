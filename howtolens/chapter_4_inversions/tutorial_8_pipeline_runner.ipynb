{
  "cells": [
    {
      "cell_type": "markdown",
      "metadata": {},
      "source": [
        "Tutorial 8: Pipeline\n",
        "====================\n",
        "\n",
        "To illustrate lens modeling using an _Inversion_ and _Pipeline_, we'll go back to the complex source model-fit that we\n",
        "performed in tutorial 3 of chapter 3. This time, as you've probably guessed, we'll fit the complex source using an\n",
        "_Inversion_.\n",
        "\n",
        "We'll begin by modeling the source with a _LightProfile_, to initialize the mass model and avoid the unphysical\n",
        "solutions discussed in tutorial 6. We'll then switch to an _Inversion_.\n",
        "\"\"\"\n",
        "\n",
        "\"\"\" AUTOFIT + CONFIG SETUP "
      ]
    },
    {
      "cell_type": "code",
      "metadata": {},
      "source": [
        "%matplotlib inline\n",
        "\n",
        "from autoconf import conf\n",
        "import os\n",
        "workspace_path = os.environ[\"WORKSPACE\"]\n",
        "print(\"Workspace Path: \", workspace_path)"
      ],
      "outputs": [],
      "execution_count": null
    },
    {
      "cell_type": "markdown",
      "metadata": {},
      "source": [
        "Use this path to explicitly set the config path and output path."
      ]
    },
    {
      "cell_type": "code",
      "metadata": {},
      "source": [
        "conf.instance = conf.Config(\n",
        "    config_path=f\"{workspace_path}/howtolens/config\",\n",
        "    output_path=f\"{workspace_path}/howtolens/output\",\n",
        ")"
      ],
      "outputs": [],
      "execution_count": null
    },
    {
      "cell_type": "markdown",
      "metadata": {},
      "source": [
        " AUTOLENS + DATA SETUP "
      ]
    },
    {
      "cell_type": "code",
      "metadata": {},
      "source": [
        "import autolens as al\n",
        "import autolens.plot as aplt"
      ],
      "outputs": [],
      "execution_count": null
    },
    {
      "cell_type": "markdown",
      "metadata": {},
      "source": [
        "We'll use strong lensing data, where:\n",
        "\n",
        " - The lens galaxy's light is omitted.\n",
        " - The lens galaxy's _MassProfile_ is an _EllipticalIsothermal_.\n",
        " - The source galaxy's _LightProfile_ is four _EllipticalSersic_'s."
      ]
    },
    {
      "cell_type": "code",
      "metadata": {},
      "source": [
        "from autolens_workspace.howtolens.simulators.chapter_4 import mass_sie__source_sersic_x4\n",
        "\n",
        "dataset_type = \"chapter_4\"\n",
        "dataset_name = \"mass_sie__source_sersic_x4\"\n",
        "dataset_path = f\"{workspace_path}/howtolens/dataset/{dataset_type}/{dataset_name}\"\n",
        "\n",
        "imaging = al.Imaging.from_fits(\n",
        "    image_path=f\"{dataset_path}/image.fits\",\n",
        "    noise_map_path=f\"{dataset_path}/noise_map.fits\",\n",
        "    psf_path=f\"{dataset_path}/psf.fits\",\n",
        "    pixel_scales=0.1,\n",
        ")\n",
        "\n",
        "mask = al.Mask.circular(\n",
        "    shape_2d=imaging.shape_2d, pixel_scales=imaging.pixel_scales, radius=3.0\n",
        ")\n",
        "\n",
        "\n",
        "aplt.Imaging.subplot_imaging(imaging=imaging, mask=mask)"
      ],
      "outputs": [],
      "execution_count": null
    },
    {
      "cell_type": "markdown",
      "metadata": {},
      "source": [
        "__Settings__\n",
        "\n",
        "The _SettingsPhaseImaging_ describe how the model is fitted to the data in the log likelihood function. We discussed\n",
        "these in chapter 2, and a full description of all settings can be found in the example script:\n",
        "\n",
        " 'autolens_workspace/examples/model/customize/settings.py'.\n",
        "\n",
        "The settings chosen here are applied to all phases in the pipeline. Note how we can use the _SettingsPixelization_\n",
        "object to determine whether the border is used during the model-fit."
      ]
    },
    {
      "cell_type": "code",
      "metadata": {},
      "source": [
        "settings_masked_imaging = al.SettingsMaskedImaging(sub_size=2)\n",
        "settings_pixelization = al.SettingsPixelization(use_border=True)\n",
        "\n",
        "settings = al.SettingsPhaseImaging(\n",
        "    settings_masked_imaging=settings_masked_imaging,\n",
        "    settings_pixelization=settings_pixelization,\n",
        ")"
      ],
      "outputs": [],
      "execution_count": null
    },
    {
      "cell_type": "markdown",
      "metadata": {},
      "source": [
        "__Pipeline_Setup_And_Tagging__:\n",
        "\n",
        "For this pipeline the pipeline setup customizes and tags:\n",
        "\n",
        " - If there is an _ExternalShear_ in the mass model or not.\n",
        " - The _Pixelization_ used by the _Inversion_ of this pipeline.\n",
        " - The _Regularization_ scheme used by of this pipeline."
      ]
    },
    {
      "cell_type": "code",
      "metadata": {},
      "source": [
        "setup_mass = al.SetupMassTotal(no_shear=False)\n",
        "setup_source = al.SetupSourceInversion(\n",
        "    pixelization=al.pix.VoronoiMagnification, regularization=al.reg.Constant\n",
        ")\n",
        "\n",
        "setup = al.SetupPipeline(\n",
        "    folders=[\"c4_t8_inversion\"], setup_mass=setup_mass, setup_source=setup_source\n",
        ")"
      ],
      "outputs": [],
      "execution_count": null
    },
    {
      "cell_type": "markdown",
      "metadata": {},
      "source": [
        "__Pipeline Creation__\n",
        "\n",
        "To create a pipeline we import it from the pipelines folder and run its 'make_pipeline' function, inputting the \n",
        "*Setup* and *SettingsPhase* above."
      ]
    },
    {
      "cell_type": "code",
      "metadata": {},
      "source": [
        "from autolens_workspace.howtolens.chapter_4_inversions import tutorial_8_pipeline\n",
        "\n",
        "pipeline_inversion = tutorial_8_pipeline.make_pipeline(setup=setup, settings=settings)\n",
        "\n",
        "# Uncomment to run.\n",
        "# pipeline_inversion.run(dataset=imaging, mask=mask)"
      ],
      "outputs": [],
      "execution_count": null
    },
    {
      "cell_type": "markdown",
      "metadata": {},
      "source": [
        "And with that, we now have a pipeline to model strong lenses using an inversion! Checkout the example pipeline in\n",
        "'autolens_workspace/pipelines/examples/inversion_hyper_galaxies_bg_noise.py' for an example of an _Inversion_ pipeline \n",
        "that includes the lens light component."
      ]
    }
  ],
  "metadata": {
    "anaconda-cloud": {},
    "kernelspec": {
      "display_name": "Python 3",
      "language": "python",
      "name": "python3"
    },
    "language_info": {
      "codemirror_mode": {
        "name": "ipython",
        "version": 3
      },
      "file_extension": ".py",
      "mimetype": "text/x-python",
      "name": "python",
      "nbconvert_exporter": "python",
      "pygments_lexer": "ipython3",
      "version": "3.6.1"
    }
  },
  "nbformat": 4,
  "nbformat_minor": 1
}