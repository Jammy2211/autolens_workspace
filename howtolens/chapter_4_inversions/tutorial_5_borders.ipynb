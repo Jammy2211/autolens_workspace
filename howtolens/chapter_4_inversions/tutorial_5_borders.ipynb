{
  "cells": [
    {
      "cell_type": "markdown",
      "metadata": {},
      "source": [
        "Tutorial 5: Borders\n",
        "===================\n",
        "\n",
        "In the previous tutorial, we told our `Inversion` to use a border. Here, we'll discuss what this border does."
      ]
    },
    {
      "cell_type": "code",
      "metadata": {},
      "source": [
        "%matplotlib inline\n",
        "\n",
        "from pyprojroot import here\n",
        "\n",
        "workspace_path = str(here())\n",
        "%cd $workspace_path\n",
        "print(f\"Working Directory has been set to `{workspace_path}`\")\n",
        "\n",
        "from os import path\n",
        "import autolens as al\n",
        "import autolens.plot as aplt\n"
      ],
      "outputs": [],
      "execution_count": null
    },
    {
      "cell_type": "markdown",
      "metadata": {},
      "source": [
        "we'll use the same strong lensing data as the previous tutorial, where:\n",
        "\n",
        " - The lens `Galaxy`'s light is omitted.\n",
        " - The lens `Galaxy`'s total mass distribution is an `EllipticalIsothermal`.\n",
        " - The source `Galaxy`'s `LightProfile` is an `EllipticalSersic`."
      ]
    },
    {
      "cell_type": "code",
      "metadata": {},
      "source": [
        "dataset_name = \"mass_sie__source_sersic__2\"\n",
        "dataset_path = path.join(\"dataset\", \"howtolens\", \"chapter_4\", dataset_name)\n",
        "\n",
        "imaging = al.Imaging.from_fits(\n",
        "    image_path=path.join(dataset_path, \"image.fits\"),\n",
        "    noise_map_path=path.join(dataset_path, \"noise_map.fits\"),\n",
        "    psf_path=path.join(dataset_path, \"psf.fits\"),\n",
        "    pixel_scales=0.05,\n",
        ")\n",
        "\n",
        "aplt.Imaging.subplot_imaging(imaging=imaging)"
      ],
      "outputs": [],
      "execution_count": null
    },
    {
      "cell_type": "markdown",
      "metadata": {},
      "source": [
        "So, what is a border? In the image-plane, a border is the set of exterior pixels in a mask that are at, well, its \n",
        "border. Lets plot the image with a circular `Mask2D`, and tell our `Imaging` `Plotter`.to plot the border as well."
      ]
    },
    {
      "cell_type": "code",
      "metadata": {},
      "source": [
        "mask_circular = al.Mask2D.circular(\n",
        "    shape_2d=imaging.shape_2d, pixel_scales=imaging.pixel_scales, sub_size=2, radius=2.5\n",
        ")\n",
        "\n",
        "aplt.Imaging.subplot_imaging(\n",
        "    imaging=imaging, mask=mask_circular, include=aplt.Include(border=True)\n",
        ")"
      ],
      "outputs": [],
      "execution_count": null
    },
    {
      "cell_type": "markdown",
      "metadata": {},
      "source": [
        "As you can see, for a circular `Mask2D`, the border *is* the edge of our `Mask2D` (the ring of black dots we're used to \n",
        "seeing whenever we plot a `Mask2D`.. For an annular `Mask2D`, not every pixel on the edge of the mask is necessarily a part \n",
        "of its border!"
      ]
    },
    {
      "cell_type": "code",
      "metadata": {},
      "source": [
        "mask_annular = al.Mask2D.circular_annular(\n",
        "    shape_2d=imaging.shape_2d,\n",
        "    pixel_scales=imaging.pixel_scales,\n",
        "    sub_size=2,\n",
        "    inner_radius=0.8,\n",
        "    outer_radius=2.5,\n",
        ")\n",
        "\n",
        "aplt.Imaging.subplot_imaging(\n",
        "    imaging=imaging, mask=mask_annular, include=aplt.Include(border=True)\n",
        ")"
      ],
      "outputs": [],
      "execution_count": null
    },
    {
      "cell_type": "markdown",
      "metadata": {},
      "source": [
        "Indeed, a border is *only* the pixels at the exterior edge of our `Mask2D`, which for the annular _Mask- above means \n",
        "non of the pixels at the inner radius = 0.8\" edge are part of the border.\n",
        "\n",
        "So, what does a border actually do? To show you, we'll need to fit this image with a lens model and `Mapper` and we'll \n",
        "do that by using the same function as the previous tutorial (to perform a quick source galaxy fit) but with the option \n",
        "to input a mask and use a border."
      ]
    },
    {
      "cell_type": "code",
      "metadata": {},
      "source": [
        "def perform_fit_with_source_galaxy_mask_and_border(\n",
        "    imaging, source_galaxy, mask, settings_pixelization\n",
        "):\n",
        "\n",
        "    masked_imaging = al.MaskedImaging(\n",
        "        imaging=imaging, mask=mask, settings=al.SettingsMaskedImaging(sub_size=2)\n",
        "    )\n",
        "\n",
        "    lens_galaxy = al.Galaxy(\n",
        "        redshift=0.5,\n",
        "        mass=al.mp.EllipticalIsothermal(\n",
        "            centre=(0.0, 0.0), elliptical_comps=(0.1, 0.0), einstein_radius=1.6\n",
        "        ),\n",
        "    )\n",
        "\n",
        "    tracer = al.Tracer.from_galaxies(galaxies=[lens_galaxy, source_galaxy])\n",
        "\n",
        "    return al.FitImaging(\n",
        "        masked_imaging=masked_imaging,\n",
        "        tracer=tracer,\n",
        "        settings_pixelization=settings_pixelization,\n",
        "    )\n"
      ],
      "outputs": [],
      "execution_count": null
    },
    {
      "cell_type": "markdown",
      "metadata": {},
      "source": [
        "Okay, so lets first look at our `Mapper` without using a border using our annular `Mask2D`.\n",
        "\n",
        "First, note how we set up the border. We use a `SettingsPixelization` object, which is analogous to the \n",
        "`SettingsMaskedImaging` and `SettingsLens` objects we used in previous tutorials. Later, you'll see how these \n",
        "settings can also be passed to a `SettingsPhaseImaging` object, to control the behaviour of the `Pixelization` during a\n",
        "model-fit."
      ]
    },
    {
      "cell_type": "code",
      "metadata": {},
      "source": [
        "source_galaxy = al.Galaxy(\n",
        "    redshift=1.0,\n",
        "    pixelization=al.pix.Rectangular(shape=(40, 40)),\n",
        "    regularization=al.reg.Constant(coefficient=1.0),\n",
        ")\n",
        "\n",
        "fit = perform_fit_with_source_galaxy_mask_and_border(\n",
        "    imaging=imaging,\n",
        "    source_galaxy=source_galaxy,\n",
        "    mask=mask_annular,\n",
        "    settings_pixelization=al.SettingsPixelization(use_border=False),\n",
        ")\n",
        "\n",
        "aplt.Inversion.reconstruction(\n",
        "    inversion=fit.inversion, include=aplt.Include(inversion_grid=True)\n",
        ")"
      ],
      "outputs": [],
      "execution_count": null
    },
    {
      "cell_type": "markdown",
      "metadata": {},
      "source": [
        "Everything looks fine - we get a reconstructed source on a visually appeasing source-plane grid. So, why are we so \n",
        "worried about borders? Lets see what happens if we use a circular mask instead."
      ]
    },
    {
      "cell_type": "code",
      "metadata": {},
      "source": [
        "fit = perform_fit_with_source_galaxy_mask_and_border(\n",
        "    imaging=imaging,\n",
        "    source_galaxy=source_galaxy,\n",
        "    mask=mask_circular,\n",
        "    settings_pixelization=al.SettingsPixelization(use_border=False),\n",
        ")\n",
        "\n",
        "aplt.Inversion.reconstruction(\n",
        "    inversion=fit.inversion, include=aplt.Include(inversion_grid=True)\n",
        ")"
      ],
      "outputs": [],
      "execution_count": null
    },
    {
      "cell_type": "markdown",
      "metadata": {},
      "source": [
        "Woah - whats happened? There are lots of extra points on our source-plane `Grid` which trace to extremely large radii \n",
        "away from the central regions of the source-plane! These points are traced image-pixels (just like all the other points) \n",
        "which correspond to the central image-pixels that our annular `Mask2D` masked but that our circular `Mask2D` didn`t!\n",
        "\n",
        "Lets quickly check this using a `Mapper` `Plotter`."
      ]
    },
    {
      "cell_type": "code",
      "metadata": {},
      "source": [
        "aplt.Mapper.subplot_image_and_mapper(\n",
        "    image=fit.masked_imaging.image,\n",
        "    mapper=fit.inversion.mapper,\n",
        "    include=aplt.Include(inversion_grid=True),\n",
        "    image_pixel_indexes=[\n",
        "        [3578, 3579, 3580, 3581, 3582],\n",
        "        [3678, 3679, 3680, 3681, 3682],\n",
        "        [3778, 3779, 3780, 3781, 3782],\n",
        "        [3878, 3879, 3880, 3881, 3882],\n",
        "        [3978, 3979, 3980, 3981, 3982],\n",
        "        [4078, 4079, 4080, 4081, 4082],\n",
        "        [4178, 4179, 4180, 4181, 4182],\n",
        "    ],\n",
        ")"
      ],
      "outputs": [],
      "execution_count": null
    },
    {
      "cell_type": "markdown",
      "metadata": {},
      "source": [
        "So, whats happening physically? Towards the centre of our `EllipticalIsothermal` `MassProfile`.the density profile \n",
        "becomes extremely cuspy (rising very sharply). This cause extremely large deflection angles to be computed, lets have \n",
        "a quick look."
      ]
    },
    {
      "cell_type": "code",
      "metadata": {},
      "source": [
        "aplt.Tracer.deflections_y(tracer=fit.tracer, grid=fit.grid)\n",
        "aplt.Tracer.deflections_x(tracer=fit.tracer, grid=fit.grid)"
      ],
      "outputs": [],
      "execution_count": null
    },
    {
      "cell_type": "markdown",
      "metadata": {},
      "source": [
        "This means that our central image pixels are highly demagnified, tracing to extremely large values in the source plane! \n",
        "\n",
        "Physically, this isn't a problem, it just means that we don't see a `central image` in most strong lenses as light-rays \n",
        "which trace through the centre of the lens are demagnified. However, if the lens galaxy had a cored mass distribution \n",
        "we would see the central image.\n",
        "\n",
        "This is a problem for our `Pixelization`.nd `Mapper`, which in the source-plane fits these demagnified pixels like \n",
        "any other pixels. This has two negative consequences:\n",
        "\n",
        " 1) The `Rectangular` `Pixelization`.we `overlay` over the source-plane is much larger than for the annular `Mask2D` \n",
        " because it has to expand to include the demagnified image-pixels. As a result, large source-pixels are used to \n",
        " reconstruct the central regions of the source-plane (where the source galaxy is actually located), meaning we \n",
        " reconstruct the source-galaxy at a lower effective resolution.\n",
        "    \n",
        " 2) The `Rectangular` `Pixelization`.reconstructs the flux of the demanigified image pixels using source-pixels \n",
        " which contain *only* demagnified image pixels. However, these source-pixels *should* have other image-pixels \n",
        " traced within them from pixels at large radii from the centre of the lens galaxy. Unfortunately, our circular \n",
        " `Mask2D` masks these pixels out, meaning they do not make it to our source-plane and are omitted from the source \n",
        " reconstruction.\n",
        "\n",
        "Lets quickly use a larger circular `Mask2D` to confirm that these pixels do exist, if we don't mask them."
      ]
    },
    {
      "cell_type": "code",
      "metadata": {},
      "source": [
        "mask_circular_large = al.Mask2D.circular(\n",
        "    shape_2d=imaging.shape_2d, pixel_scales=imaging.pixel_scales, radius=4.0\n",
        ")\n",
        "\n",
        "fit = perform_fit_with_source_galaxy_mask_and_border(\n",
        "    imaging=imaging,\n",
        "    source_galaxy=source_galaxy,\n",
        "    mask=mask_circular,\n",
        "    settings_pixelization=al.SettingsPixelization(use_border=False),\n",
        ")\n",
        "\n",
        "aplt.Inversion.reconstruction(\n",
        "    inversion=fit.inversion, include=aplt.Include(inversion_grid=True)\n",
        ")"
      ],
      "outputs": [],
      "execution_count": null
    },
    {
      "cell_type": "markdown",
      "metadata": {},
      "source": [
        "This second point is a *huge* problem, as allowing source-pixels to fit regions of our mask in this completely \n",
        "unphysical way introduces extremely dangerous systematics into our source reconstruction and lens model analysis. \n",
        "You can see this in the weird patterns these pixels make in the exterior regions of our source-reconstruction!\n",
        "\n",
        "Borders are the solution to this problem. We simply take the `Mask2D` border in the image-plane we showed above, trace \n",
        "it to the source-plane and relocate all traced image-pixels pixels outside this source-plane border to its edge. Lets \n",
        "take a look."
      ]
    },
    {
      "cell_type": "code",
      "metadata": {},
      "source": [
        "fit = perform_fit_with_source_galaxy_mask_and_border(\n",
        "    imaging=imaging,\n",
        "    source_galaxy=source_galaxy,\n",
        "    mask=mask_circular,\n",
        "    settings_pixelization=al.SettingsPixelization(use_border=True),\n",
        ")\n",
        "\n",
        "aplt.Inversion.reconstruction(\n",
        "    inversion=fit.inversion, include=aplt.Include(inversion_grid=True)\n",
        ")\n",
        "\n",
        "aplt.Mapper.subplot_image_and_mapper(\n",
        "    image=fit.masked_imaging.image,\n",
        "    mapper=fit.inversion.mapper,\n",
        "    include=aplt.Include(inversion_grid=True),\n",
        "    image_pixel_indexes=[[0, 1, 2, 3, 4, 5, 6, 7, 8, 9, 10]],\n",
        ")"
      ],
      "outputs": [],
      "execution_count": null
    },
    {
      "cell_type": "markdown",
      "metadata": {},
      "source": [
        "This successfully addresses both of the issues above! However, you might be thinking, isn't that a bit of a hack? Its \n",
        "not really a physical treatment of the ray-tracing, is it?\n",
        "\n",
        "Well, you're right. However, the *only* physical way to do this would be to use a `Mask2D` so large that all demangified \n",
        "central pixels are surrounded by traced image-pixels. This would require a `Mask2D` so large our computer would crash, \n",
        "That`s not a good solution, thus borders provide us with a workaround, one that I've extensively tested and have found \n",
        "that, provided your `Mask2D` isn't too small, doesn`t lead to systematic biases.\n",
        "\n",
        "Next, I'm going to quickly highlight how important borders are when modeling multiple lens galaxies. Their complex \n",
        "mass distribution and lensing configuration often produce very nasty edge effects where image pixels not just in the \n",
        "centre of mask, but anywhere in the mask, trace beyond the source-plane border."
      ]
    },
    {
      "cell_type": "markdown",
      "metadata": {},
      "source": [
        "we'll use new strong lensing data as the previous tutorial, where:\n",
        "\n",
        " - The lens `Galaxy`'s light is omitted.\n",
        " - There are two lens galaxies whose `MassProfile`'s are `EllipticalIsothermal``..\n",
        " - The source `Galaxy`'s `LightProfile` is an `EllipticalSersic`."
      ]
    },
    {
      "cell_type": "code",
      "metadata": {},
      "source": [
        "dataset_name = \"mass_sie_x2__source_sersic\"\n",
        "dataset_path = path.join(\"dataset\", \"howtolens\", \"chapter_4\", dataset_name)\n",
        "\n",
        "imaging = al.Imaging.from_fits(\n",
        "    image_path=path.join(dataset_path, \"image.fits\"),\n",
        "    noise_map_path=path.join(dataset_path, \"noise_map.fits\"),\n",
        "    psf_path=path.join(dataset_path, \"psf.fits\"),\n",
        "    pixel_scales=0.05,\n",
        ")"
      ],
      "outputs": [],
      "execution_count": null
    },
    {
      "cell_type": "markdown",
      "metadata": {},
      "source": [
        "We again must define a mask around this image, lets start with a 2.8\" mask. we'll use larger masks to illustrate the\n",
        "effects of the border in a moment."
      ]
    },
    {
      "cell_type": "code",
      "metadata": {},
      "source": [
        "mask_circular = al.Mask2D.circular(\n",
        "    shape_2d=imaging.shape_2d, pixel_scales=imaging.pixel_scales, sub_size=2, radius=2.8\n",
        ")\n",
        "\n",
        "aplt.Imaging.subplot_imaging(\n",
        "    imaging=imaging, mask=mask_circular, include=aplt.Include(border=True)\n",
        ")"
      ],
      "outputs": [],
      "execution_count": null
    },
    {
      "cell_type": "markdown",
      "metadata": {},
      "source": [
        "We need to redefine our perform fit function, to use the x2 lens galaxy model."
      ]
    },
    {
      "cell_type": "code",
      "metadata": {},
      "source": [
        "def perform_fit_x2_lenses_with_source_galaxy_mask_and_border(\n",
        "    imaging, source_galaxy, mask, settings_pixelization\n",
        "):\n",
        "\n",
        "    masked_imaging = al.MaskedImaging(imaging=imaging, mask=mask)\n",
        "\n",
        "    lens_galaxy_0 = al.Galaxy(\n",
        "        redshift=0.5,\n",
        "        mass=al.mp.EllipticalIsothermal(\n",
        "            centre=(1.1, 0.51), elliptical_comps=(0.0, 0.15), einstein_radius=1.07\n",
        "        ),\n",
        "    )\n",
        "\n",
        "    lens_galaxy_1 = al.Galaxy(\n",
        "        redshift=0.5,\n",
        "        mass=al.mp.EllipticalIsothermal(\n",
        "            centre=(-0.20, -0.35), elliptical_comps=(0.06, 0.1053), einstein_radius=0.71\n",
        "        ),\n",
        "    )\n",
        "\n",
        "    tracer = al.Tracer.from_galaxies(\n",
        "        galaxies=[lens_galaxy_0, lens_galaxy_1, source_galaxy]\n",
        "    )\n",
        "\n",
        "    return al.FitImaging(\n",
        "        masked_imaging=masked_imaging,\n",
        "        tracer=tracer,\n",
        "        settings_pixelization=settings_pixelization,\n",
        "    )\n"
      ],
      "outputs": [],
      "execution_count": null
    },
    {
      "cell_type": "markdown",
      "metadata": {},
      "source": [
        "Now, lets fit this image using the input model and perform the source reconstruction without a border. As you can see, \n",
        "we get many demagnified image pixels which trace well beyond our source-plane border if we don't relocate them!"
      ]
    },
    {
      "cell_type": "code",
      "metadata": {},
      "source": [
        "fit = perform_fit_x2_lenses_with_source_galaxy_mask_and_border(\n",
        "    imaging=imaging,\n",
        "    source_galaxy=source_galaxy,\n",
        "    mask=mask_circular,\n",
        "    settings_pixelization=al.SettingsPixelization(use_border=False),\n",
        ")\n",
        "\n",
        "aplt.Inversion.reconstruction(\n",
        "    inversion=fit.inversion, include=aplt.Include(inversion_grid=True, border=True)\n",
        ")"
      ],
      "outputs": [],
      "execution_count": null
    },
    {
      "cell_type": "markdown",
      "metadata": {},
      "source": [
        "However, when we relocate them, we get a good-looking source-plane with a well defined border and edge, thus ensuring \n",
        "our analysis will (hopefully) be free of systematic biases."
      ]
    },
    {
      "cell_type": "code",
      "metadata": {},
      "source": [
        "fit = perform_fit_x2_lenses_with_source_galaxy_mask_and_border(\n",
        "    imaging=imaging,\n",
        "    source_galaxy=source_galaxy,\n",
        "    mask=mask_circular,\n",
        "    settings_pixelization=al.SettingsPixelization(use_border=True),\n",
        ")\n",
        "aplt.Inversion.reconstruction(\n",
        "    inversion=fit.inversion, include=aplt.Include(inversion_grid=True, border=True)\n",
        ")"
      ],
      "outputs": [],
      "execution_count": null
    },
    {
      "cell_type": "markdown",
      "metadata": {},
      "source": [
        "Multi-galaxy modeling is rife for border effects and if you have multiple lens galaxies I heartily recommend you pay \n",
        "a close eye to your source-plane borders!\n",
        "\n",
        "Before we end,I want to quickly highlight that care must be taken when choosing the size of your mask. If you don't \n",
        "choose a big enough mask, the border won't be able to relocate all of the demanigified image pixels to the border edge."
      ]
    },
    {
      "cell_type": "code",
      "metadata": {},
      "source": [
        "\n",
        "mask_circular = al.Mask2D.circular(\n",
        "    shape_2d=imaging.shape_2d, pixel_scales=imaging.pixel_scales, sub_size=2, radius=2.5\n",
        ")\n",
        "fit = perform_fit_x2_lenses_with_source_galaxy_mask_and_border(\n",
        "    imaging=imaging,\n",
        "    source_galaxy=source_galaxy,\n",
        "    mask=mask_circular,\n",
        "    settings_pixelization=al.SettingsPixelization(use_border=True),\n",
        ")\n",
        "aplt.Inversion.reconstruction(\n",
        "    inversion=fit.inversion, include=aplt.Include(inversion_grid=True, border=True)\n",
        ")\n",
        "\n",
        "mask_circular = al.Mask2D.circular(\n",
        "    shape_2d=imaging.shape_2d, pixel_scales=imaging.pixel_scales, sub_size=2, radius=2.7\n",
        ")\n",
        "fit = perform_fit_x2_lenses_with_source_galaxy_mask_and_border(\n",
        "    imaging=imaging,\n",
        "    source_galaxy=source_galaxy,\n",
        "    mask=mask_circular,\n",
        "    settings_pixelization=al.SettingsPixelization(use_border=True),\n",
        ")\n",
        "aplt.Inversion.reconstruction(\n",
        "    inversion=fit.inversion, include=aplt.Include(inversion_grid=True, border=True)\n",
        ")\n",
        "\n",
        "\n",
        "mask_circular = al.Mask2D.circular(\n",
        "    shape_2d=imaging.shape_2d, pixel_scales=imaging.pixel_scales, sub_size=2, radius=2.9\n",
        ")\n",
        "fit = perform_fit_x2_lenses_with_source_galaxy_mask_and_border(\n",
        "    imaging=imaging,\n",
        "    source_galaxy=source_galaxy,\n",
        "    mask=mask_circular,\n",
        "    settings_pixelization=al.SettingsPixelization(use_border=True),\n",
        ")\n",
        "aplt.Inversion.reconstruction(\n",
        "    inversion=fit.inversion, include=aplt.Include(inversion_grid=True, border=True)\n",
        ")\n",
        "\n",
        "\n",
        "mask_circular = al.Mask2D.circular(\n",
        "    shape_2d=imaging.shape_2d, pixel_scales=imaging.pixel_scales, sub_size=2, radius=3.1\n",
        ")\n",
        "fit = perform_fit_x2_lenses_with_source_galaxy_mask_and_border(\n",
        "    imaging=imaging,\n",
        "    source_galaxy=source_galaxy,\n",
        "    mask=mask_circular,\n",
        "    settings_pixelization=al.SettingsPixelization(use_border=True),\n",
        ")\n",
        "aplt.Inversion.reconstruction(\n",
        "    inversion=fit.inversion, include=aplt.Include(inversion_grid=True, border=True)\n",
        ")"
      ],
      "outputs": [],
      "execution_count": null
    },
    {
      "cell_type": "markdown",
      "metadata": {},
      "source": [
        "And with that, borders are done. In truth, borders should pretty much take care of themselves when you're using \n",
        "**PyAutoLens** and you probably won't think about them much. However, as I showed above, if you don't choose a large enough \n",
        "mask things can go wrong - thus, its important you know what borders are, so you can look out for this potential \n",
        "source of systematics!"
      ]
    }
  ],
  "metadata": {
    "anaconda-cloud": {},
    "kernelspec": {
      "display_name": "Python 3",
      "language": "python",
      "name": "python3"
    },
    "language_info": {
      "codemirror_mode": {
        "name": "ipython",
        "version": 3
      },
      "file_extension": ".py",
      "mimetype": "text/x-python",
      "name": "python",
      "nbconvert_exporter": "python",
      "pygments_lexer": "ipython3",
      "version": "3.6.1"
    }
  },
  "nbformat": 4,
  "nbformat_minor": 4
}