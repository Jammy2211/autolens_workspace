{
  "cells": [
    {
      "cell_type": "markdown",
      "metadata": {},
      "source": [
        "Tutorial 2: Two Lens Galaxies\n",
        "=============================\n",
        "\n",
        "Up to now, all the images we've fitted had one lens galaxy. However, we saw in chapter 1 that our lens plane can\n",
        "consist of multiple galaxies which each contribute to the strong lensing. Multi-galaxy systems are challenging to\n",
        "model, because they add an extra 5-10 parameters to the `NonLinearSearch` and, more problematically, the degeneracies\n",
        "between the `MassProfile`'s of the two galaxies can be severe.\n",
        "\n",
        "However, we can still break their analysis down using a pipeline and give ourselves a shot at getting a good lens\n",
        "model. Here, we're going to fit a double lens system, fitting as much about each individual lens galaxy before fitting\n",
        "them simultaneously.\n",
        "\n",
        "Up to now, I've put a focus on pipelines being general. The pipeline we write in this example is going to be the\n",
        "opposite, specific to the image we're modeling. Fitting multiple lens galaxies is really difficult and writing a\n",
        "pipeline that we can generalize to many lenses isn't currently possible with **PyAutoLens**."
      ]
    },
    {
      "cell_type": "code",
      "metadata": {},
      "source": [
        "%matplotlib inline\n",
        "\n",
        "from pyprojroot import here\n",
        "\n",
        "workspace_path = str(here())\n",
        "%cd $workspace_path\n",
        "print(f\"Working Directory has been set to `{workspace_path}`\")\n",
        "\n",
        "from os import path\n",
        "import autolens as al\n",
        "import autolens.plot as aplt"
      ],
      "outputs": [],
      "execution_count": null
    },
    {
      "cell_type": "markdown",
      "metadata": {},
      "source": [
        "we'll use new strong lensing data, where:\n",
        "\n",
        " - There are two lens `Galaxy`'s whose `LightProfile`'s are both `EllipticalSersic``..\n",
        " - There are two lens `Galaxy`'s whose `MassProfile`'s are both `EllipticalIsothermal``..\n",
        " - The source `Galaxy`'s `LightProfile` is an `EllipticalExponential`."
      ]
    },
    {
      "cell_type": "code",
      "metadata": {},
      "source": [
        "dataset_name = \"light_sersic_x2__mass_sie_x2__source_exp\"\n",
        "dataset_path = path.join(\"dataset\", \"howtolens\", \"chapter_3\", dataset_name)\n",
        "\n",
        "imaging = al.Imaging.from_fits(\n",
        "    image_path=path.join(dataset_path, \"image.fits\"),\n",
        "    noise_map_path=path.join(dataset_path, \"noise_map.fits\"),\n",
        "    psf_path=path.join(dataset_path, \"psf.fits\"),\n",
        "    pixel_scales=0.05,\n",
        ")"
      ],
      "outputs": [],
      "execution_count": null
    },
    {
      "cell_type": "markdown",
      "metadata": {},
      "source": [
        "We need to choose our mask for the analysis. Given the lens light is present in the image we'll need to include all \n",
        "of its light in the central regions of the image, so lets use a circular mask."
      ]
    },
    {
      "cell_type": "code",
      "metadata": {},
      "source": [
        "mask = al.Mask2D.circular(\n",
        "    shape_2d=imaging.shape_2d, pixel_scales=imaging.pixel_scales, radius=3.0\n",
        ")\n",
        "\n",
        "aplt.Imaging.subplot_imaging(imaging=imaging, mask=mask)"
      ],
      "outputs": [],
      "execution_count": null
    },
    {
      "cell_type": "markdown",
      "metadata": {},
      "source": [
        "__Settings__\n",
        "\n",
        "The `SettingsPhaseImaging` describe how the model is fitted to the data in the log likelihood function. We discussed\n",
        "these in chapter 2, and a full description of all settings can be found in the example script:\n",
        "\n",
        " `autolens_workspace/examples/model/customize/settings.py`.\n",
        "\n",
        "The settings chosen here are applied to all phases in the pipeline."
      ]
    },
    {
      "cell_type": "code",
      "metadata": {},
      "source": [
        "settings_masked_imaging = al.SettingsMaskedImaging(grid_class=al.Grid, sub_size=2)\n",
        "\n",
        "settings = al.SettingsPhaseImaging(settings_masked_imaging=settings_masked_imaging)"
      ],
      "outputs": [],
      "execution_count": null
    },
    {
      "cell_type": "markdown",
      "metadata": {},
      "source": [
        "__Pipeline Approach__\n",
        "\n",
        "Looking at the image, there are clearly two blobs of light corresponding to our two lens galaxies. The source's \n",
        "light is also pretty complex - the arcs don't posses the rotational symmetry we're used to seeing up to now. \n",
        "Multi-galaxy ray-tracing is just a lot more complicated, which means so is modeling it!\n",
        "\n",
        "So, how can we break the lens modeling up? As follows:\n",
        "\n",
        " 1) Fit and subtract the light of each lens galaxy individually.\n",
        " 2) Use these results to initialize each lens `Galaxy`'s total mass distribution.\n",
        "\n",
        "So, with this in mind, we've written a pipeline composed of 4 phases:\n",
        "\n",
        " 1) Fit the `LightProfile` of the lens galaxy on the left of the image, at coordinates (0.0\", -1.0\").\n",
        " 2) Fit the `LightProfile` of the lens galaxy on the right of the image, at coordinates (0.0\", 1.0\").\n",
        " 3) Use this lens-subtracted image to fit the source-`Galaxy`'s light. The `MassProfile`'s of the two lens \n",
        " galaxies are fixed to (0.0\", -1.0\") and (0.0\", 1.0\").\n",
        " 4) Fit all relevant parameters simultaneously, using priors from phases 1, 2 and 3."
      ]
    },
    {
      "cell_type": "markdown",
      "metadata": {},
      "source": [
        "__Pipeline Creation__\n",
        "\n",
        "To create a `Pipeline`, we call a `make_pipeline` function, which is written in its own Python script: \n",
        "\n",
        " `pipelines/tutorial_2_pipeline_x2_lens_galaxies.py`. \n",
        "\n",
        "Before we check it out, lets get the pipeline running, by importing the script, running the `make_pipeline` function\n",
        "to create the `Pipeline` object and calling that objects `run` function."
      ]
    },
    {
      "cell_type": "code",
      "metadata": {},
      "source": [
        "from pipelines import tutorial_2_pipeline_x2_lens_galaxies\n",
        "\n",
        "pipeline_x2_galaxies = tutorial_2_pipeline_x2_lens_galaxies.make_pipeline(\n",
        "    path_prefix=path.join(\"howtolens\", \"c3_t2_x2_galaxies\"),\n",
        "    settings=settings,\n",
        "    redshift_lens=0.5,\n",
        "    redshift_source=1.0,\n",
        ")\n",
        "\n",
        "# Uncomment to run.\n",
        "# pipeline_x2_galaxies.run(dataset=imaging, mask=mask)"
      ],
      "outputs": [],
      "execution_count": null
    },
    {
      "cell_type": "markdown",
      "metadata": {},
      "source": [
        "Now, read through the `tutorial_2_pipeline_x2_galaxies.py` pipeline, to get a complete view of how it works. \n",
        "Once you`ve done that, come back here and we'll wrap up this tutorial."
      ]
    },
    {
      "cell_type": "markdown",
      "metadata": {},
      "source": [
        "And, we're done. This pipeline takes a while to run, as is the nature of multi-galaxy modeling. Nevertheless, \n",
        "the techniques we've learnt above can be applied to systems with even more `Galaxy`'s albeit the increases in \n",
        "parameters will slow down the non-linear search. Here are some more Q&A`s\n",
        "\n",
        " 1) This system had two very similar lens `Galaxy`'s with comparable amounts of light and mass. How common is this? \n",
        " Does it make it harder to model them?\n",
        "\n",
        "Typically, a 2 galaxy system has 1 massive galaxy (that makes up some 80%-90% of the overall light and mass), \n",
        "accompanied by a smaller satellite. The satellite can`t be ignored - it impacts the ray-tracing in a measureable way, \n",
        "but its a lot less degenerate with the `main` lens galaxy. This means we can often model the  satellite with much \n",
        "simpler profiles (e.g. spherical profiles). So yes, multi-galaxy systems can often be easier to model.\n",
        "\n",
        " 2) It got pretty confusing passing all those priors towards the end of the pipeline there, didn`t it?\n",
        "\n",
        "It does get confusing, I won't lie. This is why we made galaxies named objects - so that we could call them the \n",
        "`left_lens` and `right_lens`. It still requires caution when writing the pipeline, but goes to show that if you name \n",
        "your galaxies sensibly you should be able to avoid errors, or spot them quickly when you make them."
      ]
    }
  ],
  "metadata": {
    "anaconda-cloud": {},
    "kernelspec": {
      "display_name": "Python 3",
      "language": "python",
      "name": "python3"
    },
    "language_info": {
      "codemirror_mode": {
        "name": "ipython",
        "version": 3
      },
      "file_extension": ".py",
      "mimetype": "text/x-python",
      "name": "python",
      "nbconvert_exporter": "python",
      "pygments_lexer": "ipython3",
      "version": "3.6.1"
    }
  },
  "nbformat": 4,
  "nbformat_minor": 4
}