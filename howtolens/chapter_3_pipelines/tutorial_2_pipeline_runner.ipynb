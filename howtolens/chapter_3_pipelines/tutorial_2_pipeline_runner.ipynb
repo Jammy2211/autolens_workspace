{
 "cells": [
  {
   "cell_type": "markdown",
   "metadata": {
    "collapsed": true
   },
   "source": [
    "__Pipeline 2 - x2 Lens Galaxies__\n",
    "\n",
    "Up to now, all of the image that we fitted had only one lens galaxy. However, we saw in chapter 1 that we can create multiple galaxies which each contribute to the strong lensing. Multi-galaxy systems are challenging to model, because you're adding an extra 5-10 parameters to the non-linear search and, more problematically, the degeneracies between the mass-profiles of the two galaxies can be severe.\n",
    "\n",
    "However, we can nevertheless break the analysis down using a pipeline and give ourselves a shot at getting a good lens model. The approach we're going to take is we're going to fit as much about each individual lens galaxy first, before fitting them simultaneously.\n",
    "\n",
    "Up to now, I've put a focus on pipelines being general. The pipeline we write in this example is going to be the opposite - specific to the image we're modeling. Fitting multiple lens galaxies is really difficult and writing a pipeline that we can generalize to many lenses isn't currently possible with PyAutoLens."
   ]
  },
  {
   "cell_type": "code",
   "execution_count": null,
   "metadata": {},
   "outputs": [],
   "source": [
    "%matplotlib inline\n",
    "\n",
    "import autofit as af\n",
    "from autolens.data import ccd\n",
    "from autolens.data import simulated_ccd\n",
    "from autolens.model.profiles import light_profiles as lp\n",
    "from autolens.model.profiles import mass_profiles as mp\n",
    "from autolens.data.plotters import ccd_plotters"
   ]
  },
  {
   "cell_type": "markdown",
   "metadata": {},
   "source": [
    "Lets setup the path to the workspace, config and output folders, as per usual."
   ]
  },
  {
   "cell_type": "code",
   "execution_count": null,
   "metadata": {},
   "outputs": [
    {
     "ename": "NameError",
     "evalue": "name 'workspace_path' is not defined",
     "traceback": [
      "\u001b[0;31m---------------------------------------------------------------------------\u001b[0m",
      "\u001b[0;31mNameError\u001b[0m                                 Traceback (most recent call last)",
      "\u001b[0;32m<ipython-input-2-8b67a9b39481>\u001b[0m in \u001b[0;36m<module>\u001b[0;34m\u001b[0m\n\u001b[1;32m      3\u001b[0m \u001b[0;34m\u001b[0m\u001b[0m\n\u001b[1;32m      4\u001b[0m af.conf.instance = af.conf.Config(\n\u001b[0;32m----> 5\u001b[0;31m     config_path=workspace_path+'config', output_path=workspace_path+'output')\n\u001b[0m",
      "\u001b[0;31mNameError\u001b[0m: name 'workspace_path' is not defined"
     ],
     "output_type": "error"
    }
   ],
   "source": [
    "# If you arn't using docker, you need to change the path below to the chapter 3 directory and uncomment it\n",
    "# workspace_path = '/path/to/workspace/'\n",
    "\n",
    "af.conf.instance = af.conf.Config(\n",
    "    config_path=workspace_path + \"config\", output_path=workspace_path + \"output\"\n",
    ")"
   ]
  },
  {
   "cell_type": "markdown",
   "metadata": {},
   "source": [
    "This rather long simulate function generates an image with two strong lens galaxies."
   ]
  },
  {
   "cell_type": "code",
   "execution_count": null,
   "metadata": {},
   "outputs": [],
   "source": [
    "def simulate():\n",
    "\n",
    "    from autolens.data.array import grids\n",
    "    from autolens.model.galaxy import galaxy as g\n",
    "    from autolens.lens import ray_tracing\n",
    "\n",
    "    psf = ccd.PSF.from_gaussian(shape=(11, 11), sigma=0.05, pixel_scale=0.05)\n",
    "\n",
    "    image_plane_grid_stack = grids.GridStack.from_shape_pixel_scale_and_sub_grid_size(\n",
    "        shape=(180, 180), pixel_scale=0.05, sub_grid_size=2\n",
    "    )\n",
    "\n",
    "    lens_galaxy_0 = g.Galaxy(\n",
    "        redshift=0.5,\n",
    "        light=lp.EllipticalSersic(\n",
    "            centre=(0.0, -1.0),\n",
    "            axis_ratio=0.8,\n",
    "            phi=55.0,\n",
    "            intensity=0.1,\n",
    "            effective_radius=0.8,\n",
    "            sersic_index=2.5,\n",
    "        ),\n",
    "        mass=mp.EllipticalIsothermal(\n",
    "            centre=(1.0, 0.0), axis_ratio=0.7, phi=45.0, einstein_radius=1.0\n",
    "        ),\n",
    "    )\n",
    "\n",
    "    lens_galaxy_1 = g.Galaxy(\n",
    "        redshift=0.5,\n",
    "        light=lp.EllipticalSersic(\n",
    "            centre=(0.0, 1.0),\n",
    "            axis_ratio=0.8,\n",
    "            phi=100.0,\n",
    "            intensity=0.1,\n",
    "            effective_radius=0.6,\n",
    "            sersic_index=3.0,\n",
    "        ),\n",
    "        mass=mp.EllipticalIsothermal(\n",
    "            centre=(-1.0, 0.0), axis_ratio=0.8, phi=90.0, einstein_radius=0.8\n",
    "        ),\n",
    "    )\n",
    "\n",
    "    source_galaxy = g.Galaxy(\n",
    "        redshift=1.0,\n",
    "        light=lp.SphericalExponential(\n",
    "            centre=(0.05, 0.15), intensity=0.2, effective_radius=0.5\n",
    "        ),\n",
    "    )\n",
    "\n",
    "    tracer = ray_tracing.TracerImageSourcePlanes(\n",
    "        lens_galaxies=[lens_galaxy_0, lens_galaxy_1],\n",
    "        source_galaxies=[source_galaxy],\n",
    "        image_plane_grid_stack=image_plane_grid_stack,\n",
    "    )\n",
    "\n",
    "    return simulated_ccd.SimulatedCCDData.from_tracer_and_exposure_arrays(\n",
    "        tracer=tracer,\n",
    "        pixel_scale=0.05,\n",
    "        exposure_time=300.0,\n",
    "        psf=psf,\n",
    "        background_sky_level=0.1,\n",
    "        add_noise=True,\n",
    "    )"
   ]
  },
  {
   "cell_type": "markdown",
   "metadata": {},
   "source": [
    "Lets simulate the image we'll fit, which is a new image, finally!"
   ]
  },
  {
   "cell_type": "code",
   "execution_count": null,
   "metadata": {},
   "outputs": [
    {
     "ename": "TypeError",
     "evalue": "from_shape_pixel_scale_and_sub_grid_size() got an unexpected keyword argument 'psf_shape'",
     "traceback": [
      "\u001b[0;31m---------------------------------------------------------------------------\u001b[0m",
      "\u001b[0;31mTypeError\u001b[0m                                 Traceback (most recent call last)",
      "\u001b[0;32m<ipython-input-4-5c8864ebe7b0>\u001b[0m in \u001b[0;36m<module>\u001b[0;34m\u001b[0m\n\u001b[0;32m----> 1\u001b[0;31m \u001b[0mccd_data\u001b[0m \u001b[0;34m=\u001b[0m \u001b[0msimulate\u001b[0m\u001b[0;34m(\u001b[0m\u001b[0;34m)\u001b[0m\u001b[0;34m\u001b[0m\u001b[0;34m\u001b[0m\u001b[0m\n\u001b[0m\u001b[1;32m      2\u001b[0m \u001b[0mccd_plotters\u001b[0m\u001b[0;34m.\u001b[0m\u001b[0mplot_ccd_subplot\u001b[0m\u001b[0;34m(\u001b[0m\u001b[0mccd_data\u001b[0m\u001b[0;34m=\u001b[0m\u001b[0mccd_data\u001b[0m\u001b[0;34m)\u001b[0m\u001b[0;34m\u001b[0m\u001b[0;34m\u001b[0m\u001b[0m\n",
      "\u001b[0;32m<ipython-input-3-66e6cbcf9de0>\u001b[0m in \u001b[0;36msimulate\u001b[0;34m()\u001b[0m\n\u001b[1;32m      9\u001b[0m \u001b[0;34m\u001b[0m\u001b[0m\n\u001b[1;32m     10\u001b[0m     image_plane_grid_stack = grids.GridStack.from_shape_pixel_scale_and_sub_grid_size(\n\u001b[0;32m---> 11\u001b[0;31m         shape=(180, 180), pixel_scale=0.05, psf_shape=(11, 11))\n\u001b[0m\u001b[1;32m     12\u001b[0m \u001b[0;34m\u001b[0m\u001b[0m\n\u001b[1;32m     13\u001b[0m     lens_galaxy_0 = g.Galaxy(\n",
      "\u001b[0;31mTypeError\u001b[0m: from_shape_pixel_scale_and_sub_grid_size() got an unexpected keyword argument 'psf_shape'"
     ],
     "output_type": "error"
    }
   ],
   "source": [
    "ccd_data = simulate()\n",
    "ccd_plotters.plot_ccd_subplot(ccd_data=ccd_data)"
   ]
  },
  {
   "cell_type": "markdown",
   "metadata": {},
   "source": [
    "Okay, so looking at the image, we clearly see two blobs of light, corresponding to our two lens galaxies. We also see the source's light is pretty complex - the arcs don't posses the rotational symmetry we're used to seeing up to now. Multi-galaxy ray-tracing is just a lot more complicated, which means so is modeling it!\n",
    "\n",
    "So, how can we break the lens modeling up? We can:\n",
    "\n",
    "1) Fit and subtract the light of each lens galaxy individually - this will require some careful masking but is doable.\n",
    "\n",
    "2) Use these results to initialize each lens galaxy's mass-profile.\n",
    "\n",
    "So, with this in mind, we've written a pipeline composed of 4 phases:\n",
    "\n",
    "Phase 1) Fit the light profile of the lens galaxy on the left of the image, at coordinates (0.0\", -1.0\").\n",
    "\n",
    "Phase 2) Fit the light profile of the lens galaxy on the right of the image, at coordinates (0.0\", 1.0\").\n",
    "\n",
    "Phase 3) Use this lens-subtracted image to fit the source galaxy's light. The mass-profiles of the two lens galaxies can use the results of phases 1 and 2 to initialize their priors.\n",
    "\n",
    "Phase 4) Fit all relevant parameters simultaneously, using priors from phases 1, 2 and 3."
   ]
  },
  {
   "cell_type": "markdown",
   "metadata": {},
   "source": [
    "Again, before we checkout the pipeline, lets import it, and get it running."
   ]
  },
  {
   "cell_type": "code",
   "execution_count": null,
   "metadata": {},
   "outputs": [
    {
     "ename": "NameError",
     "evalue": "name 'ccd_data' is not defined",
     "traceback": [
      "\u001b[0;31m---------------------------------------------------------------------------\u001b[0m",
      "\u001b[0;31mNameError\u001b[0m                                 Traceback (most recent call last)",
      "\u001b[0;32m<ipython-input-5-d0d8e0b5c88e>\u001b[0m in \u001b[0;36m<module>\u001b[0;34m\u001b[0m\n\u001b[1;32m      3\u001b[0m pipeline_x2_galaxies = tutorial_2_pipeline_x2_lens_galaxies.make_pipeline(\n\u001b[1;32m      4\u001b[0m     phase_folders=['howtolens', 'c3_t2_x2_lens_galaxies'])\n\u001b[0;32m----> 5\u001b[0;31m \u001b[0mpipeline_x2_galaxies\u001b[0m\u001b[0;34m.\u001b[0m\u001b[0mrun\u001b[0m\u001b[0;34m(\u001b[0m\u001b[0mdata\u001b[0m\u001b[0;34m=\u001b[0m\u001b[0mccd_data\u001b[0m\u001b[0;34m)\u001b[0m\u001b[0;34m\u001b[0m\u001b[0;34m\u001b[0m\u001b[0m\n\u001b[0m",
      "\u001b[0;31mNameError\u001b[0m: name 'ccd_data' is not defined"
     ],
     "output_type": "error"
    }
   ],
   "source": [
    "from workspace.howtolens.chapter_3_pipelines import tutorial_2_pipeline_x2_lens_galaxies\n",
    "\n",
    "pipeline_x2_galaxies = tutorial_2_pipeline_x2_lens_galaxies.make_pipeline(\n",
    "    phase_folders=[\"howtolens\", \"c3_t2_x2_lens_galaxies\"]\n",
    ")\n",
    "pipeline_x2_galaxies.run(data=ccd_data)"
   ]
  },
  {
   "cell_type": "markdown",
   "metadata": {},
   "source": [
    "Okay, great, now is a good time to read through the '_tutorial_2_pipeline_x2_lens_galaxies.py_' pipeline, to get a complete view of how it works. Once you've done that, come back here and we'll wrap up this tutorial."
   ]
  },
  {
   "cell_type": "markdown",
   "metadata": {},
   "source": [
    "And, we're done. This pipeline takes a while to run, as is the nature of multi-galaxy modeling. Nevertheless, the techniques we've learnt above can be applied to systems with even more galaxies, albeit the increases in parameters will slow down the non-linear search. Here are some more Q&A's\n",
    "\n",
    "1) This system had two very similar lens galaxies, with comparable amounts of light and mass. How common is this? Does it make it harder to model them?\n",
    "\n",
    "Typically, a 2 galaxy system has 1 massive galaxy (that makes up some 80%-90% of the overall light and mass), accompanied by a smaller satellite. The satellite can't be ignored - it impacts the ray-tracing in a measureable way, but this is a lot less degenerate with the 'main' lens galaxy. This means we can often model the satellite with much simpler profiles (e.g. spherical profiles). So yes, multi-galaxy systems can often be easier to model.\n",
    "\n",
    "2) It got pretty confusing passing all those priors towards the end of the pipeline there, didn't it?\n",
    "\n",
    "It does get confusing, I won't lie. This is why we made galaxies named objects - so that we could call them the 'left_lens' and 'right_lens'. It still requires caution when writing the pipeline, but goes to show that if you name your galaxies sensibly you should be able to avoid errors, or spot them quickly when you make them."
   ]
  }
 ],
 "metadata": {
  "kernelspec": {
   "display_name": "Python 2",
   "language": "python",
   "name": "python2"
  },
  "language_info": {
   "codemirror_mode": {
    "name": "ipython",
    "version": 2
   },
   "file_extension": ".py",
   "mimetype": "text/x-python",
   "name": "python",
   "nbconvert_exporter": "python",
   "pygments_lexer": "ipython2",
   "version": "2.7.6"
  }
 },
 "nbformat": 4,
 "nbformat_minor": 0
}
