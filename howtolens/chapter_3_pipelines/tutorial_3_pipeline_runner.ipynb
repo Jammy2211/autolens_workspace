{
  "cells": [
    {
      "cell_type": "markdown",
      "metadata": {},
      "source": [
        "Tutorial 3: Complex Source\n",
        "==========================\n",
        "\n",
        "Up to now, we've not paid much attention to the source-galaxy's morphology. We've assumed its a single-component\n",
        "exponential profile, which is a fairly crude assumption. A quick look at any image of a real galaxy reveals a\n",
        "wealth of different structures that could be present - bulges, disks, bars, star-forming knots and so on. Furthermore,\n",
        "there could be more than one source-galaxy!\n",
        "\n",
        "In this example, we'll explore how far we can get trying to_fit a complex source using a pipeline. Fitting complex\n",
        "source's is an exercise in diminishing returns. Each component we add to our source model brings with it an\n",
        "extra 5-7, parameters. If there are 4 components, or multiple _Galaxy_'s we're quickly entering the somewhat nasty\n",
        "regime of 30-40+ parameters in our non-linear search. Even with a pipeline, that is a lot of parameters to fit!"
      ]
    },
    {
      "cell_type": "markdown",
      "metadata": {},
      "source": [
        " AUTOFIT + CONFIG SETUP "
      ]
    },
    {
      "cell_type": "code",
      "metadata": {},
      "source": [
        "from autoconf import conf\n",
        "from pyprojroot import here\n",
        "\n",
        "workspace_path = str(here())\n",
        "print(\"Workspace Path: \", workspace_path)\n",
        "\n",
        "conf.instance = conf.Config(\n",
        "    config_path=f\"{workspace_path}/howtolens/config\",\n",
        "    output_path=f\"{workspace_path}/howtolens/output\",\n",
        ")"
      ],
      "outputs": [],
      "execution_count": null
    },
    {
      "cell_type": "code",
      "metadata": {},
      "source": [
        "%matplotlib inline\n",
        "\n",
        "import autolens as al\n",
        "import autolens.plot as aplt"
      ],
      "outputs": [],
      "execution_count": null
    },
    {
      "cell_type": "markdown",
      "metadata": {},
      "source": [
        "We'll use new strong lensing data, where:\n",
        "\n",
        " - The lens galaxy's light is omitted.\n",
        " - The lens galaxy's _MassProfile_ is an _EllipticalIsothermal_.\n",
        " - The source galaxy's _LightProfile_ is four _EllipticalSersic_'s."
      ]
    },
    {
      "cell_type": "code",
      "metadata": {},
      "source": [
        "from autolens_workspace.howtolens.simulators.chapter_3 import mass_sie__source_sersic_x4\n",
        "\n",
        "dataset_type = \"chapter_3\"\n",
        "dataset_name = \"mass_sie__source_sersic_x4\"\n",
        "dataset_path = f\"{workspace_path}/howtolens/dataset/{dataset_type}/{dataset_name}\"\n",
        "\n",
        "imaging = al.Imaging.from_fits(\n",
        "    image_path=f\"{dataset_path}/image.fits\",\n",
        "    noise_map_path=f\"{dataset_path}/noise_map.fits\",\n",
        "    psf_path=f\"{dataset_path}/psf.fits\",\n",
        "    pixel_scales=0.1,\n",
        ")"
      ],
      "outputs": [],
      "execution_count": null
    },
    {
      "cell_type": "markdown",
      "metadata": {},
      "source": [
        "We need to choose our mask for the analysis. Given the lens light is present in the image we'll need to include all \n",
        "of its light in the central regions of the image, so lets use a circular mask."
      ]
    },
    {
      "cell_type": "code",
      "metadata": {},
      "source": [
        "mask = al.Mask.circular(\n",
        "    shape_2d=imaging.shape_2d, pixel_scales=imaging.pixel_scales, radius=3.0\n",
        ")\n",
        "\n",
        "aplt.Imaging.subplot_imaging(imaging=imaging, mask=mask)"
      ],
      "outputs": [],
      "execution_count": null
    },
    {
      "cell_type": "markdown",
      "metadata": {},
      "source": [
        "Yep, that's a pretty complex source. There are clearly more than 4 peaks of light - I wouldn't like to guess how many\n",
        "sources of light there truly is! You'll also notice I omitted the lens galaxy's light for this system. This is to \n",
        "keep the number of parameters down and the phases running fast, but we wouldn't get such a luxury for a real galaxy."
      ]
    },
    {
      "cell_type": "markdown",
      "metadata": {},
      "source": [
        "__Settings__\n",
        "\n",
        "The _SettingsPhaseImaging_ describe how the model is fitted to the data in the log likelihood function. We discussed\n",
        "these in chapter 2, and a full description of all settings can be found in the example script:\n",
        "\n",
        " 'autolens_workspace/examples/model/customize/settings.py'.\n",
        "\n",
        "The settings chosen here are applied to all phases in the pipeline."
      ]
    },
    {
      "cell_type": "code",
      "metadata": {},
      "source": [
        "settings_masked_imaging = al.SettingsMaskedImaging(grid_class=al.Grid, sub_size=2)\n",
        "\n",
        "settings = al.SettingsPhaseImaging(settings_masked_imaging=settings_masked_imaging)"
      ],
      "outputs": [],
      "execution_count": null
    },
    {
      "cell_type": "markdown",
      "metadata": {},
      "source": [
        "__Pipeline_Setup_And_Tagging__:\n",
        "\n",
        "For this pipeline the pipeline setup customizes:\n",
        "\n",
        " - If there is an _ExternalShear_ in the mass model or not."
      ]
    },
    {
      "cell_type": "code",
      "metadata": {},
      "source": [
        "setup_mass = al.SetupMassTotal(no_shear=False)\n",
        "setup_source = al.SetupSourceSersic()\n",
        "\n",
        "setup = al.SetupPipeline(\n",
        "    folders=[\"c3_t3_complex_source\"],\n",
        "    redshift_lens=0.5,\n",
        "    redshift_source=1.0,\n",
        "    mass=setup_mass,\n",
        "    source=setup_source,\n",
        ")"
      ],
      "outputs": [],
      "execution_count": null
    },
    {
      "cell_type": "markdown",
      "metadata": {},
      "source": [
        "__Pipeline Creation__\n",
        "\n",
        "To create a _Pipeline_, we call a 'make_pipeline' function, which is written in its own Python script: \n",
        "\n",
        " 'tutorial_3_complex_source.py'. \n",
        "\n",
        "Before we check it out, lets get the pipeline running, by importing the script, running the 'make_pipeline' function\n",
        "to create the _Pipeline_ object and calling that objects 'run' function.\n",
        "\n",
        "The 'folders' below specify the path the pipeline results are written to, which is:\n",
        "\n",
        " 'autolens_workspace/output/howtolens/c3_t3_complex_source/pipeline_name/setup_tag/phase_name/settings_tag'"
      ]
    },
    {
      "cell_type": "code",
      "metadata": {},
      "source": [
        "from autolens_workspace.howtolens.chapter_3_pipelines import (\n",
        "    tutorial_3_pipeline_complex_source,\n",
        ")\n",
        "\n",
        "pipeline_complex_source = tutorial_3_pipeline_complex_source.make_pipeline(\n",
        "    setup=setup, settings=settings\n",
        ")\n",
        "\n",
        "# Uncomment to run.\n",
        "# pipeline_complex_source.run(dataset=imaging, mask=mask)"
      ],
      "outputs": [],
      "execution_count": null
    },
    {
      "cell_type": "markdown",
      "metadata": {},
      "source": [
        "Okay, so with 4 sources, we still couldn't get a good a fit to the source that didn't leave residuals. However, I \n",
        "actually simulated the lens with 4 sources. This means that there is a 'perfect fit' somewhere in parameter space \n",
        "that we unfortunately missed using the pipeline above.\n",
        "\n",
        "Lets confirm this, by manually fitting the _Imaging_ data with the true input model."
      ]
    },
    {
      "cell_type": "code",
      "metadata": {},
      "source": [
        "masked_imaging = al.MaskedImaging(\n",
        "    imaging=imaging,\n",
        "    mask=al.Mask.circular(\n",
        "        shape_2d=imaging.shape_2d, pixel_scales=imaging.pixel_scales, radius=3.0\n",
        "    ),\n",
        ")\n",
        "\n",
        "lens_galaxy = al.Galaxy(\n",
        "    redshift=0.5,\n",
        "    mass=al.mp.EllipticalIsothermal(\n",
        "        centre=(0.0, 0.0), elliptical_comps=(0.1, 0.0), einstein_radius=1.6\n",
        "    ),\n",
        ")\n",
        "\n",
        "source_galaxy_0 = al.Galaxy(\n",
        "    redshift=1.0,\n",
        "    sersic=al.lp.EllipticalSersic(\n",
        "        centre=(0.1, 0.1),\n",
        "        elliptical_comps=(0.0, 0.1),\n",
        "        intensity=0.2,\n",
        "        effective_radius=1.0,\n",
        "        sersic_index=1.5,\n",
        "    ),\n",
        ")\n",
        "\n",
        "source_galaxy_1 = al.Galaxy(\n",
        "    redshift=1.0,\n",
        "    sersic=al.lp.EllipticalSersic(\n",
        "        centre=(-0.25, 0.25),\n",
        "        elliptical_comps=(0.0, 0.15),\n",
        "        intensity=0.1,\n",
        "        effective_radius=0.2,\n",
        "        sersic_index=3.0,\n",
        "    ),\n",
        ")\n",
        "\n",
        "source_galaxy_2 = al.Galaxy(\n",
        "    redshift=1.0,\n",
        "    sersic=al.lp.EllipticalSersic(\n",
        "        centre=(0.45, -0.35),\n",
        "        elliptical_comps=(0.0, 0.222222),\n",
        "        intensity=0.03,\n",
        "        effective_radius=0.3,\n",
        "        sersic_index=3.5,\n",
        "    ),\n",
        ")\n",
        "\n",
        "source_galaxy_3 = al.Galaxy(\n",
        "    redshift=1.0,\n",
        "    sersic=al.lp.EllipticalSersic(\n",
        "        centre=(-0.05, -0.0),\n",
        "        elliptical_comps=(0.0, 0.15),\n",
        "        intensity=0.03,\n",
        "        effective_radius=0.1,\n",
        "        sersic_index=4.0,\n",
        "    ),\n",
        ")\n",
        "\n",
        "tracer = al.Tracer.from_galaxies(\n",
        "    galaxies=[\n",
        "        lens_galaxy,\n",
        "        source_galaxy_0,\n",
        "        source_galaxy_1,\n",
        "        source_galaxy_2,\n",
        "        source_galaxy_3,\n",
        "    ]\n",
        ")\n",
        "\n",
        "true_fit = al.FitImaging(masked_imaging=masked_imaging, tracer=tracer)\n",
        "\n",
        "aplt.FitImaging.subplot_fit_imaging(fit=true_fit)\n",
        "\n",
        "aplt.FitImaging.subplot_of_plane(fit=true_fit, plane_index=1)\n"
      ],
      "outputs": [],
      "execution_count": null
    },
    {
      "cell_type": "markdown",
      "metadata": {},
      "source": [
        "And indeed, we see an improved residual-map, chi-squared-map, and so forth.\n",
        "\n",
        "The morale of this story is that if the source morphology is complex, there is no way we can build a pipeline to \n",
        "fit it. For this tutorial, this was true even though our source model could actually fit the data perfectly. For real \n",
        "lenses, the source will be *even more complex* and there is even less hope of getting a good fit :(\n",
        "\n",
        "But fear not, __PyAutoLens__ has you covered. In chapter 4, we'll introduce a completely new way to model the source \n",
        "galaxy, which addresses the problem faced here. But before that, in the next tutorial we'll discuss how we actually \n",
        "pass priors in a pipeline."
      ]
    }
  ],
  "metadata": {
    "anaconda-cloud": {},
    "kernelspec": {
      "display_name": "Python 3",
      "language": "python",
      "name": "python3"
    },
    "language_info": {
      "codemirror_mode": {
        "name": "ipython",
        "version": 3
      },
      "file_extension": ".py",
      "mimetype": "text/x-python",
      "name": "python",
      "nbconvert_exporter": "python",
      "pygments_lexer": "ipython3",
      "version": "3.6.1"
    }
  },
  "nbformat": 4,
  "nbformat_minor": 1
}