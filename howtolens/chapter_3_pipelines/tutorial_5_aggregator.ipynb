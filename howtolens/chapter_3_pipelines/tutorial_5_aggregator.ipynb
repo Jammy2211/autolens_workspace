{
 "cells": [
  {
   "cell_type": "markdown",
   "metadata": {},
   "source": [
    "__Aggregator__\n",
    "\n",
    "Once a pipeline has completed running, we have a set of results on our hard disk we manually inspect and analyse. If our dataset is large (e.g. images of many strong lenses) we will most likely run the same pipeline on the full sample, creating many folders on our hard disk. We'll quickly have too many results for it to be feasible to inspect and analsye results by sifting through the hard disk.\n",
    "\n",
    "PyAutoFit's aggregator tool allows us to load results in a Python script of Jupyter notebook. All we have to do is point the aggregator to the output directory from which we want to load results, which in this case will be the results of the first pipeline of this chapter."
   ]
  },
  {
   "cell_type": "code",
   "execution_count": null,
   "metadata": {},
   "outputs": [],
   "source": [
    "import autofit as af"
   ]
  },
  {
   "cell_type": "markdown",
   "metadata": {},
   "source": [
    "Setup the path to the autolens_workspace, using by filling in your path below."
   ]
  },
  {
   "cell_type": "code",
   "execution_count": null,
   "metadata": {},
   "outputs": [],
   "source": [
    "workspace_path = \"/path/to/user/autolens_workspace/\"\n",
    "workspace_path = \"/home/jammy/PycharmProjects/PyAuto/autolens_workspace/\""
   ]
  },
  {
   "cell_type": "markdown",
   "metadata": {},
   "source": [
    "Setup the path to the config folder, using the autolens_workspace path."
   ]
  },
  {
   "cell_type": "code",
   "execution_count": null,
   "metadata": {},
   "outputs": [],
   "source": [
    "config_path = workspace_path + \"config\"\n",
    "output_path = workspace_path + \"output\""
   ]
  },
  {
   "cell_type": "markdown",
   "metadata": {},
   "source": [
    "Use this path to explicitly set the config path and output path."
   ]
  },
  {
   "cell_type": "code",
   "execution_count": null,
   "metadata": {},
   "outputs": [],
   "source": [
    "af.conf.instance = af.conf.Config(config_path=config_path)"
   ]
  },
  {
   "cell_type": "markdown",
   "metadata": {},
   "source": [
    "To set up the aggregator we simply pass it the folder of the results we want to load."
   ]
  },
  {
   "cell_type": "code",
   "execution_count": null,
   "metadata": {},
   "outputs": [],
   "source": [
    "aggregator = af.Aggregator(directory=str(output_path))"
   ]
  },
  {
   "cell_type": "markdown",
   "metadata": {},
   "source": [
    "We can get the output of every non-linear search (e.g. all 3 phases) of every data-set fitted using the phase above."
   ]
  },
  {
   "cell_type": "code",
   "execution_count": null,
   "metadata": {},
   "outputs": [],
   "source": [
    "non_linear_outputs = aggregator.output"
   ]
  },
  {
   "cell_type": "markdown",
   "metadata": {},
   "source": [
    "From here, we can inspect results as we please, for example printing the most likely model of every phase."
   ]
  },
  {
   "cell_type": "code",
   "execution_count": null,
   "metadata": {},
   "outputs": [],
   "source": [
    "print([output.most_likely_instance for output in non_linear_outputs])"
   ]
  },
  {
   "cell_type": "markdown",
   "metadata": {},
   "source": [
    "And with that, we're done. So soon you ask? Surely the aggregator has a lot more that warrants discussion? You're right, however I don't believe it belongs in the HowToLens lectures. Only those who are looking to model large samples of lenses or fit many different models *need* to use the aggregator, and it is a tool that is better learnt through the day-to-day use of PyAutoLens.\n",
    "\n",
    "The full set of aggregator tutorials can be found at the location 'autolens_workspace/aggregator'. Here, you'll learn how to:\n",
    "\n",
    "- Use the aggregator to filter out results given a pipeline name or phase name.\n",
    "- Use the NonLinearOutput to produce many different results from the fit, including error estimates on parameters and plots of the probability density function of parameters in 1D and 2D.\n",
    "- Reproduce visualizations of results, such as a tracer's images or the fit to a lens dataset.\n",
    "\n",
    "Even if you are only modeling a small sample of lenses, if you anticipate using PyAutoLens for the long-term I strongly recommend you begin using the aggregator to inspect and analyse your result. This is because it means you can perform all analyse in a Jupyter notebook, which as you already know is a flexible and versatile way to check results and make figures - its a better  more efficienct`workflow' in general.\n",
    "\n",
    "In HowToLelens, the main purpose of this tutorial was to make sure that you are aware of the aggregator's exsistance, and now you are!"
   ]
  },
  {
   "cell_type": "code",
   "execution_count": null,
   "metadata": {},
   "outputs": [],
   "source": []
  }
 ],
 "metadata": {
  "kernelspec": {
   "display_name": "Python 3",
   "language": "python",
   "name": "python3"
  },
  "language_info": {
   "codemirror_mode": {
    "name": "ipython",
    "version": 3
   },
   "file_extension": ".py",
   "mimetype": "text/x-python",
   "name": "python",
   "nbconvert_exporter": "python",
   "pygments_lexer": "ipython3",
   "version": "3.6.9"
  }
 },
 "nbformat": 4,
 "nbformat_minor": 2
}
