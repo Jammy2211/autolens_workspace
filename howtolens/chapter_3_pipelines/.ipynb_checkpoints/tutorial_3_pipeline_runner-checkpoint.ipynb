{
 "cells": [
  {
   "cell_type": "markdown",
   "metadata": {},
   "source": [
    "Up to now, we've not paid much attention to the source galaxy's morphology. We've assumed its a single-component exponential profile, which is a fairly crude assumption. A quick look at any image of a real galaxy reveals a wealth of different structures that could be present - bulges, disks, bars, star-forming knots and so on. Furthermore, there could be more than one source-galaxy!\n",
    "\n",
    "In this example, we'll explore how far we can get trying to_fit a complex source using a pipeline. Fitting complex source's is an exercise in diminishing returns. Each component we add to our source model brings with it an extra 5-7, parameters. If there are 4 components, or multiple galaxies, we're quickly entering the somewhat nasty regime of 30-40+ parameters in our non-linear search. Even with a pipeline, that is a lot of parameters to fit!"
   ]
  },
  {
   "cell_type": "code",
   "execution_count": null,
   "metadata": {},
   "outputs": [],
   "source": [
    "### AUTOFIT + CONFIG SETUP ###\n",
    "\n",
    "import autofit as af"
   ]
  },
  {
   "cell_type": "markdown",
   "metadata": {},
   "source": [
    "Setup the path to the workspace, using by filling in your path below."
   ]
  },
  {
   "cell_type": "code",
   "execution_count": null,
   "metadata": {},
   "outputs": [],
   "source": [
    "workspace_path = \"/path/to/user/autolens_workspace/\"\n",
    "workspace_path = \"/home/jammy/PycharmProjects/PyAutoLens/workspace/\""
   ]
  },
  {
   "cell_type": "markdown",
   "metadata": {},
   "source": [
    "Setup the path to the config folder, using the workspace path."
   ]
  },
  {
   "cell_type": "code",
   "execution_count": null,
   "metadata": {},
   "outputs": [],
   "source": [
    "config_path = workspace_path + \"config\""
   ]
  },
  {
   "cell_type": "markdown",
   "metadata": {},
   "source": [
    "Use this path to explicitly set the config path and output path."
   ]
  },
  {
   "cell_type": "code",
   "execution_count": null,
   "metadata": {},
   "outputs": [],
   "source": [
    "af.conf.instance = af.conf.Config(\n",
    "    config_path=config_path, output_path=workspace_path + \"output\"\n",
    ")"
   ]
  },
  {
   "cell_type": "code",
   "execution_count": null,
   "metadata": {},
   "outputs": [],
   "source": [
    "### AUTOLENS + DATA SETUP ###\n",
    "\n",
    "import autolens as al"
   ]
  },
  {
   "cell_type": "markdown",
   "metadata": {},
   "source": [
    "This function simulates an image with a complex source."
   ]
  },
  {
   "cell_type": "code",
   "execution_count": null,
   "metadata": {},
   "outputs": [],
   "source": [
    "def simulate():\n",
    "\n",
    "    psf = al.PSF.from_gaussian(shape=(11, 11), sigma=0.05, pixel_scale=0.05)\n",
    "\n",
    "    grid = al.Grid.from_shape_pixel_scale_and_sub_grid_size(\n",
    "        shape=(180, 180), pixel_scale=0.05\n",
    "    )\n",
    "\n",
    "    lens_galaxy = al.Galaxy(\n",
    "        redshift=0.5,\n",
    "        mass=al.mass_profiles.EllipticalIsothermal(\n",
    "            centre=(0.0, 0.0), axis_ratio=0.8, phi=135.0, einstein_radius=1.6\n",
    "        ),\n",
    "    )\n",
    "\n",
    "    source_galaxy_0 = al.Galaxy(\n",
    "        redshift=1.0,\n",
    "        light=al.light_profiles.EllipticalSersic(\n",
    "            centre=(0.1, 0.1),\n",
    "            axis_ratio=0.8,\n",
    "            phi=90.0,\n",
    "            intensity=0.2,\n",
    "            effective_radius=1.0,\n",
    "            sersic_index=1.5,\n",
    "        ),\n",
    "    )\n",
    "\n",
    "    source_galaxy_1 = al.Galaxy(\n",
    "        redshift=1.0,\n",
    "        light=al.light_profiles.EllipticalSersic(\n",
    "            centre=(-0.25, 0.25),\n",
    "            axis_ratio=0.7,\n",
    "            phi=45.0,\n",
    "            intensity=0.1,\n",
    "            effective_radius=0.2,\n",
    "            sersic_index=3.0,\n",
    "        ),\n",
    "    )\n",
    "\n",
    "    source_galaxy_2 = al.Galaxy(\n",
    "        redshift=1.0,\n",
    "        light=al.light_profiles.EllipticalSersic(\n",
    "            centre=(0.45, -0.35),\n",
    "            axis_ratio=0.6,\n",
    "            phi=90.0,\n",
    "            intensity=0.03,\n",
    "            effective_radius=0.3,\n",
    "            sersic_index=3.5,\n",
    "        ),\n",
    "    )\n",
    "\n",
    "    source_galaxy_3 = al.Galaxy(\n",
    "        redshift=1.0,\n",
    "        light=al.light_profiles.EllipticalSersic(\n",
    "            centre=(-0.05, -0.0),\n",
    "            axis_ratio=0.9,\n",
    "            phi=140.0,\n",
    "            intensity=0.03,\n",
    "            effective_radius=0.1,\n",
    "            sersic_index=4.0,\n",
    "        ),\n",
    "    )\n",
    "\n",
    "    tracer = al.Tracer.from_galaxies(\n",
    "        galaxies=[\n",
    "            lens_galaxy,\n",
    "            source_galaxy_0,\n",
    "            source_galaxy_1,\n",
    "            source_galaxy_2,\n",
    "            source_galaxy_3,\n",
    "        ],\n",
    "    )\n",
    "\n",
    "    return al.SimulatedCCDData.from_tracer_grid_and_exposure_arrays(\n",
    "        tracer=tracer,\n",
    "        grid=grid,\n",
    "        pixel_scale=0.05,\n",
    "        exposure_time=300.0,\n",
    "        psf=psf,\n",
    "        background_sky_level=0.1,\n",
    "        add_noise=True,\n",
    "    )"
   ]
  },
  {
   "cell_type": "markdown",
   "metadata": {},
   "source": [
    "Lets Simulate the CCD data."
   ]
  },
  {
   "cell_type": "code",
   "execution_count": null,
   "metadata": {},
   "outputs": [],
   "source": [
    "ccd_data = simulate()\n",
    "al.ccd_plotters.plot_ccd_subplot(ccd_data=ccd_data)"
   ]
  },
  {
   "cell_type": "markdown",
   "metadata": {},
   "source": [
    "Yep, that's a pretty complex source. There are clearly more than 4 peaks of light - I wouldn't like to guess whether there is one or two sources (or more). You'll also notice I omitted the lens galaxy's light for this system. This is to keep the number of parameters down and the phases running fast, but we wouldn't get such a luxury for a real galaxy.\n",
    "\n",
    "Again, before we checkout the pipeline, lets import it, and get it running."
   ]
  },
  {
   "cell_type": "code",
   "execution_count": null,
   "metadata": {},
   "outputs": [],
   "source": [
    "from autolens_workspace.howtolens.chapter_3_pipelines import tutorial_3_pipeline_complex_source\n",
    "\n",
    "pipeline_complex_source = tutorial_3_pipeline_complex_source.make_pipeline(\n",
    "    phase_folders=[\"howtolens\", \"c3_t3_complex_source\"]\n",
    ")\n",
    "\n",
    "pipeline_complex_source.run(data=ccd_data)"
   ]
  },
  {
   "cell_type": "markdown",
   "metadata": {},
   "source": [
    "Okay, so with 4 sources, we still couldn't get a good a fit to the source that didn't leave residuals. However, I actually  simulated the lens with 4 sources. This means that there is a 'perfect fit' somewhere in parameter space that we unfortunately missed using the pipeline above.\n",
    "\n",
    "Lets confirm this, by manually fitting the ccd data with the true input model."
   ]
  },
  {
   "cell_type": "code",
   "execution_count": null,
   "metadata": {},
   "outputs": [],
   "source": [
    "lens_data = al.LensData(\n",
    "    ccd_data=ccd_data,\n",
    "    mask=al.Mask.circular(\n",
    "        shape=ccd_data.shape, pixel_scale=ccd_data.pixel_scale, radius_arcsec=3.0\n",
    "    ),\n",
    ")\n",
    "\n",
    "lens_galaxy = al.Galaxy(\n",
    "    redshift=0.5,\n",
    "    mass=al.mass_profiles.EllipticalIsothermal(\n",
    "        centre=(0.0, 0.0), axis_ratio=0.8, phi=135.0, einstein_radius=1.6\n",
    "    ),\n",
    ")\n",
    "\n",
    "source_galaxy_0 = al.Galaxy(\n",
    "    redshift=1.0,\n",
    "    light=al.light_profiles.EllipticalSersic(\n",
    "        centre=(0.1, 0.1),\n",
    "        axis_ratio=0.8,\n",
    "        phi=90.0,\n",
    "        intensity=0.2,\n",
    "        effective_radius=1.0,\n",
    "        sersic_index=1.5,\n",
    "    ),\n",
    ")\n",
    "\n",
    "source_galaxy_1 = al.Galaxy(\n",
    "    redshift=1.0,\n",
    "    light=al.light_profiles.EllipticalSersic(\n",
    "        centre=(-0.25, 0.25),\n",
    "        axis_ratio=0.7,\n",
    "        phi=45.0,\n",
    "        intensity=0.1,\n",
    "        effective_radius=0.2,\n",
    "        sersic_index=3.0,\n",
    "    ),\n",
    ")\n",
    "\n",
    "source_galaxy_2 = al.Galaxy(\n",
    "    redshift=1.0,\n",
    "    light=al.light_profiles.EllipticalSersic(\n",
    "        centre=(0.45, -0.35),\n",
    "        axis_ratio=0.6,\n",
    "        phi=90.0,\n",
    "        intensity=0.03,\n",
    "        effective_radius=0.3,\n",
    "        sersic_index=3.5,\n",
    "    ),\n",
    ")\n",
    "\n",
    "source_galaxy_3 = al.Galaxy(\n",
    "    redshift=1.0,\n",
    "    light=al.light_profiles.EllipticalSersic(\n",
    "        centre=(-0.05, -0.0),\n",
    "        axis_ratio=0.9,\n",
    "        phi=140.0,\n",
    "        intensity=0.03,\n",
    "        effective_radius=0.1,\n",
    "        sersic_index=4.0,\n",
    "    ),\n",
    ")\n",
    "\n",
    "tracer = al.Tracer.from_galaxies(\n",
    "    galaxies=[\n",
    "        lens_galaxy,\n",
    "        source_galaxy_0,\n",
    "        source_galaxy_1,\n",
    "        source_galaxy_2,\n",
    "        source_galaxy_3,\n",
    "    ],\n",
    ")\n",
    "\n",
    "true_fit = al.LensDataFit.for_data_and_tracer(lens_data=lens_data, tracer=tracer)\n",
    "\n",
    "al.lens_fit_plotters.plot_fit_subplot(\n",
    "    fit=true_fit,\n",
    "    should_plot_mask=True,\n",
    "    extract_array_from_mask=True,\n",
    "    zoom_around_mask=True,\n",
    ")\n",
    "\n",
    "al.lens_fit_plotters.plot_fit_subplot_of_planes(\n",
    "    fit=true_fit,\n",
    "    should_plot_mask=True,\n",
    "    extract_array_from_mask=True,\n",
    "    zoom_around_mask=True,\n",
    ")\n"
   ]
  },
  {
   "cell_type": "markdown",
   "metadata": {},
   "source": [
    "And indeed, we see an improved residual-map, chi-squared-mao, and so forth.\n",
    "\n",
    "The morale of this story is that if the source morphology is complex, there is no way we can build a pipeline to fit it. For this tutorial, this was true even though our source model could actually fit the data perfectly. For real lenses, the source will be *even more complex* and there is even less hope of getting a good fit :(\n",
    "\n",
    "But fear not, PyAutoLens has you covered. In chapter 4, we'll introduce a completely new way to model the source galaxy, which addresses the problem faced here. But before that, in the next tutorial we'll discuss how we actually pass priors in a pipeline."
   ]
  }
 ],
 "metadata": {
  "kernelspec": {
   "display_name": "Python 3",
   "language": "python",
   "name": "python3"
  },
  "language_info": {
   "codemirror_mode": {
    "name": "ipython",
    "version": 3
   },
   "file_extension": ".py",
   "mimetype": "text/x-python",
   "name": "python",
   "nbconvert_exporter": "python",
   "pygments_lexer": "ipython3",
   "version": "3.6.7"
  }
 },
 "nbformat": 4,
 "nbformat_minor": 2
}
