{
 "cells": [
  {
   "cell_type": "markdown",
   "metadata": {},
   "source": [
    "Up to now, we've not paid much attention to the source galaxy's morphology. We've assumed its a single-component exponential profile, which is a fairly crude assumption. A quick look at any image of a real galaxy reveals a wealth of different structures that could be present - bulges, disks, bars, star-forming knots and so on. Furthermore, there could be more than one source-galaxy!\n",
    "\n",
    "In this example, we'll explore how far we can get trying to_fit a complex source using a pipeline. Fitting complex source's is an exercise in diminishing returns. Each component we add to our source model brings with it an extra 5-7, parameters. If there are 4 components, or multiple galaxies, we're quickly entering the somewhat nasty regime of 30-40+ parameters in our non-linear search. Even with a pipeline, that is a lot of parameters to fit!"
   ]
  },
  {
   "cell_type": "code",
   "execution_count": null,
   "metadata": {},
   "outputs": [],
   "source": [
    "### AUTOFIT + CONFIG SETUP ###\n",
    "\n",
    "import autofit as af"
   ]
  },
  {
   "cell_type": "markdown",
   "metadata": {},
   "source": [
    "Setup the path to the workspace, using by filling in your path below."
   ]
  },
  {
   "cell_type": "code",
   "execution_count": null,
   "metadata": {},
   "outputs": [],
   "source": [
    "workspace_path = \"/path/to/user/autolens_workspace/\"\n",
    "workspace_path = \"/home/jammy/PycharmProjects/PyAuto/autolens_workspace/\""
   ]
  },
  {
   "cell_type": "markdown",
   "metadata": {},
   "source": [
    "Setup the path to the config folder, using the workspace path."
   ]
  },
  {
   "cell_type": "code",
   "execution_count": null,
   "metadata": {},
   "outputs": [],
   "source": [
    "config_path = workspace_path + \"config\""
   ]
  },
  {
   "cell_type": "markdown",
   "metadata": {},
   "source": [
    "Use this path to explicitly set the config path and output path."
   ]
  },
  {
   "cell_type": "code",
   "execution_count": null,
   "metadata": {},
   "outputs": [],
   "source": [
    "af.conf.instance = af.conf.Config(\n",
    "    config_path=config_path, output_path=workspace_path + \"output\"\n",
    ")"
   ]
  },
  {
   "cell_type": "code",
   "execution_count": null,
   "metadata": {},
   "outputs": [],
   "source": [
    "### AUTOLENS + DATA SETUP ###\n",
    "\n",
    "%matplotlib inline\n",
    "\n",
    "import autolens as al\n",
    "import autolens.plot as aplt"
   ]
  },
  {
   "cell_type": "markdown",
   "metadata": {},
   "source": [
    "This function simulates an image with a complex source."
   ]
  },
  {
   "cell_type": "code",
   "execution_count": null,
   "metadata": {},
   "outputs": [],
   "source": [
    "def simulate():\n",
    "\n",
    "    psf = al.kernel.from_gaussian(shape_2d=(11, 11), sigma=0.05, pixel_scales=0.05)\n",
    "\n",
    "    lens_galaxy = al.Galaxy(\n",
    "        redshift=0.5,\n",
    "        mass=al.mp.EllipticalIsothermal(\n",
    "            centre=(0.0, 0.0), axis_ratio=0.8, phi=135.0, einstein_radius=1.6\n",
    "        ),\n",
    "    )\n",
    "\n",
    "    source_galaxy_0 = al.Galaxy(\n",
    "        redshift=1.0,\n",
    "        light=al.lp.EllipticalSersic(\n",
    "            centre=(0.1, 0.1),\n",
    "            axis_ratio=0.8,\n",
    "            phi=90.0,\n",
    "            intensity=0.2,\n",
    "            effective_radius=1.0,\n",
    "            sersic_index=1.5,\n",
    "        ),\n",
    "    )\n",
    "\n",
    "    source_galaxy_1 = al.Galaxy(\n",
    "        redshift=1.0,\n",
    "        light=al.lp.EllipticalSersic(\n",
    "            centre=(-0.25, 0.25),\n",
    "            axis_ratio=0.7,\n",
    "            phi=45.0,\n",
    "            intensity=0.1,\n",
    "            effective_radius=0.2,\n",
    "            sersic_index=3.0,\n",
    "        ),\n",
    "    )\n",
    "\n",
    "    source_galaxy_2 = al.Galaxy(\n",
    "        redshift=1.0,\n",
    "        light=al.lp.EllipticalSersic(\n",
    "            centre=(0.45, -0.35),\n",
    "            axis_ratio=0.6,\n",
    "            phi=90.0,\n",
    "            intensity=0.03,\n",
    "            effective_radius=0.3,\n",
    "            sersic_index=3.5,\n",
    "        ),\n",
    "    )\n",
    "\n",
    "    source_galaxy_3 = al.Galaxy(\n",
    "        redshift=1.0,\n",
    "        light=al.lp.EllipticalSersic(\n",
    "            centre=(-0.05, -0.0),\n",
    "            axis_ratio=0.9,\n",
    "            phi=140.0,\n",
    "            intensity=0.03,\n",
    "            effective_radius=0.1,\n",
    "            sersic_index=4.0,\n",
    "        ),\n",
    "    )\n",
    "\n",
    "    tracer = al.Tracer.from_galaxies(\n",
    "        galaxies=[\n",
    "            lens_galaxy,\n",
    "            source_galaxy_0,\n",
    "            source_galaxy_1,\n",
    "            source_galaxy_2,\n",
    "            source_galaxy_3,\n",
    "        ]\n",
    "    )\n",
    "\n",
    "    simulator = al.simulator.imaging(\n",
    "        shape_2d=(180, 180),\n",
    "        pixel_scales=0.05,\n",
    "        exposure_time=300.0,\n",
    "        sub_size=1,\n",
    "        psf=psf,\n",
    "        background_level=0.1,\n",
    "        add_noise=True,\n",
    "    )\n",
    "\n",
    "    return simulator.from_tracer(tracer=tracer)"
   ]
  },
  {
   "cell_type": "markdown",
   "metadata": {},
   "source": [
    "Lets Simulate the imaging data and set up the mask."
   ]
  },
  {
   "cell_type": "code",
   "execution_count": null,
   "metadata": {},
   "outputs": [],
   "source": [
    "imaging = simulate()\n",
    "\n",
    "mask = al.mask.circular(\n",
    "    shape_2d=imaging.shape_2d, pixel_scales=imaging.pixel_scales, radius=3.0\n",
    ")\n",
    "\n",
    "aplt.imaging.subplot_imaging(imaging=imaging, mask=mask)"
   ]
  },
  {
   "cell_type": "markdown",
   "metadata": {},
   "source": [
    "Yep, that's a pretty complex source. There are clearly more than 4 peaks of light - I wouldn't like to guess whether there is one or two sources (or more). You'll also notice I omitted the lens galaxy's light for this system. This is to keep the number of parameters down and the phases running fast, but we wouldn't get such a luxury for a real galaxy.\n",
    "\n",
    "Again, before we checkout the pipeline, lets import it, and get it running."
   ]
  },
  {
   "cell_type": "code",
   "execution_count": null,
   "metadata": {},
   "outputs": [],
   "source": [
    "from howtolens.chapter_3_pipelines import tutorial_3_pipeline_complex_source\n",
    "\n",
    "pipeline_complex_source = tutorial_3_pipeline_complex_source.make_pipeline(\n",
    "    phase_folders=[\"howtolens\", \"c3_t3_complex_source\"]\n",
    ")\n",
    "\n",
    "pipeline_complex_source.run(data=imaging, mask=mask)"
   ]
  },
  {
   "cell_type": "markdown",
   "metadata": {},
   "source": [
    "Okay, so with 4 sources, we still couldn't get a good a fit to the source that didn't leave residuals. However, I actually  simulated the lens with 4 sources. This means that there is a 'perfect fit' somewhere in parameter space that we unfortunately missed using the pipeline above.\n",
    "\n",
    "Lets confirm this, by manually fitting the imaging data with the true input model."
   ]
  },
  {
   "cell_type": "code",
   "execution_count": null,
   "metadata": {},
   "outputs": [],
   "source": [
    "masked_imaging = al.masked.imaging(\n",
    "    imaging=imaging,\n",
    "    mask=al.mask.circular(\n",
    "        shape_2d=imaging.shape_2d, pixel_scales=imaging.pixel_scales, radius=3.0\n",
    "    ),\n",
    ")\n",
    "\n",
    "lens_galaxy = al.Galaxy(\n",
    "    redshift=0.5,\n",
    "    mass=al.mp.EllipticalIsothermal(\n",
    "        centre=(0.0, 0.0), axis_ratio=0.8, phi=135.0, einstein_radius=1.6\n",
    "    ),\n",
    ")\n",
    "\n",
    "source_galaxy_0 = al.Galaxy(\n",
    "    redshift=1.0,\n",
    "    light=al.lp.EllipticalSersic(\n",
    "        centre=(0.1, 0.1),\n",
    "        axis_ratio=0.8,\n",
    "        phi=90.0,\n",
    "        intensity=0.2,\n",
    "        effective_radius=1.0,\n",
    "        sersic_index=1.5,\n",
    "    ),\n",
    ")\n",
    "\n",
    "source_galaxy_1 = al.Galaxy(\n",
    "    redshift=1.0,\n",
    "    light=al.lp.EllipticalSersic(\n",
    "        centre=(-0.25, 0.25),\n",
    "        axis_ratio=0.7,\n",
    "        phi=45.0,\n",
    "        intensity=0.1,\n",
    "        effective_radius=0.2,\n",
    "        sersic_index=3.0,\n",
    "    ),\n",
    ")\n",
    "\n",
    "source_galaxy_2 = al.Galaxy(\n",
    "    redshift=1.0,\n",
    "    light=al.lp.EllipticalSersic(\n",
    "        centre=(0.45, -0.35),\n",
    "        axis_ratio=0.6,\n",
    "        phi=90.0,\n",
    "        intensity=0.03,\n",
    "        effective_radius=0.3,\n",
    "        sersic_index=3.5,\n",
    "    ),\n",
    ")\n",
    "\n",
    "source_galaxy_3 = al.Galaxy(\n",
    "    redshift=1.0,\n",
    "    light=al.lp.EllipticalSersic(\n",
    "        centre=(-0.05, -0.0),\n",
    "        axis_ratio=0.9,\n",
    "        phi=140.0,\n",
    "        intensity=0.03,\n",
    "        effective_radius=0.1,\n",
    "        sersic_index=4.0,\n",
    "    ),\n",
    ")\n",
    "\n",
    "tracer = al.Tracer.from_galaxies(\n",
    "    galaxies=[\n",
    "        lens_galaxy,\n",
    "        source_galaxy_0,\n",
    "        source_galaxy_1,\n",
    "        source_galaxy_2,\n",
    "        source_galaxy_3,\n",
    "    ],\n",
    ")\n",
    "\n",
    "true_fit = al.fit(masked_dataset=masked_imaging, tracer=tracer)\n",
    "\n",
    "aplt.fit_imaging.subplot_fit_imaging(\n",
    "    fit=true_fit,\n",
    ")\n",
    "\n",
    "aplt.fit_imaging.subplot_of_planes(\n",
    "    fit=true_fit,\n",
    ")\n"
   ]
  },
  {
   "cell_type": "markdown",
   "metadata": {},
   "source": [
    "And indeed, we see an improved residual-map, chi-squared-map, and so forth.\n",
    "\n",
    "The morale of this story is that if the source morphology is complex, there is no way we can build a pipeline to fit it. For this tutorial, this was true even though our source model could actually fit the data perfectly. For real lenses, the source will be *even more complex* and there is even less hope of getting a good fit :(\n",
    "\n",
    "But fear not, PyAutoLens has you covered. In chapter 4, we'll introduce a completely new way to model the source galaxy, which addresses the problem faced here. But before that, in the next tutorial we'll discuss how we actually pass priors in a pipeline."
   ]
  }
 ],
 "metadata": {
  "kernelspec": {
   "display_name": "Python 3",
   "language": "python",
   "name": "python3"
  },
  "language_info": {
   "codemirror_mode": {
    "name": "ipython",
    "version": 3
   },
   "file_extension": ".py",
   "mimetype": "text/x-python",
   "name": "python",
   "nbconvert_exporter": "python",
   "pygments_lexer": "ipython3",
   "version": "3.6.9"
  }
 },
 "nbformat": 4,
 "nbformat_minor": 2
}
