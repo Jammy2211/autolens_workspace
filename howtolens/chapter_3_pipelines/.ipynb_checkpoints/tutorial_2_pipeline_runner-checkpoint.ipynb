{
 "cells": [
  {
   "cell_type": "markdown",
   "metadata": {},
   "source": [
    "Up to now, all the images we've fitted had one lens galaxy. However, we saw in chapter 1 that our lens plane can consist of multiple galaxies which each contribute to the strong lensing. Multi-galaxy systems are challenging to model, because they add an extra 5-10 parameters to the non-linear search and, more problematically, the degeneracies between the mass-profiles of the two galaxies can be severe.\n",
    "\n",
    "However, we can still break their analysis down using a pipeline and give ourselves a shot at getting a good lens model. Here, we're going to fit a double lens system, fitting as much about each individual lens galaxy before fitting them simultaneously.\n",
    "\n",
    "Up to now, I've put a focus on pipelines being general. The pipeline we write in this example is going to be the opposite - specific to the image we're modeling. Fitting multiple lens galaxies is really difficult and writing a pipeline that we can generalize to many lenses isn't currently possible with PyAutoLens."
   ]
  },
  {
   "cell_type": "code",
   "execution_count": null,
   "metadata": {},
   "outputs": [],
   "source": [
    "### AUTOFIT + CONFIG SETUP ###\n",
    "\n",
    "import autofit as af"
   ]
  },
  {
   "cell_type": "markdown",
   "metadata": {},
   "source": [
    "Setup the path to the workspace, using by filling in your path below."
   ]
  },
  {
   "cell_type": "code",
   "execution_count": null,
   "metadata": {},
   "outputs": [],
   "source": [
    "workspace_path = \"/path/to/user/autolens_workspace/\"\n",
    "workspace_path = \"/home/jammy/PycharmProjects/PyAuto/autolens_workspace/\""
   ]
  },
  {
   "cell_type": "markdown",
   "metadata": {},
   "source": [
    "Setup the path to the config folder, using the workspace path."
   ]
  },
  {
   "cell_type": "code",
   "execution_count": null,
   "metadata": {},
   "outputs": [],
   "source": [
    "config_path = workspace_path + \"config\""
   ]
  },
  {
   "cell_type": "markdown",
   "metadata": {},
   "source": [
    "Use this path to explicitly set the config path and output path."
   ]
  },
  {
   "cell_type": "code",
   "execution_count": null,
   "metadata": {},
   "outputs": [],
   "source": [
    "af.conf.instance = af.conf.Config(\n",
    "    config_path=config_path, output_path=workspace_path + \"output\"\n",
    ")"
   ]
  },
  {
   "cell_type": "code",
   "execution_count": null,
   "metadata": {},
   "outputs": [],
   "source": [
    "### AUTOLENS + DATA SETUP ###\n",
    "\n",
    "%matplotlib inline\n",
    "\n",
    "import autolens as al\n",
    "import autolens.plot as aplt"
   ]
  },
  {
   "cell_type": "markdown",
   "metadata": {},
   "source": [
    "This rather long simulate function generates an image with two strong lens galaxies."
   ]
  },
  {
   "cell_type": "code",
   "execution_count": null,
   "metadata": {},
   "outputs": [],
   "source": [
    "def simulate():\n",
    "\n",
    "    psf = al.kernel.from_gaussian(shape_2d=(11, 11), sigma=0.05, pixel_scales=0.05)\n",
    "\n",
    "    lens_galaxy_0 = al.Galaxy(\n",
    "        redshift=0.5,\n",
    "        light=al.lp.EllipticalSersic(\n",
    "            centre=(0.0, -1.0),\n",
    "            axis_ratio=0.8,\n",
    "            phi=55.0,\n",
    "            intensity=0.1,\n",
    "            effective_radius=0.8,\n",
    "            sersic_index=2.5,\n",
    "        ),\n",
    "        mass=al.mp.EllipticalIsothermal(\n",
    "            centre=(1.0, 0.0), axis_ratio=0.7, phi=45.0, einstein_radius=1.0\n",
    "        ),\n",
    "    )\n",
    "\n",
    "    lens_galaxy_1 = al.Galaxy(\n",
    "        redshift=0.5,\n",
    "        light=al.lp.EllipticalSersic(\n",
    "            centre=(0.0, 1.0),\n",
    "            axis_ratio=0.8,\n",
    "            phi=100.0,\n",
    "            intensity=0.1,\n",
    "            effective_radius=0.6,\n",
    "            sersic_index=3.0,\n",
    "        ),\n",
    "        mass=al.mp.EllipticalIsothermal(\n",
    "            centre=(-1.0, 0.0), axis_ratio=0.8, phi=90.0, einstein_radius=0.8\n",
    "        ),\n",
    "    )\n",
    "\n",
    "    source_galaxy = al.Galaxy(\n",
    "        redshift=1.0,\n",
    "        light=al.lp.SphericalExponential(\n",
    "            centre=(0.05, 0.15), intensity=0.2, effective_radius=0.5\n",
    "        ),\n",
    "    )\n",
    "\n",
    "    tracer = al.Tracer.from_galaxies(\n",
    "        galaxies=[lens_galaxy_0, lens_galaxy_1, source_galaxy]\n",
    "    )\n",
    "\n",
    "    simulator = al.simulator.imaging(\n",
    "        shape_2d=(180, 180),\n",
    "        pixel_scales=0.05,\n",
    "        exposure_time=300.0,\n",
    "        sub_size=1,\n",
    "        psf=psf,\n",
    "        background_level=0.1,\n",
    "        add_noise=True,\n",
    "    )\n",
    "\n",
    "    return simulator.from_tracer(tracer=tracer)"
   ]
  },
  {
   "cell_type": "markdown",
   "metadata": {},
   "source": [
    "Lets Simulate the Imaging data we'll fit, which is a new image, finally!"
   ]
  },
  {
   "cell_type": "code",
   "execution_count": null,
   "metadata": {},
   "outputs": [],
   "source": [
    "imaging = simulate()\n",
    "\n",
    "mask = al.mask.circular(\n",
    "    shape_2d=imaging.shape_2d, pixel_scales=imaging.pixel_scales, radius=3.0\n",
    ")\n",
    "\n",
    "aplt.imaging.subplot_imaging(imaging=imaging, mask=mask)"
   ]
  },
  {
   "cell_type": "markdown",
   "metadata": {},
   "source": [
    "Looking at the image, there are clearly two blobs of light corresponding to our two lens galaxies. The source's light is also pretty complex - the arcs don't posses the rotational symmetry we're used to seeing up to now. Multi-galaxy ray-tracing is just a lot more complicated, which means so is modeling it!\n",
    "\n",
    "So, how can we break the lens modeling up? As follows:\n",
    "\n",
    "1) Fit and subtract the light of each lens galaxy individually - this will require some careful masking but is doable.\n",
    "2) Use these results to initialize each lens galaxy's mass-profile.\n",
    "\n",
    "So, with this in mind, we've written a pipeline composed of 4 phases:\n",
    "\n",
    "Phase 1) Fit the light profile of the lens galaxy on the left of the image, at coordinates (0.0\", -1.0\").\n",
    "Phase 2) Fit the light profile of the lens galaxy on the right of the image, at coordinates (0.0\", 1.0\").\n",
    "Phase 3) Use this lens-subtracted image to fit the source galaxy's light. The mass-profiles of the two lens galaxies can use the results of phases 1 and 2 to initialize their priors.\n",
    "Phase 4) Fit all relevant parameters simultaneously, using priors from phases 1, 2 and 3.\n",
    "\n",
    "Again, before we checkout the pipeline, lets import it, and get it running."
   ]
  },
  {
   "cell_type": "code",
   "execution_count": null,
   "metadata": {},
   "outputs": [],
   "source": [
    "from howtolens.chapter_3_pipelines import tutorial_2_pipeline_x2_lens_galaxies\n",
    "\n",
    "pipeline_x2_galaxies = tutorial_2_pipeline_x2_lens_galaxies.make_pipeline(\n",
    "    phase_folders=[\"howtolens\", \"c3_t2_x2_galaxies\"]\n",
    ")\n",
    "\n",
    "pipeline_x2_galaxies.run(data=imaging, mask=mask)"
   ]
  },
  {
   "cell_type": "markdown",
   "metadata": {},
   "source": [
    "Now, read through the '_tutorial_2_pipeline_x2_galaxies.py_' pipeline, to get a complete view of how it works. Once you've done that, come back here and we'll wrap up this tutorial."
   ]
  },
  {
   "cell_type": "markdown",
   "metadata": {},
   "source": [
    "And, we're done. This pipeline takes a while to run, as is the nature of multi-galaxy modeling. Nevertheless, the techniques we've learnt above can be applied to systems with even more galaxies, albeit the increases in parameters will slow down the non-linear search. Here are some more Q&A's\n",
    "\n",
    "1) This system had two very similar lens galaxies, with comparable amounts of light and mass. How common is this? Does it make it harder to model them?\n",
    "\n",
    "Typically, a 2 galaxy system has 1 massive galaxy (that makes up some 80%-90% of the overall light and mass), accompanied by a smaller satellite. The satellite can't be ignored - it impacts the ray-tracing in a measureable way, but its a lot less degenerate with the 'main' lens galaxy. This means we can often model the  satellite with much simpler profiles (e.g. spherical profiles). So yes, multi-galaxy systems can often be easier to model.\n",
    "\n",
    "2) It got pretty confusing passing all those priors towards the end of the pipeline there, didn't it?\n",
    "\n",
    "It does get confusing, I won't lie. This is why we made galaxies named objects - so that we could call them the 'left_lens' and 'right_lens'. It still requires caution when writing the pipeline, but goes to show that if you name your galaxies sensibly you should be able to avoid errors, or spot them quickly when you make them."
   ]
  },
  {
   "cell_type": "code",
   "execution_count": null,
   "metadata": {},
   "outputs": [],
   "source": []
  }
 ],
 "metadata": {
  "kernelspec": {
   "display_name": "Python 3",
   "language": "python",
   "name": "python3"
  },
  "language_info": {
   "codemirror_mode": {
    "name": "ipython",
    "version": 3
   },
   "file_extension": ".py",
   "mimetype": "text/x-python",
   "name": "python",
   "nbconvert_exporter": "python",
   "pygments_lexer": "ipython3",
   "version": "3.6.9"
  }
 },
 "nbformat": 4,
 "nbformat_minor": 2
}
