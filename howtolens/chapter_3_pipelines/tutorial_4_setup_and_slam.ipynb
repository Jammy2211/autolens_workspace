{
  "cells": [
    {
      "cell_type": "markdown",
      "metadata": {},
      "source": [
        "Tutorial 4: Setup and SLaM\n",
        "==========================\n",
        "\n",
        "You are now familiar with pipelines, in particular how we use them to break-down the lens modeling procedure\n",
        "to provide more efficient and reliable model-fits. In the previous tutorials, you learnt how to write your own\n",
        "pipelines, which can fit whatever lens model is of particular interest to your scientific study.\n",
        "\n",
        "However, for most lens models there are standardized approaches one can take to fitting them. For example, as we saw in\n",
        "tutorial 1 of this chapter, an effective approach is to fit a model for the lens's light followed by a model for its\n",
        "mass and the source. It would be wasteful for all **PyAutoLens** users to have to write their own pipelines to\n",
        "perform the same tasks.\n",
        "\n",
        "For this reason, the `autolens_workspace` comes with a number of standardized pipelines, which fit common lens models\n",
        "in ways we have tested are efficient and robust. These pipelines also use `Setup` objects to customize the creating of\n",
        "the lens and source `PriorModel`'s, making it straight forward to use the same pipeline to fit a range of different\n",
        "lens model parameterizations.\n",
        "\n",
        "Lets take a look."
      ]
    },
    {
      "cell_type": "code",
      "metadata": {},
      "source": [
        "%matplotlib inline\n",
        "\n",
        "from pyprojroot import here\n",
        "\n",
        "workspace_path = str(here())\n",
        "%cd $workspace_path\n",
        "print(f\"Working Directory has been set to `{workspace_path}`\")\n",
        "\n",
        "import autolens as al"
      ],
      "outputs": [],
      "execution_count": null
    },
    {
      "cell_type": "markdown",
      "metadata": {},
      "source": [
        "Lets begin with the `SetupLightParametric` object, which describes how we set up our parametric model using \n",
        "`LightProfile`'s for the lens's light (we call it parametric to make it clear the model uses `LightProfile`'s to fit\n",
        "the lens's light, in contrast to the `Inversion` objects introduced in the next chapter of **HowToLens**).\n",
        "\n",
        "This object customizes:\n",
        "\n",
        " - The `LightProfile`'s which fit different components of the lens light, such as its `bulge` and `disk`.\n",
        " - The alignment of these components, for example if the `bulge` and `disk` centres are aligned.\n",
        " - If the centre of the lens light profile is manually input and fixed for modeling."
      ]
    },
    {
      "cell_type": "code",
      "metadata": {},
      "source": [
        "setup_light = al.SetupLightParametric(\n",
        "    bulge_prior_model=al.lp.EllipticalSersic,\n",
        "    disk_prior_model=al.lp.EllipticalSersic,\n",
        "    envelope_prior_model=None,\n",
        "    align_bulge_disk_centre=True,\n",
        "    align_bulge_disk_elliptical_comps=False,\n",
        "    light_centre=None,\n",
        ")"
      ],
      "outputs": [],
      "execution_count": null
    },
    {
      "cell_type": "markdown",
      "metadata": {},
      "source": [
        "In the `Setup` above we made the lens's `bulge` and `disk` use the `EllipticalSersic` `LightProfile`, which we\n",
        "can verify below:"
      ]
    },
    {
      "cell_type": "code",
      "metadata": {},
      "source": [
        "print(setup_light.bulge_prior_model)\n",
        "print(setup_light.bulge_prior_model.cls)\n",
        "print(setup_light.disk_prior_model)\n",
        "print(setup_light.disk_prior_model.cls)"
      ],
      "outputs": [],
      "execution_count": null
    },
    {
      "cell_type": "markdown",
      "metadata": {},
      "source": [
        "We can also verify that the `bulge` and `disk` share the same prior on the centre because we aligned them\n",
        "by setting `align_bulge_disk_centre=True`:"
      ]
    },
    {
      "cell_type": "code",
      "metadata": {},
      "source": [
        "print(setup_light.bulge_prior_model.centre)\n",
        "print(setup_light.disk_prior_model.centre)"
      ],
      "outputs": [],
      "execution_count": null
    },
    {
      "cell_type": "markdown",
      "metadata": {},
      "source": [
        "When `GalaxyModel`'s are created in the template pipelines in the `autolens_workspace/transdimensional/pipelines`\n",
        "and `autolens_workspace/slam/pipelines` they use the `bulge_prior_model`, `disk_prior_model`, etc to create them (as \n",
        "opposed to explicitly writing the classes in the pipelines, as we did in the previous tutorials)."
      ]
    },
    {
      "cell_type": "markdown",
      "metadata": {},
      "source": [
        "The `SetupSourceParametric` object works in exactly the same way as the `SetupLightParametric` object above, but \n",
        "instead for choosing the source model. This object makes it straight forward to fit parametric source models with many\n",
        "different numbers of components (e.g. just a bulge, a bulge and disk, etc).\n",
        "\n",
        "All inputs of `SetupSourceParametric` are identical to `SetupLightParametric`."
      ]
    },
    {
      "cell_type": "code",
      "metadata": {},
      "source": [
        "setup_source = al.SetupSourceParametric(\n",
        "    bulge_prior_model=al.lp.EllipticalCoreSersic,\n",
        "    disk_prior_model=al.lp.EllipticalExponential,\n",
        "    envelope_prior_model=None,\n",
        "    align_bulge_disk_centre=True,\n",
        "    align_bulge_disk_elliptical_comps=False,\n",
        "    light_centre=None,\n",
        ")\n",
        "\n",
        "print(setup_source.bulge_prior_model)\n",
        "print(setup_source.bulge_prior_model.cls)\n",
        "print(setup_source.disk_prior_model)\n",
        "print(setup_source.disk_prior_model.cls)"
      ],
      "outputs": [],
      "execution_count": null
    },
    {
      "cell_type": "markdown",
      "metadata": {},
      "source": [
        "The lens mass model is customized using the `SetupMassTotal` object, which customizes:\n",
        "\n",
        " - The `MassProfile` fitted by the pipeline.\n",
        " - If there is an `ExternalShear` in the mass model or not (this lens was not simulated with shear and \n",
        "   we do not include it in the mass model).\n",
        " - If the centre of the lens mass profile is manually input and fixed for modeling."
      ]
    },
    {
      "cell_type": "code",
      "metadata": {},
      "source": [
        "setup_mass = al.SetupMassTotal(\n",
        "    mass_prior_model=al.mp.EllipticalPowerLaw, with_shear=False, mass_centre=None\n",
        ")"
      ],
      "outputs": [],
      "execution_count": null
    },
    {
      "cell_type": "markdown",
      "metadata": {},
      "source": [
        "There is also a `SetupMassLightDark` object, which customizes lens mass models which decompose the lens's mass\n",
        "distribution into stellar and dark matter. More information on these models can be found in the \n",
        "`autolens_workspace/examples` and `autolens_workspace/transdimensional` folders."
      ]
    },
    {
      "cell_type": "markdown",
      "metadata": {},
      "source": [
        "_Pipeline Tagging_\n",
        "\n",
        "The `Setup` objects are input into a `SetupPipeline` object, which is passed into the pipeline and used to customize\n",
        "the analysis depending on the setup. This includes tagging the output path of a pipeline. For example, if `with_shear` \n",
        "is True, the pipeline`s output paths are `tagged` with the string `with_shear`.\n",
        "\n",
        "This means you can run the same pipeline on the same data twice (e.g. with and without shear) and the results will go\n",
        "to different output folders and thus not clash with one another!\n",
        "\n",
        "The `path_prefix` specifies the path the pipeline results are written to, as it did with phases in the previous \n",
        "chapter. The redshift of the lens and source galaxies are also input."
      ]
    },
    {
      "cell_type": "code",
      "metadata": {},
      "source": [
        "setup = al.SetupPipeline(\n",
        "    path_prefix=f\"path_prefix\",\n",
        "    redshift_lens=0.5,\n",
        "    redshift_source=1.0,\n",
        "    setup_mass=setup_mass,\n",
        "    setup_source=setup_source,\n",
        ")"
      ],
      "outputs": [],
      "execution_count": null
    },
    {
      "cell_type": "markdown",
      "metadata": {},
      "source": [
        "_Template Pipelines_\n",
        "\n",
        "The template pipelines can be found in the folder `autolens_workspace/transdimensional/pipelines`, with their \n",
        "accompanying runner scripts in `autolens_workspace/transdimensional/runners`. These templates are pretty comprehensive, \n",
        "so we do not include any pipelines in this tutorial of **HowToLens**, you should check out the `transdimensional` \n",
        "package now!"
      ]
    },
    {
      "cell_type": "markdown",
      "metadata": {},
      "source": [
        "__SLaM (Source, Light and Mass)__\n",
        "\n",
        "A second set of template pipelines, called the **SLaM** (Source, Light and Mass) pipelines can be found in the folder\n",
        "`autolens_workspace/slam`. These are similar in design to the `transdimensional` pipelines, but are composed of \n",
        "the following specific pipelines:\n",
        "\n",
        " - `Source`: A pipeline that focuses on producing a robust model for the source's light, using simpler models for the \n",
        "   lens's light (e.g. a `bulge` + `disk`) and mass (e.g. an `EllipticalSersic`). \n",
        "   \n",
        " - `Light`: A pipeline that fits a complex lens light model (e.g. one with many components), using the initialized \n",
        "   source model to cleanly deblend the lens and source light.\n",
        "   \n",
        " - `Mass`: A pipeline that fits a complex lens mass model, benefitting from the good models for the lens's light and \n",
        "   source.\n",
        "\n",
        "For fitting very complex lens models, for example ones which decompose its mass into its stellar and dark components,\n",
        "the **SLaM** pipelines have been carefully crafted to do this in a reliable and automated way that is still efficient. \n",
        "\n",
        "The **SLaM** pipelines also make fitting many different models to a single dataset efficient, as they reuse the results \n",
        "of earlier phases (e.g. in the Source pipeline) to fit different models in the `Light` and `Mass` pipelines for the \n",
        "lens's  light and mass."
      ]
    },
    {
      "cell_type": "markdown",
      "metadata": {},
      "source": [
        "Whether you should use phases, `transdimensional` pipelines, `slam` pipelines or write your own depends on the scope \n",
        "of your scientific analysis. I would advise you begin by adapting the scripts in `autolens/examples` to fit your\n",
        "data, and then do so using the `transdimensional` or `slam` pipelines once things seem to be working well!"
      ]
    }
  ],
  "metadata": {
    "anaconda-cloud": {},
    "kernelspec": {
      "display_name": "Python 3",
      "language": "python",
      "name": "python3"
    },
    "language_info": {
      "codemirror_mode": {
        "name": "ipython",
        "version": 3
      },
      "file_extension": ".py",
      "mimetype": "text/x-python",
      "name": "python",
      "nbconvert_exporter": "python",
      "pygments_lexer": "ipython3",
      "version": "3.6.1"
    }
  },
  "nbformat": 4,
  "nbformat_minor": 4
}