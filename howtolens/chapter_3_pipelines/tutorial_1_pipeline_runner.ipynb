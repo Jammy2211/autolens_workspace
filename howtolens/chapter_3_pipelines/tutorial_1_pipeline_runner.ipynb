{
  "cells": [
    {
      "cell_type": "markdown",
      "metadata": {},
      "source": [
        "Tutorial 1: Lens and Source\n",
        "===========================\n",
        "\n",
        "As discussed in chapter 2, an effective strategy for modeling strong lenses is to break the model-fitting procedure\n",
        "down into a series of phases, linking the results of the phases to guide the `NonLinearSearch` as to where to\n",
        "sample parameter space. In this chapter, we'll cover `Pipeline`'s, which provide a powerful means by which to\n",
        "link together many phases.\n",
        "\n",
        "In chapter 2, we fitted strong lens `Imaging` which included the lens `Galaxy`'s light. we're going to fit this dataset\n",
        "again (I promise, this is the last time!). However, now we're using pipelines, we can perform a different (and\n",
        "significantly faster) model-fit.\n",
        "\n",
        "The crucial point to note is that for many lenses the lens `Galaxy`'s light can be fitted and subtracted reasonably \n",
        "well before we attempt to fit the source galaxy. This makes sense, as fitting the lens`s light (which is an elliptical \n",
        "blob of light in the centre of the imaging) looks nothing like the source's light (which is a ring of light)! Formally,\n",
        "we would say that these two model components (the lens`s light and source's light) are not covariant.\n",
        "\n",
        "So, as a newly trained lens modeler, what does the lack of covariance between these parameters make you think?\n",
        "Hopefully, you're thinking, why should I bother fitting the lens and source galaxy simultaneously? Surely we can\n",
        "find the right regions of non-linear parameter space by fitting each separately first? This is what we're going to do\n",
        "in this tutorial, using a pipeline composed of a modest 3 phases:\n",
        "\n",
        " 1) Fit the lens `Galaxy`'s light, ignoring the source.\n",
        " 2) Fit the source-`Galaxy`'s light (and therefore lens `Galaxy`'s mass), ignoring the len`s light.\n",
        " 3) Fit both simultaneously, using these results to initialize our starting location in parameter space.\n",
        "\n",
        "Of course, given that we do not care for the errors in phases 1 and 2, we will set up our `NonLinearSearch` to perform\n",
        "sampling as fast as possible!"
      ]
    },
    {
      "cell_type": "code",
      "metadata": {},
      "source": [
        "%matplotlib inline\n",
        "\n",
        "from pyprojroot import here\n",
        "\n",
        "workspace_path = str(here())\n",
        "%cd $workspace_path\n",
        "print(f\"Working Directory has been set to `{workspace_path}`\")\n",
        "\n",
        "from os import path\n",
        "import autolens as al\n",
        "import autolens.plot as aplt"
      ],
      "outputs": [],
      "execution_count": null
    },
    {
      "cell_type": "markdown",
      "metadata": {},
      "source": [
        "we'll use strong lensing data, where:\n",
        "\n",
        " - The lens `Galaxy`'s `LightProfile` is an `EllipticalSersic`.\n",
        " - The lens `Galaxy`'s total mass distribution is an `EllipticalIsothermal`.\n",
        " - The source `Galaxy`'s `LightProfile` is an `EllipticalExponential`."
      ]
    },
    {
      "cell_type": "code",
      "metadata": {},
      "source": [
        "dataset_name = \"light_sersic__mass_sie__source_exp\"\n",
        "dataset_path = path.join(\"dataset\", \"howtolens\", \"chapter_3\", dataset_name)\n",
        "\n",
        "imaging = al.Imaging.from_fits(\n",
        "    image_path=path.join(dataset_path, \"image.fits\"),\n",
        "    noise_map_path=path.join(dataset_path, \"noise_map.fits\"),\n",
        "    psf_path=path.join(dataset_path, \"psf.fits\"),\n",
        "    pixel_scales=0.1,\n",
        ")"
      ],
      "outputs": [],
      "execution_count": null
    },
    {
      "cell_type": "markdown",
      "metadata": {},
      "source": [
        "We need to choose our mask for the analysis. Given the lens light is present in the image we'll need to include all \n",
        "of its light in the central regions of the image, so lets use a circular mask."
      ]
    },
    {
      "cell_type": "code",
      "metadata": {},
      "source": [
        "mask = al.Mask2D.circular(\n",
        "    shape_2d=imaging.shape_2d, pixel_scales=imaging.pixel_scales, radius=3.0\n",
        ")\n",
        "\n",
        "aplt.Imaging.subplot_imaging(imaging=imaging, mask=mask)"
      ],
      "outputs": [],
      "execution_count": null
    },
    {
      "cell_type": "markdown",
      "metadata": {},
      "source": [
        "__Settings__\n",
        "\n",
        "The `SettingsPhaseImaging` describe how the model is fitted to the data in the log likelihood function. We discussed\n",
        "these in chapter 2, and a full description of all settings can be found in the example script:\n",
        "\n",
        " `autolens_workspace/examples/model/customize/settings.py`.\n",
        "\n",
        "The settings chosen here are applied to all phases in the pipeline."
      ]
    },
    {
      "cell_type": "code",
      "metadata": {},
      "source": [
        "settings_masked_imaging = al.SettingsMaskedImaging(grid_class=al.Grid, sub_size=2)\n",
        "\n",
        "settings = al.SettingsPhaseImaging(settings_masked_imaging=settings_masked_imaging)"
      ],
      "outputs": [],
      "execution_count": null
    },
    {
      "cell_type": "markdown",
      "metadata": {},
      "source": [
        "__Pipeline Creation__\n",
        "\n",
        "To create a `Pipeline`, we call a `make_pipeline` function, which is written in its own Python script: \n",
        "\n",
        " `pipelines/tutorial_1_pipeline_lens_and_source.py`. \n",
        "    \n",
        "Before we check it out, lets get the pipeline running, by importing the script, running the `make_pipeline` function\n",
        "to create the `Pipeline` object and calling that objects `run` function."
      ]
    },
    {
      "cell_type": "code",
      "metadata": {},
      "source": [
        "from pipelines import tutorial_1_pipeline_lens_and_source\n",
        "\n",
        "pipeline_lens_and_source = tutorial_1_pipeline_lens_and_source.make_pipeline(\n",
        "    path_prefix=path.join(\"howtolens\", \"c3_t1_lens_and_source\"),\n",
        "    settings=settings,\n",
        "    redshift_lens=0.5,\n",
        "    redshift_source=1.0,\n",
        ")\n",
        "\n",
        "# Uncomment to run.\n",
        "# pipeline_lens_and_source.run(dataset=imaging, mask=mask)"
      ],
      "outputs": [],
      "execution_count": null
    },
    {
      "cell_type": "markdown",
      "metadata": {},
      "source": [
        "Okay, good job, we're running our first pipeline in **PyAutoLens**! But what does it *actually* do? Well, to find \n",
        "that out, go to the script `pipelines/tutorial_1_pipeline_lens_and_source.py`, which contains a full description of \n",
        "the pipeline, as well as an overview of the tools we use to write the most general pipelines possible. Once you're \n",
        "done, come back to this pipeline runner script and we'll wrap up tutorial 1."
      ]
    },
    {
      "cell_type": "markdown",
      "metadata": {},
      "source": [
        "And there we have it, a pipeline that breaks the analysis of the lens and source galaxy into 3 simple phases. This \n",
        "approach is much faster than fitting the lens and source simultaneously from the beginning. Instead of asking you \n",
        "questions at the end of this chapter`s tutorials, I'm gonna give a Q&A - this`ll hopefully get you thinking about how \n",
        "to approach pipeline writing.\n",
        "\n",
        " 1) Can this pipeline really be generalized to any lens? Surely the radii of the mask depends on the lens and source \n",
        " galaxies?\n",
        "\n",
        "Whilst this is true, we've chosen a mask radii above that is `excessive` and masks out a lot more of the image than \n",
        "just the source (which, in terms of run-time, is desirable). Thus, provided you know the Einstein radius distribution \n",
        "of your lens sample, you can choose mask radii that will masks out every source in your sample adequately (and even if \n",
        "some of the source is still there, who cares? The fit to the lens galaxy will be okay)."
      ]
    }
  ],
  "metadata": {
    "anaconda-cloud": {},
    "kernelspec": {
      "display_name": "Python 3",
      "language": "python",
      "name": "python3"
    },
    "language_info": {
      "codemirror_mode": {
        "name": "ipython",
        "version": 3
      },
      "file_extension": ".py",
      "mimetype": "text/x-python",
      "name": "python",
      "nbconvert_exporter": "python",
      "pygments_lexer": "ipython3",
      "version": "3.6.1"
    }
  },
  "nbformat": 4,
  "nbformat_minor": 4
}