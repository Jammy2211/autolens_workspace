{
  "cells": [
    {
      "cell_type": "markdown",
      "metadata": {},
      "source": [
        "__Pipeline 1__\n",
        "\n",
        "Welcome to your first pipeline runner, which we'll use to run the tutorial 1 pipeline. \n",
        "\n",
        "In PyAutoLens, every pipeline is a standalone function which 'makes' a pipeline. We then pass data to this\n",
        "pipeline and run it. This keeps our pipelines and data separate, which is good practise, as it it encourages us to\n",
        "write pipelines that generalize to as many lenses as possible!\n",
        "\n",
        "So, lets begin by discussing the pipeline in this tutorial, which fits the lens and source galaxy of a strong lens.\n",
        "\n",
        "In chapter 2, we fitted a strong lens which included the contribution of light from the lens galaxy. We're going to\n",
        "fit this lens again (I promise, this is the last time!). However, now we're using pipelines, we can perform a\n",
        "completely different (and significantly faster) analysis.\n",
        "\n",
        "Load up the PDFs from the previous tutorial -\n",
        "'howtolens/chapter_2_lens_modeling/output/t5_linking_phase_2/image/pdf_triangle.png'.\n",
        "\n",
        "This is a big triangle. As we fit models using more and more parameters, its only going to get bigger!\n",
        "\n",
        "As usual, you should notice some clear degeneracies between:\n",
        "\n",
        "1) The size (effective_radius, R_l) and intensity (intensity, I_l) of the light profiles.\n",
        "2) The mass normalization (einstein_radius, /Theta_m) and ellipticity (axis_ratio, q_m) of mass profiles.\n",
        "\n",
        "This isn't surprising. You can produce similar looking galaxies by trading out intensity for size, and you can\n",
        "produce similar mass distributions by compensating for a loss in lens mass by making it a bit less elliptical.\n",
        "\n",
        "What do you notice about the contours between the lens galaxy's light-profile and its mass-profile / the source\n",
        "galaxy's light profile? Look again.\n",
        "\n",
        "That's right - they're not degenerate. The covariance between these sets of parameters is minimal. Again, this makes\n",
        "sense - why would fitting the lens's light (which is an elliptical blob of light) be degenerate with fitting the\n",
        "source's light (which is a ring of light)? They look nothing like one another!\n",
        "\n",
        "So, as a newly trained lens modeler, what does the lack of covariance between these parameters make you think?\n",
        "Hopefully, you're thinking, why should I bother fitting the lens and source galaxy simultaneously? Surely we can\n",
        "find the right regions of non-linear parameter space by fitting each separately first? This is what we're going to do\n",
        "in this tutorial, using a pipeline composed of a modest 3 phases:\n",
        "\n",
        "Phase 1) Fit the lens galaxy's light, ignoring the source.\n",
        "\n",
        "Phase 2) Fit the source galaxy's light, ignoring the lens.\n",
        "\n",
        "Phase 3) Fit both simultaneously, using these results to initialize our starting location in parameter space.\n",
        "\n",
        "__RUNNER FORMAT__\n",
        "\n",
        "A runner begins by setting up PyAutoFit, in particular the paths to the workspace, config files and where output\n",
        "is stored. It is then followed by the setup of PyAutoLens, in particular where data is stored and loaded.\n",
        "\n",
        "From here on, we'll use the configs in the 'autolens_workspace/config' folder, which are the default configs used by\n",
        "all pipelines (e.g. not just this tutorial, but when you model your own images and lenses!).\n",
        "\n",
        "We'll also put the output in 'autolens_workspace/output', which is where output goes for an analysis."
      ]
    },
    {
      "cell_type": "code",
      "metadata": {},
      "source": [
        "import os\n",
        "\n",
        "### AUTOFIT + CONFIG SETUP ###\n",
        "\n",
        "import autofit as af"
      ],
      "outputs": [],
      "execution_count": null
    },
    {
      "cell_type": "markdown",
      "metadata": {},
      "source": [
        "Setup the path to the workspace, using by filling in your path below."
      ]
    },
    {
      "cell_type": "code",
      "metadata": {},
      "source": [
        "workspace_path = \"/path/to/user/autolens_workspace/\"\n",
        "workspace_path = \"/home/jammy/PycharmProjects/PyAuto/autolens_workspace/\""
      ],
      "outputs": [],
      "execution_count": null
    },
    {
      "cell_type": "markdown",
      "metadata": {},
      "source": [
        "Setup the path to the config folder, using the workspace path."
      ]
    },
    {
      "cell_type": "code",
      "metadata": {},
      "source": [
        "config_path = workspace_path + \"config\""
      ],
      "outputs": [],
      "execution_count": null
    },
    {
      "cell_type": "markdown",
      "metadata": {},
      "source": [
        "Use this path to explicitly set the config path and output path."
      ]
    },
    {
      "cell_type": "code",
      "metadata": {},
      "source": [
        "af.conf.instance = af.conf.Config(\n",
        "    config_path=config_path, output_path=workspace_path + \"output\"\n",
        ")"
      ],
      "outputs": [],
      "execution_count": null
    },
    {
      "cell_type": "code",
      "metadata": {},
      "source": [
        "%matplotlib inline\n",
        "\n",
        "### AUTOLENS + DATA SETUP ###\n",
        "\n",
        "import autolens as al\n",
        "import autolens.plot as aplt"
      ],
      "outputs": [],
      "execution_count": null
    },
    {
      "cell_type": "markdown",
      "metadata": {},
      "source": [
        "The same simulate function we used in chapter 2."
      ]
    },
    {
      "cell_type": "code",
      "metadata": {},
      "source": [
        "def simulate():\n",
        "\n",
        "    grid = al.Grid.uniform(shape_2d=(130, 130), pixel_scales=0.1, sub_size=1)\n",
        "\n",
        "    psf = al.Kernel.from_gaussian(shape_2d=(11, 11), sigma=0.1, pixel_scales=0.1)\n",
        "\n",
        "    lens_galaxy = al.Galaxy(\n",
        "        redshift=0.5,\n",
        "        light=al.lp.EllipticalSersic(\n",
        "            centre=(0.0, 0.0),\n",
        "            axis_ratio=0.9,\n",
        "            phi=45.0,\n",
        "            intensity=0.04,\n",
        "            effective_radius=0.5,\n",
        "            sersic_index=3.5,\n",
        "        ),\n",
        "        mass=al.mp.EllipticalIsothermal(\n",
        "            centre=(0.0, 0.0), axis_ratio=0.9, phi=45.0, einstein_radius=1.0\n",
        "        ),\n",
        "        shear=al.mp.ExternalShear(magnitude=0.05, phi=90.0),\n",
        "    )\n",
        "\n",
        "    source_galaxy = al.Galaxy(\n",
        "        redshift=1.0,\n",
        "        light=al.lp.SphericalExponential(\n",
        "            centre=(0.0, 0.0), intensity=0.2, effective_radius=0.2\n",
        "        ),\n",
        "    )\n",
        "\n",
        "    tracer = al.Tracer.from_galaxies(galaxies=[lens_galaxy, source_galaxy])\n",
        "\n",
        "    simulator = al.SimulatorImaging(\n",
        "        exposure_time_map=al.Array.full(fill_value=300.0, shape_2d=grid.shape_2d),\n",
        "        psf=psf,\n",
        "        background_sky_map=al.Array.full(fill_value=0.1, shape_2d=grid.shape_2d),\n",
        "        add_noise=True,\n",
        "    )\n",
        "\n",
        "    return simulator.from_tracer_and_grid(tracer=tracer, grid=grid)\n"
      ],
      "outputs": [],
      "execution_count": null
    },
    {
      "cell_type": "markdown",
      "metadata": {},
      "source": [
        "Now lets Simulate the Imaging data which we'll fit using the pipeline."
      ]
    },
    {
      "cell_type": "code",
      "metadata": {},
      "source": [
        "imaging = simulate()"
      ],
      "outputs": [],
      "execution_count": null
    },
    {
      "cell_type": "markdown",
      "metadata": {},
      "source": [
        "We need to choose our mask for the analysis. Given the lens light is present in the image we'll need to include all \n",
        "of its light in the central regions of the image, so lets use a circular mask."
      ]
    },
    {
      "cell_type": "code",
      "metadata": {},
      "source": [
        "mask = al.Mask.circular(\n",
        "    shape_2d=imaging.shape_2d, pixel_scales=imaging.pixel_scales, radius=3.0\n",
        ")\n",
        "\n",
        "aplt.Imaging.subplot_imaging(imaging=imaging, mask=mask)"
      ],
      "outputs": [],
      "execution_count": null
    },
    {
      "cell_type": "markdown",
      "metadata": {},
      "source": [
        "To make a pipeline, we call one long function which is written in its own Python module, \n",
        "'_tutorial_1_pipeline_lens__source.py_'. Before we check it out, lets get the pipeline running. To do this, we import \n",
        "the module and run its 'make_pipeline' function.\n",
        "\n",
        "When we run the make_pipeline function, we specify a'phase_folders' which structure the way our output is stored - \n",
        "for this pipeline this will output the data as: 'autolens_workspace/output/howtolens/c3_t1_lens__source/pipeline_name' \n",
        "(the pipeline name is specified in the pipeline)."
      ]
    },
    {
      "cell_type": "code",
      "metadata": {},
      "source": [
        "from howtolens.chapter_3_pipelines import tutorial_1_pipeline_lens_and_source\n",
        "\n",
        "pipeline_lens_and_source = tutorial_1_pipeline_lens_and_source.make_pipeline(\n",
        "    phase_folders=[\"howtolens\", \"c3_t1_lens_and_source\"]\n",
        ")"
      ],
      "outputs": [],
      "execution_count": null
    },
    {
      "cell_type": "markdown",
      "metadata": {},
      "source": [
        "To run a pipeline, we simply use its 'run' function, passing it the data we want to run the pipeline on. Simple, huh?"
      ]
    },
    {
      "cell_type": "code",
      "metadata": {},
      "source": [
        "pipeline_lens_and_source.run(dataset=imaging, mask=mask)"
      ],
      "outputs": [],
      "execution_count": null
    },
    {
      "cell_type": "markdown",
      "metadata": {},
      "source": [
        "Okay, good job, we're running our first pipeline in PyAutoLens! But what does it *actually* do? Well, to find that out, \n",
        "go to the script '_tutorial_1_pipeline_lens_and_source.py_', which contains a full description of the pipeline, as well \n",
        "as an overview of the tools we use to write the most general pipelines possible. Once you're done, come back to this \n",
        "pipeline runner script and we'll wrap up tutorial 1."
      ]
    },
    {
      "cell_type": "markdown",
      "metadata": {},
      "source": [
        "And there we have it, a pipeline that breaks the analysis of the lens and source galaxy into 3 simple phases. This \n",
        "approach is much faster than fitting the lens and source simultaneously from the beginning. Instead of asking you \n",
        "questions at the end of this chapter's tutorials, I'm gonna give a Q&A - this'll hopefully get you thinking about how \n",
        "to approach pipeline writing.\n",
        "\n",
        "1) Can this pipeline really be generalized to any lens? Surely the radii of the mask depends on the lens and source \n",
        "galaxies?\n",
        "\n",
        "Whilst this is true, we've chosen a mask radii above that is 'excessive' and masks out a lot more of the image than \n",
        "just the source (which, in terms of run-time, is desirable). Thus, provided you know the Einstein radius distribution \n",
        "of your lens sample, you can choose mask radii that will masks out every source in your sample adequately (and even if \n",
        "some of the source is still there, who cares? The fit to the lens galaxy will be okay)."
      ]
    },
    {
      "cell_type": "code",
      "metadata": {},
      "source": [],
      "outputs": [],
      "execution_count": null
    },
    {
      "cell_type": "code",
      "metadata": {},
      "source": [],
      "outputs": [],
      "execution_count": null
    }
  ],
  "metadata": {
    "anaconda-cloud": {},
    "kernelspec": {
      "display_name": "Python 3",
      "language": "python",
      "name": "python3"
    },
    "language_info": {
      "codemirror_mode": {
        "name": "ipython",
        "version": 3
      },
      "file_extension": ".py",
      "mimetype": "text/x-python",
      "name": "python",
      "nbconvert_exporter": "python",
      "pygments_lexer": "ipython3",
      "version": "3.6.1"
    }
  },
  "nbformat": 4,
  "nbformat_minor": 1
}