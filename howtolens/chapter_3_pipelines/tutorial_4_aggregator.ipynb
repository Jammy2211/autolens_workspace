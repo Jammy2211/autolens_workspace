{
  "cells": [
    {
      "cell_type": "markdown",
      "metadata": {},
      "source": [
        "__Aggregator__\n",
        "\n",
        "Once a pipeline has completed running, we have a set of results on our hard disk we manually inspect and analyse.\n",
        "If our dataset is large (e.g. images of many strong lenses) we will most likely run the same pipeline on the full\n",
        "sample, creating many folders on our hard disk. We'll quickly have too many results for it to be feasible to inspect\n",
        "and analsye results by sifting through the hard disk.\n",
        "\n",
        "PyAutoFit's aggregator tool allows us to load results in a Python script of Jupyter notebook. All we have to do is\n",
        "point the aggregator to the output directory from which we want to load results, which in this case will be the\n",
        "results of the first pipeline of this chapter."
      ]
    },
    {
      "cell_type": "code",
      "metadata": {},
      "source": [
        "from autoconf import conf\n",
        "import autofit as af"
      ],
      "outputs": [],
      "execution_count": null
    },
    {
      "cell_type": "markdown",
      "metadata": {},
      "source": [
        "Setup the path to the autolens_workspace, using by filling in your path below."
      ]
    },
    {
      "cell_type": "code",
      "metadata": {},
      "source": [
        "workspace_path = \"/path/to/user/autolens_workspace\"\n",
        "workspace_path = \"/home/jammy/PycharmProjects/PyAuto/autolens_workspace\""
      ],
      "outputs": [],
      "execution_count": null
    },
    {
      "cell_type": "markdown",
      "metadata": {},
      "source": [
        "Use this path to explicitly set the config path and output path."
      ]
    },
    {
      "cell_type": "code",
      "metadata": {},
      "source": [
        "output_path = f\"{workspace_path}/output\"\n",
        "conf.instance = conf.Config(\n",
        "    config_path=f\"{workspace_path}/config\", output_path=output_path\n",
        ")"
      ],
      "outputs": [],
      "execution_count": null
    },
    {
      "cell_type": "markdown",
      "metadata": {},
      "source": [
        "To set up the aggregator we simply pass it the folder of the results we want to load."
      ]
    },
    {
      "cell_type": "code",
      "metadata": {},
      "source": [
        "aggregator = af.Aggregator(directory=str(output_path))"
      ],
      "outputs": [],
      "execution_count": null
    },
    {
      "cell_type": "markdown",
      "metadata": {},
      "source": [
        "We can get the output of every non-linear search (e.g. all 3 phases) of every data-set fitted using the phase above."
      ]
    },
    {
      "cell_type": "code",
      "metadata": {},
      "source": [
        "samples = aggregator.values(\"samples\")"
      ],
      "outputs": [],
      "execution_count": null
    },
    {
      "cell_type": "markdown",
      "metadata": {},
      "source": [
        "From here, we can inspect results as we please, for example printing the most likely model of every phase."
      ]
    },
    {
      "cell_type": "code",
      "metadata": {},
      "source": [
        "print([output.max_log_likelihood_instance for output in list(samples)])"
      ],
      "outputs": [],
      "execution_count": null
    },
    {
      "cell_type": "markdown",
      "metadata": {},
      "source": [
        "And with that, we're done. So soon you ask? Surely the aggregator has a lot more that warrants discussion? You're right, \n",
        "however I don't believe it belongs in the HowToLens lectures. Only those who are looking to model large samples of \n",
        "lenses or fit many different models *need* to use the aggregator, and it is a tool that is better learnt through the \n",
        "day-to-day use of PyAutoLens.\n",
        "\n",
        "The full set of aggregator tutorials can be found at the location 'autolens_workspace/aggregator'. Here, you'll \n",
        "learn how to:\n",
        "\n",
        "- Use the aggregator to filter out results given a pipeline name or phase name.\n",
        "- Use the Samples to produce many different results from the fit, including error estimates on parameters and plots \n",
        "  of the probability density function of parameters in 1D and 2D.\n",
        "- Reproduce visualizations of results, such as a tracer's images or the fit to a lens dataset.\n",
        "\n",
        "Even if you are only modeling a small sample of lenses, if you anticipate using PyAutoLens for the long-term I \n",
        "strongly recommend you begin using the aggregator to inspect and analyse your result. This is because it means you \n",
        "can perform all analyse in a Jupyter notebook, which as you already know is a flexible and versatile way to check \n",
        "results and make figures - its a better  more efficienct`workflow' in general.\n",
        "\n",
        "In HowToLelens, the main purpose of this tutorial was to make sure that you are aware of the aggregator's exsistance, \n",
        "and now you are!"
      ]
    },
    {
      "cell_type": "code",
      "metadata": {},
      "source": [],
      "outputs": [],
      "execution_count": null
    }
  ],
  "metadata": {
    "anaconda-cloud": {},
    "kernelspec": {
      "display_name": "Python 3",
      "language": "python",
      "name": "python3"
    },
    "language_info": {
      "codemirror_mode": {
        "name": "ipython",
        "version": 3
      },
      "file_extension": ".py",
      "mimetype": "text/x-python",
      "name": "python",
      "nbconvert_exporter": "python",
      "pygments_lexer": "ipython3",
      "version": "3.6.1"
    }
  },
  "nbformat": 4,
  "nbformat_minor": 1
}