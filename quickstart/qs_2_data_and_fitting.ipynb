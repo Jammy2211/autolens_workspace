{
 "cells": [
  {
   "cell_type": "markdown",
   "metadata": {},
   "source": [
    "__Data and Fitting__\n",
    "\n",
    "Lets fit a strong lens image in PyAutoLens, using mass-profiles, light-profiles, galaxies and a tracer. First, we need some data, so lets load an example image that comes prepacked with PyAutoLens which we'll load from a fits file."
   ]
  },
  {
   "cell_type": "code",
   "execution_count": null,
   "metadata": {},
   "outputs": [],
   "source": [
    "%matplotlib inline\n",
    "\n",
    "import autolens as al\n",
    "import autolens.plot as aplt"
   ]
  },
  {
   "cell_type": "markdown",
   "metadata": {},
   "source": [
    "Change the path below to that of your workspace."
   ]
  },
  {
   "cell_type": "code",
   "execution_count": null,
   "metadata": {},
   "outputs": [],
   "source": [
    "workspace_path = \"/path/to/user/autolens_workspace/\"\n",
    "workspace_path = \"/home/jammy/PycharmProjects/PyAuto/autolens_workspace/\""
   ]
  },
  {
   "cell_type": "markdown",
   "metadata": {},
   "source": [
    "The data path specifies where the data is located and loaded from."
   ]
  },
  {
   "cell_type": "code",
   "execution_count": null,
   "metadata": {},
   "outputs": [],
   "source": [
    "dataset_path = workspace_path + \"dataset/imaging/lens_sie__source_sersic/\"\n",
    "\n",
    "imaging = al.imaging.from_fits(\n",
    "    image_path=dataset_path + \"image.fits\",\n",
    "    noise_map_path=dataset_path + \"noise_map.fits\",\n",
    "    psf_path=dataset_path + \"psf.fits\",\n",
    "    pixel_scales=0.1,\n",
    ")"
   ]
  },
  {
   "cell_type": "markdown",
   "metadata": {},
   "source": [
    "To fit the data, we need the following four things:\n",
    "\n",
    "1) The image of the strong lens.\n",
    "2) A noise-map, which weights how much each image pixels contributes to the fit.\n",
    "3) The PSF, which defines how the image is blurred during data acquisition.\n",
    "4) The pixel-scale of the image defining the arcsecond to pixel conversion."
   ]
  },
  {
   "cell_type": "code",
   "execution_count": null,
   "metadata": {},
   "outputs": [],
   "source": [
    "aplt.imaging.subplot_imaging(imaging=imaging)"
   ]
  },
  {
   "cell_type": "markdown",
   "metadata": {},
   "source": [
    "To fit an image we also specify a mask, which describes which sections of the image we fit. We mask out regions of the image where the lens and source galaxies are not visible, (e.g. the edges). For our image a 3\" circular mask is ideal and we can plot this mask over our image, as well as using it to 'extract' and 'zoom-in' on the region of interest."
   ]
  },
  {
   "cell_type": "code",
   "execution_count": null,
   "metadata": {},
   "outputs": [],
   "source": [
    "mask = al.mask.circular(\n",
    "    shape_2d=imaging.shape_2d, pixel_scales=imaging.pixel_scales, radius=3.0\n",
    ")\n",
    "\n",
    "aplt.imaging.subplot_imaging(imaging=imaging, mask=mask)"
   ]
  },
  {
   "cell_type": "markdown",
   "metadata": {},
   "source": [
    "Next, we create a 'lens data' object, which is a 'package' of all parts of a data-set we need to fit it:\n",
    "\n",
    "1) The imaging-data, e.g. the image, PSF and noise-map.\n",
    "2) The mask.\n",
    "3) A grid aligned with the image's pixels: ray-tracing uses the data's masked grid coordinates."
   ]
  },
  {
   "cell_type": "code",
   "execution_count": null,
   "metadata": {},
   "outputs": [],
   "source": [
    "masked_imaging = al.masked.imaging(imaging=imaging, mask=mask)"
   ]
  },
  {
   "cell_type": "markdown",
   "metadata": {},
   "source": [
    "We fit an image using a tracer. Below, I create a tracer with the same galaxies used to simulate the image. Our fit will therefore be 'perfect'. We use the masked_imaging's grid to setup the tracer, ensuring our ray-tracing fit is aligned with the image-data and mask."
   ]
  },
  {
   "cell_type": "code",
   "execution_count": null,
   "metadata": {},
   "outputs": [],
   "source": [
    "lens_galaxy = al.Galaxy(\n",
    "    redshift=0.5,\n",
    "    mass=al.mp.EllipticalIsothermal(\n",
    "        centre=(0.0, 0.0), einstein_radius=1.6, axis_ratio=0.7, phi=45.0\n",
    "    ),\n",
    "    shear=al.mp.ExternalShear(magnitude=0.05, phi=90.0),\n",
    ")\n",
    "\n",
    "source_galaxy = al.Galaxy(\n",
    "    redshift=1.0,\n",
    "    light=al.lp.EllipticalSersic(\n",
    "        centre=(0.1, 0.1),\n",
    "        axis_ratio=0.8,\n",
    "        phi=60.0,\n",
    "        intensity=0.3,\n",
    "        effective_radius=1.0,\n",
    "        sersic_index=2.5,\n",
    "    ),\n",
    ")\n",
    "\n",
    "tracer = al.Tracer.from_galaxies(galaxies=[lens_galaxy, source_galaxy])\n",
    "\n",
    "aplt.tracer.profile_image(tracer=tracer, grid=masked_imaging.grid)"
   ]
  },
  {
   "cell_type": "markdown",
   "metadata": {},
   "source": [
    "To fit the image, we pass the lens data and tracer to a LensDataFit object. This performs the following steps:\n",
    "\n",
    "1) Blurs the tracer image with the lens data's PSF, ensuring that the telescope optics are accounted for by the fit. This creates the fit's 'model_image'.\n",
    "2) Computes the difference between this model_image and the observed image, creating the fit's 'residual_map'.\n",
    "3) Divides the residuals by the noise-map and squares each value, creating the fit's 'chi_squared_map'.\n",
    "4) Sums up these chi-squared values and converts them to a 'likelihood', which quantifies how good the tracer's fit to the data was (higher likelihood = better fit)."
   ]
  },
  {
   "cell_type": "code",
   "execution_count": null,
   "metadata": {},
   "outputs": [],
   "source": [
    "fit = al.fit(masked_dataset=masked_imaging, tracer=tracer)\n",
    "\n",
    "aplt.fit_imaging.subplot_fit_imaging(\n",
    "    fit=fit,\n",
    "    include=aplt.Include(mask=True)\n",
    ")"
   ]
  },
  {
   "cell_type": "markdown",
   "metadata": {},
   "source": [
    "We can create a sub-plot of the fit to an individual place in the tracer, showing:\n",
    "\n",
    "1) The observed image (again).\n",
    "2) The part of the observed image that that plane's galaxies are fitting.\n",
    "3) The model image of that plane's galaxies\n",
    "4) The model galaxy in the (unlensed) source plane."
   ]
  },
  {
   "cell_type": "code",
   "execution_count": null,
   "metadata": {},
   "outputs": [],
   "source": [
    "aplt.fit_imaging.subplot_of_planes(\n",
    "    fit=fit,\n",
    "    include=aplt.Include(mask=True)\n",
    ")"
   ]
  },
  {
   "cell_type": "markdown",
   "metadata": {},
   "source": [
    "A fit also provides a likelihood, which is a single-figure estimate of how good the model image fitted the simulated image (in unmasked pixels only!)."
   ]
  },
  {
   "cell_type": "code",
   "execution_count": null,
   "metadata": {},
   "outputs": [],
   "source": [
    "print(\"Likelihood:\")\n",
    "print(fit.likelihood)"
   ]
  },
  {
   "cell_type": "markdown",
   "metadata": {},
   "source": [
    "Above, we used the same tracer to create and fit the image, giving uss a 'perfect' fit where he residuals and chi-squareds showed signs of the source galaxy's light. This solution will translate to one of the highest-likelihood solutions.\n",
    "\n",
    "Lets change the tracer so that it's near the correct solution but slightly off, by offsetting the lens galaxy by 0.02\"."
   ]
  },
  {
   "cell_type": "code",
   "execution_count": null,
   "metadata": {},
   "outputs": [],
   "source": [
    "lens_galaxy = al.Galaxy(\n",
    "    redshift=0.5,\n",
    "    mass=al.mp.EllipticalIsothermal(\n",
    "        centre=(0.02, 0.02), einstein_radius=1.6, axis_ratio=0.7, phi=45.0\n",
    "    ),\n",
    "    shear=al.mp.ExternalShear(magnitude=0.05, phi=90.0),\n",
    ")\n",
    "\n",
    "source_galaxy = al.Galaxy(\n",
    "    redshift=1.0,\n",
    "    light=al.lp.EllipticalSersic(\n",
    "        centre=(0.1, 0.1),\n",
    "        axis_ratio=0.8,\n",
    "        phi=60.0,\n",
    "        intensity=0.3,\n",
    "        effective_radius=1.0,\n",
    "        sersic_index=2.5,\n",
    "    ),\n",
    ")\n",
    "\n",
    "tracer = al.Tracer.from_galaxies(galaxies=[lens_galaxy, source_galaxy])\n",
    "\n",
    "fit = al.fit(masked_dataset=masked_imaging, tracer=tracer)\n",
    "\n",
    "aplt.fit_imaging.subplot_fit_imaging(\n",
    "    fit=fit,\n",
    "    include=aplt.Include(mask=True)\n",
    ")\n",
    "\n",
    "aplt.fit_imaging.subplot_of_planes(\n",
    "    fit=fit,\n",
    "    include=aplt.Include(mask=True)\n",
    ")"
   ]
  },
  {
   "cell_type": "markdown",
   "metadata": {},
   "source": [
    "Residuals now appear at the locations the source galaxy, producing increased chi-squareds which determine our goodness-of-fit.\n",
    "\n",
    "Lets compare the likelihood to the value we computed above (which was 11697.24):"
   ]
  },
  {
   "cell_type": "code",
   "execution_count": null,
   "metadata": {},
   "outputs": [],
   "source": [
    "print(\"Previous Likelihood:\")\n",
    "print(11697.24)\n",
    "print(\"New Likelihood:\")\n",
    "print(fit.likelihood)"
   ]
  },
  {
   "cell_type": "markdown",
   "metadata": {},
   "source": [
    "It decreases! This model was a worse fit to the data.\n",
    "\n",
    "Lens modeling in PyAutolens boils down to one simple task. Given an image of a strong lens we must find the combination of light and mass profiles that create a model image that matches the observed image. For real strong data we have no idea what these values are, and finding these values is what lens modeling is!"
   ]
  }
 ],
 "metadata": {
  "kernelspec": {
   "display_name": "Python 3",
   "language": "python",
   "name": "python3"
  },
  "language_info": {
   "codemirror_mode": {
    "name": "ipython",
    "version": 3
   },
   "file_extension": ".py",
   "mimetype": "text/x-python",
   "name": "python",
   "nbconvert_exporter": "python",
   "pygments_lexer": "ipython3",
   "version": "3.6.9"
  }
 },
 "nbformat": 4,
 "nbformat_minor": 2
}
