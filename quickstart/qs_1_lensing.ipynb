{
 "cells": [
  {
   "cell_type": "markdown",
   "metadata": {
    "collapsed": true
   },
   "source": [
    "__LENSING__"
   ]
  },
  {
   "cell_type": "code",
   "execution_count": null,
   "metadata": {},
   "outputs": [
    {
     "name": "stdout",
     "output_type": "stream",
     "text": [
      "The lab_black extension is already loaded. To reload it, use:\n  %reload_ext lab_black\n"
     ]
    }
   ],
   "source": [
    "%load_ext lab_black\n",
    "\n",
    "from autolens.plotters import grid_plotters\n",
    "from autolens.model.profiles import light_profiles as lp\n",
    "from autolens.model.profiles import mass_profiles as mp\n",
    "from autolens.model.galaxy import galaxy as g\n",
    "from autolens.lens import ray_tracing\n",
    "from autolens.model.profiles.plotters import profile_plotters\n",
    "from autolens.model.galaxy.plotters import galaxy_plotters\n",
    "from autolens.data.array import grids\n",
    "from autolens.lens.plotters import plane_plotters\n",
    "from autolens.lens.plotters import ray_tracing_plotters"
   ]
  },
  {
   "cell_type": "markdown",
   "metadata": {},
   "source": [
    "The fundamental quantity in strong lens modeling are grids of (y,x) coordinates (e.g. in arc-seconds) that are deflected and traced by the strong lensing system. Before lensing, the grid of coordinates is the 'image-plane' grid, which is a regular 2D grid.\n",
    "\n",
    "We can make an image-plane grid with PyAutoLens as below, where this grid consists of 100 x 100 coordinates and has a pixel-to-arcsecond conversion scale of 0.05\"."
   ]
  },
  {
   "cell_type": "code",
   "execution_count": null,
   "metadata": {},
   "outputs": [],
   "source": [
    "image_plane_grid = grids.Grid.from_shape_pixel_scale_and_sub_grid_size(\n",
    "    shape=(100, 100), pixel_scale=0.05, sub_grid_size=1\n",
    ")\n",
    "\n",
    "grid_plotters.plot_grid(grid=image_plane_grid, title=\"Image-Plane Uniform Grid\")"
   ]
  },
  {
   "cell_type": "markdown",
   "metadata": {},
   "source": [
    "To perform ray-tracing, we create a 'mass-profile'. A mass-profile is an analytic function that describes a distribution of mass, and therefore can be used to derive its surface-density, gravitational potential and most importantly, its deflection angles. For those unfamiliar with lensing, the deflection angles describe how light is bent by a mass-profile due to how its potential curves space-time."
   ]
  },
  {
   "cell_type": "code",
   "execution_count": null,
   "metadata": {},
   "outputs": [],
   "source": [
    "sis_mass_profile = mp.EllipticalIsothermal(\n",
    "    centre=(0.0, 0.0), axis_ratio=0.9, phi=45.0, einstein_radius=1.6\n",
    ")\n",
    "\n",
    "mass_profile_deflections = sis_mass_profile.deflections_from_grid(\n",
    "    grid=image_plane_grid, return_in_2d=False\n",
    ")"
   ]
  },
  {
   "cell_type": "markdown",
   "metadata": {},
   "source": [
    "The deflection angles describe how the grid's coordinates are traced from the image-plane (the plane we observed the lensed source in) to the source-plane (the plane where the source appears unlensed). We can subtract the deflection angles from the regular-grid to get this source-plane grid."
   ]
  },
  {
   "cell_type": "code",
   "execution_count": null,
   "metadata": {},
   "outputs": [],
   "source": [
    "source_plane_grid = image_plane_grid - mass_profile_deflections\n",
    "\n",
    "grid_plotters.plot_grid(grid=source_plane_grid, title=\"Source Plane Lensed Grid\")"
   ]
  },
  {
   "cell_type": "markdown",
   "metadata": {},
   "source": [
    "Now that we can use mass profiles to map between grids, we can use them to 'trace' light-rays through our model strong lens systems. light-profiles work just like mass profiles, in that we set them up using some analytic profile (an elliptical Sersic below) and pass them grids to perform calculations.\n",
    "\n",
    "Below, we evaluate and plot our Sersic light profile on the regular and lensed grid, which shows how the galaxy's light is changed by the mass profile above."
   ]
  },
  {
   "cell_type": "code",
   "execution_count": null,
   "metadata": {},
   "outputs": [],
   "source": [
    "sersic_light_profile = lp.EllipticalSersic(\n",
    "    centre=(0.0, 0.0),\n",
    "    axis_ratio=0.8,\n",
    "    phi=45.0,\n",
    "    intensity=1.0,\n",
    "    effective_radius=1.0,\n",
    "    sersic_index=2.5,\n",
    ")\n",
    "\n",
    "profile_plotters.plot_intensities(\n",
    "    light_profile=sersic_light_profile,\n",
    "    grid=image_plane_grid,\n",
    "    title=\"Image-Plane Sersic Profile Image\",\n",
    ")\n",
    "\n",
    "profile_plotters.plot_intensities(\n",
    "    light_profile=sersic_light_profile,\n",
    "    grid=source_plane_grid,\n",
    "    title=\"Lensed Source-Plane Sersic Profile Image\",\n",
    ")"
   ]
  },
  {
   "cell_type": "markdown",
   "metadata": {},
   "source": [
    "To perform lensing, we make 'Galaxies' from light and mass profiles, where:\n",
    "\n",
    "1) Galaxies can be made from multiple light-profiles and mass-profiles.\n",
    "2) By taking multiple components, the summed intensities / deflection angles of the profiles are computed.\n",
    "3) Galaxies have redshifts, defining where they are relative to one another in lensing calculations.\n",
    "\n",
    "Below we make a galaxy from light and mass profiles, and use this to plot some of its quantities."
   ]
  },
  {
   "cell_type": "code",
   "execution_count": null,
   "metadata": {},
   "outputs": [],
   "source": [
    "light_profile_1 = lp.SphericalExponential(\n",
    "    centre=(0.0, 0.0), intensity=1.0, effective_radius=1.0\n",
    ")\n",
    "\n",
    "light_profile_2 = lp.SphericalSersic(\n",
    "    centre=(0.0, 0.0), intensity=1.0, effective_radius=2.0, sersic_index=3.0\n",
    ")\n",
    "\n",
    "mass_profile_1 = mp.SphericalIsothermal(centre=(0.0, 0.0), einstein_radius=0.3)\n",
    "\n",
    "mass_profile_2 = mp.EllipticalIsothermal(\n",
    "    centre=(0.0, 0.0), axis_ratio=0.8, phi=45.0, einstein_radius=1.0\n",
    ")\n",
    "\n",
    "galaxy = g.Galaxy(\n",
    "    redshift=0.5,\n",
    "    light_1=light_profile_1,\n",
    "    light_2=light_profile_2,\n",
    "    mass_1=mass_profile_1,\n",
    "    mass_2=mass_profile_2,\n",
    ")\n",
    "\n",
    "galaxy_plotters.plot_intensities(galaxy=galaxy, grid=image_plane_grid)\n",
    "galaxy_plotters.plot_deflections_y(galaxy=galaxy, grid=image_plane_grid)\n",
    "galaxy_plotters.plot_deflections_x(galaxy=galaxy, grid=image_plane_grid)"
   ]
  },
  {
   "cell_type": "markdown",
   "metadata": {},
   "source": [
    "To perform lensing, all we need are multiple galaxies at different redshifts. For a 2-plane strong lens system, we have a ray-tracing scenario like the one shown below:"
   ]
  },
  {
   "cell_type": "code",
   "execution_count": 8,
   "metadata": {},
   "outputs": [],
   "source": [
    "#  Observer                  Image-Plane               Source-Plane\n",
    "#  (z=0, Earth)               (z = 0.5)                (z = 1.0)\n",
    "#\n",
    "#           ----------------------------------------------\n",
    "#          /                                              \\ <---- This is one of the source's light-rays\n",
    "#         /                      __                       \\\n",
    "#    o   /                      /  \\                      __\n",
    "#    |  /                      /   \\                     /  \\\n",
    "#   /\\  \\                      \\   /                     \\__/\n",
    "#        \\                     \\__/                 Source Galaxy (s)\n",
    "#         \\                Lens Galaxy(s)                /\n",
    "#           \\                                           / <----- And this is its other light-ray\n",
    "#            ------------------------------------------/"
   ]
  },
  {
   "cell_type": "markdown",
   "metadata": {},
   "source": [
    "We can pass galaxies into the 'ray_tracing' module in PyAutoLens to create the strong lens system above. You'll note below that we first create a 'grid-stack' - this object contains our regular grid above but also other types of grids that perform ray tracing calculations at different levels of accuracy and precision."
   ]
  },
  {
   "cell_type": "code",
   "execution_count": null,
   "metadata": {},
   "outputs": [],
   "source": [
    "image_plane_grid_stack = grids.GridStack.from_shape_pixel_scale_and_sub_grid_size(\n",
    "    shape=(100, 100), pixel_scale=0.05, sub_grid_size=2\n",
    ")\n",
    "\n",
    "lens_galaxy = g.Galaxy(\n",
    "    redshift=0.5, mass=mp.SphericalIsothermal(centre=(0.0, 0.0), einstein_radius=1.6)\n",
    ")\n",
    "\n",
    "source_galaxy = g.Galaxy(\n",
    "    redshift=1.0,\n",
    "    light=lp.SphericalSersic(\n",
    "        centre=(0.0, 0.0), intensity=1.0, effective_radius=1.0, sersic_index=1.0\n",
    "    ),\n",
    ")\n",
    "\n",
    "tracer = ray_tracing.TracerImageSourcePlanes(\n",
    "    lens_galaxies=[lens_galaxy],\n",
    "    source_galaxies=[source_galaxy],\n",
    "    image_plane_grid_stack=image_plane_grid_stack,\n",
    ")\n",
    "\n",
    "ray_tracing_plotters.plot_ray_tracing_subplot(tracer=tracer)"
   ]
  },
  {
   "cell_type": "markdown",
   "metadata": {},
   "source": [
    "The ray-tracing module actually uses the redshifts of the input galaxies to setup the strong lens system above. It does this on a plane-by-plane basis, and thus for the input above using two galaxies, creates two planes, an image-plane and source-plane."
   ]
  },
  {
   "cell_type": "code",
   "execution_count": null,
   "metadata": {},
   "outputs": [],
   "source": [
    "plane_plotters.plot_plane_grid(plane=tracer.image_plane, title=\"Image-plane Grid\")\n",
    "\n",
    "plane_plotters.plot_plane_grid(plane=tracer.source_plane, title=\"Source-plane Grid\")"
   ]
  },
  {
   "cell_type": "markdown",
   "metadata": {},
   "source": [
    "And this completes the first section of the quick-start tutorial. Hopefully you'll agree that performing ray-tracing calculations in PyAutoLens is really straight-forward! Before continuing, I'd advise you do the following to the tracer above:\n",
    "\n",
    "- Change the lens galaxy mass profile to an EllipticalIsothermal - what happens?\n",
    "- Add more lens and source galaxies to the tracer.\n",
    "- Change the resolution (pixel-scale) of the image-plane grid stack."
   ]
  },
  {
   "cell_type": "code",
   "execution_count": null,
   "metadata": {},
   "outputs": [],
   "source": []
  }
 ],
 "metadata": {
  "kernelspec": {
   "display_name": "Python 2",
   "language": "python",
   "name": "python2"
  },
  "language_info": {
   "codemirror_mode": {
    "name": "ipython",
    "version": 2
   },
   "file_extension": ".py",
   "mimetype": "text/x-python",
   "name": "python",
   "nbconvert_exporter": "python",
   "pygments_lexer": "ipython2",
   "version": "2.7.6"
  }
 },
 "nbformat": 4,
 "nbformat_minor": 0
}
