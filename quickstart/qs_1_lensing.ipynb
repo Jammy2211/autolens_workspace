{
  "cells": [
    {
      "cell_type": "markdown",
      "metadata": {},
      "source": [
        "__Config Issues__"
      ]
    },
    {
      "cell_type": "markdown",
      "metadata": {},
      "source": [
        "If, when running the first notebook, you get an error related to config files. For example, it may state that the \n",
        "label 'numba' could not be found in a config file, or something else related to configs, this means that you have not \n",
        "set up your WORKSPACE path correctly to point to the folder autolens_workspace/config. To fix this, you can manually \n",
        "add the config path to each notebook, by uncommenting and using the following code:"
      ]
    },
    {
      "cell_type": "code",
      "metadata": {},
      "source": [
        "# import autofit as af\n",
        "#\n",
        "# workspace_path = \"/path/to/user/autolens_workspace/\"\n",
        "#\n",
        "# af.conf.instance = af.conf.Config(\n",
        "#     config_path=workspace_path + \"config/\",\n",
        "#     output_path=workspace_path + \"output/\",\n",
        "# )"
      ],
      "outputs": [],
      "execution_count": null
    },
    {
      "cell_type": "markdown",
      "metadata": {},
      "source": [
        "__LENSING__\n",
        "\n",
        "To begin, lets import autolens."
      ]
    },
    {
      "cell_type": "code",
      "metadata": {},
      "source": [
        "%matplotlib inline\n",
        "\n",
        "import autolens as al\n",
        "import autolens.plot as aplt"
      ],
      "outputs": [],
      "execution_count": null
    },
    {
      "cell_type": "markdown",
      "metadata": {},
      "source": [
        "Strong lens modeling uses grids of (y,x) coordinates (e.g. in arc-seconds) to trace light-rays that are deflected by \n",
        "a strong lens galaxy. Before light is deflected, the grid of coordinates is the 'image-plane' grid.\n",
        "\n",
        "To begin, we make an image-plane grid with PyAutoLens. The grid below grid consists of 100 x 100 coordinates and has \n",
        "a pixel-to-arcsecond conversion scale of 0.05\"."
      ]
    },
    {
      "cell_type": "code",
      "metadata": {},
      "source": [
        "grid = al.Grid.uniform(shape_2d=(100, 100), pixel_scales=0.05, sub_size=1)\n",
        "\n",
        "aplt.Grid(\n",
        "    grid=grid,\n",
        "    plotter=aplt.Plotter(labels=aplt.Labels(title=\"Image-Plane Uniform Grid\")),\n",
        ")"
      ],
      "outputs": [],
      "execution_count": null
    },
    {
      "cell_type": "markdown",
      "metadata": {},
      "source": [
        "To perform ray-tracing, we create a 'mass-profile'. A mass-profile is an analytic function that describes a \n",
        "distribution of mass and is used to derive its convergence, gravitational potential and most importantly its \n",
        "deflection angles, which describe how light is bent due to the mass-profile's curvature of space-time."
      ]
    },
    {
      "cell_type": "code",
      "metadata": {},
      "source": [
        "sis_mass_profile = al.mp.EllipticalIsothermal(\n",
        "    centre=(0.0, 0.0), axis_ratio=0.9, phi=45.0, einstein_radius=1.6\n",
        ")\n",
        "\n",
        "mass_profile_deflections = sis_mass_profile.deflections_from_grid(grid=grid)"
      ],
      "outputs": [],
      "execution_count": null
    },
    {
      "cell_type": "markdown",
      "metadata": {},
      "source": [
        "The deflection angles trace the (y,x) grid from the image-plane to the source-plane (where the source appears unlensed). \n",
        "We can subtract the deflection angles from the image-plane grid to get the source-plane grid."
      ]
    },
    {
      "cell_type": "code",
      "metadata": {},
      "source": [
        "source_plane_grid = grid - mass_profile_deflections\n",
        "\n",
        "aplt.Grid(\n",
        "    grid=source_plane_grid,\n",
        "    plotter=aplt.Plotter(labels=aplt.Labels(title=\"Source Plane Lensed Grid\")),\n",
        ")"
      ],
      "outputs": [],
      "execution_count": null
    },
    {
      "cell_type": "markdown",
      "metadata": {},
      "source": [
        "We use mass profiles to map between grids and therefore 'trace' light-rays through a strong lens system. Light profiles \n",
        "represent the light using analytic profiles (e.g. a Sersic function).\n",
        "\n",
        "Below, we evaluate and plot a Sersic light profile on the image-plane grid and lensed source-plane grid. This shows \n",
        "how the galaxy's light is deflected by the mass profile above."
      ]
    },
    {
      "cell_type": "code",
      "metadata": {},
      "source": [
        "sersic_light_profile = al.lp.EllipticalSersic(\n",
        "    centre=(0.0, 0.0),\n",
        "    axis_ratio=0.8,\n",
        "    phi=45.0,\n",
        "    intensity=1.0,\n",
        "    effective_radius=1.0,\n",
        "    sersic_index=2.5,\n",
        ")\n",
        "\n",
        "aplt.LightProfile.profile_image(\n",
        "    light_profile=sersic_light_profile,\n",
        "    grid=grid,\n",
        "    plotter=aplt.Plotter(labels=aplt.Labels(title=\"Image-Plane Sersic Profile Image\")),\n",
        ")\n",
        "\n",
        "aplt.LightProfile.profile_image(\n",
        "    light_profile=sersic_light_profile,\n",
        "    grid=source_plane_grid,\n",
        "    plotter=aplt.Plotter(\n",
        "        labels=aplt.Labels(title=\"Lensed Source-Plane Sersic Profile Image\")\n",
        "    ),\n",
        ")"
      ],
      "outputs": [],
      "execution_count": null
    },
    {
      "cell_type": "markdown",
      "metadata": {},
      "source": [
        "We make 'Galaxy' objects from light and mass profiles to perform lensing calculations, where:\n",
        "\n",
        "1) Galaxies are made from multiple light-profiles and / or mass-profiles.\n",
        "2) Quantities like a galaxy's image and deflection angles are computed by summing those of its individual profiles.\n",
        "3) Galaxies have redshifts, defining where they are relative to one another for ray-tracing.\n",
        "\n",
        "Below we make a galaxy from light and mass profiles and use this to plot some of its quantities."
      ]
    },
    {
      "cell_type": "code",
      "metadata": {},
      "source": [
        "light_profile_0 = al.lp.SphericalExponential(\n",
        "    centre=(0.0, 0.0), intensity=1.0, effective_radius=1.0\n",
        ")\n",
        "\n",
        "light_profile_1 = al.lp.SphericalSersic(\n",
        "    centre=(0.0, 0.0), intensity=1.0, effective_radius=2.0, sersic_index=3.0\n",
        ")\n",
        "\n",
        "mass_profile_0 = al.mp.SphericalIsothermal(centre=(0.0, 0.0), einstein_radius=0.3)\n",
        "\n",
        "mass_profile_1 = al.mp.EllipticalIsothermal(\n",
        "    centre=(0.0, 0.0), axis_ratio=0.8, phi=45.0, einstein_radius=1.0\n",
        ")\n",
        "\n",
        "galaxy = al.Galaxy(\n",
        "    redshift=0.5,\n",
        "    light_profile_0=light_profile_0,\n",
        "    light_profile_1=light_profile_1,\n",
        "    mass_profile_0=mass_profile_0,\n",
        "    mass_profile_1=mass_profile_1,\n",
        ")\n",
        "\n",
        "aplt.Galaxy.profile_image(galaxy=galaxy, grid=grid)\n",
        "aplt.Galaxy.deflections_y(galaxy=galaxy, grid=grid)\n",
        "aplt.Galaxy.deflections_x(galaxy=galaxy, grid=grid)"
      ],
      "outputs": [],
      "execution_count": null
    },
    {
      "cell_type": "markdown",
      "metadata": {},
      "source": [
        "To perform ray-tracing we create multiple galaxies at different redshifts. Lets setup the 2-plane strong lens system \n",
        "below:"
      ]
    },
    {
      "cell_type": "code",
      "metadata": {},
      "source": [
        "#  Observer                  Image-Plane               Source-Plane\n",
        "#  (z=0, Earth)               (z = 0.5)                (z = 1.0)\n",
        "#\n",
        "#           ----------------------------------------------\n",
        "#          /                                              \\ <---- This is one of the source's light-rays\n",
        "#         /                      __                       \\\n",
        "#    o   /                      /  \\                      __\n",
        "#    |  /                      /   \\                     /  \\\n",
        "#   /\\  \\                      \\   /                     \\__/\n",
        "#        \\                     \\__/                 Source Galaxy (s)\n",
        "#         \\                Lens Galaxy(s)                /\n",
        "#           \\                                           / <----- And this is its other light-ray\n",
        "#            ------------------------------------------/"
      ],
      "outputs": [],
      "execution_count": null
    },
    {
      "cell_type": "markdown",
      "metadata": {},
      "source": [
        "We can pass galaxies into a 'Tracer' to create this strong lens system."
      ]
    },
    {
      "cell_type": "code",
      "metadata": {},
      "source": [
        "lens_galaxy = al.Galaxy(\n",
        "    redshift=0.5, mass=al.mp.SphericalIsothermal(centre=(0.0, 0.0), einstein_radius=1.6)\n",
        ")\n",
        "\n",
        "source_galaxy = al.Galaxy(\n",
        "    redshift=1.0,\n",
        "    light=al.lp.SphericalSersic(\n",
        "        centre=(0.0, 0.0), intensity=1.0, effective_radius=1.0, sersic_index=1.0\n",
        "    ),\n",
        ")\n",
        "\n",
        "tracer = al.Tracer.from_galaxies(galaxies=[lens_galaxy, source_galaxy])"
      ],
      "outputs": [],
      "execution_count": null
    },
    {
      "cell_type": "markdown",
      "metadata": {},
      "source": [
        "We can then pass our image-plane grid to the tracer to 'ray-trace' it through the strong lens system."
      ]
    },
    {
      "cell_type": "code",
      "metadata": {},
      "source": [
        "traced_image = tracer.profile_image_from_grid(grid=grid)\n",
        "aplt.Tracer.profile_image(tracer=tracer, grid=grid)"
      ],
      "outputs": [],
      "execution_count": null
    },
    {
      "cell_type": "markdown",
      "metadata": {},
      "source": [
        "PyAutoLens has subplot plotters that plot all relevent quantities of an object. For a tracer, the subplot plots its \n",
        "traced image, convergence, potential and deflection angles."
      ]
    },
    {
      "cell_type": "code",
      "metadata": {},
      "source": [
        "aplt.Tracer.subplot_tracer(tracer=tracer, grid=grid)"
      ],
      "outputs": [],
      "execution_count": null
    },
    {
      "cell_type": "markdown",
      "metadata": {},
      "source": [
        "Hopefully you'll agree that performing ray-tracing in PyAutoLens is straight-forward! Before continuing, try \n",
        "the following:\n",
        "\n",
        "- Change the lens galaxy mass profile to an EllipticalIsothermal - what happens?\n",
        "- Add more lens and source galaxies to the tracer.\n",
        "- Change the resolution (pixel-scale) of the image-plane grid."
      ]
    },
    {
      "cell_type": "code",
      "metadata": {},
      "source": [],
      "outputs": [],
      "execution_count": null
    }
  ],
  "metadata": {
    "anaconda-cloud": {},
    "kernelspec": {
      "display_name": "Python 3",
      "language": "python",
      "name": "python3"
    },
    "language_info": {
      "codemirror_mode": {
        "name": "ipython",
        "version": 3
      },
      "file_extension": ".py",
      "mimetype": "text/x-python",
      "name": "python",
      "nbconvert_exporter": "python",
      "pygments_lexer": "ipython3",
      "version": "3.6.1"
    }
  },
  "nbformat": 4,
  "nbformat_minor": 1
}