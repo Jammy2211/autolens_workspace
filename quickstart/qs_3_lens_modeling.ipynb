{
 "cells": [
  {
   "cell_type": "markdown",
   "metadata": {},
   "source": [
    "__Lens Modeling__\n",
    "\n",
    "In lens modeling, we want to find the combination of light profiles and mass profiles which accurate reproduce the observed image. How do we go about doing this?\n",
    "\n",
    "To begin, we have to choose our lens model parametrization. We don't need to specify the values of its light and mass profiles (e.g. the centre, einstein_radius, etc.), only the profiles themselves. In this example, we'll use the following lens model:\n",
    "\n",
    "1) An Elliptical Isothermal Profile (SIE) for the lens galaxy's mass.\n",
    "2) An External Shear, which accounts for lensing by line-of-sight galaxies near the lens.\n",
    "3) An Elliptical Sersic light profile for the source galaxy's light.\n",
    "\n",
    "I'll let you into a secret - this is the same lens model I used to simulate the image we're going to fit.\n",
    "\n",
    "So, how do we infer the light and mass profile parameters that give a good fit to our data?\n",
    "\n",
    "We could randomly guess a lens model, corresponding to some random set of parameters. We could use this model to create a tracer and fit the image-data, and quantify how good the fit was using its likelihood. If we keep guessing lens models, eventually we'd find one that provides a good fit (i.e. a high likelihood) to the data!\n",
    "\n",
    "It may sound surprising, but this is the basis of how lens modeling works. However, we can do a lot better than random guesses. Instead, we track the likelihood of our previous guesses and guess, on average, more models which use combinations of light-profile and mass-profile parameters that gave higher likelihood solutions previously. If a set of parameters provided a good fit to the data, another set with similar values probably will too!\n",
    "\n",
    "This is called a 'non-linear search' and its a fairly tool used in science. In the howtolens lectures, we go into the details of how a non-linear search works. For the quick-start tutorial, we'll omit the nitty-gritty details.\n",
    "\n",
    "We're going to use a non-linear search called 'MultiNest'. I highly recommend it and find its great for lens modeling. However, lets not worry about the details of how MultiNest actually works. Instead, just picture that a non-linear search in PyAutoLens operates as follows:\n",
    "\n",
    "1) Randomly guess a lens model and use its light-profiles and mass-profiles to set up a lens galaxy, source galaxy and a tracer.\n",
    "\n",
    "2) Use this tracer to perform a fit, which generates a model image and compares it to the observed strong lens image, providing a likelihood.\n",
    "\n",
    "3) Repeat this many times, using the likelihoods of previous fits (typically those with a high likelihood) to find lens models with higher likelihoods.\n"
   ]
  },
  {
   "cell_type": "markdown",
   "metadata": {},
   "source": [
    "First, we load the Imaging data we're going to it, so you'll again need to change the path below to that of your workspace."
   ]
  },
  {
   "cell_type": "code",
   "execution_count": null,
   "metadata": {},
   "outputs": [],
   "source": [
    "### AUTOFIT + CONFIG SETUP ###\n",
    "\n",
    "import autofit as af"
   ]
  },
  {
   "cell_type": "markdown",
   "metadata": {},
   "source": [
    "Setup the path to the workspace, using a directory path."
   ]
  },
  {
   "cell_type": "code",
   "execution_count": null,
   "metadata": {},
   "outputs": [],
   "source": [
    "workspace_path = \"/path/to/user/autolens_workspace/\"\n",
    "workspace_path = \"/home/jammy/PycharmProjects/PyAuto/autolens_workspace/\""
   ]
  },
  {
   "cell_type": "markdown",
   "metadata": {},
   "source": [
    "Setup the path to the config folder, using the workspace path."
   ]
  },
  {
   "cell_type": "code",
   "execution_count": null,
   "metadata": {},
   "outputs": [],
   "source": [
    "config_path = workspace_path + \"config\""
   ]
  },
  {
   "cell_type": "markdown",
   "metadata": {},
   "source": [
    "Use this path to explicitly set the config path and output path."
   ]
  },
  {
   "cell_type": "code",
   "execution_count": null,
   "metadata": {},
   "outputs": [],
   "source": [
    "af.conf.instance = af.conf.Config(\n",
    "    config_path=config_path, output_path=workspace_path + \"output\"\n",
    ")"
   ]
  },
  {
   "cell_type": "code",
   "execution_count": null,
   "metadata": {},
   "outputs": [],
   "source": [
    "### AUTOARRAY + DATA SETUP ###\n",
    "\n",
    "%matplotlib inline\n",
    "\n",
    "import autolens as al\n",
    "import autolens.plot as aplt\n",
    "\n",
    "dataset_path = workspace_path + \"dataset/imaging/lens_sie__source_sersic/\"\n",
    "\n",
    "imaging = al.imaging.from_fits(\n",
    "    image_path=dataset_path + \"image.fits\",\n",
    "    noise_map_path=dataset_path + \"noise_map.fits\",\n",
    "    psf_path=dataset_path + \"psf.fits\",\n",
    "    pixel_scales=0.1,\n",
    ")\n",
    "\n",
    "mask = al.mask.circular(\n",
    "    shape_2d=imaging.shape_2d,\n",
    "    pixel_scales=imaging.pixel_scales,\n",
    "    radius=3.0\n",
    ")\n",
    "\n",
    "aplt.imaging.subplot_imaging(imaging=imaging, mask=mask)"
   ]
  },
  {
   "cell_type": "markdown",
   "metadata": {},
   "source": [
    "To set up the non-linear search we use a GalaxyModel. This behaves like a Galaxy object. However, whereas for a Galaxy we manually specified the value of light and mass profile parameter, for a GalaxyModel these are inferred by the non-linear search."
   ]
  },
  {
   "cell_type": "markdown",
   "metadata": {},
   "source": [
    "Lets model the lens galaxy with an SIE mass profile and External Shear (which is what it was simulated with)."
   ]
  },
  {
   "cell_type": "code",
   "execution_count": null,
   "metadata": {},
   "outputs": [],
   "source": [
    "lens_galaxy_model = al.GalaxyModel(\n",
    "    redshift=0.5,\n",
    "    mass=al.mp.EllipticalIsothermal,\n",
    "    shear=al.mp.ExternalShear,\n",
    ")"
   ]
  },
  {
   "cell_type": "markdown",
   "metadata": {},
   "source": [
    "Lets model the source galaxy with an Elliptical Sersic light profile (again, what it was simulated with)."
   ]
  },
  {
   "cell_type": "code",
   "execution_count": null,
   "metadata": {},
   "outputs": [],
   "source": [
    "source_galaxy_model = al.GalaxyModel(\n",
    "    redshift=1.0, light=al.lp.EllipticalSersic\n",
    ")"
   ]
  },
  {
   "cell_type": "markdown",
   "metadata": {},
   "source": [
    "A phase takes our galaxy models and fits their parameters via a non-linear search (in this case, MultiNest)."
   ]
  },
  {
   "cell_type": "code",
   "execution_count": null,
   "metadata": {},
   "outputs": [],
   "source": [
    "phase = al.PhaseImaging(\n",
    "    phase_name=\"phase_quick_start_example\",\n",
    "    galaxies=dict(lens_galaxy=lens_galaxy_model, source_galaxy=source_galaxy_model),\n",
    "    optimizer_class=af.MultiNest,\n",
    ")"
   ]
  },
  {
   "cell_type": "markdown",
   "metadata": {},
   "source": [
    "We manually change some of the MultiNest setup to speed up lens modeling. In the HowToLens lecture series we explain what changing these setup is *actually* doing."
   ]
  },
  {
   "cell_type": "code",
   "execution_count": null,
   "metadata": {},
   "outputs": [],
   "source": [
    "phase.optimizer.const_efficiency_mode = True\n",
    "phase.optimizer.n_live_points = 50\n",
    "phase.optimizer.sampling_efficiency = 0.5"
   ]
  },
  {
   "cell_type": "markdown",
   "metadata": {},
   "source": [
    "To run the phase, we pass it the data we want to fit and the non-linear search begins! As the phase runs, a logger shows you the parameters of the best-fit model.\n",
    "\n",
    "Depending on the complexity of the model being fitted (e.g. the number of parameters) and resolution of the data a non-linear search can take a while to run. Maybe minutes, maybe hours, maybe days! The image below should only take 10 minutes or so. Whilst you wait, lets explore the workspace:\n",
    "\n",
    "1) Checkout the 'autolens_workspace/output folder', where a folder 'phase_quick_start_example' containing the MultiNest output is found, as well as images displaying the best-fit lens model. Visualization is output on-the-fly by PyAutoLens, meaning you can watch the best-fit lens model improve as MultiNest runs in real time!\n",
    "\n",
    "2) Checkout 'autolens_workspace/config'. These config files controls general PyAutoLens setup that control visualization, default MultiNest setup and the priors of different light and mass profiles parmeters.\n",
    "\n",
    "3) Look at 'autolens_workspace/data'. This is where the data we load and fit is stored (e.g. .fits files of the image, noise-map and PSF).\n",
    "\n",
    "4) Finally, checkout 'autolens_workspace/tools'. This contains Python scripts for standard lensing tasks, such as simuating strong lens images and drawing custom masks for lens fits."
   ]
  },
  {
   "cell_type": "code",
   "execution_count": null,
   "metadata": {},
   "outputs": [],
   "source": [
    "print(\n",
    "    \"MultiNest has begun running. \"\n",
    "    \"This Jupyter notebook cell will progress once MultiNest has completed - this could take some time!\"\n",
    ")\n",
    "\n",
    "results = phase.run(dataset=imaging, mask=mask)\n",
    "\n",
    "print(\"MultiNest has finished run - you may now continue the notebook.\")"
   ]
  },
  {
   "cell_type": "markdown",
   "metadata": {},
   "source": [
    "The best-fit solution (i.e. the highest likelihood) is stored in the 'results', which we can plot as per usual."
   ]
  },
  {
   "cell_type": "code",
   "execution_count": null,
   "metadata": {},
   "outputs": [],
   "source": [
    "aplt.fit_imaging.subplot(fit=results.most_likely_fit)"
   ]
  },
  {
   "cell_type": "markdown",
   "metadata": {},
   "source": [
    "Congratulations, you've modeled your first lens with PyAutoLens!\n",
    "\n",
    "For the quick-start tutorial, that is the extent to which we describe how lens modeling works in PyAutoLens. From here, you can use template pipelines to fit your own strong lens data. The howtolens lecture series has 8 tutorials covering lens modeling in more detail - I heartily recommend you give it a look a some point in the future if you find yourself using PyAutoLens a lot!"
   ]
  }
 ],
 "metadata": {
  "kernelspec": {
   "display_name": "Python 3",
   "language": "python",
   "name": "python3"
  },
  "language_info": {
   "codemirror_mode": {
    "name": "ipython",
    "version": 3
   },
   "file_extension": ".py",
   "mimetype": "text/x-python",
   "name": "python",
   "nbconvert_exporter": "python",
   "pygments_lexer": "ipython3",
   "version": "3.6.9"
  }
 },
 "nbformat": 4,
 "nbformat_minor": 2
}
